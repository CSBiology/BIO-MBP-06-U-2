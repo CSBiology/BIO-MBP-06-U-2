{
 "cells": [
  {
   "cell_type": "code",
   "execution_count": null,
   "metadata": {
    "dotnet_interactive": {
     "language": "fsharp"
    },
    "vscode": {
     "languageId": "dotnet-interactive.fsharp"
    }
   },
   "outputs": [],
   "source": [
    "#r \"nuget: FsODE, 0.0.1\"\n",
    "#r \"nuget: Plotly.NET.Interactive, 3.0.2\"\n",
    "\n",
    "open FsODE\n",
    "open Plotly.NET"
   ]
  },
  {
   "cell_type": "markdown",
   "metadata": {},
   "source": [
    "# Einführung in einfache Differentialgleichungen (und Wiederholung der Schul-Analysis)\n",
    "\n",
    "**In diesem Notebook werden Grundlagen einfacher Differentialgleichungen behandelt und ein Rückblick auf Schulstoff aus der Mathematik geworfen: Gleichungen, Funktionen, Ableitungen.**\n",
    "\n",
    "## Was ist eine Differentialgleichung?\n",
    "\n",
    "Eine Differentialgleichung (DGL) ist eine Gleichung, die eine oder mehrere Funktionen und deren Ableitung(en) enthält. Beim Lösen einer DGL ist das Ziel, die gesuchte Funktion zu ermitteln.  \n",
    "Erinnern Sie sich zurück an Ihren Schulunterricht in Mathematik, als Sie das Thema Algebraische Gleichungen behandelten. Dort geht es darum, einzelne Werte oder eine Menge an Werten zu ermitteln, wie bspw. hier zu sehen:\n",
    "\n",
    "* $5x + 14 = 29$\n",
    "  * nach $x$ aufgelöst: $x = 3$\n",
    "* $\\sqrt{4x^2} = 30$\n",
    "  * nach $x$ aufgelöst: $x_{1} = 15, x_{2} = -15$\n",
    "\n",
    "Bei DGLs hingegen möchten wir Funktionen ermitteln:\n",
    "\n",
    "$f'(x) = 4f(x) : 2x$  \n",
    "$f(x)$ gelöst: $f(x) = \\frac{1}{c_{1}-x^2}$\n",
    "\n",
    "Denn diese Funktionen brauchen wir, um in der Biologie Änderungen ausrechnen zu können. Bspw. die Änderung eines Substrats in Abhängigkeit von der Zeit:\n",
    "\n",
    "$S(t) = e^{-t}$\n",
    "\n",
    "In dieser sehr simplen Funktion verringert sich die Substratmenge exponentiell mit der Zeit. Als Graph sieht das wie folgt aus:"
   ]
  },
  {
   "cell_type": "code",
   "execution_count": null,
   "metadata": {
    "dotnet_interactive": {
     "language": "fsharp"
    },
    "vscode": {
     "languageId": "dotnet-interactive.fsharp"
    }
   },
   "outputs": [],
   "source": [
    "let S(t) = Math.Exp(-t)\n",
    "\n",
    "[|\n",
    "    for t in [|0. .. 10.|] do\n",
    "    t, S(t)\n",
    "|]\n",
    "|> Chart.Point"
   ]
  },
  {
   "cell_type": "markdown",
   "metadata": {},
   "source": [
    "Wenn wir nun eine DGL aufgestellt haben (wie und warum wir das tun, wird in späteren Teilen des Praktikums erklärt), müssen wir sie lösen, um an die gesuchte Funktion zu kommen (in unserem Beispiel kennen wir die gesuchte Funktion bereits).  \n",
    "Eine DGL zur Beispielfunktion oben könnte wie folgt aussehen:\n",
    "\n",
    "$S'(t) = -S(t)$\n",
    "\n",
    "## Der Differentialoperator (für Ableitungen)\n",
    "\n",
    "Aus der Schule kennen Sie die bereits gezeigten Notationen für Funktionen und ihre Ableitungen:\n",
    "- $f(x) = x^2 + 1$ für eine Funktion\n",
    "- $f'(x) = 2x + 2$ für ihre erste Ableitung\n",
    "- $f''(x) = 2$ für ihre zweite Ableitung\n",
    "- $f'''(x) = 0$ für ihre dritte Ableitung\n",
    "- $f^{(n)}(x)$ für die $n$-te Ableitung (sinnvoll, um bspw. 10× $'$ bei der 10. Ableitung zu vermeiden), z. B. $f^{(2)}(x) = 2$ für die zweite Ableitung. Die Klammer ist wichtig, damit man von einer Potenz (keine Klammer) unterscheiden kann. Also: $f^2(x) \\neq f^{(2)}(x)$\n",
    "\n",
    "Es gibt allerdings noch weitere Notationen, auf die Sie während dieses Praktikums (und natürlich auch außerhalb dessen) treffen werden.  \n",
    "Für jede Notation gilt: Es kann auch das $(x)$ weggelassen werden. Dadurch sehen Funktionen und deren Ableitungen auch gerne mal so aus:\n",
    "\n",
    "$f = x^2 + 5$  \n",
    "$f' = 2x$  \n",
    "$y' = 2x$\n",
    "\n",
    "Man hat sich hier einfach das $(x)$ nach dem $f$ (bzw. $f'$ oder $y'$) gespart. Dass $x$ die unabhängige Variable der Funktion ist, muss man sich dabei denken. Natürlich funktioniert diese Schreibweise nur, wenn es nur eine Variable gibt und diese dadurch zwangsläufig zur Funktion gehören _muss_.\n",
    "\n",
    "Die erste Notation, die wir hier besprechen, ist der sogenannte ***Überpunkt***:\n",
    "\n",
    "$\\dot S = -S(t)$ (entspricht der oben gezeigten DGL)\n",
    "\n",
    "Wichtig ist hierbei, dass ein Überpunkt immer für eine Ableitung nach der **Zeit** steht. Das passt im obigen Beispiel, da unsere Funktion ja tatsächlich als Variable die Zeit ($t$) zugeordnet hat. Die Anzahl $n$ der Überpunkte über dem Funktionsnamen steht für die $n$-te Ableitung.\n",
    "\n",
    "$\\ddot S = \\frac{t}{2} + 4$\n",
    "\n",
    "*Frage:* Um die wievielte Ableitung handelt es sich hierbei?"
   ]
  },
  {
   "cell_type": "markdown",
   "metadata": {},
   "source": [
    "_Antwort:_"
   ]
  },
  {
   "cell_type": "markdown",
   "metadata": {},
   "source": [
    "Die Notation, auf die Sie am häufigsten treffen werden, ist der Differentialoperator $\\mathrm{d}$ (oder $d$). Er steht für die totale Ableitung nach einer Variablen. $\\partial$ hingegen steht für die partielle Ableitung nach einer Variablen (mehr dazu später).  \n",
    "Die Schreibweise für eine Variable $x$ und eine Funktion $f$ lautet\n",
    "\n",
    "$\\frac{\\mathrm{d}}{\\mathrm{d}x}f(x)$ bzw. $\\frac{\\mathrm{d}f(x)}{\\mathrm{d}x}$ und entspricht $f'(x)$\n",
    "\n",
    "Wie oben schon beschrieben, werden Sie auch häufig auf diese Schreibweise treffen: $\\frac{\\mathrm{d}}{\\mathrm{d}x}f$ oder $\\frac{\\mathrm{d}f}{\\mathrm{d}x}$, bei der das $(x)$ weggelassen wird.\n",
    "\n",
    "Unsere Beispiel-DGL von oben sähe dann wie folgt aus:\n",
    "\n",
    "$\\frac{\\mathrm{d}S}{\\mathrm{d}t} = -S(t)$\n",
    "\n",
    "Ableitungen höherer Ordnung werden mit der Potenzierung des Differentialoperators vor dem Funktionsnamen und der Variablen bewerkstelligt:\n",
    "\n",
    "$\\frac{\\mathrm{d}^2S}{\\mathrm{d}x^2}$ entspricht $f''(x)$\n",
    "\n",
    "der Vollständigkeit halber sei erwähnt, dass es noch weitere Differentialoperatoren gibt als die hier vorgestellten. Diesen werden Sie in diesem Praktikum jedoch nicht begegnen."
   ]
  },
  {
   "cell_type": "markdown",
   "metadata": {},
   "source": [
    "## DGL-Ordnung\n",
    "\n",
    "Die Ordnung einer DGL ergibt sich aus deren höchster Ableitung:\n",
    "\n",
    "Eine DGL 1. Ordnung: $\\frac{\\mathrm{d}S}{\\mathrm{d}t} = S(t)$  \n",
    "Eine DGL 2. Ordnung: $\\frac{\\mathrm{d^2}S}{\\mathrm{d}t^2} + \\frac{\\mathrm{d}S}{\\mathrm{d}t} = S(t)$  \n",
    "Eine DGL 9. Ordnung: $\\frac{\\mathrm{d^9}S}{\\mathrm{d}t^9} = S(t) + \\frac{\\mathrm{d^2}S}{\\mathrm{d}t^2}$"
   ]
  },
  {
   "cell_type": "markdown",
   "metadata": {},
   "source": [
    "## DGL-Unterteilungen\n",
    "\n",
    "1. Einfach vs. partiell:  \n",
    "Eine DGL ist dann einfach, wenn die gesuchte Funktion nur eine Variable zugeordnet hat. Andernfalls ist sie partiell.  \n",
    "Eine einfache DGL: $\\frac{\\mathrm{d}S}{\\mathrm{d}t} = S(t)$  \n",
    "Eine partielle DGL: $\\frac{\\partial f}{\\partial x} + \\frac{\\partial f}{\\partial y} = 2f(x,y)$ &nbsp; &nbsp; &nbsp; &nbsp; (beachten Sie den unterschiedlichen Differentialoperator)  \n",
    "In diesem Praktikum werden Sie nur einfachen DGLs begegnen.\n",
    "2. Linear vs. nonlinear:  \n",
    "Eine DGL ist dann linear, wenn **keine** Potenzierung der Funktion vorkommt oder diese nicht in eine Funktionskombination eingekapselt ist. Sobald dies der Fall ist, ist sie nonlinear.  \n",
    "Eine lineare DGL: $\\frac{\\mathrm{d}S}{\\mathrm{d}t} = S(t)$  \n",
    "Eine nonlineare DGL: $\\frac{\\mathrm{d}S}{\\mathrm{d}t} = S^2(t)$ oder bspw. $\\frac{\\mathrm{d}S}{\\mathrm{d}t} = sin(S(t))$\n",
    "3. Homogen vs. inhomogen:  \n",
    "_(Nur möglich wenn linear!)_ Alle Funktionsterme der DGL besitzen die Funktion oder eine ihrer Ableitungen. Wenn das nicht der Fall ist, ist sie inhomogen.  \n",
    "Eine homogene DGL: $\\frac{\\mathrm{d^2}S}{\\mathrm{d}t^2} = S(t) + \\frac{\\mathrm{d}S}{\\mathrm{d}t}$  \n",
    "Eine inhomogene DGL: $\\frac{\\mathrm{d^2}S}{\\mathrm{d}t^2} = S(t) + t^2$\n",
    "4. Explizit vs. implizit:  \n",
    "Eine DGL ist dann explizit, wenn die höchste Ableitung freigestellt ist. Andernfalls ist sie implizit.  \n",
    "Eine explizite DGL: $\\frac{\\mathrm{d}S}{\\mathrm{d}t} = S(t)$  \n",
    "Dieselbe DGL, implizit: $\\frac{\\mathrm{d}S}{\\mathrm{d}t} - S(t) = 0$"
   ]
  },
  {
   "cell_type": "markdown",
   "metadata": {},
   "source": [
    "*Übung:*\n",
    "\n",
    "$7\\frac{\\mathrm{d}f}{\\mathrm{d}x} = 3f(x)$\n",
    "\n",
    "Ist diese DGL\n",
    "- einfach oder partiell?\n",
    "- linear oder nonlinear?\n",
    "- homogen oder inhomogen?\n",
    "- explizit oder implizit?\n",
    "\n",
    "Welcher Ordnung entspricht sie?"
   ]
  },
  {
   "cell_type": "markdown",
   "metadata": {},
   "source": [
    "*Antwort:* "
   ]
  }
 ],
 "metadata": {
  "kernelspec": {
   "display_name": ".NET (F#)",
   "language": "F#",
   "name": ".net-fsharp"
  },
  "language_info": {
   "name": "F#"
  }
 },
 "nbformat": 4,
 "nbformat_minor": 2
}
