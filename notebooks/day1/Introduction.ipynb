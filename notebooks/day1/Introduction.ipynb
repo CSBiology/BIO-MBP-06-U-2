{
 "cells": [
  {
   "cell_type": "markdown",
   "metadata": {},
   "source": [
    "# Einführung in die Notebookumgebung\n",
    "\n",
    "**In diesem Notebook erhalten sie eine Einführung in das generelle Konzept hinter und das Arbeiten mit Notebooks.**"
   ]
  },
  {
   "cell_type": "markdown",
   "metadata": {},
   "source": [
    "## Was ist ein Notebook?\n",
    "\n",
    "Notebooks (Dateiendung `.ipynb`) sind sogenannte _computational files_ - in etwa übersetztbar als _rechnerische Dateien_. \n",
    "\n",
    "Sie können sowohl Textelemente als auch Berechnungen enthalten, welche beim öffnen der Notebookdatei mit dem passenden Programm bearbeitet und ausgeführt werden können. \n",
    "\n",
    "Auch diese Datei, die sie gerade lesen, ist ein Notebook.\n",
    "\n",
    "Durch die einfache Verknüfung von beliebig komplexen Berechnungen und erklärendem Text sind Notebooks eine optimale Lernumgebung für das computergestützte Erkunden komplexer Zusammenhänge."
   ]
  },
  {
   "cell_type": "markdown",
   "metadata": {},
   "source": [
    "## Das Zellenkonzept\n",
    "\n",
    "Notebooks bestehen grundsätzlich aus einem grundlegendem Baustein: der Zelle. \n",
    "\n",
    "Der Text, den sie hier gerade lesen befindet sich ein einer **Text**zelle (im Jargon auch `Markdown` genannt.)\n",
    "\n",
    "Sie können bestehende Zellen bearbeiten, indem sie entweder auf die gewünschte Zelle doppelklicken.\n",
    "\n",
    "Dann öffnet sich die Bearbeitungsansicht der Zelle, die in etwa so aussieht:\n",
    "\n",
    "![image.png](https://raw.githubusercontent.com/CSBiology/BIO-MBP-06-U-2/main/images/day1/zelle-bearbeiten.png?token=GHSAT0AAAAAABQ256BWOJAYOYVHJWQ3SBBSYXV75WQ)\n",
    "\n",
    "- 1 - Die Textzelle.\n",
    "- 2 - Kontextmenu - hier kann die Zelle z.B. gespeichert oder gelöscht werden\n",
    "- 3 - Der Typ der Zelle\n",
    "\n",
    "Probieren sie das doch gleich einmal aus und verfolständigen sie den folgenden Text in der nächsten Zelle, indem sie darauf doppelklicken:"
   ]
  },
  {
   "cell_type": "markdown",
   "metadata": {},
   "source": [
    "```\n",
    "Mitochondrien sind das ... der Zelle\n",
    "```"
   ]
  },
  {
   "cell_type": "markdown",
   "metadata": {},
   "source": [
    "## Codezellen\n",
    "\n",
    "Der zweite wichtige Zelltyp im Notebook ist die `Codezelle`. \n",
    "\n",
    "In Codezellen können beliebige Berechnungen in diversen Programmiersprachen ausgeführt werden. Die in diesem Kurs verwendete Programmiersprache ist `F#`.\n",
    "\n",
    "Codezellen unterscheiden sich von Textzellen darin, dass sie ausgeführt werden können und ein Ergebnis produzieren. \n",
    "\n",
    "Klicken sie auf das \"Play\" Symbol links neben einer Codezelle, um diese auszuführen. Das Ergebnis der berechnung wird anschließend unterhalb der Zelle ausgegeben.\n",
    "\n",
    "Probieren sie das doch gleich mal mit der folgenden Codezelle aus:"
   ]
  },
  {
   "cell_type": "code",
   "execution_count": null,
   "metadata": {
    "dotnet_interactive": {
     "language": "fsharp"
    },
    "vscode": {
     "languageId": "dotnet-interactive.fsharp"
    }
   },
   "outputs": [],
   "source": [
    "420 + 69"
   ]
  },
  {
   "cell_type": "markdown",
   "metadata": {},
   "source": [
    "Wichtig: die Ausgabe einer Zelle ist immer nur die Berechnung in der letzte Zeile:"
   ]
  },
  {
   "cell_type": "code",
   "execution_count": null,
   "metadata": {
    "dotnet_interactive": {
     "language": "fsharp"
    },
    "vscode": {
     "languageId": "dotnet-interactive.fsharp"
    }
   },
   "outputs": [
    {
     "data": {
      "text/html": [
       "<div class=\"dni-plaintext\">11</div>"
      ]
     },
     "metadata": {},
     "output_type": "display_data"
    }
   ],
   "source": [
    "1 + 2\n",
    "3 + 4\n",
    "5 + 6"
   ]
  },
  {
   "cell_type": "markdown",
   "metadata": {},
   "source": [
    "## Ganze Zahlen und Gleitkommazahlen\n",
    "\n",
    "In vielen Programmiersprachen wird zwischen Ganzen Zahlen (`integer`) und Gleitkommazahlen (`float`ing point numbers) unterschieden. \n",
    "\n",
    "Der Hauptgrund hierfür ist die Art, wie Computer Brüche darstellen. Schauen sie sich zum Beispiel folgende Berechnung an:"
   ]
  },
  {
   "cell_type": "code",
   "execution_count": null,
   "metadata": {
    "dotnet_interactive": {
     "language": "fsharp"
    },
    "vscode": {
     "languageId": "dotnet-interactive.fsharp"
    }
   },
   "outputs": [],
   "source": [
    "0.1 + 0.2"
   ]
  },
  {
   "cell_type": "markdown",
   "metadata": {},
   "source": [
    "Natürlich würden sie eigentlich folgendes Ergebnis erwarten: $0.1 + 0.2 = 0.3$. Der Grund für das abweichende Ergebnis ist die schon oben erwähnte Art, wie Computer diese Zahlen speichern müssen (Bei Interesse können sie zum Beispiel [hier](https://stackoverflow.com/a/588014/5675597) mehr dazu lesen).\n",
    "\n",
    "**Um diese beiden Rechenarten strikt zu trennen, können Rechenoperationen immer nur mit zwei `integer`n oder zwei `float`s durchgeführt werden.**\n",
    "\n",
    "Ganze Zahlen können als floats mithilfe eines Punkts erstellt werden:"
   ]
  },
  {
   "cell_type": "code",
   "execution_count": null,
   "metadata": {
    "dotnet_interactive": {
     "language": "fsharp"
    },
    "vscode": {
     "languageId": "dotnet-interactive.fsharp"
    }
   },
   "outputs": [],
   "source": [
    "420. + 69."
   ]
  },
  {
   "cell_type": "markdown",
   "metadata": {},
   "source": [
    "Eine Mischung beider Zahlentypen führt zu einem Fehler:"
   ]
  },
  {
   "cell_type": "code",
   "execution_count": null,
   "metadata": {
    "dotnet_interactive": {
     "language": "fsharp"
    },
    "vscode": {
     "languageId": "dotnet-interactive.fsharp"
    }
   },
   "outputs": [],
   "source": [
    "420. + 69"
   ]
  },
  {
   "cell_type": "markdown",
   "metadata": {},
   "source": [
    "Sie können Codezellen genauso bearbeiten wie Textzellen. Nutzen sie die folgende Codezelle doch einmal dazu, das Ergebnis dieser Berechnung zu erhalten:\n",
    "\n",
    "$$\n",
    "\\frac{(1337 * 42)}{69}\n",
    "$$\n",
    "\n",
    "Hinweis: der Divisionsoperator ist \"`/`\", sie müssen den bruch also in die Form `(Zähler) / (Nenner)` überführen.\n",
    "\n",
    "Führen sie die berechnung einmal mit `integer`n und einmal mit `float`s durch und vergleichen sie die Ergebnisse. \n",
    "\n",
    "Worin könnte der unterschied liegen?"
   ]
  },
  {
   "cell_type": "code",
   "execution_count": null,
   "metadata": {
    "dotnet_interactive": {
     "language": "fsharp"
    },
    "vscode": {
     "languageId": "dotnet-interactive.fsharp"
    }
   },
   "outputs": [],
   "source": []
  },
  {
   "cell_type": "code",
   "execution_count": null,
   "metadata": {
    "dotnet_interactive": {
     "language": "fsharp"
    },
    "vscode": {
     "languageId": "dotnet-interactive.fsharp"
    }
   },
   "outputs": [],
   "source": []
  },
  {
   "cell_type": "markdown",
   "metadata": {},
   "source": [
    "**Wichtig: im weiteren verlauf des Praktikums werden wir ausschließlich mit `float`s rechnen. Vergessen sie also die Punktsetzung nicht 🤓**"
   ]
  }
 ],
 "metadata": {
  "kernelspec": {
   "display_name": ".NET (F#)",
   "language": "F#",
   "name": ".net-fsharp"
  },
  "language_info": {
   "name": "F#"
  }
 },
 "nbformat": 4,
 "nbformat_minor": 2
}
