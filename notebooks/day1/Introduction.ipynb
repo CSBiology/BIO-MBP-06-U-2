{
 "cells": [
  {
   "cell_type": "markdown",
   "metadata": {},
   "source": [
    "# Einführung in die Notebookumgebung\n",
    "\n",
    "**In diesem Notebook erhalten sie eine Einführung in das generelle Konzept hinter und das Arbeiten mit Notebooks.**"
   ]
  },
  {
   "cell_type": "markdown",
   "metadata": {},
   "source": [
    "## Was ist ein Notebook?\n",
    "\n",
    "Notebooks (Dateiendung `.ipynb`) sind sogenannte _computational files_ - in etwa übersetzbar als _rechnerische Dateien_. \n",
    "\n",
    "Sie können sowohl Textelemente als auch Berechnungen enthalten, welche beim Öffnen der Notebookdatei mit dem passenden Programm bearbeitet und ausgeführt werden können. \n",
    "\n",
    "Auch diese Datei, die Sie gerade lesen, ist ein Notebook.\n",
    "\n",
    "Durch die einfache Verknüpfung von beliebig komplexen Berechnungen und erklärendem Text sind Notebooks eine optimale Lernumgebung für das computergestützte Erkunden komplexer Zusammenhänge."
   ]
  },
  {
   "cell_type": "markdown",
   "metadata": {},
   "source": [
    "## Das Zellenkonzept\n",
    "\n",
    "Notebooks bestehen grundsätzlich aus einem grundlegendem Baustein: der Zelle. \n",
    "\n",
    "Der Text, den Sie hier gerade lesen befindet sich ein einer **Text**zelle (im Jargon auch `Markdown` genannt.)\n",
    "\n",
    "Sie können bestehende Zellen bearbeiten, indem Sie entweder auf die gewünschte Zelle doppelklicken oder bei einfachem Klick auf eine Zelle auf den Edit-Button in der oberen rechten Ecke der Zelle klicken.\n",
    "\n",
    "Dann öffnet sich die Bearbeitungsansicht der Zelle, die in etwa so aussieht:\n",
    "\n",
    "![image.png](https://raw.githubusercontent.com/CSBiology/BIO-MBP-06-U-2/main/images/day1/zelle-bearbeiten.png)\n",
    "\n",
    "- 1 - Die Textzelle.\n",
    "- 2 - Kontextmenu - hier kann die Zelle z.B. gespeichert oder gelöscht werden\n",
    "- 3 - Der Typ der Zelle\n",
    "\n",
    "Probieren Sie das doch gleich einmal aus und vervollständigen Sie den folgenden Text in der nächsten Zelle, indem Sie darauf doppelklicken:"
   ]
  },
  {
   "cell_type": "markdown",
   "metadata": {},
   "source": [
    "```\n",
    "Mitochondrien sind das ... der Zelle\n",
    "```"
   ]
  },
  {
   "cell_type": "markdown",
   "metadata": {},
   "source": [
    "## Codezellen\n",
    "\n",
    "Der zweite wichtige Zelltyp im Notebook ist die `Codezelle`. \n",
    "\n",
    "In Codezellen können beliebige Berechnungen in diversen Programmiersprachen ausgeführt werden. Die in diesem Kurs verwendete Programmiersprache ist `F#`.\n",
    "\n",
    "Codezellen unterscheiden sich von Textzellen darin, dass sie ausgeführt werden können und ein Ergebnis produzieren. \n",
    "\n",
    "Klicken Sie auf den Ausführen-Button (das \"Play\"-Symbol) links neben einer Codezelle, um diese auszuführen. Das Ergebnis der Berechnung wird anschließend unterhalb der Zelle ausgegeben.\n",
    "\n",
    "Probieren Sie das doch gleich mal mit der folgenden Codezelle aus:"
   ]
  },
  {
   "cell_type": "code",
   "execution_count": null,
   "metadata": {
    "dotnet_interactive": {
     "language": "fsharp"
    },
    "vscode": {
     "languageId": "dotnet-interactive.fsharp"
    }
   },
   "outputs": [],
   "source": [
    "420 + 69"
   ]
  },
  {
   "cell_type": "markdown",
   "metadata": {},
   "source": [
    "Wichtig: Die Ausgabe einer Zelle ist immer nur die Berechnung in der letzten nicht-leeren Zeile.\n",
    "\n",
    "Führen Sie die folgende Codezelle aus, werden sie sehen, dass nur das Ergebnis der letzten Berechnung (5 + 6) ausgegeben wird."
   ]
  },
  {
   "cell_type": "code",
   "execution_count": null,
   "metadata": {
    "dotnet_interactive": {
     "language": "fsharp"
    },
    "vscode": {
     "languageId": "dotnet-interactive.fsharp"
    }
   },
   "outputs": [],
   "source": [
    "1 + 2\n",
    "3 + 4\n",
    "5 + 6"
   ]
  },
  {
   "cell_type": "markdown",
   "metadata": {},
   "source": [
    "## Kommentare\n",
    "\n",
    "In den Codezellen können Kommentare geschrieben werden, um beliebige Teile des Codes beschreiben/beschriften zu können.\n",
    "\n",
    "Kommentare werden mit `//` gebildet. Alles, was in einer Zeile nach zweien solcher Schrägstriche steht, wird als Kommentar erkannt. Beim Ausführen der Codezelle mit dem Ausführung-Button wird der Computer jede Zeile mit einem `//` ignorieren."
   ]
  },
  {
   "cell_type": "code",
   "execution_count": null,
   "metadata": {
    "dotnet_interactive": {
     "language": "fsharp"
    },
    "vscode": {
     "languageId": "dotnet-interactive.fsharp"
    }
   },
   "outputs": [],
   "source": [
    "// ich bin ein Kommentar!\n",
    "\n",
    "1 + 1\n",
    "\n",
    "// ich auch!"
   ]
  },
  {
   "cell_type": "markdown",
   "metadata": {},
   "source": [
    "## Ganze Zahlen und Gleitkommazahlen\n",
    "\n",
    "In vielen Programmiersprachen wird zwischen Ganzen Zahlen (`integer`) und Gleitkommazahlen (`float`ing point numbers) unterschieden. \n",
    "\n",
    "Der Hauptgrund hierfür ist die Art, wie Computer Brüche darstellen. Schauen Sie sich zum Beispiel folgende Berechnung an:"
   ]
  },
  {
   "cell_type": "code",
   "execution_count": null,
   "metadata": {
    "dotnet_interactive": {
     "language": "fsharp"
    },
    "vscode": {
     "languageId": "dotnet-interactive.fsharp"
    }
   },
   "outputs": [],
   "source": [
    "0.1 + 0.2"
   ]
  },
  {
   "cell_type": "markdown",
   "metadata": {},
   "source": [
    "### Besonderheit bei Gleitkommazahlen\n",
    "\n",
    "Natürlich würden Sie eigentlich folgendes Ergebnis erwarten: $0.1 + 0.2 = 0.3$. \n",
    "\n",
    "Der Grund für das abweichende Ergebnis ist die schon oben erwähnte Art, wie Computer diese Zahlen speichern müssen. (Bei Interesse können sie zum Beispiel [hier](https://stackoverflow.com/a/588014/5675597) mehr dazu lesen)\n",
    "\n",
    "**Um diese beiden Rechenarten strikt zu trennen, können Rechenoperationen immer nur mit zwei `integer`n oder zwei `float`s durchgeführt werden.**\n",
    "\n",
    "Ganze Zahlen können als `float`s mithilfe eines Punkts erstellt werden:"
   ]
  },
  {
   "cell_type": "code",
   "execution_count": null,
   "metadata": {
    "dotnet_interactive": {
     "language": "fsharp"
    },
    "vscode": {
     "languageId": "dotnet-interactive.fsharp"
    }
   },
   "outputs": [],
   "source": [
    "420. + 69."
   ]
  },
  {
   "cell_type": "markdown",
   "metadata": {},
   "source": [
    "Eine Mischung beider Zahlentypen führt zu einem Fehler:"
   ]
  },
  {
   "cell_type": "code",
   "execution_count": null,
   "metadata": {
    "dotnet_interactive": {
     "language": "fsharp"
    },
    "vscode": {
     "languageId": "dotnet-interactive.fsharp"
    }
   },
   "outputs": [],
   "source": [
    "420. + 69"
   ]
  },
  {
   "cell_type": "markdown",
   "metadata": {},
   "source": [
    "### Bearbeiten von Codezellen\n",
    "\n",
    "Sie können Codezellen genauso bearbeiten wie Textzellen. Nutzen Sie die folgende Codezelle doch einmal dazu, das Ergebnis dieser Berechnung zu erhalten:\n",
    "\n",
    "$$\n",
    "\\frac{(1337 * 42)}{69}\n",
    "$$\n",
    "\n",
    "Hinweis: Der Divisionsoperator ist \"`/`\", Sie müssen den Bruch also in die Form `(Zähler) / (Nenner)` überführen.\n",
    "\n",
    "Führen Sie die Berechnung einmal mit `integer`n und einmal mit `float`s durch und vergleichen Sie die Ergebnisse. \n",
    "\n",
    "Worin könnte der Unterschied liegen?"
   ]
  },
  {
   "cell_type": "code",
   "execution_count": null,
   "metadata": {
    "dotnet_interactive": {
     "language": "fsharp"
    },
    "vscode": {
     "languageId": "dotnet-interactive.fsharp"
    }
   },
   "outputs": [],
   "source": [
    "// In dieser Zelle bitte als floats berechnen"
   ]
  },
  {
   "cell_type": "code",
   "execution_count": null,
   "metadata": {
    "dotnet_interactive": {
     "language": "fsharp"
    },
    "vscode": {
     "languageId": "dotnet-interactive.fsharp"
    }
   },
   "outputs": [],
   "source": [
    "// In dieser Zelle bitte als integers berechnen"
   ]
  },
  {
   "cell_type": "markdown",
   "metadata": {},
   "source": [
    "**Wichtig: Im weiteren Verlauf des Praktikums werden wir ausschließlich mit `float`s rechnen. Vergessen sie also die Punktsetzung nicht 🤓**"
   ]
  },
  {
   "cell_type": "markdown",
   "metadata": {},
   "source": [
    "## Text in Codezellen\n",
    "\n",
    "Zuletzt werden Sie gelegentlich auf Text in Codezellen stoßen, der auch als Text benutzt werden soll. Er beginnt und endet mit Anführungsstrichen (`\"`). Man nennt einen solchen Text `string`."
   ]
  },
  {
   "cell_type": "code",
   "execution_count": null,
   "metadata": {
    "dotnet_interactive": {
     "language": "fsharp"
    },
    "vscode": {
     "languageId": "dotnet-interactive.fsharp"
    }
   },
   "outputs": [],
   "source": [
    "\"Ich bin ein string!\""
   ]
  }
 ],
 "metadata": {
  "kernelspec": {
   "display_name": ".NET (F#)",
   "language": "F#",
   "name": ".net-fsharp"
  },
  "language_info": {
   "name": "F#"
  }
 },
 "nbformat": 4,
 "nbformat_minor": 2
}
