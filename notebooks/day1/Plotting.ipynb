{
 "cells": [
  {
   "cell_type": "markdown",
   "metadata": {
    "dotnet_interactive": {
     "language": "fsharp"
    }
   },
   "source": [
    "# Notebooks als interaktiver \"Taschenrechner\"\n",
    "\n",
    "**In diesem Notebook erhalten sie eine Einführung zur nutzung von Notebooks als interaktive Taschenrechner für beliebig komplexe Probleme.**"
   ]
  },
  {
   "cell_type": "markdown",
   "metadata": {},
   "source": [
    "## Softwarepakete\n",
    "\n",
    "Jede moderne Programmiersprache bietet die Möglichkeit, Software mit einem bestimmten zu verpacken und mit andere zu teilen. \n",
    "\n",
    "Diese **Softwarepakete** können in Notebooks geladen werden. Sie ermöglichen es, sich auf das spezifische vorliegende Problem zu fokussieren, anstatt zuerst Software dafür zu programmieren. Ein gutes Beispiel für ein solches Paket, welches in jedem nachfolgenden Notebook genutzt werden wird, ist `Plotly.NET.Interactive`, ein Paket zur interaktiven Datenvisualisierung in Notebooks.\n",
    "\n",
    "In F# Notebooks werden Softwarepakete folgendermaßen referenziert (**Wichtig: diese Zelle muss ausgeführt werden, damit das Paket verwendbar wird**):"
   ]
  },
  {
   "cell_type": "code",
   "execution_count": null,
   "metadata": {
    "dotnet_interactive": {
     "language": "fsharp"
    },
    "vscode": {
     "languageId": "dotnet-interactive.fsharp"
    }
   },
   "outputs": [],
   "source": [
    "#r \"nuget: Plotly.NET.Interactive\""
   ]
  },
  {
   "cell_type": "markdown",
   "metadata": {},
   "source": [
    "- `#r` steht für \"referenziere\"\n",
    "- `\"nuget:\"` ist die Quelle des Pakets: https://nuget.org ist eine Website auf der Softwarepakete hochgeladen und geteilt werden können\n",
    "- `Plotly.NET.Interactive` ist der Name des Pakets\n",
    "\n",
    "Die Zeile `#r \"nuget: Plotly.NET.Interactive\"` bedeutet also **Referenziere das Softwarepaket Plotly.NET.Interactive von nuget**.\n",
    "\n",
    "Um das Paket nutzen zu können, muss es außerdem geöffnet werden:"
   ]
  },
  {
   "cell_type": "code",
   "execution_count": null,
   "metadata": {
    "dotnet_interactive": {
     "language": "fsharp"
    },
    "vscode": {
     "languageId": "dotnet-interactive.fsharp"
    }
   },
   "outputs": [],
   "source": [
    "open Plotly.NET"
   ]
  },
  {
   "cell_type": "markdown",
   "metadata": {},
   "source": [
    "## Datenvisualisierung\n",
    "\n",
    "Zeit, um die versprochene Interaktivität von Notebooks zu demonstrieren. \n",
    "\n",
    "Führen sie die nachfolgende Codezelle aus. Sie erhalten einen interaktiven Plot als ausgabe, auf dem sie z.B. zoomen können."
   ]
  },
  {
   "cell_type": "code",
   "execution_count": null,
   "metadata": {
    "dotnet_interactive": {
     "language": "fsharp"
    },
    "vscode": {
     "languageId": "dotnet-interactive.fsharp"
    }
   },
   "outputs": [],
   "source": [
    "Chart.Line(\n",
    "    x = [|0. .. 0.1 .. 1.|],\n",
    "    y = [|0. .. 0.1 .. 1.|]\n",
    ")"
   ]
  },
  {
   "cell_type": "markdown",
   "metadata": {},
   "source": [
    "Sehen wir uns die Codezelle einmal genauer an:\n",
    "\n",
    "- `Chart.Line( ... )` stammt aus dem geladenen Plotly.NET Paket und ermöglicht es (wie der Name schon sagt), Liniendiagramme zu erstellen.\n",
    "- mit `x = ...` und `y = ...` werden die zu visualisierenden Datenpunkte auf X- und Y-Achse bestimmt.\n",
    "- mit `[|start .. schrittgröße ... ende|]` wird ein Vektor erstellt, der die Zahlenwerte zwischen `start` und `ende` mit einer definierten `schrittgröße` enthält. Die hier verwendete Liste `[|0. .. 0.1 .. 1.|]` wird also 11 Zahlen enthalten.\n",
    "\n",
    "Schauen wir uns das im Detail an. Führen sie die nächste Codezelle aus."
   ]
  },
  {
   "cell_type": "code",
   "execution_count": null,
   "metadata": {
    "dotnet_interactive": {
     "language": "fsharp"
    },
    "vscode": {
     "languageId": "dotnet-interactive.fsharp"
    }
   },
   "outputs": [],
   "source": [
    "[|0. .. 0.1 .. 1.|]"
   ]
  },
  {
   "cell_type": "markdown",
   "metadata": {},
   "source": [
    "Kopieren sie nun den Code des ursprünglichen Liniendiagramms in die nächste Codezelle, und passen sie die x und y-Werte so an, dass jeweils die Zahlen zwischen 0. und 20. mit einer Schrittgröße von 0.5 visualisiert werden."
   ]
  },
  {
   "cell_type": "markdown",
   "metadata": {},
   "source": [
    "## Zwischenergebnisse\n",
    "\n",
    "Vor allem bei komplizierteren Ergebnissen kann es Vorteilhaft sein, Ergebnisse oder Werte zwischenzuspeichern, zum Beispiel um sie in mehrfach in verschiedenen Codezellen zu verwenden. In der nachfolgenden Codezelle werden zwei Vektoren mit den Namen `x_data` und `y_data` zwischengespeichert. Beachten sie außerdem, dass sich in diesem beispiel keine Zahlenbereiche, sondern explizite Werte im Vektor befinden. In diesem Fall werden die einzelnen Werte mit einem Semikolon (`;`) getrennt."
   ]
  },
  {
   "cell_type": "code",
   "execution_count": null,
   "metadata": {
    "dotnet_interactive": {
     "language": "fsharp"
    },
    "vscode": {
     "languageId": "dotnet-interactive.fsharp"
    }
   },
   "outputs": [],
   "source": [
    "let x_data = [|0.; 1.; 2.; 3.; 4.; 5.; 6.|]\n",
    "let y_data = [|-1.; 1.; -1.; 1.; -1.; 1.; -1.|]"
   ]
  },
  {
   "cell_type": "markdown",
   "metadata": {},
   "source": [
    "Nun kann der Vektor `data` beliebig in anderen Codezellen verwendet werden.\n",
    "\n",
    "Probieren sie das in der nächjsten Codezelle aus, indem sie ein Liniendiagramm erstellen, in dem `x_data` und `y_data` für jeweils `x` und `y` verwendet werden."
   ]
  },
  {
   "cell_type": "code",
   "execution_count": null,
   "metadata": {
    "dotnet_interactive": {
     "language": "fsharp"
    },
    "vscode": {
     "languageId": "dotnet-interactive.fsharp"
    }
   },
   "outputs": [],
   "source": [
    "Chart.Line(\n",
    "    x = x_data,\n",
    "    y = y_data\n",
    ")"
   ]
  },
  {
   "cell_type": "markdown",
   "metadata": {
    "dotnet_interactive": {
     "language": "fsharp"
    }
   },
   "source": [
    "## Visualisierungstyp ändern\n",
    "\n",
    "In den folgenden Notebooks werden neben dem Liniendiagramm auch noch Punkt- und Splinediagramme verwendet. Die befehle zum erstellen dieser Diagramme sind analog zu `Chart.Point` und `Chart.Spline`. Schauen sie sich die unterschiede dieser beiden Visualisierungsmethoden doch einmal in den nächsten zwei Codezellen an, indem sie wieder `x_data` und `y_data` für das jeweilige Diagramm verwenden."
   ]
  },
  {
   "cell_type": "code",
   "execution_count": null,
   "metadata": {
    "dotnet_interactive": {
     "language": "fsharp"
    },
    "vscode": {
     "languageId": "dotnet-interactive.fsharp"
    }
   },
   "outputs": [],
   "source": [
    "// Hier bitte ein Punktdiagramm von x_data und y_data"
   ]
  },
  {
   "cell_type": "code",
   "execution_count": null,
   "metadata": {
    "dotnet_interactive": {
     "language": "fsharp"
    },
    "vscode": {
     "languageId": "dotnet-interactive.fsharp"
    }
   },
   "outputs": [],
   "source": [
    "// Hier bitte ein Splinediagramm von x_data und y_data"
   ]
  }
 ],
 "metadata": {
  "kernelspec": {
   "display_name": ".NET (F#)",
   "language": "F#",
   "name": ".net-fsharp"
  },
  "language_info": {
   "name": "F#"
  }
 },
 "nbformat": 4,
 "nbformat_minor": 2
}
