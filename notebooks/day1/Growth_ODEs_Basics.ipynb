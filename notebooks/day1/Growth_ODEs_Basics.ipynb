{
 "cells": [
  {
   "cell_type": "code",
   "execution_count": null,
   "metadata": {
    "dotnet_interactive": {
     "language": "fsharp"
    },
    "vscode": {
     "languageId": "dotnet-interactive.fsharp"
    }
   },
   "outputs": [
    {
     "data": {
      "text/html": [
       "<div><div></div><div></div><div><strong>Installed Packages</strong><ul><li><span>FsODE, 0.0.1</span></li><li><span>Plotly.NET.Interactive, 3.0.2</span></li></ul></div></div>"
      ]
     },
     "metadata": {},
     "output_type": "display_data"
    },
    {
     "data": {
      "text/markdown": [
       "Loading extensions from `Plotly.NET.Interactive.dll`"
      ]
     },
     "metadata": {},
     "output_type": "display_data"
    }
   ],
   "source": [
    "#r \"nuget: FsODE, 0.0.1\"\n",
    "#r \"nuget: Plotly.NET.Interactive, 3.0.2\"\n",
    "\n",
    "open FsODE\n",
    "open Plotly.NET"
   ]
  },
  {
   "cell_type": "markdown",
   "metadata": {},
   "source": [
    "# Tag 1 – Einführung in die Wachstumsmodellierung und Grundlagen einfacher Differentialgleichungen\n",
    "\n",
    "Es gibt verschiedene Aspekte in biologischen  Systemen und Gesetzmäßigkeiten, die man modellieren kann. Ein besonders häufiger und beliebter Aspekt in der Biologie ist das Wachstum. Das Wachstum von Zellen, von Geweben, von Organen und Organismen, von Populationen und von Stoffmengen. Dazu gehört auch das negative Wachstum, auch Zerfall oder Abfall genannt. Bspw. der Verbrauch von Substrat durch Lebewesen in einer Umgebung oder das Eingehen (Absterben) von Pflanzen auf einer Wiese infolge von anhaltender Dürre und Trockenheit.\n",
    "\n",
    "Am ersten Tag des Grundpraktikums \"Biophysik\" behandeln wir grundlegende Dinge über Wachstum und deren Modellierung.\n",
    "\n",
    "## Was "
   ]
  },
  {
   "cell_type": "markdown",
   "metadata": {},
   "source": [
    "## Lösen von DGLs:\n",
    "\n",
    "In der Mathematik erarbeitet man die Lösung einer solchen DGL über verschiedene (mögliche) Lösungswege, jedoch sind für viele DGLs nur approximative (= Näherungs-)Lösungen möglich.  \n",
    "In der Informatik benutzt man daher eine Programmbibliothek, mit deren Hilfe wir uns vom Computer die Lösung _errechnen lassen_. Das einzige, was wir noch tun müssen, ist, unserem \"Taschenrechner\" die korrekte DGL zu geben.\n",
    "\n",
    "Wieder unsere Beispiel-DGL von oben: $\\frac{\\mathrm{d}S}{\\mathrm{d}t} = -S(t)$"
   ]
  },
  {
   "cell_type": "code",
   "execution_count": null,
   "metadata": {
    "dotnet_interactive": {
     "language": "fsharp"
    },
    "vscode": {
     "languageId": "dotnet-interactive.fsharp"
    }
   },
   "outputs": [],
   "source": [
    "// der Rechenalgorithmus der Programmbibliothek, die wir benutzen:\n",
    "let modelContext = OdeContext OdeSolverMethod.RK546M\n",
    "\n",
    "// unsere DGL als einfaches Modell (SimpleModel):\n",
    "let dS_dt : SimpleModel = fun S t -> -S"
   ]
  },
  {
   "cell_type": "markdown",
   "metadata": {},
   "source": [
    "Damit der Algorithmus nun die gesuchte Funktion errechnen kann, braucht er er Anfangswerte.\n",
    "Wir geben ihm die Anfangswerte  \n",
    "$x_0 = 0$  \n",
    "und  \n",
    "$y_0 = 1$"
   ]
  },
  {
   "cell_type": "code",
   "execution_count": null,
   "metadata": {
    "dotnet_interactive": {
     "language": "fsharp"
    },
    "vscode": {
     "languageId": "dotnet-interactive.fsharp"
    }
   },
   "outputs": [
    {
     "data": {
      "text/html": [
       "<table><thead><tr><th><i>index</i></th><th>x</th><th>Y</th></tr></thead><tbody><tr><td>0</td><td><div class=\"dni-plaintext\">0</div></td><td><div class=\"dni-plaintext\">[ 1 ]</div></td></tr><tr><td>1</td><td><div class=\"dni-plaintext\">0.7900835384045327</div></td><td><div class=\"dni-plaintext\">[ 0.45380777140829653 ]</div></td></tr><tr><td>2</td><td><div class=\"dni-plaintext\">1.486934048395232</div></td><td><div class=\"dni-plaintext\">[ 0.22606452686413134 ]</div></td></tr><tr><td>3</td><td><div class=\"dni-plaintext\">2.1459485898456494</div></td><td><div class=\"dni-plaintext\">[ 0.11695661548620673 ]</div></td></tr><tr><td>4</td><td><div class=\"dni-plaintext\">2.7888674853402593</div></td><td><div class=\"dni-plaintext\">[ 0.0614904179376787 ]</div></td></tr><tr><td>5</td><td><div class=\"dni-plaintext\">3.4247420244095683</div></td><td><div class=\"dni-plaintext\">[ 0.032557379651028985 ]</div></td></tr><tr><td>6</td><td><div class=\"dni-plaintext\">4.05749287720524</div></td><td><div class=\"dni-plaintext\">[ 0.017292112533920385 ]</div></td></tr><tr><td>7</td><td><div class=\"dni-plaintext\">4.688850464522012</div></td><td><div class=\"dni-plaintext\">[ 0.00919711792413725 ]</div></td></tr><tr><td>8</td><td><div class=\"dni-plaintext\">5.319584987568291</div></td><td><div class=\"dni-plaintext\">[ 0.004894699703812757 ]</div></td></tr><tr><td>9</td><td><div class=\"dni-plaintext\">5.950040553235626</div></td><td><div class=\"dni-plaintext\">[ 0.0026056825259346324 ]</div></td></tr></tbody></table>"
      ]
     },
     "metadata": {},
     "output_type": "display_data"
    }
   ],
   "source": [
    "let x0 = 0.\n",
    "let y0 = 1.\n",
    "\n",
    "// wir lassen unsere DGL mit den Anfangswerten lösen:\n",
    "let ergebnis = modelContext.OdeInt(x0, y0, dS_dt) |> SolPoints.take 10 |> SolPoints.memorize\n",
    "\n",
    "// und plotten die Punkte in einem Graph\n",
    "ergebnis"
   ]
  },
  {
   "cell_type": "markdown",
   "metadata": {},
   "source": [
    "## Aufgaben\n",
    "\n",
    "*Aufgabe 1.1:*\n",
    "\n"
   ]
  },
  {
   "cell_type": "markdown",
   "metadata": {},
   "source": [
    "*Antwort:* "
   ]
  },
  {
   "cell_type": "markdown",
   "metadata": {},
   "source": [
    "*Aufgabe 1.2:* "
   ]
  },
  {
   "cell_type": "markdown",
   "metadata": {},
   "source": [
    "*Antwort:* "
   ]
  },
  {
   "cell_type": "markdown",
   "metadata": {},
   "source": [
    "*Aufgabe 2:* "
   ]
  },
  {
   "cell_type": "markdown",
   "metadata": {},
   "source": [
    "*Aufgabe 10:*\n",
    "\n"
   ]
  }
 ],
 "metadata": {
  "kernelspec": {
   "display_name": ".NET (F#)",
   "language": "F#",
   "name": ".net-fsharp"
  },
  "language_info": {
   "name": "F#"
  }
 },
 "nbformat": 4,
 "nbformat_minor": 2
}
