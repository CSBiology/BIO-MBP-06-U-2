{
 "cells": [
  {
   "cell_type": "code",
   "execution_count": null,
   "metadata": {
    "dotnet_interactive": {
     "language": "fsharp"
    },
    "vscode": {
     "languageId": "dotnet-interactive.fsharp"
    }
   },
   "outputs": [
    {
     "data": {
      "text/html": [
       "<div><div></div><div></div><div><strong>Installed Packages</strong><ul><li><span>FSharp.Stats, 0.4.7</span></li><li><span>FsODE, 0.0.1</span></li><li><span>Plotly.NET.Interactive, 3.0.2</span></li></ul></div></div>"
      ]
     },
     "metadata": {},
     "output_type": "display_data"
    }
   ],
   "source": [
    "#r \"nuget: FsODE, 0.0.1\"\n",
    "#r \"nuget: FSharp.Stats, 0.4.7\"\n",
    "#r \"nuget: Plotly.NET.Interactive, 3.0.2\"\n",
    "\n",
    "open FsODE\n",
    "open Plotly.NET\n",
    "open Plotly.NET.LayoutObjects\n",
    "open Plotly.NET.StyleParam\n",
    "open FSharp.Stats"
   ]
  },
  {
   "cell_type": "markdown",
   "metadata": {},
   "source": [
    "# Tag 1 – Einführung in die Wachstumsmodellierung und Grundlagen einfacher Differentialgleichungen\n",
    "\n",
    "Es gibt verschiedene Aspekte in biologischen  Systemen und Gesetzmäßigkeiten, die man modellieren kann. Ein besonders häufiger und beliebter Aspekt in der Biologie ist das Wachstum. Das Wachstum von Zellen, von Geweben, von Organen und Organismen, von Populationen und von Stoffmengen. Dazu gehört auch das negative Wachstum, auch Zerfall oder Abfall genannt. Bspw. der Verbrauch von Substrat durch Lebewesen in einer Umgebung oder das Eingehen (Absterben) von Pflanzenindividuen auf einer Wiese infolge von anhaltender Dürre und Trockenheit.\n",
    "\n",
    "Am ersten Tag des Grundpraktikums \"Biophysik\" behandeln wir grundlegende Dinge über Wachstum und deren Modellierung.\n",
    "\n",
    "## Was ist Wachstumsmodellierung?\n",
    "\n",
    "Wissenschaftliche Modelle sind Abstraktionen der Wirklichkeit. Das Ziel ist, mit einem Modell einen (meist komplexen) Sachverhalt zu beschreiben.  \n",
    "Um Wachstum zu beschreiben, verwenden wir gedankliche Modelle (_mental models_), die biologische Gesetzmäßigkeiten möglichst präzise abbilden. Modellierung an sich ist in der Biologie sehr wichtig, um Veränderungen und Wechselwirkungen erklären und mehr oder weniger präzise (je nach Güte des Modells) vorhersagen zu können.\n",
    "\n",
    "Zu den ältesten und _vermeintlich_ einfachsten Experimenten gehört die Analyse von Wachstum. Dieses kann je nach untersuchtem System durch verschiedene Parameter beschrieben werden. Steht der Organismus im Fokus, so sind Gewicht, Länge oder Größe von Interesse. Bei Populationen geht es meist um eine Zell- oder Individuenzahl pro definiertem Volumen oder Fläche (Populationsdichte).\n",
    "Im Labor können verschiedene Wachstumsbedingungen künstlich erzeugt werden und damit der Einfluss jedes einzelnen Faktors – getrennt oder kombiniert – untersucht werden. Zum Beispiel können Bakterien statt auf Standardmedium mit Glucose auf Medium mit Galactose angezogen werden. Eine eventuell nötige Umwandlung von Galactose in Glucose, oder aufwendigere metabolische Reaktionen führen hier zu langsamerem Wachstum. Dies lässt sich in der Regel durch einfache Absorptionsmessungen im Photometer beweisen. Ein vermindertes Wachstum geht hier mit einer langsameren Trübung (niedrigere optische Dichte) des Mediums einher, was auf einem Graphen leicht visualisiert werden kann.\n",
    "\n",
    "<center>\n",
    "<img src=\"../../images/day1/02_Growth_01.png\" width=40% /> <br>\n",
    "<i><b>Abbildung 1: Beispiel für einen Wachstumsverlauf.</b> Aufzucht von Bakterien in einem Glucose- bzw. Galactose-haltigen Medium. Die y-Achse gibt die Absorption im Photometer bei einer bestimmten optischen Dichte an.</i>\n",
    "</center>\n",
    "\n",
    "Leider kann der Wachstumsunterschied mit dem oben gezeigten Datensatz nicht quantifiziert werden. Zwar kann die zeitliche Differenz zwischen zwei Punkten gleicher optischer Dichte bestimmt werden (Kreuze in Abbildung 1), jedoch ist diese Differenz sowohl stark von den gewählten Messzeitpunkten, als auch von den vorliegenden (unbekannten) Wachstumsphasen abhängig. Außerdem verläuft die Trübung nicht linear. Das bedeutet, dass sich bei einer Zellverdopplung nicht automatisch auch die Absorption verdoppelt. Für qualitative Aussagen ist diese Methode ausreichend, für quantitative Analysen aber ungeeignet.\n",
    "\n",
    "Wesentlich aussagekräftiger ist eine Bestimmung der absoluten Zellkonzentration mit anschließendem Fitting eines bekannten Wachstumsmodells. Die so ermittelten Parameter können für quantitative und vergleichende Analysen von z.B. Glucose- und Galactosemedium verwendet werden. Das einfachste Wachstumsmodell wollen wir uns im Folgenden anschauen.  \n",
    "\n",
    "____"
   ]
  },
  {
   "cell_type": "markdown",
   "metadata": {},
   "source": [
    "## Exkurs: Differentialgleichungen\n",
    "\n",
    "Biologische Prozesse können meist mit Differentialgleichungen (DGLs) dargestellt werden. Bei einer Differentialgleichung befinden sich sowohl die Funktion als auch eine (oder mehrere) ihrer Ableitungen in einer Gleichung. Die exakte Lösung einer solchen DGL ergibt die Funktion, mit der sich der biologische Sachverhalt (hier: die Wachstumsfunktion) adäquat beschreiben lässt.\n",
    "\n",
    "$\\frac{df}{dx} = 4f(x)$, eine beispielhafte DGL\n",
    "\n",
    "Falls Sie Ihr Schulwissen über Gleichungen, Funktionen und Ableitungen auffrischen möchten, lesen Sie [dieses Notebook](link einfügen).\n",
    "\n",
    "___"
   ]
  },
  {
   "cell_type": "markdown",
   "metadata": {},
   "source": [
    "## Einfaches Wachstumsmodell\n",
    "\n",
    "Wachstum, also die Änderung der Zellzahl über die Zeit, ist proportional zur Zellzahl _N_. Der Proportionalitätsfaktor ist _r_. Je höher die Zellzahl, desto höher ist die Rate mit der die Zellzahl wächst (Diese Begründung bitte kurz sacken lassen).\n",
    "\n",
    "_Aufgabe 1.1:_ Wie sieht die beschriebene Differentialgleichung aus?\n",
    "\n",
    "a) $\\frac{dN}{dt} = \\frac{r}{N}$\n",
    "\n",
    "b) $N(t) = rtN$\n",
    "\n",
    "c) $N(t) = \\frac{rN}{t}$\n",
    "\n",
    "d) $\\frac{dN}{dt} = rN$\n"
   ]
  },
  {
   "cell_type": "markdown",
   "metadata": {},
   "source": [
    "_Antwort:_ "
   ]
  },
  {
   "cell_type": "markdown",
   "metadata": {},
   "source": [
    "_Aufgabe 1.2:_ Beweisen Sie, dass $N(t) = N_0 *e^{rt}$ eine Lösung für die oben definierte Differentialgleichung ist.\n",
    "\n",
    "Hinweis: Leiten Sie die oben stehende geschlossene Form der Wachstumsgleichung nach $t$ ab und setzen Sie $N$ und die Ableitung in die Differenzialgleichung ein. Versuchen Sie diese Aufgabe innerhalb von 10 Minuten zu lösen. Fahren Sie ansonsten mit dem nächsten Abschnitt fort."
   ]
  },
  {
   "cell_type": "markdown",
   "metadata": {},
   "source": [
    "## Lösen von DGLs\n",
    "\n",
    "Nicht immer ist eine Integration von Modellen möglich. Wie oben bewiesen ist das Integral tatsächlich eine Lösung der DGL. \n",
    "In der Biologie gibt es oftmals Fragestellungen oder Systeme, in denen eine Vielzahl von Parametern und Abhängigkeiten eine Rolle spielen und somit eine Integration nicht machbar ist. Glücklicherweise ist dies auch nicht notwendig. Denn das Wissen um das Verhalten der Steigung beschreibt den Funktionsverlauf meist ausreichend.  \n",
    "In der Mathematik erarbeitet man die Lösung einer solchen DGL über verschiedene (mögliche) Lösungswege, jedoch sind für viele DGLs nur approximative (= Näherungs-)Lösungen möglich.\n",
    "\n",
    "### Euler-Verfahren\n",
    "\n",
    "Ein Beispiel für eine solche Methode ist das sogenannte **Euler-Verfahren**. Es handelt sich dabei um einen iterativen Algorithmus, d. h., dass eine bestimmte Berechnung mehrmals wiederholt wird, bei jeder Wiederholung jedoch mit veränderten Startbedingungen.  \n",
    "Für das Euler-Verfahren wird mind. 1 Startpunkt benötigt, z. B. $P(0|1)$. Daher wissen wir, dass der Kurvenverlauf auf jeden Fall an der x-Stelle $0$ $y = 1$ sein muss. Das bedeutet:\n",
    "\n",
    "$N(0) = 1$\n",
    "\n",
    "Zudem setzen wir eine sog. Schrittweite (wir nennen sie $h$). Die sagt aus, wie weit wir bei jedem Iterationsschritt nach rechts gehen (also um wieviel sich der $x$-Wert erhöht). In unserem Beispiel sei das:\n",
    "\n",
    "$h = 1$\n",
    "\n",
    "Jetzt \n",
    "\n",
    "$\\frac{dN}{dt} = rN$\n",
    "\n",
    "_Aufgabe 1.3.:_ Wie könnten Sie als Biolog:in einen solchen Startpunkt P ermitteln?"
   ]
  },
  {
   "cell_type": "markdown",
   "metadata": {},
   "source": [
    "_Antwort:_"
   ]
  },
  {
   "cell_type": "markdown",
   "metadata": {},
   "source": [
    "Auf dem Papier würde eine solche Rechnung lange dauern. In der Informatik benutzt man daher eine Programmbibliothek, mit deren Hilfe wir uns vom Computer die Lösung _errechnen lassen_. Das einzige, was wir noch tun müssen, ist, unserem \"Taschenrechner\" die korrekte DGL zu geben.\n",
    "\n",
    "Wieder unsere DGL von oben: $\\frac{\\mathrm{d}N}{\\mathrm{d}t} = rN$"
   ]
  },
  {
   "cell_type": "markdown",
   "metadata": {},
   "source": [
    "Nachdem das Wissen über Ableitungen aufgefrischt wurden, soll die Wachstumsfunktion nun simuliert werden. Dafür wird die Differenzialgleichung als Modell formalisiert und mit folgenden Werten parametrisiert:\n",
    "\n",
    "$$r = 0.3$$\n",
    "\n",
    "Damit der Algorithmus nun die gesuchte Funktion errechnen kann, braucht er er Anfangswerte.\n",
    "Wir geben ihm die Anfangswerte  \n",
    "\n",
    "$$N(t0) = 100$$\n",
    "\n",
    "$$t0 = 0.0$$"
   ]
  },
  {
   "cell_type": "code",
   "execution_count": null,
   "metadata": {
    "dotnet_interactive": {
     "language": "fsharp"
    },
    "vscode": {
     "languageId": "dotnet-interactive.fsharp"
    }
   },
   "outputs": [
    {
     "data": {
      "text/html": [
       "<div class=\"dni-plaintext\">FSI_0009+it@24</div>"
      ]
     },
     "metadata": {},
     "output_type": "display_data"
    }
   ],
   "source": [
    "// der Rechenalgorithmus der Programmbibliothek, die wir benutzen:\n",
    "let modelContext = \n",
    "    OdeContext(\n",
    "        OdeSolverMethod.RK546M,\n",
    "        OdeSolverOptions(\n",
    "            StepSize=0.42\n",
    "        )\n",
    "    )\n",
    "    \n",
    "// unsere DGL als einfaches Modell (SimpleModel):\n",
    "let r = 0.3  \n",
    "\n",
    "// growth model\n",
    "let dN_dt : SimpleModel =     \n",
    "    fun N t ->\n",
    "        let cellcount = N\n",
    "        let cellcount' = r * N \n",
    "        cellcount'    \n",
    "\n",
    "// Initial condition\n",
    "let t0 = 0         \n",
    "let N0 = 100.0    \n"
   ]
  },
  {
   "cell_type": "markdown",
   "metadata": {},
   "source": [
    "Im Modell dN_dt sind nun alle relevanten Berechnungen bereits geschehen und man kann sich die Funktionswerte der simulierten Integration ausgeben lassen."
   ]
  },
  {
   "cell_type": "code",
   "execution_count": null,
   "metadata": {
    "dotnet_interactive": {
     "language": "fsharp"
    },
    "vscode": {
     "languageId": "dotnet-interactive.fsharp"
    }
   },
   "outputs": [
    {
     "data": {
      "text/html": [
       "<table><thead><tr><th><i>index</i></th><th>x</th><th>Y</th></tr></thead><tbody><tr><td>0</td><td><div class=\"dni-plaintext\">0</div></td><td><div class=\"dni-plaintext\">[ 100 ]</div></td></tr><tr><td>1</td><td><div class=\"dni-plaintext\">0.42</div></td><td><div class=\"dni-plaintext\">[ 113.4282167625625 ]</div></td></tr><tr><td>2</td><td><div class=\"dni-plaintext\">0.999259549657388</div></td><td><div class=\"dni-plaintext\">[ 134.955898363052 ]</div></td></tr><tr><td>3</td><td><div class=\"dni-plaintext\">2.1772271605451294</div></td><td><div class=\"dni-plaintext\">[ 192.16186029123628 ]</div></td></tr><tr><td>4</td><td><div class=\"dni-plaintext\">3.8940775510006906</div></td><td><div class=\"dni-plaintext\">[ 321.6263247377607 ]</div></td></tr><tr><td>5</td><td><div class=\"dni-plaintext\">6.039496988444697</div></td><td><div class=\"dni-plaintext\">[ 612.1674466254168 ]</div></td></tr><tr><td>6</td><td><div class=\"dni-plaintext\">8.515955468393773</div></td><td><div class=\"dni-plaintext\">[ 1286.8070827545662 ]</div></td></tr><tr><td>7</td><td><div class=\"dni-plaintext\">11.251389834936289</div></td><td><div class=\"dni-plaintext\">[ 2923.4116361761935 ]</div></td></tr><tr><td>8</td><td><div class=\"dni-plaintext\">14.195179461744015</div></td><td><div class=\"dni-plaintext\">[ 7069.730547285138 ]</div></td></tr><tr><td>9</td><td><div class=\"dni-plaintext\">17.312471927868035</div></td><td><div class=\"dni-plaintext\">[ 18009.84524032065 ]</div></td></tr></tbody></table>"
      ]
     },
     "metadata": {},
     "output_type": "display_data"
    }
   ],
   "source": [
    "//xxxx\n",
    "\n",
    "let sim_dy_dx = \n",
    "    modelContext.OdeInt(t0,N0,dN_dt) //aufgabe\n",
    "    |> SolPoints.take 10 \n",
    "    |> SolPoints.memorize\n",
    "\n",
    "sim_dy_dx"
   ]
  },
  {
   "cell_type": "markdown",
   "metadata": {},
   "source": [
    "_Aufgabe 2.4: Visualisieren Sie das Modell anhand der oben zwischengespeicherten 10 Datenpunkte und beschriften Sie die x- und y-Achse._"
   ]
  },
  {
   "cell_type": "code",
   "execution_count": null,
   "metadata": {
    "dotnet_interactive": {
     "language": "fsharp"
    },
    "vscode": {
     "languageId": "dotnet-interactive.fsharp"
    }
   },
   "outputs": [
    {
     "data": {
      "text/html": [
       "\n",
       "<div>\n",
       "    <div id=\"2a780f74-a293-4c1f-b73c-b63a7a354e8f\"><!-- Plotly chart will be drawn inside this DIV --></div>\r\n",
       "<script type=\"text/javascript\">\r\n",
       "\r\n",
       "            var renderPlotly_2a780f74a2934c1fb73cb63a7a354e8f = function() {\r\n",
       "            var fsharpPlotlyRequire = requirejs.config({context:'fsharp-plotly',paths:{plotly:'https://cdn.plot.ly/plotly-2.6.3.min'}}) || require;\r\n",
       "            fsharpPlotlyRequire(['plotly'], function(Plotly) {\r\n",
       "\r\n",
       "            var data = [{\"type\":\"scatter\",\"mode\":\"markers\",\"x\":[0.0,0.42,0.999259549657388,2.1772271605451294,3.8940775510006906,6.039496988444697,8.515955468393773,11.251389834936289,14.195179461744015,17.312471927868035],\"y\":[100.0,113.4282167625625,134.955898363052,192.16186029123628,321.6263247377607,612.1674466254168,1286.8070827545662,2923.4116361761935,7069.730547285138,18009.84524032065],\"marker\":{},\"line\":{}}];\r\n",
       "            var layout = {\"width\":600,\"height\":600,\"template\":{\"layout\":{\"title\":{\"x\":0.05},\"font\":{\"color\":\"rgba(42, 63, 95, 1.0)\"},\"paper_bgcolor\":\"rgba(255, 255, 255, 1.0)\",\"plot_bgcolor\":\"rgba(229, 236, 246, 1.0)\",\"autotypenumbers\":\"strict\",\"colorscale\":{\"diverging\":[[0.0,\"#8e0152\"],[0.1,\"#c51b7d\"],[0.2,\"#de77ae\"],[0.3,\"#f1b6da\"],[0.4,\"#fde0ef\"],[0.5,\"#f7f7f7\"],[0.6,\"#e6f5d0\"],[0.7,\"#b8e186\"],[0.8,\"#7fbc41\"],[0.9,\"#4d9221\"],[1.0,\"#276419\"]],\"sequential\":[[0.0,\"#0d0887\"],[0.1111111111111111,\"#46039f\"],[0.2222222222222222,\"#7201a8\"],[0.3333333333333333,\"#9c179e\"],[0.4444444444444444,\"#bd3786\"],[0.5555555555555556,\"#d8576b\"],[0.6666666666666666,\"#ed7953\"],[0.7777777777777778,\"#fb9f3a\"],[0.8888888888888888,\"#fdca26\"],[1.0,\"#f0f921\"]],\"sequentialminus\":[[0.0,\"#0d0887\"],[0.1111111111111111,\"#46039f\"],[0.2222222222222222,\"#7201a8\"],[0.3333333333333333,\"#9c179e\"],[0.4444444444444444,\"#bd3786\"],[0.5555555555555556,\"#d8576b\"],[0.6666666666666666,\"#ed7953\"],[0.7777777777777778,\"#fb9f3a\"],[0.8888888888888888,\"#fdca26\"],[1.0,\"#f0f921\"]]},\"hovermode\":\"closest\",\"hoverlabel\":{\"align\":\"left\"},\"coloraxis\":{\"colorbar\":{\"outlinewidth\":0.0,\"ticks\":\"\"}},\"geo\":{\"showland\":true,\"landcolor\":\"rgba(229, 236, 246, 1.0)\",\"showlakes\":true,\"lakecolor\":\"rgba(255, 255, 255, 1.0)\",\"subunitcolor\":\"rgba(255, 255, 255, 1.0)\",\"bgcolor\":\"rgba(255, 255, 255, 1.0)\"},\"mapbox\":{\"style\":\"light\"},\"polar\":{\"bgcolor\":\"rgba(229, 236, 246, 1.0)\",\"radialaxis\":{\"linecolor\":\"rgba(255, 255, 255, 1.0)\",\"gridcolor\":\"rgba(255, 255, 255, 1.0)\",\"ticks\":\"\"},\"angularaxis\":{\"linecolor\":\"rgba(255, 255, 255, 1.0)\",\"gridcolor\":\"rgba(255, 255, 255, 1.0)\",\"ticks\":\"\"}},\"scene\":{\"xaxis\":{\"ticks\":\"\",\"linecolor\":\"rgba(255, 255, 255, 1.0)\",\"gridcolor\":\"rgba(255, 255, 255, 1.0)\",\"gridwidth\":2.0,\"zerolinecolor\":\"rgba(255, 255, 255, 1.0)\",\"backgroundcolor\":\"rgba(229, 236, 246, 1.0)\",\"showbackground\":true},\"yaxis\":{\"ticks\":\"\",\"linecolor\":\"rgba(255, 255, 255, 1.0)\",\"gridcolor\":\"rgba(255, 255, 255, 1.0)\",\"gridwidth\":2.0,\"zerolinecolor\":\"rgba(255, 255, 255, 1.0)\",\"backgroundcolor\":\"rgba(229, 236, 246, 1.0)\",\"showbackground\":true},\"zaxis\":{\"ticks\":\"\",\"linecolor\":\"rgba(255, 255, 255, 1.0)\",\"gridcolor\":\"rgba(255, 255, 255, 1.0)\",\"gridwidth\":2.0,\"zerolinecolor\":\"rgba(255, 255, 255, 1.0)\",\"backgroundcolor\":\"rgba(229, 236, 246, 1.0)\",\"showbackground\":true}},\"ternary\":{\"aaxis\":{\"ticks\":\"\",\"linecolor\":\"rgba(255, 255, 255, 1.0)\",\"gridcolor\":\"rgba(255, 255, 255, 1.0)\"},\"baxis\":{\"ticks\":\"\",\"linecolor\":\"rgba(255, 255, 255, 1.0)\",\"gridcolor\":\"rgba(255, 255, 255, 1.0)\"},\"caxis\":{\"ticks\":\"\",\"linecolor\":\"rgba(255, 255, 255, 1.0)\",\"gridcolor\":\"rgba(255, 255, 255, 1.0)\"},\"bgcolor\":\"rgba(229, 236, 246, 1.0)\"},\"xaxis\":{\"title\":{\"standoff\":15},\"ticks\":\"\",\"automargin\":true,\"linecolor\":\"rgba(255, 255, 255, 1.0)\",\"gridcolor\":\"rgba(255, 255, 255, 1.0)\",\"zerolinecolor\":\"rgba(255, 255, 255, 1.0)\",\"zerolinewidth\":2.0},\"yaxis\":{\"title\":{\"standoff\":15},\"ticks\":\"\",\"automargin\":true,\"linecolor\":\"rgba(255, 255, 255, 1.0)\",\"gridcolor\":\"rgba(255, 255, 255, 1.0)\",\"zerolinecolor\":\"rgba(255, 255, 255, 1.0)\",\"zerolinewidth\":2.0},\"annotationdefaults\":{\"arrowcolor\":\"#2a3f5f\",\"arrowhead\":0,\"arrowwidth\":1},\"shapedefaults\":{\"line\":{\"color\":\"rgba(42, 63, 95, 1.0)\"}},\"colorway\":[\"rgba(99, 110, 250, 1.0)\",\"rgba(239, 85, 59, 1.0)\",\"rgba(0, 204, 150, 1.0)\",\"rgba(171, 99, 250, 1.0)\",\"rgba(255, 161, 90, 1.0)\",\"rgba(25, 211, 243, 1.0)\",\"rgba(255, 102, 146, 1.0)\",\"rgba(182, 232, 128, 1.0)\",\"rgba(255, 151, 255, 1.0)\",\"rgba(254, 203, 82, 1.0)\"]},\"data\":{\"bar\":[{\"marker\":{\"line\":{\"color\":\"rgba(229, 236, 246, 1.0)\",\"width\":0.5},\"pattern\":{\"fillmode\":\"overlay\",\"size\":10,\"solidity\":0.2}},\"error_x\":{\"color\":\"rgba(42, 63, 95, 1.0)\"},\"error_y\":{\"color\":\"rgba(42, 63, 95, 1.0)\"}}],\"barpolar\":[{\"marker\":{\"line\":{\"color\":\"rgba(229, 236, 246, 1.0)\",\"width\":0.5},\"pattern\":{\"fillmode\":\"overlay\",\"size\":10,\"solidity\":0.2}}}],\"carpet\":[{\"aaxis\":{\"linecolor\":\"rgba(255, 255, 255, 1.0)\",\"gridcolor\":\"rgba(255, 255, 255, 1.0)\",\"endlinecolor\":\"rgba(42, 63, 95, 1.0)\",\"minorgridcolor\":\"rgba(255, 255, 255, 1.0)\",\"startlinecolor\":\"rgba(42, 63, 95, 1.0)\"},\"baxis\":{\"linecolor\":\"rgba(255, 255, 255, 1.0)\",\"gridcolor\":\"rgba(255, 255, 255, 1.0)\",\"endlinecolor\":\"rgba(42, 63, 95, 1.0)\",\"minorgridcolor\":\"rgba(255, 255, 255, 1.0)\",\"startlinecolor\":\"rgba(42, 63, 95, 1.0)\"}}],\"choropleth\":[{\"colorbar\":{\"outlinewidth\":0.0,\"ticks\":\"\"},\"colorscale\":[[0.0,\"#0d0887\"],[0.1111111111111111,\"#46039f\"],[0.2222222222222222,\"#7201a8\"],[0.3333333333333333,\"#9c179e\"],[0.4444444444444444,\"#bd3786\"],[0.5555555555555556,\"#d8576b\"],[0.6666666666666666,\"#ed7953\"],[0.7777777777777778,\"#fb9f3a\"],[0.8888888888888888,\"#fdca26\"],[1.0,\"#f0f921\"]]}],\"contour\":[{\"colorbar\":{\"outlinewidth\":0.0,\"ticks\":\"\"},\"colorscale\":[[0.0,\"#0d0887\"],[0.1111111111111111,\"#46039f\"],[0.2222222222222222,\"#7201a8\"],[0.3333333333333333,\"#9c179e\"],[0.4444444444444444,\"#bd3786\"],[0.5555555555555556,\"#d8576b\"],[0.6666666666666666,\"#ed7953\"],[0.7777777777777778,\"#fb9f3a\"],[0.8888888888888888,\"#fdca26\"],[1.0,\"#f0f921\"]]}],\"contourcarpet\":[{\"colorbar\":{\"outlinewidth\":0.0,\"ticks\":\"\"}}],\"heatmap\":[{\"colorbar\":{\"outlinewidth\":0.0,\"ticks\":\"\"},\"colorscale\":[[0.0,\"#0d0887\"],[0.1111111111111111,\"#46039f\"],[0.2222222222222222,\"#7201a8\"],[0.3333333333333333,\"#9c179e\"],[0.4444444444444444,\"#bd3786\"],[0.5555555555555556,\"#d8576b\"],[0.6666666666666666,\"#ed7953\"],[0.7777777777777778,\"#fb9f3a\"],[0.8888888888888888,\"#fdca26\"],[1.0,\"#f0f921\"]]}],\"heatmapgl\":[{\"colorbar\":{\"outlinewidth\":0.0,\"ticks\":\"\"},\"colorscale\":[[0.0,\"#0d0887\"],[0.1111111111111111,\"#46039f\"],[0.2222222222222222,\"#7201a8\"],[0.3333333333333333,\"#9c179e\"],[0.4444444444444444,\"#bd3786\"],[0.5555555555555556,\"#d8576b\"],[0.6666666666666666,\"#ed7953\"],[0.7777777777777778,\"#fb9f3a\"],[0.8888888888888888,\"#fdca26\"],[1.0,\"#f0f921\"]]}],\"histogram\":[{\"marker\":{\"pattern\":{\"fillmode\":\"overlay\",\"size\":10,\"solidity\":0.2}}}],\"histogram2d\":[{\"colorbar\":{\"outlinewidth\":0.0,\"ticks\":\"\"},\"colorscale\":[[0.0,\"#0d0887\"],[0.1111111111111111,\"#46039f\"],[0.2222222222222222,\"#7201a8\"],[0.3333333333333333,\"#9c179e\"],[0.4444444444444444,\"#bd3786\"],[0.5555555555555556,\"#d8576b\"],[0.6666666666666666,\"#ed7953\"],[0.7777777777777778,\"#fb9f3a\"],[0.8888888888888888,\"#fdca26\"],[1.0,\"#f0f921\"]]}],\"histogram2dcontour\":[{\"colorbar\":{\"outlinewidth\":0.0,\"ticks\":\"\"},\"colorscale\":[[0.0,\"#0d0887\"],[0.1111111111111111,\"#46039f\"],[0.2222222222222222,\"#7201a8\"],[0.3333333333333333,\"#9c179e\"],[0.4444444444444444,\"#bd3786\"],[0.5555555555555556,\"#d8576b\"],[0.6666666666666666,\"#ed7953\"],[0.7777777777777778,\"#fb9f3a\"],[0.8888888888888888,\"#fdca26\"],[1.0,\"#f0f921\"]]}],\"mesh3d\":[{\"colorbar\":{\"outlinewidth\":0.0,\"ticks\":\"\"}}],\"parcoords\":[{\"line\":{\"colorbar\":{\"outlinewidth\":0.0,\"ticks\":\"\"}}}],\"pie\":[{\"automargin\":true}],\"scatter\":[{\"marker\":{\"colorbar\":{\"outlinewidth\":0.0,\"ticks\":\"\"}}}],\"scatter3d\":[{\"marker\":{\"colorbar\":{\"outlinewidth\":0.0,\"ticks\":\"\"}},\"line\":{\"colorbar\":{\"outlinewidth\":0.0,\"ticks\":\"\"}}}],\"scattercarpet\":[{\"marker\":{\"colorbar\":{\"outlinewidth\":0.0,\"ticks\":\"\"}}}],\"scattergeo\":[{\"marker\":{\"colorbar\":{\"outlinewidth\":0.0,\"ticks\":\"\"}}}],\"scattergl\":[{\"marker\":{\"colorbar\":{\"outlinewidth\":0.0,\"ticks\":\"\"}}}],\"scattermapbox\":[{\"marker\":{\"colorbar\":{\"outlinewidth\":0.0,\"ticks\":\"\"}}}],\"scatterpolar\":[{\"marker\":{\"colorbar\":{\"outlinewidth\":0.0,\"ticks\":\"\"}}}],\"scatterpolargl\":[{\"marker\":{\"colorbar\":{\"outlinewidth\":0.0,\"ticks\":\"\"}}}],\"scatterternary\":[{\"marker\":{\"colorbar\":{\"outlinewidth\":0.0,\"ticks\":\"\"}}}],\"surface\":[{\"colorbar\":{\"outlinewidth\":0.0,\"ticks\":\"\"},\"colorscale\":[[0.0,\"#0d0887\"],[0.1111111111111111,\"#46039f\"],[0.2222222222222222,\"#7201a8\"],[0.3333333333333333,\"#9c179e\"],[0.4444444444444444,\"#bd3786\"],[0.5555555555555556,\"#d8576b\"],[0.6666666666666666,\"#ed7953\"],[0.7777777777777778,\"#fb9f3a\"],[0.8888888888888888,\"#fdca26\"],[1.0,\"#f0f921\"]]}],\"table\":[{\"cells\":{\"fill\":{\"color\":\"rgba(235, 240, 248, 1.0)\"},\"line\":{\"color\":\"rgba(255, 255, 255, 1.0)\"}},\"header\":{\"fill\":{\"color\":\"rgba(200, 212, 227, 1.0)\"},\"line\":{\"color\":\"rgba(255, 255, 255, 1.0)\"}}}]}},\"shapes\":[{\"type\":\"line\",\"x0\":0.42,\"x1\":2.1772271605451294,\"y0\":113.4282167625625,\"y1\":192.16186029123628,\"line\":{\"dash\":\"dash\"}}],\"title\":{\"text\":\"Abbildung 2 - Simulation simple growth model\"},\"xaxis\":{\"title\":{\"text\":\"Time\"}},\"yaxis\":{\"title\":{\"text\":\"Population size\"}}};\r\n",
       "            var config = {\"responsive\":true};\r\n",
       "            Plotly.newPlot('2a780f74-a293-4c1f-b73c-b63a7a354e8f', data, layout, config);\r\n",
       "});\r\n",
       "            };\r\n",
       "            if ((typeof(requirejs) !==  typeof(Function)) || (typeof(requirejs.config) !== typeof(Function))) {\r\n",
       "                var script = document.createElement(\"script\");\r\n",
       "                script.setAttribute(\"src\", \"https://cdnjs.cloudflare.com/ajax/libs/require.js/2.3.6/require.min.js\");\r\n",
       "                script.onload = function(){\r\n",
       "                    renderPlotly_2a780f74a2934c1fb73cb63a7a354e8f();\r\n",
       "                };\r\n",
       "                document.getElementsByTagName(\"head\")[0].appendChild(script);\r\n",
       "            }\r\n",
       "            else {\r\n",
       "                renderPlotly_2a780f74a2934c1fb73cb63a7a354e8f();\r\n",
       "            }\r\n",
       "</script>\r\n",
       "\n",
       "    \n",
       "</div>    \n"
      ]
     },
     "metadata": {},
     "output_type": "display_data"
    }
   ],
   "source": [
    "\n",
    "let shapeOfLine =\n",
    "    LayoutObjects.Shape.init(ShapeType.Line,sim_dy_dx.[1].x,sim_dy_dx.[3].x,sim_dy_dx.[1].Y.[0],sim_dy_dx.[3].Y.[0],Line=Line.init(Dash=DrawingStyle.Dash))\n",
    "\n",
    "\n",
    "// Plot the numerical solution\n",
    "sim_dy_dx\n",
    "|> SolPoints.toPoints 1\n",
    "|> Chart.Point\n",
    "|> Chart.withShape(shapeOfLine)\n",
    "|> Chart.withTitle(\"Abbildung 2 - Simulation simple growth model\")\n",
    "|> Chart.withXAxisStyle(\"Time\") //aufgabe\n",
    "|> Chart.withYAxisStyle(\"Population size\") //aufgabe"
   ]
  },
  {
   "cell_type": "markdown",
   "metadata": {},
   "source": [
    "_Aufgabe 2.6: Schätzen Sie grob die Steigung zum Zeitpunkt t=1 ab. Entpricht Sie der theoretischen Steigung aus der Differentialgleichung (m=rN)?_\n",
    "  - Berechnen Sie die Steigung wie im unteren Schema gezeigt\n",
    "    - Zoomen und hovern Sie über die Punkte um die Werte bei t=0.42 und t=2.18 angezeigt zu bekommen.\n",
    "  - Berechnen Sie die Steigung anhand der Differentialgleichung\n",
    "    - Bestimmen Sie N an t=1\n",
    "    - r ist gegeben mit r=0.3\n",
    "    - Berechnen Sie die Steigung m=rN\n",
    "  - Vergleichen Sie die Steigung durch Abschätzen mit der theoretischen Steigung der Differentialgleichung. Sind sie ähnlich?\n",
    "\n",
    "<center>\n",
    "<img src=\"../../images/day1/02_Growth_slope.png\" width=30% />\n",
    "</center>"
   ]
  },
  {
   "cell_type": "markdown",
   "metadata": {},
   "source": [
    "_Aufgabe 2.7: Formulieren Sie die Wachstumsfunktion aus Aufgabe 2.2._"
   ]
  },
  {
   "cell_type": "code",
   "execution_count": null,
   "metadata": {
    "dotnet_interactive": {
     "language": "fsharp"
    },
    "vscode": {
     "languageId": "dotnet-interactive.fsharp"
    }
   },
   "outputs": [],
   "source": [
    "let y_exact =\n",
    "    fun t -> \n",
    "        N0*exp(r*t) //aufgabe\n",
    "\n",
    "[\n",
    "    sim_dy_dx\n",
    "    |> SolPoints.toPoints 1\n",
    "    |> Chart.Spline \n",
    "    |> Chart.withTraceInfo(\"simulation\");\n",
    "    \n",
    "    sim_dy_dx\n",
    "    |> SolPoints.map (fun p -> (p.x, y_exact p.x))\n",
    "    |> Chart.Point\n",
    "    |> Chart.withTraceInfo(\"exact\");\n",
    "\n",
    "]\n",
    "|> Chart.combine\n",
    "|> Chart.withTitle(\"Abbildung 3 - Simple growth model comparison\")\n",
    "|> Chart.withXAxisStyle(\"Time\")\n",
    "|> Chart.withYAxisStyle(\"Population size\")"
   ]
  },
  {
   "cell_type": "markdown",
   "metadata": {},
   "source": [
    "Die Simulation der Differenzialgleichung entspricht der exakten Lösung der geschlossenen Form.\n",
    "\n",
    "\n",
    "\n",
    "Es folgt eine kurze Besprechung. Falls Sie schnell vorangekommen sind, können sie bis zur Besprechung folgende Aufgaben lösen:\n",
    "\n",
    "\n",
    "### Expertenaufgaben\n",
    "- Integrieren Sie $\\frac{dN}{dt}=rN$ zu $N(t) = N_0 *e^{rt}$\n",
    "\n",
    "___\n",
    "\n"
   ]
  },
  {
   "cell_type": "markdown",
   "metadata": {},
   "source": [
    "## Aufgaben\n",
    "\n",
    "*Aufgabe 1.1:*\n",
    "\n"
   ]
  },
  {
   "cell_type": "markdown",
   "metadata": {},
   "source": [
    "*Antwort:* "
   ]
  },
  {
   "cell_type": "markdown",
   "metadata": {},
   "source": [
    "*Aufgabe 1.2:* "
   ]
  },
  {
   "cell_type": "markdown",
   "metadata": {},
   "source": [
    "*Antwort:* "
   ]
  },
  {
   "cell_type": "markdown",
   "metadata": {},
   "source": [
    "*Aufgabe 2:* "
   ]
  },
  {
   "cell_type": "markdown",
   "metadata": {},
   "source": [
    "*Aufgabe 10:*\n",
    "\n"
   ]
  }
 ],
 "metadata": {
  "kernelspec": {
   "display_name": ".NET (F#)",
   "language": "F#",
   "name": ".net-fsharp"
  },
  "language_info": {
   "name": "F#"
  }
 },
 "nbformat": 4,
 "nbformat_minor": 2
}
