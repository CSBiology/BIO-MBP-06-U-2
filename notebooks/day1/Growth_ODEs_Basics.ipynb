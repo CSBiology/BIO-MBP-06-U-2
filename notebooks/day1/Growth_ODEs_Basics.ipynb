{
 "cells": [
  {
   "cell_type": "code",
   "execution_count": null,
   "metadata": {
    "dotnet_interactive": {
     "language": "fsharp"
    },
    "vscode": {
     "languageId": "dotnet-interactive.fsharp"
    }
   },
   "outputs": [],
   "source": [
    "#r \"nuget: FsODE, 0.0.1\"\n",
    "#r \"nuget: FSharp.Stats, 0.4.7\"\n",
    "#r \"nuget: Plotly.NET.Interactive, 3.0.2\"\n",
    "\n",
    "open FsODE\n",
    "open Plotly.NET\n",
    "open Plotly.NET.LayoutObjects\n",
    "open Plotly.NET.StyleParam\n",
    "open FSharp.Stats"
   ]
  },
  {
   "cell_type": "markdown",
   "metadata": {},
   "source": [
    "# Tag 1 – Einführung in die Wachstumsmodellierung und Grundlagen einfacher Differentialgleichungen\n",
    "\n",
    "Es gibt verschiedene Aspekte in biologischen  Systemen und Gesetzmäßigkeiten, die man modellieren kann. Ein besonders häufiger und beliebter Aspekt in der Biologie ist das Wachstum. Das Wachstum von Zellen, von Geweben, von Organen und Organismen, von Populationen und von Stoffmengen. Dazu gehört auch das negative Wachstum, auch Zerfall oder Abfall genannt. Bspw. der Verbrauch von Substrat durch Lebewesen in einer Umgebung oder das Eingehen (Absterben) von Pflanzenindividuen auf einer Wiese infolge von anhaltender Dürre und Trockenheit.\n",
    "\n",
    "Am ersten Tag des Grundpraktikums \"Biophysik\" behandeln wir grundlegende Dinge über Wachstum und deren Modellierung.\n",
    "\n",
    "## Was ist Wachstumsmodellierung?\n",
    "\n",
    "Wissenschaftliche Modelle sind Abstraktionen der Wirklichkeit. Das Ziel ist, mit einem Modell einen (meist komplexen) Sachverhalt zu beschreiben.  \n",
    "Um Wachstum zu beschreiben, verwenden wir gedankliche Modelle (_mental models_), die biologische Gesetzmäßigkeiten möglichst präzise abbilden. Modellierung an sich ist in der Biologie sehr wichtig, um Veränderungen und Wechselwirkungen erklären und mehr oder weniger präzise (je nach Güte des Modells) vorhersagen zu können.\n",
    "\n",
    "Zu den ältesten und _vermeintlich_ einfachsten Experimenten gehört die Analyse von Wachstum. Dieses kann je nach untersuchtem System durch verschiedene Parameter beschrieben werden. Steht der Organismus im Fokus, so sind Gewicht, Länge oder Größe von Interesse. Bei Populationen geht es meist um eine Zell- oder Individuenzahl pro definiertem Volumen oder Fläche (Populationsdichte).\n",
    "Im Labor können verschiedene Wachstumsbedingungen künstlich erzeugt werden und damit der Einfluss jedes einzelnen Faktors – getrennt oder kombiniert – untersucht werden. Zum Beispiel können Bakterien statt auf Standardmedium mit Glucose auf Medium mit Galactose angezogen werden. Eine eventuell nötige Umwandlung von Galactose in Glucose, oder aufwendigere metabolische Reaktionen führen hier zu langsamerem Wachstum. Dies lässt sich in der Regel durch einfache Absorptionsmessungen im Photometer beweisen. Ein vermindertes Wachstum geht hier mit einer langsameren Trübung (niedrigere optische Dichte) des Mediums einher, was auf einem Graphen leicht visualisiert werden kann.\n",
    "\n",
    "<img src=\"../../images/day1/02_Growth_01.png\" width=40% /> <br>\n",
    "\n",
    "***Abbildung 1: Beispiel für einen Wachstumsverlauf.*** _Aufzucht von Bakterien in einem Glucose- bzw. Galactose-haltigen Medium. Die y-Achse gibt die Absorption im Photometer bei einer bestimmten optischen Dichte an._\n",
    "\n",
    "Leider kann der Wachstumsunterschied mit dem oben gezeigten Datensatz nicht quantifiziert werden. Zwar kann die zeitliche Differenz zwischen zwei Punkten gleicher optischer Dichte bestimmt werden (Kreuze in Abbildung 1), jedoch ist diese Differenz sowohl stark von den gewählten Messzeitpunkten, als auch von den vorliegenden (unbekannten) Wachstumsphasen abhängig. Außerdem verläuft die Trübung nicht linear. Das bedeutet, dass sich bei einer Zellverdopplung nicht automatisch auch die Absorption verdoppelt. Für qualitative Aussagen ist diese Methode ausreichend, für quantitative Analysen aber ungeeignet.\n",
    "\n",
    "Wesentlich aussagekräftiger ist eine Bestimmung der absoluten Zellkonzentration eines bekannten Wachstumsmodells. Die so ermittelten Parameter können für quantitative und vergleichende Analysen von z. B. Glucose- und Galactosemedium verwendet werden. Das einfachste Wachstumsmodell wollen wir uns im Folgenden anschauen.  \n",
    "\n",
    "____"
   ]
  },
  {
   "cell_type": "markdown",
   "metadata": {},
   "source": [
    "## Exkurs: Differentialgleichungen\n",
    "\n",
    "Biologische Prozesse können meist mit Differentialgleichungen (DGLs) dargestellt werden. Bei einer Differentialgleichung befinden sich sowohl die Funktion als auch eine (oder mehrere) ihrer Ableitungen in einer Gleichung. Die exakte Lösung einer solchen DGL ergibt die Funktion, mit der sich der biologische Sachverhalt (hier: die Wachstumsfunktion) adäquat beschreiben lässt.\n",
    "\n",
    "$\\frac{df}{dx} = 4f(x)$, eine beispielhafte DGL\n",
    "\n",
    "Falls Sie Ihr Schulwissen über Gleichungen, Funktionen und Ableitungen auffrischen möchten, lesen Sie [dieses Notebook](link einfügen).\n",
    "\n",
    "___"
   ]
  },
  {
   "cell_type": "markdown",
   "metadata": {},
   "source": [
    "## Einfaches Wachstumsmodell\n",
    "\n",
    "Wachstum, also die Änderung der Zellzahl über die Zeit, ist proportional zur Zellzahl _N_. Der Proportionalitätsfaktor ist _r_. Je höher die Zellzahl, desto höher ist die Rate mit der die Zellzahl wächst (Diese Begründung bitte kurz sacken lassen).\n",
    "\n",
    "_Aufgabe 1.1:_ Wie sieht die beschriebene DGL aus?\n",
    "\n",
    "a) $\\frac{dN}{dt} = \\frac{r}{N}$\n",
    "\n",
    "b) $N(t) = rtN$\n",
    "\n",
    "c) $N(t) = \\frac{rN}{t}$\n",
    "\n",
    "d) $\\frac{dN}{dt} = rN$\n"
   ]
  },
  {
   "cell_type": "markdown",
   "metadata": {},
   "source": [
    "_Antwort:_ "
   ]
  },
  {
   "cell_type": "markdown",
   "metadata": {},
   "source": [
    "_Aufgabe 1.2:_ Beweisen Sie, dass $N(t) = N_0 *e^{rt}$ eine Lösung für die oben definierte Differentialgleichung ist.\n",
    "\n",
    "Hinweis: Leiten Sie die oben stehende geschlossene Form der Wachstumsgleichung nach $t$ ab und setzen Sie $N$ und die Ableitung in die Differenzialgleichung ein. Versuchen Sie diese Aufgabe innerhalb von 10 Minuten zu lösen. Fahren Sie ansonsten mit dem nächsten Abschnitt fort."
   ]
  },
  {
   "cell_type": "markdown",
   "metadata": {},
   "source": [
    "## Lösen von DGLs mit approximativen Verfahren\n",
    "\n",
    "Nicht immer ist eine Integration von Modellen möglich. Wie oben bewiesen ist das Integral tatsächlich eine Lösung der DGL. \n",
    "In der Biologie gibt es oftmals Fragestellungen oder Systeme, in denen eine Vielzahl von Parametern und Abhängigkeiten eine Rolle spielen und somit eine Integration nicht machbar ist. Glücklicherweise ist dies auch nicht notwendig. Denn das Wissen um das Verhalten der Steigung beschreibt den Funktionsverlauf meist ausreichend.  \n",
    "In der Mathematik erarbeitet man die Lösung einer solchen DGL über verschiedene (mögliche) Lösungswege, jedoch sind für viele DGLs nur approximative (= Näherungs-)Lösungen möglich.\n",
    "\n",
    "### Euler-Verfahren\n",
    "\n",
    "Ein Beispiel für eine solche Methode ist das nach _Leonhard Euler_ benannte **Euler-Verfahren**. Es handelt sich dabei um einen iterativen Algorithmus, d. h., dass eine bestimmte Berechnung mehrmals wiederholt wird, bei jeder Wiederholung jedoch mit veränderten Startbedingungen.  \n",
    "Für das Euler-Verfahren wird mind. 1 Startpunkt benötigt, z. B. $P(0|1)$. Daher wissen wir, dass der Kurvenverlauf auf jeden Fall an der t-Stelle $0$ $y = 1$ sein muss. Das bedeutet:\n",
    "\n",
    "$N(0) = 1$ bzw. $N_0 = 1$\n",
    "\n",
    "Zudem setzen wir eine sog. Schrittweite (wir nennen sie $h$). Die sagt aus, wie weit wir bei jedem Iterationsschritt nach rechts gehen (also um wieviel sich der $x$-Wert erhöht). In unserem Beispiel sei das:\n",
    "\n",
    "$h = 1$, also unser $t$ erhöht sich bei jedem Iterationsschritt um $1$.\n",
    "\n",
    "Jetzt fügen wir unsere Werte in die folgende Formel ein:\n",
    "\n",
    "$N_1 = N_0 + h · \\frac{dN}{dt}$\n",
    "\n",
    "und da $\\frac{dN}{dt} = rN$ ist folgt\n",
    "\n",
    "$N_1 = N_0 + h · r · N$, wobei wir für $N$ jetzt $N_0$ einsetzen:\n",
    "\n",
    "$N_1 = N_0 + h · r · N_0$\n",
    "\n",
    "Alle Werte eingesetzt:\n",
    "\n",
    "$N_1 = 1 + 1 · r · 1$, kurz: $N_1 = 1 + r$\n",
    "\n",
    "$r$ kennen wir nicht. Den Faktor nehmen wir für unser Beispiel mal an, und zwar als $r = 0.3$.\n",
    "\n",
    "$N_1 = 1 + 0.3$, daraus folgt: $N_1 = 1.3$\n",
    "\n",
    "Dies war der erste Iterationsschritt. Wir haben jetzt errechnet, dass (nach diesem Verfahren) bei $t = 1$ der $y$-Wert bei ungefähr $1.3$ liegt, also $P_1(1|1.3)$. Jeder folgende Schritt bezieht sich immer auf das Ergebnis des Schrittes davor:\n",
    "\n",
    "$N_2 = N_1 + h · r · N_1$\n",
    "\n",
    "eingesetzt:\n",
    "\n",
    "$N_2 = 1.3 + 1 · 0.3 · 1.3$\n",
    "\n",
    "$N_2 = 1.69$\n",
    "\n",
    "Dies kann man nun so oft wiederholen wie man will. Meist wird vorher bereits die Anzahl ($n$) an Schritten vorgegeben, bspw. $n = 10$, dann würde man also 10 Iterationsschritte berechnen.  \n",
    "**Wichtig:** Das Euler-Verfahren liefert einem keine fertige Funktion, sondern nur eine beliebige Reihe an Punkten, die _ungefähr_ (!) den Kurvenverlauf abbilden.\n",
    "\n",
    "Auf dem Papier würde eine solche Rechnung lange dauern. In der Informatik nutzen wir daher Programmbibliotheken, mit deren Hilfe wir uns vom Computer die Lösung _errechnen lassen_.  \n",
    "Im Codeblock unten finden Sie das Euler-Verfahren als Code und der vollständigen Berechnung unseres Beispiels:"
   ]
  },
  {
   "cell_type": "code",
   "execution_count": null,
   "metadata": {
    "dotnet_interactive": {
     "language": "fsharp"
    },
    "vscode": {
     "languageId": "dotnet-interactive.fsharp"
    }
   },
   "outputs": [],
   "source": [
    "// wir setzen unseren Faktor r:\n",
    "let r = 0.3\n",
    "\n",
    "// wir setzen das t0 von unserem Punkt P0, der ja (0|1) war:\n",
    "let t0 = 0.\n",
    "\n",
    "// und das dazugehörige y0:\n",
    "let y0 = 1.\n",
    "\n",
    "// die Schrittweite war 1:\n",
    "let h = 1.\n",
    "\n",
    "// und wir wollen 10 Iterationsschritte berechnen:\n",
    "let n = 10.\n",
    "\n",
    "// Lassen Sie sich nicht vom Code verwirren. Wichtig ist hier nur, dass der Algorithmus dem Euler-Verfahren entspricht.\n",
    "let berechneEuler x0 y0 f h n =\n",
    "    [|x0 .. h .. x0 + (n / (1. / h))|]\n",
    "    |> Array.scan (\n",
    "        fun acc x ->\n",
    "            acc + h * (f acc)\n",
    "    ) y0\n",
    "\n",
    "berechneEuler t0 y0 (fun t -> r * t) h n"
   ]
  },
  {
   "cell_type": "markdown",
   "metadata": {},
   "source": [
    "Hier das Ganze als Diagramm visualisiert:"
   ]
  },
  {
   "cell_type": "code",
   "execution_count": null,
   "metadata": {
    "dotnet_interactive": {
     "language": "fsharp"
    },
    "vscode": {
     "languageId": "dotnet-interactive.fsharp"
    }
   },
   "outputs": [],
   "source": [
    "// eine Zwischenspeicherung unseres Ergebnisses:\n",
    "let eulerYWerte = berechneEuler t0 y0 (fun t -> r * t) h n\n",
    "\n",
    "eulerYWerte\n",
    "|> Array.indexed\n",
    "|> Chart.Point\n",
    "|> Chart.withTitle \"Euler-Verfahren, Schrittweite = 1, Anzahl Punkte = 10\"\n",
    "|> Chart.withXAxisStyle \"t\"\n",
    "|> Chart.withYAxisStyle \"y-Werte\""
   ]
  },
  {
   "cell_type": "markdown",
   "metadata": {},
   "source": [
    "_Aufgabe 1.3.:_ Wie könnten Sie als Biolog:in einen solchen Startpunkt $P$ ermitteln?"
   ]
  },
  {
   "cell_type": "markdown",
   "metadata": {},
   "source": [
    "_Antwort:_"
   ]
  },
  {
   "cell_type": "markdown",
   "metadata": {},
   "source": [
    "Betrachten Sie folgende Abbildung aus der Vorlesung:\n",
    "\n",
    "![](../../images/day1/01_Euler1.png)  \n",
    "***Abbildung 2: Visualisierung des Euler-Verfahrens anhand eines Beispiels.***\n",
    "\n",
    "Wie Sie anhand von Abbildung 2 sehen, ist die rechnerischer Approximation mit dem Euler-Verfahren leider gar nicht so präzise. Man kann jedoch die Präzision erhöhen, indem man die Schrittweite verringert. "
   ]
  },
  {
   "cell_type": "code",
   "execution_count": null,
   "metadata": {
    "dotnet_interactive": {
     "language": "fsharp"
    },
    "vscode": {
     "languageId": "dotnet-interactive.fsharp"
    }
   },
   "outputs": [],
   "source": [
    "// neue Schrittweite 0.1\n",
    "let h2 = 0.1\n",
    "\n",
    "// wir erhöhen auch proportional die Anzahl der Punkte, um wieder bis t > 10 zu kommen\n",
    "let n2 = 100.\n",
    "\n",
    "// eine Zwischenspeicherung unseres neuen Ergebnisses:\n",
    "let eulerYWerte2 = berechneEuler t0 y0 (fun t -> r * t) h2 n2\n",
    "\n",
    "eulerYWerte2\n",
    "|> Array.mapi (fun i y -> float i * h2, y)\n",
    "|> Chart.Point\n",
    "|> Chart.withTitle \"Euler-Verfahren, Schrittweite = 0.1, Anzahl Punkte = 100\"\n",
    "|> Chart.withXAxisStyle \"t\"\n",
    "|> Chart.withYAxisStyle \"y-Werte\""
   ]
  },
  {
   "cell_type": "markdown",
   "metadata": {},
   "source": [
    "Vergleichen wir mal beide Kurven:"
   ]
  },
  {
   "cell_type": "code",
   "execution_count": null,
   "metadata": {
    "dotnet_interactive": {
     "language": "fsharp"
    },
    "vscode": {
     "languageId": "dotnet-interactive.fsharp"
    }
   },
   "outputs": [],
   "source": [
    "[|\n",
    "    eulerYWerte\n",
    "    |> Array.indexed\n",
    "    |> Chart.Point\n",
    "    |> Chart.withTraceInfo \"Schrittweite = 1\"\n",
    "    eulerYWerte2\n",
    "    |> Array.mapi (fun i y -> float i * h2, y)\n",
    "    |> Chart.Point\n",
    "    |> Chart.withTraceInfo \"Schrittweite = 0.1\"\n",
    "|]\n",
    "|> Chart.combine\n",
    "|> Chart.withTitle \"Approximation nach Euler-Verfahren\"\n",
    "|> Chart.withXAxisStyle \"t\"\n",
    "|> Chart.withYAxisStyle \"y-Werte\""
   ]
  },
  {
   "cell_type": "markdown",
   "metadata": {},
   "source": [
    "Mit der niedrigeren Schrittweite sieht das doch schon viel besser aus.  \n",
    "Leider ist das Euler-Verfahren relativ langsam, wenn man eine höhere Präzision zum Ziel hat.\n",
    "\n",
    "_Aufgabe 1.3.:_ Führen Sie beide folgenden Codeblocke mehrmals (3 bis 5×) aus und notieren Sie sich die Dauer, die die Berechnung gebraucht hat."
   ]
  },
  {
   "cell_type": "code",
   "execution_count": null,
   "metadata": {
    "dotnet_interactive": {
     "language": "fsharp"
    },
    "vscode": {
     "languageId": "dotnet-interactive.fsharp"
    }
   },
   "outputs": [],
   "source": [
    "berechneEuler t0 y0 (fun t -> r * t) h n"
   ]
  },
  {
   "cell_type": "code",
   "execution_count": null,
   "metadata": {
    "dotnet_interactive": {
     "language": "fsharp"
    },
    "vscode": {
     "languageId": "dotnet-interactive.fsharp"
    }
   },
   "outputs": [],
   "source": [
    "let h4 = 0.00000001\n",
    "\n",
    "let n3 = 100000000.\n",
    "\n",
    "berechneEuler t0 y0 (fun t -> r * t) h4 n3"
   ]
  },
  {
   "cell_type": "markdown",
   "metadata": {},
   "source": [
    "_Antwort_:\n",
    "- erster Codeblock: \n",
    "- zweiter Codeblock: "
   ]
  },
  {
   "cell_type": "markdown",
   "metadata": {},
   "source": [
    "### Runge-Kutta-Verfahren\n",
    "\n",
    "Die Mathematiker _Carl Runge_ und _Wilhelm Kutta_ haben sich um 1900 daher Verfahren überlegt, die ähnlich funktionieren wie das Euler-Verfahren, aber präziser sind. Man nennt diese und alle auf diesem Prinzip basierenden Verfahren _Runge-Kutta-Verfahren_, das Euler-Verfahren gehört ebenfalls dazu (auch wenn es bereits lange vorher entstand).  \n",
    "Ein Beispiel für ein solches Runge-Kutta-Verfahren ist das _Heun-Verfahren_, nach Karl Heun. Dieses funktioniert wie folgt:\n",
    "\n",
    "Die ersten Schritte verlaufen wie beim Euler-Verfahren: Man überlegt sich die Schrittweite $h$ und die Schrittanzahl $n$ und berechnet $P_1$ wie bekannt und danach $P_2$.  \n",
    "Jetzt nimmt man jedoch den Wert, den man für $P_2$ erhält und berechnet den Mittelwert aus diesem und aus $P_1$ und fügt diesen für $P_1$ ein (s. Abbildung 3). Idealerweise liegt die Steigung damit näher an der tatsächlichen Funktion. Mit jedem weiteren Punkt berechnet man das ganze Prozedere wie zuvor erneut.\n",
    "\n",
    "![](../../images/day1/01_heun1.png)  \n",
    "***Abbildung 3: Visualisierung des Heun-Verfahrens anhand eines Beispiels.***\n",
    "\n",
    "Oben sprachen wir von der Verwendung von Programmbibliotheken. Im Rest des Praktikums nutzen wir eine solche Programmbibliothek, die verschiedene Runge-Kutta-Verfahren zur Näherung anbietet. Algorithmen wie die der Programmbibliothek, die mathematische Probleme numerisch lösen, nennt man auch _Solver_.\n",
    "\n",
    "---\n",
    "\n",
    "Wir wollen nun die Wachstumsfunktion simulieren.\n",
    "\n",
    "Dies tun wir, indem wir dem Algorithmus folgende Anfangswerte geben:\n",
    "\n",
    "$N(t_0) = 100$\n",
    "\n",
    "$t_0 = 0$"
   ]
  },
  {
   "cell_type": "code",
   "execution_count": null,
   "metadata": {
    "dotnet_interactive": {
     "language": "fsharp"
    },
    "vscode": {
     "languageId": "dotnet-interactive.fsharp"
    }
   },
   "outputs": [],
   "source": [
    "// der Rechenalgorithmus der Programmbibliothek, die wir benutzen:\n",
    "let modelContext = \n",
    "    OdeContext(\n",
    "        OdeSolverMethod.RK546M, // das ist das Runge-Kutta-Verfahren, das wir verwenden wollen\n",
    "        OdeSolverOptions(\n",
    "            StepSize = 0.42 // hier stellen wir Optionen des Solvers ein, z. B. dass die Schrittweite 0.42 sein soll\n",
    "        )\n",
    "    )\n",
    "\n",
    "// Anfangswerte:\n",
    "let t0 = 0.\n",
    "let N0 = 100.0\n",
    "\n",
    "// unsere DGL als einfaches Modell (SimpleModel):\n",
    "let dN_dt : SimpleModel =\n",
    "    fun N t ->\n",
    "        let cellcount = N\n",
    "        let cellcount' = r * N\n",
    "        cellcount'\n"
   ]
  },
  {
   "cell_type": "markdown",
   "metadata": {},
   "source": [
    "Im Modell `dN_dt` sind nun alle relevanten Berechnungen bereits geschehen und man kann sich die Funktionswerte der simulierten Integration ausgeben lassen."
   ]
  },
  {
   "cell_type": "code",
   "execution_count": null,
   "metadata": {
    "dotnet_interactive": {
     "language": "fsharp"
    },
    "vscode": {
     "languageId": "dotnet-interactive.fsharp"
    }
   },
   "outputs": [],
   "source": [
    "// hier lassen wir den Solver die Berechnung machen\n",
    "let sim_dy_dx = \n",
    "    modelContext.OdeInt(t0, N0, dN_dt)\n",
    "    |> SolPoints.take 10\n",
    "    |> SolPoints.memorize\n",
    "\n",
    "sim_dy_dx"
   ]
  },
  {
   "cell_type": "markdown",
   "metadata": {},
   "source": [
    "_Aufgabe 1.4:_ Visualisieren Sie das Modell anhand der oben zwischengespeicherten 10 Datenpunkte und beschriften Sie die x- und y-Achse."
   ]
  },
  {
   "cell_type": "code",
   "execution_count": null,
   "metadata": {
    "dotnet_interactive": {
     "language": "fsharp"
    },
    "vscode": {
     "languageId": "dotnet-interactive.fsharp"
    }
   },
   "outputs": [],
   "source": [
    "let shapeOfLine =\n",
    "    LayoutObjects.Shape.init(ShapeType.Line,sim_dy_dx.[1].x,sim_dy_dx.[3].x,sim_dy_dx.[1].Y.[0],sim_dy_dx.[3].Y.[0],Line=Line.init(Dash=DrawingStyle.Dash))\n",
    "\n",
    "sim_dy_dx\n",
    "|> SolPoints.toPoints 1\n",
    "|> Chart.Point\n",
    "|> Chart.withShape(shapeOfLine)\n",
    "|> Chart.withTitle(\"Simulation des einfachen Wachstumsmodells\")\n",
    "|> Chart.withXAxisStyle(\"\")\n",
    "|> Chart.withYAxisStyle(\"\")"
   ]
  },
  {
   "cell_type": "markdown",
   "metadata": {},
   "source": [
    "_Aufgabe 1.5:_ Schätzen Sie grob die Steigung zum Zeitpunkt $t = 1$ ab. Entspricht sie der theoretischen Steigung aus der Differentialgleichung ($m = rN$)?\n",
    "  - Berechnen Sie die Steigung wie im unteren Schema (Abbildung 4) gezeigt\n",
    "    - Zoomen und hovern Sie über die Punkte um die Werte bei $t = 0.42$ und $t = 2.18$ angezeigt zu bekommen.\n",
    "  - Berechnen Sie die Steigung anhand der Differentialgleichung\n",
    "    - Bestimmen Sie $N$ an $t = 1$\n",
    "    - $r$ ist gegeben mit $r = 0.3$\n",
    "    - Berechnen Sie die Steigung $m = rN$\n",
    "  - Vergleichen Sie die Steigung durch Abschätzen mit der theoretischen Steigung der Differentialgleichung. Sind sie ähnlich?\n",
    "\n",
    "<img src=\"../../images/day1/02_Growth_slope.png\" width=30% />\n",
    "\n",
    "***Abbildung 4: Schematische Darstellung der Steigungsberechnung mit Beispiel.***\n",
    "\n",
    "_Aufgabe 1.6:_ Formulieren Sie die Wachstumsfunktion aus Aufgabe 1.2."
   ]
  },
  {
   "cell_type": "markdown",
   "metadata": {},
   "source": [
    "_Antwort:_"
   ]
  },
  {
   "cell_type": "code",
   "execution_count": null,
   "metadata": {
    "dotnet_interactive": {
     "language": "fsharp"
    },
    "vscode": {
     "languageId": "dotnet-interactive.fsharp"
    }
   },
   "outputs": [],
   "source": [
    "let y_exact =\n",
    "    fun t -> \n",
    "        N0*exp(r*t) //aufgabe\n",
    "\n",
    "[\n",
    "    sim_dy_dx\n",
    "    |> SolPoints.toPoints 1\n",
    "    |> Chart.Spline \n",
    "    |> Chart.withTraceInfo(\"simulation\");\n",
    "    \n",
    "    sim_dy_dx\n",
    "    |> SolPoints.map (fun p -> (p.x, y_exact p.x))\n",
    "    |> Chart.Point\n",
    "    |> Chart.withTraceInfo(\"exact\");\n",
    "\n",
    "]\n",
    "|> Chart.combine\n",
    "|> Chart.withTitle(\"Abbildung 3 - Simple growth model comparison\")\n",
    "|> Chart.withXAxisStyle(\"Time\")\n",
    "|> Chart.withYAxisStyle(\"Population size\")"
   ]
  }
 ],
 "metadata": {
  "kernelspec": {
   "display_name": ".NET (F#)",
   "language": "F#",
   "name": ".net-fsharp"
  },
  "language_info": {
   "name": "F#"
  }
 },
 "nbformat": 4,
 "nbformat_minor": 2
}
