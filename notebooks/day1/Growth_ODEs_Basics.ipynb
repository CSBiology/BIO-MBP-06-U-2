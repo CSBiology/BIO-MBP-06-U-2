{
 "cells": [
  {
   "cell_type": "code",
   "execution_count": null,
   "metadata": {
    "dotnet_interactive": {
     "language": "fsharp"
    },
    "vscode": {
     "languageId": "dotnet-interactive.fsharp"
    }
   },
   "outputs": [
    {
     "data": {
      "text/html": [
       "<div><div></div><div></div><div><strong>Installed Packages</strong><ul><li><span>FSharp.Stats, 0.4.7</span></li><li><span>FsODE, 0.0.1</span></li><li><span>Plotly.NET.Interactive, 3.0.2</span></li></ul></div></div>"
      ]
     },
     "metadata": {},
     "output_type": "display_data"
    },
    {
     "data": {
      "text/markdown": [
       "Loading extensions from `Plotly.NET.Interactive.dll`"
      ]
     },
     "metadata": {},
     "output_type": "display_data"
    }
   ],
   "source": [
    "#r \"nuget: FsODE, 0.0.1\"\n",
    "#r \"nuget: FSharp.Stats, 0.4.7\"\n",
    "#r \"nuget: Plotly.NET.Interactive, 3.0.2\"\n",
    "\n",
    "open FsODE\n",
    "open Plotly.NET\n",
    "open Plotly.NET.LayoutObjects\n",
    "open Plotly.NET.StyleParam\n",
    "open FSharp.Stats"
   ]
  },
  {
   "cell_type": "markdown",
   "metadata": {},
   "source": [
    "# Tag 1 – Einführung in die Wachstumsmodellierung und Grundlagen einfacher Differentialgleichungen\n",
    "\n",
    "In biologischen Systemen gibt es verschiedene Aspekte und Gesetzmäßigkeiten, die man modellieren kann. Ein besonders häufiger und beliebter Aspekt in der Biologie ist das Wachstum. So kann man das Wachstum von Zellen, von Geweben, von Organen und Organismen, von Populationen und von Stoffmengen untersuchen. Dazu gehört auch das negative Wachstum, auch Zerfall oder Abfall genannt. Beispiele hierfür sind der Verbrauch von Substrat durch Lebewesen in einer Umgebung oder das Eingehen (Absterben) von Pflanzenindividuen auf einer Wiese infolge von anhaltender Dürre und Trockenheit.\n",
    "\n",
    "Am ersten Tag unseres Grundpraktikums behandeln wir grundlegende Eigenschaften von Wachstum und deren Modellierung.\n",
    "\n",
    "## Was ist Wachstumsmodellierung?\n",
    "\n",
    "Wissenschaftliche Modelle sind Abstraktionen der Wirklichkeit. Das Ziel ist, mit einem Modell einen (meist komplexen) Sachverhalt zu beschreiben.  \n",
    "Um Wachstum zu beschreiben, verwenden wir gedankliche Modelle (_mental models_), die biologische Gesetzmäßigkeiten möglichst präzise abbilden sollen. Modellierung an sich ist in der Biologie sehr wichtig, um Veränderungen und Wechselwirkungen erklären und mehr oder weniger präzise (je nach Güte des Modells) vorhersagen zu können.\n",
    "\n",
    "Zu den ältesten und _vermeintlich_ einfachsten Experimenten gehört die Analyse von Wachstum. Dieses kann je nach untersuchtem System durch verschiedene Parameter beschrieben werden. Steht der Organismus im Fokus, so sind Gewicht, Länge oder Größe von Interesse. Bei Populationen geht es meist um eine Zell- oder Individuenzahl pro definiertem Volumen oder Fläche (Populationsdichte).\n",
    "Im Labor können verschiedene Wachstumsbedingungen künstlich erzeugt werden und damit der Einfluss jedes einzelnen Faktors – getrennt oder kombiniert – untersucht werden. Zum Beispiel können Bakterien statt auf Standardmedium mit Glucose auf Medium mit Galactose angezogen werden. Eine eventuell nötige Umwandlung von Galactose in Glucose, oder aufwendigere metabolische Reaktionen führen hier zu langsamerem Wachstum. Dies lässt sich in der Regel durch einfache Absorptionsmessungen im Photometer beweisen. Ein vermindertes Wachstum geht hier mit einer langsameren Trübung (niedrigere optische Dichte) des Mediums einher, was auf einem Graphen leicht visualisiert werden kann.\n",
    "\n",
    "![](https://raw.githubusercontent.com/CSBiology/BIO-MBP-06-U-2/main/images/day1/01_Growth_01_small.png)  \n",
    "***Abbildung 1: Beispiel für einen Wachstumsverlauf.*** _Aufzucht von Bakterien in einem Glucose- bzw. Galactose-haltigen Medium. Die y-Achse gibt die Absorption im Photometer bei einer bestimmten optischen Dichte an._\n",
    "\n",
    "Leider kann der Wachstumsunterschied mit dem oben gezeigten Datensatz nicht quantifiziert werden. Zwar kann die zeitliche Differenz zwischen zwei Punkten gleicher optischer Dichte bestimmt werden (Kreuze in Abbildung 1), jedoch ist diese Differenz sowohl stark von den gewählten Messzeitpunkten, als auch von den vorliegenden (unbekannten) Wachstumsphasen abhängig. Außerdem verläuft die Trübung nicht linear. Das bedeutet, dass sich bei einer Zellverdopplung nicht automatisch auch die Absorption verdoppelt. Für qualitative Aussagen ist diese Methode ausreichend, für quantitative Analysen aber ungeeignet.\n",
    "\n",
    "Wesentlich aussagekräftiger ist eine Bestimmung der absoluten Zellkonzentration eines bekannten Wachstumsmodells. Die so ermittelten Parameter können für quantitative und vergleichende Analysen von z. B. Glucose- und Galactosemedium verwendet werden. Das einfachste Wachstumsmodell wollen wir uns im Folgenden anschauen.  \n",
    "\n",
    "____"
   ]
  },
  {
   "cell_type": "markdown",
   "metadata": {},
   "source": [
    "## Exkurs: Änderungsgleichungen\n",
    "\n",
    "Biologische Prozesse können meist mit Änderungsgleichungen (= Differentialgleichungen, kurz: DGLs) dargestellt werden. Hierbei handelt es sich um eine Beschreibung der Änderung in Abhängigkeit der sich ändernden Größe. Die exakte Lösung einer solchen Änderungsgleichung ergibt die Funktion, mit der sich der biologische Sachverhalt (hier: die Wachstumsfunktion) adäquat beschreiben lässt.\n",
    "\n",
    "$\\frac{df}{dx} = 4f(x)$, eine beispielhafte DGL\n",
    "\n",
    "Falls Sie Ihr Schulwissen über Gleichungen, Funktionen und Ableitungen auffrischen möchten, lesen Sie [dieses Notebook](link einfügen).\n",
    "\n",
    "___"
   ]
  },
  {
   "cell_type": "markdown",
   "metadata": {},
   "source": [
    "## Einfaches Wachstumsmodell\n",
    "\n",
    "Wachstum, also die Änderung der Zellzahl über die Zeit, ist proportional zur Zellzahl $N$. Der Proportionalitätsfaktor ist $r$. Je höher die Zellzahl, desto höher ist die Rate, mit der die Zellzahl wächst (Diese Begründung bitte kurz sacken lassen).\n",
    "\n",
    "_Aufgabe 1.1:_ Wie sieht die beschriebene DGL aus?\n",
    "\n",
    "a) $\\frac{dN}{dt} = \\frac{r}{N}$\n",
    "\n",
    "b) $N(t) = rtN$\n",
    "\n",
    "c) $N(t) = \\frac{rN}{t}$\n",
    "\n",
    "d) $\\frac{dN}{dt} = rN$\n"
   ]
  },
  {
   "cell_type": "markdown",
   "metadata": {},
   "source": [
    "_Antwort:_ "
   ]
  },
  {
   "cell_type": "markdown",
   "metadata": {},
   "source": [
    "_Aufgabe 1.2:_ Beweisen Sie, dass $N(t) = N_0 · e^{rt}$ eine Lösung für die oben definierte Differentialgleichung ist.\n",
    "\n",
    "Hinweis: Leiten Sie die oben stehende geschlossene Form der Wachstumsgleichung nach $t$ ab und setzen Sie $N$ und die Ableitung in die Differenzialgleichung ein. Versuchen Sie diese Aufgabe innerhalb von 10 Minuten zu lösen. Fahren Sie ansonsten mit dem nächsten Abschnitt fort."
   ]
  },
  {
   "cell_type": "markdown",
   "metadata": {},
   "source": [
    "## Simulation von Änderungsgleichungen mit approximativen Verfahren\n",
    "\n",
    "Selten ist eine Integration von Modellen möglich. Wie oben bewiesen ist das Integral tatsächlich eine Lösung der DGL. \n",
    "In der Biologie gibt es oftmals Fragestellungen oder Systeme, in denen eine Vielzahl von Parametern und Abhängigkeiten eine Rolle spielen und somit eine Integration nicht machbar ist. Glücklicherweise ist dies auch nicht notwendig. Denn das Wissen um das Verhalten der Steigung beschreibt den Funktionsverlauf meist ausreichend.  \n",
    "In der Mathematik erarbeitet man die Lösung einer solchen Änderungsgleichung über verschiedene (mögliche) Lösungswege, jedoch sind für viele DGLs nur approximative (= Näherungs-)Lösungen möglich.\n",
    "\n",
    "### Euler-Verfahren\n",
    "\n",
    "Ein Beispiel für eine solche Methode ist das nach _Leonhard Euler_ benannte **Euler-Verfahren**. Es handelt sich dabei um einen iterativen Algorithmus, d. h., dass eine bestimmte Berechnung mehrmals wiederholt wird, bei jeder Wiederholung jedoch mit veränderten Startbedingungen.  \n",
    "Wir werden anhand des Beispiels der Bakterienkultur das Euler-Verfahren Schritt für Schritt erklären:  \n",
    "Für das Euler-Verfahren wird mind. 1 Startpunkt benötigt, z. B. $P(0|100)$, das wäre also die Bakteriendichte von $100$ zum Zeitpunkt $t = 0$ Minuten. Daher wissen wir, dass der Kurvenverlauf auf jeden Fall an der $t$-Stelle $0$ $y = 100$ sein muss. Das bedeutet:\n",
    "\n",
    "$N(0) = 100$ bzw. $N_0 = 100$\n",
    "\n",
    "Zudem setzen wir eine sog. Schrittweite (wir nennen sie $h$). Die sagt aus, wie weit wir bei jedem Iterationsschritt nach rechts gehen (also um wieviel sich der $t$-Wert erhöht). In unserem Beispiel sei das:\n",
    "\n",
    "$h = 1$, also unser $t$ erhöht sich bei jedem Iterationsschritt um $1$.\n",
    "\n",
    "Jetzt fügen wir unsere Werte in die folgende Formel ein:\n",
    "\n",
    "$N_1 = N_0 + h · \\frac{dN}{dt}$, das bedeutet: Zum Zeitpunkt $t = 1$ ist die Bakterienpopulation gewachsen und zwar um den Faktor der Änderung nach der Zeit mit der Schrittweite.\n",
    "\n",
    "und da $\\frac{dN}{dt} = rN$ ist folgt\n",
    "\n",
    "$N_1 = N_0 + h · r · N$, wobei wir für $N$ jetzt $N_0$ einsetzen:\n",
    "\n",
    "$N_1 = N_0 + h · r · N_0$\n",
    "\n",
    "Alle Werte eingesetzt:\n",
    "\n",
    "$N_1 = 100 + 1 · r · 100$, kurz: $N_1 = 100 + 100r$\n",
    "\n",
    "$r$, das ist der Wachstumsfaktor unserer Bakterienkultur, kennen wir noch nicht. Für unser Beispiel nehmen wir mal an, $r = 0.3$.\n",
    "\n",
    "$N_1 = 100 + 0.3 * 100$, daraus folgt: $N_1 = 130$\n",
    "\n",
    "Dies war der erste Iterationsschritt. Wir haben jetzt errechnet, dass (nach diesem Verfahren) bei $t = 1$ der $y$-Wert (also die Bakteriendichte) bei $130$ liegt, also $P_1(1|130)$ ist. Jeder folgende Schritt bezieht sich immer auf das Ergebnis des Schrittes davor:\n",
    "\n",
    "$N_2 = N_1 + h · r · N_1$\n",
    "\n",
    "eingesetzt:\n",
    "\n",
    "$N_2 = 130 + 1 · 0.3 · 130$\n",
    "\n",
    "$N_2 = 169$, nach zwei Minuten ist also die Bakteriendichte bereits bei einem Wert von 169 angelangt.\n",
    "\n",
    "Dies kann man nun so oft wiederholen wie man will. Meist wird vorher bereits die Anzahl ($n$) an Schritten vorgegeben, bspw. $n = 10$, dann würde man also 10 Iterationsschritte berechnen.  \n",
    "**Wichtig:** Das Euler-Verfahren liefert einem keine fertige Funktion, sondern nur eine beliebige Reihe an Punkten, die _ungefähr_ (!) den Kurvenverlauf abbilden.\n",
    "\n",
    "Auf dem Papier würde eine solche Rechnung lange dauern. In der Informatik nutzen wir daher Programme, mit deren Hilfe wir uns vom Computer die Lösung _errechnen lassen_.  \n",
    "Im Codeblock unten finden Sie das Euler-Verfahren als Code und der vollständigen Berechnung unseres Beispiels:"
   ]
  },
  {
   "cell_type": "code",
   "execution_count": null,
   "metadata": {
    "dotnet_interactive": {
     "language": "fsharp"
    },
    "vscode": {
     "languageId": "dotnet-interactive.fsharp"
    }
   },
   "outputs": [
    {
     "data": {
      "text/html": [
       "<table><thead><tr><th><i>index</i></th><th>value</th></tr></thead><tbody><tr><td>0</td><td><div class=\"dni-plaintext\">100</div></td></tr><tr><td>1</td><td><div class=\"dni-plaintext\">130</div></td></tr><tr><td>2</td><td><div class=\"dni-plaintext\">169</div></td></tr><tr><td>3</td><td><div class=\"dni-plaintext\">219.7</div></td></tr><tr><td>4</td><td><div class=\"dni-plaintext\">285.61</div></td></tr><tr><td>5</td><td><div class=\"dni-plaintext\">371.293</div></td></tr><tr><td>6</td><td><div class=\"dni-plaintext\">482.6809</div></td></tr><tr><td>7</td><td><div class=\"dni-plaintext\">627.48517</div></td></tr><tr><td>8</td><td><div class=\"dni-plaintext\">815.730721</div></td></tr><tr><td>9</td><td><div class=\"dni-plaintext\">1060.4499373</div></td></tr><tr><td>10</td><td><div class=\"dni-plaintext\">1378.58491849</div></td></tr><tr><td>11</td><td><div class=\"dni-plaintext\">1792.160394037</div></td></tr></tbody></table>"
      ]
     },
     "metadata": {},
     "output_type": "display_data"
    }
   ],
   "source": [
    "// wir setzen unseren Faktor r:\n",
    "let r = 0.3\n",
    "\n",
    "// wir setzen das t0 von unserem Punkt P0, der ja (0|100) war:\n",
    "let t0 = 0.\n",
    "\n",
    "// und das dazugehörige y0 (der Startwert unserer Bakteriendichte):\n",
    "let y0 = 100.\n",
    "\n",
    "// die Schrittweite war 1:\n",
    "let h = 1.\n",
    "\n",
    "// und wir wollen 10 Iterationsschritte berechnen:\n",
    "let n = 10.\n",
    "\n",
    "// Lassen Sie sich nicht vom Code verwirren. Wichtig ist hier nur, dass der Algorithmus dem Euler-Verfahren entspricht.\n",
    "let berechneEuler x0 y0 f h n =\n",
    "    [|x0 .. h .. x0 + (n / (1. / h))|]\n",
    "    |> Array.scan (\n",
    "        fun acc x ->\n",
    "            acc + h * (f acc)\n",
    "    ) y0\n",
    "\n",
    "berechneEuler t0 y0 (fun t -> r * t) h n"
   ]
  },
  {
   "cell_type": "markdown",
   "metadata": {},
   "source": [
    "Hier das Ganze als Diagramm visualisiert:"
   ]
  },
  {
   "cell_type": "code",
   "execution_count": null,
   "metadata": {
    "dotnet_interactive": {
     "language": "fsharp"
    },
    "vscode": {
     "languageId": "dotnet-interactive.fsharp"
    }
   },
   "outputs": [
    {
     "data": {
      "text/html": [
       "\n",
       "<div>\n",
       "    <div id=\"eb052d55-bd9f-4368-a11f-e776883d0652\"><!-- Plotly chart will be drawn inside this DIV --></div>\r\n",
       "<script type=\"text/javascript\">\r\n",
       "\r\n",
       "            var renderPlotly_eb052d55bd9f4368a11fe776883d0652 = function() {\r\n",
       "            var fsharpPlotlyRequire = requirejs.config({context:'fsharp-plotly',paths:{plotly:'https://cdn.plot.ly/plotly-2.6.3.min'}}) || require;\r\n",
       "            fsharpPlotlyRequire(['plotly'], function(Plotly) {\r\n",
       "\r\n",
       "            var data = [{\"type\":\"scatter\",\"mode\":\"markers\",\"x\":[0,1,2,3,4,5,6,7,8,9,10,11],\"y\":[100.0,130.0,169.0,219.7,285.61,371.293,482.6809,627.48517,815.730721,1060.4499373,1378.58491849,1792.160394037],\"marker\":{},\"line\":{}}];\r\n",
       "            var layout = {\"width\":600,\"height\":600,\"template\":{\"layout\":{\"title\":{\"x\":0.05},\"font\":{\"color\":\"rgba(42, 63, 95, 1.0)\"},\"paper_bgcolor\":\"rgba(255, 255, 255, 1.0)\",\"plot_bgcolor\":\"rgba(229, 236, 246, 1.0)\",\"autotypenumbers\":\"strict\",\"colorscale\":{\"diverging\":[[0.0,\"#8e0152\"],[0.1,\"#c51b7d\"],[0.2,\"#de77ae\"],[0.3,\"#f1b6da\"],[0.4,\"#fde0ef\"],[0.5,\"#f7f7f7\"],[0.6,\"#e6f5d0\"],[0.7,\"#b8e186\"],[0.8,\"#7fbc41\"],[0.9,\"#4d9221\"],[1.0,\"#276419\"]],\"sequential\":[[0.0,\"#0d0887\"],[0.1111111111111111,\"#46039f\"],[0.2222222222222222,\"#7201a8\"],[0.3333333333333333,\"#9c179e\"],[0.4444444444444444,\"#bd3786\"],[0.5555555555555556,\"#d8576b\"],[0.6666666666666666,\"#ed7953\"],[0.7777777777777778,\"#fb9f3a\"],[0.8888888888888888,\"#fdca26\"],[1.0,\"#f0f921\"]],\"sequentialminus\":[[0.0,\"#0d0887\"],[0.1111111111111111,\"#46039f\"],[0.2222222222222222,\"#7201a8\"],[0.3333333333333333,\"#9c179e\"],[0.4444444444444444,\"#bd3786\"],[0.5555555555555556,\"#d8576b\"],[0.6666666666666666,\"#ed7953\"],[0.7777777777777778,\"#fb9f3a\"],[0.8888888888888888,\"#fdca26\"],[1.0,\"#f0f921\"]]},\"hovermode\":\"closest\",\"hoverlabel\":{\"align\":\"left\"},\"coloraxis\":{\"colorbar\":{\"outlinewidth\":0.0,\"ticks\":\"\"}},\"geo\":{\"showland\":true,\"landcolor\":\"rgba(229, 236, 246, 1.0)\",\"showlakes\":true,\"lakecolor\":\"rgba(255, 255, 255, 1.0)\",\"subunitcolor\":\"rgba(255, 255, 255, 1.0)\",\"bgcolor\":\"rgba(255, 255, 255, 1.0)\"},\"mapbox\":{\"style\":\"light\"},\"polar\":{\"bgcolor\":\"rgba(229, 236, 246, 1.0)\",\"radialaxis\":{\"linecolor\":\"rgba(255, 255, 255, 1.0)\",\"gridcolor\":\"rgba(255, 255, 255, 1.0)\",\"ticks\":\"\"},\"angularaxis\":{\"linecolor\":\"rgba(255, 255, 255, 1.0)\",\"gridcolor\":\"rgba(255, 255, 255, 1.0)\",\"ticks\":\"\"}},\"scene\":{\"xaxis\":{\"ticks\":\"\",\"linecolor\":\"rgba(255, 255, 255, 1.0)\",\"gridcolor\":\"rgba(255, 255, 255, 1.0)\",\"gridwidth\":2.0,\"zerolinecolor\":\"rgba(255, 255, 255, 1.0)\",\"backgroundcolor\":\"rgba(229, 236, 246, 1.0)\",\"showbackground\":true},\"yaxis\":{\"ticks\":\"\",\"linecolor\":\"rgba(255, 255, 255, 1.0)\",\"gridcolor\":\"rgba(255, 255, 255, 1.0)\",\"gridwidth\":2.0,\"zerolinecolor\":\"rgba(255, 255, 255, 1.0)\",\"backgroundcolor\":\"rgba(229, 236, 246, 1.0)\",\"showbackground\":true},\"zaxis\":{\"ticks\":\"\",\"linecolor\":\"rgba(255, 255, 255, 1.0)\",\"gridcolor\":\"rgba(255, 255, 255, 1.0)\",\"gridwidth\":2.0,\"zerolinecolor\":\"rgba(255, 255, 255, 1.0)\",\"backgroundcolor\":\"rgba(229, 236, 246, 1.0)\",\"showbackground\":true}},\"ternary\":{\"aaxis\":{\"ticks\":\"\",\"linecolor\":\"rgba(255, 255, 255, 1.0)\",\"gridcolor\":\"rgba(255, 255, 255, 1.0)\"},\"baxis\":{\"ticks\":\"\",\"linecolor\":\"rgba(255, 255, 255, 1.0)\",\"gridcolor\":\"rgba(255, 255, 255, 1.0)\"},\"caxis\":{\"ticks\":\"\",\"linecolor\":\"rgba(255, 255, 255, 1.0)\",\"gridcolor\":\"rgba(255, 255, 255, 1.0)\"},\"bgcolor\":\"rgba(229, 236, 246, 1.0)\"},\"xaxis\":{\"title\":{\"standoff\":15},\"ticks\":\"\",\"automargin\":true,\"linecolor\":\"rgba(255, 255, 255, 1.0)\",\"gridcolor\":\"rgba(255, 255, 255, 1.0)\",\"zerolinecolor\":\"rgba(255, 255, 255, 1.0)\",\"zerolinewidth\":2.0},\"yaxis\":{\"title\":{\"standoff\":15},\"ticks\":\"\",\"automargin\":true,\"linecolor\":\"rgba(255, 255, 255, 1.0)\",\"gridcolor\":\"rgba(255, 255, 255, 1.0)\",\"zerolinecolor\":\"rgba(255, 255, 255, 1.0)\",\"zerolinewidth\":2.0},\"annotationdefaults\":{\"arrowcolor\":\"#2a3f5f\",\"arrowhead\":0,\"arrowwidth\":1},\"shapedefaults\":{\"line\":{\"color\":\"rgba(42, 63, 95, 1.0)\"}},\"colorway\":[\"rgba(99, 110, 250, 1.0)\",\"rgba(239, 85, 59, 1.0)\",\"rgba(0, 204, 150, 1.0)\",\"rgba(171, 99, 250, 1.0)\",\"rgba(255, 161, 90, 1.0)\",\"rgba(25, 211, 243, 1.0)\",\"rgba(255, 102, 146, 1.0)\",\"rgba(182, 232, 128, 1.0)\",\"rgba(255, 151, 255, 1.0)\",\"rgba(254, 203, 82, 1.0)\"]},\"data\":{\"bar\":[{\"marker\":{\"line\":{\"color\":\"rgba(229, 236, 246, 1.0)\",\"width\":0.5},\"pattern\":{\"fillmode\":\"overlay\",\"size\":10,\"solidity\":0.2}},\"error_x\":{\"color\":\"rgba(42, 63, 95, 1.0)\"},\"error_y\":{\"color\":\"rgba(42, 63, 95, 1.0)\"}}],\"barpolar\":[{\"marker\":{\"line\":{\"color\":\"rgba(229, 236, 246, 1.0)\",\"width\":0.5},\"pattern\":{\"fillmode\":\"overlay\",\"size\":10,\"solidity\":0.2}}}],\"carpet\":[{\"aaxis\":{\"linecolor\":\"rgba(255, 255, 255, 1.0)\",\"gridcolor\":\"rgba(255, 255, 255, 1.0)\",\"endlinecolor\":\"rgba(42, 63, 95, 1.0)\",\"minorgridcolor\":\"rgba(255, 255, 255, 1.0)\",\"startlinecolor\":\"rgba(42, 63, 95, 1.0)\"},\"baxis\":{\"linecolor\":\"rgba(255, 255, 255, 1.0)\",\"gridcolor\":\"rgba(255, 255, 255, 1.0)\",\"endlinecolor\":\"rgba(42, 63, 95, 1.0)\",\"minorgridcolor\":\"rgba(255, 255, 255, 1.0)\",\"startlinecolor\":\"rgba(42, 63, 95, 1.0)\"}}],\"choropleth\":[{\"colorbar\":{\"outlinewidth\":0.0,\"ticks\":\"\"},\"colorscale\":[[0.0,\"#0d0887\"],[0.1111111111111111,\"#46039f\"],[0.2222222222222222,\"#7201a8\"],[0.3333333333333333,\"#9c179e\"],[0.4444444444444444,\"#bd3786\"],[0.5555555555555556,\"#d8576b\"],[0.6666666666666666,\"#ed7953\"],[0.7777777777777778,\"#fb9f3a\"],[0.8888888888888888,\"#fdca26\"],[1.0,\"#f0f921\"]]}],\"contour\":[{\"colorbar\":{\"outlinewidth\":0.0,\"ticks\":\"\"},\"colorscale\":[[0.0,\"#0d0887\"],[0.1111111111111111,\"#46039f\"],[0.2222222222222222,\"#7201a8\"],[0.3333333333333333,\"#9c179e\"],[0.4444444444444444,\"#bd3786\"],[0.5555555555555556,\"#d8576b\"],[0.6666666666666666,\"#ed7953\"],[0.7777777777777778,\"#fb9f3a\"],[0.8888888888888888,\"#fdca26\"],[1.0,\"#f0f921\"]]}],\"contourcarpet\":[{\"colorbar\":{\"outlinewidth\":0.0,\"ticks\":\"\"}}],\"heatmap\":[{\"colorbar\":{\"outlinewidth\":0.0,\"ticks\":\"\"},\"colorscale\":[[0.0,\"#0d0887\"],[0.1111111111111111,\"#46039f\"],[0.2222222222222222,\"#7201a8\"],[0.3333333333333333,\"#9c179e\"],[0.4444444444444444,\"#bd3786\"],[0.5555555555555556,\"#d8576b\"],[0.6666666666666666,\"#ed7953\"],[0.7777777777777778,\"#fb9f3a\"],[0.8888888888888888,\"#fdca26\"],[1.0,\"#f0f921\"]]}],\"heatmapgl\":[{\"colorbar\":{\"outlinewidth\":0.0,\"ticks\":\"\"},\"colorscale\":[[0.0,\"#0d0887\"],[0.1111111111111111,\"#46039f\"],[0.2222222222222222,\"#7201a8\"],[0.3333333333333333,\"#9c179e\"],[0.4444444444444444,\"#bd3786\"],[0.5555555555555556,\"#d8576b\"],[0.6666666666666666,\"#ed7953\"],[0.7777777777777778,\"#fb9f3a\"],[0.8888888888888888,\"#fdca26\"],[1.0,\"#f0f921\"]]}],\"histogram\":[{\"marker\":{\"pattern\":{\"fillmode\":\"overlay\",\"size\":10,\"solidity\":0.2}}}],\"histogram2d\":[{\"colorbar\":{\"outlinewidth\":0.0,\"ticks\":\"\"},\"colorscale\":[[0.0,\"#0d0887\"],[0.1111111111111111,\"#46039f\"],[0.2222222222222222,\"#7201a8\"],[0.3333333333333333,\"#9c179e\"],[0.4444444444444444,\"#bd3786\"],[0.5555555555555556,\"#d8576b\"],[0.6666666666666666,\"#ed7953\"],[0.7777777777777778,\"#fb9f3a\"],[0.8888888888888888,\"#fdca26\"],[1.0,\"#f0f921\"]]}],\"histogram2dcontour\":[{\"colorbar\":{\"outlinewidth\":0.0,\"ticks\":\"\"},\"colorscale\":[[0.0,\"#0d0887\"],[0.1111111111111111,\"#46039f\"],[0.2222222222222222,\"#7201a8\"],[0.3333333333333333,\"#9c179e\"],[0.4444444444444444,\"#bd3786\"],[0.5555555555555556,\"#d8576b\"],[0.6666666666666666,\"#ed7953\"],[0.7777777777777778,\"#fb9f3a\"],[0.8888888888888888,\"#fdca26\"],[1.0,\"#f0f921\"]]}],\"mesh3d\":[{\"colorbar\":{\"outlinewidth\":0.0,\"ticks\":\"\"}}],\"parcoords\":[{\"line\":{\"colorbar\":{\"outlinewidth\":0.0,\"ticks\":\"\"}}}],\"pie\":[{\"automargin\":true}],\"scatter\":[{\"marker\":{\"colorbar\":{\"outlinewidth\":0.0,\"ticks\":\"\"}}}],\"scatter3d\":[{\"marker\":{\"colorbar\":{\"outlinewidth\":0.0,\"ticks\":\"\"}},\"line\":{\"colorbar\":{\"outlinewidth\":0.0,\"ticks\":\"\"}}}],\"scattercarpet\":[{\"marker\":{\"colorbar\":{\"outlinewidth\":0.0,\"ticks\":\"\"}}}],\"scattergeo\":[{\"marker\":{\"colorbar\":{\"outlinewidth\":0.0,\"ticks\":\"\"}}}],\"scattergl\":[{\"marker\":{\"colorbar\":{\"outlinewidth\":0.0,\"ticks\":\"\"}}}],\"scattermapbox\":[{\"marker\":{\"colorbar\":{\"outlinewidth\":0.0,\"ticks\":\"\"}}}],\"scatterpolar\":[{\"marker\":{\"colorbar\":{\"outlinewidth\":0.0,\"ticks\":\"\"}}}],\"scatterpolargl\":[{\"marker\":{\"colorbar\":{\"outlinewidth\":0.0,\"ticks\":\"\"}}}],\"scatterternary\":[{\"marker\":{\"colorbar\":{\"outlinewidth\":0.0,\"ticks\":\"\"}}}],\"surface\":[{\"colorbar\":{\"outlinewidth\":0.0,\"ticks\":\"\"},\"colorscale\":[[0.0,\"#0d0887\"],[0.1111111111111111,\"#46039f\"],[0.2222222222222222,\"#7201a8\"],[0.3333333333333333,\"#9c179e\"],[0.4444444444444444,\"#bd3786\"],[0.5555555555555556,\"#d8576b\"],[0.6666666666666666,\"#ed7953\"],[0.7777777777777778,\"#fb9f3a\"],[0.8888888888888888,\"#fdca26\"],[1.0,\"#f0f921\"]]}],\"table\":[{\"cells\":{\"fill\":{\"color\":\"rgba(235, 240, 248, 1.0)\"},\"line\":{\"color\":\"rgba(255, 255, 255, 1.0)\"}},\"header\":{\"fill\":{\"color\":\"rgba(200, 212, 227, 1.0)\"},\"line\":{\"color\":\"rgba(255, 255, 255, 1.0)\"}}}]}},\"title\":{\"text\":\"Euler-Verfahren, Schrittweite = 1, Anzahl Punkte = 10\"},\"xaxis\":{\"title\":{\"text\":\"t [min]\"}},\"yaxis\":{\"title\":{\"text\":\"Bakteriendichte\"}}};\r\n",
       "            var config = {\"responsive\":true};\r\n",
       "            Plotly.newPlot('eb052d55-bd9f-4368-a11f-e776883d0652', data, layout, config);\r\n",
       "});\r\n",
       "            };\r\n",
       "            if ((typeof(requirejs) !==  typeof(Function)) || (typeof(requirejs.config) !== typeof(Function))) {\r\n",
       "                var script = document.createElement(\"script\");\r\n",
       "                script.setAttribute(\"src\", \"https://cdnjs.cloudflare.com/ajax/libs/require.js/2.3.6/require.min.js\");\r\n",
       "                script.onload = function(){\r\n",
       "                    renderPlotly_eb052d55bd9f4368a11fe776883d0652();\r\n",
       "                };\r\n",
       "                document.getElementsByTagName(\"head\")[0].appendChild(script);\r\n",
       "            }\r\n",
       "            else {\r\n",
       "                renderPlotly_eb052d55bd9f4368a11fe776883d0652();\r\n",
       "            }\r\n",
       "</script>\r\n",
       "\n",
       "    \n",
       "</div>    \n"
      ]
     },
     "metadata": {},
     "output_type": "display_data"
    }
   ],
   "source": [
    "// eine Zwischenspeicherung unseres Ergebnisses:\n",
    "let eulerYWerte = berechneEuler t0 y0 (fun t -> r * t) h n\n",
    "\n",
    "eulerYWerte\n",
    "|> Array.indexed\n",
    "|> Chart.Point\n",
    "|> Chart.withTitle \"Euler-Verfahren, Schrittweite = 1, Anzahl Punkte = 10\"\n",
    "|> Chart.withXAxisStyle \"t [min]\"\n",
    "|> Chart.withYAxisStyle \"Bakteriendichte\""
   ]
  },
  {
   "cell_type": "markdown",
   "metadata": {},
   "source": [
    "_Aufgabe 1.3.:_ Wie könnten Sie als Biolog:in einen solchen Startpunkt $P$ experimentell bestimmen?"
   ]
  },
  {
   "cell_type": "markdown",
   "metadata": {},
   "source": [
    "_Antwort:_"
   ]
  },
  {
   "cell_type": "markdown",
   "metadata": {},
   "source": [
    "Betrachten Sie folgende Abbildung aus der Vorlesung:\n",
    "\n",
    "![](https://raw.githubusercontent.com/CSBiology/BIO-MBP-06-U-2/main/images/day1/01_euler1_small.png)  \n",
    "***Abbildung 2: Visualisierung des Euler-Verfahrens anhand eines Beispiels.***\n",
    "\n",
    "Wie Sie anhand von Abbildung 2 sehen, ist die rechnerischer Approximation mit dem Euler-Verfahren leider gar nicht so präzise. Man kann jedoch die Präzision erhöhen, indem man die Schrittweite verringert. \n",
    "\n",
    "_Aufgabe 1.4.:_ Wählen Sie eine Schrittweite von 0.1, erhöhen Sie proportional dazu die Anzahl an Punkten, die simuliert werden sollen, damit auf der x-Achse der ungefähr gleiche Zeitraum abgedeckt wird. Wie viele Punkte müssen nun simuliert werden?"
   ]
  },
  {
   "cell_type": "code",
   "execution_count": null,
   "metadata": {
    "dotnet_interactive": {
     "language": "fsharp"
    },
    "vscode": {
     "languageId": "dotnet-interactive.fsharp"
    }
   },
   "outputs": [
    {
     "ename": "Error",
     "evalue": "input.fsx (5,1)-(5,4) parse warning Possible incorrect indentation: this token is offside of context started at position (2:1). Try indenting this token further or using standard formatting conventions.\ninput.fsx (5,1)-(5,4) parse warning Possible incorrect indentation: this token is offside of context started at position (2:1). Try indenting this token further or using standard formatting conventions.\ninput.fsx (8,1)-(8,4) parse warning Possible incorrect indentation: this token is offside of context started at position (5:1). Try indenting this token further or using standard formatting conventions.\ninput.fsx (8,1)-(8,4) parse warning Possible incorrect indentation: this token is offside of context started at position (5:1). Try indenting this token further or using standard formatting conventions.\ninput.fsx (10,1)-(10,13) parse warning Possible incorrect indentation: this token is offside of context started at position (5:1). Try indenting this token further or using standard formatting conventions.\ninput.fsx (10,1)-(10,13) parse warning Possible incorrect indentation: this token is offside of context started at position (5:1). Try indenting this token further or using standard formatting conventions.\ninput.fsx (5,1)-(5,4) parse error The block following this 'let' is unfinished. Every code block is an expression and must have a result. 'let' cannot be the final code element in a block. Consider giving this block an explicit result.",
     "output_type": "error",
     "traceback": [
      "input.fsx (5,1)-(5,4) parse warning Possible incorrect indentation: this token is offside of context started at position (2:1). Try indenting this token further or using standard formatting conventions.\n",
      "input.fsx (5,1)-(5,4) parse warning Possible incorrect indentation: this token is offside of context started at position (2:1). Try indenting this token further or using standard formatting conventions.\n",
      "input.fsx (8,1)-(8,4) parse warning Possible incorrect indentation: this token is offside of context started at position (5:1). Try indenting this token further or using standard formatting conventions.\n",
      "input.fsx (8,1)-(8,4) parse warning Possible incorrect indentation: this token is offside of context started at position (5:1). Try indenting this token further or using standard formatting conventions.\n",
      "input.fsx (10,1)-(10,13) parse warning Possible incorrect indentation: this token is offside of context started at position (5:1). Try indenting this token further or using standard formatting conventions.\n",
      "input.fsx (10,1)-(10,13) parse warning Possible incorrect indentation: this token is offside of context started at position (5:1). Try indenting this token further or using standard formatting conventions.\n",
      "input.fsx (5,1)-(5,4) parse error The block following this 'let' is unfinished. Every code block is an expression and must have a result. 'let' cannot be the final code element in a block. Consider giving this block an explicit result."
     ]
    }
   ],
   "source": [
    "// neue Schrittweite hier eintragen\n",
    "let h2 = \n",
    "\n",
    "// proportional die Anzahl der Punkte erhöhen, um wieder bis t ≈ 10 zu kommen\n",
    "let n2 = \n",
    "\n",
    "// eine Zwischenspeicherung unseres neuen Ergebnisses:\n",
    "let eulerYWerte2 = berechneEuler t0 y0 (fun t -> r * t) h2 n2\n",
    "\n",
    "eulerYWerte2\n",
    "|> Array.mapi (fun i y -> float i * h2, y)\n",
    "|> Chart.Point\n",
    "|> Chart.withTitle \"Euler-Verfahren, Schrittweite = 0.1, Anzahl Punkte = (einzutragen)\"\n",
    "|> Chart.withXAxisStyle \"t [min]\"\n",
    "|> Chart.withYAxisStyle \"Bakteriendichte\""
   ]
  },
  {
   "cell_type": "markdown",
   "metadata": {},
   "source": [
    "Vergleichen wir mal beide Kurven:"
   ]
  },
  {
   "cell_type": "code",
   "execution_count": null,
   "metadata": {
    "dotnet_interactive": {
     "language": "fsharp"
    },
    "vscode": {
     "languageId": "dotnet-interactive.fsharp"
    }
   },
   "outputs": [
    {
     "ename": "Error",
     "evalue": "input.fsx (6,5)-(6,17) typecheck error The value or constructor 'eulerYWerte2' is not defined. Maybe you want one of the following:\r\n   eulerYWerte\ninput.fsx (7,41)-(7,43) typecheck error The value or constructor 'h2' is not defined.",
     "output_type": "error",
     "traceback": [
      "input.fsx (6,5)-(6,17) typecheck error The value or constructor 'eulerYWerte2' is not defined. Maybe you want one of the following:\r\n",
      "   eulerYWerte\n",
      "input.fsx (7,41)-(7,43) typecheck error The value or constructor 'h2' is not defined."
     ]
    }
   ],
   "source": [
    "[|\n",
    "    eulerYWerte\n",
    "    |> Array.indexed\n",
    "    |> Chart.Point\n",
    "    |> Chart.withTraceInfo \"Schrittweite = 1\"\n",
    "    eulerYWerte2\n",
    "    |> Array.mapi (fun i y -> float i * h2, y)\n",
    "    |> Chart.Point\n",
    "    |> Chart.withTraceInfo \"Schrittweite = 0.1\"\n",
    "|]\n",
    "|> Chart.combine\n",
    "|> Chart.withTitle \"Approximation nach Euler-Verfahren\"\n",
    "|> Chart.withXAxisStyle \"t [min]\"\n",
    "|> Chart.withYAxisStyle \"Bakteriendichte\""
   ]
  },
  {
   "cell_type": "markdown",
   "metadata": {},
   "source": [
    "Mit der niedrigeren Schrittweite sieht das doch schon viel besser aus.  \n",
    "Leider ist das Euler-Verfahren relativ langsam, wenn man eine höhere Präzision zum Ziel hat. Im Folgenden werden wir das demonstrieren:\n",
    "\n",
    "_Aufgabe 1.5.:_ Führen Sie beide folgenden Codeblocke 5× aus und notieren Sie sich die Dauer, die die Berechnung gebraucht hat. Berechnen Sie die durchschnittlich benötigte Zeit."
   ]
  },
  {
   "cell_type": "code",
   "execution_count": null,
   "metadata": {
    "dotnet_interactive": {
     "language": "fsharp"
    },
    "vscode": {
     "languageId": "dotnet-interactive.fsharp"
    }
   },
   "outputs": [
    {
     "data": {
      "text/html": [
       "<table><thead><tr><th><i>index</i></th><th>value</th></tr></thead><tbody><tr><td>0</td><td><div class=\"dni-plaintext\">100</div></td></tr><tr><td>1</td><td><div class=\"dni-plaintext\">130</div></td></tr><tr><td>2</td><td><div class=\"dni-plaintext\">169</div></td></tr><tr><td>3</td><td><div class=\"dni-plaintext\">219.7</div></td></tr><tr><td>4</td><td><div class=\"dni-plaintext\">285.61</div></td></tr><tr><td>5</td><td><div class=\"dni-plaintext\">371.293</div></td></tr><tr><td>6</td><td><div class=\"dni-plaintext\">482.6809</div></td></tr><tr><td>7</td><td><div class=\"dni-plaintext\">627.48517</div></td></tr><tr><td>8</td><td><div class=\"dni-plaintext\">815.730721</div></td></tr><tr><td>9</td><td><div class=\"dni-plaintext\">1060.4499373</div></td></tr><tr><td>10</td><td><div class=\"dni-plaintext\">1378.58491849</div></td></tr><tr><td>11</td><td><div class=\"dni-plaintext\">1792.160394037</div></td></tr></tbody></table>"
      ]
     },
     "metadata": {},
     "output_type": "display_data"
    }
   ],
   "source": [
    "berechneEuler t0 y0 (fun t -> r * t) h n"
   ]
  },
  {
   "cell_type": "code",
   "execution_count": null,
   "metadata": {
    "dotnet_interactive": {
     "language": "fsharp"
    },
    "vscode": {
     "languageId": "dotnet-interactive.fsharp"
    }
   },
   "outputs": [
    {
     "data": {
      "text/html": [
       "<table><thead><tr><th><i>index</i></th><th>value</th></tr></thead><tbody><tr><td>0</td><td><div class=\"dni-plaintext\">100</div></td></tr><tr><td>1</td><td><div class=\"dni-plaintext\">100.000003</div></td></tr><tr><td>2</td><td><div class=\"dni-plaintext\">100.0000060000001</div></td></tr><tr><td>3</td><td><div class=\"dni-plaintext\">100.00000900000028</div></td></tr><tr><td>4</td><td><div class=\"dni-plaintext\">100.00001200000055</div></td></tr><tr><td>5</td><td><div class=\"dni-plaintext\">100.00001500000091</div></td></tr><tr><td>6</td><td><div class=\"dni-plaintext\">100.00001800000136</div></td></tr><tr><td>7</td><td><div class=\"dni-plaintext\">100.00002100000191</div></td></tr><tr><td>8</td><td><div class=\"dni-plaintext\">100.00002400000254</div></td></tr><tr><td>9</td><td><div class=\"dni-plaintext\">100.00002700000326</div></td></tr><tr><td>10</td><td><div class=\"dni-plaintext\">100.00003000000407</div></td></tr><tr><td>11</td><td><div class=\"dni-plaintext\">100.00003300000498</div></td></tr><tr><td>12</td><td><div class=\"dni-plaintext\">100.00003600000596</div></td></tr><tr><td>13</td><td><div class=\"dni-plaintext\">100.00003900000705</div></td></tr><tr><td>14</td><td><div class=\"dni-plaintext\">100.00004200000822</div></td></tr><tr><td>15</td><td><div class=\"dni-plaintext\">100.00004500000948</div></td></tr><tr><td>16</td><td><div class=\"dni-plaintext\">100.00004800001084</div></td></tr><tr><td>17</td><td><div class=\"dni-plaintext\">100.00005100001228</div></td></tr><tr><td>18</td><td><div class=\"dni-plaintext\">100.0000540000138</div></td></tr><tr><td>19</td><td><div class=\"dni-plaintext\">100.00005700001543</div></td></tr><tr><td colspan=\"2\"><i>(9999982 more)</i></td></tr></tbody></table>"
      ]
     },
     "metadata": {},
     "output_type": "display_data"
    }
   ],
   "source": [
    "let h4 = 0.0000001\n",
    "\n",
    "let n3 = 10000000.\n",
    "\n",
    "berechneEuler t0 y0 (fun t -> r * t) h4 n3"
   ]
  },
  {
   "cell_type": "markdown",
   "metadata": {},
   "source": [
    "_Antwort_:\n",
    "- erster Codeblock: \n",
    "- zweiter Codeblock: "
   ]
  },
  {
   "cell_type": "markdown",
   "metadata": {},
   "source": [
    "### Runge-Kutta-Verfahren\n",
    "\n",
    "Die Mathematiker _Carl Runge_ und _Wilhelm Kutta_ haben sich um 1900 daher Verfahren überlegt, die ähnlich funktionieren wie das Euler-Verfahren, aber präziser sind. Man nennt diese und alle auf diesem Prinzip basierenden Verfahren _Runge-Kutta-Verfahren_, das Euler-Verfahren gehört ebenfalls dazu (auch wenn es bereits lange vorher entstand).  \n",
    "Ein Beispiel für ein solches Runge-Kutta-Verfahren ist das _Heun-Verfahren_, nach Karl Heun. Dieses funktioniert wie folgt:\n",
    "\n",
    "Die ersten Schritte verlaufen wie beim Euler-Verfahren: Man überlegt sich die Schrittweite $h$ und die Schrittanzahl $n$ und berechnet $P_1$ wie bekannt und danach $P_2$.  \n",
    "Jetzt nimmt man jedoch den Wert, den man für $P_2$ erhält und berechnet den Mittelwert aus diesem und aus $P_1$ und fügt diesen für $P_1$ ein (s. Abbildung 3). Idealerweise liegt die Steigung damit näher an der tatsächlichen Funktion. Mit jedem weiteren Punkt berechnet man das ganze Prozedere wie zuvor erneut.\n",
    "\n",
    "![](https://raw.githubusercontent.com/CSBiology/BIO-MBP-06-U-2/main/images/day1/01_heun1_small.png)  \n",
    "***Abbildung 3: Visualisierung des Heun-Verfahrens anhand eines Beispiels.***\n",
    "\n",
    "Oben sprachen wir von der Verwendung von Programmbibliotheken. Im Rest des Praktikums nutzen wir eine solche Programmbibliothek, die verschiedene Runge-Kutta-Verfahren zur Näherung anbietet. Algorithmen wie die der Programmbibliothek, die mathematische Probleme numerisch lösen, nennt man auch _Solver_.\n",
    "\n",
    "---\n",
    "\n",
    "Wir wollen nun die Wachstumsfunktion simulieren.\n",
    "\n",
    "Dies tun wir, indem wir dem Algorithmus folgende Anfangswerte geben:\n",
    "\n",
    "$N(t_0) = 100$\n",
    "\n",
    "$t_0 = 0$"
   ]
  },
  {
   "cell_type": "code",
   "execution_count": null,
   "metadata": {
    "dotnet_interactive": {
     "language": "fsharp"
    },
    "vscode": {
     "languageId": "dotnet-interactive.fsharp"
    }
   },
   "outputs": [],
   "source": [
    "// der Rechenalgorithmus der Programmbibliothek, die wir benutzen:\n",
    "let modelContext = \n",
    "    OdeContext(\n",
    "        OdeSolverMethod.RK546M, // das ist das Runge-Kutta-Verfahren, das wir verwenden wollen\n",
    "        OdeSolverOptions(\n",
    "            StepSize = 0.42 // hier stellen wir Optionen des Solvers ein, z. B., dass die Schrittweite 0.42 sein soll\n",
    "        )\n",
    "    )\n",
    "\n",
    "// Anfangswerte:\n",
    "let t0 = 0.\n",
    "let N0 = 100.0\n",
    "\n",
    "// unsere DGL als einfaches Modell (SimpleModel):\n",
    "let dN_dt : SimpleModel =\n",
    "    fun N t ->\n",
    "        let cellcount = N\n",
    "        let cellcount' = r * N\n",
    "        cellcount'\n"
   ]
  },
  {
   "cell_type": "markdown",
   "metadata": {},
   "source": [
    "Im Modell `dN_dt` sind nun alle relevanten Elemente vorhanden und deren Beziehung formuliert, sodass sich dieses Modell im Folgenden simulieren lässt."
   ]
  },
  {
   "cell_type": "code",
   "execution_count": null,
   "metadata": {
    "dotnet_interactive": {
     "language": "fsharp"
    },
    "vscode": {
     "languageId": "dotnet-interactive.fsharp"
    }
   },
   "outputs": [
    {
     "data": {
      "text/html": [
       "<table><thead><tr><th><i>index</i></th><th>x</th><th>Y</th></tr></thead><tbody><tr><td>0</td><td><div class=\"dni-plaintext\">0</div></td><td><div class=\"dni-plaintext\">[ 100 ]</div></td></tr><tr><td>1</td><td><div class=\"dni-plaintext\">0.42</div></td><td><div class=\"dni-plaintext\">[ 113.4282167625625 ]</div></td></tr><tr><td>2</td><td><div class=\"dni-plaintext\">0.999259549657388</div></td><td><div class=\"dni-plaintext\">[ 134.955898363052 ]</div></td></tr><tr><td>3</td><td><div class=\"dni-plaintext\">2.1772271605451294</div></td><td><div class=\"dni-plaintext\">[ 192.16186029123628 ]</div></td></tr><tr><td>4</td><td><div class=\"dni-plaintext\">3.8940775510006906</div></td><td><div class=\"dni-plaintext\">[ 321.6263247377607 ]</div></td></tr><tr><td>5</td><td><div class=\"dni-plaintext\">6.039496988444697</div></td><td><div class=\"dni-plaintext\">[ 612.1674466254168 ]</div></td></tr><tr><td>6</td><td><div class=\"dni-plaintext\">8.515955468393773</div></td><td><div class=\"dni-plaintext\">[ 1286.8070827545662 ]</div></td></tr><tr><td>7</td><td><div class=\"dni-plaintext\">11.251389834936289</div></td><td><div class=\"dni-plaintext\">[ 2923.4116361761935 ]</div></td></tr><tr><td>8</td><td><div class=\"dni-plaintext\">14.195179461744015</div></td><td><div class=\"dni-plaintext\">[ 7069.730547285138 ]</div></td></tr><tr><td>9</td><td><div class=\"dni-plaintext\">17.312471927868035</div></td><td><div class=\"dni-plaintext\">[ 18009.84524032065 ]</div></td></tr></tbody></table>"
      ]
     },
     "metadata": {},
     "output_type": "display_data"
    }
   ],
   "source": [
    "// hier lassen wir den Solver die Simulierung machen\n",
    "let sim_dy_dx = \n",
    "    modelContext.OdeInt(t0, N0, dN_dt)\n",
    "    |> SolPoints.take 10    // der Solver soll uns 10 Datenpunkte geben\n",
    "    |> SolPoints.memorize\n",
    "\n",
    "sim_dy_dx"
   ]
  },
  {
   "cell_type": "markdown",
   "metadata": {},
   "source": [
    "_Aufgabe 1.6:_ Visualisieren Sie das Modell anhand der oben zwischengespeicherten 10 Datenpunkte und beschriften Sie die x- und y-Achse."
   ]
  },
  {
   "cell_type": "code",
   "execution_count": null,
   "metadata": {
    "dotnet_interactive": {
     "language": "fsharp"
    },
    "vscode": {
     "languageId": "dotnet-interactive.fsharp"
    }
   },
   "outputs": [
    {
     "data": {
      "text/html": [
       "\n",
       "<div>\n",
       "    <div id=\"3596b742-0a74-4152-829b-54cfc3bb46d1\"><!-- Plotly chart will be drawn inside this DIV --></div>\r\n",
       "<script type=\"text/javascript\">\r\n",
       "\r\n",
       "            var renderPlotly_3596b7420a744152829b54cfc3bb46d1 = function() {\r\n",
       "            var fsharpPlotlyRequire = requirejs.config({context:'fsharp-plotly',paths:{plotly:'https://cdn.plot.ly/plotly-2.6.3.min'}}) || require;\r\n",
       "            fsharpPlotlyRequire(['plotly'], function(Plotly) {\r\n",
       "\r\n",
       "            var data = [{\"type\":\"scatter\",\"mode\":\"markers\",\"x\":[0.0,0.42,0.999259549657388,2.1772271605451294,3.8940775510006906,6.039496988444697,8.515955468393773,11.251389834936289,14.195179461744015,17.312471927868035],\"y\":[100.0,113.4282167625625,134.955898363052,192.16186029123628,321.6263247377607,612.1674466254168,1286.8070827545662,2923.4116361761935,7069.730547285138,18009.84524032065],\"marker\":{},\"line\":{}}];\r\n",
       "            var layout = {\"width\":600,\"height\":600,\"template\":{\"layout\":{\"title\":{\"x\":0.05},\"font\":{\"color\":\"rgba(42, 63, 95, 1.0)\"},\"paper_bgcolor\":\"rgba(255, 255, 255, 1.0)\",\"plot_bgcolor\":\"rgba(229, 236, 246, 1.0)\",\"autotypenumbers\":\"strict\",\"colorscale\":{\"diverging\":[[0.0,\"#8e0152\"],[0.1,\"#c51b7d\"],[0.2,\"#de77ae\"],[0.3,\"#f1b6da\"],[0.4,\"#fde0ef\"],[0.5,\"#f7f7f7\"],[0.6,\"#e6f5d0\"],[0.7,\"#b8e186\"],[0.8,\"#7fbc41\"],[0.9,\"#4d9221\"],[1.0,\"#276419\"]],\"sequential\":[[0.0,\"#0d0887\"],[0.1111111111111111,\"#46039f\"],[0.2222222222222222,\"#7201a8\"],[0.3333333333333333,\"#9c179e\"],[0.4444444444444444,\"#bd3786\"],[0.5555555555555556,\"#d8576b\"],[0.6666666666666666,\"#ed7953\"],[0.7777777777777778,\"#fb9f3a\"],[0.8888888888888888,\"#fdca26\"],[1.0,\"#f0f921\"]],\"sequentialminus\":[[0.0,\"#0d0887\"],[0.1111111111111111,\"#46039f\"],[0.2222222222222222,\"#7201a8\"],[0.3333333333333333,\"#9c179e\"],[0.4444444444444444,\"#bd3786\"],[0.5555555555555556,\"#d8576b\"],[0.6666666666666666,\"#ed7953\"],[0.7777777777777778,\"#fb9f3a\"],[0.8888888888888888,\"#fdca26\"],[1.0,\"#f0f921\"]]},\"hovermode\":\"closest\",\"hoverlabel\":{\"align\":\"left\"},\"coloraxis\":{\"colorbar\":{\"outlinewidth\":0.0,\"ticks\":\"\"}},\"geo\":{\"showland\":true,\"landcolor\":\"rgba(229, 236, 246, 1.0)\",\"showlakes\":true,\"lakecolor\":\"rgba(255, 255, 255, 1.0)\",\"subunitcolor\":\"rgba(255, 255, 255, 1.0)\",\"bgcolor\":\"rgba(255, 255, 255, 1.0)\"},\"mapbox\":{\"style\":\"light\"},\"polar\":{\"bgcolor\":\"rgba(229, 236, 246, 1.0)\",\"radialaxis\":{\"linecolor\":\"rgba(255, 255, 255, 1.0)\",\"gridcolor\":\"rgba(255, 255, 255, 1.0)\",\"ticks\":\"\"},\"angularaxis\":{\"linecolor\":\"rgba(255, 255, 255, 1.0)\",\"gridcolor\":\"rgba(255, 255, 255, 1.0)\",\"ticks\":\"\"}},\"scene\":{\"xaxis\":{\"ticks\":\"\",\"linecolor\":\"rgba(255, 255, 255, 1.0)\",\"gridcolor\":\"rgba(255, 255, 255, 1.0)\",\"gridwidth\":2.0,\"zerolinecolor\":\"rgba(255, 255, 255, 1.0)\",\"backgroundcolor\":\"rgba(229, 236, 246, 1.0)\",\"showbackground\":true},\"yaxis\":{\"ticks\":\"\",\"linecolor\":\"rgba(255, 255, 255, 1.0)\",\"gridcolor\":\"rgba(255, 255, 255, 1.0)\",\"gridwidth\":2.0,\"zerolinecolor\":\"rgba(255, 255, 255, 1.0)\",\"backgroundcolor\":\"rgba(229, 236, 246, 1.0)\",\"showbackground\":true},\"zaxis\":{\"ticks\":\"\",\"linecolor\":\"rgba(255, 255, 255, 1.0)\",\"gridcolor\":\"rgba(255, 255, 255, 1.0)\",\"gridwidth\":2.0,\"zerolinecolor\":\"rgba(255, 255, 255, 1.0)\",\"backgroundcolor\":\"rgba(229, 236, 246, 1.0)\",\"showbackground\":true}},\"ternary\":{\"aaxis\":{\"ticks\":\"\",\"linecolor\":\"rgba(255, 255, 255, 1.0)\",\"gridcolor\":\"rgba(255, 255, 255, 1.0)\"},\"baxis\":{\"ticks\":\"\",\"linecolor\":\"rgba(255, 255, 255, 1.0)\",\"gridcolor\":\"rgba(255, 255, 255, 1.0)\"},\"caxis\":{\"ticks\":\"\",\"linecolor\":\"rgba(255, 255, 255, 1.0)\",\"gridcolor\":\"rgba(255, 255, 255, 1.0)\"},\"bgcolor\":\"rgba(229, 236, 246, 1.0)\"},\"xaxis\":{\"title\":{\"standoff\":15},\"ticks\":\"\",\"automargin\":true,\"linecolor\":\"rgba(255, 255, 255, 1.0)\",\"gridcolor\":\"rgba(255, 255, 255, 1.0)\",\"zerolinecolor\":\"rgba(255, 255, 255, 1.0)\",\"zerolinewidth\":2.0},\"yaxis\":{\"title\":{\"standoff\":15},\"ticks\":\"\",\"automargin\":true,\"linecolor\":\"rgba(255, 255, 255, 1.0)\",\"gridcolor\":\"rgba(255, 255, 255, 1.0)\",\"zerolinecolor\":\"rgba(255, 255, 255, 1.0)\",\"zerolinewidth\":2.0},\"annotationdefaults\":{\"arrowcolor\":\"#2a3f5f\",\"arrowhead\":0,\"arrowwidth\":1},\"shapedefaults\":{\"line\":{\"color\":\"rgba(42, 63, 95, 1.0)\"}},\"colorway\":[\"rgba(99, 110, 250, 1.0)\",\"rgba(239, 85, 59, 1.0)\",\"rgba(0, 204, 150, 1.0)\",\"rgba(171, 99, 250, 1.0)\",\"rgba(255, 161, 90, 1.0)\",\"rgba(25, 211, 243, 1.0)\",\"rgba(255, 102, 146, 1.0)\",\"rgba(182, 232, 128, 1.0)\",\"rgba(255, 151, 255, 1.0)\",\"rgba(254, 203, 82, 1.0)\"]},\"data\":{\"bar\":[{\"marker\":{\"line\":{\"color\":\"rgba(229, 236, 246, 1.0)\",\"width\":0.5},\"pattern\":{\"fillmode\":\"overlay\",\"size\":10,\"solidity\":0.2}},\"error_x\":{\"color\":\"rgba(42, 63, 95, 1.0)\"},\"error_y\":{\"color\":\"rgba(42, 63, 95, 1.0)\"}}],\"barpolar\":[{\"marker\":{\"line\":{\"color\":\"rgba(229, 236, 246, 1.0)\",\"width\":0.5},\"pattern\":{\"fillmode\":\"overlay\",\"size\":10,\"solidity\":0.2}}}],\"carpet\":[{\"aaxis\":{\"linecolor\":\"rgba(255, 255, 255, 1.0)\",\"gridcolor\":\"rgba(255, 255, 255, 1.0)\",\"endlinecolor\":\"rgba(42, 63, 95, 1.0)\",\"minorgridcolor\":\"rgba(255, 255, 255, 1.0)\",\"startlinecolor\":\"rgba(42, 63, 95, 1.0)\"},\"baxis\":{\"linecolor\":\"rgba(255, 255, 255, 1.0)\",\"gridcolor\":\"rgba(255, 255, 255, 1.0)\",\"endlinecolor\":\"rgba(42, 63, 95, 1.0)\",\"minorgridcolor\":\"rgba(255, 255, 255, 1.0)\",\"startlinecolor\":\"rgba(42, 63, 95, 1.0)\"}}],\"choropleth\":[{\"colorbar\":{\"outlinewidth\":0.0,\"ticks\":\"\"},\"colorscale\":[[0.0,\"#0d0887\"],[0.1111111111111111,\"#46039f\"],[0.2222222222222222,\"#7201a8\"],[0.3333333333333333,\"#9c179e\"],[0.4444444444444444,\"#bd3786\"],[0.5555555555555556,\"#d8576b\"],[0.6666666666666666,\"#ed7953\"],[0.7777777777777778,\"#fb9f3a\"],[0.8888888888888888,\"#fdca26\"],[1.0,\"#f0f921\"]]}],\"contour\":[{\"colorbar\":{\"outlinewidth\":0.0,\"ticks\":\"\"},\"colorscale\":[[0.0,\"#0d0887\"],[0.1111111111111111,\"#46039f\"],[0.2222222222222222,\"#7201a8\"],[0.3333333333333333,\"#9c179e\"],[0.4444444444444444,\"#bd3786\"],[0.5555555555555556,\"#d8576b\"],[0.6666666666666666,\"#ed7953\"],[0.7777777777777778,\"#fb9f3a\"],[0.8888888888888888,\"#fdca26\"],[1.0,\"#f0f921\"]]}],\"contourcarpet\":[{\"colorbar\":{\"outlinewidth\":0.0,\"ticks\":\"\"}}],\"heatmap\":[{\"colorbar\":{\"outlinewidth\":0.0,\"ticks\":\"\"},\"colorscale\":[[0.0,\"#0d0887\"],[0.1111111111111111,\"#46039f\"],[0.2222222222222222,\"#7201a8\"],[0.3333333333333333,\"#9c179e\"],[0.4444444444444444,\"#bd3786\"],[0.5555555555555556,\"#d8576b\"],[0.6666666666666666,\"#ed7953\"],[0.7777777777777778,\"#fb9f3a\"],[0.8888888888888888,\"#fdca26\"],[1.0,\"#f0f921\"]]}],\"heatmapgl\":[{\"colorbar\":{\"outlinewidth\":0.0,\"ticks\":\"\"},\"colorscale\":[[0.0,\"#0d0887\"],[0.1111111111111111,\"#46039f\"],[0.2222222222222222,\"#7201a8\"],[0.3333333333333333,\"#9c179e\"],[0.4444444444444444,\"#bd3786\"],[0.5555555555555556,\"#d8576b\"],[0.6666666666666666,\"#ed7953\"],[0.7777777777777778,\"#fb9f3a\"],[0.8888888888888888,\"#fdca26\"],[1.0,\"#f0f921\"]]}],\"histogram\":[{\"marker\":{\"pattern\":{\"fillmode\":\"overlay\",\"size\":10,\"solidity\":0.2}}}],\"histogram2d\":[{\"colorbar\":{\"outlinewidth\":0.0,\"ticks\":\"\"},\"colorscale\":[[0.0,\"#0d0887\"],[0.1111111111111111,\"#46039f\"],[0.2222222222222222,\"#7201a8\"],[0.3333333333333333,\"#9c179e\"],[0.4444444444444444,\"#bd3786\"],[0.5555555555555556,\"#d8576b\"],[0.6666666666666666,\"#ed7953\"],[0.7777777777777778,\"#fb9f3a\"],[0.8888888888888888,\"#fdca26\"],[1.0,\"#f0f921\"]]}],\"histogram2dcontour\":[{\"colorbar\":{\"outlinewidth\":0.0,\"ticks\":\"\"},\"colorscale\":[[0.0,\"#0d0887\"],[0.1111111111111111,\"#46039f\"],[0.2222222222222222,\"#7201a8\"],[0.3333333333333333,\"#9c179e\"],[0.4444444444444444,\"#bd3786\"],[0.5555555555555556,\"#d8576b\"],[0.6666666666666666,\"#ed7953\"],[0.7777777777777778,\"#fb9f3a\"],[0.8888888888888888,\"#fdca26\"],[1.0,\"#f0f921\"]]}],\"mesh3d\":[{\"colorbar\":{\"outlinewidth\":0.0,\"ticks\":\"\"}}],\"parcoords\":[{\"line\":{\"colorbar\":{\"outlinewidth\":0.0,\"ticks\":\"\"}}}],\"pie\":[{\"automargin\":true}],\"scatter\":[{\"marker\":{\"colorbar\":{\"outlinewidth\":0.0,\"ticks\":\"\"}}}],\"scatter3d\":[{\"marker\":{\"colorbar\":{\"outlinewidth\":0.0,\"ticks\":\"\"}},\"line\":{\"colorbar\":{\"outlinewidth\":0.0,\"ticks\":\"\"}}}],\"scattercarpet\":[{\"marker\":{\"colorbar\":{\"outlinewidth\":0.0,\"ticks\":\"\"}}}],\"scattergeo\":[{\"marker\":{\"colorbar\":{\"outlinewidth\":0.0,\"ticks\":\"\"}}}],\"scattergl\":[{\"marker\":{\"colorbar\":{\"outlinewidth\":0.0,\"ticks\":\"\"}}}],\"scattermapbox\":[{\"marker\":{\"colorbar\":{\"outlinewidth\":0.0,\"ticks\":\"\"}}}],\"scatterpolar\":[{\"marker\":{\"colorbar\":{\"outlinewidth\":0.0,\"ticks\":\"\"}}}],\"scatterpolargl\":[{\"marker\":{\"colorbar\":{\"outlinewidth\":0.0,\"ticks\":\"\"}}}],\"scatterternary\":[{\"marker\":{\"colorbar\":{\"outlinewidth\":0.0,\"ticks\":\"\"}}}],\"surface\":[{\"colorbar\":{\"outlinewidth\":0.0,\"ticks\":\"\"},\"colorscale\":[[0.0,\"#0d0887\"],[0.1111111111111111,\"#46039f\"],[0.2222222222222222,\"#7201a8\"],[0.3333333333333333,\"#9c179e\"],[0.4444444444444444,\"#bd3786\"],[0.5555555555555556,\"#d8576b\"],[0.6666666666666666,\"#ed7953\"],[0.7777777777777778,\"#fb9f3a\"],[0.8888888888888888,\"#fdca26\"],[1.0,\"#f0f921\"]]}],\"table\":[{\"cells\":{\"fill\":{\"color\":\"rgba(235, 240, 248, 1.0)\"},\"line\":{\"color\":\"rgba(255, 255, 255, 1.0)\"}},\"header\":{\"fill\":{\"color\":\"rgba(200, 212, 227, 1.0)\"},\"line\":{\"color\":\"rgba(255, 255, 255, 1.0)\"}}}]}},\"shapes\":[{\"type\":\"line\",\"x0\":0.42,\"x1\":2.1772271605451294,\"y0\":113.4282167625625,\"y1\":192.16186029123628,\"line\":{\"dash\":\"dash\"}}],\"title\":{\"text\":\"Simulation des einfachen Wachstumsmodells\"},\"xaxis\":{\"title\":{\"text\":\"\"}},\"yaxis\":{\"title\":{\"text\":\"\"}}};\r\n",
       "            var config = {\"responsive\":true};\r\n",
       "            Plotly.newPlot('3596b742-0a74-4152-829b-54cfc3bb46d1', data, layout, config);\r\n",
       "});\r\n",
       "            };\r\n",
       "            if ((typeof(requirejs) !==  typeof(Function)) || (typeof(requirejs.config) !== typeof(Function))) {\r\n",
       "                var script = document.createElement(\"script\");\r\n",
       "                script.setAttribute(\"src\", \"https://cdnjs.cloudflare.com/ajax/libs/require.js/2.3.6/require.min.js\");\r\n",
       "                script.onload = function(){\r\n",
       "                    renderPlotly_3596b7420a744152829b54cfc3bb46d1();\r\n",
       "                };\r\n",
       "                document.getElementsByTagName(\"head\")[0].appendChild(script);\r\n",
       "            }\r\n",
       "            else {\r\n",
       "                renderPlotly_3596b7420a744152829b54cfc3bb46d1();\r\n",
       "            }\r\n",
       "</script>\r\n",
       "\n",
       "    \n",
       "</div>    \n"
      ]
     },
     "metadata": {},
     "output_type": "display_data"
    }
   ],
   "source": [
    "let shapeOfLine =\n",
    "    LayoutObjects.Shape.init(ShapeType.Line,sim_dy_dx.[1].x,sim_dy_dx.[3].x,sim_dy_dx.[1].Y.[0],sim_dy_dx.[3].Y.[0],Line=Line.init(Dash=DrawingStyle.Dash))\n",
    "\n",
    "sim_dy_dx\n",
    "|> SolPoints.toPoints 1\n",
    "|> Chart.Point\n",
    "|> Chart.withShape(shapeOfLine)\n",
    "|> Chart.withTitle(\"Simulation des einfachen Wachstumsmodells\")\n",
    "|> Chart.withXAxisStyle(\"\") // hier x-Achsenbeschriftung einfügen\n",
    "|> Chart.withYAxisStyle(\"\") // hier y-Achsenbeschriftung einfügen"
   ]
  },
  {
   "cell_type": "markdown",
   "metadata": {},
   "source": [
    "Bei der folgenden Aufgabe möchten wir genauer betrachten\n",
    "\n",
    "_Aufgabe 1.7:_ Schätzen Sie grob die Steigung zum Zeitpunkt $t = 1$ ab. Entspricht sie der theoretischen Steigung aus der Differentialgleichung ($m = rN$)?\n",
    "  - Berechnen Sie die Steigung wie im unteren Schema (Abbildung 4) gezeigt\n",
    "    - Zoomen und hovern Sie über die Punkte um die Werte bei $t = 0.42$ und $t = 2.18$ angezeigt zu bekommen.\n",
    "  - Berechnen Sie die Steigung anhand der Differentialgleichung\n",
    "    - Bestimmen Sie $N$, also die Bakteriendichte an $t = 1$, also bei Minute 1\n",
    "    - Wachstumsfaktor $r$ ist gegeben mit $r = 0.3$\n",
    "    - Berechnen Sie die Steigung $m = rN$\n",
    "  - Vergleichen Sie die Steigung durch Abschätzen mit der theoretischen Steigung der Differentialgleichung. Sind sie ähnlich?\n",
    "\n",
    "![](https://raw.githubusercontent.com/CSBiology/BIO-MBP-06-U-2/main/images/day1/01_Growth_slope_small.png)  \n",
    "***Abbildung 4: Schematische Darstellung der Steigungsberechnung mit Beispiel.***\n",
    "\n",
    "_Aufgabe 1.8 (Expertenaufgabe):_ Formulieren Sie die Wachstumsfunktion aus Aufgabe 1.2 unten im Codeblock."
   ]
  },
  {
   "cell_type": "markdown",
   "metadata": {},
   "source": [
    "_Antwort:_"
   ]
  },
  {
   "cell_type": "code",
   "execution_count": null,
   "metadata": {
    "dotnet_interactive": {
     "language": "fsharp"
    },
    "vscode": {
     "languageId": "dotnet-interactive.fsharp"
    }
   },
   "outputs": [
    {
     "data": {
      "text/html": [
       "\n",
       "<div>\n",
       "    <div id=\"3353c580-1b0c-470b-afeb-3451a885386d\"><!-- Plotly chart will be drawn inside this DIV --></div>\r\n",
       "<script type=\"text/javascript\">\r\n",
       "\r\n",
       "            var renderPlotly_3353c5801b0c470bafeb3451a885386d = function() {\r\n",
       "            var fsharpPlotlyRequire = requirejs.config({context:'fsharp-plotly',paths:{plotly:'https://cdn.plot.ly/plotly-2.6.3.min'}}) || require;\r\n",
       "            fsharpPlotlyRequire(['plotly'], function(Plotly) {\r\n",
       "\r\n",
       "            var data = [{\"type\":\"scatter\",\"mode\":\"lines\",\"x\":[0.0,0.42,0.999259549657388,2.1772271605451294,3.8940775510006906,6.039496988444697,8.515955468393773,11.251389834936289,14.195179461744015,17.312471927868035],\"y\":[100.0,113.4282167625625,134.955898363052,192.16186029123628,321.6263247377607,612.1674466254168,1286.8070827545662,2923.4116361761935,7069.730547285138,18009.84524032065],\"marker\":{},\"line\":{\"shape\":\"spline\"},\"name\":\"simulation\"},{\"type\":\"scatter\",\"mode\":\"markers\",\"x\":[0.0,0.42,0.999259549657388,2.1772271605451294,3.8940775510006906,6.039496988444697,8.515955468393773,11.251389834936289,14.195179461744015,17.312471927868035],\"y\":[100.0,113.42821682830251,134.95589898522923,192.16191696312453,321.62730949655213,612.1756692129418,1286.8553736640793,2923.6471401051494,7070.7654793749925,18014.130638088405],\"marker\":{},\"line\":{},\"name\":\"exact\"}];\r\n",
       "            var layout = {\"width\":600,\"height\":600,\"template\":{\"layout\":{\"title\":{\"x\":0.05},\"font\":{\"color\":\"rgba(42, 63, 95, 1.0)\"},\"paper_bgcolor\":\"rgba(255, 255, 255, 1.0)\",\"plot_bgcolor\":\"rgba(229, 236, 246, 1.0)\",\"autotypenumbers\":\"strict\",\"colorscale\":{\"diverging\":[[0.0,\"#8e0152\"],[0.1,\"#c51b7d\"],[0.2,\"#de77ae\"],[0.3,\"#f1b6da\"],[0.4,\"#fde0ef\"],[0.5,\"#f7f7f7\"],[0.6,\"#e6f5d0\"],[0.7,\"#b8e186\"],[0.8,\"#7fbc41\"],[0.9,\"#4d9221\"],[1.0,\"#276419\"]],\"sequential\":[[0.0,\"#0d0887\"],[0.1111111111111111,\"#46039f\"],[0.2222222222222222,\"#7201a8\"],[0.3333333333333333,\"#9c179e\"],[0.4444444444444444,\"#bd3786\"],[0.5555555555555556,\"#d8576b\"],[0.6666666666666666,\"#ed7953\"],[0.7777777777777778,\"#fb9f3a\"],[0.8888888888888888,\"#fdca26\"],[1.0,\"#f0f921\"]],\"sequentialminus\":[[0.0,\"#0d0887\"],[0.1111111111111111,\"#46039f\"],[0.2222222222222222,\"#7201a8\"],[0.3333333333333333,\"#9c179e\"],[0.4444444444444444,\"#bd3786\"],[0.5555555555555556,\"#d8576b\"],[0.6666666666666666,\"#ed7953\"],[0.7777777777777778,\"#fb9f3a\"],[0.8888888888888888,\"#fdca26\"],[1.0,\"#f0f921\"]]},\"hovermode\":\"closest\",\"hoverlabel\":{\"align\":\"left\"},\"coloraxis\":{\"colorbar\":{\"outlinewidth\":0.0,\"ticks\":\"\"}},\"geo\":{\"showland\":true,\"landcolor\":\"rgba(229, 236, 246, 1.0)\",\"showlakes\":true,\"lakecolor\":\"rgba(255, 255, 255, 1.0)\",\"subunitcolor\":\"rgba(255, 255, 255, 1.0)\",\"bgcolor\":\"rgba(255, 255, 255, 1.0)\"},\"mapbox\":{\"style\":\"light\"},\"polar\":{\"bgcolor\":\"rgba(229, 236, 246, 1.0)\",\"radialaxis\":{\"linecolor\":\"rgba(255, 255, 255, 1.0)\",\"gridcolor\":\"rgba(255, 255, 255, 1.0)\",\"ticks\":\"\"},\"angularaxis\":{\"linecolor\":\"rgba(255, 255, 255, 1.0)\",\"gridcolor\":\"rgba(255, 255, 255, 1.0)\",\"ticks\":\"\"}},\"scene\":{\"xaxis\":{\"ticks\":\"\",\"linecolor\":\"rgba(255, 255, 255, 1.0)\",\"gridcolor\":\"rgba(255, 255, 255, 1.0)\",\"gridwidth\":2.0,\"zerolinecolor\":\"rgba(255, 255, 255, 1.0)\",\"backgroundcolor\":\"rgba(229, 236, 246, 1.0)\",\"showbackground\":true},\"yaxis\":{\"ticks\":\"\",\"linecolor\":\"rgba(255, 255, 255, 1.0)\",\"gridcolor\":\"rgba(255, 255, 255, 1.0)\",\"gridwidth\":2.0,\"zerolinecolor\":\"rgba(255, 255, 255, 1.0)\",\"backgroundcolor\":\"rgba(229, 236, 246, 1.0)\",\"showbackground\":true},\"zaxis\":{\"ticks\":\"\",\"linecolor\":\"rgba(255, 255, 255, 1.0)\",\"gridcolor\":\"rgba(255, 255, 255, 1.0)\",\"gridwidth\":2.0,\"zerolinecolor\":\"rgba(255, 255, 255, 1.0)\",\"backgroundcolor\":\"rgba(229, 236, 246, 1.0)\",\"showbackground\":true}},\"ternary\":{\"aaxis\":{\"ticks\":\"\",\"linecolor\":\"rgba(255, 255, 255, 1.0)\",\"gridcolor\":\"rgba(255, 255, 255, 1.0)\"},\"baxis\":{\"ticks\":\"\",\"linecolor\":\"rgba(255, 255, 255, 1.0)\",\"gridcolor\":\"rgba(255, 255, 255, 1.0)\"},\"caxis\":{\"ticks\":\"\",\"linecolor\":\"rgba(255, 255, 255, 1.0)\",\"gridcolor\":\"rgba(255, 255, 255, 1.0)\"},\"bgcolor\":\"rgba(229, 236, 246, 1.0)\"},\"xaxis\":{\"title\":{\"standoff\":15},\"ticks\":\"\",\"automargin\":true,\"linecolor\":\"rgba(255, 255, 255, 1.0)\",\"gridcolor\":\"rgba(255, 255, 255, 1.0)\",\"zerolinecolor\":\"rgba(255, 255, 255, 1.0)\",\"zerolinewidth\":2.0},\"yaxis\":{\"title\":{\"standoff\":15},\"ticks\":\"\",\"automargin\":true,\"linecolor\":\"rgba(255, 255, 255, 1.0)\",\"gridcolor\":\"rgba(255, 255, 255, 1.0)\",\"zerolinecolor\":\"rgba(255, 255, 255, 1.0)\",\"zerolinewidth\":2.0},\"annotationdefaults\":{\"arrowcolor\":\"#2a3f5f\",\"arrowhead\":0,\"arrowwidth\":1},\"shapedefaults\":{\"line\":{\"color\":\"rgba(42, 63, 95, 1.0)\"}},\"colorway\":[\"rgba(99, 110, 250, 1.0)\",\"rgba(239, 85, 59, 1.0)\",\"rgba(0, 204, 150, 1.0)\",\"rgba(171, 99, 250, 1.0)\",\"rgba(255, 161, 90, 1.0)\",\"rgba(25, 211, 243, 1.0)\",\"rgba(255, 102, 146, 1.0)\",\"rgba(182, 232, 128, 1.0)\",\"rgba(255, 151, 255, 1.0)\",\"rgba(254, 203, 82, 1.0)\"]},\"data\":{\"bar\":[{\"marker\":{\"line\":{\"color\":\"rgba(229, 236, 246, 1.0)\",\"width\":0.5},\"pattern\":{\"fillmode\":\"overlay\",\"size\":10,\"solidity\":0.2}},\"error_x\":{\"color\":\"rgba(42, 63, 95, 1.0)\"},\"error_y\":{\"color\":\"rgba(42, 63, 95, 1.0)\"}}],\"barpolar\":[{\"marker\":{\"line\":{\"color\":\"rgba(229, 236, 246, 1.0)\",\"width\":0.5},\"pattern\":{\"fillmode\":\"overlay\",\"size\":10,\"solidity\":0.2}}}],\"carpet\":[{\"aaxis\":{\"linecolor\":\"rgba(255, 255, 255, 1.0)\",\"gridcolor\":\"rgba(255, 255, 255, 1.0)\",\"endlinecolor\":\"rgba(42, 63, 95, 1.0)\",\"minorgridcolor\":\"rgba(255, 255, 255, 1.0)\",\"startlinecolor\":\"rgba(42, 63, 95, 1.0)\"},\"baxis\":{\"linecolor\":\"rgba(255, 255, 255, 1.0)\",\"gridcolor\":\"rgba(255, 255, 255, 1.0)\",\"endlinecolor\":\"rgba(42, 63, 95, 1.0)\",\"minorgridcolor\":\"rgba(255, 255, 255, 1.0)\",\"startlinecolor\":\"rgba(42, 63, 95, 1.0)\"}}],\"choropleth\":[{\"colorbar\":{\"outlinewidth\":0.0,\"ticks\":\"\"},\"colorscale\":[[0.0,\"#0d0887\"],[0.1111111111111111,\"#46039f\"],[0.2222222222222222,\"#7201a8\"],[0.3333333333333333,\"#9c179e\"],[0.4444444444444444,\"#bd3786\"],[0.5555555555555556,\"#d8576b\"],[0.6666666666666666,\"#ed7953\"],[0.7777777777777778,\"#fb9f3a\"],[0.8888888888888888,\"#fdca26\"],[1.0,\"#f0f921\"]]}],\"contour\":[{\"colorbar\":{\"outlinewidth\":0.0,\"ticks\":\"\"},\"colorscale\":[[0.0,\"#0d0887\"],[0.1111111111111111,\"#46039f\"],[0.2222222222222222,\"#7201a8\"],[0.3333333333333333,\"#9c179e\"],[0.4444444444444444,\"#bd3786\"],[0.5555555555555556,\"#d8576b\"],[0.6666666666666666,\"#ed7953\"],[0.7777777777777778,\"#fb9f3a\"],[0.8888888888888888,\"#fdca26\"],[1.0,\"#f0f921\"]]}],\"contourcarpet\":[{\"colorbar\":{\"outlinewidth\":0.0,\"ticks\":\"\"}}],\"heatmap\":[{\"colorbar\":{\"outlinewidth\":0.0,\"ticks\":\"\"},\"colorscale\":[[0.0,\"#0d0887\"],[0.1111111111111111,\"#46039f\"],[0.2222222222222222,\"#7201a8\"],[0.3333333333333333,\"#9c179e\"],[0.4444444444444444,\"#bd3786\"],[0.5555555555555556,\"#d8576b\"],[0.6666666666666666,\"#ed7953\"],[0.7777777777777778,\"#fb9f3a\"],[0.8888888888888888,\"#fdca26\"],[1.0,\"#f0f921\"]]}],\"heatmapgl\":[{\"colorbar\":{\"outlinewidth\":0.0,\"ticks\":\"\"},\"colorscale\":[[0.0,\"#0d0887\"],[0.1111111111111111,\"#46039f\"],[0.2222222222222222,\"#7201a8\"],[0.3333333333333333,\"#9c179e\"],[0.4444444444444444,\"#bd3786\"],[0.5555555555555556,\"#d8576b\"],[0.6666666666666666,\"#ed7953\"],[0.7777777777777778,\"#fb9f3a\"],[0.8888888888888888,\"#fdca26\"],[1.0,\"#f0f921\"]]}],\"histogram\":[{\"marker\":{\"pattern\":{\"fillmode\":\"overlay\",\"size\":10,\"solidity\":0.2}}}],\"histogram2d\":[{\"colorbar\":{\"outlinewidth\":0.0,\"ticks\":\"\"},\"colorscale\":[[0.0,\"#0d0887\"],[0.1111111111111111,\"#46039f\"],[0.2222222222222222,\"#7201a8\"],[0.3333333333333333,\"#9c179e\"],[0.4444444444444444,\"#bd3786\"],[0.5555555555555556,\"#d8576b\"],[0.6666666666666666,\"#ed7953\"],[0.7777777777777778,\"#fb9f3a\"],[0.8888888888888888,\"#fdca26\"],[1.0,\"#f0f921\"]]}],\"histogram2dcontour\":[{\"colorbar\":{\"outlinewidth\":0.0,\"ticks\":\"\"},\"colorscale\":[[0.0,\"#0d0887\"],[0.1111111111111111,\"#46039f\"],[0.2222222222222222,\"#7201a8\"],[0.3333333333333333,\"#9c179e\"],[0.4444444444444444,\"#bd3786\"],[0.5555555555555556,\"#d8576b\"],[0.6666666666666666,\"#ed7953\"],[0.7777777777777778,\"#fb9f3a\"],[0.8888888888888888,\"#fdca26\"],[1.0,\"#f0f921\"]]}],\"mesh3d\":[{\"colorbar\":{\"outlinewidth\":0.0,\"ticks\":\"\"}}],\"parcoords\":[{\"line\":{\"colorbar\":{\"outlinewidth\":0.0,\"ticks\":\"\"}}}],\"pie\":[{\"automargin\":true}],\"scatter\":[{\"marker\":{\"colorbar\":{\"outlinewidth\":0.0,\"ticks\":\"\"}}}],\"scatter3d\":[{\"marker\":{\"colorbar\":{\"outlinewidth\":0.0,\"ticks\":\"\"}},\"line\":{\"colorbar\":{\"outlinewidth\":0.0,\"ticks\":\"\"}}}],\"scattercarpet\":[{\"marker\":{\"colorbar\":{\"outlinewidth\":0.0,\"ticks\":\"\"}}}],\"scattergeo\":[{\"marker\":{\"colorbar\":{\"outlinewidth\":0.0,\"ticks\":\"\"}}}],\"scattergl\":[{\"marker\":{\"colorbar\":{\"outlinewidth\":0.0,\"ticks\":\"\"}}}],\"scattermapbox\":[{\"marker\":{\"colorbar\":{\"outlinewidth\":0.0,\"ticks\":\"\"}}}],\"scatterpolar\":[{\"marker\":{\"colorbar\":{\"outlinewidth\":0.0,\"ticks\":\"\"}}}],\"scatterpolargl\":[{\"marker\":{\"colorbar\":{\"outlinewidth\":0.0,\"ticks\":\"\"}}}],\"scatterternary\":[{\"marker\":{\"colorbar\":{\"outlinewidth\":0.0,\"ticks\":\"\"}}}],\"surface\":[{\"colorbar\":{\"outlinewidth\":0.0,\"ticks\":\"\"},\"colorscale\":[[0.0,\"#0d0887\"],[0.1111111111111111,\"#46039f\"],[0.2222222222222222,\"#7201a8\"],[0.3333333333333333,\"#9c179e\"],[0.4444444444444444,\"#bd3786\"],[0.5555555555555556,\"#d8576b\"],[0.6666666666666666,\"#ed7953\"],[0.7777777777777778,\"#fb9f3a\"],[0.8888888888888888,\"#fdca26\"],[1.0,\"#f0f921\"]]}],\"table\":[{\"cells\":{\"fill\":{\"color\":\"rgba(235, 240, 248, 1.0)\"},\"line\":{\"color\":\"rgba(255, 255, 255, 1.0)\"}},\"header\":{\"fill\":{\"color\":\"rgba(200, 212, 227, 1.0)\"},\"line\":{\"color\":\"rgba(255, 255, 255, 1.0)\"}}}]}},\"title\":{\"text\":\"Abbildung 3 - Simple growth model comparison\"},\"xaxis\":{\"title\":{\"text\":\"Time\"}},\"yaxis\":{\"title\":{\"text\":\"Population size\"}}};\r\n",
       "            var config = {\"responsive\":true};\r\n",
       "            Plotly.newPlot('3353c580-1b0c-470b-afeb-3451a885386d', data, layout, config);\r\n",
       "});\r\n",
       "            };\r\n",
       "            if ((typeof(requirejs) !==  typeof(Function)) || (typeof(requirejs.config) !== typeof(Function))) {\r\n",
       "                var script = document.createElement(\"script\");\r\n",
       "                script.setAttribute(\"src\", \"https://cdnjs.cloudflare.com/ajax/libs/require.js/2.3.6/require.min.js\");\r\n",
       "                script.onload = function(){\r\n",
       "                    renderPlotly_3353c5801b0c470bafeb3451a885386d();\r\n",
       "                };\r\n",
       "                document.getElementsByTagName(\"head\")[0].appendChild(script);\r\n",
       "            }\r\n",
       "            else {\r\n",
       "                renderPlotly_3353c5801b0c470bafeb3451a885386d();\r\n",
       "            }\r\n",
       "</script>\r\n",
       "\n",
       "    \n",
       "</div>    \n"
      ]
     },
     "metadata": {},
     "output_type": "display_data"
    }
   ],
   "source": [
    "let y_exact =\n",
    "    fun t -> \n",
    "        N0 * exp(r * t) //aufgabe\n",
    "\n",
    "[\n",
    "    sim_dy_dx\n",
    "    |> SolPoints.toPoints 1\n",
    "    |> Chart.Spline \n",
    "    |> Chart.withTraceInfo(\"simulation\");\n",
    "    \n",
    "    sim_dy_dx\n",
    "    |> SolPoints.map (fun p -> (p.x, y_exact p.x))\n",
    "    |> Chart.Point\n",
    "    |> Chart.withTraceInfo(\"exact\");\n",
    "\n",
    "]\n",
    "|> Chart.combine\n",
    "|> Chart.withTitle(\"Abbildung 3 - Simple growth model comparison\")\n",
    "|> Chart.withXAxisStyle(\"Time\")\n",
    "|> Chart.withYAxisStyle(\"Population size\")"
   ]
  }
 ],
 "metadata": {
  "kernelspec": {
   "display_name": ".NET (F#)",
   "language": "F#",
   "name": ".net-fsharp"
  },
  "language_info": {
   "name": "F#"
  }
 },
 "nbformat": 4,
 "nbformat_minor": 2
}
