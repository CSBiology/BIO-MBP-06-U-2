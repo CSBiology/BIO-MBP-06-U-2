{
  "cells": [
    {
      "cell_type": "code",
      "execution_count": null,
      "metadata": {
        "dotnet_interactive": {
          "language": "fsharp"
        },
        "vscode": {
          "languageId": "dotnet-interactive.fsharp"
        }
      },
      "outputs": [
        {
          "data": {
            "text/html": [
              "<div><div></div><div></div><div><strong>Installed Packages</strong><ul><li><span>FSharp.Stats, 0.4.7</span></li><li><span>FsODE, 0.0.1</span></li><li><span>Plotly.NET.Interactive, 3.0.2</span></li></ul></div></div>"
            ]
          },
          "metadata": {},
          "output_type": "display_data"
        }
      ],
      "source": [
        "// Import the required libraries\n",
        "#r \"nuget: Plotly.NET.Interactive, 3.0.2\"\n",
        "#r \"nuget: FSharp.Stats, 0.4.7\"\n",
        "#r \"nuget: FsODE, 0.0.1\"\n",
        "\n",
        "// ... and open the required modules\n",
        "open FsODE\n",
        "open Plotly.NET\n",
        "open Plotly.NET.LayoutObjects\n",
        "open Plotly.NET.StyleParam\n",
        "open FSharp.Stats"
      ]
    },
    {
      "cell_type": "markdown",
      "metadata": {},
      "source": [
        "# Tag 2 - Modellierung von Wachstum"
      ]
    },
    {
      "cell_type": "markdown",
      "metadata": {},
      "source": [
        "Wiederholung Wachstumsmodellierung"
      ]
    },
    {
      "cell_type": "markdown",
      "metadata": {},
      "source": [
        "## Exkurs Logarithmus\n",
        "\n",
        "\n",
        "Wie Sie vielleicht gemerkt haben, wächst die Population in obigem Beispiel zu jedem Zeitpunkt mit der gleichen Rate exponentiell. Die Steigungsänderung hängt nie von *t*, sondern nur von der gerade vorhandenen Zellzahl *N* und der Konstante *r* ab (vgl. 2.2). In den Abbildung wirkt es jedoch, als würden sich die Zellen mit fortschreitender Zeit immer schneller teilen. Um diesen Effekt zu vermeiden sollten Zellzahlen grundsätzlich vor einer Wachstumsanalyse logarithmiert werden. Diese Transformation führt dazu, dass exponentielle Verhaltensweisen visuell korrigiert werden.\n",
        "\n",
        "Ein Beispiel:\n",
        "\n",
        "Ein Bakterium teilt sich jede Stunde genau ein mal. Nach der ersten Stunde sind es 2, nach der zweiten 4, nach der dritten 8 usw. Dieses Verhalten lässt sich durch $f(t)=2^t$ wie im Folgenden gezeigt darstellen.\n",
        "\n",
        "_Aufgabe 2.8: Formulieren Sie die Funktion f(t), die dieses Verhalten widerspiegelt._\n"
      ]
    },
    {
      "cell_type": "code",
      "execution_count": null,
      "metadata": {
        "dotnet_interactive": {
          "language": "fsharp"
        },
        "vscode": {
          "languageId": "dotnet-interactive.fsharp"
        }
      },
      "outputs": [
        {
          "data": {
            "text/html": [
              "\n",
              "<div>\n",
              "    <div id=\"32f7ff74-fe6b-491c-8cb7-e88c3d86f52c\"><!-- Plotly chart will be drawn inside this DIV --></div>\r\n",
              "<script type=\"text/javascript\">\r\n",
              "\r\n",
              "            var renderPlotly_32f7ff74fe6b491c8cb7e88c3d86f52c = function() {\r\n",
              "            var fsharpPlotlyRequire = requirejs.config({context:'fsharp-plotly',paths:{plotly:'https://cdn.plot.ly/plotly-2.6.3.min'}}) || require;\r\n",
              "            fsharpPlotlyRequire(['plotly'], function(Plotly) {\r\n",
              "\r\n",
              "            var data = [{\"type\":\"scatter\",\"mode\":\"lines\",\"x\":[0,1,2,3,4,5,6,7,8,9,10,11,12,13,14,15,16,17,18,19,20,21,22,23,24],\"y\":[1.0,2.0,4.0,8.0,16.0,32.0,64.0,128.0,256.0,512.0,1024.0,2048.0,4096.0,8192.0,16384.0,32768.0,65536.0,131072.0,262144.0,524288.0,1048576.0,2097152.0,4194304.0,8388608.0,16777216.0],\"marker\":{},\"line\":{}}];\r\n",
              "            var layout = {\"width\":600,\"height\":600,\"template\":{\"layout\":{\"title\":{\"x\":0.05},\"font\":{\"color\":\"rgba(42, 63, 95, 1.0)\"},\"paper_bgcolor\":\"rgba(255, 255, 255, 1.0)\",\"plot_bgcolor\":\"rgba(229, 236, 246, 1.0)\",\"autotypenumbers\":\"strict\",\"colorscale\":{\"diverging\":[[0.0,\"#8e0152\"],[0.1,\"#c51b7d\"],[0.2,\"#de77ae\"],[0.3,\"#f1b6da\"],[0.4,\"#fde0ef\"],[0.5,\"#f7f7f7\"],[0.6,\"#e6f5d0\"],[0.7,\"#b8e186\"],[0.8,\"#7fbc41\"],[0.9,\"#4d9221\"],[1.0,\"#276419\"]],\"sequential\":[[0.0,\"#0d0887\"],[0.1111111111111111,\"#46039f\"],[0.2222222222222222,\"#7201a8\"],[0.3333333333333333,\"#9c179e\"],[0.4444444444444444,\"#bd3786\"],[0.5555555555555556,\"#d8576b\"],[0.6666666666666666,\"#ed7953\"],[0.7777777777777778,\"#fb9f3a\"],[0.8888888888888888,\"#fdca26\"],[1.0,\"#f0f921\"]],\"sequentialminus\":[[0.0,\"#0d0887\"],[0.1111111111111111,\"#46039f\"],[0.2222222222222222,\"#7201a8\"],[0.3333333333333333,\"#9c179e\"],[0.4444444444444444,\"#bd3786\"],[0.5555555555555556,\"#d8576b\"],[0.6666666666666666,\"#ed7953\"],[0.7777777777777778,\"#fb9f3a\"],[0.8888888888888888,\"#fdca26\"],[1.0,\"#f0f921\"]]},\"hovermode\":\"closest\",\"hoverlabel\":{\"align\":\"left\"},\"coloraxis\":{\"colorbar\":{\"outlinewidth\":0.0,\"ticks\":\"\"}},\"geo\":{\"showland\":true,\"landcolor\":\"rgba(229, 236, 246, 1.0)\",\"showlakes\":true,\"lakecolor\":\"rgba(255, 255, 255, 1.0)\",\"subunitcolor\":\"rgba(255, 255, 255, 1.0)\",\"bgcolor\":\"rgba(255, 255, 255, 1.0)\"},\"mapbox\":{\"style\":\"light\"},\"polar\":{\"bgcolor\":\"rgba(229, 236, 246, 1.0)\",\"radialaxis\":{\"linecolor\":\"rgba(255, 255, 255, 1.0)\",\"gridcolor\":\"rgba(255, 255, 255, 1.0)\",\"ticks\":\"\"},\"angularaxis\":{\"linecolor\":\"rgba(255, 255, 255, 1.0)\",\"gridcolor\":\"rgba(255, 255, 255, 1.0)\",\"ticks\":\"\"}},\"scene\":{\"xaxis\":{\"ticks\":\"\",\"linecolor\":\"rgba(255, 255, 255, 1.0)\",\"gridcolor\":\"rgba(255, 255, 255, 1.0)\",\"gridwidth\":2.0,\"zerolinecolor\":\"rgba(255, 255, 255, 1.0)\",\"backgroundcolor\":\"rgba(229, 236, 246, 1.0)\",\"showbackground\":true},\"yaxis\":{\"ticks\":\"\",\"linecolor\":\"rgba(255, 255, 255, 1.0)\",\"gridcolor\":\"rgba(255, 255, 255, 1.0)\",\"gridwidth\":2.0,\"zerolinecolor\":\"rgba(255, 255, 255, 1.0)\",\"backgroundcolor\":\"rgba(229, 236, 246, 1.0)\",\"showbackground\":true},\"zaxis\":{\"ticks\":\"\",\"linecolor\":\"rgba(255, 255, 255, 1.0)\",\"gridcolor\":\"rgba(255, 255, 255, 1.0)\",\"gridwidth\":2.0,\"zerolinecolor\":\"rgba(255, 255, 255, 1.0)\",\"backgroundcolor\":\"rgba(229, 236, 246, 1.0)\",\"showbackground\":true}},\"ternary\":{\"aaxis\":{\"ticks\":\"\",\"linecolor\":\"rgba(255, 255, 255, 1.0)\",\"gridcolor\":\"rgba(255, 255, 255, 1.0)\"},\"baxis\":{\"ticks\":\"\",\"linecolor\":\"rgba(255, 255, 255, 1.0)\",\"gridcolor\":\"rgba(255, 255, 255, 1.0)\"},\"caxis\":{\"ticks\":\"\",\"linecolor\":\"rgba(255, 255, 255, 1.0)\",\"gridcolor\":\"rgba(255, 255, 255, 1.0)\"},\"bgcolor\":\"rgba(229, 236, 246, 1.0)\"},\"xaxis\":{\"title\":{\"standoff\":15},\"ticks\":\"\",\"automargin\":true,\"linecolor\":\"rgba(255, 255, 255, 1.0)\",\"gridcolor\":\"rgba(255, 255, 255, 1.0)\",\"zerolinecolor\":\"rgba(255, 255, 255, 1.0)\",\"zerolinewidth\":2.0},\"yaxis\":{\"title\":{\"standoff\":15},\"ticks\":\"\",\"automargin\":true,\"linecolor\":\"rgba(255, 255, 255, 1.0)\",\"gridcolor\":\"rgba(255, 255, 255, 1.0)\",\"zerolinecolor\":\"rgba(255, 255, 255, 1.0)\",\"zerolinewidth\":2.0},\"annotationdefaults\":{\"arrowcolor\":\"#2a3f5f\",\"arrowhead\":0,\"arrowwidth\":1},\"shapedefaults\":{\"line\":{\"color\":\"rgba(42, 63, 95, 1.0)\"}},\"colorway\":[\"rgba(99, 110, 250, 1.0)\",\"rgba(239, 85, 59, 1.0)\",\"rgba(0, 204, 150, 1.0)\",\"rgba(171, 99, 250, 1.0)\",\"rgba(255, 161, 90, 1.0)\",\"rgba(25, 211, 243, 1.0)\",\"rgba(255, 102, 146, 1.0)\",\"rgba(182, 232, 128, 1.0)\",\"rgba(255, 151, 255, 1.0)\",\"rgba(254, 203, 82, 1.0)\"]},\"data\":{\"bar\":[{\"marker\":{\"line\":{\"color\":\"rgba(229, 236, 246, 1.0)\",\"width\":0.5},\"pattern\":{\"fillmode\":\"overlay\",\"size\":10,\"solidity\":0.2}},\"error_x\":{\"color\":\"rgba(42, 63, 95, 1.0)\"},\"error_y\":{\"color\":\"rgba(42, 63, 95, 1.0)\"}}],\"barpolar\":[{\"marker\":{\"line\":{\"color\":\"rgba(229, 236, 246, 1.0)\",\"width\":0.5},\"pattern\":{\"fillmode\":\"overlay\",\"size\":10,\"solidity\":0.2}}}],\"carpet\":[{\"aaxis\":{\"linecolor\":\"rgba(255, 255, 255, 1.0)\",\"gridcolor\":\"rgba(255, 255, 255, 1.0)\",\"endlinecolor\":\"rgba(42, 63, 95, 1.0)\",\"minorgridcolor\":\"rgba(255, 255, 255, 1.0)\",\"startlinecolor\":\"rgba(42, 63, 95, 1.0)\"},\"baxis\":{\"linecolor\":\"rgba(255, 255, 255, 1.0)\",\"gridcolor\":\"rgba(255, 255, 255, 1.0)\",\"endlinecolor\":\"rgba(42, 63, 95, 1.0)\",\"minorgridcolor\":\"rgba(255, 255, 255, 1.0)\",\"startlinecolor\":\"rgba(42, 63, 95, 1.0)\"}}],\"choropleth\":[{\"colorbar\":{\"outlinewidth\":0.0,\"ticks\":\"\"},\"colorscale\":[[0.0,\"#0d0887\"],[0.1111111111111111,\"#46039f\"],[0.2222222222222222,\"#7201a8\"],[0.3333333333333333,\"#9c179e\"],[0.4444444444444444,\"#bd3786\"],[0.5555555555555556,\"#d8576b\"],[0.6666666666666666,\"#ed7953\"],[0.7777777777777778,\"#fb9f3a\"],[0.8888888888888888,\"#fdca26\"],[1.0,\"#f0f921\"]]}],\"contour\":[{\"colorbar\":{\"outlinewidth\":0.0,\"ticks\":\"\"},\"colorscale\":[[0.0,\"#0d0887\"],[0.1111111111111111,\"#46039f\"],[0.2222222222222222,\"#7201a8\"],[0.3333333333333333,\"#9c179e\"],[0.4444444444444444,\"#bd3786\"],[0.5555555555555556,\"#d8576b\"],[0.6666666666666666,\"#ed7953\"],[0.7777777777777778,\"#fb9f3a\"],[0.8888888888888888,\"#fdca26\"],[1.0,\"#f0f921\"]]}],\"contourcarpet\":[{\"colorbar\":{\"outlinewidth\":0.0,\"ticks\":\"\"}}],\"heatmap\":[{\"colorbar\":{\"outlinewidth\":0.0,\"ticks\":\"\"},\"colorscale\":[[0.0,\"#0d0887\"],[0.1111111111111111,\"#46039f\"],[0.2222222222222222,\"#7201a8\"],[0.3333333333333333,\"#9c179e\"],[0.4444444444444444,\"#bd3786\"],[0.5555555555555556,\"#d8576b\"],[0.6666666666666666,\"#ed7953\"],[0.7777777777777778,\"#fb9f3a\"],[0.8888888888888888,\"#fdca26\"],[1.0,\"#f0f921\"]]}],\"heatmapgl\":[{\"colorbar\":{\"outlinewidth\":0.0,\"ticks\":\"\"},\"colorscale\":[[0.0,\"#0d0887\"],[0.1111111111111111,\"#46039f\"],[0.2222222222222222,\"#7201a8\"],[0.3333333333333333,\"#9c179e\"],[0.4444444444444444,\"#bd3786\"],[0.5555555555555556,\"#d8576b\"],[0.6666666666666666,\"#ed7953\"],[0.7777777777777778,\"#fb9f3a\"],[0.8888888888888888,\"#fdca26\"],[1.0,\"#f0f921\"]]}],\"histogram\":[{\"marker\":{\"pattern\":{\"fillmode\":\"overlay\",\"size\":10,\"solidity\":0.2}}}],\"histogram2d\":[{\"colorbar\":{\"outlinewidth\":0.0,\"ticks\":\"\"},\"colorscale\":[[0.0,\"#0d0887\"],[0.1111111111111111,\"#46039f\"],[0.2222222222222222,\"#7201a8\"],[0.3333333333333333,\"#9c179e\"],[0.4444444444444444,\"#bd3786\"],[0.5555555555555556,\"#d8576b\"],[0.6666666666666666,\"#ed7953\"],[0.7777777777777778,\"#fb9f3a\"],[0.8888888888888888,\"#fdca26\"],[1.0,\"#f0f921\"]]}],\"histogram2dcontour\":[{\"colorbar\":{\"outlinewidth\":0.0,\"ticks\":\"\"},\"colorscale\":[[0.0,\"#0d0887\"],[0.1111111111111111,\"#46039f\"],[0.2222222222222222,\"#7201a8\"],[0.3333333333333333,\"#9c179e\"],[0.4444444444444444,\"#bd3786\"],[0.5555555555555556,\"#d8576b\"],[0.6666666666666666,\"#ed7953\"],[0.7777777777777778,\"#fb9f3a\"],[0.8888888888888888,\"#fdca26\"],[1.0,\"#f0f921\"]]}],\"mesh3d\":[{\"colorbar\":{\"outlinewidth\":0.0,\"ticks\":\"\"}}],\"parcoords\":[{\"line\":{\"colorbar\":{\"outlinewidth\":0.0,\"ticks\":\"\"}}}],\"pie\":[{\"automargin\":true}],\"scatter\":[{\"marker\":{\"colorbar\":{\"outlinewidth\":0.0,\"ticks\":\"\"}}}],\"scatter3d\":[{\"marker\":{\"colorbar\":{\"outlinewidth\":0.0,\"ticks\":\"\"}},\"line\":{\"colorbar\":{\"outlinewidth\":0.0,\"ticks\":\"\"}}}],\"scattercarpet\":[{\"marker\":{\"colorbar\":{\"outlinewidth\":0.0,\"ticks\":\"\"}}}],\"scattergeo\":[{\"marker\":{\"colorbar\":{\"outlinewidth\":0.0,\"ticks\":\"\"}}}],\"scattergl\":[{\"marker\":{\"colorbar\":{\"outlinewidth\":0.0,\"ticks\":\"\"}}}],\"scattermapbox\":[{\"marker\":{\"colorbar\":{\"outlinewidth\":0.0,\"ticks\":\"\"}}}],\"scatterpolar\":[{\"marker\":{\"colorbar\":{\"outlinewidth\":0.0,\"ticks\":\"\"}}}],\"scatterpolargl\":[{\"marker\":{\"colorbar\":{\"outlinewidth\":0.0,\"ticks\":\"\"}}}],\"scatterternary\":[{\"marker\":{\"colorbar\":{\"outlinewidth\":0.0,\"ticks\":\"\"}}}],\"surface\":[{\"colorbar\":{\"outlinewidth\":0.0,\"ticks\":\"\"},\"colorscale\":[[0.0,\"#0d0887\"],[0.1111111111111111,\"#46039f\"],[0.2222222222222222,\"#7201a8\"],[0.3333333333333333,\"#9c179e\"],[0.4444444444444444,\"#bd3786\"],[0.5555555555555556,\"#d8576b\"],[0.6666666666666666,\"#ed7953\"],[0.7777777777777778,\"#fb9f3a\"],[0.8888888888888888,\"#fdca26\"],[1.0,\"#f0f921\"]]}],\"table\":[{\"cells\":{\"fill\":{\"color\":\"rgba(235, 240, 248, 1.0)\"},\"line\":{\"color\":\"rgba(255, 255, 255, 1.0)\"}},\"header\":{\"fill\":{\"color\":\"rgba(200, 212, 227, 1.0)\"},\"line\":{\"color\":\"rgba(255, 255, 255, 1.0)\"}}}]}},\"xaxis\":{\"title\":{\"text\":\"Time [h]\"}},\"yaxis\":{\"title\":{\"text\":\"Bakterienzahl\"}},\"title\":{\"text\":\"Abbildung 4 - Logarithmus I\"}};\r\n",
              "            var config = {\"responsive\":true};\r\n",
              "            Plotly.newPlot('32f7ff74-fe6b-491c-8cb7-e88c3d86f52c', data, layout, config);\r\n",
              "});\r\n",
              "            };\r\n",
              "            if ((typeof(requirejs) !==  typeof(Function)) || (typeof(requirejs.config) !== typeof(Function))) {\r\n",
              "                var script = document.createElement(\"script\");\r\n",
              "                script.setAttribute(\"src\", \"https://cdnjs.cloudflare.com/ajax/libs/require.js/2.3.6/require.min.js\");\r\n",
              "                script.onload = function(){\r\n",
              "                    renderPlotly_32f7ff74fe6b491c8cb7e88c3d86f52c();\r\n",
              "                };\r\n",
              "                document.getElementsByTagName(\"head\")[0].appendChild(script);\r\n",
              "            }\r\n",
              "            else {\r\n",
              "                renderPlotly_32f7ff74fe6b491c8cb7e88c3d86f52c();\r\n",
              "            }\r\n",
              "</script>\r\n",
              "\n",
              "    \n",
              "</div>    \n"
            ]
          },
          "metadata": {},
          "output_type": "display_data"
        }
      ],
      "source": [
        "let f t = \n",
        "    2.0**t //aufgabe\n",
        "\n",
        "let xyWerte = \n",
        "    [|\n",
        "        for t in [|0..24|] do  \n",
        "            let xWert = t\n",
        "            let yWert = f t\n",
        "            xWert,yWert\n",
        "    |]\n",
        "\n",
        "Chart.Line xyWerte\n",
        "|> Chart.withXAxisStyle(\"Time [h]\")\n",
        "|> Chart.withYAxisStyle(\"Bakterienzahl\")\n",
        "|> Chart.withTitle(\"Abbildung 4 - Logarithmus I\")"
      ]
    },
    {
      "cell_type": "markdown",
      "metadata": {},
      "source": [
        "Allein durch das Betrachten einer exponentielle Funktion wird nicht klar, was zwischen Stunde 0 und Stunde 15 passiert. Um dafür einen Eindruck zu erhalten werden die y-Werte logarithmiert und erneut visualisiert."
      ]
    },
    {
      "cell_type": "code",
      "execution_count": null,
      "metadata": {
        "dotnet_interactive": {
          "language": "fsharp"
        },
        "vscode": {
          "languageId": "dotnet-interactive.fsharp"
        }
      },
      "outputs": [
        {
          "data": {
            "text/html": [
              "\n",
              "<div>\n",
              "    <div id=\"7d2ad2b7-08a4-49cf-a371-f698c702b8bb\"><!-- Plotly chart will be drawn inside this DIV --></div>\r\n",
              "<script type=\"text/javascript\">\r\n",
              "\r\n",
              "            var renderPlotly_7d2ad2b708a449cfa371f698c702b8bb = function() {\r\n",
              "            var fsharpPlotlyRequire = requirejs.config({context:'fsharp-plotly',paths:{plotly:'https://cdn.plot.ly/plotly-2.6.3.min'}}) || require;\r\n",
              "            fsharpPlotlyRequire(['plotly'], function(Plotly) {\r\n",
              "\r\n",
              "            var data = [{\"type\":\"scatter\",\"name\":\"log2\",\"mode\":\"lines\",\"x\":[0,1,2,3,4,5,6,7,8,9,10,11,12,13,14,15,16,17,18,19,20,21,22,23,24],\"y\":[0.0,1.0,2.0,3.0,4.0,5.0,6.0,7.0,8.0,9.0,10.0,11.0,12.0,13.0,14.0,15.0,16.0,17.0,18.0,19.0,20.0,21.0,22.0,23.0,24.0],\"marker\":{},\"line\":{}},{\"type\":\"scatter\",\"name\":\"log10\",\"mode\":\"lines\",\"x\":[0,1,2,3,4,5,6,7,8,9,10,11,12,13,14,15,16,17,18,19,20,21,22,23,24],\"y\":[0.0,0.3010299956639812,0.6020599913279624,0.9030899869919435,1.2041199826559248,1.505149978319906,1.806179973983887,2.1072099696478683,2.4082399653118496,2.709269960975831,3.010299956639812,3.3113299523037933,3.612359947967774,3.9133899436317554,4.214419939295737,4.515449934959718,4.816479930623699,5.11750992628768,5.418539921951662,5.719569917615643,6.020599913279624,6.321629908943605,6.622659904607587,6.923689900271567,7.224719895935548],\"marker\":{},\"line\":{}},{\"type\":\"scatter\",\"name\":\"ln\",\"mode\":\"lines\",\"x\":[0,1,2,3,4,5,6,7,8,9,10,11,12,13,14,15,16,17,18,19,20,21,22,23,24],\"y\":[0.0,0.6931471805599453,1.3862943611198906,2.0794415416798357,2.772588722239781,3.4657359027997265,4.1588830833596715,4.852030263919617,5.545177444479562,6.238324625039508,6.931471805599453,7.6246189861593985,8.317766166719343,9.010913347279288,9.704060527839234,10.39720770839918,11.090354888959125,11.78350206951907,12.476649250079015,13.16979643063896,13.862943611198906,14.556090791758852,15.249237972318797,15.942385152878742,16.635532333438686],\"marker\":{},\"line\":{}}];\r\n",
              "            var layout = {\"width\":600,\"height\":600,\"template\":{\"layout\":{\"title\":{\"x\":0.05},\"font\":{\"color\":\"rgba(42, 63, 95, 1.0)\"},\"paper_bgcolor\":\"rgba(255, 255, 255, 1.0)\",\"plot_bgcolor\":\"rgba(229, 236, 246, 1.0)\",\"autotypenumbers\":\"strict\",\"colorscale\":{\"diverging\":[[0.0,\"#8e0152\"],[0.1,\"#c51b7d\"],[0.2,\"#de77ae\"],[0.3,\"#f1b6da\"],[0.4,\"#fde0ef\"],[0.5,\"#f7f7f7\"],[0.6,\"#e6f5d0\"],[0.7,\"#b8e186\"],[0.8,\"#7fbc41\"],[0.9,\"#4d9221\"],[1.0,\"#276419\"]],\"sequential\":[[0.0,\"#0d0887\"],[0.1111111111111111,\"#46039f\"],[0.2222222222222222,\"#7201a8\"],[0.3333333333333333,\"#9c179e\"],[0.4444444444444444,\"#bd3786\"],[0.5555555555555556,\"#d8576b\"],[0.6666666666666666,\"#ed7953\"],[0.7777777777777778,\"#fb9f3a\"],[0.8888888888888888,\"#fdca26\"],[1.0,\"#f0f921\"]],\"sequentialminus\":[[0.0,\"#0d0887\"],[0.1111111111111111,\"#46039f\"],[0.2222222222222222,\"#7201a8\"],[0.3333333333333333,\"#9c179e\"],[0.4444444444444444,\"#bd3786\"],[0.5555555555555556,\"#d8576b\"],[0.6666666666666666,\"#ed7953\"],[0.7777777777777778,\"#fb9f3a\"],[0.8888888888888888,\"#fdca26\"],[1.0,\"#f0f921\"]]},\"hovermode\":\"closest\",\"hoverlabel\":{\"align\":\"left\"},\"coloraxis\":{\"colorbar\":{\"outlinewidth\":0.0,\"ticks\":\"\"}},\"geo\":{\"showland\":true,\"landcolor\":\"rgba(229, 236, 246, 1.0)\",\"showlakes\":true,\"lakecolor\":\"rgba(255, 255, 255, 1.0)\",\"subunitcolor\":\"rgba(255, 255, 255, 1.0)\",\"bgcolor\":\"rgba(255, 255, 255, 1.0)\"},\"mapbox\":{\"style\":\"light\"},\"polar\":{\"bgcolor\":\"rgba(229, 236, 246, 1.0)\",\"radialaxis\":{\"linecolor\":\"rgba(255, 255, 255, 1.0)\",\"gridcolor\":\"rgba(255, 255, 255, 1.0)\",\"ticks\":\"\"},\"angularaxis\":{\"linecolor\":\"rgba(255, 255, 255, 1.0)\",\"gridcolor\":\"rgba(255, 255, 255, 1.0)\",\"ticks\":\"\"}},\"scene\":{\"xaxis\":{\"ticks\":\"\",\"linecolor\":\"rgba(255, 255, 255, 1.0)\",\"gridcolor\":\"rgba(255, 255, 255, 1.0)\",\"gridwidth\":2.0,\"zerolinecolor\":\"rgba(255, 255, 255, 1.0)\",\"backgroundcolor\":\"rgba(229, 236, 246, 1.0)\",\"showbackground\":true},\"yaxis\":{\"ticks\":\"\",\"linecolor\":\"rgba(255, 255, 255, 1.0)\",\"gridcolor\":\"rgba(255, 255, 255, 1.0)\",\"gridwidth\":2.0,\"zerolinecolor\":\"rgba(255, 255, 255, 1.0)\",\"backgroundcolor\":\"rgba(229, 236, 246, 1.0)\",\"showbackground\":true},\"zaxis\":{\"ticks\":\"\",\"linecolor\":\"rgba(255, 255, 255, 1.0)\",\"gridcolor\":\"rgba(255, 255, 255, 1.0)\",\"gridwidth\":2.0,\"zerolinecolor\":\"rgba(255, 255, 255, 1.0)\",\"backgroundcolor\":\"rgba(229, 236, 246, 1.0)\",\"showbackground\":true}},\"ternary\":{\"aaxis\":{\"ticks\":\"\",\"linecolor\":\"rgba(255, 255, 255, 1.0)\",\"gridcolor\":\"rgba(255, 255, 255, 1.0)\"},\"baxis\":{\"ticks\":\"\",\"linecolor\":\"rgba(255, 255, 255, 1.0)\",\"gridcolor\":\"rgba(255, 255, 255, 1.0)\"},\"caxis\":{\"ticks\":\"\",\"linecolor\":\"rgba(255, 255, 255, 1.0)\",\"gridcolor\":\"rgba(255, 255, 255, 1.0)\"},\"bgcolor\":\"rgba(229, 236, 246, 1.0)\"},\"xaxis\":{\"title\":{\"standoff\":15},\"ticks\":\"\",\"automargin\":true,\"linecolor\":\"rgba(255, 255, 255, 1.0)\",\"gridcolor\":\"rgba(255, 255, 255, 1.0)\",\"zerolinecolor\":\"rgba(255, 255, 255, 1.0)\",\"zerolinewidth\":2.0},\"yaxis\":{\"title\":{\"standoff\":15},\"ticks\":\"\",\"automargin\":true,\"linecolor\":\"rgba(255, 255, 255, 1.0)\",\"gridcolor\":\"rgba(255, 255, 255, 1.0)\",\"zerolinecolor\":\"rgba(255, 255, 255, 1.0)\",\"zerolinewidth\":2.0},\"annotationdefaults\":{\"arrowcolor\":\"#2a3f5f\",\"arrowhead\":0,\"arrowwidth\":1},\"shapedefaults\":{\"line\":{\"color\":\"rgba(42, 63, 95, 1.0)\"}},\"colorway\":[\"rgba(99, 110, 250, 1.0)\",\"rgba(239, 85, 59, 1.0)\",\"rgba(0, 204, 150, 1.0)\",\"rgba(171, 99, 250, 1.0)\",\"rgba(255, 161, 90, 1.0)\",\"rgba(25, 211, 243, 1.0)\",\"rgba(255, 102, 146, 1.0)\",\"rgba(182, 232, 128, 1.0)\",\"rgba(255, 151, 255, 1.0)\",\"rgba(254, 203, 82, 1.0)\"]},\"data\":{\"bar\":[{\"marker\":{\"line\":{\"color\":\"rgba(229, 236, 246, 1.0)\",\"width\":0.5},\"pattern\":{\"fillmode\":\"overlay\",\"size\":10,\"solidity\":0.2}},\"error_x\":{\"color\":\"rgba(42, 63, 95, 1.0)\"},\"error_y\":{\"color\":\"rgba(42, 63, 95, 1.0)\"}}],\"barpolar\":[{\"marker\":{\"line\":{\"color\":\"rgba(229, 236, 246, 1.0)\",\"width\":0.5},\"pattern\":{\"fillmode\":\"overlay\",\"size\":10,\"solidity\":0.2}}}],\"carpet\":[{\"aaxis\":{\"linecolor\":\"rgba(255, 255, 255, 1.0)\",\"gridcolor\":\"rgba(255, 255, 255, 1.0)\",\"endlinecolor\":\"rgba(42, 63, 95, 1.0)\",\"minorgridcolor\":\"rgba(255, 255, 255, 1.0)\",\"startlinecolor\":\"rgba(42, 63, 95, 1.0)\"},\"baxis\":{\"linecolor\":\"rgba(255, 255, 255, 1.0)\",\"gridcolor\":\"rgba(255, 255, 255, 1.0)\",\"endlinecolor\":\"rgba(42, 63, 95, 1.0)\",\"minorgridcolor\":\"rgba(255, 255, 255, 1.0)\",\"startlinecolor\":\"rgba(42, 63, 95, 1.0)\"}}],\"choropleth\":[{\"colorbar\":{\"outlinewidth\":0.0,\"ticks\":\"\"},\"colorscale\":[[0.0,\"#0d0887\"],[0.1111111111111111,\"#46039f\"],[0.2222222222222222,\"#7201a8\"],[0.3333333333333333,\"#9c179e\"],[0.4444444444444444,\"#bd3786\"],[0.5555555555555556,\"#d8576b\"],[0.6666666666666666,\"#ed7953\"],[0.7777777777777778,\"#fb9f3a\"],[0.8888888888888888,\"#fdca26\"],[1.0,\"#f0f921\"]]}],\"contour\":[{\"colorbar\":{\"outlinewidth\":0.0,\"ticks\":\"\"},\"colorscale\":[[0.0,\"#0d0887\"],[0.1111111111111111,\"#46039f\"],[0.2222222222222222,\"#7201a8\"],[0.3333333333333333,\"#9c179e\"],[0.4444444444444444,\"#bd3786\"],[0.5555555555555556,\"#d8576b\"],[0.6666666666666666,\"#ed7953\"],[0.7777777777777778,\"#fb9f3a\"],[0.8888888888888888,\"#fdca26\"],[1.0,\"#f0f921\"]]}],\"contourcarpet\":[{\"colorbar\":{\"outlinewidth\":0.0,\"ticks\":\"\"}}],\"heatmap\":[{\"colorbar\":{\"outlinewidth\":0.0,\"ticks\":\"\"},\"colorscale\":[[0.0,\"#0d0887\"],[0.1111111111111111,\"#46039f\"],[0.2222222222222222,\"#7201a8\"],[0.3333333333333333,\"#9c179e\"],[0.4444444444444444,\"#bd3786\"],[0.5555555555555556,\"#d8576b\"],[0.6666666666666666,\"#ed7953\"],[0.7777777777777778,\"#fb9f3a\"],[0.8888888888888888,\"#fdca26\"],[1.0,\"#f0f921\"]]}],\"heatmapgl\":[{\"colorbar\":{\"outlinewidth\":0.0,\"ticks\":\"\"},\"colorscale\":[[0.0,\"#0d0887\"],[0.1111111111111111,\"#46039f\"],[0.2222222222222222,\"#7201a8\"],[0.3333333333333333,\"#9c179e\"],[0.4444444444444444,\"#bd3786\"],[0.5555555555555556,\"#d8576b\"],[0.6666666666666666,\"#ed7953\"],[0.7777777777777778,\"#fb9f3a\"],[0.8888888888888888,\"#fdca26\"],[1.0,\"#f0f921\"]]}],\"histogram\":[{\"marker\":{\"pattern\":{\"fillmode\":\"overlay\",\"size\":10,\"solidity\":0.2}}}],\"histogram2d\":[{\"colorbar\":{\"outlinewidth\":0.0,\"ticks\":\"\"},\"colorscale\":[[0.0,\"#0d0887\"],[0.1111111111111111,\"#46039f\"],[0.2222222222222222,\"#7201a8\"],[0.3333333333333333,\"#9c179e\"],[0.4444444444444444,\"#bd3786\"],[0.5555555555555556,\"#d8576b\"],[0.6666666666666666,\"#ed7953\"],[0.7777777777777778,\"#fb9f3a\"],[0.8888888888888888,\"#fdca26\"],[1.0,\"#f0f921\"]]}],\"histogram2dcontour\":[{\"colorbar\":{\"outlinewidth\":0.0,\"ticks\":\"\"},\"colorscale\":[[0.0,\"#0d0887\"],[0.1111111111111111,\"#46039f\"],[0.2222222222222222,\"#7201a8\"],[0.3333333333333333,\"#9c179e\"],[0.4444444444444444,\"#bd3786\"],[0.5555555555555556,\"#d8576b\"],[0.6666666666666666,\"#ed7953\"],[0.7777777777777778,\"#fb9f3a\"],[0.8888888888888888,\"#fdca26\"],[1.0,\"#f0f921\"]]}],\"mesh3d\":[{\"colorbar\":{\"outlinewidth\":0.0,\"ticks\":\"\"}}],\"parcoords\":[{\"line\":{\"colorbar\":{\"outlinewidth\":0.0,\"ticks\":\"\"}}}],\"pie\":[{\"automargin\":true}],\"scatter\":[{\"marker\":{\"colorbar\":{\"outlinewidth\":0.0,\"ticks\":\"\"}}}],\"scatter3d\":[{\"marker\":{\"colorbar\":{\"outlinewidth\":0.0,\"ticks\":\"\"}},\"line\":{\"colorbar\":{\"outlinewidth\":0.0,\"ticks\":\"\"}}}],\"scattercarpet\":[{\"marker\":{\"colorbar\":{\"outlinewidth\":0.0,\"ticks\":\"\"}}}],\"scattergeo\":[{\"marker\":{\"colorbar\":{\"outlinewidth\":0.0,\"ticks\":\"\"}}}],\"scattergl\":[{\"marker\":{\"colorbar\":{\"outlinewidth\":0.0,\"ticks\":\"\"}}}],\"scattermapbox\":[{\"marker\":{\"colorbar\":{\"outlinewidth\":0.0,\"ticks\":\"\"}}}],\"scatterpolar\":[{\"marker\":{\"colorbar\":{\"outlinewidth\":0.0,\"ticks\":\"\"}}}],\"scatterpolargl\":[{\"marker\":{\"colorbar\":{\"outlinewidth\":0.0,\"ticks\":\"\"}}}],\"scatterternary\":[{\"marker\":{\"colorbar\":{\"outlinewidth\":0.0,\"ticks\":\"\"}}}],\"surface\":[{\"colorbar\":{\"outlinewidth\":0.0,\"ticks\":\"\"},\"colorscale\":[[0.0,\"#0d0887\"],[0.1111111111111111,\"#46039f\"],[0.2222222222222222,\"#7201a8\"],[0.3333333333333333,\"#9c179e\"],[0.4444444444444444,\"#bd3786\"],[0.5555555555555556,\"#d8576b\"],[0.6666666666666666,\"#ed7953\"],[0.7777777777777778,\"#fb9f3a\"],[0.8888888888888888,\"#fdca26\"],[1.0,\"#f0f921\"]]}],\"table\":[{\"cells\":{\"fill\":{\"color\":\"rgba(235, 240, 248, 1.0)\"},\"line\":{\"color\":\"rgba(255, 255, 255, 1.0)\"}},\"header\":{\"fill\":{\"color\":\"rgba(200, 212, 227, 1.0)\"},\"line\":{\"color\":\"rgba(255, 255, 255, 1.0)\"}}}]}},\"xaxis\":{\"title\":{\"text\":\"Time [h]\"}},\"yaxis\":{\"title\":{\"text\":\"logX(Bakterienzahl)\"}},\"title\":{\"text\":\"Abbildung 4 - Logarithmus II\"}};\r\n",
              "            var config = {\"responsive\":true};\r\n",
              "            Plotly.newPlot('7d2ad2b7-08a4-49cf-a371-f698c702b8bb', data, layout, config);\r\n",
              "});\r\n",
              "            };\r\n",
              "            if ((typeof(requirejs) !==  typeof(Function)) || (typeof(requirejs.config) !== typeof(Function))) {\r\n",
              "                var script = document.createElement(\"script\");\r\n",
              "                script.setAttribute(\"src\", \"https://cdnjs.cloudflare.com/ajax/libs/require.js/2.3.6/require.min.js\");\r\n",
              "                script.onload = function(){\r\n",
              "                    renderPlotly_7d2ad2b708a449cfa371f698c702b8bb();\r\n",
              "                };\r\n",
              "                document.getElementsByTagName(\"head\")[0].appendChild(script);\r\n",
              "            }\r\n",
              "            else {\r\n",
              "                renderPlotly_7d2ad2b708a449cfa371f698c702b8bb();\r\n",
              "            }\r\n",
              "</script>\r\n",
              "\n",
              "    \n",
              "</div>    \n"
            ]
          },
          "metadata": {},
          "output_type": "display_data"
        }
      ],
      "source": [
        "let werteTransformation (transformation: float -> float) = \n",
        "    xyWerte\n",
        "    |> Seq.map (fun (x,y) -> \n",
        "        x,transformation y\n",
        "        ) \n",
        "\n",
        "let log2Transform = werteTransformation log2\n",
        "let log10Transform = werteTransformation log10\n",
        "let lnTransform = werteTransformation log\n",
        "\n",
        "[\n",
        "Chart.Line (log2Transform,Name=\"log2\")\n",
        "Chart.Line (log10Transform,Name=\"log10\")\n",
        "Chart.Line (lnTransform,Name=\"ln\")\n",
        "]\n",
        "|> Chart.combine\n",
        "|> Chart.withXAxisStyle(\"Time [h]\")\n",
        "|> Chart.withYAxisStyle(\"logX(Bakterienzahl)\")\n",
        "|> Chart.withTitle(\"Abbildung 4 - Logarithmus II\")\n"
      ]
    },
    {
      "cell_type": "markdown",
      "metadata": {},
      "source": [
        "Eine log-transformation, hat auf hohe Werte einen deutlich größeren Einfluss als auf kleine Werte. Die Interpretation des Verlaufs ist nun an jedem beliebigen x-Wert möglich, ohne dass man in den Plot \"reinzoomen\" muss. Aus exponentiellem Verhalten wird durch log-Transformation eine Gerade. Es wird deutlich, dass egal welche log Transformation angewandt wurde (log zur Basis 2, 10 oder der eulerischen Zahl (natürlicher Logarithmus)) Funktionen zu Linien mit unterschiedlichen Steigung werden.\n",
        "\n",
        "_Aufgabe 2.9:_\n",
        "\n",
        "  _a) Wie groß muss der y-Achsenabschnitt sein, um eine Verdopplung der Bakterien zu erhalten? Visuelle Abschätzung möglich._ \n",
        "\n",
        "  _b) Um Zellverdopplungen zu analysieren, welchen Logarithmus würden Sie nutzen um die visuelle Analyse so einfach wie möglich zu machen und warum?_ \n",
        "\n",
        "  _c) Welcher Logarithmus wird bei pH-Werten genutzt und warum könnte dies als sinnvoll erachtet werden um zum Beispiel pH 2 direkt mit pH 5 vergleichen zu können?_"
      ]
    },
    {
      "cell_type": "markdown",
      "metadata": {},
      "source": [
        "a)\n",
        "\n",
        "  - Antwort log2:   \n",
        "\n",
        "  - Antwort log10:  \n",
        "\n",
        "  - Antwort ln:     \n",
        "\n",
        "b)\n",
        "\n",
        "  - Antwort:\n",
        "\n",
        "c)\n",
        "\n",
        "  - Antwort:"
      ]
    },
    {
      "cell_type": "markdown",
      "metadata": {},
      "source": [
        "Es folgt eine kurze Besprechung. Falls Sie schnell vorangekommen sind, können sie bis zur Besprechung folgende Aufgaben lösen:\n",
        "\n",
        "\n",
        "### Expertenaufgaben\n",
        "- Wie groß ist der y-Achsenabschnitt im log space (log2, ln und log10) um von y=100 zu y=10000 zu kommen? Lösen Sie die Aufgabe erst durch schätzen, dann rechnerisch.\n",
        "\n",
        "\n",
        "___\n"
      ]
    },
    {
      "cell_type": "markdown",
      "metadata": {},
      "source": [
        "## Biologisches Beispiel\n",
        "\n",
        "Von einer Bakterienkultur wurde in regelmäßigen Abständen die Zellzahl bestimmt. Die gemessenen Werte können Sie aus untenstehender Tabelle entnehmen\n",
        "\n",
        "\n",
        "|Zeitpunkt $(h)$|Zellzahl $(\\frac{10^6}{ml})$|\n",
        "|--|--|\n",
        "|0.0|17|\n",
        "|0.5|16.5|\n",
        "|1.0|11|\n",
        "|1.5|14|\n",
        "|2.0|27|\n",
        "|2.5|40|\n",
        "|3.0|120|\n",
        "|3.5|300|\n",
        "|4.0|450|\n",
        "|4.5|1,200|\n",
        "|5.0|2,700|\n",
        "|5.5|5,000|\n",
        "|6.0|8,000|\n",
        "|6.5|11,700|\n",
        "|7.0|12,000|\n",
        "|7.5|13,000|\n",
        "|8.0|12,800|\n",
        "\n",
        "In der folgenden Zelle wird die Zellzahl als Funktion der Zeit visualisiert."
      ]
    },
    {
      "cell_type": "code",
      "execution_count": null,
      "metadata": {
        "dotnet_interactive": {
          "language": "fsharp"
        },
        "vscode": {
          "languageId": "dotnet-interactive.fsharp"
        }
      },
      "outputs": [
        {
          "data": {
            "text/html": [
              "\n",
              "<div>\n",
              "    <div id=\"f4198a39-5b1a-4667-bfe5-edada267fe3d\"><!-- Plotly chart will be drawn inside this DIV --></div>\r\n",
              "<script type=\"text/javascript\">\r\n",
              "\r\n",
              "            var renderPlotly_f4198a395b1a4667bfe5edada267fe3d = function() {\r\n",
              "            var fsharpPlotlyRequire = requirejs.config({context:'fsharp-plotly',paths:{plotly:'https://cdn.plot.ly/plotly-2.6.3.min'}}) || require;\r\n",
              "            fsharpPlotlyRequire(['plotly'], function(Plotly) {\r\n",
              "\r\n",
              "            var data = [{\"type\":\"scatter\",\"mode\":\"markers\",\"x\":[0.0,0.5,1.0,1.5,2.0,2.5,3.0,3.5,4.0,4.5,5.0,5.5,6.0,6.5,7.0,7.5,8.0],\"y\":[17000000.0,16500000.0,11000000.0,14000000.0,27000000.0,40000000.0,120000000.0,300000000.0,450000000.0,1200000000.0,2700000000.0,5000000000.0,8000000000.0,11700000000.0,12000000000.0,13000000000.0,12800000000.0],\"marker\":{},\"line\":{},\"name\":\"original data\",\"xaxis\":\"x\",\"yaxis\":\"y\"},{\"type\":\"scatter\",\"mode\":\"markers\",\"x\":[0.0,0.5,1.0,1.5,2.0,2.5,3.0,3.5,4.0,4.5,5.0,5.5,6.0,6.5,7.0,7.5,8.0],\"y\":[24.019031410574513,23.97596268868263,23.391000187961474,23.73892349138178,24.686456071487644,25.25349666421154,26.83845916493269,28.160387259820055,28.74534976054121,30.160387259820055,31.330312261262367,32.219280948873624,32.89735285398626,33.44578947868231,33.48231535470742,33.597792572127354,33.5754247590989],\"marker\":{},\"line\":{},\"name\":\"log count\",\"xaxis\":\"x2\",\"yaxis\":\"y2\"}];\r\n",
              "            var layout = {\"width\":600,\"height\":600,\"template\":{\"layout\":{\"title\":{\"x\":0.05},\"font\":{\"color\":\"rgba(42, 63, 95, 1.0)\"},\"paper_bgcolor\":\"rgba(255, 255, 255, 1.0)\",\"plot_bgcolor\":\"rgba(229, 236, 246, 1.0)\",\"autotypenumbers\":\"strict\",\"colorscale\":{\"diverging\":[[0.0,\"#8e0152\"],[0.1,\"#c51b7d\"],[0.2,\"#de77ae\"],[0.3,\"#f1b6da\"],[0.4,\"#fde0ef\"],[0.5,\"#f7f7f7\"],[0.6,\"#e6f5d0\"],[0.7,\"#b8e186\"],[0.8,\"#7fbc41\"],[0.9,\"#4d9221\"],[1.0,\"#276419\"]],\"sequential\":[[0.0,\"#0d0887\"],[0.1111111111111111,\"#46039f\"],[0.2222222222222222,\"#7201a8\"],[0.3333333333333333,\"#9c179e\"],[0.4444444444444444,\"#bd3786\"],[0.5555555555555556,\"#d8576b\"],[0.6666666666666666,\"#ed7953\"],[0.7777777777777778,\"#fb9f3a\"],[0.8888888888888888,\"#fdca26\"],[1.0,\"#f0f921\"]],\"sequentialminus\":[[0.0,\"#0d0887\"],[0.1111111111111111,\"#46039f\"],[0.2222222222222222,\"#7201a8\"],[0.3333333333333333,\"#9c179e\"],[0.4444444444444444,\"#bd3786\"],[0.5555555555555556,\"#d8576b\"],[0.6666666666666666,\"#ed7953\"],[0.7777777777777778,\"#fb9f3a\"],[0.8888888888888888,\"#fdca26\"],[1.0,\"#f0f921\"]]},\"hovermode\":\"closest\",\"hoverlabel\":{\"align\":\"left\"},\"coloraxis\":{\"colorbar\":{\"outlinewidth\":0.0,\"ticks\":\"\"}},\"geo\":{\"showland\":true,\"landcolor\":\"rgba(229, 236, 246, 1.0)\",\"showlakes\":true,\"lakecolor\":\"rgba(255, 255, 255, 1.0)\",\"subunitcolor\":\"rgba(255, 255, 255, 1.0)\",\"bgcolor\":\"rgba(255, 255, 255, 1.0)\"},\"mapbox\":{\"style\":\"light\"},\"polar\":{\"bgcolor\":\"rgba(229, 236, 246, 1.0)\",\"radialaxis\":{\"linecolor\":\"rgba(255, 255, 255, 1.0)\",\"gridcolor\":\"rgba(255, 255, 255, 1.0)\",\"ticks\":\"\"},\"angularaxis\":{\"linecolor\":\"rgba(255, 255, 255, 1.0)\",\"gridcolor\":\"rgba(255, 255, 255, 1.0)\",\"ticks\":\"\"}},\"scene\":{\"xaxis\":{\"ticks\":\"\",\"linecolor\":\"rgba(255, 255, 255, 1.0)\",\"gridcolor\":\"rgba(255, 255, 255, 1.0)\",\"gridwidth\":2.0,\"zerolinecolor\":\"rgba(255, 255, 255, 1.0)\",\"backgroundcolor\":\"rgba(229, 236, 246, 1.0)\",\"showbackground\":true},\"yaxis\":{\"ticks\":\"\",\"linecolor\":\"rgba(255, 255, 255, 1.0)\",\"gridcolor\":\"rgba(255, 255, 255, 1.0)\",\"gridwidth\":2.0,\"zerolinecolor\":\"rgba(255, 255, 255, 1.0)\",\"backgroundcolor\":\"rgba(229, 236, 246, 1.0)\",\"showbackground\":true},\"zaxis\":{\"ticks\":\"\",\"linecolor\":\"rgba(255, 255, 255, 1.0)\",\"gridcolor\":\"rgba(255, 255, 255, 1.0)\",\"gridwidth\":2.0,\"zerolinecolor\":\"rgba(255, 255, 255, 1.0)\",\"backgroundcolor\":\"rgba(229, 236, 246, 1.0)\",\"showbackground\":true}},\"ternary\":{\"aaxis\":{\"ticks\":\"\",\"linecolor\":\"rgba(255, 255, 255, 1.0)\",\"gridcolor\":\"rgba(255, 255, 255, 1.0)\"},\"baxis\":{\"ticks\":\"\",\"linecolor\":\"rgba(255, 255, 255, 1.0)\",\"gridcolor\":\"rgba(255, 255, 255, 1.0)\"},\"caxis\":{\"ticks\":\"\",\"linecolor\":\"rgba(255, 255, 255, 1.0)\",\"gridcolor\":\"rgba(255, 255, 255, 1.0)\"},\"bgcolor\":\"rgba(229, 236, 246, 1.0)\"},\"xaxis\":{\"title\":{\"standoff\":15},\"ticks\":\"\",\"automargin\":true,\"linecolor\":\"rgba(255, 255, 255, 1.0)\",\"gridcolor\":\"rgba(255, 255, 255, 1.0)\",\"zerolinecolor\":\"rgba(255, 255, 255, 1.0)\",\"zerolinewidth\":2.0},\"yaxis\":{\"title\":{\"standoff\":15},\"ticks\":\"\",\"automargin\":true,\"linecolor\":\"rgba(255, 255, 255, 1.0)\",\"gridcolor\":\"rgba(255, 255, 255, 1.0)\",\"zerolinecolor\":\"rgba(255, 255, 255, 1.0)\",\"zerolinewidth\":2.0},\"annotationdefaults\":{\"arrowcolor\":\"#2a3f5f\",\"arrowhead\":0,\"arrowwidth\":1},\"shapedefaults\":{\"line\":{\"color\":\"rgba(42, 63, 95, 1.0)\"}},\"colorway\":[\"rgba(99, 110, 250, 1.0)\",\"rgba(239, 85, 59, 1.0)\",\"rgba(0, 204, 150, 1.0)\",\"rgba(171, 99, 250, 1.0)\",\"rgba(255, 161, 90, 1.0)\",\"rgba(25, 211, 243, 1.0)\",\"rgba(255, 102, 146, 1.0)\",\"rgba(182, 232, 128, 1.0)\",\"rgba(255, 151, 255, 1.0)\",\"rgba(254, 203, 82, 1.0)\"]},\"data\":{\"bar\":[{\"marker\":{\"line\":{\"color\":\"rgba(229, 236, 246, 1.0)\",\"width\":0.5},\"pattern\":{\"fillmode\":\"overlay\",\"size\":10,\"solidity\":0.2}},\"error_x\":{\"color\":\"rgba(42, 63, 95, 1.0)\"},\"error_y\":{\"color\":\"rgba(42, 63, 95, 1.0)\"}}],\"barpolar\":[{\"marker\":{\"line\":{\"color\":\"rgba(229, 236, 246, 1.0)\",\"width\":0.5},\"pattern\":{\"fillmode\":\"overlay\",\"size\":10,\"solidity\":0.2}}}],\"carpet\":[{\"aaxis\":{\"linecolor\":\"rgba(255, 255, 255, 1.0)\",\"gridcolor\":\"rgba(255, 255, 255, 1.0)\",\"endlinecolor\":\"rgba(42, 63, 95, 1.0)\",\"minorgridcolor\":\"rgba(255, 255, 255, 1.0)\",\"startlinecolor\":\"rgba(42, 63, 95, 1.0)\"},\"baxis\":{\"linecolor\":\"rgba(255, 255, 255, 1.0)\",\"gridcolor\":\"rgba(255, 255, 255, 1.0)\",\"endlinecolor\":\"rgba(42, 63, 95, 1.0)\",\"minorgridcolor\":\"rgba(255, 255, 255, 1.0)\",\"startlinecolor\":\"rgba(42, 63, 95, 1.0)\"}}],\"choropleth\":[{\"colorbar\":{\"outlinewidth\":0.0,\"ticks\":\"\"},\"colorscale\":[[0.0,\"#0d0887\"],[0.1111111111111111,\"#46039f\"],[0.2222222222222222,\"#7201a8\"],[0.3333333333333333,\"#9c179e\"],[0.4444444444444444,\"#bd3786\"],[0.5555555555555556,\"#d8576b\"],[0.6666666666666666,\"#ed7953\"],[0.7777777777777778,\"#fb9f3a\"],[0.8888888888888888,\"#fdca26\"],[1.0,\"#f0f921\"]]}],\"contour\":[{\"colorbar\":{\"outlinewidth\":0.0,\"ticks\":\"\"},\"colorscale\":[[0.0,\"#0d0887\"],[0.1111111111111111,\"#46039f\"],[0.2222222222222222,\"#7201a8\"],[0.3333333333333333,\"#9c179e\"],[0.4444444444444444,\"#bd3786\"],[0.5555555555555556,\"#d8576b\"],[0.6666666666666666,\"#ed7953\"],[0.7777777777777778,\"#fb9f3a\"],[0.8888888888888888,\"#fdca26\"],[1.0,\"#f0f921\"]]}],\"contourcarpet\":[{\"colorbar\":{\"outlinewidth\":0.0,\"ticks\":\"\"}}],\"heatmap\":[{\"colorbar\":{\"outlinewidth\":0.0,\"ticks\":\"\"},\"colorscale\":[[0.0,\"#0d0887\"],[0.1111111111111111,\"#46039f\"],[0.2222222222222222,\"#7201a8\"],[0.3333333333333333,\"#9c179e\"],[0.4444444444444444,\"#bd3786\"],[0.5555555555555556,\"#d8576b\"],[0.6666666666666666,\"#ed7953\"],[0.7777777777777778,\"#fb9f3a\"],[0.8888888888888888,\"#fdca26\"],[1.0,\"#f0f921\"]]}],\"heatmapgl\":[{\"colorbar\":{\"outlinewidth\":0.0,\"ticks\":\"\"},\"colorscale\":[[0.0,\"#0d0887\"],[0.1111111111111111,\"#46039f\"],[0.2222222222222222,\"#7201a8\"],[0.3333333333333333,\"#9c179e\"],[0.4444444444444444,\"#bd3786\"],[0.5555555555555556,\"#d8576b\"],[0.6666666666666666,\"#ed7953\"],[0.7777777777777778,\"#fb9f3a\"],[0.8888888888888888,\"#fdca26\"],[1.0,\"#f0f921\"]]}],\"histogram\":[{\"marker\":{\"pattern\":{\"fillmode\":\"overlay\",\"size\":10,\"solidity\":0.2}}}],\"histogram2d\":[{\"colorbar\":{\"outlinewidth\":0.0,\"ticks\":\"\"},\"colorscale\":[[0.0,\"#0d0887\"],[0.1111111111111111,\"#46039f\"],[0.2222222222222222,\"#7201a8\"],[0.3333333333333333,\"#9c179e\"],[0.4444444444444444,\"#bd3786\"],[0.5555555555555556,\"#d8576b\"],[0.6666666666666666,\"#ed7953\"],[0.7777777777777778,\"#fb9f3a\"],[0.8888888888888888,\"#fdca26\"],[1.0,\"#f0f921\"]]}],\"histogram2dcontour\":[{\"colorbar\":{\"outlinewidth\":0.0,\"ticks\":\"\"},\"colorscale\":[[0.0,\"#0d0887\"],[0.1111111111111111,\"#46039f\"],[0.2222222222222222,\"#7201a8\"],[0.3333333333333333,\"#9c179e\"],[0.4444444444444444,\"#bd3786\"],[0.5555555555555556,\"#d8576b\"],[0.6666666666666666,\"#ed7953\"],[0.7777777777777778,\"#fb9f3a\"],[0.8888888888888888,\"#fdca26\"],[1.0,\"#f0f921\"]]}],\"mesh3d\":[{\"colorbar\":{\"outlinewidth\":0.0,\"ticks\":\"\"}}],\"parcoords\":[{\"line\":{\"colorbar\":{\"outlinewidth\":0.0,\"ticks\":\"\"}}}],\"pie\":[{\"automargin\":true}],\"scatter\":[{\"marker\":{\"colorbar\":{\"outlinewidth\":0.0,\"ticks\":\"\"}}}],\"scatter3d\":[{\"marker\":{\"colorbar\":{\"outlinewidth\":0.0,\"ticks\":\"\"}},\"line\":{\"colorbar\":{\"outlinewidth\":0.0,\"ticks\":\"\"}}}],\"scattercarpet\":[{\"marker\":{\"colorbar\":{\"outlinewidth\":0.0,\"ticks\":\"\"}}}],\"scattergeo\":[{\"marker\":{\"colorbar\":{\"outlinewidth\":0.0,\"ticks\":\"\"}}}],\"scattergl\":[{\"marker\":{\"colorbar\":{\"outlinewidth\":0.0,\"ticks\":\"\"}}}],\"scattermapbox\":[{\"marker\":{\"colorbar\":{\"outlinewidth\":0.0,\"ticks\":\"\"}}}],\"scatterpolar\":[{\"marker\":{\"colorbar\":{\"outlinewidth\":0.0,\"ticks\":\"\"}}}],\"scatterpolargl\":[{\"marker\":{\"colorbar\":{\"outlinewidth\":0.0,\"ticks\":\"\"}}}],\"scatterternary\":[{\"marker\":{\"colorbar\":{\"outlinewidth\":0.0,\"ticks\":\"\"}}}],\"surface\":[{\"colorbar\":{\"outlinewidth\":0.0,\"ticks\":\"\"},\"colorscale\":[[0.0,\"#0d0887\"],[0.1111111111111111,\"#46039f\"],[0.2222222222222222,\"#7201a8\"],[0.3333333333333333,\"#9c179e\"],[0.4444444444444444,\"#bd3786\"],[0.5555555555555556,\"#d8576b\"],[0.6666666666666666,\"#ed7953\"],[0.7777777777777778,\"#fb9f3a\"],[0.8888888888888888,\"#fdca26\"],[1.0,\"#f0f921\"]]}],\"table\":[{\"cells\":{\"fill\":{\"color\":\"rgba(235, 240, 248, 1.0)\"},\"line\":{\"color\":\"rgba(255, 255, 255, 1.0)\"}},\"header\":{\"fill\":{\"color\":\"rgba(200, 212, 227, 1.0)\"},\"line\":{\"color\":\"rgba(255, 255, 255, 1.0)\"}}}]}},\"yaxis\":{\"title\":{\"text\":\"cells*10^6/ml\"}},\"xaxis\":{},\"xaxis2\":{\"title\":{\"text\":\"time (h)\"}},\"yaxis2\":{\"title\":{\"text\":\"log2(cells*10^6/ml)\"}},\"grid\":{\"rows\":2,\"columns\":1,\"pattern\":\"independent\"},\"title\":{\"text\":\"Abbildung 5 - Beispiel I\"}};\r\n",
              "            var config = {\"responsive\":true};\r\n",
              "            Plotly.newPlot('f4198a39-5b1a-4667-bfe5-edada267fe3d', data, layout, config);\r\n",
              "});\r\n",
              "            };\r\n",
              "            if ((typeof(requirejs) !==  typeof(Function)) || (typeof(requirejs.config) !== typeof(Function))) {\r\n",
              "                var script = document.createElement(\"script\");\r\n",
              "                script.setAttribute(\"src\", \"https://cdnjs.cloudflare.com/ajax/libs/require.js/2.3.6/require.min.js\");\r\n",
              "                script.onload = function(){\r\n",
              "                    renderPlotly_f4198a395b1a4667bfe5edada267fe3d();\r\n",
              "                };\r\n",
              "                document.getElementsByTagName(\"head\")[0].appendChild(script);\r\n",
              "            }\r\n",
              "            else {\r\n",
              "                renderPlotly_f4198a395b1a4667bfe5edada267fe3d();\r\n",
              "            }\r\n",
              "</script>\r\n",
              "\n",
              "    \n",
              "</div>    \n"
            ]
          },
          "metadata": {},
          "output_type": "display_data"
        }
      ],
      "source": [
        "let time = [|0. .. 0.5 .. 8.|]\n",
        "\n",
        "let cellCount =\n",
        "    [|\n",
        "    17000000.;16500000.;11000000.;14000000.;27000000.;40000000.;120000000.;\n",
        "    300000000.;450000000.;1200000000.;2700000000.;5000000000.;\n",
        "    8000000000.;11700000000.;12000000000.;13000000000.;12800000000.\n",
        "    |]\n",
        "\n",
        "let cellCountLog2 = \n",
        "    Array.map log2 cellCount\n",
        "\n",
        "let chartOrig = \n",
        "    Chart.Point(time,cellCount)\n",
        "    |> Chart.withTraceInfo \"original data\"\n",
        "    |> Chart.withYAxisStyle \"cells*10^6/ml\"\n",
        "\n",
        "let chartLog =\n",
        "    Chart.Point(time,cellCountLog2)\n",
        "    |> Chart.withTraceInfo \"log count\"\n",
        "    |> Chart.withXAxisStyle \"time (h)\" \n",
        "    |> Chart.withYAxisStyle \"log2(cells*10^6/ml)\"\n",
        "    \n",
        "let growthChart = \n",
        "    [chartOrig;chartLog] \n",
        "    |> Chart.Grid(2,1)\n",
        "    |> Chart.withTitle(\"Abbildung 5 - Beispiel I\")\n",
        "\n",
        "growthChart"
      ]
    },
    {
      "cell_type": "markdown",
      "metadata": {},
      "source": [
        "Es ist ein deutlicher visueller Unterschied im Funktionsverlauf zu erkennen. Während im nicht-transformierten Diagramm der Zeitpunkt um 6 Stunden noch stark ansteigend (exponentielles Wachstum) erscheint, wird erst im transformierten Diagramm klar, dass die exponentielle Phase von Zeitpunkt 2 - 5 andauert und sich bei Stunde 6 schon am Übergang zum stationären Wachstum befindet. Durch die Abhängigkeit von Steigung und Zellzahl werden die echten Wachstumsphasen in untransformierten Daten kaschiert. Daher sollten Wachstumsdaten in der Regel im log-space angezeigt und analysiert werden. \n",
        "\n",
        "Wichtig: Im Folgenden wird immer davon ausgegangen, dass die Daten log transformiert wurden bevor die Kurven modelliert werden!\n",
        "\n",
        "<center>\n",
        "<img src=\"../../images/day2/02_Growth_02.png\" width=50% />\n",
        "</center>"
      ]
    },
    {
      "cell_type": "markdown",
      "metadata": {},
      "source": [
        "**Abbildung 6: Schema einer klassischen Wachstumskurve**\n",
        "\n",
        "Wie im Schema gezeigt ist es sinnvoll die Daten zu fitten um bestimmte Parameter wie y0, ymax,  $\\mu max$ und $\\lambda$ ermitteln zu können. Ein einfaches Modell für exponentielles Wachstum haben wir bereits im ersten Abschnitt kennen gelernt. Würden wir auf die transformierten Daten (Abbildung 5 unten) nun jedoch das einfache Wachstumsmodell anwenden, dann würde es nicht zu einem sigmoidalen Verlauf kommen, sondern die Kurve würde immer weiter exponentiell ansteigen. Es gibt einige [Wachstumsmodelle](http://www.pisces-conservation.com/growthhelp/index.html), die diese Limitationen nicht aufweisen. Gesucht wird eine Erweiterung des einfachen Modells $\\frac{dN}{dt} = rN$, die das Wachstum sowohl in der lag-, als auch in der stationären Phase begrenzen kann, also ein Faktor, der abhängig von der maximalen Zellzahl die Wachstumsgeschwindigkeit (growth rate) beschränkt:\n",
        "\n",
        "$\\frac{dN}{dt}=N'=rN(1-\\frac{N}{K})$\n",
        "\n",
        "\n",
        "Gründe biol factors\n",
        "carrying capacity beispiel aus der vl nennen\n",
        "\n",
        "wobei $K$ die so genannte carrying capacity, also die Maximalanzahl von Zellen darstellt. Dieses Modell ist das Verhulst-Wachstumsmodell und beschreibt eine logistische Funktion mit unterer und oberer Asymptote.\n",
        "\n",
        "_Aufgabe 2.10: Erstellen Sie ein Modell der angepassten Differenzialgleichung, einem Wachstumsparameter \"r\" von 0.3, einer Maximalanzahl \"k\" von 20 und einer Startzellzahl von 1._\n",
        "\n",
        "\n",
        "\n"
      ]
    },
    {
      "cell_type": "code",
      "execution_count": null,
      "metadata": {
        "dotnet_interactive": {
          "language": "fsharp"
        },
        "vscode": {
          "languageId": "dotnet-interactive.fsharp"
        }
      },
      "outputs": [],
      "source": [
        "// parameter\n",
        "let r = 0.3\n",
        "let k = 20.\n",
        "\n",
        "// growth model\n",
        "let dN_dt : SimpleModel =     \n",
        "    fun N t ->\n",
        "        let cellcount = N\n",
        "        let cellcount' = N * r * (1. - N / k)\n",
        "        cellcount'\n",
        "\n",
        "// Initial condition\n",
        "let t0 = 0\n",
        "let N0 = 1."
      ]
    },
    {
      "cell_type": "code",
      "execution_count": null,
      "metadata": {
        "dotnet_interactive": {
          "language": "fsharp"
        },
        "vscode": {
          "languageId": "dotnet-interactive.fsharp"
        }
      },
      "outputs": [
        {
          "data": {
            "text/html": [
              "\n",
              "<div>\n",
              "    <div id=\"6146c7c1-a31e-459e-b3e3-7c25c947670b\"><!-- Plotly chart will be drawn inside this DIV --></div>\r\n",
              "<script type=\"text/javascript\">\r\n",
              "\r\n",
              "            var renderPlotly_6146c7c1a31e459eb3e37c25c947670b = function() {\r\n",
              "            var fsharpPlotlyRequire = requirejs.config({context:'fsharp-plotly',paths:{plotly:'https://cdn.plot.ly/plotly-2.6.3.min'}}) || require;\r\n",
              "            fsharpPlotlyRequire(['plotly'], function(Plotly) {\r\n",
              "\r\n",
              "            var data = [{\"type\":\"scatter\",\"mode\":\"markers\",\"x\":[0.0,0.42,1.0092472370729544,2.2408480565684714,4.064453219627692,6.378631906149852,9.257339602625398,12.55258294676717,16.075716713932884,19.898440524246656,23.760921214593044,27.597620700742883,31.673285686611184,36.30264644391692,41.802438181278895],\"y\":[1.0,1.1267172660653895,1.3300921322182022,1.86905918823197,3.0242979136710773,5.258387005525044,9.165818644160451,13.890395679883852,17.34803105839386,19.073610049685477,19.699566550383576,19.90394177168341,19.9715985835399,19.99289059938575,19.998615317710254],\"marker\":{},\"line\":{}}];\r\n",
              "            var layout = {\"width\":600,\"height\":600,\"template\":{\"layout\":{\"title\":{\"x\":0.05},\"font\":{\"color\":\"rgba(42, 63, 95, 1.0)\"},\"paper_bgcolor\":\"rgba(255, 255, 255, 1.0)\",\"plot_bgcolor\":\"rgba(229, 236, 246, 1.0)\",\"autotypenumbers\":\"strict\",\"colorscale\":{\"diverging\":[[0.0,\"#8e0152\"],[0.1,\"#c51b7d\"],[0.2,\"#de77ae\"],[0.3,\"#f1b6da\"],[0.4,\"#fde0ef\"],[0.5,\"#f7f7f7\"],[0.6,\"#e6f5d0\"],[0.7,\"#b8e186\"],[0.8,\"#7fbc41\"],[0.9,\"#4d9221\"],[1.0,\"#276419\"]],\"sequential\":[[0.0,\"#0d0887\"],[0.1111111111111111,\"#46039f\"],[0.2222222222222222,\"#7201a8\"],[0.3333333333333333,\"#9c179e\"],[0.4444444444444444,\"#bd3786\"],[0.5555555555555556,\"#d8576b\"],[0.6666666666666666,\"#ed7953\"],[0.7777777777777778,\"#fb9f3a\"],[0.8888888888888888,\"#fdca26\"],[1.0,\"#f0f921\"]],\"sequentialminus\":[[0.0,\"#0d0887\"],[0.1111111111111111,\"#46039f\"],[0.2222222222222222,\"#7201a8\"],[0.3333333333333333,\"#9c179e\"],[0.4444444444444444,\"#bd3786\"],[0.5555555555555556,\"#d8576b\"],[0.6666666666666666,\"#ed7953\"],[0.7777777777777778,\"#fb9f3a\"],[0.8888888888888888,\"#fdca26\"],[1.0,\"#f0f921\"]]},\"hovermode\":\"closest\",\"hoverlabel\":{\"align\":\"left\"},\"coloraxis\":{\"colorbar\":{\"outlinewidth\":0.0,\"ticks\":\"\"}},\"geo\":{\"showland\":true,\"landcolor\":\"rgba(229, 236, 246, 1.0)\",\"showlakes\":true,\"lakecolor\":\"rgba(255, 255, 255, 1.0)\",\"subunitcolor\":\"rgba(255, 255, 255, 1.0)\",\"bgcolor\":\"rgba(255, 255, 255, 1.0)\"},\"mapbox\":{\"style\":\"light\"},\"polar\":{\"bgcolor\":\"rgba(229, 236, 246, 1.0)\",\"radialaxis\":{\"linecolor\":\"rgba(255, 255, 255, 1.0)\",\"gridcolor\":\"rgba(255, 255, 255, 1.0)\",\"ticks\":\"\"},\"angularaxis\":{\"linecolor\":\"rgba(255, 255, 255, 1.0)\",\"gridcolor\":\"rgba(255, 255, 255, 1.0)\",\"ticks\":\"\"}},\"scene\":{\"xaxis\":{\"ticks\":\"\",\"linecolor\":\"rgba(255, 255, 255, 1.0)\",\"gridcolor\":\"rgba(255, 255, 255, 1.0)\",\"gridwidth\":2.0,\"zerolinecolor\":\"rgba(255, 255, 255, 1.0)\",\"backgroundcolor\":\"rgba(229, 236, 246, 1.0)\",\"showbackground\":true},\"yaxis\":{\"ticks\":\"\",\"linecolor\":\"rgba(255, 255, 255, 1.0)\",\"gridcolor\":\"rgba(255, 255, 255, 1.0)\",\"gridwidth\":2.0,\"zerolinecolor\":\"rgba(255, 255, 255, 1.0)\",\"backgroundcolor\":\"rgba(229, 236, 246, 1.0)\",\"showbackground\":true},\"zaxis\":{\"ticks\":\"\",\"linecolor\":\"rgba(255, 255, 255, 1.0)\",\"gridcolor\":\"rgba(255, 255, 255, 1.0)\",\"gridwidth\":2.0,\"zerolinecolor\":\"rgba(255, 255, 255, 1.0)\",\"backgroundcolor\":\"rgba(229, 236, 246, 1.0)\",\"showbackground\":true}},\"ternary\":{\"aaxis\":{\"ticks\":\"\",\"linecolor\":\"rgba(255, 255, 255, 1.0)\",\"gridcolor\":\"rgba(255, 255, 255, 1.0)\"},\"baxis\":{\"ticks\":\"\",\"linecolor\":\"rgba(255, 255, 255, 1.0)\",\"gridcolor\":\"rgba(255, 255, 255, 1.0)\"},\"caxis\":{\"ticks\":\"\",\"linecolor\":\"rgba(255, 255, 255, 1.0)\",\"gridcolor\":\"rgba(255, 255, 255, 1.0)\"},\"bgcolor\":\"rgba(229, 236, 246, 1.0)\"},\"xaxis\":{\"title\":{\"standoff\":15},\"ticks\":\"\",\"automargin\":true,\"linecolor\":\"rgba(255, 255, 255, 1.0)\",\"gridcolor\":\"rgba(255, 255, 255, 1.0)\",\"zerolinecolor\":\"rgba(255, 255, 255, 1.0)\",\"zerolinewidth\":2.0},\"yaxis\":{\"title\":{\"standoff\":15},\"ticks\":\"\",\"automargin\":true,\"linecolor\":\"rgba(255, 255, 255, 1.0)\",\"gridcolor\":\"rgba(255, 255, 255, 1.0)\",\"zerolinecolor\":\"rgba(255, 255, 255, 1.0)\",\"zerolinewidth\":2.0},\"annotationdefaults\":{\"arrowcolor\":\"#2a3f5f\",\"arrowhead\":0,\"arrowwidth\":1},\"shapedefaults\":{\"line\":{\"color\":\"rgba(42, 63, 95, 1.0)\"}},\"colorway\":[\"rgba(99, 110, 250, 1.0)\",\"rgba(239, 85, 59, 1.0)\",\"rgba(0, 204, 150, 1.0)\",\"rgba(171, 99, 250, 1.0)\",\"rgba(255, 161, 90, 1.0)\",\"rgba(25, 211, 243, 1.0)\",\"rgba(255, 102, 146, 1.0)\",\"rgba(182, 232, 128, 1.0)\",\"rgba(255, 151, 255, 1.0)\",\"rgba(254, 203, 82, 1.0)\"]},\"data\":{\"bar\":[{\"marker\":{\"line\":{\"color\":\"rgba(229, 236, 246, 1.0)\",\"width\":0.5},\"pattern\":{\"fillmode\":\"overlay\",\"size\":10,\"solidity\":0.2}},\"error_x\":{\"color\":\"rgba(42, 63, 95, 1.0)\"},\"error_y\":{\"color\":\"rgba(42, 63, 95, 1.0)\"}}],\"barpolar\":[{\"marker\":{\"line\":{\"color\":\"rgba(229, 236, 246, 1.0)\",\"width\":0.5},\"pattern\":{\"fillmode\":\"overlay\",\"size\":10,\"solidity\":0.2}}}],\"carpet\":[{\"aaxis\":{\"linecolor\":\"rgba(255, 255, 255, 1.0)\",\"gridcolor\":\"rgba(255, 255, 255, 1.0)\",\"endlinecolor\":\"rgba(42, 63, 95, 1.0)\",\"minorgridcolor\":\"rgba(255, 255, 255, 1.0)\",\"startlinecolor\":\"rgba(42, 63, 95, 1.0)\"},\"baxis\":{\"linecolor\":\"rgba(255, 255, 255, 1.0)\",\"gridcolor\":\"rgba(255, 255, 255, 1.0)\",\"endlinecolor\":\"rgba(42, 63, 95, 1.0)\",\"minorgridcolor\":\"rgba(255, 255, 255, 1.0)\",\"startlinecolor\":\"rgba(42, 63, 95, 1.0)\"}}],\"choropleth\":[{\"colorbar\":{\"outlinewidth\":0.0,\"ticks\":\"\"},\"colorscale\":[[0.0,\"#0d0887\"],[0.1111111111111111,\"#46039f\"],[0.2222222222222222,\"#7201a8\"],[0.3333333333333333,\"#9c179e\"],[0.4444444444444444,\"#bd3786\"],[0.5555555555555556,\"#d8576b\"],[0.6666666666666666,\"#ed7953\"],[0.7777777777777778,\"#fb9f3a\"],[0.8888888888888888,\"#fdca26\"],[1.0,\"#f0f921\"]]}],\"contour\":[{\"colorbar\":{\"outlinewidth\":0.0,\"ticks\":\"\"},\"colorscale\":[[0.0,\"#0d0887\"],[0.1111111111111111,\"#46039f\"],[0.2222222222222222,\"#7201a8\"],[0.3333333333333333,\"#9c179e\"],[0.4444444444444444,\"#bd3786\"],[0.5555555555555556,\"#d8576b\"],[0.6666666666666666,\"#ed7953\"],[0.7777777777777778,\"#fb9f3a\"],[0.8888888888888888,\"#fdca26\"],[1.0,\"#f0f921\"]]}],\"contourcarpet\":[{\"colorbar\":{\"outlinewidth\":0.0,\"ticks\":\"\"}}],\"heatmap\":[{\"colorbar\":{\"outlinewidth\":0.0,\"ticks\":\"\"},\"colorscale\":[[0.0,\"#0d0887\"],[0.1111111111111111,\"#46039f\"],[0.2222222222222222,\"#7201a8\"],[0.3333333333333333,\"#9c179e\"],[0.4444444444444444,\"#bd3786\"],[0.5555555555555556,\"#d8576b\"],[0.6666666666666666,\"#ed7953\"],[0.7777777777777778,\"#fb9f3a\"],[0.8888888888888888,\"#fdca26\"],[1.0,\"#f0f921\"]]}],\"heatmapgl\":[{\"colorbar\":{\"outlinewidth\":0.0,\"ticks\":\"\"},\"colorscale\":[[0.0,\"#0d0887\"],[0.1111111111111111,\"#46039f\"],[0.2222222222222222,\"#7201a8\"],[0.3333333333333333,\"#9c179e\"],[0.4444444444444444,\"#bd3786\"],[0.5555555555555556,\"#d8576b\"],[0.6666666666666666,\"#ed7953\"],[0.7777777777777778,\"#fb9f3a\"],[0.8888888888888888,\"#fdca26\"],[1.0,\"#f0f921\"]]}],\"histogram\":[{\"marker\":{\"pattern\":{\"fillmode\":\"overlay\",\"size\":10,\"solidity\":0.2}}}],\"histogram2d\":[{\"colorbar\":{\"outlinewidth\":0.0,\"ticks\":\"\"},\"colorscale\":[[0.0,\"#0d0887\"],[0.1111111111111111,\"#46039f\"],[0.2222222222222222,\"#7201a8\"],[0.3333333333333333,\"#9c179e\"],[0.4444444444444444,\"#bd3786\"],[0.5555555555555556,\"#d8576b\"],[0.6666666666666666,\"#ed7953\"],[0.7777777777777778,\"#fb9f3a\"],[0.8888888888888888,\"#fdca26\"],[1.0,\"#f0f921\"]]}],\"histogram2dcontour\":[{\"colorbar\":{\"outlinewidth\":0.0,\"ticks\":\"\"},\"colorscale\":[[0.0,\"#0d0887\"],[0.1111111111111111,\"#46039f\"],[0.2222222222222222,\"#7201a8\"],[0.3333333333333333,\"#9c179e\"],[0.4444444444444444,\"#bd3786\"],[0.5555555555555556,\"#d8576b\"],[0.6666666666666666,\"#ed7953\"],[0.7777777777777778,\"#fb9f3a\"],[0.8888888888888888,\"#fdca26\"],[1.0,\"#f0f921\"]]}],\"mesh3d\":[{\"colorbar\":{\"outlinewidth\":0.0,\"ticks\":\"\"}}],\"parcoords\":[{\"line\":{\"colorbar\":{\"outlinewidth\":0.0,\"ticks\":\"\"}}}],\"pie\":[{\"automargin\":true}],\"scatter\":[{\"marker\":{\"colorbar\":{\"outlinewidth\":0.0,\"ticks\":\"\"}}}],\"scatter3d\":[{\"marker\":{\"colorbar\":{\"outlinewidth\":0.0,\"ticks\":\"\"}},\"line\":{\"colorbar\":{\"outlinewidth\":0.0,\"ticks\":\"\"}}}],\"scattercarpet\":[{\"marker\":{\"colorbar\":{\"outlinewidth\":0.0,\"ticks\":\"\"}}}],\"scattergeo\":[{\"marker\":{\"colorbar\":{\"outlinewidth\":0.0,\"ticks\":\"\"}}}],\"scattergl\":[{\"marker\":{\"colorbar\":{\"outlinewidth\":0.0,\"ticks\":\"\"}}}],\"scattermapbox\":[{\"marker\":{\"colorbar\":{\"outlinewidth\":0.0,\"ticks\":\"\"}}}],\"scatterpolar\":[{\"marker\":{\"colorbar\":{\"outlinewidth\":0.0,\"ticks\":\"\"}}}],\"scatterpolargl\":[{\"marker\":{\"colorbar\":{\"outlinewidth\":0.0,\"ticks\":\"\"}}}],\"scatterternary\":[{\"marker\":{\"colorbar\":{\"outlinewidth\":0.0,\"ticks\":\"\"}}}],\"surface\":[{\"colorbar\":{\"outlinewidth\":0.0,\"ticks\":\"\"},\"colorscale\":[[0.0,\"#0d0887\"],[0.1111111111111111,\"#46039f\"],[0.2222222222222222,\"#7201a8\"],[0.3333333333333333,\"#9c179e\"],[0.4444444444444444,\"#bd3786\"],[0.5555555555555556,\"#d8576b\"],[0.6666666666666666,\"#ed7953\"],[0.7777777777777778,\"#fb9f3a\"],[0.8888888888888888,\"#fdca26\"],[1.0,\"#f0f921\"]]}],\"table\":[{\"cells\":{\"fill\":{\"color\":\"rgba(235, 240, 248, 1.0)\"},\"line\":{\"color\":\"rgba(255, 255, 255, 1.0)\"}},\"header\":{\"fill\":{\"color\":\"rgba(200, 212, 227, 1.0)\"},\"line\":{\"color\":\"rgba(255, 255, 255, 1.0)\"}}}]}},\"title\":{\"text\":\"Abbildung 7 - Simulation verhulst growth model\"},\"xaxis\":{\"title\":{\"text\":\"Time [h]\"}},\"yaxis\":{\"title\":{\"text\":\"log2(Zellzahl)\"}}};\r\n",
              "            var config = {\"responsive\":true};\r\n",
              "            Plotly.newPlot('6146c7c1-a31e-459e-b3e3-7c25c947670b', data, layout, config);\r\n",
              "});\r\n",
              "            };\r\n",
              "            if ((typeof(requirejs) !==  typeof(Function)) || (typeof(requirejs.config) !== typeof(Function))) {\r\n",
              "                var script = document.createElement(\"script\");\r\n",
              "                script.setAttribute(\"src\", \"https://cdnjs.cloudflare.com/ajax/libs/require.js/2.3.6/require.min.js\");\r\n",
              "                script.onload = function(){\r\n",
              "                    renderPlotly_6146c7c1a31e459eb3e37c25c947670b();\r\n",
              "                };\r\n",
              "                document.getElementsByTagName(\"head\")[0].appendChild(script);\r\n",
              "            }\r\n",
              "            else {\r\n",
              "                renderPlotly_6146c7c1a31e459eb3e37c25c947670b();\r\n",
              "            }\r\n",
              "</script>\r\n",
              "\n",
              "    \n",
              "</div>    \n"
            ]
          },
          "metadata": {},
          "output_type": "display_data"
        }
      ],
      "source": [
        "// Simulate the model function\n",
        "let sim_dy_dx = \n",
        "    modelContext.OdeInt(t0,N0,verhulst)\n",
        "    |> SolPoints.take 15 \n",
        "    |> SolPoints.memorize\n",
        "\n",
        "// Plot the numerical solution\n",
        "sim_dy_dx\n",
        "|> SolPoints.toPoints 1\n",
        "//|> Seq.map (fun (x,y) -> x, log2 y)\n",
        "|> Chart.Point\n",
        "|> Chart.withTitle(\"Abbildung 7 - Simulation verhulst growth model\")\n",
        "|> Chart.withXAxisStyle(\"Time [h]\")\n",
        "|> Chart.withYAxisStyle(\"log2(Zellzahl)\")"
      ]
    },
    {
      "cell_type": "markdown",
      "metadata": {},
      "source": [
        "Die lag- und stationäre Phase sind hier deutlich erkennbar. Dieses Modell soll nun an die gegebenen Daten aus dem biologischen Beispiel gefittet werden. Dazu suchen wir die Integration der Differenzialgleichung und versuchen diese Funktion durch Änderung der Parameter nah an die gegebenen logarithmierten Daten zu fitten. Ein Integral lautet:\n",
        "\n",
        "$$N(t)=lmin + \\frac{lmax - lmin}{1+e^{(k-t)/d}}$$\n",
        "\n",
        "mit\n",
        "\n",
        "$lmin$ = untere asymptote\n",
        "\n",
        "$lmax$ = obere asymptote/Zellmaximum\n",
        "\n",
        "$k$ = x-Wert des Wendepunktes\n",
        "\n",
        "$d$ = Steilheit\n",
        "\n",
        "Zur Veranschaulichung wird die Verhulst-Funktion mit 4 verschiedene Parametersets visualisiert."
      ]
    },
    {
      "cell_type": "code",
      "execution_count": null,
      "metadata": {
        "dotnet_interactive": {
          "language": "fsharp"
        },
        "vscode": {
          "languageId": "dotnet-interactive.fsharp"
        }
      },
      "outputs": [
        {
          "data": {
            "text/html": [
              "\n",
              "<div>\n",
              "    <div id=\"8326e18c-2a97-4546-b8d7-1f5e25844048\"><!-- Plotly chart will be drawn inside this DIV --></div>\r\n",
              "<script type=\"text/javascript\">\r\n",
              "\r\n",
              "            var renderPlotly_8326e18c2a974546b8d71f5e25844048 = function() {\r\n",
              "            var fsharpPlotlyRequire = requirejs.config({context:'fsharp-plotly',paths:{plotly:'https://cdn.plot.ly/plotly-2.6.3.min'}}) || require;\r\n",
              "            fsharpPlotlyRequire(['plotly'], function(Plotly) {\r\n",
              "\r\n",
              "            var data = [{\"type\":\"scatter\",\"name\":\"min:0 max:10 k:4 d:1\",\"mode\":\"lines\",\"x\":[0,1,2,3,4,5,6,7,8,9,10,11,12,13,14,15,16,17,18,19,20,21,22,23,24,25,26,27,28,29,30,31,32,33,34,35,36,37,38,39,40],\"y\":[0.1798620996209156,0.4742587317756678,1.1920292202211755,2.6894142136999513,5.0,7.310585786300049,8.807970779778824,9.525741268224333,9.820137900379084,9.933071490757152,9.975273768433652,9.990889488055995,9.996646498695336,9.998766054240138,9.999546021312975,9.99983298578152,9.999938558253978,9.999977396757021,9.999991684719722,9.99999694097773,9.99999887464838,9.999999586006245,9.999999847700206,9.999999943972036,9.999999979388463,9.99999999241744,9.999999997210532,9.999999998973813,9.999999999622487,9.99999999986112,9.99999999994891,9.999999999981204,9.999999999993086,9.999999999997456,9.999999999999066,9.999999999999655,9.999999999999874,9.999999999999954,9.999999999999982,9.999999999999993,9.999999999999998],\"marker\":{},\"line\":{}},{\"type\":\"scatter\",\"name\":\"min:0 max:10 k:20 d:1\",\"mode\":\"lines\",\"x\":[0,1,2,3,4,5,6,7,8,9,10,11,12,13,14,15,16,17,18,19,20,21,22,23,24,25,26,27,28,29,30,31,32,33,34,35,36,37,38,39,40],\"y\":[2.0611536181902037E-08,5.60279640614594E-08,1.5229979512760348E-07,4.1399375473943306E-07,1.12535162055095E-06,3.0590222692562474E-06,8.315280276641322E-06,2.2603242979035746E-05,6.144174602214718E-05,0.0001670142184809518,0.0004539786870243439,0.0012339457598623173,0.003353501304664781,0.009110511944006455,0.024726231566347744,0.06692850924284856,0.1798620996209156,0.4742587317756678,1.1920292202211755,2.6894142136999513,5.0,7.310585786300049,8.807970779778824,9.525741268224333,9.820137900379084,9.933071490757152,9.975273768433652,9.990889488055995,9.996646498695336,9.998766054240138,9.999546021312975,9.99983298578152,9.999938558253978,9.999977396757021,9.999991684719722,9.99999694097773,9.99999887464838,9.999999586006245,9.999999847700206,9.999999943972036,9.999999979388463],\"marker\":{},\"line\":{}},{\"type\":\"scatter\",\"name\":\"min:0 max:10 k:20 d:3\",\"mode\":\"lines\",\"x\":[0,1,2,3,4,5,6,7,8,9,10,11,12,13,14,15,16,17,18,19,20,21,22,23,24,25,26,27,28,29,30,31,32,33,34,35,36,37,38,39,40],\"y\":[0.01271016263081358,0.017729545947921428,0.024726231566347744,0.03447451301563563,0.048047528871595184,0.06692850924284856,0.09315959345066685,0.12953727530695872,0.1798620996209156,0.2492442664711404,0.34445195666211165,0.4742587317756678,0.6496916912866407,0.883996772070584,1.1920292202211755,1.5886910488091515,2.0860852732604496,2.6894142136999513,3.3924363123418284,4.174297935376853,5.0,5.825702064623147,6.607563687658172,7.310585786300049,7.913914726739551,8.411308951190849,8.807970779778824,9.116003227929417,9.350308308713359,9.525741268224333,9.65554804333789,9.75075573352886,9.820137900379084,9.870462724693041,9.906840406549334,9.933071490757152,9.951952471128404,9.965525486984363,9.975273768433652,9.982270454052077,9.987289837369186],\"marker\":{},\"line\":{}},{\"type\":\"scatter\",\"name\":\"min:5 max:20 k:10 d:3\",\"mode\":\"lines\",\"x\":[0,1,2,3,4,5,6,7,8,9,10,11,12,13,14,15,16,17,18,19,20,21,22,23,24,25,26,27,28,29,30,31,32,33,34,35,36,37,38,39,40],\"y\":[5.516677934993168,5.711388097663502,5.974537536929961,6.325995158105876,6.788043830331763,7.383036573213728,8.129127909890673,9.034121320549927,10.088654468512743,11.26144690306528,12.5,13.738553096934721,14.911345531487258,15.965878679450073,16.870872090109327,17.616963426786274,18.211956169668234,18.674004841894124,19.02546246307004,19.2886119023365,19.48332206500683,19.62613360029329,19.730206850568628,19.805694087039562,19.860260609824,19.89960723613573,19.927928706692605,19.948288230476546,19.96291065265048,19.973405681078116,19.980934756053777,19.98633423208399,19.99020551993671,19.99298064911551,19.994969748043005,19.996395324307716,19.997416961043214,19.998149081360204,19.998673712449715,19.999049649623753,19.999319031969463],\"marker\":{},\"line\":{}}];\r\n",
              "            var layout = {\"width\":600,\"height\":600,\"template\":{\"layout\":{\"title\":{\"x\":0.05},\"font\":{\"color\":\"rgba(42, 63, 95, 1.0)\"},\"paper_bgcolor\":\"rgba(255, 255, 255, 1.0)\",\"plot_bgcolor\":\"rgba(229, 236, 246, 1.0)\",\"autotypenumbers\":\"strict\",\"colorscale\":{\"diverging\":[[0.0,\"#8e0152\"],[0.1,\"#c51b7d\"],[0.2,\"#de77ae\"],[0.3,\"#f1b6da\"],[0.4,\"#fde0ef\"],[0.5,\"#f7f7f7\"],[0.6,\"#e6f5d0\"],[0.7,\"#b8e186\"],[0.8,\"#7fbc41\"],[0.9,\"#4d9221\"],[1.0,\"#276419\"]],\"sequential\":[[0.0,\"#0d0887\"],[0.1111111111111111,\"#46039f\"],[0.2222222222222222,\"#7201a8\"],[0.3333333333333333,\"#9c179e\"],[0.4444444444444444,\"#bd3786\"],[0.5555555555555556,\"#d8576b\"],[0.6666666666666666,\"#ed7953\"],[0.7777777777777778,\"#fb9f3a\"],[0.8888888888888888,\"#fdca26\"],[1.0,\"#f0f921\"]],\"sequentialminus\":[[0.0,\"#0d0887\"],[0.1111111111111111,\"#46039f\"],[0.2222222222222222,\"#7201a8\"],[0.3333333333333333,\"#9c179e\"],[0.4444444444444444,\"#bd3786\"],[0.5555555555555556,\"#d8576b\"],[0.6666666666666666,\"#ed7953\"],[0.7777777777777778,\"#fb9f3a\"],[0.8888888888888888,\"#fdca26\"],[1.0,\"#f0f921\"]]},\"hovermode\":\"closest\",\"hoverlabel\":{\"align\":\"left\"},\"coloraxis\":{\"colorbar\":{\"outlinewidth\":0.0,\"ticks\":\"\"}},\"geo\":{\"showland\":true,\"landcolor\":\"rgba(229, 236, 246, 1.0)\",\"showlakes\":true,\"lakecolor\":\"rgba(255, 255, 255, 1.0)\",\"subunitcolor\":\"rgba(255, 255, 255, 1.0)\",\"bgcolor\":\"rgba(255, 255, 255, 1.0)\"},\"mapbox\":{\"style\":\"light\"},\"polar\":{\"bgcolor\":\"rgba(229, 236, 246, 1.0)\",\"radialaxis\":{\"linecolor\":\"rgba(255, 255, 255, 1.0)\",\"gridcolor\":\"rgba(255, 255, 255, 1.0)\",\"ticks\":\"\"},\"angularaxis\":{\"linecolor\":\"rgba(255, 255, 255, 1.0)\",\"gridcolor\":\"rgba(255, 255, 255, 1.0)\",\"ticks\":\"\"}},\"scene\":{\"xaxis\":{\"ticks\":\"\",\"linecolor\":\"rgba(255, 255, 255, 1.0)\",\"gridcolor\":\"rgba(255, 255, 255, 1.0)\",\"gridwidth\":2.0,\"zerolinecolor\":\"rgba(255, 255, 255, 1.0)\",\"backgroundcolor\":\"rgba(229, 236, 246, 1.0)\",\"showbackground\":true},\"yaxis\":{\"ticks\":\"\",\"linecolor\":\"rgba(255, 255, 255, 1.0)\",\"gridcolor\":\"rgba(255, 255, 255, 1.0)\",\"gridwidth\":2.0,\"zerolinecolor\":\"rgba(255, 255, 255, 1.0)\",\"backgroundcolor\":\"rgba(229, 236, 246, 1.0)\",\"showbackground\":true},\"zaxis\":{\"ticks\":\"\",\"linecolor\":\"rgba(255, 255, 255, 1.0)\",\"gridcolor\":\"rgba(255, 255, 255, 1.0)\",\"gridwidth\":2.0,\"zerolinecolor\":\"rgba(255, 255, 255, 1.0)\",\"backgroundcolor\":\"rgba(229, 236, 246, 1.0)\",\"showbackground\":true}},\"ternary\":{\"aaxis\":{\"ticks\":\"\",\"linecolor\":\"rgba(255, 255, 255, 1.0)\",\"gridcolor\":\"rgba(255, 255, 255, 1.0)\"},\"baxis\":{\"ticks\":\"\",\"linecolor\":\"rgba(255, 255, 255, 1.0)\",\"gridcolor\":\"rgba(255, 255, 255, 1.0)\"},\"caxis\":{\"ticks\":\"\",\"linecolor\":\"rgba(255, 255, 255, 1.0)\",\"gridcolor\":\"rgba(255, 255, 255, 1.0)\"},\"bgcolor\":\"rgba(229, 236, 246, 1.0)\"},\"xaxis\":{\"title\":{\"standoff\":15},\"ticks\":\"\",\"automargin\":true,\"linecolor\":\"rgba(255, 255, 255, 1.0)\",\"gridcolor\":\"rgba(255, 255, 255, 1.0)\",\"zerolinecolor\":\"rgba(255, 255, 255, 1.0)\",\"zerolinewidth\":2.0},\"yaxis\":{\"title\":{\"standoff\":15},\"ticks\":\"\",\"automargin\":true,\"linecolor\":\"rgba(255, 255, 255, 1.0)\",\"gridcolor\":\"rgba(255, 255, 255, 1.0)\",\"zerolinecolor\":\"rgba(255, 255, 255, 1.0)\",\"zerolinewidth\":2.0},\"annotationdefaults\":{\"arrowcolor\":\"#2a3f5f\",\"arrowhead\":0,\"arrowwidth\":1},\"shapedefaults\":{\"line\":{\"color\":\"rgba(42, 63, 95, 1.0)\"}},\"colorway\":[\"rgba(99, 110, 250, 1.0)\",\"rgba(239, 85, 59, 1.0)\",\"rgba(0, 204, 150, 1.0)\",\"rgba(171, 99, 250, 1.0)\",\"rgba(255, 161, 90, 1.0)\",\"rgba(25, 211, 243, 1.0)\",\"rgba(255, 102, 146, 1.0)\",\"rgba(182, 232, 128, 1.0)\",\"rgba(255, 151, 255, 1.0)\",\"rgba(254, 203, 82, 1.0)\"]},\"data\":{\"bar\":[{\"marker\":{\"line\":{\"color\":\"rgba(229, 236, 246, 1.0)\",\"width\":0.5},\"pattern\":{\"fillmode\":\"overlay\",\"size\":10,\"solidity\":0.2}},\"error_x\":{\"color\":\"rgba(42, 63, 95, 1.0)\"},\"error_y\":{\"color\":\"rgba(42, 63, 95, 1.0)\"}}],\"barpolar\":[{\"marker\":{\"line\":{\"color\":\"rgba(229, 236, 246, 1.0)\",\"width\":0.5},\"pattern\":{\"fillmode\":\"overlay\",\"size\":10,\"solidity\":0.2}}}],\"carpet\":[{\"aaxis\":{\"linecolor\":\"rgba(255, 255, 255, 1.0)\",\"gridcolor\":\"rgba(255, 255, 255, 1.0)\",\"endlinecolor\":\"rgba(42, 63, 95, 1.0)\",\"minorgridcolor\":\"rgba(255, 255, 255, 1.0)\",\"startlinecolor\":\"rgba(42, 63, 95, 1.0)\"},\"baxis\":{\"linecolor\":\"rgba(255, 255, 255, 1.0)\",\"gridcolor\":\"rgba(255, 255, 255, 1.0)\",\"endlinecolor\":\"rgba(42, 63, 95, 1.0)\",\"minorgridcolor\":\"rgba(255, 255, 255, 1.0)\",\"startlinecolor\":\"rgba(42, 63, 95, 1.0)\"}}],\"choropleth\":[{\"colorbar\":{\"outlinewidth\":0.0,\"ticks\":\"\"},\"colorscale\":[[0.0,\"#0d0887\"],[0.1111111111111111,\"#46039f\"],[0.2222222222222222,\"#7201a8\"],[0.3333333333333333,\"#9c179e\"],[0.4444444444444444,\"#bd3786\"],[0.5555555555555556,\"#d8576b\"],[0.6666666666666666,\"#ed7953\"],[0.7777777777777778,\"#fb9f3a\"],[0.8888888888888888,\"#fdca26\"],[1.0,\"#f0f921\"]]}],\"contour\":[{\"colorbar\":{\"outlinewidth\":0.0,\"ticks\":\"\"},\"colorscale\":[[0.0,\"#0d0887\"],[0.1111111111111111,\"#46039f\"],[0.2222222222222222,\"#7201a8\"],[0.3333333333333333,\"#9c179e\"],[0.4444444444444444,\"#bd3786\"],[0.5555555555555556,\"#d8576b\"],[0.6666666666666666,\"#ed7953\"],[0.7777777777777778,\"#fb9f3a\"],[0.8888888888888888,\"#fdca26\"],[1.0,\"#f0f921\"]]}],\"contourcarpet\":[{\"colorbar\":{\"outlinewidth\":0.0,\"ticks\":\"\"}}],\"heatmap\":[{\"colorbar\":{\"outlinewidth\":0.0,\"ticks\":\"\"},\"colorscale\":[[0.0,\"#0d0887\"],[0.1111111111111111,\"#46039f\"],[0.2222222222222222,\"#7201a8\"],[0.3333333333333333,\"#9c179e\"],[0.4444444444444444,\"#bd3786\"],[0.5555555555555556,\"#d8576b\"],[0.6666666666666666,\"#ed7953\"],[0.7777777777777778,\"#fb9f3a\"],[0.8888888888888888,\"#fdca26\"],[1.0,\"#f0f921\"]]}],\"heatmapgl\":[{\"colorbar\":{\"outlinewidth\":0.0,\"ticks\":\"\"},\"colorscale\":[[0.0,\"#0d0887\"],[0.1111111111111111,\"#46039f\"],[0.2222222222222222,\"#7201a8\"],[0.3333333333333333,\"#9c179e\"],[0.4444444444444444,\"#bd3786\"],[0.5555555555555556,\"#d8576b\"],[0.6666666666666666,\"#ed7953\"],[0.7777777777777778,\"#fb9f3a\"],[0.8888888888888888,\"#fdca26\"],[1.0,\"#f0f921\"]]}],\"histogram\":[{\"marker\":{\"pattern\":{\"fillmode\":\"overlay\",\"size\":10,\"solidity\":0.2}}}],\"histogram2d\":[{\"colorbar\":{\"outlinewidth\":0.0,\"ticks\":\"\"},\"colorscale\":[[0.0,\"#0d0887\"],[0.1111111111111111,\"#46039f\"],[0.2222222222222222,\"#7201a8\"],[0.3333333333333333,\"#9c179e\"],[0.4444444444444444,\"#bd3786\"],[0.5555555555555556,\"#d8576b\"],[0.6666666666666666,\"#ed7953\"],[0.7777777777777778,\"#fb9f3a\"],[0.8888888888888888,\"#fdca26\"],[1.0,\"#f0f921\"]]}],\"histogram2dcontour\":[{\"colorbar\":{\"outlinewidth\":0.0,\"ticks\":\"\"},\"colorscale\":[[0.0,\"#0d0887\"],[0.1111111111111111,\"#46039f\"],[0.2222222222222222,\"#7201a8\"],[0.3333333333333333,\"#9c179e\"],[0.4444444444444444,\"#bd3786\"],[0.5555555555555556,\"#d8576b\"],[0.6666666666666666,\"#ed7953\"],[0.7777777777777778,\"#fb9f3a\"],[0.8888888888888888,\"#fdca26\"],[1.0,\"#f0f921\"]]}],\"mesh3d\":[{\"colorbar\":{\"outlinewidth\":0.0,\"ticks\":\"\"}}],\"parcoords\":[{\"line\":{\"colorbar\":{\"outlinewidth\":0.0,\"ticks\":\"\"}}}],\"pie\":[{\"automargin\":true}],\"scatter\":[{\"marker\":{\"colorbar\":{\"outlinewidth\":0.0,\"ticks\":\"\"}}}],\"scatter3d\":[{\"marker\":{\"colorbar\":{\"outlinewidth\":0.0,\"ticks\":\"\"}},\"line\":{\"colorbar\":{\"outlinewidth\":0.0,\"ticks\":\"\"}}}],\"scattercarpet\":[{\"marker\":{\"colorbar\":{\"outlinewidth\":0.0,\"ticks\":\"\"}}}],\"scattergeo\":[{\"marker\":{\"colorbar\":{\"outlinewidth\":0.0,\"ticks\":\"\"}}}],\"scattergl\":[{\"marker\":{\"colorbar\":{\"outlinewidth\":0.0,\"ticks\":\"\"}}}],\"scattermapbox\":[{\"marker\":{\"colorbar\":{\"outlinewidth\":0.0,\"ticks\":\"\"}}}],\"scatterpolar\":[{\"marker\":{\"colorbar\":{\"outlinewidth\":0.0,\"ticks\":\"\"}}}],\"scatterpolargl\":[{\"marker\":{\"colorbar\":{\"outlinewidth\":0.0,\"ticks\":\"\"}}}],\"scatterternary\":[{\"marker\":{\"colorbar\":{\"outlinewidth\":0.0,\"ticks\":\"\"}}}],\"surface\":[{\"colorbar\":{\"outlinewidth\":0.0,\"ticks\":\"\"},\"colorscale\":[[0.0,\"#0d0887\"],[0.1111111111111111,\"#46039f\"],[0.2222222222222222,\"#7201a8\"],[0.3333333333333333,\"#9c179e\"],[0.4444444444444444,\"#bd3786\"],[0.5555555555555556,\"#d8576b\"],[0.6666666666666666,\"#ed7953\"],[0.7777777777777778,\"#fb9f3a\"],[0.8888888888888888,\"#fdca26\"],[1.0,\"#f0f921\"]]}],\"table\":[{\"cells\":{\"fill\":{\"color\":\"rgba(235, 240, 248, 1.0)\"},\"line\":{\"color\":\"rgba(255, 255, 255, 1.0)\"}},\"header\":{\"fill\":{\"color\":\"rgba(200, 212, 227, 1.0)\"},\"line\":{\"color\":\"rgba(255, 255, 255, 1.0)\"}}}]}},\"legend\":{\"x\":0.6,\"y\":0.01},\"title\":{\"text\":\"Abbildung 8 - Verschiedene logistische Funktionen\"},\"xaxis\":{\"title\":{\"text\":\"Time [h]\"}},\"yaxis\":{\"title\":{\"text\":\"log2(Zellzahl)\"}}};\r\n",
              "            var config = {\"responsive\":true};\r\n",
              "            Plotly.newPlot('8326e18c-2a97-4546-b8d7-1f5e25844048', data, layout, config);\r\n",
              "});\r\n",
              "            };\r\n",
              "            if ((typeof(requirejs) !==  typeof(Function)) || (typeof(requirejs.config) !== typeof(Function))) {\r\n",
              "                var script = document.createElement(\"script\");\r\n",
              "                script.setAttribute(\"src\", \"https://cdnjs.cloudflare.com/ajax/libs/require.js/2.3.6/require.min.js\");\r\n",
              "                script.onload = function(){\r\n",
              "                    renderPlotly_8326e18c2a974546b8d71f5e25844048();\r\n",
              "                };\r\n",
              "                document.getElementsByTagName(\"head\")[0].appendChild(script);\r\n",
              "            }\r\n",
              "            else {\r\n",
              "                renderPlotly_8326e18c2a974546b8d71f5e25844048();\r\n",
              "            }\r\n",
              "</script>\r\n",
              "\n",
              "    \n",
              "</div>    \n"
            ]
          },
          "metadata": {},
          "output_type": "display_data"
        }
      ],
      "source": [
        "let verhulstFunktion lmin lmax (k:float) d t=\n",
        "    lmin + (lmax - lmin)/(1.+ exp((k-t)/d))\n",
        "\n",
        "let plotVerhulst lmin lmax  k d =\n",
        "    let data=\n",
        "        [0..40]\n",
        "        |> Seq.map (fun x -> x,verhulstFunktion lmin lmax k d x)\n",
        "    let chart = \n",
        "        Chart.Line(data,Name=sprintf \"min:%.0f max:%.0f k:%.0f d:%.0f\" lmin lmax k d)\n",
        "    chart\n",
        "\n",
        "[\n",
        "plotVerhulst 0. 10. 4. 1.\n",
        "plotVerhulst 0. 10. 20. 1.\n",
        "plotVerhulst 0. 10. 20. 3.\n",
        "plotVerhulst 5. 20. 10. 3.\n",
        "]\n",
        "|> Chart.combine\n",
        "|> Chart.withLegendStyle(X=0.6,Y=0.01)\n",
        "|> Chart.withTitle(\"Abbildung 8 - Verschiedene logistische Funktionen\")\n",
        "|> Chart.withXAxisStyle(\"Time [h]\")\n",
        "|> Chart.withYAxisStyle(\"log2(Zellzahl)\")"
      ]
    },
    {
      "cell_type": "markdown",
      "metadata": {},
      "source": [
        "Ein sogenannter Solver benötigt die Daten und das Modell, welches auf diese Daten appliziert werden soll. Der Solver mit dem Namen Levenberg-Marquardt versucht die Parameter des Modells so lange zu optimieren, bis der Abstand zwischen dem Modell und den echten Daten minimal geworden ist. Anschließend kann man die optimierten Parameter abfragen und mit diesen weiter arbeiten. Mehr Details finden Sie in *Vorlesung 13 - Principles of model fitting*.\n",
        " "
      ]
    },
    {
      "cell_type": "code",
      "execution_count": null,
      "metadata": {
        "dotnet_interactive": {
          "language": "fsharp"
        },
        "vscode": {
          "languageId": "dotnet-interactive.fsharp"
        }
      },
      "outputs": [
        {
          "name": "stdout",
          "output_type": "stream",
          "text": [
            "Für die gegebenden Daten sind die optimalen Parameter des 4-Parameter Verhulstmodells:\n",
            "lmin = 23.578 \n",
            "lmax = 33.987\n",
            "k = 3.997\n",
            "d = 0.956\r\n"
          ]
        }
      ],
      "source": [
        "open System\n",
        "open FSharp.Stats\n",
        "open FSharp.Stats.Fitting.NonLinearRegression\n",
        "open FSharp.Stats.Fitting.LinearRegression\n",
        "\n",
        "let getVerhulstParams timePoints logdata min max k d = \n",
        "    LevenbergMarquardt.estimatedParams\n",
        "        Table.GrowthModels.verhulst4Param\n",
        "        (createSolverOption 0.001 0.001 10000 [|max;k;d;min|])\n",
        "        0.1\n",
        "        10.\n",
        "        timePoints\n",
        "        logdata\n",
        "\n",
        "let verhulstParams =\n",
        "    //getVerhulstParams time cellCountLog2 23. 35. 3.5 1.\n",
        "    getVerhulstParams time cellCountLog2 23.391 33.598 4. 1.\n",
        "\n",
        "printfn \"Durch cleveres Ausprobieren identifiziert der Solver folgende Parameter:\n",
        "lmin = %.3f \n",
        "lmax = %.3f\n",
        "k = %.3f\n",
        "d = %.3f\" verhulstParams.[3] verhulstParams.[0] verhulstParams.[1] verhulstParams.[2]\n",
        "\n"
      ]
    },
    {
      "cell_type": "markdown",
      "metadata": {},
      "source": [
        "Der folgende Codeblock dient nur der Visualiserung der Daten mit gefittetem Modell."
      ]
    },
    {
      "cell_type": "code",
      "execution_count": null,
      "metadata": {
        "dotnet_interactive": {
          "language": "fsharp"
        },
        "vscode": {
          "languageId": "dotnet-interactive.fsharp"
        }
      },
      "outputs": [
        {
          "data": {
            "text/html": [
              "\n",
              "<div>\n",
              "    <div id=\"053ba06e-ad9b-4da9-a3b5-597e6839ec02\"><!-- Plotly chart will be drawn inside this DIV --></div>\r\n",
              "<script type=\"text/javascript\">\r\n",
              "\r\n",
              "            var renderPlotly_053ba06ead9b4da9a3b5597e6839ec02 = function() {\r\n",
              "            var fsharpPlotlyRequire = requirejs.config({context:'fsharp-plotly',paths:{plotly:'https://cdn.plot.ly/plotly-2.6.3.min'}}) || require;\r\n",
              "            fsharpPlotlyRequire(['plotly'], function(Plotly) {\r\n",
              "\r\n",
              "            var data = [{\"type\":\"scatter\",\"mode\":\"markers\",\"x\":[0.0,0.5,1.0,1.5,2.0,2.5,3.0,3.5,4.0,4.5,5.0,5.5,6.0,6.5,7.0,7.5,8.0],\"y\":[24.019031410574513,23.97596268868263,23.391000187961474,23.73892349138178,24.686456071487644,25.25349666421154,26.83845916493269,28.160387259820055,28.74534976054121,30.160387259820055,31.330312261262367,32.219280948873624,32.89735285398626,33.44578947868231,33.48231535470742,33.597792572127354,33.5754247590989],\"marker\":{},\"line\":{},\"name\":\"log2 count\"},{\"type\":\"scatter\",\"mode\":\"lines\",\"x\":[0.0,0.1,0.2,0.30000000000000004,0.4,0.5,0.6000000000000001,0.7000000000000001,0.8,0.9,1.0,1.1,1.2000000000000002,1.3,1.4000000000000001,1.5,1.6,1.7000000000000002,1.8,1.9000000000000001,2.0,2.1,2.2,2.3000000000000003,2.4000000000000004,2.5,2.6,2.7,2.8000000000000003,2.9000000000000004,3.0,3.1,3.2,3.3000000000000003,3.4000000000000004,3.5,3.6,3.7,3.8000000000000003,3.9000000000000004,4.0,4.1000000000000005,4.2,4.3,4.4,4.5,4.6000000000000005,4.7,4.800000000000001,4.9,5.0,5.1000000000000005,5.2,5.300000000000001,5.4,5.5,5.6000000000000005,5.7,5.800000000000001,5.9,6.0,6.1000000000000005,6.2,6.300000000000001,6.4,6.5,6.6000000000000005,6.7,6.800000000000001,6.9,7.0,7.1000000000000005,7.2,7.300000000000001,7.4,7.5,7.6000000000000005,7.7,7.800000000000001,7.9,8.0],\"y\":[23.734786035668137,23.751782695914393,23.770587428982516,23.791384700331943,23.814376011186607,23.839781065193854,23.867838917866806,23.89880907965829,23.93297253613655,23.97063264024003,24.01211582197363,24.057772050230277,24.10797496983482,24.163121624695446,24.2236316655631,24.28994592900456,24.36252426370714,24.441842472363238,24.528388233662234,24.6226558712009,24.72513984655803,24.836326874716246,24.95668659385376,25.0866607704745,25.226651086564843,25.377005638653642,25.538004378526427,25.709843839107506,25.892621611390066,26.086321161179857,26.290797686935033,26.50576580887858,26.730789930200046,26.96527810912374,27.20848021377204,27.45949099264381,27.71725848167437,27.98059789244594,28.248210802698726,28.518709125864202,28.790643002945803,29.06253147189519,29.332894558251965,29.600285320423197,29.863320386525153,30.120707636773542,30.371269902273696,30.613963842959688,30.84789350248377,31.0723183818764,31.28665619501134,31.490480741771748,31.683515542361796,31.865624010806062,32.03679700829284,32.19713861545483,32.34685090927671,32.486218439569015,32.615592986437264,32.73537905703619,32.84602045785584,32.94798816574781,33.04176962198838,33.12785949154959,33.206751865086964,33.278933833185505,33.34488032942095,33.40505011856745,33.45988279641244,33.509796665781586,33.55518735740132,33.59642707229652,33.63386433302627,33.6678241430092,33.698608465580165,33.726496946605245,33.75174781601974,33.77459891427055,33.795268799192066,33.81395789726799,33.83084967054326],\"marker\":{},\"line\":{},\"name\":\"verhulst\"}];\r\n",
              "            var layout = {\"width\":600,\"height\":600,\"template\":{\"layout\":{\"title\":{\"x\":0.05},\"font\":{\"color\":\"rgba(42, 63, 95, 1.0)\"},\"paper_bgcolor\":\"rgba(255, 255, 255, 1.0)\",\"plot_bgcolor\":\"rgba(229, 236, 246, 1.0)\",\"autotypenumbers\":\"strict\",\"colorscale\":{\"diverging\":[[0.0,\"#8e0152\"],[0.1,\"#c51b7d\"],[0.2,\"#de77ae\"],[0.3,\"#f1b6da\"],[0.4,\"#fde0ef\"],[0.5,\"#f7f7f7\"],[0.6,\"#e6f5d0\"],[0.7,\"#b8e186\"],[0.8,\"#7fbc41\"],[0.9,\"#4d9221\"],[1.0,\"#276419\"]],\"sequential\":[[0.0,\"#0d0887\"],[0.1111111111111111,\"#46039f\"],[0.2222222222222222,\"#7201a8\"],[0.3333333333333333,\"#9c179e\"],[0.4444444444444444,\"#bd3786\"],[0.5555555555555556,\"#d8576b\"],[0.6666666666666666,\"#ed7953\"],[0.7777777777777778,\"#fb9f3a\"],[0.8888888888888888,\"#fdca26\"],[1.0,\"#f0f921\"]],\"sequentialminus\":[[0.0,\"#0d0887\"],[0.1111111111111111,\"#46039f\"],[0.2222222222222222,\"#7201a8\"],[0.3333333333333333,\"#9c179e\"],[0.4444444444444444,\"#bd3786\"],[0.5555555555555556,\"#d8576b\"],[0.6666666666666666,\"#ed7953\"],[0.7777777777777778,\"#fb9f3a\"],[0.8888888888888888,\"#fdca26\"],[1.0,\"#f0f921\"]]},\"hovermode\":\"closest\",\"hoverlabel\":{\"align\":\"left\"},\"coloraxis\":{\"colorbar\":{\"outlinewidth\":0.0,\"ticks\":\"\"}},\"geo\":{\"showland\":true,\"landcolor\":\"rgba(229, 236, 246, 1.0)\",\"showlakes\":true,\"lakecolor\":\"rgba(255, 255, 255, 1.0)\",\"subunitcolor\":\"rgba(255, 255, 255, 1.0)\",\"bgcolor\":\"rgba(255, 255, 255, 1.0)\"},\"mapbox\":{\"style\":\"light\"},\"polar\":{\"bgcolor\":\"rgba(229, 236, 246, 1.0)\",\"radialaxis\":{\"linecolor\":\"rgba(255, 255, 255, 1.0)\",\"gridcolor\":\"rgba(255, 255, 255, 1.0)\",\"ticks\":\"\"},\"angularaxis\":{\"linecolor\":\"rgba(255, 255, 255, 1.0)\",\"gridcolor\":\"rgba(255, 255, 255, 1.0)\",\"ticks\":\"\"}},\"scene\":{\"xaxis\":{\"ticks\":\"\",\"linecolor\":\"rgba(255, 255, 255, 1.0)\",\"gridcolor\":\"rgba(255, 255, 255, 1.0)\",\"gridwidth\":2.0,\"zerolinecolor\":\"rgba(255, 255, 255, 1.0)\",\"backgroundcolor\":\"rgba(229, 236, 246, 1.0)\",\"showbackground\":true},\"yaxis\":{\"ticks\":\"\",\"linecolor\":\"rgba(255, 255, 255, 1.0)\",\"gridcolor\":\"rgba(255, 255, 255, 1.0)\",\"gridwidth\":2.0,\"zerolinecolor\":\"rgba(255, 255, 255, 1.0)\",\"backgroundcolor\":\"rgba(229, 236, 246, 1.0)\",\"showbackground\":true},\"zaxis\":{\"ticks\":\"\",\"linecolor\":\"rgba(255, 255, 255, 1.0)\",\"gridcolor\":\"rgba(255, 255, 255, 1.0)\",\"gridwidth\":2.0,\"zerolinecolor\":\"rgba(255, 255, 255, 1.0)\",\"backgroundcolor\":\"rgba(229, 236, 246, 1.0)\",\"showbackground\":true}},\"ternary\":{\"aaxis\":{\"ticks\":\"\",\"linecolor\":\"rgba(255, 255, 255, 1.0)\",\"gridcolor\":\"rgba(255, 255, 255, 1.0)\"},\"baxis\":{\"ticks\":\"\",\"linecolor\":\"rgba(255, 255, 255, 1.0)\",\"gridcolor\":\"rgba(255, 255, 255, 1.0)\"},\"caxis\":{\"ticks\":\"\",\"linecolor\":\"rgba(255, 255, 255, 1.0)\",\"gridcolor\":\"rgba(255, 255, 255, 1.0)\"},\"bgcolor\":\"rgba(229, 236, 246, 1.0)\"},\"xaxis\":{\"title\":{\"standoff\":15},\"ticks\":\"\",\"automargin\":true,\"linecolor\":\"rgba(255, 255, 255, 1.0)\",\"gridcolor\":\"rgba(255, 255, 255, 1.0)\",\"zerolinecolor\":\"rgba(255, 255, 255, 1.0)\",\"zerolinewidth\":2.0},\"yaxis\":{\"title\":{\"standoff\":15},\"ticks\":\"\",\"automargin\":true,\"linecolor\":\"rgba(255, 255, 255, 1.0)\",\"gridcolor\":\"rgba(255, 255, 255, 1.0)\",\"zerolinecolor\":\"rgba(255, 255, 255, 1.0)\",\"zerolinewidth\":2.0},\"annotationdefaults\":{\"arrowcolor\":\"#2a3f5f\",\"arrowhead\":0,\"arrowwidth\":1},\"shapedefaults\":{\"line\":{\"color\":\"rgba(42, 63, 95, 1.0)\"}},\"colorway\":[\"rgba(99, 110, 250, 1.0)\",\"rgba(239, 85, 59, 1.0)\",\"rgba(0, 204, 150, 1.0)\",\"rgba(171, 99, 250, 1.0)\",\"rgba(255, 161, 90, 1.0)\",\"rgba(25, 211, 243, 1.0)\",\"rgba(255, 102, 146, 1.0)\",\"rgba(182, 232, 128, 1.0)\",\"rgba(255, 151, 255, 1.0)\",\"rgba(254, 203, 82, 1.0)\"]},\"data\":{\"bar\":[{\"marker\":{\"line\":{\"color\":\"rgba(229, 236, 246, 1.0)\",\"width\":0.5},\"pattern\":{\"fillmode\":\"overlay\",\"size\":10,\"solidity\":0.2}},\"error_x\":{\"color\":\"rgba(42, 63, 95, 1.0)\"},\"error_y\":{\"color\":\"rgba(42, 63, 95, 1.0)\"}}],\"barpolar\":[{\"marker\":{\"line\":{\"color\":\"rgba(229, 236, 246, 1.0)\",\"width\":0.5},\"pattern\":{\"fillmode\":\"overlay\",\"size\":10,\"solidity\":0.2}}}],\"carpet\":[{\"aaxis\":{\"linecolor\":\"rgba(255, 255, 255, 1.0)\",\"gridcolor\":\"rgba(255, 255, 255, 1.0)\",\"endlinecolor\":\"rgba(42, 63, 95, 1.0)\",\"minorgridcolor\":\"rgba(255, 255, 255, 1.0)\",\"startlinecolor\":\"rgba(42, 63, 95, 1.0)\"},\"baxis\":{\"linecolor\":\"rgba(255, 255, 255, 1.0)\",\"gridcolor\":\"rgba(255, 255, 255, 1.0)\",\"endlinecolor\":\"rgba(42, 63, 95, 1.0)\",\"minorgridcolor\":\"rgba(255, 255, 255, 1.0)\",\"startlinecolor\":\"rgba(42, 63, 95, 1.0)\"}}],\"choropleth\":[{\"colorbar\":{\"outlinewidth\":0.0,\"ticks\":\"\"},\"colorscale\":[[0.0,\"#0d0887\"],[0.1111111111111111,\"#46039f\"],[0.2222222222222222,\"#7201a8\"],[0.3333333333333333,\"#9c179e\"],[0.4444444444444444,\"#bd3786\"],[0.5555555555555556,\"#d8576b\"],[0.6666666666666666,\"#ed7953\"],[0.7777777777777778,\"#fb9f3a\"],[0.8888888888888888,\"#fdca26\"],[1.0,\"#f0f921\"]]}],\"contour\":[{\"colorbar\":{\"outlinewidth\":0.0,\"ticks\":\"\"},\"colorscale\":[[0.0,\"#0d0887\"],[0.1111111111111111,\"#46039f\"],[0.2222222222222222,\"#7201a8\"],[0.3333333333333333,\"#9c179e\"],[0.4444444444444444,\"#bd3786\"],[0.5555555555555556,\"#d8576b\"],[0.6666666666666666,\"#ed7953\"],[0.7777777777777778,\"#fb9f3a\"],[0.8888888888888888,\"#fdca26\"],[1.0,\"#f0f921\"]]}],\"contourcarpet\":[{\"colorbar\":{\"outlinewidth\":0.0,\"ticks\":\"\"}}],\"heatmap\":[{\"colorbar\":{\"outlinewidth\":0.0,\"ticks\":\"\"},\"colorscale\":[[0.0,\"#0d0887\"],[0.1111111111111111,\"#46039f\"],[0.2222222222222222,\"#7201a8\"],[0.3333333333333333,\"#9c179e\"],[0.4444444444444444,\"#bd3786\"],[0.5555555555555556,\"#d8576b\"],[0.6666666666666666,\"#ed7953\"],[0.7777777777777778,\"#fb9f3a\"],[0.8888888888888888,\"#fdca26\"],[1.0,\"#f0f921\"]]}],\"heatmapgl\":[{\"colorbar\":{\"outlinewidth\":0.0,\"ticks\":\"\"},\"colorscale\":[[0.0,\"#0d0887\"],[0.1111111111111111,\"#46039f\"],[0.2222222222222222,\"#7201a8\"],[0.3333333333333333,\"#9c179e\"],[0.4444444444444444,\"#bd3786\"],[0.5555555555555556,\"#d8576b\"],[0.6666666666666666,\"#ed7953\"],[0.7777777777777778,\"#fb9f3a\"],[0.8888888888888888,\"#fdca26\"],[1.0,\"#f0f921\"]]}],\"histogram\":[{\"marker\":{\"pattern\":{\"fillmode\":\"overlay\",\"size\":10,\"solidity\":0.2}}}],\"histogram2d\":[{\"colorbar\":{\"outlinewidth\":0.0,\"ticks\":\"\"},\"colorscale\":[[0.0,\"#0d0887\"],[0.1111111111111111,\"#46039f\"],[0.2222222222222222,\"#7201a8\"],[0.3333333333333333,\"#9c179e\"],[0.4444444444444444,\"#bd3786\"],[0.5555555555555556,\"#d8576b\"],[0.6666666666666666,\"#ed7953\"],[0.7777777777777778,\"#fb9f3a\"],[0.8888888888888888,\"#fdca26\"],[1.0,\"#f0f921\"]]}],\"histogram2dcontour\":[{\"colorbar\":{\"outlinewidth\":0.0,\"ticks\":\"\"},\"colorscale\":[[0.0,\"#0d0887\"],[0.1111111111111111,\"#46039f\"],[0.2222222222222222,\"#7201a8\"],[0.3333333333333333,\"#9c179e\"],[0.4444444444444444,\"#bd3786\"],[0.5555555555555556,\"#d8576b\"],[0.6666666666666666,\"#ed7953\"],[0.7777777777777778,\"#fb9f3a\"],[0.8888888888888888,\"#fdca26\"],[1.0,\"#f0f921\"]]}],\"mesh3d\":[{\"colorbar\":{\"outlinewidth\":0.0,\"ticks\":\"\"}}],\"parcoords\":[{\"line\":{\"colorbar\":{\"outlinewidth\":0.0,\"ticks\":\"\"}}}],\"pie\":[{\"automargin\":true}],\"scatter\":[{\"marker\":{\"colorbar\":{\"outlinewidth\":0.0,\"ticks\":\"\"}}}],\"scatter3d\":[{\"marker\":{\"colorbar\":{\"outlinewidth\":0.0,\"ticks\":\"\"}},\"line\":{\"colorbar\":{\"outlinewidth\":0.0,\"ticks\":\"\"}}}],\"scattercarpet\":[{\"marker\":{\"colorbar\":{\"outlinewidth\":0.0,\"ticks\":\"\"}}}],\"scattergeo\":[{\"marker\":{\"colorbar\":{\"outlinewidth\":0.0,\"ticks\":\"\"}}}],\"scattergl\":[{\"marker\":{\"colorbar\":{\"outlinewidth\":0.0,\"ticks\":\"\"}}}],\"scattermapbox\":[{\"marker\":{\"colorbar\":{\"outlinewidth\":0.0,\"ticks\":\"\"}}}],\"scatterpolar\":[{\"marker\":{\"colorbar\":{\"outlinewidth\":0.0,\"ticks\":\"\"}}}],\"scatterpolargl\":[{\"marker\":{\"colorbar\":{\"outlinewidth\":0.0,\"ticks\":\"\"}}}],\"scatterternary\":[{\"marker\":{\"colorbar\":{\"outlinewidth\":0.0,\"ticks\":\"\"}}}],\"surface\":[{\"colorbar\":{\"outlinewidth\":0.0,\"ticks\":\"\"},\"colorscale\":[[0.0,\"#0d0887\"],[0.1111111111111111,\"#46039f\"],[0.2222222222222222,\"#7201a8\"],[0.3333333333333333,\"#9c179e\"],[0.4444444444444444,\"#bd3786\"],[0.5555555555555556,\"#d8576b\"],[0.6666666666666666,\"#ed7953\"],[0.7777777777777778,\"#fb9f3a\"],[0.8888888888888888,\"#fdca26\"],[1.0,\"#f0f921\"]]}],\"table\":[{\"cells\":{\"fill\":{\"color\":\"rgba(235, 240, 248, 1.0)\"},\"line\":{\"color\":\"rgba(255, 255, 255, 1.0)\"}},\"header\":{\"fill\":{\"color\":\"rgba(200, 212, 227, 1.0)\"},\"line\":{\"color\":\"rgba(255, 255, 255, 1.0)\"}}}]}},\"xaxis\":{\"title\":{\"text\":\"time (h)\"}},\"yaxis\":{\"title\":{\"text\":\"log2(cells/ml)\"}}};\r\n",
              "            var config = {\"responsive\":true};\r\n",
              "            Plotly.newPlot('053ba06e-ad9b-4da9-a3b5-597e6839ec02', data, layout, config);\r\n",
              "});\r\n",
              "            };\r\n",
              "            if ((typeof(requirejs) !==  typeof(Function)) || (typeof(requirejs.config) !== typeof(Function))) {\r\n",
              "                var script = document.createElement(\"script\");\r\n",
              "                script.setAttribute(\"src\", \"https://cdnjs.cloudflare.com/ajax/libs/require.js/2.3.6/require.min.js\");\r\n",
              "                script.onload = function(){\r\n",
              "                    renderPlotly_053ba06ead9b4da9a3b5597e6839ec02();\r\n",
              "                };\r\n",
              "                document.getElementsByTagName(\"head\")[0].appendChild(script);\r\n",
              "            }\r\n",
              "            else {\r\n",
              "                renderPlotly_053ba06ead9b4da9a3b5597e6839ec02();\r\n",
              "            }\r\n",
              "</script>\r\n",
              "\n",
              "    \n",
              "</div>    \n"
            ]
          },
          "metadata": {},
          "output_type": "display_data"
        }
      ],
      "source": [
        "let fittedValuesVerhulst =\n",
        "    /// The parameter were determined locally for saving time during build processes\n",
        "    let f =  Table.GrowthModels.verhulst4Param.GetFunctionValue verhulstParams\n",
        "    [time.[0] .. 0.1 .. Seq.last time]\n",
        "    |> Seq.map (fun x -> \n",
        "        x,f x\n",
        "        ) \n",
        "    |> Chart.Line\n",
        "\n",
        "let fittedChartVerhulst = \n",
        "    fittedValuesVerhulst \n",
        "    |> Chart.withXAxisStyle \"time (h)\" \n",
        "    |> Chart.withYAxisStyle \"log2(cells/ml)\"\n",
        "    |> Chart.withTraceInfo \"verhulst\"\n",
        "\n",
        "let fittedChartVerhulstS = \n",
        "    [\n",
        "        Chart.Point(time,cellCountLog2)\n",
        "        |> Chart.withTraceInfo \"log2 count\"\n",
        "        fittedChartVerhulst\n",
        "    ]\n",
        "    |> Chart.combine\n",
        "    |> Chart.withXAxisStyle \"time (h)\" \n",
        "    |> Chart.withYAxisStyle \"log2(cells/ml)\"\n",
        "\n",
        "fittedChartVerhulstS"
      ]
    },
    {
      "cell_type": "markdown",
      "metadata": {},
      "source": [
        "Es folgt eine kurze Besprechung. Falls Sie schnell vorangekommen sind, können sie bis zur Besprechung folgende Aufgaben lösen:\n",
        "\n",
        "\n",
        "### Expertenaufgaben\n",
        "- Teilen Sie die Zeitpunkte in lag, log und stationäre Phase ein. (als echte fragen)\n",
        "- Wie sind im gezeigten Fall die Werte der unteren und oberen Asymptote? Geben Sie die Werte als untransformierte Zellzahl an.\n",
        "\n",
        "___"
      ]
    },
    {
      "cell_type": "markdown",
      "metadata": {},
      "source": [
        "## Verdopplungszeit-Bestimmung\n",
        "\n",
        "Wie bereits herausgefunden, ist eine Zellverdopplung im log2 space gleichzusetzen mit einem y-Achsenabschnitt von 1. Um nun die Generations/Verdopplungs-Zeit zu bestimmen muss die Zeit bestimmt werden in dem sich die log(Zellzahl) um 1 erhöht. Dies kann durch die maximale Steigung ($\\mu max$) des gefitteten Modells erreicht werden. Diese entspricht dem schnellstmöglichen Wachstum und ist naturgemäß am Wendepunkt (inflection point) der sigmoidalen Kurve. Diese Steigung wird auch als \"maximal growth rate\" oder \"specific growth rate\" bezeichnet und wird gerne genutzt um Unterschiede zwischen Experimenten zu quantifizieren. \n",
        "\n",
        "Aber Achtung:\n",
        "\n",
        "> Two definitions for this parameter [$\\mu max$ or maximum growth rate] are in current use. One is based on the inflection of the slope of the growth curve in the exponential phase (Zwietering et al., 1990) whilst the other is taken to be the growth rate at infinite dilution (Baranyi et al., 1993). - _Perni et al., 2004_\n",
        "\n",
        "\n",
        "_Aufgabe 2.11: Schätzen Sie ab, wo sich der Wendepunkt - also der Punkt maximaler Steigung - befindet._"
      ]
    },
    {
      "cell_type": "markdown",
      "metadata": {},
      "source": [
        "Antwort:"
      ]
    },
    {
      "cell_type": "markdown",
      "metadata": {},
      "source": [
        "Da im Verhulstmodell ein Parameter schon optimiert wurde, der genau den x-Wert des Wendepunktes definiert, muss man nur noch diesen Wert (k = 3.525) in die Ableitung einsetzen um die maximale Steigung zu erhalten\n",
        "\n",
        "$$N(t)=lmin + \\frac{lmax - lmin}{1+e^{(k-t)/d}}$$\n",
        "\n",
        "\n",
        "$$N'(t)=\\frac{(lmax-lmin)e^{(k-t)/d}}{d(e^{(k-t)/d}+1.)^2}$$\n",
        "\n",
        "optimierte Parameter aus Model-Fitting:\n",
        "\n",
        "$lmin = 23.578$\n",
        "\n",
        "$lmax = 33.987$\n",
        "\n",
        "$k = 3.997$\n",
        "\n",
        "$d = 0.956$\n",
        "\n",
        "$$N(3.997) = 28.782$$\n",
        "\n",
        "$$N'(3.997) = \\frac{lmax - lmin}{4d} = 2.72$$\n"
      ]
    },
    {
      "cell_type": "markdown",
      "metadata": {},
      "source": [
        "The maximal slope was determined to be 2.72. "
      ]
    },
    {
      "cell_type": "code",
      "execution_count": null,
      "metadata": {
        "dotnet_interactive": {
          "language": "fsharp"
        },
        "vscode": {
          "languageId": "dotnet-interactive.fsharp"
        }
      },
      "outputs": [
        {
          "name": "stdout",
          "output_type": "stream",
          "text": [
            "The generation time (Verhulst) is: 22.0 min\r\n"
          ]
        }
      ],
      "source": [
        "let generationtimeVerhulst (verhulstParameters:vector) =\n",
        "    let lmax = verhulstParameters.[0] //lmax = 33.696\n",
        "    let k    = verhulstParameters.[1] //k = 3.525\n",
        "    let d    = verhulstParameters.[2] //d = 1.073\n",
        "    let lmin = verhulstParameters.[3] //lmin = 22.706\n",
        "    let gradientFunctionVerhulst t =\n",
        "        let numerator = (lmax-lmin)*Math.Exp((k-t)/d)\n",
        "        let denominator = d*(Math.Exp((k-t)/d)+1.)**2.\n",
        "        numerator / denominator\n",
        "    let maximalSlope =\n",
        "        gradientFunctionVerhulst k\n",
        "    log2(2.) / maximalSlope\n",
        "\n",
        "let generationVerhulst = \n",
        "    sprintf \"The generation time (Verhulst) is: %.1f min\" (generationtimeVerhulst verhulstParams * 60.)\n",
        "\n",
        "printfn \"%s\" generationVerhulst"
      ]
    },
    {
      "cell_type": "markdown",
      "metadata": {},
      "source": [
        "Die bestimmte Verdopplungszeit von 22 Minuten kann nun genutzt werden um sie gegen Verdopplungszeiten anderer Experimente zu vergleichen."
      ]
    },
    {
      "cell_type": "markdown",
      "metadata": {},
      "source": [
        "### Anleitung Generationszeitbestimmung\n",
        "1. Plotten Sie die log2 transformierten Daten als xy Diagramm.\n",
        "2. Wenn ein Wachstumsmodell und Solver vorhanden ist, fitten Sie das Modell an die Daten und isolieren sie $\\mu max$.\n",
        "3. Wenn kein Wachstumsmodell vorhanden ist, schätzen Sie den linearen Bereich der Wachstumskurve.\n",
        "    - Erstellen Sie einen Ausgleichsgerade von diesem Bereich und isolieren Sie die Steigung $\\mu max$.\n",
        "4. Um die Generationszeit zu bestimmen rechnen Sie $\\frac{log_2 2.}{\\mu max} = \\frac{1}{\\mu max}$.\n",
        "\n",
        "\n",
        "### Take home messages\n",
        "- Die logistische Wachstumsfunktion $N(t)=lmin + \\frac{lmax - lmin}{1+e^{(k-t)/d}}$ hat niemand einfach entwickelt, sondern es ist ein Integral eines leicht nachzuvollziehenden Wachstumsmodells $\\frac{dN}{dt}=rN(1-\\frac{N}{k})$\n",
        "- Wenn Wachstum untersucht werden soll, sollte man sich den zeitlichen Verlauf (fast) immer mit log-transformierten Zellkonzentrationen anschauen.\n",
        "- Bei log2 transformierten Daten ist ein y-Achsenabschnitt von 1 gleichzusetzen mit einer Verdopplung der Zellzahl, bei einer log10 Transformation ist es eine Verzehnfachung.\n",
        "- Die Verdopplungszeit hängt ausschließlich von der Steigung der log-phase ($\\mu max$ oder _maximal growth rate_) ab. Sie wird berechnet mit $\\frac{log_x 2}{\\mu max}$ wobei x die gewählte Basis ist, mit der die Zellzahlen transformiert wurden.\n",
        "- Die Steigung kann entweder durch manuelle Selektion der log phase und anschließendes Fitten einer Gerade geschehen, oder durch fitten eines Wachstumsmodells ([Gompertz/Richards/Verhulst](https://fslab.org/FSharp.Stats/GrowthCurve.html)).\n",
        "\n",
        "\n",
        "\n",
        "### References\n",
        "- Maier R., Pepper I., Chapter 3 - Bacterial Growth, Environmental Microbiology (Third Edition), 2015, https://doi.org/10.1016/B978-0-12-394626-3.00003-X\n",
        "- Perni S., Andrew P., Shama G., Estimating the maximum growth rate from microbial growth curves: definition is everything, Food Microbiology, 2005, https://doi.org/10.1016/j.fm.2004.11.014\n",
        "- Venn B., Schneider K., Weil L., Zimmer D. and Mühlhaus T., fslaborg/FSharp.Stats: Release 0.4.7, 2022, Growth curve documentation: https://fslab.org/FSharp.Stats/GrowthCurve.html\n",
        "- Growth II, version 2.3.6.71, PISCES Conservation Ltd United Kingdom\n",
        "\n",
        "\n",
        "\n",
        "### Expertenaufgaben\n",
        "- Wie ist die Verdopplungszeit? Die Zeipunkte sind als Tage angeben.\n",
        "  - a) $\\mu max = 2.5$; Basis der log-Transformation: 2\n",
        "  - b) $\\mu max = 1.0$; Basis der log-Transformation: e\n",
        "  - c) $\\mu max = 0.7$; Basis der log-Transformation: 10\n",
        "  - d) $\\mu max = 10$; Basis der log-Transformation: e\n",
        "  - e) $\\mu max = 10$; Basis der log-Transformation: 2\n",
        "  - f) $\\mu max = 10$; Basis der log-Transformation: 10\n",
        "\n",
        "\n"
      ]
    }
  ],
  "metadata": {
    "kernelspec": {
      "display_name": ".NET (C#)",
      "language": "C#",
      "name": ".net-csharp"
    },
    "language_info": {
      "file_extension": ".cs",
      "mimetype": "text/x-csharp",
      "name": "C#",
      "pygments_lexer": "csharp",
      "version": "8.0"
    }
  },
  "nbformat": 4,
  "nbformat_minor": 4
}
