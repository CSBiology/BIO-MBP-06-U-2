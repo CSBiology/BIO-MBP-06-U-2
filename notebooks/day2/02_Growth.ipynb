{
  "cells": [
    {
      "cell_type": "code",
      "execution_count": null,
      "metadata": {
        "dotnet_interactive": {
          "language": "fsharp"
        },
        "vscode": {
          "languageId": "dotnet-interactive.fsharp"
        }
      },
      "outputs": [],
      "source": [
        "// Import the required libraries\n",
        "#r \"nuget: Plotly.NET.Interactive, 3.0.2\"\n",
        "#r \"nuget: FSharp.Stats, 0.4.7\"\n",
        "#r \"nuget: FsODE, 0.0.1\"\n",
        "\n",
        "// ... and open the required modules\n",
        "open FsODE\n",
        "open Plotly.NET\n",
        "open FSharp.Stats"
      ]
    },
    {
      "cell_type": "markdown",
      "metadata": {},
      "source": [
        "# Tag 2 - Modellierung von Wachstum"
      ]
    },
    {
      "cell_type": "markdown",
      "metadata": {},
      "source": [
        "### Inhalt\n",
        "\n",
        "- Theorie\n",
        "  - Warum ist es wichtig Zellwachstum zu quantifizieren?\n",
        "- Einfaches Wachstumsmodell als Differenzialgleichung\n",
        "  - Simulation des Modells und Visualisierung der geschlossener Form\n",
        "- Exkurs Logarithmus\n",
        "  - Warum ist der Logarithmus bei exponentiellem Wachstum sinnvoll? \n",
        "- Erweiterung des einfachen Wachstumsmodells zu logistischem Wachstum\n",
        "  - Simulation des Modells und Visualisierung der geschlossener Form\n",
        "- Biologisches Beispiel\n",
        "  - Modelfitting logistisches Wachstum\n",
        "- Anleitung Generationszeitbestimmung\n",
        "\n"
      ]
    },
    {
      "cell_type": "markdown",
      "metadata": {},
      "source": [
        "## Theorie\n",
        "\n",
        "Zu den ältesten und 'vermeintlich' einfachsten Experimenten gehört die Analyse von Wachstum, sei es von Bakterien, Hefen, Zellen in Zellkultur, ganzen Organismen oder Populationen. Wachstum kann je nach untersuchtem System durch verschiedene Parameter beschrieben werden. Steht der Organismus im Fokus, so sind Gewicht, Länge oder Größe von Interesse. Bei Populationen geht es meist um eine Zellzahl pro definiertem Volumen oder Fläche (Populationsdichte).\n",
        "Im Labor können verschiedene Wachstumsbedingungen künstlich erzeugt werden und damit der Einfluss jedes einzelnen Faktors - getrennt oder kombiniert - untersucht werden. Zum Beispiel können Bakterien statt auf Standardmedium mit Glucose auf Medium mit Galactose angezogen werden. Eine eventuell nötige Umwandlung von Galactose in Glucose, oder aufwendigere metabolische Reaktionen führen hier zu langsamerem Wachstum. Dies lässt sich in der Regel durch einfache Absorptionsmessungen im Photometer beweisen. Ein vermindertes Wachstum geht hier mit einer langsameren Trübung (niedrigere optische Dichte) des Mediums einher was auf einem Graphen leicht visualisiert werden kann.\n",
        "\n",
        "<center>\n",
        "<img src=\"../../images/day2/02_Growth_01.png\" width=40% />\n",
        "</center>"
      ]
    },
    {
      "cell_type": "markdown",
      "metadata": {},
      "source": [
        "Leider kann der Wachstumsunterschied mit dem oben gezeigten Datensatz nicht quantifiziert werden. Zwar kann die zeitliche Differenz zwischen zwei Punkten gleicher optischer Dichte bestimmt werden (Kreuze in Abbildung 1), jedoch ist diese Differenz sowohl stark von den gewählten Messzeitpunkten, als auch von den vorliegenden (unbekannten) Wachstumsphasen abhängig. Außerdem verläuft die Trübung nicht linear. Das bedeutet, dass ich bei einer Zellverdopplung nicht automatisch auch die Absorption verdoppelt.\n",
        "\n",
        "Wesentlich aussagekräftiger ist eine Bestimmung der absoluten Zellkonzentration mit anschließendem Fitting eines bekannten Wachstumsmodells. Die so ermittelten Parameter können für quantitative und vergleichende Analysen von z.B. Glucose- und Galactosemedium verwendet werden. Das einfachste Wachstumsmodell wollen wir uns im Folgenden anschauen.  "
      ]
    },
    {
      "cell_type": "markdown",
      "metadata": {},
      "source": [
        "## Einfaches Wachstumsmodell\n",
        "\n",
        "Wachstum, also die Änderung der Zellzahl über die Zeit, ist proportional zur Zellzahl _N_. Der Proportionalitätsfaktor ist _r_. Je höher die Zellzahl, desto höher ist die Rate mit der die Zellzahl wächst (Diese Begründung bitte kurz sacken lassen).\n",
        "\n",
        "_Aufgabe 2.1: Wie sieht die beschriebene Differentialgleichung aus?_\n",
        "\n",
        "a) $\\frac{dN}{dt} = \\frac{r}{N}$\n",
        "\n",
        "b) $N(t) = rtN$\n",
        "\n",
        "c) $N(t) = \\frac{rN}{t}$\n",
        "\n",
        "d) $\\frac{dN}{dt} = rN$\n",
        "\n"
      ]
    },
    {
      "cell_type": "markdown",
      "metadata": {},
      "source": [
        "Antwort (Editor mit Doppelklick auf diese Zelle öffnen):"
      ]
    },
    {
      "cell_type": "markdown",
      "metadata": {},
      "source": [
        "_Aufgabe 2.2: Beweisen Sie, dass $N(t) = N_0 *e^{rt}$ eine Lösung für die oben definierte Differentialgleichung ist._\n",
        "\n",
        "Hinweis: Leiten sie die obenstehende geschlossene Form der Wachstumsgleichung nach _t_ ab und setzen Sie _N_ und die Ableitung in die Differenzialgleichung ein. Versuchen Sie diese Aufgabe innerhalb von 10 Minuten zu lösen. Fahren Sie ansonsten mit dem nächsten Abschnitt fort.\n",
        "\n"
      ]
    },
    {
      "cell_type": "markdown",
      "metadata": {},
      "source": [
        "Nachdem das Wissen über Ableitungen aufgefrischt wurden, soll die Wachstumsfunktion nun simuliert werden. Dafür wird die Differenzialgleichung als Modell formalisiert und mit folgenden Werten parametrisiert:\n",
        "\n",
        "$$r = 0.3$$\n",
        "\n",
        "$$N(t0) = 100$$\n",
        "\n",
        "$$t0 = 0.0$$\n",
        "\n",
        "_Aufgabe 2.3: Setzen Sie die gegebene Differenzialgleichung und Parametern in das Modell ein._"
      ]
    },
    {
      "cell_type": "code",
      "execution_count": null,
      "metadata": {
        "dotnet_interactive": {
          "language": "fsharp"
        },
        "vscode": {
          "languageId": "dotnet-interactive.fsharp"
        }
      },
      "outputs": [],
      "source": [
        "// First set the model context that remembers the solver method and it´s options\n",
        "let modelContext = \n",
        "    OdeContext(\n",
        "        OdeSolverMethod.RK546M,\n",
        "        OdeSolverOptions(\n",
        "            StepSize=0.42\n",
        "        )\n",
        "    )\n",
        "\n",
        "// growth rate\n",
        "let r = 0.3         //aufgabe\n",
        "\n",
        "// growth model\n",
        "let dN_dt : SimpleModel =     \n",
        "    fun N t ->\n",
        "        r * N       //aufgabe\n",
        "\n",
        "// Initial condition\n",
        "let t0 = 0         //aufgabe \n",
        "let N0 = 100.0     //aufgabe"
      ]
    },
    {
      "cell_type": "markdown",
      "metadata": {},
      "source": [
        "_Aufgabe 2.4: Visualisieren Sie das Modell anhand der ersten 10 Datenpunkte und beschriften Sie die x- und y-Achse._"
      ]
    },
    {
      "cell_type": "code",
      "execution_count": null,
      "metadata": {
        "dotnet_interactive": {
          "language": "fsharp"
        },
        "vscode": {
          "languageId": "dotnet-interactive.fsharp"
        }
      },
      "outputs": [],
      "source": [
        "// Simulate the model function\n",
        "let sim_dy_dx = \n",
        "    modelContext.OdeInt(t0,N0,dN_dt) //aufgabe\n",
        "    |> SolPoints.take 10 \n",
        "    |> SolPoints.memorize\n",
        "\n",
        "// Plot the numerical solution\n",
        "sim_dy_dx\n",
        "|> SolPoints.toPoints 1\n",
        "|> Chart.Point\n",
        "|> Chart.withTitle(\"Abbildung 2 - Simulation simple growth model\")\n",
        "|> Chart.withXAxisStyle(\"Time\") //aufgabe\n",
        "|> Chart.withYAxisStyle(\"Population size\") //aufgabe"
      ]
    },
    {
      "cell_type": "markdown",
      "metadata": {},
      "source": [
        "_Aufgabe 2.5: Können Sie anhand des Graphen abschätzen wo lag und log-Phase liegen?_"
      ]
    },
    {
      "cell_type": "markdown",
      "metadata": {},
      "source": [
        "Antwort:"
      ]
    },
    {
      "cell_type": "markdown",
      "metadata": {},
      "source": [
        "_Aufgabe 2.6: Schätzen Sie grob die Steigung zum Zeitpunkt t=1 ab. Entpricht Sie der theoretischen Steigung aus der Differentialgleichung (m=rN)?_"
      ]
    },
    {
      "cell_type": "markdown",
      "metadata": {},
      "source": [
        "Antwort:"
      ]
    },
    {
      "cell_type": "markdown",
      "metadata": {},
      "source": [
        "Die Lösung des Modells hat einen möglichen Funktionsverlauf simuliert der den Bedingungen der Differenzialgleichung gerecht wird. Im Folgenden wollen wir die Simulation der Differenzialgleichung mit den tatsächlichen Funktionswerten vergleichen. Dafür muss die Funktion aus Aufgabe 2.2 erstellt werden. Sie hängt ausschließlich von Parameter t ab. Exponenten zur Basis _e_ können durch exp(x) erstellt werden.\n",
        "\n",
        "_Aufgabe 2.7: Formulieren Sie die Wachstumsfunktion aus Aufgabe 2.2._"
      ]
    },
    {
      "cell_type": "code",
      "execution_count": null,
      "metadata": {
        "dotnet_interactive": {
          "language": "fsharp"
        },
        "vscode": {
          "languageId": "dotnet-interactive.fsharp"
        }
      },
      "outputs": [],
      "source": [
        "let y_exact =\n",
        "    fun t -> \n",
        "        N0*exp(r*t) //aufgabe\n",
        "\n",
        "\n",
        "[\n",
        "    sim_dy_dx\n",
        "    |> SolPoints.toPoints 1\n",
        "    |> Chart.Spline \n",
        "    |> Chart.withTraceInfo(\"simulation\");\n",
        "    \n",
        "    sim_dy_dx\n",
        "    |> SolPoints.map (fun p -> (p.x, y_exact p.x))\n",
        "    |> Chart.Point\n",
        "    |> Chart.withTraceInfo(\"exact\");\n",
        "\n",
        "]\n",
        "|> Chart.combine\n",
        "|> Chart.withTitle(\"Abbildung 3 - Simple growth model comparison\")\n",
        "|> Chart.withXAxisStyle(\"Time\")\n",
        "|> Chart.withYAxisStyle(\"Population size\")"
      ]
    },
    {
      "cell_type": "markdown",
      "metadata": {},
      "source": [
        "Die Simulation der Differenzialgleichung ist gleich zur exakten Lösung der geschlossenen Form.\n",
        "\n",
        "\n",
        "\n",
        "Es folgt eine kurze Besprechung. Falls Sie schnell vorangekommen sind, können sie bis zur Besprechung folgende Aufgaben lösen:\n",
        "\n",
        "\n",
        "### Expertenaufgaben\n",
        "- Integrieren Sie $\\frac{dN}{dt}=rN$ zu $N(t) = N_0 *e^{rt}$\n",
        "\n",
        "___\n",
        "\n"
      ]
    },
    {
      "cell_type": "markdown",
      "metadata": {},
      "source": [
        "## Exkurs Logarithmus\n",
        "\n",
        "\n",
        "Wie Sie vielleicht gemerkt haben, wächst die Population in obigem Beispiel zu jedem Zeitpunkt mit der gleichen Rate exponentiell. Die Steigungsänderung hängt nie von t, sondern nur von der gerade vorhandenen Zellzahl \"N\" und der Konstante \"r\" ab (vgl. 2.2). In den Abbildung wirkt es jedoch, als würden sich die Zellen mit fortschreitender Zeit immer schneller teilen. Um diesen Effekt zu vermeiden **müssen** Zellzahlen grundsätzlich vor einer Wachstumsanalyse logarithmiert werden. Diese Transformation führt dazu, dass exponentielle Verhaltensweisen visuell korrigiert werden.\n",
        "\n",
        "Ein Beispiel:\n",
        "\n",
        "Ein Bakterium teilt sich jede Stunde genau ein mal. Nach der ersten Stunde sind es 2, nach der zweiten 4, nach der dritten 8 usw. Dieses Verhalten lässt sich durch $f(t)=2^t$ wie im Folgenden gezeigt darstellen.\n",
        "\n",
        "_Aufgabe 2.8: Formulieren Sie die Funktion f(t), die dieses Verhalten widerspiegelt._\n"
      ]
    },
    {
      "cell_type": "code",
      "execution_count": null,
      "metadata": {
        "dotnet_interactive": {
          "language": "fsharp"
        },
        "vscode": {
          "languageId": "dotnet-interactive.fsharp"
        }
      },
      "outputs": [],
      "source": [
        "let f t = \n",
        "    2.0**t //ersetzen\n",
        "\n",
        "let xyWerte = \n",
        "    [0..24] \n",
        "    |> Seq.map (fun t -> \n",
        "        let xWert = t\n",
        "        let yWert = f t\n",
        "        xWert,yWert\n",
        "        ) \n",
        "\n",
        "Chart.Line xyWerte\n",
        "|> Chart.withXAxisStyle(\"Time [h]\")\n",
        "|> Chart.withYAxisStyle(\"Bakterienzahl\")\n",
        "|> Chart.withTitle(\"Abbildung 4 - Logarithmus I\")"
      ]
    },
    {
      "cell_type": "markdown",
      "metadata": {},
      "source": [
        "Allein durch das Betrachten einer exponentielle Funktion wird nicht klar, was zwischen Stunde 0 und Stunde 15 passiert. Um dafür einen Eindruck zu erhalten werden die y-Werte logarithmiert und erneut visualisiert."
      ]
    },
    {
      "cell_type": "code",
      "execution_count": null,
      "metadata": {
        "dotnet_interactive": {
          "language": "fsharp"
        },
        "vscode": {
          "languageId": "dotnet-interactive.fsharp"
        }
      },
      "outputs": [],
      "source": [
        "let werteTransformation (transformation: float -> float) = \n",
        "    xyWerte\n",
        "    |> Seq.map (fun (x,y) -> \n",
        "        x,transformation y\n",
        "        ) \n",
        "\n",
        "let log2Transform = werteTransformation log2\n",
        "let log10Transform = werteTransformation log10\n",
        "let lnTransform = werteTransformation log\n",
        "\n",
        "\n",
        "[\n",
        "Chart.Line (log2Transform,Name=\"log2\")\n",
        "Chart.Line (log10Transform,Name=\"log10\")\n",
        "Chart.Line (lnTransform,Name=\"ln\")\n",
        "]\n",
        "|> Chart.combine\n",
        "|> Chart.withXAxisStyle(\"Time [h]\")\n",
        "|> Chart.withYAxisStyle(\"logX(Bakterienzahl)\")\n",
        "|> Chart.withTitle(\"Abbildung 4 - Logarithmus II\")"
      ]
    },
    {
      "cell_type": "markdown",
      "metadata": {},
      "source": [
        "Eine log-transformation, hat auf hohe Werte einen deutlich größeren Einfluss als auf kleine Werte. Die Interpretation des Verlaufs ist nun an jedem beliebigen x-Wert möglich, ohne dass man in den Plot \"reinzoomen\" muss. Aus exponentiellem Verhalten wird durch log-Transformation eine Gerade. Es wird deutlich, dass egal welche log Transformation angewandt wurde (log zur Basis 2, 10 oder der eulerischen Zahl (natürlicher Logarithmus)) Funktionen zu Linien mit unterschiedlichen Steigung werden.\n",
        "\n",
        "_Aufgabe 2.9:_\n",
        "\n",
        "  _a) Wie groß muss der y-Achsenabschnitt sein, um eine Verdopplung der Bakterien zu erhalten?_ \n",
        "\n",
        "  _b) Um Zellverdopplungen zu analysieren, welchen Logarithmus würden Sie nutzen um die visuelle Analyse so einfach wie möglich zu machen und warum?_ \n",
        "\n",
        "  _c) Welcher Logarithmus wird bei pH-Werten genutzt und warum könnte dies als sinnvoll erachtet werden um zum Beispiel pH 2 direkt mit pH 5 vergleichen zu können?_"
      ]
    },
    {
      "cell_type": "markdown",
      "metadata": {},
      "source": [
        "a)\n",
        "\n",
        "  - Antwort log2:   \n",
        "\n",
        "  - Antwort log10:  \n",
        "\n",
        "  - Antwort ln:     \n",
        "\n",
        "b)\n",
        "\n",
        "  - Antwort:\n",
        "\n",
        "c)\n",
        "\n",
        "  - Antwort:"
      ]
    },
    {
      "cell_type": "markdown",
      "metadata": {},
      "source": [
        "Es folgt eine kurze Besprechung. Falls Sie schnell vorangekommen sind, können sie bis zur Besprechung folgende Aufgaben lösen:\n",
        "\n",
        "\n",
        "### Expertenaufgaben\n",
        "- Wie groß ist der y-Achsenabschnitt im log space (log2, ln und log10) um von y=100. zu y=10000. zu kommen? Lösen Sie die Aufgabe rechnerisch.\n",
        "\n",
        "\n",
        "___\n"
      ]
    },
    {
      "cell_type": "markdown",
      "metadata": {},
      "source": [
        "## Biologisches Beispiel\n",
        "\n",
        "Von einer Bakterienkultur wurde in regelmäßigen Abständen die Zellzahl bestimmt. Die gemessenen Werte können Sie aus untenstehender Tabelle entnehmen\n",
        "\n",
        "\n",
        "|Zeitpunkt $(h)$|Zellzahl $(\\frac{10^6}{ml})$|\n",
        "|--|--|\n",
        "|0.0|17|\n",
        "|0.5|16.5|\n",
        "|1.0|11|\n",
        "|1.5|14|\n",
        "|2.0|27|\n",
        "|2.5|40|\n",
        "|3.0|120|\n",
        "|3.5|300|\n",
        "|4.0|450|\n",
        "|4.5|1,200|\n",
        "|5.0|2,700|\n",
        "|5.5|5,000|\n",
        "|6.0|8,000|\n",
        "|6.5|11,700|\n",
        "|7.0|12,000|\n",
        "|7.5|13,000|\n",
        "|8.0|12,800|\n",
        "\n",
        "In der folgenden Zelle wird die Zellzahl als Funktion der Zeit visualisiert."
      ]
    },
    {
      "cell_type": "code",
      "execution_count": null,
      "metadata": {
        "dotnet_interactive": {
          "language": "fsharp"
        },
        "vscode": {
          "languageId": "dotnet-interactive.fsharp"
        }
      },
      "outputs": [],
      "source": [
        "let time = [|0. .. 0.5 .. 8.|]\n",
        "\n",
        "let cellCount =\n",
        "    [|\n",
        "    17000000.;16500000.;11000000.;14000000.;27000000.;40000000.;120000000.;\n",
        "    300000000.;450000000.;1200000000.;2700000000.;5000000000.;\n",
        "    8000000000.;11700000000.;12000000000.;13000000000.;12800000000.\n",
        "    |]\n",
        "\n",
        "let cellCountLog2 = \n",
        "    Array.map log2 cellCount\n",
        "\n",
        "let chartOrig = \n",
        "    Chart.Point(time,cellCount)\n",
        "    |> Chart.withTraceInfo \"original data\"\n",
        "    |> Chart.withYAxisStyle \"cells*10^6/ml\"\n",
        "\n",
        "let chartLog =\n",
        "    Chart.Point(time,cellCountLog2)\n",
        "    |> Chart.withTraceInfo \"log count\"\n",
        "    |> Chart.withXAxisStyle \"time (h)\" \n",
        "    |> Chart.withYAxisStyle \"log2(cells*10^6/ml)\"\n",
        "    \n",
        "let growthChart = \n",
        "    [chartOrig;chartLog] \n",
        "    |> Chart.Grid(2,1)\n",
        "    |> Chart.withTitle(\"Abbildung 5 - Beispiel I\")\n",
        "\n",
        "growthChart"
      ]
    },
    {
      "cell_type": "markdown",
      "metadata": {},
      "source": [
        "Es ist ein deutlicher visueller Unterschied im Funktionsverlauf zu erkennen. Während im nicht-transformierten Diagramm der Zeitpunkt um 6 Stunden noch stark ansteigend (exponentielles Wachstum) erscheint, wird erst im transformierten Diagramm klar, dass die exponentielle Phase von Zeitpunkt 2 - 5 andauert und sich bei Stunde 6 schon am Übergang zum stationären Wachstum befindet. Durch die Abhängigkeit von Steigung und Zellzahl werden die echten Wachstumsphasen in untransformierten Daten kaschiert. Daher sollten Wachstumsdaten in der Regel im log-space angezeigt und analysiert werden. \n",
        "\n",
        "Wichtig: Im Folgenden wird immer davon ausgegangen, dass die Daten log transformiert wurden bevor die Kurven modelliert werden!\n",
        "\n",
        "<center>\n",
        "<img src=\"../../images/day2/02_Growth_02.png\" width=50% />\n",
        "</center>"
      ]
    },
    {
      "cell_type": "markdown",
      "metadata": {},
      "source": [
        "**Abbildung 6: Schema einer klassischen Wachstumskurve**\n",
        "\n",
        "Wie im Schema gezeigt ist es sinnvoll die Daten zu fitten um bestimmte Parameter wie y0, ymax,  $\\mu max$ und $\\lambda$ ermitteln zu können. Ein einfaches Modell für exponentielles Wachstum haben wir bereits im ersten Abschnitt kennen gelernt. Würden wir auf die transformierten Daten (Abbildung 5 unten) nun jedoch das einfache Wachstumsmodell anwenden, dann würde es nicht zu einem sigmoidalen Verlauf kommen, sondern die Kurve würde immer weiter exponentiell ansteigen. Es gibt einige Wachstumsmodelle, die diese Limitationen nicht aufweisen (http://www.pisces-conservation.com/growthhelp/index.html). Gesucht wird eine Erweiterung des einfachen Modells $\\frac{dN}{dt} = rN$, die das Wachstum sowohl in der lag-, als auch in der stationären Phase begrenzen kann, also ein Faktor, der abhängig von der maximalen Zellzahl die Wachstumsgeschwindigkeit (growth rate) beschränkt:\n",
        "\n",
        "$\\frac{dN}{dt}=rN(1-\\frac{N}{k})$\n",
        "\n",
        "wobei $K$ die so genannte carrying capacity, also die Maximalanzahl von Zellen darstellt. Dieses Modell ist das Verhulst-Wachstumsmodell und beschreibt eine logistische Funktion mit unterer und oberer Asymptote.\n",
        "\n",
        "_Aufgabe 2.10: Erstellen Sie ein Modell der angepassten Differenzialgleichung, einem Wachstumsparameter \"r\" von 0.3, einer Maximalanzahl \"k\" von 20 und einer Startzellzahl von 1._\n",
        "\n",
        "\n",
        "\n"
      ]
    },
    {
      "cell_type": "code",
      "execution_count": null,
      "metadata": {
        "dotnet_interactive": {
          "language": "fsharp"
        },
        "vscode": {
          "languageId": "dotnet-interactive.fsharp"
        }
      },
      "outputs": [],
      "source": [
        "// parameter\n",
        "let r = 0.3\n",
        "let k = 20.\n",
        "\n",
        "// growth model\n",
        "let verhulst : SimpleModel =     \n",
        "    fun N t ->\n",
        "        N * r * (1. - N / k)\n",
        "\n",
        "// Initial condition\n",
        "let t0 = 0\n",
        "let N0 = 1."
      ]
    },
    {
      "cell_type": "code",
      "execution_count": null,
      "metadata": {
        "dotnet_interactive": {
          "language": "fsharp"
        },
        "vscode": {
          "languageId": "dotnet-interactive.fsharp"
        }
      },
      "outputs": [],
      "source": [
        "// Simulate the model function\n",
        "let sim_dy_dx = \n",
        "    modelContext.OdeInt(t0,N0,verhulst)\n",
        "    |> SolPoints.take 15 \n",
        "    |> SolPoints.memorize\n",
        "\n",
        "// Plot the numerical solution\n",
        "sim_dy_dx\n",
        "|> SolPoints.toPoints 1\n",
        "//|> Seq.map (fun (x,y) -> x, log2 y)\n",
        "|> Chart.Point\n",
        "|> Chart.withTitle(\"Abbildung 7 - Simulation verhulst growth model\")\n",
        "|> Chart.withXAxisStyle(\"Time [h]\")\n",
        "|> Chart.withYAxisStyle(\"log2(Zellzahl)\")"
      ]
    },
    {
      "cell_type": "markdown",
      "metadata": {},
      "source": [
        "Die lag- und stationäre Phase sind hier deutlich erkennbar. Dieses Modell soll nun an die gegebenen Daten aus dem biologischen Beispiel gefittet werden. Dazu suchen wir die Integration der Differenzialgleichung und versuchen diese Funktion durch Änderung der Parameter nah an die gegebenen logarithmierten Daten zu fitten. Ein Integral lautet:\n",
        "\n",
        "$$N(t)=lmin + \\frac{lmax - lmin}{1+e^{(k-t)/d}}$$\n",
        "\n",
        "mit\n",
        "\n",
        "$lmin$ = untere asymptote\n",
        "\n",
        "$lmax$ = obere asymptote/Zellmaximum\n",
        "\n",
        "$k$ = x-Wert des Wendepunktes\n",
        "\n",
        "$d$ = Steilheit\n",
        "\n",
        "Zur Veranschaulichung wird die Verhulst-Funktion mit 4 verschiedene Parametersets visualisiert."
      ]
    },
    {
      "cell_type": "code",
      "execution_count": null,
      "metadata": {
        "dotnet_interactive": {
          "language": "fsharp"
        },
        "vscode": {
          "languageId": "dotnet-interactive.fsharp"
        }
      },
      "outputs": [],
      "source": [
        "let verhulstFunktion lmin lmax (k:float) d t=\n",
        "    lmin + (lmax - lmin)/(1.+ exp((k-t)/d))\n",
        "\n",
        "let plotVerhulst lmin lmax  k d =\n",
        "    let data=\n",
        "        [0..40]\n",
        "        |> Seq.map (fun x -> x,verhulstFunktion lmin lmax k d x)\n",
        "    let chart = \n",
        "        Chart.Line(data,Name=sprintf \"min:%.0f max:%.0f k:%.0f d:%.0f\" lmin lmax k d)\n",
        "    chart\n",
        "\n",
        "[\n",
        "plotVerhulst 0. 10. 4. 1.\n",
        "plotVerhulst 0. 10. 20. 1.\n",
        "plotVerhulst 0. 10. 20. 3.\n",
        "plotVerhulst 5. 20. 10. 3.\n",
        "]\n",
        "|> Chart.combine\n",
        "|> Chart.withLegendStyle(X=0.6,Y=0.01)\n",
        "|> Chart.withTitle(\"Abbildung 8 - Verschiedene logistische Funktionen\")\n",
        "|> Chart.withXAxisStyle(\"Time [h]\")\n",
        "|> Chart.withYAxisStyle(\"log2(Zellzahl)\")"
      ]
    },
    {
      "cell_type": "markdown",
      "metadata": {},
      "source": [
        "Wie genau das Fitting der Funktion an die echten Daten geschieht, ist nicht Lernziel diese Praktikums, daher nur eine kurze Erläuterung. Mehr Details finden Sie in *Vorlesung 13 - Principles of model fitting*:\n",
        "\n",
        "Ein sogenannter Solver benötigt die Daten und das Modell, welches auf diese Daten appliziert werden soll. Der Solver versucht die Parameter des Modells so lange zu optimieren, bis der Abstand zwischen dem Modell und den echten Daten minimal geworden ist. Anschließend kann man die optimierten Parameter abfragen und mit diesen weiter arbeiten. "
      ]
    },
    {
      "cell_type": "code",
      "execution_count": null,
      "metadata": {
        "dotnet_interactive": {
          "language": "fsharp"
        },
        "vscode": {
          "languageId": "dotnet-interactive.fsharp"
        }
      },
      "outputs": [],
      "source": [
        "open System\n",
        "open FSharp.Stats\n",
        "open FSharp.Stats.Fitting.NonLinearRegression\n",
        "open FSharp.Stats.Fitting.LinearRegression\n",
        "\n",
        "let getVerhulstParams timePoints logdata min max k d = \n",
        "    LevenbergMarquardt.estimatedParams\n",
        "        Table.GrowthModels.verhulst4Param\n",
        "        (createSolverOption 0.001 0.001 10000 [|max;k;d;min|])\n",
        "        0.1\n",
        "        10.\n",
        "        timePoints\n",
        "        logdata\n",
        "\n",
        "let verhulstParams =\n",
        "    //getVerhulstParams time cellCountLog2 23. 35. 3.5 1.\n",
        "    getVerhulstParams time cellCountLog2 23.391 33.598 4. 1.\n",
        "\n",
        "printfn \"Für die gegebenden Daten sind die optimalen Parameter des 4-Parameter Verhulstmodells:\n",
        "lmin = %.3f \n",
        "lmax = %.3f\n",
        "k = %.3f\n",
        "d = %.3f\" verhulstParams.[3] verhulstParams.[0] verhulstParams.[1] verhulstParams.[2]\n",
        "\n"
      ]
    },
    {
      "cell_type": "markdown",
      "metadata": {},
      "source": [
        "Der folgende Codeblock dient nur der Visualiserung der Daten mit gefittetem Modell."
      ]
    },
    {
      "cell_type": "code",
      "execution_count": null,
      "metadata": {
        "dotnet_interactive": {
          "language": "fsharp"
        },
        "vscode": {
          "languageId": "dotnet-interactive.fsharp"
        }
      },
      "outputs": [],
      "source": [
        "let fittedValuesVerhulst =\n",
        "    /// The parameter were determined locally for saving time during build processes\n",
        "    let f =  Table.GrowthModels.verhulst4Param.GetFunctionValue verhulstParams\n",
        "    [time.[0] .. 0.1 .. Seq.last time]\n",
        "    |> Seq.map (fun x -> \n",
        "        x,f x\n",
        "        ) \n",
        "    |> Chart.Line\n",
        "\n",
        "let fittedChartVerhulst = \n",
        "    fittedValuesVerhulst \n",
        "    |> Chart.withXAxisStyle \"time (h)\" \n",
        "    |> Chart.withYAxisStyle \"log2(cells/ml)\"\n",
        "    |> Chart.withTraceInfo \"verhulst\"\n",
        "\n",
        "let fittedChartVerhulstS = \n",
        "    [\n",
        "        Chart.Point(time,cellCountLog2)\n",
        "        |> Chart.withTraceInfo \"log2 count\"\n",
        "        fittedChartVerhulst\n",
        "    ]\n",
        "    |> Chart.combine\n",
        "    |> Chart.withXAxisStyle \"time (h)\" \n",
        "    |> Chart.withYAxisStyle \"log2(cells/ml)\"\n",
        "\n",
        "fittedChartVerhulstS"
      ]
    },
    {
      "cell_type": "markdown",
      "metadata": {},
      "source": [
        "Es folgt eine kurze Besprechung. Falls Sie schnell vorangekommen sind, können sie bis zur Besprechung folgende Aufgaben lösen:\n",
        "\n",
        "\n",
        "### Expertenaufgaben\n",
        "- Teilen Sie die Zeitpunkte in lag, log und stationäre Phase ein.\n",
        "- Wie sind im gezeigten Fall die Werte der unteren und oberen Asymptote? Geben Sie die Werte als untransformierte Zellzahl an.\n",
        "\n",
        "___"
      ]
    },
    {
      "cell_type": "markdown",
      "metadata": {},
      "source": [
        "## Verdopplungszeit-Bestimmung\n",
        "\n",
        "Wie bereits herausgefunden, ist eine Zellverdopplung im log2 space gleichzusetzen mit einem y-Achsenabschnitt von 1. Um nun die Generations/Verdopplungs-Zeit zu bestimmen muss die Zeit bestimmt werden in dem sich die log(Zellzahl) um 1 erhöht. Dies kann durch die maximale Steigung ($\\mu max$) des gefitteten Modells erreicht werden. Diese entspricht dem schnellstmöglichen Wachstum und ist naturgemäß am Wendepunkt (inflection point) der sigmoidalen Kurve. Diese Steigung wird auch als \"maximal growth rate\" oder \"specific growth rate\" bezeichnet und wird gerne genutzt um Unterschiede zwischen Experimenten zu quantifizieren. \n",
        "\n",
        "Aber Achtung:\n",
        "\n",
        "> Two definitions for this parameter [$\\mu max$] are in current use. One is based on the inflection of the slope of the growth curve in the exponential phase (Zwietering et al., 1990) whilst the other is taken to be the growth rate at infinite dilution (Baranyi et al., 1993). - _Perni et al., 2004_\n",
        "\n",
        "\n",
        "_Aufgabe 2.11: Schätzen Sie ab, wo sich der Wendepunkt - also der Punkt maximaler Steigung - befindet._"
      ]
    },
    {
      "cell_type": "markdown",
      "metadata": {},
      "source": [
        "Antwort:"
      ]
    },
    {
      "cell_type": "markdown",
      "metadata": {},
      "source": [
        "Da im Verhulstmodell ein Parameter schon optimiert wurde, der genau den x-Wert des Wendepunktes definiert, muss man nur noch diesen Wert (k = 3.525) in die Ableitung einsetzen um die maximale Steigung zu erhalten\n",
        "\n",
        "$$N(t)=lmin + \\frac{lmax - lmin}{1+e^{(k-t)/d}}$$\n",
        "\n",
        "\n",
        "$$N'(t)=\\frac{(lmax-lmin)e^{(k-t)/d}}{d(e^{(k-t)/d}+1.)^2}$$\n",
        "\n",
        "optimierte Parameter aus Model-Fitting:\n",
        "\n",
        "$lmin = 23.578$\n",
        "\n",
        "$lmax = 33.987$\n",
        "\n",
        "$k = 3.997$\n",
        "\n",
        "$d = 0.956$\n",
        "\n",
        "$$N(3.997) = 28.782$$\n",
        "\n",
        "$$N'(3.997) = \\frac{lmax - lmin}{4d} = 2.72$$\n"
      ]
    },
    {
      "cell_type": "markdown",
      "metadata": {},
      "source": [
        "The maximal slope was determined to be 2.72. "
      ]
    },
    {
      "cell_type": "code",
      "execution_count": null,
      "metadata": {
        "dotnet_interactive": {
          "language": "fsharp"
        },
        "vscode": {
          "languageId": "dotnet-interactive.fsharp"
        }
      },
      "outputs": [],
      "source": [
        "let generationtimeVerhulst (verhulstParameters:vector) =\n",
        "    let lmax = verhulstParameters.[0] //lmax = 33.696\n",
        "    let k    = verhulstParameters.[1] //k = 3.525\n",
        "    let d    = verhulstParameters.[2] //d = 1.073\n",
        "    let lmin = verhulstParameters.[3] //lmin = 22.706\n",
        "    let gradientFunctionVerhulst t =\n",
        "        let numerator = (lmax-lmin)*Math.Exp((k-t)/d)\n",
        "        let denominator = d*(Math.Exp((k-t)/d)+1.)**2.\n",
        "        numerator / denominator\n",
        "    let maximalSlope =\n",
        "        gradientFunctionVerhulst k\n",
        "    log2(2.) / maximalSlope\n",
        "\n",
        "let generationVerhulst = \n",
        "    sprintf \"The generation time (Verhulst) is: %.1f min\" (generationtimeVerhulst verhulstParams * 60.)\n",
        "\n",
        "printfn \"%s\" generationVerhulst"
      ]
    },
    {
      "cell_type": "markdown",
      "metadata": {},
      "source": [
        "Die bestimmte Verdopplungszeit von 22 Minuten kann nun genutzt werden um sie gegen Verdopplungszeiten anderer Experimente zu vergleichen."
      ]
    },
    {
      "cell_type": "markdown",
      "metadata": {},
      "source": [
        "### Anleitung Generationszeitbestimmung\n",
        "1. Plotten Sie die log2 transformierten Daten als xy Diagramm.\n",
        "2. Wenn ein Wachstumsmodell und Solver vorhanden ist, fitten Sie das Modell an die Daten und isolieren sie $\\mu max$.\n",
        "3. Wenn kein Wachstumsmodell vorhanden ist, schätzen Sie den linearen Bereich der Wachstumskurve.\n",
        "    - Erstellen Sie einen Ausgleichsgerade von diesem Bereich und isolieren Sie die Steigung $\\mu max$.\n",
        "4. Um die Generationszeit zu bestimmen rechnen Sie $\\frac{log_2 2.}{\\mu max} = \\frac{1}{\\mu max}$.\n",
        "\n",
        "\n",
        "### Take home messages\n",
        "- Die logistische Wachstumsfunktion $N(t)=lmin + \\frac{lmax - lmin}{1+e^{(k-t)/d}}$ hat niemand einfach entwickelt, sondern es ist ein Integral eines leicht nachzuvollziehenden Wachstumsmodells $\\frac{dN}{dt}=rN(1-\\frac{N}{k})$\n",
        "- Wenn Wachstum untersucht werden soll, sollte man sich den zeitlichen Verlauf (fast) immer mit log-transformierten Zellkonzentrationen anschauen.\n",
        "- Bei log2 transformierten Daten ist ein y-Achsenabschnitt von 1 gleichzusetzen mit einer Verdopplung der Zellzahl, bei einer log10 Transformation ist es eine Verzehnfachung.\n",
        "- Die Verdopplungszeit hängt ausschließlich von der Steigung der log-phase ($\\mu max$ oder _maximal growth rate_) ab. Sie wird berechnet mit $\\frac{log_x 2}{\\mu max}$ wobei x die gewählte Basis ist, mit der die Zellzahlen transformiert wurden.\n",
        "- Die Steigung kann entweder durch manuelle Selektion der log phase und anschließendes Fitten einer Gerade geschehen, oder durch fitten eines Wachstumsmodells ([Gompertz/Richards/Verhulst](https://fslab.org/FSharp.Stats/GrowthCurve.html)).\n",
        "\n",
        "\n",
        "\n",
        "### References\n",
        "- Maier R., Pepper I., Chapter 3 - Bacterial Growth, Environmental Microbiology (Third Edition), 2015, https://doi.org/10.1016/B978-0-12-394626-3.00003-X\n",
        "- Perni S., Andrew P., Shama G., Estimating the maximum growth rate from microbial growth curves: definition is everything, Food Microbiology, 2005, https://doi.org/10.1016/j.fm.2004.11.014\n",
        "- Venn B., Schneider K., Weil L., Zimmer D. and Mühlhaus T., fslaborg/FSharp.Stats: Release 0.4.7, 2022, Growth curve documentation: https://fslab.org/FSharp.Stats/GrowthCurve.html\n",
        "- Growth II, version 2.3.6.71, PISCES Conservation Ltd United Kingdom\n",
        "\n",
        "\n",
        "\n",
        "### Expertenaufgaben\n",
        "- Wie ist die Verdopplungszeit? Die Zeipunkte sind als Tage angeben.\n",
        "  - a) $\\mu max = 2.5$; Basis der log-Transformation: 2\n",
        "  - b) $\\mu max = 1.0$; Basis der log-Transformation: e\n",
        "  - c) $\\mu max = 0.7$; Basis der log-Transformation: 10\n",
        "  - d) $\\mu max = 10$; Basis der log-Transformation: e\n",
        "  - e) $\\mu max = 10$; Basis der log-Transformation: 2\n",
        "  - f) $\\mu max = 10$; Basis der log-Transformation: 10\n",
        "\n",
        "\n"
      ]
    }
  ],
  "metadata": {
    "kernelspec": {
      "display_name": ".NET (C#)",
      "language": "C#",
      "name": ".net-csharp"
    },
    "language_info": {
      "file_extension": ".cs",
      "mimetype": "text/x-csharp",
      "name": "C#",
      "pygments_lexer": "csharp",
      "version": "8.0"
    }
  },
  "nbformat": 4,
  "nbformat_minor": 4
}
