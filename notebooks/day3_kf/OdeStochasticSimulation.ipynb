{
  "cells": [
    {
      "cell_type": "markdown",
      "metadata": {},
      "source": [
        "# Example: Solving Ordinary Differential Equations"
      ]
    },
    {
      "cell_type": "markdown",
      "metadata": {},
      "source": [
        "In this notebook we will use Python to solve differential equations numerically."
      ]
    },
    {
      "cell_type": "code",
      "execution_count": null,
      "metadata": {
        "dotnet_interactive": {
          "language": "fsharp"
        },
        "vscode": {
          "languageId": "dotnet-interactive.fsharp"
        }
      },
      "outputs": [
        {
          "data": {
            "text/html": [
              "<div><div></div><div></div><div><strong>Installed Packages</strong><ul><li><span>FSharp.Stats, 0.4.7</span></li><li><span>FSOde, 0.0.1</span></li><li><span>Plotly.NET.Interactive, 3.0.2</span></li></ul></div></div>"
            ]
          },
          "metadata": {},
          "output_type": "display_data"
        },
        {
          "data": {
            "text/markdown": [
              "Loading extensions from `Plotly.NET.Interactive.dll`"
            ]
          },
          "metadata": {},
          "output_type": "display_data"
        }
      ],
      "source": [
        "// Import the required modules\n",
        "#r \"nuget: Plotly.NET.Interactive, 3.0.2\"\n",
        "#r \"nuget: FSharp.Stats\"\n",
        "#r \"nuget: FSOde\"\n",
        "\n",
        "// ... and open the required modules\n",
        "open FsODE\n",
        "open Plotly.NET\n",
        "open FSharp.Stats"
      ]
    },
    {
      "cell_type": "code",
      "execution_count": null,
      "metadata": {
        "dotnet_interactive": {
          "language": "fsharp"
        },
        "vscode": {
          "languageId": "dotnet-interactive.fsharp"
        }
      },
      "outputs": [],
      "source": [
        "// First set the model context that remembers the solver method and it´s optiony \n",
        "let modelContext = //OdeContext()\n",
        "    OdeSolverMethod.RK546M //RK547M()\n",
        "    |> OdeContext\n",
        "\n",
        "modelContext.SetStepSize(0.01)"
      ]
    },
    {
      "cell_type": "markdown",
      "metadata": {},
      "source": [
        "## Sampling out of master equations\n",
        "\n",
        "For some stories, we know the probability distribution. For example, if the story is that we are doing n\n",
        "independent coin flips, each with probability p of landing heads, the number h\n",
        "\n",
        "of heads is Binomially distributed. We could prove that this is the case, or look it up in a book. But sometimes, it is too difficult (or impossible) to prove what the distribution is, so we can numerically compute its properties by sampling out of the distribution. Sampling involved using a random number generator to simulate the story that generates the distribution. So, if you know the story and you have a computer handy, you can sample to be able to get a plot of your distribution, though you will not get the analytical form.\n",
        "\n",
        "Let’s demonstrate this with the Binomial distribution. We will take n=25\n",
        "and p=0.25 and compute P(h∣n,p), the probability of getting h heads in n flips, each with probability p of landing heads. We will draw 10, 30, 100, and 300 samples and plot them versus the expected Binomial distribution."
      ]
    },
    {
      "cell_type": "code",
      "execution_count": null,
      "metadata": {
        "dotnet_interactive": {
          "language": "fsharp"
        },
        "vscode": {
          "languageId": "dotnet-interactive.fsharp"
        }
      },
      "outputs": [
        {
          "data": {
            "text/html": [
              "\n",
              "<div>\n",
              "    <div id=\"aacf4aaf-0f13-430c-86c6-0080875b82d6\"><!-- Plotly chart will be drawn inside this DIV --></div>\r\n",
              "<script type=\"text/javascript\">\r\n",
              "\r\n",
              "            var renderPlotly_aacf4aaf0f13430c86c60080875b82d6 = function() {\r\n",
              "            var fsharpPlotlyRequire = requirejs.config({context:'fsharp-plotly',paths:{plotly:'https://cdn.plot.ly/plotly-2.6.3.min'}}) || require;\r\n",
              "            fsharpPlotlyRequire(['plotly'], function(Plotly) {\r\n",
              "\r\n",
              "            var data = [{\"type\":\"scatter\",\"mode\":\"markers\",\"x\":[8,4,6,5,7,3,10],\"y\":[0.16666666666666666,0.16666666666666666,0.23333333333333334,0.26666666666666666,0.1,0.03333333333333333,0.03333333333333333],\"marker\":{\"color\":\"Orange\"},\"line\":{},\"xaxis\":\"x\",\"yaxis\":\"y\"},{\"type\":\"scatter\",\"mode\":\"markers\",\"x\":[0,1,2,3,4,5,6,7,8,9,10,11,12,13,14,15,16,17,18,19,20,21,22,23,24,25],\"y\":[0.0007525434581650009,0.006271195484718762,0.025084781938915692,0.06410555384399787,0.11752684871417801,0.16453758820009692,0.182819542444813,0.1654081574502899,0.1240561180878663,0.07810940768503243,0.04165835076538414,0.018935613984275963,0.007363849882775983,0.0024546166275920002,0.0007013190364546628,0.0001714335422443791,3.571532130088355E-05,6.302703758973037E-06,9.337338902171049E-07,1.1466907423703524E-07,1.1466907423687175E-08,9.100720177515782E-10,5.51558798636467E-11,2.398081733198222E-12,6.661338147762031E-14,8.881784197001244E-16],\"marker\":{\"color\":\"Blue\",\"opacity\":0.5},\"line\":{},\"xaxis\":\"x\",\"yaxis\":\"y\"},{\"type\":\"scatter\",\"mode\":\"markers\",\"x\":[5,6,8,10,3,7,4,9,2],\"y\":[0.18,0.17,0.12,0.04,0.08,0.22,0.08,0.1,0.01],\"marker\":{\"color\":\"Orange\"},\"line\":{},\"xaxis\":\"x2\",\"yaxis\":\"y2\"},{\"type\":\"scatter\",\"mode\":\"markers\",\"x\":[0,1,2,3,4,5,6,7,8,9,10,11,12,13,14,15,16,17,18,19,20,21,22,23,24,25],\"y\":[0.0007525434581650009,0.006271195484718762,0.025084781938915692,0.06410555384399787,0.11752684871417801,0.16453758820009692,0.182819542444813,0.1654081574502899,0.1240561180878663,0.07810940768503243,0.04165835076538414,0.018935613984275963,0.007363849882775983,0.0024546166275920002,0.0007013190364546628,0.0001714335422443791,3.571532130088355E-05,6.302703758973037E-06,9.337338902171049E-07,1.1466907423703524E-07,1.1466907423687175E-08,9.100720177515782E-10,5.51558798636467E-11,2.398081733198222E-12,6.661338147762031E-14,8.881784197001244E-16],\"marker\":{\"color\":\"Blue\",\"opacity\":0.5},\"line\":{},\"xaxis\":\"x2\",\"yaxis\":\"y2\"},{\"type\":\"scatter\",\"mode\":\"markers\",\"x\":[10,7,11,6,5,9,2,4,3,8,0,1,14,12,13],\"y\":[0.034,0.179,0.011,0.187,0.146,0.084,0.019,0.116,0.083,0.123,0.004,0.005,0.002,0.005,0.002],\"marker\":{\"color\":\"Orange\"},\"line\":{},\"xaxis\":\"x3\",\"yaxis\":\"y3\"},{\"type\":\"scatter\",\"mode\":\"markers\",\"x\":[0,1,2,3,4,5,6,7,8,9,10,11,12,13,14,15,16,17,18,19,20,21,22,23,24,25],\"y\":[0.0007525434581650009,0.006271195484718762,0.025084781938915692,0.06410555384399787,0.11752684871417801,0.16453758820009692,0.182819542444813,0.1654081574502899,0.1240561180878663,0.07810940768503243,0.04165835076538414,0.018935613984275963,0.007363849882775983,0.0024546166275920002,0.0007013190364546628,0.0001714335422443791,3.571532130088355E-05,6.302703758973037E-06,9.337338902171049E-07,1.1466907423703524E-07,1.1466907423687175E-08,9.100720177515782E-10,5.51558798636467E-11,2.398081733198222E-12,6.661338147762031E-14,8.881784197001244E-16],\"marker\":{\"color\":\"Blue\",\"opacity\":0.5},\"line\":{},\"xaxis\":\"x3\",\"yaxis\":\"y3\"},{\"type\":\"scatter\",\"mode\":\"markers\",\"x\":[5,6,7,3,8,4,9,11,10,2,13,1,0,12,15,14],\"y\":[0.1653,0.1835,0.1686,0.0642,0.125,0.1121,0.0779,0.0174,0.0443,0.0248,0.0017,0.0057,0.0008,0.0078,0.0002,0.0007],\"marker\":{\"color\":\"Orange\"},\"line\":{},\"xaxis\":\"x4\",\"yaxis\":\"y4\"},{\"type\":\"scatter\",\"mode\":\"markers\",\"x\":[0,1,2,3,4,5,6,7,8,9,10,11,12,13,14,15,16,17,18,19,20,21,22,23,24,25],\"y\":[0.0007525434581650009,0.006271195484718762,0.025084781938915692,0.06410555384399787,0.11752684871417801,0.16453758820009692,0.182819542444813,0.1654081574502899,0.1240561180878663,0.07810940768503243,0.04165835076538414,0.018935613984275963,0.007363849882775983,0.0024546166275920002,0.0007013190364546628,0.0001714335422443791,3.571532130088355E-05,6.302703758973037E-06,9.337338902171049E-07,1.1466907423703524E-07,1.1466907423687175E-08,9.100720177515782E-10,5.51558798636467E-11,2.398081733198222E-12,6.661338147762031E-14,8.881784197001244E-16],\"marker\":{\"color\":\"Blue\",\"opacity\":0.5},\"line\":{},\"xaxis\":\"x4\",\"yaxis\":\"y4\"}];\r\n",
              "            var layout = {\"width\":800,\"height\":800,\"template\":{\"layout\":{\"title\":{\"x\":0.05},\"font\":{\"color\":\"rgba(42, 63, 95, 1.0)\"},\"paper_bgcolor\":\"rgba(255, 255, 255, 1.0)\",\"plot_bgcolor\":\"rgba(229, 236, 246, 1.0)\",\"autotypenumbers\":\"strict\",\"colorscale\":{\"diverging\":[[0.0,\"#8e0152\"],[0.1,\"#c51b7d\"],[0.2,\"#de77ae\"],[0.3,\"#f1b6da\"],[0.4,\"#fde0ef\"],[0.5,\"#f7f7f7\"],[0.6,\"#e6f5d0\"],[0.7,\"#b8e186\"],[0.8,\"#7fbc41\"],[0.9,\"#4d9221\"],[1.0,\"#276419\"]],\"sequential\":[[0.0,\"#0d0887\"],[0.1111111111111111,\"#46039f\"],[0.2222222222222222,\"#7201a8\"],[0.3333333333333333,\"#9c179e\"],[0.4444444444444444,\"#bd3786\"],[0.5555555555555556,\"#d8576b\"],[0.6666666666666666,\"#ed7953\"],[0.7777777777777778,\"#fb9f3a\"],[0.8888888888888888,\"#fdca26\"],[1.0,\"#f0f921\"]],\"sequentialminus\":[[0.0,\"#0d0887\"],[0.1111111111111111,\"#46039f\"],[0.2222222222222222,\"#7201a8\"],[0.3333333333333333,\"#9c179e\"],[0.4444444444444444,\"#bd3786\"],[0.5555555555555556,\"#d8576b\"],[0.6666666666666666,\"#ed7953\"],[0.7777777777777778,\"#fb9f3a\"],[0.8888888888888888,\"#fdca26\"],[1.0,\"#f0f921\"]]},\"hovermode\":\"closest\",\"hoverlabel\":{\"align\":\"left\"},\"coloraxis\":{\"colorbar\":{\"outlinewidth\":0.0,\"ticks\":\"\"}},\"geo\":{\"showland\":true,\"landcolor\":\"rgba(229, 236, 246, 1.0)\",\"showlakes\":true,\"lakecolor\":\"rgba(255, 255, 255, 1.0)\",\"subunitcolor\":\"rgba(255, 255, 255, 1.0)\",\"bgcolor\":\"rgba(255, 255, 255, 1.0)\"},\"mapbox\":{\"style\":\"light\"},\"polar\":{\"bgcolor\":\"rgba(229, 236, 246, 1.0)\",\"radialaxis\":{\"linecolor\":\"rgba(255, 255, 255, 1.0)\",\"gridcolor\":\"rgba(255, 255, 255, 1.0)\",\"ticks\":\"\"},\"angularaxis\":{\"linecolor\":\"rgba(255, 255, 255, 1.0)\",\"gridcolor\":\"rgba(255, 255, 255, 1.0)\",\"ticks\":\"\"}},\"scene\":{\"xaxis\":{\"ticks\":\"\",\"linecolor\":\"rgba(255, 255, 255, 1.0)\",\"gridcolor\":\"rgba(255, 255, 255, 1.0)\",\"gridwidth\":2.0,\"zerolinecolor\":\"rgba(255, 255, 255, 1.0)\",\"backgroundcolor\":\"rgba(229, 236, 246, 1.0)\",\"showbackground\":true},\"yaxis\":{\"ticks\":\"\",\"linecolor\":\"rgba(255, 255, 255, 1.0)\",\"gridcolor\":\"rgba(255, 255, 255, 1.0)\",\"gridwidth\":2.0,\"zerolinecolor\":\"rgba(255, 255, 255, 1.0)\",\"backgroundcolor\":\"rgba(229, 236, 246, 1.0)\",\"showbackground\":true},\"zaxis\":{\"ticks\":\"\",\"linecolor\":\"rgba(255, 255, 255, 1.0)\",\"gridcolor\":\"rgba(255, 255, 255, 1.0)\",\"gridwidth\":2.0,\"zerolinecolor\":\"rgba(255, 255, 255, 1.0)\",\"backgroundcolor\":\"rgba(229, 236, 246, 1.0)\",\"showbackground\":true}},\"ternary\":{\"aaxis\":{\"ticks\":\"\",\"linecolor\":\"rgba(255, 255, 255, 1.0)\",\"gridcolor\":\"rgba(255, 255, 255, 1.0)\"},\"baxis\":{\"ticks\":\"\",\"linecolor\":\"rgba(255, 255, 255, 1.0)\",\"gridcolor\":\"rgba(255, 255, 255, 1.0)\"},\"caxis\":{\"ticks\":\"\",\"linecolor\":\"rgba(255, 255, 255, 1.0)\",\"gridcolor\":\"rgba(255, 255, 255, 1.0)\"},\"bgcolor\":\"rgba(229, 236, 246, 1.0)\"},\"xaxis\":{\"title\":{\"standoff\":15},\"ticks\":\"\",\"automargin\":true,\"linecolor\":\"rgba(255, 255, 255, 1.0)\",\"gridcolor\":\"rgba(255, 255, 255, 1.0)\",\"zerolinecolor\":\"rgba(255, 255, 255, 1.0)\",\"zerolinewidth\":2.0},\"yaxis\":{\"title\":{\"standoff\":15},\"ticks\":\"\",\"automargin\":true,\"linecolor\":\"rgba(255, 255, 255, 1.0)\",\"gridcolor\":\"rgba(255, 255, 255, 1.0)\",\"zerolinecolor\":\"rgba(255, 255, 255, 1.0)\",\"zerolinewidth\":2.0},\"annotationdefaults\":{\"arrowcolor\":\"#2a3f5f\",\"arrowhead\":0,\"arrowwidth\":1},\"shapedefaults\":{\"line\":{\"color\":\"rgba(42, 63, 95, 1.0)\"}},\"colorway\":[\"rgba(99, 110, 250, 1.0)\",\"rgba(239, 85, 59, 1.0)\",\"rgba(0, 204, 150, 1.0)\",\"rgba(171, 99, 250, 1.0)\",\"rgba(255, 161, 90, 1.0)\",\"rgba(25, 211, 243, 1.0)\",\"rgba(255, 102, 146, 1.0)\",\"rgba(182, 232, 128, 1.0)\",\"rgba(255, 151, 255, 1.0)\",\"rgba(254, 203, 82, 1.0)\"]},\"data\":{\"bar\":[{\"marker\":{\"line\":{\"color\":\"rgba(229, 236, 246, 1.0)\",\"width\":0.5},\"pattern\":{\"fillmode\":\"overlay\",\"size\":10,\"solidity\":0.2}},\"error_x\":{\"color\":\"rgba(42, 63, 95, 1.0)\"},\"error_y\":{\"color\":\"rgba(42, 63, 95, 1.0)\"}}],\"barpolar\":[{\"marker\":{\"line\":{\"color\":\"rgba(229, 236, 246, 1.0)\",\"width\":0.5},\"pattern\":{\"fillmode\":\"overlay\",\"size\":10,\"solidity\":0.2}}}],\"carpet\":[{\"aaxis\":{\"linecolor\":\"rgba(255, 255, 255, 1.0)\",\"gridcolor\":\"rgba(255, 255, 255, 1.0)\",\"endlinecolor\":\"rgba(42, 63, 95, 1.0)\",\"minorgridcolor\":\"rgba(255, 255, 255, 1.0)\",\"startlinecolor\":\"rgba(42, 63, 95, 1.0)\"},\"baxis\":{\"linecolor\":\"rgba(255, 255, 255, 1.0)\",\"gridcolor\":\"rgba(255, 255, 255, 1.0)\",\"endlinecolor\":\"rgba(42, 63, 95, 1.0)\",\"minorgridcolor\":\"rgba(255, 255, 255, 1.0)\",\"startlinecolor\":\"rgba(42, 63, 95, 1.0)\"}}],\"choropleth\":[{\"colorbar\":{\"outlinewidth\":0.0,\"ticks\":\"\"},\"colorscale\":[[0.0,\"#0d0887\"],[0.1111111111111111,\"#46039f\"],[0.2222222222222222,\"#7201a8\"],[0.3333333333333333,\"#9c179e\"],[0.4444444444444444,\"#bd3786\"],[0.5555555555555556,\"#d8576b\"],[0.6666666666666666,\"#ed7953\"],[0.7777777777777778,\"#fb9f3a\"],[0.8888888888888888,\"#fdca26\"],[1.0,\"#f0f921\"]]}],\"contour\":[{\"colorbar\":{\"outlinewidth\":0.0,\"ticks\":\"\"},\"colorscale\":[[0.0,\"#0d0887\"],[0.1111111111111111,\"#46039f\"],[0.2222222222222222,\"#7201a8\"],[0.3333333333333333,\"#9c179e\"],[0.4444444444444444,\"#bd3786\"],[0.5555555555555556,\"#d8576b\"],[0.6666666666666666,\"#ed7953\"],[0.7777777777777778,\"#fb9f3a\"],[0.8888888888888888,\"#fdca26\"],[1.0,\"#f0f921\"]]}],\"contourcarpet\":[{\"colorbar\":{\"outlinewidth\":0.0,\"ticks\":\"\"}}],\"heatmap\":[{\"colorbar\":{\"outlinewidth\":0.0,\"ticks\":\"\"},\"colorscale\":[[0.0,\"#0d0887\"],[0.1111111111111111,\"#46039f\"],[0.2222222222222222,\"#7201a8\"],[0.3333333333333333,\"#9c179e\"],[0.4444444444444444,\"#bd3786\"],[0.5555555555555556,\"#d8576b\"],[0.6666666666666666,\"#ed7953\"],[0.7777777777777778,\"#fb9f3a\"],[0.8888888888888888,\"#fdca26\"],[1.0,\"#f0f921\"]]}],\"heatmapgl\":[{\"colorbar\":{\"outlinewidth\":0.0,\"ticks\":\"\"},\"colorscale\":[[0.0,\"#0d0887\"],[0.1111111111111111,\"#46039f\"],[0.2222222222222222,\"#7201a8\"],[0.3333333333333333,\"#9c179e\"],[0.4444444444444444,\"#bd3786\"],[0.5555555555555556,\"#d8576b\"],[0.6666666666666666,\"#ed7953\"],[0.7777777777777778,\"#fb9f3a\"],[0.8888888888888888,\"#fdca26\"],[1.0,\"#f0f921\"]]}],\"histogram\":[{\"marker\":{\"pattern\":{\"fillmode\":\"overlay\",\"size\":10,\"solidity\":0.2}}}],\"histogram2d\":[{\"colorbar\":{\"outlinewidth\":0.0,\"ticks\":\"\"},\"colorscale\":[[0.0,\"#0d0887\"],[0.1111111111111111,\"#46039f\"],[0.2222222222222222,\"#7201a8\"],[0.3333333333333333,\"#9c179e\"],[0.4444444444444444,\"#bd3786\"],[0.5555555555555556,\"#d8576b\"],[0.6666666666666666,\"#ed7953\"],[0.7777777777777778,\"#fb9f3a\"],[0.8888888888888888,\"#fdca26\"],[1.0,\"#f0f921\"]]}],\"histogram2dcontour\":[{\"colorbar\":{\"outlinewidth\":0.0,\"ticks\":\"\"},\"colorscale\":[[0.0,\"#0d0887\"],[0.1111111111111111,\"#46039f\"],[0.2222222222222222,\"#7201a8\"],[0.3333333333333333,\"#9c179e\"],[0.4444444444444444,\"#bd3786\"],[0.5555555555555556,\"#d8576b\"],[0.6666666666666666,\"#ed7953\"],[0.7777777777777778,\"#fb9f3a\"],[0.8888888888888888,\"#fdca26\"],[1.0,\"#f0f921\"]]}],\"mesh3d\":[{\"colorbar\":{\"outlinewidth\":0.0,\"ticks\":\"\"}}],\"parcoords\":[{\"line\":{\"colorbar\":{\"outlinewidth\":0.0,\"ticks\":\"\"}}}],\"pie\":[{\"automargin\":true}],\"scatter\":[{\"marker\":{\"colorbar\":{\"outlinewidth\":0.0,\"ticks\":\"\"}}}],\"scatter3d\":[{\"marker\":{\"colorbar\":{\"outlinewidth\":0.0,\"ticks\":\"\"}},\"line\":{\"colorbar\":{\"outlinewidth\":0.0,\"ticks\":\"\"}}}],\"scattercarpet\":[{\"marker\":{\"colorbar\":{\"outlinewidth\":0.0,\"ticks\":\"\"}}}],\"scattergeo\":[{\"marker\":{\"colorbar\":{\"outlinewidth\":0.0,\"ticks\":\"\"}}}],\"scattergl\":[{\"marker\":{\"colorbar\":{\"outlinewidth\":0.0,\"ticks\":\"\"}}}],\"scattermapbox\":[{\"marker\":{\"colorbar\":{\"outlinewidth\":0.0,\"ticks\":\"\"}}}],\"scatterpolar\":[{\"marker\":{\"colorbar\":{\"outlinewidth\":0.0,\"ticks\":\"\"}}}],\"scatterpolargl\":[{\"marker\":{\"colorbar\":{\"outlinewidth\":0.0,\"ticks\":\"\"}}}],\"scatterternary\":[{\"marker\":{\"colorbar\":{\"outlinewidth\":0.0,\"ticks\":\"\"}}}],\"surface\":[{\"colorbar\":{\"outlinewidth\":0.0,\"ticks\":\"\"},\"colorscale\":[[0.0,\"#0d0887\"],[0.1111111111111111,\"#46039f\"],[0.2222222222222222,\"#7201a8\"],[0.3333333333333333,\"#9c179e\"],[0.4444444444444444,\"#bd3786\"],[0.5555555555555556,\"#d8576b\"],[0.6666666666666666,\"#ed7953\"],[0.7777777777777778,\"#fb9f3a\"],[0.8888888888888888,\"#fdca26\"],[1.0,\"#f0f921\"]]}],\"table\":[{\"cells\":{\"fill\":{\"color\":\"rgba(235, 240, 248, 1.0)\"},\"line\":{\"color\":\"rgba(255, 255, 255, 1.0)\"}},\"header\":{\"fill\":{\"color\":\"rgba(200, 212, 227, 1.0)\"},\"line\":{\"color\":\"rgba(255, 255, 255, 1.0)\"}}}]}},\"showlegend\":false,\"xaxis\":{\"title\":{\"text\":\"h<br>30 samples\"}},\"yaxis\":{\"title\":{\"text\":\"P(h)\"}},\"xaxis2\":{\"title\":{\"text\":\"h<br>100 samples\"}},\"yaxis2\":{\"title\":{\"text\":\"P(h)\"}},\"xaxis3\":{\"title\":{\"text\":\"h<br>1000 samples\"}},\"yaxis3\":{\"title\":{\"text\":\"P(h)\"}},\"xaxis4\":{\"title\":{\"text\":\"h<br>10000 samples\"}},\"yaxis4\":{\"title\":{\"text\":\"P(h)\"}},\"grid\":{\"rows\":2,\"columns\":2,\"pattern\":\"independent\"}};\r\n",
              "            var config = {\"responsive\":true};\r\n",
              "            Plotly.newPlot('aacf4aaf-0f13-430c-86c6-0080875b82d6', data, layout, config);\r\n",
              "});\r\n",
              "            };\r\n",
              "            if ((typeof(requirejs) !==  typeof(Function)) || (typeof(requirejs.config) !== typeof(Function))) {\r\n",
              "                var script = document.createElement(\"script\");\r\n",
              "                script.setAttribute(\"src\", \"https://cdnjs.cloudflare.com/ajax/libs/require.js/2.3.6/require.min.js\");\r\n",
              "                script.onload = function(){\r\n",
              "                    renderPlotly_aacf4aaf0f13430c86c60080875b82d6();\r\n",
              "                };\r\n",
              "                document.getElementsByTagName(\"head\")[0].appendChild(script);\r\n",
              "            }\r\n",
              "            else {\r\n",
              "                renderPlotly_aacf4aaf0f13430c86c60080875b82d6();\r\n",
              "            }\r\n",
              "</script>\r\n",
              "\n",
              "    \n",
              "</div>    \n"
            ]
          },
          "metadata": {},
          "output_type": "display_data"
        }
      ],
      "source": [
        "// Simulate n_samples sets of n coin flips with prob. p of heads.\n",
        "let simulateCoinflips n p size =\n",
        "    let rnd = new System.Random()\n",
        "    [|0 .. size - 1|]\n",
        "    |> Array.map (fun _ ->\n",
        "        Array.init n (fun x -> rnd.NextDouble())\n",
        "        |> Array.countBy (fun x -> x < p)\n",
        "        |> Array.tryFind (fun (isHead,count) -> isHead)\n",
        "        |> fun res ->\n",
        "            match res with\n",
        "            | Some (isHead,count) -> count\n",
        "            | None -> 0\n",
        "    )\n",
        "\n",
        "let size = [|30;100;1000;10000|]\n",
        "let n = 25\n",
        "let p = 0.25\n",
        "\n",
        "let binomial = Distributions.Discrete.binomial 0.25 25\n",
        "\n",
        "let binomialPoints =\n",
        "    [|0 .. 25|]\n",
        "    |> Array.map (fun x -> x,binomial.PDF x)\n",
        "\n",
        "size\n",
        "|> Array.map (fun s ->\n",
        "    [\n",
        "        simulateCoinflips 25 0.25 s\n",
        "        |> Array.countBy id\n",
        "        |> Array.map (fun (heads,count) -> heads, float count/ float s)\n",
        "        |> Chart.Point\n",
        "        |> Chart.withMarkerStyle(Color = Color.fromString \"Orange\")\n",
        "        binomialPoints\n",
        "        |> Chart.Point\n",
        "        |> Chart.withMarkerStyle(Color = Color.fromString \"Blue\", Opacity = 0.5)\n",
        "    ]\n",
        "    |> Chart.combine\n",
        "    |> Chart.withLegend false\n",
        "    |> Chart.withXAxisStyle(TitleText = $\"h<br>{s} samples\")\n",
        "    |> Chart.withYAxisStyle(TitleText = \"P(h)\")\n",
        ")\n",
        "|> Chart.Grid(2,2)\n",
        "|> Chart.withSize (800,800)"
      ]
    },
    {
      "cell_type": "markdown",
      "metadata": {},
      "source": [
        "As we can see, if we sample out of the probability distribution, we can approximately calculate the actual distribution. If we sample enough, the approximation is very good.\n",
        "\n",
        "Sampling is such a powerful strategy that highly efficient algorithms with convenient APIs have been developed to sample out of named probability distributions. For example, we could have used np.random.binom() as a drop-in (and much more efficient) replacement for the simulate_coinflips() function above.\n",
        "\n",
        "We will use the same strategy for solving master equations. We will find a way to sample out of the distribution that is governed by the master equation. This technique was pioneered by Dan Gillespie in the last 70s. For that reason, these sampling techniques are often called Gillespie simulations. The algorithm is sometimes referred to as a stochastic simulation algorithm, or SSA.\n",
        "\n",
        "Here, we will explore how this algorithm works by looking at simple production of a protein.\n",
        "## The dynamical equations\n",
        "\n",
        "For simple protein production, we have the following reactions.\n",
        "\n",
        "DNA→mRNA→protein\n",
        "\n",
        "### Macroscale equations\n",
        "\n",
        "As we’ve seen before, the deterministic dynamics, which describe mean concentrations over a large population of cells, are described by the ODEs\n",
        "\n",
        "dmdtdpdt=βm−γmm,=βpm−γpp.\n",
        "\n",
        "The same equations should hold if m\n",
        "and p represent the mean numbers of cells; we would just have to appropriately rescale the constants. Assuming the m and p are now numbers (so we are not free to pick their units), we can nondimensionalize using γm\n",
        "\n",
        "to nondimensionalize time. This leads to redefinition of parameters and variables\n",
        "\n",
        "βm/γm→βm,βp/γm→βp,γmt→t.\n",
        "\n",
        "The dimensionless equations are\n",
        "\n",
        "dmdtdpdt=βm−m,=βpm−γp,\n",
        "\n",
        "with γ=γp/γm\n",
        "\n",
        ".\n",
        "### The Master equation\n",
        "\n",
        "We can write a master equation for these dynamics. In this case, each state is defined by an mRNA copy number m\n",
        "and a protein copy number p. So, we will write a master equation for P(m,p,t)\n",
        "\n",
        ".\n",
        "\n",
        "dP(m,p,t)dt=βmP(m−1,p,t)+(m+1)P(m+1,p,t)−βmP(m,p,t)−mP(m,p,t)+βpmP(m,p−1,t)+γ(p+1)P(m,p+1,t)−βpmP(m,p,t)−γpP(m,p,t).\n",
        "\n",
        "We implicitly define P(m,p,t)=0\n",
        "if m<0 or p<0\n",
        "\n",
        ". This is the master equation we will sample from using the stochastic simulation algorithm (SSA) or Gillespie algorithm.\n",
        "## The Gillespie algorithm\n",
        "\n",
        "The transition probabilities are also called propensities in the context of stochastic simulation. The propensity for a given transition, say indexed i\n",
        ", is denoted as ai. The equivalence to notation we introduced for master equations is that if transition i results in the change of state from n′ to n, then ai=W(n∣n′)\n",
        "\n",
        ".\n",
        "\n",
        "To cast this problem for a Gillespie simulation, we can write each change of state (moving either the copy number of mRNA or protein up or down by 1 in this case) and their respective propensities.\n",
        "\n",
        "reaction, rim→m+1,m→m−1,p→p+1,p→p−1,propensity, aiβmmβpmγp.\n",
        "\n",
        "We will not carefully prove that the Gillespie algorithm samples from the probability distribution governed by the master equation, but will state the principles behind it. The basic idea is that events (such as those outlined above) are rare, discrete, separate events. I.e., each event is an arrival of a Poisson process. The Gillespie algorithm starts with some state, (m0,p0)\n",
        ". Then a state change, any state change, will happen in some time Δt that has a certain probability distribution (which we will show is Exponential momentarily). The probability that the state change that happens is reaction j is proportional to aj. That is to say, state changes with high propensities are more likely to occur. Thus, choosing which of the n state changes happens in Δt is a matter of drawing an integer j in [1,n] where the probability of drawing j\n",
        "\n",
        "is\n",
        "\n",
        "aj∑iai.\n",
        "\n",
        "Now, how do we determine how long the state change took? The probability density function describing that a given state change i\n",
        "takes place in time t\n",
        "\n",
        "is\n",
        "\n",
        "P(t∣ai)=aie−ait,\n",
        "\n",
        "since the time it takes for arrival of a Poisson process is Exponentially distributed. The probability that it has not arrived in time Δt\n",
        "is the probability that the arrival time is greater than Δt\n",
        "\n",
        ", given by the complementary cumulative distribution function for the Exponential distribution.\n",
        "\n",
        "P(t>Δt∣ai)=∫∞ΔtdtP(t∣ai)=e−aiΔt.\n",
        "\n",
        "Now, say we have n\n",
        "processes that arrive in time t1,t2,…. The probability that none of them arrive before Δt\n",
        "\n",
        "is\n",
        "\n",
        "P(t1>Δt,t2>Δt,…)=P(t1>Δt)P(t2>Δt)⋯=∏ie−aiΔt=exp[−Δt∑iai].\n",
        "\n",
        "This is the same as the probability of a single Poisson process with a=∑iai\n",
        "not arriving before Δt. So, the probability that it does arrive in Δt is Exponentially distributed with mean (∑iai)−1\n",
        "\n",
        ".\n",
        "\n",
        "So, we know how to choose a state change and we also know how long it takes. The Gillespie algorithm then proceeds as follows.\n",
        "\n",
        "    Choose an initial condition, e.g., m=p=0\n",
        "\n",
        ".\n",
        "\n",
        "Calculate the propensity for each of the enumerated state changes. The propensities may be functions of m\n",
        "and p, so they need to be recalculated for every m and p\n",
        "\n",
        "we encounter.\n",
        "\n",
        "Choose how much time the reaction will take by drawing out of an exponential distribution with a mean equal to (∑iai)−1\n",
        "\n",
        ". This means that a change arises from a Poisson process.\n",
        "\n",
        "Choose what state change will happen by drawing a sample out of the discrete distribution where Pi=ai/(∑iai)\n",
        "\n",
        ". In other words, the probability that a state change will be chosen is proportional to its propensity.\n",
        "\n",
        "Increment time by the time step you chose in step 3.\n",
        "\n",
        "Update the states according to the state change you choose in step 4.\n",
        "\n",
        "If t\n",
        "\n",
        "    is less than your pre-determined stopping time, go to step 2. Else stop.\n",
        "\n",
        "Gillespie proved that this algorithm samples the probability distribution described by the master equation in his seminal papers in 1976 and 1977. (We recommend reading the latter.) You can also read a concise discussion of how the algorithm samples the master equation in section 4.2 of Del Vecchio and Murray.\n",
        "## Coding up the Gillespie simulation\n",
        "\n",
        "To code up the Gillespie simulation, we first make an an array that gives the changes in the counts of m\n",
        "and p for each of the four reactions. This is a way of encoding the updates in the particle counts that we get from choosing the respective state changes."
      ]
    },
    {
      "cell_type": "code",
      "execution_count": null,
      "metadata": {
        "dotnet_interactive": {
          "language": "fsharp"
        },
        "vscode": {
          "languageId": "dotnet-interactive.fsharp"
        }
      },
      "outputs": [],
      "source": [
        "// Column 0 is change in m, column 1 is change in p\n",
        "let simpleUpdate =\n",
        "    [|\n",
        "        1., 0.;  // Make mRNA transcript\n",
        "        -1., 0.; // Degrade mRNA\n",
        "        0., 1.;  // Make protein\n",
        "        0., -1.  // Degrade protein\n",
        "    |]"
      ]
    },
    {
      "cell_type": "markdown",
      "metadata": {},
      "source": [
        "Next, we make a function that updates the array of propensities for each of the four reactions. We update the propensities (which are passed into the function as an argument) instead of instantiating them and returning them to save on memory allocation while running the code. It has the added benefit that it forces you to keep track of the indices corresponding to the update matrix. This helps prevent bugs. It will naturally be a function of the current population of molecules. It may in general also be a function of time, so we explicitly allow for time dependence (even though we will not use it in this simple example) as well."
      ]
    },
    {
      "cell_type": "code",
      "execution_count": null,
      "metadata": {
        "dotnet_interactive": {
          "language": "fsharp"
        },
        "vscode": {
          "languageId": "dotnet-interactive.fsharp"
        }
      },
      "outputs": [],
      "source": [
        "//Updates an array of propensities given a set of parameters and an array of populations.\n",
        "let simplePropensities (propensities: float []) population t beta_m beta_p gamma =\n",
        "    let m,p = population\n",
        "    propensities.[0] <- beta_m     // Make mRNA transcript\n",
        "    propensities.[1] <- m          // Degrade mRNA\n",
        "    propensities.[2] <- beta_p * m // Make protein\n",
        "    propensities.[3] <- gamma * p  // Degrade protein"
      ]
    },
    {
      "cell_type": "markdown",
      "metadata": {},
      "source": [
        "### Making a draw\n",
        "\n",
        "Finally, we write a general function that draws a choice of reaction and the time interval for that reaction. This is the heart of the Gillespie algorithm, so we will take some time to discuss speed. First, to get the time interval, we sample a random number from an exponential distribution with mean (∑iai)−1\n",
        "\n",
        ". This is easily done using the np.random.exponential() function.\n",
        "\n",
        "Next, we have to select which reaction will take place. This amounts to drawing a sample over the discrete distribution where Pi=ai(∑iai)−1\n",
        ", or the probability of each reaction is proportional to its propensity. This can be done using scipy.stats.rv_discrete, which allows specification of an arbitrary discrete distribution. We will write a function to do this."
      ]
    },
    {
      "cell_type": "code",
      "execution_count": null,
      "metadata": {
        "dotnet_interactive": {
          "language": "fsharp"
        },
        "vscode": {
          "languageId": "dotnet-interactive.fsharp"
        }
      },
      "outputs": [],
      "source": [
        "let sampleDiscrete (probs: 'a []) =\n",
        "    let q =  (new System.Random()).NextDouble()\n",
        "    let mutable i = 0\n",
        "    let mutable pSum = 0.\n",
        "    while pSum < q do\n",
        "        pSum <- pSum + probs.[i]\n",
        "        i <- i + 1\n",
        "    i - 1"
      ]
    },
    {
      "cell_type": "markdown",
      "metadata": {},
      "source": [
        "Now we can write a function to do our draws."
      ]
    },
    {
      "cell_type": "code",
      "execution_count": null,
      "metadata": {
        "dotnet_interactive": {
          "language": "fsharp"
        },
        "vscode": {
          "languageId": "dotnet-interactive.fsharp"
        }
      },
      "outputs": [
        {
          "data": {
            "text/html": [
              "<div class=\"dni-plaintext\">2</div>"
            ]
          },
          "metadata": {},
          "output_type": "display_data"
        }
      ],
      "source": [
        "// Make dummy probs\n",
        "let probs = [|0.1;0.3;0.4;0.05;0.15|]\n",
        "sampleDiscrete probs"
      ]
    },
    {
      "cell_type": "code",
      "execution_count": null,
      "metadata": {
        "dotnet_interactive": {
          "language": "fsharp"
        },
        "vscode": {
          "languageId": "dotnet-interactive.fsharp"
        }
      },
      "outputs": [],
      "source": [
        "let gillespieDraw propensityFunc propensities population t beta_m beta_p gamma =\n",
        "    (**\n",
        "    Draws a reaction and the time it took to do that reaction.\n",
        "\n",
        "    Parameters\n",
        "    ----------\n",
        "    propensity_func : function\n",
        "        Function with call signature propensity_func(population, t, *args)\n",
        "        used for computing propensities. This function must return\n",
        "        an array of propensities.\n",
        "    propensities : ndarray\n",
        "        Propensities for each reaction as a 1D Numpy array.\n",
        "    population : ndarray\n",
        "        Current population of particles\n",
        "    t : float\n",
        "        Value of the current time.\n",
        "    args : tuple, default ()\n",
        "        Arguments to be passed to `propensity_func`.\n",
        "\n",
        "    Returns\n",
        "    -------\n",
        "    rxn : int\n",
        "        Index of reaction that occured.\n",
        "    time : float\n",
        "        Time it took for the reaction to occur.\n",
        "    *)\n",
        "    // compute propensities\n",
        "    propensityFunc propensities population t beta_m beta_p gamma\n",
        "    // sum of propensities\n",
        "    let  propsSum = propensities |> Array.sum\n",
        "    let time = (FSharp.Stats.Distributions.Continuous.exponential propsSum).Sample()\n",
        "    // compute discrete probabilities of each reaction\n",
        "    let rxnProbs = propensities |> Array.map (fun p -> p / propsSum)\n",
        "    // draw reaction from this distribution\n",
        "    let rxn = sampleDiscrete rxnProbs\n",
        "    rxn, time"
      ]
    },
    {
      "cell_type": "code",
      "execution_count": null,
      "metadata": {
        "dotnet_interactive": {
          "language": "fsharp"
        },
        "vscode": {
          "languageId": "dotnet-interactive.fsharp"
        }
      },
      "outputs": [
        {
          "data": {
            "text/html": [
              "<table><thead><tr><th>Item1</th><th>Item2</th></tr></thead><tbody><tr><td><div class=\"dni-plaintext\">0</div></td><td><div class=\"dni-plaintext\">0.07253261635179752</div></td></tr></tbody></table>"
            ]
          },
          "metadata": {},
          "output_type": "display_data"
        }
      ],
      "source": [
        "let propensities = Array.zeroCreate simpleUpdate.Length\n",
        "let timePoints = [| 0. .. 0.5 .. 50.|]\n",
        "\n",
        "gillespieDraw simplePropensities propensities (0,0) timePoints.[0] 10. 10. 0.4"
      ]
    },
    {
      "cell_type": "markdown",
      "metadata": {},
      "source": [
        "## SSA time stepping\n",
        "\n",
        "Now we are ready to write our main SSA loop. We will only keep the counts at pre-specified time points. This saves on RAM, and we really only care about the values at given time points anyhow.\n",
        "\n",
        "Note that this function is generic. All we need to specify our system is the following.\n",
        "\n",
        "    A function to compute the propensities\n",
        "\n",
        "    How the updates for a given reaction are made\n",
        "\n",
        "    Initial population\n",
        "\n",
        "Additionally, we specify necessary parameters, an initial condition, and the time points at which we want to store our samples. So, providing the propensity function and update are analogous to providing the time derivatives when using scipy.integrate.odeint()."
      ]
    },
    {
      "cell_type": "code",
      "execution_count": null,
      "metadata": {
        "dotnet_interactive": {
          "language": "fsharp"
        },
        "vscode": {
          "languageId": "dotnet-interactive.fsharp"
        }
      },
      "outputs": [],
      "source": [
        "let gillespieSSA propensityFunc (update: 'a[]) (population0:float*float) (timePoints: float[]) beta_m beta_p gamma =\n",
        "    (**\n",
        "    Uses the Gillespie stochastic simulation algorithm to sample\n",
        "    from probability distribution of particle counts over time.\n",
        "\n",
        "    Parameters\n",
        "    ----------\n",
        "    propensity_func : function\n",
        "        Function of the form f(params, t, population) that takes the current\n",
        "        population of particle counts and return an array of propensities\n",
        "        for each reaction.\n",
        "    update : ndarray, shape (num_reactions, num_chemical_species)\n",
        "        Entry i, j gives the change in particle counts of species j\n",
        "        for chemical reaction i.\n",
        "    population_0 : array_like, shape (num_chemical_species)\n",
        "        Array of initial populations of all chemical species.\n",
        "    time_points : array_like, shape (num_time_points,)\n",
        "        Array of points in time for which to sample the probability\n",
        "        distribution.\n",
        "    args : tuple, default ()\n",
        "        The set of parameters to be passed to propensity_func.\n",
        "\n",
        "    Returns\n",
        "    -------\n",
        "    sample : ndarray, shape (num_time_points, num_chemical_species)\n",
        "        Entry i, j is the count of chemical species j at time\n",
        "        time_points[i].\n",
        "    *)\n",
        "    // initialize output\n",
        "    let mutable popOut: (float*float)[] = Array.init timePoints.Length (fun x -> 0.,0.)\n",
        "\n",
        "    // initialize and perform simulation\n",
        "    let mutable iTime = 1\n",
        "    let mutable i = 0\n",
        "    let mutable t = timePoints.[0]\n",
        "    let mutable population = population0\n",
        "    let mutable propensities = Array.zeroCreate update.Length\n",
        "    let mutable populationPrevious = 0.,0.\n",
        "    popOut.[0] <- population\n",
        "    while i < timePoints.Length do\n",
        "        while t < timePoints.[iTime] do\n",
        "            // draw the event and time step\n",
        "            let event, dt = gillespieDraw propensityFunc propensities population t beta_m beta_p gamma\n",
        "            // update the population\n",
        "            populationPrevious <- population\n",
        "            population <- fst populationPrevious + fst update.[event], snd populationPrevious + snd update.[event]\n",
        "            // increment time\n",
        "            t <- t + dt\n",
        "        // update the index\n",
        "        i <- \n",
        "            match (timePoints |> Array.tryFindIndex (fun x -> x > t)) with\n",
        "            | Some x -> x\n",
        "            | None -> i + 1\n",
        "        // update the population\n",
        "        popOut.[iTime] <- populationPrevious\n",
        "        // increment index\n",
        "        iTime <- i\n",
        "    Array.unzip popOut\n"
      ]
    },
    {
      "cell_type": "code",
      "execution_count": null,
      "metadata": {
        "dotnet_interactive": {
          "language": "fsharp"
        },
        "vscode": {
          "languageId": "dotnet-interactive.fsharp"
        }
      },
      "outputs": [],
      "source": [
        "let samples =\n",
        "    [|\n",
        "        for i = 0 to 100 do\n",
        "            gillespieSSA simplePropensities simpleUpdate (0,0) timePoints 10. 10. 0.4\n",
        "    |]"
      ]
    },
    {
      "cell_type": "code",
      "execution_count": null,
      "metadata": {
        "dotnet_interactive": {
          "language": "fsharp"
        },
        "vscode": {
          "languageId": "dotnet-interactive.fsharp"
        }
      },
      "outputs": [
        {
          "data": {
            "text/html": [
              "\n",
              "<div>\n",
              "    <div id=\"67e49b32-7be3-4805-8f5b-c526bc2eae74\"><!-- Plotly chart will be drawn inside this DIV --></div>\r\n",
              "<script type=\"text/javascript\">\r\n",
              "\r\n",
              "            var renderPlotly_67e49b327be348058f5bc526bc2eae74 = function() {\r\n",
              "            var fsharpPlotlyRequire = requirejs.config({context:'fsharp-plotly',paths:{plotly:'https://cdn.plot.ly/plotly-2.6.3.min'}}) || require;\r\n",
              "            fsharpPlotlyRequire(['plotly'], function(Plotly) {\r\n",
              "\r\n",
              "            var data = [{\"type\":\"scatter\",\"mode\":\"lines\",\"x\":[0.0,0.5,1.0,1.5,2.0,2.5,3.0,3.5,4.0,4.5,5.0,5.5,6.0,6.5,7.0,7.5,8.0,8.5,9.0,9.5,10.0,10.5,11.0,11.5,12.0,12.5,13.0,13.5,14.0,14.5,15.0,15.5,16.0,16.5,17.0,17.5,18.0,18.5,19.0,19.5,20.0,20.5,21.0,21.5,22.0,22.5,23.0,23.5,24.0,24.5,25.0,25.5,26.0,26.5,27.0,27.5,28.0,28.5,29.0,29.5,30.0,30.5,31.0,31.5,32.0,32.5,33.0,33.5,34.0,34.5,35.0,35.5,36.0,36.5,37.0,37.5,38.0,38.5,39.0,39.5,40.0,40.5,41.0,41.5,42.0,42.5,43.0,43.5,44.0,44.5,45.0,45.5,46.0,46.5,47.0,47.5,48.0,48.5,49.0,49.5,50.0],\"y\":[0.0,4.02970297029703,6.376237623762377,7.881188118811881,8.683168316831683,9.316831683168317,9.356435643564357,9.514851485148515,9.693069306930694,10.01980198019802,10.356435643564357,10.356435643564357,9.772277227722773,9.702970297029703,10.514851485148515,9.693069306930694,10.089108910891088,10.05940594059406,10.009900990099009,9.752475247524753,9.811881188118813,9.98019801980198,10.178217821782178,10.336633663366337,10.217821782178218,10.297029702970297,10.415841584158416,10.217821782178218,10.178217821782178,9.534653465346535,10.108910891089108,10.03960396039604,10.138613861386139,9.900990099009901,9.207920792079207,9.504950495049505,9.405940594059405,9.821782178217822,9.811881188118813,9.782178217821782,9.643564356435643,9.861386138613861,10.396039603960396,9.930693069306932,10.108910891089108,9.98019801980198,9.435643564356436,9.861386138613861,10.009900990099009,9.950495049504951,10.188118811881187,9.950495049504951,9.633663366336634,9.782178217821782,9.94059405940594,9.861386138613861,9.881188118811881,9.98019801980198,10.01980198019802,9.821782178217822,9.801980198019802,10.118811881188119,10.366336633663366,9.792079207920793,9.990099009900991,9.94059405940594,9.811881188118813,10.207920792079207,9.96039603960396,10.415841584158416,10.0,10.0,9.96039603960396,10.287128712871286,10.663366336633663,10.594059405940595,10.198019801980198,10.0,10.168316831683168,9.594059405940595,9.673267326732674,9.98019801980198,9.544554455445544,10.099009900990099,9.831683168316832,10.069306930693068,10.118811881188119,10.227722772277227,9.831683168316832,9.762376237623762,9.821782178217822,9.801980198019802,9.653465346534654,9.514851485148515,9.504950495049505,9.792079207920793,10.128712871287128,9.98019801980198,9.851485148514852,9.94059405940594,9.881188118811881],\"marker\":{},\"line\":{\"width\":5.0},\"error_y\":{\"array\":[0.0,1.8732615703342363,2.424258588304948,3.0142565541535165,2.789016647742737,2.863322172125613,2.855115263578133,2.798620593743063,3.0683629976175433,2.9899170490828073,3.170438955147509,3.1641243920422646,3.3641676180559488,3.2017012804302833,3.1894007631093917,3.3218746943779376,3.228309185629499,3.384735682969109,3.1984216404500225,2.7327859067042164,3.155036834292521,3.379290452209759,3.6315176981641173,3.2749877182144442,3.354411901946568,3.297103439249201,3.3474388022267805,3.119628056022191,3.5025591775270852,3.269753374294898,3.09806710740426,3.233947408598995,3.2558553498897864,3.306070024954249,3.3565364043405466,3.3871042569612104,3.323185874493878,3.3775613676259395,3.022293404972881,2.920972305230022,2.981892548083655,3.382394722590187,3.1466782737381718,2.888797070555751,3.171438128354422,3.2248416954008823,3.226192311639709,3.2558553498897855,3.2603528934915937,3.0475440525897652,3.3036733230969704,3.22916781113575,3.0552341065038786,3.122831921176801,3.2212475290738447,3.265056517030899,3.225793324789645,2.9528975533187807,2.898207025109842,2.9946486925980493,3.3586300837698646,3.0863801733191303,3.1455453335700874,3.0506288915014492,3.2388116632646318,2.8383860983954174,2.8167813947380744,3.105855217756192,2.8772236342669224,3.365315220696787,3.379349049743161,3.218695387886217,3.0097202264636085,3.144317521063565,3.57009027259192,3.4064004985373697,3.2342535521514018,3.331666249791536,3.379554133108962,2.757456138624084,2.6649912228414148,3.2310375981093187,3.2665723701618723,2.9782711444562913,2.9054063637663257,3.1567623469072683,3.004287365459141,3.0426343458220932,3.1970902612553598,3.069685700039941,3.2905806162559226,3.3106488849776805,3.191976326868219,2.787880418476154,3.0417881661162327,2.991042733506723,3.1801363692037916,3.227941133353587,2.947494320991514,3.4404121328068182,3.070137224010911],\"color\":\"grey\"},\"xaxis\":\"x\",\"yaxis\":\"y\"},{\"type\":\"scatter\",\"mode\":\"lines\",\"x\":[0.0,0.5,1.0,1.5,2.0,2.5,3.0,3.5,4.0,4.5,5.0,5.5,6.0,6.5,7.0,7.5,8.0,8.5,9.0,9.5,10.0,10.5,11.0,11.5,12.0,12.5,13.0,13.5,14.0,14.5,15.0,15.5,16.0,16.5,17.0,17.5,18.0,18.5,19.0,19.5,20.0,20.5,21.0,21.5,22.0,22.5,23.0,23.5,24.0,24.5,25.0,25.5,26.0,26.5,27.0,27.5,28.0,28.5,29.0,29.5,30.0,30.5,31.0,31.5,32.0,32.5,33.0,33.5,34.0,34.5,35.0,35.5,36.0,36.5,37.0,37.5,38.0,38.5,39.0,39.5,40.0,40.5,41.0,41.5,42.0,42.5,43.0,43.5,44.0,44.5,45.0,45.5,46.0,46.5,47.0,47.5,48.0,48.5,49.0,49.5,50.0],\"y\":[0.0,10.574257425742575,32.603960396039604,58.76237623762376,86.72277227722772,113.38613861386139,134.84158415841586,151.30693069306932,166.54455445544554,181.15841584158414,194.4950495049505,204.5049504950495,212.17821782178217,217.6039603960396,226.52475247524754,231.78217821782178,233.84158415841586,237.24752475247524,240.20792079207922,242.77227722772278,243.0891089108911,243.31683168316832,245.43564356435644,246.1881188118812,247.75247524752476,250.52475247524754,253.4851485148515,255.01980198019803,255.98019801980197,254.55445544554456,253.36633663366337,252.72277227722773,252.84158415841586,253.86138613861385,250.0990099009901,246.52475247524754,246.32673267326732,244.88118811881188,245.94059405940595,245.07920792079207,243.4950495049505,244.41584158415841,245.24752475247524,246.17821782178217,246.44554455445544,246.34653465346534,245.1089108910891,242.77227722772278,243.66336633663366,244.56435643564356,248.24752475247524,248.02970297029702,247.43564356435644,248.0891089108911,248.22772277227722,248.59405940594058,248.13861386138615,247.990099009901,248.40594059405942,246.56435643564356,246.20792079207922,246.74257425742573,246.68316831683168,248.62376237623764,249.0891089108911,248.0891089108911,246.69306930693068,246.2970297029703,247.33663366336634,248.59405940594058,251.1881188118812,251.11881188118812,249.8118811881188,251.22772277227722,252.37623762376236,256.45544554455444,256.61386138613864,256.18811881188117,255.55445544554456,253.94059405940595,252.5148514851485,252.23762376237624,250.8910891089109,249.94059405940595,250.11881188118812,250.46534653465346,251.06930693069307,252.4257425742574,252.07920792079207,251.31683168316832,251.33663366336634,248.54455445544554,248.25742574257427,246.76237623762376,245.21782178217822,244.45544554455446,246.07920792079207,247.72277227722773,246.990099009901,245.990099009901,245.59405940594058],\"marker\":{},\"line\":{\"width\":5.0},\"error_y\":{\"array\":[0.0,5.834974780842613,12.72091129433799,20.298841599880266,25.784925368083265,30.989666115345525,34.71591354790115,36.00715000503578,35.551237602220056,37.028295308660184,38.57087599792783,39.401934917558606,41.62821063644316,42.710907086579375,44.95522084461513,48.41437884769277,48.78477891171945,47.71842535972745,46.20504665762889,44.11731659748104,41.4801395874944,40.96557840262219,42.8512347177031,43.356824807932405,44.01031832209216,43.94646608304379,43.73936759062392,44.04928607776062,45.23095846829245,46.99286653259722,47.31378716025113,47.65125786626859,49.34992050110462,51.124559597706124,49.67122002739516,49.072312776025946,48.96470339150256,50.200057196922174,51.230424902040056,47.7965863149905,46.666609853807955,44.58324064639821,46.493097539439994,46.905308023635016,43.662907655703535,42.850072495519626,42.00569032645434,43.56188269304229,44.152072936097305,46.34639486337295,47.70836529175865,48.65870023860987,46.047457224386264,44.88810510812436,45.785779711198266,45.77994718603807,46.10705579474149,46.11040989830928,44.384271587539146,44.646705554068426,44.95849571141881,47.267251552284385,46.73327095187525,45.701170988312434,46.39183096406111,45.39671772494151,43.86769712995143,40.964751812858694,43.49764987392371,46.31331951346649,47.35244721686244,48.46179673283131,47.44675181111708,48.09072284508079,47.41157063104923,48.202598426324535,47.516306737167554,48.861173312004524,48.644727411616735,48.03848910658583,47.173003690964194,46.784217106808875,48.66906635432795,48.689798065339765,48.449207863227834,45.92680358057496,44.615974140601836,42.45947398040948,43.24504206688133,41.2033810974462,41.16801603860035,40.47308358711385,42.0881583026263,42.16091756943899,42.043454653583375,42.07695919442736,41.76282633355095,45.6166896676822,43.49241199324428,42.991509638416964,42.346234358634945],\"color\":\"grey\"},\"xaxis\":\"x2\",\"yaxis\":\"y2\"}];\r\n",
              "            var layout = {\"width\":1200,\"height\":600,\"template\":{\"layout\":{\"title\":{\"x\":0.05},\"font\":{\"color\":\"rgba(42, 63, 95, 1.0)\"},\"paper_bgcolor\":\"rgba(255, 255, 255, 1.0)\",\"plot_bgcolor\":\"rgba(229, 236, 246, 1.0)\",\"autotypenumbers\":\"strict\",\"colorscale\":{\"diverging\":[[0.0,\"#8e0152\"],[0.1,\"#c51b7d\"],[0.2,\"#de77ae\"],[0.3,\"#f1b6da\"],[0.4,\"#fde0ef\"],[0.5,\"#f7f7f7\"],[0.6,\"#e6f5d0\"],[0.7,\"#b8e186\"],[0.8,\"#7fbc41\"],[0.9,\"#4d9221\"],[1.0,\"#276419\"]],\"sequential\":[[0.0,\"#0d0887\"],[0.1111111111111111,\"#46039f\"],[0.2222222222222222,\"#7201a8\"],[0.3333333333333333,\"#9c179e\"],[0.4444444444444444,\"#bd3786\"],[0.5555555555555556,\"#d8576b\"],[0.6666666666666666,\"#ed7953\"],[0.7777777777777778,\"#fb9f3a\"],[0.8888888888888888,\"#fdca26\"],[1.0,\"#f0f921\"]],\"sequentialminus\":[[0.0,\"#0d0887\"],[0.1111111111111111,\"#46039f\"],[0.2222222222222222,\"#7201a8\"],[0.3333333333333333,\"#9c179e\"],[0.4444444444444444,\"#bd3786\"],[0.5555555555555556,\"#d8576b\"],[0.6666666666666666,\"#ed7953\"],[0.7777777777777778,\"#fb9f3a\"],[0.8888888888888888,\"#fdca26\"],[1.0,\"#f0f921\"]]},\"hovermode\":\"closest\",\"hoverlabel\":{\"align\":\"left\"},\"coloraxis\":{\"colorbar\":{\"outlinewidth\":0.0,\"ticks\":\"\"}},\"geo\":{\"showland\":true,\"landcolor\":\"rgba(229, 236, 246, 1.0)\",\"showlakes\":true,\"lakecolor\":\"rgba(255, 255, 255, 1.0)\",\"subunitcolor\":\"rgba(255, 255, 255, 1.0)\",\"bgcolor\":\"rgba(255, 255, 255, 1.0)\"},\"mapbox\":{\"style\":\"light\"},\"polar\":{\"bgcolor\":\"rgba(229, 236, 246, 1.0)\",\"radialaxis\":{\"linecolor\":\"rgba(255, 255, 255, 1.0)\",\"gridcolor\":\"rgba(255, 255, 255, 1.0)\",\"ticks\":\"\"},\"angularaxis\":{\"linecolor\":\"rgba(255, 255, 255, 1.0)\",\"gridcolor\":\"rgba(255, 255, 255, 1.0)\",\"ticks\":\"\"}},\"scene\":{\"xaxis\":{\"ticks\":\"\",\"linecolor\":\"rgba(255, 255, 255, 1.0)\",\"gridcolor\":\"rgba(255, 255, 255, 1.0)\",\"gridwidth\":2.0,\"zerolinecolor\":\"rgba(255, 255, 255, 1.0)\",\"backgroundcolor\":\"rgba(229, 236, 246, 1.0)\",\"showbackground\":true},\"yaxis\":{\"ticks\":\"\",\"linecolor\":\"rgba(255, 255, 255, 1.0)\",\"gridcolor\":\"rgba(255, 255, 255, 1.0)\",\"gridwidth\":2.0,\"zerolinecolor\":\"rgba(255, 255, 255, 1.0)\",\"backgroundcolor\":\"rgba(229, 236, 246, 1.0)\",\"showbackground\":true},\"zaxis\":{\"ticks\":\"\",\"linecolor\":\"rgba(255, 255, 255, 1.0)\",\"gridcolor\":\"rgba(255, 255, 255, 1.0)\",\"gridwidth\":2.0,\"zerolinecolor\":\"rgba(255, 255, 255, 1.0)\",\"backgroundcolor\":\"rgba(229, 236, 246, 1.0)\",\"showbackground\":true}},\"ternary\":{\"aaxis\":{\"ticks\":\"\",\"linecolor\":\"rgba(255, 255, 255, 1.0)\",\"gridcolor\":\"rgba(255, 255, 255, 1.0)\"},\"baxis\":{\"ticks\":\"\",\"linecolor\":\"rgba(255, 255, 255, 1.0)\",\"gridcolor\":\"rgba(255, 255, 255, 1.0)\"},\"caxis\":{\"ticks\":\"\",\"linecolor\":\"rgba(255, 255, 255, 1.0)\",\"gridcolor\":\"rgba(255, 255, 255, 1.0)\"},\"bgcolor\":\"rgba(229, 236, 246, 1.0)\"},\"xaxis\":{\"title\":{\"standoff\":15},\"ticks\":\"\",\"automargin\":true,\"linecolor\":\"rgba(255, 255, 255, 1.0)\",\"gridcolor\":\"rgba(255, 255, 255, 1.0)\",\"zerolinecolor\":\"rgba(255, 255, 255, 1.0)\",\"zerolinewidth\":2.0},\"yaxis\":{\"title\":{\"standoff\":15},\"ticks\":\"\",\"automargin\":true,\"linecolor\":\"rgba(255, 255, 255, 1.0)\",\"gridcolor\":\"rgba(255, 255, 255, 1.0)\",\"zerolinecolor\":\"rgba(255, 255, 255, 1.0)\",\"zerolinewidth\":2.0},\"annotationdefaults\":{\"arrowcolor\":\"#2a3f5f\",\"arrowhead\":0,\"arrowwidth\":1},\"shapedefaults\":{\"line\":{\"color\":\"rgba(42, 63, 95, 1.0)\"}},\"colorway\":[\"rgba(99, 110, 250, 1.0)\",\"rgba(239, 85, 59, 1.0)\",\"rgba(0, 204, 150, 1.0)\",\"rgba(171, 99, 250, 1.0)\",\"rgba(255, 161, 90, 1.0)\",\"rgba(25, 211, 243, 1.0)\",\"rgba(255, 102, 146, 1.0)\",\"rgba(182, 232, 128, 1.0)\",\"rgba(255, 151, 255, 1.0)\",\"rgba(254, 203, 82, 1.0)\"]},\"data\":{\"bar\":[{\"marker\":{\"line\":{\"color\":\"rgba(229, 236, 246, 1.0)\",\"width\":0.5},\"pattern\":{\"fillmode\":\"overlay\",\"size\":10,\"solidity\":0.2}},\"error_x\":{\"color\":\"rgba(42, 63, 95, 1.0)\"},\"error_y\":{\"color\":\"rgba(42, 63, 95, 1.0)\"}}],\"barpolar\":[{\"marker\":{\"line\":{\"color\":\"rgba(229, 236, 246, 1.0)\",\"width\":0.5},\"pattern\":{\"fillmode\":\"overlay\",\"size\":10,\"solidity\":0.2}}}],\"carpet\":[{\"aaxis\":{\"linecolor\":\"rgba(255, 255, 255, 1.0)\",\"gridcolor\":\"rgba(255, 255, 255, 1.0)\",\"endlinecolor\":\"rgba(42, 63, 95, 1.0)\",\"minorgridcolor\":\"rgba(255, 255, 255, 1.0)\",\"startlinecolor\":\"rgba(42, 63, 95, 1.0)\"},\"baxis\":{\"linecolor\":\"rgba(255, 255, 255, 1.0)\",\"gridcolor\":\"rgba(255, 255, 255, 1.0)\",\"endlinecolor\":\"rgba(42, 63, 95, 1.0)\",\"minorgridcolor\":\"rgba(255, 255, 255, 1.0)\",\"startlinecolor\":\"rgba(42, 63, 95, 1.0)\"}}],\"choropleth\":[{\"colorbar\":{\"outlinewidth\":0.0,\"ticks\":\"\"},\"colorscale\":[[0.0,\"#0d0887\"],[0.1111111111111111,\"#46039f\"],[0.2222222222222222,\"#7201a8\"],[0.3333333333333333,\"#9c179e\"],[0.4444444444444444,\"#bd3786\"],[0.5555555555555556,\"#d8576b\"],[0.6666666666666666,\"#ed7953\"],[0.7777777777777778,\"#fb9f3a\"],[0.8888888888888888,\"#fdca26\"],[1.0,\"#f0f921\"]]}],\"contour\":[{\"colorbar\":{\"outlinewidth\":0.0,\"ticks\":\"\"},\"colorscale\":[[0.0,\"#0d0887\"],[0.1111111111111111,\"#46039f\"],[0.2222222222222222,\"#7201a8\"],[0.3333333333333333,\"#9c179e\"],[0.4444444444444444,\"#bd3786\"],[0.5555555555555556,\"#d8576b\"],[0.6666666666666666,\"#ed7953\"],[0.7777777777777778,\"#fb9f3a\"],[0.8888888888888888,\"#fdca26\"],[1.0,\"#f0f921\"]]}],\"contourcarpet\":[{\"colorbar\":{\"outlinewidth\":0.0,\"ticks\":\"\"}}],\"heatmap\":[{\"colorbar\":{\"outlinewidth\":0.0,\"ticks\":\"\"},\"colorscale\":[[0.0,\"#0d0887\"],[0.1111111111111111,\"#46039f\"],[0.2222222222222222,\"#7201a8\"],[0.3333333333333333,\"#9c179e\"],[0.4444444444444444,\"#bd3786\"],[0.5555555555555556,\"#d8576b\"],[0.6666666666666666,\"#ed7953\"],[0.7777777777777778,\"#fb9f3a\"],[0.8888888888888888,\"#fdca26\"],[1.0,\"#f0f921\"]]}],\"heatmapgl\":[{\"colorbar\":{\"outlinewidth\":0.0,\"ticks\":\"\"},\"colorscale\":[[0.0,\"#0d0887\"],[0.1111111111111111,\"#46039f\"],[0.2222222222222222,\"#7201a8\"],[0.3333333333333333,\"#9c179e\"],[0.4444444444444444,\"#bd3786\"],[0.5555555555555556,\"#d8576b\"],[0.6666666666666666,\"#ed7953\"],[0.7777777777777778,\"#fb9f3a\"],[0.8888888888888888,\"#fdca26\"],[1.0,\"#f0f921\"]]}],\"histogram\":[{\"marker\":{\"pattern\":{\"fillmode\":\"overlay\",\"size\":10,\"solidity\":0.2}}}],\"histogram2d\":[{\"colorbar\":{\"outlinewidth\":0.0,\"ticks\":\"\"},\"colorscale\":[[0.0,\"#0d0887\"],[0.1111111111111111,\"#46039f\"],[0.2222222222222222,\"#7201a8\"],[0.3333333333333333,\"#9c179e\"],[0.4444444444444444,\"#bd3786\"],[0.5555555555555556,\"#d8576b\"],[0.6666666666666666,\"#ed7953\"],[0.7777777777777778,\"#fb9f3a\"],[0.8888888888888888,\"#fdca26\"],[1.0,\"#f0f921\"]]}],\"histogram2dcontour\":[{\"colorbar\":{\"outlinewidth\":0.0,\"ticks\":\"\"},\"colorscale\":[[0.0,\"#0d0887\"],[0.1111111111111111,\"#46039f\"],[0.2222222222222222,\"#7201a8\"],[0.3333333333333333,\"#9c179e\"],[0.4444444444444444,\"#bd3786\"],[0.5555555555555556,\"#d8576b\"],[0.6666666666666666,\"#ed7953\"],[0.7777777777777778,\"#fb9f3a\"],[0.8888888888888888,\"#fdca26\"],[1.0,\"#f0f921\"]]}],\"mesh3d\":[{\"colorbar\":{\"outlinewidth\":0.0,\"ticks\":\"\"}}],\"parcoords\":[{\"line\":{\"colorbar\":{\"outlinewidth\":0.0,\"ticks\":\"\"}}}],\"pie\":[{\"automargin\":true}],\"scatter\":[{\"marker\":{\"colorbar\":{\"outlinewidth\":0.0,\"ticks\":\"\"}}}],\"scatter3d\":[{\"marker\":{\"colorbar\":{\"outlinewidth\":0.0,\"ticks\":\"\"}},\"line\":{\"colorbar\":{\"outlinewidth\":0.0,\"ticks\":\"\"}}}],\"scattercarpet\":[{\"marker\":{\"colorbar\":{\"outlinewidth\":0.0,\"ticks\":\"\"}}}],\"scattergeo\":[{\"marker\":{\"colorbar\":{\"outlinewidth\":0.0,\"ticks\":\"\"}}}],\"scattergl\":[{\"marker\":{\"colorbar\":{\"outlinewidth\":0.0,\"ticks\":\"\"}}}],\"scattermapbox\":[{\"marker\":{\"colorbar\":{\"outlinewidth\":0.0,\"ticks\":\"\"}}}],\"scatterpolar\":[{\"marker\":{\"colorbar\":{\"outlinewidth\":0.0,\"ticks\":\"\"}}}],\"scatterpolargl\":[{\"marker\":{\"colorbar\":{\"outlinewidth\":0.0,\"ticks\":\"\"}}}],\"scatterternary\":[{\"marker\":{\"colorbar\":{\"outlinewidth\":0.0,\"ticks\":\"\"}}}],\"surface\":[{\"colorbar\":{\"outlinewidth\":0.0,\"ticks\":\"\"},\"colorscale\":[[0.0,\"#0d0887\"],[0.1111111111111111,\"#46039f\"],[0.2222222222222222,\"#7201a8\"],[0.3333333333333333,\"#9c179e\"],[0.4444444444444444,\"#bd3786\"],[0.5555555555555556,\"#d8576b\"],[0.6666666666666666,\"#ed7953\"],[0.7777777777777778,\"#fb9f3a\"],[0.8888888888888888,\"#fdca26\"],[1.0,\"#f0f921\"]]}],\"table\":[{\"cells\":{\"fill\":{\"color\":\"rgba(235, 240, 248, 1.0)\"},\"line\":{\"color\":\"rgba(255, 255, 255, 1.0)\"}},\"header\":{\"fill\":{\"color\":\"rgba(200, 212, 227, 1.0)\"},\"line\":{\"color\":\"rgba(255, 255, 255, 1.0)\"}}}]}},\"xaxis\":{},\"yaxis\":{},\"xaxis2\":{},\"yaxis2\":{},\"grid\":{\"rows\":1,\"columns\":2,\"pattern\":\"independent\"}};\r\n",
              "            var config = {\"responsive\":true};\r\n",
              "            Plotly.newPlot('67e49b32-7be3-4805-8f5b-c526bc2eae74', data, layout, config);\r\n",
              "});\r\n",
              "            };\r\n",
              "            if ((typeof(requirejs) !==  typeof(Function)) || (typeof(requirejs.config) !== typeof(Function))) {\r\n",
              "                var script = document.createElement(\"script\");\r\n",
              "                script.setAttribute(\"src\", \"https://cdnjs.cloudflare.com/ajax/libs/require.js/2.3.6/require.min.js\");\r\n",
              "                script.onload = function(){\r\n",
              "                    renderPlotly_67e49b327be348058f5bc526bc2eae74();\r\n",
              "                };\r\n",
              "                document.getElementsByTagName(\"head\")[0].appendChild(script);\r\n",
              "            }\r\n",
              "            else {\r\n",
              "                renderPlotly_67e49b327be348058f5bc526bc2eae74();\r\n",
              "            }\r\n",
              "</script>\r\n",
              "\n",
              "    \n",
              "</div>    \n"
            ]
          },
          "metadata": {},
          "output_type": "display_data"
        }
      ],
      "source": [
        "[\n",
        "    samples\n",
        "    |> Array.map fst\n",
        "    |> Array.transpose\n",
        "    |> Array.map (fun numbers -> Array.average numbers, Seq.stDev numbers)\n",
        "    |> Array.unzip\n",
        "    |> fun (number,stDev) ->\n",
        "        Chart.Line (timePoints, number, LineWidth = 5)\n",
        "        |> Chart.withYErrorStyle(Array = stDev, Color = Color.fromString \"grey\")\n",
        "    samples\n",
        "    |> Array.map snd\n",
        "    |> Array.transpose\n",
        "    |> Array.map (fun numbers -> Array.average numbers, Seq.stDev numbers)\n",
        "    |> Array.unzip\n",
        "    |> fun (number,stDev) ->\n",
        "        Chart.Line (timePoints, number, LineWidth = 5)\n",
        "        |> Chart.withYErrorStyle(Array = stDev, Color = Color.fromString \"grey\")\n",
        "]\n",
        "|> Chart.Grid (1,2)\n",
        "|> Chart.withSize(1200., 600.)"
      ]
    }
  ],
  "metadata": {
    "kernelspec": {
      "display_name": ".NET (C#)",
      "language": "C#",
      "name": ".net-csharp"
    },
    "language_info": {
      "file_extension": ".cs",
      "mimetype": "text/x-csharp",
      "name": "C#",
      "pygments_lexer": "csharp",
      "version": "8.0"
    }
  },
  "nbformat": 4,
  "nbformat_minor": 4
}
