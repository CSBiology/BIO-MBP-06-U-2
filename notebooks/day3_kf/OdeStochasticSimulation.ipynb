{
  "cells": [
    {
      "cell_type": "markdown",
      "metadata": {},
      "source": [
        "# Example: Solving Ordinary Differential Equations"
      ]
    },
    {
      "cell_type": "markdown",
      "metadata": {},
      "source": [
        "In this notebook we will use Python to solve differential equations numerically."
      ]
    },
    {
      "cell_type": "code",
      "execution_count": null,
      "metadata": {
        "dotnet_interactive": {
          "language": "fsharp"
        },
        "vscode": {
          "languageId": "dotnet-interactive.fsharp"
        }
      },
      "outputs": [
        {
          "data": {
            "text/html": [
              "<div><div></div><div></div><div><strong>Installed Packages</strong><ul><li><span>FSharp.Stats, 0.4.8</span></li><li><span>FsODE, 0.0.2</span></li><li><span>Plotly.NET.Interactive, 3.0.2</span></li></ul></div></div>"
            ]
          },
          "metadata": {},
          "output_type": "display_data"
        },
        {
          "data": {
            "text/markdown": [
              "Loading extensions from `Plotly.NET.Interactive.dll`"
            ]
          },
          "metadata": {},
          "output_type": "display_data"
        }
      ],
      "source": [
        "// Import the required modules\n",
        "#r \"nuget: Plotly.NET.Interactive, 3.0.2\"\n",
        "#r \"nuget: FSharp.Stats, 0.4.8\"\n",
        "#r \"nuget: FsODE, 0.0.2\"\n",
        "\n",
        "// ... and open the required modules\n",
        "open FSharp.Stats\n",
        "open FsODE\n",
        "open FsODE.Stochastic\n",
        "open Plotly.NET"
      ]
    },
    {
      "cell_type": "markdown",
      "metadata": {},
      "source": [
        "## Stichproben aus Verteilungen\n",
        "\n",
        "Für einige Situationen kennen wir die Wahrscheinlichkeitsverteilung. Wenn die Situation zum Beispiel so aussieht, dass wir n\n",
        "unabhängige Münzwürfe machen, jeder mit der Wahrscheinlichkeit p, dass Kopf fällt, dann ist die Anzahl h\n",
        "der Köpfe binomialverteilt. Wir könnten beweisen, dass dies der Fall ist, oder es in einem Buch nachschlagen. Aber manchmal ist es zu schwierig (oder unmöglich) zu beweisen, wie die Verteilung aussieht. Daher können wir ihre Eigenschaften numerisch berechnen, indem wir eine Stichprobe aus der Verteilung nehmen. Für die Stichprobe wird ein Zufallszahlengenerator verwendet, um die Situation zu simulieren, aus der die Verteilung resultiert. Wenn Sie also die Situation kennen und einen Computer zur Hand haben, können Sie über eine Stichprobe ein Diagramm der Verteilung erhalten.\n",
        "\n",
        "Lassen Sie uns dies anhand der Binomialverteilung demonstrieren. Wir nehmen n=25\n",
        "und p=0.25 und berechnen P(h∣n,p), die Wahrscheinlichkeit, dass h Köpfe bei n Münzwürfen mit einer Wahrscheinlichkeit p für Köpfe auftreten. Wir ziehen 10, 30, 100 und 300 Stichproben und stellen sie der erwarteten Binomialverteilung gegenüber."
      ]
    },
    {
      "cell_type": "code",
      "execution_count": null,
      "metadata": {
        "dotnet_interactive": {
          "language": "fsharp"
        },
        "vscode": {
          "languageId": "dotnet-interactive.fsharp"
        }
      },
      "outputs": [
        {
          "data": {
            "text/html": [
              "\n",
              "<div>\n",
              "    <div id=\"0ec6d2db-b7e5-4fef-bf30-9fe2e31e98ca\"><!-- Plotly chart will be drawn inside this DIV --></div>\r\n",
              "<script type=\"text/javascript\">\r\n",
              "\r\n",
              "            var renderPlotly_0ec6d2dbb7e54fefbf309fe2e31e98ca = function() {\r\n",
              "            var fsharpPlotlyRequire = requirejs.config({context:'fsharp-plotly',paths:{plotly:'https://cdn.plot.ly/plotly-2.6.3.min'}}) || require;\r\n",
              "            fsharpPlotlyRequire(['plotly'], function(Plotly) {\r\n",
              "\r\n",
              "            var data = [{\"type\":\"scatter\",\"mode\":\"markers\",\"x\":[3,11,8,7,6,9,5,2,4,10],\"y\":[0.06666666666666667,0.1,0.16666666666666666,0.06666666666666667,0.16666666666666666,0.06666666666666667,0.16666666666666666,0.03333333333333333,0.13333333333333333,0.03333333333333333],\"marker\":{\"color\":\"Orange\"},\"line\":{},\"xaxis\":\"x\",\"yaxis\":\"y\"},{\"type\":\"scatter\",\"mode\":\"markers\",\"x\":[0,1,2,3,4,5,6,7,8,9,10,11,12,13,14,15,16,17,18,19,20,21,22,23,24,25],\"y\":[0.0007525434581650009,0.006271195484718762,0.025084781938915692,0.06410555384399787,0.11752684871417801,0.16453758820009692,0.182819542444813,0.1654081574502899,0.1240561180878663,0.07810940768503243,0.04165835076538414,0.018935613984275963,0.007363849882775983,0.0024546166275920002,0.0007013190364546628,0.0001714335422443791,3.571532130088355E-05,6.302703758973037E-06,9.337338902171049E-07,1.1466907423703524E-07,1.1466907423687175E-08,9.100720177515782E-10,5.51558798636467E-11,2.398081733198222E-12,6.661338147762031E-14,8.881784197001244E-16],\"marker\":{\"color\":\"Blue\",\"opacity\":0.3},\"line\":{},\"xaxis\":\"x\",\"yaxis\":\"y\"},{\"type\":\"scatter\",\"mode\":\"markers\",\"x\":[11,4,2,3,8,9,6,1,7,5,10,13],\"y\":[0.01,0.06,0.05,0.05,0.14,0.09,0.19,0.02,0.17,0.18,0.03,0.01],\"marker\":{\"color\":\"Orange\"},\"line\":{},\"xaxis\":\"x2\",\"yaxis\":\"y2\"},{\"type\":\"scatter\",\"mode\":\"markers\",\"x\":[0,1,2,3,4,5,6,7,8,9,10,11,12,13,14,15,16,17,18,19,20,21,22,23,24,25],\"y\":[0.0007525434581650009,0.006271195484718762,0.025084781938915692,0.06410555384399787,0.11752684871417801,0.16453758820009692,0.182819542444813,0.1654081574502899,0.1240561180878663,0.07810940768503243,0.04165835076538414,0.018935613984275963,0.007363849882775983,0.0024546166275920002,0.0007013190364546628,0.0001714335422443791,3.571532130088355E-05,6.302703758973037E-06,9.337338902171049E-07,1.1466907423703524E-07,1.1466907423687175E-08,9.100720177515782E-10,5.51558798636467E-11,2.398081733198222E-12,6.661338147762031E-14,8.881784197001244E-16],\"marker\":{\"color\":\"Blue\",\"opacity\":0.3},\"line\":{},\"xaxis\":\"x2\",\"yaxis\":\"y2\"},{\"type\":\"scatter\",\"mode\":\"markers\",\"x\":[5,1,4,7,2,6,10,9,8,3,11,0,12,13,14],\"y\":[0.162,0.009,0.116,0.17,0.034,0.175,0.049,0.08,0.119,0.056,0.018,0.002,0.006,0.003,0.001],\"marker\":{\"color\":\"Orange\"},\"line\":{},\"xaxis\":\"x3\",\"yaxis\":\"y3\"},{\"type\":\"scatter\",\"mode\":\"markers\",\"x\":[0,1,2,3,4,5,6,7,8,9,10,11,12,13,14,15,16,17,18,19,20,21,22,23,24,25],\"y\":[0.0007525434581650009,0.006271195484718762,0.025084781938915692,0.06410555384399787,0.11752684871417801,0.16453758820009692,0.182819542444813,0.1654081574502899,0.1240561180878663,0.07810940768503243,0.04165835076538414,0.018935613984275963,0.007363849882775983,0.0024546166275920002,0.0007013190364546628,0.0001714335422443791,3.571532130088355E-05,6.302703758973037E-06,9.337338902171049E-07,1.1466907423703524E-07,1.1466907423687175E-08,9.100720177515782E-10,5.51558798636467E-11,2.398081733198222E-12,6.661338147762031E-14,8.881784197001244E-16],\"marker\":{\"color\":\"Blue\",\"opacity\":0.3},\"line\":{},\"xaxis\":\"x3\",\"yaxis\":\"y3\"},{\"type\":\"scatter\",\"mode\":\"markers\",\"x\":[7,5,6,3,8,10,9,2,4,12,11,13,1,0,14,15],\"y\":[0.1678,0.1624,0.1757,0.0631,0.1256,0.0399,0.0801,0.0279,0.1197,0.0084,0.0188,0.0026,0.0061,0.0009,0.0009,0.0001],\"marker\":{\"color\":\"Orange\"},\"line\":{},\"xaxis\":\"x4\",\"yaxis\":\"y4\"},{\"type\":\"scatter\",\"mode\":\"markers\",\"x\":[0,1,2,3,4,5,6,7,8,9,10,11,12,13,14,15,16,17,18,19,20,21,22,23,24,25],\"y\":[0.0007525434581650009,0.006271195484718762,0.025084781938915692,0.06410555384399787,0.11752684871417801,0.16453758820009692,0.182819542444813,0.1654081574502899,0.1240561180878663,0.07810940768503243,0.04165835076538414,0.018935613984275963,0.007363849882775983,0.0024546166275920002,0.0007013190364546628,0.0001714335422443791,3.571532130088355E-05,6.302703758973037E-06,9.337338902171049E-07,1.1466907423703524E-07,1.1466907423687175E-08,9.100720177515782E-10,5.51558798636467E-11,2.398081733198222E-12,6.661338147762031E-14,8.881784197001244E-16],\"marker\":{\"color\":\"Blue\",\"opacity\":0.3},\"line\":{},\"xaxis\":\"x4\",\"yaxis\":\"y4\"}];\r\n",
              "            var layout = {\"width\":800,\"height\":800,\"template\":{\"layout\":{\"title\":{\"x\":0.05},\"font\":{\"color\":\"rgba(42, 63, 95, 1.0)\"},\"paper_bgcolor\":\"rgba(255, 255, 255, 1.0)\",\"plot_bgcolor\":\"rgba(229, 236, 246, 1.0)\",\"autotypenumbers\":\"strict\",\"colorscale\":{\"diverging\":[[0.0,\"#8e0152\"],[0.1,\"#c51b7d\"],[0.2,\"#de77ae\"],[0.3,\"#f1b6da\"],[0.4,\"#fde0ef\"],[0.5,\"#f7f7f7\"],[0.6,\"#e6f5d0\"],[0.7,\"#b8e186\"],[0.8,\"#7fbc41\"],[0.9,\"#4d9221\"],[1.0,\"#276419\"]],\"sequential\":[[0.0,\"#0d0887\"],[0.1111111111111111,\"#46039f\"],[0.2222222222222222,\"#7201a8\"],[0.3333333333333333,\"#9c179e\"],[0.4444444444444444,\"#bd3786\"],[0.5555555555555556,\"#d8576b\"],[0.6666666666666666,\"#ed7953\"],[0.7777777777777778,\"#fb9f3a\"],[0.8888888888888888,\"#fdca26\"],[1.0,\"#f0f921\"]],\"sequentialminus\":[[0.0,\"#0d0887\"],[0.1111111111111111,\"#46039f\"],[0.2222222222222222,\"#7201a8\"],[0.3333333333333333,\"#9c179e\"],[0.4444444444444444,\"#bd3786\"],[0.5555555555555556,\"#d8576b\"],[0.6666666666666666,\"#ed7953\"],[0.7777777777777778,\"#fb9f3a\"],[0.8888888888888888,\"#fdca26\"],[1.0,\"#f0f921\"]]},\"hovermode\":\"closest\",\"hoverlabel\":{\"align\":\"left\"},\"coloraxis\":{\"colorbar\":{\"outlinewidth\":0.0,\"ticks\":\"\"}},\"geo\":{\"showland\":true,\"landcolor\":\"rgba(229, 236, 246, 1.0)\",\"showlakes\":true,\"lakecolor\":\"rgba(255, 255, 255, 1.0)\",\"subunitcolor\":\"rgba(255, 255, 255, 1.0)\",\"bgcolor\":\"rgba(255, 255, 255, 1.0)\"},\"mapbox\":{\"style\":\"light\"},\"polar\":{\"bgcolor\":\"rgba(229, 236, 246, 1.0)\",\"radialaxis\":{\"linecolor\":\"rgba(255, 255, 255, 1.0)\",\"gridcolor\":\"rgba(255, 255, 255, 1.0)\",\"ticks\":\"\"},\"angularaxis\":{\"linecolor\":\"rgba(255, 255, 255, 1.0)\",\"gridcolor\":\"rgba(255, 255, 255, 1.0)\",\"ticks\":\"\"}},\"scene\":{\"xaxis\":{\"ticks\":\"\",\"linecolor\":\"rgba(255, 255, 255, 1.0)\",\"gridcolor\":\"rgba(255, 255, 255, 1.0)\",\"gridwidth\":2.0,\"zerolinecolor\":\"rgba(255, 255, 255, 1.0)\",\"backgroundcolor\":\"rgba(229, 236, 246, 1.0)\",\"showbackground\":true},\"yaxis\":{\"ticks\":\"\",\"linecolor\":\"rgba(255, 255, 255, 1.0)\",\"gridcolor\":\"rgba(255, 255, 255, 1.0)\",\"gridwidth\":2.0,\"zerolinecolor\":\"rgba(255, 255, 255, 1.0)\",\"backgroundcolor\":\"rgba(229, 236, 246, 1.0)\",\"showbackground\":true},\"zaxis\":{\"ticks\":\"\",\"linecolor\":\"rgba(255, 255, 255, 1.0)\",\"gridcolor\":\"rgba(255, 255, 255, 1.0)\",\"gridwidth\":2.0,\"zerolinecolor\":\"rgba(255, 255, 255, 1.0)\",\"backgroundcolor\":\"rgba(229, 236, 246, 1.0)\",\"showbackground\":true}},\"ternary\":{\"aaxis\":{\"ticks\":\"\",\"linecolor\":\"rgba(255, 255, 255, 1.0)\",\"gridcolor\":\"rgba(255, 255, 255, 1.0)\"},\"baxis\":{\"ticks\":\"\",\"linecolor\":\"rgba(255, 255, 255, 1.0)\",\"gridcolor\":\"rgba(255, 255, 255, 1.0)\"},\"caxis\":{\"ticks\":\"\",\"linecolor\":\"rgba(255, 255, 255, 1.0)\",\"gridcolor\":\"rgba(255, 255, 255, 1.0)\"},\"bgcolor\":\"rgba(229, 236, 246, 1.0)\"},\"xaxis\":{\"title\":{\"standoff\":15},\"ticks\":\"\",\"automargin\":true,\"linecolor\":\"rgba(255, 255, 255, 1.0)\",\"gridcolor\":\"rgba(255, 255, 255, 1.0)\",\"zerolinecolor\":\"rgba(255, 255, 255, 1.0)\",\"zerolinewidth\":2.0},\"yaxis\":{\"title\":{\"standoff\":15},\"ticks\":\"\",\"automargin\":true,\"linecolor\":\"rgba(255, 255, 255, 1.0)\",\"gridcolor\":\"rgba(255, 255, 255, 1.0)\",\"zerolinecolor\":\"rgba(255, 255, 255, 1.0)\",\"zerolinewidth\":2.0},\"annotationdefaults\":{\"arrowcolor\":\"#2a3f5f\",\"arrowhead\":0,\"arrowwidth\":1},\"shapedefaults\":{\"line\":{\"color\":\"rgba(42, 63, 95, 1.0)\"}},\"colorway\":[\"rgba(99, 110, 250, 1.0)\",\"rgba(239, 85, 59, 1.0)\",\"rgba(0, 204, 150, 1.0)\",\"rgba(171, 99, 250, 1.0)\",\"rgba(255, 161, 90, 1.0)\",\"rgba(25, 211, 243, 1.0)\",\"rgba(255, 102, 146, 1.0)\",\"rgba(182, 232, 128, 1.0)\",\"rgba(255, 151, 255, 1.0)\",\"rgba(254, 203, 82, 1.0)\"]},\"data\":{\"bar\":[{\"marker\":{\"line\":{\"color\":\"rgba(229, 236, 246, 1.0)\",\"width\":0.5},\"pattern\":{\"fillmode\":\"overlay\",\"size\":10,\"solidity\":0.2}},\"error_x\":{\"color\":\"rgba(42, 63, 95, 1.0)\"},\"error_y\":{\"color\":\"rgba(42, 63, 95, 1.0)\"}}],\"barpolar\":[{\"marker\":{\"line\":{\"color\":\"rgba(229, 236, 246, 1.0)\",\"width\":0.5},\"pattern\":{\"fillmode\":\"overlay\",\"size\":10,\"solidity\":0.2}}}],\"carpet\":[{\"aaxis\":{\"linecolor\":\"rgba(255, 255, 255, 1.0)\",\"gridcolor\":\"rgba(255, 255, 255, 1.0)\",\"endlinecolor\":\"rgba(42, 63, 95, 1.0)\",\"minorgridcolor\":\"rgba(255, 255, 255, 1.0)\",\"startlinecolor\":\"rgba(42, 63, 95, 1.0)\"},\"baxis\":{\"linecolor\":\"rgba(255, 255, 255, 1.0)\",\"gridcolor\":\"rgba(255, 255, 255, 1.0)\",\"endlinecolor\":\"rgba(42, 63, 95, 1.0)\",\"minorgridcolor\":\"rgba(255, 255, 255, 1.0)\",\"startlinecolor\":\"rgba(42, 63, 95, 1.0)\"}}],\"choropleth\":[{\"colorbar\":{\"outlinewidth\":0.0,\"ticks\":\"\"},\"colorscale\":[[0.0,\"#0d0887\"],[0.1111111111111111,\"#46039f\"],[0.2222222222222222,\"#7201a8\"],[0.3333333333333333,\"#9c179e\"],[0.4444444444444444,\"#bd3786\"],[0.5555555555555556,\"#d8576b\"],[0.6666666666666666,\"#ed7953\"],[0.7777777777777778,\"#fb9f3a\"],[0.8888888888888888,\"#fdca26\"],[1.0,\"#f0f921\"]]}],\"contour\":[{\"colorbar\":{\"outlinewidth\":0.0,\"ticks\":\"\"},\"colorscale\":[[0.0,\"#0d0887\"],[0.1111111111111111,\"#46039f\"],[0.2222222222222222,\"#7201a8\"],[0.3333333333333333,\"#9c179e\"],[0.4444444444444444,\"#bd3786\"],[0.5555555555555556,\"#d8576b\"],[0.6666666666666666,\"#ed7953\"],[0.7777777777777778,\"#fb9f3a\"],[0.8888888888888888,\"#fdca26\"],[1.0,\"#f0f921\"]]}],\"contourcarpet\":[{\"colorbar\":{\"outlinewidth\":0.0,\"ticks\":\"\"}}],\"heatmap\":[{\"colorbar\":{\"outlinewidth\":0.0,\"ticks\":\"\"},\"colorscale\":[[0.0,\"#0d0887\"],[0.1111111111111111,\"#46039f\"],[0.2222222222222222,\"#7201a8\"],[0.3333333333333333,\"#9c179e\"],[0.4444444444444444,\"#bd3786\"],[0.5555555555555556,\"#d8576b\"],[0.6666666666666666,\"#ed7953\"],[0.7777777777777778,\"#fb9f3a\"],[0.8888888888888888,\"#fdca26\"],[1.0,\"#f0f921\"]]}],\"heatmapgl\":[{\"colorbar\":{\"outlinewidth\":0.0,\"ticks\":\"\"},\"colorscale\":[[0.0,\"#0d0887\"],[0.1111111111111111,\"#46039f\"],[0.2222222222222222,\"#7201a8\"],[0.3333333333333333,\"#9c179e\"],[0.4444444444444444,\"#bd3786\"],[0.5555555555555556,\"#d8576b\"],[0.6666666666666666,\"#ed7953\"],[0.7777777777777778,\"#fb9f3a\"],[0.8888888888888888,\"#fdca26\"],[1.0,\"#f0f921\"]]}],\"histogram\":[{\"marker\":{\"pattern\":{\"fillmode\":\"overlay\",\"size\":10,\"solidity\":0.2}}}],\"histogram2d\":[{\"colorbar\":{\"outlinewidth\":0.0,\"ticks\":\"\"},\"colorscale\":[[0.0,\"#0d0887\"],[0.1111111111111111,\"#46039f\"],[0.2222222222222222,\"#7201a8\"],[0.3333333333333333,\"#9c179e\"],[0.4444444444444444,\"#bd3786\"],[0.5555555555555556,\"#d8576b\"],[0.6666666666666666,\"#ed7953\"],[0.7777777777777778,\"#fb9f3a\"],[0.8888888888888888,\"#fdca26\"],[1.0,\"#f0f921\"]]}],\"histogram2dcontour\":[{\"colorbar\":{\"outlinewidth\":0.0,\"ticks\":\"\"},\"colorscale\":[[0.0,\"#0d0887\"],[0.1111111111111111,\"#46039f\"],[0.2222222222222222,\"#7201a8\"],[0.3333333333333333,\"#9c179e\"],[0.4444444444444444,\"#bd3786\"],[0.5555555555555556,\"#d8576b\"],[0.6666666666666666,\"#ed7953\"],[0.7777777777777778,\"#fb9f3a\"],[0.8888888888888888,\"#fdca26\"],[1.0,\"#f0f921\"]]}],\"mesh3d\":[{\"colorbar\":{\"outlinewidth\":0.0,\"ticks\":\"\"}}],\"parcoords\":[{\"line\":{\"colorbar\":{\"outlinewidth\":0.0,\"ticks\":\"\"}}}],\"pie\":[{\"automargin\":true}],\"scatter\":[{\"marker\":{\"colorbar\":{\"outlinewidth\":0.0,\"ticks\":\"\"}}}],\"scatter3d\":[{\"marker\":{\"colorbar\":{\"outlinewidth\":0.0,\"ticks\":\"\"}},\"line\":{\"colorbar\":{\"outlinewidth\":0.0,\"ticks\":\"\"}}}],\"scattercarpet\":[{\"marker\":{\"colorbar\":{\"outlinewidth\":0.0,\"ticks\":\"\"}}}],\"scattergeo\":[{\"marker\":{\"colorbar\":{\"outlinewidth\":0.0,\"ticks\":\"\"}}}],\"scattergl\":[{\"marker\":{\"colorbar\":{\"outlinewidth\":0.0,\"ticks\":\"\"}}}],\"scattermapbox\":[{\"marker\":{\"colorbar\":{\"outlinewidth\":0.0,\"ticks\":\"\"}}}],\"scatterpolar\":[{\"marker\":{\"colorbar\":{\"outlinewidth\":0.0,\"ticks\":\"\"}}}],\"scatterpolargl\":[{\"marker\":{\"colorbar\":{\"outlinewidth\":0.0,\"ticks\":\"\"}}}],\"scatterternary\":[{\"marker\":{\"colorbar\":{\"outlinewidth\":0.0,\"ticks\":\"\"}}}],\"surface\":[{\"colorbar\":{\"outlinewidth\":0.0,\"ticks\":\"\"},\"colorscale\":[[0.0,\"#0d0887\"],[0.1111111111111111,\"#46039f\"],[0.2222222222222222,\"#7201a8\"],[0.3333333333333333,\"#9c179e\"],[0.4444444444444444,\"#bd3786\"],[0.5555555555555556,\"#d8576b\"],[0.6666666666666666,\"#ed7953\"],[0.7777777777777778,\"#fb9f3a\"],[0.8888888888888888,\"#fdca26\"],[1.0,\"#f0f921\"]]}],\"table\":[{\"cells\":{\"fill\":{\"color\":\"rgba(235, 240, 248, 1.0)\"},\"line\":{\"color\":\"rgba(255, 255, 255, 1.0)\"}},\"header\":{\"fill\":{\"color\":\"rgba(200, 212, 227, 1.0)\"},\"line\":{\"color\":\"rgba(255, 255, 255, 1.0)\"}}}]}},\"showlegend\":false,\"xaxis\":{\"title\":{\"text\":\"h<br>30 Stichproben\"}},\"yaxis\":{\"title\":{\"text\":\"P(h)\"}},\"xaxis2\":{\"title\":{\"text\":\"h<br>100 Stichproben\"}},\"yaxis2\":{\"title\":{\"text\":\"P(h)\"}},\"xaxis3\":{\"title\":{\"text\":\"h<br>1000 Stichproben\"}},\"yaxis3\":{\"title\":{\"text\":\"P(h)\"}},\"xaxis4\":{\"title\":{\"text\":\"h<br>10000 Stichproben\"}},\"yaxis4\":{\"title\":{\"text\":\"P(h)\"}},\"grid\":{\"rows\":2,\"columns\":2,\"pattern\":\"independent\"}};\r\n",
              "            var config = {\"responsive\":true};\r\n",
              "            Plotly.newPlot('0ec6d2db-b7e5-4fef-bf30-9fe2e31e98ca', data, layout, config);\r\n",
              "});\r\n",
              "            };\r\n",
              "            if ((typeof(requirejs) !==  typeof(Function)) || (typeof(requirejs.config) !== typeof(Function))) {\r\n",
              "                var script = document.createElement(\"script\");\r\n",
              "                script.setAttribute(\"src\", \"https://cdnjs.cloudflare.com/ajax/libs/require.js/2.3.6/require.min.js\");\r\n",
              "                script.onload = function(){\r\n",
              "                    renderPlotly_0ec6d2dbb7e54fefbf309fe2e31e98ca();\r\n",
              "                };\r\n",
              "                document.getElementsByTagName(\"head\")[0].appendChild(script);\r\n",
              "            }\r\n",
              "            else {\r\n",
              "                renderPlotly_0ec6d2dbb7e54fefbf309fe2e31e98ca();\r\n",
              "            }\r\n",
              "</script>\r\n",
              "\n",
              "    \n",
              "</div>    \n"
            ]
          },
          "metadata": {},
          "output_type": "display_data"
        }
      ],
      "source": [
        "let stichproben = [|30;100;1000;10000|]\n",
        "let n = 25\n",
        "let p = 0.25\n",
        "\n",
        "let binomialverteilung = Distributions.Discrete.Binomial.Init 0.25 25\n",
        "\n",
        "let binomialPunkte =\n",
        "    [|0 .. 25|]\n",
        "    |> Array.map (fun x -> x,binomialverteilung.PMF x)\n",
        "\n",
        "stichproben\n",
        "|> Array.map (fun s ->\n",
        "    [\n",
        "        simulateCoinflips n p s\n",
        "        |> Array.countBy id\n",
        "        |> Array.map (fun (heads,count) -> heads, float count/ float s)\n",
        "        |> Chart.Point\n",
        "        |> Chart.withMarkerStyle(Color = Color.fromString \"Orange\")\n",
        "        binomialPunkte\n",
        "        |> Chart.Point\n",
        "        |> Chart.withMarkerStyle(Color = Color.fromString \"Blue\", Opacity = 0.3)\n",
        "    ]\n",
        "    |> Chart.combine\n",
        "    |> Chart.withLegend false\n",
        "    |> Chart.withXAxisStyle(TitleText = $\"h<br>{s} Stichproben\")\n",
        "    |> Chart.withYAxisStyle(TitleText = \"P(h)\")\n",
        ")\n",
        "|> Chart.Grid(2,2)\n",
        "|> Chart.withSize (800,800)"
      ]
    },
    {
      "cell_type": "markdown",
      "metadata": {},
      "source": [
        "### Aufgabe\n",
        "\n",
        "Die meisten Münzen haben eine Wahrscheinlichkeit von p=0.5 für Kopf. Simulieren Sie diese Situation wie wie oben gezeigt und vergleichen Sie die Verteilungen aus den unterschiedlichen Stichprobenzahlen mit der tatsächlichen Binomialverteilung."
      ]
    },
    {
      "cell_type": "code",
      "execution_count": null,
      "metadata": {
        "dotnet_interactive": {
          "language": "fsharp"
        },
        "vscode": {
          "languageId": "dotnet-interactive.fsharp"
        }
      },
      "outputs": [
        {
          "data": {
            "text/html": [
              "\n",
              "<div>\n",
              "    <div id=\"df62b31f-4ed6-4f34-b64b-4fb2e8055257\"><!-- Plotly chart will be drawn inside this DIV --></div>\r\n",
              "<script type=\"text/javascript\">\r\n",
              "\r\n",
              "            var renderPlotly_df62b31f4ed64f34b64b4fb2e8055257 = function() {\r\n",
              "            var fsharpPlotlyRequire = requirejs.config({context:'fsharp-plotly',paths:{plotly:'https://cdn.plot.ly/plotly-2.6.3.min'}}) || require;\r\n",
              "            fsharpPlotlyRequire(['plotly'], function(Plotly) {\r\n",
              "\r\n",
              "            var data = [{\"type\":\"scatter\",\"mode\":\"markers\",\"x\":[12,13,15,8,11,9,10,14,18,7],\"y\":[0.16666666666666666,0.13333333333333333,0.16666666666666666,0.06666666666666667,0.16666666666666666,0.06666666666666667,0.06666666666666667,0.1,0.03333333333333333,0.03333333333333333],\"marker\":{\"color\":\"Orange\"},\"line\":{},\"xaxis\":\"x\",\"yaxis\":\"y\"},{\"type\":\"scatter\",\"mode\":\"markers\",\"x\":[0,1,2,3,4,5,6,7,8,9,10,11,12,13,14,15,16,17,18,19,20,21,22,23,24,25],\"y\":[2.98023223876953E-08,7.450580596936228E-07,8.940696716337938E-06,6.854534149203345E-05,0.000376999378206768,0.0015833973884708055,0.005277991294910222,0.014325976371918308,0.032233446836854855,0.06088539958078794,0.0974166393293392,0.1328408718128082,0.1549810171149857,0.1549810171149857,0.13284087181280774,0.09741663932933901,0.06088539958078794,0.032233446836854855,0.014325976371918282,0.005277991294910222,0.0015833973884708055,0.0003769993782067666,6.854534149203345E-05,8.94069671633797E-06,7.450580596936228E-07,2.98023223876953E-08],\"marker\":{\"color\":\"Blue\",\"opacity\":0.3},\"line\":{},\"xaxis\":\"x\",\"yaxis\":\"y\"},{\"type\":\"scatter\",\"mode\":\"markers\",\"x\":[17,11,14,13,15,8,16,10,12,9,5,7,18],\"y\":[0.05,0.17,0.17,0.11,0.09,0.04,0.06,0.07,0.11,0.06,0.02,0.02,0.03],\"marker\":{\"color\":\"Orange\"},\"line\":{},\"xaxis\":\"x2\",\"yaxis\":\"y2\"},{\"type\":\"scatter\",\"mode\":\"markers\",\"x\":[0,1,2,3,4,5,6,7,8,9,10,11,12,13,14,15,16,17,18,19,20,21,22,23,24,25],\"y\":[2.98023223876953E-08,7.450580596936228E-07,8.940696716337938E-06,6.854534149203345E-05,0.000376999378206768,0.0015833973884708055,0.005277991294910222,0.014325976371918308,0.032233446836854855,0.06088539958078794,0.0974166393293392,0.1328408718128082,0.1549810171149857,0.1549810171149857,0.13284087181280774,0.09741663932933901,0.06088539958078794,0.032233446836854855,0.014325976371918282,0.005277991294910222,0.0015833973884708055,0.0003769993782067666,6.854534149203345E-05,8.94069671633797E-06,7.450580596936228E-07,2.98023223876953E-08],\"marker\":{\"color\":\"Blue\",\"opacity\":0.3},\"line\":{},\"xaxis\":\"x2\",\"yaxis\":\"y2\"},{\"type\":\"scatter\",\"mode\":\"markers\",\"x\":[17,14,8,13,10,11,15,12,9,16,20,19,7,18,6,3],\"y\":[0.025,0.139,0.039,0.145,0.113,0.126,0.085,0.151,0.065,0.063,0.002,0.01,0.011,0.018,0.007,0.001],\"marker\":{\"color\":\"Orange\"},\"line\":{},\"xaxis\":\"x3\",\"yaxis\":\"y3\"},{\"type\":\"scatter\",\"mode\":\"markers\",\"x\":[0,1,2,3,4,5,6,7,8,9,10,11,12,13,14,15,16,17,18,19,20,21,22,23,24,25],\"y\":[2.98023223876953E-08,7.450580596936228E-07,8.940696716337938E-06,6.854534149203345E-05,0.000376999378206768,0.0015833973884708055,0.005277991294910222,0.014325976371918308,0.032233446836854855,0.06088539958078794,0.0974166393293392,0.1328408718128082,0.1549810171149857,0.1549810171149857,0.13284087181280774,0.09741663932933901,0.06088539958078794,0.032233446836854855,0.014325976371918282,0.005277991294910222,0.0015833973884708055,0.0003769993782067666,6.854534149203345E-05,8.94069671633797E-06,7.450580596936228E-07,2.98023223876953E-08],\"marker\":{\"color\":\"Blue\",\"opacity\":0.3},\"line\":{},\"xaxis\":\"x3\",\"yaxis\":\"y3\"},{\"type\":\"scatter\",\"mode\":\"markers\",\"x\":[10,14,12,16,15,7,13,9,11,4,18,17,19,8,6,20,21,5],\"y\":[0.0932,0.1369,0.1504,0.0627,0.0996,0.0148,0.158,0.0582,0.1346,0.0004,0.0145,0.0291,0.005,0.0335,0.005,0.0016,0.0004,0.0021],\"marker\":{\"color\":\"Orange\"},\"line\":{},\"xaxis\":\"x4\",\"yaxis\":\"y4\"},{\"type\":\"scatter\",\"mode\":\"markers\",\"x\":[0,1,2,3,4,5,6,7,8,9,10,11,12,13,14,15,16,17,18,19,20,21,22,23,24,25],\"y\":[2.98023223876953E-08,7.450580596936228E-07,8.940696716337938E-06,6.854534149203345E-05,0.000376999378206768,0.0015833973884708055,0.005277991294910222,0.014325976371918308,0.032233446836854855,0.06088539958078794,0.0974166393293392,0.1328408718128082,0.1549810171149857,0.1549810171149857,0.13284087181280774,0.09741663932933901,0.06088539958078794,0.032233446836854855,0.014325976371918282,0.005277991294910222,0.0015833973884708055,0.0003769993782067666,6.854534149203345E-05,8.94069671633797E-06,7.450580596936228E-07,2.98023223876953E-08],\"marker\":{\"color\":\"Blue\",\"opacity\":0.3},\"line\":{},\"xaxis\":\"x4\",\"yaxis\":\"y4\"}];\r\n",
              "            var layout = {\"width\":800,\"height\":800,\"template\":{\"layout\":{\"title\":{\"x\":0.05},\"font\":{\"color\":\"rgba(42, 63, 95, 1.0)\"},\"paper_bgcolor\":\"rgba(255, 255, 255, 1.0)\",\"plot_bgcolor\":\"rgba(229, 236, 246, 1.0)\",\"autotypenumbers\":\"strict\",\"colorscale\":{\"diverging\":[[0.0,\"#8e0152\"],[0.1,\"#c51b7d\"],[0.2,\"#de77ae\"],[0.3,\"#f1b6da\"],[0.4,\"#fde0ef\"],[0.5,\"#f7f7f7\"],[0.6,\"#e6f5d0\"],[0.7,\"#b8e186\"],[0.8,\"#7fbc41\"],[0.9,\"#4d9221\"],[1.0,\"#276419\"]],\"sequential\":[[0.0,\"#0d0887\"],[0.1111111111111111,\"#46039f\"],[0.2222222222222222,\"#7201a8\"],[0.3333333333333333,\"#9c179e\"],[0.4444444444444444,\"#bd3786\"],[0.5555555555555556,\"#d8576b\"],[0.6666666666666666,\"#ed7953\"],[0.7777777777777778,\"#fb9f3a\"],[0.8888888888888888,\"#fdca26\"],[1.0,\"#f0f921\"]],\"sequentialminus\":[[0.0,\"#0d0887\"],[0.1111111111111111,\"#46039f\"],[0.2222222222222222,\"#7201a8\"],[0.3333333333333333,\"#9c179e\"],[0.4444444444444444,\"#bd3786\"],[0.5555555555555556,\"#d8576b\"],[0.6666666666666666,\"#ed7953\"],[0.7777777777777778,\"#fb9f3a\"],[0.8888888888888888,\"#fdca26\"],[1.0,\"#f0f921\"]]},\"hovermode\":\"closest\",\"hoverlabel\":{\"align\":\"left\"},\"coloraxis\":{\"colorbar\":{\"outlinewidth\":0.0,\"ticks\":\"\"}},\"geo\":{\"showland\":true,\"landcolor\":\"rgba(229, 236, 246, 1.0)\",\"showlakes\":true,\"lakecolor\":\"rgba(255, 255, 255, 1.0)\",\"subunitcolor\":\"rgba(255, 255, 255, 1.0)\",\"bgcolor\":\"rgba(255, 255, 255, 1.0)\"},\"mapbox\":{\"style\":\"light\"},\"polar\":{\"bgcolor\":\"rgba(229, 236, 246, 1.0)\",\"radialaxis\":{\"linecolor\":\"rgba(255, 255, 255, 1.0)\",\"gridcolor\":\"rgba(255, 255, 255, 1.0)\",\"ticks\":\"\"},\"angularaxis\":{\"linecolor\":\"rgba(255, 255, 255, 1.0)\",\"gridcolor\":\"rgba(255, 255, 255, 1.0)\",\"ticks\":\"\"}},\"scene\":{\"xaxis\":{\"ticks\":\"\",\"linecolor\":\"rgba(255, 255, 255, 1.0)\",\"gridcolor\":\"rgba(255, 255, 255, 1.0)\",\"gridwidth\":2.0,\"zerolinecolor\":\"rgba(255, 255, 255, 1.0)\",\"backgroundcolor\":\"rgba(229, 236, 246, 1.0)\",\"showbackground\":true},\"yaxis\":{\"ticks\":\"\",\"linecolor\":\"rgba(255, 255, 255, 1.0)\",\"gridcolor\":\"rgba(255, 255, 255, 1.0)\",\"gridwidth\":2.0,\"zerolinecolor\":\"rgba(255, 255, 255, 1.0)\",\"backgroundcolor\":\"rgba(229, 236, 246, 1.0)\",\"showbackground\":true},\"zaxis\":{\"ticks\":\"\",\"linecolor\":\"rgba(255, 255, 255, 1.0)\",\"gridcolor\":\"rgba(255, 255, 255, 1.0)\",\"gridwidth\":2.0,\"zerolinecolor\":\"rgba(255, 255, 255, 1.0)\",\"backgroundcolor\":\"rgba(229, 236, 246, 1.0)\",\"showbackground\":true}},\"ternary\":{\"aaxis\":{\"ticks\":\"\",\"linecolor\":\"rgba(255, 255, 255, 1.0)\",\"gridcolor\":\"rgba(255, 255, 255, 1.0)\"},\"baxis\":{\"ticks\":\"\",\"linecolor\":\"rgba(255, 255, 255, 1.0)\",\"gridcolor\":\"rgba(255, 255, 255, 1.0)\"},\"caxis\":{\"ticks\":\"\",\"linecolor\":\"rgba(255, 255, 255, 1.0)\",\"gridcolor\":\"rgba(255, 255, 255, 1.0)\"},\"bgcolor\":\"rgba(229, 236, 246, 1.0)\"},\"xaxis\":{\"title\":{\"standoff\":15},\"ticks\":\"\",\"automargin\":true,\"linecolor\":\"rgba(255, 255, 255, 1.0)\",\"gridcolor\":\"rgba(255, 255, 255, 1.0)\",\"zerolinecolor\":\"rgba(255, 255, 255, 1.0)\",\"zerolinewidth\":2.0},\"yaxis\":{\"title\":{\"standoff\":15},\"ticks\":\"\",\"automargin\":true,\"linecolor\":\"rgba(255, 255, 255, 1.0)\",\"gridcolor\":\"rgba(255, 255, 255, 1.0)\",\"zerolinecolor\":\"rgba(255, 255, 255, 1.0)\",\"zerolinewidth\":2.0},\"annotationdefaults\":{\"arrowcolor\":\"#2a3f5f\",\"arrowhead\":0,\"arrowwidth\":1},\"shapedefaults\":{\"line\":{\"color\":\"rgba(42, 63, 95, 1.0)\"}},\"colorway\":[\"rgba(99, 110, 250, 1.0)\",\"rgba(239, 85, 59, 1.0)\",\"rgba(0, 204, 150, 1.0)\",\"rgba(171, 99, 250, 1.0)\",\"rgba(255, 161, 90, 1.0)\",\"rgba(25, 211, 243, 1.0)\",\"rgba(255, 102, 146, 1.0)\",\"rgba(182, 232, 128, 1.0)\",\"rgba(255, 151, 255, 1.0)\",\"rgba(254, 203, 82, 1.0)\"]},\"data\":{\"bar\":[{\"marker\":{\"line\":{\"color\":\"rgba(229, 236, 246, 1.0)\",\"width\":0.5},\"pattern\":{\"fillmode\":\"overlay\",\"size\":10,\"solidity\":0.2}},\"error_x\":{\"color\":\"rgba(42, 63, 95, 1.0)\"},\"error_y\":{\"color\":\"rgba(42, 63, 95, 1.0)\"}}],\"barpolar\":[{\"marker\":{\"line\":{\"color\":\"rgba(229, 236, 246, 1.0)\",\"width\":0.5},\"pattern\":{\"fillmode\":\"overlay\",\"size\":10,\"solidity\":0.2}}}],\"carpet\":[{\"aaxis\":{\"linecolor\":\"rgba(255, 255, 255, 1.0)\",\"gridcolor\":\"rgba(255, 255, 255, 1.0)\",\"endlinecolor\":\"rgba(42, 63, 95, 1.0)\",\"minorgridcolor\":\"rgba(255, 255, 255, 1.0)\",\"startlinecolor\":\"rgba(42, 63, 95, 1.0)\"},\"baxis\":{\"linecolor\":\"rgba(255, 255, 255, 1.0)\",\"gridcolor\":\"rgba(255, 255, 255, 1.0)\",\"endlinecolor\":\"rgba(42, 63, 95, 1.0)\",\"minorgridcolor\":\"rgba(255, 255, 255, 1.0)\",\"startlinecolor\":\"rgba(42, 63, 95, 1.0)\"}}],\"choropleth\":[{\"colorbar\":{\"outlinewidth\":0.0,\"ticks\":\"\"},\"colorscale\":[[0.0,\"#0d0887\"],[0.1111111111111111,\"#46039f\"],[0.2222222222222222,\"#7201a8\"],[0.3333333333333333,\"#9c179e\"],[0.4444444444444444,\"#bd3786\"],[0.5555555555555556,\"#d8576b\"],[0.6666666666666666,\"#ed7953\"],[0.7777777777777778,\"#fb9f3a\"],[0.8888888888888888,\"#fdca26\"],[1.0,\"#f0f921\"]]}],\"contour\":[{\"colorbar\":{\"outlinewidth\":0.0,\"ticks\":\"\"},\"colorscale\":[[0.0,\"#0d0887\"],[0.1111111111111111,\"#46039f\"],[0.2222222222222222,\"#7201a8\"],[0.3333333333333333,\"#9c179e\"],[0.4444444444444444,\"#bd3786\"],[0.5555555555555556,\"#d8576b\"],[0.6666666666666666,\"#ed7953\"],[0.7777777777777778,\"#fb9f3a\"],[0.8888888888888888,\"#fdca26\"],[1.0,\"#f0f921\"]]}],\"contourcarpet\":[{\"colorbar\":{\"outlinewidth\":0.0,\"ticks\":\"\"}}],\"heatmap\":[{\"colorbar\":{\"outlinewidth\":0.0,\"ticks\":\"\"},\"colorscale\":[[0.0,\"#0d0887\"],[0.1111111111111111,\"#46039f\"],[0.2222222222222222,\"#7201a8\"],[0.3333333333333333,\"#9c179e\"],[0.4444444444444444,\"#bd3786\"],[0.5555555555555556,\"#d8576b\"],[0.6666666666666666,\"#ed7953\"],[0.7777777777777778,\"#fb9f3a\"],[0.8888888888888888,\"#fdca26\"],[1.0,\"#f0f921\"]]}],\"heatmapgl\":[{\"colorbar\":{\"outlinewidth\":0.0,\"ticks\":\"\"},\"colorscale\":[[0.0,\"#0d0887\"],[0.1111111111111111,\"#46039f\"],[0.2222222222222222,\"#7201a8\"],[0.3333333333333333,\"#9c179e\"],[0.4444444444444444,\"#bd3786\"],[0.5555555555555556,\"#d8576b\"],[0.6666666666666666,\"#ed7953\"],[0.7777777777777778,\"#fb9f3a\"],[0.8888888888888888,\"#fdca26\"],[1.0,\"#f0f921\"]]}],\"histogram\":[{\"marker\":{\"pattern\":{\"fillmode\":\"overlay\",\"size\":10,\"solidity\":0.2}}}],\"histogram2d\":[{\"colorbar\":{\"outlinewidth\":0.0,\"ticks\":\"\"},\"colorscale\":[[0.0,\"#0d0887\"],[0.1111111111111111,\"#46039f\"],[0.2222222222222222,\"#7201a8\"],[0.3333333333333333,\"#9c179e\"],[0.4444444444444444,\"#bd3786\"],[0.5555555555555556,\"#d8576b\"],[0.6666666666666666,\"#ed7953\"],[0.7777777777777778,\"#fb9f3a\"],[0.8888888888888888,\"#fdca26\"],[1.0,\"#f0f921\"]]}],\"histogram2dcontour\":[{\"colorbar\":{\"outlinewidth\":0.0,\"ticks\":\"\"},\"colorscale\":[[0.0,\"#0d0887\"],[0.1111111111111111,\"#46039f\"],[0.2222222222222222,\"#7201a8\"],[0.3333333333333333,\"#9c179e\"],[0.4444444444444444,\"#bd3786\"],[0.5555555555555556,\"#d8576b\"],[0.6666666666666666,\"#ed7953\"],[0.7777777777777778,\"#fb9f3a\"],[0.8888888888888888,\"#fdca26\"],[1.0,\"#f0f921\"]]}],\"mesh3d\":[{\"colorbar\":{\"outlinewidth\":0.0,\"ticks\":\"\"}}],\"parcoords\":[{\"line\":{\"colorbar\":{\"outlinewidth\":0.0,\"ticks\":\"\"}}}],\"pie\":[{\"automargin\":true}],\"scatter\":[{\"marker\":{\"colorbar\":{\"outlinewidth\":0.0,\"ticks\":\"\"}}}],\"scatter3d\":[{\"marker\":{\"colorbar\":{\"outlinewidth\":0.0,\"ticks\":\"\"}},\"line\":{\"colorbar\":{\"outlinewidth\":0.0,\"ticks\":\"\"}}}],\"scattercarpet\":[{\"marker\":{\"colorbar\":{\"outlinewidth\":0.0,\"ticks\":\"\"}}}],\"scattergeo\":[{\"marker\":{\"colorbar\":{\"outlinewidth\":0.0,\"ticks\":\"\"}}}],\"scattergl\":[{\"marker\":{\"colorbar\":{\"outlinewidth\":0.0,\"ticks\":\"\"}}}],\"scattermapbox\":[{\"marker\":{\"colorbar\":{\"outlinewidth\":0.0,\"ticks\":\"\"}}}],\"scatterpolar\":[{\"marker\":{\"colorbar\":{\"outlinewidth\":0.0,\"ticks\":\"\"}}}],\"scatterpolargl\":[{\"marker\":{\"colorbar\":{\"outlinewidth\":0.0,\"ticks\":\"\"}}}],\"scatterternary\":[{\"marker\":{\"colorbar\":{\"outlinewidth\":0.0,\"ticks\":\"\"}}}],\"surface\":[{\"colorbar\":{\"outlinewidth\":0.0,\"ticks\":\"\"},\"colorscale\":[[0.0,\"#0d0887\"],[0.1111111111111111,\"#46039f\"],[0.2222222222222222,\"#7201a8\"],[0.3333333333333333,\"#9c179e\"],[0.4444444444444444,\"#bd3786\"],[0.5555555555555556,\"#d8576b\"],[0.6666666666666666,\"#ed7953\"],[0.7777777777777778,\"#fb9f3a\"],[0.8888888888888888,\"#fdca26\"],[1.0,\"#f0f921\"]]}],\"table\":[{\"cells\":{\"fill\":{\"color\":\"rgba(235, 240, 248, 1.0)\"},\"line\":{\"color\":\"rgba(255, 255, 255, 1.0)\"}},\"header\":{\"fill\":{\"color\":\"rgba(200, 212, 227, 1.0)\"},\"line\":{\"color\":\"rgba(255, 255, 255, 1.0)\"}}}]}},\"showlegend\":false,\"xaxis\":{\"title\":{\"text\":\"h<br>30 Stichproben\"}},\"yaxis\":{\"title\":{\"text\":\"P(h)\"}},\"xaxis2\":{\"title\":{\"text\":\"h<br>100 Stichproben\"}},\"yaxis2\":{\"title\":{\"text\":\"P(h)\"}},\"xaxis3\":{\"title\":{\"text\":\"h<br>1000 Stichproben\"}},\"yaxis3\":{\"title\":{\"text\":\"P(h)\"}},\"xaxis4\":{\"title\":{\"text\":\"h<br>10000 Stichproben\"}},\"yaxis4\":{\"title\":{\"text\":\"P(h)\"}},\"grid\":{\"rows\":2,\"columns\":2,\"pattern\":\"independent\"}};\r\n",
              "            var config = {\"responsive\":true};\r\n",
              "            Plotly.newPlot('df62b31f-4ed6-4f34-b64b-4fb2e8055257', data, layout, config);\r\n",
              "});\r\n",
              "            };\r\n",
              "            if ((typeof(requirejs) !==  typeof(Function)) || (typeof(requirejs.config) !== typeof(Function))) {\r\n",
              "                var script = document.createElement(\"script\");\r\n",
              "                script.setAttribute(\"src\", \"https://cdnjs.cloudflare.com/ajax/libs/require.js/2.3.6/require.min.js\");\r\n",
              "                script.onload = function(){\r\n",
              "                    renderPlotly_df62b31f4ed64f34b64b4fb2e8055257();\r\n",
              "                };\r\n",
              "                document.getElementsByTagName(\"head\")[0].appendChild(script);\r\n",
              "            }\r\n",
              "            else {\r\n",
              "                renderPlotly_df62b31f4ed64f34b64b4fb2e8055257();\r\n",
              "            }\r\n",
              "</script>\r\n",
              "\n",
              "    \n",
              "</div>    \n"
            ]
          },
          "metadata": {},
          "output_type": "display_data"
        }
      ],
      "source": [
        "// Kopieren sie den benötigten Code aus dem vorherigen Codeblock\n",
        "let stichproben = [|30;100;1000;10000|]\n",
        "let n = 25\n",
        "let p = 0.5\n",
        "\n",
        "let binomialverteilung = Distributions.Discrete.Binomial.Init 0.5 25\n",
        "let binomialPunkte =\n",
        "    [|0 .. 25|]\n",
        "    |> Array.map (fun x -> x,binomialverteilung.PMF x)\n",
        "\n",
        "stichproben\n",
        "|> Array.map (fun s ->\n",
        "    [\n",
        "        simulateCoinflips n p s\n",
        "        |> Array.countBy id\n",
        "        |> Array.map (fun (heads,count) -> heads, float count/ float s)\n",
        "        |> Chart.Point\n",
        "        |> Chart.withMarkerStyle(Color = Color.fromString \"Orange\")\n",
        "        binomialPunkte\n",
        "        |> Chart.Point\n",
        "        |> Chart.withMarkerStyle(Color = Color.fromString \"Blue\", Opacity = 0.3)\n",
        "    ]\n",
        "    |> Chart.combine\n",
        "    |> Chart.withLegend false\n",
        "    |> Chart.withXAxisStyle(TitleText = $\"h<br>{s} Stichproben\")\n",
        "    |> Chart.withYAxisStyle(TitleText = \"P(h)\")\n",
        ")\n",
        "|> Chart.Grid(2,2)\n",
        "|> Chart.withSize (800,800)"
      ]
    },
    {
      "cell_type": "markdown",
      "metadata": {},
      "source": [
        "Wie wir sehen, können wir die tatsächliche Verteilung annähernd berechnen, wenn wir eine Stichprobe aus der Wahrscheinlichkeitsverteilung ziehen. Je mehr Stichproben wir nehmen, desto besser wird die Annäherung.\n",
        "Stichproben sind eine so leistungsfähige Strategie, dass hocheffiziente Algorithmen mit praktischen APIs entwickelt wurden, um Stichproben aus benannten Wahrscheinlichkeitsverteilungen zu ziehen. Wir hätten zum Beispiel `binomialverteilung.Sample()` als einfachen (und viel effizienteren) Ersatz für die obige Funktion `simulateCoinflips` verwenden können.\n",
        "\n",
        "Wir werden die gleiche Strategie für die Lösung von stochastischen Gleichungssystemen verwenden. Wir werden eine stochastische Methode verwenden, um eine Stichprobe aus der Verteilung zu ziehen, die von dem Gleichungssystem beschrieben wird. Diese Methode wurde in den letzten 70er Jahren von Dan Gillespie entwickelt. Aus diesem Grund werden diese Stichprobenverfahren oft als Gillespie-Simulationen bezeichnet. Der Algorithmus wird manchmal auch als stochastischer Simulationsalgorithmus oder SSA bezeichnet.\n",
        "\n",
        "Im Folgenden werden wir die Funktionsweise dieses Algorithmus anhand der einfachen Produktion eines Proteins untersuchen.\n",
        "\n",
        "## Simulieren des stochastischen Gleichungssystems\n",
        "\n",
        "Für die einfache Proteinproduktion gibt es die folgende Reaktion:\n",
        "\n",
        "DNA→mRNA→Protein\n",
        "\n",
        "Wir haben bereits vorher die Proteinproduktion mit Hilfe von Differentialgleichungen simuliert. Das Ergebnis davon ist jedoch nicht für jeden Fall anwendbar. Was wir bei dieser Simulation gesehen haben, ist der Mittelwert der Produktion bei einer großen Zahl an Reaktionen. Sobald aber stochastische Effekte eine größere Rolle spielen (z.B. das Gesetz der großen Zahlen nicht anwendbar ist und mit wenig Reaktionen gearbeitet wird), sind stochastische Simulationen eine geeignetere Methode.\n",
        "\n",
        "## Anwenden der Gillespie Simulation\n",
        "\n",
        "Um die Gillespie-Simulation zu verwenden, erstellen wir zunächst ein Array, das die Änderungen in den Zahlen von mRNA (m)\n",
        "und Protein (p) für jede der vier möglichen Reaktionen enthält. Auf diese Art und Weise werden die Aktualisierungen der Teilchenzahlen kodiert, die wir durch die Wahl der jeweiligen Zustandsänderungen erhalten."
      ]
    },
    {
      "cell_type": "code",
      "execution_count": null,
      "metadata": {
        "dotnet_interactive": {
          "language": "fsharp"
        },
        "vscode": {
          "languageId": "dotnet-interactive.fsharp"
        }
      },
      "outputs": [],
      "source": [
        "// Index 0 repräsentiert Änderung bei mRNA (m), Index 1 repräsentiert Änderung bei Protein (p)\n",
        "let simpleUpdate =\n",
        "    [|\n",
        "        1., 0.;  // Make mRNA transcript\n",
        "        -1., 0.; // Degrade mRNA\n",
        "        0., 1.;  // Make protein\n",
        "        0., -1.  // Degrade protein\n",
        "    |]"
      ]
    },
    {
      "cell_type": "markdown",
      "metadata": {},
      "source": [
        "Zusätzlich benötigen wir die Übergangswahrscheinlichkeiten der Zustandsänderungen. Die Übergangswahrscheinlichkeiten werden im Rahmen der stochastischen Simulation auch als Propensities bezeichnet.\n",
        "Dafür erstellen wir eine Funktion, die das Array der Propensities für jede der vier Reaktionen aktualisiert. Wir aktualisieren die Propensities (die als Argument an die Funktion übergeben werden), anstatt sie zu instanziieren und zurückzugeben, um bei der Ausführung des Codes Speicherplatz zu sparen. Sie wird eine Funktion der aktuellen Anzahl von Molekülen sein. Im Allgemeinen kann sie auch eine Funktion der Zeit sein, daher berücksichtigen wir ausdrücklich auch die Zeitabhängigkeit (auch wenn wir sie in diesem einfachen Beispiel nicht verwenden)."
      ]
    },
    {
      "cell_type": "code",
      "execution_count": null,
      "metadata": {
        "dotnet_interactive": {
          "language": "fsharp"
        },
        "vscode": {
          "languageId": "dotnet-interactive.fsharp"
        }
      },
      "outputs": [],
      "source": [
        "//Updates einen Array von Propensities abhängig von den Parametern und der Population\n",
        "let simplePropensities (propensities: float []) population t beta_m beta_p gamma =\n",
        "    let m,p = population\n",
        "    propensities.[0] <- beta_m     // Make mRNA transcript\n",
        "    propensities.[1] <- m          // Degrade mRNA\n",
        "    propensities.[2] <- beta_p * m // Make protein\n",
        "    propensities.[3] <- gamma * p  // Degrade protein"
      ]
    },
    {
      "cell_type": "markdown",
      "metadata": {},
      "source": [
        "## \"Ziehen\" einer Reaktion\n",
        "\n",
        "Anschließend brauchen wir eine allgemeine Funktion, die eine bestimmte Reaktion und das Zeitintervall für diese Reaktion zieht. Um das Zeitintervall zu bestimmen, ziehen wir zunächst eine Zufallszahl aus einer Exponentialverteilung.\n",
        "Als nächstes müssen wir auswählen, welche Reaktion stattfinden soll. Das läuft darauf hinaus, eine Stichprobe aus einer diskreten Verteilung zu ziehen.\n",
        "Dabei ist die Wahrscheinlichkeit jeder Reaktion proportional zu ihrer Propensity."
      ]
    },
    {
      "cell_type": "markdown",
      "metadata": {},
      "source": [
        "Hier können sie die dafür verwendete Funktion ausprobieren. Die Funktion gibt mit der an dem jeweiligen Index angegebenen Wahrscheinlichkeit den Index bei Aufruf der Funktion zurück."
      ]
    },
    {
      "cell_type": "code",
      "execution_count": null,
      "metadata": {
        "dotnet_interactive": {
          "language": "fsharp"
        },
        "vscode": {
          "languageId": "dotnet-interactive.fsharp"
        }
      },
      "outputs": [
        {
          "data": {
            "text/html": [
              "<div class=\"dni-plaintext\">2</div>"
            ]
          },
          "metadata": {},
          "output_type": "display_data"
        }
      ],
      "source": [
        "// Make dummy probs\n",
        "let probs = [|0.1;0.3;0.4;0.05;0.15|]\n",
        "sampleDiscrete probs"
      ]
    },
    {
      "cell_type": "markdown",
      "metadata": {},
      "source": [
        "### Aufgabe\n",
        "\n",
        "Führen sie die Funktion `sampleDiscrete` mit Wahrscheinlichkeiten Ihrer Wahl mehrfach aus. Stimmen die Ziehungen der Indices mit den Angegeben Wahrscheinlichkeiten überein?"
      ]
    },
    {
      "cell_type": "code",
      "execution_count": null,
      "metadata": {
        "dotnet_interactive": {
          "language": "fsharp"
        },
        "vscode": {
          "languageId": "dotnet-interactive.fsharp"
        }
      },
      "outputs": [],
      "source": []
    },
    {
      "cell_type": "markdown",
      "metadata": {},
      "source": [
        "## SSA Zeitsprungverfahren\n",
        "\n",
        "Jetzt können wir unsere SSA-Hauptschleife verwenden. Wir werden nur die Zahlen zu vorher festgelegten Zeitpunkten speichern. Das spart Arbeitsspeicher, und wir interessieren uns ohnehin nur für die Werte zu bestimmten Zeitpunkten.\n",
        "\n",
        "Beachten Sie, dass diese Funktion generisch ist. Alles, was wir brauchen, um unser System zu spezifizieren, ist das Folgende:\n",
        "\n",
        "    - Eine Funktion zum Berechnen der Übergangswahrscheinlichkeiten\n",
        "    - Wie die Aktualisierungen für eine bestimmte Reaktion vorgenommen werden\n",
        "    - Ausgangspopulation\n",
        "\n",
        "Zusätzlich geben wir die notwendigen Parameter, eine Anfangsbedingung und die Zeitpunkte an, zu denen wir unsere Stichproben speichern wollen.\n",
        "\n",
        "Wir können nun eine Reihe von SSA-Simulationen durchführen und die Ergebnisse speichern. Wir führen dafür 100 Trajektorien mit den Werten βp=βm=10 und γ=0,4 durch."
      ]
    },
    {
      "cell_type": "code",
      "execution_count": null,
      "metadata": {
        "dotnet_interactive": {
          "language": "fsharp"
        },
        "vscode": {
          "languageId": "dotnet-interactive.fsharp"
        }
      },
      "outputs": [],
      "source": [
        "let zeitpunkte = [|0. .. 0.5 .. 50.|]\n",
        "\n",
        "let samples =\n",
        "    [|\n",
        "        for i = 0 to 1000 do\n",
        "            gillespieSSA simplePropensities simpleUpdate (0,0) zeitpunkte 10. 10. 0.4\n",
        "    |]"
      ]
    },
    {
      "cell_type": "code",
      "execution_count": null,
      "metadata": {
        "dotnet_interactive": {
          "language": "fsharp"
        },
        "vscode": {
          "languageId": "dotnet-interactive.fsharp"
        }
      },
      "outputs": [
        {
          "data": {
            "text/html": [
              "\n",
              "<div>\n",
              "    <div id=\"40034e7c-049e-47cb-92df-b2fb8fa0f0f2\"><!-- Plotly chart will be drawn inside this DIV --></div>\r\n",
              "<script type=\"text/javascript\">\r\n",
              "\r\n",
              "            var renderPlotly_40034e7c049e47cb92dfb2fb8fa0f0f2 = function() {\r\n",
              "            var fsharpPlotlyRequire = requirejs.config({context:'fsharp-plotly',paths:{plotly:'https://cdn.plot.ly/plotly-2.6.3.min'}}) || require;\r\n",
              "            fsharpPlotlyRequire(['plotly'], function(Plotly) {\r\n",
              "\r\n",
              "            var data = [{\"type\":\"scatter\",\"mode\":\"lines\",\"x\":[0.0,0.5,1.0,1.5,2.0,2.5,3.0,3.5,4.0,4.5,5.0,5.5,6.0,6.5,7.0,7.5,8.0,8.5,9.0,9.5,10.0,10.5,11.0,11.5,12.0,12.5,13.0,13.5,14.0,14.5,15.0,15.5,16.0,16.5,17.0,17.5,18.0,18.5,19.0,19.5,20.0,20.5,21.0,21.5,22.0,22.5,23.0,23.5,24.0,24.5,25.0,25.5,26.0,26.5,27.0,27.5,28.0,28.5,29.0,29.5,30.0,30.5,31.0,31.5,32.0,32.5,33.0,33.5,34.0,34.5,35.0,35.5,36.0,36.5,37.0,37.5,38.0,38.5,39.0,39.5,40.0,40.5,41.0,41.5,42.0,42.5,43.0,43.5,44.0,44.5,45.0,45.5,46.0,46.5,47.0,47.5,48.0,48.5,49.0,49.5,50.0],\"y\":[0.0,3.8581418581418583,6.326673326673327,7.745254745254745,8.596403596403597,9.177822177822177,9.544455544455545,9.928071928071928,9.908091908091908,9.914085914085915,9.878121878121878,9.983016983016983,9.862137862137862,9.813186813186814,9.948051948051948,9.939060939060939,9.94905094905095,10.06993006993007,9.914085914085915,9.99000999000999,9.792207792207792,10.003996003996004,10.027972027972028,9.986013986013987,10.015984015984015,9.92007992007992,9.992007992007991,9.944055944055943,9.96003996003996,9.835164835164836,10.110889110889111,10.078921078921079,10.162837162837162,10.198801198801199,10.188811188811188,9.987012987012987,9.905094905094906,9.812187812187812,9.918081918081919,10.008991008991009,10.07092907092907,10.0,9.997002997002998,10.004995004995004,9.951048951048952,10.044955044955046,10.128871128871129,10.078921078921079,10.084915084915085,10.136863136863138,10.075924075924076,10.004995004995004,9.983016983016983,9.86013986013986,9.858141858141858,10.047952047952048,10.004995004995004,9.878121878121878,9.862137862137862,9.975024975024976,9.875124875124875,9.822177822177823,9.979020979020978,10.01898101898102,9.97002997002997,10.044955044955046,9.996003996003996,9.91008991008991,9.95004995004995,10.02997002997003,10.035964035964035,9.976023976023976,10.037962037962037,9.987012987012987,9.869130869130869,9.889110889110889,9.796203796203796,9.882117882117882,10.027972027972028,9.964035964035965,9.99000999000999,9.883116883116884,9.854145854145854,9.964035964035965,10.001998001998002,10.05094905094905,9.855144855144855,9.901098901098901,9.963036963036963,9.905094905094906,9.958041958041958,10.148851148851149,10.046953046953046,10.047952047952048,10.013986013986013,9.975024975024976,9.962037962037963,9.907092907092908,9.835164835164836,9.912087912087912,9.962037962037963],\"marker\":{},\"line\":{\"width\":5.0},\"error_y\":{\"array\":[0.0,1.9889334186583885,2.529857273084358,2.8383163953372015,2.878358395500297,3.030568866128544,3.0832242422943734,3.101422444431131,3.1899129228780603,3.1512872589802714,3.1942340035023817,3.1863319489204613,3.150392836611812,3.0564793364369325,3.0707163172945022,3.1453589170844594,3.1436287310052373,3.229412469026665,3.165850815912113,3.1786632567637785,3.1094660668319283,3.181506563875676,3.179184924350388,3.172980333346585,3.002955919713816,3.1005816218262026,3.1012797461590065,3.1033638415221514,3.1321560622679088,3.2124448941269317,3.232134172445707,3.1274214993769602,3.272072362044816,3.290811231510942,3.302016760301904,3.252204047846811,3.11544282823229,3.1680737536697774,3.107938660476217,3.141801884415866,3.213714989846492,3.1365586237148526,3.2782603632095806,3.194522659956417,3.1582592354968866,3.2877008718825134,3.1963065598242637,3.3034474772221287,3.2508125473152423,3.289110784125361,3.2218363971855815,3.098221267917292,3.1857042060918483,3.1588636533442807,3.0446438451576125,3.0449463544861177,3.1456279222080634,3.1204376085944854,3.093375991530131,3.160755546443861,3.075937354594631,3.0519416200752696,3.1029920142596956,3.1598479964452966,3.189843397269043,3.162432137291965,3.196558151509842,3.1041759118819443,3.06325031584141,3.082385585727538,3.16333768268664,3.089567053071444,3.1642625432409135,3.1522739679208023,3.1343031352848025,3.0316152969483623,3.0900526814967995,3.1391224745284974,3.025428363590318,3.129968896763242,3.2920966115683945,3.132622651281933,3.04937785371136,3.1078457643044786,3.117690812764473,3.194745936440268,3.1067661650011593,3.095998835789312,3.0710962810749463,3.082853226474465,3.127976624311274,3.170933802339806,3.18571706320464,3.222064291987095,3.139714030895838,3.1787380553256703,3.1721534393149144,3.1474369954551356,3.2990608054114747,3.171476586113119,3.0696184522766723],\"color\":\"grey\"},\"xaxis\":\"x\",\"yaxis\":\"y\"},{\"type\":\"scatter\",\"mode\":\"lines\",\"x\":[0.0,0.5,1.0,1.5,2.0,2.5,3.0,3.5,4.0,4.5,5.0,5.5,6.0,6.5,7.0,7.5,8.0,8.5,9.0,9.5,10.0,10.5,11.0,11.5,12.0,12.5,13.0,13.5,14.0,14.5,15.0,15.5,16.0,16.5,17.0,17.5,18.0,18.5,19.0,19.5,20.0,20.5,21.0,21.5,22.0,22.5,23.0,23.5,24.0,24.5,25.0,25.5,26.0,26.5,27.0,27.5,28.0,28.5,29.0,29.5,30.0,30.5,31.0,31.5,32.0,32.5,33.0,33.5,34.0,34.5,35.0,35.5,36.0,36.5,37.0,37.5,38.0,38.5,39.0,39.5,40.0,40.5,41.0,41.5,42.0,42.5,43.0,43.5,44.0,44.5,45.0,45.5,46.0,46.5,47.0,47.5,48.0,48.5,49.0,49.5,50.0],\"y\":[0.0,9.677322677322678,31.524475524475523,57.56643356643357,84.37262737262738,109.58941058941059,132.03296703296704,152.28171828171827,169.55044955044954,183.66433566433565,194.86813186813185,204.56943056943058,212.4085914085914,218.74525474525475,223.57842157842157,227.95504495504497,231.8091908091908,234.87312687312686,237.55444555444555,239.1828171828172,240.75724275724275,241.73426573426573,243.24275724275725,244.35764235764236,245.3936063936064,246.08491508491508,246.8151848151848,247.37162837162836,247.69230769230768,247.57642357642357,247.73726273726274,248.97202797202797,248.94605394605395,249.4965034965035,250.87412587412587,251.12087912087912,250.62837162837164,249.82817182817183,249.4115884115884,249.4045954045954,249.69530469530469,249.43356643356643,250.1988011988012,250.58441558441558,250.42557442557444,250.64535464535464,251.2757242757243,251.28371628371627,251.37062937062936,251.63636363636363,252.54945054945054,252.2027972027972,251.7072927072927,251.15984015984017,250.66833166833166,250.46753246753246,249.7232767232767,249.77122877122878,249.00999000999002,248.64035964035963,248.9040959040959,248.6983016983017,248.42457542457544,248.86813186813185,248.7762237762238,249.35364635364635,249.97202797202797,249.78221778221777,250.000999000999,249.73226773226773,249.72827172827172,249.78921078921078,249.83016983016984,250.14485514485514,249.84515484515484,249.34065934065933,248.82517482517483,248.2077922077922,248.03296703296704,248.43656343656343,248.3856143856144,247.93806193806194,246.96203796203795,247.32067932067932,247.88211788211788,247.97402597402598,248.04095904095905,248.002997002997,248.24975024975026,248.5064935064935,248.7222777222777,248.8881118881119,249.37862137862138,249.92407592407594,250.04095904095905,250.00899100899102,250.06793206793208,249.53846153846155,248.82017982017982,247.96603396603396,247.73826173826174],\"marker\":{},\"line\":{\"width\":5.0},\"error_y\":{\"array\":[0.0,6.274454177438484,14.030311840784245,20.91582731253614,26.353823441580737,30.183111962689466,33.651506832353185,35.89098153359078,38.20695882032098,40.06618545336228,41.840131374155526,42.72452954188525,43.62246996805532,44.22777453094426,44.33328426708419,43.626539824090756,43.24014980830381,43.67332008346615,44.59028237987828,44.83656481551125,44.47979327728505,44.809522589348305,44.57956942356003,44.697001734299405,44.332007839493585,43.66485751972381,44.286395305904136,43.40400620041604,43.747996877219784,44.442529221415874,44.357794130230374,44.92170095603256,45.275325365071495,45.674962920206504,46.28172576579378,46.10815951245909,45.574924621394054,44.68454369862635,44.210094159302834,43.988079508670744,43.940255665301564,43.76953086529295,44.51799005527357,45.02980254101851,44.87877789439802,45.023694882795915,45.73147603237729,45.44483936131167,46.58228736873593,46.730157675356025,46.25961307877316,46.397045511194264,45.987990136156576,46.180000276899385,45.67119317593842,45.16484467819186,44.500498285438866,44.611507611698265,44.74947932769609,44.2255415961244,44.34418556256044,43.51511102034426,43.21231948697681,43.244567212617525,43.71500742452039,44.62899068084343,45.07029195360526,44.45213744553262,44.39609215911912,44.72438090965872,44.41810542909378,44.552132647905005,45.21419167552514,45.46268795401338,45.64877872409073,45.23183431129933,44.65306714655114,44.81337723516029,44.20169580556737,44.34485564051617,44.641294255959394,45.30271691455336,44.957297043333874,44.36600119391042,43.7636846016202,43.58537971241416,43.91475060477198,44.067641087412305,44.1910801230018,44.36931606180345,44.161077808481885,44.29220550538739,44.59629471713435,45.78465059133057,45.78601665005727,46.40477258947531,47.176597806745036,46.70908658099374,46.62284453320745,47.5174372746979,46.85158934951324],\"color\":\"grey\"},\"xaxis\":\"x2\",\"yaxis\":\"y2\"}];\r\n",
              "            var layout = {\"width\":1200,\"height\":600,\"template\":{\"layout\":{\"title\":{\"x\":0.05},\"font\":{\"color\":\"rgba(42, 63, 95, 1.0)\"},\"paper_bgcolor\":\"rgba(255, 255, 255, 1.0)\",\"plot_bgcolor\":\"rgba(229, 236, 246, 1.0)\",\"autotypenumbers\":\"strict\",\"colorscale\":{\"diverging\":[[0.0,\"#8e0152\"],[0.1,\"#c51b7d\"],[0.2,\"#de77ae\"],[0.3,\"#f1b6da\"],[0.4,\"#fde0ef\"],[0.5,\"#f7f7f7\"],[0.6,\"#e6f5d0\"],[0.7,\"#b8e186\"],[0.8,\"#7fbc41\"],[0.9,\"#4d9221\"],[1.0,\"#276419\"]],\"sequential\":[[0.0,\"#0d0887\"],[0.1111111111111111,\"#46039f\"],[0.2222222222222222,\"#7201a8\"],[0.3333333333333333,\"#9c179e\"],[0.4444444444444444,\"#bd3786\"],[0.5555555555555556,\"#d8576b\"],[0.6666666666666666,\"#ed7953\"],[0.7777777777777778,\"#fb9f3a\"],[0.8888888888888888,\"#fdca26\"],[1.0,\"#f0f921\"]],\"sequentialminus\":[[0.0,\"#0d0887\"],[0.1111111111111111,\"#46039f\"],[0.2222222222222222,\"#7201a8\"],[0.3333333333333333,\"#9c179e\"],[0.4444444444444444,\"#bd3786\"],[0.5555555555555556,\"#d8576b\"],[0.6666666666666666,\"#ed7953\"],[0.7777777777777778,\"#fb9f3a\"],[0.8888888888888888,\"#fdca26\"],[1.0,\"#f0f921\"]]},\"hovermode\":\"closest\",\"hoverlabel\":{\"align\":\"left\"},\"coloraxis\":{\"colorbar\":{\"outlinewidth\":0.0,\"ticks\":\"\"}},\"geo\":{\"showland\":true,\"landcolor\":\"rgba(229, 236, 246, 1.0)\",\"showlakes\":true,\"lakecolor\":\"rgba(255, 255, 255, 1.0)\",\"subunitcolor\":\"rgba(255, 255, 255, 1.0)\",\"bgcolor\":\"rgba(255, 255, 255, 1.0)\"},\"mapbox\":{\"style\":\"light\"},\"polar\":{\"bgcolor\":\"rgba(229, 236, 246, 1.0)\",\"radialaxis\":{\"linecolor\":\"rgba(255, 255, 255, 1.0)\",\"gridcolor\":\"rgba(255, 255, 255, 1.0)\",\"ticks\":\"\"},\"angularaxis\":{\"linecolor\":\"rgba(255, 255, 255, 1.0)\",\"gridcolor\":\"rgba(255, 255, 255, 1.0)\",\"ticks\":\"\"}},\"scene\":{\"xaxis\":{\"ticks\":\"\",\"linecolor\":\"rgba(255, 255, 255, 1.0)\",\"gridcolor\":\"rgba(255, 255, 255, 1.0)\",\"gridwidth\":2.0,\"zerolinecolor\":\"rgba(255, 255, 255, 1.0)\",\"backgroundcolor\":\"rgba(229, 236, 246, 1.0)\",\"showbackground\":true},\"yaxis\":{\"ticks\":\"\",\"linecolor\":\"rgba(255, 255, 255, 1.0)\",\"gridcolor\":\"rgba(255, 255, 255, 1.0)\",\"gridwidth\":2.0,\"zerolinecolor\":\"rgba(255, 255, 255, 1.0)\",\"backgroundcolor\":\"rgba(229, 236, 246, 1.0)\",\"showbackground\":true},\"zaxis\":{\"ticks\":\"\",\"linecolor\":\"rgba(255, 255, 255, 1.0)\",\"gridcolor\":\"rgba(255, 255, 255, 1.0)\",\"gridwidth\":2.0,\"zerolinecolor\":\"rgba(255, 255, 255, 1.0)\",\"backgroundcolor\":\"rgba(229, 236, 246, 1.0)\",\"showbackground\":true}},\"ternary\":{\"aaxis\":{\"ticks\":\"\",\"linecolor\":\"rgba(255, 255, 255, 1.0)\",\"gridcolor\":\"rgba(255, 255, 255, 1.0)\"},\"baxis\":{\"ticks\":\"\",\"linecolor\":\"rgba(255, 255, 255, 1.0)\",\"gridcolor\":\"rgba(255, 255, 255, 1.0)\"},\"caxis\":{\"ticks\":\"\",\"linecolor\":\"rgba(255, 255, 255, 1.0)\",\"gridcolor\":\"rgba(255, 255, 255, 1.0)\"},\"bgcolor\":\"rgba(229, 236, 246, 1.0)\"},\"xaxis\":{\"title\":{\"standoff\":15},\"ticks\":\"\",\"automargin\":true,\"linecolor\":\"rgba(255, 255, 255, 1.0)\",\"gridcolor\":\"rgba(255, 255, 255, 1.0)\",\"zerolinecolor\":\"rgba(255, 255, 255, 1.0)\",\"zerolinewidth\":2.0},\"yaxis\":{\"title\":{\"standoff\":15},\"ticks\":\"\",\"automargin\":true,\"linecolor\":\"rgba(255, 255, 255, 1.0)\",\"gridcolor\":\"rgba(255, 255, 255, 1.0)\",\"zerolinecolor\":\"rgba(255, 255, 255, 1.0)\",\"zerolinewidth\":2.0},\"annotationdefaults\":{\"arrowcolor\":\"#2a3f5f\",\"arrowhead\":0,\"arrowwidth\":1},\"shapedefaults\":{\"line\":{\"color\":\"rgba(42, 63, 95, 1.0)\"}},\"colorway\":[\"rgba(99, 110, 250, 1.0)\",\"rgba(239, 85, 59, 1.0)\",\"rgba(0, 204, 150, 1.0)\",\"rgba(171, 99, 250, 1.0)\",\"rgba(255, 161, 90, 1.0)\",\"rgba(25, 211, 243, 1.0)\",\"rgba(255, 102, 146, 1.0)\",\"rgba(182, 232, 128, 1.0)\",\"rgba(255, 151, 255, 1.0)\",\"rgba(254, 203, 82, 1.0)\"]},\"data\":{\"bar\":[{\"marker\":{\"line\":{\"color\":\"rgba(229, 236, 246, 1.0)\",\"width\":0.5},\"pattern\":{\"fillmode\":\"overlay\",\"size\":10,\"solidity\":0.2}},\"error_x\":{\"color\":\"rgba(42, 63, 95, 1.0)\"},\"error_y\":{\"color\":\"rgba(42, 63, 95, 1.0)\"}}],\"barpolar\":[{\"marker\":{\"line\":{\"color\":\"rgba(229, 236, 246, 1.0)\",\"width\":0.5},\"pattern\":{\"fillmode\":\"overlay\",\"size\":10,\"solidity\":0.2}}}],\"carpet\":[{\"aaxis\":{\"linecolor\":\"rgba(255, 255, 255, 1.0)\",\"gridcolor\":\"rgba(255, 255, 255, 1.0)\",\"endlinecolor\":\"rgba(42, 63, 95, 1.0)\",\"minorgridcolor\":\"rgba(255, 255, 255, 1.0)\",\"startlinecolor\":\"rgba(42, 63, 95, 1.0)\"},\"baxis\":{\"linecolor\":\"rgba(255, 255, 255, 1.0)\",\"gridcolor\":\"rgba(255, 255, 255, 1.0)\",\"endlinecolor\":\"rgba(42, 63, 95, 1.0)\",\"minorgridcolor\":\"rgba(255, 255, 255, 1.0)\",\"startlinecolor\":\"rgba(42, 63, 95, 1.0)\"}}],\"choropleth\":[{\"colorbar\":{\"outlinewidth\":0.0,\"ticks\":\"\"},\"colorscale\":[[0.0,\"#0d0887\"],[0.1111111111111111,\"#46039f\"],[0.2222222222222222,\"#7201a8\"],[0.3333333333333333,\"#9c179e\"],[0.4444444444444444,\"#bd3786\"],[0.5555555555555556,\"#d8576b\"],[0.6666666666666666,\"#ed7953\"],[0.7777777777777778,\"#fb9f3a\"],[0.8888888888888888,\"#fdca26\"],[1.0,\"#f0f921\"]]}],\"contour\":[{\"colorbar\":{\"outlinewidth\":0.0,\"ticks\":\"\"},\"colorscale\":[[0.0,\"#0d0887\"],[0.1111111111111111,\"#46039f\"],[0.2222222222222222,\"#7201a8\"],[0.3333333333333333,\"#9c179e\"],[0.4444444444444444,\"#bd3786\"],[0.5555555555555556,\"#d8576b\"],[0.6666666666666666,\"#ed7953\"],[0.7777777777777778,\"#fb9f3a\"],[0.8888888888888888,\"#fdca26\"],[1.0,\"#f0f921\"]]}],\"contourcarpet\":[{\"colorbar\":{\"outlinewidth\":0.0,\"ticks\":\"\"}}],\"heatmap\":[{\"colorbar\":{\"outlinewidth\":0.0,\"ticks\":\"\"},\"colorscale\":[[0.0,\"#0d0887\"],[0.1111111111111111,\"#46039f\"],[0.2222222222222222,\"#7201a8\"],[0.3333333333333333,\"#9c179e\"],[0.4444444444444444,\"#bd3786\"],[0.5555555555555556,\"#d8576b\"],[0.6666666666666666,\"#ed7953\"],[0.7777777777777778,\"#fb9f3a\"],[0.8888888888888888,\"#fdca26\"],[1.0,\"#f0f921\"]]}],\"heatmapgl\":[{\"colorbar\":{\"outlinewidth\":0.0,\"ticks\":\"\"},\"colorscale\":[[0.0,\"#0d0887\"],[0.1111111111111111,\"#46039f\"],[0.2222222222222222,\"#7201a8\"],[0.3333333333333333,\"#9c179e\"],[0.4444444444444444,\"#bd3786\"],[0.5555555555555556,\"#d8576b\"],[0.6666666666666666,\"#ed7953\"],[0.7777777777777778,\"#fb9f3a\"],[0.8888888888888888,\"#fdca26\"],[1.0,\"#f0f921\"]]}],\"histogram\":[{\"marker\":{\"pattern\":{\"fillmode\":\"overlay\",\"size\":10,\"solidity\":0.2}}}],\"histogram2d\":[{\"colorbar\":{\"outlinewidth\":0.0,\"ticks\":\"\"},\"colorscale\":[[0.0,\"#0d0887\"],[0.1111111111111111,\"#46039f\"],[0.2222222222222222,\"#7201a8\"],[0.3333333333333333,\"#9c179e\"],[0.4444444444444444,\"#bd3786\"],[0.5555555555555556,\"#d8576b\"],[0.6666666666666666,\"#ed7953\"],[0.7777777777777778,\"#fb9f3a\"],[0.8888888888888888,\"#fdca26\"],[1.0,\"#f0f921\"]]}],\"histogram2dcontour\":[{\"colorbar\":{\"outlinewidth\":0.0,\"ticks\":\"\"},\"colorscale\":[[0.0,\"#0d0887\"],[0.1111111111111111,\"#46039f\"],[0.2222222222222222,\"#7201a8\"],[0.3333333333333333,\"#9c179e\"],[0.4444444444444444,\"#bd3786\"],[0.5555555555555556,\"#d8576b\"],[0.6666666666666666,\"#ed7953\"],[0.7777777777777778,\"#fb9f3a\"],[0.8888888888888888,\"#fdca26\"],[1.0,\"#f0f921\"]]}],\"mesh3d\":[{\"colorbar\":{\"outlinewidth\":0.0,\"ticks\":\"\"}}],\"parcoords\":[{\"line\":{\"colorbar\":{\"outlinewidth\":0.0,\"ticks\":\"\"}}}],\"pie\":[{\"automargin\":true}],\"scatter\":[{\"marker\":{\"colorbar\":{\"outlinewidth\":0.0,\"ticks\":\"\"}}}],\"scatter3d\":[{\"marker\":{\"colorbar\":{\"outlinewidth\":0.0,\"ticks\":\"\"}},\"line\":{\"colorbar\":{\"outlinewidth\":0.0,\"ticks\":\"\"}}}],\"scattercarpet\":[{\"marker\":{\"colorbar\":{\"outlinewidth\":0.0,\"ticks\":\"\"}}}],\"scattergeo\":[{\"marker\":{\"colorbar\":{\"outlinewidth\":0.0,\"ticks\":\"\"}}}],\"scattergl\":[{\"marker\":{\"colorbar\":{\"outlinewidth\":0.0,\"ticks\":\"\"}}}],\"scattermapbox\":[{\"marker\":{\"colorbar\":{\"outlinewidth\":0.0,\"ticks\":\"\"}}}],\"scatterpolar\":[{\"marker\":{\"colorbar\":{\"outlinewidth\":0.0,\"ticks\":\"\"}}}],\"scatterpolargl\":[{\"marker\":{\"colorbar\":{\"outlinewidth\":0.0,\"ticks\":\"\"}}}],\"scatterternary\":[{\"marker\":{\"colorbar\":{\"outlinewidth\":0.0,\"ticks\":\"\"}}}],\"surface\":[{\"colorbar\":{\"outlinewidth\":0.0,\"ticks\":\"\"},\"colorscale\":[[0.0,\"#0d0887\"],[0.1111111111111111,\"#46039f\"],[0.2222222222222222,\"#7201a8\"],[0.3333333333333333,\"#9c179e\"],[0.4444444444444444,\"#bd3786\"],[0.5555555555555556,\"#d8576b\"],[0.6666666666666666,\"#ed7953\"],[0.7777777777777778,\"#fb9f3a\"],[0.8888888888888888,\"#fdca26\"],[1.0,\"#f0f921\"]]}],\"table\":[{\"cells\":{\"fill\":{\"color\":\"rgba(235, 240, 248, 1.0)\"},\"line\":{\"color\":\"rgba(255, 255, 255, 1.0)\"}},\"header\":{\"fill\":{\"color\":\"rgba(200, 212, 227, 1.0)\"},\"line\":{\"color\":\"rgba(255, 255, 255, 1.0)\"}}}]}},\"xaxis\":{},\"yaxis\":{},\"xaxis2\":{},\"yaxis2\":{},\"grid\":{\"rows\":1,\"columns\":2,\"pattern\":\"independent\"}};\r\n",
              "            var config = {\"responsive\":true};\r\n",
              "            Plotly.newPlot('40034e7c-049e-47cb-92df-b2fb8fa0f0f2', data, layout, config);\r\n",
              "});\r\n",
              "            };\r\n",
              "            if ((typeof(requirejs) !==  typeof(Function)) || (typeof(requirejs.config) !== typeof(Function))) {\r\n",
              "                var script = document.createElement(\"script\");\r\n",
              "                script.setAttribute(\"src\", \"https://cdnjs.cloudflare.com/ajax/libs/require.js/2.3.6/require.min.js\");\r\n",
              "                script.onload = function(){\r\n",
              "                    renderPlotly_40034e7c049e47cb92dfb2fb8fa0f0f2();\r\n",
              "                };\r\n",
              "                document.getElementsByTagName(\"head\")[0].appendChild(script);\r\n",
              "            }\r\n",
              "            else {\r\n",
              "                renderPlotly_40034e7c049e47cb92dfb2fb8fa0f0f2();\r\n",
              "            }\r\n",
              "</script>\r\n",
              "\n",
              "    \n",
              "</div>    \n"
            ]
          },
          "metadata": {},
          "output_type": "display_data"
        }
      ],
      "source": [
        "[\n",
        "    samples\n",
        "    |> Array.map fst\n",
        "    |> Array.transpose\n",
        "    |> Array.map (fun numbers -> Array.average numbers, Seq.stDev numbers)\n",
        "    |> Array.unzip\n",
        "    |> fun (number,stDev) ->\n",
        "        Chart.Line (zeitpunkte, number, LineWidth = 5)\n",
        "        |> Chart.withYErrorStyle(Array = stDev, Color = Color.fromString \"grey\")\n",
        "    samples\n",
        "    |> Array.map snd\n",
        "    |> Array.transpose\n",
        "    |> Array.map (fun numbers -> Array.average numbers, Seq.stDev numbers)\n",
        "    |> Array.unzip\n",
        "    |> fun (number,stDev) ->\n",
        "        Chart.Line (zeitpunkte, number, LineWidth = 5)\n",
        "        |> Chart.withYErrorStyle(Array = stDev, Color = Color.fromString \"grey\")\n",
        "]\n",
        "|> Chart.Grid (1,2)\n",
        "|> Chart.withSize(1200., 600.)"
      ]
    },
    {
      "cell_type": "markdown",
      "metadata": {},
      "source": [
        "### Aufgabe\n",
        "Führen sie `gillespieSSA` mit den obigen Werten unterschiedlich oft aus. Wie sehen die Kurven bei niedriger Wiederholungszahl aus? Wie bei hoher?"
      ]
    },
    {
      "cell_type": "code",
      "execution_count": null,
      "metadata": {
        "dotnet_interactive": {
          "language": "fsharp"
        },
        "vscode": {
          "languageId": "dotnet-interactive.fsharp"
        }
      },
      "outputs": [],
      "source": [
        "// Kopieren sie den benötigten Code aus dem vorherigen Codeblock"
      ]
    },
    {
      "cell_type": "markdown",
      "metadata": {},
      "source": [
        "Abschließend können wir die Wahrscheinlichkeitsverteilungen im stationären Zustand anschauen. Dafür schauen wir uns die Häufigkeiten der einzelnen Werte als normiertes Histogramm mit Bingröße=1 an. Dies entspricht der Wahrscheinlichkeitsdichtefunktion (PDF)."
      ]
    },
    {
      "cell_type": "code",
      "execution_count": null,
      "metadata": {
        "dotnet_interactive": {
          "language": "fsharp"
        },
        "vscode": {
          "languageId": "dotnet-interactive.fsharp"
        }
      },
      "outputs": [
        {
          "data": {
            "text/html": [
              "\n",
              "<div>\n",
              "    <div id=\"7cc37e5e-2601-4495-be57-db774ec24ab9\"><!-- Plotly chart will be drawn inside this DIV --></div>\r\n",
              "<script type=\"text/javascript\">\r\n",
              "\r\n",
              "            var renderPlotly_7cc37e5e26014495be57db774ec24ab9 = function() {\r\n",
              "            var fsharpPlotlyRequire = requirejs.config({context:'fsharp-plotly',paths:{plotly:'https://cdn.plot.ly/plotly-2.6.3.min'}}) || require;\r\n",
              "            fsharpPlotlyRequire(['plotly'], function(Plotly) {\r\n",
              "\r\n",
              "            var data = [{\"type\":\"bar\",\"x\":[10.0,8.0,12.0,11.0,13.0,5.0,6.0,9.0,7.0,2.0,4.0,14.0,18.0,17.0,15.0,3.0,16.0,20.0,19.0,1.0,23.0,0.0,21.0,22.0,25.0,24.0,26.0],\"y\":[0.12767624532330415,0.10971381559616854,0.09388650565121154,0.11519852696323285,0.07257448433919023,0.03970539264656912,0.0651701239936534,0.1256390668155374,0.09184932714344479,0.001958825488237253,0.0190397837456661,0.05063563887093299,0.00658165364047717,0.011635423400129283,0.03402479873068109,0.006973418738124621,0.02058725588137353,0.0019000607235901354,0.003663003663003663,0.00029382382323558796,0.00021547080370609782,5.876476464711759E-05,0.0005288828818240583,0.00041135335252982314,1.9588254882372528E-05,3.9176509764745056E-05,1.9588254882372528E-05],\"orientation\":\"v\",\"marker\":{\"pattern\":{}}}];\r\n",
              "            var layout = {\"width\":600,\"height\":600,\"template\":{\"layout\":{\"title\":{\"x\":0.05},\"font\":{\"color\":\"rgba(42, 63, 95, 1.0)\"},\"paper_bgcolor\":\"rgba(255, 255, 255, 1.0)\",\"plot_bgcolor\":\"rgba(229, 236, 246, 1.0)\",\"autotypenumbers\":\"strict\",\"colorscale\":{\"diverging\":[[0.0,\"#8e0152\"],[0.1,\"#c51b7d\"],[0.2,\"#de77ae\"],[0.3,\"#f1b6da\"],[0.4,\"#fde0ef\"],[0.5,\"#f7f7f7\"],[0.6,\"#e6f5d0\"],[0.7,\"#b8e186\"],[0.8,\"#7fbc41\"],[0.9,\"#4d9221\"],[1.0,\"#276419\"]],\"sequential\":[[0.0,\"#0d0887\"],[0.1111111111111111,\"#46039f\"],[0.2222222222222222,\"#7201a8\"],[0.3333333333333333,\"#9c179e\"],[0.4444444444444444,\"#bd3786\"],[0.5555555555555556,\"#d8576b\"],[0.6666666666666666,\"#ed7953\"],[0.7777777777777778,\"#fb9f3a\"],[0.8888888888888888,\"#fdca26\"],[1.0,\"#f0f921\"]],\"sequentialminus\":[[0.0,\"#0d0887\"],[0.1111111111111111,\"#46039f\"],[0.2222222222222222,\"#7201a8\"],[0.3333333333333333,\"#9c179e\"],[0.4444444444444444,\"#bd3786\"],[0.5555555555555556,\"#d8576b\"],[0.6666666666666666,\"#ed7953\"],[0.7777777777777778,\"#fb9f3a\"],[0.8888888888888888,\"#fdca26\"],[1.0,\"#f0f921\"]]},\"hovermode\":\"closest\",\"hoverlabel\":{\"align\":\"left\"},\"coloraxis\":{\"colorbar\":{\"outlinewidth\":0.0,\"ticks\":\"\"}},\"geo\":{\"showland\":true,\"landcolor\":\"rgba(229, 236, 246, 1.0)\",\"showlakes\":true,\"lakecolor\":\"rgba(255, 255, 255, 1.0)\",\"subunitcolor\":\"rgba(255, 255, 255, 1.0)\",\"bgcolor\":\"rgba(255, 255, 255, 1.0)\"},\"mapbox\":{\"style\":\"light\"},\"polar\":{\"bgcolor\":\"rgba(229, 236, 246, 1.0)\",\"radialaxis\":{\"linecolor\":\"rgba(255, 255, 255, 1.0)\",\"gridcolor\":\"rgba(255, 255, 255, 1.0)\",\"ticks\":\"\"},\"angularaxis\":{\"linecolor\":\"rgba(255, 255, 255, 1.0)\",\"gridcolor\":\"rgba(255, 255, 255, 1.0)\",\"ticks\":\"\"}},\"scene\":{\"xaxis\":{\"ticks\":\"\",\"linecolor\":\"rgba(255, 255, 255, 1.0)\",\"gridcolor\":\"rgba(255, 255, 255, 1.0)\",\"gridwidth\":2.0,\"zerolinecolor\":\"rgba(255, 255, 255, 1.0)\",\"backgroundcolor\":\"rgba(229, 236, 246, 1.0)\",\"showbackground\":true},\"yaxis\":{\"ticks\":\"\",\"linecolor\":\"rgba(255, 255, 255, 1.0)\",\"gridcolor\":\"rgba(255, 255, 255, 1.0)\",\"gridwidth\":2.0,\"zerolinecolor\":\"rgba(255, 255, 255, 1.0)\",\"backgroundcolor\":\"rgba(229, 236, 246, 1.0)\",\"showbackground\":true},\"zaxis\":{\"ticks\":\"\",\"linecolor\":\"rgba(255, 255, 255, 1.0)\",\"gridcolor\":\"rgba(255, 255, 255, 1.0)\",\"gridwidth\":2.0,\"zerolinecolor\":\"rgba(255, 255, 255, 1.0)\",\"backgroundcolor\":\"rgba(229, 236, 246, 1.0)\",\"showbackground\":true}},\"ternary\":{\"aaxis\":{\"ticks\":\"\",\"linecolor\":\"rgba(255, 255, 255, 1.0)\",\"gridcolor\":\"rgba(255, 255, 255, 1.0)\"},\"baxis\":{\"ticks\":\"\",\"linecolor\":\"rgba(255, 255, 255, 1.0)\",\"gridcolor\":\"rgba(255, 255, 255, 1.0)\"},\"caxis\":{\"ticks\":\"\",\"linecolor\":\"rgba(255, 255, 255, 1.0)\",\"gridcolor\":\"rgba(255, 255, 255, 1.0)\"},\"bgcolor\":\"rgba(229, 236, 246, 1.0)\"},\"xaxis\":{\"title\":{\"standoff\":15},\"ticks\":\"\",\"automargin\":true,\"linecolor\":\"rgba(255, 255, 255, 1.0)\",\"gridcolor\":\"rgba(255, 255, 255, 1.0)\",\"zerolinecolor\":\"rgba(255, 255, 255, 1.0)\",\"zerolinewidth\":2.0},\"yaxis\":{\"title\":{\"standoff\":15},\"ticks\":\"\",\"automargin\":true,\"linecolor\":\"rgba(255, 255, 255, 1.0)\",\"gridcolor\":\"rgba(255, 255, 255, 1.0)\",\"zerolinecolor\":\"rgba(255, 255, 255, 1.0)\",\"zerolinewidth\":2.0},\"annotationdefaults\":{\"arrowcolor\":\"#2a3f5f\",\"arrowhead\":0,\"arrowwidth\":1},\"shapedefaults\":{\"line\":{\"color\":\"rgba(42, 63, 95, 1.0)\"}},\"colorway\":[\"rgba(99, 110, 250, 1.0)\",\"rgba(239, 85, 59, 1.0)\",\"rgba(0, 204, 150, 1.0)\",\"rgba(171, 99, 250, 1.0)\",\"rgba(255, 161, 90, 1.0)\",\"rgba(25, 211, 243, 1.0)\",\"rgba(255, 102, 146, 1.0)\",\"rgba(182, 232, 128, 1.0)\",\"rgba(255, 151, 255, 1.0)\",\"rgba(254, 203, 82, 1.0)\"]},\"data\":{\"bar\":[{\"marker\":{\"line\":{\"color\":\"rgba(229, 236, 246, 1.0)\",\"width\":0.5},\"pattern\":{\"fillmode\":\"overlay\",\"size\":10,\"solidity\":0.2}},\"error_x\":{\"color\":\"rgba(42, 63, 95, 1.0)\"},\"error_y\":{\"color\":\"rgba(42, 63, 95, 1.0)\"}}],\"barpolar\":[{\"marker\":{\"line\":{\"color\":\"rgba(229, 236, 246, 1.0)\",\"width\":0.5},\"pattern\":{\"fillmode\":\"overlay\",\"size\":10,\"solidity\":0.2}}}],\"carpet\":[{\"aaxis\":{\"linecolor\":\"rgba(255, 255, 255, 1.0)\",\"gridcolor\":\"rgba(255, 255, 255, 1.0)\",\"endlinecolor\":\"rgba(42, 63, 95, 1.0)\",\"minorgridcolor\":\"rgba(255, 255, 255, 1.0)\",\"startlinecolor\":\"rgba(42, 63, 95, 1.0)\"},\"baxis\":{\"linecolor\":\"rgba(255, 255, 255, 1.0)\",\"gridcolor\":\"rgba(255, 255, 255, 1.0)\",\"endlinecolor\":\"rgba(42, 63, 95, 1.0)\",\"minorgridcolor\":\"rgba(255, 255, 255, 1.0)\",\"startlinecolor\":\"rgba(42, 63, 95, 1.0)\"}}],\"choropleth\":[{\"colorbar\":{\"outlinewidth\":0.0,\"ticks\":\"\"},\"colorscale\":[[0.0,\"#0d0887\"],[0.1111111111111111,\"#46039f\"],[0.2222222222222222,\"#7201a8\"],[0.3333333333333333,\"#9c179e\"],[0.4444444444444444,\"#bd3786\"],[0.5555555555555556,\"#d8576b\"],[0.6666666666666666,\"#ed7953\"],[0.7777777777777778,\"#fb9f3a\"],[0.8888888888888888,\"#fdca26\"],[1.0,\"#f0f921\"]]}],\"contour\":[{\"colorbar\":{\"outlinewidth\":0.0,\"ticks\":\"\"},\"colorscale\":[[0.0,\"#0d0887\"],[0.1111111111111111,\"#46039f\"],[0.2222222222222222,\"#7201a8\"],[0.3333333333333333,\"#9c179e\"],[0.4444444444444444,\"#bd3786\"],[0.5555555555555556,\"#d8576b\"],[0.6666666666666666,\"#ed7953\"],[0.7777777777777778,\"#fb9f3a\"],[0.8888888888888888,\"#fdca26\"],[1.0,\"#f0f921\"]]}],\"contourcarpet\":[{\"colorbar\":{\"outlinewidth\":0.0,\"ticks\":\"\"}}],\"heatmap\":[{\"colorbar\":{\"outlinewidth\":0.0,\"ticks\":\"\"},\"colorscale\":[[0.0,\"#0d0887\"],[0.1111111111111111,\"#46039f\"],[0.2222222222222222,\"#7201a8\"],[0.3333333333333333,\"#9c179e\"],[0.4444444444444444,\"#bd3786\"],[0.5555555555555556,\"#d8576b\"],[0.6666666666666666,\"#ed7953\"],[0.7777777777777778,\"#fb9f3a\"],[0.8888888888888888,\"#fdca26\"],[1.0,\"#f0f921\"]]}],\"heatmapgl\":[{\"colorbar\":{\"outlinewidth\":0.0,\"ticks\":\"\"},\"colorscale\":[[0.0,\"#0d0887\"],[0.1111111111111111,\"#46039f\"],[0.2222222222222222,\"#7201a8\"],[0.3333333333333333,\"#9c179e\"],[0.4444444444444444,\"#bd3786\"],[0.5555555555555556,\"#d8576b\"],[0.6666666666666666,\"#ed7953\"],[0.7777777777777778,\"#fb9f3a\"],[0.8888888888888888,\"#fdca26\"],[1.0,\"#f0f921\"]]}],\"histogram\":[{\"marker\":{\"pattern\":{\"fillmode\":\"overlay\",\"size\":10,\"solidity\":0.2}}}],\"histogram2d\":[{\"colorbar\":{\"outlinewidth\":0.0,\"ticks\":\"\"},\"colorscale\":[[0.0,\"#0d0887\"],[0.1111111111111111,\"#46039f\"],[0.2222222222222222,\"#7201a8\"],[0.3333333333333333,\"#9c179e\"],[0.4444444444444444,\"#bd3786\"],[0.5555555555555556,\"#d8576b\"],[0.6666666666666666,\"#ed7953\"],[0.7777777777777778,\"#fb9f3a\"],[0.8888888888888888,\"#fdca26\"],[1.0,\"#f0f921\"]]}],\"histogram2dcontour\":[{\"colorbar\":{\"outlinewidth\":0.0,\"ticks\":\"\"},\"colorscale\":[[0.0,\"#0d0887\"],[0.1111111111111111,\"#46039f\"],[0.2222222222222222,\"#7201a8\"],[0.3333333333333333,\"#9c179e\"],[0.4444444444444444,\"#bd3786\"],[0.5555555555555556,\"#d8576b\"],[0.6666666666666666,\"#ed7953\"],[0.7777777777777778,\"#fb9f3a\"],[0.8888888888888888,\"#fdca26\"],[1.0,\"#f0f921\"]]}],\"mesh3d\":[{\"colorbar\":{\"outlinewidth\":0.0,\"ticks\":\"\"}}],\"parcoords\":[{\"line\":{\"colorbar\":{\"outlinewidth\":0.0,\"ticks\":\"\"}}}],\"pie\":[{\"automargin\":true}],\"scatter\":[{\"marker\":{\"colorbar\":{\"outlinewidth\":0.0,\"ticks\":\"\"}}}],\"scatter3d\":[{\"marker\":{\"colorbar\":{\"outlinewidth\":0.0,\"ticks\":\"\"}},\"line\":{\"colorbar\":{\"outlinewidth\":0.0,\"ticks\":\"\"}}}],\"scattercarpet\":[{\"marker\":{\"colorbar\":{\"outlinewidth\":0.0,\"ticks\":\"\"}}}],\"scattergeo\":[{\"marker\":{\"colorbar\":{\"outlinewidth\":0.0,\"ticks\":\"\"}}}],\"scattergl\":[{\"marker\":{\"colorbar\":{\"outlinewidth\":0.0,\"ticks\":\"\"}}}],\"scattermapbox\":[{\"marker\":{\"colorbar\":{\"outlinewidth\":0.0,\"ticks\":\"\"}}}],\"scatterpolar\":[{\"marker\":{\"colorbar\":{\"outlinewidth\":0.0,\"ticks\":\"\"}}}],\"scatterpolargl\":[{\"marker\":{\"colorbar\":{\"outlinewidth\":0.0,\"ticks\":\"\"}}}],\"scatterternary\":[{\"marker\":{\"colorbar\":{\"outlinewidth\":0.0,\"ticks\":\"\"}}}],\"surface\":[{\"colorbar\":{\"outlinewidth\":0.0,\"ticks\":\"\"},\"colorscale\":[[0.0,\"#0d0887\"],[0.1111111111111111,\"#46039f\"],[0.2222222222222222,\"#7201a8\"],[0.3333333333333333,\"#9c179e\"],[0.4444444444444444,\"#bd3786\"],[0.5555555555555556,\"#d8576b\"],[0.6666666666666666,\"#ed7953\"],[0.7777777777777778,\"#fb9f3a\"],[0.8888888888888888,\"#fdca26\"],[1.0,\"#f0f921\"]]}],\"table\":[{\"cells\":{\"fill\":{\"color\":\"rgba(235, 240, 248, 1.0)\"},\"line\":{\"color\":\"rgba(255, 255, 255, 1.0)\"}},\"header\":{\"fill\":{\"color\":\"rgba(200, 212, 227, 1.0)\"},\"line\":{\"color\":\"rgba(255, 255, 255, 1.0)\"}}}]}},\"xaxis\":{\"title\":{\"text\":\"mRNA Anzahl\"}},\"yaxis\":{\"title\":{\"text\":\"P(mRNA)\"}}};\r\n",
              "            var config = {\"responsive\":true};\r\n",
              "            Plotly.newPlot('7cc37e5e-2601-4495-be57-db774ec24ab9', data, layout, config);\r\n",
              "});\r\n",
              "            };\r\n",
              "            if ((typeof(requirejs) !==  typeof(Function)) || (typeof(requirejs.config) !== typeof(Function))) {\r\n",
              "                var script = document.createElement(\"script\");\r\n",
              "                script.setAttribute(\"src\", \"https://cdnjs.cloudflare.com/ajax/libs/require.js/2.3.6/require.min.js\");\r\n",
              "                script.onload = function(){\r\n",
              "                    renderPlotly_7cc37e5e26014495be57db774ec24ab9();\r\n",
              "                };\r\n",
              "                document.getElementsByTagName(\"head\")[0].appendChild(script);\r\n",
              "            }\r\n",
              "            else {\r\n",
              "                renderPlotly_7cc37e5e26014495be57db774ec24ab9();\r\n",
              "            }\r\n",
              "</script>\r\n",
              "\n",
              "    \n",
              "</div>    \n"
            ]
          },
          "metadata": {},
          "output_type": "display_data"
        }
      ],
      "source": [
        "let samplesmRNA =\n",
        "    samples\n",
        "    |> Array.map fst\n",
        "    |> Array.collect (fun x -> x.[50 ..])\n",
        "\n",
        "let sampleZahlenmRNA =\n",
        "    samplesmRNA\n",
        "    |> Array.countBy id\n",
        "    |> fun histo ->\n",
        "        let histoSum =\n",
        "            histo\n",
        "            |> Array.map snd\n",
        "            |> Array.sum\n",
        "        histo\n",
        "        |> Array.map (fun (event,count) -> event, float count/ float histoSum)\n",
        "\n",
        "let histomRNA =\n",
        "    Chart.Column(sampleZahlenmRNA)\n",
        "    |> Chart.withXAxisStyle(TitleText = \"mRNA Anzahl\")\n",
        "    |> Chart.withYAxisStyle(TitleText = \"P(mRNA)\")\n",
        "\n",
        "histomRNA"
      ]
    },
    {
      "cell_type": "code",
      "execution_count": null,
      "metadata": {
        "dotnet_interactive": {
          "language": "fsharp"
        },
        "vscode": {
          "languageId": "dotnet-interactive.fsharp"
        }
      },
      "outputs": [
        {
          "data": {
            "text/html": [
              "\n",
              "<div>\n",
              "    <div id=\"faa37b59-32cd-4fc4-9c0d-faaa43a181ca\"><!-- Plotly chart will be drawn inside this DIV --></div>\r\n",
              "<script type=\"text/javascript\">\r\n",
              "\r\n",
              "            var renderPlotly_faa37b5932cd4fc49c0dfaaa43a181ca = function() {\r\n",
              "            var fsharpPlotlyRequire = requirejs.config({context:'fsharp-plotly',paths:{plotly:'https://cdn.plot.ly/plotly-2.6.3.min'}}) || require;\r\n",
              "            fsharpPlotlyRequire(['plotly'], function(Plotly) {\r\n",
              "\r\n",
              "            var data = [{\"type\":\"bar\",\"x\":[281.0,263.0,256.0,250.0,262.0,236.0,251.0,268.0,278.0,246.0,244.0,223.0,213.0,207.0,211.0,217.0,232.0,233.0,231.0,249.0,258.0,230.0,203.0,201.0,175.0,180.0,187.0,205.0,195.0,214.0,221.0,229.0,234.0,260.0,299.0,327.0,336.0,341.0,325.0,329.0,317.0,284.0,242.0,248.0,210.0,192.0,204.0,252.0,254.0,255.0,272.0,267.0,279.0,291.0,275.0,270.0,257.0,228.0,215.0,227.0,224.0,239.0,237.0,220.0,216.0,253.0,219.0,196.0,183.0,178.0,198.0,225.0,259.0,235.0,238.0,240.0,194.0,200.0,209.0,218.0,199.0,173.0,164.0,156.0,148.0,143.0,144.0,161.0,186.0,189.0,184.0,202.0,188.0,179.0,185.0,273.0,288.0,298.0,274.0,311.0,328.0,306.0,286.0,276.0,271.0,222.0,261.0,245.0,303.0,241.0,247.0,177.0,226.0,197.0,150.0,159.0,163.0,154.0,152.0,160.0,155.0,162.0,301.0,321.0,315.0,304.0,305.0,316.0,297.0,265.0,277.0,294.0,314.0,323.0,264.0,292.0,307.0,295.0,269.0,243.0,282.0,308.0,293.0,320.0,322.0,319.0,191.0,190.0,208.0,193.0,176.0,280.0,287.0,302.0,300.0,212.0,168.0,149.0,285.0,310.0,318.0,345.0,344.0,385.0,370.0,367.0,380.0,383.0,372.0,348.0,378.0,394.0,420.0,402.0,384.0,377.0,356.0,369.0,388.0,386.0,283.0,169.0,182.0,289.0,313.0,290.0,342.0,337.0,352.0,391.0,172.0,165.0,331.0,339.0,346.0,343.0,296.0,171.0,334.0,347.0,332.0,140.0,181.0,141.0,133.0,118.0,111.0,122.0,151.0,338.0,358.0,309.0,266.0,349.0,333.0,350.0,359.0,361.0,158.0,166.0,354.0,357.0,371.0,379.0,353.0,360.0,418.0,436.0,435.0,405.0,330.0,312.0,147.0,127.0,119.0,123.0,135.0,130.0,121.0,145.0,326.0,206.0,170.0,137.0,355.0,340.0,167.0,174.0,395.0,398.0,366.0,382.0,335.0,153.0,134.0,124.0,368.0,373.0,363.0,392.0,431.0,447.0,421.0,406.0,364.0,351.0,389.0,396.0,416.0,430.0,410.0,375.0,374.0,324.0,404.0,407.0,381.0,365.0,131.0,126.0,113.0,106.0,109.0,125.0,132.0,387.0,362.0,157.0,403.0,409.0,427.0,136.0,390.0,415.0,408.0,440.0,393.0,434.0,399.0,139.0,142.0,457.0,448.0,419.0,455.0,459.0,468.0,464.0,442.0,146.0,400.0,423.0,376.0,412.0,429.0,401.0,138.0,397.0,116.0,128.0,428.0,114.0,439.0,129.0,422.0,424.0,110.0,102.0,117.0],\"y\":[0.0069342422283598755,0.007482713365066306,0.008697185167773402,0.009245656304479833,0.008344596579890697,0.008893067716597128,0.00805077275665511,0.008540479128714423,0.006444535856300562,0.009559068382597794,0.009382774088656442,0.008246655305478835,0.007090948267418856,0.005758946935417524,0.00673835967953615,0.0067187714246537775,0.00789406671759613,0.007933243227360874,0.008932244226361873,0.008501302618949678,0.007913654972478501,0.008951832481244246,0.005915652974476504,0.005543476131711426,0.002115531527296233,0.002742355683532154,0.004035180505768741,0.006091947268417857,0.004799122446181269,0.007032183502771738,0.008011596246890365,0.008893067716597128,0.00852089087383205,0.008422949599420188,0.004466122113180936,0.0017629429394135276,0.0011752952929423518,0.0012536483124718418,0.002448531860296566,0.0016454134101192926,0.0027227674286497815,0.005523887876829054,0.009324009324009324,0.009030185500773736,0.006150712033064974,0.004564063387592799,0.0059352412293588765,0.008814714697067638,0.009030185500773736,0.00852089087383205,0.007012595247889365,0.008187890540831718,0.006855889208830386,0.005582652641476171,0.007169301286948346,0.007463125110183933,0.008403361344537815,0.008481714364067305,0.00689506571859513,0.007952831482243248,0.008638420403126285,0.009010597245891363,0.009226068049597462,0.007580654639478169,0.007502301619948679,0.008187890540831718,0.007423948600419189,0.0049362402303578775,0.003427944604415193,0.0028402969579440166,0.005249652308475838,0.008168302285949345,0.008560067383596796,0.00904977375565611,0.008873479461714755,0.008775538187302893,0.004446533858298564,0.0059352412293588765,0.00618988854282972,0.007521889874831052,0.005504299621946681,0.0019196489784725078,0.0010969422734128616,0.0007443536855301561,0.0004505298622945682,0.00029382382323558796,0.00041135335252982314,0.0009794127441186266,0.0040547687606511135,0.0037217684276507805,0.0032712385653562125,0.005778535190299896,0.0040547687606511135,0.0023897670956494485,0.0035258858788270553,0.0070517717576541105,0.005073358014534485,0.004622828152239917,0.007306419071124954,0.002879473467708762,0.001880472468707763,0.003741356682533153,0.0060527707586531115,0.007071360012536483,0.007404360345536816,0.00789406671759613,0.008893067716597128,0.009167303284950344,0.004250651309474839,0.008951832481244246,0.009010597245891363,0.002546473134708429,0.007228066051595463,0.005190887543828721,0.0006072359013535485,0.0010969422734128616,0.0012536483124718418,0.0007247654306477835,0.0007247654306477835,0.0009402362343538815,0.000999000999000999,0.001332001332001332,0.004426945603416192,0.002409355350531821,0.002566061389590801,0.004211474799710094,0.0035258858788270553,0.002879473467708762,0.004662004662004662,0.007933243227360874,0.006797124444183267,0.005210475798711093,0.00325165031047384,0.0021351197821786057,0.008089949266419854,0.005484711367064308,0.003780533192297898,0.00495582848524025,0.007463125110183933,0.00906936201053848,0.006150712033064974,0.002997002997002997,0.005328005328005328,0.0024877083700613114,0.0025268848798260563,0.0024877083700613114,0.003976415741121624,0.004133121780180603,0.006679594914889032,0.004309416074121957,0.002213472801708096,0.00642494760141819,0.0050537697596521125,0.004133121780180603,0.004015592250886368,0.006307418072123955,0.0015278838808250573,0.0006855889208830385,0.005798123445182268,0.0031341207811796047,0.0028207087030616444,0.0011752952929423518,0.0009794127441186266,0.00017629429394135277,0.0004897063720593133,0.00041135335252982314,0.00023505905858847037,0.0001958825488237253,0.00035258858788270555,0.0010185892538833714,0.0001958825488237253,0.00015670603905898023,5.876476464711759E-05,5.876476464711759E-05,0.0001958825488237253,0.00029382382323558796,0.0004505298622945682,0.0003917650976474506,0.0002742355683532154,0.00023505905858847037,0.006150712033064974,0.0018021194491782727,0.00340835634953282,0.006111535523300229,0.0028402969579440166,0.0049362402303578775,0.0009598244892362539,0.0013124130771189596,0.0007247654306477835,0.00011752952929423518,0.001958825488237253,0.0012732365673542145,0.0016845899198840374,0.0010773540185304892,0.0008618832148243913,0.0014103543515308222,0.004857887210828388,0.00154747213570743,0.0016845899198840374,0.0008814714697067638,0.0018412959589430178,0.000333000333000333,0.0028207087030616444,0.00041135335252982314,0.0001958825488237253,7.835301952949011E-05,1.9588254882372528E-05,5.876476464711759E-05,0.0007639419404125286,0.0013515895868837044,0.0005288828818240583,0.003114532526297232,0.007835301952949012,0.0009206479794715089,0.0015866486454721748,0.0007443536855301561,0.0007639419404125286,0.0006072359013535485,0.0008227067050596463,0.0015866486454721748,0.0005680593915888034,0.0007443536855301561,0.00047011811717694073,0.0002742355683532154,0.0007051771757654111,0.00035258858788270555,3.9176509764745056E-05,5.876476464711759E-05,3.9176509764745056E-05,9.794127441186265E-05,0.0019392372333548805,0.0030165912518853697,0.0005876476464711759,0.0001371177841766077,7.835301952949011E-05,5.876476464711759E-05,0.00017629429394135277,0.00011752952929423518,1.9588254882372528E-05,0.0006072359013535485,0.001958825488237253,0.005994005994005994,0.0017433546845311552,0.0003917650976474506,0.0005092946269416857,0.0014103543515308222,0.0016454134101192926,0.0020567667626491155,3.9176509764745056E-05,0.00011752952929423518,0.0005092946269416857,0.0001958825488237253,0.00170417817476641,0.0006855889208830385,3.9176509764745056E-05,5.876476464711759E-05,0.0003917650976474506,0.00023505905858847037,0.00035258858788270555,3.9176509764745056E-05,1.9588254882372528E-05,1.9588254882372528E-05,1.9588254882372528E-05,5.876476464711759E-05,0.00029382382323558796,0.0007247654306477835,0.0001371177841766077,7.835301952949011E-05,5.876476464711759E-05,3.9176509764745056E-05,3.9176509764745056E-05,0.00031341207811796045,0.000333000333000333,0.002370178840767076,9.794127441186265E-05,1.9588254882372528E-05,0.00025464731347084286,0.00029382382323558796,0.00011752952929423518,9.794127441186265E-05,9.794127441186265E-05,1.9588254882372528E-05,5.876476464711759E-05,5.876476464711759E-05,0.0001371177841766077,0.00015670603905898023,0.000333000333000333,0.0010185892538833714,0.00015670603905898023,5.876476464711759E-05,5.876476464711759E-05,9.794127441186265E-05,7.835301952949011E-05,1.9588254882372528E-05,1.9588254882372528E-05,1.9588254882372528E-05,9.794127441186265E-05,1.9588254882372528E-05,3.9176509764745056E-05,0.00017629429394135277,0.00041135335252982314,3.9176509764745056E-05,1.9588254882372528E-05,1.9588254882372528E-05,1.9588254882372528E-05,1.9588254882372528E-05,1.9588254882372528E-05,1.9588254882372528E-05,1.9588254882372528E-05,0.00029382382323558796,9.794127441186265E-05,1.9588254882372528E-05,0.00011752952929423518,5.876476464711759E-05,1.9588254882372528E-05,9.794127441186265E-05,0.00025464731347084286,3.9176509764745056E-05,1.9588254882372528E-05,9.794127441186265E-05,3.9176509764745056E-05,3.9176509764745056E-05,1.9588254882372528E-05,5.876476464711759E-05,1.9588254882372528E-05,1.9588254882372528E-05,1.9588254882372528E-05,1.9588254882372528E-05,1.9588254882372528E-05],\"orientation\":\"v\",\"marker\":{\"pattern\":{}}}];\r\n",
              "            var layout = {\"width\":600,\"height\":600,\"template\":{\"layout\":{\"title\":{\"x\":0.05},\"font\":{\"color\":\"rgba(42, 63, 95, 1.0)\"},\"paper_bgcolor\":\"rgba(255, 255, 255, 1.0)\",\"plot_bgcolor\":\"rgba(229, 236, 246, 1.0)\",\"autotypenumbers\":\"strict\",\"colorscale\":{\"diverging\":[[0.0,\"#8e0152\"],[0.1,\"#c51b7d\"],[0.2,\"#de77ae\"],[0.3,\"#f1b6da\"],[0.4,\"#fde0ef\"],[0.5,\"#f7f7f7\"],[0.6,\"#e6f5d0\"],[0.7,\"#b8e186\"],[0.8,\"#7fbc41\"],[0.9,\"#4d9221\"],[1.0,\"#276419\"]],\"sequential\":[[0.0,\"#0d0887\"],[0.1111111111111111,\"#46039f\"],[0.2222222222222222,\"#7201a8\"],[0.3333333333333333,\"#9c179e\"],[0.4444444444444444,\"#bd3786\"],[0.5555555555555556,\"#d8576b\"],[0.6666666666666666,\"#ed7953\"],[0.7777777777777778,\"#fb9f3a\"],[0.8888888888888888,\"#fdca26\"],[1.0,\"#f0f921\"]],\"sequentialminus\":[[0.0,\"#0d0887\"],[0.1111111111111111,\"#46039f\"],[0.2222222222222222,\"#7201a8\"],[0.3333333333333333,\"#9c179e\"],[0.4444444444444444,\"#bd3786\"],[0.5555555555555556,\"#d8576b\"],[0.6666666666666666,\"#ed7953\"],[0.7777777777777778,\"#fb9f3a\"],[0.8888888888888888,\"#fdca26\"],[1.0,\"#f0f921\"]]},\"hovermode\":\"closest\",\"hoverlabel\":{\"align\":\"left\"},\"coloraxis\":{\"colorbar\":{\"outlinewidth\":0.0,\"ticks\":\"\"}},\"geo\":{\"showland\":true,\"landcolor\":\"rgba(229, 236, 246, 1.0)\",\"showlakes\":true,\"lakecolor\":\"rgba(255, 255, 255, 1.0)\",\"subunitcolor\":\"rgba(255, 255, 255, 1.0)\",\"bgcolor\":\"rgba(255, 255, 255, 1.0)\"},\"mapbox\":{\"style\":\"light\"},\"polar\":{\"bgcolor\":\"rgba(229, 236, 246, 1.0)\",\"radialaxis\":{\"linecolor\":\"rgba(255, 255, 255, 1.0)\",\"gridcolor\":\"rgba(255, 255, 255, 1.0)\",\"ticks\":\"\"},\"angularaxis\":{\"linecolor\":\"rgba(255, 255, 255, 1.0)\",\"gridcolor\":\"rgba(255, 255, 255, 1.0)\",\"ticks\":\"\"}},\"scene\":{\"xaxis\":{\"ticks\":\"\",\"linecolor\":\"rgba(255, 255, 255, 1.0)\",\"gridcolor\":\"rgba(255, 255, 255, 1.0)\",\"gridwidth\":2.0,\"zerolinecolor\":\"rgba(255, 255, 255, 1.0)\",\"backgroundcolor\":\"rgba(229, 236, 246, 1.0)\",\"showbackground\":true},\"yaxis\":{\"ticks\":\"\",\"linecolor\":\"rgba(255, 255, 255, 1.0)\",\"gridcolor\":\"rgba(255, 255, 255, 1.0)\",\"gridwidth\":2.0,\"zerolinecolor\":\"rgba(255, 255, 255, 1.0)\",\"backgroundcolor\":\"rgba(229, 236, 246, 1.0)\",\"showbackground\":true},\"zaxis\":{\"ticks\":\"\",\"linecolor\":\"rgba(255, 255, 255, 1.0)\",\"gridcolor\":\"rgba(255, 255, 255, 1.0)\",\"gridwidth\":2.0,\"zerolinecolor\":\"rgba(255, 255, 255, 1.0)\",\"backgroundcolor\":\"rgba(229, 236, 246, 1.0)\",\"showbackground\":true}},\"ternary\":{\"aaxis\":{\"ticks\":\"\",\"linecolor\":\"rgba(255, 255, 255, 1.0)\",\"gridcolor\":\"rgba(255, 255, 255, 1.0)\"},\"baxis\":{\"ticks\":\"\",\"linecolor\":\"rgba(255, 255, 255, 1.0)\",\"gridcolor\":\"rgba(255, 255, 255, 1.0)\"},\"caxis\":{\"ticks\":\"\",\"linecolor\":\"rgba(255, 255, 255, 1.0)\",\"gridcolor\":\"rgba(255, 255, 255, 1.0)\"},\"bgcolor\":\"rgba(229, 236, 246, 1.0)\"},\"xaxis\":{\"title\":{\"standoff\":15},\"ticks\":\"\",\"automargin\":true,\"linecolor\":\"rgba(255, 255, 255, 1.0)\",\"gridcolor\":\"rgba(255, 255, 255, 1.0)\",\"zerolinecolor\":\"rgba(255, 255, 255, 1.0)\",\"zerolinewidth\":2.0},\"yaxis\":{\"title\":{\"standoff\":15},\"ticks\":\"\",\"automargin\":true,\"linecolor\":\"rgba(255, 255, 255, 1.0)\",\"gridcolor\":\"rgba(255, 255, 255, 1.0)\",\"zerolinecolor\":\"rgba(255, 255, 255, 1.0)\",\"zerolinewidth\":2.0},\"annotationdefaults\":{\"arrowcolor\":\"#2a3f5f\",\"arrowhead\":0,\"arrowwidth\":1},\"shapedefaults\":{\"line\":{\"color\":\"rgba(42, 63, 95, 1.0)\"}},\"colorway\":[\"rgba(99, 110, 250, 1.0)\",\"rgba(239, 85, 59, 1.0)\",\"rgba(0, 204, 150, 1.0)\",\"rgba(171, 99, 250, 1.0)\",\"rgba(255, 161, 90, 1.0)\",\"rgba(25, 211, 243, 1.0)\",\"rgba(255, 102, 146, 1.0)\",\"rgba(182, 232, 128, 1.0)\",\"rgba(255, 151, 255, 1.0)\",\"rgba(254, 203, 82, 1.0)\"]},\"data\":{\"bar\":[{\"marker\":{\"line\":{\"color\":\"rgba(229, 236, 246, 1.0)\",\"width\":0.5},\"pattern\":{\"fillmode\":\"overlay\",\"size\":10,\"solidity\":0.2}},\"error_x\":{\"color\":\"rgba(42, 63, 95, 1.0)\"},\"error_y\":{\"color\":\"rgba(42, 63, 95, 1.0)\"}}],\"barpolar\":[{\"marker\":{\"line\":{\"color\":\"rgba(229, 236, 246, 1.0)\",\"width\":0.5},\"pattern\":{\"fillmode\":\"overlay\",\"size\":10,\"solidity\":0.2}}}],\"carpet\":[{\"aaxis\":{\"linecolor\":\"rgba(255, 255, 255, 1.0)\",\"gridcolor\":\"rgba(255, 255, 255, 1.0)\",\"endlinecolor\":\"rgba(42, 63, 95, 1.0)\",\"minorgridcolor\":\"rgba(255, 255, 255, 1.0)\",\"startlinecolor\":\"rgba(42, 63, 95, 1.0)\"},\"baxis\":{\"linecolor\":\"rgba(255, 255, 255, 1.0)\",\"gridcolor\":\"rgba(255, 255, 255, 1.0)\",\"endlinecolor\":\"rgba(42, 63, 95, 1.0)\",\"minorgridcolor\":\"rgba(255, 255, 255, 1.0)\",\"startlinecolor\":\"rgba(42, 63, 95, 1.0)\"}}],\"choropleth\":[{\"colorbar\":{\"outlinewidth\":0.0,\"ticks\":\"\"},\"colorscale\":[[0.0,\"#0d0887\"],[0.1111111111111111,\"#46039f\"],[0.2222222222222222,\"#7201a8\"],[0.3333333333333333,\"#9c179e\"],[0.4444444444444444,\"#bd3786\"],[0.5555555555555556,\"#d8576b\"],[0.6666666666666666,\"#ed7953\"],[0.7777777777777778,\"#fb9f3a\"],[0.8888888888888888,\"#fdca26\"],[1.0,\"#f0f921\"]]}],\"contour\":[{\"colorbar\":{\"outlinewidth\":0.0,\"ticks\":\"\"},\"colorscale\":[[0.0,\"#0d0887\"],[0.1111111111111111,\"#46039f\"],[0.2222222222222222,\"#7201a8\"],[0.3333333333333333,\"#9c179e\"],[0.4444444444444444,\"#bd3786\"],[0.5555555555555556,\"#d8576b\"],[0.6666666666666666,\"#ed7953\"],[0.7777777777777778,\"#fb9f3a\"],[0.8888888888888888,\"#fdca26\"],[1.0,\"#f0f921\"]]}],\"contourcarpet\":[{\"colorbar\":{\"outlinewidth\":0.0,\"ticks\":\"\"}}],\"heatmap\":[{\"colorbar\":{\"outlinewidth\":0.0,\"ticks\":\"\"},\"colorscale\":[[0.0,\"#0d0887\"],[0.1111111111111111,\"#46039f\"],[0.2222222222222222,\"#7201a8\"],[0.3333333333333333,\"#9c179e\"],[0.4444444444444444,\"#bd3786\"],[0.5555555555555556,\"#d8576b\"],[0.6666666666666666,\"#ed7953\"],[0.7777777777777778,\"#fb9f3a\"],[0.8888888888888888,\"#fdca26\"],[1.0,\"#f0f921\"]]}],\"heatmapgl\":[{\"colorbar\":{\"outlinewidth\":0.0,\"ticks\":\"\"},\"colorscale\":[[0.0,\"#0d0887\"],[0.1111111111111111,\"#46039f\"],[0.2222222222222222,\"#7201a8\"],[0.3333333333333333,\"#9c179e\"],[0.4444444444444444,\"#bd3786\"],[0.5555555555555556,\"#d8576b\"],[0.6666666666666666,\"#ed7953\"],[0.7777777777777778,\"#fb9f3a\"],[0.8888888888888888,\"#fdca26\"],[1.0,\"#f0f921\"]]}],\"histogram\":[{\"marker\":{\"pattern\":{\"fillmode\":\"overlay\",\"size\":10,\"solidity\":0.2}}}],\"histogram2d\":[{\"colorbar\":{\"outlinewidth\":0.0,\"ticks\":\"\"},\"colorscale\":[[0.0,\"#0d0887\"],[0.1111111111111111,\"#46039f\"],[0.2222222222222222,\"#7201a8\"],[0.3333333333333333,\"#9c179e\"],[0.4444444444444444,\"#bd3786\"],[0.5555555555555556,\"#d8576b\"],[0.6666666666666666,\"#ed7953\"],[0.7777777777777778,\"#fb9f3a\"],[0.8888888888888888,\"#fdca26\"],[1.0,\"#f0f921\"]]}],\"histogram2dcontour\":[{\"colorbar\":{\"outlinewidth\":0.0,\"ticks\":\"\"},\"colorscale\":[[0.0,\"#0d0887\"],[0.1111111111111111,\"#46039f\"],[0.2222222222222222,\"#7201a8\"],[0.3333333333333333,\"#9c179e\"],[0.4444444444444444,\"#bd3786\"],[0.5555555555555556,\"#d8576b\"],[0.6666666666666666,\"#ed7953\"],[0.7777777777777778,\"#fb9f3a\"],[0.8888888888888888,\"#fdca26\"],[1.0,\"#f0f921\"]]}],\"mesh3d\":[{\"colorbar\":{\"outlinewidth\":0.0,\"ticks\":\"\"}}],\"parcoords\":[{\"line\":{\"colorbar\":{\"outlinewidth\":0.0,\"ticks\":\"\"}}}],\"pie\":[{\"automargin\":true}],\"scatter\":[{\"marker\":{\"colorbar\":{\"outlinewidth\":0.0,\"ticks\":\"\"}}}],\"scatter3d\":[{\"marker\":{\"colorbar\":{\"outlinewidth\":0.0,\"ticks\":\"\"}},\"line\":{\"colorbar\":{\"outlinewidth\":0.0,\"ticks\":\"\"}}}],\"scattercarpet\":[{\"marker\":{\"colorbar\":{\"outlinewidth\":0.0,\"ticks\":\"\"}}}],\"scattergeo\":[{\"marker\":{\"colorbar\":{\"outlinewidth\":0.0,\"ticks\":\"\"}}}],\"scattergl\":[{\"marker\":{\"colorbar\":{\"outlinewidth\":0.0,\"ticks\":\"\"}}}],\"scattermapbox\":[{\"marker\":{\"colorbar\":{\"outlinewidth\":0.0,\"ticks\":\"\"}}}],\"scatterpolar\":[{\"marker\":{\"colorbar\":{\"outlinewidth\":0.0,\"ticks\":\"\"}}}],\"scatterpolargl\":[{\"marker\":{\"colorbar\":{\"outlinewidth\":0.0,\"ticks\":\"\"}}}],\"scatterternary\":[{\"marker\":{\"colorbar\":{\"outlinewidth\":0.0,\"ticks\":\"\"}}}],\"surface\":[{\"colorbar\":{\"outlinewidth\":0.0,\"ticks\":\"\"},\"colorscale\":[[0.0,\"#0d0887\"],[0.1111111111111111,\"#46039f\"],[0.2222222222222222,\"#7201a8\"],[0.3333333333333333,\"#9c179e\"],[0.4444444444444444,\"#bd3786\"],[0.5555555555555556,\"#d8576b\"],[0.6666666666666666,\"#ed7953\"],[0.7777777777777778,\"#fb9f3a\"],[0.8888888888888888,\"#fdca26\"],[1.0,\"#f0f921\"]]}],\"table\":[{\"cells\":{\"fill\":{\"color\":\"rgba(235, 240, 248, 1.0)\"},\"line\":{\"color\":\"rgba(255, 255, 255, 1.0)\"}},\"header\":{\"fill\":{\"color\":\"rgba(200, 212, 227, 1.0)\"},\"line\":{\"color\":\"rgba(255, 255, 255, 1.0)\"}}}]}},\"xaxis\":{\"title\":{\"text\":\"Protein Anzahl\"}},\"yaxis\":{\"title\":{\"text\":\"P(Protein)\"}}};\r\n",
              "            var config = {\"responsive\":true};\r\n",
              "            Plotly.newPlot('faa37b59-32cd-4fc4-9c0d-faaa43a181ca', data, layout, config);\r\n",
              "});\r\n",
              "            };\r\n",
              "            if ((typeof(requirejs) !==  typeof(Function)) || (typeof(requirejs.config) !== typeof(Function))) {\r\n",
              "                var script = document.createElement(\"script\");\r\n",
              "                script.setAttribute(\"src\", \"https://cdnjs.cloudflare.com/ajax/libs/require.js/2.3.6/require.min.js\");\r\n",
              "                script.onload = function(){\r\n",
              "                    renderPlotly_faa37b5932cd4fc49c0dfaaa43a181ca();\r\n",
              "                };\r\n",
              "                document.getElementsByTagName(\"head\")[0].appendChild(script);\r\n",
              "            }\r\n",
              "            else {\r\n",
              "                renderPlotly_faa37b5932cd4fc49c0dfaaa43a181ca();\r\n",
              "            }\r\n",
              "</script>\r\n",
              "\n",
              "    \n",
              "</div>    \n"
            ]
          },
          "metadata": {},
          "output_type": "display_data"
        }
      ],
      "source": [
        "let samplesProtein =\n",
        "    samples\n",
        "    |> Array.map snd\n",
        "    |> Array.collect (fun x -> x.[50 ..])\n",
        "\n",
        "let sampleZahlenProtein =\n",
        "    samplesProtein\n",
        "    |> Array.countBy id\n",
        "    |> fun histo ->\n",
        "        let histoSum =\n",
        "            histo\n",
        "            |> Array.map snd\n",
        "            |> Array.sum\n",
        "        histo\n",
        "        |> Array.map (fun (event,count) -> event, float count/ float histoSum)\n",
        "\n",
        "let histoProtein =\n",
        "    Chart.Column(sampleZahlenProtein)\n",
        "    |> Chart.withXAxisStyle(TitleText = \"Protein Anzahl\")\n",
        "    |> Chart.withYAxisStyle(TitleText = \"P(Protein)\")\n",
        "\n",
        "histoProtein"
      ]
    },
    {
      "cell_type": "markdown",
      "metadata": {},
      "source": [
        "### Aufgabe\n",
        "Welcher Verteilung entspricht die mRNA-, und welcher die Protein-Verteilung? Probieren sie die Verteilungen aus und bestimmen sie die passenden Parameter."
      ]
    },
    {
      "cell_type": "code",
      "execution_count": null,
      "metadata": {
        "dotnet_interactive": {
          "language": "fsharp"
        },
        "vscode": {
          "languageId": "dotnet-interactive.fsharp"
        }
      },
      "outputs": [
        {
          "data": {
            "text/html": [
              "\n",
              "<div>\n",
              "    <div id=\"529b168a-1998-4d79-af9b-ce9c5a23a765\"><!-- Plotly chart will be drawn inside this DIV --></div>\r\n",
              "<script type=\"text/javascript\">\r\n",
              "\r\n",
              "            var renderPlotly_529b168a19984d79af9bce9c5a23a765 = function() {\r\n",
              "            var fsharpPlotlyRequire = requirejs.config({context:'fsharp-plotly',paths:{plotly:'https://cdn.plot.ly/plotly-2.6.3.min'}}) || require;\r\n",
              "            fsharpPlotlyRequire(['plotly'], function(Plotly) {\r\n",
              "\r\n",
              "            var data = [{\"type\":\"bar\",\"x\":[10.0,8.0,12.0,11.0,13.0,5.0,6.0,9.0,7.0,2.0,4.0,14.0,18.0,17.0,15.0,3.0,16.0,20.0,19.0,1.0,23.0,0.0,21.0,22.0,25.0,24.0,26.0],\"y\":[0.12767624532330415,0.10971381559616854,0.09388650565121154,0.11519852696323285,0.07257448433919023,0.03970539264656912,0.0651701239936534,0.1256390668155374,0.09184932714344479,0.001958825488237253,0.0190397837456661,0.05063563887093299,0.00658165364047717,0.011635423400129283,0.03402479873068109,0.006973418738124621,0.02058725588137353,0.0019000607235901354,0.003663003663003663,0.00029382382323558796,0.00021547080370609782,5.876476464711759E-05,0.0005288828818240583,0.00041135335252982314,1.9588254882372528E-05,3.9176509764745056E-05,1.9588254882372528E-05],\"orientation\":\"v\",\"marker\":{\"pattern\":{}}},{\"type\":\"scatter\",\"mode\":\"lines\",\"x\":[0.0,1.0,2.0,3.0,4.0,5.0,6.0,7.0,8.0,9.0,10.0,11.0,12.0,13.0,14.0,15.0,16.0,17.0,18.0,19.0,20.0,21.0,22.0,23.0,24.0,25.0],\"y\":[4.744747491595766E-05,0.0004723817105607101,0.0023514895246534388,0.007803721525672416,0.01942324291000769,0.03867512328829872,0.06417419447305678,0.09127300636194867,0.11358797003856758,0.12565211362899037,0.1250978276015032,0.11322362425646512,0.09393680309452387,0.07194032463346083,0.05115926862710613,0.0339557273496121,0.021128712061540357,0.012373827942500842,0.006844024213694359,0.0035862280740970773,0.0017852041179256355,0.000846347186491051,0.00038300623468471694,0.0001657898647204329,6.877438334792479E-05,2.7388400252022138E-05],\"marker\":{},\"line\":{}}];\r\n",
              "            var layout = {\"width\":600,\"height\":600,\"template\":{\"layout\":{\"title\":{\"x\":0.05},\"font\":{\"color\":\"rgba(42, 63, 95, 1.0)\"},\"paper_bgcolor\":\"rgba(255, 255, 255, 1.0)\",\"plot_bgcolor\":\"rgba(229, 236, 246, 1.0)\",\"autotypenumbers\":\"strict\",\"colorscale\":{\"diverging\":[[0.0,\"#8e0152\"],[0.1,\"#c51b7d\"],[0.2,\"#de77ae\"],[0.3,\"#f1b6da\"],[0.4,\"#fde0ef\"],[0.5,\"#f7f7f7\"],[0.6,\"#e6f5d0\"],[0.7,\"#b8e186\"],[0.8,\"#7fbc41\"],[0.9,\"#4d9221\"],[1.0,\"#276419\"]],\"sequential\":[[0.0,\"#0d0887\"],[0.1111111111111111,\"#46039f\"],[0.2222222222222222,\"#7201a8\"],[0.3333333333333333,\"#9c179e\"],[0.4444444444444444,\"#bd3786\"],[0.5555555555555556,\"#d8576b\"],[0.6666666666666666,\"#ed7953\"],[0.7777777777777778,\"#fb9f3a\"],[0.8888888888888888,\"#fdca26\"],[1.0,\"#f0f921\"]],\"sequentialminus\":[[0.0,\"#0d0887\"],[0.1111111111111111,\"#46039f\"],[0.2222222222222222,\"#7201a8\"],[0.3333333333333333,\"#9c179e\"],[0.4444444444444444,\"#bd3786\"],[0.5555555555555556,\"#d8576b\"],[0.6666666666666666,\"#ed7953\"],[0.7777777777777778,\"#fb9f3a\"],[0.8888888888888888,\"#fdca26\"],[1.0,\"#f0f921\"]]},\"hovermode\":\"closest\",\"hoverlabel\":{\"align\":\"left\"},\"coloraxis\":{\"colorbar\":{\"outlinewidth\":0.0,\"ticks\":\"\"}},\"geo\":{\"showland\":true,\"landcolor\":\"rgba(229, 236, 246, 1.0)\",\"showlakes\":true,\"lakecolor\":\"rgba(255, 255, 255, 1.0)\",\"subunitcolor\":\"rgba(255, 255, 255, 1.0)\",\"bgcolor\":\"rgba(255, 255, 255, 1.0)\"},\"mapbox\":{\"style\":\"light\"},\"polar\":{\"bgcolor\":\"rgba(229, 236, 246, 1.0)\",\"radialaxis\":{\"linecolor\":\"rgba(255, 255, 255, 1.0)\",\"gridcolor\":\"rgba(255, 255, 255, 1.0)\",\"ticks\":\"\"},\"angularaxis\":{\"linecolor\":\"rgba(255, 255, 255, 1.0)\",\"gridcolor\":\"rgba(255, 255, 255, 1.0)\",\"ticks\":\"\"}},\"scene\":{\"xaxis\":{\"ticks\":\"\",\"linecolor\":\"rgba(255, 255, 255, 1.0)\",\"gridcolor\":\"rgba(255, 255, 255, 1.0)\",\"gridwidth\":2.0,\"zerolinecolor\":\"rgba(255, 255, 255, 1.0)\",\"backgroundcolor\":\"rgba(229, 236, 246, 1.0)\",\"showbackground\":true},\"yaxis\":{\"ticks\":\"\",\"linecolor\":\"rgba(255, 255, 255, 1.0)\",\"gridcolor\":\"rgba(255, 255, 255, 1.0)\",\"gridwidth\":2.0,\"zerolinecolor\":\"rgba(255, 255, 255, 1.0)\",\"backgroundcolor\":\"rgba(229, 236, 246, 1.0)\",\"showbackground\":true},\"zaxis\":{\"ticks\":\"\",\"linecolor\":\"rgba(255, 255, 255, 1.0)\",\"gridcolor\":\"rgba(255, 255, 255, 1.0)\",\"gridwidth\":2.0,\"zerolinecolor\":\"rgba(255, 255, 255, 1.0)\",\"backgroundcolor\":\"rgba(229, 236, 246, 1.0)\",\"showbackground\":true}},\"ternary\":{\"aaxis\":{\"ticks\":\"\",\"linecolor\":\"rgba(255, 255, 255, 1.0)\",\"gridcolor\":\"rgba(255, 255, 255, 1.0)\"},\"baxis\":{\"ticks\":\"\",\"linecolor\":\"rgba(255, 255, 255, 1.0)\",\"gridcolor\":\"rgba(255, 255, 255, 1.0)\"},\"caxis\":{\"ticks\":\"\",\"linecolor\":\"rgba(255, 255, 255, 1.0)\",\"gridcolor\":\"rgba(255, 255, 255, 1.0)\"},\"bgcolor\":\"rgba(229, 236, 246, 1.0)\"},\"xaxis\":{\"title\":{\"standoff\":15},\"ticks\":\"\",\"automargin\":true,\"linecolor\":\"rgba(255, 255, 255, 1.0)\",\"gridcolor\":\"rgba(255, 255, 255, 1.0)\",\"zerolinecolor\":\"rgba(255, 255, 255, 1.0)\",\"zerolinewidth\":2.0},\"yaxis\":{\"title\":{\"standoff\":15},\"ticks\":\"\",\"automargin\":true,\"linecolor\":\"rgba(255, 255, 255, 1.0)\",\"gridcolor\":\"rgba(255, 255, 255, 1.0)\",\"zerolinecolor\":\"rgba(255, 255, 255, 1.0)\",\"zerolinewidth\":2.0},\"annotationdefaults\":{\"arrowcolor\":\"#2a3f5f\",\"arrowhead\":0,\"arrowwidth\":1},\"shapedefaults\":{\"line\":{\"color\":\"rgba(42, 63, 95, 1.0)\"}},\"colorway\":[\"rgba(99, 110, 250, 1.0)\",\"rgba(239, 85, 59, 1.0)\",\"rgba(0, 204, 150, 1.0)\",\"rgba(171, 99, 250, 1.0)\",\"rgba(255, 161, 90, 1.0)\",\"rgba(25, 211, 243, 1.0)\",\"rgba(255, 102, 146, 1.0)\",\"rgba(182, 232, 128, 1.0)\",\"rgba(255, 151, 255, 1.0)\",\"rgba(254, 203, 82, 1.0)\"]},\"data\":{\"bar\":[{\"marker\":{\"line\":{\"color\":\"rgba(229, 236, 246, 1.0)\",\"width\":0.5},\"pattern\":{\"fillmode\":\"overlay\",\"size\":10,\"solidity\":0.2}},\"error_x\":{\"color\":\"rgba(42, 63, 95, 1.0)\"},\"error_y\":{\"color\":\"rgba(42, 63, 95, 1.0)\"}}],\"barpolar\":[{\"marker\":{\"line\":{\"color\":\"rgba(229, 236, 246, 1.0)\",\"width\":0.5},\"pattern\":{\"fillmode\":\"overlay\",\"size\":10,\"solidity\":0.2}}}],\"carpet\":[{\"aaxis\":{\"linecolor\":\"rgba(255, 255, 255, 1.0)\",\"gridcolor\":\"rgba(255, 255, 255, 1.0)\",\"endlinecolor\":\"rgba(42, 63, 95, 1.0)\",\"minorgridcolor\":\"rgba(255, 255, 255, 1.0)\",\"startlinecolor\":\"rgba(42, 63, 95, 1.0)\"},\"baxis\":{\"linecolor\":\"rgba(255, 255, 255, 1.0)\",\"gridcolor\":\"rgba(255, 255, 255, 1.0)\",\"endlinecolor\":\"rgba(42, 63, 95, 1.0)\",\"minorgridcolor\":\"rgba(255, 255, 255, 1.0)\",\"startlinecolor\":\"rgba(42, 63, 95, 1.0)\"}}],\"choropleth\":[{\"colorbar\":{\"outlinewidth\":0.0,\"ticks\":\"\"},\"colorscale\":[[0.0,\"#0d0887\"],[0.1111111111111111,\"#46039f\"],[0.2222222222222222,\"#7201a8\"],[0.3333333333333333,\"#9c179e\"],[0.4444444444444444,\"#bd3786\"],[0.5555555555555556,\"#d8576b\"],[0.6666666666666666,\"#ed7953\"],[0.7777777777777778,\"#fb9f3a\"],[0.8888888888888888,\"#fdca26\"],[1.0,\"#f0f921\"]]}],\"contour\":[{\"colorbar\":{\"outlinewidth\":0.0,\"ticks\":\"\"},\"colorscale\":[[0.0,\"#0d0887\"],[0.1111111111111111,\"#46039f\"],[0.2222222222222222,\"#7201a8\"],[0.3333333333333333,\"#9c179e\"],[0.4444444444444444,\"#bd3786\"],[0.5555555555555556,\"#d8576b\"],[0.6666666666666666,\"#ed7953\"],[0.7777777777777778,\"#fb9f3a\"],[0.8888888888888888,\"#fdca26\"],[1.0,\"#f0f921\"]]}],\"contourcarpet\":[{\"colorbar\":{\"outlinewidth\":0.0,\"ticks\":\"\"}}],\"heatmap\":[{\"colorbar\":{\"outlinewidth\":0.0,\"ticks\":\"\"},\"colorscale\":[[0.0,\"#0d0887\"],[0.1111111111111111,\"#46039f\"],[0.2222222222222222,\"#7201a8\"],[0.3333333333333333,\"#9c179e\"],[0.4444444444444444,\"#bd3786\"],[0.5555555555555556,\"#d8576b\"],[0.6666666666666666,\"#ed7953\"],[0.7777777777777778,\"#fb9f3a\"],[0.8888888888888888,\"#fdca26\"],[1.0,\"#f0f921\"]]}],\"heatmapgl\":[{\"colorbar\":{\"outlinewidth\":0.0,\"ticks\":\"\"},\"colorscale\":[[0.0,\"#0d0887\"],[0.1111111111111111,\"#46039f\"],[0.2222222222222222,\"#7201a8\"],[0.3333333333333333,\"#9c179e\"],[0.4444444444444444,\"#bd3786\"],[0.5555555555555556,\"#d8576b\"],[0.6666666666666666,\"#ed7953\"],[0.7777777777777778,\"#fb9f3a\"],[0.8888888888888888,\"#fdca26\"],[1.0,\"#f0f921\"]]}],\"histogram\":[{\"marker\":{\"pattern\":{\"fillmode\":\"overlay\",\"size\":10,\"solidity\":0.2}}}],\"histogram2d\":[{\"colorbar\":{\"outlinewidth\":0.0,\"ticks\":\"\"},\"colorscale\":[[0.0,\"#0d0887\"],[0.1111111111111111,\"#46039f\"],[0.2222222222222222,\"#7201a8\"],[0.3333333333333333,\"#9c179e\"],[0.4444444444444444,\"#bd3786\"],[0.5555555555555556,\"#d8576b\"],[0.6666666666666666,\"#ed7953\"],[0.7777777777777778,\"#fb9f3a\"],[0.8888888888888888,\"#fdca26\"],[1.0,\"#f0f921\"]]}],\"histogram2dcontour\":[{\"colorbar\":{\"outlinewidth\":0.0,\"ticks\":\"\"},\"colorscale\":[[0.0,\"#0d0887\"],[0.1111111111111111,\"#46039f\"],[0.2222222222222222,\"#7201a8\"],[0.3333333333333333,\"#9c179e\"],[0.4444444444444444,\"#bd3786\"],[0.5555555555555556,\"#d8576b\"],[0.6666666666666666,\"#ed7953\"],[0.7777777777777778,\"#fb9f3a\"],[0.8888888888888888,\"#fdca26\"],[1.0,\"#f0f921\"]]}],\"mesh3d\":[{\"colorbar\":{\"outlinewidth\":0.0,\"ticks\":\"\"}}],\"parcoords\":[{\"line\":{\"colorbar\":{\"outlinewidth\":0.0,\"ticks\":\"\"}}}],\"pie\":[{\"automargin\":true}],\"scatter\":[{\"marker\":{\"colorbar\":{\"outlinewidth\":0.0,\"ticks\":\"\"}}}],\"scatter3d\":[{\"marker\":{\"colorbar\":{\"outlinewidth\":0.0,\"ticks\":\"\"}},\"line\":{\"colorbar\":{\"outlinewidth\":0.0,\"ticks\":\"\"}}}],\"scattercarpet\":[{\"marker\":{\"colorbar\":{\"outlinewidth\":0.0,\"ticks\":\"\"}}}],\"scattergeo\":[{\"marker\":{\"colorbar\":{\"outlinewidth\":0.0,\"ticks\":\"\"}}}],\"scattergl\":[{\"marker\":{\"colorbar\":{\"outlinewidth\":0.0,\"ticks\":\"\"}}}],\"scattermapbox\":[{\"marker\":{\"colorbar\":{\"outlinewidth\":0.0,\"ticks\":\"\"}}}],\"scatterpolar\":[{\"marker\":{\"colorbar\":{\"outlinewidth\":0.0,\"ticks\":\"\"}}}],\"scatterpolargl\":[{\"marker\":{\"colorbar\":{\"outlinewidth\":0.0,\"ticks\":\"\"}}}],\"scatterternary\":[{\"marker\":{\"colorbar\":{\"outlinewidth\":0.0,\"ticks\":\"\"}}}],\"surface\":[{\"colorbar\":{\"outlinewidth\":0.0,\"ticks\":\"\"},\"colorscale\":[[0.0,\"#0d0887\"],[0.1111111111111111,\"#46039f\"],[0.2222222222222222,\"#7201a8\"],[0.3333333333333333,\"#9c179e\"],[0.4444444444444444,\"#bd3786\"],[0.5555555555555556,\"#d8576b\"],[0.6666666666666666,\"#ed7953\"],[0.7777777777777778,\"#fb9f3a\"],[0.8888888888888888,\"#fdca26\"],[1.0,\"#f0f921\"]]}],\"table\":[{\"cells\":{\"fill\":{\"color\":\"rgba(235, 240, 248, 1.0)\"},\"line\":{\"color\":\"rgba(255, 255, 255, 1.0)\"}},\"header\":{\"fill\":{\"color\":\"rgba(200, 212, 227, 1.0)\"},\"line\":{\"color\":\"rgba(255, 255, 255, 1.0)\"}}}]}},\"xaxis\":{\"title\":{\"text\":\"mRNA Anzahl\"}},\"yaxis\":{\"title\":{\"text\":\"P(mRNA)\"}}};\r\n",
              "            var config = {\"responsive\":true};\r\n",
              "            Plotly.newPlot('529b168a-1998-4d79-af9b-ce9c5a23a765', data, layout, config);\r\n",
              "});\r\n",
              "            };\r\n",
              "            if ((typeof(requirejs) !==  typeof(Function)) || (typeof(requirejs.config) !== typeof(Function))) {\r\n",
              "                var script = document.createElement(\"script\");\r\n",
              "                script.setAttribute(\"src\", \"https://cdnjs.cloudflare.com/ajax/libs/require.js/2.3.6/require.min.js\");\r\n",
              "                script.onload = function(){\r\n",
              "                    renderPlotly_529b168a19984d79af9bce9c5a23a765();\r\n",
              "                };\r\n",
              "                document.getElementsByTagName(\"head\")[0].appendChild(script);\r\n",
              "            }\r\n",
              "            else {\r\n",
              "                renderPlotly_529b168a19984d79af9bce9c5a23a765();\r\n",
              "            }\r\n",
              "</script>\r\n",
              "\n",
              "    \n",
              "</div>    \n"
            ]
          },
          "metadata": {},
          "output_type": "display_data"
        }
      ],
      "source": [
        "let poissonLambda = Distributions.Discrete.Poisson.Fit samplesmRNA\n",
        "let poissonVerteilung = Distributions.Discrete.Poisson.Init poissonLambda\n",
        "\n",
        "[\n",
        "    histomRNA\n",
        "    Chart.Line ([|0. .. 25.|], [|0 .. 25|] |> Array.map poissonVerteilung.PMF)\n",
        "]\n",
        "|> Chart.combine"
      ]
    },
    {
      "cell_type": "code",
      "execution_count": null,
      "metadata": {
        "dotnet_interactive": {
          "language": "fsharp"
        },
        "vscode": {
          "languageId": "dotnet-interactive.fsharp"
        }
      },
      "outputs": [
        {
          "data": {
            "text/html": [
              "\n",
              "<div>\n",
              "    <div id=\"00644bfe-55ca-4058-94bb-1da62a13251d\"><!-- Plotly chart will be drawn inside this DIV --></div>\r\n",
              "<script type=\"text/javascript\">\r\n",
              "\r\n",
              "            var renderPlotly_00644bfe55ca405894bb1da62a13251d = function() {\r\n",
              "            var fsharpPlotlyRequire = requirejs.config({context:'fsharp-plotly',paths:{plotly:'https://cdn.plot.ly/plotly-2.6.3.min'}}) || require;\r\n",
              "            fsharpPlotlyRequire(['plotly'], function(Plotly) {\r\n",
              "\r\n",
              "            var data = [{\"type\":\"bar\",\"x\":[281.0,263.0,256.0,250.0,262.0,236.0,251.0,268.0,278.0,246.0,244.0,223.0,213.0,207.0,211.0,217.0,232.0,233.0,231.0,249.0,258.0,230.0,203.0,201.0,175.0,180.0,187.0,205.0,195.0,214.0,221.0,229.0,234.0,260.0,299.0,327.0,336.0,341.0,325.0,329.0,317.0,284.0,242.0,248.0,210.0,192.0,204.0,252.0,254.0,255.0,272.0,267.0,279.0,291.0,275.0,270.0,257.0,228.0,215.0,227.0,224.0,239.0,237.0,220.0,216.0,253.0,219.0,196.0,183.0,178.0,198.0,225.0,259.0,235.0,238.0,240.0,194.0,200.0,209.0,218.0,199.0,173.0,164.0,156.0,148.0,143.0,144.0,161.0,186.0,189.0,184.0,202.0,188.0,179.0,185.0,273.0,288.0,298.0,274.0,311.0,328.0,306.0,286.0,276.0,271.0,222.0,261.0,245.0,303.0,241.0,247.0,177.0,226.0,197.0,150.0,159.0,163.0,154.0,152.0,160.0,155.0,162.0,301.0,321.0,315.0,304.0,305.0,316.0,297.0,265.0,277.0,294.0,314.0,323.0,264.0,292.0,307.0,295.0,269.0,243.0,282.0,308.0,293.0,320.0,322.0,319.0,191.0,190.0,208.0,193.0,176.0,280.0,287.0,302.0,300.0,212.0,168.0,149.0,285.0,310.0,318.0,345.0,344.0,385.0,370.0,367.0,380.0,383.0,372.0,348.0,378.0,394.0,420.0,402.0,384.0,377.0,356.0,369.0,388.0,386.0,283.0,169.0,182.0,289.0,313.0,290.0,342.0,337.0,352.0,391.0,172.0,165.0,331.0,339.0,346.0,343.0,296.0,171.0,334.0,347.0,332.0,140.0,181.0,141.0,133.0,118.0,111.0,122.0,151.0,338.0,358.0,309.0,266.0,349.0,333.0,350.0,359.0,361.0,158.0,166.0,354.0,357.0,371.0,379.0,353.0,360.0,418.0,436.0,435.0,405.0,330.0,312.0,147.0,127.0,119.0,123.0,135.0,130.0,121.0,145.0,326.0,206.0,170.0,137.0,355.0,340.0,167.0,174.0,395.0,398.0,366.0,382.0,335.0,153.0,134.0,124.0,368.0,373.0,363.0,392.0,431.0,447.0,421.0,406.0,364.0,351.0,389.0,396.0,416.0,430.0,410.0,375.0,374.0,324.0,404.0,407.0,381.0,365.0,131.0,126.0,113.0,106.0,109.0,125.0,132.0,387.0,362.0,157.0,403.0,409.0,427.0,136.0,390.0,415.0,408.0,440.0,393.0,434.0,399.0,139.0,142.0,457.0,448.0,419.0,455.0,459.0,468.0,464.0,442.0,146.0,400.0,423.0,376.0,412.0,429.0,401.0,138.0,397.0,116.0,128.0,428.0,114.0,439.0,129.0,422.0,424.0,110.0,102.0,117.0],\"y\":[0.0069342422283598755,0.007482713365066306,0.008697185167773402,0.009245656304479833,0.008344596579890697,0.008893067716597128,0.00805077275665511,0.008540479128714423,0.006444535856300562,0.009559068382597794,0.009382774088656442,0.008246655305478835,0.007090948267418856,0.005758946935417524,0.00673835967953615,0.0067187714246537775,0.00789406671759613,0.007933243227360874,0.008932244226361873,0.008501302618949678,0.007913654972478501,0.008951832481244246,0.005915652974476504,0.005543476131711426,0.002115531527296233,0.002742355683532154,0.004035180505768741,0.006091947268417857,0.004799122446181269,0.007032183502771738,0.008011596246890365,0.008893067716597128,0.00852089087383205,0.008422949599420188,0.004466122113180936,0.0017629429394135276,0.0011752952929423518,0.0012536483124718418,0.002448531860296566,0.0016454134101192926,0.0027227674286497815,0.005523887876829054,0.009324009324009324,0.009030185500773736,0.006150712033064974,0.004564063387592799,0.0059352412293588765,0.008814714697067638,0.009030185500773736,0.00852089087383205,0.007012595247889365,0.008187890540831718,0.006855889208830386,0.005582652641476171,0.007169301286948346,0.007463125110183933,0.008403361344537815,0.008481714364067305,0.00689506571859513,0.007952831482243248,0.008638420403126285,0.009010597245891363,0.009226068049597462,0.007580654639478169,0.007502301619948679,0.008187890540831718,0.007423948600419189,0.0049362402303578775,0.003427944604415193,0.0028402969579440166,0.005249652308475838,0.008168302285949345,0.008560067383596796,0.00904977375565611,0.008873479461714755,0.008775538187302893,0.004446533858298564,0.0059352412293588765,0.00618988854282972,0.007521889874831052,0.005504299621946681,0.0019196489784725078,0.0010969422734128616,0.0007443536855301561,0.0004505298622945682,0.00029382382323558796,0.00041135335252982314,0.0009794127441186266,0.0040547687606511135,0.0037217684276507805,0.0032712385653562125,0.005778535190299896,0.0040547687606511135,0.0023897670956494485,0.0035258858788270553,0.0070517717576541105,0.005073358014534485,0.004622828152239917,0.007306419071124954,0.002879473467708762,0.001880472468707763,0.003741356682533153,0.0060527707586531115,0.007071360012536483,0.007404360345536816,0.00789406671759613,0.008893067716597128,0.009167303284950344,0.004250651309474839,0.008951832481244246,0.009010597245891363,0.002546473134708429,0.007228066051595463,0.005190887543828721,0.0006072359013535485,0.0010969422734128616,0.0012536483124718418,0.0007247654306477835,0.0007247654306477835,0.0009402362343538815,0.000999000999000999,0.001332001332001332,0.004426945603416192,0.002409355350531821,0.002566061389590801,0.004211474799710094,0.0035258858788270553,0.002879473467708762,0.004662004662004662,0.007933243227360874,0.006797124444183267,0.005210475798711093,0.00325165031047384,0.0021351197821786057,0.008089949266419854,0.005484711367064308,0.003780533192297898,0.00495582848524025,0.007463125110183933,0.00906936201053848,0.006150712033064974,0.002997002997002997,0.005328005328005328,0.0024877083700613114,0.0025268848798260563,0.0024877083700613114,0.003976415741121624,0.004133121780180603,0.006679594914889032,0.004309416074121957,0.002213472801708096,0.00642494760141819,0.0050537697596521125,0.004133121780180603,0.004015592250886368,0.006307418072123955,0.0015278838808250573,0.0006855889208830385,0.005798123445182268,0.0031341207811796047,0.0028207087030616444,0.0011752952929423518,0.0009794127441186266,0.00017629429394135277,0.0004897063720593133,0.00041135335252982314,0.00023505905858847037,0.0001958825488237253,0.00035258858788270555,0.0010185892538833714,0.0001958825488237253,0.00015670603905898023,5.876476464711759E-05,5.876476464711759E-05,0.0001958825488237253,0.00029382382323558796,0.0004505298622945682,0.0003917650976474506,0.0002742355683532154,0.00023505905858847037,0.006150712033064974,0.0018021194491782727,0.00340835634953282,0.006111535523300229,0.0028402969579440166,0.0049362402303578775,0.0009598244892362539,0.0013124130771189596,0.0007247654306477835,0.00011752952929423518,0.001958825488237253,0.0012732365673542145,0.0016845899198840374,0.0010773540185304892,0.0008618832148243913,0.0014103543515308222,0.004857887210828388,0.00154747213570743,0.0016845899198840374,0.0008814714697067638,0.0018412959589430178,0.000333000333000333,0.0028207087030616444,0.00041135335252982314,0.0001958825488237253,7.835301952949011E-05,1.9588254882372528E-05,5.876476464711759E-05,0.0007639419404125286,0.0013515895868837044,0.0005288828818240583,0.003114532526297232,0.007835301952949012,0.0009206479794715089,0.0015866486454721748,0.0007443536855301561,0.0007639419404125286,0.0006072359013535485,0.0008227067050596463,0.0015866486454721748,0.0005680593915888034,0.0007443536855301561,0.00047011811717694073,0.0002742355683532154,0.0007051771757654111,0.00035258858788270555,3.9176509764745056E-05,5.876476464711759E-05,3.9176509764745056E-05,9.794127441186265E-05,0.0019392372333548805,0.0030165912518853697,0.0005876476464711759,0.0001371177841766077,7.835301952949011E-05,5.876476464711759E-05,0.00017629429394135277,0.00011752952929423518,1.9588254882372528E-05,0.0006072359013535485,0.001958825488237253,0.005994005994005994,0.0017433546845311552,0.0003917650976474506,0.0005092946269416857,0.0014103543515308222,0.0016454134101192926,0.0020567667626491155,3.9176509764745056E-05,0.00011752952929423518,0.0005092946269416857,0.0001958825488237253,0.00170417817476641,0.0006855889208830385,3.9176509764745056E-05,5.876476464711759E-05,0.0003917650976474506,0.00023505905858847037,0.00035258858788270555,3.9176509764745056E-05,1.9588254882372528E-05,1.9588254882372528E-05,1.9588254882372528E-05,5.876476464711759E-05,0.00029382382323558796,0.0007247654306477835,0.0001371177841766077,7.835301952949011E-05,5.876476464711759E-05,3.9176509764745056E-05,3.9176509764745056E-05,0.00031341207811796045,0.000333000333000333,0.002370178840767076,9.794127441186265E-05,1.9588254882372528E-05,0.00025464731347084286,0.00029382382323558796,0.00011752952929423518,9.794127441186265E-05,9.794127441186265E-05,1.9588254882372528E-05,5.876476464711759E-05,5.876476464711759E-05,0.0001371177841766077,0.00015670603905898023,0.000333000333000333,0.0010185892538833714,0.00015670603905898023,5.876476464711759E-05,5.876476464711759E-05,9.794127441186265E-05,7.835301952949011E-05,1.9588254882372528E-05,1.9588254882372528E-05,1.9588254882372528E-05,9.794127441186265E-05,1.9588254882372528E-05,3.9176509764745056E-05,0.00017629429394135277,0.00041135335252982314,3.9176509764745056E-05,1.9588254882372528E-05,1.9588254882372528E-05,1.9588254882372528E-05,1.9588254882372528E-05,1.9588254882372528E-05,1.9588254882372528E-05,1.9588254882372528E-05,0.00029382382323558796,9.794127441186265E-05,1.9588254882372528E-05,0.00011752952929423518,5.876476464711759E-05,1.9588254882372528E-05,9.794127441186265E-05,0.00025464731347084286,3.9176509764745056E-05,1.9588254882372528E-05,9.794127441186265E-05,3.9176509764745056E-05,3.9176509764745056E-05,1.9588254882372528E-05,5.876476464711759E-05,1.9588254882372528E-05,1.9588254882372528E-05,1.9588254882372528E-05,1.9588254882372528E-05,1.9588254882372528E-05],\"orientation\":\"v\",\"marker\":{\"pattern\":{}}},{\"type\":\"scatter\",\"mode\":\"lines\",\"x\":[0.0,1.0,2.0,3.0,4.0,5.0,6.0,7.0,8.0,9.0,10.0,11.0,12.0,13.0,14.0,15.0,16.0,17.0,18.0,19.0,20.0,21.0,22.0,23.0,24.0,25.0,26.0,27.0,28.0,29.0,30.0,31.0,32.0,33.0,34.0,35.0,36.0,37.0,38.0,39.0,40.0,41.0,42.0,43.0,44.0,45.0,46.0,47.0,48.0,49.0,50.0,51.0,52.0,53.0,54.0,55.0,56.0,57.0,58.0,59.0,60.0,61.0,62.0,63.0,64.0,65.0,66.0,67.0,68.0,69.0,70.0,71.0,72.0,73.0,74.0,75.0,76.0,77.0,78.0,79.0,80.0,81.0,82.0,83.0,84.0,85.0,86.0,87.0,88.0,89.0,90.0,91.0,92.0,93.0,94.0,95.0,96.0,97.0,98.0,99.0,100.0,101.0,102.0,103.0,104.0,105.0,106.0,107.0,108.0,109.0,110.0,111.0,112.0,113.0,114.0,115.0,116.0,117.0,118.0,119.0,120.0,121.0,122.0,123.0,124.0,125.0,126.0,127.0,128.0,129.0,130.0,131.0,132.0,133.0,134.0,135.0,136.0,137.0,138.0,139.0,140.0,141.0,142.0,143.0,144.0,145.0,146.0,147.0,148.0,149.0,150.0,151.0,152.0,153.0,154.0,155.0,156.0,157.0,158.0,159.0,160.0,161.0,162.0,163.0,164.0,165.0,166.0,167.0,168.0,169.0,170.0,171.0,172.0,173.0,174.0,175.0,176.0,177.0,178.0,179.0,180.0,181.0,182.0,183.0,184.0,185.0,186.0,187.0,188.0,189.0,190.0,191.0,192.0,193.0,194.0,195.0,196.0,197.0,198.0,199.0,200.0,201.0,202.0,203.0,204.0,205.0,206.0,207.0,208.0,209.0,210.0,211.0,212.0,213.0,214.0,215.0,216.0,217.0,218.0,219.0,220.0,221.0,222.0,223.0,224.0,225.0,226.0,227.0,228.0,229.0,230.0,231.0,232.0,233.0,234.0,235.0,236.0,237.0,238.0,239.0,240.0,241.0,242.0,243.0,244.0,245.0,246.0,247.0,248.0,249.0,250.0,251.0,252.0,253.0,254.0,255.0,256.0,257.0,258.0,259.0,260.0,261.0,262.0,263.0,264.0,265.0,266.0,267.0,268.0,269.0,270.0,271.0,272.0,273.0,274.0,275.0,276.0,277.0,278.0,279.0,280.0,281.0,282.0,283.0,284.0,285.0,286.0,287.0,288.0,289.0,290.0,291.0,292.0,293.0,294.0,295.0,296.0,297.0,298.0,299.0,300.0,301.0,302.0,303.0,304.0,305.0,306.0,307.0,308.0,309.0,310.0,311.0,312.0,313.0,314.0,315.0,316.0,317.0,318.0,319.0,320.0,321.0,322.0,323.0,324.0,325.0,326.0,327.0,328.0,329.0,330.0,331.0,332.0,333.0,334.0,335.0,336.0,337.0,338.0,339.0,340.0,341.0,342.0,343.0,344.0,345.0,346.0,347.0,348.0,349.0,350.0,351.0,352.0,353.0,354.0,355.0,356.0,357.0,358.0,359.0,360.0,361.0,362.0,363.0,364.0,365.0,366.0,367.0,368.0,369.0,370.0,371.0,372.0,373.0,374.0,375.0,376.0,377.0,378.0,379.0,380.0,381.0,382.0,383.0,384.0,385.0,386.0,387.0,388.0,389.0,390.0,391.0,392.0,393.0,394.0,395.0,396.0,397.0,398.0,399.0,400.0,401.0,402.0,403.0,404.0,405.0,406.0,407.0,408.0,409.0,410.0,411.0,412.0,413.0,414.0,415.0,416.0,417.0,418.0,419.0,420.0,421.0,422.0,423.0,424.0,425.0,426.0,427.0,428.0,429.0,430.0,431.0,432.0,433.0,434.0,435.0,436.0,437.0,438.0,439.0,440.0,441.0,442.0,443.0,444.0,445.0,446.0,447.0,448.0,449.0,450.0,451.0,452.0,453.0,454.0,455.0,456.0,457.0,458.0,459.0,460.0,461.0,462.0,463.0,464.0,465.0,466.0,467.0,468.0,469.0,470.0,471.0,472.0,473.0,474.0,475.0,476.0,477.0,478.0,479.0,480.0,481.0,482.0,483.0,484.0,485.0,486.0,487.0,488.0,489.0,490.0,491.0,492.0,493.0,494.0,495.0,496.0,497.0,498.0,499.0,500.0],\"y\":[0.0,4.0392479105762196E-60,2.5575528324488935E-51,3.422870171504032E-46,1.4333482815637392E-42,8.992363377040394E-40,1.6979330204306744E-37,1.399915916816441E-35,6.2933932350582985E-34,1.7802967125397144E-32,3.494700791966434E-31,5.104354881782112E-30,5.840630282431827E-29,5.444502287929684E-28,4.2623010815899E-27,2.87070031277641E-26,1.6960164222404567E-25,8.930476607593976E-25,4.246592470576408E-24,1.843819843369013E-23,7.378383173936522E-23,2.7430138796873485E-22,9.538829351486655E-22,3.1213431497088453E-21,9.660885731855737E-21,2.841157886635394E-20,7.971103082399866E-20,2.1410681394102323E-19,5.523411202361712E-19,1.3723978203470692E-18,3.292714833158348E-18,7.64586421114806E-18,1.7218659104712924E-17,3.7678274480492864E-17,8.025034781328552E-17,1.6662783920319108E-16,3.377659627558059E-16,6.693043207965494E-16,1.298066055902677E-15,2.4667229492458212E-15,4.5977200640417865E-15,8.413529016067815E-15,1.512907363317548E-14,2.6754861954232037E-14,4.6567446271376396E-14,7.982925781690726E-14,1.348751281197668E-13,2.2473110297453078E-13,3.694964845268172E-13,5.998073753990594E-13,9.618154420387174E-13,1.5242665442515832E-12,2.388459126056551E-12,3.7021122717109865E-12,5.678490301028032E-12,8.622528798669547E-12,1.296620211921651E-11,1.9315982807946028E-11,2.851598920990592E-11,4.173132099960962E-11,6.055716753039502E-11,8.716056653967789E-11,1.2446321800554034E-10,1.7637554797635973E-10,2.4809429862614073E-10,3.464783221445247E-10,4.805200050359761E-10,6.619328719963704E-10,9.058794381824655E-10,1.2318673151998602E-09,1.664845944604179E-09,2.236541142356684E-09,2.9870698906478113E-09,3.966883503659625E-09,5.239093405559453E-09,6.882240266043315E-09,8.993574103126227E-09,1.1692920133970422E-08,1.512721256828923E-08,1.9475786117078078E-08,2.4956522639460184E-08,3.1832957965029766E-08,4.0422461386463925E-08,5.110560748154388E-08,6.433686664598648E-08,8.065674683747619E-08,1.0070552437482765E-07,1.2523870602382542E-07,1.5514436784483986E-07,1.9146251818547115E-07,2.3540663258031612E-07,2.88387506977741E-07,3.5203957246347526E-07,4.2824980931333335E-07,5.191893906163581E-07,6.273481757126507E-07,7.555721611557693E-07,9.071039817277897E-07,1.085626536122485E-06,1.2953097912171265E-06,1.5408607953515275E-06,1.8275769047438516E-06,2.1614021981446494E-06,2.548987023158414E-06,2.997750583477994E-06,3.5159464397586346E-06,4.112730758217986E-06,4.798233100555349E-06,5.583629506724427E-06,6.481217578825256E-06,7.504493230263258E-06,8.668228719778603E-06,9.988551545419789E-06,1.1483023729475531E-05,1.3170720982295751E-05,1.5072311191330092E-05,1.721013164208532E-05,1.9608264340623747E-05,2.229260877314908E-05,2.5290951407743614E-05,2.8633031216870267E-05,3.2350600477339964E-05,3.647748008755742E-05,4.1049608630349135E-05,4.610508440400061E-05,5.168419964454845E-05,5.782946616931002E-05,6.458563168510238E-05,7.199968602504675E-05,8.012085660514791E-05,8.900059242622594E-05,9.869253598800591E-05,0.00010925248253055837,0.00012073832607299149,0.00013320999178105257,0.00014672935426271908,0.00016136014146459195,0.00017716782392068986,0.00019421948918936933,0.00021258370140210834,0.00023233034594029574,0.00025353045935111164,0.0002762560447115213,0.0003005798727487444,0.0003265752691260889,0.00035431588840343877,0.00038387547528242046,0.0004153276138440103,0.0004487454655840582,0.0004842014971449168,0.0005217671987317966,0.0005615127942879656,0.000603506944582691,0.0006478164444410635,0.0006945059154120626,0.0007436374952322213,0.0007952705254961187,0.0008494612389887083,0.0009062624481724032,0.0009657232363484464,0.0010278886530316073,0.001092799415085347,0.0011604916151645537,0.0012309964390038084,0.0013043398930679504,0.0013805425440540481,0.001459619271695042,0.0015415790362670592,0.001626424662147658,0.0017141526387054826,0.0018047529397302474,0.0018982088625315405,0.001994496887746196,0.0020935865608011843,0.002195440395878154,0.002300013803122046,0.0024072550397240696,0.0025171051853992966,0.002629498142658901,0.0027443606621616154,0.002861612393306033,0.002981165960105751,0.003102927062266273,0.0032267946012656005,0.0033526608311152924,0.003480411533368286,0.0036099262158207487,0.003741078334245809,0.003873735536392458,0.004007759927376301,0.004143008355496997,0.004279332717423088,0.004416580281600508,0.0045545940286640055,0.004693213007557906,0.004832272706009663,0.004971605433942643,0.005111040718366458,0.005250405708240389,0.005389525587775786,0.00552822399661457,0.00566632345530831,0.005803645794508089,0.005940012586281073,0.006075245575969922,0.006209167113029044,0.006341600579292082,0.0064723708131563034,0.006601304528197851,0.00672823072478187,0.0068529810932739825,0.006975390407514585,0.00709529690727521,0.007212542668482875,0.007326973960059914,0.00743844158630398,0.007546801213808384,0.007651913681993289,0.0077536452964115255,0.00785186810406376,0.007946460150045964,0.008037305714942409,0.008124295532456176,0.008207326986857298,0.008286304289916809,0.008361138637080365,0.008431748342714708,0.008498058954344271,0.00856000334588666,0.008617521789954048,0.00867056200938459,0.00871907920822715,0.008763036082483938,0.008802402810970226,0.008837157026732474,0.008867283769503407,0.008892775419756204,0.008913631614944234,0.008929859148584806,0.008941471852876184,0.008948490465584111,0.008950942481963617,0.008948861992522249,0.008942289507449873,0.008931271768572065,0.008915861549691786,0.008896117446213657,0.008872103654945496,0.008843889744978548,0.008811550420562487,0.008775165276876912,0.008734818549605736,0.008690598859213012,0.008642598950805696,0.008590915430457011,0.008535648498847958,0.008476901683064546,0.008414781567367614,0.008349397523729294,0.008280861442902762,0.00820928746676472,0.00813479172263955,0.008057492060285965,0.007977507792194687,0.007894959437803122,0.007809968472216898,0.007722657079972114,0.00763314791435255,0.0075415638627319365,0.007448027818377125,0.007352662459110255,0.00725559003319402,0.007156932152766567,0.007056809595116115,0.006955342112048414,0.006852648247570897,0.006748845164078428,0.006644048477192926,0.006538372099374579,0.006431928092401265,0.006324826528765501,0.006217175362024163,0.0061090803060998185,0.006000644723508097,0.0058919695224596055,0.0057831530627606605,0.0056742910704158,0.005565476560808046,0.005456799770320138,0.005348348096237438,0.005240206044752582,0.005132455186884529,0.005025174122098204,0.004918438449412487,0.00481232074575573,0.004706890551333019,0.004602214361746989,0.004498355626618293,0.004395374754431439,0.004293329123340783,0.004192273097652879,0.004092258049710252,0.0039933323868898,0.003895541583434097,0.003798928216830713,0.0037035320084551496,0.0036093898681968405,0.0035165359427851576,0.0034250016675433045,0.0033348158212913215,0.0032460045841332624,0.0031585915978649404,0.003072598028741282,0.0029880426323533674,0.002904941820370034,0.0028233097289038864,0.0027431582882712705,0.0026644972939239555,0.0025873344783342504,0.002511675583628609,0.0024375244347698242,0.0023648830130960745,0.002293751530037262,0.0022241285008332127,0.0021560108180908957,0.002089393825023865,0.0020242713882278832,0.001960635969853941,0.00189847869904966,0.0018377894425480497,0.00177855687429055,0.0017207685439810686,0.00166441094447434,0.0016094695779110362,0.0015559290205185846,0.0015037729860062836,0.0014529843874883845,0.0014035453978770932,0.0013554375086951207,0.0013086415872620263,0.0012631379322174904,0.0012189063273480806,0.00117592609369294,0.0011341761399068762,0.001093635010866217,0.0010542809345073794,0.0010160918668929851,0.000979045535505161,0.0009431194807695696,0.0009082910958178471,0.0008745376645004481,0.0008418363976647026,0.0008101644677166342,0.0007794990414877476,0.0007498173114316394,0.0007210965251767405,0.0006933140134644061,0.0006664472165040724,0.0006404737087784783,0.0006153712223338286,0.0005911176685916851,0.0005676911587201676,0.0005450700226036025,0.0005232328264504678,0.0005021583890805961,0.000481825796932805,0.0004622144178352596,0.00044330391358057066,0.0004250742513483645,0.00040750571401809374,0.00039057890941444125,0.0003742747785282654,0.0003585746027551081,0.0003434600101935413,0.00032891298104480876,0.00031491585215500566,0.0003014513207404395,0.0002885024473358531,0.0002760526580053221,0.0002640857458538187,0.0002525858718775326,0.00024153756518974025,0.00023092572265828425,0.00022073560798978217,0.00021095285029473684,0.00020156344216677046,0.00019255373730825098,0.00018391044773346754,0.00017562064057963144,0.00016767173455484643,0.00016005149605125945,0.00015274803495040763,0.00014574980014703712,0.00013904557481626072,0.00013262447144821447,0.0001264759266732268,0.00012058969589948576,0.00011495584778425908,0.00010956475855874607,0.00010440710622559098,9.947386464728906E-05,9.475629754264811E-05,9.024595240764665E-05,8.593465437614312E-05,8.181450003500659E-05,7.787785120736347E-05,7.41173287169748E-05,7.052580614575865E-05,6.709640359594292E-05,6.382248146735916E-05,6.06976342598641E-05,5.7715684410061074E-05,5.487067617087253E-05,5.215686954185914E-05,4.9568734257606306E-05,4.710094384081881E-05,4.474836972629485E-05,4.250607546133458E-05,4.036931098766303E-05,3.8333507009435E-05,3.6394269451410034E-05,3.454737401095074E-05,3.278876080707949E-05,3.111452912938436E-05,2.952093228924143E-05,2.800437257538571E-05,2.656139631560644E-05,2.518868904593322E-05,2.388307078844433E-05,2.264149143850222E-05,2.1461026261975094E-05,2.0338871502747607E-05,1.92723401005876E-05,1.8258857519224052E-05,1.7295957684290556E-05,1.63812790305898E-05,1.551256065798419E-05,1.4687638595037854E-05,1.3904442169399935E-05,1.316099048378271E-05,1.2455388996270457E-05,1.1785826203577656E-05,1.1150570425779392E-05,1.0547966690953284E-05,9.976433718077147E-06,9.43446099647483E-06,8.920605960026274E-06,8.433491254311231E-06,7.971802094806173E-06,7.5342837142236896E-06,7.11973889703441E-06,6.72702559920929E-06,6.355054651178459E-06,6.002787542003136E-06,5.669234282743012E-06,5.353451346997552E-06,5.054539686602298E-06,4.771642820460512E-06,4.503944994510433E-06,4.250669410825179E-06,4.011076523871347E-06,3.7844624019618354E-06,3.570157151964184E-06,3.3675234053465017E-06,3.175954863670376E-06,2.9948749016670243E-06,2.82373522606232E-06,2.6620145883476656E-06,2.5092175497267594E-06,2.3648732964997995E-06,2.2285345041846745E-06,2.0997762487057945E-06,1.978194963022822E-06,1.863407437603926E-06,1.7550498631875071E-06,1.6527769143145802E-06,1.556260872151197E-06,1.4651907851578144E-06,1.379271666202108E-06,1.2982237247491752E-06,1.221781632800528E-06,1.1496938232916357E-06,1.0817218196959701E-06,1.0176395956188954E-06,9.572329632034645E-07,9.002989892050781E-07,8.466454376290235E-07,7.960902378593386E-07,7.484609772425234E-07,7.035944171243094E-07,6.613360313705085E-07,6.215395664362636E-07,5.840666220802919E-07,5.487862518523398E-07,5.155745825124533E-07,4.84314451571534E-07,4.548950621713794E-07,4.272116545515279E-07,4.0116519337803887E-07,3.7666207023652255E-07,3.536138206180325E-07],\"marker\":{},\"line\":{}}];\r\n",
              "            var layout = {\"width\":600,\"height\":600,\"template\":{\"layout\":{\"title\":{\"x\":0.05},\"font\":{\"color\":\"rgba(42, 63, 95, 1.0)\"},\"paper_bgcolor\":\"rgba(255, 255, 255, 1.0)\",\"plot_bgcolor\":\"rgba(229, 236, 246, 1.0)\",\"autotypenumbers\":\"strict\",\"colorscale\":{\"diverging\":[[0.0,\"#8e0152\"],[0.1,\"#c51b7d\"],[0.2,\"#de77ae\"],[0.3,\"#f1b6da\"],[0.4,\"#fde0ef\"],[0.5,\"#f7f7f7\"],[0.6,\"#e6f5d0\"],[0.7,\"#b8e186\"],[0.8,\"#7fbc41\"],[0.9,\"#4d9221\"],[1.0,\"#276419\"]],\"sequential\":[[0.0,\"#0d0887\"],[0.1111111111111111,\"#46039f\"],[0.2222222222222222,\"#7201a8\"],[0.3333333333333333,\"#9c179e\"],[0.4444444444444444,\"#bd3786\"],[0.5555555555555556,\"#d8576b\"],[0.6666666666666666,\"#ed7953\"],[0.7777777777777778,\"#fb9f3a\"],[0.8888888888888888,\"#fdca26\"],[1.0,\"#f0f921\"]],\"sequentialminus\":[[0.0,\"#0d0887\"],[0.1111111111111111,\"#46039f\"],[0.2222222222222222,\"#7201a8\"],[0.3333333333333333,\"#9c179e\"],[0.4444444444444444,\"#bd3786\"],[0.5555555555555556,\"#d8576b\"],[0.6666666666666666,\"#ed7953\"],[0.7777777777777778,\"#fb9f3a\"],[0.8888888888888888,\"#fdca26\"],[1.0,\"#f0f921\"]]},\"hovermode\":\"closest\",\"hoverlabel\":{\"align\":\"left\"},\"coloraxis\":{\"colorbar\":{\"outlinewidth\":0.0,\"ticks\":\"\"}},\"geo\":{\"showland\":true,\"landcolor\":\"rgba(229, 236, 246, 1.0)\",\"showlakes\":true,\"lakecolor\":\"rgba(255, 255, 255, 1.0)\",\"subunitcolor\":\"rgba(255, 255, 255, 1.0)\",\"bgcolor\":\"rgba(255, 255, 255, 1.0)\"},\"mapbox\":{\"style\":\"light\"},\"polar\":{\"bgcolor\":\"rgba(229, 236, 246, 1.0)\",\"radialaxis\":{\"linecolor\":\"rgba(255, 255, 255, 1.0)\",\"gridcolor\":\"rgba(255, 255, 255, 1.0)\",\"ticks\":\"\"},\"angularaxis\":{\"linecolor\":\"rgba(255, 255, 255, 1.0)\",\"gridcolor\":\"rgba(255, 255, 255, 1.0)\",\"ticks\":\"\"}},\"scene\":{\"xaxis\":{\"ticks\":\"\",\"linecolor\":\"rgba(255, 255, 255, 1.0)\",\"gridcolor\":\"rgba(255, 255, 255, 1.0)\",\"gridwidth\":2.0,\"zerolinecolor\":\"rgba(255, 255, 255, 1.0)\",\"backgroundcolor\":\"rgba(229, 236, 246, 1.0)\",\"showbackground\":true},\"yaxis\":{\"ticks\":\"\",\"linecolor\":\"rgba(255, 255, 255, 1.0)\",\"gridcolor\":\"rgba(255, 255, 255, 1.0)\",\"gridwidth\":2.0,\"zerolinecolor\":\"rgba(255, 255, 255, 1.0)\",\"backgroundcolor\":\"rgba(229, 236, 246, 1.0)\",\"showbackground\":true},\"zaxis\":{\"ticks\":\"\",\"linecolor\":\"rgba(255, 255, 255, 1.0)\",\"gridcolor\":\"rgba(255, 255, 255, 1.0)\",\"gridwidth\":2.0,\"zerolinecolor\":\"rgba(255, 255, 255, 1.0)\",\"backgroundcolor\":\"rgba(229, 236, 246, 1.0)\",\"showbackground\":true}},\"ternary\":{\"aaxis\":{\"ticks\":\"\",\"linecolor\":\"rgba(255, 255, 255, 1.0)\",\"gridcolor\":\"rgba(255, 255, 255, 1.0)\"},\"baxis\":{\"ticks\":\"\",\"linecolor\":\"rgba(255, 255, 255, 1.0)\",\"gridcolor\":\"rgba(255, 255, 255, 1.0)\"},\"caxis\":{\"ticks\":\"\",\"linecolor\":\"rgba(255, 255, 255, 1.0)\",\"gridcolor\":\"rgba(255, 255, 255, 1.0)\"},\"bgcolor\":\"rgba(229, 236, 246, 1.0)\"},\"xaxis\":{\"title\":{\"standoff\":15},\"ticks\":\"\",\"automargin\":true,\"linecolor\":\"rgba(255, 255, 255, 1.0)\",\"gridcolor\":\"rgba(255, 255, 255, 1.0)\",\"zerolinecolor\":\"rgba(255, 255, 255, 1.0)\",\"zerolinewidth\":2.0},\"yaxis\":{\"title\":{\"standoff\":15},\"ticks\":\"\",\"automargin\":true,\"linecolor\":\"rgba(255, 255, 255, 1.0)\",\"gridcolor\":\"rgba(255, 255, 255, 1.0)\",\"zerolinecolor\":\"rgba(255, 255, 255, 1.0)\",\"zerolinewidth\":2.0},\"annotationdefaults\":{\"arrowcolor\":\"#2a3f5f\",\"arrowhead\":0,\"arrowwidth\":1},\"shapedefaults\":{\"line\":{\"color\":\"rgba(42, 63, 95, 1.0)\"}},\"colorway\":[\"rgba(99, 110, 250, 1.0)\",\"rgba(239, 85, 59, 1.0)\",\"rgba(0, 204, 150, 1.0)\",\"rgba(171, 99, 250, 1.0)\",\"rgba(255, 161, 90, 1.0)\",\"rgba(25, 211, 243, 1.0)\",\"rgba(255, 102, 146, 1.0)\",\"rgba(182, 232, 128, 1.0)\",\"rgba(255, 151, 255, 1.0)\",\"rgba(254, 203, 82, 1.0)\"]},\"data\":{\"bar\":[{\"marker\":{\"line\":{\"color\":\"rgba(229, 236, 246, 1.0)\",\"width\":0.5},\"pattern\":{\"fillmode\":\"overlay\",\"size\":10,\"solidity\":0.2}},\"error_x\":{\"color\":\"rgba(42, 63, 95, 1.0)\"},\"error_y\":{\"color\":\"rgba(42, 63, 95, 1.0)\"}}],\"barpolar\":[{\"marker\":{\"line\":{\"color\":\"rgba(229, 236, 246, 1.0)\",\"width\":0.5},\"pattern\":{\"fillmode\":\"overlay\",\"size\":10,\"solidity\":0.2}}}],\"carpet\":[{\"aaxis\":{\"linecolor\":\"rgba(255, 255, 255, 1.0)\",\"gridcolor\":\"rgba(255, 255, 255, 1.0)\",\"endlinecolor\":\"rgba(42, 63, 95, 1.0)\",\"minorgridcolor\":\"rgba(255, 255, 255, 1.0)\",\"startlinecolor\":\"rgba(42, 63, 95, 1.0)\"},\"baxis\":{\"linecolor\":\"rgba(255, 255, 255, 1.0)\",\"gridcolor\":\"rgba(255, 255, 255, 1.0)\",\"endlinecolor\":\"rgba(42, 63, 95, 1.0)\",\"minorgridcolor\":\"rgba(255, 255, 255, 1.0)\",\"startlinecolor\":\"rgba(42, 63, 95, 1.0)\"}}],\"choropleth\":[{\"colorbar\":{\"outlinewidth\":0.0,\"ticks\":\"\"},\"colorscale\":[[0.0,\"#0d0887\"],[0.1111111111111111,\"#46039f\"],[0.2222222222222222,\"#7201a8\"],[0.3333333333333333,\"#9c179e\"],[0.4444444444444444,\"#bd3786\"],[0.5555555555555556,\"#d8576b\"],[0.6666666666666666,\"#ed7953\"],[0.7777777777777778,\"#fb9f3a\"],[0.8888888888888888,\"#fdca26\"],[1.0,\"#f0f921\"]]}],\"contour\":[{\"colorbar\":{\"outlinewidth\":0.0,\"ticks\":\"\"},\"colorscale\":[[0.0,\"#0d0887\"],[0.1111111111111111,\"#46039f\"],[0.2222222222222222,\"#7201a8\"],[0.3333333333333333,\"#9c179e\"],[0.4444444444444444,\"#bd3786\"],[0.5555555555555556,\"#d8576b\"],[0.6666666666666666,\"#ed7953\"],[0.7777777777777778,\"#fb9f3a\"],[0.8888888888888888,\"#fdca26\"],[1.0,\"#f0f921\"]]}],\"contourcarpet\":[{\"colorbar\":{\"outlinewidth\":0.0,\"ticks\":\"\"}}],\"heatmap\":[{\"colorbar\":{\"outlinewidth\":0.0,\"ticks\":\"\"},\"colorscale\":[[0.0,\"#0d0887\"],[0.1111111111111111,\"#46039f\"],[0.2222222222222222,\"#7201a8\"],[0.3333333333333333,\"#9c179e\"],[0.4444444444444444,\"#bd3786\"],[0.5555555555555556,\"#d8576b\"],[0.6666666666666666,\"#ed7953\"],[0.7777777777777778,\"#fb9f3a\"],[0.8888888888888888,\"#fdca26\"],[1.0,\"#f0f921\"]]}],\"heatmapgl\":[{\"colorbar\":{\"outlinewidth\":0.0,\"ticks\":\"\"},\"colorscale\":[[0.0,\"#0d0887\"],[0.1111111111111111,\"#46039f\"],[0.2222222222222222,\"#7201a8\"],[0.3333333333333333,\"#9c179e\"],[0.4444444444444444,\"#bd3786\"],[0.5555555555555556,\"#d8576b\"],[0.6666666666666666,\"#ed7953\"],[0.7777777777777778,\"#fb9f3a\"],[0.8888888888888888,\"#fdca26\"],[1.0,\"#f0f921\"]]}],\"histogram\":[{\"marker\":{\"pattern\":{\"fillmode\":\"overlay\",\"size\":10,\"solidity\":0.2}}}],\"histogram2d\":[{\"colorbar\":{\"outlinewidth\":0.0,\"ticks\":\"\"},\"colorscale\":[[0.0,\"#0d0887\"],[0.1111111111111111,\"#46039f\"],[0.2222222222222222,\"#7201a8\"],[0.3333333333333333,\"#9c179e\"],[0.4444444444444444,\"#bd3786\"],[0.5555555555555556,\"#d8576b\"],[0.6666666666666666,\"#ed7953\"],[0.7777777777777778,\"#fb9f3a\"],[0.8888888888888888,\"#fdca26\"],[1.0,\"#f0f921\"]]}],\"histogram2dcontour\":[{\"colorbar\":{\"outlinewidth\":0.0,\"ticks\":\"\"},\"colorscale\":[[0.0,\"#0d0887\"],[0.1111111111111111,\"#46039f\"],[0.2222222222222222,\"#7201a8\"],[0.3333333333333333,\"#9c179e\"],[0.4444444444444444,\"#bd3786\"],[0.5555555555555556,\"#d8576b\"],[0.6666666666666666,\"#ed7953\"],[0.7777777777777778,\"#fb9f3a\"],[0.8888888888888888,\"#fdca26\"],[1.0,\"#f0f921\"]]}],\"mesh3d\":[{\"colorbar\":{\"outlinewidth\":0.0,\"ticks\":\"\"}}],\"parcoords\":[{\"line\":{\"colorbar\":{\"outlinewidth\":0.0,\"ticks\":\"\"}}}],\"pie\":[{\"automargin\":true}],\"scatter\":[{\"marker\":{\"colorbar\":{\"outlinewidth\":0.0,\"ticks\":\"\"}}}],\"scatter3d\":[{\"marker\":{\"colorbar\":{\"outlinewidth\":0.0,\"ticks\":\"\"}},\"line\":{\"colorbar\":{\"outlinewidth\":0.0,\"ticks\":\"\"}}}],\"scattercarpet\":[{\"marker\":{\"colorbar\":{\"outlinewidth\":0.0,\"ticks\":\"\"}}}],\"scattergeo\":[{\"marker\":{\"colorbar\":{\"outlinewidth\":0.0,\"ticks\":\"\"}}}],\"scattergl\":[{\"marker\":{\"colorbar\":{\"outlinewidth\":0.0,\"ticks\":\"\"}}}],\"scattermapbox\":[{\"marker\":{\"colorbar\":{\"outlinewidth\":0.0,\"ticks\":\"\"}}}],\"scatterpolar\":[{\"marker\":{\"colorbar\":{\"outlinewidth\":0.0,\"ticks\":\"\"}}}],\"scatterpolargl\":[{\"marker\":{\"colorbar\":{\"outlinewidth\":0.0,\"ticks\":\"\"}}}],\"scatterternary\":[{\"marker\":{\"colorbar\":{\"outlinewidth\":0.0,\"ticks\":\"\"}}}],\"surface\":[{\"colorbar\":{\"outlinewidth\":0.0,\"ticks\":\"\"},\"colorscale\":[[0.0,\"#0d0887\"],[0.1111111111111111,\"#46039f\"],[0.2222222222222222,\"#7201a8\"],[0.3333333333333333,\"#9c179e\"],[0.4444444444444444,\"#bd3786\"],[0.5555555555555556,\"#d8576b\"],[0.6666666666666666,\"#ed7953\"],[0.7777777777777778,\"#fb9f3a\"],[0.8888888888888888,\"#fdca26\"],[1.0,\"#f0f921\"]]}],\"table\":[{\"cells\":{\"fill\":{\"color\":\"rgba(235, 240, 248, 1.0)\"},\"line\":{\"color\":\"rgba(255, 255, 255, 1.0)\"}},\"header\":{\"fill\":{\"color\":\"rgba(200, 212, 227, 1.0)\"},\"line\":{\"color\":\"rgba(255, 255, 255, 1.0)\"}}}]}},\"xaxis\":{\"title\":{\"text\":\"Protein Anzahl\"}},\"yaxis\":{\"title\":{\"text\":\"P(Protein)\"}}};\r\n",
              "            var config = {\"responsive\":true};\r\n",
              "            Plotly.newPlot('00644bfe-55ca-4058-94bb-1da62a13251d', data, layout, config);\r\n",
              "});\r\n",
              "            };\r\n",
              "            if ((typeof(requirejs) !==  typeof(Function)) || (typeof(requirejs.config) !== typeof(Function))) {\r\n",
              "                var script = document.createElement(\"script\");\r\n",
              "                script.setAttribute(\"src\", \"https://cdnjs.cloudflare.com/ajax/libs/require.js/2.3.6/require.min.js\");\r\n",
              "                script.onload = function(){\r\n",
              "                    renderPlotly_00644bfe55ca405894bb1da62a13251d();\r\n",
              "                };\r\n",
              "                document.getElementsByTagName(\"head\")[0].appendChild(script);\r\n",
              "            }\r\n",
              "            else {\r\n",
              "                renderPlotly_00644bfe55ca405894bb1da62a13251d();\r\n",
              "            }\r\n",
              "</script>\r\n",
              "\n",
              "    \n",
              "</div>    \n"
            ]
          },
          "metadata": {},
          "output_type": "display_data"
        }
      ],
      "source": [
        "let gammaAlpha,gammaBeta = Distributions.Continuous.Gamma.Fit samplesProtein\n",
        "let gammaVerteilung = Distributions.Continuous.Gamma.Init gammaAlpha gammaBeta\n",
        "\n",
        "[\n",
        "    histoProtein\n",
        "    Chart.Line ([|0. .. 500.|], [|0. .. 500.|] |> Array.map gammaVerteilung.PDF)\n",
        "]\n",
        "|> Chart.combine"
      ]
    }
  ],
  "metadata": {
    "kernelspec": {
      "display_name": ".NET (C#)",
      "language": "C#",
      "name": ".net-csharp"
    },
    "language_info": {
      "file_extension": ".cs",
      "mimetype": "text/x-csharp",
      "name": "C#",
      "pygments_lexer": "csharp",
      "version": "8.0"
    }
  },
  "nbformat": 4,
  "nbformat_minor": 4
}
