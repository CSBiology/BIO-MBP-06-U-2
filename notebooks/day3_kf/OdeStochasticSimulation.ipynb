{
  "cells": [
    {
      "cell_type": "markdown",
      "metadata": {},
      "source": [
        "# Example: Solving Ordinary Differential Equations"
      ]
    },
    {
      "cell_type": "markdown",
      "metadata": {},
      "source": [
        "In this notebook we will use Python to solve differential equations numerically."
      ]
    },
    {
      "cell_type": "code",
      "execution_count": null,
      "metadata": {
        "dotnet_interactive": {
          "language": "fsharp"
        },
        "vscode": {
          "languageId": "dotnet-interactive.fsharp"
        }
      },
      "outputs": [
        {
          "data": {
            "text/html": [
              "<div><div></div><div></div><div><strong>Installed Packages</strong><ul><li><span>FSOde, 0.0.1</span></li><li><span>Plotly.NET.Interactive, 3.0.2</span></li></ul></div></div>"
            ]
          },
          "metadata": {},
          "output_type": "display_data"
        }
      ],
      "source": [
        "// Import the required modules\n",
        "#r \"nuget: Plotly.NET.Interactive, 3.0.2\"\n",
        "#r @\"C:\\Users\\jonat\\source\\repos\\FSharp.Stats\\src\\FSharp.Stats\\bin\\Release\\netstandard2.0\\FSharp.Stats.dll\"\n",
        "#r \"nuget: FSOde\"\n",
        "\n",
        "// ... and open the required modules\n",
        "open FsODE\n",
        "open Plotly.NET\n",
        "open FSharp.Stats"
      ]
    },
    {
      "cell_type": "code",
      "execution_count": null,
      "metadata": {
        "dotnet_interactive": {
          "language": "fsharp"
        },
        "vscode": {
          "languageId": "dotnet-interactive.fsharp"
        }
      },
      "outputs": [],
      "source": [
        "// First set the model context that remembers the solver method and it´s optiony \n",
        "let modelContext = //OdeContext()\n",
        "    OdeSolverMethod.RK546M //RK547M()\n",
        "    |> OdeContext\n",
        "\n",
        "modelContext.SetStepSize(0.01)"
      ]
    },
    {
      "cell_type": "markdown",
      "metadata": {},
      "source": [
        "## Sampling out of master equations\n",
        "\n",
        "For some stories, we know the probability distribution. For example, if the story is that we are doing n\n",
        "independent coin flips, each with probability p of landing heads, the number h\n",
        "\n",
        "of heads is Binomially distributed. We could prove that this is the case, or look it up in a book. But sometimes, it is too difficult (or impossible) to prove what the distribution is, so we can numerically compute its properties by sampling out of the distribution. Sampling involved using a random number generator to simulate the story that generates the distribution. So, if you know the story and you have a computer handy, you can sample to be able to get a plot of your distribution, though you will not get the analytical form.\n",
        "\n",
        "Let’s demonstrate this with the Binomial distribution. We will take n=25\n",
        "and p=0.25 and compute P(h∣n,p), the probability of getting h heads in n flips, each with probability p of landing heads. We will draw 10, 30, 100, and 300 samples and plot them versus the expected Binomial distribution."
      ]
    },
    {
      "cell_type": "code",
      "execution_count": null,
      "metadata": {
        "dotnet_interactive": {
          "language": "fsharp"
        },
        "vscode": {
          "languageId": "dotnet-interactive.fsharp"
        }
      },
      "outputs": [
        {
          "data": {
            "text/html": [
              "\n",
              "<div>\n",
              "    <div id=\"0634a0f0-aec1-4080-952f-6bdf7f31d444\"><!-- Plotly chart will be drawn inside this DIV --></div>\r\n",
              "<script type=\"text/javascript\">\r\n",
              "\r\n",
              "            var renderPlotly_0634a0f0aec14080952f6bdf7f31d444 = function() {\r\n",
              "            var fsharpPlotlyRequire = requirejs.config({context:'fsharp-plotly',paths:{plotly:'https://cdn.plot.ly/plotly-2.6.3.min'}}) || require;\r\n",
              "            fsharpPlotlyRequire(['plotly'], function(Plotly) {\r\n",
              "\r\n",
              "            var data = [{\"type\":\"scatter\",\"mode\":\"markers\",\"x\":[7,6,5,8,3,9,2,4],\"y\":[0.16666666666666666,0.16666666666666666,0.26666666666666666,0.1,0.13333333333333333,0.06666666666666667,0.03333333333333333,0.06666666666666667],\"marker\":{\"color\":\"Orange\"},\"line\":{},\"xaxis\":\"x\",\"yaxis\":\"y\"},{\"type\":\"scatter\",\"mode\":\"markers\",\"x\":[0,1,2,3,4,5,6,7,8,9,10,11,12,13,14,15,16,17,18,19,20,21,22,23,24,25],\"y\":[0.0007525434581650009,0.006271195484718762,0.025084781938915692,0.06410555384399787,0.11752684871417801,0.16453758820009692,0.182819542444813,0.1654081574502899,0.1240561180878663,0.07810940768503243,0.04165835076538414,0.018935613984275963,0.007363849882775983,0.0024546166275920002,0.0007013190364546628,0.0001714335422443791,3.571532130088355E-05,6.302703758973037E-06,9.337338902171049E-07,1.1466907423703524E-07,1.1466907423687175E-08,9.100720177515782E-10,5.51558798636467E-11,2.398081733198222E-12,6.661338147762031E-14,8.881784197001244E-16],\"marker\":{\"color\":\"Blue\",\"opacity\":0.5},\"line\":{},\"xaxis\":\"x\",\"yaxis\":\"y\"},{\"type\":\"scatter\",\"mode\":\"markers\",\"x\":[9,10,6,7,5,4,8,11,3,1],\"y\":[0.09,0.05,0.19,0.13,0.12,0.17,0.15,0.04,0.04,0.02],\"marker\":{\"color\":\"Orange\"},\"line\":{},\"xaxis\":\"x2\",\"yaxis\":\"y2\"},{\"type\":\"scatter\",\"mode\":\"markers\",\"x\":[0,1,2,3,4,5,6,7,8,9,10,11,12,13,14,15,16,17,18,19,20,21,22,23,24,25],\"y\":[0.0007525434581650009,0.006271195484718762,0.025084781938915692,0.06410555384399787,0.11752684871417801,0.16453758820009692,0.182819542444813,0.1654081574502899,0.1240561180878663,0.07810940768503243,0.04165835076538414,0.018935613984275963,0.007363849882775983,0.0024546166275920002,0.0007013190364546628,0.0001714335422443791,3.571532130088355E-05,6.302703758973037E-06,9.337338902171049E-07,1.1466907423703524E-07,1.1466907423687175E-08,9.100720177515782E-10,5.51558798636467E-11,2.398081733198222E-12,6.661338147762031E-14,8.881784197001244E-16],\"marker\":{\"color\":\"Blue\",\"opacity\":0.5},\"line\":{},\"xaxis\":\"x2\",\"yaxis\":\"y2\"},{\"type\":\"scatter\",\"mode\":\"markers\",\"x\":[7,6,9,5,4,8,10,3,2,1,12,11,13,14,15],\"y\":[0.163,0.175,0.078,0.17,0.11,0.127,0.047,0.064,0.023,0.006,0.01,0.023,0.002,0.001,0.001],\"marker\":{\"color\":\"Orange\"},\"line\":{},\"xaxis\":\"x3\",\"yaxis\":\"y3\"},{\"type\":\"scatter\",\"mode\":\"markers\",\"x\":[0,1,2,3,4,5,6,7,8,9,10,11,12,13,14,15,16,17,18,19,20,21,22,23,24,25],\"y\":[0.0007525434581650009,0.006271195484718762,0.025084781938915692,0.06410555384399787,0.11752684871417801,0.16453758820009692,0.182819542444813,0.1654081574502899,0.1240561180878663,0.07810940768503243,0.04165835076538414,0.018935613984275963,0.007363849882775983,0.0024546166275920002,0.0007013190364546628,0.0001714335422443791,3.571532130088355E-05,6.302703758973037E-06,9.337338902171049E-07,1.1466907423703524E-07,1.1466907423687175E-08,9.100720177515782E-10,5.51558798636467E-11,2.398081733198222E-12,6.661338147762031E-14,8.881784197001244E-16],\"marker\":{\"color\":\"Blue\",\"opacity\":0.5},\"line\":{},\"xaxis\":\"x3\",\"yaxis\":\"y3\"},{\"type\":\"scatter\",\"mode\":\"markers\",\"x\":[6,8,3,7,4,5,11,10,9,2,1,12,13,14,0],\"y\":[0.1766,0.1282,0.0635,0.1677,0.12,0.1629,0.0204,0.0433,0.075,0.0256,0.0067,0.0073,0.0017,0.0006,0.0005],\"marker\":{\"color\":\"Orange\"},\"line\":{},\"xaxis\":\"x4\",\"yaxis\":\"y4\"},{\"type\":\"scatter\",\"mode\":\"markers\",\"x\":[0,1,2,3,4,5,6,7,8,9,10,11,12,13,14,15,16,17,18,19,20,21,22,23,24,25],\"y\":[0.0007525434581650009,0.006271195484718762,0.025084781938915692,0.06410555384399787,0.11752684871417801,0.16453758820009692,0.182819542444813,0.1654081574502899,0.1240561180878663,0.07810940768503243,0.04165835076538414,0.018935613984275963,0.007363849882775983,0.0024546166275920002,0.0007013190364546628,0.0001714335422443791,3.571532130088355E-05,6.302703758973037E-06,9.337338902171049E-07,1.1466907423703524E-07,1.1466907423687175E-08,9.100720177515782E-10,5.51558798636467E-11,2.398081733198222E-12,6.661338147762031E-14,8.881784197001244E-16],\"marker\":{\"color\":\"Blue\",\"opacity\":0.5},\"line\":{},\"xaxis\":\"x4\",\"yaxis\":\"y4\"}];\r\n",
              "            var layout = {\"width\":800,\"height\":800,\"template\":{\"layout\":{\"title\":{\"x\":0.05},\"font\":{\"color\":\"rgba(42, 63, 95, 1.0)\"},\"paper_bgcolor\":\"rgba(255, 255, 255, 1.0)\",\"plot_bgcolor\":\"rgba(229, 236, 246, 1.0)\",\"autotypenumbers\":\"strict\",\"colorscale\":{\"diverging\":[[0.0,\"#8e0152\"],[0.1,\"#c51b7d\"],[0.2,\"#de77ae\"],[0.3,\"#f1b6da\"],[0.4,\"#fde0ef\"],[0.5,\"#f7f7f7\"],[0.6,\"#e6f5d0\"],[0.7,\"#b8e186\"],[0.8,\"#7fbc41\"],[0.9,\"#4d9221\"],[1.0,\"#276419\"]],\"sequential\":[[0.0,\"#0d0887\"],[0.1111111111111111,\"#46039f\"],[0.2222222222222222,\"#7201a8\"],[0.3333333333333333,\"#9c179e\"],[0.4444444444444444,\"#bd3786\"],[0.5555555555555556,\"#d8576b\"],[0.6666666666666666,\"#ed7953\"],[0.7777777777777778,\"#fb9f3a\"],[0.8888888888888888,\"#fdca26\"],[1.0,\"#f0f921\"]],\"sequentialminus\":[[0.0,\"#0d0887\"],[0.1111111111111111,\"#46039f\"],[0.2222222222222222,\"#7201a8\"],[0.3333333333333333,\"#9c179e\"],[0.4444444444444444,\"#bd3786\"],[0.5555555555555556,\"#d8576b\"],[0.6666666666666666,\"#ed7953\"],[0.7777777777777778,\"#fb9f3a\"],[0.8888888888888888,\"#fdca26\"],[1.0,\"#f0f921\"]]},\"hovermode\":\"closest\",\"hoverlabel\":{\"align\":\"left\"},\"coloraxis\":{\"colorbar\":{\"outlinewidth\":0.0,\"ticks\":\"\"}},\"geo\":{\"showland\":true,\"landcolor\":\"rgba(229, 236, 246, 1.0)\",\"showlakes\":true,\"lakecolor\":\"rgba(255, 255, 255, 1.0)\",\"subunitcolor\":\"rgba(255, 255, 255, 1.0)\",\"bgcolor\":\"rgba(255, 255, 255, 1.0)\"},\"mapbox\":{\"style\":\"light\"},\"polar\":{\"bgcolor\":\"rgba(229, 236, 246, 1.0)\",\"radialaxis\":{\"linecolor\":\"rgba(255, 255, 255, 1.0)\",\"gridcolor\":\"rgba(255, 255, 255, 1.0)\",\"ticks\":\"\"},\"angularaxis\":{\"linecolor\":\"rgba(255, 255, 255, 1.0)\",\"gridcolor\":\"rgba(255, 255, 255, 1.0)\",\"ticks\":\"\"}},\"scene\":{\"xaxis\":{\"ticks\":\"\",\"linecolor\":\"rgba(255, 255, 255, 1.0)\",\"gridcolor\":\"rgba(255, 255, 255, 1.0)\",\"gridwidth\":2.0,\"zerolinecolor\":\"rgba(255, 255, 255, 1.0)\",\"backgroundcolor\":\"rgba(229, 236, 246, 1.0)\",\"showbackground\":true},\"yaxis\":{\"ticks\":\"\",\"linecolor\":\"rgba(255, 255, 255, 1.0)\",\"gridcolor\":\"rgba(255, 255, 255, 1.0)\",\"gridwidth\":2.0,\"zerolinecolor\":\"rgba(255, 255, 255, 1.0)\",\"backgroundcolor\":\"rgba(229, 236, 246, 1.0)\",\"showbackground\":true},\"zaxis\":{\"ticks\":\"\",\"linecolor\":\"rgba(255, 255, 255, 1.0)\",\"gridcolor\":\"rgba(255, 255, 255, 1.0)\",\"gridwidth\":2.0,\"zerolinecolor\":\"rgba(255, 255, 255, 1.0)\",\"backgroundcolor\":\"rgba(229, 236, 246, 1.0)\",\"showbackground\":true}},\"ternary\":{\"aaxis\":{\"ticks\":\"\",\"linecolor\":\"rgba(255, 255, 255, 1.0)\",\"gridcolor\":\"rgba(255, 255, 255, 1.0)\"},\"baxis\":{\"ticks\":\"\",\"linecolor\":\"rgba(255, 255, 255, 1.0)\",\"gridcolor\":\"rgba(255, 255, 255, 1.0)\"},\"caxis\":{\"ticks\":\"\",\"linecolor\":\"rgba(255, 255, 255, 1.0)\",\"gridcolor\":\"rgba(255, 255, 255, 1.0)\"},\"bgcolor\":\"rgba(229, 236, 246, 1.0)\"},\"xaxis\":{\"title\":{\"standoff\":15},\"ticks\":\"\",\"automargin\":true,\"linecolor\":\"rgba(255, 255, 255, 1.0)\",\"gridcolor\":\"rgba(255, 255, 255, 1.0)\",\"zerolinecolor\":\"rgba(255, 255, 255, 1.0)\",\"zerolinewidth\":2.0},\"yaxis\":{\"title\":{\"standoff\":15},\"ticks\":\"\",\"automargin\":true,\"linecolor\":\"rgba(255, 255, 255, 1.0)\",\"gridcolor\":\"rgba(255, 255, 255, 1.0)\",\"zerolinecolor\":\"rgba(255, 255, 255, 1.0)\",\"zerolinewidth\":2.0},\"annotationdefaults\":{\"arrowcolor\":\"#2a3f5f\",\"arrowhead\":0,\"arrowwidth\":1},\"shapedefaults\":{\"line\":{\"color\":\"rgba(42, 63, 95, 1.0)\"}},\"colorway\":[\"rgba(99, 110, 250, 1.0)\",\"rgba(239, 85, 59, 1.0)\",\"rgba(0, 204, 150, 1.0)\",\"rgba(171, 99, 250, 1.0)\",\"rgba(255, 161, 90, 1.0)\",\"rgba(25, 211, 243, 1.0)\",\"rgba(255, 102, 146, 1.0)\",\"rgba(182, 232, 128, 1.0)\",\"rgba(255, 151, 255, 1.0)\",\"rgba(254, 203, 82, 1.0)\"]},\"data\":{\"bar\":[{\"marker\":{\"line\":{\"color\":\"rgba(229, 236, 246, 1.0)\",\"width\":0.5},\"pattern\":{\"fillmode\":\"overlay\",\"size\":10,\"solidity\":0.2}},\"error_x\":{\"color\":\"rgba(42, 63, 95, 1.0)\"},\"error_y\":{\"color\":\"rgba(42, 63, 95, 1.0)\"}}],\"barpolar\":[{\"marker\":{\"line\":{\"color\":\"rgba(229, 236, 246, 1.0)\",\"width\":0.5},\"pattern\":{\"fillmode\":\"overlay\",\"size\":10,\"solidity\":0.2}}}],\"carpet\":[{\"aaxis\":{\"linecolor\":\"rgba(255, 255, 255, 1.0)\",\"gridcolor\":\"rgba(255, 255, 255, 1.0)\",\"endlinecolor\":\"rgba(42, 63, 95, 1.0)\",\"minorgridcolor\":\"rgba(255, 255, 255, 1.0)\",\"startlinecolor\":\"rgba(42, 63, 95, 1.0)\"},\"baxis\":{\"linecolor\":\"rgba(255, 255, 255, 1.0)\",\"gridcolor\":\"rgba(255, 255, 255, 1.0)\",\"endlinecolor\":\"rgba(42, 63, 95, 1.0)\",\"minorgridcolor\":\"rgba(255, 255, 255, 1.0)\",\"startlinecolor\":\"rgba(42, 63, 95, 1.0)\"}}],\"choropleth\":[{\"colorbar\":{\"outlinewidth\":0.0,\"ticks\":\"\"},\"colorscale\":[[0.0,\"#0d0887\"],[0.1111111111111111,\"#46039f\"],[0.2222222222222222,\"#7201a8\"],[0.3333333333333333,\"#9c179e\"],[0.4444444444444444,\"#bd3786\"],[0.5555555555555556,\"#d8576b\"],[0.6666666666666666,\"#ed7953\"],[0.7777777777777778,\"#fb9f3a\"],[0.8888888888888888,\"#fdca26\"],[1.0,\"#f0f921\"]]}],\"contour\":[{\"colorbar\":{\"outlinewidth\":0.0,\"ticks\":\"\"},\"colorscale\":[[0.0,\"#0d0887\"],[0.1111111111111111,\"#46039f\"],[0.2222222222222222,\"#7201a8\"],[0.3333333333333333,\"#9c179e\"],[0.4444444444444444,\"#bd3786\"],[0.5555555555555556,\"#d8576b\"],[0.6666666666666666,\"#ed7953\"],[0.7777777777777778,\"#fb9f3a\"],[0.8888888888888888,\"#fdca26\"],[1.0,\"#f0f921\"]]}],\"contourcarpet\":[{\"colorbar\":{\"outlinewidth\":0.0,\"ticks\":\"\"}}],\"heatmap\":[{\"colorbar\":{\"outlinewidth\":0.0,\"ticks\":\"\"},\"colorscale\":[[0.0,\"#0d0887\"],[0.1111111111111111,\"#46039f\"],[0.2222222222222222,\"#7201a8\"],[0.3333333333333333,\"#9c179e\"],[0.4444444444444444,\"#bd3786\"],[0.5555555555555556,\"#d8576b\"],[0.6666666666666666,\"#ed7953\"],[0.7777777777777778,\"#fb9f3a\"],[0.8888888888888888,\"#fdca26\"],[1.0,\"#f0f921\"]]}],\"heatmapgl\":[{\"colorbar\":{\"outlinewidth\":0.0,\"ticks\":\"\"},\"colorscale\":[[0.0,\"#0d0887\"],[0.1111111111111111,\"#46039f\"],[0.2222222222222222,\"#7201a8\"],[0.3333333333333333,\"#9c179e\"],[0.4444444444444444,\"#bd3786\"],[0.5555555555555556,\"#d8576b\"],[0.6666666666666666,\"#ed7953\"],[0.7777777777777778,\"#fb9f3a\"],[0.8888888888888888,\"#fdca26\"],[1.0,\"#f0f921\"]]}],\"histogram\":[{\"marker\":{\"pattern\":{\"fillmode\":\"overlay\",\"size\":10,\"solidity\":0.2}}}],\"histogram2d\":[{\"colorbar\":{\"outlinewidth\":0.0,\"ticks\":\"\"},\"colorscale\":[[0.0,\"#0d0887\"],[0.1111111111111111,\"#46039f\"],[0.2222222222222222,\"#7201a8\"],[0.3333333333333333,\"#9c179e\"],[0.4444444444444444,\"#bd3786\"],[0.5555555555555556,\"#d8576b\"],[0.6666666666666666,\"#ed7953\"],[0.7777777777777778,\"#fb9f3a\"],[0.8888888888888888,\"#fdca26\"],[1.0,\"#f0f921\"]]}],\"histogram2dcontour\":[{\"colorbar\":{\"outlinewidth\":0.0,\"ticks\":\"\"},\"colorscale\":[[0.0,\"#0d0887\"],[0.1111111111111111,\"#46039f\"],[0.2222222222222222,\"#7201a8\"],[0.3333333333333333,\"#9c179e\"],[0.4444444444444444,\"#bd3786\"],[0.5555555555555556,\"#d8576b\"],[0.6666666666666666,\"#ed7953\"],[0.7777777777777778,\"#fb9f3a\"],[0.8888888888888888,\"#fdca26\"],[1.0,\"#f0f921\"]]}],\"mesh3d\":[{\"colorbar\":{\"outlinewidth\":0.0,\"ticks\":\"\"}}],\"parcoords\":[{\"line\":{\"colorbar\":{\"outlinewidth\":0.0,\"ticks\":\"\"}}}],\"pie\":[{\"automargin\":true}],\"scatter\":[{\"marker\":{\"colorbar\":{\"outlinewidth\":0.0,\"ticks\":\"\"}}}],\"scatter3d\":[{\"marker\":{\"colorbar\":{\"outlinewidth\":0.0,\"ticks\":\"\"}},\"line\":{\"colorbar\":{\"outlinewidth\":0.0,\"ticks\":\"\"}}}],\"scattercarpet\":[{\"marker\":{\"colorbar\":{\"outlinewidth\":0.0,\"ticks\":\"\"}}}],\"scattergeo\":[{\"marker\":{\"colorbar\":{\"outlinewidth\":0.0,\"ticks\":\"\"}}}],\"scattergl\":[{\"marker\":{\"colorbar\":{\"outlinewidth\":0.0,\"ticks\":\"\"}}}],\"scattermapbox\":[{\"marker\":{\"colorbar\":{\"outlinewidth\":0.0,\"ticks\":\"\"}}}],\"scatterpolar\":[{\"marker\":{\"colorbar\":{\"outlinewidth\":0.0,\"ticks\":\"\"}}}],\"scatterpolargl\":[{\"marker\":{\"colorbar\":{\"outlinewidth\":0.0,\"ticks\":\"\"}}}],\"scatterternary\":[{\"marker\":{\"colorbar\":{\"outlinewidth\":0.0,\"ticks\":\"\"}}}],\"surface\":[{\"colorbar\":{\"outlinewidth\":0.0,\"ticks\":\"\"},\"colorscale\":[[0.0,\"#0d0887\"],[0.1111111111111111,\"#46039f\"],[0.2222222222222222,\"#7201a8\"],[0.3333333333333333,\"#9c179e\"],[0.4444444444444444,\"#bd3786\"],[0.5555555555555556,\"#d8576b\"],[0.6666666666666666,\"#ed7953\"],[0.7777777777777778,\"#fb9f3a\"],[0.8888888888888888,\"#fdca26\"],[1.0,\"#f0f921\"]]}],\"table\":[{\"cells\":{\"fill\":{\"color\":\"rgba(235, 240, 248, 1.0)\"},\"line\":{\"color\":\"rgba(255, 255, 255, 1.0)\"}},\"header\":{\"fill\":{\"color\":\"rgba(200, 212, 227, 1.0)\"},\"line\":{\"color\":\"rgba(255, 255, 255, 1.0)\"}}}]}},\"showlegend\":false,\"xaxis\":{\"title\":{\"text\":\"h<br>30 samples\"}},\"yaxis\":{\"title\":{\"text\":\"P(h)\"}},\"xaxis2\":{\"title\":{\"text\":\"h<br>100 samples\"}},\"yaxis2\":{\"title\":{\"text\":\"P(h)\"}},\"xaxis3\":{\"title\":{\"text\":\"h<br>1000 samples\"}},\"yaxis3\":{\"title\":{\"text\":\"P(h)\"}},\"xaxis4\":{\"title\":{\"text\":\"h<br>10000 samples\"}},\"yaxis4\":{\"title\":{\"text\":\"P(h)\"}},\"grid\":{\"rows\":2,\"columns\":2,\"pattern\":\"independent\"}};\r\n",
              "            var config = {\"responsive\":true};\r\n",
              "            Plotly.newPlot('0634a0f0-aec1-4080-952f-6bdf7f31d444', data, layout, config);\r\n",
              "});\r\n",
              "            };\r\n",
              "            if ((typeof(requirejs) !==  typeof(Function)) || (typeof(requirejs.config) !== typeof(Function))) {\r\n",
              "                var script = document.createElement(\"script\");\r\n",
              "                script.setAttribute(\"src\", \"https://cdnjs.cloudflare.com/ajax/libs/require.js/2.3.6/require.min.js\");\r\n",
              "                script.onload = function(){\r\n",
              "                    renderPlotly_0634a0f0aec14080952f6bdf7f31d444();\r\n",
              "                };\r\n",
              "                document.getElementsByTagName(\"head\")[0].appendChild(script);\r\n",
              "            }\r\n",
              "            else {\r\n",
              "                renderPlotly_0634a0f0aec14080952f6bdf7f31d444();\r\n",
              "            }\r\n",
              "</script>\r\n",
              "\n",
              "    \n",
              "</div>    \n"
            ]
          },
          "metadata": {},
          "output_type": "display_data"
        }
      ],
      "source": [
        "// Simulate n_samples sets of n coin flips with prob. p of heads.\n",
        "let simulateCoinflips n p size =\n",
        "    let rnd = new System.Random()\n",
        "    [|0 .. size - 1|]\n",
        "    |> Array.map (fun _ ->\n",
        "        Array.init n (fun x -> rnd.NextDouble())\n",
        "        |> Array.countBy (fun x -> x < p)\n",
        "        |> Array.tryFind (fun (isHead,count) -> isHead)\n",
        "        |> fun res ->\n",
        "            match res with\n",
        "            | Some (isHead,count) -> count\n",
        "            | None -> 0\n",
        "    )\n",
        "\n",
        "let size = [|30;100;1000;10000|]\n",
        "let n = 25\n",
        "let p = 0.25\n",
        "\n",
        "let binomial = Distributions.Discrete.Binomial.Init 0.25 25\n",
        "\n",
        "let binomialPoints =\n",
        "    [|0 .. 25|]\n",
        "    |> Array.map (fun x -> x,binomial.PMF x)\n",
        "\n",
        "size\n",
        "|> Array.map (fun s ->\n",
        "    [\n",
        "        simulateCoinflips 25 0.25 s\n",
        "        |> Array.countBy id\n",
        "        |> Array.map (fun (heads,count) -> heads, float count/ float s)\n",
        "        |> Chart.Point\n",
        "        |> Chart.withMarkerStyle(Color = Color.fromString \"Orange\")\n",
        "        binomialPoints\n",
        "        |> Chart.Point\n",
        "        |> Chart.withMarkerStyle(Color = Color.fromString \"Blue\", Opacity = 0.5)\n",
        "    ]\n",
        "    |> Chart.combine\n",
        "    |> Chart.withLegend false\n",
        "    |> Chart.withXAxisStyle(TitleText = $\"h<br>{s} samples\")\n",
        "    |> Chart.withYAxisStyle(TitleText = \"P(h)\")\n",
        ")\n",
        "|> Chart.Grid(2,2)\n",
        "|> Chart.withSize (800,800)"
      ]
    },
    {
      "cell_type": "markdown",
      "metadata": {},
      "source": [
        "As we can see, if we sample out of the probability distribution, we can approximately calculate the actual distribution. If we sample enough, the approximation is very good.\n",
        "\n",
        "Sampling is such a powerful strategy that highly efficient algorithms with convenient APIs have been developed to sample out of named probability distributions. For example, we could have used np.random.binom() as a drop-in (and much more efficient) replacement for the simulate_coinflips() function above.\n",
        "\n",
        "We will use the same strategy for solving master equations. We will find a way to sample out of the distribution that is governed by the master equation. This technique was pioneered by Dan Gillespie in the last 70s. For that reason, these sampling techniques are often called Gillespie simulations. The algorithm is sometimes referred to as a stochastic simulation algorithm, or SSA.\n",
        "\n",
        "Here, we will explore how this algorithm works by looking at simple production of a protein.\n",
        "## The dynamical equations\n",
        "\n",
        "For simple protein production, we have the following reactions.\n",
        "\n",
        "DNA→mRNA→protein\n",
        "\n",
        "### Macroscale equations\n",
        "\n",
        "As we’ve seen before, the deterministic dynamics, which describe mean concentrations over a large population of cells, are described by the ODEs\n",
        "\n",
        "dmdtdpdt=βm−γmm,=βpm−γpp.\n",
        "\n",
        "The same equations should hold if m\n",
        "and p represent the mean numbers of cells; we would just have to appropriately rescale the constants. Assuming the m and p are now numbers (so we are not free to pick their units), we can nondimensionalize using γm\n",
        "\n",
        "to nondimensionalize time. This leads to redefinition of parameters and variables\n",
        "\n",
        "βm/γm→βm,βp/γm→βp,γmt→t.\n",
        "\n",
        "The dimensionless equations are\n",
        "\n",
        "dmdtdpdt=βm−m,=βpm−γp,\n",
        "\n",
        "with γ=γp/γm\n",
        "\n",
        ".\n",
        "### The Master equation\n",
        "\n",
        "We can write a master equation for these dynamics. In this case, each state is defined by an mRNA copy number m\n",
        "and a protein copy number p. So, we will write a master equation for P(m,p,t)\n",
        "\n",
        ".\n",
        "\n",
        "dP(m,p,t)dt=βmP(m−1,p,t)+(m+1)P(m+1,p,t)−βmP(m,p,t)−mP(m,p,t)+βpmP(m,p−1,t)+γ(p+1)P(m,p+1,t)−βpmP(m,p,t)−γpP(m,p,t).\n",
        "\n",
        "We implicitly define P(m,p,t)=0\n",
        "if m<0 or p<0\n",
        "\n",
        ". This is the master equation we will sample from using the stochastic simulation algorithm (SSA) or Gillespie algorithm.\n",
        "## The Gillespie algorithm\n",
        "\n",
        "The transition probabilities are also called propensities in the context of stochastic simulation. The propensity for a given transition, say indexed i\n",
        ", is denoted as ai. The equivalence to notation we introduced for master equations is that if transition i results in the change of state from n′ to n, then ai=W(n∣n′)\n",
        "\n",
        ".\n",
        "\n",
        "To cast this problem for a Gillespie simulation, we can write each change of state (moving either the copy number of mRNA or protein up or down by 1 in this case) and their respective propensities.\n",
        "\n",
        "reaction, rim→m+1,m→m−1,p→p+1,p→p−1,propensity, aiβmmβpmγp.\n",
        "\n",
        "We will not carefully prove that the Gillespie algorithm samples from the probability distribution governed by the master equation, but will state the principles behind it. The basic idea is that events (such as those outlined above) are rare, discrete, separate events. I.e., each event is an arrival of a Poisson process. The Gillespie algorithm starts with some state, (m0,p0)\n",
        ". Then a state change, any state change, will happen in some time Δt that has a certain probability distribution (which we will show is Exponential momentarily). The probability that the state change that happens is reaction j is proportional to aj. That is to say, state changes with high propensities are more likely to occur. Thus, choosing which of the n state changes happens in Δt is a matter of drawing an integer j in [1,n] where the probability of drawing j\n",
        "\n",
        "is\n",
        "\n",
        "aj∑iai.\n",
        "\n",
        "Now, how do we determine how long the state change took? The probability density function describing that a given state change i\n",
        "takes place in time t\n",
        "\n",
        "is\n",
        "\n",
        "P(t∣ai)=aie−ait,\n",
        "\n",
        "since the time it takes for arrival of a Poisson process is Exponentially distributed. The probability that it has not arrived in time Δt\n",
        "is the probability that the arrival time is greater than Δt\n",
        "\n",
        ", given by the complementary cumulative distribution function for the Exponential distribution.\n",
        "\n",
        "P(t>Δt∣ai)=∫∞ΔtdtP(t∣ai)=e−aiΔt.\n",
        "\n",
        "Now, say we have n\n",
        "processes that arrive in time t1,t2,…. The probability that none of them arrive before Δt\n",
        "\n",
        "is\n",
        "\n",
        "P(t1>Δt,t2>Δt,…)=P(t1>Δt)P(t2>Δt)⋯=∏ie−aiΔt=exp[−Δt∑iai].\n",
        "\n",
        "This is the same as the probability of a single Poisson process with a=∑iai\n",
        "not arriving before Δt. So, the probability that it does arrive in Δt is Exponentially distributed with mean (∑iai)−1\n",
        "\n",
        ".\n",
        "\n",
        "So, we know how to choose a state change and we also know how long it takes. The Gillespie algorithm then proceeds as follows.\n",
        "\n",
        "    Choose an initial condition, e.g., m=p=0\n",
        "\n",
        ".\n",
        "\n",
        "Calculate the propensity for each of the enumerated state changes. The propensities may be functions of m\n",
        "and p, so they need to be recalculated for every m and p\n",
        "\n",
        "we encounter.\n",
        "\n",
        "Choose how much time the reaction will take by drawing out of an exponential distribution with a mean equal to (∑iai)−1\n",
        "\n",
        ". This means that a change arises from a Poisson process.\n",
        "\n",
        "Choose what state change will happen by drawing a sample out of the discrete distribution where Pi=ai/(∑iai)\n",
        "\n",
        ". In other words, the probability that a state change will be chosen is proportional to its propensity.\n",
        "\n",
        "Increment time by the time step you chose in step 3.\n",
        "\n",
        "Update the states according to the state change you choose in step 4.\n",
        "\n",
        "If t\n",
        "\n",
        "    is less than your pre-determined stopping time, go to step 2. Else stop.\n",
        "\n",
        "Gillespie proved that this algorithm samples the probability distribution described by the master equation in his seminal papers in 1976 and 1977. (We recommend reading the latter.) You can also read a concise discussion of how the algorithm samples the master equation in section 4.2 of Del Vecchio and Murray.\n",
        "## Coding up the Gillespie simulation\n",
        "\n",
        "To code up the Gillespie simulation, we first make an an array that gives the changes in the counts of m\n",
        "and p for each of the four reactions. This is a way of encoding the updates in the particle counts that we get from choosing the respective state changes."
      ]
    },
    {
      "cell_type": "code",
      "execution_count": null,
      "metadata": {
        "dotnet_interactive": {
          "language": "fsharp"
        },
        "vscode": {
          "languageId": "dotnet-interactive.fsharp"
        }
      },
      "outputs": [],
      "source": [
        "// Column 0 is change in m, column 1 is change in p\n",
        "let simpleUpdate =\n",
        "    [|\n",
        "        1., 0.;  // Make mRNA transcript\n",
        "        -1., 0.; // Degrade mRNA\n",
        "        0., 1.;  // Make protein\n",
        "        0., -1.  // Degrade protein\n",
        "    |]"
      ]
    },
    {
      "cell_type": "markdown",
      "metadata": {},
      "source": [
        "Next, we make a function that updates the array of propensities for each of the four reactions. We update the propensities (which are passed into the function as an argument) instead of instantiating them and returning them to save on memory allocation while running the code. It has the added benefit that it forces you to keep track of the indices corresponding to the update matrix. This helps prevent bugs. It will naturally be a function of the current population of molecules. It may in general also be a function of time, so we explicitly allow for time dependence (even though we will not use it in this simple example) as well."
      ]
    },
    {
      "cell_type": "code",
      "execution_count": null,
      "metadata": {
        "dotnet_interactive": {
          "language": "fsharp"
        },
        "vscode": {
          "languageId": "dotnet-interactive.fsharp"
        }
      },
      "outputs": [],
      "source": [
        "//Updates an array of propensities given a set of parameters and an array of populations.\n",
        "let simplePropensities (propensities: float []) population t beta_m beta_p gamma =\n",
        "    let m,p = population\n",
        "    propensities.[0] <- beta_m     // Make mRNA transcript\n",
        "    propensities.[1] <- m          // Degrade mRNA\n",
        "    propensities.[2] <- beta_p * m // Make protein\n",
        "    propensities.[3] <- gamma * p  // Degrade protein"
      ]
    },
    {
      "cell_type": "markdown",
      "metadata": {},
      "source": [
        "### Making a draw\n",
        "\n",
        "Finally, we write a general function that draws a choice of reaction and the time interval for that reaction. This is the heart of the Gillespie algorithm, so we will take some time to discuss speed. First, to get the time interval, we sample a random number from an exponential distribution with mean (∑iai)−1\n",
        "\n",
        ". This is easily done using the np.random.exponential() function.\n",
        "\n",
        "Next, we have to select which reaction will take place. This amounts to drawing a sample over the discrete distribution where Pi=ai(∑iai)−1\n",
        ", or the probability of each reaction is proportional to its propensity. This can be done using scipy.stats.rv_discrete, which allows specification of an arbitrary discrete distribution. We will write a function to do this."
      ]
    },
    {
      "cell_type": "code",
      "execution_count": null,
      "metadata": {
        "dotnet_interactive": {
          "language": "fsharp"
        },
        "vscode": {
          "languageId": "dotnet-interactive.fsharp"
        }
      },
      "outputs": [],
      "source": [
        "let sampleDiscrete (probs: 'a []) =\n",
        "    let q =  (new System.Random()).NextDouble()\n",
        "    let mutable i = 0\n",
        "    let mutable pSum = 0.\n",
        "    while pSum < q do\n",
        "        pSum <- pSum + probs.[i]\n",
        "        i <- i + 1\n",
        "    i - 1"
      ]
    },
    {
      "cell_type": "markdown",
      "metadata": {},
      "source": [
        "Now we can write a function to do our draws."
      ]
    },
    {
      "cell_type": "code",
      "execution_count": null,
      "metadata": {
        "dotnet_interactive": {
          "language": "fsharp"
        },
        "vscode": {
          "languageId": "dotnet-interactive.fsharp"
        }
      },
      "outputs": [
        {
          "data": {
            "text/html": [
              "<div class=\"dni-plaintext\">4</div>"
            ]
          },
          "metadata": {},
          "output_type": "display_data"
        }
      ],
      "source": [
        "// Make dummy probs\n",
        "let probs = [|0.1;0.3;0.4;0.05;0.15|]\n",
        "sampleDiscrete probs"
      ]
    },
    {
      "cell_type": "code",
      "execution_count": null,
      "metadata": {
        "dotnet_interactive": {
          "language": "fsharp"
        },
        "vscode": {
          "languageId": "dotnet-interactive.fsharp"
        }
      },
      "outputs": [],
      "source": [
        "let gillespieDraw propensityFunc propensities population t beta_m beta_p gamma =\n",
        "    (**\n",
        "    Draws a reaction and the time it took to do that reaction.\n",
        "\n",
        "    Parameters\n",
        "    ----------\n",
        "    propensity_func : function\n",
        "        Function with call signature propensity_func(population, t, *args)\n",
        "        used for computing propensities. This function must return\n",
        "        an array of propensities.\n",
        "    propensities : ndarray\n",
        "        Propensities for each reaction as a 1D Numpy array.\n",
        "    population : ndarray\n",
        "        Current population of particles\n",
        "    t : float\n",
        "        Value of the current time.\n",
        "    args : tuple, default ()\n",
        "        Arguments to be passed to `propensity_func`.\n",
        "\n",
        "    Returns\n",
        "    -------\n",
        "    rxn : int\n",
        "        Index of reaction that occured.\n",
        "    time : float\n",
        "        Time it took for the reaction to occur.\n",
        "    *)\n",
        "    // compute propensities\n",
        "    propensityFunc propensities population t beta_m beta_p gamma\n",
        "    // sum of propensities\n",
        "    let  propsSum = propensities |> Array.sum\n",
        "    let time = (FSharp.Stats.Distributions.Continuous.Exponential.Init propsSum).Sample()\n",
        "    // compute discrete probabilities of each reaction\n",
        "    let rxnProbs = propensities |> Array.map (fun p -> p / propsSum)\n",
        "    // draw reaction from this distribution\n",
        "    let rxn = sampleDiscrete rxnProbs\n",
        "    rxn, time"
      ]
    },
    {
      "cell_type": "code",
      "execution_count": null,
      "metadata": {
        "dotnet_interactive": {
          "language": "fsharp"
        },
        "vscode": {
          "languageId": "dotnet-interactive.fsharp"
        }
      },
      "outputs": [
        {
          "data": {
            "text/html": [
              "<table><thead><tr><th>Item1</th><th>Item2</th></tr></thead><tbody><tr><td><div class=\"dni-plaintext\">0</div></td><td><div class=\"dni-plaintext\">0.005134662280503095</div></td></tr></tbody></table>"
            ]
          },
          "metadata": {},
          "output_type": "display_data"
        }
      ],
      "source": [
        "let propensities = Array.zeroCreate simpleUpdate.Length\n",
        "let timePoints = [| 0. .. 0.5 .. 50.|]\n",
        "\n",
        "gillespieDraw simplePropensities propensities (0,0) timePoints.[0] 10. 10. 0.4"
      ]
    },
    {
      "cell_type": "markdown",
      "metadata": {},
      "source": [
        "## SSA time stepping\n",
        "\n",
        "Now we are ready to write our main SSA loop. We will only keep the counts at pre-specified time points. This saves on RAM, and we really only care about the values at given time points anyhow.\n",
        "\n",
        "Note that this function is generic. All we need to specify our system is the following.\n",
        "\n",
        "    A function to compute the propensities\n",
        "\n",
        "    How the updates for a given reaction are made\n",
        "\n",
        "    Initial population\n",
        "\n",
        "Additionally, we specify necessary parameters, an initial condition, and the time points at which we want to store our samples. So, providing the propensity function and update are analogous to providing the time derivatives when using scipy.integrate.odeint()."
      ]
    },
    {
      "cell_type": "code",
      "execution_count": null,
      "metadata": {
        "dotnet_interactive": {
          "language": "fsharp"
        },
        "vscode": {
          "languageId": "dotnet-interactive.fsharp"
        }
      },
      "outputs": [],
      "source": [
        "let gillespieSSA propensityFunc (update: 'a[]) (population0:float*float) (timePoints: float[]) beta_m beta_p gamma =\n",
        "    (**\n",
        "    Uses the Gillespie stochastic simulation algorithm to sample\n",
        "    from probability distribution of particle counts over time.\n",
        "\n",
        "    Parameters\n",
        "    ----------\n",
        "    propensity_func : function\n",
        "        Function of the form f(params, t, population) that takes the current\n",
        "        population of particle counts and return an array of propensities\n",
        "        for each reaction.\n",
        "    update : ndarray, shape (num_reactions, num_chemical_species)\n",
        "        Entry i, j gives the change in particle counts of species j\n",
        "        for chemical reaction i.\n",
        "    population_0 : array_like, shape (num_chemical_species)\n",
        "        Array of initial populations of all chemical species.\n",
        "    time_points : array_like, shape (num_time_points,)\n",
        "        Array of points in time for which to sample the probability\n",
        "        distribution.\n",
        "    args : tuple, default ()\n",
        "        The set of parameters to be passed to propensity_func.\n",
        "\n",
        "    Returns\n",
        "    -------\n",
        "    sample : ndarray, shape (num_time_points, num_chemical_species)\n",
        "        Entry i, j is the count of chemical species j at time\n",
        "        time_points[i].\n",
        "    *)\n",
        "    // initialize output\n",
        "    let mutable popOut: (float*float)[] = Array.init timePoints.Length (fun x -> 0.,0.)\n",
        "\n",
        "    // initialize and perform simulation\n",
        "    let mutable iTime = 1\n",
        "    let mutable i = 0\n",
        "    let mutable t = timePoints.[0]\n",
        "    let mutable population = population0\n",
        "    let mutable propensities = Array.zeroCreate update.Length\n",
        "    let mutable populationPrevious = 0.,0.\n",
        "    popOut.[0] <- population\n",
        "    while i < timePoints.Length do\n",
        "        while t < timePoints.[iTime] do\n",
        "            // draw the event and time step\n",
        "            let event, dt = gillespieDraw propensityFunc propensities population t beta_m beta_p gamma\n",
        "            // update the population\n",
        "            populationPrevious <- population\n",
        "            population <- fst populationPrevious + fst update.[event], snd populationPrevious + snd update.[event]\n",
        "            // increment time\n",
        "            t <- t + dt\n",
        "        // update the index\n",
        "        i <- \n",
        "            match (timePoints |> Array.tryFindIndex (fun x -> x > t)) with\n",
        "            | Some x -> x\n",
        "            | None -> i + 1\n",
        "        // update the population\n",
        "        popOut.[iTime] <- populationPrevious\n",
        "        // increment index\n",
        "        iTime <- i\n",
        "    Array.unzip popOut\n"
      ]
    },
    {
      "cell_type": "code",
      "execution_count": null,
      "metadata": {
        "dotnet_interactive": {
          "language": "fsharp"
        },
        "vscode": {
          "languageId": "dotnet-interactive.fsharp"
        }
      },
      "outputs": [],
      "source": [
        "let samples =\n",
        "    [|\n",
        "        for i = 0 to 1000 do\n",
        "            gillespieSSA simplePropensities simpleUpdate (0,0) timePoints 10. 10. 0.4\n",
        "    |]"
      ]
    },
    {
      "cell_type": "code",
      "execution_count": null,
      "metadata": {
        "dotnet_interactive": {
          "language": "fsharp"
        },
        "vscode": {
          "languageId": "dotnet-interactive.fsharp"
        }
      },
      "outputs": [
        {
          "data": {
            "text/html": [
              "\n",
              "<div>\n",
              "    <div id=\"8e7a22e1-9bc1-4d7e-8186-369f3a1d5260\"><!-- Plotly chart will be drawn inside this DIV --></div>\r\n",
              "<script type=\"text/javascript\">\r\n",
              "\r\n",
              "            var renderPlotly_8e7a22e19bc14d7e8186369f3a1d5260 = function() {\r\n",
              "            var fsharpPlotlyRequire = requirejs.config({context:'fsharp-plotly',paths:{plotly:'https://cdn.plot.ly/plotly-2.6.3.min'}}) || require;\r\n",
              "            fsharpPlotlyRequire(['plotly'], function(Plotly) {\r\n",
              "\r\n",
              "            var data = [{\"type\":\"scatter\",\"mode\":\"lines\",\"x\":[0.0,0.5,1.0,1.5,2.0,2.5,3.0,3.5,4.0,4.5,5.0,5.5,6.0,6.5,7.0,7.5,8.0,8.5,9.0,9.5,10.0,10.5,11.0,11.5,12.0,12.5,13.0,13.5,14.0,14.5,15.0,15.5,16.0,16.5,17.0,17.5,18.0,18.5,19.0,19.5,20.0,20.5,21.0,21.5,22.0,22.5,23.0,23.5,24.0,24.5,25.0,25.5,26.0,26.5,27.0,27.5,28.0,28.5,29.0,29.5,30.0,30.5,31.0,31.5,32.0,32.5,33.0,33.5,34.0,34.5,35.0,35.5,36.0,36.5,37.0,37.5,38.0,38.5,39.0,39.5,40.0,40.5,41.0,41.5,42.0,42.5,43.0,43.5,44.0,44.5,45.0,45.5,46.0,46.5,47.0,47.5,48.0,48.5,49.0,49.5,50.0],\"y\":[0.0,3.9405940594059405,6.01980198019802,7.316831683168317,8.673267326732674,9.445544554455445,9.663366336633663,9.930693069306932,10.009900990099009,9.990099009900991,10.0,9.762376237623762,10.069306930693068,10.297029702970297,10.366336633663366,10.326732673267326,9.990099009900991,10.049504950495049,10.396039603960396,10.386138613861386,10.405940594059405,10.425742574257425,10.01980198019802,10.148514851485148,10.257425742574258,10.217821782178218,10.435643564356436,10.03960396039604,9.930693069306932,10.089108910891088,9.950495049504951,10.01980198019802,10.128712871287128,10.138613861386139,10.277227722772277,9.742574257425742,9.821782178217822,10.118811881188119,10.554455445544555,10.069306930693068,10.089108910891088,10.297029702970297,10.435643564356436,10.554455445544555,10.504950495049505,10.128712871287128,9.752475247524753,10.108910891089108,9.623762376237623,9.752475247524753,9.811881188118813,9.534653465346535,10.277227722772277,9.92079207920792,9.762376237623762,10.118811881188119,10.07920792079208,9.910891089108912,9.742574257425742,10.168316831683168,10.03960396039604,10.03960396039604,10.148514851485148,9.990099009900991,10.356435643564357,10.455445544554456,10.118811881188119,10.168316831683168,9.831683168316832,9.900990099009901,10.158415841584159,10.613861386138614,10.742574257425742,10.148514851485148,10.277227722772277,9.98019801980198,9.792079207920793,9.603960396039604,9.831683168316832,9.831683168316832,10.03960396039604,10.584158415841584,10.524752475247524,10.554455445544555,10.247524752475247,10.099009900990099,10.297029702970297,10.099009900990099,10.01980198019802,10.158415841584159,10.237623762376238,10.514851485148515,10.267326732673267,10.574257425742575,10.267326732673267,10.089108910891088,10.287128712871286,10.574257425742575,10.495049504950495,10.386138613861386,10.821782178217822],\"marker\":{},\"line\":{\"width\":5.0},\"error_y\":{\"array\":[0.0,1.9016928362814944,2.4697376298700315,2.53744238582596,2.818187044506056,3.147936617928488,3.2133385371690055,3.3294366662922843,3.2939187892385884,3.0838127358999947,3.2310988842807022,3.017112907570697,3.2225996516557074,3.345278925457324,3.285491659637041,3.222138764519892,2.947863801144654,3.38932511755294,3.1625281276876964,3.343561864328827,3.2470855172655435,3.359602758224446,3.3674328442295685,3.5309662660916525,3.3336270497658687,3.1099966572201954,3.03781448276276,2.8492833908869373,3.447484374852405,3.4032308470069736,3.112478875827955,3.0429597369002503,3.339650779158305,3.3347554722057122,3.200371265591504,2.8553579997840366,3.2323243636861703,3.0042873654591413,3.226376442775246,3.305321242307846,3.0268763103271663,3.235875629425351,3.0672979691714284,3.3510453519006647,3.151582974875444,3.087598958208899,3.21684920564847,2.9627723169322673,2.949072685264013,3.198143025551107,3.4138332451574978,3.021801967156827,2.9736133302135577,3.1262858740583255,2.8745382754504596,2.909594915835782,3.0876630914555157,3.105153812296551,3.068072571979139,3.544204584757186,3.133435150371579,2.901450644347437,2.994615630139738,3.333151810238923,3.1259691566483556,3.2203253018142357,2.8958146650394294,3.114704823673322,3.2498286321918366,3.251168868253538,3.1929067423503823,2.939286638045711,3.0582788144527786,3.4011355121896023,3.478846969561001,3.3346070173854128,3.3743646266613467,3.066200280219124,3.364726755416234,3.203339841261595,3.1461747951415795,3.3830971807876673,3.375186096812857,3.6591672482267117,3.296683001424491,3.5426118909500928,3.284949176031329,3.1796381885209812,3.155884022012856,3.136025105981541,3.49327501022031,3.7778667562161012,3.4347957409689185,3.620349526367489,3.440613576410205,3.124416777259366,3.197926308292191,3.2135542150505736,3.1925656214907714,2.939286638045711,3.2354166334614787],\"color\":\"grey\"},\"xaxis\":\"x\",\"yaxis\":\"y\"},{\"type\":\"scatter\",\"mode\":\"lines\",\"x\":[0.0,0.5,1.0,1.5,2.0,2.5,3.0,3.5,4.0,4.5,5.0,5.5,6.0,6.5,7.0,7.5,8.0,8.5,9.0,9.5,10.0,10.5,11.0,11.5,12.0,12.5,13.0,13.5,14.0,14.5,15.0,15.5,16.0,16.5,17.0,17.5,18.0,18.5,19.0,19.5,20.0,20.5,21.0,21.5,22.0,22.5,23.0,23.5,24.0,24.5,25.0,25.5,26.0,26.5,27.0,27.5,28.0,28.5,29.0,29.5,30.0,30.5,31.0,31.5,32.0,32.5,33.0,33.5,34.0,34.5,35.0,35.5,36.0,36.5,37.0,37.5,38.0,38.5,39.0,39.5,40.0,40.5,41.0,41.5,42.0,42.5,43.0,43.5,44.0,44.5,45.0,45.5,46.0,46.5,47.0,47.5,48.0,48.5,49.0,49.5,50.0],\"y\":[0.0,9.94059405940594,32.01980198019802,56.504950495049506,81.92079207920793,107.39603960396039,131.1980198019802,152.34653465346534,170.21782178217822,185.64356435643563,197.26732673267327,206.79207920792078,215.4950495049505,223.31683168316832,231.03960396039605,236.36633663366337,239.6138613861386,239.13861386138615,243.84158415841586,247.16831683168317,249.20792079207922,251.27722772277227,251.8118811881188,251.22772277227722,252.15841584158414,252.8019801980198,253.58415841584159,253.86138613861385,254.83168316831683,254.75247524752476,254.22772277227722,254.02970297029702,253.20792079207922,252.02970297029702,251.47524752475246,252.04950495049505,249.15841584158414,250.02970297029702,250.40594059405942,251.9108910891089,250.1980198019802,249.8910891089109,251.67326732673268,254.52475247524754,255.8118811881188,254.98019801980197,254.03960396039605,251.78217821782178,251.40594059405942,249.32673267326732,250.93069306930693,249.009900990099,248.8910891089109,250.20792079207922,250.55445544554456,251.13861386138615,253.07920792079207,252.53465346534654,251.14851485148515,251.56435643564356,252.17821782178217,251.95049504950495,251.27722772277227,250.34653465346534,253.03960396039605,253.95049504950495,254.5742574257426,253.04950495049505,253.3861386138614,252.47524752475246,253.8910891089109,254.40594059405942,257.8712871287129,259.56435643564356,258.33663366336634,259.05940594059405,258.009900990099,257.2178217821782,254.82178217821783,253.41584158415841,254.8910891089109,254.75247524752476,257.8811881188119,259.2970297029703,259.2772277227723,260.2475247524753,258.3069306930693,258.76237623762376,255.990099009901,253.8118811881188,254.01980198019803,256.43564356435644,256.48514851485146,258.0693069306931,259.0495049504951,257.2475247524753,257.1485148514852,258.13861386138615,259.029702970297,260.3267326732673,261.8910891089109],\"marker\":{},\"line\":{\"width\":5.0},\"error_y\":{\"array\":[0.0,5.347563524032637,14.04562579454529,19.619186406360605,25.06379187924957,29.80338209261518,35.29221438277292,39.149057624306714,43.024087197846754,44.189271131897144,44.144963719343785,43.18664535054399,42.80692088024464,44.995984419294416,47.55815824694626,49.88541325323009,49.87383488303858,46.945932667904316,47.962221106464064,48.62798973984647,48.48119570136099,50.39268177263067,50.19038012832482,49.1383518624951,50.389429977579084,48.65491132495878,47.79252396070596,44.914369572102494,46.731374751216265,47.02220878278561,47.62979764561652,46.96433869342665,47.35173002788455,45.61347508040679,43.8838453327431,40.99253010918545,39.8140007216726,40.87014936247348,40.52065602080544,42.27436552093975,42.656071033788436,43.104501154774795,43.88396265400176,43.48645629604829,42.4044131833674,44.0624511796654,44.36618550023862,43.07960166027444,43.77194951514539,42.51778661005087,44.133718951781695,46.33648563486552,47.0678023685192,47.01389514424076,43.29167939628233,41.398557874150704,41.35352056797991,42.44539182442203,41.8682185287633,40.9442098083683,42.43427766313548,42.81270284334399,41.78662915619808,41.64839388105244,39.97222055179802,41.74502994073037,39.56749841338302,40.14159345059032,41.17425659244615,40.773911771966624,39.73258133826671,39.08533694822697,39.716410554413564,38.92079542907214,41.63875051624934,43.29915051872918,43.7859555221774,44.095488195595706,42.903239047793114,43.767172018930516,44.334839796733,42.252433288650735,41.924762880358145,44.60595129676206,46.669930107485946,49.19784668877167,49.47438581210632,47.232647292916276,48.091474306680375,46.93223047571618,46.651040759670046,47.587690812138426,45.38779877045949,43.926815824901894,45.293791238452044,44.32638174735089,44.72278751120369,44.65020262058624,43.88335799492662,43.346535942538964,44.464570388141375],\"color\":\"grey\"},\"xaxis\":\"x2\",\"yaxis\":\"y2\"}];\r\n",
              "            var layout = {\"width\":1200,\"height\":600,\"template\":{\"layout\":{\"title\":{\"x\":0.05},\"font\":{\"color\":\"rgba(42, 63, 95, 1.0)\"},\"paper_bgcolor\":\"rgba(255, 255, 255, 1.0)\",\"plot_bgcolor\":\"rgba(229, 236, 246, 1.0)\",\"autotypenumbers\":\"strict\",\"colorscale\":{\"diverging\":[[0.0,\"#8e0152\"],[0.1,\"#c51b7d\"],[0.2,\"#de77ae\"],[0.3,\"#f1b6da\"],[0.4,\"#fde0ef\"],[0.5,\"#f7f7f7\"],[0.6,\"#e6f5d0\"],[0.7,\"#b8e186\"],[0.8,\"#7fbc41\"],[0.9,\"#4d9221\"],[1.0,\"#276419\"]],\"sequential\":[[0.0,\"#0d0887\"],[0.1111111111111111,\"#46039f\"],[0.2222222222222222,\"#7201a8\"],[0.3333333333333333,\"#9c179e\"],[0.4444444444444444,\"#bd3786\"],[0.5555555555555556,\"#d8576b\"],[0.6666666666666666,\"#ed7953\"],[0.7777777777777778,\"#fb9f3a\"],[0.8888888888888888,\"#fdca26\"],[1.0,\"#f0f921\"]],\"sequentialminus\":[[0.0,\"#0d0887\"],[0.1111111111111111,\"#46039f\"],[0.2222222222222222,\"#7201a8\"],[0.3333333333333333,\"#9c179e\"],[0.4444444444444444,\"#bd3786\"],[0.5555555555555556,\"#d8576b\"],[0.6666666666666666,\"#ed7953\"],[0.7777777777777778,\"#fb9f3a\"],[0.8888888888888888,\"#fdca26\"],[1.0,\"#f0f921\"]]},\"hovermode\":\"closest\",\"hoverlabel\":{\"align\":\"left\"},\"coloraxis\":{\"colorbar\":{\"outlinewidth\":0.0,\"ticks\":\"\"}},\"geo\":{\"showland\":true,\"landcolor\":\"rgba(229, 236, 246, 1.0)\",\"showlakes\":true,\"lakecolor\":\"rgba(255, 255, 255, 1.0)\",\"subunitcolor\":\"rgba(255, 255, 255, 1.0)\",\"bgcolor\":\"rgba(255, 255, 255, 1.0)\"},\"mapbox\":{\"style\":\"light\"},\"polar\":{\"bgcolor\":\"rgba(229, 236, 246, 1.0)\",\"radialaxis\":{\"linecolor\":\"rgba(255, 255, 255, 1.0)\",\"gridcolor\":\"rgba(255, 255, 255, 1.0)\",\"ticks\":\"\"},\"angularaxis\":{\"linecolor\":\"rgba(255, 255, 255, 1.0)\",\"gridcolor\":\"rgba(255, 255, 255, 1.0)\",\"ticks\":\"\"}},\"scene\":{\"xaxis\":{\"ticks\":\"\",\"linecolor\":\"rgba(255, 255, 255, 1.0)\",\"gridcolor\":\"rgba(255, 255, 255, 1.0)\",\"gridwidth\":2.0,\"zerolinecolor\":\"rgba(255, 255, 255, 1.0)\",\"backgroundcolor\":\"rgba(229, 236, 246, 1.0)\",\"showbackground\":true},\"yaxis\":{\"ticks\":\"\",\"linecolor\":\"rgba(255, 255, 255, 1.0)\",\"gridcolor\":\"rgba(255, 255, 255, 1.0)\",\"gridwidth\":2.0,\"zerolinecolor\":\"rgba(255, 255, 255, 1.0)\",\"backgroundcolor\":\"rgba(229, 236, 246, 1.0)\",\"showbackground\":true},\"zaxis\":{\"ticks\":\"\",\"linecolor\":\"rgba(255, 255, 255, 1.0)\",\"gridcolor\":\"rgba(255, 255, 255, 1.0)\",\"gridwidth\":2.0,\"zerolinecolor\":\"rgba(255, 255, 255, 1.0)\",\"backgroundcolor\":\"rgba(229, 236, 246, 1.0)\",\"showbackground\":true}},\"ternary\":{\"aaxis\":{\"ticks\":\"\",\"linecolor\":\"rgba(255, 255, 255, 1.0)\",\"gridcolor\":\"rgba(255, 255, 255, 1.0)\"},\"baxis\":{\"ticks\":\"\",\"linecolor\":\"rgba(255, 255, 255, 1.0)\",\"gridcolor\":\"rgba(255, 255, 255, 1.0)\"},\"caxis\":{\"ticks\":\"\",\"linecolor\":\"rgba(255, 255, 255, 1.0)\",\"gridcolor\":\"rgba(255, 255, 255, 1.0)\"},\"bgcolor\":\"rgba(229, 236, 246, 1.0)\"},\"xaxis\":{\"title\":{\"standoff\":15},\"ticks\":\"\",\"automargin\":true,\"linecolor\":\"rgba(255, 255, 255, 1.0)\",\"gridcolor\":\"rgba(255, 255, 255, 1.0)\",\"zerolinecolor\":\"rgba(255, 255, 255, 1.0)\",\"zerolinewidth\":2.0},\"yaxis\":{\"title\":{\"standoff\":15},\"ticks\":\"\",\"automargin\":true,\"linecolor\":\"rgba(255, 255, 255, 1.0)\",\"gridcolor\":\"rgba(255, 255, 255, 1.0)\",\"zerolinecolor\":\"rgba(255, 255, 255, 1.0)\",\"zerolinewidth\":2.0},\"annotationdefaults\":{\"arrowcolor\":\"#2a3f5f\",\"arrowhead\":0,\"arrowwidth\":1},\"shapedefaults\":{\"line\":{\"color\":\"rgba(42, 63, 95, 1.0)\"}},\"colorway\":[\"rgba(99, 110, 250, 1.0)\",\"rgba(239, 85, 59, 1.0)\",\"rgba(0, 204, 150, 1.0)\",\"rgba(171, 99, 250, 1.0)\",\"rgba(255, 161, 90, 1.0)\",\"rgba(25, 211, 243, 1.0)\",\"rgba(255, 102, 146, 1.0)\",\"rgba(182, 232, 128, 1.0)\",\"rgba(255, 151, 255, 1.0)\",\"rgba(254, 203, 82, 1.0)\"]},\"data\":{\"bar\":[{\"marker\":{\"line\":{\"color\":\"rgba(229, 236, 246, 1.0)\",\"width\":0.5},\"pattern\":{\"fillmode\":\"overlay\",\"size\":10,\"solidity\":0.2}},\"error_x\":{\"color\":\"rgba(42, 63, 95, 1.0)\"},\"error_y\":{\"color\":\"rgba(42, 63, 95, 1.0)\"}}],\"barpolar\":[{\"marker\":{\"line\":{\"color\":\"rgba(229, 236, 246, 1.0)\",\"width\":0.5},\"pattern\":{\"fillmode\":\"overlay\",\"size\":10,\"solidity\":0.2}}}],\"carpet\":[{\"aaxis\":{\"linecolor\":\"rgba(255, 255, 255, 1.0)\",\"gridcolor\":\"rgba(255, 255, 255, 1.0)\",\"endlinecolor\":\"rgba(42, 63, 95, 1.0)\",\"minorgridcolor\":\"rgba(255, 255, 255, 1.0)\",\"startlinecolor\":\"rgba(42, 63, 95, 1.0)\"},\"baxis\":{\"linecolor\":\"rgba(255, 255, 255, 1.0)\",\"gridcolor\":\"rgba(255, 255, 255, 1.0)\",\"endlinecolor\":\"rgba(42, 63, 95, 1.0)\",\"minorgridcolor\":\"rgba(255, 255, 255, 1.0)\",\"startlinecolor\":\"rgba(42, 63, 95, 1.0)\"}}],\"choropleth\":[{\"colorbar\":{\"outlinewidth\":0.0,\"ticks\":\"\"},\"colorscale\":[[0.0,\"#0d0887\"],[0.1111111111111111,\"#46039f\"],[0.2222222222222222,\"#7201a8\"],[0.3333333333333333,\"#9c179e\"],[0.4444444444444444,\"#bd3786\"],[0.5555555555555556,\"#d8576b\"],[0.6666666666666666,\"#ed7953\"],[0.7777777777777778,\"#fb9f3a\"],[0.8888888888888888,\"#fdca26\"],[1.0,\"#f0f921\"]]}],\"contour\":[{\"colorbar\":{\"outlinewidth\":0.0,\"ticks\":\"\"},\"colorscale\":[[0.0,\"#0d0887\"],[0.1111111111111111,\"#46039f\"],[0.2222222222222222,\"#7201a8\"],[0.3333333333333333,\"#9c179e\"],[0.4444444444444444,\"#bd3786\"],[0.5555555555555556,\"#d8576b\"],[0.6666666666666666,\"#ed7953\"],[0.7777777777777778,\"#fb9f3a\"],[0.8888888888888888,\"#fdca26\"],[1.0,\"#f0f921\"]]}],\"contourcarpet\":[{\"colorbar\":{\"outlinewidth\":0.0,\"ticks\":\"\"}}],\"heatmap\":[{\"colorbar\":{\"outlinewidth\":0.0,\"ticks\":\"\"},\"colorscale\":[[0.0,\"#0d0887\"],[0.1111111111111111,\"#46039f\"],[0.2222222222222222,\"#7201a8\"],[0.3333333333333333,\"#9c179e\"],[0.4444444444444444,\"#bd3786\"],[0.5555555555555556,\"#d8576b\"],[0.6666666666666666,\"#ed7953\"],[0.7777777777777778,\"#fb9f3a\"],[0.8888888888888888,\"#fdca26\"],[1.0,\"#f0f921\"]]}],\"heatmapgl\":[{\"colorbar\":{\"outlinewidth\":0.0,\"ticks\":\"\"},\"colorscale\":[[0.0,\"#0d0887\"],[0.1111111111111111,\"#46039f\"],[0.2222222222222222,\"#7201a8\"],[0.3333333333333333,\"#9c179e\"],[0.4444444444444444,\"#bd3786\"],[0.5555555555555556,\"#d8576b\"],[0.6666666666666666,\"#ed7953\"],[0.7777777777777778,\"#fb9f3a\"],[0.8888888888888888,\"#fdca26\"],[1.0,\"#f0f921\"]]}],\"histogram\":[{\"marker\":{\"pattern\":{\"fillmode\":\"overlay\",\"size\":10,\"solidity\":0.2}}}],\"histogram2d\":[{\"colorbar\":{\"outlinewidth\":0.0,\"ticks\":\"\"},\"colorscale\":[[0.0,\"#0d0887\"],[0.1111111111111111,\"#46039f\"],[0.2222222222222222,\"#7201a8\"],[0.3333333333333333,\"#9c179e\"],[0.4444444444444444,\"#bd3786\"],[0.5555555555555556,\"#d8576b\"],[0.6666666666666666,\"#ed7953\"],[0.7777777777777778,\"#fb9f3a\"],[0.8888888888888888,\"#fdca26\"],[1.0,\"#f0f921\"]]}],\"histogram2dcontour\":[{\"colorbar\":{\"outlinewidth\":0.0,\"ticks\":\"\"},\"colorscale\":[[0.0,\"#0d0887\"],[0.1111111111111111,\"#46039f\"],[0.2222222222222222,\"#7201a8\"],[0.3333333333333333,\"#9c179e\"],[0.4444444444444444,\"#bd3786\"],[0.5555555555555556,\"#d8576b\"],[0.6666666666666666,\"#ed7953\"],[0.7777777777777778,\"#fb9f3a\"],[0.8888888888888888,\"#fdca26\"],[1.0,\"#f0f921\"]]}],\"mesh3d\":[{\"colorbar\":{\"outlinewidth\":0.0,\"ticks\":\"\"}}],\"parcoords\":[{\"line\":{\"colorbar\":{\"outlinewidth\":0.0,\"ticks\":\"\"}}}],\"pie\":[{\"automargin\":true}],\"scatter\":[{\"marker\":{\"colorbar\":{\"outlinewidth\":0.0,\"ticks\":\"\"}}}],\"scatter3d\":[{\"marker\":{\"colorbar\":{\"outlinewidth\":0.0,\"ticks\":\"\"}},\"line\":{\"colorbar\":{\"outlinewidth\":0.0,\"ticks\":\"\"}}}],\"scattercarpet\":[{\"marker\":{\"colorbar\":{\"outlinewidth\":0.0,\"ticks\":\"\"}}}],\"scattergeo\":[{\"marker\":{\"colorbar\":{\"outlinewidth\":0.0,\"ticks\":\"\"}}}],\"scattergl\":[{\"marker\":{\"colorbar\":{\"outlinewidth\":0.0,\"ticks\":\"\"}}}],\"scattermapbox\":[{\"marker\":{\"colorbar\":{\"outlinewidth\":0.0,\"ticks\":\"\"}}}],\"scatterpolar\":[{\"marker\":{\"colorbar\":{\"outlinewidth\":0.0,\"ticks\":\"\"}}}],\"scatterpolargl\":[{\"marker\":{\"colorbar\":{\"outlinewidth\":0.0,\"ticks\":\"\"}}}],\"scatterternary\":[{\"marker\":{\"colorbar\":{\"outlinewidth\":0.0,\"ticks\":\"\"}}}],\"surface\":[{\"colorbar\":{\"outlinewidth\":0.0,\"ticks\":\"\"},\"colorscale\":[[0.0,\"#0d0887\"],[0.1111111111111111,\"#46039f\"],[0.2222222222222222,\"#7201a8\"],[0.3333333333333333,\"#9c179e\"],[0.4444444444444444,\"#bd3786\"],[0.5555555555555556,\"#d8576b\"],[0.6666666666666666,\"#ed7953\"],[0.7777777777777778,\"#fb9f3a\"],[0.8888888888888888,\"#fdca26\"],[1.0,\"#f0f921\"]]}],\"table\":[{\"cells\":{\"fill\":{\"color\":\"rgba(235, 240, 248, 1.0)\"},\"line\":{\"color\":\"rgba(255, 255, 255, 1.0)\"}},\"header\":{\"fill\":{\"color\":\"rgba(200, 212, 227, 1.0)\"},\"line\":{\"color\":\"rgba(255, 255, 255, 1.0)\"}}}]}},\"xaxis\":{},\"yaxis\":{},\"xaxis2\":{},\"yaxis2\":{},\"grid\":{\"rows\":1,\"columns\":2,\"pattern\":\"independent\"}};\r\n",
              "            var config = {\"responsive\":true};\r\n",
              "            Plotly.newPlot('8e7a22e1-9bc1-4d7e-8186-369f3a1d5260', data, layout, config);\r\n",
              "});\r\n",
              "            };\r\n",
              "            if ((typeof(requirejs) !==  typeof(Function)) || (typeof(requirejs.config) !== typeof(Function))) {\r\n",
              "                var script = document.createElement(\"script\");\r\n",
              "                script.setAttribute(\"src\", \"https://cdnjs.cloudflare.com/ajax/libs/require.js/2.3.6/require.min.js\");\r\n",
              "                script.onload = function(){\r\n",
              "                    renderPlotly_8e7a22e19bc14d7e8186369f3a1d5260();\r\n",
              "                };\r\n",
              "                document.getElementsByTagName(\"head\")[0].appendChild(script);\r\n",
              "            }\r\n",
              "            else {\r\n",
              "                renderPlotly_8e7a22e19bc14d7e8186369f3a1d5260();\r\n",
              "            }\r\n",
              "</script>\r\n",
              "\n",
              "    \n",
              "</div>    \n"
            ]
          },
          "metadata": {},
          "output_type": "display_data"
        }
      ],
      "source": [
        "[\n",
        "    samples\n",
        "    |> Array.map fst\n",
        "    |> Array.transpose\n",
        "    |> Array.map (fun numbers -> Array.average numbers, Seq.stDev numbers)\n",
        "    |> Array.unzip\n",
        "    |> fun (number,stDev) ->\n",
        "        Chart.Line (timePoints, number, LineWidth = 5)\n",
        "        |> Chart.withYErrorStyle(Array = stDev, Color = Color.fromString \"grey\")\n",
        "    samples\n",
        "    |> Array.map snd\n",
        "    |> Array.transpose\n",
        "    |> Array.map (fun numbers -> Array.average numbers, Seq.stDev numbers)\n",
        "    |> Array.unzip\n",
        "    |> fun (number,stDev) ->\n",
        "        Chart.Line (timePoints, number, LineWidth = 5)\n",
        "        |> Chart.withYErrorStyle(Array = stDev, Color = Color.fromString \"grey\")\n",
        "]\n",
        "|> Chart.Grid (1,2)\n",
        "|> Chart.withSize(1200., 600.)"
      ]
    },
    {
      "cell_type": "code",
      "execution_count": null,
      "metadata": {
        "dotnet_interactive": {
          "language": "fsharp"
        },
        "vscode": {
          "languageId": "dotnet-interactive.fsharp"
        }
      },
      "outputs": [
        {
          "data": {
            "text/html": [
              "\n",
              "<div>\n",
              "    <div id=\"91cd4356-fbd9-467b-97f8-0ed565f928d0\"><!-- Plotly chart will be drawn inside this DIV --></div>\r\n",
              "<script type=\"text/javascript\">\r\n",
              "\r\n",
              "            var renderPlotly_91cd4356fbd9467b97f80ed565f928d0 = function() {\r\n",
              "            var fsharpPlotlyRequire = requirejs.config({context:'fsharp-plotly',paths:{plotly:'https://cdn.plot.ly/plotly-2.6.3.min'}}) || require;\r\n",
              "            fsharpPlotlyRequire(['plotly'], function(Plotly) {\r\n",
              "\r\n",
              "            var data = [{\"type\":\"scatter\",\"mode\":\"lines\",\"x\":[0,1,2,3,4,5,6,7,8,9,10,11,12,13,14,15,16,17,18,19,20,21,22,23,24,25,26,27,28,29,30,31,32,33,34,35,36,37,38,39,40,41,42,43,44,45,46,47,48,49,50],\"y\":[1.0000000000000004,0.3678794411714425,0.13533528323661276,0.049787068367863965,0.018315638888734186,0.00673794699908547,0.00247875217666636,0.0009118819655545167,0.000335462627902512,0.00012340980408667962,4.5399929762484875E-05,1.6701700790245666E-05,6.144212353328212E-06,2.260329406981055E-06,8.315287191035682E-07,3.0590232050182594E-07,1.1253517471925917E-07,4.139937718785169E-08,1.5229979744712636E-08,5.60279643753727E-09,2.0611536224385587E-09,7.58256042791191E-10,2.7894680928689257E-10,1.0261879631701895E-10,3.7751345442790997E-11,1.3887943864964027E-11,5.1090890280633275E-12,1.879528816539084E-12,6.914400106940206E-13,2.543665647376924E-13,9.357622968840179E-14,3.442477108469978E-14,1.2664165549094182E-14,4.6588861451034E-15,1.7139084315420138E-15,6.305116760146992E-16,2.3195228302435706E-16,8.53304762574407E-17,3.139132792048031E-17,1.154822417301579E-17,4.2483542552915904E-18,1.5628821893349896E-18,5.749522264293563E-19,2.1151310375910814E-19,7.7811322411338E-20,2.862518580549395E-20,1.0530617357553816E-20,3.873997628687188E-21,1.4251640827409357E-21,5.242885663363466E-22,1.9287498479639188E-22],\"marker\":{},\"line\":{}}];\r\n",
              "            var layout = {\"width\":600,\"height\":600,\"template\":{\"layout\":{\"title\":{\"x\":0.05},\"font\":{\"color\":\"rgba(42, 63, 95, 1.0)\"},\"paper_bgcolor\":\"rgba(255, 255, 255, 1.0)\",\"plot_bgcolor\":\"rgba(229, 236, 246, 1.0)\",\"autotypenumbers\":\"strict\",\"colorscale\":{\"diverging\":[[0.0,\"#8e0152\"],[0.1,\"#c51b7d\"],[0.2,\"#de77ae\"],[0.3,\"#f1b6da\"],[0.4,\"#fde0ef\"],[0.5,\"#f7f7f7\"],[0.6,\"#e6f5d0\"],[0.7,\"#b8e186\"],[0.8,\"#7fbc41\"],[0.9,\"#4d9221\"],[1.0,\"#276419\"]],\"sequential\":[[0.0,\"#0d0887\"],[0.1111111111111111,\"#46039f\"],[0.2222222222222222,\"#7201a8\"],[0.3333333333333333,\"#9c179e\"],[0.4444444444444444,\"#bd3786\"],[0.5555555555555556,\"#d8576b\"],[0.6666666666666666,\"#ed7953\"],[0.7777777777777778,\"#fb9f3a\"],[0.8888888888888888,\"#fdca26\"],[1.0,\"#f0f921\"]],\"sequentialminus\":[[0.0,\"#0d0887\"],[0.1111111111111111,\"#46039f\"],[0.2222222222222222,\"#7201a8\"],[0.3333333333333333,\"#9c179e\"],[0.4444444444444444,\"#bd3786\"],[0.5555555555555556,\"#d8576b\"],[0.6666666666666666,\"#ed7953\"],[0.7777777777777778,\"#fb9f3a\"],[0.8888888888888888,\"#fdca26\"],[1.0,\"#f0f921\"]]},\"hovermode\":\"closest\",\"hoverlabel\":{\"align\":\"left\"},\"coloraxis\":{\"colorbar\":{\"outlinewidth\":0.0,\"ticks\":\"\"}},\"geo\":{\"showland\":true,\"landcolor\":\"rgba(229, 236, 246, 1.0)\",\"showlakes\":true,\"lakecolor\":\"rgba(255, 255, 255, 1.0)\",\"subunitcolor\":\"rgba(255, 255, 255, 1.0)\",\"bgcolor\":\"rgba(255, 255, 255, 1.0)\"},\"mapbox\":{\"style\":\"light\"},\"polar\":{\"bgcolor\":\"rgba(229, 236, 246, 1.0)\",\"radialaxis\":{\"linecolor\":\"rgba(255, 255, 255, 1.0)\",\"gridcolor\":\"rgba(255, 255, 255, 1.0)\",\"ticks\":\"\"},\"angularaxis\":{\"linecolor\":\"rgba(255, 255, 255, 1.0)\",\"gridcolor\":\"rgba(255, 255, 255, 1.0)\",\"ticks\":\"\"}},\"scene\":{\"xaxis\":{\"ticks\":\"\",\"linecolor\":\"rgba(255, 255, 255, 1.0)\",\"gridcolor\":\"rgba(255, 255, 255, 1.0)\",\"gridwidth\":2.0,\"zerolinecolor\":\"rgba(255, 255, 255, 1.0)\",\"backgroundcolor\":\"rgba(229, 236, 246, 1.0)\",\"showbackground\":true},\"yaxis\":{\"ticks\":\"\",\"linecolor\":\"rgba(255, 255, 255, 1.0)\",\"gridcolor\":\"rgba(255, 255, 255, 1.0)\",\"gridwidth\":2.0,\"zerolinecolor\":\"rgba(255, 255, 255, 1.0)\",\"backgroundcolor\":\"rgba(229, 236, 246, 1.0)\",\"showbackground\":true},\"zaxis\":{\"ticks\":\"\",\"linecolor\":\"rgba(255, 255, 255, 1.0)\",\"gridcolor\":\"rgba(255, 255, 255, 1.0)\",\"gridwidth\":2.0,\"zerolinecolor\":\"rgba(255, 255, 255, 1.0)\",\"backgroundcolor\":\"rgba(229, 236, 246, 1.0)\",\"showbackground\":true}},\"ternary\":{\"aaxis\":{\"ticks\":\"\",\"linecolor\":\"rgba(255, 255, 255, 1.0)\",\"gridcolor\":\"rgba(255, 255, 255, 1.0)\"},\"baxis\":{\"ticks\":\"\",\"linecolor\":\"rgba(255, 255, 255, 1.0)\",\"gridcolor\":\"rgba(255, 255, 255, 1.0)\"},\"caxis\":{\"ticks\":\"\",\"linecolor\":\"rgba(255, 255, 255, 1.0)\",\"gridcolor\":\"rgba(255, 255, 255, 1.0)\"},\"bgcolor\":\"rgba(229, 236, 246, 1.0)\"},\"xaxis\":{\"title\":{\"standoff\":15},\"ticks\":\"\",\"automargin\":true,\"linecolor\":\"rgba(255, 255, 255, 1.0)\",\"gridcolor\":\"rgba(255, 255, 255, 1.0)\",\"zerolinecolor\":\"rgba(255, 255, 255, 1.0)\",\"zerolinewidth\":2.0},\"yaxis\":{\"title\":{\"standoff\":15},\"ticks\":\"\",\"automargin\":true,\"linecolor\":\"rgba(255, 255, 255, 1.0)\",\"gridcolor\":\"rgba(255, 255, 255, 1.0)\",\"zerolinecolor\":\"rgba(255, 255, 255, 1.0)\",\"zerolinewidth\":2.0},\"annotationdefaults\":{\"arrowcolor\":\"#2a3f5f\",\"arrowhead\":0,\"arrowwidth\":1},\"shapedefaults\":{\"line\":{\"color\":\"rgba(42, 63, 95, 1.0)\"}},\"colorway\":[\"rgba(99, 110, 250, 1.0)\",\"rgba(239, 85, 59, 1.0)\",\"rgba(0, 204, 150, 1.0)\",\"rgba(171, 99, 250, 1.0)\",\"rgba(255, 161, 90, 1.0)\",\"rgba(25, 211, 243, 1.0)\",\"rgba(255, 102, 146, 1.0)\",\"rgba(182, 232, 128, 1.0)\",\"rgba(255, 151, 255, 1.0)\",\"rgba(254, 203, 82, 1.0)\"]},\"data\":{\"bar\":[{\"marker\":{\"line\":{\"color\":\"rgba(229, 236, 246, 1.0)\",\"width\":0.5},\"pattern\":{\"fillmode\":\"overlay\",\"size\":10,\"solidity\":0.2}},\"error_x\":{\"color\":\"rgba(42, 63, 95, 1.0)\"},\"error_y\":{\"color\":\"rgba(42, 63, 95, 1.0)\"}}],\"barpolar\":[{\"marker\":{\"line\":{\"color\":\"rgba(229, 236, 246, 1.0)\",\"width\":0.5},\"pattern\":{\"fillmode\":\"overlay\",\"size\":10,\"solidity\":0.2}}}],\"carpet\":[{\"aaxis\":{\"linecolor\":\"rgba(255, 255, 255, 1.0)\",\"gridcolor\":\"rgba(255, 255, 255, 1.0)\",\"endlinecolor\":\"rgba(42, 63, 95, 1.0)\",\"minorgridcolor\":\"rgba(255, 255, 255, 1.0)\",\"startlinecolor\":\"rgba(42, 63, 95, 1.0)\"},\"baxis\":{\"linecolor\":\"rgba(255, 255, 255, 1.0)\",\"gridcolor\":\"rgba(255, 255, 255, 1.0)\",\"endlinecolor\":\"rgba(42, 63, 95, 1.0)\",\"minorgridcolor\":\"rgba(255, 255, 255, 1.0)\",\"startlinecolor\":\"rgba(42, 63, 95, 1.0)\"}}],\"choropleth\":[{\"colorbar\":{\"outlinewidth\":0.0,\"ticks\":\"\"},\"colorscale\":[[0.0,\"#0d0887\"],[0.1111111111111111,\"#46039f\"],[0.2222222222222222,\"#7201a8\"],[0.3333333333333333,\"#9c179e\"],[0.4444444444444444,\"#bd3786\"],[0.5555555555555556,\"#d8576b\"],[0.6666666666666666,\"#ed7953\"],[0.7777777777777778,\"#fb9f3a\"],[0.8888888888888888,\"#fdca26\"],[1.0,\"#f0f921\"]]}],\"contour\":[{\"colorbar\":{\"outlinewidth\":0.0,\"ticks\":\"\"},\"colorscale\":[[0.0,\"#0d0887\"],[0.1111111111111111,\"#46039f\"],[0.2222222222222222,\"#7201a8\"],[0.3333333333333333,\"#9c179e\"],[0.4444444444444444,\"#bd3786\"],[0.5555555555555556,\"#d8576b\"],[0.6666666666666666,\"#ed7953\"],[0.7777777777777778,\"#fb9f3a\"],[0.8888888888888888,\"#fdca26\"],[1.0,\"#f0f921\"]]}],\"contourcarpet\":[{\"colorbar\":{\"outlinewidth\":0.0,\"ticks\":\"\"}}],\"heatmap\":[{\"colorbar\":{\"outlinewidth\":0.0,\"ticks\":\"\"},\"colorscale\":[[0.0,\"#0d0887\"],[0.1111111111111111,\"#46039f\"],[0.2222222222222222,\"#7201a8\"],[0.3333333333333333,\"#9c179e\"],[0.4444444444444444,\"#bd3786\"],[0.5555555555555556,\"#d8576b\"],[0.6666666666666666,\"#ed7953\"],[0.7777777777777778,\"#fb9f3a\"],[0.8888888888888888,\"#fdca26\"],[1.0,\"#f0f921\"]]}],\"heatmapgl\":[{\"colorbar\":{\"outlinewidth\":0.0,\"ticks\":\"\"},\"colorscale\":[[0.0,\"#0d0887\"],[0.1111111111111111,\"#46039f\"],[0.2222222222222222,\"#7201a8\"],[0.3333333333333333,\"#9c179e\"],[0.4444444444444444,\"#bd3786\"],[0.5555555555555556,\"#d8576b\"],[0.6666666666666666,\"#ed7953\"],[0.7777777777777778,\"#fb9f3a\"],[0.8888888888888888,\"#fdca26\"],[1.0,\"#f0f921\"]]}],\"histogram\":[{\"marker\":{\"pattern\":{\"fillmode\":\"overlay\",\"size\":10,\"solidity\":0.2}}}],\"histogram2d\":[{\"colorbar\":{\"outlinewidth\":0.0,\"ticks\":\"\"},\"colorscale\":[[0.0,\"#0d0887\"],[0.1111111111111111,\"#46039f\"],[0.2222222222222222,\"#7201a8\"],[0.3333333333333333,\"#9c179e\"],[0.4444444444444444,\"#bd3786\"],[0.5555555555555556,\"#d8576b\"],[0.6666666666666666,\"#ed7953\"],[0.7777777777777778,\"#fb9f3a\"],[0.8888888888888888,\"#fdca26\"],[1.0,\"#f0f921\"]]}],\"histogram2dcontour\":[{\"colorbar\":{\"outlinewidth\":0.0,\"ticks\":\"\"},\"colorscale\":[[0.0,\"#0d0887\"],[0.1111111111111111,\"#46039f\"],[0.2222222222222222,\"#7201a8\"],[0.3333333333333333,\"#9c179e\"],[0.4444444444444444,\"#bd3786\"],[0.5555555555555556,\"#d8576b\"],[0.6666666666666666,\"#ed7953\"],[0.7777777777777778,\"#fb9f3a\"],[0.8888888888888888,\"#fdca26\"],[1.0,\"#f0f921\"]]}],\"mesh3d\":[{\"colorbar\":{\"outlinewidth\":0.0,\"ticks\":\"\"}}],\"parcoords\":[{\"line\":{\"colorbar\":{\"outlinewidth\":0.0,\"ticks\":\"\"}}}],\"pie\":[{\"automargin\":true}],\"scatter\":[{\"marker\":{\"colorbar\":{\"outlinewidth\":0.0,\"ticks\":\"\"}}}],\"scatter3d\":[{\"marker\":{\"colorbar\":{\"outlinewidth\":0.0,\"ticks\":\"\"}},\"line\":{\"colorbar\":{\"outlinewidth\":0.0,\"ticks\":\"\"}}}],\"scattercarpet\":[{\"marker\":{\"colorbar\":{\"outlinewidth\":0.0,\"ticks\":\"\"}}}],\"scattergeo\":[{\"marker\":{\"colorbar\":{\"outlinewidth\":0.0,\"ticks\":\"\"}}}],\"scattergl\":[{\"marker\":{\"colorbar\":{\"outlinewidth\":0.0,\"ticks\":\"\"}}}],\"scattermapbox\":[{\"marker\":{\"colorbar\":{\"outlinewidth\":0.0,\"ticks\":\"\"}}}],\"scatterpolar\":[{\"marker\":{\"colorbar\":{\"outlinewidth\":0.0,\"ticks\":\"\"}}}],\"scatterpolargl\":[{\"marker\":{\"colorbar\":{\"outlinewidth\":0.0,\"ticks\":\"\"}}}],\"scatterternary\":[{\"marker\":{\"colorbar\":{\"outlinewidth\":0.0,\"ticks\":\"\"}}}],\"surface\":[{\"colorbar\":{\"outlinewidth\":0.0,\"ticks\":\"\"},\"colorscale\":[[0.0,\"#0d0887\"],[0.1111111111111111,\"#46039f\"],[0.2222222222222222,\"#7201a8\"],[0.3333333333333333,\"#9c179e\"],[0.4444444444444444,\"#bd3786\"],[0.5555555555555556,\"#d8576b\"],[0.6666666666666666,\"#ed7953\"],[0.7777777777777778,\"#fb9f3a\"],[0.8888888888888888,\"#fdca26\"],[1.0,\"#f0f921\"]]}],\"table\":[{\"cells\":{\"fill\":{\"color\":\"rgba(235, 240, 248, 1.0)\"},\"line\":{\"color\":\"rgba(255, 255, 255, 1.0)\"}},\"header\":{\"fill\":{\"color\":\"rgba(200, 212, 227, 1.0)\"},\"line\":{\"color\":\"rgba(255, 255, 255, 1.0)\"}}}]}}};\r\n",
              "            var config = {\"responsive\":true};\r\n",
              "            Plotly.newPlot('91cd4356-fbd9-467b-97f8-0ed565f928d0', data, layout, config);\r\n",
              "});\r\n",
              "            };\r\n",
              "            if ((typeof(requirejs) !==  typeof(Function)) || (typeof(requirejs.config) !== typeof(Function))) {\r\n",
              "                var script = document.createElement(\"script\");\r\n",
              "                script.setAttribute(\"src\", \"https://cdnjs.cloudflare.com/ajax/libs/require.js/2.3.6/require.min.js\");\r\n",
              "                script.onload = function(){\r\n",
              "                    renderPlotly_91cd4356fbd9467b97f80ed565f928d0();\r\n",
              "                };\r\n",
              "                document.getElementsByTagName(\"head\")[0].appendChild(script);\r\n",
              "            }\r\n",
              "            else {\r\n",
              "                renderPlotly_91cd4356fbd9467b97f80ed565f928d0();\r\n",
              "            }\r\n",
              "</script>\r\n",
              "\n",
              "    \n",
              "</div>    \n"
            ]
          },
          "metadata": {},
          "output_type": "display_data"
        }
      ],
      "source": [
        "let gamma = Distributions.Continuous.Gamma.Init 1. 1.\n",
        "\n",
        "let gammaPoints =\n",
        "    [|0 .. 50|]\n",
        "    |> Array.map (fun x -> x,gamma.CDF x)\n",
        "    |> Chart.Line\n",
        "gammaPoints"
      ]
    },
    {
      "cell_type": "code",
      "execution_count": null,
      "metadata": {
        "dotnet_interactive": {
          "language": "fsharp"
        },
        "vscode": {
          "languageId": "dotnet-interactive.fsharp"
        }
      },
      "outputs": [
        {
          "data": {
            "text/html": [
              "\n",
              "<div>\n",
              "    <div id=\"88592315-b00d-47ee-bf1c-9ff8669a2c9f\"><!-- Plotly chart will be drawn inside this DIV --></div>\r\n",
              "<script type=\"text/javascript\">\r\n",
              "\r\n",
              "            var renderPlotly_88592315b00d47eebf1c9ff8669a2c9f = function() {\r\n",
              "            var fsharpPlotlyRequire = requirejs.config({context:'fsharp-plotly',paths:{plotly:'https://cdn.plot.ly/plotly-2.6.3.min'}}) || require;\r\n",
              "            fsharpPlotlyRequire(['plotly'], function(Plotly) {\r\n",
              "\r\n",
              "            var data = [{\"type\":\"scatter\",\"mode\":\"lines\",\"x\":[0,1,2,3,4,5,6,7,8,9,10,11,12,13,14,15,16,17,18,19,20],\"y\":[4.5399929762484875E-05,0.00045399929762484877,0.0022699964881242435,0.007566654960414146,0.018916637401035365,0.03783327480207073,0.06305545800345122,0.09007922571921602,0.11259903214902002,0.12511003572113336,0.12511003572113336,0.11373639611012125,0.09478033009176769,0.07290794622443669,0.05207710444602621,0.034718069630684134,0.021698793519177587,0.01276399618775152,0.0070911089931952895,0.003732162627997521,0.0018660813139987603],\"marker\":{},\"line\":{}}];\r\n",
              "            var layout = {\"width\":600,\"height\":600,\"template\":{\"layout\":{\"title\":{\"x\":0.05},\"font\":{\"color\":\"rgba(42, 63, 95, 1.0)\"},\"paper_bgcolor\":\"rgba(255, 255, 255, 1.0)\",\"plot_bgcolor\":\"rgba(229, 236, 246, 1.0)\",\"autotypenumbers\":\"strict\",\"colorscale\":{\"diverging\":[[0.0,\"#8e0152\"],[0.1,\"#c51b7d\"],[0.2,\"#de77ae\"],[0.3,\"#f1b6da\"],[0.4,\"#fde0ef\"],[0.5,\"#f7f7f7\"],[0.6,\"#e6f5d0\"],[0.7,\"#b8e186\"],[0.8,\"#7fbc41\"],[0.9,\"#4d9221\"],[1.0,\"#276419\"]],\"sequential\":[[0.0,\"#0d0887\"],[0.1111111111111111,\"#46039f\"],[0.2222222222222222,\"#7201a8\"],[0.3333333333333333,\"#9c179e\"],[0.4444444444444444,\"#bd3786\"],[0.5555555555555556,\"#d8576b\"],[0.6666666666666666,\"#ed7953\"],[0.7777777777777778,\"#fb9f3a\"],[0.8888888888888888,\"#fdca26\"],[1.0,\"#f0f921\"]],\"sequentialminus\":[[0.0,\"#0d0887\"],[0.1111111111111111,\"#46039f\"],[0.2222222222222222,\"#7201a8\"],[0.3333333333333333,\"#9c179e\"],[0.4444444444444444,\"#bd3786\"],[0.5555555555555556,\"#d8576b\"],[0.6666666666666666,\"#ed7953\"],[0.7777777777777778,\"#fb9f3a\"],[0.8888888888888888,\"#fdca26\"],[1.0,\"#f0f921\"]]},\"hovermode\":\"closest\",\"hoverlabel\":{\"align\":\"left\"},\"coloraxis\":{\"colorbar\":{\"outlinewidth\":0.0,\"ticks\":\"\"}},\"geo\":{\"showland\":true,\"landcolor\":\"rgba(229, 236, 246, 1.0)\",\"showlakes\":true,\"lakecolor\":\"rgba(255, 255, 255, 1.0)\",\"subunitcolor\":\"rgba(255, 255, 255, 1.0)\",\"bgcolor\":\"rgba(255, 255, 255, 1.0)\"},\"mapbox\":{\"style\":\"light\"},\"polar\":{\"bgcolor\":\"rgba(229, 236, 246, 1.0)\",\"radialaxis\":{\"linecolor\":\"rgba(255, 255, 255, 1.0)\",\"gridcolor\":\"rgba(255, 255, 255, 1.0)\",\"ticks\":\"\"},\"angularaxis\":{\"linecolor\":\"rgba(255, 255, 255, 1.0)\",\"gridcolor\":\"rgba(255, 255, 255, 1.0)\",\"ticks\":\"\"}},\"scene\":{\"xaxis\":{\"ticks\":\"\",\"linecolor\":\"rgba(255, 255, 255, 1.0)\",\"gridcolor\":\"rgba(255, 255, 255, 1.0)\",\"gridwidth\":2.0,\"zerolinecolor\":\"rgba(255, 255, 255, 1.0)\",\"backgroundcolor\":\"rgba(229, 236, 246, 1.0)\",\"showbackground\":true},\"yaxis\":{\"ticks\":\"\",\"linecolor\":\"rgba(255, 255, 255, 1.0)\",\"gridcolor\":\"rgba(255, 255, 255, 1.0)\",\"gridwidth\":2.0,\"zerolinecolor\":\"rgba(255, 255, 255, 1.0)\",\"backgroundcolor\":\"rgba(229, 236, 246, 1.0)\",\"showbackground\":true},\"zaxis\":{\"ticks\":\"\",\"linecolor\":\"rgba(255, 255, 255, 1.0)\",\"gridcolor\":\"rgba(255, 255, 255, 1.0)\",\"gridwidth\":2.0,\"zerolinecolor\":\"rgba(255, 255, 255, 1.0)\",\"backgroundcolor\":\"rgba(229, 236, 246, 1.0)\",\"showbackground\":true}},\"ternary\":{\"aaxis\":{\"ticks\":\"\",\"linecolor\":\"rgba(255, 255, 255, 1.0)\",\"gridcolor\":\"rgba(255, 255, 255, 1.0)\"},\"baxis\":{\"ticks\":\"\",\"linecolor\":\"rgba(255, 255, 255, 1.0)\",\"gridcolor\":\"rgba(255, 255, 255, 1.0)\"},\"caxis\":{\"ticks\":\"\",\"linecolor\":\"rgba(255, 255, 255, 1.0)\",\"gridcolor\":\"rgba(255, 255, 255, 1.0)\"},\"bgcolor\":\"rgba(229, 236, 246, 1.0)\"},\"xaxis\":{\"title\":{\"standoff\":15},\"ticks\":\"\",\"automargin\":true,\"linecolor\":\"rgba(255, 255, 255, 1.0)\",\"gridcolor\":\"rgba(255, 255, 255, 1.0)\",\"zerolinecolor\":\"rgba(255, 255, 255, 1.0)\",\"zerolinewidth\":2.0},\"yaxis\":{\"title\":{\"standoff\":15},\"ticks\":\"\",\"automargin\":true,\"linecolor\":\"rgba(255, 255, 255, 1.0)\",\"gridcolor\":\"rgba(255, 255, 255, 1.0)\",\"zerolinecolor\":\"rgba(255, 255, 255, 1.0)\",\"zerolinewidth\":2.0},\"annotationdefaults\":{\"arrowcolor\":\"#2a3f5f\",\"arrowhead\":0,\"arrowwidth\":1},\"shapedefaults\":{\"line\":{\"color\":\"rgba(42, 63, 95, 1.0)\"}},\"colorway\":[\"rgba(99, 110, 250, 1.0)\",\"rgba(239, 85, 59, 1.0)\",\"rgba(0, 204, 150, 1.0)\",\"rgba(171, 99, 250, 1.0)\",\"rgba(255, 161, 90, 1.0)\",\"rgba(25, 211, 243, 1.0)\",\"rgba(255, 102, 146, 1.0)\",\"rgba(182, 232, 128, 1.0)\",\"rgba(255, 151, 255, 1.0)\",\"rgba(254, 203, 82, 1.0)\"]},\"data\":{\"bar\":[{\"marker\":{\"line\":{\"color\":\"rgba(229, 236, 246, 1.0)\",\"width\":0.5},\"pattern\":{\"fillmode\":\"overlay\",\"size\":10,\"solidity\":0.2}},\"error_x\":{\"color\":\"rgba(42, 63, 95, 1.0)\"},\"error_y\":{\"color\":\"rgba(42, 63, 95, 1.0)\"}}],\"barpolar\":[{\"marker\":{\"line\":{\"color\":\"rgba(229, 236, 246, 1.0)\",\"width\":0.5},\"pattern\":{\"fillmode\":\"overlay\",\"size\":10,\"solidity\":0.2}}}],\"carpet\":[{\"aaxis\":{\"linecolor\":\"rgba(255, 255, 255, 1.0)\",\"gridcolor\":\"rgba(255, 255, 255, 1.0)\",\"endlinecolor\":\"rgba(42, 63, 95, 1.0)\",\"minorgridcolor\":\"rgba(255, 255, 255, 1.0)\",\"startlinecolor\":\"rgba(42, 63, 95, 1.0)\"},\"baxis\":{\"linecolor\":\"rgba(255, 255, 255, 1.0)\",\"gridcolor\":\"rgba(255, 255, 255, 1.0)\",\"endlinecolor\":\"rgba(42, 63, 95, 1.0)\",\"minorgridcolor\":\"rgba(255, 255, 255, 1.0)\",\"startlinecolor\":\"rgba(42, 63, 95, 1.0)\"}}],\"choropleth\":[{\"colorbar\":{\"outlinewidth\":0.0,\"ticks\":\"\"},\"colorscale\":[[0.0,\"#0d0887\"],[0.1111111111111111,\"#46039f\"],[0.2222222222222222,\"#7201a8\"],[0.3333333333333333,\"#9c179e\"],[0.4444444444444444,\"#bd3786\"],[0.5555555555555556,\"#d8576b\"],[0.6666666666666666,\"#ed7953\"],[0.7777777777777778,\"#fb9f3a\"],[0.8888888888888888,\"#fdca26\"],[1.0,\"#f0f921\"]]}],\"contour\":[{\"colorbar\":{\"outlinewidth\":0.0,\"ticks\":\"\"},\"colorscale\":[[0.0,\"#0d0887\"],[0.1111111111111111,\"#46039f\"],[0.2222222222222222,\"#7201a8\"],[0.3333333333333333,\"#9c179e\"],[0.4444444444444444,\"#bd3786\"],[0.5555555555555556,\"#d8576b\"],[0.6666666666666666,\"#ed7953\"],[0.7777777777777778,\"#fb9f3a\"],[0.8888888888888888,\"#fdca26\"],[1.0,\"#f0f921\"]]}],\"contourcarpet\":[{\"colorbar\":{\"outlinewidth\":0.0,\"ticks\":\"\"}}],\"heatmap\":[{\"colorbar\":{\"outlinewidth\":0.0,\"ticks\":\"\"},\"colorscale\":[[0.0,\"#0d0887\"],[0.1111111111111111,\"#46039f\"],[0.2222222222222222,\"#7201a8\"],[0.3333333333333333,\"#9c179e\"],[0.4444444444444444,\"#bd3786\"],[0.5555555555555556,\"#d8576b\"],[0.6666666666666666,\"#ed7953\"],[0.7777777777777778,\"#fb9f3a\"],[0.8888888888888888,\"#fdca26\"],[1.0,\"#f0f921\"]]}],\"heatmapgl\":[{\"colorbar\":{\"outlinewidth\":0.0,\"ticks\":\"\"},\"colorscale\":[[0.0,\"#0d0887\"],[0.1111111111111111,\"#46039f\"],[0.2222222222222222,\"#7201a8\"],[0.3333333333333333,\"#9c179e\"],[0.4444444444444444,\"#bd3786\"],[0.5555555555555556,\"#d8576b\"],[0.6666666666666666,\"#ed7953\"],[0.7777777777777778,\"#fb9f3a\"],[0.8888888888888888,\"#fdca26\"],[1.0,\"#f0f921\"]]}],\"histogram\":[{\"marker\":{\"pattern\":{\"fillmode\":\"overlay\",\"size\":10,\"solidity\":0.2}}}],\"histogram2d\":[{\"colorbar\":{\"outlinewidth\":0.0,\"ticks\":\"\"},\"colorscale\":[[0.0,\"#0d0887\"],[0.1111111111111111,\"#46039f\"],[0.2222222222222222,\"#7201a8\"],[0.3333333333333333,\"#9c179e\"],[0.4444444444444444,\"#bd3786\"],[0.5555555555555556,\"#d8576b\"],[0.6666666666666666,\"#ed7953\"],[0.7777777777777778,\"#fb9f3a\"],[0.8888888888888888,\"#fdca26\"],[1.0,\"#f0f921\"]]}],\"histogram2dcontour\":[{\"colorbar\":{\"outlinewidth\":0.0,\"ticks\":\"\"},\"colorscale\":[[0.0,\"#0d0887\"],[0.1111111111111111,\"#46039f\"],[0.2222222222222222,\"#7201a8\"],[0.3333333333333333,\"#9c179e\"],[0.4444444444444444,\"#bd3786\"],[0.5555555555555556,\"#d8576b\"],[0.6666666666666666,\"#ed7953\"],[0.7777777777777778,\"#fb9f3a\"],[0.8888888888888888,\"#fdca26\"],[1.0,\"#f0f921\"]]}],\"mesh3d\":[{\"colorbar\":{\"outlinewidth\":0.0,\"ticks\":\"\"}}],\"parcoords\":[{\"line\":{\"colorbar\":{\"outlinewidth\":0.0,\"ticks\":\"\"}}}],\"pie\":[{\"automargin\":true}],\"scatter\":[{\"marker\":{\"colorbar\":{\"outlinewidth\":0.0,\"ticks\":\"\"}}}],\"scatter3d\":[{\"marker\":{\"colorbar\":{\"outlinewidth\":0.0,\"ticks\":\"\"}},\"line\":{\"colorbar\":{\"outlinewidth\":0.0,\"ticks\":\"\"}}}],\"scattercarpet\":[{\"marker\":{\"colorbar\":{\"outlinewidth\":0.0,\"ticks\":\"\"}}}],\"scattergeo\":[{\"marker\":{\"colorbar\":{\"outlinewidth\":0.0,\"ticks\":\"\"}}}],\"scattergl\":[{\"marker\":{\"colorbar\":{\"outlinewidth\":0.0,\"ticks\":\"\"}}}],\"scattermapbox\":[{\"marker\":{\"colorbar\":{\"outlinewidth\":0.0,\"ticks\":\"\"}}}],\"scatterpolar\":[{\"marker\":{\"colorbar\":{\"outlinewidth\":0.0,\"ticks\":\"\"}}}],\"scatterpolargl\":[{\"marker\":{\"colorbar\":{\"outlinewidth\":0.0,\"ticks\":\"\"}}}],\"scatterternary\":[{\"marker\":{\"colorbar\":{\"outlinewidth\":0.0,\"ticks\":\"\"}}}],\"surface\":[{\"colorbar\":{\"outlinewidth\":0.0,\"ticks\":\"\"},\"colorscale\":[[0.0,\"#0d0887\"],[0.1111111111111111,\"#46039f\"],[0.2222222222222222,\"#7201a8\"],[0.3333333333333333,\"#9c179e\"],[0.4444444444444444,\"#bd3786\"],[0.5555555555555556,\"#d8576b\"],[0.6666666666666666,\"#ed7953\"],[0.7777777777777778,\"#fb9f3a\"],[0.8888888888888888,\"#fdca26\"],[1.0,\"#f0f921\"]]}],\"table\":[{\"cells\":{\"fill\":{\"color\":\"rgba(235, 240, 248, 1.0)\"},\"line\":{\"color\":\"rgba(255, 255, 255, 1.0)\"}},\"header\":{\"fill\":{\"color\":\"rgba(200, 212, 227, 1.0)\"},\"line\":{\"color\":\"rgba(255, 255, 255, 1.0)\"}}}]}}};\r\n",
              "            var config = {\"responsive\":true};\r\n",
              "            Plotly.newPlot('88592315-b00d-47ee-bf1c-9ff8669a2c9f', data, layout, config);\r\n",
              "});\r\n",
              "            };\r\n",
              "            if ((typeof(requirejs) !==  typeof(Function)) || (typeof(requirejs.config) !== typeof(Function))) {\r\n",
              "                var script = document.createElement(\"script\");\r\n",
              "                script.setAttribute(\"src\", \"https://cdnjs.cloudflare.com/ajax/libs/require.js/2.3.6/require.min.js\");\r\n",
              "                script.onload = function(){\r\n",
              "                    renderPlotly_88592315b00d47eebf1c9ff8669a2c9f();\r\n",
              "                };\r\n",
              "                document.getElementsByTagName(\"head\")[0].appendChild(script);\r\n",
              "            }\r\n",
              "            else {\r\n",
              "                renderPlotly_88592315b00d47eebf1c9ff8669a2c9f();\r\n",
              "            }\r\n",
              "</script>\r\n",
              "\n",
              "    \n",
              "</div>    \n"
            ]
          },
          "metadata": {},
          "output_type": "display_data"
        }
      ],
      "source": [
        "let poisson = Distributions.Discrete.Poisson.Init 10.\n",
        "\n",
        "let poissonPoints =\n",
        "    [|0 .. 20|]\n",
        "    |> Array.map (fun x -> x,(poisson.PMF x))\n",
        "    |> Chart.Line\n",
        "poissonPoints"
      ]
    },
    {
      "cell_type": "code",
      "execution_count": null,
      "metadata": {
        "dotnet_interactive": {
          "language": "fsharp"
        },
        "vscode": {
          "languageId": "dotnet-interactive.fsharp"
        }
      },
      "outputs": [
        {
          "data": {
            "text/html": [
              "\n",
              "<div>\n",
              "    <div id=\"ceb36a46-1207-46dd-96db-effeabefa690\"><!-- Plotly chart will be drawn inside this DIV --></div>\r\n",
              "<script type=\"text/javascript\">\r\n",
              "\r\n",
              "            var renderPlotly_ceb36a46120746dd96dbeffeabefa690 = function() {\r\n",
              "            var fsharpPlotlyRequire = requirejs.config({context:'fsharp-plotly',paths:{plotly:'https://cdn.plot.ly/plotly-2.6.3.min'}}) || require;\r\n",
              "            fsharpPlotlyRequire(['plotly'], function(Plotly) {\r\n",
              "\r\n",
              "            var data = [{\"type\":\"histogram\",\"x\":[11.0,13.0,10.0,15.0,12.0,12.0,10.0,9.0,13.0,11.0,10.0,8.0,6.0,11.0,9.0,10.0,6.0,10.0,13.0,17.0,10.0,14.0,12.0,6.0,8.0,8.0,10.0,17.0,19.0,15.0,19.0,14.0,11.0,8.0,11.0,9.0,7.0,15.0,9.0,13.0,10.0,9.0,9.0,12.0,8.0,9.0,14.0,6.0,5.0,11.0,11.0,9.0,16.0,10.0,14.0,6.0,13.0,11.0,7.0,13.0,7.0,9.0,11.0,8.0,12.0,9.0,15.0,10.0,7.0,12.0,12.0,12.0,8.0,11.0,14.0,7.0,8.0,11.0,8.0,6.0,11.0,10.0,5.0,10.0,8.0,12.0,7.0,12.0,9.0,15.0,11.0,11.0,9.0,7.0,16.0,9.0,10.0,6.0,9.0,7.0,10.0,11.0,15.0,11.0,11.0,13.0,7.0,11.0,8.0,4.0,11.0,9.0,9.0,5.0,13.0,6.0,11.0,12.0,11.0,13.0,14.0,15.0,15.0,14.0,9.0,11.0,10.0,15.0,4.0,7.0,6.0,11.0,14.0,11.0,17.0,11.0,8.0,9.0,9.0,10.0,9.0,8.0,11.0,12.0,5.0,13.0,11.0,7.0,9.0,12.0,14.0,12.0,10.0,8.0,10.0,7.0,10.0,10.0,13.0,14.0,10.0,13.0,11.0,14.0,12.0,8.0,7.0,9.0,14.0,15.0,6.0,12.0,11.0,8.0,5.0,13.0,7.0,12.0,6.0,9.0,7.0,16.0,11.0,10.0,11.0,11.0,6.0,15.0,15.0,8.0,12.0,6.0,10.0,14.0,7.0,9.0,16.0,13.0,12.0,13.0,10.0,13.0,11.0,10.0,16.0,11.0,10.0,10.0,5.0,12.0,9.0,15.0,6.0,11.0,8.0,15.0,11.0,16.0,12.0,6.0,11.0,13.0,9.0,16.0,10.0,11.0,11.0,9.0,6.0,7.0,18.0,7.0,10.0,12.0,11.0,11.0,11.0,13.0,6.0,10.0,11.0,8.0,11.0,8.0,10.0,13.0,6.0,10.0,9.0,6.0,10.0,11.0,9.0,9.0,7.0,10.0,8.0,12.0,12.0,6.0,9.0,10.0,8.0,5.0,9.0,12.0,15.0,11.0,11.0,11.0,5.0,10.0,10.0,10.0,12.0,12.0,5.0,11.0,7.0,8.0,10.0,6.0,14.0,16.0,8.0,10.0,12.0,8.0,13.0,9.0,13.0,12.0,8.0,11.0,11.0,13.0,9.0,9.0,8.0,12.0,11.0,8.0,21.0,8.0,6.0,9.0,6.0,10.0,13.0,14.0,6.0,16.0,9.0,6.0,13.0,8.0,12.0,8.0,10.0,11.0,10.0,8.0,9.0,12.0,11.0,12.0,8.0,10.0,17.0,9.0,13.0,9.0,9.0,9.0,10.0,12.0,9.0,6.0,12.0,10.0,9.0,7.0,16.0,12.0,9.0,6.0,5.0,13.0,11.0,7.0,10.0,9.0,8.0,11.0,11.0,6.0,13.0,3.0,8.0,7.0,10.0,10.0,9.0,12.0,9.0,11.0,12.0,7.0,6.0,8.0,8.0,13.0,9.0,14.0,8.0,8.0,8.0,13.0,7.0,10.0,13.0,14.0,10.0,12.0,8.0,7.0,5.0,12.0,10.0,9.0,8.0,14.0,15.0,7.0,6.0,9.0,8.0,8.0,10.0,9.0,8.0,14.0,12.0,7.0,1.0,14.0,9.0,8.0,8.0,9.0,10.0,12.0,10.0,7.0,8.0,8.0,13.0,4.0,12.0,11.0,13.0,2.0,7.0,8.0,20.0,11.0,11.0,10.0,11.0,11.0,13.0,9.0,13.0,10.0,8.0,10.0,12.0,7.0,6.0,16.0,10.0,9.0,7.0,10.0,7.0,10.0,14.0,8.0,12.0,12.0,10.0,4.0,13.0,13.0,9.0,7.0,13.0,12.0,13.0,12.0,15.0,5.0,10.0,7.0,10.0,11.0,10.0,5.0,14.0,10.0,7.0,12.0,12.0,12.0,10.0,14.0,8.0,10.0,7.0,10.0,11.0,19.0,8.0,7.0,7.0,15.0,11.0,12.0,15.0,7.0,16.0,13.0,10.0,10.0,10.0,14.0,10.0,7.0,19.0,9.0,4.0,12.0,9.0,7.0,9.0,10.0,12.0,9.0,9.0,9.0,13.0,8.0,13.0,12.0,16.0,9.0,13.0,8.0,10.0,16.0,11.0,13.0,5.0,11.0,9.0,12.0,7.0,7.0,8.0,15.0,9.0,11.0,12.0,5.0,11.0,16.0,5.0,13.0,12.0,11.0,12.0,15.0,11.0,8.0,9.0,10.0,9.0,11.0,13.0,5.0,14.0,11.0,18.0,6.0,9.0,11.0,2.0,7.0,7.0,12.0,4.0,6.0,11.0,18.0,9.0,12.0,3.0,9.0,14.0,7.0,12.0,9.0,11.0,14.0,5.0,8.0,18.0,9.0,20.0,10.0,8.0,11.0,6.0,10.0,16.0,8.0,6.0,10.0,10.0,17.0,13.0,8.0,9.0,10.0,9.0,10.0,7.0,14.0,11.0,19.0,11.0,11.0,12.0,7.0,13.0,9.0,12.0,4.0,7.0,12.0,13.0,6.0,16.0,10.0,11.0,16.0,4.0,11.0,6.0,7.0,10.0,6.0,13.0,15.0,10.0,8.0,10.0,10.0,13.0,17.0,8.0,8.0,8.0,9.0,9.0,11.0,4.0,9.0,9.0,8.0,9.0,11.0,15.0,2.0,7.0,4.0,14.0,13.0,7.0,20.0,6.0,10.0,9.0,13.0,13.0,12.0,11.0,10.0,9.0,12.0,6.0,9.0,11.0,11.0,10.0,8.0,8.0,14.0,11.0,20.0,8.0,3.0,11.0,9.0,14.0,11.0,7.0,10.0,12.0,8.0,11.0,8.0,9.0,8.0,11.0,11.0,12.0,8.0,8.0,7.0,8.0,10.0,9.0,6.0,13.0,9.0,5.0,11.0,11.0,13.0,8.0,9.0,3.0,8.0,13.0,11.0,14.0,8.0,10.0,10.0,9.0,11.0,12.0,10.0,11.0,13.0,11.0,6.0,11.0,1.0,7.0,7.0,10.0,7.0,15.0,9.0,12.0,11.0,10.0,14.0,10.0,10.0,6.0,10.0,3.0,12.0,13.0,11.0,11.0,8.0,10.0,9.0,13.0,9.0,6.0,17.0,12.0,18.0,11.0,11.0,6.0,12.0,8.0,6.0,7.0,13.0,12.0,7.0,7.0,16.0,13.0,13.0,16.0,17.0,12.0,13.0,11.0,9.0,9.0,14.0,5.0,9.0,12.0,10.0,10.0,13.0,10.0,14.0,15.0,9.0,11.0,12.0,14.0,17.0,5.0,16.0,7.0,8.0,11.0,7.0,10.0,10.0,7.0,9.0,11.0,9.0,14.0,16.0,10.0,12.0,12.0,7.0,13.0,5.0,18.0,13.0,9.0,18.0,7.0,6.0,5.0,11.0,11.0,13.0,9.0,8.0,9.0,10.0,14.0,8.0,11.0,14.0,14.0,7.0,8.0,9.0,6.0,11.0,10.0,3.0,7.0,5.0,13.0,11.0,8.0,14.0,10.0,17.0,8.0,10.0,10.0,15.0,6.0,9.0,5.0,9.0,7.0,9.0,9.0,12.0,9.0,12.0,8.0,8.0,6.0,12.0,13.0,9.0,17.0,13.0,1.0,4.0,4.0,14.0,11.0,13.0,11.0,8.0,9.0,16.0,11.0,12.0,6.0,5.0,6.0,5.0,9.0,11.0,11.0,12.0,8.0,7.0,7.0,11.0,19.0,13.0,8.0,8.0,10.0,12.0,14.0,8.0,11.0,6.0,12.0,10.0,13.0,12.0,12.0,14.0,12.0,14.0,12.0,13.0,15.0,9.0,8.0,12.0,13.0,9.0,18.0,12.0,4.0,12.0,13.0,9.0,11.0,4.0,10.0,6.0,10.0,10.0,8.0,4.0,15.0,9.0,8.0,10.0,7.0,9.0,10.0,10.0,10.0,12.0,13.0,10.0,15.0,7.0,9.0,13.0,13.0,11.0,9.0,8.0,11.0,13.0,10.0,10.0,7.0,16.0,9.0,13.0,12.0,9.0,16.0,9.0,14.0,11.0,9.0,10.0,13.0,9.0,12.0,6.0,12.0,12.0,12.0,7.0,15.0,17.0,10.0,15.0,16.0,10.0,10.0,15.0,11.0,9.0,10.0,9.0,11.0,6.0,7.0,6.0,17.0,8.0,11.0,11.0,7.0,8.0,7.0,8.0,6.0,11.0,12.0,12.0,11.0,10.0,9.0,9.0,8.0],\"histnorm\":\"probability\",\"marker\":{}},{\"type\":\"scatter\",\"mode\":\"lines\",\"x\":[0,1,2,3,4,5,6,7,8,9,10,11,12,13,14,15,16,17,18,19,20],\"y\":[4.5399929762484875E-05,0.00045399929762484877,0.0022699964881242435,0.007566654960414146,0.018916637401035365,0.03783327480207073,0.06305545800345122,0.09007922571921602,0.11259903214902002,0.12511003572113336,0.12511003572113336,0.11373639611012125,0.09478033009176769,0.07290794622443669,0.05207710444602621,0.034718069630684134,0.021698793519177587,0.01276399618775152,0.0070911089931952895,0.003732162627997521,0.0018660813139987603],\"marker\":{},\"line\":{}}];\r\n",
              "            var layout = {\"width\":600,\"height\":600,\"template\":{\"layout\":{\"title\":{\"x\":0.05},\"font\":{\"color\":\"rgba(42, 63, 95, 1.0)\"},\"paper_bgcolor\":\"rgba(255, 255, 255, 1.0)\",\"plot_bgcolor\":\"rgba(229, 236, 246, 1.0)\",\"autotypenumbers\":\"strict\",\"colorscale\":{\"diverging\":[[0.0,\"#8e0152\"],[0.1,\"#c51b7d\"],[0.2,\"#de77ae\"],[0.3,\"#f1b6da\"],[0.4,\"#fde0ef\"],[0.5,\"#f7f7f7\"],[0.6,\"#e6f5d0\"],[0.7,\"#b8e186\"],[0.8,\"#7fbc41\"],[0.9,\"#4d9221\"],[1.0,\"#276419\"]],\"sequential\":[[0.0,\"#0d0887\"],[0.1111111111111111,\"#46039f\"],[0.2222222222222222,\"#7201a8\"],[0.3333333333333333,\"#9c179e\"],[0.4444444444444444,\"#bd3786\"],[0.5555555555555556,\"#d8576b\"],[0.6666666666666666,\"#ed7953\"],[0.7777777777777778,\"#fb9f3a\"],[0.8888888888888888,\"#fdca26\"],[1.0,\"#f0f921\"]],\"sequentialminus\":[[0.0,\"#0d0887\"],[0.1111111111111111,\"#46039f\"],[0.2222222222222222,\"#7201a8\"],[0.3333333333333333,\"#9c179e\"],[0.4444444444444444,\"#bd3786\"],[0.5555555555555556,\"#d8576b\"],[0.6666666666666666,\"#ed7953\"],[0.7777777777777778,\"#fb9f3a\"],[0.8888888888888888,\"#fdca26\"],[1.0,\"#f0f921\"]]},\"hovermode\":\"closest\",\"hoverlabel\":{\"align\":\"left\"},\"coloraxis\":{\"colorbar\":{\"outlinewidth\":0.0,\"ticks\":\"\"}},\"geo\":{\"showland\":true,\"landcolor\":\"rgba(229, 236, 246, 1.0)\",\"showlakes\":true,\"lakecolor\":\"rgba(255, 255, 255, 1.0)\",\"subunitcolor\":\"rgba(255, 255, 255, 1.0)\",\"bgcolor\":\"rgba(255, 255, 255, 1.0)\"},\"mapbox\":{\"style\":\"light\"},\"polar\":{\"bgcolor\":\"rgba(229, 236, 246, 1.0)\",\"radialaxis\":{\"linecolor\":\"rgba(255, 255, 255, 1.0)\",\"gridcolor\":\"rgba(255, 255, 255, 1.0)\",\"ticks\":\"\"},\"angularaxis\":{\"linecolor\":\"rgba(255, 255, 255, 1.0)\",\"gridcolor\":\"rgba(255, 255, 255, 1.0)\",\"ticks\":\"\"}},\"scene\":{\"xaxis\":{\"ticks\":\"\",\"linecolor\":\"rgba(255, 255, 255, 1.0)\",\"gridcolor\":\"rgba(255, 255, 255, 1.0)\",\"gridwidth\":2.0,\"zerolinecolor\":\"rgba(255, 255, 255, 1.0)\",\"backgroundcolor\":\"rgba(229, 236, 246, 1.0)\",\"showbackground\":true},\"yaxis\":{\"ticks\":\"\",\"linecolor\":\"rgba(255, 255, 255, 1.0)\",\"gridcolor\":\"rgba(255, 255, 255, 1.0)\",\"gridwidth\":2.0,\"zerolinecolor\":\"rgba(255, 255, 255, 1.0)\",\"backgroundcolor\":\"rgba(229, 236, 246, 1.0)\",\"showbackground\":true},\"zaxis\":{\"ticks\":\"\",\"linecolor\":\"rgba(255, 255, 255, 1.0)\",\"gridcolor\":\"rgba(255, 255, 255, 1.0)\",\"gridwidth\":2.0,\"zerolinecolor\":\"rgba(255, 255, 255, 1.0)\",\"backgroundcolor\":\"rgba(229, 236, 246, 1.0)\",\"showbackground\":true}},\"ternary\":{\"aaxis\":{\"ticks\":\"\",\"linecolor\":\"rgba(255, 255, 255, 1.0)\",\"gridcolor\":\"rgba(255, 255, 255, 1.0)\"},\"baxis\":{\"ticks\":\"\",\"linecolor\":\"rgba(255, 255, 255, 1.0)\",\"gridcolor\":\"rgba(255, 255, 255, 1.0)\"},\"caxis\":{\"ticks\":\"\",\"linecolor\":\"rgba(255, 255, 255, 1.0)\",\"gridcolor\":\"rgba(255, 255, 255, 1.0)\"},\"bgcolor\":\"rgba(229, 236, 246, 1.0)\"},\"xaxis\":{\"title\":{\"standoff\":15},\"ticks\":\"\",\"automargin\":true,\"linecolor\":\"rgba(255, 255, 255, 1.0)\",\"gridcolor\":\"rgba(255, 255, 255, 1.0)\",\"zerolinecolor\":\"rgba(255, 255, 255, 1.0)\",\"zerolinewidth\":2.0},\"yaxis\":{\"title\":{\"standoff\":15},\"ticks\":\"\",\"automargin\":true,\"linecolor\":\"rgba(255, 255, 255, 1.0)\",\"gridcolor\":\"rgba(255, 255, 255, 1.0)\",\"zerolinecolor\":\"rgba(255, 255, 255, 1.0)\",\"zerolinewidth\":2.0},\"annotationdefaults\":{\"arrowcolor\":\"#2a3f5f\",\"arrowhead\":0,\"arrowwidth\":1},\"shapedefaults\":{\"line\":{\"color\":\"rgba(42, 63, 95, 1.0)\"}},\"colorway\":[\"rgba(99, 110, 250, 1.0)\",\"rgba(239, 85, 59, 1.0)\",\"rgba(0, 204, 150, 1.0)\",\"rgba(171, 99, 250, 1.0)\",\"rgba(255, 161, 90, 1.0)\",\"rgba(25, 211, 243, 1.0)\",\"rgba(255, 102, 146, 1.0)\",\"rgba(182, 232, 128, 1.0)\",\"rgba(255, 151, 255, 1.0)\",\"rgba(254, 203, 82, 1.0)\"]},\"data\":{\"bar\":[{\"marker\":{\"line\":{\"color\":\"rgba(229, 236, 246, 1.0)\",\"width\":0.5},\"pattern\":{\"fillmode\":\"overlay\",\"size\":10,\"solidity\":0.2}},\"error_x\":{\"color\":\"rgba(42, 63, 95, 1.0)\"},\"error_y\":{\"color\":\"rgba(42, 63, 95, 1.0)\"}}],\"barpolar\":[{\"marker\":{\"line\":{\"color\":\"rgba(229, 236, 246, 1.0)\",\"width\":0.5},\"pattern\":{\"fillmode\":\"overlay\",\"size\":10,\"solidity\":0.2}}}],\"carpet\":[{\"aaxis\":{\"linecolor\":\"rgba(255, 255, 255, 1.0)\",\"gridcolor\":\"rgba(255, 255, 255, 1.0)\",\"endlinecolor\":\"rgba(42, 63, 95, 1.0)\",\"minorgridcolor\":\"rgba(255, 255, 255, 1.0)\",\"startlinecolor\":\"rgba(42, 63, 95, 1.0)\"},\"baxis\":{\"linecolor\":\"rgba(255, 255, 255, 1.0)\",\"gridcolor\":\"rgba(255, 255, 255, 1.0)\",\"endlinecolor\":\"rgba(42, 63, 95, 1.0)\",\"minorgridcolor\":\"rgba(255, 255, 255, 1.0)\",\"startlinecolor\":\"rgba(42, 63, 95, 1.0)\"}}],\"choropleth\":[{\"colorbar\":{\"outlinewidth\":0.0,\"ticks\":\"\"},\"colorscale\":[[0.0,\"#0d0887\"],[0.1111111111111111,\"#46039f\"],[0.2222222222222222,\"#7201a8\"],[0.3333333333333333,\"#9c179e\"],[0.4444444444444444,\"#bd3786\"],[0.5555555555555556,\"#d8576b\"],[0.6666666666666666,\"#ed7953\"],[0.7777777777777778,\"#fb9f3a\"],[0.8888888888888888,\"#fdca26\"],[1.0,\"#f0f921\"]]}],\"contour\":[{\"colorbar\":{\"outlinewidth\":0.0,\"ticks\":\"\"},\"colorscale\":[[0.0,\"#0d0887\"],[0.1111111111111111,\"#46039f\"],[0.2222222222222222,\"#7201a8\"],[0.3333333333333333,\"#9c179e\"],[0.4444444444444444,\"#bd3786\"],[0.5555555555555556,\"#d8576b\"],[0.6666666666666666,\"#ed7953\"],[0.7777777777777778,\"#fb9f3a\"],[0.8888888888888888,\"#fdca26\"],[1.0,\"#f0f921\"]]}],\"contourcarpet\":[{\"colorbar\":{\"outlinewidth\":0.0,\"ticks\":\"\"}}],\"heatmap\":[{\"colorbar\":{\"outlinewidth\":0.0,\"ticks\":\"\"},\"colorscale\":[[0.0,\"#0d0887\"],[0.1111111111111111,\"#46039f\"],[0.2222222222222222,\"#7201a8\"],[0.3333333333333333,\"#9c179e\"],[0.4444444444444444,\"#bd3786\"],[0.5555555555555556,\"#d8576b\"],[0.6666666666666666,\"#ed7953\"],[0.7777777777777778,\"#fb9f3a\"],[0.8888888888888888,\"#fdca26\"],[1.0,\"#f0f921\"]]}],\"heatmapgl\":[{\"colorbar\":{\"outlinewidth\":0.0,\"ticks\":\"\"},\"colorscale\":[[0.0,\"#0d0887\"],[0.1111111111111111,\"#46039f\"],[0.2222222222222222,\"#7201a8\"],[0.3333333333333333,\"#9c179e\"],[0.4444444444444444,\"#bd3786\"],[0.5555555555555556,\"#d8576b\"],[0.6666666666666666,\"#ed7953\"],[0.7777777777777778,\"#fb9f3a\"],[0.8888888888888888,\"#fdca26\"],[1.0,\"#f0f921\"]]}],\"histogram\":[{\"marker\":{\"pattern\":{\"fillmode\":\"overlay\",\"size\":10,\"solidity\":0.2}}}],\"histogram2d\":[{\"colorbar\":{\"outlinewidth\":0.0,\"ticks\":\"\"},\"colorscale\":[[0.0,\"#0d0887\"],[0.1111111111111111,\"#46039f\"],[0.2222222222222222,\"#7201a8\"],[0.3333333333333333,\"#9c179e\"],[0.4444444444444444,\"#bd3786\"],[0.5555555555555556,\"#d8576b\"],[0.6666666666666666,\"#ed7953\"],[0.7777777777777778,\"#fb9f3a\"],[0.8888888888888888,\"#fdca26\"],[1.0,\"#f0f921\"]]}],\"histogram2dcontour\":[{\"colorbar\":{\"outlinewidth\":0.0,\"ticks\":\"\"},\"colorscale\":[[0.0,\"#0d0887\"],[0.1111111111111111,\"#46039f\"],[0.2222222222222222,\"#7201a8\"],[0.3333333333333333,\"#9c179e\"],[0.4444444444444444,\"#bd3786\"],[0.5555555555555556,\"#d8576b\"],[0.6666666666666666,\"#ed7953\"],[0.7777777777777778,\"#fb9f3a\"],[0.8888888888888888,\"#fdca26\"],[1.0,\"#f0f921\"]]}],\"mesh3d\":[{\"colorbar\":{\"outlinewidth\":0.0,\"ticks\":\"\"}}],\"parcoords\":[{\"line\":{\"colorbar\":{\"outlinewidth\":0.0,\"ticks\":\"\"}}}],\"pie\":[{\"automargin\":true}],\"scatter\":[{\"marker\":{\"colorbar\":{\"outlinewidth\":0.0,\"ticks\":\"\"}}}],\"scatter3d\":[{\"marker\":{\"colorbar\":{\"outlinewidth\":0.0,\"ticks\":\"\"}},\"line\":{\"colorbar\":{\"outlinewidth\":0.0,\"ticks\":\"\"}}}],\"scattercarpet\":[{\"marker\":{\"colorbar\":{\"outlinewidth\":0.0,\"ticks\":\"\"}}}],\"scattergeo\":[{\"marker\":{\"colorbar\":{\"outlinewidth\":0.0,\"ticks\":\"\"}}}],\"scattergl\":[{\"marker\":{\"colorbar\":{\"outlinewidth\":0.0,\"ticks\":\"\"}}}],\"scattermapbox\":[{\"marker\":{\"colorbar\":{\"outlinewidth\":0.0,\"ticks\":\"\"}}}],\"scatterpolar\":[{\"marker\":{\"colorbar\":{\"outlinewidth\":0.0,\"ticks\":\"\"}}}],\"scatterpolargl\":[{\"marker\":{\"colorbar\":{\"outlinewidth\":0.0,\"ticks\":\"\"}}}],\"scatterternary\":[{\"marker\":{\"colorbar\":{\"outlinewidth\":0.0,\"ticks\":\"\"}}}],\"surface\":[{\"colorbar\":{\"outlinewidth\":0.0,\"ticks\":\"\"},\"colorscale\":[[0.0,\"#0d0887\"],[0.1111111111111111,\"#46039f\"],[0.2222222222222222,\"#7201a8\"],[0.3333333333333333,\"#9c179e\"],[0.4444444444444444,\"#bd3786\"],[0.5555555555555556,\"#d8576b\"],[0.6666666666666666,\"#ed7953\"],[0.7777777777777778,\"#fb9f3a\"],[0.8888888888888888,\"#fdca26\"],[1.0,\"#f0f921\"]]}],\"table\":[{\"cells\":{\"fill\":{\"color\":\"rgba(235, 240, 248, 1.0)\"},\"line\":{\"color\":\"rgba(255, 255, 255, 1.0)\"}},\"header\":{\"fill\":{\"color\":\"rgba(200, 212, 227, 1.0)\"},\"line\":{\"color\":\"rgba(255, 255, 255, 1.0)\"}}}]}}};\r\n",
              "            var config = {\"responsive\":true};\r\n",
              "            Plotly.newPlot('ceb36a46-1207-46dd-96db-effeabefa690', data, layout, config);\r\n",
              "});\r\n",
              "            };\r\n",
              "            if ((typeof(requirejs) !==  typeof(Function)) || (typeof(requirejs.config) !== typeof(Function))) {\r\n",
              "                var script = document.createElement(\"script\");\r\n",
              "                script.setAttribute(\"src\", \"https://cdnjs.cloudflare.com/ajax/libs/require.js/2.3.6/require.min.js\");\r\n",
              "                script.onload = function(){\r\n",
              "                    renderPlotly_ceb36a46120746dd96dbeffeabefa690();\r\n",
              "                };\r\n",
              "                document.getElementsByTagName(\"head\")[0].appendChild(script);\r\n",
              "            }\r\n",
              "            else {\r\n",
              "                renderPlotly_ceb36a46120746dd96dbeffeabefa690();\r\n",
              "            }\r\n",
              "</script>\r\n",
              "\n",
              "    \n",
              "</div>    \n"
            ]
          },
          "metadata": {},
          "output_type": "display_data"
        }
      ],
      "source": [
        "let samples2 =\n",
        "    samples\n",
        "    |> Array.map fst\n",
        "    |> Array.map (fun x -> Array.get x 99)\n",
        "[\n",
        "    samples2\n",
        "    |> fun x -> Chart.Histogram(x,HistNorm = StyleParam.HistNorm.Probability)\n",
        "    poissonPoints\n",
        "]\n",
        "|> Chart.combine"
      ]
    },
    {
      "cell_type": "code",
      "execution_count": null,
      "metadata": {
        "dotnet_interactive": {
          "language": "fsharp"
        },
        "vscode": {
          "languageId": "dotnet-interactive.fsharp"
        }
      },
      "outputs": [
        {
          "data": {
            "text/html": [
              "\n",
              "<div>\n",
              "    <div id=\"d8d5a15d-fe61-4c00-a75e-f012145bde81\"><!-- Plotly chart will be drawn inside this DIV --></div>\r\n",
              "<script type=\"text/javascript\">\r\n",
              "\r\n",
              "            var renderPlotly_d8d5a15dfe614c00a75ef012145bde81 = function() {\r\n",
              "            var fsharpPlotlyRequire = requirejs.config({context:'fsharp-plotly',paths:{plotly:'https://cdn.plot.ly/plotly-2.6.3.min'}}) || require;\r\n",
              "            fsharpPlotlyRequire(['plotly'], function(Plotly) {\r\n",
              "\r\n",
              "            var data = [{\"type\":\"histogram\",\"x\":[0.0,26.0,0.0,23.0,0.0,32.0,0.0,35.0,0.0,14.0,0.0,41.0,0.0,24.0,0.0,21.0,0.0,54.0,0.0,31.0,0.0,21.0,0.0,15.0,0.0,14.0,0.0,10.0,0.0,23.0,0.0,41.0,0.0,23.0,0.0,2.0,0.0,43.0,0.0,24.0,0.0,27.0,0.0,38.0,0.0,32.0,0.0,56.0,0.0,29.0,0.0,29.0,0.0,35.0,0.0,47.0,0.0,16.0,0.0,25.0,0.0,28.0,0.0,23.0,0.0,20.0,0.0,19.0,0.0,36.0,0.0,23.0,0.0,47.0,0.0,33.0,0.0,47.0,0.0,45.0,0.0,29.0,0.0,43.0,0.0,39.0,0.0,56.0,0.0,44.0,0.0,32.0,0.0,7.0,0.0,28.0,0.0,35.0,0.0,9.0,0.0,17.0,0.0,17.0,0.0,28.0,0.0,26.0,0.0,54.0,0.0,40.0,0.0,21.0,0.0,28.0,0.0,41.0,0.0,34.0,0.0,23.0,0.0,27.0,0.0,45.0,0.0,11.0,0.0,27.0,0.0,33.0,0.0,35.0,0.0,45.0,0.0,34.0,0.0,47.0,0.0,26.0,0.0,56.0,0.0,39.0,0.0,26.0,0.0,38.0,0.0,30.0,0.0,57.0,0.0,18.0,0.0,14.0,0.0,42.0,0.0,43.0,0.0,15.0,0.0,27.0,0.0,15.0,0.0,25.0,0.0,25.0,0.0,67.0,0.0,10.0,0.0,31.0,0.0,6.0,0.0,20.0,0.0,26.0,0.0,33.0,0.0,12.0,0.0,20.0,0.0,23.0,0.0,44.0,0.0,34.0,0.0,51.0,0.0,19.0,0.0,52.0],\"marker\":{}}];\r\n",
              "            var layout = {\"width\":600,\"height\":600,\"template\":{\"layout\":{\"title\":{\"x\":0.05},\"font\":{\"color\":\"rgba(42, 63, 95, 1.0)\"},\"paper_bgcolor\":\"rgba(255, 255, 255, 1.0)\",\"plot_bgcolor\":\"rgba(229, 236, 246, 1.0)\",\"autotypenumbers\":\"strict\",\"colorscale\":{\"diverging\":[[0.0,\"#8e0152\"],[0.1,\"#c51b7d\"],[0.2,\"#de77ae\"],[0.3,\"#f1b6da\"],[0.4,\"#fde0ef\"],[0.5,\"#f7f7f7\"],[0.6,\"#e6f5d0\"],[0.7,\"#b8e186\"],[0.8,\"#7fbc41\"],[0.9,\"#4d9221\"],[1.0,\"#276419\"]],\"sequential\":[[0.0,\"#0d0887\"],[0.1111111111111111,\"#46039f\"],[0.2222222222222222,\"#7201a8\"],[0.3333333333333333,\"#9c179e\"],[0.4444444444444444,\"#bd3786\"],[0.5555555555555556,\"#d8576b\"],[0.6666666666666666,\"#ed7953\"],[0.7777777777777778,\"#fb9f3a\"],[0.8888888888888888,\"#fdca26\"],[1.0,\"#f0f921\"]],\"sequentialminus\":[[0.0,\"#0d0887\"],[0.1111111111111111,\"#46039f\"],[0.2222222222222222,\"#7201a8\"],[0.3333333333333333,\"#9c179e\"],[0.4444444444444444,\"#bd3786\"],[0.5555555555555556,\"#d8576b\"],[0.6666666666666666,\"#ed7953\"],[0.7777777777777778,\"#fb9f3a\"],[0.8888888888888888,\"#fdca26\"],[1.0,\"#f0f921\"]]},\"hovermode\":\"closest\",\"hoverlabel\":{\"align\":\"left\"},\"coloraxis\":{\"colorbar\":{\"outlinewidth\":0.0,\"ticks\":\"\"}},\"geo\":{\"showland\":true,\"landcolor\":\"rgba(229, 236, 246, 1.0)\",\"showlakes\":true,\"lakecolor\":\"rgba(255, 255, 255, 1.0)\",\"subunitcolor\":\"rgba(255, 255, 255, 1.0)\",\"bgcolor\":\"rgba(255, 255, 255, 1.0)\"},\"mapbox\":{\"style\":\"light\"},\"polar\":{\"bgcolor\":\"rgba(229, 236, 246, 1.0)\",\"radialaxis\":{\"linecolor\":\"rgba(255, 255, 255, 1.0)\",\"gridcolor\":\"rgba(255, 255, 255, 1.0)\",\"ticks\":\"\"},\"angularaxis\":{\"linecolor\":\"rgba(255, 255, 255, 1.0)\",\"gridcolor\":\"rgba(255, 255, 255, 1.0)\",\"ticks\":\"\"}},\"scene\":{\"xaxis\":{\"ticks\":\"\",\"linecolor\":\"rgba(255, 255, 255, 1.0)\",\"gridcolor\":\"rgba(255, 255, 255, 1.0)\",\"gridwidth\":2.0,\"zerolinecolor\":\"rgba(255, 255, 255, 1.0)\",\"backgroundcolor\":\"rgba(229, 236, 246, 1.0)\",\"showbackground\":true},\"yaxis\":{\"ticks\":\"\",\"linecolor\":\"rgba(255, 255, 255, 1.0)\",\"gridcolor\":\"rgba(255, 255, 255, 1.0)\",\"gridwidth\":2.0,\"zerolinecolor\":\"rgba(255, 255, 255, 1.0)\",\"backgroundcolor\":\"rgba(229, 236, 246, 1.0)\",\"showbackground\":true},\"zaxis\":{\"ticks\":\"\",\"linecolor\":\"rgba(255, 255, 255, 1.0)\",\"gridcolor\":\"rgba(255, 255, 255, 1.0)\",\"gridwidth\":2.0,\"zerolinecolor\":\"rgba(255, 255, 255, 1.0)\",\"backgroundcolor\":\"rgba(229, 236, 246, 1.0)\",\"showbackground\":true}},\"ternary\":{\"aaxis\":{\"ticks\":\"\",\"linecolor\":\"rgba(255, 255, 255, 1.0)\",\"gridcolor\":\"rgba(255, 255, 255, 1.0)\"},\"baxis\":{\"ticks\":\"\",\"linecolor\":\"rgba(255, 255, 255, 1.0)\",\"gridcolor\":\"rgba(255, 255, 255, 1.0)\"},\"caxis\":{\"ticks\":\"\",\"linecolor\":\"rgba(255, 255, 255, 1.0)\",\"gridcolor\":\"rgba(255, 255, 255, 1.0)\"},\"bgcolor\":\"rgba(229, 236, 246, 1.0)\"},\"xaxis\":{\"title\":{\"standoff\":15},\"ticks\":\"\",\"automargin\":true,\"linecolor\":\"rgba(255, 255, 255, 1.0)\",\"gridcolor\":\"rgba(255, 255, 255, 1.0)\",\"zerolinecolor\":\"rgba(255, 255, 255, 1.0)\",\"zerolinewidth\":2.0},\"yaxis\":{\"title\":{\"standoff\":15},\"ticks\":\"\",\"automargin\":true,\"linecolor\":\"rgba(255, 255, 255, 1.0)\",\"gridcolor\":\"rgba(255, 255, 255, 1.0)\",\"zerolinecolor\":\"rgba(255, 255, 255, 1.0)\",\"zerolinewidth\":2.0},\"annotationdefaults\":{\"arrowcolor\":\"#2a3f5f\",\"arrowhead\":0,\"arrowwidth\":1},\"shapedefaults\":{\"line\":{\"color\":\"rgba(42, 63, 95, 1.0)\"}},\"colorway\":[\"rgba(99, 110, 250, 1.0)\",\"rgba(239, 85, 59, 1.0)\",\"rgba(0, 204, 150, 1.0)\",\"rgba(171, 99, 250, 1.0)\",\"rgba(255, 161, 90, 1.0)\",\"rgba(25, 211, 243, 1.0)\",\"rgba(255, 102, 146, 1.0)\",\"rgba(182, 232, 128, 1.0)\",\"rgba(255, 151, 255, 1.0)\",\"rgba(254, 203, 82, 1.0)\"]},\"data\":{\"bar\":[{\"marker\":{\"line\":{\"color\":\"rgba(229, 236, 246, 1.0)\",\"width\":0.5},\"pattern\":{\"fillmode\":\"overlay\",\"size\":10,\"solidity\":0.2}},\"error_x\":{\"color\":\"rgba(42, 63, 95, 1.0)\"},\"error_y\":{\"color\":\"rgba(42, 63, 95, 1.0)\"}}],\"barpolar\":[{\"marker\":{\"line\":{\"color\":\"rgba(229, 236, 246, 1.0)\",\"width\":0.5},\"pattern\":{\"fillmode\":\"overlay\",\"size\":10,\"solidity\":0.2}}}],\"carpet\":[{\"aaxis\":{\"linecolor\":\"rgba(255, 255, 255, 1.0)\",\"gridcolor\":\"rgba(255, 255, 255, 1.0)\",\"endlinecolor\":\"rgba(42, 63, 95, 1.0)\",\"minorgridcolor\":\"rgba(255, 255, 255, 1.0)\",\"startlinecolor\":\"rgba(42, 63, 95, 1.0)\"},\"baxis\":{\"linecolor\":\"rgba(255, 255, 255, 1.0)\",\"gridcolor\":\"rgba(255, 255, 255, 1.0)\",\"endlinecolor\":\"rgba(42, 63, 95, 1.0)\",\"minorgridcolor\":\"rgba(255, 255, 255, 1.0)\",\"startlinecolor\":\"rgba(42, 63, 95, 1.0)\"}}],\"choropleth\":[{\"colorbar\":{\"outlinewidth\":0.0,\"ticks\":\"\"},\"colorscale\":[[0.0,\"#0d0887\"],[0.1111111111111111,\"#46039f\"],[0.2222222222222222,\"#7201a8\"],[0.3333333333333333,\"#9c179e\"],[0.4444444444444444,\"#bd3786\"],[0.5555555555555556,\"#d8576b\"],[0.6666666666666666,\"#ed7953\"],[0.7777777777777778,\"#fb9f3a\"],[0.8888888888888888,\"#fdca26\"],[1.0,\"#f0f921\"]]}],\"contour\":[{\"colorbar\":{\"outlinewidth\":0.0,\"ticks\":\"\"},\"colorscale\":[[0.0,\"#0d0887\"],[0.1111111111111111,\"#46039f\"],[0.2222222222222222,\"#7201a8\"],[0.3333333333333333,\"#9c179e\"],[0.4444444444444444,\"#bd3786\"],[0.5555555555555556,\"#d8576b\"],[0.6666666666666666,\"#ed7953\"],[0.7777777777777778,\"#fb9f3a\"],[0.8888888888888888,\"#fdca26\"],[1.0,\"#f0f921\"]]}],\"contourcarpet\":[{\"colorbar\":{\"outlinewidth\":0.0,\"ticks\":\"\"}}],\"heatmap\":[{\"colorbar\":{\"outlinewidth\":0.0,\"ticks\":\"\"},\"colorscale\":[[0.0,\"#0d0887\"],[0.1111111111111111,\"#46039f\"],[0.2222222222222222,\"#7201a8\"],[0.3333333333333333,\"#9c179e\"],[0.4444444444444444,\"#bd3786\"],[0.5555555555555556,\"#d8576b\"],[0.6666666666666666,\"#ed7953\"],[0.7777777777777778,\"#fb9f3a\"],[0.8888888888888888,\"#fdca26\"],[1.0,\"#f0f921\"]]}],\"heatmapgl\":[{\"colorbar\":{\"outlinewidth\":0.0,\"ticks\":\"\"},\"colorscale\":[[0.0,\"#0d0887\"],[0.1111111111111111,\"#46039f\"],[0.2222222222222222,\"#7201a8\"],[0.3333333333333333,\"#9c179e\"],[0.4444444444444444,\"#bd3786\"],[0.5555555555555556,\"#d8576b\"],[0.6666666666666666,\"#ed7953\"],[0.7777777777777778,\"#fb9f3a\"],[0.8888888888888888,\"#fdca26\"],[1.0,\"#f0f921\"]]}],\"histogram\":[{\"marker\":{\"pattern\":{\"fillmode\":\"overlay\",\"size\":10,\"solidity\":0.2}}}],\"histogram2d\":[{\"colorbar\":{\"outlinewidth\":0.0,\"ticks\":\"\"},\"colorscale\":[[0.0,\"#0d0887\"],[0.1111111111111111,\"#46039f\"],[0.2222222222222222,\"#7201a8\"],[0.3333333333333333,\"#9c179e\"],[0.4444444444444444,\"#bd3786\"],[0.5555555555555556,\"#d8576b\"],[0.6666666666666666,\"#ed7953\"],[0.7777777777777778,\"#fb9f3a\"],[0.8888888888888888,\"#fdca26\"],[1.0,\"#f0f921\"]]}],\"histogram2dcontour\":[{\"colorbar\":{\"outlinewidth\":0.0,\"ticks\":\"\"},\"colorscale\":[[0.0,\"#0d0887\"],[0.1111111111111111,\"#46039f\"],[0.2222222222222222,\"#7201a8\"],[0.3333333333333333,\"#9c179e\"],[0.4444444444444444,\"#bd3786\"],[0.5555555555555556,\"#d8576b\"],[0.6666666666666666,\"#ed7953\"],[0.7777777777777778,\"#fb9f3a\"],[0.8888888888888888,\"#fdca26\"],[1.0,\"#f0f921\"]]}],\"mesh3d\":[{\"colorbar\":{\"outlinewidth\":0.0,\"ticks\":\"\"}}],\"parcoords\":[{\"line\":{\"colorbar\":{\"outlinewidth\":0.0,\"ticks\":\"\"}}}],\"pie\":[{\"automargin\":true}],\"scatter\":[{\"marker\":{\"colorbar\":{\"outlinewidth\":0.0,\"ticks\":\"\"}}}],\"scatter3d\":[{\"marker\":{\"colorbar\":{\"outlinewidth\":0.0,\"ticks\":\"\"}},\"line\":{\"colorbar\":{\"outlinewidth\":0.0,\"ticks\":\"\"}}}],\"scattercarpet\":[{\"marker\":{\"colorbar\":{\"outlinewidth\":0.0,\"ticks\":\"\"}}}],\"scattergeo\":[{\"marker\":{\"colorbar\":{\"outlinewidth\":0.0,\"ticks\":\"\"}}}],\"scattergl\":[{\"marker\":{\"colorbar\":{\"outlinewidth\":0.0,\"ticks\":\"\"}}}],\"scattermapbox\":[{\"marker\":{\"colorbar\":{\"outlinewidth\":0.0,\"ticks\":\"\"}}}],\"scatterpolar\":[{\"marker\":{\"colorbar\":{\"outlinewidth\":0.0,\"ticks\":\"\"}}}],\"scatterpolargl\":[{\"marker\":{\"colorbar\":{\"outlinewidth\":0.0,\"ticks\":\"\"}}}],\"scatterternary\":[{\"marker\":{\"colorbar\":{\"outlinewidth\":0.0,\"ticks\":\"\"}}}],\"surface\":[{\"colorbar\":{\"outlinewidth\":0.0,\"ticks\":\"\"},\"colorscale\":[[0.0,\"#0d0887\"],[0.1111111111111111,\"#46039f\"],[0.2222222222222222,\"#7201a8\"],[0.3333333333333333,\"#9c179e\"],[0.4444444444444444,\"#bd3786\"],[0.5555555555555556,\"#d8576b\"],[0.6666666666666666,\"#ed7953\"],[0.7777777777777778,\"#fb9f3a\"],[0.8888888888888888,\"#fdca26\"],[1.0,\"#f0f921\"]]}],\"table\":[{\"cells\":{\"fill\":{\"color\":\"rgba(235, 240, 248, 1.0)\"},\"line\":{\"color\":\"rgba(255, 255, 255, 1.0)\"}},\"header\":{\"fill\":{\"color\":\"rgba(200, 212, 227, 1.0)\"},\"line\":{\"color\":\"rgba(255, 255, 255, 1.0)\"}}}]}}};\r\n",
              "            var config = {\"responsive\":true};\r\n",
              "            Plotly.newPlot('d8d5a15d-fe61-4c00-a75e-f012145bde81', data, layout, config);\r\n",
              "});\r\n",
              "            };\r\n",
              "            if ((typeof(requirejs) !==  typeof(Function)) || (typeof(requirejs.config) !== typeof(Function))) {\r\n",
              "                var script = document.createElement(\"script\");\r\n",
              "                script.setAttribute(\"src\", \"https://cdnjs.cloudflare.com/ajax/libs/require.js/2.3.6/require.min.js\");\r\n",
              "                script.onload = function(){\r\n",
              "                    renderPlotly_d8d5a15dfe614c00a75ef012145bde81();\r\n",
              "                };\r\n",
              "                document.getElementsByTagName(\"head\")[0].appendChild(script);\r\n",
              "            }\r\n",
              "            else {\r\n",
              "                renderPlotly_d8d5a15dfe614c00a75ef012145bde81();\r\n",
              "            }\r\n",
              "</script>\r\n",
              "\n",
              "    \n",
              "</div>    \n"
            ]
          },
          "metadata": {},
          "output_type": "display_data"
        }
      ],
      "source": [
        "let samples2 =\n",
        "    [|\n",
        "        for i = 0 to 100 do\n",
        "            gillespieSSA simplePropensities simpleUpdate (0,0) [|20.;21.|] 10. 10. 0.4\n",
        "    |]\n",
        "\n",
        "samples2\n",
        "|> Array.collect snd\n",
        "|> Chart.Histogram"
      ]
    }
  ],
  "metadata": {
    "kernelspec": {
      "display_name": ".NET (C#)",
      "language": "C#",
      "name": ".net-csharp"
    },
    "language_info": {
      "file_extension": ".cs",
      "mimetype": "text/x-csharp",
      "name": "C#",
      "pygments_lexer": "csharp",
      "version": "8.0"
    }
  },
  "nbformat": 4,
  "nbformat_minor": 4
}
