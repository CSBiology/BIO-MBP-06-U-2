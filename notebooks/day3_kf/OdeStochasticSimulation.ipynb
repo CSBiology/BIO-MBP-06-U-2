{
  "cells": [
    {
      "cell_type": "markdown",
      "metadata": {},
      "source": [
        "# Example: Solving Ordinary Differential Equations"
      ]
    },
    {
      "cell_type": "markdown",
      "metadata": {},
      "source": [
        "In this notebook we will use Python to solve differential equations numerically."
      ]
    },
    {
      "cell_type": "code",
      "execution_count": null,
      "metadata": {
        "dotnet_interactive": {
          "language": "fsharp"
        },
        "vscode": {
          "languageId": "dotnet-interactive.fsharp"
        }
      },
      "outputs": [
        {
          "data": {
            "text/html": [
              "<div><div></div><div></div><div><strong>Installed Packages</strong><ul><li><span>FSharp.Stats, 0.4.7</span></li><li><span>FSOde, 0.0.1</span></li><li><span>Plotly.NET.Interactive, 3.0.2</span></li></ul></div></div>"
            ]
          },
          "metadata": {},
          "output_type": "display_data"
        },
        {
          "data": {
            "text/markdown": [
              "Loading extensions from `Plotly.NET.Interactive.dll`"
            ]
          },
          "metadata": {},
          "output_type": "display_data"
        }
      ],
      "source": [
        "// Import the required modules\n",
        "#r \"nuget: Plotly.NET.Interactive, 3.0.2\"\n",
        "#r \"nuget: FSharp.Stats\"\n",
        "#r \"nuget: FSOde\"\n",
        "\n",
        "// ... and open the required modules\n",
        "open FsODE\n",
        "open Plotly.NET\n",
        "open FSharp.Stats"
      ]
    },
    {
      "cell_type": "code",
      "execution_count": null,
      "metadata": {
        "dotnet_interactive": {
          "language": "fsharp"
        },
        "vscode": {
          "languageId": "dotnet-interactive.fsharp"
        }
      },
      "outputs": [],
      "source": [
        "// First set the model context that remembers the solver method and it´s optiony \n",
        "let modelContext = //OdeContext()\n",
        "    OdeSolverMethod.RK546M //RK547M()\n",
        "    |> OdeContext\n",
        "\n",
        "modelContext.SetStepSize(0.01)"
      ]
    },
    {
      "cell_type": "markdown",
      "metadata": {},
      "source": [
        "## Sampling out of master equations\n",
        "\n",
        "For some stories, we know the probability distribution. For example, if the story is that we are doing n\n",
        "independent coin flips, each with probability p of landing heads, the number h\n",
        "\n",
        "of heads is Binomially distributed. We could prove that this is the case, or look it up in a book. But sometimes, it is too difficult (or impossible) to prove what the distribution is, so we can numerically compute its properties by sampling out of the distribution. Sampling involved using a random number generator to simulate the story that generates the distribution. So, if you know the story and you have a computer handy, you can sample to be able to get a plot of your distribution, though you will not get the analytical form.\n",
        "\n",
        "Let’s demonstrate this with the Binomial distribution. We will take n=25\n",
        "and p=0.25 and compute P(h∣n,p), the probability of getting h heads in n flips, each with probability p of landing heads. We will draw 10, 30, 100, and 300 samples and plot them versus the expected Binomial distribution."
      ]
    },
    {
      "cell_type": "code",
      "execution_count": null,
      "metadata": {
        "dotnet_interactive": {
          "language": "fsharp"
        },
        "vscode": {
          "languageId": "dotnet-interactive.fsharp"
        }
      },
      "outputs": [
        {
          "data": {
            "text/html": [
              "\n",
              "<div>\n",
              "    <div id=\"f8197f51-bc71-4b13-8c36-8c8a78b725b4\"><!-- Plotly chart will be drawn inside this DIV --></div>\r\n",
              "<script type=\"text/javascript\">\r\n",
              "\r\n",
              "            var renderPlotly_f8197f51bc714b138c368c8a78b725b4 = function() {\r\n",
              "            var fsharpPlotlyRequire = requirejs.config({context:'fsharp-plotly',paths:{plotly:'https://cdn.plot.ly/plotly-2.6.3.min'}}) || require;\r\n",
              "            fsharpPlotlyRequire(['plotly'], function(Plotly) {\r\n",
              "\r\n",
              "            var data = [{\"type\":\"scatter\",\"mode\":\"markers\",\"x\":[8,3,4,5,7,6,10,9,12],\"y\":[0.13333333333333333,0.1,0.13333333333333333,0.2,0.06666666666666667,0.2,0.03333333333333333,0.1,0.03333333333333333],\"marker\":{\"color\":\"Orange\"},\"line\":{},\"xaxis\":\"x\",\"yaxis\":\"y\"},{\"type\":\"scatter\",\"mode\":\"markers\",\"x\":[0,1,2,3,4,5,6,7,8,9,10,11,12,13,14,15,16,17,18,19,20,21,22,23,24,25],\"y\":[0.0007525434581650009,0.006271195484718762,0.025084781938915692,0.06410555384399787,0.11752684871417801,0.16453758820009692,0.182819542444813,0.1654081574502899,0.1240561180878663,0.07810940768503243,0.04165835076538414,0.018935613984275963,0.007363849882775983,0.0024546166275920002,0.0007013190364546628,0.0001714335422443791,3.571532130088355E-05,6.302703758973037E-06,9.337338902171049E-07,1.1466907423703524E-07,1.1466907423687175E-08,9.100720177515782E-10,5.51558798636467E-11,2.398081733198222E-12,6.661338147762031E-14,8.881784197001244E-16],\"marker\":{\"color\":\"Blue\",\"opacity\":0.5},\"line\":{},\"xaxis\":\"x\",\"yaxis\":\"y\"},{\"type\":\"scatter\",\"mode\":\"markers\",\"x\":[5,2,3,6,9,8,7,11,4,12,10],\"y\":[0.18,0.05,0.14,0.18,0.1,0.09,0.1,0.02,0.11,0.01,0.02],\"marker\":{\"color\":\"Orange\"},\"line\":{},\"xaxis\":\"x2\",\"yaxis\":\"y2\"},{\"type\":\"scatter\",\"mode\":\"markers\",\"x\":[0,1,2,3,4,5,6,7,8,9,10,11,12,13,14,15,16,17,18,19,20,21,22,23,24,25],\"y\":[0.0007525434581650009,0.006271195484718762,0.025084781938915692,0.06410555384399787,0.11752684871417801,0.16453758820009692,0.182819542444813,0.1654081574502899,0.1240561180878663,0.07810940768503243,0.04165835076538414,0.018935613984275963,0.007363849882775983,0.0024546166275920002,0.0007013190364546628,0.0001714335422443791,3.571532130088355E-05,6.302703758973037E-06,9.337338902171049E-07,1.1466907423703524E-07,1.1466907423687175E-08,9.100720177515782E-10,5.51558798636467E-11,2.398081733198222E-12,6.661338147762031E-14,8.881784197001244E-16],\"marker\":{\"color\":\"Blue\",\"opacity\":0.5},\"line\":{},\"xaxis\":\"x2\",\"yaxis\":\"y2\"},{\"type\":\"scatter\",\"mode\":\"markers\",\"x\":[8,4,12,14,1,3,9,5,7,6,10,11,2,13,0],\"y\":[0.125,0.122,0.009,0.001,0.004,0.072,0.087,0.169,0.149,0.181,0.039,0.016,0.02,0.004,0.002],\"marker\":{\"color\":\"Orange\"},\"line\":{},\"xaxis\":\"x3\",\"yaxis\":\"y3\"},{\"type\":\"scatter\",\"mode\":\"markers\",\"x\":[0,1,2,3,4,5,6,7,8,9,10,11,12,13,14,15,16,17,18,19,20,21,22,23,24,25],\"y\":[0.0007525434581650009,0.006271195484718762,0.025084781938915692,0.06410555384399787,0.11752684871417801,0.16453758820009692,0.182819542444813,0.1654081574502899,0.1240561180878663,0.07810940768503243,0.04165835076538414,0.018935613984275963,0.007363849882775983,0.0024546166275920002,0.0007013190364546628,0.0001714335422443791,3.571532130088355E-05,6.302703758973037E-06,9.337338902171049E-07,1.1466907423703524E-07,1.1466907423687175E-08,9.100720177515782E-10,5.51558798636467E-11,2.398081733198222E-12,6.661338147762031E-14,8.881784197001244E-16],\"marker\":{\"color\":\"Blue\",\"opacity\":0.5},\"line\":{},\"xaxis\":\"x3\",\"yaxis\":\"y3\"},{\"type\":\"scatter\",\"mode\":\"markers\",\"x\":[7,6,5,4,2,3,8,10,9,0,11,12,1,14,13,15],\"y\":[0.1616,0.1778,0.1687,0.1227,0.024,0.0673,0.1263,0.0391,0.076,0.0009,0.0184,0.0075,0.0068,0.0007,0.0021,0.0001],\"marker\":{\"color\":\"Orange\"},\"line\":{},\"xaxis\":\"x4\",\"yaxis\":\"y4\"},{\"type\":\"scatter\",\"mode\":\"markers\",\"x\":[0,1,2,3,4,5,6,7,8,9,10,11,12,13,14,15,16,17,18,19,20,21,22,23,24,25],\"y\":[0.0007525434581650009,0.006271195484718762,0.025084781938915692,0.06410555384399787,0.11752684871417801,0.16453758820009692,0.182819542444813,0.1654081574502899,0.1240561180878663,0.07810940768503243,0.04165835076538414,0.018935613984275963,0.007363849882775983,0.0024546166275920002,0.0007013190364546628,0.0001714335422443791,3.571532130088355E-05,6.302703758973037E-06,9.337338902171049E-07,1.1466907423703524E-07,1.1466907423687175E-08,9.100720177515782E-10,5.51558798636467E-11,2.398081733198222E-12,6.661338147762031E-14,8.881784197001244E-16],\"marker\":{\"color\":\"Blue\",\"opacity\":0.5},\"line\":{},\"xaxis\":\"x4\",\"yaxis\":\"y4\"}];\r\n",
              "            var layout = {\"width\":800,\"height\":800,\"template\":{\"layout\":{\"title\":{\"x\":0.05},\"font\":{\"color\":\"rgba(42, 63, 95, 1.0)\"},\"paper_bgcolor\":\"rgba(255, 255, 255, 1.0)\",\"plot_bgcolor\":\"rgba(229, 236, 246, 1.0)\",\"autotypenumbers\":\"strict\",\"colorscale\":{\"diverging\":[[0.0,\"#8e0152\"],[0.1,\"#c51b7d\"],[0.2,\"#de77ae\"],[0.3,\"#f1b6da\"],[0.4,\"#fde0ef\"],[0.5,\"#f7f7f7\"],[0.6,\"#e6f5d0\"],[0.7,\"#b8e186\"],[0.8,\"#7fbc41\"],[0.9,\"#4d9221\"],[1.0,\"#276419\"]],\"sequential\":[[0.0,\"#0d0887\"],[0.1111111111111111,\"#46039f\"],[0.2222222222222222,\"#7201a8\"],[0.3333333333333333,\"#9c179e\"],[0.4444444444444444,\"#bd3786\"],[0.5555555555555556,\"#d8576b\"],[0.6666666666666666,\"#ed7953\"],[0.7777777777777778,\"#fb9f3a\"],[0.8888888888888888,\"#fdca26\"],[1.0,\"#f0f921\"]],\"sequentialminus\":[[0.0,\"#0d0887\"],[0.1111111111111111,\"#46039f\"],[0.2222222222222222,\"#7201a8\"],[0.3333333333333333,\"#9c179e\"],[0.4444444444444444,\"#bd3786\"],[0.5555555555555556,\"#d8576b\"],[0.6666666666666666,\"#ed7953\"],[0.7777777777777778,\"#fb9f3a\"],[0.8888888888888888,\"#fdca26\"],[1.0,\"#f0f921\"]]},\"hovermode\":\"closest\",\"hoverlabel\":{\"align\":\"left\"},\"coloraxis\":{\"colorbar\":{\"outlinewidth\":0.0,\"ticks\":\"\"}},\"geo\":{\"showland\":true,\"landcolor\":\"rgba(229, 236, 246, 1.0)\",\"showlakes\":true,\"lakecolor\":\"rgba(255, 255, 255, 1.0)\",\"subunitcolor\":\"rgba(255, 255, 255, 1.0)\",\"bgcolor\":\"rgba(255, 255, 255, 1.0)\"},\"mapbox\":{\"style\":\"light\"},\"polar\":{\"bgcolor\":\"rgba(229, 236, 246, 1.0)\",\"radialaxis\":{\"linecolor\":\"rgba(255, 255, 255, 1.0)\",\"gridcolor\":\"rgba(255, 255, 255, 1.0)\",\"ticks\":\"\"},\"angularaxis\":{\"linecolor\":\"rgba(255, 255, 255, 1.0)\",\"gridcolor\":\"rgba(255, 255, 255, 1.0)\",\"ticks\":\"\"}},\"scene\":{\"xaxis\":{\"ticks\":\"\",\"linecolor\":\"rgba(255, 255, 255, 1.0)\",\"gridcolor\":\"rgba(255, 255, 255, 1.0)\",\"gridwidth\":2.0,\"zerolinecolor\":\"rgba(255, 255, 255, 1.0)\",\"backgroundcolor\":\"rgba(229, 236, 246, 1.0)\",\"showbackground\":true},\"yaxis\":{\"ticks\":\"\",\"linecolor\":\"rgba(255, 255, 255, 1.0)\",\"gridcolor\":\"rgba(255, 255, 255, 1.0)\",\"gridwidth\":2.0,\"zerolinecolor\":\"rgba(255, 255, 255, 1.0)\",\"backgroundcolor\":\"rgba(229, 236, 246, 1.0)\",\"showbackground\":true},\"zaxis\":{\"ticks\":\"\",\"linecolor\":\"rgba(255, 255, 255, 1.0)\",\"gridcolor\":\"rgba(255, 255, 255, 1.0)\",\"gridwidth\":2.0,\"zerolinecolor\":\"rgba(255, 255, 255, 1.0)\",\"backgroundcolor\":\"rgba(229, 236, 246, 1.0)\",\"showbackground\":true}},\"ternary\":{\"aaxis\":{\"ticks\":\"\",\"linecolor\":\"rgba(255, 255, 255, 1.0)\",\"gridcolor\":\"rgba(255, 255, 255, 1.0)\"},\"baxis\":{\"ticks\":\"\",\"linecolor\":\"rgba(255, 255, 255, 1.0)\",\"gridcolor\":\"rgba(255, 255, 255, 1.0)\"},\"caxis\":{\"ticks\":\"\",\"linecolor\":\"rgba(255, 255, 255, 1.0)\",\"gridcolor\":\"rgba(255, 255, 255, 1.0)\"},\"bgcolor\":\"rgba(229, 236, 246, 1.0)\"},\"xaxis\":{\"title\":{\"standoff\":15},\"ticks\":\"\",\"automargin\":true,\"linecolor\":\"rgba(255, 255, 255, 1.0)\",\"gridcolor\":\"rgba(255, 255, 255, 1.0)\",\"zerolinecolor\":\"rgba(255, 255, 255, 1.0)\",\"zerolinewidth\":2.0},\"yaxis\":{\"title\":{\"standoff\":15},\"ticks\":\"\",\"automargin\":true,\"linecolor\":\"rgba(255, 255, 255, 1.0)\",\"gridcolor\":\"rgba(255, 255, 255, 1.0)\",\"zerolinecolor\":\"rgba(255, 255, 255, 1.0)\",\"zerolinewidth\":2.0},\"annotationdefaults\":{\"arrowcolor\":\"#2a3f5f\",\"arrowhead\":0,\"arrowwidth\":1},\"shapedefaults\":{\"line\":{\"color\":\"rgba(42, 63, 95, 1.0)\"}},\"colorway\":[\"rgba(99, 110, 250, 1.0)\",\"rgba(239, 85, 59, 1.0)\",\"rgba(0, 204, 150, 1.0)\",\"rgba(171, 99, 250, 1.0)\",\"rgba(255, 161, 90, 1.0)\",\"rgba(25, 211, 243, 1.0)\",\"rgba(255, 102, 146, 1.0)\",\"rgba(182, 232, 128, 1.0)\",\"rgba(255, 151, 255, 1.0)\",\"rgba(254, 203, 82, 1.0)\"]},\"data\":{\"bar\":[{\"marker\":{\"line\":{\"color\":\"rgba(229, 236, 246, 1.0)\",\"width\":0.5},\"pattern\":{\"fillmode\":\"overlay\",\"size\":10,\"solidity\":0.2}},\"error_x\":{\"color\":\"rgba(42, 63, 95, 1.0)\"},\"error_y\":{\"color\":\"rgba(42, 63, 95, 1.0)\"}}],\"barpolar\":[{\"marker\":{\"line\":{\"color\":\"rgba(229, 236, 246, 1.0)\",\"width\":0.5},\"pattern\":{\"fillmode\":\"overlay\",\"size\":10,\"solidity\":0.2}}}],\"carpet\":[{\"aaxis\":{\"linecolor\":\"rgba(255, 255, 255, 1.0)\",\"gridcolor\":\"rgba(255, 255, 255, 1.0)\",\"endlinecolor\":\"rgba(42, 63, 95, 1.0)\",\"minorgridcolor\":\"rgba(255, 255, 255, 1.0)\",\"startlinecolor\":\"rgba(42, 63, 95, 1.0)\"},\"baxis\":{\"linecolor\":\"rgba(255, 255, 255, 1.0)\",\"gridcolor\":\"rgba(255, 255, 255, 1.0)\",\"endlinecolor\":\"rgba(42, 63, 95, 1.0)\",\"minorgridcolor\":\"rgba(255, 255, 255, 1.0)\",\"startlinecolor\":\"rgba(42, 63, 95, 1.0)\"}}],\"choropleth\":[{\"colorbar\":{\"outlinewidth\":0.0,\"ticks\":\"\"},\"colorscale\":[[0.0,\"#0d0887\"],[0.1111111111111111,\"#46039f\"],[0.2222222222222222,\"#7201a8\"],[0.3333333333333333,\"#9c179e\"],[0.4444444444444444,\"#bd3786\"],[0.5555555555555556,\"#d8576b\"],[0.6666666666666666,\"#ed7953\"],[0.7777777777777778,\"#fb9f3a\"],[0.8888888888888888,\"#fdca26\"],[1.0,\"#f0f921\"]]}],\"contour\":[{\"colorbar\":{\"outlinewidth\":0.0,\"ticks\":\"\"},\"colorscale\":[[0.0,\"#0d0887\"],[0.1111111111111111,\"#46039f\"],[0.2222222222222222,\"#7201a8\"],[0.3333333333333333,\"#9c179e\"],[0.4444444444444444,\"#bd3786\"],[0.5555555555555556,\"#d8576b\"],[0.6666666666666666,\"#ed7953\"],[0.7777777777777778,\"#fb9f3a\"],[0.8888888888888888,\"#fdca26\"],[1.0,\"#f0f921\"]]}],\"contourcarpet\":[{\"colorbar\":{\"outlinewidth\":0.0,\"ticks\":\"\"}}],\"heatmap\":[{\"colorbar\":{\"outlinewidth\":0.0,\"ticks\":\"\"},\"colorscale\":[[0.0,\"#0d0887\"],[0.1111111111111111,\"#46039f\"],[0.2222222222222222,\"#7201a8\"],[0.3333333333333333,\"#9c179e\"],[0.4444444444444444,\"#bd3786\"],[0.5555555555555556,\"#d8576b\"],[0.6666666666666666,\"#ed7953\"],[0.7777777777777778,\"#fb9f3a\"],[0.8888888888888888,\"#fdca26\"],[1.0,\"#f0f921\"]]}],\"heatmapgl\":[{\"colorbar\":{\"outlinewidth\":0.0,\"ticks\":\"\"},\"colorscale\":[[0.0,\"#0d0887\"],[0.1111111111111111,\"#46039f\"],[0.2222222222222222,\"#7201a8\"],[0.3333333333333333,\"#9c179e\"],[0.4444444444444444,\"#bd3786\"],[0.5555555555555556,\"#d8576b\"],[0.6666666666666666,\"#ed7953\"],[0.7777777777777778,\"#fb9f3a\"],[0.8888888888888888,\"#fdca26\"],[1.0,\"#f0f921\"]]}],\"histogram\":[{\"marker\":{\"pattern\":{\"fillmode\":\"overlay\",\"size\":10,\"solidity\":0.2}}}],\"histogram2d\":[{\"colorbar\":{\"outlinewidth\":0.0,\"ticks\":\"\"},\"colorscale\":[[0.0,\"#0d0887\"],[0.1111111111111111,\"#46039f\"],[0.2222222222222222,\"#7201a8\"],[0.3333333333333333,\"#9c179e\"],[0.4444444444444444,\"#bd3786\"],[0.5555555555555556,\"#d8576b\"],[0.6666666666666666,\"#ed7953\"],[0.7777777777777778,\"#fb9f3a\"],[0.8888888888888888,\"#fdca26\"],[1.0,\"#f0f921\"]]}],\"histogram2dcontour\":[{\"colorbar\":{\"outlinewidth\":0.0,\"ticks\":\"\"},\"colorscale\":[[0.0,\"#0d0887\"],[0.1111111111111111,\"#46039f\"],[0.2222222222222222,\"#7201a8\"],[0.3333333333333333,\"#9c179e\"],[0.4444444444444444,\"#bd3786\"],[0.5555555555555556,\"#d8576b\"],[0.6666666666666666,\"#ed7953\"],[0.7777777777777778,\"#fb9f3a\"],[0.8888888888888888,\"#fdca26\"],[1.0,\"#f0f921\"]]}],\"mesh3d\":[{\"colorbar\":{\"outlinewidth\":0.0,\"ticks\":\"\"}}],\"parcoords\":[{\"line\":{\"colorbar\":{\"outlinewidth\":0.0,\"ticks\":\"\"}}}],\"pie\":[{\"automargin\":true}],\"scatter\":[{\"marker\":{\"colorbar\":{\"outlinewidth\":0.0,\"ticks\":\"\"}}}],\"scatter3d\":[{\"marker\":{\"colorbar\":{\"outlinewidth\":0.0,\"ticks\":\"\"}},\"line\":{\"colorbar\":{\"outlinewidth\":0.0,\"ticks\":\"\"}}}],\"scattercarpet\":[{\"marker\":{\"colorbar\":{\"outlinewidth\":0.0,\"ticks\":\"\"}}}],\"scattergeo\":[{\"marker\":{\"colorbar\":{\"outlinewidth\":0.0,\"ticks\":\"\"}}}],\"scattergl\":[{\"marker\":{\"colorbar\":{\"outlinewidth\":0.0,\"ticks\":\"\"}}}],\"scattermapbox\":[{\"marker\":{\"colorbar\":{\"outlinewidth\":0.0,\"ticks\":\"\"}}}],\"scatterpolar\":[{\"marker\":{\"colorbar\":{\"outlinewidth\":0.0,\"ticks\":\"\"}}}],\"scatterpolargl\":[{\"marker\":{\"colorbar\":{\"outlinewidth\":0.0,\"ticks\":\"\"}}}],\"scatterternary\":[{\"marker\":{\"colorbar\":{\"outlinewidth\":0.0,\"ticks\":\"\"}}}],\"surface\":[{\"colorbar\":{\"outlinewidth\":0.0,\"ticks\":\"\"},\"colorscale\":[[0.0,\"#0d0887\"],[0.1111111111111111,\"#46039f\"],[0.2222222222222222,\"#7201a8\"],[0.3333333333333333,\"#9c179e\"],[0.4444444444444444,\"#bd3786\"],[0.5555555555555556,\"#d8576b\"],[0.6666666666666666,\"#ed7953\"],[0.7777777777777778,\"#fb9f3a\"],[0.8888888888888888,\"#fdca26\"],[1.0,\"#f0f921\"]]}],\"table\":[{\"cells\":{\"fill\":{\"color\":\"rgba(235, 240, 248, 1.0)\"},\"line\":{\"color\":\"rgba(255, 255, 255, 1.0)\"}},\"header\":{\"fill\":{\"color\":\"rgba(200, 212, 227, 1.0)\"},\"line\":{\"color\":\"rgba(255, 255, 255, 1.0)\"}}}]}},\"showlegend\":false,\"xaxis\":{\"title\":{\"text\":\"h<br>30 samples\"}},\"yaxis\":{\"title\":{\"text\":\"P(h)\"}},\"xaxis2\":{\"title\":{\"text\":\"h<br>100 samples\"}},\"yaxis2\":{\"title\":{\"text\":\"P(h)\"}},\"xaxis3\":{\"title\":{\"text\":\"h<br>1000 samples\"}},\"yaxis3\":{\"title\":{\"text\":\"P(h)\"}},\"xaxis4\":{\"title\":{\"text\":\"h<br>10000 samples\"}},\"yaxis4\":{\"title\":{\"text\":\"P(h)\"}},\"grid\":{\"rows\":2,\"columns\":2,\"pattern\":\"independent\"}};\r\n",
              "            var config = {\"responsive\":true};\r\n",
              "            Plotly.newPlot('f8197f51-bc71-4b13-8c36-8c8a78b725b4', data, layout, config);\r\n",
              "});\r\n",
              "            };\r\n",
              "            if ((typeof(requirejs) !==  typeof(Function)) || (typeof(requirejs.config) !== typeof(Function))) {\r\n",
              "                var script = document.createElement(\"script\");\r\n",
              "                script.setAttribute(\"src\", \"https://cdnjs.cloudflare.com/ajax/libs/require.js/2.3.6/require.min.js\");\r\n",
              "                script.onload = function(){\r\n",
              "                    renderPlotly_f8197f51bc714b138c368c8a78b725b4();\r\n",
              "                };\r\n",
              "                document.getElementsByTagName(\"head\")[0].appendChild(script);\r\n",
              "            }\r\n",
              "            else {\r\n",
              "                renderPlotly_f8197f51bc714b138c368c8a78b725b4();\r\n",
              "            }\r\n",
              "</script>\r\n",
              "\n",
              "    \n",
              "</div>    \n"
            ]
          },
          "metadata": {},
          "output_type": "display_data"
        }
      ],
      "source": [
        "// Simulate n_samples sets of n coin flips with prob. p of heads.\n",
        "let simulateCoinflips n p size =\n",
        "    let rnd = new System.Random()\n",
        "    [|0 .. size - 1|]\n",
        "    |> Array.map (fun _ ->\n",
        "        Array.init n (fun x -> rnd.NextDouble())\n",
        "        |> Array.countBy (fun x -> x < p)\n",
        "        |> Array.tryFind (fun (isHead,count) -> isHead)\n",
        "        |> fun res ->\n",
        "            match res with\n",
        "            | Some (isHead,count) -> count\n",
        "            | None -> 0\n",
        "    )\n",
        "\n",
        "let size = [|30;100;1000;10000|]\n",
        "let n = 25\n",
        "let p = 0.25\n",
        "\n",
        "let binomial = Distributions.Discrete.binomial 0.25 25\n",
        "\n",
        "let binomialPoints =\n",
        "    [|0 .. 25|]\n",
        "    |> Array.map (fun x -> x,binomial.PDF x)\n",
        "\n",
        "size\n",
        "|> Array.map (fun s ->\n",
        "    [\n",
        "        simulateCoinflips 25 0.25 s\n",
        "        |> Array.countBy id\n",
        "        |> Array.map (fun (heads,count) -> heads, float count/ float s)\n",
        "        |> Chart.Point\n",
        "        |> Chart.withMarkerStyle(Color = Color.fromString \"Orange\")\n",
        "        binomialPoints\n",
        "        |> Chart.Point\n",
        "        |> Chart.withMarkerStyle(Color = Color.fromString \"Blue\", Opacity = 0.5)\n",
        "    ]\n",
        "    |> Chart.combine\n",
        "    |> Chart.withLegend false\n",
        "    |> Chart.withXAxisStyle(TitleText = $\"h<br>{s} samples\")\n",
        "    |> Chart.withYAxisStyle(TitleText = \"P(h)\")\n",
        ")\n",
        "|> Chart.Grid(2,2)\n",
        "|> Chart.withSize (800,800)"
      ]
    },
    {
      "cell_type": "markdown",
      "metadata": {},
      "source": [
        "As we can see, if we sample out of the probability distribution, we can approximately calculate the actual distribution. If we sample enough, the approximation is very good.\n",
        "\n",
        "Sampling is such a powerful strategy that highly efficient algorithms with convenient APIs have been developed to sample out of named probability distributions. For example, we could have used np.random.binom() as a drop-in (and much more efficient) replacement for the simulate_coinflips() function above.\n",
        "\n",
        "We will use the same strategy for solving master equations. We will find a way to sample out of the distribution that is governed by the master equation. This technique was pioneered by Dan Gillespie in the last 70s. For that reason, these sampling techniques are often called Gillespie simulations. The algorithm is sometimes referred to as a stochastic simulation algorithm, or SSA.\n",
        "\n",
        "Here, we will explore how this algorithm works by looking at simple production of a protein.\n",
        "## The dynamical equations\n",
        "\n",
        "For simple protein production, we have the following reactions.\n",
        "\n",
        "DNA→mRNA→protein\n",
        "\n",
        "### Macroscale equations\n",
        "\n",
        "As we’ve seen before, the deterministic dynamics, which describe mean concentrations over a large population of cells, are described by the ODEs\n",
        "\n",
        "dmdtdpdt=βm−γmm,=βpm−γpp.\n",
        "\n",
        "The same equations should hold if m\n",
        "and p represent the mean numbers of cells; we would just have to appropriately rescale the constants. Assuming the m and p are now numbers (so we are not free to pick their units), we can nondimensionalize using γm\n",
        "\n",
        "to nondimensionalize time. This leads to redefinition of parameters and variables\n",
        "\n",
        "βm/γm→βm,βp/γm→βp,γmt→t.\n",
        "\n",
        "The dimensionless equations are\n",
        "\n",
        "dmdtdpdt=βm−m,=βpm−γp,\n",
        "\n",
        "with γ=γp/γm\n",
        "\n",
        ".\n",
        "### The Master equation\n",
        "\n",
        "We can write a master equation for these dynamics. In this case, each state is defined by an mRNA copy number m\n",
        "and a protein copy number p. So, we will write a master equation for P(m,p,t)\n",
        "\n",
        ".\n",
        "\n",
        "dP(m,p,t)dt=βmP(m−1,p,t)+(m+1)P(m+1,p,t)−βmP(m,p,t)−mP(m,p,t)+βpmP(m,p−1,t)+γ(p+1)P(m,p+1,t)−βpmP(m,p,t)−γpP(m,p,t).\n",
        "\n",
        "We implicitly define P(m,p,t)=0\n",
        "if m<0 or p<0\n",
        "\n",
        ". This is the master equation we will sample from using the stochastic simulation algorithm (SSA) or Gillespie algorithm.\n",
        "## The Gillespie algorithm\n",
        "\n",
        "The transition probabilities are also called propensities in the context of stochastic simulation. The propensity for a given transition, say indexed i\n",
        ", is denoted as ai. The equivalence to notation we introduced for master equations is that if transition i results in the change of state from n′ to n, then ai=W(n∣n′)\n",
        "\n",
        ".\n",
        "\n",
        "To cast this problem for a Gillespie simulation, we can write each change of state (moving either the copy number of mRNA or protein up or down by 1 in this case) and their respective propensities.\n",
        "\n",
        "reaction, rim→m+1,m→m−1,p→p+1,p→p−1,propensity, aiβmmβpmγp.\n",
        "\n",
        "We will not carefully prove that the Gillespie algorithm samples from the probability distribution governed by the master equation, but will state the principles behind it. The basic idea is that events (such as those outlined above) are rare, discrete, separate events. I.e., each event is an arrival of a Poisson process. The Gillespie algorithm starts with some state, (m0,p0)\n",
        ". Then a state change, any state change, will happen in some time Δt that has a certain probability distribution (which we will show is Exponential momentarily). The probability that the state change that happens is reaction j is proportional to aj. That is to say, state changes with high propensities are more likely to occur. Thus, choosing which of the n state changes happens in Δt is a matter of drawing an integer j in [1,n] where the probability of drawing j\n",
        "\n",
        "is\n",
        "\n",
        "aj∑iai.\n",
        "\n",
        "Now, how do we determine how long the state change took? The probability density function describing that a given state change i\n",
        "takes place in time t\n",
        "\n",
        "is\n",
        "\n",
        "P(t∣ai)=aie−ait,\n",
        "\n",
        "since the time it takes for arrival of a Poisson process is Exponentially distributed. The probability that it has not arrived in time Δt\n",
        "is the probability that the arrival time is greater than Δt\n",
        "\n",
        ", given by the complementary cumulative distribution function for the Exponential distribution.\n",
        "\n",
        "P(t>Δt∣ai)=∫∞ΔtdtP(t∣ai)=e−aiΔt.\n",
        "\n",
        "Now, say we have n\n",
        "processes that arrive in time t1,t2,…. The probability that none of them arrive before Δt\n",
        "\n",
        "is\n",
        "\n",
        "P(t1>Δt,t2>Δt,…)=P(t1>Δt)P(t2>Δt)⋯=∏ie−aiΔt=exp[−Δt∑iai].\n",
        "\n",
        "This is the same as the probability of a single Poisson process with a=∑iai\n",
        "not arriving before Δt. So, the probability that it does arrive in Δt is Exponentially distributed with mean (∑iai)−1\n",
        "\n",
        ".\n",
        "\n",
        "So, we know how to choose a state change and we also know how long it takes. The Gillespie algorithm then proceeds as follows.\n",
        "\n",
        "    Choose an initial condition, e.g., m=p=0\n",
        "\n",
        ".\n",
        "\n",
        "Calculate the propensity for each of the enumerated state changes. The propensities may be functions of m\n",
        "and p, so they need to be recalculated for every m and p\n",
        "\n",
        "we encounter.\n",
        "\n",
        "Choose how much time the reaction will take by drawing out of an exponential distribution with a mean equal to (∑iai)−1\n",
        "\n",
        ". This means that a change arises from a Poisson process.\n",
        "\n",
        "Choose what state change will happen by drawing a sample out of the discrete distribution where Pi=ai/(∑iai)\n",
        "\n",
        ". In other words, the probability that a state change will be chosen is proportional to its propensity.\n",
        "\n",
        "Increment time by the time step you chose in step 3.\n",
        "\n",
        "Update the states according to the state change you choose in step 4.\n",
        "\n",
        "If t\n",
        "\n",
        "    is less than your pre-determined stopping time, go to step 2. Else stop.\n",
        "\n",
        "Gillespie proved that this algorithm samples the probability distribution described by the master equation in his seminal papers in 1976 and 1977. (We recommend reading the latter.) You can also read a concise discussion of how the algorithm samples the master equation in section 4.2 of Del Vecchio and Murray.\n",
        "## Coding up the Gillespie simulation\n",
        "\n",
        "To code up the Gillespie simulation, we first make an an array that gives the changes in the counts of m\n",
        "and p for each of the four reactions. This is a way of encoding the updates in the particle counts that we get from choosing the respective state changes."
      ]
    },
    {
      "cell_type": "code",
      "execution_count": null,
      "metadata": {
        "dotnet_interactive": {
          "language": "fsharp"
        },
        "vscode": {
          "languageId": "dotnet-interactive.fsharp"
        }
      },
      "outputs": [],
      "source": [
        "// Column 0 is change in m, column 1 is change in p\n",
        "let simpleUpdate =\n",
        "    [|\n",
        "        [|1, 0|];  // Make mRNA transcript\n",
        "        [|-1, 0|]; // Degrade mRNA\n",
        "        [|0, 1|];  // Make protein\n",
        "        [|0, -1|]  // Degrade protein\n",
        "    |]"
      ]
    },
    {
      "cell_type": "markdown",
      "metadata": {},
      "source": [
        "Next, we make a function that updates the array of propensities for each of the four reactions. We update the propensities (which are passed into the function as an argument) instead of instantiating them and returning them to save on memory allocation while running the code. It has the added benefit that it forces you to keep track of the indices corresponding to the update matrix. This helps prevent bugs. It will naturally be a function of the current population of molecules. It may in general also be a function of time, so we explicitly allow for time dependence (even though we will not use it in this simple example) as well."
      ]
    },
    {
      "cell_type": "code",
      "execution_count": null,
      "metadata": {
        "dotnet_interactive": {
          "language": "fsharp"
        },
        "vscode": {
          "languageId": "dotnet-interactive.fsharp"
        }
      },
      "outputs": [],
      "source": [
        "//Updates an array of propensities given a set of parameters and an array of populations.\n",
        "let simplePropensities (propensities: int []) population t beta_m beta_p gamma =\n",
        "    let m,p = population\n",
        "    propensities.[0] <- beta_m     // Make mRNA transcript\n",
        "    propensities.[1] <- m          // Degrade mRNA\n",
        "    propensities.[2] <- beta_p * m // Make protein\n",
        "    propensities.[3] <- gamma * p  // Degrade protein"
      ]
    },
    {
      "cell_type": "markdown",
      "metadata": {},
      "source": [
        "### Making a draw\n",
        "\n",
        "Finally, we write a general function that draws a choice of reaction and the time interval for that reaction. This is the heart of the Gillespie algorithm, so we will take some time to discuss speed. First, to get the time interval, we sample a random number from an exponential distribution with mean (∑iai)−1\n",
        "\n",
        ". This is easily done using the np.random.exponential() function.\n",
        "\n",
        "Next, we have to select which reaction will take place. This amounts to drawing a sample over the discrete distribution where Pi=ai(∑iai)−1\n",
        ", or the probability of each reaction is proportional to its propensity. This can be done using scipy.stats.rv_discrete, which allows specification of an arbitrary discrete distribution. We will write a function to do this."
      ]
    },
    {
      "cell_type": "code",
      "execution_count": null,
      "metadata": {
        "dotnet_interactive": {
          "language": "fsharp"
        },
        "vscode": {
          "languageId": "dotnet-interactive.fsharp"
        }
      },
      "outputs": [],
      "source": [
        "let sampleDiscrete (probs: 'a []) =\n",
        "    let q =  (new System.Random()).NextDouble()\n",
        "    let mutable i = 0\n",
        "    let mutable pSum = 0.\n",
        "    while pSum < q do\n",
        "        pSum <- pSum + probs.[i]\n",
        "        i <- i + 1\n",
        "    i - 1"
      ]
    },
    {
      "cell_type": "markdown",
      "metadata": {},
      "source": [
        "Now we can write a function to do our draws."
      ]
    },
    {
      "cell_type": "code",
      "execution_count": null,
      "metadata": {
        "dotnet_interactive": {
          "language": "fsharp"
        },
        "vscode": {
          "languageId": "dotnet-interactive.fsharp"
        }
      },
      "outputs": [
        {
          "data": {
            "text/html": [
              "<div class=\"dni-plaintext\">2</div>"
            ]
          },
          "metadata": {},
          "output_type": "display_data"
        }
      ],
      "source": [
        "// Make dummy probs\n",
        "let probs = [|0.1;0.3;0.4;0.05;0.15|]\n",
        "sampleDiscrete probs"
      ]
    },
    {
      "cell_type": "code",
      "execution_count": null,
      "metadata": {
        "dotnet_interactive": {
          "language": "fsharp"
        },
        "vscode": {
          "languageId": "dotnet-interactive.fsharp"
        }
      },
      "outputs": [],
      "source": [
        "let gillespieDraw propensityFunc propensities population t beta_m beta_p gamma =\n",
        "    (**\n",
        "    Draws a reaction and the time it took to do that reaction.\n",
        "\n",
        "    Parameters\n",
        "    ----------\n",
        "    propensity_func : function\n",
        "        Function with call signature propensity_func(population, t, *args)\n",
        "        used for computing propensities. This function must return\n",
        "        an array of propensities.\n",
        "    propensities : ndarray\n",
        "        Propensities for each reaction as a 1D Numpy array.\n",
        "    population : ndarray\n",
        "        Current population of particles\n",
        "    t : float\n",
        "        Value of the current time.\n",
        "    args : tuple, default ()\n",
        "        Arguments to be passed to `propensity_func`.\n",
        "\n",
        "    Returns\n",
        "    -------\n",
        "    rxn : int\n",
        "        Index of reaction that occured.\n",
        "    time : float\n",
        "        Time it took for the reaction to occur.\n",
        "    *)\n",
        "    // compute propensities\n",
        "    propensityFunc propensities population t beta_m beta_p gamma\n",
        "    // sum of propensities\n",
        "    let  propsSum = propensities |> Array.sum\n",
        "    let time = (FSharp.Stats.Distributions.Continuous.exponential propsSum).Sample()\n",
        "    // compute discrete probabilities of each reaction\n",
        "    let rxnProbs = propensities |> Array.map (fun p -> p / propsSum)\n",
        "    // draw reaction from this distribution\n",
        "    let rxn = sampleDiscrete rxnProbs\n",
        "    rxn, time"
      ]
    },
    {
      "cell_type": "markdown",
      "metadata": {},
      "source": [
        "## SSA time stepping\n",
        "\n",
        "Now we are ready to write our main SSA loop. We will only keep the counts at pre-specified time points. This saves on RAM, and we really only care about the values at given time points anyhow.\n",
        "\n",
        "Note that this function is generic. All we need to specify our system is the following.\n",
        "\n",
        "    A function to compute the propensities\n",
        "\n",
        "    How the updates for a given reaction are made\n",
        "\n",
        "    Initial population\n",
        "\n",
        "Additionally, we specify necessary parameters, an initial condition, and the time points at which we want to store our samples. So, providing the propensity function and update are analogous to providing the time derivatives when using scipy.integrate.odeint()."
      ]
    },
    {
      "cell_type": "code",
      "execution_count": null,
      "metadata": {
        "dotnet_interactive": {
          "language": "fsharp"
        },
        "vscode": {
          "languageId": "dotnet-interactive.fsharp"
        }
      },
      "outputs": [
        {
          "name": "stderr",
          "output_type": "stream",
          "text": [
            "Stopped due to error\n"
          ]
        },
        {
          "ename": "Error",
          "evalue": "input.fsx (46,64)-(46,78) typecheck warning This construct causes code to be less generic than indicated by the type annotations. The type variable 'a has been constrained to be type 'int[]'.\ninput.fsx (52,27)-(52,45) typecheck error Type mismatch. Expecting a\n    'int'    \nbut given a\n    'int[]'    \nThe types 'int' and 'int[]' cannot be unified.",
          "output_type": "error",
          "traceback": [
            "input.fsx (46,64)-(46,78) typecheck warning This construct causes code to be less generic than indicated by the type annotations. The type variable 'a has been constrained to be type 'int[]'.\n",
            "input.fsx (52,27)-(52,45) typecheck error Type mismatch. Expecting a\n",
            "    'int'    \n",
            "but given a\n",
            "    'int[]'    \n",
            "The types 'int' and 'int[]' cannot be unified."
          ]
        }
      ],
      "source": [
        "let gillespieSSA propensityFunc (update: 'a[]) population0 (timePoints: float[]) beta_m beta_p gamma =\n",
        "    (**\n",
        "    Uses the Gillespie stochastic simulation algorithm to sample\n",
        "    from probability distribution of particle counts over time.\n",
        "\n",
        "    Parameters\n",
        "    ----------\n",
        "    propensity_func : function\n",
        "        Function of the form f(params, t, population) that takes the current\n",
        "        population of particle counts and return an array of propensities\n",
        "        for each reaction.\n",
        "    update : ndarray, shape (num_reactions, num_chemical_species)\n",
        "        Entry i, j gives the change in particle counts of species j\n",
        "        for chemical reaction i.\n",
        "    population_0 : array_like, shape (num_chemical_species)\n",
        "        Array of initial populations of all chemical species.\n",
        "    time_points : array_like, shape (num_time_points,)\n",
        "        Array of points in time for which to sample the probability\n",
        "        distribution.\n",
        "    args : tuple, default ()\n",
        "        The set of parameters to be passed to propensity_func.\n",
        "\n",
        "    Returns\n",
        "    -------\n",
        "    sample : ndarray, shape (num_time_points, num_chemical_species)\n",
        "        Entry i, j is the count of chemical species j at time\n",
        "        time_points[i].\n",
        "    *)\n",
        "    // initialize output\n",
        "    let mutable popOut = Array.zeroCreate timePoints.Length\n",
        "\n",
        "    // initialize and perform simulation\n",
        "    let mutable iTime = 1\n",
        "    let mutable i = 0\n",
        "    let mutable t = timePoints.[0]\n",
        "    let mutable population = population0\n",
        "    let mutable propensities = Array.zeroCreate update.Length\n",
        "    let mutable populationPrevious = Array.zeroCreate 1\n",
        "    popOut <- population\n",
        "    while i < timePoints.Length do\n",
        "        while t < timePoints.[iTime] do\n",
        "            // draw the event and time step\n",
        "            let event, dt = gillespieDraw propensityFunc propensities population t beta_m beta_p gamma\n",
        "            // update the population\n",
        "            populationPrevious <- population\n",
        "            population <- populationPrevious |> Array.map2 (+) update.[event]\n",
        "            // increment time\n",
        "            t <- t + dt\n",
        "        // update the index\n",
        "        i <- timePoints |> Array.findIndex (fun x -> x > t)\n",
        "        // update the population\n",
        "        popOut.[iTime] <- populationPrevious\n",
        "        // increment index\n",
        "        iTime <- i\n",
        "    popOut\n",
        "\n",
        "\n",
        "\n"
      ]
    }
  ],
  "metadata": {
    "kernelspec": {
      "display_name": ".NET (C#)",
      "language": "C#",
      "name": ".net-csharp"
    },
    "language_info": {
      "file_extension": ".cs",
      "mimetype": "text/x-csharp",
      "name": "C#",
      "pygments_lexer": "csharp",
      "version": "8.0"
    }
  },
  "nbformat": 4,
  "nbformat_minor": 4
}
