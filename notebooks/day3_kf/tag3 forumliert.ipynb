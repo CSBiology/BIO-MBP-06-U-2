{
 "cells": [
  {
   "cell_type": "code",
   "execution_count": null,
   "metadata": {
    "dotnet_interactive": {
     "language": "fsharp"
    },
    "vscode": {
     "languageId": "dotnet-interactive.fsharp"
    }
   },
   "outputs": [
    {
     "data": {
      "text/html": [
       "<div><div></div><div></div><div><strong>Installed Packages</strong><ul><li><span>FSharp.Stats, 0.4.7</span></li><li><span>FsODE, 0.0.1</span></li><li><span>Plotly.NET.Interactive, 3.0.2</span></li></ul></div></div>"
      ]
     },
     "metadata": {},
     "output_type": "display_data"
    },
    {
     "data": {
      "text/markdown": [
       "Loading extensions from `Plotly.NET.Interactive.dll`"
      ]
     },
     "metadata": {},
     "output_type": "display_data"
    }
   ],
   "source": [
    "// Importieren der benötigten Module\n",
    "#r \"nuget: Plotly.NET.Interactive, 3.0.2\"\n",
    "#r \"nuget: FsODE, 0.0.1\"\n",
    "#r \"nuget: FSharp.Stats\"\n",
    "\n",
    "// ... und öffnen der benöätigten Module\n",
    "open FsODE\n",
    "open Plotly.NET\n",
    "open FSharp.Stats\n",
    "\n",
    "\n",
    "// der Rechenalgorithmus der Programmbibliothek, die wir benutzen:\n",
    "let modelContext = //OdeContext()\n",
    "    OdeSolverMethod.RK546M //RK547M()\n",
    "    |> OdeContext"
   ]
  },
  {
   "cell_type": "markdown",
   "metadata": {},
   "source": [
    "## Modellierung von einfachen biologischen Systemen\n",
    "\n",
    "### Inhalt\n",
    "\n",
    "- einfache Biologische Systeme\n",
    "- Stochhastik \n",
    "- Aktivator und Repressor\n",
    "- Autoregulation\n",
    "    - Negative Autoregulation\n",
    "    - Postive Autoregulation\n",
    "\n",
    "### Biologische Systeme \n",
    "\n",
    "Biologische Systeme können als Netzwerke aufgefasst werden, in welchen biologischen Einheiten miteinander verknüpft sind. Dabei hängen Größe, Art, und Anzahl der biologischen Einheiten vom gewählten System ab. Biologische Zellen sind dabei besonders interessanteste Systeme. Sie werden begrenzt von einer Membran die Stoff-, Energie-, und Informationsaustausch mit der Umgebung erlaubt, und enthalten Millionen von Molekülen die alle miteinander interagieren. Dabei sind die Interaktionen zumeist spezifischer Natur und formen selbst wiederum kleinere biologische Systeme, die die Funktion der ganzen Zelle sicherstellen. Beispiele für solche Systeme sind die Kontrolle des Zelltods, Signalwege die die Kommunikation mit anderen Zellen erlauben, die Nutzung von Metaboliten, und viele weitere. \n",
    "Die Grundeinheiten in solchen Systemen sind Gene, beziehungsweise die Proteine, welche von diesen kodiert werden. Diese Grundeinheiten sind miteinander verbunden in sogenannten Netzwerkmotiven. Diese Netzwerkmotive sind mannigfaltig und die Grundlegendsten werden in den nächsten zwei Notebooks besprochen. <br>\n",
    "Alle Netzwerke beschäftigen sich damit, wie sich die einzelnen Proteinkonzentration verändern und welche Auswirkungen dies hat. Daher ist der erste Schritt zum Verständnis von diesen, die Differenzialgleichung die beschreibt wie sich die Proteinkonzentration eines Proteins über die Zeit verändert.\n",
    "Der Aufbau der Differenzialgleichung ist immer identisch. Die Komplexität der einzelnen Teile der Gleichung kann jedoch variieren in Abhängigkeit der Anzahl an Faktoren, die auf die Produktion des Proteins Einfluss nehmen. Diese allgemeine Form ist \n",
    "$$ \\frac {dProteinkonzentration} {dt} = \\textrm{Produktion des Proteins} - \\textrm{Verringerung der Proteinkonzentration}$$\n",
    "\n",
    "Was ist dann die Proteinkonzentration eines Proteins X das von einem Gen x produziert wird? Wenn die Annahme getätigt wird, dass das Gen x nur das Protein X codiert und auch in sonst keiner Weise beeinflusst wird, kann die Produktion des Proteins X direkt mit einer Produktionsrate $\\beta$ beschrieben werden. Die Verringerung der Proteinkonzentration von X ist auf der einen Seite abhängig vom aktiven Abbau in der Zelle, und auf der anderen von der Verteilung des Proteins in der Zelle, während diese wächst und sich teilt. Der einfachheitshalber, können diese Faktoren allerdings fast immer als ein Prozess betrachtet werden. Die mathematische Beschreibung dieses Prozesses ist dann eine Verringerung der Proteinkonzentration proportional zu einem Verringerungsfaktor $\\gamma$. Die Differenzialgleichung ist somit\n",
    "\n",
    "$$ \\frac {dProteinkonzentration} {dt} = \\beta - \\gamma*Proteinkonzentration$$\n",
    "\n",
    "Aufgabe:\n",
    "Setze die Differenzialgleichung in das folgende Model ein (beachte das $\\beta \\textrm{ und } \\gamma$ als \"beta\" und \"gamma\", ohne \"\", eingesetzt werden müssen und nicht als Symbole).\n"
   ]
  },
  {
   "cell_type": "code",
   "execution_count": null,
   "metadata": {
    "dotnet_interactive": {
     "language": "fsharp"
    },
    "vscode": {
     "languageId": "dotnet-interactive.fsharp"
    }
   },
   "outputs": [
    {
     "data": {
      "text/html": [
       "\n",
       "<div>\n",
       "    <div id=\"b642805c-4cd7-4bd8-bfa3-a3d3ca14681e\"><!-- Plotly chart will be drawn inside this DIV --></div>\r\n",
       "<script type=\"text/javascript\">\r\n",
       "\r\n",
       "            var renderPlotly_b642805c4cd74bd8bfa3a3d3ca14681e = function() {\r\n",
       "            var fsharpPlotlyRequire = requirejs.config({context:'fsharp-plotly',paths:{plotly:'https://cdn.plot.ly/plotly-2.6.3.min'}}) || require;\r\n",
       "            fsharpPlotlyRequire(['plotly'], function(Plotly) {\r\n",
       "\r\n",
       "            var data = [{\"type\":\"scatter\",\"mode\":\"lines\",\"x\":[0.0,0.17403557778570222,0.3193650753379017,0.45406531222971697,0.5848484586654266,0.71480754761717,0.8459071646957109,0.9800106422236246,1.1193795702311586,1.2669012777924566],\"y\":[10.0,4.30506574689493,2.184907262625691,1.21214124608631,0.7263175924563293,0.47481730467058486,0.34268017381126015,0.27297269342767616,0.23635159044437257,0.217385347163381],\"marker\":{},\"line\":{\"shape\":\"spline\"},\"name\":\"Protein\"}];\r\n",
       "            var layout = {\"width\":600,\"height\":600,\"template\":{\"layout\":{\"title\":{\"x\":0.05},\"font\":{\"color\":\"rgba(42, 63, 95, 1.0)\"},\"paper_bgcolor\":\"rgba(255, 255, 255, 1.0)\",\"plot_bgcolor\":\"rgba(229, 236, 246, 1.0)\",\"autotypenumbers\":\"strict\",\"colorscale\":{\"diverging\":[[0.0,\"#8e0152\"],[0.1,\"#c51b7d\"],[0.2,\"#de77ae\"],[0.3,\"#f1b6da\"],[0.4,\"#fde0ef\"],[0.5,\"#f7f7f7\"],[0.6,\"#e6f5d0\"],[0.7,\"#b8e186\"],[0.8,\"#7fbc41\"],[0.9,\"#4d9221\"],[1.0,\"#276419\"]],\"sequential\":[[0.0,\"#0d0887\"],[0.1111111111111111,\"#46039f\"],[0.2222222222222222,\"#7201a8\"],[0.3333333333333333,\"#9c179e\"],[0.4444444444444444,\"#bd3786\"],[0.5555555555555556,\"#d8576b\"],[0.6666666666666666,\"#ed7953\"],[0.7777777777777778,\"#fb9f3a\"],[0.8888888888888888,\"#fdca26\"],[1.0,\"#f0f921\"]],\"sequentialminus\":[[0.0,\"#0d0887\"],[0.1111111111111111,\"#46039f\"],[0.2222222222222222,\"#7201a8\"],[0.3333333333333333,\"#9c179e\"],[0.4444444444444444,\"#bd3786\"],[0.5555555555555556,\"#d8576b\"],[0.6666666666666666,\"#ed7953\"],[0.7777777777777778,\"#fb9f3a\"],[0.8888888888888888,\"#fdca26\"],[1.0,\"#f0f921\"]]},\"hovermode\":\"closest\",\"hoverlabel\":{\"align\":\"left\"},\"coloraxis\":{\"colorbar\":{\"outlinewidth\":0.0,\"ticks\":\"\"}},\"geo\":{\"showland\":true,\"landcolor\":\"rgba(229, 236, 246, 1.0)\",\"showlakes\":true,\"lakecolor\":\"rgba(255, 255, 255, 1.0)\",\"subunitcolor\":\"rgba(255, 255, 255, 1.0)\",\"bgcolor\":\"rgba(255, 255, 255, 1.0)\"},\"mapbox\":{\"style\":\"light\"},\"polar\":{\"bgcolor\":\"rgba(229, 236, 246, 1.0)\",\"radialaxis\":{\"linecolor\":\"rgba(255, 255, 255, 1.0)\",\"gridcolor\":\"rgba(255, 255, 255, 1.0)\",\"ticks\":\"\"},\"angularaxis\":{\"linecolor\":\"rgba(255, 255, 255, 1.0)\",\"gridcolor\":\"rgba(255, 255, 255, 1.0)\",\"ticks\":\"\"}},\"scene\":{\"xaxis\":{\"ticks\":\"\",\"linecolor\":\"rgba(255, 255, 255, 1.0)\",\"gridcolor\":\"rgba(255, 255, 255, 1.0)\",\"gridwidth\":2.0,\"zerolinecolor\":\"rgba(255, 255, 255, 1.0)\",\"backgroundcolor\":\"rgba(229, 236, 246, 1.0)\",\"showbackground\":true},\"yaxis\":{\"ticks\":\"\",\"linecolor\":\"rgba(255, 255, 255, 1.0)\",\"gridcolor\":\"rgba(255, 255, 255, 1.0)\",\"gridwidth\":2.0,\"zerolinecolor\":\"rgba(255, 255, 255, 1.0)\",\"backgroundcolor\":\"rgba(229, 236, 246, 1.0)\",\"showbackground\":true},\"zaxis\":{\"ticks\":\"\",\"linecolor\":\"rgba(255, 255, 255, 1.0)\",\"gridcolor\":\"rgba(255, 255, 255, 1.0)\",\"gridwidth\":2.0,\"zerolinecolor\":\"rgba(255, 255, 255, 1.0)\",\"backgroundcolor\":\"rgba(229, 236, 246, 1.0)\",\"showbackground\":true}},\"ternary\":{\"aaxis\":{\"ticks\":\"\",\"linecolor\":\"rgba(255, 255, 255, 1.0)\",\"gridcolor\":\"rgba(255, 255, 255, 1.0)\"},\"baxis\":{\"ticks\":\"\",\"linecolor\":\"rgba(255, 255, 255, 1.0)\",\"gridcolor\":\"rgba(255, 255, 255, 1.0)\"},\"caxis\":{\"ticks\":\"\",\"linecolor\":\"rgba(255, 255, 255, 1.0)\",\"gridcolor\":\"rgba(255, 255, 255, 1.0)\"},\"bgcolor\":\"rgba(229, 236, 246, 1.0)\"},\"xaxis\":{\"title\":{\"standoff\":15},\"ticks\":\"\",\"automargin\":true,\"linecolor\":\"rgba(255, 255, 255, 1.0)\",\"gridcolor\":\"rgba(255, 255, 255, 1.0)\",\"zerolinecolor\":\"rgba(255, 255, 255, 1.0)\",\"zerolinewidth\":2.0},\"yaxis\":{\"title\":{\"standoff\":15},\"ticks\":\"\",\"automargin\":true,\"linecolor\":\"rgba(255, 255, 255, 1.0)\",\"gridcolor\":\"rgba(255, 255, 255, 1.0)\",\"zerolinecolor\":\"rgba(255, 255, 255, 1.0)\",\"zerolinewidth\":2.0},\"annotationdefaults\":{\"arrowcolor\":\"#2a3f5f\",\"arrowhead\":0,\"arrowwidth\":1},\"shapedefaults\":{\"line\":{\"color\":\"rgba(42, 63, 95, 1.0)\"}},\"colorway\":[\"rgba(99, 110, 250, 1.0)\",\"rgba(239, 85, 59, 1.0)\",\"rgba(0, 204, 150, 1.0)\",\"rgba(171, 99, 250, 1.0)\",\"rgba(255, 161, 90, 1.0)\",\"rgba(25, 211, 243, 1.0)\",\"rgba(255, 102, 146, 1.0)\",\"rgba(182, 232, 128, 1.0)\",\"rgba(255, 151, 255, 1.0)\",\"rgba(254, 203, 82, 1.0)\"]},\"data\":{\"bar\":[{\"marker\":{\"line\":{\"color\":\"rgba(229, 236, 246, 1.0)\",\"width\":0.5},\"pattern\":{\"fillmode\":\"overlay\",\"size\":10,\"solidity\":0.2}},\"error_x\":{\"color\":\"rgba(42, 63, 95, 1.0)\"},\"error_y\":{\"color\":\"rgba(42, 63, 95, 1.0)\"}}],\"barpolar\":[{\"marker\":{\"line\":{\"color\":\"rgba(229, 236, 246, 1.0)\",\"width\":0.5},\"pattern\":{\"fillmode\":\"overlay\",\"size\":10,\"solidity\":0.2}}}],\"carpet\":[{\"aaxis\":{\"linecolor\":\"rgba(255, 255, 255, 1.0)\",\"gridcolor\":\"rgba(255, 255, 255, 1.0)\",\"endlinecolor\":\"rgba(42, 63, 95, 1.0)\",\"minorgridcolor\":\"rgba(255, 255, 255, 1.0)\",\"startlinecolor\":\"rgba(42, 63, 95, 1.0)\"},\"baxis\":{\"linecolor\":\"rgba(255, 255, 255, 1.0)\",\"gridcolor\":\"rgba(255, 255, 255, 1.0)\",\"endlinecolor\":\"rgba(42, 63, 95, 1.0)\",\"minorgridcolor\":\"rgba(255, 255, 255, 1.0)\",\"startlinecolor\":\"rgba(42, 63, 95, 1.0)\"}}],\"choropleth\":[{\"colorbar\":{\"outlinewidth\":0.0,\"ticks\":\"\"},\"colorscale\":[[0.0,\"#0d0887\"],[0.1111111111111111,\"#46039f\"],[0.2222222222222222,\"#7201a8\"],[0.3333333333333333,\"#9c179e\"],[0.4444444444444444,\"#bd3786\"],[0.5555555555555556,\"#d8576b\"],[0.6666666666666666,\"#ed7953\"],[0.7777777777777778,\"#fb9f3a\"],[0.8888888888888888,\"#fdca26\"],[1.0,\"#f0f921\"]]}],\"contour\":[{\"colorbar\":{\"outlinewidth\":0.0,\"ticks\":\"\"},\"colorscale\":[[0.0,\"#0d0887\"],[0.1111111111111111,\"#46039f\"],[0.2222222222222222,\"#7201a8\"],[0.3333333333333333,\"#9c179e\"],[0.4444444444444444,\"#bd3786\"],[0.5555555555555556,\"#d8576b\"],[0.6666666666666666,\"#ed7953\"],[0.7777777777777778,\"#fb9f3a\"],[0.8888888888888888,\"#fdca26\"],[1.0,\"#f0f921\"]]}],\"contourcarpet\":[{\"colorbar\":{\"outlinewidth\":0.0,\"ticks\":\"\"}}],\"heatmap\":[{\"colorbar\":{\"outlinewidth\":0.0,\"ticks\":\"\"},\"colorscale\":[[0.0,\"#0d0887\"],[0.1111111111111111,\"#46039f\"],[0.2222222222222222,\"#7201a8\"],[0.3333333333333333,\"#9c179e\"],[0.4444444444444444,\"#bd3786\"],[0.5555555555555556,\"#d8576b\"],[0.6666666666666666,\"#ed7953\"],[0.7777777777777778,\"#fb9f3a\"],[0.8888888888888888,\"#fdca26\"],[1.0,\"#f0f921\"]]}],\"heatmapgl\":[{\"colorbar\":{\"outlinewidth\":0.0,\"ticks\":\"\"},\"colorscale\":[[0.0,\"#0d0887\"],[0.1111111111111111,\"#46039f\"],[0.2222222222222222,\"#7201a8\"],[0.3333333333333333,\"#9c179e\"],[0.4444444444444444,\"#bd3786\"],[0.5555555555555556,\"#d8576b\"],[0.6666666666666666,\"#ed7953\"],[0.7777777777777778,\"#fb9f3a\"],[0.8888888888888888,\"#fdca26\"],[1.0,\"#f0f921\"]]}],\"histogram\":[{\"marker\":{\"pattern\":{\"fillmode\":\"overlay\",\"size\":10,\"solidity\":0.2}}}],\"histogram2d\":[{\"colorbar\":{\"outlinewidth\":0.0,\"ticks\":\"\"},\"colorscale\":[[0.0,\"#0d0887\"],[0.1111111111111111,\"#46039f\"],[0.2222222222222222,\"#7201a8\"],[0.3333333333333333,\"#9c179e\"],[0.4444444444444444,\"#bd3786\"],[0.5555555555555556,\"#d8576b\"],[0.6666666666666666,\"#ed7953\"],[0.7777777777777778,\"#fb9f3a\"],[0.8888888888888888,\"#fdca26\"],[1.0,\"#f0f921\"]]}],\"histogram2dcontour\":[{\"colorbar\":{\"outlinewidth\":0.0,\"ticks\":\"\"},\"colorscale\":[[0.0,\"#0d0887\"],[0.1111111111111111,\"#46039f\"],[0.2222222222222222,\"#7201a8\"],[0.3333333333333333,\"#9c179e\"],[0.4444444444444444,\"#bd3786\"],[0.5555555555555556,\"#d8576b\"],[0.6666666666666666,\"#ed7953\"],[0.7777777777777778,\"#fb9f3a\"],[0.8888888888888888,\"#fdca26\"],[1.0,\"#f0f921\"]]}],\"mesh3d\":[{\"colorbar\":{\"outlinewidth\":0.0,\"ticks\":\"\"}}],\"parcoords\":[{\"line\":{\"colorbar\":{\"outlinewidth\":0.0,\"ticks\":\"\"}}}],\"pie\":[{\"automargin\":true}],\"scatter\":[{\"marker\":{\"colorbar\":{\"outlinewidth\":0.0,\"ticks\":\"\"}}}],\"scatter3d\":[{\"marker\":{\"colorbar\":{\"outlinewidth\":0.0,\"ticks\":\"\"}},\"line\":{\"colorbar\":{\"outlinewidth\":0.0,\"ticks\":\"\"}}}],\"scattercarpet\":[{\"marker\":{\"colorbar\":{\"outlinewidth\":0.0,\"ticks\":\"\"}}}],\"scattergeo\":[{\"marker\":{\"colorbar\":{\"outlinewidth\":0.0,\"ticks\":\"\"}}}],\"scattergl\":[{\"marker\":{\"colorbar\":{\"outlinewidth\":0.0,\"ticks\":\"\"}}}],\"scattermapbox\":[{\"marker\":{\"colorbar\":{\"outlinewidth\":0.0,\"ticks\":\"\"}}}],\"scatterpolar\":[{\"marker\":{\"colorbar\":{\"outlinewidth\":0.0,\"ticks\":\"\"}}}],\"scatterpolargl\":[{\"marker\":{\"colorbar\":{\"outlinewidth\":0.0,\"ticks\":\"\"}}}],\"scatterternary\":[{\"marker\":{\"colorbar\":{\"outlinewidth\":0.0,\"ticks\":\"\"}}}],\"surface\":[{\"colorbar\":{\"outlinewidth\":0.0,\"ticks\":\"\"},\"colorscale\":[[0.0,\"#0d0887\"],[0.1111111111111111,\"#46039f\"],[0.2222222222222222,\"#7201a8\"],[0.3333333333333333,\"#9c179e\"],[0.4444444444444444,\"#bd3786\"],[0.5555555555555556,\"#d8576b\"],[0.6666666666666666,\"#ed7953\"],[0.7777777777777778,\"#fb9f3a\"],[0.8888888888888888,\"#fdca26\"],[1.0,\"#f0f921\"]]}],\"table\":[{\"cells\":{\"fill\":{\"color\":\"rgba(235, 240, 248, 1.0)\"},\"line\":{\"color\":\"rgba(255, 255, 255, 1.0)\"}},\"header\":{\"fill\":{\"color\":\"rgba(200, 212, 227, 1.0)\"},\"line\":{\"color\":\"rgba(255, 255, 255, 1.0)\"}}}]}},\"xaxis\":{\"title\":{\"text\":\"Zeit\"}},\"yaxis\":{\"title\":{\"text\":\"Proteinkonzentration\"}}};\r\n",
       "            var config = {\"responsive\":true};\r\n",
       "            Plotly.newPlot('b642805c-4cd7-4bd8-bfa3-a3d3ca14681e', data, layout, config);\r\n",
       "});\r\n",
       "            };\r\n",
       "            if ((typeof(requirejs) !==  typeof(Function)) || (typeof(requirejs.config) !== typeof(Function))) {\r\n",
       "                var script = document.createElement(\"script\");\r\n",
       "                script.setAttribute(\"src\", \"https://cdnjs.cloudflare.com/ajax/libs/require.js/2.3.6/require.min.js\");\r\n",
       "                script.onload = function(){\r\n",
       "                    renderPlotly_b642805c4cd74bd8bfa3a3d3ca14681e();\r\n",
       "                };\r\n",
       "                document.getElementsByTagName(\"head\")[0].appendChild(script);\r\n",
       "            }\r\n",
       "            else {\r\n",
       "                renderPlotly_b642805c4cd74bd8bfa3a3d3ca14681e();\r\n",
       "            }\r\n",
       "</script>\r\n",
       "\n",
       "    \n",
       "</div>    \n"
      ]
     },
     "metadata": {},
     "output_type": "display_data"
    }
   ],
   "source": [
    "//Konstanten\n",
    "let beta =    1. // Konstante für die Zunahme der Proteinkonzentration\n",
    "let gamma =   5. // Konstante für die Verringerung der Proteinkonzentration\n",
    "\n",
    "// unsere DGL als  Modell (Model)\n",
    "let dP_dt : Model = \n",
    "    fun P t ->\n",
    "        // Veränderung der Proteinmenge\n",
    "        let Proteinkonznetration = P[0] \n",
    "        // Modelfunktion (hier die Gleichung einfügen)\n",
    "        let Proteinkonznetration' = beta - gamma*Proteinkonznetration\n",
    "\n",
    "        [| Proteinkonznetration' |]\n",
    "\n",
    "//Startkonzentrationen\n",
    "let P0 = [| \n",
    "    10.0 \n",
    "|]\n",
    "\n",
    "// Simulation der Modelfuntkion\n",
    "let Ps = \n",
    "    modelContext.OdeInt(\n",
    "        0., // Startzeitpunkt\n",
    "        P0,\n",
    "        dP_dt\n",
    "    )\n",
    "    |> SolPoints.take 10 // Anzahl der Zeitpunkte\n",
    "    |> SolPoints.memorize \n",
    "\n",
    "let proteins = Ps |> SolPoints.toPoints 1\n",
    "\n",
    "//Graphische Darstellung der numerischen Lösung\n",
    "proteins\n",
    "|> Chart.Spline \n",
    "|> Chart.withTraceInfo(\"Protein\")\n",
    "|> Chart.withXAxisStyle(\"Zeit\")\n",
    "|> Chart.withYAxisStyle(\"Proteinkonzentration\")"
   ]
  },
  {
   "cell_type": "markdown",
   "metadata": {},
   "source": [
    "Der erstellte Graph zeigt wie sich die Proteinkonzentration über die Zeit verändert. Die Proteinkonzentration startet am Zeitpunkt 0 bei einem Wert von 10, $Proteinkonzentration (0) = 10$. Die Proteinkonzentration nähert sich mit der Zeit dem Wert 0.2. Dieser Wert entspricht dem Punkt an dem Produktion und Verringerung der Proteinanzahl im Gleichgewicht stehen und ist somit ein Gleichgewichtspunkt. Dieser Gleichgewichtspunkt wird im folgenden $Proteinkonzentration_{GGW}$ genannt. Das $Proteinkonzentration_{GGW}$ ist von den Werten von $\\beta$ und $\\gamma$ anhängig. Die Werte von $\\beta$ und $\\gamma$ die zu dem $Proteinkonzentration_{GGW} = 0.2$ geführt haben sind 1. und 5. (die Werte sind im oberen code block beim Absatz Konstanten zu finden)."
   ]
  },
  {
   "cell_type": "markdown",
   "metadata": {},
   "source": [
    "Aufgabe: \n",
    "Verändere den Wert von $\\beta$ und versuche eine Gesetzmäßigkeit zu erkennen die beschreibt welchen Wert die Proteinkonzentration im GGW annimmt in Abhängigkeit von $\\beta \\textrm{ und } \\gamma$. Wähle die korrekte Gleichung aus den vier nachfolgen aus, die diese Gesetzmäßigkeit beschreibt. Kopiere dafür den Code Block von oben in den nachfolgenden Code Block und ändere dann $\\beta$ ( $\\beta$ befindet sich im Abschnitt Konstanten, beachte das die Eingesetzten Zahlen Fließzahlen sein müssen)."
   ]
  },
  {
   "cell_type": "code",
   "execution_count": null,
   "metadata": {
    "dotnet_interactive": {
     "language": "fsharp"
    },
    "vscode": {
     "languageId": "dotnet-interactive.fsharp"
    }
   },
   "outputs": [],
   "source": [
    "//Code hier reinkopieren"
   ]
  },
  {
   "cell_type": "markdown",
   "metadata": {},
   "source": [
    "Mögliche Gleichungen die das Problem beschreiben:\n",
    "\n",
    "\n",
    "a) $Proteinkonzentration_{GGW} = \\gamma  - 2*\\beta$\n",
    " \n",
    "b) $Proteinkonzentration_{GGW} = \\frac {\\beta * \\gamma}  {\\gamma^{2}}$ \n",
    "\n",
    "c) $Proteinkonzentration_{GGW} = \\frac {\\beta}  {\\gamma}$ \n",
    "\n",
    "d) $Proteinkonzentration_{GGW} = \\frac {\\beta^{2}}  {\\gamma^{\\beta}}$ "
   ]
  },
  {
   "cell_type": "markdown",
   "metadata": {},
   "source": [
    "In diesen Block die gewählte Antwort einfügen"
   ]
  },
  {
   "cell_type": "markdown",
   "metadata": {},
   "source": [
    "### Besprechung? Musst du entscheiden Jonny, bisher ist das relativ wenig, aber ich weiß nicht wie hart der Schnitt für Stochhastik ist"
   ]
  },
  {
   "cell_type": "markdown",
   "metadata": {},
   "source": [
    "### Stochhastik teil von Jonny"
   ]
  },
  {
   "cell_type": "markdown",
   "metadata": {},
   "source": [
    "### Aktivator und Repressor \n",
    "\n",
    "Leider ist die Biologie in fast allen Fällen nicht so einfach. Stattdessen werden Gene in der Regel reguliert, um die Genexpression an die Umgebungsbedingungen anzupassen. Die einfachste Form der Regulierung ist mittels Repressoren oder Aktivatoren. Beides sind zumeist Proteine, die an spezifische Regionen auf der DNA binden können um die Promotoraktivität eines Gens zu regulieren, wobei die Stärke der Regulierung meist mit der Stärke der Bindung des Regulators zur DNA-Region einhergeht. <br>\n",
    "Um den Einfluß eines Repressors/Aktivators auf die Produktion von einem Protein zu bestimmen, ist es zuerst nötig sich mit dem Prozess der Bindung des Repressors/Aktivators an die jeweilige Bindungsstelle, durch die die Proteinprodukion beeinflusst wird, zu beschäftigen. Innerhalb der Zelle bindet und löst sich ein Repressor von seiner Bindungsstelle in einem kontinuierlichen Prozess. Dies kann als eine Gleichgewichtsreaktion dargestellt werden\n",
    "$$D + R\\quad \\underset{k_{-}}{\\stackrel{k_{+}}{\\rightleftharpoons}} \\quad D_{gebunden}$$\n",
    "wobei $D$ die Konzentration von Bindungsstellen ohne Repressor, $R$ die Repressorkonzentration, $D_{gebunden}$ die Konzentration von Bindungsstellen mit Repressor, $k_{+}$ die Geschwindigkeit des Bindens des Repressor an die Bindungstelle, und $k_{-}$ die Geschwindigkeit des Loslösens des Repressors von der Bindungstelle ist. $D$ und $D_{gebunden}$ zusammen ergeben $D_{total}$ was der Konzentration aller Bindungstellen entspricht ($D_{total} = D + D_{gebunden} $).<br>\n",
    "Das Gen wird nur dann stark exprimiert wenn der Repressor nicht gebunden ist, was dem Verhältnis von nicht gebundenen Bindungstellen zu der Anzahl von allen Bindungsstellen entspricht, also $D/D_{total}$. Für eine Differenzialgleichung die beschreibt wie sich die Proteinkonzentration verhält wenn das Gen von einem Repressor reguliert wird ist es daher nötig die Produktionsrate mit dem Verhältnis $D/D_{total}$ zu multiplizieren. Sowohl $D$ als auch $D_{total}$ sind aber nur schwierig experimentell zu bestimmen. Die Repressorkonzentration und die Dissoziationskonstante, also die Konzentration  bei der die Produktion um die Hälfte reduziert ist, sind hingegen vergleichsweise einfach zu bestimmen. Daher ist es sinnvoll das Verhältnis $D/D_{total}$ als einen Zusammenhang von $R$ und der Dissoziationskonstante $K_{D}$ darzustellen. Dies ist möglich durch das Umformen der Gleichgewichtsgleichung die sich aus der Gleichgewichtsreaktion ergibt. Diese ist\n",
    "$$k_{+}*D*R = k_{-}*D_{gebunden}$$\n",
    "Einsetzten von $D_{total} = D + D_{gebunden} $ um $D_ {gebunden}$ zu ersetzen ergibt \n",
    "$$k_{+}*D*R = k_{-}*(D_{total}-D)$$\n",
    "Seperieren von $D$ und $D_{total}$ von den anderen Faktoren führt zu\n",
    "$$\\frac {D} {(D_{total}-D)}= \\frac {k_{-}}{k_{+}*R} $$\n",
    "$$\\frac {D/D} {(D_{total}/D-D/D)}= \\frac {k_{-}}{k_{+}*R} $$\n",
    "$$\\frac {1} {(D_{total}/D-1)}= \\frac {k_{-}}{k_{+}*R} $$\n",
    "$$\\frac {D_{total}}{D}-1= \\frac {k_{+}*R}{k_{-}} $$\n",
    "$$\\frac {D_{total}}{D}= \\frac {k_{+}*R}{k_{-}}+1 $$\n",
    "das Verhältnis von $\\frac {k_{-}}{k_{+}}$ kann ersetzt werden durch die Dissoziationskonstante $K_{D}$. Daher folgt\n",
    "$$\\frac {D_{total}}{D}= \\frac {R}{K_{D}} +1 $$\n",
    "$$\\frac {D}{D_{total}}= \\frac {1}{1+\\frac {R}{K_{D}}} $$\n",
    "\n",
    "Der Term $\\frac {1}{1+\\frac {R}{K_{D}}}$ beschreibt somit den Term durch den die Expressionsrate eines Gens gedämpft wird, wenn es von einem Repressor reguliert wird. Das heißt wenn das Gen x, welches das Protein X produziert, durch den Inhibitor R reguliert wird, kann dies mit folgender Differenzialgleichung beschrieben werden\n",
    "$$ \\frac {dProteinkonzentration} {dt} = \\beta* \\frac {1}{1+ \\frac {R}{K_{D}}}  - \\gamma*Proteinkonzentration$$\n",
    "\n",
    "\n",
    "\n"
   ]
  },
  {
   "cell_type": "markdown",
   "metadata": {},
   "source": [
    "Aufgabe:<br>\n",
    "Setze die Differenzialgleichungen für ein Protein dessen Produktion von einem Repressor reguliert wird in das folgende Model ein (beachte das $\\beta \\textrm{ und } \\gamma$ als \"beta\" und \"gamma\", ohne \"\", eingesetzt werden müssen und nicht als Symbole, und das $K_{D}$ als K_d eingesetzt wird).\n"
   ]
  },
  {
   "cell_type": "code",
   "execution_count": null,
   "metadata": {
    "dotnet_interactive": {
     "language": "fsharp"
    },
    "vscode": {
     "languageId": "dotnet-interactive.fsharp"
    }
   },
   "outputs": [
    {
     "data": {
      "text/html": [
       "\n",
       "<div>\n",
       "    <div id=\"c8b97bfb-1e49-4507-b407-51d69c99bb64\"><!-- Plotly chart will be drawn inside this DIV --></div>\r\n",
       "<script type=\"text/javascript\">\r\n",
       "\r\n",
       "            var renderPlotly_c8b97bfb1e494507b40751d69c99bb64 = function() {\r\n",
       "            var fsharpPlotlyRequire = requirejs.config({context:'fsharp-plotly',paths:{plotly:'https://cdn.plot.ly/plotly-2.6.3.min'}}) || require;\r\n",
       "            fsharpPlotlyRequire(['plotly'], function(Plotly) {\r\n",
       "\r\n",
       "            var data = [{\"type\":\"scatter\",\"mode\":\"lines\",\"x\":[1.0,1.0422735078757366,1.0765131872331148,1.1092114559929191,1.1446387385328363,1.1844146918571201,1.2295896333525944,1.2813781168854694,1.3414877266484424,1.4124262324362684],\"y\":[0.0,1.4265998162922884,1.9587992851463176,2.2185873827498845,2.3614441073473618,2.4374630685892638,2.4746624373708337,2.4910050155572883,2.4972948471148437,2.499343125095302],\"marker\":{},\"line\":{\"shape\":\"spline\"},\"name\":\"Unreguliert\"},{\"type\":\"scatter\",\"mode\":\"lines\",\"x\":[1.0,1.0422735078757366,1.0765131872331148,1.1092114559929191,1.1446387385328363,1.1844146918571201,1.2295896333525944,1.2813781168854694,1.3414877266484424,1.4124262324362684],\"y\":[0.0,0.9510665441948588,1.305866190097545,1.4790582551665898,1.574296071564908,1.6249753790595094,1.6497749582472225,1.6606700103715255,1.664863231409896,1.666228750063535],\"marker\":{},\"line\":{\"shape\":\"spline\"},\"name\":\"Reguliert\"}];\r\n",
       "            var layout = {\"width\":600,\"height\":600,\"template\":{\"layout\":{\"title\":{\"x\":0.05},\"font\":{\"color\":\"rgba(42, 63, 95, 1.0)\"},\"paper_bgcolor\":\"rgba(255, 255, 255, 1.0)\",\"plot_bgcolor\":\"rgba(229, 236, 246, 1.0)\",\"autotypenumbers\":\"strict\",\"colorscale\":{\"diverging\":[[0.0,\"#8e0152\"],[0.1,\"#c51b7d\"],[0.2,\"#de77ae\"],[0.3,\"#f1b6da\"],[0.4,\"#fde0ef\"],[0.5,\"#f7f7f7\"],[0.6,\"#e6f5d0\"],[0.7,\"#b8e186\"],[0.8,\"#7fbc41\"],[0.9,\"#4d9221\"],[1.0,\"#276419\"]],\"sequential\":[[0.0,\"#0d0887\"],[0.1111111111111111,\"#46039f\"],[0.2222222222222222,\"#7201a8\"],[0.3333333333333333,\"#9c179e\"],[0.4444444444444444,\"#bd3786\"],[0.5555555555555556,\"#d8576b\"],[0.6666666666666666,\"#ed7953\"],[0.7777777777777778,\"#fb9f3a\"],[0.8888888888888888,\"#fdca26\"],[1.0,\"#f0f921\"]],\"sequentialminus\":[[0.0,\"#0d0887\"],[0.1111111111111111,\"#46039f\"],[0.2222222222222222,\"#7201a8\"],[0.3333333333333333,\"#9c179e\"],[0.4444444444444444,\"#bd3786\"],[0.5555555555555556,\"#d8576b\"],[0.6666666666666666,\"#ed7953\"],[0.7777777777777778,\"#fb9f3a\"],[0.8888888888888888,\"#fdca26\"],[1.0,\"#f0f921\"]]},\"hovermode\":\"closest\",\"hoverlabel\":{\"align\":\"left\"},\"coloraxis\":{\"colorbar\":{\"outlinewidth\":0.0,\"ticks\":\"\"}},\"geo\":{\"showland\":true,\"landcolor\":\"rgba(229, 236, 246, 1.0)\",\"showlakes\":true,\"lakecolor\":\"rgba(255, 255, 255, 1.0)\",\"subunitcolor\":\"rgba(255, 255, 255, 1.0)\",\"bgcolor\":\"rgba(255, 255, 255, 1.0)\"},\"mapbox\":{\"style\":\"light\"},\"polar\":{\"bgcolor\":\"rgba(229, 236, 246, 1.0)\",\"radialaxis\":{\"linecolor\":\"rgba(255, 255, 255, 1.0)\",\"gridcolor\":\"rgba(255, 255, 255, 1.0)\",\"ticks\":\"\"},\"angularaxis\":{\"linecolor\":\"rgba(255, 255, 255, 1.0)\",\"gridcolor\":\"rgba(255, 255, 255, 1.0)\",\"ticks\":\"\"}},\"scene\":{\"xaxis\":{\"ticks\":\"\",\"linecolor\":\"rgba(255, 255, 255, 1.0)\",\"gridcolor\":\"rgba(255, 255, 255, 1.0)\",\"gridwidth\":2.0,\"zerolinecolor\":\"rgba(255, 255, 255, 1.0)\",\"backgroundcolor\":\"rgba(229, 236, 246, 1.0)\",\"showbackground\":true},\"yaxis\":{\"ticks\":\"\",\"linecolor\":\"rgba(255, 255, 255, 1.0)\",\"gridcolor\":\"rgba(255, 255, 255, 1.0)\",\"gridwidth\":2.0,\"zerolinecolor\":\"rgba(255, 255, 255, 1.0)\",\"backgroundcolor\":\"rgba(229, 236, 246, 1.0)\",\"showbackground\":true},\"zaxis\":{\"ticks\":\"\",\"linecolor\":\"rgba(255, 255, 255, 1.0)\",\"gridcolor\":\"rgba(255, 255, 255, 1.0)\",\"gridwidth\":2.0,\"zerolinecolor\":\"rgba(255, 255, 255, 1.0)\",\"backgroundcolor\":\"rgba(229, 236, 246, 1.0)\",\"showbackground\":true}},\"ternary\":{\"aaxis\":{\"ticks\":\"\",\"linecolor\":\"rgba(255, 255, 255, 1.0)\",\"gridcolor\":\"rgba(255, 255, 255, 1.0)\"},\"baxis\":{\"ticks\":\"\",\"linecolor\":\"rgba(255, 255, 255, 1.0)\",\"gridcolor\":\"rgba(255, 255, 255, 1.0)\"},\"caxis\":{\"ticks\":\"\",\"linecolor\":\"rgba(255, 255, 255, 1.0)\",\"gridcolor\":\"rgba(255, 255, 255, 1.0)\"},\"bgcolor\":\"rgba(229, 236, 246, 1.0)\"},\"xaxis\":{\"title\":{\"standoff\":15},\"ticks\":\"\",\"automargin\":true,\"linecolor\":\"rgba(255, 255, 255, 1.0)\",\"gridcolor\":\"rgba(255, 255, 255, 1.0)\",\"zerolinecolor\":\"rgba(255, 255, 255, 1.0)\",\"zerolinewidth\":2.0},\"yaxis\":{\"title\":{\"standoff\":15},\"ticks\":\"\",\"automargin\":true,\"linecolor\":\"rgba(255, 255, 255, 1.0)\",\"gridcolor\":\"rgba(255, 255, 255, 1.0)\",\"zerolinecolor\":\"rgba(255, 255, 255, 1.0)\",\"zerolinewidth\":2.0},\"annotationdefaults\":{\"arrowcolor\":\"#2a3f5f\",\"arrowhead\":0,\"arrowwidth\":1},\"shapedefaults\":{\"line\":{\"color\":\"rgba(42, 63, 95, 1.0)\"}},\"colorway\":[\"rgba(99, 110, 250, 1.0)\",\"rgba(239, 85, 59, 1.0)\",\"rgba(0, 204, 150, 1.0)\",\"rgba(171, 99, 250, 1.0)\",\"rgba(255, 161, 90, 1.0)\",\"rgba(25, 211, 243, 1.0)\",\"rgba(255, 102, 146, 1.0)\",\"rgba(182, 232, 128, 1.0)\",\"rgba(255, 151, 255, 1.0)\",\"rgba(254, 203, 82, 1.0)\"]},\"data\":{\"bar\":[{\"marker\":{\"line\":{\"color\":\"rgba(229, 236, 246, 1.0)\",\"width\":0.5},\"pattern\":{\"fillmode\":\"overlay\",\"size\":10,\"solidity\":0.2}},\"error_x\":{\"color\":\"rgba(42, 63, 95, 1.0)\"},\"error_y\":{\"color\":\"rgba(42, 63, 95, 1.0)\"}}],\"barpolar\":[{\"marker\":{\"line\":{\"color\":\"rgba(229, 236, 246, 1.0)\",\"width\":0.5},\"pattern\":{\"fillmode\":\"overlay\",\"size\":10,\"solidity\":0.2}}}],\"carpet\":[{\"aaxis\":{\"linecolor\":\"rgba(255, 255, 255, 1.0)\",\"gridcolor\":\"rgba(255, 255, 255, 1.0)\",\"endlinecolor\":\"rgba(42, 63, 95, 1.0)\",\"minorgridcolor\":\"rgba(255, 255, 255, 1.0)\",\"startlinecolor\":\"rgba(42, 63, 95, 1.0)\"},\"baxis\":{\"linecolor\":\"rgba(255, 255, 255, 1.0)\",\"gridcolor\":\"rgba(255, 255, 255, 1.0)\",\"endlinecolor\":\"rgba(42, 63, 95, 1.0)\",\"minorgridcolor\":\"rgba(255, 255, 255, 1.0)\",\"startlinecolor\":\"rgba(42, 63, 95, 1.0)\"}}],\"choropleth\":[{\"colorbar\":{\"outlinewidth\":0.0,\"ticks\":\"\"},\"colorscale\":[[0.0,\"#0d0887\"],[0.1111111111111111,\"#46039f\"],[0.2222222222222222,\"#7201a8\"],[0.3333333333333333,\"#9c179e\"],[0.4444444444444444,\"#bd3786\"],[0.5555555555555556,\"#d8576b\"],[0.6666666666666666,\"#ed7953\"],[0.7777777777777778,\"#fb9f3a\"],[0.8888888888888888,\"#fdca26\"],[1.0,\"#f0f921\"]]}],\"contour\":[{\"colorbar\":{\"outlinewidth\":0.0,\"ticks\":\"\"},\"colorscale\":[[0.0,\"#0d0887\"],[0.1111111111111111,\"#46039f\"],[0.2222222222222222,\"#7201a8\"],[0.3333333333333333,\"#9c179e\"],[0.4444444444444444,\"#bd3786\"],[0.5555555555555556,\"#d8576b\"],[0.6666666666666666,\"#ed7953\"],[0.7777777777777778,\"#fb9f3a\"],[0.8888888888888888,\"#fdca26\"],[1.0,\"#f0f921\"]]}],\"contourcarpet\":[{\"colorbar\":{\"outlinewidth\":0.0,\"ticks\":\"\"}}],\"heatmap\":[{\"colorbar\":{\"outlinewidth\":0.0,\"ticks\":\"\"},\"colorscale\":[[0.0,\"#0d0887\"],[0.1111111111111111,\"#46039f\"],[0.2222222222222222,\"#7201a8\"],[0.3333333333333333,\"#9c179e\"],[0.4444444444444444,\"#bd3786\"],[0.5555555555555556,\"#d8576b\"],[0.6666666666666666,\"#ed7953\"],[0.7777777777777778,\"#fb9f3a\"],[0.8888888888888888,\"#fdca26\"],[1.0,\"#f0f921\"]]}],\"heatmapgl\":[{\"colorbar\":{\"outlinewidth\":0.0,\"ticks\":\"\"},\"colorscale\":[[0.0,\"#0d0887\"],[0.1111111111111111,\"#46039f\"],[0.2222222222222222,\"#7201a8\"],[0.3333333333333333,\"#9c179e\"],[0.4444444444444444,\"#bd3786\"],[0.5555555555555556,\"#d8576b\"],[0.6666666666666666,\"#ed7953\"],[0.7777777777777778,\"#fb9f3a\"],[0.8888888888888888,\"#fdca26\"],[1.0,\"#f0f921\"]]}],\"histogram\":[{\"marker\":{\"pattern\":{\"fillmode\":\"overlay\",\"size\":10,\"solidity\":0.2}}}],\"histogram2d\":[{\"colorbar\":{\"outlinewidth\":0.0,\"ticks\":\"\"},\"colorscale\":[[0.0,\"#0d0887\"],[0.1111111111111111,\"#46039f\"],[0.2222222222222222,\"#7201a8\"],[0.3333333333333333,\"#9c179e\"],[0.4444444444444444,\"#bd3786\"],[0.5555555555555556,\"#d8576b\"],[0.6666666666666666,\"#ed7953\"],[0.7777777777777778,\"#fb9f3a\"],[0.8888888888888888,\"#fdca26\"],[1.0,\"#f0f921\"]]}],\"histogram2dcontour\":[{\"colorbar\":{\"outlinewidth\":0.0,\"ticks\":\"\"},\"colorscale\":[[0.0,\"#0d0887\"],[0.1111111111111111,\"#46039f\"],[0.2222222222222222,\"#7201a8\"],[0.3333333333333333,\"#9c179e\"],[0.4444444444444444,\"#bd3786\"],[0.5555555555555556,\"#d8576b\"],[0.6666666666666666,\"#ed7953\"],[0.7777777777777778,\"#fb9f3a\"],[0.8888888888888888,\"#fdca26\"],[1.0,\"#f0f921\"]]}],\"mesh3d\":[{\"colorbar\":{\"outlinewidth\":0.0,\"ticks\":\"\"}}],\"parcoords\":[{\"line\":{\"colorbar\":{\"outlinewidth\":0.0,\"ticks\":\"\"}}}],\"pie\":[{\"automargin\":true}],\"scatter\":[{\"marker\":{\"colorbar\":{\"outlinewidth\":0.0,\"ticks\":\"\"}}}],\"scatter3d\":[{\"marker\":{\"colorbar\":{\"outlinewidth\":0.0,\"ticks\":\"\"}},\"line\":{\"colorbar\":{\"outlinewidth\":0.0,\"ticks\":\"\"}}}],\"scattercarpet\":[{\"marker\":{\"colorbar\":{\"outlinewidth\":0.0,\"ticks\":\"\"}}}],\"scattergeo\":[{\"marker\":{\"colorbar\":{\"outlinewidth\":0.0,\"ticks\":\"\"}}}],\"scattergl\":[{\"marker\":{\"colorbar\":{\"outlinewidth\":0.0,\"ticks\":\"\"}}}],\"scattermapbox\":[{\"marker\":{\"colorbar\":{\"outlinewidth\":0.0,\"ticks\":\"\"}}}],\"scatterpolar\":[{\"marker\":{\"colorbar\":{\"outlinewidth\":0.0,\"ticks\":\"\"}}}],\"scatterpolargl\":[{\"marker\":{\"colorbar\":{\"outlinewidth\":0.0,\"ticks\":\"\"}}}],\"scatterternary\":[{\"marker\":{\"colorbar\":{\"outlinewidth\":0.0,\"ticks\":\"\"}}}],\"surface\":[{\"colorbar\":{\"outlinewidth\":0.0,\"ticks\":\"\"},\"colorscale\":[[0.0,\"#0d0887\"],[0.1111111111111111,\"#46039f\"],[0.2222222222222222,\"#7201a8\"],[0.3333333333333333,\"#9c179e\"],[0.4444444444444444,\"#bd3786\"],[0.5555555555555556,\"#d8576b\"],[0.6666666666666666,\"#ed7953\"],[0.7777777777777778,\"#fb9f3a\"],[0.8888888888888888,\"#fdca26\"],[1.0,\"#f0f921\"]]}],\"table\":[{\"cells\":{\"fill\":{\"color\":\"rgba(235, 240, 248, 1.0)\"},\"line\":{\"color\":\"rgba(255, 255, 255, 1.0)\"}},\"header\":{\"fill\":{\"color\":\"rgba(200, 212, 227, 1.0)\"},\"line\":{\"color\":\"rgba(255, 255, 255, 1.0)\"}}}]}},\"xaxis\":{\"title\":{\"text\":\"Zeit\"}},\"yaxis\":{\"title\":{\"text\":\"Proteinkonzentration\"}}};\r\n",
       "            var config = {\"responsive\":true};\r\n",
       "            Plotly.newPlot('c8b97bfb-1e49-4507-b407-51d69c99bb64', data, layout, config);\r\n",
       "});\r\n",
       "            };\r\n",
       "            if ((typeof(requirejs) !==  typeof(Function)) || (typeof(requirejs.config) !== typeof(Function))) {\r\n",
       "                var script = document.createElement(\"script\");\r\n",
       "                script.setAttribute(\"src\", \"https://cdnjs.cloudflare.com/ajax/libs/require.js/2.3.6/require.min.js\");\r\n",
       "                script.onload = function(){\r\n",
       "                    renderPlotly_c8b97bfb1e494507b40751d69c99bb64();\r\n",
       "                };\r\n",
       "                document.getElementsByTagName(\"head\")[0].appendChild(script);\r\n",
       "            }\r\n",
       "            else {\r\n",
       "                renderPlotly_c8b97bfb1e494507b40751d69c99bb64();\r\n",
       "            }\r\n",
       "</script>\r\n",
       "\n",
       "    \n",
       "</div>    \n"
      ]
     },
     "metadata": {},
     "output_type": "display_data"
    }
   ],
   "source": [
    "//Konstanten\n",
    "let alpha =    0.5  // Konstante für die Zunahme der Proteinkonzentration (nicht reguliert)\n",
    "let beta =    50.0  // Konstante für die Zunahme der Proteinkonzentration (reguliert)\n",
    "let gamma =   20.0  // Konstante für die Verringerung der Proteinkonzentration\n",
    "let K_d =     20.0  // Repressorkonzentration bei der die Proteinproduktion um die Hälfte reduziert ist\n",
    "let R =       10.0  // Repressorkonzentration\n",
    "\n",
    "\n",
    "// unsere DGL als  Modell (Model)\n",
    "let dP_dt : Model = \n",
    "    fun P t ->\n",
    "\n",
    "        let x = P[0] // Änderung in der Proteinmenge (unreguliert)\n",
    "        let Proteinkonznetration = P[1] // Änderung in der Proteinmenge (reguliert durch Repressor)\n",
    "        //Änderung der Proteinkonzentration ohne einen Repressor (nicht verändern bitte)\n",
    "        let x' = beta - (gamma*x)\n",
    "        // Änderung des Proteinkonzentration unter Einfluß von einem Repressor (hier die Gleichung einsetzen)\n",
    "        let Proteinkonznetration' = beta * 1./(1.+(R/K_d)) - (gamma*Proteinkonznetration)\n",
    "\n",
    "        [| x'; Proteinkonznetration' |]\n",
    "\n",
    "//Startkonzentrationen\n",
    "let P0 = [| \n",
    "    0.0\n",
    "    0.0  \n",
    "|]\n",
    "\n",
    "// Simulation der Modelfuntkion\n",
    "let Ps = \n",
    "    modelContext.OdeInt(\n",
    "        1., // Startzeitpunkt\n",
    "        P0,\n",
    "        dP_dt\n",
    "    )\n",
    "    |> SolPoints.take 10 // Anzhal der Zeitpunkte\n",
    "    |> SolPoints.memorize \n",
    "\n",
    "//Graphische Darstellung der numerischen Lösung\n",
    "[\n",
    "    let proteins = Ps |> SolPoints.toPoints 1 \n",
    "    proteins |> Chart.Spline \n",
    "    |> Chart.withTraceInfo(\"Unreguliert\");\n",
    "    let proteinsregulated = Ps |> SolPoints.toPoints 2 \n",
    "    proteinsregulated|> Chart.Spline \n",
    "    |> Chart.withTraceInfo(\"Reguliert\");\n",
    "]\n",
    "\n",
    "|> Chart.combine\n",
    "|> Chart.withXAxisStyle(\"Zeit\")\n",
    "|> Chart.withYAxisStyle(\"Proteinkonzentration\")"
   ]
  },
  {
   "cell_type": "markdown",
   "metadata": {},
   "source": [
    "Aufgabe: <br>\n",
    "Erklären sie wie sich der Repressor auf die Höhe des Gleichgewichtszustandes der Proteinkonzentration, $Proteinkonzentration_{GGW}$, und auf die Zeit die benötigt wird diesen zu erreichen auswirkt. Verändern sie dafür die Werte von \"R\" falls nötig. Beachten sie das die eingesetzten Werte reale Zahlen sein müssen und nicht ganze Zahlen. Falls sie die Werte verändern möchten, dann kopieren sie den oben stehnden Code Block und setzten sie diesen in den nachfolgenden Code Block ein. Verändern sie dann den Wert von R (R befindet sich im Bereich Konstanten).\n"
   ]
  },
  {
   "cell_type": "code",
   "execution_count": null,
   "metadata": {
    "dotnet_interactive": {
     "language": "fsharp"
    },
    "vscode": {
     "languageId": "dotnet-interactive.fsharp"
    }
   },
   "outputs": [],
   "source": [
    "//Code hierrein kopieren"
   ]
  },
  {
   "cell_type": "markdown",
   "metadata": {},
   "source": [
    "In diesen Block die Antwort schreiben"
   ]
  },
  {
   "cell_type": "markdown",
   "metadata": {},
   "source": [
    "Aufgabe: <br>\n",
    "In der Realität wird ein Gen schwach exprimiert, auch wenn die Expression des Gens durch einen Repressor gehemmt wird. Ergänze die Differenzialgleichungen für ein Protein dessen Produktion von einem Repressor inhibiert wird um einen Term $\\alpha$ der diese Grundgenexpression wiederspielt. Beachte dabei das $\\alpha$ nicht vom Repressor beeinflusst wird (setze $\\alpha$ als \"alpha\", ohne \"\", in die Gleichung ein).<br>\n",
    "Kopiere dafür den Code Block von oben in den nachfolgenden Code Block und ändere die Differenzialgleichung in diesem.\n",
    "\n"
   ]
  },
  {
   "cell_type": "code",
   "execution_count": null,
   "metadata": {
    "dotnet_interactive": {
     "language": "fsharp"
    },
    "vscode": {
     "languageId": "dotnet-interactive.fsharp"
    }
   },
   "outputs": [],
   "source": [
    "//Code hierrein kopieren\n",
    "//Anschliesend die Differenzialgleichung um alpha erweitern. Bitte beachten das sie alpha auch zu der Liste der Konstanten hinzufügen müssen\n",
    "//und dementsprechend alpha auch einen Wert zuweisen müssen."
   ]
  },
  {
   "cell_type": "markdown",
   "metadata": {},
   "source": [
    "Wie wirkt sich $\\alpha$ auf den Gleichgewichtszustand aus?"
   ]
  },
  {
   "cell_type": "markdown",
   "metadata": {},
   "source": [
    "In diesen Block die Antwort schreiben"
   ]
  },
  {
   "cell_type": "markdown",
   "metadata": {},
   "source": [
    "Es folgt eine kurze Besprechung. \n",
    "\n",
    "-----------"
   ]
  },
  {
   "cell_type": "markdown",
   "metadata": {},
   "source": [
    "Aufgabe:<br>\n",
    "Stelle die Differenzialgleichung für die Proteinproduktion auf, die von einem Aktivator reguliert wird. Beachte dabei das ein Aktivator gegensätzlich zu einem Repressor wirkt und daher der Faktor mit dem $beta$ multipliziert werden muss $\\frac {D_{gebunden}}{D_{total}}$ ist. Dies bedeutet das sie folgende Gleichung in diese Form umwandeln müssen\n",
    "$$k_{+}*(D_{gebunden}-D_{total})*R = k_{-}*D_{gebunden}$$\n",
    "und anschließend in die Differenzialgleichung für die Proteinproduktion einsetzen müssen\n",
    "$$ \\frac {dProteinkonzentration} {dt} = \\beta* \\frac {D_{gebunden}}{D_{total}}  - \\gamma*Proteinkonzentration$$ \n",
    "\n",
    "Falls sie Probleme mit dem Umformen haben, schauen sie sich noch einmal die Umformung für den Repressor an.\n",
    "\n",
    "Setze die Differenzialgleichungen für ein Protein das von einem Aktivator und die Differenzialgleichungen für ein Protein das von einem Repressor reguliert wird in das folgende Model ein (beachten sie dabei, das sie die Proteinkonzentration für die Gleichung die von einem Repressor beeinflusst wird \"Proteinkonzentration2, ohne \"\", nennen und die Proteinkonzentration für die Gleichung die von einem Aktivator beeinflusst wird \"Proteinkonzentration3, ohne \"\", nennen. Bechte ebenfalls das  $\\beta \\textrm{ und } \\gamma$ als \"beta\" und \"gamma\", ohne \"\", eingesetzt werden müssen und nicht als Symbole, und das $K_{D}$ als K_d eingesetzt wird)\n"
   ]
  },
  {
   "cell_type": "code",
   "execution_count": null,
   "metadata": {
    "dotnet_interactive": {
     "language": "fsharp"
    },
    "vscode": {
     "languageId": "dotnet-interactive.fsharp"
    }
   },
   "outputs": [
    {
     "data": {
      "text/html": [
       "\n",
       "<div>\n",
       "    <div id=\"13e64a0b-388a-41b4-a40a-593a026efeb3\"><!-- Plotly chart will be drawn inside this DIV --></div>\r\n",
       "<script type=\"text/javascript\">\r\n",
       "\r\n",
       "            var renderPlotly_13e64a0b388a41b4a40a593a026efeb3 = function() {\r\n",
       "            var fsharpPlotlyRequire = requirejs.config({context:'fsharp-plotly',paths:{plotly:'https://cdn.plot.ly/plotly-2.6.3.min'}}) || require;\r\n",
       "            fsharpPlotlyRequire(['plotly'], function(Plotly) {\r\n",
       "\r\n",
       "            var data = [{\"type\":\"scatter\",\"mode\":\"lines\",\"x\":[0.0,0.16754018383426839,0.30385368724207185,0.43426305380611857,0.5756163437764288,0.7343250454156267,0.9145558919561392,1.121130682724521,1.3608287762326567,1.6436030636662713],\"y\":[0.0,1.1345837080029038,1.562253362270299,1.771944138821064,1.8875148073136305,1.949129641156925,1.979340924994992,1.9926446706639112,1.9977797990128363,1.9994582936372451],\"marker\":{},\"line\":{\"shape\":\"spline\"},\"name\":\"Unreguliert\"},{\"type\":\"scatter\",\"mode\":\"lines\",\"x\":[0.0,0.16754018383426839,0.30385368724207185,0.43426305380611857,0.5756163437764288,0.7343250454156267,0.9145558919561392,1.121130682724521,1.3608287762326567,1.6436030636662713],\"y\":[0.0,0.1890972846671507,0.26037556037838316,0.29532402313684397,0.3145858012189384,0.32485494019282085,0.32989015416583206,0.33210744511065193,0.33296329983547274,0.3332430489395409],\"marker\":{},\"line\":{\"shape\":\"spline\"},\"name\":\"Repressor\"},{\"type\":\"scatter\",\"mode\":\"lines\",\"x\":[0.0,0.16754018383426839,0.30385368724207185,0.43426305380611857,0.5756163437764288,0.7343250454156267,0.9145558919561392,1.121130682724521,1.3608287762326567,1.6436030636662713],\"y\":[0.0,0.9454864233357532,1.3018778018919157,1.47662011568422,1.572929006094692,1.624274700964104,1.6494507708291601,1.6605372255532596,1.6648164991773635,1.6662152446977043],\"marker\":{},\"line\":{\"shape\":\"spline\"},\"name\":\"Aktivator\"}];\r\n",
       "            var layout = {\"width\":600,\"height\":600,\"template\":{\"layout\":{\"title\":{\"x\":0.05},\"font\":{\"color\":\"rgba(42, 63, 95, 1.0)\"},\"paper_bgcolor\":\"rgba(255, 255, 255, 1.0)\",\"plot_bgcolor\":\"rgba(229, 236, 246, 1.0)\",\"autotypenumbers\":\"strict\",\"colorscale\":{\"diverging\":[[0.0,\"#8e0152\"],[0.1,\"#c51b7d\"],[0.2,\"#de77ae\"],[0.3,\"#f1b6da\"],[0.4,\"#fde0ef\"],[0.5,\"#f7f7f7\"],[0.6,\"#e6f5d0\"],[0.7,\"#b8e186\"],[0.8,\"#7fbc41\"],[0.9,\"#4d9221\"],[1.0,\"#276419\"]],\"sequential\":[[0.0,\"#0d0887\"],[0.1111111111111111,\"#46039f\"],[0.2222222222222222,\"#7201a8\"],[0.3333333333333333,\"#9c179e\"],[0.4444444444444444,\"#bd3786\"],[0.5555555555555556,\"#d8576b\"],[0.6666666666666666,\"#ed7953\"],[0.7777777777777778,\"#fb9f3a\"],[0.8888888888888888,\"#fdca26\"],[1.0,\"#f0f921\"]],\"sequentialminus\":[[0.0,\"#0d0887\"],[0.1111111111111111,\"#46039f\"],[0.2222222222222222,\"#7201a8\"],[0.3333333333333333,\"#9c179e\"],[0.4444444444444444,\"#bd3786\"],[0.5555555555555556,\"#d8576b\"],[0.6666666666666666,\"#ed7953\"],[0.7777777777777778,\"#fb9f3a\"],[0.8888888888888888,\"#fdca26\"],[1.0,\"#f0f921\"]]},\"hovermode\":\"closest\",\"hoverlabel\":{\"align\":\"left\"},\"coloraxis\":{\"colorbar\":{\"outlinewidth\":0.0,\"ticks\":\"\"}},\"geo\":{\"showland\":true,\"landcolor\":\"rgba(229, 236, 246, 1.0)\",\"showlakes\":true,\"lakecolor\":\"rgba(255, 255, 255, 1.0)\",\"subunitcolor\":\"rgba(255, 255, 255, 1.0)\",\"bgcolor\":\"rgba(255, 255, 255, 1.0)\"},\"mapbox\":{\"style\":\"light\"},\"polar\":{\"bgcolor\":\"rgba(229, 236, 246, 1.0)\",\"radialaxis\":{\"linecolor\":\"rgba(255, 255, 255, 1.0)\",\"gridcolor\":\"rgba(255, 255, 255, 1.0)\",\"ticks\":\"\"},\"angularaxis\":{\"linecolor\":\"rgba(255, 255, 255, 1.0)\",\"gridcolor\":\"rgba(255, 255, 255, 1.0)\",\"ticks\":\"\"}},\"scene\":{\"xaxis\":{\"ticks\":\"\",\"linecolor\":\"rgba(255, 255, 255, 1.0)\",\"gridcolor\":\"rgba(255, 255, 255, 1.0)\",\"gridwidth\":2.0,\"zerolinecolor\":\"rgba(255, 255, 255, 1.0)\",\"backgroundcolor\":\"rgba(229, 236, 246, 1.0)\",\"showbackground\":true},\"yaxis\":{\"ticks\":\"\",\"linecolor\":\"rgba(255, 255, 255, 1.0)\",\"gridcolor\":\"rgba(255, 255, 255, 1.0)\",\"gridwidth\":2.0,\"zerolinecolor\":\"rgba(255, 255, 255, 1.0)\",\"backgroundcolor\":\"rgba(229, 236, 246, 1.0)\",\"showbackground\":true},\"zaxis\":{\"ticks\":\"\",\"linecolor\":\"rgba(255, 255, 255, 1.0)\",\"gridcolor\":\"rgba(255, 255, 255, 1.0)\",\"gridwidth\":2.0,\"zerolinecolor\":\"rgba(255, 255, 255, 1.0)\",\"backgroundcolor\":\"rgba(229, 236, 246, 1.0)\",\"showbackground\":true}},\"ternary\":{\"aaxis\":{\"ticks\":\"\",\"linecolor\":\"rgba(255, 255, 255, 1.0)\",\"gridcolor\":\"rgba(255, 255, 255, 1.0)\"},\"baxis\":{\"ticks\":\"\",\"linecolor\":\"rgba(255, 255, 255, 1.0)\",\"gridcolor\":\"rgba(255, 255, 255, 1.0)\"},\"caxis\":{\"ticks\":\"\",\"linecolor\":\"rgba(255, 255, 255, 1.0)\",\"gridcolor\":\"rgba(255, 255, 255, 1.0)\"},\"bgcolor\":\"rgba(229, 236, 246, 1.0)\"},\"xaxis\":{\"title\":{\"standoff\":15},\"ticks\":\"\",\"automargin\":true,\"linecolor\":\"rgba(255, 255, 255, 1.0)\",\"gridcolor\":\"rgba(255, 255, 255, 1.0)\",\"zerolinecolor\":\"rgba(255, 255, 255, 1.0)\",\"zerolinewidth\":2.0},\"yaxis\":{\"title\":{\"standoff\":15},\"ticks\":\"\",\"automargin\":true,\"linecolor\":\"rgba(255, 255, 255, 1.0)\",\"gridcolor\":\"rgba(255, 255, 255, 1.0)\",\"zerolinecolor\":\"rgba(255, 255, 255, 1.0)\",\"zerolinewidth\":2.0},\"annotationdefaults\":{\"arrowcolor\":\"#2a3f5f\",\"arrowhead\":0,\"arrowwidth\":1},\"shapedefaults\":{\"line\":{\"color\":\"rgba(42, 63, 95, 1.0)\"}},\"colorway\":[\"rgba(99, 110, 250, 1.0)\",\"rgba(239, 85, 59, 1.0)\",\"rgba(0, 204, 150, 1.0)\",\"rgba(171, 99, 250, 1.0)\",\"rgba(255, 161, 90, 1.0)\",\"rgba(25, 211, 243, 1.0)\",\"rgba(255, 102, 146, 1.0)\",\"rgba(182, 232, 128, 1.0)\",\"rgba(255, 151, 255, 1.0)\",\"rgba(254, 203, 82, 1.0)\"]},\"data\":{\"bar\":[{\"marker\":{\"line\":{\"color\":\"rgba(229, 236, 246, 1.0)\",\"width\":0.5},\"pattern\":{\"fillmode\":\"overlay\",\"size\":10,\"solidity\":0.2}},\"error_x\":{\"color\":\"rgba(42, 63, 95, 1.0)\"},\"error_y\":{\"color\":\"rgba(42, 63, 95, 1.0)\"}}],\"barpolar\":[{\"marker\":{\"line\":{\"color\":\"rgba(229, 236, 246, 1.0)\",\"width\":0.5},\"pattern\":{\"fillmode\":\"overlay\",\"size\":10,\"solidity\":0.2}}}],\"carpet\":[{\"aaxis\":{\"linecolor\":\"rgba(255, 255, 255, 1.0)\",\"gridcolor\":\"rgba(255, 255, 255, 1.0)\",\"endlinecolor\":\"rgba(42, 63, 95, 1.0)\",\"minorgridcolor\":\"rgba(255, 255, 255, 1.0)\",\"startlinecolor\":\"rgba(42, 63, 95, 1.0)\"},\"baxis\":{\"linecolor\":\"rgba(255, 255, 255, 1.0)\",\"gridcolor\":\"rgba(255, 255, 255, 1.0)\",\"endlinecolor\":\"rgba(42, 63, 95, 1.0)\",\"minorgridcolor\":\"rgba(255, 255, 255, 1.0)\",\"startlinecolor\":\"rgba(42, 63, 95, 1.0)\"}}],\"choropleth\":[{\"colorbar\":{\"outlinewidth\":0.0,\"ticks\":\"\"},\"colorscale\":[[0.0,\"#0d0887\"],[0.1111111111111111,\"#46039f\"],[0.2222222222222222,\"#7201a8\"],[0.3333333333333333,\"#9c179e\"],[0.4444444444444444,\"#bd3786\"],[0.5555555555555556,\"#d8576b\"],[0.6666666666666666,\"#ed7953\"],[0.7777777777777778,\"#fb9f3a\"],[0.8888888888888888,\"#fdca26\"],[1.0,\"#f0f921\"]]}],\"contour\":[{\"colorbar\":{\"outlinewidth\":0.0,\"ticks\":\"\"},\"colorscale\":[[0.0,\"#0d0887\"],[0.1111111111111111,\"#46039f\"],[0.2222222222222222,\"#7201a8\"],[0.3333333333333333,\"#9c179e\"],[0.4444444444444444,\"#bd3786\"],[0.5555555555555556,\"#d8576b\"],[0.6666666666666666,\"#ed7953\"],[0.7777777777777778,\"#fb9f3a\"],[0.8888888888888888,\"#fdca26\"],[1.0,\"#f0f921\"]]}],\"contourcarpet\":[{\"colorbar\":{\"outlinewidth\":0.0,\"ticks\":\"\"}}],\"heatmap\":[{\"colorbar\":{\"outlinewidth\":0.0,\"ticks\":\"\"},\"colorscale\":[[0.0,\"#0d0887\"],[0.1111111111111111,\"#46039f\"],[0.2222222222222222,\"#7201a8\"],[0.3333333333333333,\"#9c179e\"],[0.4444444444444444,\"#bd3786\"],[0.5555555555555556,\"#d8576b\"],[0.6666666666666666,\"#ed7953\"],[0.7777777777777778,\"#fb9f3a\"],[0.8888888888888888,\"#fdca26\"],[1.0,\"#f0f921\"]]}],\"heatmapgl\":[{\"colorbar\":{\"outlinewidth\":0.0,\"ticks\":\"\"},\"colorscale\":[[0.0,\"#0d0887\"],[0.1111111111111111,\"#46039f\"],[0.2222222222222222,\"#7201a8\"],[0.3333333333333333,\"#9c179e\"],[0.4444444444444444,\"#bd3786\"],[0.5555555555555556,\"#d8576b\"],[0.6666666666666666,\"#ed7953\"],[0.7777777777777778,\"#fb9f3a\"],[0.8888888888888888,\"#fdca26\"],[1.0,\"#f0f921\"]]}],\"histogram\":[{\"marker\":{\"pattern\":{\"fillmode\":\"overlay\",\"size\":10,\"solidity\":0.2}}}],\"histogram2d\":[{\"colorbar\":{\"outlinewidth\":0.0,\"ticks\":\"\"},\"colorscale\":[[0.0,\"#0d0887\"],[0.1111111111111111,\"#46039f\"],[0.2222222222222222,\"#7201a8\"],[0.3333333333333333,\"#9c179e\"],[0.4444444444444444,\"#bd3786\"],[0.5555555555555556,\"#d8576b\"],[0.6666666666666666,\"#ed7953\"],[0.7777777777777778,\"#fb9f3a\"],[0.8888888888888888,\"#fdca26\"],[1.0,\"#f0f921\"]]}],\"histogram2dcontour\":[{\"colorbar\":{\"outlinewidth\":0.0,\"ticks\":\"\"},\"colorscale\":[[0.0,\"#0d0887\"],[0.1111111111111111,\"#46039f\"],[0.2222222222222222,\"#7201a8\"],[0.3333333333333333,\"#9c179e\"],[0.4444444444444444,\"#bd3786\"],[0.5555555555555556,\"#d8576b\"],[0.6666666666666666,\"#ed7953\"],[0.7777777777777778,\"#fb9f3a\"],[0.8888888888888888,\"#fdca26\"],[1.0,\"#f0f921\"]]}],\"mesh3d\":[{\"colorbar\":{\"outlinewidth\":0.0,\"ticks\":\"\"}}],\"parcoords\":[{\"line\":{\"colorbar\":{\"outlinewidth\":0.0,\"ticks\":\"\"}}}],\"pie\":[{\"automargin\":true}],\"scatter\":[{\"marker\":{\"colorbar\":{\"outlinewidth\":0.0,\"ticks\":\"\"}}}],\"scatter3d\":[{\"marker\":{\"colorbar\":{\"outlinewidth\":0.0,\"ticks\":\"\"}},\"line\":{\"colorbar\":{\"outlinewidth\":0.0,\"ticks\":\"\"}}}],\"scattercarpet\":[{\"marker\":{\"colorbar\":{\"outlinewidth\":0.0,\"ticks\":\"\"}}}],\"scattergeo\":[{\"marker\":{\"colorbar\":{\"outlinewidth\":0.0,\"ticks\":\"\"}}}],\"scattergl\":[{\"marker\":{\"colorbar\":{\"outlinewidth\":0.0,\"ticks\":\"\"}}}],\"scattermapbox\":[{\"marker\":{\"colorbar\":{\"outlinewidth\":0.0,\"ticks\":\"\"}}}],\"scatterpolar\":[{\"marker\":{\"colorbar\":{\"outlinewidth\":0.0,\"ticks\":\"\"}}}],\"scatterpolargl\":[{\"marker\":{\"colorbar\":{\"outlinewidth\":0.0,\"ticks\":\"\"}}}],\"scatterternary\":[{\"marker\":{\"colorbar\":{\"outlinewidth\":0.0,\"ticks\":\"\"}}}],\"surface\":[{\"colorbar\":{\"outlinewidth\":0.0,\"ticks\":\"\"},\"colorscale\":[[0.0,\"#0d0887\"],[0.1111111111111111,\"#46039f\"],[0.2222222222222222,\"#7201a8\"],[0.3333333333333333,\"#9c179e\"],[0.4444444444444444,\"#bd3786\"],[0.5555555555555556,\"#d8576b\"],[0.6666666666666666,\"#ed7953\"],[0.7777777777777778,\"#fb9f3a\"],[0.8888888888888888,\"#fdca26\"],[1.0,\"#f0f921\"]]}],\"table\":[{\"cells\":{\"fill\":{\"color\":\"rgba(235, 240, 248, 1.0)\"},\"line\":{\"color\":\"rgba(255, 255, 255, 1.0)\"}},\"header\":{\"fill\":{\"color\":\"rgba(200, 212, 227, 1.0)\"},\"line\":{\"color\":\"rgba(255, 255, 255, 1.0)\"}}}]}},\"xaxis\":{\"title\":{\"text\":\"Zeit\"}},\"yaxis\":{\"title\":{\"text\":\"Proteinkonzentration\"}}};\r\n",
       "            var config = {\"responsive\":true};\r\n",
       "            Plotly.newPlot('13e64a0b-388a-41b4-a40a-593a026efeb3', data, layout, config);\r\n",
       "});\r\n",
       "            };\r\n",
       "            if ((typeof(requirejs) !==  typeof(Function)) || (typeof(requirejs.config) !== typeof(Function))) {\r\n",
       "                var script = document.createElement(\"script\");\r\n",
       "                script.setAttribute(\"src\", \"https://cdnjs.cloudflare.com/ajax/libs/require.js/2.3.6/require.min.js\");\r\n",
       "                script.onload = function(){\r\n",
       "                    renderPlotly_13e64a0b388a41b4a40a593a026efeb3();\r\n",
       "                };\r\n",
       "                document.getElementsByTagName(\"head\")[0].appendChild(script);\r\n",
       "            }\r\n",
       "            else {\r\n",
       "                renderPlotly_13e64a0b388a41b4a40a593a026efeb3();\r\n",
       "            }\r\n",
       "</script>\r\n",
       "\n",
       "    \n",
       "</div>    \n"
      ]
     },
     "metadata": {},
     "output_type": "display_data"
    }
   ],
   "source": [
    "\n",
    "\n",
    "//Konstanten\n",
    "let beta =    10.  // Konstante für die Zunahme der Proteinkonzentration\n",
    "let gamma =   5.   // Konstante für die Verringerung der Proteinkonzentration\n",
    "let K_d =     2.   // Repressorkonzentration bei der die Proteinproduktion um die Hälfte reduziert ist\n",
    "let R =       10.  // Repressorkonzentration\n",
    "let A =       10.  // Aktivatorexpression \n",
    "\n",
    "// unsere DGL als  Modell (Model)\n",
    "let dP_dt : Model = \n",
    "    fun P t ->\n",
    "\n",
    "        let Proteinkonzentration1 = P[0] // Änderung in der Proteinmenge (unreguliert)\n",
    "        let Proteinkonzentration2 = P[1] // Änderung in der Proteinmenge (reguliert durch Repressor)\n",
    "        let Proteinkonzentration3 = P[2] // Änderung in der Proteinmenge (reguliert durch Aktivator)\n",
    "        //Änderung der Proteinkonzentration ohne einen Repressor\n",
    "        let Proteinkonzentration1' = beta - (gamma*Proteinkonzentration1)\n",
    "        // Änderung des Proteinkonzentration unter Einfluß von einem Repressor (hier die Gleichung für die Proteinproduktion reguliert durch einen Repressor einfügen)\n",
    "        let Proteinkonzentration2' = beta * 1./(1.+(R/K_d)) - (gamma*Proteinkonzentration2)\n",
    "        // Änderung des Proteinkonzentration unter Einfluß von einem Aktivator (hier die Gleichung für die Proteinproduktion reguliert durch einen Aktivator einfügen)\n",
    "        let Proteinkonzentration3' = beta * 1./(1.+(K_d/A)) - (gamma*Proteinkonzentration3)\n",
    "\n",
    "        [| Proteinkonzentration1'; Proteinkonzentration2';Proteinkonzentration3' |]\n",
    "\n",
    "//Startkonzentrationen\n",
    "let P0 = [| \n",
    "    0.0\n",
    "    0.0\n",
    "    0.0  \n",
    "|]\n",
    "\n",
    "// Simulation der Modelfuntkion\n",
    "let Ps = \n",
    "    modelContext.OdeInt(\n",
    "        0., // Startzeitpunkt\n",
    "        P0,\n",
    "        dP_dt\n",
    "    )\n",
    "    |> SolPoints.take 10 // Anzahl der Zeitpunkte\n",
    "    |> SolPoints.memorize \n",
    "\n",
    "//Graphische Darstellung der numerischen Lösung\n",
    "[\n",
    "    let proteins = Ps |> SolPoints.toPoints 1 \n",
    "    proteins |> Chart.Spline \n",
    "    |> Chart.withTraceInfo(\"Unreguliert\");\n",
    "    let proteinsregulatedbyrep = Ps |> SolPoints.toPoints 2 \n",
    "    proteinsregulatedbyrep|> Chart.Spline \n",
    "    |> Chart.withTraceInfo(\"Repressor\");\n",
    "    let proteinsregulatedbyakt = Ps |> SolPoints.toPoints 3 \n",
    "    proteinsregulatedbyakt|> Chart.Spline \n",
    "    |> Chart.withTraceInfo(\"Aktivator\");\n",
    "]\n",
    "\n",
    "|> Chart.combine\n",
    "|> Chart.withXAxisStyle(\"Zeit\")\n",
    "|> Chart.withYAxisStyle(\"Proteinkonzentration\")"
   ]
  },
  {
   "cell_type": "markdown",
   "metadata": {},
   "source": [
    "\n",
    "\n",
    "Aufgabe: <br>\n",
    "Aktivator und Repressor führen beide zu einer Verringerung der maximalen Genexpression. Wenn allerdings beide zum selben Ergebnis führen, warum gibt es dann beides? Erklären sie, warum mache Gene eher von einem Aktivator reguliert werden sollten als von einem Repressor und umgekehrt.\n",
    "\n",
    "Nutzen sie für die beantwortung dieser Frage Literaturquellen, falls sie die Antwort nicht wissen sollten.\n",
    "Sie können selber nach passenden Literaturquellen suchen oder die nachfolgenden zwei nutzen:<br>\n",
    "https://www.ncbi.nlm.nih.gov/pmc/articles/PMC388476/ <br>\n",
    "https://www.pnas.org/doi/full/10.1073/pnas.0506610103\n",
    "\n",
    "Anmerkungen: Die Antworten die beide Quellen auf die Frage geben unterscheidet sich, es ist wissenschaftlich bisher noch nicht geklärt welche der Antworten die korrekte ist (es ist ausreichend wenn sie eine der beiden Antworten geben).\n"
   ]
  },
  {
   "cell_type": "markdown",
   "metadata": {},
   "source": [
    "Hier die Antwort eintragen."
   ]
  },
  {
   "cell_type": "markdown",
   "metadata": {},
   "source": [
    "Es folgt eine kurze Besprechung. Falls sie zu schnell vorangekommen sind, schauen sie sich bitte die zweite Quelle und Erklärungsmöglichkeit an."
   ]
  },
  {
   "cell_type": "markdown",
   "metadata": {},
   "source": [
    "### Autoregulation\n",
    "\n",
    "#### Negative Autoregulation\n",
    "\n",
    "Neben der Fähigkeit von Repressoren die Produktion von bestimmten Proteinen zu regulieren, sind viele auch dazu in der Lage sich selbst zu regulieren. Ein Beispiel dafür ist der Repressor LacI, der nicht nur die Expression des Lac Operons begrenzt sondern auch seine eigene. Dies wird im folgenden negative Autoregulation genannt, ein anderer Namen dafür ist auch negativer Feedbackloop (wobei dieser Ausdruck allgemeiner ist und auch für mehrere Proteine verwendet werden kann). Die Differenzialgleichung, die diesen Prozess beschreibt ist analog zu der von der Proteinkonzentration die von einem Repressor reguliert wird, nur das die Repressorkonzentration ersetzt wird mit der Proteinkonzentration, also\n",
    "$$ \\frac {dProteinkonzentration} {dt} = \\beta* \\frac {1}{1+ \\frac {Proteinkonzentration}{K_{D}}}  - \\gamma*Proteinkonzentration$$\n",
    "\n",
    "Aber warum sollte ein Protein seine eigene Produktion durch Autoregulation dämpfen? Wäre es nicht deutlich einfach die maximale Reproduktionsrate $\\beta$ zu verringern, da eine Verringerung von $\\beta$ (oder eine Zunahme von $\\gamma$) zu einem geringerem $Proteinkonezntation_{GGW}$ führt (wie bereits bei Frage 2 bearbeitet)? Um diese Frage zu beantworten ist es nötig sich die Zeit anzusehen die benötigt wird um das $Proteinkonezntation_{GGW}$ zu erreichen. Das folgende Model zeigt wie sich die Proteinkonzentration, für ein Protein das ohne weitere Einflüße expremiert wird (also ohne Eigenregulation, oder Repressor/ Aktivator), verhält für verschiedene Werte von $\\beta$ und $\\gamma$. Beachte dabei das wenn $\\beta$ varriert wird (Graph 1) gamma konstant bleibt, und wenn $\\gamma$ varriert wird (Graph 2)  $\\beta$ konstant bleibt.\n"
   ]
  },
  {
   "cell_type": "code",
   "execution_count": null,
   "metadata": {
    "dotnet_interactive": {
     "language": "fsharp"
    },
    "vscode": {
     "languageId": "dotnet-interactive.fsharp"
    }
   },
   "outputs": [
    {
     "data": {
      "text/html": [
       "\n",
       "<div>\n",
       "    <div id=\"39415d0a-6f11-48b1-981c-7cbf3e1be5ff\"><!-- Plotly chart will be drawn inside this DIV --></div>\r\n",
       "<script type=\"text/javascript\">\r\n",
       "\r\n",
       "            var renderPlotly_39415d0a6f1148b1981c7cbf3e1be5ff = function() {\r\n",
       "            var fsharpPlotlyRequire = requirejs.config({context:'fsharp-plotly',paths:{plotly:'https://cdn.plot.ly/plotly-2.6.3.min'}}) || require;\r\n",
       "            fsharpPlotlyRequire(['plotly'], function(Plotly) {\r\n",
       "\r\n",
       "            var data = [{\"type\":\"scatter\",\"mode\":\"lines\",\"x\":[0.0,0.05818463850034437,0.10801321248431038,0.15718845656729766,0.21174404887888298,0.27432484889493725,0.3470308344122129,0.43260596039447397,0.5350363651682183,0.6598265072245851,0.8132648459392408,1.0008467438446806,1.2273728392459453,1.4984201560713353,1.821506213637569],\"y\":[0.0,0.025954913620068906,0.04385311878855047,0.05834301266317583,0.07141133910933947,0.08327859667085524,0.0938071077301669,0.10284884618814477,0.11029529474345638,0.11607366590202539,0.12016805108975773,0.1227182990358915,0.12407794692207506,0.12468810868310008,0.12491422823205672],\"marker\":{},\"line\":{\"shape\":\"spline\"},\"name\":\"beta = 0.5\",\"xaxis\":\"x\",\"yaxis\":\"y\"},{\"type\":\"scatter\",\"mode\":\"lines\",\"x\":[0.0,0.05818463850034437,0.10801321248431038,0.15718845656729766,0.21174404887888298,0.27432484889493725,0.3470308344122129,0.43260596039447397,0.5350363651682183,0.6598265072245851,0.8132648459392408,1.0008467438446806,1.2273728392459453,1.4984201560713353,1.821506213637569],\"y\":[0.0,0.05190982724013781,0.08770623757710094,0.11668602532635167,0.14282267821867894,0.16655719334171049,0.1876142154603338,0.20569769237628954,0.22059058948691276,0.23214733180405078,0.24033610217951545,0.245436598071783,0.24815589384415013,0.24937621736620016,0.24982845646411345],\"marker\":{},\"line\":{\"shape\":\"spline\"},\"name\":\"beta = 1.0\",\"xaxis\":\"x\",\"yaxis\":\"y\"},{\"type\":\"scatter\",\"mode\":\"lines\",\"x\":[0.0,0.05818463850034437,0.10801321248431038,0.15718845656729766,0.21174404887888298,0.27432484889493725,0.3470308344122129,0.43260596039447397,0.5350363651682183,0.6598265072245851,0.8132648459392408,1.0008467438446806,1.2273728392459453,1.4984201560713353,1.821506213637569],\"y\":[0.0,0.10381965448027562,0.17541247515420189,0.23337205065270333,0.2856453564373579,0.33311438668342097,0.3752284309206676,0.4113953847525791,0.4411811789738255,0.46429466360810157,0.4806722043590309,0.490873196143566,0.49631178768830025,0.49875243473240033,0.4996569129282269],\"marker\":{\"color\":\"rgba(34, 139, 34, 1.0)\"},\"line\":{\"shape\":\"spline\"},\"name\":\"beta = 2.0\",\"xaxis\":\"x\",\"yaxis\":\"y\"},{\"type\":\"scatter\",\"mode\":\"lines\",\"x\":[0.0,0.05818463850034437,0.10801321248431038,0.15718845656729766,0.21174404887888298,0.27432484889493725,0.3470308344122129,0.43260596039447397,0.5350363651682183,0.6598265072245851,0.8132648459392408,1.0008467438446806,1.2273728392459453,1.4984201560713353,1.821506213637569],\"y\":[0.0,0.20763930896055124,0.35082495030840377,0.46674410130540667,0.5712907128747158,0.6662287733668419,0.7504568618413352,0.8227907695051582,0.882362357947651,0.9285893272162031,0.9613444087180618,0.981746392287132,0.9926235753766005,0.9975048694648007,0.9993138258564538],\"marker\":{},\"line\":{\"shape\":\"spline\"},\"name\":\"beta = 4.0\",\"xaxis\":\"x\",\"yaxis\":\"y\"},{\"type\":\"scatter\",\"mode\":\"markers\",\"x\":[0.17328679513998632],\"y\":[0.0625],\"marker\":{\"color\":\"rgba(0, 0, 255, 1.0)\"},\"line\":{},\"name\":\"beta = 0.5\",\"xaxis\":\"x\",\"yaxis\":\"y\"},{\"type\":\"scatter\",\"mode\":\"markers\",\"x\":[0.17328679513998632],\"y\":[0.125],\"marker\":{\"color\":\"rgba(255, 0, 0, 1.0)\"},\"line\":{},\"name\":\"beta = 1.0\",\"xaxis\":\"x\",\"yaxis\":\"y\"},{\"type\":\"scatter\",\"mode\":\"markers\",\"x\":[0.17328679513998632],\"y\":[0.25],\"marker\":{\"color\":\"rgba(0, 128, 0, 1.0)\"},\"line\":{},\"name\":\"beta = 2.0\",\"xaxis\":\"x\",\"yaxis\":\"y\"},{\"type\":\"scatter\",\"mode\":\"markers\",\"x\":[0.17328679513998632],\"y\":[0.5],\"marker\":{\"color\":\"rgba(128, 0, 128, 1.0)\"},\"line\":{},\"name\":\"beta = 4.0\",\"xaxis\":\"x\",\"yaxis\":\"y\"},{\"type\":\"scatter\",\"mode\":\"lines\",\"x\":[0.0,0.05818463850034437,0.10801321248431038,0.15718845656729766,0.21174404887888298,0.27432484889493725,0.3470308344122129,0.43260596039447397,0.5350363651682183,0.6598265072245851,0.8132648459392408,1.0008467438446806,1.2273728392459453,1.4984201560713353,1.821506213637569],\"y\":[0.0,0.10985354830298563,0.1942859897403927,0.26975626259196517,0.3452410317998292,0.4222706075443229,0.5004570363731689,0.5790376698750546,0.6570164338261836,0.7327720013107726,0.8033893350578291,0.8648937667114892,0.9141150629630407,0.9500555115236421,0.9738267677657519],\"marker\":{\"color\":\"rgba(148, 0, 211, 1.0)\"},\"line\":{\"shape\":\"spline\"},\"name\":\"gamma = 2.\",\"xaxis\":\"x2\",\"yaxis\":\"y2\"},{\"type\":\"scatter\",\"mode\":\"lines\",\"x\":[0.0,0.05818463850034437,0.10801321248431038,0.15718845656729766,0.21174404887888298,0.27432484889493725,0.3470308344122129,0.43260596039447397,0.5350363651682183,0.6598265072245851,0.8132648459392408,1.0008467438446806,1.2273728392459453,1.4984201560713353,1.821506213637569],\"y\":[0.0,0.10381965448027562,0.17541247515420189,0.23337205065270333,0.2856453564373579,0.33311438668342097,0.3752284309206676,0.4113953847525791,0.4411811789738255,0.46429466360810157,0.4806722043590309,0.490873196143566,0.49631178768830025,0.49875243473240033,0.4996569129282269],\"marker\":{\"color\":\"rgba(34, 139, 34, 1.0)\"},\"line\":{\"shape\":\"spline\"},\"name\":\"gamma = 4.\",\"xaxis\":\"x2\",\"yaxis\":\"y2\"},{\"type\":\"scatter\",\"mode\":\"lines\",\"x\":[0.0,0.05818463850034437,0.10801321248431038,0.15718845656729766,0.21174404887888298,0.27432484889493725,0.3470308344122129,0.43260596039447397,0.5350363651682183,0.6598265072245851,0.8132648459392408,1.0008467438446806,1.2273728392459453,1.4984201560713353,1.821506213637569],\"y\":[0.0,0.0930412592207733,0.1446430613037635,0.17890964352900654,0.2040521825901601,0.22214928142099788,0.2344321372199477,0.24214928291960605,0.2465403499580324,0.2487250007366873,0.24962608354655372,0.2499161482076163,0.249985852934533,0.24999809130107967,0.24999971609822097],\"marker\":{\"color\":\"rgba(255, 0, 0, 1.0)\"},\"line\":{\"shape\":\"spline\"},\"name\":\"gamma = 8.\",\"xaxis\":\"x2\",\"yaxis\":\"y2\"},{\"type\":\"scatter\",\"mode\":\"lines\",\"x\":[0.0,0.05818463850034437,0.10801321248431038,0.15718845656729766,0.21174404887888298,0.27432484889493725,0.3470308344122129,0.43260596039447397,0.5350363651682183,0.6598265072245851,0.8132648459392408,1.0008467438446806,1.2273728392459453,1.4984201560713353,1.821506213637569],\"y\":[0.0,0.07572567978769201,0.10279874933327757,0.11489180642062191,0.12077729904308021,0.12344840285406095,0.1245149568361754,0.12487635316219278,0.12497567660850875,0.12499642491005888,0.12499951195089147,0.12499987221054877,0.12499989518282312,0.1249997123993377,0.12499740766888073],\"marker\":{\"color\":\"rgba(0, 0, 255, 1.0)\"},\"line\":{\"shape\":\"spline\"},\"name\":\"gamma = 16.\",\"xaxis\":\"x2\",\"yaxis\":\"y2\"},{\"type\":\"scatter\",\"mode\":\"markers\",\"x\":[0.34657359027997264],\"y\":[0.5],\"marker\":{\"color\":\"rgba(148, 0, 211, 1.0)\"},\"line\":{},\"name\":\"gamma = 2.\",\"xaxis\":\"x2\",\"yaxis\":\"y2\"},{\"type\":\"scatter\",\"mode\":\"markers\",\"x\":[0.17328679513998632],\"y\":[0.25],\"marker\":{\"color\":\"rgba(0, 128, 0, 1.0)\"},\"line\":{},\"name\":\"gamma = 4.0\",\"xaxis\":\"x2\",\"yaxis\":\"y2\"},{\"type\":\"scatter\",\"mode\":\"markers\",\"x\":[0.08664339756999316],\"y\":[0.125],\"marker\":{\"color\":\"rgba(255, 0, 0, 1.0)\"},\"line\":{},\"name\":\"gamma = 8.0\",\"xaxis\":\"x2\",\"yaxis\":\"y2\"},{\"type\":\"scatter\",\"mode\":\"markers\",\"x\":[0.04332169878499658],\"y\":[0.0625],\"marker\":{\"color\":\"rgba(0, 0, 255, 1.0)\"},\"line\":{},\"name\":\"gamma = 16.0\",\"xaxis\":\"x2\",\"yaxis\":\"y2\"}];\r\n",
       "            var layout = {\"width\":1000,\"height\":500,\"template\":{\"layout\":{\"title\":{\"x\":0.05},\"font\":{\"color\":\"rgba(42, 63, 95, 1.0)\"},\"paper_bgcolor\":\"rgba(255, 255, 255, 1.0)\",\"plot_bgcolor\":\"rgba(229, 236, 246, 1.0)\",\"autotypenumbers\":\"strict\",\"colorscale\":{\"diverging\":[[0.0,\"#8e0152\"],[0.1,\"#c51b7d\"],[0.2,\"#de77ae\"],[0.3,\"#f1b6da\"],[0.4,\"#fde0ef\"],[0.5,\"#f7f7f7\"],[0.6,\"#e6f5d0\"],[0.7,\"#b8e186\"],[0.8,\"#7fbc41\"],[0.9,\"#4d9221\"],[1.0,\"#276419\"]],\"sequential\":[[0.0,\"#0d0887\"],[0.1111111111111111,\"#46039f\"],[0.2222222222222222,\"#7201a8\"],[0.3333333333333333,\"#9c179e\"],[0.4444444444444444,\"#bd3786\"],[0.5555555555555556,\"#d8576b\"],[0.6666666666666666,\"#ed7953\"],[0.7777777777777778,\"#fb9f3a\"],[0.8888888888888888,\"#fdca26\"],[1.0,\"#f0f921\"]],\"sequentialminus\":[[0.0,\"#0d0887\"],[0.1111111111111111,\"#46039f\"],[0.2222222222222222,\"#7201a8\"],[0.3333333333333333,\"#9c179e\"],[0.4444444444444444,\"#bd3786\"],[0.5555555555555556,\"#d8576b\"],[0.6666666666666666,\"#ed7953\"],[0.7777777777777778,\"#fb9f3a\"],[0.8888888888888888,\"#fdca26\"],[1.0,\"#f0f921\"]]},\"hovermode\":\"closest\",\"hoverlabel\":{\"align\":\"left\"},\"coloraxis\":{\"colorbar\":{\"outlinewidth\":0.0,\"ticks\":\"\"}},\"geo\":{\"showland\":true,\"landcolor\":\"rgba(229, 236, 246, 1.0)\",\"showlakes\":true,\"lakecolor\":\"rgba(255, 255, 255, 1.0)\",\"subunitcolor\":\"rgba(255, 255, 255, 1.0)\",\"bgcolor\":\"rgba(255, 255, 255, 1.0)\"},\"mapbox\":{\"style\":\"light\"},\"polar\":{\"bgcolor\":\"rgba(229, 236, 246, 1.0)\",\"radialaxis\":{\"linecolor\":\"rgba(255, 255, 255, 1.0)\",\"gridcolor\":\"rgba(255, 255, 255, 1.0)\",\"ticks\":\"\"},\"angularaxis\":{\"linecolor\":\"rgba(255, 255, 255, 1.0)\",\"gridcolor\":\"rgba(255, 255, 255, 1.0)\",\"ticks\":\"\"}},\"scene\":{\"xaxis\":{\"ticks\":\"\",\"linecolor\":\"rgba(255, 255, 255, 1.0)\",\"gridcolor\":\"rgba(255, 255, 255, 1.0)\",\"gridwidth\":2.0,\"zerolinecolor\":\"rgba(255, 255, 255, 1.0)\",\"backgroundcolor\":\"rgba(229, 236, 246, 1.0)\",\"showbackground\":true},\"yaxis\":{\"ticks\":\"\",\"linecolor\":\"rgba(255, 255, 255, 1.0)\",\"gridcolor\":\"rgba(255, 255, 255, 1.0)\",\"gridwidth\":2.0,\"zerolinecolor\":\"rgba(255, 255, 255, 1.0)\",\"backgroundcolor\":\"rgba(229, 236, 246, 1.0)\",\"showbackground\":true},\"zaxis\":{\"ticks\":\"\",\"linecolor\":\"rgba(255, 255, 255, 1.0)\",\"gridcolor\":\"rgba(255, 255, 255, 1.0)\",\"gridwidth\":2.0,\"zerolinecolor\":\"rgba(255, 255, 255, 1.0)\",\"backgroundcolor\":\"rgba(229, 236, 246, 1.0)\",\"showbackground\":true}},\"ternary\":{\"aaxis\":{\"ticks\":\"\",\"linecolor\":\"rgba(255, 255, 255, 1.0)\",\"gridcolor\":\"rgba(255, 255, 255, 1.0)\"},\"baxis\":{\"ticks\":\"\",\"linecolor\":\"rgba(255, 255, 255, 1.0)\",\"gridcolor\":\"rgba(255, 255, 255, 1.0)\"},\"caxis\":{\"ticks\":\"\",\"linecolor\":\"rgba(255, 255, 255, 1.0)\",\"gridcolor\":\"rgba(255, 255, 255, 1.0)\"},\"bgcolor\":\"rgba(229, 236, 246, 1.0)\"},\"xaxis\":{\"title\":{\"standoff\":15},\"ticks\":\"\",\"automargin\":true,\"linecolor\":\"rgba(255, 255, 255, 1.0)\",\"gridcolor\":\"rgba(255, 255, 255, 1.0)\",\"zerolinecolor\":\"rgba(255, 255, 255, 1.0)\",\"zerolinewidth\":2.0},\"yaxis\":{\"title\":{\"standoff\":15},\"ticks\":\"\",\"automargin\":true,\"linecolor\":\"rgba(255, 255, 255, 1.0)\",\"gridcolor\":\"rgba(255, 255, 255, 1.0)\",\"zerolinecolor\":\"rgba(255, 255, 255, 1.0)\",\"zerolinewidth\":2.0},\"annotationdefaults\":{\"arrowcolor\":\"#2a3f5f\",\"arrowhead\":0,\"arrowwidth\":1},\"shapedefaults\":{\"line\":{\"color\":\"rgba(42, 63, 95, 1.0)\"}},\"colorway\":[\"rgba(99, 110, 250, 1.0)\",\"rgba(239, 85, 59, 1.0)\",\"rgba(0, 204, 150, 1.0)\",\"rgba(171, 99, 250, 1.0)\",\"rgba(255, 161, 90, 1.0)\",\"rgba(25, 211, 243, 1.0)\",\"rgba(255, 102, 146, 1.0)\",\"rgba(182, 232, 128, 1.0)\",\"rgba(255, 151, 255, 1.0)\",\"rgba(254, 203, 82, 1.0)\"]},\"data\":{\"bar\":[{\"marker\":{\"line\":{\"color\":\"rgba(229, 236, 246, 1.0)\",\"width\":0.5},\"pattern\":{\"fillmode\":\"overlay\",\"size\":10,\"solidity\":0.2}},\"error_x\":{\"color\":\"rgba(42, 63, 95, 1.0)\"},\"error_y\":{\"color\":\"rgba(42, 63, 95, 1.0)\"}}],\"barpolar\":[{\"marker\":{\"line\":{\"color\":\"rgba(229, 236, 246, 1.0)\",\"width\":0.5},\"pattern\":{\"fillmode\":\"overlay\",\"size\":10,\"solidity\":0.2}}}],\"carpet\":[{\"aaxis\":{\"linecolor\":\"rgba(255, 255, 255, 1.0)\",\"gridcolor\":\"rgba(255, 255, 255, 1.0)\",\"endlinecolor\":\"rgba(42, 63, 95, 1.0)\",\"minorgridcolor\":\"rgba(255, 255, 255, 1.0)\",\"startlinecolor\":\"rgba(42, 63, 95, 1.0)\"},\"baxis\":{\"linecolor\":\"rgba(255, 255, 255, 1.0)\",\"gridcolor\":\"rgba(255, 255, 255, 1.0)\",\"endlinecolor\":\"rgba(42, 63, 95, 1.0)\",\"minorgridcolor\":\"rgba(255, 255, 255, 1.0)\",\"startlinecolor\":\"rgba(42, 63, 95, 1.0)\"}}],\"choropleth\":[{\"colorbar\":{\"outlinewidth\":0.0,\"ticks\":\"\"},\"colorscale\":[[0.0,\"#0d0887\"],[0.1111111111111111,\"#46039f\"],[0.2222222222222222,\"#7201a8\"],[0.3333333333333333,\"#9c179e\"],[0.4444444444444444,\"#bd3786\"],[0.5555555555555556,\"#d8576b\"],[0.6666666666666666,\"#ed7953\"],[0.7777777777777778,\"#fb9f3a\"],[0.8888888888888888,\"#fdca26\"],[1.0,\"#f0f921\"]]}],\"contour\":[{\"colorbar\":{\"outlinewidth\":0.0,\"ticks\":\"\"},\"colorscale\":[[0.0,\"#0d0887\"],[0.1111111111111111,\"#46039f\"],[0.2222222222222222,\"#7201a8\"],[0.3333333333333333,\"#9c179e\"],[0.4444444444444444,\"#bd3786\"],[0.5555555555555556,\"#d8576b\"],[0.6666666666666666,\"#ed7953\"],[0.7777777777777778,\"#fb9f3a\"],[0.8888888888888888,\"#fdca26\"],[1.0,\"#f0f921\"]]}],\"contourcarpet\":[{\"colorbar\":{\"outlinewidth\":0.0,\"ticks\":\"\"}}],\"heatmap\":[{\"colorbar\":{\"outlinewidth\":0.0,\"ticks\":\"\"},\"colorscale\":[[0.0,\"#0d0887\"],[0.1111111111111111,\"#46039f\"],[0.2222222222222222,\"#7201a8\"],[0.3333333333333333,\"#9c179e\"],[0.4444444444444444,\"#bd3786\"],[0.5555555555555556,\"#d8576b\"],[0.6666666666666666,\"#ed7953\"],[0.7777777777777778,\"#fb9f3a\"],[0.8888888888888888,\"#fdca26\"],[1.0,\"#f0f921\"]]}],\"heatmapgl\":[{\"colorbar\":{\"outlinewidth\":0.0,\"ticks\":\"\"},\"colorscale\":[[0.0,\"#0d0887\"],[0.1111111111111111,\"#46039f\"],[0.2222222222222222,\"#7201a8\"],[0.3333333333333333,\"#9c179e\"],[0.4444444444444444,\"#bd3786\"],[0.5555555555555556,\"#d8576b\"],[0.6666666666666666,\"#ed7953\"],[0.7777777777777778,\"#fb9f3a\"],[0.8888888888888888,\"#fdca26\"],[1.0,\"#f0f921\"]]}],\"histogram\":[{\"marker\":{\"pattern\":{\"fillmode\":\"overlay\",\"size\":10,\"solidity\":0.2}}}],\"histogram2d\":[{\"colorbar\":{\"outlinewidth\":0.0,\"ticks\":\"\"},\"colorscale\":[[0.0,\"#0d0887\"],[0.1111111111111111,\"#46039f\"],[0.2222222222222222,\"#7201a8\"],[0.3333333333333333,\"#9c179e\"],[0.4444444444444444,\"#bd3786\"],[0.5555555555555556,\"#d8576b\"],[0.6666666666666666,\"#ed7953\"],[0.7777777777777778,\"#fb9f3a\"],[0.8888888888888888,\"#fdca26\"],[1.0,\"#f0f921\"]]}],\"histogram2dcontour\":[{\"colorbar\":{\"outlinewidth\":0.0,\"ticks\":\"\"},\"colorscale\":[[0.0,\"#0d0887\"],[0.1111111111111111,\"#46039f\"],[0.2222222222222222,\"#7201a8\"],[0.3333333333333333,\"#9c179e\"],[0.4444444444444444,\"#bd3786\"],[0.5555555555555556,\"#d8576b\"],[0.6666666666666666,\"#ed7953\"],[0.7777777777777778,\"#fb9f3a\"],[0.8888888888888888,\"#fdca26\"],[1.0,\"#f0f921\"]]}],\"mesh3d\":[{\"colorbar\":{\"outlinewidth\":0.0,\"ticks\":\"\"}}],\"parcoords\":[{\"line\":{\"colorbar\":{\"outlinewidth\":0.0,\"ticks\":\"\"}}}],\"pie\":[{\"automargin\":true}],\"scatter\":[{\"marker\":{\"colorbar\":{\"outlinewidth\":0.0,\"ticks\":\"\"}}}],\"scatter3d\":[{\"marker\":{\"colorbar\":{\"outlinewidth\":0.0,\"ticks\":\"\"}},\"line\":{\"colorbar\":{\"outlinewidth\":0.0,\"ticks\":\"\"}}}],\"scattercarpet\":[{\"marker\":{\"colorbar\":{\"outlinewidth\":0.0,\"ticks\":\"\"}}}],\"scattergeo\":[{\"marker\":{\"colorbar\":{\"outlinewidth\":0.0,\"ticks\":\"\"}}}],\"scattergl\":[{\"marker\":{\"colorbar\":{\"outlinewidth\":0.0,\"ticks\":\"\"}}}],\"scattermapbox\":[{\"marker\":{\"colorbar\":{\"outlinewidth\":0.0,\"ticks\":\"\"}}}],\"scatterpolar\":[{\"marker\":{\"colorbar\":{\"outlinewidth\":0.0,\"ticks\":\"\"}}}],\"scatterpolargl\":[{\"marker\":{\"colorbar\":{\"outlinewidth\":0.0,\"ticks\":\"\"}}}],\"scatterternary\":[{\"marker\":{\"colorbar\":{\"outlinewidth\":0.0,\"ticks\":\"\"}}}],\"surface\":[{\"colorbar\":{\"outlinewidth\":0.0,\"ticks\":\"\"},\"colorscale\":[[0.0,\"#0d0887\"],[0.1111111111111111,\"#46039f\"],[0.2222222222222222,\"#7201a8\"],[0.3333333333333333,\"#9c179e\"],[0.4444444444444444,\"#bd3786\"],[0.5555555555555556,\"#d8576b\"],[0.6666666666666666,\"#ed7953\"],[0.7777777777777778,\"#fb9f3a\"],[0.8888888888888888,\"#fdca26\"],[1.0,\"#f0f921\"]]}],\"table\":[{\"cells\":{\"fill\":{\"color\":\"rgba(235, 240, 248, 1.0)\"},\"line\":{\"color\":\"rgba(255, 255, 255, 1.0)\"}},\"header\":{\"fill\":{\"color\":\"rgba(200, 212, 227, 1.0)\"},\"line\":{\"color\":\"rgba(255, 255, 255, 1.0)\"}}}]}},\"title\":{\"text\":\"Veränderung von beta                                       Veränderung von gamma\"},\"xaxis\":{\"title\":{\"text\":\"Zeit\"}},\"yaxis\":{\"title\":{\"text\":\"Proteinkonzentration\"}},\"xaxis2\":{\"title\":{\"text\":\"Zeit\"}},\"yaxis2\":{\"title\":{\"text\":\"Proteinkonzentration\"}},\"grid\":{\"rows\":1,\"columns\":2,\"pattern\":\"independent\"}};\r\n",
       "            var config = {\"responsive\":true};\r\n",
       "            Plotly.newPlot('39415d0a-6f11-48b1-981c-7cbf3e1be5ff', data, layout, config);\r\n",
       "});\r\n",
       "            };\r\n",
       "            if ((typeof(requirejs) !==  typeof(Function)) || (typeof(requirejs.config) !== typeof(Function))) {\r\n",
       "                var script = document.createElement(\"script\");\r\n",
       "                script.setAttribute(\"src\", \"https://cdnjs.cloudflare.com/ajax/libs/require.js/2.3.6/require.min.js\");\r\n",
       "                script.onload = function(){\r\n",
       "                    renderPlotly_39415d0a6f1148b1981c7cbf3e1be5ff();\r\n",
       "                };\r\n",
       "                document.getElementsByTagName(\"head\")[0].appendChild(script);\r\n",
       "            }\r\n",
       "            else {\r\n",
       "                renderPlotly_39415d0a6f1148b1981c7cbf3e1be5ff();\r\n",
       "            }\r\n",
       "</script>\r\n",
       "\n",
       "    \n",
       "</div>    \n"
      ]
     },
     "metadata": {},
     "output_type": "display_data"
    }
   ],
   "source": [
    "//Bitte nichts ändern!\n",
    "\n",
    "//Konstanten\n",
    "let beta1 =   0.5// Konstante für die Zunahme der Proteinkonzentration\n",
    "let beta2 =   1. // Konstante für die Zunahme der Proteinkonzentration\n",
    "let beta3 =   2. // Konstante für die Zunahme der Proteinkonzentration\n",
    "let beta4 =   4. // Konstante für die Zunahme der Proteinkonzentration\n",
    "let gamma1 =  2. // Konstante für die Verringerung der Proteinkonzentration\n",
    "let gamma2 =  4. // Konstante für die Verringerung der Proteinkonzentration\n",
    "let gamma3 =  8. // Konstante für die Verringerung der Proteinkonzentration\n",
    "let gamma4 =  16.// Konstante für die Verringerung der Proteinkonzentration\n",
    "\n",
    "\n",
    "// unsere DGL als  Modell (Model)\n",
    "let dP_dt : Model = \n",
    "    fun P t ->\n",
    "        // Veränderung der Proteinmenge\n",
    "        let Proteinkonznetration1 = P[0] // Änderung in der Proteinmenge\n",
    "        let Proteinkonznetration2 = P[1] // Änderung in der Proteinmenge\n",
    "        let Proteinkonznetration3 = P[2] // Änderung in der Proteinmenge\n",
    "        let Proteinkonznetration4 = P[3] // Änderung in der Proteinmenge\n",
    "\n",
    "        let Proteinkonznetration5 = P[4] // Änderung in der Proteinmenge\n",
    "        let Proteinkonznetration6 = P[5] // Änderung in der Proteinmenge\n",
    "        let Proteinkonznetration7 = P[6] // Änderung in der Proteinmenge\n",
    "        let Proteinkonznetration8 = P[7] // Änderung in der Proteinmenge\n",
    "        // Modelfunktion\n",
    "        let Proteinkonznetration1' = beta1 - gamma2*Proteinkonznetration1 //DGL für ein unreguliertes Protein\n",
    "        let Proteinkonznetration2' = beta2 - gamma2*Proteinkonznetration2 //DGL für ein unreguliertes Protein\n",
    "        let Proteinkonznetration3' = beta3 - gamma2*Proteinkonznetration3 //DGL für ein unreguliertes Protein\n",
    "        let Proteinkonznetration4' = beta4 - gamma2*Proteinkonznetration4 //DGL für ein unreguliertes Protein\n",
    "\n",
    "        let Proteinkonznetration5' = beta3 - gamma1*Proteinkonznetration5 //DGL für ein unreguliertes Protein\n",
    "        let Proteinkonznetration6' = beta3 - gamma2*Proteinkonznetration6 //DGL für ein unreguliertes Protein\n",
    "        let Proteinkonznetration7' = beta3 - gamma3*Proteinkonznetration7 //DGL für ein unreguliertes Protein\n",
    "        let Proteinkonznetration8' = beta3 - gamma4*Proteinkonznetration8 //DGL für ein unreguliertes Protein\n",
    "\n",
    "        [|Proteinkonznetration1';Proteinkonznetration2';Proteinkonznetration3';Proteinkonznetration4';Proteinkonznetration5';Proteinkonznetration6';Proteinkonznetration7';Proteinkonznetration8' |]\n",
    "\n",
    "//Startkonzentrationen\n",
    "let P0 = [| \n",
    "    0.0 \n",
    "    0.0 \n",
    "    0.0 \n",
    "    0.0 \n",
    "    0.0\n",
    "    0.0\n",
    "    0.0\n",
    "    0.0\n",
    "|]\n",
    "\n",
    "// Simulation der Modelfuntkion\n",
    "let Ps = \n",
    "    modelContext.OdeInt(\n",
    "        0., // Startzeitpunkt\n",
    "        P0,\n",
    "        dP_dt\n",
    "    )\n",
    "    |> SolPoints.take 15 // Anzahl der Zeitpunkte\n",
    "    |> SolPoints.memorize \n",
    "\n",
    "// Generierung der Punkte für das Kennzeichnen der Antwortszeit\n",
    "let t0 = log(2.) / gamma2\n",
    "let x1 = beta1 / gamma2 * (0.5)\n",
    "let x2 = beta2 / gamma2 * (0.5)\n",
    "let x3 = beta3 / gamma2 * (0.5)\n",
    "let x4 = beta4 / gamma2 * (0.5)\n",
    "let t1 = log(2.) / gamma1\n",
    "let t2 = log(2.) / gamma2\n",
    "let t3 = log(2.) / gamma3\n",
    "let t4 = log(2.) / gamma4\n",
    "let x5 = beta3 / gamma1 * (0.5)\n",
    "let x6 = beta3 / gamma2 * (0.5)\n",
    "let x7 = beta3 / gamma3 * (0.5)\n",
    "let x8 = beta3 / gamma4 * (0.5)\n",
    "\n",
    "//Graphische Darstellung der numerischen Lösung\n",
    "[\n",
    "    [\n",
    "        let proteins = Ps |> SolPoints.toPoints 1 \n",
    "        proteins |> Chart.Spline \n",
    "        |> Chart.withTraceInfo(\"beta = 0.5\");\n",
    "        let proteinsregulatedbyrep = Ps |> SolPoints.toPoints 2 \n",
    "        proteinsregulatedbyrep|> Chart.Spline \n",
    "        |> Chart.withTraceInfo(\"beta = 1.0\");\n",
    "        let proteinsregulatedbyakt = Ps |> SolPoints.toPoints 3 \n",
    "        proteinsregulatedbyakt|> Chart.Spline \n",
    "        |> Chart.withTraceInfo(\"beta = 2.0\");\n",
    "        |> Chart.withMarkerStyle(Color = Color.fromKeyword ForestGreen)\n",
    "        let proteinsregulatedbyakt = Ps |> SolPoints.toPoints 4 \n",
    "        proteinsregulatedbyakt|> Chart.Spline \n",
    "        |> Chart.withTraceInfo(\"beta = 4.0\");\n",
    "        [t0,x1]\n",
    "        |> Chart.Point\n",
    "        |> Chart.withMarkerStyle(Color = Color.fromKeyword Blue)\n",
    "        |> Chart.withTraceInfo(\"beta = 0.5\");\n",
    "        [t0,x2]\n",
    "        |> Chart.Point\n",
    "        |> Chart.withMarkerStyle(Color = Color.fromKeyword Red)\n",
    "        |> Chart.withTraceInfo(\"beta = 1.0\");\n",
    "        [t0,x3]\n",
    "        |> Chart.Point\n",
    "        |> Chart.withMarkerStyle(Color = Color.fromKeyword Green)\n",
    "        |> Chart.withTraceInfo(\"beta = 2.0\");\n",
    "        [t0,x4]\n",
    "        |> Chart.Point \n",
    "        |> Chart.withMarkerStyle(Color = Color.fromKeyword Purple)\n",
    "        |> Chart.withTraceInfo(\"beta = 4.0\");\n",
    "    ]\n",
    "    |> Chart.combine\n",
    "    |> Chart.withTitle @\"Veränderung von beta\"\n",
    "    |> Chart.withXAxisStyle(\"Zeit\")\n",
    "    |> Chart.withYAxisStyle(\"Proteinkonzentration\")\n",
    "\n",
    "    [\n",
    "        let proteins = Ps |> SolPoints.toPoints 5 \n",
    "        proteins |> Chart.Spline \n",
    "        |> Chart.withTraceInfo(\"gamma = 2.\");\n",
    "        |> Chart.withMarkerStyle(Color = Color.fromKeyword DarkViolet)\n",
    "        let proteinsregulatedbyrep = Ps |> SolPoints.toPoints 6 \n",
    "        proteinsregulatedbyrep|> Chart.Spline \n",
    "        |> Chart.withTraceInfo(\"gamma = 4.\");\n",
    "        |> Chart.withMarkerStyle(Color = Color.fromKeyword ForestGreen)\n",
    "        let proteinsregulatedbyakt = Ps |> SolPoints.toPoints 7 \n",
    "        proteinsregulatedbyakt|> Chart.Spline \n",
    "        |> Chart.withTraceInfo(\"gamma = 8.\");\n",
    "        |> Chart.withMarkerStyle(Color = Color.fromKeyword Red)\n",
    "        let proteinsregulatedbyakt = Ps |> SolPoints.toPoints 8 \n",
    "        proteinsregulatedbyakt|> Chart.Spline \n",
    "        |> Chart.withTraceInfo(\"gamma = 16.\");\n",
    "        |> Chart.withMarkerStyle(Color = Color.fromKeyword Blue)\n",
    "        [t1,x5]\n",
    "        |> Chart.Point\n",
    "        |> Chart.withMarkerStyle(Color = Color.fromKeyword DarkViolet)\n",
    "        |> Chart.withTraceInfo(\"gamma = 2.\");\n",
    "        [t2,x6]\n",
    "        |> Chart.Point\n",
    "        |> Chart.withMarkerStyle(Color = Color.fromKeyword Green)\n",
    "        |> Chart.withTraceInfo(\"gamma = 4.0\");\n",
    "        [t3,x7]\n",
    "        |> Chart.Point\n",
    "        |> Chart.withMarkerStyle(Color = Color.fromKeyword Red)\n",
    "        |> Chart.withTraceInfo(\"gamma = 8.0\");\n",
    "        [t4,x8]\n",
    "        |> Chart.Point \n",
    "        |> Chart.withMarkerStyle(Color = Color.fromKeyword Blue)\n",
    "        |> Chart.withTraceInfo(\"gamma = 16.0\");\n",
    "    ]\n",
    "    |> Chart.combine\n",
    "    |> Chart.withTitle @\"Veränderung von beta                                       Veränderung von gamma\"\n",
    "    |> Chart.withXAxisStyle(\"Zeit\")\n",
    "    |> Chart.withYAxisStyle(\"Proteinkonzentration\")\n",
    "\n",
    "]\n",
    "|> Chart.Grid (1,2)\n",
    "|> Chart.withSize(1000,500)"
   ]
  },
  {
   "cell_type": "markdown",
   "metadata": {},
   "source": [
    "Die Graphen zeigen das sowohl die Abnhame von $\\beta$ als auch die Zunahme von $\\gamma$ zu einer Verringerung des $Proteinkonzentration_{GGW}$ führt. Allerdings unterscheidet sich die Form der Graphen erheblich. \n",
    "Acht Punkte sind makiert die diesen Fakt unterstreichen. Diese repräsentieren die Antwortszeit, welche beschreibt wie lange es dauert bis der Wert der $Proteinkonzentration (t)$ gleich dem Wert $\\frac {1}{2}*Proteinkonzentration_{GGW}$ ist. \n",
    "Die Betrachtung der Antwortszeit zeigt, dass eine Veränderung von $\\beta$ nicht zu einer Verkürzung der Antwortszeit führt, während eine Veränderung von $\\gamma$ zu einer Verringerung der Antwortszeit führt. Die Formel für die Berechnung der Antwortszeit ist\n",
    "$$ T_{\\frac {1}{2}} = \\frac  {\\log (2)}{\\gamma}$$\n",
    "wobei $T_{\\frac {1}{2}}$ die Antwortszeit repräsentiert. Dies bedeutet wenn ein Protein möglichst schnell produziert werden soll, sollte der Wert für $\\gamma$ möglichst groß sein (Anmerkung: Die gezeigte Formel gilt nur für unregulierte Proteine).\n",
    "\n",
    "Aufgabe: <br>\n",
    "Überlege was ein hoher Wert für $\\gamma$ im Bezug auf die Proteinstabilität bedeutet (zur Erinnerung $\\gamma$ beschreibt sowohl den aktiven Abbau, als auch die Verteilung in der Zelle beim Wachstum).\n",
    "Tipp: Falls sie Probleme mit dieser Aufgabe haben, überlegen sie sich welche Faktoren einen schnellen beziehungsweise langsamen Abbau von einem Protein begünstigen. \n",
    "\n"
   ]
  },
  {
   "cell_type": "markdown",
   "metadata": {},
   "source": [
    "Bitte hier die Antwort eingeben."
   ]
  },
  {
   "cell_type": "markdown",
   "metadata": {},
   "source": [
    "Betrachten sie nun den Graphen für ein Protein das sich selbst negativ Autoreguliert. <br>\n",
    "Aufgabe: <br>\n",
    "Setzen sie die Gleichung für negative Autoregulation in die nachfolgende Simulation ein (Bitte beachten sie, dass sie die Proteinkonznetration als \"Proteinkonznetration2\" einsetzten müssen, ohne \"\". Beachten sie ebenfalls das $\\beta \\textrm{ und } \\gamma$ als \"beta\" und \"gamma\", ohne \"\", eingesetzt werden müssen und nicht als Symbole, und das $K_{D}$ als K_d eingesetzt wird)."
   ]
  },
  {
   "cell_type": "code",
   "execution_count": null,
   "metadata": {
    "dotnet_interactive": {
     "language": "fsharp"
    },
    "vscode": {
     "languageId": "dotnet-interactive.fsharp"
    }
   },
   "outputs": [
    {
     "data": {
      "text/html": [
       "\n",
       "<div>\n",
       "    <div id=\"9d61b6ec-d2cb-4fe9-9f0a-6a4785173cb8\"><!-- Plotly chart will be drawn inside this DIV --></div>\r\n",
       "<script type=\"text/javascript\">\r\n",
       "\r\n",
       "            var renderPlotly_9d61b6ecd2cb4fe99f0a6a4785173cb8 = function() {\r\n",
       "            var fsharpPlotlyRequire = requirejs.config({context:'fsharp-plotly',paths:{plotly:'https://cdn.plot.ly/plotly-2.6.3.min'}}) || require;\r\n",
       "            fsharpPlotlyRequire(['plotly'], function(Plotly) {\r\n",
       "\r\n",
       "            var data = [{\"type\":\"scatter\",\"mode\":\"lines\",\"x\":[0.0,0.3526489699241825,0.6621281536214076,0.9838321987488821,1.366051482506549,1.820074350041603,2.3518024854457296,2.9695646584854196,3.6865635145665148,4.522840684770351,5.507274189135837,6.679693785043027],\"y\":[0.0,0.5943525517355123,0.968495171365372,1.2522491382368597,1.489775787107594,1.675973061960016,1.8096057389815379,1.8973492743790046,1.9498844664841881,1.9782837100966486,1.991885002404089,1.997486118997081],\"marker\":{},\"line\":{\"shape\":\"spline\"},\"name\":\"Unreguliert\"},{\"type\":\"scatter\",\"mode\":\"lines\",\"x\":[0.0,0.3526489699241825,0.6621281536214076,0.9838321987488821,1.366051482506549,1.820074350041603,2.3518024854457296,2.9695646584854196,3.6865635145665148,4.522840684770351,5.507274189135837,6.679693785043027],\"y\":[0.0,0.46987056632923035,0.6800847653428574,0.8070652624533186,0.8928785397660717,0.9462803307712722,0.9759247727890931,0.9904919404134085,0.9967592076772097,0.9990749864525295,0.9997877168611103,0.9999625113763633],\"marker\":{},\"line\":{\"shape\":\"spline\"},\"name\":\"negative AR\"},{\"type\":\"scatter\",\"mode\":\"markers\",\"x\":[0.6931471805599453],\"y\":[1.0],\"marker\":{\"color\":\"rgba(0, 0, 255, 1.0)\"},\"line\":{},\"name\":\"Unreguliert\"},{\"type\":\"scatter\",\"mode\":\"markers\",\"x\":[0.385],\"y\":[0.5],\"marker\":{\"color\":\"rgba(255, 0, 0, 1.0)\"},\"line\":{},\"name\":\"negative AR\"}];\r\n",
       "            var layout = {\"width\":600,\"height\":600,\"template\":{\"layout\":{\"title\":{\"x\":0.05},\"font\":{\"color\":\"rgba(42, 63, 95, 1.0)\"},\"paper_bgcolor\":\"rgba(255, 255, 255, 1.0)\",\"plot_bgcolor\":\"rgba(229, 236, 246, 1.0)\",\"autotypenumbers\":\"strict\",\"colorscale\":{\"diverging\":[[0.0,\"#8e0152\"],[0.1,\"#c51b7d\"],[0.2,\"#de77ae\"],[0.3,\"#f1b6da\"],[0.4,\"#fde0ef\"],[0.5,\"#f7f7f7\"],[0.6,\"#e6f5d0\"],[0.7,\"#b8e186\"],[0.8,\"#7fbc41\"],[0.9,\"#4d9221\"],[1.0,\"#276419\"]],\"sequential\":[[0.0,\"#0d0887\"],[0.1111111111111111,\"#46039f\"],[0.2222222222222222,\"#7201a8\"],[0.3333333333333333,\"#9c179e\"],[0.4444444444444444,\"#bd3786\"],[0.5555555555555556,\"#d8576b\"],[0.6666666666666666,\"#ed7953\"],[0.7777777777777778,\"#fb9f3a\"],[0.8888888888888888,\"#fdca26\"],[1.0,\"#f0f921\"]],\"sequentialminus\":[[0.0,\"#0d0887\"],[0.1111111111111111,\"#46039f\"],[0.2222222222222222,\"#7201a8\"],[0.3333333333333333,\"#9c179e\"],[0.4444444444444444,\"#bd3786\"],[0.5555555555555556,\"#d8576b\"],[0.6666666666666666,\"#ed7953\"],[0.7777777777777778,\"#fb9f3a\"],[0.8888888888888888,\"#fdca26\"],[1.0,\"#f0f921\"]]},\"hovermode\":\"closest\",\"hoverlabel\":{\"align\":\"left\"},\"coloraxis\":{\"colorbar\":{\"outlinewidth\":0.0,\"ticks\":\"\"}},\"geo\":{\"showland\":true,\"landcolor\":\"rgba(229, 236, 246, 1.0)\",\"showlakes\":true,\"lakecolor\":\"rgba(255, 255, 255, 1.0)\",\"subunitcolor\":\"rgba(255, 255, 255, 1.0)\",\"bgcolor\":\"rgba(255, 255, 255, 1.0)\"},\"mapbox\":{\"style\":\"light\"},\"polar\":{\"bgcolor\":\"rgba(229, 236, 246, 1.0)\",\"radialaxis\":{\"linecolor\":\"rgba(255, 255, 255, 1.0)\",\"gridcolor\":\"rgba(255, 255, 255, 1.0)\",\"ticks\":\"\"},\"angularaxis\":{\"linecolor\":\"rgba(255, 255, 255, 1.0)\",\"gridcolor\":\"rgba(255, 255, 255, 1.0)\",\"ticks\":\"\"}},\"scene\":{\"xaxis\":{\"ticks\":\"\",\"linecolor\":\"rgba(255, 255, 255, 1.0)\",\"gridcolor\":\"rgba(255, 255, 255, 1.0)\",\"gridwidth\":2.0,\"zerolinecolor\":\"rgba(255, 255, 255, 1.0)\",\"backgroundcolor\":\"rgba(229, 236, 246, 1.0)\",\"showbackground\":true},\"yaxis\":{\"ticks\":\"\",\"linecolor\":\"rgba(255, 255, 255, 1.0)\",\"gridcolor\":\"rgba(255, 255, 255, 1.0)\",\"gridwidth\":2.0,\"zerolinecolor\":\"rgba(255, 255, 255, 1.0)\",\"backgroundcolor\":\"rgba(229, 236, 246, 1.0)\",\"showbackground\":true},\"zaxis\":{\"ticks\":\"\",\"linecolor\":\"rgba(255, 255, 255, 1.0)\",\"gridcolor\":\"rgba(255, 255, 255, 1.0)\",\"gridwidth\":2.0,\"zerolinecolor\":\"rgba(255, 255, 255, 1.0)\",\"backgroundcolor\":\"rgba(229, 236, 246, 1.0)\",\"showbackground\":true}},\"ternary\":{\"aaxis\":{\"ticks\":\"\",\"linecolor\":\"rgba(255, 255, 255, 1.0)\",\"gridcolor\":\"rgba(255, 255, 255, 1.0)\"},\"baxis\":{\"ticks\":\"\",\"linecolor\":\"rgba(255, 255, 255, 1.0)\",\"gridcolor\":\"rgba(255, 255, 255, 1.0)\"},\"caxis\":{\"ticks\":\"\",\"linecolor\":\"rgba(255, 255, 255, 1.0)\",\"gridcolor\":\"rgba(255, 255, 255, 1.0)\"},\"bgcolor\":\"rgba(229, 236, 246, 1.0)\"},\"xaxis\":{\"title\":{\"standoff\":15},\"ticks\":\"\",\"automargin\":true,\"linecolor\":\"rgba(255, 255, 255, 1.0)\",\"gridcolor\":\"rgba(255, 255, 255, 1.0)\",\"zerolinecolor\":\"rgba(255, 255, 255, 1.0)\",\"zerolinewidth\":2.0},\"yaxis\":{\"title\":{\"standoff\":15},\"ticks\":\"\",\"automargin\":true,\"linecolor\":\"rgba(255, 255, 255, 1.0)\",\"gridcolor\":\"rgba(255, 255, 255, 1.0)\",\"zerolinecolor\":\"rgba(255, 255, 255, 1.0)\",\"zerolinewidth\":2.0},\"annotationdefaults\":{\"arrowcolor\":\"#2a3f5f\",\"arrowhead\":0,\"arrowwidth\":1},\"shapedefaults\":{\"line\":{\"color\":\"rgba(42, 63, 95, 1.0)\"}},\"colorway\":[\"rgba(99, 110, 250, 1.0)\",\"rgba(239, 85, 59, 1.0)\",\"rgba(0, 204, 150, 1.0)\",\"rgba(171, 99, 250, 1.0)\",\"rgba(255, 161, 90, 1.0)\",\"rgba(25, 211, 243, 1.0)\",\"rgba(255, 102, 146, 1.0)\",\"rgba(182, 232, 128, 1.0)\",\"rgba(255, 151, 255, 1.0)\",\"rgba(254, 203, 82, 1.0)\"]},\"data\":{\"bar\":[{\"marker\":{\"line\":{\"color\":\"rgba(229, 236, 246, 1.0)\",\"width\":0.5},\"pattern\":{\"fillmode\":\"overlay\",\"size\":10,\"solidity\":0.2}},\"error_x\":{\"color\":\"rgba(42, 63, 95, 1.0)\"},\"error_y\":{\"color\":\"rgba(42, 63, 95, 1.0)\"}}],\"barpolar\":[{\"marker\":{\"line\":{\"color\":\"rgba(229, 236, 246, 1.0)\",\"width\":0.5},\"pattern\":{\"fillmode\":\"overlay\",\"size\":10,\"solidity\":0.2}}}],\"carpet\":[{\"aaxis\":{\"linecolor\":\"rgba(255, 255, 255, 1.0)\",\"gridcolor\":\"rgba(255, 255, 255, 1.0)\",\"endlinecolor\":\"rgba(42, 63, 95, 1.0)\",\"minorgridcolor\":\"rgba(255, 255, 255, 1.0)\",\"startlinecolor\":\"rgba(42, 63, 95, 1.0)\"},\"baxis\":{\"linecolor\":\"rgba(255, 255, 255, 1.0)\",\"gridcolor\":\"rgba(255, 255, 255, 1.0)\",\"endlinecolor\":\"rgba(42, 63, 95, 1.0)\",\"minorgridcolor\":\"rgba(255, 255, 255, 1.0)\",\"startlinecolor\":\"rgba(42, 63, 95, 1.0)\"}}],\"choropleth\":[{\"colorbar\":{\"outlinewidth\":0.0,\"ticks\":\"\"},\"colorscale\":[[0.0,\"#0d0887\"],[0.1111111111111111,\"#46039f\"],[0.2222222222222222,\"#7201a8\"],[0.3333333333333333,\"#9c179e\"],[0.4444444444444444,\"#bd3786\"],[0.5555555555555556,\"#d8576b\"],[0.6666666666666666,\"#ed7953\"],[0.7777777777777778,\"#fb9f3a\"],[0.8888888888888888,\"#fdca26\"],[1.0,\"#f0f921\"]]}],\"contour\":[{\"colorbar\":{\"outlinewidth\":0.0,\"ticks\":\"\"},\"colorscale\":[[0.0,\"#0d0887\"],[0.1111111111111111,\"#46039f\"],[0.2222222222222222,\"#7201a8\"],[0.3333333333333333,\"#9c179e\"],[0.4444444444444444,\"#bd3786\"],[0.5555555555555556,\"#d8576b\"],[0.6666666666666666,\"#ed7953\"],[0.7777777777777778,\"#fb9f3a\"],[0.8888888888888888,\"#fdca26\"],[1.0,\"#f0f921\"]]}],\"contourcarpet\":[{\"colorbar\":{\"outlinewidth\":0.0,\"ticks\":\"\"}}],\"heatmap\":[{\"colorbar\":{\"outlinewidth\":0.0,\"ticks\":\"\"},\"colorscale\":[[0.0,\"#0d0887\"],[0.1111111111111111,\"#46039f\"],[0.2222222222222222,\"#7201a8\"],[0.3333333333333333,\"#9c179e\"],[0.4444444444444444,\"#bd3786\"],[0.5555555555555556,\"#d8576b\"],[0.6666666666666666,\"#ed7953\"],[0.7777777777777778,\"#fb9f3a\"],[0.8888888888888888,\"#fdca26\"],[1.0,\"#f0f921\"]]}],\"heatmapgl\":[{\"colorbar\":{\"outlinewidth\":0.0,\"ticks\":\"\"},\"colorscale\":[[0.0,\"#0d0887\"],[0.1111111111111111,\"#46039f\"],[0.2222222222222222,\"#7201a8\"],[0.3333333333333333,\"#9c179e\"],[0.4444444444444444,\"#bd3786\"],[0.5555555555555556,\"#d8576b\"],[0.6666666666666666,\"#ed7953\"],[0.7777777777777778,\"#fb9f3a\"],[0.8888888888888888,\"#fdca26\"],[1.0,\"#f0f921\"]]}],\"histogram\":[{\"marker\":{\"pattern\":{\"fillmode\":\"overlay\",\"size\":10,\"solidity\":0.2}}}],\"histogram2d\":[{\"colorbar\":{\"outlinewidth\":0.0,\"ticks\":\"\"},\"colorscale\":[[0.0,\"#0d0887\"],[0.1111111111111111,\"#46039f\"],[0.2222222222222222,\"#7201a8\"],[0.3333333333333333,\"#9c179e\"],[0.4444444444444444,\"#bd3786\"],[0.5555555555555556,\"#d8576b\"],[0.6666666666666666,\"#ed7953\"],[0.7777777777777778,\"#fb9f3a\"],[0.8888888888888888,\"#fdca26\"],[1.0,\"#f0f921\"]]}],\"histogram2dcontour\":[{\"colorbar\":{\"outlinewidth\":0.0,\"ticks\":\"\"},\"colorscale\":[[0.0,\"#0d0887\"],[0.1111111111111111,\"#46039f\"],[0.2222222222222222,\"#7201a8\"],[0.3333333333333333,\"#9c179e\"],[0.4444444444444444,\"#bd3786\"],[0.5555555555555556,\"#d8576b\"],[0.6666666666666666,\"#ed7953\"],[0.7777777777777778,\"#fb9f3a\"],[0.8888888888888888,\"#fdca26\"],[1.0,\"#f0f921\"]]}],\"mesh3d\":[{\"colorbar\":{\"outlinewidth\":0.0,\"ticks\":\"\"}}],\"parcoords\":[{\"line\":{\"colorbar\":{\"outlinewidth\":0.0,\"ticks\":\"\"}}}],\"pie\":[{\"automargin\":true}],\"scatter\":[{\"marker\":{\"colorbar\":{\"outlinewidth\":0.0,\"ticks\":\"\"}}}],\"scatter3d\":[{\"marker\":{\"colorbar\":{\"outlinewidth\":0.0,\"ticks\":\"\"}},\"line\":{\"colorbar\":{\"outlinewidth\":0.0,\"ticks\":\"\"}}}],\"scattercarpet\":[{\"marker\":{\"colorbar\":{\"outlinewidth\":0.0,\"ticks\":\"\"}}}],\"scattergeo\":[{\"marker\":{\"colorbar\":{\"outlinewidth\":0.0,\"ticks\":\"\"}}}],\"scattergl\":[{\"marker\":{\"colorbar\":{\"outlinewidth\":0.0,\"ticks\":\"\"}}}],\"scattermapbox\":[{\"marker\":{\"colorbar\":{\"outlinewidth\":0.0,\"ticks\":\"\"}}}],\"scatterpolar\":[{\"marker\":{\"colorbar\":{\"outlinewidth\":0.0,\"ticks\":\"\"}}}],\"scatterpolargl\":[{\"marker\":{\"colorbar\":{\"outlinewidth\":0.0,\"ticks\":\"\"}}}],\"scatterternary\":[{\"marker\":{\"colorbar\":{\"outlinewidth\":0.0,\"ticks\":\"\"}}}],\"surface\":[{\"colorbar\":{\"outlinewidth\":0.0,\"ticks\":\"\"},\"colorscale\":[[0.0,\"#0d0887\"],[0.1111111111111111,\"#46039f\"],[0.2222222222222222,\"#7201a8\"],[0.3333333333333333,\"#9c179e\"],[0.4444444444444444,\"#bd3786\"],[0.5555555555555556,\"#d8576b\"],[0.6666666666666666,\"#ed7953\"],[0.7777777777777778,\"#fb9f3a\"],[0.8888888888888888,\"#fdca26\"],[1.0,\"#f0f921\"]]}],\"table\":[{\"cells\":{\"fill\":{\"color\":\"rgba(235, 240, 248, 1.0)\"},\"line\":{\"color\":\"rgba(255, 255, 255, 1.0)\"}},\"header\":{\"fill\":{\"color\":\"rgba(200, 212, 227, 1.0)\"},\"line\":{\"color\":\"rgba(255, 255, 255, 1.0)\"}}}]}},\"xaxis\":{\"title\":{\"text\":\"Zeit\"}},\"yaxis\":{\"title\":{\"text\":\"Proteinkonzentration\"}}};\r\n",
       "            var config = {\"responsive\":true};\r\n",
       "            Plotly.newPlot('9d61b6ec-d2cb-4fe9-9f0a-6a4785173cb8', data, layout, config);\r\n",
       "});\r\n",
       "            };\r\n",
       "            if ((typeof(requirejs) !==  typeof(Function)) || (typeof(requirejs.config) !== typeof(Function))) {\r\n",
       "                var script = document.createElement(\"script\");\r\n",
       "                script.setAttribute(\"src\", \"https://cdnjs.cloudflare.com/ajax/libs/require.js/2.3.6/require.min.js\");\r\n",
       "                script.onload = function(){\r\n",
       "                    renderPlotly_9d61b6ecd2cb4fe99f0a6a4785173cb8();\r\n",
       "                };\r\n",
       "                document.getElementsByTagName(\"head\")[0].appendChild(script);\r\n",
       "            }\r\n",
       "            else {\r\n",
       "                renderPlotly_9d61b6ecd2cb4fe99f0a6a4785173cb8();\r\n",
       "            }\r\n",
       "</script>\r\n",
       "\n",
       "    \n",
       "</div>    \n"
      ]
     },
     "metadata": {},
     "output_type": "display_data"
    }
   ],
   "source": [
    "//Konstanten\n",
    "let beta  =  2.0 // Konstante für die Zunahme der Proteinkonzentration\n",
    "let gamma =  1.0 // Konstante für die Verringerung der Proteinkonzentration\n",
    "let K_d =    1.0 // Dissoziationskonstante\n",
    "\n",
    "// unsere DGL als  Modell (Model)\n",
    "let dP_dt : Model = \n",
    "    fun P t ->\n",
    "\n",
    "        let Proteinkonznetration1 = P[0] // Änderung in der Proteinmenge (unreguliert)\n",
    "        let Proteinkonznetration2 = P[1] // Änderung in der Proteinmenge (reguliert durch negative Autoregulation)\n",
    "        //Änderung der Proteinkonzentration ohne negative Autoregulation\n",
    "        let Proteinkonznetration1' = beta - (gamma*Proteinkonznetration1)\n",
    "        // Änderung des Proteinkonzentration bei negativer Autoregulation (hier die Gleichung einsetzen)\n",
    "        let Proteinkonznetration2' = beta * 1./(1.+(Proteinkonznetration2/K_d)) - (gamma*Proteinkonznetration2)\n",
    "\n",
    "        [| Proteinkonznetration1'; Proteinkonznetration2' |]\n",
    "\n",
    "//Startkonzentrationen\n",
    "let P0 = [| \n",
    "    0.0\n",
    "    0.0  \n",
    "|]\n",
    "\n",
    "// Generierung der Punkte für das Kennzeichnen der Antwortszeit\n",
    "let t0 = log(2.) / gamma\n",
    "let t1 = K_d/(2. * beta) + 0.135\n",
    "let x0 = beta / gamma * (0.5) \n",
    "let x1 = K_d * 0.5 \n",
    "\n",
    "// Simulation der Modelfuntkion\n",
    "let Ps = \n",
    "    modelContext.OdeInt(\n",
    "        0., // Startzeitpunkt\n",
    "        P0,\n",
    "        dP_dt\n",
    "    )\n",
    "    |> SolPoints.take 12 // Anzahl der Zeitpunkte\n",
    "    |> SolPoints.memorize \n",
    "\n",
    "//Graphische Darstellung der numerischen Lösung\n",
    "[\n",
    "    let proteins = Ps |> SolPoints.toPoints 1 \n",
    "    proteins |> Chart.Spline \n",
    "    |> Chart.withTraceInfo(\"Unreguliert\");\n",
    "    let proteinsregulated = Ps |> SolPoints.toPoints 2 \n",
    "    proteinsregulated|> Chart.Spline \n",
    "    |> Chart.withTraceInfo(\"negative AR\");\n",
    "    [t0,x0]\n",
    "        |> Chart.Point\n",
    "        |> Chart.withMarkerStyle(Color = Color.fromKeyword Blue)\n",
    "        |> Chart.withTraceInfo(\"Unreguliert\");\n",
    "    [t1,x1]\n",
    "        |> Chart.Point\n",
    "        |> Chart.withMarkerStyle(Color = Color.fromKeyword Red)\n",
    "        |> Chart.withTraceInfo(\"negative AR\");    \n",
    "]\n",
    "\n",
    "|> Chart.combine\n",
    "|> Chart.withXAxisStyle(\"Zeit\")\n",
    "|> Chart.withYAxisStyle(\"Proteinkonzentration\")"
   ]
  },
  {
   "cell_type": "markdown",
   "metadata": {},
   "source": [
    "Aufgabe: <br>\n",
    "Welchen Effekt hat die negative Autoregulation im Bezug auf die Antwortzeit \n"
   ]
  },
  {
   "cell_type": "markdown",
   "metadata": {},
   "source": [
    "Bitte hier die Antwort eingeben."
   ]
  },
  {
   "cell_type": "markdown",
   "metadata": {},
   "source": [
    "\n",
    "Aufgabe: <br>\n",
    "Warum ist negative Autoregulation ein sinnvollerer Mechanismus für eine verkürzung der Antwortszeit für die meisten Proteine im Vergleich zur Erhöhung von $\\gamma$?\n",
    "\n"
   ]
  },
  {
   "cell_type": "markdown",
   "metadata": {},
   "source": [
    "Bitte hier die Antwort eingeben."
   ]
  },
  {
   "cell_type": "markdown",
   "metadata": {},
   "source": [
    "#### Postive Autoregulation\n",
    "\n",
    "Die Betrachtung der negativen Autoregulation zeigte das sie dazu genutzt werden kann die Antwortgeschwindigkeit der Proteinkonznetration zu erhöhen. Beim Vergleich von Repressor and Aktivator hatten beide einen identischen Effekt, beide verringerten die $Proteinkonzentration_{GGW}$ und hatten keinen Einfluß auf die Antwortsgeschwindigkeit. Daher ist die logische Folgerung, dass sich postive Autoregulation genauso wie die negative Autoregulation verhält. Diese Vermutung soll im nachfolgendem Abschnitt untersucht werden. Eine durch positive Autoregulation regulierte Proteinproduktion wird durch folgende Differenzialgleichung dargestellt\n",
    "\n",
    "$$ \\frac {dProteinkonzentration} {dt} = \\beta* \\frac {1}{1+ \\frac {K_{D}}{Proteinkonzentration}}  - \\gamma*Proteinkonzentration$$\n",
    "\n"
   ]
  },
  {
   "cell_type": "markdown",
   "metadata": {},
   "source": [
    "Aufgabe: <br>\n",
    "Setzen sie die Gleichung für postive Autoregulation in die nachfolgende Simulation ein (Bitte beachten sie, dass sie die Proteinkonznetration als \"Proteinkonznetration2\" einsetzten müssen, ohne \"\". Beachten sie ebenfalls das $\\beta \\textrm{ und } \\gamma$ als \"beta\" und \"gamma\", ohne \"\", eingesetzt werden müssen und nicht als Symbole, und das $K_{D}$ als K_d eingesetzt wird)."
   ]
  },
  {
   "cell_type": "code",
   "execution_count": null,
   "metadata": {
    "dotnet_interactive": {
     "language": "fsharp"
    },
    "vscode": {
     "languageId": "dotnet-interactive.fsharp"
    }
   },
   "outputs": [
    {
     "data": {
      "text/html": [
       "\n",
       "<div>\n",
       "    <div id=\"975a1be9-3a03-4562-8935-eb8c4a69be05\"><!-- Plotly chart will be drawn inside this DIV --></div>\r\n",
       "<script type=\"text/javascript\">\r\n",
       "\r\n",
       "            var renderPlotly_975a1be93a0345628935eb8c4a69be05 = function() {\r\n",
       "            var fsharpPlotlyRequire = requirejs.config({context:'fsharp-plotly',paths:{plotly:'https://cdn.plot.ly/plotly-2.6.3.min'}}) || require;\r\n",
       "            fsharpPlotlyRequire(['plotly'], function(Plotly) {\r\n",
       "\r\n",
       "            var data = [{\"type\":\"scatter\",\"mode\":\"lines\",\"x\":[0.0,0.785665106109739,1.467759539515037,2.1402118678779027,2.87830909253003,3.712733171173101,4.664322987478944,5.746443271055728,6.985189069883404,8.417091529591236],\"y\":[0.0,5.441828771160189,7.6955910561535195,8.823705771694742,9.43770568662815,9.755892236212189,9.905738113419485,9.968049329369116,9.990733892310299,9.997778650983214],\"marker\":{},\"line\":{\"shape\":\"spline\"},\"name\":\"Unreguliert\"},{\"type\":\"scatter\",\"mode\":\"lines\",\"x\":[0.0,0.785665106109739,1.467759539515037,2.1402118678779027,2.87830909253003,3.712733171173101,4.664322987478944,5.746443271055728,6.985189069883404,8.417091529591236],\"y\":[2.0,2.1005640780093024,2.237142047240738,2.4422545224451553,2.790328477425748,3.4044710044792517,4.4091684473152615,5.681926736156852,6.820735509932369,7.564798529739717],\"marker\":{},\"line\":{\"shape\":\"spline\"},\"name\":\"negative AR\"}];\r\n",
       "            var layout = {\"width\":600,\"height\":600,\"template\":{\"layout\":{\"title\":{\"x\":0.05},\"font\":{\"color\":\"rgba(42, 63, 95, 1.0)\"},\"paper_bgcolor\":\"rgba(255, 255, 255, 1.0)\",\"plot_bgcolor\":\"rgba(229, 236, 246, 1.0)\",\"autotypenumbers\":\"strict\",\"colorscale\":{\"diverging\":[[0.0,\"#8e0152\"],[0.1,\"#c51b7d\"],[0.2,\"#de77ae\"],[0.3,\"#f1b6da\"],[0.4,\"#fde0ef\"],[0.5,\"#f7f7f7\"],[0.6,\"#e6f5d0\"],[0.7,\"#b8e186\"],[0.8,\"#7fbc41\"],[0.9,\"#4d9221\"],[1.0,\"#276419\"]],\"sequential\":[[0.0,\"#0d0887\"],[0.1111111111111111,\"#46039f\"],[0.2222222222222222,\"#7201a8\"],[0.3333333333333333,\"#9c179e\"],[0.4444444444444444,\"#bd3786\"],[0.5555555555555556,\"#d8576b\"],[0.6666666666666666,\"#ed7953\"],[0.7777777777777778,\"#fb9f3a\"],[0.8888888888888888,\"#fdca26\"],[1.0,\"#f0f921\"]],\"sequentialminus\":[[0.0,\"#0d0887\"],[0.1111111111111111,\"#46039f\"],[0.2222222222222222,\"#7201a8\"],[0.3333333333333333,\"#9c179e\"],[0.4444444444444444,\"#bd3786\"],[0.5555555555555556,\"#d8576b\"],[0.6666666666666666,\"#ed7953\"],[0.7777777777777778,\"#fb9f3a\"],[0.8888888888888888,\"#fdca26\"],[1.0,\"#f0f921\"]]},\"hovermode\":\"closest\",\"hoverlabel\":{\"align\":\"left\"},\"coloraxis\":{\"colorbar\":{\"outlinewidth\":0.0,\"ticks\":\"\"}},\"geo\":{\"showland\":true,\"landcolor\":\"rgba(229, 236, 246, 1.0)\",\"showlakes\":true,\"lakecolor\":\"rgba(255, 255, 255, 1.0)\",\"subunitcolor\":\"rgba(255, 255, 255, 1.0)\",\"bgcolor\":\"rgba(255, 255, 255, 1.0)\"},\"mapbox\":{\"style\":\"light\"},\"polar\":{\"bgcolor\":\"rgba(229, 236, 246, 1.0)\",\"radialaxis\":{\"linecolor\":\"rgba(255, 255, 255, 1.0)\",\"gridcolor\":\"rgba(255, 255, 255, 1.0)\",\"ticks\":\"\"},\"angularaxis\":{\"linecolor\":\"rgba(255, 255, 255, 1.0)\",\"gridcolor\":\"rgba(255, 255, 255, 1.0)\",\"ticks\":\"\"}},\"scene\":{\"xaxis\":{\"ticks\":\"\",\"linecolor\":\"rgba(255, 255, 255, 1.0)\",\"gridcolor\":\"rgba(255, 255, 255, 1.0)\",\"gridwidth\":2.0,\"zerolinecolor\":\"rgba(255, 255, 255, 1.0)\",\"backgroundcolor\":\"rgba(229, 236, 246, 1.0)\",\"showbackground\":true},\"yaxis\":{\"ticks\":\"\",\"linecolor\":\"rgba(255, 255, 255, 1.0)\",\"gridcolor\":\"rgba(255, 255, 255, 1.0)\",\"gridwidth\":2.0,\"zerolinecolor\":\"rgba(255, 255, 255, 1.0)\",\"backgroundcolor\":\"rgba(229, 236, 246, 1.0)\",\"showbackground\":true},\"zaxis\":{\"ticks\":\"\",\"linecolor\":\"rgba(255, 255, 255, 1.0)\",\"gridcolor\":\"rgba(255, 255, 255, 1.0)\",\"gridwidth\":2.0,\"zerolinecolor\":\"rgba(255, 255, 255, 1.0)\",\"backgroundcolor\":\"rgba(229, 236, 246, 1.0)\",\"showbackground\":true}},\"ternary\":{\"aaxis\":{\"ticks\":\"\",\"linecolor\":\"rgba(255, 255, 255, 1.0)\",\"gridcolor\":\"rgba(255, 255, 255, 1.0)\"},\"baxis\":{\"ticks\":\"\",\"linecolor\":\"rgba(255, 255, 255, 1.0)\",\"gridcolor\":\"rgba(255, 255, 255, 1.0)\"},\"caxis\":{\"ticks\":\"\",\"linecolor\":\"rgba(255, 255, 255, 1.0)\",\"gridcolor\":\"rgba(255, 255, 255, 1.0)\"},\"bgcolor\":\"rgba(229, 236, 246, 1.0)\"},\"xaxis\":{\"title\":{\"standoff\":15},\"ticks\":\"\",\"automargin\":true,\"linecolor\":\"rgba(255, 255, 255, 1.0)\",\"gridcolor\":\"rgba(255, 255, 255, 1.0)\",\"zerolinecolor\":\"rgba(255, 255, 255, 1.0)\",\"zerolinewidth\":2.0},\"yaxis\":{\"title\":{\"standoff\":15},\"ticks\":\"\",\"automargin\":true,\"linecolor\":\"rgba(255, 255, 255, 1.0)\",\"gridcolor\":\"rgba(255, 255, 255, 1.0)\",\"zerolinecolor\":\"rgba(255, 255, 255, 1.0)\",\"zerolinewidth\":2.0},\"annotationdefaults\":{\"arrowcolor\":\"#2a3f5f\",\"arrowhead\":0,\"arrowwidth\":1},\"shapedefaults\":{\"line\":{\"color\":\"rgba(42, 63, 95, 1.0)\"}},\"colorway\":[\"rgba(99, 110, 250, 1.0)\",\"rgba(239, 85, 59, 1.0)\",\"rgba(0, 204, 150, 1.0)\",\"rgba(171, 99, 250, 1.0)\",\"rgba(255, 161, 90, 1.0)\",\"rgba(25, 211, 243, 1.0)\",\"rgba(255, 102, 146, 1.0)\",\"rgba(182, 232, 128, 1.0)\",\"rgba(255, 151, 255, 1.0)\",\"rgba(254, 203, 82, 1.0)\"]},\"data\":{\"bar\":[{\"marker\":{\"line\":{\"color\":\"rgba(229, 236, 246, 1.0)\",\"width\":0.5},\"pattern\":{\"fillmode\":\"overlay\",\"size\":10,\"solidity\":0.2}},\"error_x\":{\"color\":\"rgba(42, 63, 95, 1.0)\"},\"error_y\":{\"color\":\"rgba(42, 63, 95, 1.0)\"}}],\"barpolar\":[{\"marker\":{\"line\":{\"color\":\"rgba(229, 236, 246, 1.0)\",\"width\":0.5},\"pattern\":{\"fillmode\":\"overlay\",\"size\":10,\"solidity\":0.2}}}],\"carpet\":[{\"aaxis\":{\"linecolor\":\"rgba(255, 255, 255, 1.0)\",\"gridcolor\":\"rgba(255, 255, 255, 1.0)\",\"endlinecolor\":\"rgba(42, 63, 95, 1.0)\",\"minorgridcolor\":\"rgba(255, 255, 255, 1.0)\",\"startlinecolor\":\"rgba(42, 63, 95, 1.0)\"},\"baxis\":{\"linecolor\":\"rgba(255, 255, 255, 1.0)\",\"gridcolor\":\"rgba(255, 255, 255, 1.0)\",\"endlinecolor\":\"rgba(42, 63, 95, 1.0)\",\"minorgridcolor\":\"rgba(255, 255, 255, 1.0)\",\"startlinecolor\":\"rgba(42, 63, 95, 1.0)\"}}],\"choropleth\":[{\"colorbar\":{\"outlinewidth\":0.0,\"ticks\":\"\"},\"colorscale\":[[0.0,\"#0d0887\"],[0.1111111111111111,\"#46039f\"],[0.2222222222222222,\"#7201a8\"],[0.3333333333333333,\"#9c179e\"],[0.4444444444444444,\"#bd3786\"],[0.5555555555555556,\"#d8576b\"],[0.6666666666666666,\"#ed7953\"],[0.7777777777777778,\"#fb9f3a\"],[0.8888888888888888,\"#fdca26\"],[1.0,\"#f0f921\"]]}],\"contour\":[{\"colorbar\":{\"outlinewidth\":0.0,\"ticks\":\"\"},\"colorscale\":[[0.0,\"#0d0887\"],[0.1111111111111111,\"#46039f\"],[0.2222222222222222,\"#7201a8\"],[0.3333333333333333,\"#9c179e\"],[0.4444444444444444,\"#bd3786\"],[0.5555555555555556,\"#d8576b\"],[0.6666666666666666,\"#ed7953\"],[0.7777777777777778,\"#fb9f3a\"],[0.8888888888888888,\"#fdca26\"],[1.0,\"#f0f921\"]]}],\"contourcarpet\":[{\"colorbar\":{\"outlinewidth\":0.0,\"ticks\":\"\"}}],\"heatmap\":[{\"colorbar\":{\"outlinewidth\":0.0,\"ticks\":\"\"},\"colorscale\":[[0.0,\"#0d0887\"],[0.1111111111111111,\"#46039f\"],[0.2222222222222222,\"#7201a8\"],[0.3333333333333333,\"#9c179e\"],[0.4444444444444444,\"#bd3786\"],[0.5555555555555556,\"#d8576b\"],[0.6666666666666666,\"#ed7953\"],[0.7777777777777778,\"#fb9f3a\"],[0.8888888888888888,\"#fdca26\"],[1.0,\"#f0f921\"]]}],\"heatmapgl\":[{\"colorbar\":{\"outlinewidth\":0.0,\"ticks\":\"\"},\"colorscale\":[[0.0,\"#0d0887\"],[0.1111111111111111,\"#46039f\"],[0.2222222222222222,\"#7201a8\"],[0.3333333333333333,\"#9c179e\"],[0.4444444444444444,\"#bd3786\"],[0.5555555555555556,\"#d8576b\"],[0.6666666666666666,\"#ed7953\"],[0.7777777777777778,\"#fb9f3a\"],[0.8888888888888888,\"#fdca26\"],[1.0,\"#f0f921\"]]}],\"histogram\":[{\"marker\":{\"pattern\":{\"fillmode\":\"overlay\",\"size\":10,\"solidity\":0.2}}}],\"histogram2d\":[{\"colorbar\":{\"outlinewidth\":0.0,\"ticks\":\"\"},\"colorscale\":[[0.0,\"#0d0887\"],[0.1111111111111111,\"#46039f\"],[0.2222222222222222,\"#7201a8\"],[0.3333333333333333,\"#9c179e\"],[0.4444444444444444,\"#bd3786\"],[0.5555555555555556,\"#d8576b\"],[0.6666666666666666,\"#ed7953\"],[0.7777777777777778,\"#fb9f3a\"],[0.8888888888888888,\"#fdca26\"],[1.0,\"#f0f921\"]]}],\"histogram2dcontour\":[{\"colorbar\":{\"outlinewidth\":0.0,\"ticks\":\"\"},\"colorscale\":[[0.0,\"#0d0887\"],[0.1111111111111111,\"#46039f\"],[0.2222222222222222,\"#7201a8\"],[0.3333333333333333,\"#9c179e\"],[0.4444444444444444,\"#bd3786\"],[0.5555555555555556,\"#d8576b\"],[0.6666666666666666,\"#ed7953\"],[0.7777777777777778,\"#fb9f3a\"],[0.8888888888888888,\"#fdca26\"],[1.0,\"#f0f921\"]]}],\"mesh3d\":[{\"colorbar\":{\"outlinewidth\":0.0,\"ticks\":\"\"}}],\"parcoords\":[{\"line\":{\"colorbar\":{\"outlinewidth\":0.0,\"ticks\":\"\"}}}],\"pie\":[{\"automargin\":true}],\"scatter\":[{\"marker\":{\"colorbar\":{\"outlinewidth\":0.0,\"ticks\":\"\"}}}],\"scatter3d\":[{\"marker\":{\"colorbar\":{\"outlinewidth\":0.0,\"ticks\":\"\"}},\"line\":{\"colorbar\":{\"outlinewidth\":0.0,\"ticks\":\"\"}}}],\"scattercarpet\":[{\"marker\":{\"colorbar\":{\"outlinewidth\":0.0,\"ticks\":\"\"}}}],\"scattergeo\":[{\"marker\":{\"colorbar\":{\"outlinewidth\":0.0,\"ticks\":\"\"}}}],\"scattergl\":[{\"marker\":{\"colorbar\":{\"outlinewidth\":0.0,\"ticks\":\"\"}}}],\"scattermapbox\":[{\"marker\":{\"colorbar\":{\"outlinewidth\":0.0,\"ticks\":\"\"}}}],\"scatterpolar\":[{\"marker\":{\"colorbar\":{\"outlinewidth\":0.0,\"ticks\":\"\"}}}],\"scatterpolargl\":[{\"marker\":{\"colorbar\":{\"outlinewidth\":0.0,\"ticks\":\"\"}}}],\"scatterternary\":[{\"marker\":{\"colorbar\":{\"outlinewidth\":0.0,\"ticks\":\"\"}}}],\"surface\":[{\"colorbar\":{\"outlinewidth\":0.0,\"ticks\":\"\"},\"colorscale\":[[0.0,\"#0d0887\"],[0.1111111111111111,\"#46039f\"],[0.2222222222222222,\"#7201a8\"],[0.3333333333333333,\"#9c179e\"],[0.4444444444444444,\"#bd3786\"],[0.5555555555555556,\"#d8576b\"],[0.6666666666666666,\"#ed7953\"],[0.7777777777777778,\"#fb9f3a\"],[0.8888888888888888,\"#fdca26\"],[1.0,\"#f0f921\"]]}],\"table\":[{\"cells\":{\"fill\":{\"color\":\"rgba(235, 240, 248, 1.0)\"},\"line\":{\"color\":\"rgba(255, 255, 255, 1.0)\"}},\"header\":{\"fill\":{\"color\":\"rgba(200, 212, 227, 1.0)\"},\"line\":{\"color\":\"rgba(255, 255, 255, 1.0)\"}}}]}},\"xaxis\":{\"title\":{\"text\":\"Zeit\"}},\"yaxis\":{\"title\":{\"text\":\"Proteinkonzentration\"}}};\r\n",
       "            var config = {\"responsive\":true};\r\n",
       "            Plotly.newPlot('975a1be9-3a03-4562-8935-eb8c4a69be05', data, layout, config);\r\n",
       "});\r\n",
       "            };\r\n",
       "            if ((typeof(requirejs) !==  typeof(Function)) || (typeof(requirejs.config) !== typeof(Function))) {\r\n",
       "                var script = document.createElement(\"script\");\r\n",
       "                script.setAttribute(\"src\", \"https://cdnjs.cloudflare.com/ajax/libs/require.js/2.3.6/require.min.js\");\r\n",
       "                script.onload = function(){\r\n",
       "                    renderPlotly_975a1be93a0345628935eb8c4a69be05();\r\n",
       "                };\r\n",
       "                document.getElementsByTagName(\"head\")[0].appendChild(script);\r\n",
       "            }\r\n",
       "            else {\r\n",
       "                renderPlotly_975a1be93a0345628935eb8c4a69be05();\r\n",
       "            }\r\n",
       "</script>\r\n",
       "\n",
       "    \n",
       "</div>    \n"
      ]
     },
     "metadata": {},
     "output_type": "display_data"
    }
   ],
   "source": [
    "//Konstanten\n",
    "let beta  =  10.0 // Konstante für die Zunahme der Proteinkonzentration\n",
    "let gamma =  1.0  // Konstante für die Verringerung der Proteinkonzentration\n",
    "let K_d =    4.0  // Dissoziationskonstante\n",
    "let n =      2.0  // Hill Koeffizent \n",
    "\n",
    "// unsere DGL als  Modell (Model)\n",
    "let dP_dt : Model = \n",
    "    fun P t ->\n",
    "\n",
    "        let Proteinkonznetration1 = P[0] // Änderung in der Proteinmenge\n",
    "        let Proteinkonznetration2 = P[1] // Änderung in der Proteinmenge\n",
    "        //Änderung der Proteinkonzentration ohne positive Autoregulation\n",
    "        let Proteinkonznetration1' = beta - (gamma*Proteinkonznetration1)\n",
    "        // Änderung des Proteinkonzentration bei positiver Autoregulation (hier die Gleichung einsetzen)\n",
    "        let Proteinkonznetration2' = beta * (Proteinkonznetration2**n)/((Proteinkonznetration2**n) + (K_d**n)) - (gamma*Proteinkonznetration2)\n",
    "\n",
    "        [| Proteinkonznetration1'; Proteinkonznetration2' |]\n",
    "\n",
    "//Startkonzentrationen\n",
    "let P0 = [| \n",
    "    //Startkonzentration für das unregulierte Protein (muss nicht verändert werden)\n",
    "    0.0 \n",
    "    //Startkonzentration für das durch postive Autoreguliation regulierte Protein (hier bitte die Startwerte ändern)\n",
    "    4.0 \n",
    "|]\n",
    "\n",
    "// Simulation der Modelfuntkion\n",
    "let Ps = \n",
    "    modelContext.OdeInt(\n",
    "        0., // Startzeitpunkt\n",
    "        P0,\n",
    "        dP_dt\n",
    "    )\n",
    "    |> SolPoints.take 10 // Anzahl der Zeitpunkte\n",
    "    |> SolPoints.memorize \n",
    "\n",
    "//Graphische Darstellung der numerischen Lösung\n",
    "[\n",
    "    let proteins = Ps |> SolPoints.toPoints 1 \n",
    "    proteins |> Chart.Spline \n",
    "    |> Chart.withTraceInfo(\"Unreguliert\");\n",
    "    let proteinsregulated = Ps |> SolPoints.toPoints 2 \n",
    "    proteinsregulated|> Chart.Spline \n",
    "    |> Chart.withTraceInfo(\"negative AR\");\n",
    "]\n",
    "\n",
    "|> Chart.combine\n",
    "|> Chart.withXAxisStyle(\"Zeit\")\n",
    "|> Chart.withYAxisStyle(\"Proteinkonzentration\")"
   ]
  },
  {
   "cell_type": "markdown",
   "metadata": {},
   "source": [
    "Aufgabe: <br>\n",
    "Welchen Effekt hat postive Autoregulation?\n"
   ]
  },
  {
   "cell_type": "markdown",
   "metadata": {},
   "source": [
    "Hier die Antwort eingeben."
   ]
  },
  {
   "cell_type": "markdown",
   "metadata": {},
   "source": [
    "Es folgt eine kurze Besprechung. Falls Sie schnell vorangekommen sind, können sie bis zur Besprechung folgende Aufgaben lösen.\n",
    "\n",
    "\n",
    "Expertenaufgabe: <br>\n",
    "Überlegen sie sich wie lange die Antwortszeit von einem Protein ist, mit folgenden Bedingungen:\n",
    "1. Es gibt eine gewisse Anfangskonzentration $P_{Start}$\n",
    "2. Die Produktionsrate $\\beta$ ist null\n",
    "3. Der Teil $\\gamma_{Abbau}$ von $\\gamma$ ist null. \n",
    "\n",
    "Das bedeutet die initale Proteinkonzentration verändert sich nur durch das Verteilen des Proteins in der Zelle und durch Zellteilung. Die Antwortszeit soll sich auf das Volumen von einer Zelle beziehen.\n",
    "Überlegen sie weiterhin, ob diese Bedingungen häufig auftreten insbesondere mit Blick auf die Stabilität der meisten Proteine in der Zelle.\n",
    "\n",
    "Falls sie Probleme mit dem lösen der Aufgabe haben, nutzen sie die folgende Literatur (diese beschreibt ein etwas komplexeres System, kommt aber zu der gesuchten Antwort):\n",
    "https://www.sciencedirect.com/science/article/pii/S0022283603005060?via%3Dihub"
   ]
  },
  {
   "cell_type": "markdown",
   "metadata": {},
   "source": [
    "Bitte hier die Antwort eingeben."
   ]
  },
  {
   "cell_type": "markdown",
   "metadata": {},
   "source": [
    "Take Home Messages\n",
    "\n",
    "1. Ordinäre differentialgleichungen für die Änderung der Proteinkonzentration erlauben es einfache Genexpressions prozesse zu beschreiben\n",
    "2. \n",
    "..\n",
    "n. <br>\n",
    "n+1. Die Regulation der Proteinproduktion durch Aktivatoren und Repressoren führt zu einer Verringerung des Proteinkonzentrationsgleichgewichtspunktes.<br>\n",
    "n+2. Negative Autoregulation verringert die Antwortszeit der Proteinproduktion und ist eines der einfachsten Netzwerkmotive.<br>\n",
    "n+2. Postive Autoregulation führt zu einer erhöhten Antwortszeit und ist ebenfalls ein Netzwerkmotiv.<br>\n"
   ]
  }
 ],
 "metadata": {
  "kernelspec": {
   "display_name": ".NET (C#)",
   "language": "C#",
   "name": ".net-csharp"
  },
  "language_info": {
   "file_extension": ".cs",
   "mimetype": "text/x-csharp",
   "name": "C#",
   "pygments_lexer": "csharp",
   "version": "9.0"
  },
  "vscode": {
   "interpreter": {
    "hash": "3017eed01e41510f2e4758f02a5c4b458edd512c2a48ee2ef97492bf17f5a7a1"
   }
  }
 },
 "nbformat": 4,
 "nbformat_minor": 2
}
