{
 "cells": [
  {
   "cell_type": "code",
   "execution_count": null,
   "metadata": {
    "dotnet_interactive": {
     "language": "fsharp"
    },
    "vscode": {
     "languageId": "dotnet-interactive.fsharp"
    }
   },
   "outputs": [
    {
     "data": {
      "text/html": [
       "<div><div></div><div></div><div><strong>Installed Packages</strong><ul><li><span>FSharp.Stats, 0.4.8</span></li><li><span>FsODE, 0.0.2</span></li><li><span>Plotly.NET.Interactive, 3.0.2</span></li></ul></div></div>"
      ]
     },
     "metadata": {},
     "output_type": "display_data"
    }
   ],
   "source": [
    "// Importieren der benötigten Module\n",
    "#r \"nuget: Plotly.NET.Interactive, 3.0.2\"\n",
    "#r \"nuget: FsODE, 0.0.2\"\n",
    "#r \"nuget: FSharp.Stats\"\n",
    "\n",
    "// ... und öffnen der benöätigten Module\n",
    "open FsODE\n",
    "open Plotly.NET\n",
    "open FSharp.Stats\n",
    "open FsODE.Stochastic\n",
    "\n",
    "// der Rechenalgorithmus der Programmbibliothek, die wir benutzen:\n",
    "let modelContext = //OdeContext()\n",
    "    OdeSolverMethod.RK546M //RK547M()\n",
    "    |> OdeContext"
   ]
  },
  {
   "cell_type": "markdown",
   "metadata": {},
   "source": [
    "## Modellierung von einfachen biologischen Systemen\n",
    "\n",
    "### Inhalt\n",
    "\n",
    "- einfache Biologische Systeme\n",
    "- Stochastik \n",
    "- Aktivator und Repressor\n",
    "- Autoregulation\n",
    "    - Negative Autoregulation\n",
    "    - Postive Autoregulation\n",
    "\n",
    "### Biologische Systeme \n",
    "\n",
    "Biologische Systeme können als Netzwerke aufgefasst werden, in welchen biologischen Einheiten miteinander verknüpft sind. Dabei hängen Größe, Art, und Anzahl der biologischen Einheiten vom gewählten System ab. Biologische Zellen sind dabei besonders interessanteste Systeme. Sie werden begrenzt von einer Membran die Stoff-, Energie-, und Informationsaustausch mit der Umgebung erlaubt, und enthalten Millionen von Molekülen die alle miteinander interagieren. Dabei sind die Interaktionen zumeist spezifischer Natur und formen selbst wiederum kleinere biologische Systeme, die die Funktion der ganzen Zelle sicherstellen. Beispiele für solche Systeme sind die Kontrolle des Zelltods, Signalwege die die Kommunikation mit anderen Zellen erlauben, die Nutzung von Metaboliten, und viele weitere. \n",
    "Die Grundeinheiten in solchen Systemen sind Gene, beziehungsweise die Proteine, welche von diesen kodiert werden. Diese Grundeinheiten sind miteinander verbunden in sogenannten Netzwerkmotiven. Diese Netzwerkmotive sind mannigfaltig und die Grundlegendsten werden in den nächsten zwei Notebooks besprochen. <br>\n",
    "Alle Netzwerke beschäftigen sich damit, wie sich die einzelnen Proteinkonzentration verändern und welche Auswirkungen dies hat. Daher ist der erste Schritt zum Verständnis von diesen, die Differenzialgleichung die beschreibt wie sich die Proteinkonzentration eines Proteins über die Zeit verändert.\n",
    "Der Aufbau der Differenzialgleichung ist immer identisch. Die Komplexität der einzelnen Teile der Gleichung kann jedoch variieren in Abhängigkeit der Anzahl an Faktoren, die auf die Produktion des Proteins Einfluss nehmen. Diese allgemeine Form ist \n",
    "$$ \\frac {dProteinkonzentration} {dt} = \\textrm{Produktion des Proteins} - \\textrm{Verringerung der Proteinkonzentration}$$\n"
   ]
  },
  {
   "cell_type": "markdown",
   "metadata": {},
   "source": [
    "##### Aufgabe 3.1\n",
    "***Der Ausdruck \"Verringerung der Proteinkonzentration\" ist sehr allgemein formuliert. Überlegen Sie, welche Faktoren für diese Verringerung verantwortlich sein können. Betreiben Sie falls nötig Literaturrecherche.***"
   ]
  },
  {
   "cell_type": "markdown",
   "metadata": {},
   "source": [
    "\n",
    "Was ist dann die Proteinkonzentration eines Proteins X das von einem Gen x produziert wird? Wenn die Annahme getätigt wird, dass das Gen x nur das Protein X codiert und auch in sonst keiner Weise beeinflusst wird, kann die Produktion des Proteins X direkt mit einer Produktionsrate $\\beta$ beschrieben werden. Dem gegenüber stehen die Faktoren, welche die Proteinkonzentration verringern. Diese sind abhängig von der Proteinkonzentration. Die mathematische Beschreibung dieses Prozesses wird mit dem Verringerungsfaktor $\\gamma$ zusammengefasst, der mit der Proteinkonzentration verrechnet wird. Die Differenzialgleichung ist somit\n",
    "\n",
    "$$ \\frac {dProteinkonzentration} {dt} = \\beta - \\gamma*Proteinkonzentration$$\n",
    "\n",
    "##### Aufgabe 3.2\n",
    "***Setze die Differenzialgleichung in das folgende Model ein (beachte das $\\beta \\textrm{ und } \\gamma$ als \"beta\" und \"gamma\", ohne \"\", eingesetzt werden müssen und nicht als Symbole).***\n"
   ]
  },
  {
   "cell_type": "code",
   "execution_count": null,
   "metadata": {
    "dotnet_interactive": {
     "language": "fsharp"
    },
    "vscode": {
     "languageId": "dotnet-interactive.fsharp"
    }
   },
   "outputs": [
    {
     "data": {
      "text/html": [
       "\n",
       "<div>\n",
       "    <div id=\"e6d7ec4d-003e-4c37-b22f-3b4c1844c56d\"><!-- Plotly chart will be drawn inside this DIV --></div>\r\n",
       "<script type=\"text/javascript\">\r\n",
       "\r\n",
       "            var renderPlotly_e6d7ec4d003e4c37b22f3b4c1844c56d = function() {\r\n",
       "            var fsharpPlotlyRequire = requirejs.config({context:'fsharp-plotly',paths:{plotly:'https://cdn.plot.ly/plotly-2.6.3.min'}}) || require;\r\n",
       "            fsharpPlotlyRequire(['plotly'], function(Plotly) {\r\n",
       "\r\n",
       "            var data = [{\"type\":\"scatter\",\"mode\":\"lines\",\"x\":[0.0,0.7989479999643277,1.515360099024572,2.2056811569599497,2.9035649684403015,3.6321330352019467,4.4122540345783285,5.2660951372752205,6.219302924272051,7.30353848796182],\"y\":[10.0,5.598425870906858,3.7578334079090143,2.881401691153138,2.438617160567895,2.2116760158590605,2.09702191402635,2.041310162261161,2.015926093831235,2.005386870962245],\"marker\":{},\"line\":{\"shape\":\"spline\"},\"name\":\"Protein\"}];\r\n",
       "            var layout = {\"width\":600,\"height\":600,\"template\":{\"layout\":{\"title\":{\"x\":0.05},\"font\":{\"color\":\"rgba(42, 63, 95, 1.0)\"},\"paper_bgcolor\":\"rgba(255, 255, 255, 1.0)\",\"plot_bgcolor\":\"rgba(229, 236, 246, 1.0)\",\"autotypenumbers\":\"strict\",\"colorscale\":{\"diverging\":[[0.0,\"#8e0152\"],[0.1,\"#c51b7d\"],[0.2,\"#de77ae\"],[0.3,\"#f1b6da\"],[0.4,\"#fde0ef\"],[0.5,\"#f7f7f7\"],[0.6,\"#e6f5d0\"],[0.7,\"#b8e186\"],[0.8,\"#7fbc41\"],[0.9,\"#4d9221\"],[1.0,\"#276419\"]],\"sequential\":[[0.0,\"#0d0887\"],[0.1111111111111111,\"#46039f\"],[0.2222222222222222,\"#7201a8\"],[0.3333333333333333,\"#9c179e\"],[0.4444444444444444,\"#bd3786\"],[0.5555555555555556,\"#d8576b\"],[0.6666666666666666,\"#ed7953\"],[0.7777777777777778,\"#fb9f3a\"],[0.8888888888888888,\"#fdca26\"],[1.0,\"#f0f921\"]],\"sequentialminus\":[[0.0,\"#0d0887\"],[0.1111111111111111,\"#46039f\"],[0.2222222222222222,\"#7201a8\"],[0.3333333333333333,\"#9c179e\"],[0.4444444444444444,\"#bd3786\"],[0.5555555555555556,\"#d8576b\"],[0.6666666666666666,\"#ed7953\"],[0.7777777777777778,\"#fb9f3a\"],[0.8888888888888888,\"#fdca26\"],[1.0,\"#f0f921\"]]},\"hovermode\":\"closest\",\"hoverlabel\":{\"align\":\"left\"},\"coloraxis\":{\"colorbar\":{\"outlinewidth\":0.0,\"ticks\":\"\"}},\"geo\":{\"showland\":true,\"landcolor\":\"rgba(229, 236, 246, 1.0)\",\"showlakes\":true,\"lakecolor\":\"rgba(255, 255, 255, 1.0)\",\"subunitcolor\":\"rgba(255, 255, 255, 1.0)\",\"bgcolor\":\"rgba(255, 255, 255, 1.0)\"},\"mapbox\":{\"style\":\"light\"},\"polar\":{\"bgcolor\":\"rgba(229, 236, 246, 1.0)\",\"radialaxis\":{\"linecolor\":\"rgba(255, 255, 255, 1.0)\",\"gridcolor\":\"rgba(255, 255, 255, 1.0)\",\"ticks\":\"\"},\"angularaxis\":{\"linecolor\":\"rgba(255, 255, 255, 1.0)\",\"gridcolor\":\"rgba(255, 255, 255, 1.0)\",\"ticks\":\"\"}},\"scene\":{\"xaxis\":{\"ticks\":\"\",\"linecolor\":\"rgba(255, 255, 255, 1.0)\",\"gridcolor\":\"rgba(255, 255, 255, 1.0)\",\"gridwidth\":2.0,\"zerolinecolor\":\"rgba(255, 255, 255, 1.0)\",\"backgroundcolor\":\"rgba(229, 236, 246, 1.0)\",\"showbackground\":true},\"yaxis\":{\"ticks\":\"\",\"linecolor\":\"rgba(255, 255, 255, 1.0)\",\"gridcolor\":\"rgba(255, 255, 255, 1.0)\",\"gridwidth\":2.0,\"zerolinecolor\":\"rgba(255, 255, 255, 1.0)\",\"backgroundcolor\":\"rgba(229, 236, 246, 1.0)\",\"showbackground\":true},\"zaxis\":{\"ticks\":\"\",\"linecolor\":\"rgba(255, 255, 255, 1.0)\",\"gridcolor\":\"rgba(255, 255, 255, 1.0)\",\"gridwidth\":2.0,\"zerolinecolor\":\"rgba(255, 255, 255, 1.0)\",\"backgroundcolor\":\"rgba(229, 236, 246, 1.0)\",\"showbackground\":true}},\"ternary\":{\"aaxis\":{\"ticks\":\"\",\"linecolor\":\"rgba(255, 255, 255, 1.0)\",\"gridcolor\":\"rgba(255, 255, 255, 1.0)\"},\"baxis\":{\"ticks\":\"\",\"linecolor\":\"rgba(255, 255, 255, 1.0)\",\"gridcolor\":\"rgba(255, 255, 255, 1.0)\"},\"caxis\":{\"ticks\":\"\",\"linecolor\":\"rgba(255, 255, 255, 1.0)\",\"gridcolor\":\"rgba(255, 255, 255, 1.0)\"},\"bgcolor\":\"rgba(229, 236, 246, 1.0)\"},\"xaxis\":{\"title\":{\"standoff\":15},\"ticks\":\"\",\"automargin\":true,\"linecolor\":\"rgba(255, 255, 255, 1.0)\",\"gridcolor\":\"rgba(255, 255, 255, 1.0)\",\"zerolinecolor\":\"rgba(255, 255, 255, 1.0)\",\"zerolinewidth\":2.0},\"yaxis\":{\"title\":{\"standoff\":15},\"ticks\":\"\",\"automargin\":true,\"linecolor\":\"rgba(255, 255, 255, 1.0)\",\"gridcolor\":\"rgba(255, 255, 255, 1.0)\",\"zerolinecolor\":\"rgba(255, 255, 255, 1.0)\",\"zerolinewidth\":2.0},\"annotationdefaults\":{\"arrowcolor\":\"#2a3f5f\",\"arrowhead\":0,\"arrowwidth\":1},\"shapedefaults\":{\"line\":{\"color\":\"rgba(42, 63, 95, 1.0)\"}},\"colorway\":[\"rgba(99, 110, 250, 1.0)\",\"rgba(239, 85, 59, 1.0)\",\"rgba(0, 204, 150, 1.0)\",\"rgba(171, 99, 250, 1.0)\",\"rgba(255, 161, 90, 1.0)\",\"rgba(25, 211, 243, 1.0)\",\"rgba(255, 102, 146, 1.0)\",\"rgba(182, 232, 128, 1.0)\",\"rgba(255, 151, 255, 1.0)\",\"rgba(254, 203, 82, 1.0)\"]},\"data\":{\"bar\":[{\"marker\":{\"line\":{\"color\":\"rgba(229, 236, 246, 1.0)\",\"width\":0.5},\"pattern\":{\"fillmode\":\"overlay\",\"size\":10,\"solidity\":0.2}},\"error_x\":{\"color\":\"rgba(42, 63, 95, 1.0)\"},\"error_y\":{\"color\":\"rgba(42, 63, 95, 1.0)\"}}],\"barpolar\":[{\"marker\":{\"line\":{\"color\":\"rgba(229, 236, 246, 1.0)\",\"width\":0.5},\"pattern\":{\"fillmode\":\"overlay\",\"size\":10,\"solidity\":0.2}}}],\"carpet\":[{\"aaxis\":{\"linecolor\":\"rgba(255, 255, 255, 1.0)\",\"gridcolor\":\"rgba(255, 255, 255, 1.0)\",\"endlinecolor\":\"rgba(42, 63, 95, 1.0)\",\"minorgridcolor\":\"rgba(255, 255, 255, 1.0)\",\"startlinecolor\":\"rgba(42, 63, 95, 1.0)\"},\"baxis\":{\"linecolor\":\"rgba(255, 255, 255, 1.0)\",\"gridcolor\":\"rgba(255, 255, 255, 1.0)\",\"endlinecolor\":\"rgba(42, 63, 95, 1.0)\",\"minorgridcolor\":\"rgba(255, 255, 255, 1.0)\",\"startlinecolor\":\"rgba(42, 63, 95, 1.0)\"}}],\"choropleth\":[{\"colorbar\":{\"outlinewidth\":0.0,\"ticks\":\"\"},\"colorscale\":[[0.0,\"#0d0887\"],[0.1111111111111111,\"#46039f\"],[0.2222222222222222,\"#7201a8\"],[0.3333333333333333,\"#9c179e\"],[0.4444444444444444,\"#bd3786\"],[0.5555555555555556,\"#d8576b\"],[0.6666666666666666,\"#ed7953\"],[0.7777777777777778,\"#fb9f3a\"],[0.8888888888888888,\"#fdca26\"],[1.0,\"#f0f921\"]]}],\"contour\":[{\"colorbar\":{\"outlinewidth\":0.0,\"ticks\":\"\"},\"colorscale\":[[0.0,\"#0d0887\"],[0.1111111111111111,\"#46039f\"],[0.2222222222222222,\"#7201a8\"],[0.3333333333333333,\"#9c179e\"],[0.4444444444444444,\"#bd3786\"],[0.5555555555555556,\"#d8576b\"],[0.6666666666666666,\"#ed7953\"],[0.7777777777777778,\"#fb9f3a\"],[0.8888888888888888,\"#fdca26\"],[1.0,\"#f0f921\"]]}],\"contourcarpet\":[{\"colorbar\":{\"outlinewidth\":0.0,\"ticks\":\"\"}}],\"heatmap\":[{\"colorbar\":{\"outlinewidth\":0.0,\"ticks\":\"\"},\"colorscale\":[[0.0,\"#0d0887\"],[0.1111111111111111,\"#46039f\"],[0.2222222222222222,\"#7201a8\"],[0.3333333333333333,\"#9c179e\"],[0.4444444444444444,\"#bd3786\"],[0.5555555555555556,\"#d8576b\"],[0.6666666666666666,\"#ed7953\"],[0.7777777777777778,\"#fb9f3a\"],[0.8888888888888888,\"#fdca26\"],[1.0,\"#f0f921\"]]}],\"heatmapgl\":[{\"colorbar\":{\"outlinewidth\":0.0,\"ticks\":\"\"},\"colorscale\":[[0.0,\"#0d0887\"],[0.1111111111111111,\"#46039f\"],[0.2222222222222222,\"#7201a8\"],[0.3333333333333333,\"#9c179e\"],[0.4444444444444444,\"#bd3786\"],[0.5555555555555556,\"#d8576b\"],[0.6666666666666666,\"#ed7953\"],[0.7777777777777778,\"#fb9f3a\"],[0.8888888888888888,\"#fdca26\"],[1.0,\"#f0f921\"]]}],\"histogram\":[{\"marker\":{\"pattern\":{\"fillmode\":\"overlay\",\"size\":10,\"solidity\":0.2}}}],\"histogram2d\":[{\"colorbar\":{\"outlinewidth\":0.0,\"ticks\":\"\"},\"colorscale\":[[0.0,\"#0d0887\"],[0.1111111111111111,\"#46039f\"],[0.2222222222222222,\"#7201a8\"],[0.3333333333333333,\"#9c179e\"],[0.4444444444444444,\"#bd3786\"],[0.5555555555555556,\"#d8576b\"],[0.6666666666666666,\"#ed7953\"],[0.7777777777777778,\"#fb9f3a\"],[0.8888888888888888,\"#fdca26\"],[1.0,\"#f0f921\"]]}],\"histogram2dcontour\":[{\"colorbar\":{\"outlinewidth\":0.0,\"ticks\":\"\"},\"colorscale\":[[0.0,\"#0d0887\"],[0.1111111111111111,\"#46039f\"],[0.2222222222222222,\"#7201a8\"],[0.3333333333333333,\"#9c179e\"],[0.4444444444444444,\"#bd3786\"],[0.5555555555555556,\"#d8576b\"],[0.6666666666666666,\"#ed7953\"],[0.7777777777777778,\"#fb9f3a\"],[0.8888888888888888,\"#fdca26\"],[1.0,\"#f0f921\"]]}],\"mesh3d\":[{\"colorbar\":{\"outlinewidth\":0.0,\"ticks\":\"\"}}],\"parcoords\":[{\"line\":{\"colorbar\":{\"outlinewidth\":0.0,\"ticks\":\"\"}}}],\"pie\":[{\"automargin\":true}],\"scatter\":[{\"marker\":{\"colorbar\":{\"outlinewidth\":0.0,\"ticks\":\"\"}}}],\"scatter3d\":[{\"marker\":{\"colorbar\":{\"outlinewidth\":0.0,\"ticks\":\"\"}},\"line\":{\"colorbar\":{\"outlinewidth\":0.0,\"ticks\":\"\"}}}],\"scattercarpet\":[{\"marker\":{\"colorbar\":{\"outlinewidth\":0.0,\"ticks\":\"\"}}}],\"scattergeo\":[{\"marker\":{\"colorbar\":{\"outlinewidth\":0.0,\"ticks\":\"\"}}}],\"scattergl\":[{\"marker\":{\"colorbar\":{\"outlinewidth\":0.0,\"ticks\":\"\"}}}],\"scattermapbox\":[{\"marker\":{\"colorbar\":{\"outlinewidth\":0.0,\"ticks\":\"\"}}}],\"scatterpolar\":[{\"marker\":{\"colorbar\":{\"outlinewidth\":0.0,\"ticks\":\"\"}}}],\"scatterpolargl\":[{\"marker\":{\"colorbar\":{\"outlinewidth\":0.0,\"ticks\":\"\"}}}],\"scatterternary\":[{\"marker\":{\"colorbar\":{\"outlinewidth\":0.0,\"ticks\":\"\"}}}],\"surface\":[{\"colorbar\":{\"outlinewidth\":0.0,\"ticks\":\"\"},\"colorscale\":[[0.0,\"#0d0887\"],[0.1111111111111111,\"#46039f\"],[0.2222222222222222,\"#7201a8\"],[0.3333333333333333,\"#9c179e\"],[0.4444444444444444,\"#bd3786\"],[0.5555555555555556,\"#d8576b\"],[0.6666666666666666,\"#ed7953\"],[0.7777777777777778,\"#fb9f3a\"],[0.8888888888888888,\"#fdca26\"],[1.0,\"#f0f921\"]]}],\"table\":[{\"cells\":{\"fill\":{\"color\":\"rgba(235, 240, 248, 1.0)\"},\"line\":{\"color\":\"rgba(255, 255, 255, 1.0)\"}},\"header\":{\"fill\":{\"color\":\"rgba(200, 212, 227, 1.0)\"},\"line\":{\"color\":\"rgba(255, 255, 255, 1.0)\"}}}]}},\"xaxis\":{\"title\":{\"text\":\"Zeit\"}},\"yaxis\":{\"title\":{\"text\":\"Proteinkonzentration\"}}};\r\n",
       "            var config = {\"responsive\":true};\r\n",
       "            Plotly.newPlot('e6d7ec4d-003e-4c37-b22f-3b4c1844c56d', data, layout, config);\r\n",
       "});\r\n",
       "            };\r\n",
       "            if ((typeof(requirejs) !==  typeof(Function)) || (typeof(requirejs.config) !== typeof(Function))) {\r\n",
       "                var script = document.createElement(\"script\");\r\n",
       "                script.setAttribute(\"src\", \"https://cdnjs.cloudflare.com/ajax/libs/require.js/2.3.6/require.min.js\");\r\n",
       "                script.onload = function(){\r\n",
       "                    renderPlotly_e6d7ec4d003e4c37b22f3b4c1844c56d();\r\n",
       "                };\r\n",
       "                document.getElementsByTagName(\"head\")[0].appendChild(script);\r\n",
       "            }\r\n",
       "            else {\r\n",
       "                renderPlotly_e6d7ec4d003e4c37b22f3b4c1844c56d();\r\n",
       "            }\r\n",
       "</script>\r\n",
       "\n",
       "    \n",
       "</div>    \n"
      ]
     },
     "metadata": {},
     "output_type": "display_data"
    }
   ],
   "source": [
    "//Konstanten\n",
    "let beta =    2. // Konstante für die Zunahme der Proteinkonzentration\n",
    "let gamma =   1. // Konstante für die Verringerung der Proteinkonzentration\n",
    "\n",
    "// unsere DGL als  Modell (Model)\n",
    "let dP_dt : Model = \n",
    "    fun P t ->\n",
    "        // Veränderung der Proteinmenge\n",
    "        let Proteinkonzentration = P[0] \n",
    "        // Modelfunktion (hier die Gleichung einfügen)\n",
    "        let Proteinkonzentration' = beta - gamma*Proteinkonzentration\n",
    "\n",
    "        [| Proteinkonzentration' |]\n",
    "\n",
    "//Startkonzentrationen\n",
    "let P0 = [| \n",
    "    10.0 \n",
    "|]\n",
    "\n",
    "// Simulation der Modelfuntkion\n",
    "let Ps = \n",
    "    modelContext.OdeInt(\n",
    "        0., // Startzeitpunkt\n",
    "        P0,\n",
    "        dP_dt\n",
    "    )\n",
    "    |> SolPoints.take 10 // Anzahl der Zeitpunkte\n",
    "    |> SolPoints.memorize \n",
    "\n",
    "let proteins = SolPoints.toPoints 1 Ps\n",
    "\n",
    "//Graphische Darstellung der numerischen Lösung\n",
    "proteins\n",
    "|> Chart.Spline \n",
    "|> Chart.withTraceInfo(\"Protein\")\n",
    "|> Chart.withXAxisStyle(\"Zeit\")\n",
    "|> Chart.withYAxisStyle(\"Proteinkonzentration\")"
   ]
  },
  {
   "cell_type": "markdown",
   "metadata": {},
   "source": [
    "Der erstellte Graph zeigt wie sich die Proteinkonzentration über die Zeit verändert. Die Proteinkonzentration startet am Zeitpunkt 0 bei einem Wert von 10, $Proteinkonzentration (0) = 10$. Die Proteinkonzentration nähert sich mit der Zeit dem Wert 2. Dieser Wert entspricht dem Punkt an dem Produktion und Verringerung der Proteinanzahl im Gleichgewicht stehen und ist somit ein Gleichgewichtspunkt. Dieser Gleichgewichtspunkt wird im folgenden $Proteinkonzentration_{GGW}$ genannt. Das $Proteinkonzentration_{GGW}$ ist von den Werten von $\\beta$ und $\\gamma$ anhängig. Die Werte von $\\beta$ und $\\gamma$ die zu dem $Proteinkonzentration_{GGW} = 2$ geführt haben sind 2. und 1. (die Werte sind im oberen code block beim Absatz Konstanten zu finden)."
   ]
  },
  {
   "cell_type": "markdown",
   "metadata": {},
   "source": [
    "##### Aufgabe 3.3 \n",
    "***Verändere den Wert von $\\beta$ und versuche eine Gesetzmäßigkeit zu erkennen die beschreibt welchen Wert die Proteinkonzentration im GGW annimmt in Abhängigkeit von $\\beta \\textrm{ und } \\gamma$. Wähle die korrekte Gleichung aus den vier nachfolgen aus, die diese Gesetzmäßigkeit beschreibt. Kopiere dafür den Code Block von oben in den nachfolgenden Code Block und ändere dann $\\beta$ ( $\\beta$ befindet sich im Abschnitt Konstanten, beachte das die Eingesetzten Zahlen Fließzahlen sein müssen).***"
   ]
  },
  {
   "cell_type": "code",
   "execution_count": null,
   "metadata": {
    "dotnet_interactive": {
     "language": "fsharp"
    },
    "vscode": {
     "languageId": "dotnet-interactive.fsharp"
    }
   },
   "outputs": [],
   "source": [
    "//Code hier reinkopieren"
   ]
  },
  {
   "cell_type": "markdown",
   "metadata": {},
   "source": [
    "Mögliche Gleichungen die das Problem beschreiben:\n",
    "\n",
    "\n",
    "a) $Proteinkonzentration_{GGW} = \\gamma  - 2*\\beta$\n",
    " \n",
    "b) $Proteinkonzentration_{GGW} = \\frac {\\beta * \\gamma}  {\\gamma^{2}}$ \n",
    "\n",
    "c) $Proteinkonzentration_{GGW} = \\frac {\\beta}  {\\gamma}$ \n",
    "\n",
    "d) $Proteinkonzentration_{GGW} = \\frac {\\beta^{2}}  {\\gamma^{\\beta}}$ "
   ]
  },
  {
   "cell_type": "markdown",
   "metadata": {},
   "source": [
    "In diesen Block die gewählte Antwort einfügen"
   ]
  },
  {
   "cell_type": "markdown",
   "metadata": {},
   "source": [
    "Natürlich werden Proteine nicht direkt von einem Gen produziert, sondern es kommt zuerst zur Transkription des Gens und somit zur Produktion von mRNA. Daher ist eine korrekter Darstellung der Proteinkonzentration nur möglich durch das verknüpfen von zwei Differenzialgleichungen. Eine die beschreibt wie sich die mRNA Konzentration mit der Zeit ändert und eine die beschreibt wie sich die Proteinkonzentration mit der Zeit ändert. Diese sind \n",
    "$$\\textrm {mRNAKonzentration'}  = \\frac {\\textrm {dmRNAKonzentration}} {dt} = \\beta_{1} - \\gamma_{1}*\\textrm {mRNAKonzentration'}$$\n",
    "$$\\textrm {Proteinkonzentration'} = \\frac {dProteinkonzentration} {dt} = \\beta_{2} * mRNAKonzentration - \\gamma_{2}*Proteinkonzentration$$\n",
    "\n",
    "Die verknüpfung findet bei der Produktion des Proteins statt. Diese ist jetzt abhängig von der Konzentration von mRNA in der Zelle und nicht länger nur von der Konstante $\\beta$, was auch nur logisch ist da mehr mRNA zu mehr Protein führen sollte. \n",
    "\n",
    "##### Aufgabe 3.4\n",
    "***Setze die beiden Differenzialgleichung in das folgende Model ein (beachte das $\\beta_{1} \\textrm{ und } \\gamma_{1}$ als \"beta1\" und \"gamma1\", ohne \"\", eingesetzt werden müssen und nicht als Symbole. Das selbe gilt für $\\beta_{2} \\textrm{ und } \\gamma_{2}$ ).***"
   ]
  },
  {
   "cell_type": "code",
   "execution_count": null,
   "metadata": {
    "dotnet_interactive": {
     "language": "fsharp"
    },
    "vscode": {
     "languageId": "dotnet-interactive.fsharp"
    }
   },
   "outputs": [
    {
     "data": {
      "text/html": [
       "\n",
       "<div>\n",
       "    <div id=\"fda7dc46-a66c-44d9-832d-feb4af675dca\"><!-- Plotly chart will be drawn inside this DIV --></div>\r\n",
       "<script type=\"text/javascript\">\r\n",
       "\r\n",
       "            var renderPlotly_fda7dc46a66c44d9832dfeb4af675dca = function() {\r\n",
       "            var fsharpPlotlyRequire = requirejs.config({context:'fsharp-plotly',paths:{plotly:'https://cdn.plot.ly/plotly-2.6.3.min'}}) || require;\r\n",
       "            fsharpPlotlyRequire(['plotly'], function(Plotly) {\r\n",
       "\r\n",
       "            var data = [{\"type\":\"scatter\",\"mode\":\"lines\",\"x\":[0.0,0.2967337943944471,0.543865762768948,0.784045103596793,1.0540343133043613,1.3670550245370447,1.7306922440157628,2.1528386206572545,2.644570127916146,3.22282023208009,3.91395833413242,4.755424353096238,5.777579139218129,6.987581618660051,8.403578397796904],\"y\":[0.0,0.22379642345676887,0.3315105493570299,0.39577901659584597,0.4392641930059082,0.46752439059581447,0.48430703015873383,0.4932541291438619,0.4974767408685941,0.4992058503221826,0.49980014045998417,0.49996224288838864,0.49999460843871946,0.49999927436204866,0.49999985519853873],\"marker\":{},\"line\":{\"shape\":\"spline\"},\"name\":\"mRNA\"},{\"type\":\"scatter\",\"mode\":\"lines\",\"x\":[0.0,0.2967337943944471,0.543865762768948,0.784045103596793,1.0540343133043613,1.3670550245370447,1.7306922440157628,2.1528386206572545,2.644570127916146,3.22282023208009,3.91395833413242,4.755424353096238,5.777579139218129,6.987581618660051,8.403578397796904],\"y\":[0.0,0.0659235828682963,0.17597935058783484,0.29533116692268774,0.42441406267937287,0.5552385541319356,0.6770626612166626,0.7811840330166597,0.862975049870299,0.9219035675974873,0.9604773370694883,0.9828656796203603,0.9938175632078003,0.998153308905232,0.9995502982865268],\"marker\":{},\"line\":{\"shape\":\"spline\"},\"name\":\"Proteine\"}];\r\n",
       "            var layout = {\"width\":600,\"height\":600,\"template\":{\"layout\":{\"title\":{\"x\":0.05},\"font\":{\"color\":\"rgba(42, 63, 95, 1.0)\"},\"paper_bgcolor\":\"rgba(255, 255, 255, 1.0)\",\"plot_bgcolor\":\"rgba(229, 236, 246, 1.0)\",\"autotypenumbers\":\"strict\",\"colorscale\":{\"diverging\":[[0.0,\"#8e0152\"],[0.1,\"#c51b7d\"],[0.2,\"#de77ae\"],[0.3,\"#f1b6da\"],[0.4,\"#fde0ef\"],[0.5,\"#f7f7f7\"],[0.6,\"#e6f5d0\"],[0.7,\"#b8e186\"],[0.8,\"#7fbc41\"],[0.9,\"#4d9221\"],[1.0,\"#276419\"]],\"sequential\":[[0.0,\"#0d0887\"],[0.1111111111111111,\"#46039f\"],[0.2222222222222222,\"#7201a8\"],[0.3333333333333333,\"#9c179e\"],[0.4444444444444444,\"#bd3786\"],[0.5555555555555556,\"#d8576b\"],[0.6666666666666666,\"#ed7953\"],[0.7777777777777778,\"#fb9f3a\"],[0.8888888888888888,\"#fdca26\"],[1.0,\"#f0f921\"]],\"sequentialminus\":[[0.0,\"#0d0887\"],[0.1111111111111111,\"#46039f\"],[0.2222222222222222,\"#7201a8\"],[0.3333333333333333,\"#9c179e\"],[0.4444444444444444,\"#bd3786\"],[0.5555555555555556,\"#d8576b\"],[0.6666666666666666,\"#ed7953\"],[0.7777777777777778,\"#fb9f3a\"],[0.8888888888888888,\"#fdca26\"],[1.0,\"#f0f921\"]]},\"hovermode\":\"closest\",\"hoverlabel\":{\"align\":\"left\"},\"coloraxis\":{\"colorbar\":{\"outlinewidth\":0.0,\"ticks\":\"\"}},\"geo\":{\"showland\":true,\"landcolor\":\"rgba(229, 236, 246, 1.0)\",\"showlakes\":true,\"lakecolor\":\"rgba(255, 255, 255, 1.0)\",\"subunitcolor\":\"rgba(255, 255, 255, 1.0)\",\"bgcolor\":\"rgba(255, 255, 255, 1.0)\"},\"mapbox\":{\"style\":\"light\"},\"polar\":{\"bgcolor\":\"rgba(229, 236, 246, 1.0)\",\"radialaxis\":{\"linecolor\":\"rgba(255, 255, 255, 1.0)\",\"gridcolor\":\"rgba(255, 255, 255, 1.0)\",\"ticks\":\"\"},\"angularaxis\":{\"linecolor\":\"rgba(255, 255, 255, 1.0)\",\"gridcolor\":\"rgba(255, 255, 255, 1.0)\",\"ticks\":\"\"}},\"scene\":{\"xaxis\":{\"ticks\":\"\",\"linecolor\":\"rgba(255, 255, 255, 1.0)\",\"gridcolor\":\"rgba(255, 255, 255, 1.0)\",\"gridwidth\":2.0,\"zerolinecolor\":\"rgba(255, 255, 255, 1.0)\",\"backgroundcolor\":\"rgba(229, 236, 246, 1.0)\",\"showbackground\":true},\"yaxis\":{\"ticks\":\"\",\"linecolor\":\"rgba(255, 255, 255, 1.0)\",\"gridcolor\":\"rgba(255, 255, 255, 1.0)\",\"gridwidth\":2.0,\"zerolinecolor\":\"rgba(255, 255, 255, 1.0)\",\"backgroundcolor\":\"rgba(229, 236, 246, 1.0)\",\"showbackground\":true},\"zaxis\":{\"ticks\":\"\",\"linecolor\":\"rgba(255, 255, 255, 1.0)\",\"gridcolor\":\"rgba(255, 255, 255, 1.0)\",\"gridwidth\":2.0,\"zerolinecolor\":\"rgba(255, 255, 255, 1.0)\",\"backgroundcolor\":\"rgba(229, 236, 246, 1.0)\",\"showbackground\":true}},\"ternary\":{\"aaxis\":{\"ticks\":\"\",\"linecolor\":\"rgba(255, 255, 255, 1.0)\",\"gridcolor\":\"rgba(255, 255, 255, 1.0)\"},\"baxis\":{\"ticks\":\"\",\"linecolor\":\"rgba(255, 255, 255, 1.0)\",\"gridcolor\":\"rgba(255, 255, 255, 1.0)\"},\"caxis\":{\"ticks\":\"\",\"linecolor\":\"rgba(255, 255, 255, 1.0)\",\"gridcolor\":\"rgba(255, 255, 255, 1.0)\"},\"bgcolor\":\"rgba(229, 236, 246, 1.0)\"},\"xaxis\":{\"title\":{\"standoff\":15},\"ticks\":\"\",\"automargin\":true,\"linecolor\":\"rgba(255, 255, 255, 1.0)\",\"gridcolor\":\"rgba(255, 255, 255, 1.0)\",\"zerolinecolor\":\"rgba(255, 255, 255, 1.0)\",\"zerolinewidth\":2.0},\"yaxis\":{\"title\":{\"standoff\":15},\"ticks\":\"\",\"automargin\":true,\"linecolor\":\"rgba(255, 255, 255, 1.0)\",\"gridcolor\":\"rgba(255, 255, 255, 1.0)\",\"zerolinecolor\":\"rgba(255, 255, 255, 1.0)\",\"zerolinewidth\":2.0},\"annotationdefaults\":{\"arrowcolor\":\"#2a3f5f\",\"arrowhead\":0,\"arrowwidth\":1},\"shapedefaults\":{\"line\":{\"color\":\"rgba(42, 63, 95, 1.0)\"}},\"colorway\":[\"rgba(99, 110, 250, 1.0)\",\"rgba(239, 85, 59, 1.0)\",\"rgba(0, 204, 150, 1.0)\",\"rgba(171, 99, 250, 1.0)\",\"rgba(255, 161, 90, 1.0)\",\"rgba(25, 211, 243, 1.0)\",\"rgba(255, 102, 146, 1.0)\",\"rgba(182, 232, 128, 1.0)\",\"rgba(255, 151, 255, 1.0)\",\"rgba(254, 203, 82, 1.0)\"]},\"data\":{\"bar\":[{\"marker\":{\"line\":{\"color\":\"rgba(229, 236, 246, 1.0)\",\"width\":0.5},\"pattern\":{\"fillmode\":\"overlay\",\"size\":10,\"solidity\":0.2}},\"error_x\":{\"color\":\"rgba(42, 63, 95, 1.0)\"},\"error_y\":{\"color\":\"rgba(42, 63, 95, 1.0)\"}}],\"barpolar\":[{\"marker\":{\"line\":{\"color\":\"rgba(229, 236, 246, 1.0)\",\"width\":0.5},\"pattern\":{\"fillmode\":\"overlay\",\"size\":10,\"solidity\":0.2}}}],\"carpet\":[{\"aaxis\":{\"linecolor\":\"rgba(255, 255, 255, 1.0)\",\"gridcolor\":\"rgba(255, 255, 255, 1.0)\",\"endlinecolor\":\"rgba(42, 63, 95, 1.0)\",\"minorgridcolor\":\"rgba(255, 255, 255, 1.0)\",\"startlinecolor\":\"rgba(42, 63, 95, 1.0)\"},\"baxis\":{\"linecolor\":\"rgba(255, 255, 255, 1.0)\",\"gridcolor\":\"rgba(255, 255, 255, 1.0)\",\"endlinecolor\":\"rgba(42, 63, 95, 1.0)\",\"minorgridcolor\":\"rgba(255, 255, 255, 1.0)\",\"startlinecolor\":\"rgba(42, 63, 95, 1.0)\"}}],\"choropleth\":[{\"colorbar\":{\"outlinewidth\":0.0,\"ticks\":\"\"},\"colorscale\":[[0.0,\"#0d0887\"],[0.1111111111111111,\"#46039f\"],[0.2222222222222222,\"#7201a8\"],[0.3333333333333333,\"#9c179e\"],[0.4444444444444444,\"#bd3786\"],[0.5555555555555556,\"#d8576b\"],[0.6666666666666666,\"#ed7953\"],[0.7777777777777778,\"#fb9f3a\"],[0.8888888888888888,\"#fdca26\"],[1.0,\"#f0f921\"]]}],\"contour\":[{\"colorbar\":{\"outlinewidth\":0.0,\"ticks\":\"\"},\"colorscale\":[[0.0,\"#0d0887\"],[0.1111111111111111,\"#46039f\"],[0.2222222222222222,\"#7201a8\"],[0.3333333333333333,\"#9c179e\"],[0.4444444444444444,\"#bd3786\"],[0.5555555555555556,\"#d8576b\"],[0.6666666666666666,\"#ed7953\"],[0.7777777777777778,\"#fb9f3a\"],[0.8888888888888888,\"#fdca26\"],[1.0,\"#f0f921\"]]}],\"contourcarpet\":[{\"colorbar\":{\"outlinewidth\":0.0,\"ticks\":\"\"}}],\"heatmap\":[{\"colorbar\":{\"outlinewidth\":0.0,\"ticks\":\"\"},\"colorscale\":[[0.0,\"#0d0887\"],[0.1111111111111111,\"#46039f\"],[0.2222222222222222,\"#7201a8\"],[0.3333333333333333,\"#9c179e\"],[0.4444444444444444,\"#bd3786\"],[0.5555555555555556,\"#d8576b\"],[0.6666666666666666,\"#ed7953\"],[0.7777777777777778,\"#fb9f3a\"],[0.8888888888888888,\"#fdca26\"],[1.0,\"#f0f921\"]]}],\"heatmapgl\":[{\"colorbar\":{\"outlinewidth\":0.0,\"ticks\":\"\"},\"colorscale\":[[0.0,\"#0d0887\"],[0.1111111111111111,\"#46039f\"],[0.2222222222222222,\"#7201a8\"],[0.3333333333333333,\"#9c179e\"],[0.4444444444444444,\"#bd3786\"],[0.5555555555555556,\"#d8576b\"],[0.6666666666666666,\"#ed7953\"],[0.7777777777777778,\"#fb9f3a\"],[0.8888888888888888,\"#fdca26\"],[1.0,\"#f0f921\"]]}],\"histogram\":[{\"marker\":{\"pattern\":{\"fillmode\":\"overlay\",\"size\":10,\"solidity\":0.2}}}],\"histogram2d\":[{\"colorbar\":{\"outlinewidth\":0.0,\"ticks\":\"\"},\"colorscale\":[[0.0,\"#0d0887\"],[0.1111111111111111,\"#46039f\"],[0.2222222222222222,\"#7201a8\"],[0.3333333333333333,\"#9c179e\"],[0.4444444444444444,\"#bd3786\"],[0.5555555555555556,\"#d8576b\"],[0.6666666666666666,\"#ed7953\"],[0.7777777777777778,\"#fb9f3a\"],[0.8888888888888888,\"#fdca26\"],[1.0,\"#f0f921\"]]}],\"histogram2dcontour\":[{\"colorbar\":{\"outlinewidth\":0.0,\"ticks\":\"\"},\"colorscale\":[[0.0,\"#0d0887\"],[0.1111111111111111,\"#46039f\"],[0.2222222222222222,\"#7201a8\"],[0.3333333333333333,\"#9c179e\"],[0.4444444444444444,\"#bd3786\"],[0.5555555555555556,\"#d8576b\"],[0.6666666666666666,\"#ed7953\"],[0.7777777777777778,\"#fb9f3a\"],[0.8888888888888888,\"#fdca26\"],[1.0,\"#f0f921\"]]}],\"mesh3d\":[{\"colorbar\":{\"outlinewidth\":0.0,\"ticks\":\"\"}}],\"parcoords\":[{\"line\":{\"colorbar\":{\"outlinewidth\":0.0,\"ticks\":\"\"}}}],\"pie\":[{\"automargin\":true}],\"scatter\":[{\"marker\":{\"colorbar\":{\"outlinewidth\":0.0,\"ticks\":\"\"}}}],\"scatter3d\":[{\"marker\":{\"colorbar\":{\"outlinewidth\":0.0,\"ticks\":\"\"}},\"line\":{\"colorbar\":{\"outlinewidth\":0.0,\"ticks\":\"\"}}}],\"scattercarpet\":[{\"marker\":{\"colorbar\":{\"outlinewidth\":0.0,\"ticks\":\"\"}}}],\"scattergeo\":[{\"marker\":{\"colorbar\":{\"outlinewidth\":0.0,\"ticks\":\"\"}}}],\"scattergl\":[{\"marker\":{\"colorbar\":{\"outlinewidth\":0.0,\"ticks\":\"\"}}}],\"scattermapbox\":[{\"marker\":{\"colorbar\":{\"outlinewidth\":0.0,\"ticks\":\"\"}}}],\"scatterpolar\":[{\"marker\":{\"colorbar\":{\"outlinewidth\":0.0,\"ticks\":\"\"}}}],\"scatterpolargl\":[{\"marker\":{\"colorbar\":{\"outlinewidth\":0.0,\"ticks\":\"\"}}}],\"scatterternary\":[{\"marker\":{\"colorbar\":{\"outlinewidth\":0.0,\"ticks\":\"\"}}}],\"surface\":[{\"colorbar\":{\"outlinewidth\":0.0,\"ticks\":\"\"},\"colorscale\":[[0.0,\"#0d0887\"],[0.1111111111111111,\"#46039f\"],[0.2222222222222222,\"#7201a8\"],[0.3333333333333333,\"#9c179e\"],[0.4444444444444444,\"#bd3786\"],[0.5555555555555556,\"#d8576b\"],[0.6666666666666666,\"#ed7953\"],[0.7777777777777778,\"#fb9f3a\"],[0.8888888888888888,\"#fdca26\"],[1.0,\"#f0f921\"]]}],\"table\":[{\"cells\":{\"fill\":{\"color\":\"rgba(235, 240, 248, 1.0)\"},\"line\":{\"color\":\"rgba(255, 255, 255, 1.0)\"}},\"header\":{\"fill\":{\"color\":\"rgba(200, 212, 227, 1.0)\"},\"line\":{\"color\":\"rgba(255, 255, 255, 1.0)\"}}}]}},\"xaxis\":{\"title\":{\"text\":\"Zeit\"}},\"yaxis\":{\"title\":{\"text\":\"Konzentration\"}}};\r\n",
       "            var config = {\"responsive\":true};\r\n",
       "            Plotly.newPlot('fda7dc46-a66c-44d9-832d-feb4af675dca', data, layout, config);\r\n",
       "});\r\n",
       "            };\r\n",
       "            if ((typeof(requirejs) !==  typeof(Function)) || (typeof(requirejs.config) !== typeof(Function))) {\r\n",
       "                var script = document.createElement(\"script\");\r\n",
       "                script.setAttribute(\"src\", \"https://cdnjs.cloudflare.com/ajax/libs/require.js/2.3.6/require.min.js\");\r\n",
       "                script.onload = function(){\r\n",
       "                    renderPlotly_fda7dc46a66c44d9832dfeb4af675dca();\r\n",
       "                };\r\n",
       "                document.getElementsByTagName(\"head\")[0].appendChild(script);\r\n",
       "            }\r\n",
       "            else {\r\n",
       "                renderPlotly_fda7dc46a66c44d9832dfeb4af675dca();\r\n",
       "            }\r\n",
       "</script>\r\n",
       "\n",
       "    \n",
       "</div>    \n"
      ]
     },
     "metadata": {},
     "output_type": "display_data"
    }
   ],
   "source": [
    "//Konstanten\n",
    "let beta1 = 1.  // Konstante für die Zunahme der Konzentration an mRNA\n",
    "let gamma1 = 2. // Konstante für die Verringerung der Konzentration an mRNA\n",
    "let beta2 = 2.  // Konstante für die Zunahme der Proteinkonzentration\n",
    "let gamma2 = 1. // Konstante für die Verringerung der Proteinkonzentration\n",
    "\n",
    "// unsere DGL als  Modell (Model)\n",
    "let dP_dt : Model = \n",
    "    fun P t ->\n",
    "        // Veränderung der Proteinmenge\n",
    "        let mRNAKonzentration = P[0] \n",
    "        let Proteinkonzentration = P[1]\n",
    "        // Modelfunktion (hier die Gleichung einfügen)\n",
    "        let mRNAKonzentration' = beta1 - gamma1 * mRNAKonzentration\n",
    "        let Proteinkonzentration' = beta2 * mRNAKonzentration - gamma2 * Proteinkonzentration\n",
    "\n",
    "        [| mRNAKonzentration'; Proteinkonzentration' |]\n",
    "\n",
    "//Startkonzentrationen\n",
    "let P0 = [|\n",
    "    0.0 \n",
    "    0.0 \n",
    "|]\n",
    "\n",
    "// Simulation der Modelfuntkion\n",
    "let Ps = \n",
    "    modelContext.OdeInt(\n",
    "        0., // Startzeitpunkt\n",
    "        P0,\n",
    "        dP_dt\n",
    "    )\n",
    "    |> SolPoints.take 15 // Anzahl der Zeitpunkte\n",
    "    |> SolPoints.memorize \n",
    "\n",
    "let mRNA = SolPoints.toPoints 1 Ps\n",
    "let proteins = SolPoints.toPoints 2 Ps\n",
    "\n",
    "//Graphische Darstellung der numerischen Lösung\n",
    "[\n",
    "    let mRNA = SolPoints.toPoints 1 Ps\n",
    "    mRNA\n",
    "    |> Chart.Spline \n",
    "    |> Chart.withTraceInfo(\"mRNA\")\n",
    "    let proteine = SolPoints.toPoints 2 Ps\n",
    "    proteine\n",
    "    |> Chart.Spline \n",
    "    |> Chart.withTraceInfo(\"Proteine\")\n",
    "]\n",
    "\n",
    "|> Chart.combine\n",
    "|> Chart.withXAxisStyle(\"Zeit\")\n",
    "|> Chart.withYAxisStyle(\"Konzentration\")"
   ]
  },
  {
   "cell_type": "markdown",
   "metadata": {},
   "source": [
    "##### Aufgabe 3.5\n",
    "***Wie hängt der Gleichgewichtszustand der Konzentration von mRNA mit dem Gleichgewichtszustand vom Protein zusammen? \n",
    "Stellen sie die mathematische Gleichung für den Gleichgewichtszustand vom Protein auf.\n",
    "Falls sie Probleme mit dem finden der Gleichung haben, dann kopieren sie den Code Block von oben in den folgenden Code Block und verändern sie die Werte von $beta_{1}$ und $\\gamma_{1}$, um zu sehen wie sich die beiden Gleichgewichtszustände bei verschiedenen Werten ändern.***"
   ]
  },
  {
   "cell_type": "code",
   "execution_count": null,
   "metadata": {
    "dotnet_interactive": {
     "language": "fsharp"
    },
    "vscode": {
     "languageId": "dotnet-interactive.fsharp"
    }
   },
   "outputs": [],
   "source": [
    "//Hier Code einfügen falls nötig"
   ]
  },
  {
   "cell_type": "markdown",
   "metadata": {},
   "source": [
    "Hier die Antwort eingeben."
   ]
  },
  {
   "cell_type": "markdown",
   "metadata": {},
   "source": [
    "Es folgt eine kurze Besprechung. Falls sie zu schnell vorangekommen sind, können sie die nachfolgende Frage bearbeiten.<br>\n",
    "\n",
    "##### Expertenaufgabe 3.1\n",
    "***Ein Protein wird mit einer konstanten rate $\\beta_{1}$ produziert. Die Produktionsrate ändert sich plötzlich zur Produktionsrate $\\beta_{2}$. Stelle die Differenzialgleichung für die Proteinkonzentration des Proteins nach der Zeit auf und füge diese in den unten stehenden Code Block ein. <br>\n",
    "Erkläre den Lösungsweg und welche Komponenten im Code Block geändert wurden. Bitte ändere nur die Abschnitte bei denen in den Kommentaren steht \"kann verändert werden\". Tipp: Nicht alle Stellen wo steht \"kann verändert werden\" müssen auch verändert werden.***"
   ]
  },
  {
   "cell_type": "code",
   "execution_count": null,
   "metadata": {
    "dotnet_interactive": {
     "language": "fsharp"
    },
    "vscode": {
     "languageId": "dotnet-interactive.fsharp"
    }
   },
   "outputs": [
    {
     "data": {
      "text/html": [
       "\n",
       "<div>\n",
       "    <div id=\"44a1a2c7-a361-410e-bd10-113585ccd331\"><!-- Plotly chart will be drawn inside this DIV --></div>\r\n",
       "<script type=\"text/javascript\">\r\n",
       "\r\n",
       "            var renderPlotly_44a1a2c7a361410ebd10113585ccd331 = function() {\r\n",
       "            var fsharpPlotlyRequire = requirejs.config({context:'fsharp-plotly',paths:{plotly:'https://cdn.plot.ly/plotly-2.6.3.min'}}) || require;\r\n",
       "            fsharpPlotlyRequire(['plotly'], function(Plotly) {\r\n",
       "\r\n",
       "            var data = [{\"type\":\"scatter\",\"mode\":\"lines\",\"x\":[0.0,1.0,2.279905199425163,4.696201522138052,8.27556126754768,12.910449646837225,18.490571014093124,24.96371812096024,32.3518326292845,40.75185434389689],\"y\":[0.0,0.09516258208333334,0.20386819338302942,0.3747602959665178,0.5628838650706578,0.7250170055198881,0.8426149656148425,0.9176171149629235,0.9606472985818185,0.9830108986518139],\"marker\":{},\"line\":{\"shape\":\"spline\"},\"name\":\"Protein\"}];\r\n",
       "            var layout = {\"width\":600,\"height\":600,\"template\":{\"layout\":{\"title\":{\"x\":0.05},\"font\":{\"color\":\"rgba(42, 63, 95, 1.0)\"},\"paper_bgcolor\":\"rgba(255, 255, 255, 1.0)\",\"plot_bgcolor\":\"rgba(229, 236, 246, 1.0)\",\"autotypenumbers\":\"strict\",\"colorscale\":{\"diverging\":[[0.0,\"#8e0152\"],[0.1,\"#c51b7d\"],[0.2,\"#de77ae\"],[0.3,\"#f1b6da\"],[0.4,\"#fde0ef\"],[0.5,\"#f7f7f7\"],[0.6,\"#e6f5d0\"],[0.7,\"#b8e186\"],[0.8,\"#7fbc41\"],[0.9,\"#4d9221\"],[1.0,\"#276419\"]],\"sequential\":[[0.0,\"#0d0887\"],[0.1111111111111111,\"#46039f\"],[0.2222222222222222,\"#7201a8\"],[0.3333333333333333,\"#9c179e\"],[0.4444444444444444,\"#bd3786\"],[0.5555555555555556,\"#d8576b\"],[0.6666666666666666,\"#ed7953\"],[0.7777777777777778,\"#fb9f3a\"],[0.8888888888888888,\"#fdca26\"],[1.0,\"#f0f921\"]],\"sequentialminus\":[[0.0,\"#0d0887\"],[0.1111111111111111,\"#46039f\"],[0.2222222222222222,\"#7201a8\"],[0.3333333333333333,\"#9c179e\"],[0.4444444444444444,\"#bd3786\"],[0.5555555555555556,\"#d8576b\"],[0.6666666666666666,\"#ed7953\"],[0.7777777777777778,\"#fb9f3a\"],[0.8888888888888888,\"#fdca26\"],[1.0,\"#f0f921\"]]},\"hovermode\":\"closest\",\"hoverlabel\":{\"align\":\"left\"},\"coloraxis\":{\"colorbar\":{\"outlinewidth\":0.0,\"ticks\":\"\"}},\"geo\":{\"showland\":true,\"landcolor\":\"rgba(229, 236, 246, 1.0)\",\"showlakes\":true,\"lakecolor\":\"rgba(255, 255, 255, 1.0)\",\"subunitcolor\":\"rgba(255, 255, 255, 1.0)\",\"bgcolor\":\"rgba(255, 255, 255, 1.0)\"},\"mapbox\":{\"style\":\"light\"},\"polar\":{\"bgcolor\":\"rgba(229, 236, 246, 1.0)\",\"radialaxis\":{\"linecolor\":\"rgba(255, 255, 255, 1.0)\",\"gridcolor\":\"rgba(255, 255, 255, 1.0)\",\"ticks\":\"\"},\"angularaxis\":{\"linecolor\":\"rgba(255, 255, 255, 1.0)\",\"gridcolor\":\"rgba(255, 255, 255, 1.0)\",\"ticks\":\"\"}},\"scene\":{\"xaxis\":{\"ticks\":\"\",\"linecolor\":\"rgba(255, 255, 255, 1.0)\",\"gridcolor\":\"rgba(255, 255, 255, 1.0)\",\"gridwidth\":2.0,\"zerolinecolor\":\"rgba(255, 255, 255, 1.0)\",\"backgroundcolor\":\"rgba(229, 236, 246, 1.0)\",\"showbackground\":true},\"yaxis\":{\"ticks\":\"\",\"linecolor\":\"rgba(255, 255, 255, 1.0)\",\"gridcolor\":\"rgba(255, 255, 255, 1.0)\",\"gridwidth\":2.0,\"zerolinecolor\":\"rgba(255, 255, 255, 1.0)\",\"backgroundcolor\":\"rgba(229, 236, 246, 1.0)\",\"showbackground\":true},\"zaxis\":{\"ticks\":\"\",\"linecolor\":\"rgba(255, 255, 255, 1.0)\",\"gridcolor\":\"rgba(255, 255, 255, 1.0)\",\"gridwidth\":2.0,\"zerolinecolor\":\"rgba(255, 255, 255, 1.0)\",\"backgroundcolor\":\"rgba(229, 236, 246, 1.0)\",\"showbackground\":true}},\"ternary\":{\"aaxis\":{\"ticks\":\"\",\"linecolor\":\"rgba(255, 255, 255, 1.0)\",\"gridcolor\":\"rgba(255, 255, 255, 1.0)\"},\"baxis\":{\"ticks\":\"\",\"linecolor\":\"rgba(255, 255, 255, 1.0)\",\"gridcolor\":\"rgba(255, 255, 255, 1.0)\"},\"caxis\":{\"ticks\":\"\",\"linecolor\":\"rgba(255, 255, 255, 1.0)\",\"gridcolor\":\"rgba(255, 255, 255, 1.0)\"},\"bgcolor\":\"rgba(229, 236, 246, 1.0)\"},\"xaxis\":{\"title\":{\"standoff\":15},\"ticks\":\"\",\"automargin\":true,\"linecolor\":\"rgba(255, 255, 255, 1.0)\",\"gridcolor\":\"rgba(255, 255, 255, 1.0)\",\"zerolinecolor\":\"rgba(255, 255, 255, 1.0)\",\"zerolinewidth\":2.0},\"yaxis\":{\"title\":{\"standoff\":15},\"ticks\":\"\",\"automargin\":true,\"linecolor\":\"rgba(255, 255, 255, 1.0)\",\"gridcolor\":\"rgba(255, 255, 255, 1.0)\",\"zerolinecolor\":\"rgba(255, 255, 255, 1.0)\",\"zerolinewidth\":2.0},\"annotationdefaults\":{\"arrowcolor\":\"#2a3f5f\",\"arrowhead\":0,\"arrowwidth\":1},\"shapedefaults\":{\"line\":{\"color\":\"rgba(42, 63, 95, 1.0)\"}},\"colorway\":[\"rgba(99, 110, 250, 1.0)\",\"rgba(239, 85, 59, 1.0)\",\"rgba(0, 204, 150, 1.0)\",\"rgba(171, 99, 250, 1.0)\",\"rgba(255, 161, 90, 1.0)\",\"rgba(25, 211, 243, 1.0)\",\"rgba(255, 102, 146, 1.0)\",\"rgba(182, 232, 128, 1.0)\",\"rgba(255, 151, 255, 1.0)\",\"rgba(254, 203, 82, 1.0)\"]},\"data\":{\"bar\":[{\"marker\":{\"line\":{\"color\":\"rgba(229, 236, 246, 1.0)\",\"width\":0.5},\"pattern\":{\"fillmode\":\"overlay\",\"size\":10,\"solidity\":0.2}},\"error_x\":{\"color\":\"rgba(42, 63, 95, 1.0)\"},\"error_y\":{\"color\":\"rgba(42, 63, 95, 1.0)\"}}],\"barpolar\":[{\"marker\":{\"line\":{\"color\":\"rgba(229, 236, 246, 1.0)\",\"width\":0.5},\"pattern\":{\"fillmode\":\"overlay\",\"size\":10,\"solidity\":0.2}}}],\"carpet\":[{\"aaxis\":{\"linecolor\":\"rgba(255, 255, 255, 1.0)\",\"gridcolor\":\"rgba(255, 255, 255, 1.0)\",\"endlinecolor\":\"rgba(42, 63, 95, 1.0)\",\"minorgridcolor\":\"rgba(255, 255, 255, 1.0)\",\"startlinecolor\":\"rgba(42, 63, 95, 1.0)\"},\"baxis\":{\"linecolor\":\"rgba(255, 255, 255, 1.0)\",\"gridcolor\":\"rgba(255, 255, 255, 1.0)\",\"endlinecolor\":\"rgba(42, 63, 95, 1.0)\",\"minorgridcolor\":\"rgba(255, 255, 255, 1.0)\",\"startlinecolor\":\"rgba(42, 63, 95, 1.0)\"}}],\"choropleth\":[{\"colorbar\":{\"outlinewidth\":0.0,\"ticks\":\"\"},\"colorscale\":[[0.0,\"#0d0887\"],[0.1111111111111111,\"#46039f\"],[0.2222222222222222,\"#7201a8\"],[0.3333333333333333,\"#9c179e\"],[0.4444444444444444,\"#bd3786\"],[0.5555555555555556,\"#d8576b\"],[0.6666666666666666,\"#ed7953\"],[0.7777777777777778,\"#fb9f3a\"],[0.8888888888888888,\"#fdca26\"],[1.0,\"#f0f921\"]]}],\"contour\":[{\"colorbar\":{\"outlinewidth\":0.0,\"ticks\":\"\"},\"colorscale\":[[0.0,\"#0d0887\"],[0.1111111111111111,\"#46039f\"],[0.2222222222222222,\"#7201a8\"],[0.3333333333333333,\"#9c179e\"],[0.4444444444444444,\"#bd3786\"],[0.5555555555555556,\"#d8576b\"],[0.6666666666666666,\"#ed7953\"],[0.7777777777777778,\"#fb9f3a\"],[0.8888888888888888,\"#fdca26\"],[1.0,\"#f0f921\"]]}],\"contourcarpet\":[{\"colorbar\":{\"outlinewidth\":0.0,\"ticks\":\"\"}}],\"heatmap\":[{\"colorbar\":{\"outlinewidth\":0.0,\"ticks\":\"\"},\"colorscale\":[[0.0,\"#0d0887\"],[0.1111111111111111,\"#46039f\"],[0.2222222222222222,\"#7201a8\"],[0.3333333333333333,\"#9c179e\"],[0.4444444444444444,\"#bd3786\"],[0.5555555555555556,\"#d8576b\"],[0.6666666666666666,\"#ed7953\"],[0.7777777777777778,\"#fb9f3a\"],[0.8888888888888888,\"#fdca26\"],[1.0,\"#f0f921\"]]}],\"heatmapgl\":[{\"colorbar\":{\"outlinewidth\":0.0,\"ticks\":\"\"},\"colorscale\":[[0.0,\"#0d0887\"],[0.1111111111111111,\"#46039f\"],[0.2222222222222222,\"#7201a8\"],[0.3333333333333333,\"#9c179e\"],[0.4444444444444444,\"#bd3786\"],[0.5555555555555556,\"#d8576b\"],[0.6666666666666666,\"#ed7953\"],[0.7777777777777778,\"#fb9f3a\"],[0.8888888888888888,\"#fdca26\"],[1.0,\"#f0f921\"]]}],\"histogram\":[{\"marker\":{\"pattern\":{\"fillmode\":\"overlay\",\"size\":10,\"solidity\":0.2}}}],\"histogram2d\":[{\"colorbar\":{\"outlinewidth\":0.0,\"ticks\":\"\"},\"colorscale\":[[0.0,\"#0d0887\"],[0.1111111111111111,\"#46039f\"],[0.2222222222222222,\"#7201a8\"],[0.3333333333333333,\"#9c179e\"],[0.4444444444444444,\"#bd3786\"],[0.5555555555555556,\"#d8576b\"],[0.6666666666666666,\"#ed7953\"],[0.7777777777777778,\"#fb9f3a\"],[0.8888888888888888,\"#fdca26\"],[1.0,\"#f0f921\"]]}],\"histogram2dcontour\":[{\"colorbar\":{\"outlinewidth\":0.0,\"ticks\":\"\"},\"colorscale\":[[0.0,\"#0d0887\"],[0.1111111111111111,\"#46039f\"],[0.2222222222222222,\"#7201a8\"],[0.3333333333333333,\"#9c179e\"],[0.4444444444444444,\"#bd3786\"],[0.5555555555555556,\"#d8576b\"],[0.6666666666666666,\"#ed7953\"],[0.7777777777777778,\"#fb9f3a\"],[0.8888888888888888,\"#fdca26\"],[1.0,\"#f0f921\"]]}],\"mesh3d\":[{\"colorbar\":{\"outlinewidth\":0.0,\"ticks\":\"\"}}],\"parcoords\":[{\"line\":{\"colorbar\":{\"outlinewidth\":0.0,\"ticks\":\"\"}}}],\"pie\":[{\"automargin\":true}],\"scatter\":[{\"marker\":{\"colorbar\":{\"outlinewidth\":0.0,\"ticks\":\"\"}}}],\"scatter3d\":[{\"marker\":{\"colorbar\":{\"outlinewidth\":0.0,\"ticks\":\"\"}},\"line\":{\"colorbar\":{\"outlinewidth\":0.0,\"ticks\":\"\"}}}],\"scattercarpet\":[{\"marker\":{\"colorbar\":{\"outlinewidth\":0.0,\"ticks\":\"\"}}}],\"scattergeo\":[{\"marker\":{\"colorbar\":{\"outlinewidth\":0.0,\"ticks\":\"\"}}}],\"scattergl\":[{\"marker\":{\"colorbar\":{\"outlinewidth\":0.0,\"ticks\":\"\"}}}],\"scattermapbox\":[{\"marker\":{\"colorbar\":{\"outlinewidth\":0.0,\"ticks\":\"\"}}}],\"scatterpolar\":[{\"marker\":{\"colorbar\":{\"outlinewidth\":0.0,\"ticks\":\"\"}}}],\"scatterpolargl\":[{\"marker\":{\"colorbar\":{\"outlinewidth\":0.0,\"ticks\":\"\"}}}],\"scatterternary\":[{\"marker\":{\"colorbar\":{\"outlinewidth\":0.0,\"ticks\":\"\"}}}],\"surface\":[{\"colorbar\":{\"outlinewidth\":0.0,\"ticks\":\"\"},\"colorscale\":[[0.0,\"#0d0887\"],[0.1111111111111111,\"#46039f\"],[0.2222222222222222,\"#7201a8\"],[0.3333333333333333,\"#9c179e\"],[0.4444444444444444,\"#bd3786\"],[0.5555555555555556,\"#d8576b\"],[0.6666666666666666,\"#ed7953\"],[0.7777777777777778,\"#fb9f3a\"],[0.8888888888888888,\"#fdca26\"],[1.0,\"#f0f921\"]]}],\"table\":[{\"cells\":{\"fill\":{\"color\":\"rgba(235, 240, 248, 1.0)\"},\"line\":{\"color\":\"rgba(255, 255, 255, 1.0)\"}},\"header\":{\"fill\":{\"color\":\"rgba(200, 212, 227, 1.0)\"},\"line\":{\"color\":\"rgba(255, 255, 255, 1.0)\"}}}]}},\"xaxis\":{\"title\":{\"text\":\"Zeit\"}},\"yaxis\":{\"title\":{\"text\":\"Proteinkonzentration\"}}};\r\n",
       "            var config = {\"responsive\":true};\r\n",
       "            Plotly.newPlot('44a1a2c7-a361-410e-bd10-113585ccd331', data, layout, config);\r\n",
       "});\r\n",
       "            };\r\n",
       "            if ((typeof(requirejs) !==  typeof(Function)) || (typeof(requirejs.config) !== typeof(Function))) {\r\n",
       "                var script = document.createElement(\"script\");\r\n",
       "                script.setAttribute(\"src\", \"https://cdnjs.cloudflare.com/ajax/libs/require.js/2.3.6/require.min.js\");\r\n",
       "                script.onload = function(){\r\n",
       "                    renderPlotly_44a1a2c7a361410ebd10113585ccd331();\r\n",
       "                };\r\n",
       "                document.getElementsByTagName(\"head\")[0].appendChild(script);\r\n",
       "            }\r\n",
       "            else {\r\n",
       "                renderPlotly_44a1a2c7a361410ebd10113585ccd331();\r\n",
       "            }\r\n",
       "</script>\r\n",
       "\n",
       "    \n",
       "</div>    \n"
      ]
     },
     "metadata": {},
     "output_type": "display_data"
    }
   ],
   "source": [
    "//Konstanten (kann verändert werden)\n",
    "let beta = 0.1  // Konstante für die Zunahme der Proteinkonzentration\n",
    "let gamma = 0.1 // Konstante für die Verringerung der Proteinkonzentration\n",
    "\n",
    "// unsere DGL als  Modell (Model)\n",
    "let dP_dt : Model = \n",
    "    fun P t ->\n",
    "        // Veränderung der Proteinmenge\n",
    "        let Proteinkonzentration = P[0] \n",
    "        // Modelfunktion (kann verändert werden)\n",
    "        let Proteinkonzentration' = beta - gamma * Proteinkonzentration\n",
    "\n",
    "        [| Proteinkonzentration' |]\n",
    "\n",
    "//Startkonzentrationen (kann verändert werden)\n",
    "let P0 = [| \n",
    "    0.0 \n",
    "|]\n",
    "\n",
    "// Simulation der Modelfuntkion\n",
    "let Ps = \n",
    "    modelContext.OdeInt(\n",
    "        0., // Startzeitpunkt\n",
    "        P0,\n",
    "        dP_dt\n",
    "    )\n",
    "    |> SolPoints.take 10 // Anzahl der Zeitpunkte\n",
    "    |> SolPoints.memorize \n",
    "\n",
    "let proteins = SolPoints.toPoints 1 Ps\n",
    "\n",
    "//Graphische Darstellung der numerischen Lösung\n",
    "proteins\n",
    "|> Chart.Spline \n",
    "|> Chart.withTraceInfo(\"Protein\")\n",
    "|> Chart.withXAxisStyle(\"Zeit\")\n",
    "|> Chart.withYAxisStyle(\"Proteinkonzentration\")"
   ]
  },
  {
   "cell_type": "markdown",
   "metadata": {},
   "source": [
    "-------------"
   ]
  },
  {
   "cell_type": "markdown",
   "metadata": {},
   "source": [
    "## Stichproben aus Verteilungen\n",
    "\n",
    "Für einige Situationen kennen wir die Wahrscheinlichkeitsverteilung. Wenn die Situation zum Beispiel so aussieht, dass wir n\n",
    "unabhängige Münzwürfe machen, jeder mit der Wahrscheinlichkeit p, dass Kopf fällt, dann ist die Anzahl h\n",
    "der Köpfe binomialverteilt. Wir könnten beweisen, dass dies der Fall ist, oder es in einem Buch nachschlagen. Aber manchmal ist es zu schwierig (oder unmöglich) zu beweisen, wie die Verteilung aussieht. Daher können wir ihre Eigenschaften numerisch berechnen, indem wir eine Stichprobe aus der Verteilung nehmen. Für die Stichprobe wird ein Zufallszahlengenerator verwendet, um die Situation zu simulieren, aus der die Verteilung resultiert. Wenn Sie also die Situation kennen und einen Computer zur Hand haben, können Sie über eine Stichprobe ein Diagramm der Verteilung erhalten.\n",
    "\n",
    "Lassen Sie uns dies anhand der Binomialverteilung demonstrieren. Wir nehmen n=25\n",
    "und p=0.25 und berechnen P(h∣n,p), die Wahrscheinlichkeit, dass h Köpfe bei n Münzwürfen mit einer Wahrscheinlichkeit p für Köpfe auftreten. Wir ziehen 10, 30, 100 und 300 Stichproben und stellen sie der erwarteten Binomialverteilung gegenüber."
   ]
  },
  {
   "cell_type": "code",
   "execution_count": null,
   "metadata": {
    "dotnet_interactive": {
     "language": "fsharp"
    },
    "vscode": {
     "languageId": "dotnet-interactive.fsharp"
    }
   },
   "outputs": [
    {
     "data": {
      "text/html": [
       "\n",
       "<div>\n",
       "    <div id=\"c2dd8975-c18d-4354-ade5-1438222fead1\"><!-- Plotly chart will be drawn inside this DIV --></div>\r\n",
       "<script type=\"text/javascript\">\r\n",
       "\r\n",
       "            var renderPlotly_c2dd8975c18d4354ade51438222fead1 = function() {\r\n",
       "            var fsharpPlotlyRequire = requirejs.config({context:'fsharp-plotly',paths:{plotly:'https://cdn.plot.ly/plotly-2.6.3.min'}}) || require;\r\n",
       "            fsharpPlotlyRequire(['plotly'], function(Plotly) {\r\n",
       "\r\n",
       "            var data = [{\"type\":\"scatter\",\"mode\":\"markers\",\"x\":[9,5,6,7,4,8,3],\"y\":[0.16666666666666666,0.3,0.13333333333333333,0.2,0.03333333333333333,0.03333333333333333,0.13333333333333333],\"marker\":{\"color\":\"Orange\"},\"line\":{},\"xaxis\":\"x\",\"yaxis\":\"y\"},{\"type\":\"scatter\",\"mode\":\"markers\",\"x\":[0,1,2,3,4,5,6,7,8,9,10,11,12,13,14,15,16,17,18,19,20,21,22,23,24,25],\"y\":[0.0007525434581650009,0.006271195484718762,0.025084781938915692,0.06410555384399787,0.11752684871417801,0.16453758820009692,0.182819542444813,0.1654081574502899,0.1240561180878663,0.07810940768503243,0.04165835076538414,0.018935613984275963,0.007363849882775983,0.0024546166275920002,0.0007013190364546628,0.0001714335422443791,3.571532130088355E-05,6.302703758973037E-06,9.337338902171049E-07,1.1466907423703524E-07,1.1466907423687175E-08,9.100720177515782E-10,5.51558798636467E-11,2.398081733198222E-12,6.661338147762031E-14,8.881784197001244E-16],\"marker\":{\"color\":\"Blue\",\"opacity\":0.3},\"line\":{},\"xaxis\":\"x\",\"yaxis\":\"y\"},{\"type\":\"scatter\",\"mode\":\"markers\",\"x\":[7,5,4,8,9,6,3,10],\"y\":[0.12,0.16,0.13,0.16,0.06,0.23,0.09,0.05],\"marker\":{\"color\":\"Orange\"},\"line\":{},\"xaxis\":\"x2\",\"yaxis\":\"y2\"},{\"type\":\"scatter\",\"mode\":\"markers\",\"x\":[0,1,2,3,4,5,6,7,8,9,10,11,12,13,14,15,16,17,18,19,20,21,22,23,24,25],\"y\":[0.0007525434581650009,0.006271195484718762,0.025084781938915692,0.06410555384399787,0.11752684871417801,0.16453758820009692,0.182819542444813,0.1654081574502899,0.1240561180878663,0.07810940768503243,0.04165835076538414,0.018935613984275963,0.007363849882775983,0.0024546166275920002,0.0007013190364546628,0.0001714335422443791,3.571532130088355E-05,6.302703758973037E-06,9.337338902171049E-07,1.1466907423703524E-07,1.1466907423687175E-08,9.100720177515782E-10,5.51558798636467E-11,2.398081733198222E-12,6.661338147762031E-14,8.881784197001244E-16],\"marker\":{\"color\":\"Blue\",\"opacity\":0.3},\"line\":{},\"xaxis\":\"x2\",\"yaxis\":\"y2\"},{\"type\":\"scatter\",\"mode\":\"markers\",\"x\":[8,6,5,9,4,7,2,10,3,11,12,1],\"y\":[0.12,0.192,0.162,0.08,0.114,0.157,0.032,0.039,0.072,0.017,0.009,0.006],\"marker\":{\"color\":\"Orange\"},\"line\":{},\"xaxis\":\"x3\",\"yaxis\":\"y3\"},{\"type\":\"scatter\",\"mode\":\"markers\",\"x\":[0,1,2,3,4,5,6,7,8,9,10,11,12,13,14,15,16,17,18,19,20,21,22,23,24,25],\"y\":[0.0007525434581650009,0.006271195484718762,0.025084781938915692,0.06410555384399787,0.11752684871417801,0.16453758820009692,0.182819542444813,0.1654081574502899,0.1240561180878663,0.07810940768503243,0.04165835076538414,0.018935613984275963,0.007363849882775983,0.0024546166275920002,0.0007013190364546628,0.0001714335422443791,3.571532130088355E-05,6.302703758973037E-06,9.337338902171049E-07,1.1466907423703524E-07,1.1466907423687175E-08,9.100720177515782E-10,5.51558798636467E-11,2.398081733198222E-12,6.661338147762031E-14,8.881784197001244E-16],\"marker\":{\"color\":\"Blue\",\"opacity\":0.3},\"line\":{},\"xaxis\":\"x3\",\"yaxis\":\"y3\"},{\"type\":\"scatter\",\"mode\":\"markers\",\"x\":[8,6,3,1,7,5,4,10,9,2,14,12,11,13,0,15],\"y\":[0.1233,0.1819,0.0627,0.008,0.1644,0.1634,0.116,0.0419,0.0806,0.0272,0.0007,0.0074,0.0193,0.0025,0.0005,0.0002],\"marker\":{\"color\":\"Orange\"},\"line\":{},\"xaxis\":\"x4\",\"yaxis\":\"y4\"},{\"type\":\"scatter\",\"mode\":\"markers\",\"x\":[0,1,2,3,4,5,6,7,8,9,10,11,12,13,14,15,16,17,18,19,20,21,22,23,24,25],\"y\":[0.0007525434581650009,0.006271195484718762,0.025084781938915692,0.06410555384399787,0.11752684871417801,0.16453758820009692,0.182819542444813,0.1654081574502899,0.1240561180878663,0.07810940768503243,0.04165835076538414,0.018935613984275963,0.007363849882775983,0.0024546166275920002,0.0007013190364546628,0.0001714335422443791,3.571532130088355E-05,6.302703758973037E-06,9.337338902171049E-07,1.1466907423703524E-07,1.1466907423687175E-08,9.100720177515782E-10,5.51558798636467E-11,2.398081733198222E-12,6.661338147762031E-14,8.881784197001244E-16],\"marker\":{\"color\":\"Blue\",\"opacity\":0.3},\"line\":{},\"xaxis\":\"x4\",\"yaxis\":\"y4\"}];\r\n",
       "            var layout = {\"width\":800,\"height\":800,\"template\":{\"layout\":{\"title\":{\"x\":0.05},\"font\":{\"color\":\"rgba(42, 63, 95, 1.0)\"},\"paper_bgcolor\":\"rgba(255, 255, 255, 1.0)\",\"plot_bgcolor\":\"rgba(229, 236, 246, 1.0)\",\"autotypenumbers\":\"strict\",\"colorscale\":{\"diverging\":[[0.0,\"#8e0152\"],[0.1,\"#c51b7d\"],[0.2,\"#de77ae\"],[0.3,\"#f1b6da\"],[0.4,\"#fde0ef\"],[0.5,\"#f7f7f7\"],[0.6,\"#e6f5d0\"],[0.7,\"#b8e186\"],[0.8,\"#7fbc41\"],[0.9,\"#4d9221\"],[1.0,\"#276419\"]],\"sequential\":[[0.0,\"#0d0887\"],[0.1111111111111111,\"#46039f\"],[0.2222222222222222,\"#7201a8\"],[0.3333333333333333,\"#9c179e\"],[0.4444444444444444,\"#bd3786\"],[0.5555555555555556,\"#d8576b\"],[0.6666666666666666,\"#ed7953\"],[0.7777777777777778,\"#fb9f3a\"],[0.8888888888888888,\"#fdca26\"],[1.0,\"#f0f921\"]],\"sequentialminus\":[[0.0,\"#0d0887\"],[0.1111111111111111,\"#46039f\"],[0.2222222222222222,\"#7201a8\"],[0.3333333333333333,\"#9c179e\"],[0.4444444444444444,\"#bd3786\"],[0.5555555555555556,\"#d8576b\"],[0.6666666666666666,\"#ed7953\"],[0.7777777777777778,\"#fb9f3a\"],[0.8888888888888888,\"#fdca26\"],[1.0,\"#f0f921\"]]},\"hovermode\":\"closest\",\"hoverlabel\":{\"align\":\"left\"},\"coloraxis\":{\"colorbar\":{\"outlinewidth\":0.0,\"ticks\":\"\"}},\"geo\":{\"showland\":true,\"landcolor\":\"rgba(229, 236, 246, 1.0)\",\"showlakes\":true,\"lakecolor\":\"rgba(255, 255, 255, 1.0)\",\"subunitcolor\":\"rgba(255, 255, 255, 1.0)\",\"bgcolor\":\"rgba(255, 255, 255, 1.0)\"},\"mapbox\":{\"style\":\"light\"},\"polar\":{\"bgcolor\":\"rgba(229, 236, 246, 1.0)\",\"radialaxis\":{\"linecolor\":\"rgba(255, 255, 255, 1.0)\",\"gridcolor\":\"rgba(255, 255, 255, 1.0)\",\"ticks\":\"\"},\"angularaxis\":{\"linecolor\":\"rgba(255, 255, 255, 1.0)\",\"gridcolor\":\"rgba(255, 255, 255, 1.0)\",\"ticks\":\"\"}},\"scene\":{\"xaxis\":{\"ticks\":\"\",\"linecolor\":\"rgba(255, 255, 255, 1.0)\",\"gridcolor\":\"rgba(255, 255, 255, 1.0)\",\"gridwidth\":2.0,\"zerolinecolor\":\"rgba(255, 255, 255, 1.0)\",\"backgroundcolor\":\"rgba(229, 236, 246, 1.0)\",\"showbackground\":true},\"yaxis\":{\"ticks\":\"\",\"linecolor\":\"rgba(255, 255, 255, 1.0)\",\"gridcolor\":\"rgba(255, 255, 255, 1.0)\",\"gridwidth\":2.0,\"zerolinecolor\":\"rgba(255, 255, 255, 1.0)\",\"backgroundcolor\":\"rgba(229, 236, 246, 1.0)\",\"showbackground\":true},\"zaxis\":{\"ticks\":\"\",\"linecolor\":\"rgba(255, 255, 255, 1.0)\",\"gridcolor\":\"rgba(255, 255, 255, 1.0)\",\"gridwidth\":2.0,\"zerolinecolor\":\"rgba(255, 255, 255, 1.0)\",\"backgroundcolor\":\"rgba(229, 236, 246, 1.0)\",\"showbackground\":true}},\"ternary\":{\"aaxis\":{\"ticks\":\"\",\"linecolor\":\"rgba(255, 255, 255, 1.0)\",\"gridcolor\":\"rgba(255, 255, 255, 1.0)\"},\"baxis\":{\"ticks\":\"\",\"linecolor\":\"rgba(255, 255, 255, 1.0)\",\"gridcolor\":\"rgba(255, 255, 255, 1.0)\"},\"caxis\":{\"ticks\":\"\",\"linecolor\":\"rgba(255, 255, 255, 1.0)\",\"gridcolor\":\"rgba(255, 255, 255, 1.0)\"},\"bgcolor\":\"rgba(229, 236, 246, 1.0)\"},\"xaxis\":{\"title\":{\"standoff\":15},\"ticks\":\"\",\"automargin\":true,\"linecolor\":\"rgba(255, 255, 255, 1.0)\",\"gridcolor\":\"rgba(255, 255, 255, 1.0)\",\"zerolinecolor\":\"rgba(255, 255, 255, 1.0)\",\"zerolinewidth\":2.0},\"yaxis\":{\"title\":{\"standoff\":15},\"ticks\":\"\",\"automargin\":true,\"linecolor\":\"rgba(255, 255, 255, 1.0)\",\"gridcolor\":\"rgba(255, 255, 255, 1.0)\",\"zerolinecolor\":\"rgba(255, 255, 255, 1.0)\",\"zerolinewidth\":2.0},\"annotationdefaults\":{\"arrowcolor\":\"#2a3f5f\",\"arrowhead\":0,\"arrowwidth\":1},\"shapedefaults\":{\"line\":{\"color\":\"rgba(42, 63, 95, 1.0)\"}},\"colorway\":[\"rgba(99, 110, 250, 1.0)\",\"rgba(239, 85, 59, 1.0)\",\"rgba(0, 204, 150, 1.0)\",\"rgba(171, 99, 250, 1.0)\",\"rgba(255, 161, 90, 1.0)\",\"rgba(25, 211, 243, 1.0)\",\"rgba(255, 102, 146, 1.0)\",\"rgba(182, 232, 128, 1.0)\",\"rgba(255, 151, 255, 1.0)\",\"rgba(254, 203, 82, 1.0)\"]},\"data\":{\"bar\":[{\"marker\":{\"line\":{\"color\":\"rgba(229, 236, 246, 1.0)\",\"width\":0.5},\"pattern\":{\"fillmode\":\"overlay\",\"size\":10,\"solidity\":0.2}},\"error_x\":{\"color\":\"rgba(42, 63, 95, 1.0)\"},\"error_y\":{\"color\":\"rgba(42, 63, 95, 1.0)\"}}],\"barpolar\":[{\"marker\":{\"line\":{\"color\":\"rgba(229, 236, 246, 1.0)\",\"width\":0.5},\"pattern\":{\"fillmode\":\"overlay\",\"size\":10,\"solidity\":0.2}}}],\"carpet\":[{\"aaxis\":{\"linecolor\":\"rgba(255, 255, 255, 1.0)\",\"gridcolor\":\"rgba(255, 255, 255, 1.0)\",\"endlinecolor\":\"rgba(42, 63, 95, 1.0)\",\"minorgridcolor\":\"rgba(255, 255, 255, 1.0)\",\"startlinecolor\":\"rgba(42, 63, 95, 1.0)\"},\"baxis\":{\"linecolor\":\"rgba(255, 255, 255, 1.0)\",\"gridcolor\":\"rgba(255, 255, 255, 1.0)\",\"endlinecolor\":\"rgba(42, 63, 95, 1.0)\",\"minorgridcolor\":\"rgba(255, 255, 255, 1.0)\",\"startlinecolor\":\"rgba(42, 63, 95, 1.0)\"}}],\"choropleth\":[{\"colorbar\":{\"outlinewidth\":0.0,\"ticks\":\"\"},\"colorscale\":[[0.0,\"#0d0887\"],[0.1111111111111111,\"#46039f\"],[0.2222222222222222,\"#7201a8\"],[0.3333333333333333,\"#9c179e\"],[0.4444444444444444,\"#bd3786\"],[0.5555555555555556,\"#d8576b\"],[0.6666666666666666,\"#ed7953\"],[0.7777777777777778,\"#fb9f3a\"],[0.8888888888888888,\"#fdca26\"],[1.0,\"#f0f921\"]]}],\"contour\":[{\"colorbar\":{\"outlinewidth\":0.0,\"ticks\":\"\"},\"colorscale\":[[0.0,\"#0d0887\"],[0.1111111111111111,\"#46039f\"],[0.2222222222222222,\"#7201a8\"],[0.3333333333333333,\"#9c179e\"],[0.4444444444444444,\"#bd3786\"],[0.5555555555555556,\"#d8576b\"],[0.6666666666666666,\"#ed7953\"],[0.7777777777777778,\"#fb9f3a\"],[0.8888888888888888,\"#fdca26\"],[1.0,\"#f0f921\"]]}],\"contourcarpet\":[{\"colorbar\":{\"outlinewidth\":0.0,\"ticks\":\"\"}}],\"heatmap\":[{\"colorbar\":{\"outlinewidth\":0.0,\"ticks\":\"\"},\"colorscale\":[[0.0,\"#0d0887\"],[0.1111111111111111,\"#46039f\"],[0.2222222222222222,\"#7201a8\"],[0.3333333333333333,\"#9c179e\"],[0.4444444444444444,\"#bd3786\"],[0.5555555555555556,\"#d8576b\"],[0.6666666666666666,\"#ed7953\"],[0.7777777777777778,\"#fb9f3a\"],[0.8888888888888888,\"#fdca26\"],[1.0,\"#f0f921\"]]}],\"heatmapgl\":[{\"colorbar\":{\"outlinewidth\":0.0,\"ticks\":\"\"},\"colorscale\":[[0.0,\"#0d0887\"],[0.1111111111111111,\"#46039f\"],[0.2222222222222222,\"#7201a8\"],[0.3333333333333333,\"#9c179e\"],[0.4444444444444444,\"#bd3786\"],[0.5555555555555556,\"#d8576b\"],[0.6666666666666666,\"#ed7953\"],[0.7777777777777778,\"#fb9f3a\"],[0.8888888888888888,\"#fdca26\"],[1.0,\"#f0f921\"]]}],\"histogram\":[{\"marker\":{\"pattern\":{\"fillmode\":\"overlay\",\"size\":10,\"solidity\":0.2}}}],\"histogram2d\":[{\"colorbar\":{\"outlinewidth\":0.0,\"ticks\":\"\"},\"colorscale\":[[0.0,\"#0d0887\"],[0.1111111111111111,\"#46039f\"],[0.2222222222222222,\"#7201a8\"],[0.3333333333333333,\"#9c179e\"],[0.4444444444444444,\"#bd3786\"],[0.5555555555555556,\"#d8576b\"],[0.6666666666666666,\"#ed7953\"],[0.7777777777777778,\"#fb9f3a\"],[0.8888888888888888,\"#fdca26\"],[1.0,\"#f0f921\"]]}],\"histogram2dcontour\":[{\"colorbar\":{\"outlinewidth\":0.0,\"ticks\":\"\"},\"colorscale\":[[0.0,\"#0d0887\"],[0.1111111111111111,\"#46039f\"],[0.2222222222222222,\"#7201a8\"],[0.3333333333333333,\"#9c179e\"],[0.4444444444444444,\"#bd3786\"],[0.5555555555555556,\"#d8576b\"],[0.6666666666666666,\"#ed7953\"],[0.7777777777777778,\"#fb9f3a\"],[0.8888888888888888,\"#fdca26\"],[1.0,\"#f0f921\"]]}],\"mesh3d\":[{\"colorbar\":{\"outlinewidth\":0.0,\"ticks\":\"\"}}],\"parcoords\":[{\"line\":{\"colorbar\":{\"outlinewidth\":0.0,\"ticks\":\"\"}}}],\"pie\":[{\"automargin\":true}],\"scatter\":[{\"marker\":{\"colorbar\":{\"outlinewidth\":0.0,\"ticks\":\"\"}}}],\"scatter3d\":[{\"marker\":{\"colorbar\":{\"outlinewidth\":0.0,\"ticks\":\"\"}},\"line\":{\"colorbar\":{\"outlinewidth\":0.0,\"ticks\":\"\"}}}],\"scattercarpet\":[{\"marker\":{\"colorbar\":{\"outlinewidth\":0.0,\"ticks\":\"\"}}}],\"scattergeo\":[{\"marker\":{\"colorbar\":{\"outlinewidth\":0.0,\"ticks\":\"\"}}}],\"scattergl\":[{\"marker\":{\"colorbar\":{\"outlinewidth\":0.0,\"ticks\":\"\"}}}],\"scattermapbox\":[{\"marker\":{\"colorbar\":{\"outlinewidth\":0.0,\"ticks\":\"\"}}}],\"scatterpolar\":[{\"marker\":{\"colorbar\":{\"outlinewidth\":0.0,\"ticks\":\"\"}}}],\"scatterpolargl\":[{\"marker\":{\"colorbar\":{\"outlinewidth\":0.0,\"ticks\":\"\"}}}],\"scatterternary\":[{\"marker\":{\"colorbar\":{\"outlinewidth\":0.0,\"ticks\":\"\"}}}],\"surface\":[{\"colorbar\":{\"outlinewidth\":0.0,\"ticks\":\"\"},\"colorscale\":[[0.0,\"#0d0887\"],[0.1111111111111111,\"#46039f\"],[0.2222222222222222,\"#7201a8\"],[0.3333333333333333,\"#9c179e\"],[0.4444444444444444,\"#bd3786\"],[0.5555555555555556,\"#d8576b\"],[0.6666666666666666,\"#ed7953\"],[0.7777777777777778,\"#fb9f3a\"],[0.8888888888888888,\"#fdca26\"],[1.0,\"#f0f921\"]]}],\"table\":[{\"cells\":{\"fill\":{\"color\":\"rgba(235, 240, 248, 1.0)\"},\"line\":{\"color\":\"rgba(255, 255, 255, 1.0)\"}},\"header\":{\"fill\":{\"color\":\"rgba(200, 212, 227, 1.0)\"},\"line\":{\"color\":\"rgba(255, 255, 255, 1.0)\"}}}]}},\"showlegend\":false,\"xaxis\":{\"title\":{\"text\":\"h<br>30 Stichproben\"}},\"yaxis\":{\"title\":{\"text\":\"P(h)\"}},\"xaxis2\":{\"title\":{\"text\":\"h<br>100 Stichproben\"}},\"yaxis2\":{\"title\":{\"text\":\"P(h)\"}},\"xaxis3\":{\"title\":{\"text\":\"h<br>1000 Stichproben\"}},\"yaxis3\":{\"title\":{\"text\":\"P(h)\"}},\"xaxis4\":{\"title\":{\"text\":\"h<br>10000 Stichproben\"}},\"yaxis4\":{\"title\":{\"text\":\"P(h)\"}},\"grid\":{\"rows\":2,\"columns\":2,\"pattern\":\"independent\"}};\r\n",
       "            var config = {\"responsive\":true};\r\n",
       "            Plotly.newPlot('c2dd8975-c18d-4354-ade5-1438222fead1', data, layout, config);\r\n",
       "});\r\n",
       "            };\r\n",
       "            if ((typeof(requirejs) !==  typeof(Function)) || (typeof(requirejs.config) !== typeof(Function))) {\r\n",
       "                var script = document.createElement(\"script\");\r\n",
       "                script.setAttribute(\"src\", \"https://cdnjs.cloudflare.com/ajax/libs/require.js/2.3.6/require.min.js\");\r\n",
       "                script.onload = function(){\r\n",
       "                    renderPlotly_c2dd8975c18d4354ade51438222fead1();\r\n",
       "                };\r\n",
       "                document.getElementsByTagName(\"head\")[0].appendChild(script);\r\n",
       "            }\r\n",
       "            else {\r\n",
       "                renderPlotly_c2dd8975c18d4354ade51438222fead1();\r\n",
       "            }\r\n",
       "</script>\r\n",
       "\n",
       "    \n",
       "</div>    \n"
      ]
     },
     "metadata": {},
     "output_type": "display_data"
    }
   ],
   "source": [
    "let stichproben = [|30;100;1000;10000|]\n",
    "let n = 25\n",
    "let p = 0.25\n",
    "\n",
    "let binomialverteilung = Distributions.Discrete.Binomial.Init p n\n",
    "\n",
    "let binomialPunkte =\n",
    "    [|0 .. 25|]\n",
    "    |> Array.map (fun x -> x,binomialverteilung.PMF x)\n",
    "\n",
    "stichproben\n",
    "|> Array.map (fun s ->\n",
    "    [\n",
    "        simulateCoinflips n p s\n",
    "        |> Array.countBy id\n",
    "        |> Array.map (fun (heads,count) -> heads, float count/ float s)\n",
    "        |> Chart.Point\n",
    "        |> Chart.withMarkerStyle(Color = Color.fromString \"Orange\")\n",
    "        binomialPunkte\n",
    "        |> Chart.Point\n",
    "        |> Chart.withMarkerStyle(Color = Color.fromString \"Blue\", Opacity = 0.3)\n",
    "    ]\n",
    "    |> Chart.combine\n",
    "    |> Chart.withLegend false\n",
    "    |> Chart.withXAxisStyle(TitleText = $\"h<br>{s} Stichproben\")\n",
    "    |> Chart.withYAxisStyle(TitleText = \"P(h)\")\n",
    ")\n",
    "|> Chart.Grid(2,2)\n",
    "|> Chart.withSize (800,800)"
   ]
  },
  {
   "cell_type": "markdown",
   "metadata": {},
   "source": [
    "##### Aufgabe 3.6\n",
    "\n",
    "***Die meisten Münzen haben eine Wahrscheinlichkeit von p=0.5 für Kopf. Simulieren Sie diese Situation wie wie oben gezeigt und vergleichen Sie die Verteilungen aus den unterschiedlichen Stichprobenzahlen mit der tatsächlichen Binomialverteilung.***"
   ]
  },
  {
   "cell_type": "code",
   "execution_count": null,
   "metadata": {
    "dotnet_interactive": {
     "language": "fsharp"
    },
    "vscode": {
     "languageId": "dotnet-interactive.fsharp"
    }
   },
   "outputs": [],
   "source": [
    "// Kopieren sie den benötigten Code aus dem vorherigen Codeblock\n",
    "let stichproben = [|30;100;1000;10000|]\n",
    "let n = 25\n",
    "let p = 0.5\n",
    "\n",
    "let binomialverteilung = Distributions.Discrete.Binomial.Init 0.5 25\n",
    "let binomialPunkte =\n",
    "    [|0 .. 25|]\n",
    "    |> Array.map (fun x -> x,binomialverteilung.PMF x)\n",
    "\n",
    "stichproben\n",
    "|> Array.map (fun s ->\n",
    "    [\n",
    "        simulateCoinflips n p s\n",
    "        |> Array.countBy id\n",
    "        |> Array.map (fun (heads,count) -> heads, float count/ float s)\n",
    "        |> Chart.Point\n",
    "        |> Chart.withMarkerStyle(Color = Color.fromString \"Orange\")\n",
    "        binomialPunkte\n",
    "        |> Chart.Point\n",
    "        |> Chart.withMarkerStyle(Color = Color.fromString \"Blue\", Opacity = 0.3)\n",
    "    ]\n",
    "    |> Chart.combine\n",
    "    |> Chart.withLegend false\n",
    "    |> Chart.withXAxisStyle(TitleText = $\"h<br>{s} Stichproben\")\n",
    "    |> Chart.withYAxisStyle(TitleText = \"P(h)\")\n",
    ")\n",
    "|> Chart.Grid(2,2)\n",
    "|> Chart.withSize (800,800)"
   ]
  },
  {
   "cell_type": "markdown",
   "metadata": {},
   "source": [
    "Wie wir sehen, können wir die tatsächliche Verteilung annähernd berechnen, wenn wir eine Stichprobe aus der Wahrscheinlichkeitsverteilung ziehen. Je mehr Stichproben wir nehmen, desto besser wird die Annäherung.\n",
    "Stichproben sind eine so leistungsfähige Strategie, dass hocheffiziente Algorithmen mit praktischen APIs entwickelt wurden, um Stichproben aus benannten Wahrscheinlichkeitsverteilungen zu ziehen. Wir hätten zum Beispiel `binomialverteilung.Sample()` als einfachen (und viel effizienteren) Ersatz für die obige Funktion `simulateCoinflips` verwenden können.\n",
    "\n",
    "Wir werden die gleiche Strategie für die Lösung von stochastischen Gleichungssystemen verwenden. Wir werden eine stochastische Methode verwenden, um eine Stichprobe aus der Verteilung zu ziehen, die von dem Gleichungssystem beschrieben wird. Diese Methode wurde in den letzten 70er Jahren von Dan Gillespie entwickelt. Aus diesem Grund werden diese Stichprobenverfahren oft als Gillespie-Simulationen bezeichnet. Der Algorithmus wird manchmal auch als stochastischer Simulationsalgorithmus oder SSA bezeichnet.\n",
    "\n",
    "Im Folgenden werden wir die Funktionsweise dieses Algorithmus anhand der einfachen Produktion eines Proteins untersuchen.\n",
    "\n",
    "## Simulieren des stochastischen Gleichungssystems\n",
    "\n",
    "Für die einfache Proteinproduktion gibt es die folgende Reaktion:\n",
    "\n",
    "DNA→mRNA→Protein\n",
    "\n",
    "Wir haben bereits vorher die Proteinproduktion mit Hilfe von Differentialgleichungen simuliert. Das Ergebnis davon ist jedoch nicht für jeden Fall anwendbar. Bei dieser Simulation haben wir den Mittelwert der Produktion bei einer großen Zahl an Reaktionen betrachtet. Sobald aber stochastische Effekte eine größere Rolle spielen (z.B. das Gesetz der großen Zahlen nicht anwendbar ist und mit wenig Reaktionen gearbeitet wird), sind stochastische Simulationen eine geeignetere Methode.\n",
    "\n",
    "## Anwenden der Gillespie Simulation\n",
    "\n",
    "Um die Gillespie-Simulation zu verwenden, erstellen wir zunächst ein Array, das die Änderungen in den Zahlen von mRNA (m)\n",
    "und Protein (p) für jede der vier möglichen Reaktionen enthält. Auf diese Art und Weise werden die Aktualisierungen der Teilchenzahlen kodiert, die wir durch die Wahl der jeweiligen Zustandsänderungen erhalten."
   ]
  },
  {
   "cell_type": "code",
   "execution_count": null,
   "metadata": {
    "dotnet_interactive": {
     "language": "fsharp"
    },
    "vscode": {
     "languageId": "dotnet-interactive.fsharp"
    }
   },
   "outputs": [],
   "source": [
    "// Index 0 repräsentiert Änderung bei mRNA (m), Index 1 repräsentiert Änderung bei Protein (p)\n",
    "let simpleUpdate =\n",
    "    [|\n",
    "        1., 0.;  // mRNA Produktion\n",
    "        -1., 0.; // mRNA Abbau\n",
    "        0., 1.;  // Protein Produktion\n",
    "        0., -1.  // Protein Abbau\n",
    "    |]"
   ]
  },
  {
   "cell_type": "markdown",
   "metadata": {},
   "source": [
    "Zusätzlich benötigen wir die Übergangswahrscheinlichkeiten der Zustandsänderungen. Die Übergangswahrscheinlichkeiten werden im Rahmen der stochastischen Simulation auch als Propensities bezeichnet.\n",
    "Dafür erstellen wir eine Funktion, die das Array der Propensities für jede der vier Reaktionen aktualisiert. Wir aktualisieren die Propensities (die als Argument an die Funktion übergeben werden), anstatt sie zu instanziieren und zurückzugeben, um bei der Ausführung des Codes Speicherplatz zu sparen. Sie wird eine Funktion der aktuellen Anzahl von Molekülen sein. Im Allgemeinen kann sie auch eine Funktion der Zeit sein, daher berücksichtigen wir ausdrücklich auch die Zeitabhängigkeit (auch wenn wir sie in diesem einfachen Beispiel nicht verwenden)."
   ]
  },
  {
   "cell_type": "code",
   "execution_count": null,
   "metadata": {
    "dotnet_interactive": {
     "language": "fsharp"
    },
    "vscode": {
     "languageId": "dotnet-interactive.fsharp"
    }
   },
   "outputs": [],
   "source": [
    "//Updates einen Array von Propensities abhängig von den Parametern und der Population\n",
    "let simplePropensities (propensities: float []) population t beta_m beta_p gamma =\n",
    "    let m,p = population\n",
    "    propensities.[0] <- beta_m     // mRNA Produktion\n",
    "    propensities.[1] <- m          // mRNA Abbau\n",
    "    propensities.[2] <- beta_p * m // Protein Produktion\n",
    "    propensities.[3] <- gamma * p  // Protein Abbau"
   ]
  },
  {
   "cell_type": "markdown",
   "metadata": {},
   "source": [
    "## \"Ziehen\" einer Reaktion\n",
    "\n",
    "Anschließend brauchen wir eine allgemeine Funktion, die eine bestimmte Reaktion und das Zeitintervall für diese Reaktion zieht. Um das Zeitintervall zu bestimmen, ziehen wir zunächst eine Zufallszahl aus einer Exponentialverteilung.\n",
    "Als nächstes müssen wir auswählen, welche Reaktion stattfinden soll. Das läuft darauf hinaus, eine Stichprobe aus einer diskreten Verteilung zu ziehen.\n",
    "Dabei ist die Wahrscheinlichkeit jeder Reaktion proportional zu ihrer Propensity."
   ]
  },
  {
   "cell_type": "markdown",
   "metadata": {},
   "source": [
    "Hier können sie die dafür verwendete Funktion ausprobieren. Die Funktion gibt mit der an dem jeweiligen Index angegebenen Wahrscheinlichkeit den Index bei Aufruf der Funktion zurück."
   ]
  },
  {
   "cell_type": "code",
   "execution_count": null,
   "metadata": {
    "dotnet_interactive": {
     "language": "fsharp"
    },
    "vscode": {
     "languageId": "dotnet-interactive.fsharp"
    }
   },
   "outputs": [
    {
     "data": {
      "text/html": [
       "<div class=\"dni-plaintext\">4</div>"
      ]
     },
     "metadata": {},
     "output_type": "display_data"
    }
   ],
   "source": [
    "// Beispielspropensitäten\n",
    "let probs = [|\n",
    "        0.1    // Wahrscheinlichkeit Index 0 zu ziehen\n",
    "        0.3    // Wahrscheinlichkeit Index 1 zu ziehen\n",
    "        0.4    // Wahrscheinlichkeit Index 2 zu ziehen\n",
    "        0.05   // Wahrscheinlichkeit Index 3 zu ziehen\n",
    "        0.15   // Wahrscheinlichkeit Index 4 zu ziehen\n",
    "    |]\n",
    "sampleDiscrete probs"
   ]
  },
  {
   "cell_type": "markdown",
   "metadata": {},
   "source": [
    "##### Aufgabe 3.7\n",
    "\n",
    "***Führen sie die Funktion `sampleDiscrete` mit Werten Ihrer Wahl mehrfach aus. Stimmen die Ziehungen der Indices mit dem Verhältnis der Zahlen überein?***"
   ]
  },
  {
   "cell_type": "code",
   "execution_count": null,
   "metadata": {
    "dotnet_interactive": {
     "language": "fsharp"
    },
    "vscode": {
     "languageId": "dotnet-interactive.fsharp"
    }
   },
   "outputs": [],
   "source": [
    "// Hier könnte Ihr Code stehen"
   ]
  },
  {
   "cell_type": "markdown",
   "metadata": {},
   "source": [
    "# Besprechung"
   ]
  },
  {
   "cell_type": "markdown",
   "metadata": {},
   "source": [
    "## SSA Zeitsprungverfahren\n",
    "\n",
    "Jetzt können wir unsere SSA-Hauptschleife verwenden. Wir werden nur die Zahlen zu vorher festgelegten Zeitpunkten speichern. Das spart Arbeitsspeicher, und wir interessieren uns ohnehin nur für die Werte zu bestimmten Zeitpunkten.\n",
    "\n",
    "Beachten Sie, dass diese Funktion generisch ist. Alles, was wir brauchen, um unser System zu spezifizieren, ist das Folgende:\n",
    "\n",
    "    - Eine Funktion zum Berechnen der Übergangswahrscheinlichkeiten\n",
    "    - Wie die Aktualisierungen für eine bestimmte Reaktion vorgenommen werden\n",
    "    - Ausgangspopulation\n",
    "\n",
    "Zusätzlich geben wir die notwendigen Parameter, eine Anfangsbedingung und die Zeitpunkte an, zu denen wir unsere Stichproben speichern wollen.\n",
    "\n",
    "Wir können nun eine Reihe von SSA-Simulationen durchführen und die Ergebnisse speichern. Wir führen dafür 100 Trajektorien mit den Werten $\\beta_{p}$ = 10, $\\beta_{m}$ = 10 und $\\gamma$ = 0,4 durch."
   ]
  },
  {
   "cell_type": "code",
   "execution_count": null,
   "metadata": {
    "dotnet_interactive": {
     "language": "fsharp"
    },
    "vscode": {
     "languageId": "dotnet-interactive.fsharp"
    }
   },
   "outputs": [],
   "source": [
    "let zeitpunkte = [|0. .. 0.5 .. 50.|]\n",
    "\n",
    "let samples =\n",
    "    [|\n",
    "        // So oft wird die Reaktion simuliert (100 mal)\n",
    "        for i = 0 to 100 do\n",
    "            gillespieSSA simplePropensities simpleUpdate (0,0) zeitpunkte 10. 10. 0.4\n",
    "    |]"
   ]
  },
  {
   "cell_type": "code",
   "execution_count": null,
   "metadata": {
    "dotnet_interactive": {
     "language": "fsharp"
    },
    "vscode": {
     "languageId": "dotnet-interactive.fsharp"
    }
   },
   "outputs": [
    {
     "data": {
      "text/html": [
       "\n",
       "<div>\n",
       "    <div id=\"8bdffddc-3e43-45f0-86be-e2cbae580710\"><!-- Plotly chart will be drawn inside this DIV --></div>\r\n",
       "<script type=\"text/javascript\">\r\n",
       "\r\n",
       "            var renderPlotly_8bdffddc3e4345f086bee2cbae580710 = function() {\r\n",
       "            var fsharpPlotlyRequire = requirejs.config({context:'fsharp-plotly',paths:{plotly:'https://cdn.plot.ly/plotly-2.6.3.min'}}) || require;\r\n",
       "            fsharpPlotlyRequire(['plotly'], function(Plotly) {\r\n",
       "\r\n",
       "            var data = [{\"type\":\"scatter\",\"mode\":\"lines\",\"x\":[0.0,0.5,1.0,1.5,2.0,2.5,3.0,3.5,4.0,4.5,5.0,5.5,6.0,6.5,7.0,7.5,8.0,8.5,9.0,9.5,10.0,10.5,11.0,11.5,12.0,12.5,13.0,13.5,14.0,14.5,15.0,15.5,16.0,16.5,17.0,17.5,18.0,18.5,19.0,19.5,20.0,20.5,21.0,21.5,22.0,22.5,23.0,23.5,24.0,24.5,25.0,25.5,26.0,26.5,27.0,27.5,28.0,28.5,29.0,29.5,30.0,30.5,31.0,31.5,32.0,32.5,33.0,33.5,34.0,34.5,35.0,35.5,36.0,36.5,37.0,37.5,38.0,38.5,39.0,39.5,40.0,40.5,41.0,41.5,42.0,42.5,43.0,43.5,44.0,44.5,45.0,45.5,46.0,46.5,47.0,47.5,48.0,48.5,49.0,49.5,50.0],\"y\":[0.0,4.0594059405940595,6.366336633663367,7.96039603960396,9.188118811881187,9.732673267326733,10.05940594059406,10.267326732673267,10.415841584158416,10.405940594059405,10.356435643564357,10.01980198019802,10.05940594059406,10.247524752475247,10.05940594059406,10.267326732673267,10.336633663366337,9.653465346534654,9.930693069306932,9.742574257425742,9.663366336633663,9.128712871287128,8.950495049504951,9.425742574257425,9.900990099009901,9.653465346534654,9.564356435643564,10.05940594059406,10.297029702970297,10.326732673267326,10.405940594059405,10.554455445544555,9.841584158415841,9.564356435643564,9.188118811881187,9.574257425742575,9.366336633663366,9.455445544554456,9.485148514851485,9.455445544554456,9.297029702970297,9.03960396039604,9.247524752475247,9.970297029702971,10.326732673267326,10.158415841584159,10.168316831683168,9.970297029702971,10.514851485148515,10.069306930693068,10.07920792079208,9.930693069306932,9.821782178217822,9.594059405940595,9.96039603960396,9.821782178217822,9.930693069306932,9.96039603960396,9.643564356435643,9.92079207920792,9.990099009900991,9.722772277227723,9.445544554455445,10.237623762376238,10.326732673267326,9.633663366336634,9.772277227722773,9.653465346534654,9.762376237623762,9.950495049504951,10.475247524752476,9.970297029702971,10.544554455445544,10.148514851485148,9.871287128712872,10.0,10.099009900990099,10.306930693069306,10.277227722772277,10.227722772277227,10.108910891089108,10.386138613861386,10.445544554455445,10.396039603960396,9.930693069306932,9.950495049504951,9.613861386138614,9.722772277227723,9.683168316831683,9.831683168316832,9.712871287128714,9.782178217821782,10.287128712871286,10.009900990099009,10.07920792079208,10.227722772277227,10.346534653465346,9.693069306930694,10.425742574257425,10.702970297029703,10.009900990099009],\"marker\":{},\"line\":{\"width\":5.0},\"error_y\":{\"array\":[0.0,1.7709984877363267,2.296618262912788,2.3018288037089465,3.048648458865432,3.6301269650217782,3.3009749534894004,3.2829593025467467,3.33846469723037,3.2838337894046408,2.927743699219047,2.8600006923768464,2.6526280635559063,2.597714151303255,2.9489719638484795,3.270752479503489,3.476426981033176,3.269359703563853,3.2008043543539935,3.4775090664052466,3.0603177211615544,3.0746166145932197,3.1571386970602426,3.1728426833155954,3.2295663810953004,2.9578223190866506,3.0246184605141786,3.2979441541003025,2.927608424825443,2.7572047834395215,2.9331833144956416,3.09346164522773,3.1519285311292413,3.5338812701735143,2.784646732665129,2.987796963160199,2.700824956479881,2.6889579858199624,2.8341272426838513,2.8584077822285874,2.907041638695413,3.1746520819743638,3.118993236908537,2.951119941800246,3.118040765901207,3.0585377985806446,3.249828632191837,3.0609000164806255,3.2360898052623277,3.320413907158487,3.07142692674539,3.2411646849321745,2.736406547295049,3.1880345601068445,3.5494247198080084,3.3418439209632775,3.027399629195241,3.114227968788438,3.157797201898316,3.1166750498466524,3.173310730152188,3.3049018499228926,3.2139547212888746,3.3019646117167425,3.4120636303887686,2.9990757652224387,3.0980031895361626,2.8440662564868497,2.8254150663273703,3.1380766007978913,2.9448057980313087,2.913607542358972,3.2203253018142357,3.011265975014035,3.236242779324918,3.443835071544513,3.4423972765938835,3.264176999665998,3.020327173937248,3.01622674253383,2.945847891860712,2.9831872117911167,3.0772560748977407,2.877774167375862,2.8469542523285276,3.2996249411827474,3.3135186645911707,3.0532566609480707,2.752928233969447,2.990215065612148,2.7580305787404393,2.9819589547679546,3.118771019691463,3.380813657996993,3.7938981755361643,3.2553991709736976,3.3449533436637235,2.8310513038707916,3.0670720065021797,3.1923175106979738,3.1416398568421253],\"color\":\"grey\"},\"name\":\"mRNA\",\"xaxis\":\"x\",\"yaxis\":\"y\"},{\"type\":\"scatter\",\"mode\":\"lines\",\"x\":[0.0,0.5,1.0,1.5,2.0,2.5,3.0,3.5,4.0,4.5,5.0,5.5,6.0,6.5,7.0,7.5,8.0,8.5,9.0,9.5,10.0,10.5,11.0,11.5,12.0,12.5,13.0,13.5,14.0,14.5,15.0,15.5,16.0,16.5,17.0,17.5,18.0,18.5,19.0,19.5,20.0,20.5,21.0,21.5,22.0,22.5,23.0,23.5,24.0,24.5,25.0,25.5,26.0,26.5,27.0,27.5,28.0,28.5,29.0,29.5,30.0,30.5,31.0,31.5,32.0,32.5,33.0,33.5,34.0,34.5,35.0,35.5,36.0,36.5,37.0,37.5,38.0,38.5,39.0,39.5,40.0,40.5,41.0,41.5,42.0,42.5,43.0,43.5,44.0,44.5,45.0,45.5,46.0,46.5,47.0,47.5,48.0,48.5,49.0,49.5,50.0],\"y\":[0.0,9.762376237623762,32.93069306930693,61.20792079207921,89.54455445544555,115.7128712871287,141.69306930693068,162.11881188118812,178.62376237623764,193.56435643564356,204.76237623762376,212.4851485148515,218.96039603960395,226.84158415841586,230.30693069306932,233.36633663366337,238.20792079207922,241.5049504950495,243.4257425742574,241.31683168316832,241.47524752475246,240.36633663366337,236.68316831683168,234.82178217821783,236.84158415841586,238.20792079207922,237.20792079207922,238.35643564356437,241.76237623762376,245.55445544554456,246.65346534653466,250.83168316831683,250.78217821782178,251.32673267326732,247.34653465346534,245.20792079207922,243.4851485148515,243.02970297029702,241.4851485148515,239.64356435643563,238.69306930693068,236.16831683168317,233.44554455445544,235.34653465346534,239.87128712871288,243.14851485148515,243.6138613861386,246.13861386138615,247.84158415841586,252.17821782178217,252.72277227722773,251.990099009901,250.64356435643563,249.84158415841586,249.44554455445544,249.94059405940595,250.8019801980198,249.83168316831683,248.94059405940595,249.88118811881188,249.25742574257427,248.84158415841586,246.16831683168317,246.69306930693068,247.58415841584159,246.1980198019802,244.88118811881188,246.33663366336634,245.66336633663366,246.14851485148515,248.7029702970297,249.8019801980198,251.46534653465346,252.85148514851485,252.17821782178217,251.14851485148515,251.98019801980197,253.25742574257427,253.62376237623764,253.01980198019803,251.6039603960396,253.92079207920793,254.84158415841586,256.7920792079208,256.2178217821782,255.87128712871288,252.8910891089109,251.43564356435644,251.05940594059405,251.17821782178217,251.13861386138615,249.25742574257427,248.75247524752476,249.94059405940595,250.59405940594058,250.52475247524754,252.62376237623764,250.15841584158414,250.8019801980198,254.8910891089109,255.0],\"marker\":{},\"line\":{\"width\":5.0},\"error_y\":{\"array\":[0.0,5.901099075344329,11.019307987112962,17.650108686171404,22.64001976698574,27.1751123764607,33.09070642166995,36.6895862960358,38.74218669232507,40.98619666218962,43.594070357068404,43.10536251126678,40.91574777321787,39.74159852679993,38.46004227097454,40.19122361219605,44.43699288468632,46.39215963120843,47.902264358723905,44.15357985329599,45.85555452928379,46.619678843226126,47.267733326883636,46.27534895375808,47.265787346296754,47.8301822768183,48.248381699634876,50.64239018024641,48.68062212315112,47.65972623662976,44.99654112119383,43.74975869806157,43.02641141447798,42.95628217406416,42.0671928332672,42.97564818165822,42.737012965668555,41.42980942402331,39.041673596654675,40.98867749962564,39.72171763009686,40.21046363993599,41.508667829147385,43.824293638018716,44.14921593105287,45.75661397844335,46.691962969451126,46.347174607082636,44.853479836745635,47.0300746415746,47.347886713533725,45.384687957394824,44.426024840945615,43.93853267310309,44.74359736264505,45.91096204223524,47.22076234072893,48.75347563137027,49.748934015148144,48.85555999652709,49.607389261146686,49.12895941769321,49.32972112366554,49.91968400826621,49.23459501747379,49.025099653540764,47.701213219102264,45.75090758175684,45.095072286830366,42.31226444864749,41.57921224709662,41.90919226183684,42.511072523857976,43.19314439552041,43.70249330177946,45.719883232268614,44.4702102981355,45.93400776447588,46.11330642778687,46.29146361868887,46.141755321600144,45.67180381117365,45.14592621118041,44.114695245843684,42.34586259846316,42.802491368222164,44.23457945772718,45.554893445509066,48.53819563646308,47.132450825223174,45.162380296651826,41.69619969861678,41.14812412263628,41.30225702844294,42.79747147153012,45.25187157663335,46.48329839526203,46.18175671696939,45.35747343095296,46.72020997172403,46.12222891404967],\"color\":\"grey\"},\"name\":\"Protein\",\"xaxis\":\"x2\",\"yaxis\":\"y2\"}];\r\n",
       "            var layout = {\"width\":1200,\"height\":600,\"template\":{\"layout\":{\"title\":{\"x\":0.05},\"font\":{\"color\":\"rgba(42, 63, 95, 1.0)\"},\"paper_bgcolor\":\"rgba(255, 255, 255, 1.0)\",\"plot_bgcolor\":\"rgba(229, 236, 246, 1.0)\",\"autotypenumbers\":\"strict\",\"colorscale\":{\"diverging\":[[0.0,\"#8e0152\"],[0.1,\"#c51b7d\"],[0.2,\"#de77ae\"],[0.3,\"#f1b6da\"],[0.4,\"#fde0ef\"],[0.5,\"#f7f7f7\"],[0.6,\"#e6f5d0\"],[0.7,\"#b8e186\"],[0.8,\"#7fbc41\"],[0.9,\"#4d9221\"],[1.0,\"#276419\"]],\"sequential\":[[0.0,\"#0d0887\"],[0.1111111111111111,\"#46039f\"],[0.2222222222222222,\"#7201a8\"],[0.3333333333333333,\"#9c179e\"],[0.4444444444444444,\"#bd3786\"],[0.5555555555555556,\"#d8576b\"],[0.6666666666666666,\"#ed7953\"],[0.7777777777777778,\"#fb9f3a\"],[0.8888888888888888,\"#fdca26\"],[1.0,\"#f0f921\"]],\"sequentialminus\":[[0.0,\"#0d0887\"],[0.1111111111111111,\"#46039f\"],[0.2222222222222222,\"#7201a8\"],[0.3333333333333333,\"#9c179e\"],[0.4444444444444444,\"#bd3786\"],[0.5555555555555556,\"#d8576b\"],[0.6666666666666666,\"#ed7953\"],[0.7777777777777778,\"#fb9f3a\"],[0.8888888888888888,\"#fdca26\"],[1.0,\"#f0f921\"]]},\"hovermode\":\"closest\",\"hoverlabel\":{\"align\":\"left\"},\"coloraxis\":{\"colorbar\":{\"outlinewidth\":0.0,\"ticks\":\"\"}},\"geo\":{\"showland\":true,\"landcolor\":\"rgba(229, 236, 246, 1.0)\",\"showlakes\":true,\"lakecolor\":\"rgba(255, 255, 255, 1.0)\",\"subunitcolor\":\"rgba(255, 255, 255, 1.0)\",\"bgcolor\":\"rgba(255, 255, 255, 1.0)\"},\"mapbox\":{\"style\":\"light\"},\"polar\":{\"bgcolor\":\"rgba(229, 236, 246, 1.0)\",\"radialaxis\":{\"linecolor\":\"rgba(255, 255, 255, 1.0)\",\"gridcolor\":\"rgba(255, 255, 255, 1.0)\",\"ticks\":\"\"},\"angularaxis\":{\"linecolor\":\"rgba(255, 255, 255, 1.0)\",\"gridcolor\":\"rgba(255, 255, 255, 1.0)\",\"ticks\":\"\"}},\"scene\":{\"xaxis\":{\"ticks\":\"\",\"linecolor\":\"rgba(255, 255, 255, 1.0)\",\"gridcolor\":\"rgba(255, 255, 255, 1.0)\",\"gridwidth\":2.0,\"zerolinecolor\":\"rgba(255, 255, 255, 1.0)\",\"backgroundcolor\":\"rgba(229, 236, 246, 1.0)\",\"showbackground\":true},\"yaxis\":{\"ticks\":\"\",\"linecolor\":\"rgba(255, 255, 255, 1.0)\",\"gridcolor\":\"rgba(255, 255, 255, 1.0)\",\"gridwidth\":2.0,\"zerolinecolor\":\"rgba(255, 255, 255, 1.0)\",\"backgroundcolor\":\"rgba(229, 236, 246, 1.0)\",\"showbackground\":true},\"zaxis\":{\"ticks\":\"\",\"linecolor\":\"rgba(255, 255, 255, 1.0)\",\"gridcolor\":\"rgba(255, 255, 255, 1.0)\",\"gridwidth\":2.0,\"zerolinecolor\":\"rgba(255, 255, 255, 1.0)\",\"backgroundcolor\":\"rgba(229, 236, 246, 1.0)\",\"showbackground\":true}},\"ternary\":{\"aaxis\":{\"ticks\":\"\",\"linecolor\":\"rgba(255, 255, 255, 1.0)\",\"gridcolor\":\"rgba(255, 255, 255, 1.0)\"},\"baxis\":{\"ticks\":\"\",\"linecolor\":\"rgba(255, 255, 255, 1.0)\",\"gridcolor\":\"rgba(255, 255, 255, 1.0)\"},\"caxis\":{\"ticks\":\"\",\"linecolor\":\"rgba(255, 255, 255, 1.0)\",\"gridcolor\":\"rgba(255, 255, 255, 1.0)\"},\"bgcolor\":\"rgba(229, 236, 246, 1.0)\"},\"xaxis\":{\"title\":{\"standoff\":15},\"ticks\":\"\",\"automargin\":true,\"linecolor\":\"rgba(255, 255, 255, 1.0)\",\"gridcolor\":\"rgba(255, 255, 255, 1.0)\",\"zerolinecolor\":\"rgba(255, 255, 255, 1.0)\",\"zerolinewidth\":2.0},\"yaxis\":{\"title\":{\"standoff\":15},\"ticks\":\"\",\"automargin\":true,\"linecolor\":\"rgba(255, 255, 255, 1.0)\",\"gridcolor\":\"rgba(255, 255, 255, 1.0)\",\"zerolinecolor\":\"rgba(255, 255, 255, 1.0)\",\"zerolinewidth\":2.0},\"annotationdefaults\":{\"arrowcolor\":\"#2a3f5f\",\"arrowhead\":0,\"arrowwidth\":1},\"shapedefaults\":{\"line\":{\"color\":\"rgba(42, 63, 95, 1.0)\"}},\"colorway\":[\"rgba(99, 110, 250, 1.0)\",\"rgba(239, 85, 59, 1.0)\",\"rgba(0, 204, 150, 1.0)\",\"rgba(171, 99, 250, 1.0)\",\"rgba(255, 161, 90, 1.0)\",\"rgba(25, 211, 243, 1.0)\",\"rgba(255, 102, 146, 1.0)\",\"rgba(182, 232, 128, 1.0)\",\"rgba(255, 151, 255, 1.0)\",\"rgba(254, 203, 82, 1.0)\"]},\"data\":{\"bar\":[{\"marker\":{\"line\":{\"color\":\"rgba(229, 236, 246, 1.0)\",\"width\":0.5},\"pattern\":{\"fillmode\":\"overlay\",\"size\":10,\"solidity\":0.2}},\"error_x\":{\"color\":\"rgba(42, 63, 95, 1.0)\"},\"error_y\":{\"color\":\"rgba(42, 63, 95, 1.0)\"}}],\"barpolar\":[{\"marker\":{\"line\":{\"color\":\"rgba(229, 236, 246, 1.0)\",\"width\":0.5},\"pattern\":{\"fillmode\":\"overlay\",\"size\":10,\"solidity\":0.2}}}],\"carpet\":[{\"aaxis\":{\"linecolor\":\"rgba(255, 255, 255, 1.0)\",\"gridcolor\":\"rgba(255, 255, 255, 1.0)\",\"endlinecolor\":\"rgba(42, 63, 95, 1.0)\",\"minorgridcolor\":\"rgba(255, 255, 255, 1.0)\",\"startlinecolor\":\"rgba(42, 63, 95, 1.0)\"},\"baxis\":{\"linecolor\":\"rgba(255, 255, 255, 1.0)\",\"gridcolor\":\"rgba(255, 255, 255, 1.0)\",\"endlinecolor\":\"rgba(42, 63, 95, 1.0)\",\"minorgridcolor\":\"rgba(255, 255, 255, 1.0)\",\"startlinecolor\":\"rgba(42, 63, 95, 1.0)\"}}],\"choropleth\":[{\"colorbar\":{\"outlinewidth\":0.0,\"ticks\":\"\"},\"colorscale\":[[0.0,\"#0d0887\"],[0.1111111111111111,\"#46039f\"],[0.2222222222222222,\"#7201a8\"],[0.3333333333333333,\"#9c179e\"],[0.4444444444444444,\"#bd3786\"],[0.5555555555555556,\"#d8576b\"],[0.6666666666666666,\"#ed7953\"],[0.7777777777777778,\"#fb9f3a\"],[0.8888888888888888,\"#fdca26\"],[1.0,\"#f0f921\"]]}],\"contour\":[{\"colorbar\":{\"outlinewidth\":0.0,\"ticks\":\"\"},\"colorscale\":[[0.0,\"#0d0887\"],[0.1111111111111111,\"#46039f\"],[0.2222222222222222,\"#7201a8\"],[0.3333333333333333,\"#9c179e\"],[0.4444444444444444,\"#bd3786\"],[0.5555555555555556,\"#d8576b\"],[0.6666666666666666,\"#ed7953\"],[0.7777777777777778,\"#fb9f3a\"],[0.8888888888888888,\"#fdca26\"],[1.0,\"#f0f921\"]]}],\"contourcarpet\":[{\"colorbar\":{\"outlinewidth\":0.0,\"ticks\":\"\"}}],\"heatmap\":[{\"colorbar\":{\"outlinewidth\":0.0,\"ticks\":\"\"},\"colorscale\":[[0.0,\"#0d0887\"],[0.1111111111111111,\"#46039f\"],[0.2222222222222222,\"#7201a8\"],[0.3333333333333333,\"#9c179e\"],[0.4444444444444444,\"#bd3786\"],[0.5555555555555556,\"#d8576b\"],[0.6666666666666666,\"#ed7953\"],[0.7777777777777778,\"#fb9f3a\"],[0.8888888888888888,\"#fdca26\"],[1.0,\"#f0f921\"]]}],\"heatmapgl\":[{\"colorbar\":{\"outlinewidth\":0.0,\"ticks\":\"\"},\"colorscale\":[[0.0,\"#0d0887\"],[0.1111111111111111,\"#46039f\"],[0.2222222222222222,\"#7201a8\"],[0.3333333333333333,\"#9c179e\"],[0.4444444444444444,\"#bd3786\"],[0.5555555555555556,\"#d8576b\"],[0.6666666666666666,\"#ed7953\"],[0.7777777777777778,\"#fb9f3a\"],[0.8888888888888888,\"#fdca26\"],[1.0,\"#f0f921\"]]}],\"histogram\":[{\"marker\":{\"pattern\":{\"fillmode\":\"overlay\",\"size\":10,\"solidity\":0.2}}}],\"histogram2d\":[{\"colorbar\":{\"outlinewidth\":0.0,\"ticks\":\"\"},\"colorscale\":[[0.0,\"#0d0887\"],[0.1111111111111111,\"#46039f\"],[0.2222222222222222,\"#7201a8\"],[0.3333333333333333,\"#9c179e\"],[0.4444444444444444,\"#bd3786\"],[0.5555555555555556,\"#d8576b\"],[0.6666666666666666,\"#ed7953\"],[0.7777777777777778,\"#fb9f3a\"],[0.8888888888888888,\"#fdca26\"],[1.0,\"#f0f921\"]]}],\"histogram2dcontour\":[{\"colorbar\":{\"outlinewidth\":0.0,\"ticks\":\"\"},\"colorscale\":[[0.0,\"#0d0887\"],[0.1111111111111111,\"#46039f\"],[0.2222222222222222,\"#7201a8\"],[0.3333333333333333,\"#9c179e\"],[0.4444444444444444,\"#bd3786\"],[0.5555555555555556,\"#d8576b\"],[0.6666666666666666,\"#ed7953\"],[0.7777777777777778,\"#fb9f3a\"],[0.8888888888888888,\"#fdca26\"],[1.0,\"#f0f921\"]]}],\"mesh3d\":[{\"colorbar\":{\"outlinewidth\":0.0,\"ticks\":\"\"}}],\"parcoords\":[{\"line\":{\"colorbar\":{\"outlinewidth\":0.0,\"ticks\":\"\"}}}],\"pie\":[{\"automargin\":true}],\"scatter\":[{\"marker\":{\"colorbar\":{\"outlinewidth\":0.0,\"ticks\":\"\"}}}],\"scatter3d\":[{\"marker\":{\"colorbar\":{\"outlinewidth\":0.0,\"ticks\":\"\"}},\"line\":{\"colorbar\":{\"outlinewidth\":0.0,\"ticks\":\"\"}}}],\"scattercarpet\":[{\"marker\":{\"colorbar\":{\"outlinewidth\":0.0,\"ticks\":\"\"}}}],\"scattergeo\":[{\"marker\":{\"colorbar\":{\"outlinewidth\":0.0,\"ticks\":\"\"}}}],\"scattergl\":[{\"marker\":{\"colorbar\":{\"outlinewidth\":0.0,\"ticks\":\"\"}}}],\"scattermapbox\":[{\"marker\":{\"colorbar\":{\"outlinewidth\":0.0,\"ticks\":\"\"}}}],\"scatterpolar\":[{\"marker\":{\"colorbar\":{\"outlinewidth\":0.0,\"ticks\":\"\"}}}],\"scatterpolargl\":[{\"marker\":{\"colorbar\":{\"outlinewidth\":0.0,\"ticks\":\"\"}}}],\"scatterternary\":[{\"marker\":{\"colorbar\":{\"outlinewidth\":0.0,\"ticks\":\"\"}}}],\"surface\":[{\"colorbar\":{\"outlinewidth\":0.0,\"ticks\":\"\"},\"colorscale\":[[0.0,\"#0d0887\"],[0.1111111111111111,\"#46039f\"],[0.2222222222222222,\"#7201a8\"],[0.3333333333333333,\"#9c179e\"],[0.4444444444444444,\"#bd3786\"],[0.5555555555555556,\"#d8576b\"],[0.6666666666666666,\"#ed7953\"],[0.7777777777777778,\"#fb9f3a\"],[0.8888888888888888,\"#fdca26\"],[1.0,\"#f0f921\"]]}],\"table\":[{\"cells\":{\"fill\":{\"color\":\"rgba(235, 240, 248, 1.0)\"},\"line\":{\"color\":\"rgba(255, 255, 255, 1.0)\"}},\"header\":{\"fill\":{\"color\":\"rgba(200, 212, 227, 1.0)\"},\"line\":{\"color\":\"rgba(255, 255, 255, 1.0)\"}}}]}},\"yaxis\":{\"title\":{\"text\":\"Anzahl\"}},\"xaxis\":{\"title\":{\"text\":\"Zeit\"}},\"xaxis2\":{\"title\":{\"text\":\"Zeit\"}},\"yaxis2\":{\"title\":{\"text\":\"Anzahl\"}},\"grid\":{\"rows\":1,\"columns\":2,\"pattern\":\"independent\"}};\r\n",
       "            var config = {\"responsive\":true};\r\n",
       "            Plotly.newPlot('8bdffddc-3e43-45f0-86be-e2cbae580710', data, layout, config);\r\n",
       "});\r\n",
       "            };\r\n",
       "            if ((typeof(requirejs) !==  typeof(Function)) || (typeof(requirejs.config) !== typeof(Function))) {\r\n",
       "                var script = document.createElement(\"script\");\r\n",
       "                script.setAttribute(\"src\", \"https://cdnjs.cloudflare.com/ajax/libs/require.js/2.3.6/require.min.js\");\r\n",
       "                script.onload = function(){\r\n",
       "                    renderPlotly_8bdffddc3e4345f086bee2cbae580710();\r\n",
       "                };\r\n",
       "                document.getElementsByTagName(\"head\")[0].appendChild(script);\r\n",
       "            }\r\n",
       "            else {\r\n",
       "                renderPlotly_8bdffddc3e4345f086bee2cbae580710();\r\n",
       "            }\r\n",
       "</script>\r\n",
       "\n",
       "    \n",
       "</div>    \n"
      ]
     },
     "metadata": {},
     "output_type": "display_data"
    }
   ],
   "source": [
    "[\n",
    "    samples\n",
    "    |> Array.map fst\n",
    "    |> Array.transpose\n",
    "    |> Array.map (fun numbers -> Array.average numbers, Seq.stDev numbers)\n",
    "    |> Array.unzip\n",
    "    |> fun (number,stDev) ->\n",
    "        Chart.Line (zeitpunkte, number, LineWidth = 5)\n",
    "        |> Chart.withYErrorStyle(Array = stDev, Color = Color.fromString \"grey\")\n",
    "        |> Chart.withYAxisStyle(TitleText = \"Anzahl\")\n",
    "        |> Chart.withXAxisStyle(TitleText = \"Zeit\")\n",
    "        |> Chart.withTraceInfo(\"mRNA\")\n",
    "    samples\n",
    "    |> Array.map snd\n",
    "    |> Array.transpose\n",
    "    |> Array.map (fun numbers -> Array.average numbers, Seq.stDev numbers)\n",
    "    |> Array.unzip\n",
    "    |> fun (number,stDev) ->\n",
    "        Chart.Line (zeitpunkte, number, LineWidth = 5)\n",
    "        |> Chart.withYErrorStyle(Array = stDev, Color = Color.fromString \"grey\")\n",
    "        |> Chart.withYAxisStyle(TitleText = \"Anzahl\")\n",
    "        |> Chart.withXAxisStyle(TitleText = \"Zeit\")\n",
    "        |> Chart.withTraceInfo(\"Protein\")\n",
    "]\n",
    "|> Chart.Grid (1,2)\n",
    "|> Chart.withSize(1200., 600.)"
   ]
  },
  {
   "cell_type": "markdown",
   "metadata": {},
   "source": [
    "##### Aufgabe 3.8\n",
    "***Führen sie `gillespieSSA` mit den obigen Werten unterschiedlich oft aus. Wie sehen die Kurven bei niedriger Wiederholungszahl aus? Wie bei hoher?***"
   ]
  },
  {
   "cell_type": "code",
   "execution_count": null,
   "metadata": {
    "dotnet_interactive": {
     "language": "fsharp"
    },
    "vscode": {
     "languageId": "dotnet-interactive.fsharp"
    }
   },
   "outputs": [],
   "source": [
    "// Kopieren sie den benötigten Code aus dem vorherigen Codeblock"
   ]
  },
  {
   "cell_type": "markdown",
   "metadata": {},
   "source": [
    "Abschließend können wir die Wahrscheinlichkeitsverteilungen im stationären Zustand anschauen. Dafür schauen wir uns die Häufigkeiten der einzelnen Werte als normiertes Histogramm mit Bingröße=1 an. Dies entspricht der Wahrscheinlichkeitsdichtefunktion (PDF)."
   ]
  },
  {
   "cell_type": "code",
   "execution_count": null,
   "metadata": {
    "dotnet_interactive": {
     "language": "fsharp"
    },
    "vscode": {
     "languageId": "dotnet-interactive.fsharp"
    }
   },
   "outputs": [
    {
     "data": {
      "text/html": [
       "\n",
       "<div>\n",
       "    <div id=\"986a38b3-1b49-482f-ab7a-469a17c0d6df\"><!-- Plotly chart will be drawn inside this DIV --></div>\r\n",
       "<script type=\"text/javascript\">\r\n",
       "\r\n",
       "            var renderPlotly_986a38b31b49482fab7a469a17c0d6df = function() {\r\n",
       "            var fsharpPlotlyRequire = requirejs.config({context:'fsharp-plotly',paths:{plotly:'https://cdn.plot.ly/plotly-2.6.3.min'}}) || require;\r\n",
       "            fsharpPlotlyRequire(['plotly'], function(Plotly) {\r\n",
       "\r\n",
       "            var data = [{\"type\":\"bar\",\"x\":[18.0,27.0,19.0,11.0,10.0,7.0,12.0,14.0,13.0,6.0,9.0,17.0,16.0,15.0,5.0,8.0,4.0,3.0,2.0,20.0,21.0,1.0,23.0,22.0,0.0,25.0,24.0],\"y\":[0.00658165364047717,3.9176509764745056E-05,0.0038392979569450156,0.11304381892617187,0.12397406515053574,0.09339679927915222,0.09472880061115355,0.05092946269416858,0.07480754539578069,0.06422988775929953,0.12217194570135746,0.012634424399130281,0.020900667959491488,0.033887680946504475,0.03849092084386202,0.11459129106187929,0.018883077706607118,0.007032183502771738,0.0022722375663552135,0.00170417817476641,0.0007247654306477835,0.0004505298622945682,0.0001958825488237253,0.0003917650976474506,3.9176509764745056E-05,1.9588254882372528E-05,3.9176509764745056E-05],\"orientation\":\"v\",\"marker\":{\"pattern\":{}}}];\r\n",
       "            var layout = {\"width\":600,\"height\":600,\"template\":{\"layout\":{\"title\":{\"x\":0.05},\"font\":{\"color\":\"rgba(42, 63, 95, 1.0)\"},\"paper_bgcolor\":\"rgba(255, 255, 255, 1.0)\",\"plot_bgcolor\":\"rgba(229, 236, 246, 1.0)\",\"autotypenumbers\":\"strict\",\"colorscale\":{\"diverging\":[[0.0,\"#8e0152\"],[0.1,\"#c51b7d\"],[0.2,\"#de77ae\"],[0.3,\"#f1b6da\"],[0.4,\"#fde0ef\"],[0.5,\"#f7f7f7\"],[0.6,\"#e6f5d0\"],[0.7,\"#b8e186\"],[0.8,\"#7fbc41\"],[0.9,\"#4d9221\"],[1.0,\"#276419\"]],\"sequential\":[[0.0,\"#0d0887\"],[0.1111111111111111,\"#46039f\"],[0.2222222222222222,\"#7201a8\"],[0.3333333333333333,\"#9c179e\"],[0.4444444444444444,\"#bd3786\"],[0.5555555555555556,\"#d8576b\"],[0.6666666666666666,\"#ed7953\"],[0.7777777777777778,\"#fb9f3a\"],[0.8888888888888888,\"#fdca26\"],[1.0,\"#f0f921\"]],\"sequentialminus\":[[0.0,\"#0d0887\"],[0.1111111111111111,\"#46039f\"],[0.2222222222222222,\"#7201a8\"],[0.3333333333333333,\"#9c179e\"],[0.4444444444444444,\"#bd3786\"],[0.5555555555555556,\"#d8576b\"],[0.6666666666666666,\"#ed7953\"],[0.7777777777777778,\"#fb9f3a\"],[0.8888888888888888,\"#fdca26\"],[1.0,\"#f0f921\"]]},\"hovermode\":\"closest\",\"hoverlabel\":{\"align\":\"left\"},\"coloraxis\":{\"colorbar\":{\"outlinewidth\":0.0,\"ticks\":\"\"}},\"geo\":{\"showland\":true,\"landcolor\":\"rgba(229, 236, 246, 1.0)\",\"showlakes\":true,\"lakecolor\":\"rgba(255, 255, 255, 1.0)\",\"subunitcolor\":\"rgba(255, 255, 255, 1.0)\",\"bgcolor\":\"rgba(255, 255, 255, 1.0)\"},\"mapbox\":{\"style\":\"light\"},\"polar\":{\"bgcolor\":\"rgba(229, 236, 246, 1.0)\",\"radialaxis\":{\"linecolor\":\"rgba(255, 255, 255, 1.0)\",\"gridcolor\":\"rgba(255, 255, 255, 1.0)\",\"ticks\":\"\"},\"angularaxis\":{\"linecolor\":\"rgba(255, 255, 255, 1.0)\",\"gridcolor\":\"rgba(255, 255, 255, 1.0)\",\"ticks\":\"\"}},\"scene\":{\"xaxis\":{\"ticks\":\"\",\"linecolor\":\"rgba(255, 255, 255, 1.0)\",\"gridcolor\":\"rgba(255, 255, 255, 1.0)\",\"gridwidth\":2.0,\"zerolinecolor\":\"rgba(255, 255, 255, 1.0)\",\"backgroundcolor\":\"rgba(229, 236, 246, 1.0)\",\"showbackground\":true},\"yaxis\":{\"ticks\":\"\",\"linecolor\":\"rgba(255, 255, 255, 1.0)\",\"gridcolor\":\"rgba(255, 255, 255, 1.0)\",\"gridwidth\":2.0,\"zerolinecolor\":\"rgba(255, 255, 255, 1.0)\",\"backgroundcolor\":\"rgba(229, 236, 246, 1.0)\",\"showbackground\":true},\"zaxis\":{\"ticks\":\"\",\"linecolor\":\"rgba(255, 255, 255, 1.0)\",\"gridcolor\":\"rgba(255, 255, 255, 1.0)\",\"gridwidth\":2.0,\"zerolinecolor\":\"rgba(255, 255, 255, 1.0)\",\"backgroundcolor\":\"rgba(229, 236, 246, 1.0)\",\"showbackground\":true}},\"ternary\":{\"aaxis\":{\"ticks\":\"\",\"linecolor\":\"rgba(255, 255, 255, 1.0)\",\"gridcolor\":\"rgba(255, 255, 255, 1.0)\"},\"baxis\":{\"ticks\":\"\",\"linecolor\":\"rgba(255, 255, 255, 1.0)\",\"gridcolor\":\"rgba(255, 255, 255, 1.0)\"},\"caxis\":{\"ticks\":\"\",\"linecolor\":\"rgba(255, 255, 255, 1.0)\",\"gridcolor\":\"rgba(255, 255, 255, 1.0)\"},\"bgcolor\":\"rgba(229, 236, 246, 1.0)\"},\"xaxis\":{\"title\":{\"standoff\":15},\"ticks\":\"\",\"automargin\":true,\"linecolor\":\"rgba(255, 255, 255, 1.0)\",\"gridcolor\":\"rgba(255, 255, 255, 1.0)\",\"zerolinecolor\":\"rgba(255, 255, 255, 1.0)\",\"zerolinewidth\":2.0},\"yaxis\":{\"title\":{\"standoff\":15},\"ticks\":\"\",\"automargin\":true,\"linecolor\":\"rgba(255, 255, 255, 1.0)\",\"gridcolor\":\"rgba(255, 255, 255, 1.0)\",\"zerolinecolor\":\"rgba(255, 255, 255, 1.0)\",\"zerolinewidth\":2.0},\"annotationdefaults\":{\"arrowcolor\":\"#2a3f5f\",\"arrowhead\":0,\"arrowwidth\":1},\"shapedefaults\":{\"line\":{\"color\":\"rgba(42, 63, 95, 1.0)\"}},\"colorway\":[\"rgba(99, 110, 250, 1.0)\",\"rgba(239, 85, 59, 1.0)\",\"rgba(0, 204, 150, 1.0)\",\"rgba(171, 99, 250, 1.0)\",\"rgba(255, 161, 90, 1.0)\",\"rgba(25, 211, 243, 1.0)\",\"rgba(255, 102, 146, 1.0)\",\"rgba(182, 232, 128, 1.0)\",\"rgba(255, 151, 255, 1.0)\",\"rgba(254, 203, 82, 1.0)\"]},\"data\":{\"bar\":[{\"marker\":{\"line\":{\"color\":\"rgba(229, 236, 246, 1.0)\",\"width\":0.5},\"pattern\":{\"fillmode\":\"overlay\",\"size\":10,\"solidity\":0.2}},\"error_x\":{\"color\":\"rgba(42, 63, 95, 1.0)\"},\"error_y\":{\"color\":\"rgba(42, 63, 95, 1.0)\"}}],\"barpolar\":[{\"marker\":{\"line\":{\"color\":\"rgba(229, 236, 246, 1.0)\",\"width\":0.5},\"pattern\":{\"fillmode\":\"overlay\",\"size\":10,\"solidity\":0.2}}}],\"carpet\":[{\"aaxis\":{\"linecolor\":\"rgba(255, 255, 255, 1.0)\",\"gridcolor\":\"rgba(255, 255, 255, 1.0)\",\"endlinecolor\":\"rgba(42, 63, 95, 1.0)\",\"minorgridcolor\":\"rgba(255, 255, 255, 1.0)\",\"startlinecolor\":\"rgba(42, 63, 95, 1.0)\"},\"baxis\":{\"linecolor\":\"rgba(255, 255, 255, 1.0)\",\"gridcolor\":\"rgba(255, 255, 255, 1.0)\",\"endlinecolor\":\"rgba(42, 63, 95, 1.0)\",\"minorgridcolor\":\"rgba(255, 255, 255, 1.0)\",\"startlinecolor\":\"rgba(42, 63, 95, 1.0)\"}}],\"choropleth\":[{\"colorbar\":{\"outlinewidth\":0.0,\"ticks\":\"\"},\"colorscale\":[[0.0,\"#0d0887\"],[0.1111111111111111,\"#46039f\"],[0.2222222222222222,\"#7201a8\"],[0.3333333333333333,\"#9c179e\"],[0.4444444444444444,\"#bd3786\"],[0.5555555555555556,\"#d8576b\"],[0.6666666666666666,\"#ed7953\"],[0.7777777777777778,\"#fb9f3a\"],[0.8888888888888888,\"#fdca26\"],[1.0,\"#f0f921\"]]}],\"contour\":[{\"colorbar\":{\"outlinewidth\":0.0,\"ticks\":\"\"},\"colorscale\":[[0.0,\"#0d0887\"],[0.1111111111111111,\"#46039f\"],[0.2222222222222222,\"#7201a8\"],[0.3333333333333333,\"#9c179e\"],[0.4444444444444444,\"#bd3786\"],[0.5555555555555556,\"#d8576b\"],[0.6666666666666666,\"#ed7953\"],[0.7777777777777778,\"#fb9f3a\"],[0.8888888888888888,\"#fdca26\"],[1.0,\"#f0f921\"]]}],\"contourcarpet\":[{\"colorbar\":{\"outlinewidth\":0.0,\"ticks\":\"\"}}],\"heatmap\":[{\"colorbar\":{\"outlinewidth\":0.0,\"ticks\":\"\"},\"colorscale\":[[0.0,\"#0d0887\"],[0.1111111111111111,\"#46039f\"],[0.2222222222222222,\"#7201a8\"],[0.3333333333333333,\"#9c179e\"],[0.4444444444444444,\"#bd3786\"],[0.5555555555555556,\"#d8576b\"],[0.6666666666666666,\"#ed7953\"],[0.7777777777777778,\"#fb9f3a\"],[0.8888888888888888,\"#fdca26\"],[1.0,\"#f0f921\"]]}],\"heatmapgl\":[{\"colorbar\":{\"outlinewidth\":0.0,\"ticks\":\"\"},\"colorscale\":[[0.0,\"#0d0887\"],[0.1111111111111111,\"#46039f\"],[0.2222222222222222,\"#7201a8\"],[0.3333333333333333,\"#9c179e\"],[0.4444444444444444,\"#bd3786\"],[0.5555555555555556,\"#d8576b\"],[0.6666666666666666,\"#ed7953\"],[0.7777777777777778,\"#fb9f3a\"],[0.8888888888888888,\"#fdca26\"],[1.0,\"#f0f921\"]]}],\"histogram\":[{\"marker\":{\"pattern\":{\"fillmode\":\"overlay\",\"size\":10,\"solidity\":0.2}}}],\"histogram2d\":[{\"colorbar\":{\"outlinewidth\":0.0,\"ticks\":\"\"},\"colorscale\":[[0.0,\"#0d0887\"],[0.1111111111111111,\"#46039f\"],[0.2222222222222222,\"#7201a8\"],[0.3333333333333333,\"#9c179e\"],[0.4444444444444444,\"#bd3786\"],[0.5555555555555556,\"#d8576b\"],[0.6666666666666666,\"#ed7953\"],[0.7777777777777778,\"#fb9f3a\"],[0.8888888888888888,\"#fdca26\"],[1.0,\"#f0f921\"]]}],\"histogram2dcontour\":[{\"colorbar\":{\"outlinewidth\":0.0,\"ticks\":\"\"},\"colorscale\":[[0.0,\"#0d0887\"],[0.1111111111111111,\"#46039f\"],[0.2222222222222222,\"#7201a8\"],[0.3333333333333333,\"#9c179e\"],[0.4444444444444444,\"#bd3786\"],[0.5555555555555556,\"#d8576b\"],[0.6666666666666666,\"#ed7953\"],[0.7777777777777778,\"#fb9f3a\"],[0.8888888888888888,\"#fdca26\"],[1.0,\"#f0f921\"]]}],\"mesh3d\":[{\"colorbar\":{\"outlinewidth\":0.0,\"ticks\":\"\"}}],\"parcoords\":[{\"line\":{\"colorbar\":{\"outlinewidth\":0.0,\"ticks\":\"\"}}}],\"pie\":[{\"automargin\":true}],\"scatter\":[{\"marker\":{\"colorbar\":{\"outlinewidth\":0.0,\"ticks\":\"\"}}}],\"scatter3d\":[{\"marker\":{\"colorbar\":{\"outlinewidth\":0.0,\"ticks\":\"\"}},\"line\":{\"colorbar\":{\"outlinewidth\":0.0,\"ticks\":\"\"}}}],\"scattercarpet\":[{\"marker\":{\"colorbar\":{\"outlinewidth\":0.0,\"ticks\":\"\"}}}],\"scattergeo\":[{\"marker\":{\"colorbar\":{\"outlinewidth\":0.0,\"ticks\":\"\"}}}],\"scattergl\":[{\"marker\":{\"colorbar\":{\"outlinewidth\":0.0,\"ticks\":\"\"}}}],\"scattermapbox\":[{\"marker\":{\"colorbar\":{\"outlinewidth\":0.0,\"ticks\":\"\"}}}],\"scatterpolar\":[{\"marker\":{\"colorbar\":{\"outlinewidth\":0.0,\"ticks\":\"\"}}}],\"scatterpolargl\":[{\"marker\":{\"colorbar\":{\"outlinewidth\":0.0,\"ticks\":\"\"}}}],\"scatterternary\":[{\"marker\":{\"colorbar\":{\"outlinewidth\":0.0,\"ticks\":\"\"}}}],\"surface\":[{\"colorbar\":{\"outlinewidth\":0.0,\"ticks\":\"\"},\"colorscale\":[[0.0,\"#0d0887\"],[0.1111111111111111,\"#46039f\"],[0.2222222222222222,\"#7201a8\"],[0.3333333333333333,\"#9c179e\"],[0.4444444444444444,\"#bd3786\"],[0.5555555555555556,\"#d8576b\"],[0.6666666666666666,\"#ed7953\"],[0.7777777777777778,\"#fb9f3a\"],[0.8888888888888888,\"#fdca26\"],[1.0,\"#f0f921\"]]}],\"table\":[{\"cells\":{\"fill\":{\"color\":\"rgba(235, 240, 248, 1.0)\"},\"line\":{\"color\":\"rgba(255, 255, 255, 1.0)\"}},\"header\":{\"fill\":{\"color\":\"rgba(200, 212, 227, 1.0)\"},\"line\":{\"color\":\"rgba(255, 255, 255, 1.0)\"}}}]}},\"xaxis\":{\"title\":{\"text\":\"mRNA Anzahl\"}},\"yaxis\":{\"title\":{\"text\":\"P(Anzahl)\"}}};\r\n",
       "            var config = {\"responsive\":true};\r\n",
       "            Plotly.newPlot('986a38b3-1b49-482f-ab7a-469a17c0d6df', data, layout, config);\r\n",
       "});\r\n",
       "            };\r\n",
       "            if ((typeof(requirejs) !==  typeof(Function)) || (typeof(requirejs.config) !== typeof(Function))) {\r\n",
       "                var script = document.createElement(\"script\");\r\n",
       "                script.setAttribute(\"src\", \"https://cdnjs.cloudflare.com/ajax/libs/require.js/2.3.6/require.min.js\");\r\n",
       "                script.onload = function(){\r\n",
       "                    renderPlotly_986a38b31b49482fab7a469a17c0d6df();\r\n",
       "                };\r\n",
       "                document.getElementsByTagName(\"head\")[0].appendChild(script);\r\n",
       "            }\r\n",
       "            else {\r\n",
       "                renderPlotly_986a38b31b49482fab7a469a17c0d6df();\r\n",
       "            }\r\n",
       "</script>\r\n",
       "\n",
       "    \n",
       "</div>    \n"
      ]
     },
     "metadata": {},
     "output_type": "display_data"
    }
   ],
   "source": [
    "let samplesmRNA =\n",
    "    samples\n",
    "    |> Array.map fst\n",
    "    |> Array.collect (fun x -> x.[50 ..])\n",
    "\n",
    "let sampleZahlenmRNA =\n",
    "    samplesmRNA\n",
    "    |> Array.countBy id\n",
    "    |> fun histo ->\n",
    "        let histoSum =\n",
    "            histo\n",
    "            |> Array.map snd\n",
    "            |> Array.sum\n",
    "        histo\n",
    "        |> Array.map (fun (event,count) -> event, float count/ float histoSum)\n",
    "\n",
    "let histomRNA =\n",
    "    Chart.Column(sampleZahlenmRNA)\n",
    "    |> Chart.withXAxisStyle(TitleText = \"mRNA Anzahl\")\n",
    "    |> Chart.withYAxisStyle(TitleText = \"P(Anzahl)\")\n",
    "\n",
    "histomRNA"
   ]
  },
  {
   "cell_type": "code",
   "execution_count": null,
   "metadata": {
    "dotnet_interactive": {
     "language": "fsharp"
    },
    "vscode": {
     "languageId": "dotnet-interactive.fsharp"
    }
   },
   "outputs": [
    {
     "data": {
      "text/html": [
       "\n",
       "<div>\n",
       "    <div id=\"f7cd7ecc-57aa-4654-bf1a-c6c7a9833639\"><!-- Plotly chart will be drawn inside this DIV --></div>\r\n",
       "<script type=\"text/javascript\">\r\n",
       "\r\n",
       "            var renderPlotly_f7cd7ecc57aa4654bf1ac6c7a9833639 = function() {\r\n",
       "            var fsharpPlotlyRequire = requirejs.config({context:'fsharp-plotly',paths:{plotly:'https://cdn.plot.ly/plotly-2.6.3.min'}}) || require;\r\n",
       "            fsharpPlotlyRequire(['plotly'], function(Plotly) {\r\n",
       "\r\n",
       "            var data = [{\"type\":\"bar\",\"x\":[425.0,415.0,449.0,475.0,455.0,426.0,399.0,370.0,353.0,358.0,336.0,344.0,329.0,305.0,279.0,261.0,257.0,273.0,291.0,301.0,312.0,306.0,297.0,317.0,323.0,319.0,310.0,318.0,300.0,290.0,280.0,282.0,250.0,252.0,248.0,246.0,249.0,244.0,293.0,278.0,232.0,225.0,307.0,274.0,258.0,264.0,268.0,263.0,272.0,242.0,218.0,224.0,227.0,243.0,270.0,281.0,309.0,343.0,328.0,321.0,322.0,324.0,303.0,325.0,266.0,302.0,296.0,285.0,327.0,339.0,283.0,298.0,245.0,238.0,240.0,234.0,230.0,237.0,215.0,204.0,191.0,194.0,201.0,205.0,216.0,221.0,226.0,212.0,202.0,207.0,210.0,192.0,165.0,171.0,199.0,203.0,241.0,289.0,251.0,276.0,247.0,233.0,223.0,222.0,209.0,208.0,206.0,198.0,219.0,220.0,214.0,235.0,294.0,287.0,284.0,260.0,236.0,267.0,229.0,231.0,256.0,254.0,228.0,255.0,239.0,196.0,292.0,275.0,314.0,313.0,271.0,253.0,211.0,217.0,195.0,178.0,288.0,304.0,320.0,311.0,364.0,295.0,269.0,262.0,334.0,330.0,259.0,193.0,185.0,277.0,308.0,188.0,189.0,181.0,179.0,190.0,200.0,213.0,197.0,187.0,265.0,163.0,159.0,326.0,332.0,183.0,299.0,333.0,182.0,175.0,186.0,166.0,170.0,177.0,157.0,180.0,286.0,174.0,169.0,184.0,172.0,146.0,144.0,147.0,141.0,331.0,338.0,315.0,164.0,363.0,366.0,349.0,347.0,162.0,173.0,176.0,355.0,351.0,356.0,362.0,335.0,158.0,150.0,154.0,160.0,168.0,316.0,340.0,161.0,391.0,392.0,357.0,145.0,151.0,350.0,140.0,359.0,367.0,345.0,153.0,342.0,368.0,360.0,337.0,377.0,373.0,348.0,346.0,149.0,134.0,129.0,117.0,376.0,138.0,156.0,378.0,384.0,375.0,365.0,382.0,406.0,394.0,167.0,155.0,152.0,135.0,143.0,148.0,361.0,341.0,405.0,388.0,369.0,354.0,126.0,132.0,386.0,383.0,352.0,396.0,398.0,404.0,374.0,372.0,380.0,390.0,389.0,371.0,379.0,131.0,127.0,142.0,130.0,137.0,381.0,136.0,418.0,439.0,397.0,421.0,427.0,407.0,409.0,139.0,128.0,119.0,115.0,118.0,133.0,111.0,99.0,122.0,385.0,123.0,410.0,416.0,443.0,454.0,465.0,433.0,422.0,393.0,121.0,417.0,450.0,428.0,395.0,120.0,400.0,125.0,431.0,432.0,402.0,412.0,424.0,116.0,387.0,110.0,408.0,124.0,96.0,87.0,101.0,403.0],\"y\":[3.9176509764745056E-05,3.9176509764745056E-05,1.9588254882372528E-05,1.9588254882372528E-05,1.9588254882372528E-05,1.9588254882372528E-05,5.876476464711759E-05,0.0005288828818240583,0.0009010597245891364,0.0007247654306477835,0.0014691191161779397,0.0012536483124718418,0.0019392372333548805,0.004250651309474839,0.006522888875830053,0.008442537854302561,0.009128126775185598,0.007071360012536483,0.005210475798711093,0.004446533858298564,0.00309494427141486,0.0034867093690623104,0.0042702395643572115,0.002703179173767409,0.0026052378993555465,0.002664002664002664,0.003212473800709095,0.0025268848798260563,0.004250651309474839,0.005641417406123289,0.006170300287947347,0.006229065052594464,0.008716773422655776,0.00906936201053848,0.009226068049597462,0.008775538187302893,0.009128126775185598,0.008853891206832384,0.005190887543828721,0.006620830150241915,0.008305420070125953,0.007090948267418856,0.0033887680946504475,0.007404360345536816,0.008991008991008992,0.008325008325008326,0.007404360345536816,0.007835301952949012,0.007365183835772071,0.00951989187283305,0.007619831149242914,0.008148714031066972,0.00828583181524358,0.00928483281424458,0.007012595247889365,0.006091947268417857,0.003545474133709428,0.0011752952929423518,0.0017825311942959,0.0025268848798260563,0.0023505905858847037,0.002370178840767076,0.0039372392313568785,0.0021938845468257233,0.007698184168772404,0.004035180505768741,0.004740357681534152,0.00673835967953615,0.0017433546845311552,0.0014299426064131946,0.00642494760141819,0.004348592583886701,0.008991008991008992,0.008775538187302893,0.009461127108185932,0.007854890207831384,0.008168302285949345,0.008951832481244246,0.007032183502771738,0.005974417739123622,0.004093945270415859,0.004446533858298564,0.0053867700926524455,0.005758946935417524,0.0076002428943605415,0.007619831149242914,0.00836418483477307,0.00666000666000666,0.005328005328005328,0.006542477130712425,0.00658165364047717,0.004015592250886368,0.00170417817476641,0.0021742962919433506,0.00487747546571076,0.005700182170770406,0.008814714697067638,0.005465123112181935,0.008716773422655776,0.007012595247889365,0.009108538520303227,0.009108538520303227,0.007952831482243248,0.008089949266419854,0.006111535523300229,0.005876476464711759,0.006033182503770739,0.004838298955946015,0.007580654639478169,0.0073847720906544435,0.007286830816242581,0.00852089087383205,0.005151711034063975,0.005817711700064641,0.005974417739123622,0.008991008991008992,0.008462126109184932,0.007678595913890031,0.008344596579890697,0.009128126775185598,0.008618832148243914,0.008971420736126619,0.008031184501772736,0.0081291257761846,0.008462126109184932,0.004583651642475172,0.004995004995004995,0.007012595247889365,0.00340835634953282,0.003290826820238585,0.007698184168772404,0.008795126442185266,0.006757947934418523,0.006229065052594464,0.004995004995004995,0.0028011204481792717,0.005504299621946681,0.0038197097020626434,0.002997002997002997,0.00325165031047384,0.0005484711367064308,0.005092946269416858,0.007188889541830719,0.008325008325008326,0.0014299426064131946,0.002115531527296233,0.00875594993242052,0.004466122113180936,0.0031928855458267223,0.006875477463712758,0.0036434154081212903,0.0035062976239446826,0.003956827486239251,0.0026835909188850367,0.0024681201151789387,0.003760944937415526,0.005484711367064308,0.0070517717576541105,0.00487747546571076,0.003702180172768408,0.00836418483477307,0.0013907660966484495,0.0010577657636481165,0.002037178507766743,0.0020175902528843707,0.003114532526297232,0.00503418150476974,0.00154747213570743,0.0029382382323558795,0.002095943272413861,0.003447532859297565,0.0018217077040606452,0.0019196489784725078,0.002781532193296899,0.0009402362343538815,0.0028207087030616444,0.0053475935828877,0.002115531527296233,0.0019392372333548805,0.003232062055591467,0.0021351197821786057,0.0004897063720593133,0.00041135335252982314,0.0004505298622945682,0.00043094160741219563,0.0017433546845311552,0.0012536483124718418,0.003036179506767742,0.0012340600575894694,0.0005876476464711759,0.00041135335252982314,0.000999000999000999,0.0008422949599420187,0.0012536483124718418,0.002076355017531488,0.0025072966249436836,0.0005092946269416857,0.0008031184501772737,0.0007639419404125286,0.0007247654306477835,0.0019196489784725078,0.0007443536855301561,0.0005484711367064308,0.0006464124111182935,0.001038177508765744,0.0016062369003545475,0.0026444144091202913,0.0015278838808250573,0.0010577657636481165,9.794127441186265E-05,3.9176509764745056E-05,0.0006268241562359209,0.000333000333000333,0.00041135335252982314,0.000999000999000999,0.0004505298622945682,0.0006268241562359209,0.0005288828818240583,0.001214471802707097,0.0006268241562359209,0.0011361187831776067,0.000333000333000333,0.000666000666000666,0.0013907660966484495,0.00029382382323558796,0.00037217684276507804,0.0008227067050596463,0.0010577657636481165,0.0003917650976474506,0.00015670603905898023,0.00011752952929423518,5.876476464711759E-05,0.00029382382323558796,0.00021547080370609782,0.0009206479794715089,0.00021547080370609782,7.835301952949011E-05,0.00037217684276507804,0.0005680593915888034,0.0001371177841766077,3.9176509764745056E-05,0.0001371177841766077,0.0014103543515308222,0.0010773540185304892,0.0005288828818240583,0.0001958825488237253,0.00031341207811796045,0.00041135335252982314,0.0006268241562359209,0.0013907660966484495,3.9176509764745056E-05,0.00011752952929423518,0.0004505298622945682,0.0007443536855301561,3.9176509764745056E-05,0.00011752952929423518,0.0001371177841766077,0.00017629429394135277,0.0006268241562359209,0.00011752952929423518,5.876476464711759E-05,3.9176509764745056E-05,0.00015670603905898023,0.00025464731347084286,0.00017629429394135277,0.00011752952929423518,0.00021547080370609782,0.00031341207811796045,0.00021547080370609782,9.794127441186265E-05,5.876476464711759E-05,0.0003917650976474506,5.876476464711759E-05,0.00025464731347084286,0.00023505905858847037,0.00011752952929423518,1.9588254882372528E-05,1.9588254882372528E-05,0.0001958825488237253,5.876476464711759E-05,3.9176509764745056E-05,3.9176509764745056E-05,1.9588254882372528E-05,0.00023505905858847037,3.9176509764745056E-05,5.876476464711759E-05,5.876476464711759E-05,3.9176509764745056E-05,5.876476464711759E-05,1.9588254882372528E-05,1.9588254882372528E-05,3.9176509764745056E-05,7.835301952949011E-05,1.9588254882372528E-05,1.9588254882372528E-05,7.835301952949011E-05,1.9588254882372528E-05,1.9588254882372528E-05,1.9588254882372528E-05,1.9588254882372528E-05,3.9176509764745056E-05,3.9176509764745056E-05,5.876476464711759E-05,3.9176509764745056E-05,1.9588254882372528E-05,3.9176509764745056E-05,3.9176509764745056E-05,1.9588254882372528E-05,1.9588254882372528E-05,7.835301952949011E-05,1.9588254882372528E-05,1.9588254882372528E-05,3.9176509764745056E-05,3.9176509764745056E-05,1.9588254882372528E-05,1.9588254882372528E-05,3.9176509764745056E-05,3.9176509764745056E-05,1.9588254882372528E-05,1.9588254882372528E-05,1.9588254882372528E-05,1.9588254882372528E-05,1.9588254882372528E-05,1.9588254882372528E-05],\"orientation\":\"v\",\"marker\":{\"pattern\":{}}}];\r\n",
       "            var layout = {\"width\":600,\"height\":600,\"template\":{\"layout\":{\"title\":{\"x\":0.05},\"font\":{\"color\":\"rgba(42, 63, 95, 1.0)\"},\"paper_bgcolor\":\"rgba(255, 255, 255, 1.0)\",\"plot_bgcolor\":\"rgba(229, 236, 246, 1.0)\",\"autotypenumbers\":\"strict\",\"colorscale\":{\"diverging\":[[0.0,\"#8e0152\"],[0.1,\"#c51b7d\"],[0.2,\"#de77ae\"],[0.3,\"#f1b6da\"],[0.4,\"#fde0ef\"],[0.5,\"#f7f7f7\"],[0.6,\"#e6f5d0\"],[0.7,\"#b8e186\"],[0.8,\"#7fbc41\"],[0.9,\"#4d9221\"],[1.0,\"#276419\"]],\"sequential\":[[0.0,\"#0d0887\"],[0.1111111111111111,\"#46039f\"],[0.2222222222222222,\"#7201a8\"],[0.3333333333333333,\"#9c179e\"],[0.4444444444444444,\"#bd3786\"],[0.5555555555555556,\"#d8576b\"],[0.6666666666666666,\"#ed7953\"],[0.7777777777777778,\"#fb9f3a\"],[0.8888888888888888,\"#fdca26\"],[1.0,\"#f0f921\"]],\"sequentialminus\":[[0.0,\"#0d0887\"],[0.1111111111111111,\"#46039f\"],[0.2222222222222222,\"#7201a8\"],[0.3333333333333333,\"#9c179e\"],[0.4444444444444444,\"#bd3786\"],[0.5555555555555556,\"#d8576b\"],[0.6666666666666666,\"#ed7953\"],[0.7777777777777778,\"#fb9f3a\"],[0.8888888888888888,\"#fdca26\"],[1.0,\"#f0f921\"]]},\"hovermode\":\"closest\",\"hoverlabel\":{\"align\":\"left\"},\"coloraxis\":{\"colorbar\":{\"outlinewidth\":0.0,\"ticks\":\"\"}},\"geo\":{\"showland\":true,\"landcolor\":\"rgba(229, 236, 246, 1.0)\",\"showlakes\":true,\"lakecolor\":\"rgba(255, 255, 255, 1.0)\",\"subunitcolor\":\"rgba(255, 255, 255, 1.0)\",\"bgcolor\":\"rgba(255, 255, 255, 1.0)\"},\"mapbox\":{\"style\":\"light\"},\"polar\":{\"bgcolor\":\"rgba(229, 236, 246, 1.0)\",\"radialaxis\":{\"linecolor\":\"rgba(255, 255, 255, 1.0)\",\"gridcolor\":\"rgba(255, 255, 255, 1.0)\",\"ticks\":\"\"},\"angularaxis\":{\"linecolor\":\"rgba(255, 255, 255, 1.0)\",\"gridcolor\":\"rgba(255, 255, 255, 1.0)\",\"ticks\":\"\"}},\"scene\":{\"xaxis\":{\"ticks\":\"\",\"linecolor\":\"rgba(255, 255, 255, 1.0)\",\"gridcolor\":\"rgba(255, 255, 255, 1.0)\",\"gridwidth\":2.0,\"zerolinecolor\":\"rgba(255, 255, 255, 1.0)\",\"backgroundcolor\":\"rgba(229, 236, 246, 1.0)\",\"showbackground\":true},\"yaxis\":{\"ticks\":\"\",\"linecolor\":\"rgba(255, 255, 255, 1.0)\",\"gridcolor\":\"rgba(255, 255, 255, 1.0)\",\"gridwidth\":2.0,\"zerolinecolor\":\"rgba(255, 255, 255, 1.0)\",\"backgroundcolor\":\"rgba(229, 236, 246, 1.0)\",\"showbackground\":true},\"zaxis\":{\"ticks\":\"\",\"linecolor\":\"rgba(255, 255, 255, 1.0)\",\"gridcolor\":\"rgba(255, 255, 255, 1.0)\",\"gridwidth\":2.0,\"zerolinecolor\":\"rgba(255, 255, 255, 1.0)\",\"backgroundcolor\":\"rgba(229, 236, 246, 1.0)\",\"showbackground\":true}},\"ternary\":{\"aaxis\":{\"ticks\":\"\",\"linecolor\":\"rgba(255, 255, 255, 1.0)\",\"gridcolor\":\"rgba(255, 255, 255, 1.0)\"},\"baxis\":{\"ticks\":\"\",\"linecolor\":\"rgba(255, 255, 255, 1.0)\",\"gridcolor\":\"rgba(255, 255, 255, 1.0)\"},\"caxis\":{\"ticks\":\"\",\"linecolor\":\"rgba(255, 255, 255, 1.0)\",\"gridcolor\":\"rgba(255, 255, 255, 1.0)\"},\"bgcolor\":\"rgba(229, 236, 246, 1.0)\"},\"xaxis\":{\"title\":{\"standoff\":15},\"ticks\":\"\",\"automargin\":true,\"linecolor\":\"rgba(255, 255, 255, 1.0)\",\"gridcolor\":\"rgba(255, 255, 255, 1.0)\",\"zerolinecolor\":\"rgba(255, 255, 255, 1.0)\",\"zerolinewidth\":2.0},\"yaxis\":{\"title\":{\"standoff\":15},\"ticks\":\"\",\"automargin\":true,\"linecolor\":\"rgba(255, 255, 255, 1.0)\",\"gridcolor\":\"rgba(255, 255, 255, 1.0)\",\"zerolinecolor\":\"rgba(255, 255, 255, 1.0)\",\"zerolinewidth\":2.0},\"annotationdefaults\":{\"arrowcolor\":\"#2a3f5f\",\"arrowhead\":0,\"arrowwidth\":1},\"shapedefaults\":{\"line\":{\"color\":\"rgba(42, 63, 95, 1.0)\"}},\"colorway\":[\"rgba(99, 110, 250, 1.0)\",\"rgba(239, 85, 59, 1.0)\",\"rgba(0, 204, 150, 1.0)\",\"rgba(171, 99, 250, 1.0)\",\"rgba(255, 161, 90, 1.0)\",\"rgba(25, 211, 243, 1.0)\",\"rgba(255, 102, 146, 1.0)\",\"rgba(182, 232, 128, 1.0)\",\"rgba(255, 151, 255, 1.0)\",\"rgba(254, 203, 82, 1.0)\"]},\"data\":{\"bar\":[{\"marker\":{\"line\":{\"color\":\"rgba(229, 236, 246, 1.0)\",\"width\":0.5},\"pattern\":{\"fillmode\":\"overlay\",\"size\":10,\"solidity\":0.2}},\"error_x\":{\"color\":\"rgba(42, 63, 95, 1.0)\"},\"error_y\":{\"color\":\"rgba(42, 63, 95, 1.0)\"}}],\"barpolar\":[{\"marker\":{\"line\":{\"color\":\"rgba(229, 236, 246, 1.0)\",\"width\":0.5},\"pattern\":{\"fillmode\":\"overlay\",\"size\":10,\"solidity\":0.2}}}],\"carpet\":[{\"aaxis\":{\"linecolor\":\"rgba(255, 255, 255, 1.0)\",\"gridcolor\":\"rgba(255, 255, 255, 1.0)\",\"endlinecolor\":\"rgba(42, 63, 95, 1.0)\",\"minorgridcolor\":\"rgba(255, 255, 255, 1.0)\",\"startlinecolor\":\"rgba(42, 63, 95, 1.0)\"},\"baxis\":{\"linecolor\":\"rgba(255, 255, 255, 1.0)\",\"gridcolor\":\"rgba(255, 255, 255, 1.0)\",\"endlinecolor\":\"rgba(42, 63, 95, 1.0)\",\"minorgridcolor\":\"rgba(255, 255, 255, 1.0)\",\"startlinecolor\":\"rgba(42, 63, 95, 1.0)\"}}],\"choropleth\":[{\"colorbar\":{\"outlinewidth\":0.0,\"ticks\":\"\"},\"colorscale\":[[0.0,\"#0d0887\"],[0.1111111111111111,\"#46039f\"],[0.2222222222222222,\"#7201a8\"],[0.3333333333333333,\"#9c179e\"],[0.4444444444444444,\"#bd3786\"],[0.5555555555555556,\"#d8576b\"],[0.6666666666666666,\"#ed7953\"],[0.7777777777777778,\"#fb9f3a\"],[0.8888888888888888,\"#fdca26\"],[1.0,\"#f0f921\"]]}],\"contour\":[{\"colorbar\":{\"outlinewidth\":0.0,\"ticks\":\"\"},\"colorscale\":[[0.0,\"#0d0887\"],[0.1111111111111111,\"#46039f\"],[0.2222222222222222,\"#7201a8\"],[0.3333333333333333,\"#9c179e\"],[0.4444444444444444,\"#bd3786\"],[0.5555555555555556,\"#d8576b\"],[0.6666666666666666,\"#ed7953\"],[0.7777777777777778,\"#fb9f3a\"],[0.8888888888888888,\"#fdca26\"],[1.0,\"#f0f921\"]]}],\"contourcarpet\":[{\"colorbar\":{\"outlinewidth\":0.0,\"ticks\":\"\"}}],\"heatmap\":[{\"colorbar\":{\"outlinewidth\":0.0,\"ticks\":\"\"},\"colorscale\":[[0.0,\"#0d0887\"],[0.1111111111111111,\"#46039f\"],[0.2222222222222222,\"#7201a8\"],[0.3333333333333333,\"#9c179e\"],[0.4444444444444444,\"#bd3786\"],[0.5555555555555556,\"#d8576b\"],[0.6666666666666666,\"#ed7953\"],[0.7777777777777778,\"#fb9f3a\"],[0.8888888888888888,\"#fdca26\"],[1.0,\"#f0f921\"]]}],\"heatmapgl\":[{\"colorbar\":{\"outlinewidth\":0.0,\"ticks\":\"\"},\"colorscale\":[[0.0,\"#0d0887\"],[0.1111111111111111,\"#46039f\"],[0.2222222222222222,\"#7201a8\"],[0.3333333333333333,\"#9c179e\"],[0.4444444444444444,\"#bd3786\"],[0.5555555555555556,\"#d8576b\"],[0.6666666666666666,\"#ed7953\"],[0.7777777777777778,\"#fb9f3a\"],[0.8888888888888888,\"#fdca26\"],[1.0,\"#f0f921\"]]}],\"histogram\":[{\"marker\":{\"pattern\":{\"fillmode\":\"overlay\",\"size\":10,\"solidity\":0.2}}}],\"histogram2d\":[{\"colorbar\":{\"outlinewidth\":0.0,\"ticks\":\"\"},\"colorscale\":[[0.0,\"#0d0887\"],[0.1111111111111111,\"#46039f\"],[0.2222222222222222,\"#7201a8\"],[0.3333333333333333,\"#9c179e\"],[0.4444444444444444,\"#bd3786\"],[0.5555555555555556,\"#d8576b\"],[0.6666666666666666,\"#ed7953\"],[0.7777777777777778,\"#fb9f3a\"],[0.8888888888888888,\"#fdca26\"],[1.0,\"#f0f921\"]]}],\"histogram2dcontour\":[{\"colorbar\":{\"outlinewidth\":0.0,\"ticks\":\"\"},\"colorscale\":[[0.0,\"#0d0887\"],[0.1111111111111111,\"#46039f\"],[0.2222222222222222,\"#7201a8\"],[0.3333333333333333,\"#9c179e\"],[0.4444444444444444,\"#bd3786\"],[0.5555555555555556,\"#d8576b\"],[0.6666666666666666,\"#ed7953\"],[0.7777777777777778,\"#fb9f3a\"],[0.8888888888888888,\"#fdca26\"],[1.0,\"#f0f921\"]]}],\"mesh3d\":[{\"colorbar\":{\"outlinewidth\":0.0,\"ticks\":\"\"}}],\"parcoords\":[{\"line\":{\"colorbar\":{\"outlinewidth\":0.0,\"ticks\":\"\"}}}],\"pie\":[{\"automargin\":true}],\"scatter\":[{\"marker\":{\"colorbar\":{\"outlinewidth\":0.0,\"ticks\":\"\"}}}],\"scatter3d\":[{\"marker\":{\"colorbar\":{\"outlinewidth\":0.0,\"ticks\":\"\"}},\"line\":{\"colorbar\":{\"outlinewidth\":0.0,\"ticks\":\"\"}}}],\"scattercarpet\":[{\"marker\":{\"colorbar\":{\"outlinewidth\":0.0,\"ticks\":\"\"}}}],\"scattergeo\":[{\"marker\":{\"colorbar\":{\"outlinewidth\":0.0,\"ticks\":\"\"}}}],\"scattergl\":[{\"marker\":{\"colorbar\":{\"outlinewidth\":0.0,\"ticks\":\"\"}}}],\"scattermapbox\":[{\"marker\":{\"colorbar\":{\"outlinewidth\":0.0,\"ticks\":\"\"}}}],\"scatterpolar\":[{\"marker\":{\"colorbar\":{\"outlinewidth\":0.0,\"ticks\":\"\"}}}],\"scatterpolargl\":[{\"marker\":{\"colorbar\":{\"outlinewidth\":0.0,\"ticks\":\"\"}}}],\"scatterternary\":[{\"marker\":{\"colorbar\":{\"outlinewidth\":0.0,\"ticks\":\"\"}}}],\"surface\":[{\"colorbar\":{\"outlinewidth\":0.0,\"ticks\":\"\"},\"colorscale\":[[0.0,\"#0d0887\"],[0.1111111111111111,\"#46039f\"],[0.2222222222222222,\"#7201a8\"],[0.3333333333333333,\"#9c179e\"],[0.4444444444444444,\"#bd3786\"],[0.5555555555555556,\"#d8576b\"],[0.6666666666666666,\"#ed7953\"],[0.7777777777777778,\"#fb9f3a\"],[0.8888888888888888,\"#fdca26\"],[1.0,\"#f0f921\"]]}],\"table\":[{\"cells\":{\"fill\":{\"color\":\"rgba(235, 240, 248, 1.0)\"},\"line\":{\"color\":\"rgba(255, 255, 255, 1.0)\"}},\"header\":{\"fill\":{\"color\":\"rgba(200, 212, 227, 1.0)\"},\"line\":{\"color\":\"rgba(255, 255, 255, 1.0)\"}}}]}},\"xaxis\":{\"title\":{\"text\":\"Protein Anzahl\"}},\"yaxis\":{\"title\":{\"text\":\"P(Anzahl)\"}}};\r\n",
       "            var config = {\"responsive\":true};\r\n",
       "            Plotly.newPlot('f7cd7ecc-57aa-4654-bf1a-c6c7a9833639', data, layout, config);\r\n",
       "});\r\n",
       "            };\r\n",
       "            if ((typeof(requirejs) !==  typeof(Function)) || (typeof(requirejs.config) !== typeof(Function))) {\r\n",
       "                var script = document.createElement(\"script\");\r\n",
       "                script.setAttribute(\"src\", \"https://cdnjs.cloudflare.com/ajax/libs/require.js/2.3.6/require.min.js\");\r\n",
       "                script.onload = function(){\r\n",
       "                    renderPlotly_f7cd7ecc57aa4654bf1ac6c7a9833639();\r\n",
       "                };\r\n",
       "                document.getElementsByTagName(\"head\")[0].appendChild(script);\r\n",
       "            }\r\n",
       "            else {\r\n",
       "                renderPlotly_f7cd7ecc57aa4654bf1ac6c7a9833639();\r\n",
       "            }\r\n",
       "</script>\r\n",
       "\n",
       "    \n",
       "</div>    \n"
      ]
     },
     "metadata": {},
     "output_type": "display_data"
    }
   ],
   "source": [
    "let samplesProtein =\n",
    "    samples\n",
    "    |> Array.map snd\n",
    "    |> Array.collect (fun x -> x.[50 ..])\n",
    "\n",
    "let sampleZahlenProtein =\n",
    "    samplesProtein\n",
    "    |> Array.countBy id\n",
    "    |> fun histo ->\n",
    "        let histoSum =\n",
    "            histo\n",
    "            |> Array.map snd\n",
    "            |> Array.sum\n",
    "        histo\n",
    "        |> Array.map (fun (event,count) -> event, float count/ float histoSum)\n",
    "\n",
    "let histoProtein =\n",
    "    Chart.Column(sampleZahlenProtein)\n",
    "    |> Chart.withXAxisStyle(TitleText = \"Protein Anzahl\")\n",
    "    |> Chart.withYAxisStyle(TitleText = \"P(Anzahl)\")\n",
    "\n",
    "histoProtein"
   ]
  },
  {
   "cell_type": "markdown",
   "metadata": {},
   "source": [
    "##### Aufgabe 3.9\n",
    "***Welcher Verteilung entspricht die mRNA-, und welcher die Protein-Verteilung? Probieren sie die Verteilungen aus und bestimmen sie die passenden Parameter.***"
   ]
  },
  {
   "cell_type": "code",
   "execution_count": null,
   "metadata": {
    "dotnet_interactive": {
     "language": "fsharp"
    },
    "vscode": {
     "languageId": "dotnet-interactive.fsharp"
    }
   },
   "outputs": [
    {
     "data": {
      "text/html": [
       "\n",
       "<div>\n",
       "    <div id=\"9a2d9382-2159-4814-be4e-f5ed064d236c\"><!-- Plotly chart will be drawn inside this DIV --></div>\r\n",
       "<script type=\"text/javascript\">\r\n",
       "\r\n",
       "            var renderPlotly_9a2d938221594814be4ef5ed064d236c = function() {\r\n",
       "            var fsharpPlotlyRequire = requirejs.config({context:'fsharp-plotly',paths:{plotly:'https://cdn.plot.ly/plotly-2.6.3.min'}}) || require;\r\n",
       "            fsharpPlotlyRequire(['plotly'], function(Plotly) {\r\n",
       "\r\n",
       "            var data = [{\"type\":\"bar\",\"x\":[18.0,27.0,19.0,11.0,10.0,7.0,12.0,14.0,13.0,6.0,9.0,17.0,16.0,15.0,5.0,8.0,4.0,3.0,2.0,20.0,21.0,1.0,23.0,22.0,0.0,25.0,24.0],\"y\":[0.00658165364047717,3.9176509764745056E-05,0.0038392979569450156,0.11304381892617187,0.12397406515053574,0.09339679927915222,0.09472880061115355,0.05092946269416858,0.07480754539578069,0.06422988775929953,0.12217194570135746,0.012634424399130281,0.020900667959491488,0.033887680946504475,0.03849092084386202,0.11459129106187929,0.018883077706607118,0.007032183502771738,0.0022722375663552135,0.00170417817476641,0.0007247654306477835,0.0004505298622945682,0.0001958825488237253,0.0003917650976474506,3.9176509764745056E-05,1.9588254882372528E-05,3.9176509764745056E-05],\"orientation\":\"v\",\"marker\":{\"pattern\":{}}},{\"type\":\"scatter\",\"mode\":\"lines\",\"x\":[0.0,1.0,2.0,3.0,4.0,5.0,6.0,7.0,8.0,9.0,10.0,11.0,12.0,13.0,14.0,15.0,16.0,17.0,18.0,19.0,20.0,21.0,22.0,23.0,24.0,25.0],\"y\":[4.683709286035243E-05,0.0004669112546551036,0.002327280648839598,0.007733425662747706,0.01927331127137519,0.03842649232695536,0.06384456082656491,0.0909222711498434,0.11329864084765025,0.12549505179253279,0.12510394754892948,0.11337642016210818,0.09418590294098048,0.07222490260692677,0.0514284388018348,0.034178775011382036,0.021295160721652773,0.012487526198487565,0.006915893850602656,0.003628600277488098,0.00180864588805211,0.0008585758375159776,0.00038904549697432137,0.00016862306089023905,7.004064524135958E-05,2.7928945670476562E-05],\"marker\":{},\"line\":{}},{\"type\":\"scatter\",\"mode\":\"lines\",\"x\":[0.0,1.0,2.0,3.0,4.0,5.0,6.0,7.0,8.0,9.0,10.0,11.0,12.0,13.0,14.0,15.0,16.0,17.0,18.0,19.0,20.0,21.0,22.0,23.0,24.0,25.0],\"y\":[\"NaN\",\"NaN\",\"NaN\",\"NaN\",\"NaN\",\"NaN\",\"NaN\",\"NaN\",\"NaN\",\"NaN\",\"NaN\",\"NaN\",\"NaN\",\"NaN\",\"NaN\",\"NaN\",\"NaN\",\"NaN\",\"NaN\",\"NaN\",\"NaN\",\"NaN\",\"NaN\",\"NaN\",\"NaN\",\"NaN\"],\"marker\":{},\"line\":{}}];\r\n",
       "            var layout = {\"width\":600,\"height\":600,\"template\":{\"layout\":{\"title\":{\"x\":0.05},\"font\":{\"color\":\"rgba(42, 63, 95, 1.0)\"},\"paper_bgcolor\":\"rgba(255, 255, 255, 1.0)\",\"plot_bgcolor\":\"rgba(229, 236, 246, 1.0)\",\"autotypenumbers\":\"strict\",\"colorscale\":{\"diverging\":[[0.0,\"#8e0152\"],[0.1,\"#c51b7d\"],[0.2,\"#de77ae\"],[0.3,\"#f1b6da\"],[0.4,\"#fde0ef\"],[0.5,\"#f7f7f7\"],[0.6,\"#e6f5d0\"],[0.7,\"#b8e186\"],[0.8,\"#7fbc41\"],[0.9,\"#4d9221\"],[1.0,\"#276419\"]],\"sequential\":[[0.0,\"#0d0887\"],[0.1111111111111111,\"#46039f\"],[0.2222222222222222,\"#7201a8\"],[0.3333333333333333,\"#9c179e\"],[0.4444444444444444,\"#bd3786\"],[0.5555555555555556,\"#d8576b\"],[0.6666666666666666,\"#ed7953\"],[0.7777777777777778,\"#fb9f3a\"],[0.8888888888888888,\"#fdca26\"],[1.0,\"#f0f921\"]],\"sequentialminus\":[[0.0,\"#0d0887\"],[0.1111111111111111,\"#46039f\"],[0.2222222222222222,\"#7201a8\"],[0.3333333333333333,\"#9c179e\"],[0.4444444444444444,\"#bd3786\"],[0.5555555555555556,\"#d8576b\"],[0.6666666666666666,\"#ed7953\"],[0.7777777777777778,\"#fb9f3a\"],[0.8888888888888888,\"#fdca26\"],[1.0,\"#f0f921\"]]},\"hovermode\":\"closest\",\"hoverlabel\":{\"align\":\"left\"},\"coloraxis\":{\"colorbar\":{\"outlinewidth\":0.0,\"ticks\":\"\"}},\"geo\":{\"showland\":true,\"landcolor\":\"rgba(229, 236, 246, 1.0)\",\"showlakes\":true,\"lakecolor\":\"rgba(255, 255, 255, 1.0)\",\"subunitcolor\":\"rgba(255, 255, 255, 1.0)\",\"bgcolor\":\"rgba(255, 255, 255, 1.0)\"},\"mapbox\":{\"style\":\"light\"},\"polar\":{\"bgcolor\":\"rgba(229, 236, 246, 1.0)\",\"radialaxis\":{\"linecolor\":\"rgba(255, 255, 255, 1.0)\",\"gridcolor\":\"rgba(255, 255, 255, 1.0)\",\"ticks\":\"\"},\"angularaxis\":{\"linecolor\":\"rgba(255, 255, 255, 1.0)\",\"gridcolor\":\"rgba(255, 255, 255, 1.0)\",\"ticks\":\"\"}},\"scene\":{\"xaxis\":{\"ticks\":\"\",\"linecolor\":\"rgba(255, 255, 255, 1.0)\",\"gridcolor\":\"rgba(255, 255, 255, 1.0)\",\"gridwidth\":2.0,\"zerolinecolor\":\"rgba(255, 255, 255, 1.0)\",\"backgroundcolor\":\"rgba(229, 236, 246, 1.0)\",\"showbackground\":true},\"yaxis\":{\"ticks\":\"\",\"linecolor\":\"rgba(255, 255, 255, 1.0)\",\"gridcolor\":\"rgba(255, 255, 255, 1.0)\",\"gridwidth\":2.0,\"zerolinecolor\":\"rgba(255, 255, 255, 1.0)\",\"backgroundcolor\":\"rgba(229, 236, 246, 1.0)\",\"showbackground\":true},\"zaxis\":{\"ticks\":\"\",\"linecolor\":\"rgba(255, 255, 255, 1.0)\",\"gridcolor\":\"rgba(255, 255, 255, 1.0)\",\"gridwidth\":2.0,\"zerolinecolor\":\"rgba(255, 255, 255, 1.0)\",\"backgroundcolor\":\"rgba(229, 236, 246, 1.0)\",\"showbackground\":true}},\"ternary\":{\"aaxis\":{\"ticks\":\"\",\"linecolor\":\"rgba(255, 255, 255, 1.0)\",\"gridcolor\":\"rgba(255, 255, 255, 1.0)\"},\"baxis\":{\"ticks\":\"\",\"linecolor\":\"rgba(255, 255, 255, 1.0)\",\"gridcolor\":\"rgba(255, 255, 255, 1.0)\"},\"caxis\":{\"ticks\":\"\",\"linecolor\":\"rgba(255, 255, 255, 1.0)\",\"gridcolor\":\"rgba(255, 255, 255, 1.0)\"},\"bgcolor\":\"rgba(229, 236, 246, 1.0)\"},\"xaxis\":{\"title\":{\"standoff\":15},\"ticks\":\"\",\"automargin\":true,\"linecolor\":\"rgba(255, 255, 255, 1.0)\",\"gridcolor\":\"rgba(255, 255, 255, 1.0)\",\"zerolinecolor\":\"rgba(255, 255, 255, 1.0)\",\"zerolinewidth\":2.0},\"yaxis\":{\"title\":{\"standoff\":15},\"ticks\":\"\",\"automargin\":true,\"linecolor\":\"rgba(255, 255, 255, 1.0)\",\"gridcolor\":\"rgba(255, 255, 255, 1.0)\",\"zerolinecolor\":\"rgba(255, 255, 255, 1.0)\",\"zerolinewidth\":2.0},\"annotationdefaults\":{\"arrowcolor\":\"#2a3f5f\",\"arrowhead\":0,\"arrowwidth\":1},\"shapedefaults\":{\"line\":{\"color\":\"rgba(42, 63, 95, 1.0)\"}},\"colorway\":[\"rgba(99, 110, 250, 1.0)\",\"rgba(239, 85, 59, 1.0)\",\"rgba(0, 204, 150, 1.0)\",\"rgba(171, 99, 250, 1.0)\",\"rgba(255, 161, 90, 1.0)\",\"rgba(25, 211, 243, 1.0)\",\"rgba(255, 102, 146, 1.0)\",\"rgba(182, 232, 128, 1.0)\",\"rgba(255, 151, 255, 1.0)\",\"rgba(254, 203, 82, 1.0)\"]},\"data\":{\"bar\":[{\"marker\":{\"line\":{\"color\":\"rgba(229, 236, 246, 1.0)\",\"width\":0.5},\"pattern\":{\"fillmode\":\"overlay\",\"size\":10,\"solidity\":0.2}},\"error_x\":{\"color\":\"rgba(42, 63, 95, 1.0)\"},\"error_y\":{\"color\":\"rgba(42, 63, 95, 1.0)\"}}],\"barpolar\":[{\"marker\":{\"line\":{\"color\":\"rgba(229, 236, 246, 1.0)\",\"width\":0.5},\"pattern\":{\"fillmode\":\"overlay\",\"size\":10,\"solidity\":0.2}}}],\"carpet\":[{\"aaxis\":{\"linecolor\":\"rgba(255, 255, 255, 1.0)\",\"gridcolor\":\"rgba(255, 255, 255, 1.0)\",\"endlinecolor\":\"rgba(42, 63, 95, 1.0)\",\"minorgridcolor\":\"rgba(255, 255, 255, 1.0)\",\"startlinecolor\":\"rgba(42, 63, 95, 1.0)\"},\"baxis\":{\"linecolor\":\"rgba(255, 255, 255, 1.0)\",\"gridcolor\":\"rgba(255, 255, 255, 1.0)\",\"endlinecolor\":\"rgba(42, 63, 95, 1.0)\",\"minorgridcolor\":\"rgba(255, 255, 255, 1.0)\",\"startlinecolor\":\"rgba(42, 63, 95, 1.0)\"}}],\"choropleth\":[{\"colorbar\":{\"outlinewidth\":0.0,\"ticks\":\"\"},\"colorscale\":[[0.0,\"#0d0887\"],[0.1111111111111111,\"#46039f\"],[0.2222222222222222,\"#7201a8\"],[0.3333333333333333,\"#9c179e\"],[0.4444444444444444,\"#bd3786\"],[0.5555555555555556,\"#d8576b\"],[0.6666666666666666,\"#ed7953\"],[0.7777777777777778,\"#fb9f3a\"],[0.8888888888888888,\"#fdca26\"],[1.0,\"#f0f921\"]]}],\"contour\":[{\"colorbar\":{\"outlinewidth\":0.0,\"ticks\":\"\"},\"colorscale\":[[0.0,\"#0d0887\"],[0.1111111111111111,\"#46039f\"],[0.2222222222222222,\"#7201a8\"],[0.3333333333333333,\"#9c179e\"],[0.4444444444444444,\"#bd3786\"],[0.5555555555555556,\"#d8576b\"],[0.6666666666666666,\"#ed7953\"],[0.7777777777777778,\"#fb9f3a\"],[0.8888888888888888,\"#fdca26\"],[1.0,\"#f0f921\"]]}],\"contourcarpet\":[{\"colorbar\":{\"outlinewidth\":0.0,\"ticks\":\"\"}}],\"heatmap\":[{\"colorbar\":{\"outlinewidth\":0.0,\"ticks\":\"\"},\"colorscale\":[[0.0,\"#0d0887\"],[0.1111111111111111,\"#46039f\"],[0.2222222222222222,\"#7201a8\"],[0.3333333333333333,\"#9c179e\"],[0.4444444444444444,\"#bd3786\"],[0.5555555555555556,\"#d8576b\"],[0.6666666666666666,\"#ed7953\"],[0.7777777777777778,\"#fb9f3a\"],[0.8888888888888888,\"#fdca26\"],[1.0,\"#f0f921\"]]}],\"heatmapgl\":[{\"colorbar\":{\"outlinewidth\":0.0,\"ticks\":\"\"},\"colorscale\":[[0.0,\"#0d0887\"],[0.1111111111111111,\"#46039f\"],[0.2222222222222222,\"#7201a8\"],[0.3333333333333333,\"#9c179e\"],[0.4444444444444444,\"#bd3786\"],[0.5555555555555556,\"#d8576b\"],[0.6666666666666666,\"#ed7953\"],[0.7777777777777778,\"#fb9f3a\"],[0.8888888888888888,\"#fdca26\"],[1.0,\"#f0f921\"]]}],\"histogram\":[{\"marker\":{\"pattern\":{\"fillmode\":\"overlay\",\"size\":10,\"solidity\":0.2}}}],\"histogram2d\":[{\"colorbar\":{\"outlinewidth\":0.0,\"ticks\":\"\"},\"colorscale\":[[0.0,\"#0d0887\"],[0.1111111111111111,\"#46039f\"],[0.2222222222222222,\"#7201a8\"],[0.3333333333333333,\"#9c179e\"],[0.4444444444444444,\"#bd3786\"],[0.5555555555555556,\"#d8576b\"],[0.6666666666666666,\"#ed7953\"],[0.7777777777777778,\"#fb9f3a\"],[0.8888888888888888,\"#fdca26\"],[1.0,\"#f0f921\"]]}],\"histogram2dcontour\":[{\"colorbar\":{\"outlinewidth\":0.0,\"ticks\":\"\"},\"colorscale\":[[0.0,\"#0d0887\"],[0.1111111111111111,\"#46039f\"],[0.2222222222222222,\"#7201a8\"],[0.3333333333333333,\"#9c179e\"],[0.4444444444444444,\"#bd3786\"],[0.5555555555555556,\"#d8576b\"],[0.6666666666666666,\"#ed7953\"],[0.7777777777777778,\"#fb9f3a\"],[0.8888888888888888,\"#fdca26\"],[1.0,\"#f0f921\"]]}],\"mesh3d\":[{\"colorbar\":{\"outlinewidth\":0.0,\"ticks\":\"\"}}],\"parcoords\":[{\"line\":{\"colorbar\":{\"outlinewidth\":0.0,\"ticks\":\"\"}}}],\"pie\":[{\"automargin\":true}],\"scatter\":[{\"marker\":{\"colorbar\":{\"outlinewidth\":0.0,\"ticks\":\"\"}}}],\"scatter3d\":[{\"marker\":{\"colorbar\":{\"outlinewidth\":0.0,\"ticks\":\"\"}},\"line\":{\"colorbar\":{\"outlinewidth\":0.0,\"ticks\":\"\"}}}],\"scattercarpet\":[{\"marker\":{\"colorbar\":{\"outlinewidth\":0.0,\"ticks\":\"\"}}}],\"scattergeo\":[{\"marker\":{\"colorbar\":{\"outlinewidth\":0.0,\"ticks\":\"\"}}}],\"scattergl\":[{\"marker\":{\"colorbar\":{\"outlinewidth\":0.0,\"ticks\":\"\"}}}],\"scattermapbox\":[{\"marker\":{\"colorbar\":{\"outlinewidth\":0.0,\"ticks\":\"\"}}}],\"scatterpolar\":[{\"marker\":{\"colorbar\":{\"outlinewidth\":0.0,\"ticks\":\"\"}}}],\"scatterpolargl\":[{\"marker\":{\"colorbar\":{\"outlinewidth\":0.0,\"ticks\":\"\"}}}],\"scatterternary\":[{\"marker\":{\"colorbar\":{\"outlinewidth\":0.0,\"ticks\":\"\"}}}],\"surface\":[{\"colorbar\":{\"outlinewidth\":0.0,\"ticks\":\"\"},\"colorscale\":[[0.0,\"#0d0887\"],[0.1111111111111111,\"#46039f\"],[0.2222222222222222,\"#7201a8\"],[0.3333333333333333,\"#9c179e\"],[0.4444444444444444,\"#bd3786\"],[0.5555555555555556,\"#d8576b\"],[0.6666666666666666,\"#ed7953\"],[0.7777777777777778,\"#fb9f3a\"],[0.8888888888888888,\"#fdca26\"],[1.0,\"#f0f921\"]]}],\"table\":[{\"cells\":{\"fill\":{\"color\":\"rgba(235, 240, 248, 1.0)\"},\"line\":{\"color\":\"rgba(255, 255, 255, 1.0)\"}},\"header\":{\"fill\":{\"color\":\"rgba(200, 212, 227, 1.0)\"},\"line\":{\"color\":\"rgba(255, 255, 255, 1.0)\"}}}]}},\"xaxis\":{\"title\":{\"text\":\"mRNA Anzahl\"}},\"yaxis\":{\"title\":{\"text\":\"P(Anzahl)\"}}};\r\n",
       "            var config = {\"responsive\":true};\r\n",
       "            Plotly.newPlot('9a2d9382-2159-4814-be4e-f5ed064d236c', data, layout, config);\r\n",
       "});\r\n",
       "            };\r\n",
       "            if ((typeof(requirejs) !==  typeof(Function)) || (typeof(requirejs.config) !== typeof(Function))) {\r\n",
       "                var script = document.createElement(\"script\");\r\n",
       "                script.setAttribute(\"src\", \"https://cdnjs.cloudflare.com/ajax/libs/require.js/2.3.6/require.min.js\");\r\n",
       "                script.onload = function(){\r\n",
       "                    renderPlotly_9a2d938221594814be4ef5ed064d236c();\r\n",
       "                };\r\n",
       "                document.getElementsByTagName(\"head\")[0].appendChild(script);\r\n",
       "            }\r\n",
       "            else {\r\n",
       "                renderPlotly_9a2d938221594814be4ef5ed064d236c();\r\n",
       "            }\r\n",
       "</script>\r\n",
       "\n",
       "    \n",
       "</div>    \n"
      ]
     },
     "metadata": {},
     "output_type": "display_data"
    }
   ],
   "source": [
    "let poissonLambda = Distributions.Discrete.Poisson.Fit samplesmRNA\n",
    "let poissonVerteilung = Distributions.Discrete.Poisson.Init poissonLambda\n",
    "\n",
    "let gammaAlpha,gammaBeta = Distributions.Continuous.Gamma.Fit samplesmRNA\n",
    "let gammaVerteilung = Distributions.Continuous.Gamma.Init gammaAlpha gammaBeta\n",
    "\n",
    "// let betaAlpha,betaBeta = Distributions.Continuous.Beta.Fit samplesmRNA\n",
    "// let betaVerteilung = Distributions.Continuous.Beta.Init betaAlpha betaBeta\n",
    "\n",
    "[\n",
    "    histomRNA\n",
    "    Chart.Line ([|0. .. 25.|], [|0 .. 25|] |> Array.map poissonVerteilung.PMF)\n",
    "    Chart.Line ([|0. .. 25.|], [|0 .. 25|] |> Array.map gammaVerteilung.PDF)\n",
    "    // Chart.Line ([|0. .. 25.|], [|0 .. 25|] |> Array.map betaVerteilung.PDF)\n",
    "]\n",
    "|> Chart.combine"
   ]
  },
  {
   "cell_type": "code",
   "execution_count": null,
   "metadata": {
    "dotnet_interactive": {
     "language": "fsharp"
    },
    "vscode": {
     "languageId": "dotnet-interactive.fsharp"
    }
   },
   "outputs": [
    {
     "data": {
      "text/html": [
       "\n",
       "<div>\n",
       "    <div id=\"8d28fcf9-06a8-4028-b37b-4b7a9e01f546\"><!-- Plotly chart will be drawn inside this DIV --></div>\r\n",
       "<script type=\"text/javascript\">\r\n",
       "\r\n",
       "            var renderPlotly_8d28fcf906a84028b37b4b7a9e01f546 = function() {\r\n",
       "            var fsharpPlotlyRequire = requirejs.config({context:'fsharp-plotly',paths:{plotly:'https://cdn.plot.ly/plotly-2.6.3.min'}}) || require;\r\n",
       "            fsharpPlotlyRequire(['plotly'], function(Plotly) {\r\n",
       "\r\n",
       "            var data = [{\"type\":\"bar\",\"x\":[425.0,415.0,449.0,475.0,455.0,426.0,399.0,370.0,353.0,358.0,336.0,344.0,329.0,305.0,279.0,261.0,257.0,273.0,291.0,301.0,312.0,306.0,297.0,317.0,323.0,319.0,310.0,318.0,300.0,290.0,280.0,282.0,250.0,252.0,248.0,246.0,249.0,244.0,293.0,278.0,232.0,225.0,307.0,274.0,258.0,264.0,268.0,263.0,272.0,242.0,218.0,224.0,227.0,243.0,270.0,281.0,309.0,343.0,328.0,321.0,322.0,324.0,303.0,325.0,266.0,302.0,296.0,285.0,327.0,339.0,283.0,298.0,245.0,238.0,240.0,234.0,230.0,237.0,215.0,204.0,191.0,194.0,201.0,205.0,216.0,221.0,226.0,212.0,202.0,207.0,210.0,192.0,165.0,171.0,199.0,203.0,241.0,289.0,251.0,276.0,247.0,233.0,223.0,222.0,209.0,208.0,206.0,198.0,219.0,220.0,214.0,235.0,294.0,287.0,284.0,260.0,236.0,267.0,229.0,231.0,256.0,254.0,228.0,255.0,239.0,196.0,292.0,275.0,314.0,313.0,271.0,253.0,211.0,217.0,195.0,178.0,288.0,304.0,320.0,311.0,364.0,295.0,269.0,262.0,334.0,330.0,259.0,193.0,185.0,277.0,308.0,188.0,189.0,181.0,179.0,190.0,200.0,213.0,197.0,187.0,265.0,163.0,159.0,326.0,332.0,183.0,299.0,333.0,182.0,175.0,186.0,166.0,170.0,177.0,157.0,180.0,286.0,174.0,169.0,184.0,172.0,146.0,144.0,147.0,141.0,331.0,338.0,315.0,164.0,363.0,366.0,349.0,347.0,162.0,173.0,176.0,355.0,351.0,356.0,362.0,335.0,158.0,150.0,154.0,160.0,168.0,316.0,340.0,161.0,391.0,392.0,357.0,145.0,151.0,350.0,140.0,359.0,367.0,345.0,153.0,342.0,368.0,360.0,337.0,377.0,373.0,348.0,346.0,149.0,134.0,129.0,117.0,376.0,138.0,156.0,378.0,384.0,375.0,365.0,382.0,406.0,394.0,167.0,155.0,152.0,135.0,143.0,148.0,361.0,341.0,405.0,388.0,369.0,354.0,126.0,132.0,386.0,383.0,352.0,396.0,398.0,404.0,374.0,372.0,380.0,390.0,389.0,371.0,379.0,131.0,127.0,142.0,130.0,137.0,381.0,136.0,418.0,439.0,397.0,421.0,427.0,407.0,409.0,139.0,128.0,119.0,115.0,118.0,133.0,111.0,99.0,122.0,385.0,123.0,410.0,416.0,443.0,454.0,465.0,433.0,422.0,393.0,121.0,417.0,450.0,428.0,395.0,120.0,400.0,125.0,431.0,432.0,402.0,412.0,424.0,116.0,387.0,110.0,408.0,124.0,96.0,87.0,101.0,403.0],\"y\":[3.9176509764745056E-05,3.9176509764745056E-05,1.9588254882372528E-05,1.9588254882372528E-05,1.9588254882372528E-05,1.9588254882372528E-05,5.876476464711759E-05,0.0005288828818240583,0.0009010597245891364,0.0007247654306477835,0.0014691191161779397,0.0012536483124718418,0.0019392372333548805,0.004250651309474839,0.006522888875830053,0.008442537854302561,0.009128126775185598,0.007071360012536483,0.005210475798711093,0.004446533858298564,0.00309494427141486,0.0034867093690623104,0.0042702395643572115,0.002703179173767409,0.0026052378993555465,0.002664002664002664,0.003212473800709095,0.0025268848798260563,0.004250651309474839,0.005641417406123289,0.006170300287947347,0.006229065052594464,0.008716773422655776,0.00906936201053848,0.009226068049597462,0.008775538187302893,0.009128126775185598,0.008853891206832384,0.005190887543828721,0.006620830150241915,0.008305420070125953,0.007090948267418856,0.0033887680946504475,0.007404360345536816,0.008991008991008992,0.008325008325008326,0.007404360345536816,0.007835301952949012,0.007365183835772071,0.00951989187283305,0.007619831149242914,0.008148714031066972,0.00828583181524358,0.00928483281424458,0.007012595247889365,0.006091947268417857,0.003545474133709428,0.0011752952929423518,0.0017825311942959,0.0025268848798260563,0.0023505905858847037,0.002370178840767076,0.0039372392313568785,0.0021938845468257233,0.007698184168772404,0.004035180505768741,0.004740357681534152,0.00673835967953615,0.0017433546845311552,0.0014299426064131946,0.00642494760141819,0.004348592583886701,0.008991008991008992,0.008775538187302893,0.009461127108185932,0.007854890207831384,0.008168302285949345,0.008951832481244246,0.007032183502771738,0.005974417739123622,0.004093945270415859,0.004446533858298564,0.0053867700926524455,0.005758946935417524,0.0076002428943605415,0.007619831149242914,0.00836418483477307,0.00666000666000666,0.005328005328005328,0.006542477130712425,0.00658165364047717,0.004015592250886368,0.00170417817476641,0.0021742962919433506,0.00487747546571076,0.005700182170770406,0.008814714697067638,0.005465123112181935,0.008716773422655776,0.007012595247889365,0.009108538520303227,0.009108538520303227,0.007952831482243248,0.008089949266419854,0.006111535523300229,0.005876476464711759,0.006033182503770739,0.004838298955946015,0.007580654639478169,0.0073847720906544435,0.007286830816242581,0.00852089087383205,0.005151711034063975,0.005817711700064641,0.005974417739123622,0.008991008991008992,0.008462126109184932,0.007678595913890031,0.008344596579890697,0.009128126775185598,0.008618832148243914,0.008971420736126619,0.008031184501772736,0.0081291257761846,0.008462126109184932,0.004583651642475172,0.004995004995004995,0.007012595247889365,0.00340835634953282,0.003290826820238585,0.007698184168772404,0.008795126442185266,0.006757947934418523,0.006229065052594464,0.004995004995004995,0.0028011204481792717,0.005504299621946681,0.0038197097020626434,0.002997002997002997,0.00325165031047384,0.0005484711367064308,0.005092946269416858,0.007188889541830719,0.008325008325008326,0.0014299426064131946,0.002115531527296233,0.00875594993242052,0.004466122113180936,0.0031928855458267223,0.006875477463712758,0.0036434154081212903,0.0035062976239446826,0.003956827486239251,0.0026835909188850367,0.0024681201151789387,0.003760944937415526,0.005484711367064308,0.0070517717576541105,0.00487747546571076,0.003702180172768408,0.00836418483477307,0.0013907660966484495,0.0010577657636481165,0.002037178507766743,0.0020175902528843707,0.003114532526297232,0.00503418150476974,0.00154747213570743,0.0029382382323558795,0.002095943272413861,0.003447532859297565,0.0018217077040606452,0.0019196489784725078,0.002781532193296899,0.0009402362343538815,0.0028207087030616444,0.0053475935828877,0.002115531527296233,0.0019392372333548805,0.003232062055591467,0.0021351197821786057,0.0004897063720593133,0.00041135335252982314,0.0004505298622945682,0.00043094160741219563,0.0017433546845311552,0.0012536483124718418,0.003036179506767742,0.0012340600575894694,0.0005876476464711759,0.00041135335252982314,0.000999000999000999,0.0008422949599420187,0.0012536483124718418,0.002076355017531488,0.0025072966249436836,0.0005092946269416857,0.0008031184501772737,0.0007639419404125286,0.0007247654306477835,0.0019196489784725078,0.0007443536855301561,0.0005484711367064308,0.0006464124111182935,0.001038177508765744,0.0016062369003545475,0.0026444144091202913,0.0015278838808250573,0.0010577657636481165,9.794127441186265E-05,3.9176509764745056E-05,0.0006268241562359209,0.000333000333000333,0.00041135335252982314,0.000999000999000999,0.0004505298622945682,0.0006268241562359209,0.0005288828818240583,0.001214471802707097,0.0006268241562359209,0.0011361187831776067,0.000333000333000333,0.000666000666000666,0.0013907660966484495,0.00029382382323558796,0.00037217684276507804,0.0008227067050596463,0.0010577657636481165,0.0003917650976474506,0.00015670603905898023,0.00011752952929423518,5.876476464711759E-05,0.00029382382323558796,0.00021547080370609782,0.0009206479794715089,0.00021547080370609782,7.835301952949011E-05,0.00037217684276507804,0.0005680593915888034,0.0001371177841766077,3.9176509764745056E-05,0.0001371177841766077,0.0014103543515308222,0.0010773540185304892,0.0005288828818240583,0.0001958825488237253,0.00031341207811796045,0.00041135335252982314,0.0006268241562359209,0.0013907660966484495,3.9176509764745056E-05,0.00011752952929423518,0.0004505298622945682,0.0007443536855301561,3.9176509764745056E-05,0.00011752952929423518,0.0001371177841766077,0.00017629429394135277,0.0006268241562359209,0.00011752952929423518,5.876476464711759E-05,3.9176509764745056E-05,0.00015670603905898023,0.00025464731347084286,0.00017629429394135277,0.00011752952929423518,0.00021547080370609782,0.00031341207811796045,0.00021547080370609782,9.794127441186265E-05,5.876476464711759E-05,0.0003917650976474506,5.876476464711759E-05,0.00025464731347084286,0.00023505905858847037,0.00011752952929423518,1.9588254882372528E-05,1.9588254882372528E-05,0.0001958825488237253,5.876476464711759E-05,3.9176509764745056E-05,3.9176509764745056E-05,1.9588254882372528E-05,0.00023505905858847037,3.9176509764745056E-05,5.876476464711759E-05,5.876476464711759E-05,3.9176509764745056E-05,5.876476464711759E-05,1.9588254882372528E-05,1.9588254882372528E-05,3.9176509764745056E-05,7.835301952949011E-05,1.9588254882372528E-05,1.9588254882372528E-05,7.835301952949011E-05,1.9588254882372528E-05,1.9588254882372528E-05,1.9588254882372528E-05,1.9588254882372528E-05,3.9176509764745056E-05,3.9176509764745056E-05,5.876476464711759E-05,3.9176509764745056E-05,1.9588254882372528E-05,3.9176509764745056E-05,3.9176509764745056E-05,1.9588254882372528E-05,1.9588254882372528E-05,7.835301952949011E-05,1.9588254882372528E-05,1.9588254882372528E-05,3.9176509764745056E-05,3.9176509764745056E-05,1.9588254882372528E-05,1.9588254882372528E-05,3.9176509764745056E-05,3.9176509764745056E-05,1.9588254882372528E-05,1.9588254882372528E-05,1.9588254882372528E-05,1.9588254882372528E-05,1.9588254882372528E-05,1.9588254882372528E-05],\"orientation\":\"v\",\"marker\":{\"pattern\":{}}},{\"type\":\"scatter\",\"mode\":\"lines\",\"x\":[0.0,1.0,2.0,3.0,4.0,5.0,6.0,7.0,8.0,9.0,10.0,11.0,12.0,13.0,14.0,15.0,16.0,17.0,18.0,19.0,20.0,21.0,22.0,23.0,24.0,25.0,26.0,27.0,28.0,29.0,30.0,31.0,32.0,33.0,34.0,35.0,36.0,37.0,38.0,39.0,40.0,41.0,42.0,43.0,44.0,45.0,46.0,47.0,48.0,49.0,50.0,51.0,52.0,53.0,54.0,55.0,56.0,57.0,58.0,59.0,60.0,61.0,62.0,63.0,64.0,65.0,66.0,67.0,68.0,69.0,70.0,71.0,72.0,73.0,74.0,75.0,76.0,77.0,78.0,79.0,80.0,81.0,82.0,83.0,84.0,85.0,86.0,87.0,88.0,89.0,90.0,91.0,92.0,93.0,94.0,95.0,96.0,97.0,98.0,99.0,100.0,101.0,102.0,103.0,104.0,105.0,106.0,107.0,108.0,109.0,110.0,111.0,112.0,113.0,114.0,115.0,116.0,117.0,118.0,119.0,120.0,121.0,122.0,123.0,124.0,125.0,126.0,127.0,128.0,129.0,130.0,131.0,132.0,133.0,134.0,135.0,136.0,137.0,138.0,139.0,140.0,141.0,142.0,143.0,144.0,145.0,146.0,147.0,148.0,149.0,150.0,151.0,152.0,153.0,154.0,155.0,156.0,157.0,158.0,159.0,160.0,161.0,162.0,163.0,164.0,165.0,166.0,167.0,168.0,169.0,170.0,171.0,172.0,173.0,174.0,175.0,176.0,177.0,178.0,179.0,180.0,181.0,182.0,183.0,184.0,185.0,186.0,187.0,188.0,189.0,190.0,191.0,192.0,193.0,194.0,195.0,196.0,197.0,198.0,199.0,200.0,201.0,202.0,203.0,204.0,205.0,206.0,207.0,208.0,209.0,210.0,211.0,212.0,213.0,214.0,215.0,216.0,217.0,218.0,219.0,220.0,221.0,222.0,223.0,224.0,225.0,226.0,227.0,228.0,229.0,230.0,231.0,232.0,233.0,234.0,235.0,236.0,237.0,238.0,239.0,240.0,241.0,242.0,243.0,244.0,245.0,246.0,247.0,248.0,249.0,250.0,251.0,252.0,253.0,254.0,255.0,256.0,257.0,258.0,259.0,260.0,261.0,262.0,263.0,264.0,265.0,266.0,267.0,268.0,269.0,270.0,271.0,272.0,273.0,274.0,275.0,276.0,277.0,278.0,279.0,280.0,281.0,282.0,283.0,284.0,285.0,286.0,287.0,288.0,289.0,290.0,291.0,292.0,293.0,294.0,295.0,296.0,297.0,298.0,299.0,300.0,301.0,302.0,303.0,304.0,305.0,306.0,307.0,308.0,309.0,310.0,311.0,312.0,313.0,314.0,315.0,316.0,317.0,318.0,319.0,320.0,321.0,322.0,323.0,324.0,325.0,326.0,327.0,328.0,329.0,330.0,331.0,332.0,333.0,334.0,335.0,336.0,337.0,338.0,339.0,340.0,341.0,342.0,343.0,344.0,345.0,346.0,347.0,348.0,349.0,350.0,351.0,352.0,353.0,354.0,355.0,356.0,357.0,358.0,359.0,360.0,361.0,362.0,363.0,364.0,365.0,366.0,367.0,368.0,369.0,370.0,371.0,372.0,373.0,374.0,375.0,376.0,377.0,378.0,379.0,380.0,381.0,382.0,383.0,384.0,385.0,386.0,387.0,388.0,389.0,390.0,391.0,392.0,393.0,394.0,395.0,396.0,397.0,398.0,399.0,400.0,401.0,402.0,403.0,404.0,405.0,406.0,407.0,408.0,409.0,410.0,411.0,412.0,413.0,414.0,415.0,416.0,417.0,418.0,419.0,420.0,421.0,422.0,423.0,424.0,425.0,426.0,427.0,428.0,429.0,430.0,431.0,432.0,433.0,434.0,435.0,436.0,437.0,438.0,439.0,440.0,441.0,442.0,443.0,444.0,445.0,446.0,447.0,448.0,449.0,450.0,451.0,452.0,453.0,454.0,455.0,456.0,457.0,458.0,459.0,460.0,461.0,462.0,463.0,464.0,465.0,466.0,467.0,468.0,469.0,470.0,471.0,472.0,473.0,474.0,475.0,476.0,477.0,478.0,479.0,480.0,481.0,482.0,483.0,484.0,485.0,486.0,487.0,488.0,489.0,490.0,491.0,492.0,493.0,494.0,495.0,496.0,497.0,498.0,499.0,500.0],\"y\":[0.0,2.687926831793073E-60,1.7886489976223008E-51,2.4644841988684463E-46,1.0535587322238728E-42,6.7165272397925405E-40,1.2849481757977457E-37,1.0712352809683868E-35,4.862328223262023E-34,1.3871978912555433E-32,2.7438239831508922E-31,4.0352896177988974E-30,4.6464688097662097E-29,4.356464637551037E-28,3.428847960291688E-27,2.320924157237339E-26,1.377633132418579E-25,7.285961187342077E-25,3.478993953020836E-24,1.5164786224624928E-23,6.091124107810522E-23,2.272504870242883E-22,7.929427949072039E-22,2.603118390912509E-21,8.081949269643175E-21,2.38389577730976E-20,6.707384973276326E-20,1.8066006470351466E-19,4.672972394402814E-19,1.1640732904969842E-18,2.7998314179679475E-18,6.516992483754517E-18,1.4710602467846558E-17,3.2262813530675355E-17,6.886676465180967E-17,1.432962827890673E-16,2.9107335216620697E-16,5.779435023759046E-16,1.1230808260550555E-15,2.138284597494046E-15,3.99298901386901E-15,7.320231174539028E-15,1.3186557599787307E-14,2.3360206394702665E-14,4.0728125040726267E-14,6.993523683388369E-14,1.183511350003664E-13,1.9751297718877406E-13,3.2525244762414856E-13,5.287938206078897E-13,8.492150150774379E-13,1.3478008967315463E-12,2.1149961455200516E-12,3.2828934652642796E-12,5.042483139295132E-12,7.667255100318642E-12,1.154519985790119E-11,1.722181686254665E-11,2.5457427233122932E-11,3.730292325938544E-11,5.419909261669587E-11,7.810585540580963E-11,1.1166917301679941E-10,1.5843505657213895E-10,2.2312204713702112E-10,3.1196578789485757E-10,4.3315188740203165E-10,5.973562088504322E-10,8.184150367642867E-10,1.1141512903581925E-09,1.5073870882957002E-09,2.0271775339058443E-09,2.710305587666964E-09,3.6030833219361476E-09,4.763510699665363E-09,6.263849262424253E-09,8.19367472065733E-09,1.06634793659462E-08,1.3808902413532207E-08,1.779567376234018E-08,2.2825364144164592E-08,2.9142042124241602E-08,3.703994579863002E-08,4.6872284182359016E-08,5.9061290055512364E-08,7.410965227948568E-08,9.261346114854776E-08,1.1527680502943637E-07,1.4292816018289338E-07,1.76538718070365E-07,2.1724279543753604E-07,2.663604718456856E-07,3.2542259690779004E-07,3.961983050991461E-07,4.807251694854905E-07,5.813421168889297E-07,7.007252157574626E-07,8.419264341992306E-07,1.0084154491978648E-06,1.2041245688717091E-06,1.4334968077482677E-06,1.701537130388791E-06,2.0138668513585626E-06,2.3767811495633192E-06,2.797309622475451E-06,3.2832797709151755E-06,3.843383268010101E-06,4.4872448269878655E-06,5.225493441820307E-06,6.069835732751013E-06,7.033131085769574E-06,8.129468231501197E-06,9.374242865215915E-06,1.078423586613617E-05,1.2377691631431568E-05,1.4174395998721407E-05,1.619575319102386E-05,1.846486118048717E-05,2.1006584832303467E-05,2.3847626158599374E-05,2.701659098414766E-05,3.054405130209978E-05,3.44626025789107E-05,3.8806915253779186E-05,4.361377966950367E-05,4.892214366917208E-05,5.477314209674255E-05,6.121011744966067E-05,6.827863094830375E-05,7.602646331061202E-05,8.450360455048434E-05,9.376223215576082E-05,0.00010385667704558033,0.00011484337675754989,0.00012678081537243106,0.00013972944974742678,0.000153751621698448,0.00016891145584684098,0.00018527474292581578,0.00020290880842657903,0.00022188236655278808,0.00024226535954382353,0.00026412878252252294,0.0002875444941195241,0.0003125850132250872,0.00033932330231777725,0.00036783253791836644,0.0003981858688151638,0.0004304561628029383,0.0004647157427715639,0.0005010361130706137,0.0005394876771630127,0.0005801394476622246,0.0006230587499239732,0.000668310920434359,0.0007159590012985197,0.0007660634321925082,0.000818681741187989,0.0008738682359012547,0.0009316736964491228,0.0009921450717190609,0.0010553251804732349,0.0011212524188121827,0.0011899604755197994,0.0012614780567955528,0.0013358286218589646,0.0014130301308769328,0.0014930948066236892,0.0015760289112329877,0.0016618325393428415,0.0017504994288648535,0.0018420167905382155,0.001936365157342752,0.0020335182547599573,0.0021334428927728684,0.0022360988803982354,0.0023414389634368294,0.0024494087860200166,0.0025599468764154055,0.0026729846574431813,0.002788446481731397,0.0029062496919245178,0.0030263047058378643,0.003148515126431507,0.0032727778763590853,0.003398983356731881,0.0035270156296223713,0.0036567526237196806,0.0037880663624474268,0.003920823213741978,0.0040548841605988544,0.004190105091399376,0.004326337108937637,0.004463426856996441,0.004601216863235661,0.004739545897097603,0.004878249341368712,0.005017159575985182,0.005156106372626149,0.005294917298599605,0.0054334181284968605,0.005571433262069067,0.005708786146767628,0.005845299703382036,0.005980796753211005,0.006115100445213176,0.006248034681598568,0.0063794245403470725,0.0065090966931689465,0.006636879817460481,0.006762605000852487,0.006886106136994385,0.007007220311273784,0.007125788175232379,0.00724165430849714,0.007354667567120087,0.007464681417289791,0.007571554253447287,0.007675149699929797,0.007775336895328657,0.007871990758845477,0.00796499223800176,0.00805422853715344,0.00813959332633098,0.008220986930025901,0.008298316495621636,0.008371496141246482,0.00844044708291767,0.008505097740920961,0.008565383825448697,0.008621248401599797,0.008672641933917764,0.008719522310711545,0.008761854848478539,0.008799612276810177,0.00883277470422265,0.008861329565416173,0.008885271550517567,0.008904602516915851,0.0089193313843391,0.008929474013878133,0.00893505307167923,0.00893609787808721,0.008932644243028467,0.008924734288467396,0.008912416258772695,0.008895744319869132,0.008874778348046328,0.008849583709313477,0.008820231030196572,0.008786795960873558,0.008749358931543464,0.008708004902915541,0.008662823111709784,0.008613906812033802,0.008561353013495079,0.008505262216891983,0.008445738148301235,0.008382887492366707,0.008316819625560997,0.008247646350172508,0.008175481629738815,0.008100441326620482,0.0080226429423774,0.007942205361575218,0.007859248599620684,0.007773893555189919,0.007686261767772688,0.007596475180830308,0.0075046559110209556,0.007410926023915335,0.007315407316585244,0.00721822110741753,0.007119488033462308,0.007019327855600962,0.006917859271768768,0.006815199738447155,0.006711465300601215,0.006606770430202831,0.006501227873453752,0.006394948506786362,0.006288041201696143,0.0061806126984264124,0.006072767488498934,0.005964607706063232,0.005856233028003657,0.005747740582726624,0.005639224867526276,0.005530777674404377,0.005422488024201002,0.005314442108878386,0.005206723241775603,0.005099411815643443,0.004992585268252265,0.004886318055351771,0.004780681630751058,0.004675744433276582,0.00457157188035988,0.004468226367992074,0.0043657672767865785,0.004264250983871448,0.004163730880347569,0.004064257394025187,0.003965878017164774,0.0038686373389422656,0.0037725770823543673,0.003677736145286701,0.0035841506454664758,0.003491853969021737,0.0034008768223767814,0.003311247287212826,0.00322299087823201,0.003136130603461653,0.0030506870268481954,0.002966678332892062,0.0028841203930810373,0.0028030268338899555,0.002723409106118207,0.0026452765553465936,0.0025686364933009817,0.0024934942699212266,0.0024198533459377004,0.0023477153657708817,0.0022770802305747354,0.002207946171254694,0.0021403098212986553,0.0020741662892695034,0.002009509230815449,0.0019463309200623482,0.0018846223202621858,0.0018243731535796746,0.001765571969906591,0.001708206214602592,0.0016522622950691554,0.0015977256460702471,0.0015445807937223637,0.001492811418082636,0.0014424004142718693,0.0013933299520762603,0.001345581533978051,0.0012991360515719529,0.001253973840330455,0.0012100747326880303,0.0011674181094180748,0.001125982949284336,0.0010857478769516842,0.0010466912091476133,0.0010087909990701375,0.000972025079041659,0.0009363711014129967,0.0009018065777266148,0.0008683089161501447,0.0008358554571956982,0.0008044235077439697,0.0007739903733943339,0.0007445333891652926,0.0007160299485721607,0.0006884575311112811,0.0006617937281814582,0.0006360162674761365,0.0006111030358811512,0.0005870321009134732,0.0005637817307397193,0.0005413304128117306,0.0005196568711600046,0.0004987400823843631,0.0004785592903835188,0.00045909401986481775,0.0004403240886759078,0.000422229619000626,0.0004047910474610621,0.0003879891341680699,0.0003718049707622679,0.00035621998748738316,0.00034121595933705496,0.00032677501131696447,0.0003128796228620241,0.0002995126314492716,0.0002866572354456898,0.00027429699622973596,0.0002624158396245633,0.0002509980566801568,0.00024002830384092273,0.00022949160253401434,0.0002193733382132505,0.00020965925889215712,0.00020033547319905129,0.00019138844798568614,0.0001828050055205489,0.00017457232029626776,0.00016667791548016884,0.00015910965903547823,0.00015185575954015582,0.00014490476172883087,0.00013824554178268916,0.00013186730239094413,0.00012575956760657058,0.00011991217751802974,0.00011431528275767271,0.00010895933886656598,0.00010383510053462358,9.893361573384737E-05,9.424621976163423E-05,8.976452921033002E-05,8.548043587811754E-05,8.13861006356498E-05,7.747394726198331E-05,7.373665626247592E-05,7.016715868064052E-05,6.67586299151539E-05,6.350448355242238E-05,6.0398365224546156E-05,5.743414650166821E-05,5.4605918827162755E-05,5.190798750346624E-05,4.933486573566584E-05,4.688126873949512E-05,4.4542107919722124E-05,4.231248512445756E-05,4.0187686980360897E-05,3.816317931322006E-05,3.62346016579798E-05,3.439776186175717E-05,3.264863078306615E-05,3.098333708998571E-05,2.9398162159672797E-05,2.7889535081278043E-05,2.6454027763930977E-05,2.508835015120654E-05,2.378934554313863E-05,2.2553986026582743E-05,2.1379368014484937E-05,2.0262707894328876E-05,1.9201337785836196E-05,1.8192701407774782E-05,1.7234350053510584E-05,1.6323938674791544E-05,1.5459222073043642E-05,1.4638051197325365E-05,1.385836954794313E-05,1.3118209684587373E-05,1.2415689837736297E-05,1.1749010621960548E-05,1.111645184968012E-05,1.051636944380427E-05,9.947192447644236E-06,9.407420130392432E-06,8.895619186408533E-06,8.410421026504434E-06,7.950519159371377E-06,7.514666661246938E-06,7.101673731904166E-06,6.710405335005038E-06,6.339778920846667E-06,5.988762229518296E-06,5.6563711724701564E-06,5.3416677905024035E-06,5.043758286168637E-06,4.761791128610225E-06,4.494955228827844E-06,4.242478183425098E-06,4.0036245848616344E-06,3.77769439627952E-06,3.564021388981557E-06,3.3619716406670526E-06,3.170942092555967E-06,2.990359163554864E-06,2.8196774196542176E-06,2.6583782967713047E-06,2.505968875287997E-06,2.3619807045660004E-06,2.225968675752854E-06,2.0975099412329677E-06,1.9762028791083632E-06,1.8616661011325933E-06,1.7535375025590768E-06,1.6514733524003623E-06,1.5551474226330235E-06,1.4642501549216978E-06,1.3784878634715408E-06,1.2975819726577384E-06,1.2212682881166813E-06,1.149296300022266E-06,1.0814285173066572E-06,1.0174398316221264E-06,9.571169098769831E-07,9.00257614214293E-07,8.466704483375953E-07,7.961740291231216E-07,7.485965824915311E-07,7.037754625473765E-07,6.615566930260841E-07,6.21794530121899E-07,5.843510458018905E-07,5.490957307419413E-07,5.159051160515993E-07,4.846624129842791E-07,4.552571698583172E-07,4.2758494544287077E-07,4.015469980903495E-07,3.7704998992368976E-07],\"marker\":{},\"line\":{}}];\r\n",
       "            var layout = {\"width\":600,\"height\":600,\"template\":{\"layout\":{\"title\":{\"x\":0.05},\"font\":{\"color\":\"rgba(42, 63, 95, 1.0)\"},\"paper_bgcolor\":\"rgba(255, 255, 255, 1.0)\",\"plot_bgcolor\":\"rgba(229, 236, 246, 1.0)\",\"autotypenumbers\":\"strict\",\"colorscale\":{\"diverging\":[[0.0,\"#8e0152\"],[0.1,\"#c51b7d\"],[0.2,\"#de77ae\"],[0.3,\"#f1b6da\"],[0.4,\"#fde0ef\"],[0.5,\"#f7f7f7\"],[0.6,\"#e6f5d0\"],[0.7,\"#b8e186\"],[0.8,\"#7fbc41\"],[0.9,\"#4d9221\"],[1.0,\"#276419\"]],\"sequential\":[[0.0,\"#0d0887\"],[0.1111111111111111,\"#46039f\"],[0.2222222222222222,\"#7201a8\"],[0.3333333333333333,\"#9c179e\"],[0.4444444444444444,\"#bd3786\"],[0.5555555555555556,\"#d8576b\"],[0.6666666666666666,\"#ed7953\"],[0.7777777777777778,\"#fb9f3a\"],[0.8888888888888888,\"#fdca26\"],[1.0,\"#f0f921\"]],\"sequentialminus\":[[0.0,\"#0d0887\"],[0.1111111111111111,\"#46039f\"],[0.2222222222222222,\"#7201a8\"],[0.3333333333333333,\"#9c179e\"],[0.4444444444444444,\"#bd3786\"],[0.5555555555555556,\"#d8576b\"],[0.6666666666666666,\"#ed7953\"],[0.7777777777777778,\"#fb9f3a\"],[0.8888888888888888,\"#fdca26\"],[1.0,\"#f0f921\"]]},\"hovermode\":\"closest\",\"hoverlabel\":{\"align\":\"left\"},\"coloraxis\":{\"colorbar\":{\"outlinewidth\":0.0,\"ticks\":\"\"}},\"geo\":{\"showland\":true,\"landcolor\":\"rgba(229, 236, 246, 1.0)\",\"showlakes\":true,\"lakecolor\":\"rgba(255, 255, 255, 1.0)\",\"subunitcolor\":\"rgba(255, 255, 255, 1.0)\",\"bgcolor\":\"rgba(255, 255, 255, 1.0)\"},\"mapbox\":{\"style\":\"light\"},\"polar\":{\"bgcolor\":\"rgba(229, 236, 246, 1.0)\",\"radialaxis\":{\"linecolor\":\"rgba(255, 255, 255, 1.0)\",\"gridcolor\":\"rgba(255, 255, 255, 1.0)\",\"ticks\":\"\"},\"angularaxis\":{\"linecolor\":\"rgba(255, 255, 255, 1.0)\",\"gridcolor\":\"rgba(255, 255, 255, 1.0)\",\"ticks\":\"\"}},\"scene\":{\"xaxis\":{\"ticks\":\"\",\"linecolor\":\"rgba(255, 255, 255, 1.0)\",\"gridcolor\":\"rgba(255, 255, 255, 1.0)\",\"gridwidth\":2.0,\"zerolinecolor\":\"rgba(255, 255, 255, 1.0)\",\"backgroundcolor\":\"rgba(229, 236, 246, 1.0)\",\"showbackground\":true},\"yaxis\":{\"ticks\":\"\",\"linecolor\":\"rgba(255, 255, 255, 1.0)\",\"gridcolor\":\"rgba(255, 255, 255, 1.0)\",\"gridwidth\":2.0,\"zerolinecolor\":\"rgba(255, 255, 255, 1.0)\",\"backgroundcolor\":\"rgba(229, 236, 246, 1.0)\",\"showbackground\":true},\"zaxis\":{\"ticks\":\"\",\"linecolor\":\"rgba(255, 255, 255, 1.0)\",\"gridcolor\":\"rgba(255, 255, 255, 1.0)\",\"gridwidth\":2.0,\"zerolinecolor\":\"rgba(255, 255, 255, 1.0)\",\"backgroundcolor\":\"rgba(229, 236, 246, 1.0)\",\"showbackground\":true}},\"ternary\":{\"aaxis\":{\"ticks\":\"\",\"linecolor\":\"rgba(255, 255, 255, 1.0)\",\"gridcolor\":\"rgba(255, 255, 255, 1.0)\"},\"baxis\":{\"ticks\":\"\",\"linecolor\":\"rgba(255, 255, 255, 1.0)\",\"gridcolor\":\"rgba(255, 255, 255, 1.0)\"},\"caxis\":{\"ticks\":\"\",\"linecolor\":\"rgba(255, 255, 255, 1.0)\",\"gridcolor\":\"rgba(255, 255, 255, 1.0)\"},\"bgcolor\":\"rgba(229, 236, 246, 1.0)\"},\"xaxis\":{\"title\":{\"standoff\":15},\"ticks\":\"\",\"automargin\":true,\"linecolor\":\"rgba(255, 255, 255, 1.0)\",\"gridcolor\":\"rgba(255, 255, 255, 1.0)\",\"zerolinecolor\":\"rgba(255, 255, 255, 1.0)\",\"zerolinewidth\":2.0},\"yaxis\":{\"title\":{\"standoff\":15},\"ticks\":\"\",\"automargin\":true,\"linecolor\":\"rgba(255, 255, 255, 1.0)\",\"gridcolor\":\"rgba(255, 255, 255, 1.0)\",\"zerolinecolor\":\"rgba(255, 255, 255, 1.0)\",\"zerolinewidth\":2.0},\"annotationdefaults\":{\"arrowcolor\":\"#2a3f5f\",\"arrowhead\":0,\"arrowwidth\":1},\"shapedefaults\":{\"line\":{\"color\":\"rgba(42, 63, 95, 1.0)\"}},\"colorway\":[\"rgba(99, 110, 250, 1.0)\",\"rgba(239, 85, 59, 1.0)\",\"rgba(0, 204, 150, 1.0)\",\"rgba(171, 99, 250, 1.0)\",\"rgba(255, 161, 90, 1.0)\",\"rgba(25, 211, 243, 1.0)\",\"rgba(255, 102, 146, 1.0)\",\"rgba(182, 232, 128, 1.0)\",\"rgba(255, 151, 255, 1.0)\",\"rgba(254, 203, 82, 1.0)\"]},\"data\":{\"bar\":[{\"marker\":{\"line\":{\"color\":\"rgba(229, 236, 246, 1.0)\",\"width\":0.5},\"pattern\":{\"fillmode\":\"overlay\",\"size\":10,\"solidity\":0.2}},\"error_x\":{\"color\":\"rgba(42, 63, 95, 1.0)\"},\"error_y\":{\"color\":\"rgba(42, 63, 95, 1.0)\"}}],\"barpolar\":[{\"marker\":{\"line\":{\"color\":\"rgba(229, 236, 246, 1.0)\",\"width\":0.5},\"pattern\":{\"fillmode\":\"overlay\",\"size\":10,\"solidity\":0.2}}}],\"carpet\":[{\"aaxis\":{\"linecolor\":\"rgba(255, 255, 255, 1.0)\",\"gridcolor\":\"rgba(255, 255, 255, 1.0)\",\"endlinecolor\":\"rgba(42, 63, 95, 1.0)\",\"minorgridcolor\":\"rgba(255, 255, 255, 1.0)\",\"startlinecolor\":\"rgba(42, 63, 95, 1.0)\"},\"baxis\":{\"linecolor\":\"rgba(255, 255, 255, 1.0)\",\"gridcolor\":\"rgba(255, 255, 255, 1.0)\",\"endlinecolor\":\"rgba(42, 63, 95, 1.0)\",\"minorgridcolor\":\"rgba(255, 255, 255, 1.0)\",\"startlinecolor\":\"rgba(42, 63, 95, 1.0)\"}}],\"choropleth\":[{\"colorbar\":{\"outlinewidth\":0.0,\"ticks\":\"\"},\"colorscale\":[[0.0,\"#0d0887\"],[0.1111111111111111,\"#46039f\"],[0.2222222222222222,\"#7201a8\"],[0.3333333333333333,\"#9c179e\"],[0.4444444444444444,\"#bd3786\"],[0.5555555555555556,\"#d8576b\"],[0.6666666666666666,\"#ed7953\"],[0.7777777777777778,\"#fb9f3a\"],[0.8888888888888888,\"#fdca26\"],[1.0,\"#f0f921\"]]}],\"contour\":[{\"colorbar\":{\"outlinewidth\":0.0,\"ticks\":\"\"},\"colorscale\":[[0.0,\"#0d0887\"],[0.1111111111111111,\"#46039f\"],[0.2222222222222222,\"#7201a8\"],[0.3333333333333333,\"#9c179e\"],[0.4444444444444444,\"#bd3786\"],[0.5555555555555556,\"#d8576b\"],[0.6666666666666666,\"#ed7953\"],[0.7777777777777778,\"#fb9f3a\"],[0.8888888888888888,\"#fdca26\"],[1.0,\"#f0f921\"]]}],\"contourcarpet\":[{\"colorbar\":{\"outlinewidth\":0.0,\"ticks\":\"\"}}],\"heatmap\":[{\"colorbar\":{\"outlinewidth\":0.0,\"ticks\":\"\"},\"colorscale\":[[0.0,\"#0d0887\"],[0.1111111111111111,\"#46039f\"],[0.2222222222222222,\"#7201a8\"],[0.3333333333333333,\"#9c179e\"],[0.4444444444444444,\"#bd3786\"],[0.5555555555555556,\"#d8576b\"],[0.6666666666666666,\"#ed7953\"],[0.7777777777777778,\"#fb9f3a\"],[0.8888888888888888,\"#fdca26\"],[1.0,\"#f0f921\"]]}],\"heatmapgl\":[{\"colorbar\":{\"outlinewidth\":0.0,\"ticks\":\"\"},\"colorscale\":[[0.0,\"#0d0887\"],[0.1111111111111111,\"#46039f\"],[0.2222222222222222,\"#7201a8\"],[0.3333333333333333,\"#9c179e\"],[0.4444444444444444,\"#bd3786\"],[0.5555555555555556,\"#d8576b\"],[0.6666666666666666,\"#ed7953\"],[0.7777777777777778,\"#fb9f3a\"],[0.8888888888888888,\"#fdca26\"],[1.0,\"#f0f921\"]]}],\"histogram\":[{\"marker\":{\"pattern\":{\"fillmode\":\"overlay\",\"size\":10,\"solidity\":0.2}}}],\"histogram2d\":[{\"colorbar\":{\"outlinewidth\":0.0,\"ticks\":\"\"},\"colorscale\":[[0.0,\"#0d0887\"],[0.1111111111111111,\"#46039f\"],[0.2222222222222222,\"#7201a8\"],[0.3333333333333333,\"#9c179e\"],[0.4444444444444444,\"#bd3786\"],[0.5555555555555556,\"#d8576b\"],[0.6666666666666666,\"#ed7953\"],[0.7777777777777778,\"#fb9f3a\"],[0.8888888888888888,\"#fdca26\"],[1.0,\"#f0f921\"]]}],\"histogram2dcontour\":[{\"colorbar\":{\"outlinewidth\":0.0,\"ticks\":\"\"},\"colorscale\":[[0.0,\"#0d0887\"],[0.1111111111111111,\"#46039f\"],[0.2222222222222222,\"#7201a8\"],[0.3333333333333333,\"#9c179e\"],[0.4444444444444444,\"#bd3786\"],[0.5555555555555556,\"#d8576b\"],[0.6666666666666666,\"#ed7953\"],[0.7777777777777778,\"#fb9f3a\"],[0.8888888888888888,\"#fdca26\"],[1.0,\"#f0f921\"]]}],\"mesh3d\":[{\"colorbar\":{\"outlinewidth\":0.0,\"ticks\":\"\"}}],\"parcoords\":[{\"line\":{\"colorbar\":{\"outlinewidth\":0.0,\"ticks\":\"\"}}}],\"pie\":[{\"automargin\":true}],\"scatter\":[{\"marker\":{\"colorbar\":{\"outlinewidth\":0.0,\"ticks\":\"\"}}}],\"scatter3d\":[{\"marker\":{\"colorbar\":{\"outlinewidth\":0.0,\"ticks\":\"\"}},\"line\":{\"colorbar\":{\"outlinewidth\":0.0,\"ticks\":\"\"}}}],\"scattercarpet\":[{\"marker\":{\"colorbar\":{\"outlinewidth\":0.0,\"ticks\":\"\"}}}],\"scattergeo\":[{\"marker\":{\"colorbar\":{\"outlinewidth\":0.0,\"ticks\":\"\"}}}],\"scattergl\":[{\"marker\":{\"colorbar\":{\"outlinewidth\":0.0,\"ticks\":\"\"}}}],\"scattermapbox\":[{\"marker\":{\"colorbar\":{\"outlinewidth\":0.0,\"ticks\":\"\"}}}],\"scatterpolar\":[{\"marker\":{\"colorbar\":{\"outlinewidth\":0.0,\"ticks\":\"\"}}}],\"scatterpolargl\":[{\"marker\":{\"colorbar\":{\"outlinewidth\":0.0,\"ticks\":\"\"}}}],\"scatterternary\":[{\"marker\":{\"colorbar\":{\"outlinewidth\":0.0,\"ticks\":\"\"}}}],\"surface\":[{\"colorbar\":{\"outlinewidth\":0.0,\"ticks\":\"\"},\"colorscale\":[[0.0,\"#0d0887\"],[0.1111111111111111,\"#46039f\"],[0.2222222222222222,\"#7201a8\"],[0.3333333333333333,\"#9c179e\"],[0.4444444444444444,\"#bd3786\"],[0.5555555555555556,\"#d8576b\"],[0.6666666666666666,\"#ed7953\"],[0.7777777777777778,\"#fb9f3a\"],[0.8888888888888888,\"#fdca26\"],[1.0,\"#f0f921\"]]}],\"table\":[{\"cells\":{\"fill\":{\"color\":\"rgba(235, 240, 248, 1.0)\"},\"line\":{\"color\":\"rgba(255, 255, 255, 1.0)\"}},\"header\":{\"fill\":{\"color\":\"rgba(200, 212, 227, 1.0)\"},\"line\":{\"color\":\"rgba(255, 255, 255, 1.0)\"}}}]}},\"xaxis\":{\"title\":{\"text\":\"Protein Anzahl\"}},\"yaxis\":{\"title\":{\"text\":\"P(Anzahl)\"}}};\r\n",
       "            var config = {\"responsive\":true};\r\n",
       "            Plotly.newPlot('8d28fcf9-06a8-4028-b37b-4b7a9e01f546', data, layout, config);\r\n",
       "});\r\n",
       "            };\r\n",
       "            if ((typeof(requirejs) !==  typeof(Function)) || (typeof(requirejs.config) !== typeof(Function))) {\r\n",
       "                var script = document.createElement(\"script\");\r\n",
       "                script.setAttribute(\"src\", \"https://cdnjs.cloudflare.com/ajax/libs/require.js/2.3.6/require.min.js\");\r\n",
       "                script.onload = function(){\r\n",
       "                    renderPlotly_8d28fcf906a84028b37b4b7a9e01f546();\r\n",
       "                };\r\n",
       "                document.getElementsByTagName(\"head\")[0].appendChild(script);\r\n",
       "            }\r\n",
       "            else {\r\n",
       "                renderPlotly_8d28fcf906a84028b37b4b7a9e01f546();\r\n",
       "            }\r\n",
       "</script>\r\n",
       "\n",
       "    \n",
       "</div>    \n"
      ]
     },
     "metadata": {},
     "output_type": "display_data"
    }
   ],
   "source": [
    "let gammaAlpha,gammaBeta = Distributions.Continuous.Gamma.Fit samplesProtein\n",
    "let gammaVerteilung = Distributions.Continuous.Gamma.Init gammaAlpha gammaBeta\n",
    "\n",
    "[\n",
    "    histoProtein\n",
    "    Chart.Line ([|0. .. 500.|], [|0. .. 500.|] |> Array.map gammaVerteilung.PDF)\n",
    "]\n",
    "|> Chart.combine"
   ]
  },
  {
   "cell_type": "markdown",
   "metadata": {},
   "source": [
    "# Besprechung"
   ]
  },
  {
   "cell_type": "markdown",
   "metadata": {},
   "source": [
    "### Regulation\n",
    "\n",
    "#### Repressoren\n",
    "\n",
    "Wie bereits in der Einführung erwähnt ist wichtig, das mathematische Modell dem zu untersuchenden System anzupassen. In echten biologischen Systemen werden Gene nicht konstant exprimiert, sondern unterliegen einer Regulation, die von unterschiedlichen Faktoren abhängt. Die einfachste Form der Regulierung ist mittels Repressoren oder Aktivatoren. Beides sind zumeist Proteine, die an spezifische Regionen auf der DNA binden können um die Promotoraktivität eines Gens zu regulieren, wobei die Stärke der Regulierung meist mit der Stärke der Bindung des Regulators zur DNA-Region einhergeht. <br>\n",
    "![Promotor](https://www.promotor.de/wp-content/uploads/2022/04/Gebrauchtwagenmarkt-Pressemitteilung.jpg)<br>\n",
    "Um den Einfluss eines Repressors/Aktivators auf die Produktion von einem Protein zu bestimmen, ist es zuerst nötig sich mit dem Prozess der Bindung des Repressors/Aktivators an die jeweilige Bindestelle, durch die die Proteinprodukion beeinflusst wird, zu beschäftigen. Innerhalb der Zelle bindet und löst sich ein Repressor von seiner Bindestelle in einem kontinuierlichen Prozess. Dies kann als eine Gleichgewichtsreaktion dargestellt werden\n",
    "$$D + R\\quad \\underset{k_{-}}{\\stackrel{k_{+}}{\\rightleftharpoons}} \\quad D_{gebunden}$$\n",
    "wobei $D$ die Konzentration von Bindestellen ohne Repressor,<br> $R$ die Repressorkonzentration,<br> $D_{gebunden}$ die Konzentration von Bindestellen mit Repressor,<br> $k_{+}$ die Geschwindigkeit des Bindens des Repressor an die Bindestelle,<br> und $k_{-}$ die Geschwindigkeit des Loslösens des Repressors von der Bindestelle ist.<br> $D$ und $D_{gebunden}$ zusammen ergeben $D_{total}$ was der Konzentration aller Bindestellen entspricht ($D_{total} = D + D_{gebunden} $).<br>\n",
    "Das Gen wird nur dann stark exprimiert wenn der Repressor nicht gebunden ist, was dem Verhältnis von nicht gebundenen Bindestellen zu der Anzahl von allen Bindestellen entspricht, also $D/D_{total}$. Für eine Differenzialgleichung die beschreibt wie sich die Proteinkonzentration verhält wenn das Gen von einem Repressor reguliert wird ist es daher nötig die Produktionsrate mit dem Verhältnis $D/D_{total}$ zu multiplizieren. Sowohl $D$ als auch $D_{total}$ sind aber nur schwierig experimentell zu bestimmen. Die Repressorkonzentration und die Dissoziationskonstante, also die Konzentration  bei der die Produktion um die Hälfte reduziert ist, sind hingegen vergleichsweise einfach zu bestimmen. Daher ist es sinnvoll das Verhältnis $D/D_{total}$ als einen Zusammenhang von $R$ und der Dissoziationskonstante $K_{D}$ darzustellen. Dies ist möglich durch das Umformen der Gleichgewichtsgleichung die sich aus der Gleichgewichtsreaktion ergibt. Diese ist:\n",
    "$$k_{+}*D*R = k_{-}*D_{gebunden}$$\n",
    "Einsetzten von $D_{total} = D + D_{gebunden} $ um $D_ {gebunden}$ zu ersetzen ergibt:\n",
    "$$k_{+}*D*R = k_{-}*(D_{total}-D)$$\n",
    "Separieren von $D$ und $D_{total}$ von den anderen Faktoren führt zu:\n",
    "$$\\frac {D} {(D_{total}-D)}= \\frac {k_{-}}{k_{+}*R} $$\n",
    "$$\\frac {D/D} {(D_{total}/D-D/D)}= \\frac {k_{-}}{k_{+}*R} $$\n",
    "$$\\frac {1} {(D_{total}/D-1)}= \\frac {k_{-}}{k_{+}*R} $$\n",
    "$$\\frac {D_{total}}{D}-1= \\frac {k_{+}*R}{k_{-}} $$\n",
    "$$\\frac {D_{total}}{D}= \\frac {k_{+}*R}{k_{-}}+1 $$\n",
    "das Verhältnis von $\\frac {k_{-}}{k_{+}}$ kann ersetzt werden durch die Dissoziationskonstante $K_{D}$. Daher folgt:\n",
    "$$\\frac {D_{total}}{D}= \\frac {R}{K_{D}} +1 $$\n",
    "$$\\frac {D}{D_{total}}= \\frac {1}{1+\\frac {R}{K_{D}}} $$\n",
    "\n",
    "Der Term $\\frac {1}{1+\\frac {R}{K_{D}}}$ beschreibt somit den Term durch den die Expressionsrate eines Gens gedämpft wird, wenn es von einem Repressor reguliert wird. Das heißt wenn das Gen x, welches das Protein X produziert, durch den Inhibitor R reguliert wird, kann dies mit folgender Differenzialgleichung beschrieben werden\n",
    "$$ \\frac {dProteinkonzentration} {dt} = \\beta* \\frac {1}{1+ \\frac {R}{K_{D}}}  - \\gamma*Proteinkonzentration$$\n",
    "\n",
    "\n",
    "\n"
   ]
  },
  {
   "cell_type": "markdown",
   "metadata": {},
   "source": [
    "##### Aufgabe 3.10\n",
    "***Setze die Differenzialgleichungen für ein Protein dessen Produktion von einem Repressor reguliert wird in das folgende Model ein (beachte das $\\beta \\textrm{ und } \\gamma$ als \"beta\" und \"gamma\", ohne \"\", eingesetzt werden müssen und nicht als Symbole, und das $K_{D}$ als K_d eingesetzt wird).***\n"
   ]
  },
  {
   "cell_type": "code",
   "execution_count": null,
   "metadata": {
    "dotnet_interactive": {
     "language": "fsharp"
    },
    "vscode": {
     "languageId": "dotnet-interactive.fsharp"
    }
   },
   "outputs": [
    {
     "data": {
      "text/html": [
       "\n",
       "<div>\n",
       "    <div id=\"f9763792-be31-49f0-8095-9feb0deed54c\"><!-- Plotly chart will be drawn inside this DIV --></div>\r\n",
       "<script type=\"text/javascript\">\r\n",
       "\r\n",
       "            var renderPlotly_f9763792be3149f080959feb0deed54c = function() {\r\n",
       "            var fsharpPlotlyRequire = requirejs.config({context:'fsharp-plotly',paths:{plotly:'https://cdn.plot.ly/plotly-2.6.3.min'}}) || require;\r\n",
       "            fsharpPlotlyRequire(['plotly'], function(Plotly) {\r\n",
       "\r\n",
       "            var data = [{\"type\":\"scatter\",\"mode\":\"lines\",\"x\":[1.0,1.0422735078757366,1.0765131872331148,1.1092114559929191,1.1446387385328363,1.1844146918571201,1.2295896333525944,1.2813781168854694,1.3414877266484424,1.4124262324362684],\"y\":[0.0,1.4265998162922884,1.9587992851463176,2.2185873827498845,2.3614441073473618,2.4374630685892638,2.4746624373708337,2.4910050155572883,2.4972948471148437,2.499343125095302],\"marker\":{},\"line\":{\"shape\":\"spline\"},\"name\":\"Unreguliert\"},{\"type\":\"scatter\",\"mode\":\"lines\",\"x\":[1.0,1.0422735078757366,1.0765131872331148,1.1092114559929191,1.1446387385328363,1.1844146918571201,1.2295896333525944,1.2813781168854694,1.3414877266484424,1.4124262324362684],\"y\":[0.0,0.9510665441948588,1.305866190097545,1.4790582551665898,1.574296071564908,1.6249753790595094,1.6497749582472225,1.6606700103715255,1.664863231409896,1.666228750063535],\"marker\":{},\"line\":{\"shape\":\"spline\"},\"name\":\"Reguliert\"}];\r\n",
       "            var layout = {\"width\":600,\"height\":600,\"template\":{\"layout\":{\"title\":{\"x\":0.05},\"font\":{\"color\":\"rgba(42, 63, 95, 1.0)\"},\"paper_bgcolor\":\"rgba(255, 255, 255, 1.0)\",\"plot_bgcolor\":\"rgba(229, 236, 246, 1.0)\",\"autotypenumbers\":\"strict\",\"colorscale\":{\"diverging\":[[0.0,\"#8e0152\"],[0.1,\"#c51b7d\"],[0.2,\"#de77ae\"],[0.3,\"#f1b6da\"],[0.4,\"#fde0ef\"],[0.5,\"#f7f7f7\"],[0.6,\"#e6f5d0\"],[0.7,\"#b8e186\"],[0.8,\"#7fbc41\"],[0.9,\"#4d9221\"],[1.0,\"#276419\"]],\"sequential\":[[0.0,\"#0d0887\"],[0.1111111111111111,\"#46039f\"],[0.2222222222222222,\"#7201a8\"],[0.3333333333333333,\"#9c179e\"],[0.4444444444444444,\"#bd3786\"],[0.5555555555555556,\"#d8576b\"],[0.6666666666666666,\"#ed7953\"],[0.7777777777777778,\"#fb9f3a\"],[0.8888888888888888,\"#fdca26\"],[1.0,\"#f0f921\"]],\"sequentialminus\":[[0.0,\"#0d0887\"],[0.1111111111111111,\"#46039f\"],[0.2222222222222222,\"#7201a8\"],[0.3333333333333333,\"#9c179e\"],[0.4444444444444444,\"#bd3786\"],[0.5555555555555556,\"#d8576b\"],[0.6666666666666666,\"#ed7953\"],[0.7777777777777778,\"#fb9f3a\"],[0.8888888888888888,\"#fdca26\"],[1.0,\"#f0f921\"]]},\"hovermode\":\"closest\",\"hoverlabel\":{\"align\":\"left\"},\"coloraxis\":{\"colorbar\":{\"outlinewidth\":0.0,\"ticks\":\"\"}},\"geo\":{\"showland\":true,\"landcolor\":\"rgba(229, 236, 246, 1.0)\",\"showlakes\":true,\"lakecolor\":\"rgba(255, 255, 255, 1.0)\",\"subunitcolor\":\"rgba(255, 255, 255, 1.0)\",\"bgcolor\":\"rgba(255, 255, 255, 1.0)\"},\"mapbox\":{\"style\":\"light\"},\"polar\":{\"bgcolor\":\"rgba(229, 236, 246, 1.0)\",\"radialaxis\":{\"linecolor\":\"rgba(255, 255, 255, 1.0)\",\"gridcolor\":\"rgba(255, 255, 255, 1.0)\",\"ticks\":\"\"},\"angularaxis\":{\"linecolor\":\"rgba(255, 255, 255, 1.0)\",\"gridcolor\":\"rgba(255, 255, 255, 1.0)\",\"ticks\":\"\"}},\"scene\":{\"xaxis\":{\"ticks\":\"\",\"linecolor\":\"rgba(255, 255, 255, 1.0)\",\"gridcolor\":\"rgba(255, 255, 255, 1.0)\",\"gridwidth\":2.0,\"zerolinecolor\":\"rgba(255, 255, 255, 1.0)\",\"backgroundcolor\":\"rgba(229, 236, 246, 1.0)\",\"showbackground\":true},\"yaxis\":{\"ticks\":\"\",\"linecolor\":\"rgba(255, 255, 255, 1.0)\",\"gridcolor\":\"rgba(255, 255, 255, 1.0)\",\"gridwidth\":2.0,\"zerolinecolor\":\"rgba(255, 255, 255, 1.0)\",\"backgroundcolor\":\"rgba(229, 236, 246, 1.0)\",\"showbackground\":true},\"zaxis\":{\"ticks\":\"\",\"linecolor\":\"rgba(255, 255, 255, 1.0)\",\"gridcolor\":\"rgba(255, 255, 255, 1.0)\",\"gridwidth\":2.0,\"zerolinecolor\":\"rgba(255, 255, 255, 1.0)\",\"backgroundcolor\":\"rgba(229, 236, 246, 1.0)\",\"showbackground\":true}},\"ternary\":{\"aaxis\":{\"ticks\":\"\",\"linecolor\":\"rgba(255, 255, 255, 1.0)\",\"gridcolor\":\"rgba(255, 255, 255, 1.0)\"},\"baxis\":{\"ticks\":\"\",\"linecolor\":\"rgba(255, 255, 255, 1.0)\",\"gridcolor\":\"rgba(255, 255, 255, 1.0)\"},\"caxis\":{\"ticks\":\"\",\"linecolor\":\"rgba(255, 255, 255, 1.0)\",\"gridcolor\":\"rgba(255, 255, 255, 1.0)\"},\"bgcolor\":\"rgba(229, 236, 246, 1.0)\"},\"xaxis\":{\"title\":{\"standoff\":15},\"ticks\":\"\",\"automargin\":true,\"linecolor\":\"rgba(255, 255, 255, 1.0)\",\"gridcolor\":\"rgba(255, 255, 255, 1.0)\",\"zerolinecolor\":\"rgba(255, 255, 255, 1.0)\",\"zerolinewidth\":2.0},\"yaxis\":{\"title\":{\"standoff\":15},\"ticks\":\"\",\"automargin\":true,\"linecolor\":\"rgba(255, 255, 255, 1.0)\",\"gridcolor\":\"rgba(255, 255, 255, 1.0)\",\"zerolinecolor\":\"rgba(255, 255, 255, 1.0)\",\"zerolinewidth\":2.0},\"annotationdefaults\":{\"arrowcolor\":\"#2a3f5f\",\"arrowhead\":0,\"arrowwidth\":1},\"shapedefaults\":{\"line\":{\"color\":\"rgba(42, 63, 95, 1.0)\"}},\"colorway\":[\"rgba(99, 110, 250, 1.0)\",\"rgba(239, 85, 59, 1.0)\",\"rgba(0, 204, 150, 1.0)\",\"rgba(171, 99, 250, 1.0)\",\"rgba(255, 161, 90, 1.0)\",\"rgba(25, 211, 243, 1.0)\",\"rgba(255, 102, 146, 1.0)\",\"rgba(182, 232, 128, 1.0)\",\"rgba(255, 151, 255, 1.0)\",\"rgba(254, 203, 82, 1.0)\"]},\"data\":{\"bar\":[{\"marker\":{\"line\":{\"color\":\"rgba(229, 236, 246, 1.0)\",\"width\":0.5},\"pattern\":{\"fillmode\":\"overlay\",\"size\":10,\"solidity\":0.2}},\"error_x\":{\"color\":\"rgba(42, 63, 95, 1.0)\"},\"error_y\":{\"color\":\"rgba(42, 63, 95, 1.0)\"}}],\"barpolar\":[{\"marker\":{\"line\":{\"color\":\"rgba(229, 236, 246, 1.0)\",\"width\":0.5},\"pattern\":{\"fillmode\":\"overlay\",\"size\":10,\"solidity\":0.2}}}],\"carpet\":[{\"aaxis\":{\"linecolor\":\"rgba(255, 255, 255, 1.0)\",\"gridcolor\":\"rgba(255, 255, 255, 1.0)\",\"endlinecolor\":\"rgba(42, 63, 95, 1.0)\",\"minorgridcolor\":\"rgba(255, 255, 255, 1.0)\",\"startlinecolor\":\"rgba(42, 63, 95, 1.0)\"},\"baxis\":{\"linecolor\":\"rgba(255, 255, 255, 1.0)\",\"gridcolor\":\"rgba(255, 255, 255, 1.0)\",\"endlinecolor\":\"rgba(42, 63, 95, 1.0)\",\"minorgridcolor\":\"rgba(255, 255, 255, 1.0)\",\"startlinecolor\":\"rgba(42, 63, 95, 1.0)\"}}],\"choropleth\":[{\"colorbar\":{\"outlinewidth\":0.0,\"ticks\":\"\"},\"colorscale\":[[0.0,\"#0d0887\"],[0.1111111111111111,\"#46039f\"],[0.2222222222222222,\"#7201a8\"],[0.3333333333333333,\"#9c179e\"],[0.4444444444444444,\"#bd3786\"],[0.5555555555555556,\"#d8576b\"],[0.6666666666666666,\"#ed7953\"],[0.7777777777777778,\"#fb9f3a\"],[0.8888888888888888,\"#fdca26\"],[1.0,\"#f0f921\"]]}],\"contour\":[{\"colorbar\":{\"outlinewidth\":0.0,\"ticks\":\"\"},\"colorscale\":[[0.0,\"#0d0887\"],[0.1111111111111111,\"#46039f\"],[0.2222222222222222,\"#7201a8\"],[0.3333333333333333,\"#9c179e\"],[0.4444444444444444,\"#bd3786\"],[0.5555555555555556,\"#d8576b\"],[0.6666666666666666,\"#ed7953\"],[0.7777777777777778,\"#fb9f3a\"],[0.8888888888888888,\"#fdca26\"],[1.0,\"#f0f921\"]]}],\"contourcarpet\":[{\"colorbar\":{\"outlinewidth\":0.0,\"ticks\":\"\"}}],\"heatmap\":[{\"colorbar\":{\"outlinewidth\":0.0,\"ticks\":\"\"},\"colorscale\":[[0.0,\"#0d0887\"],[0.1111111111111111,\"#46039f\"],[0.2222222222222222,\"#7201a8\"],[0.3333333333333333,\"#9c179e\"],[0.4444444444444444,\"#bd3786\"],[0.5555555555555556,\"#d8576b\"],[0.6666666666666666,\"#ed7953\"],[0.7777777777777778,\"#fb9f3a\"],[0.8888888888888888,\"#fdca26\"],[1.0,\"#f0f921\"]]}],\"heatmapgl\":[{\"colorbar\":{\"outlinewidth\":0.0,\"ticks\":\"\"},\"colorscale\":[[0.0,\"#0d0887\"],[0.1111111111111111,\"#46039f\"],[0.2222222222222222,\"#7201a8\"],[0.3333333333333333,\"#9c179e\"],[0.4444444444444444,\"#bd3786\"],[0.5555555555555556,\"#d8576b\"],[0.6666666666666666,\"#ed7953\"],[0.7777777777777778,\"#fb9f3a\"],[0.8888888888888888,\"#fdca26\"],[1.0,\"#f0f921\"]]}],\"histogram\":[{\"marker\":{\"pattern\":{\"fillmode\":\"overlay\",\"size\":10,\"solidity\":0.2}}}],\"histogram2d\":[{\"colorbar\":{\"outlinewidth\":0.0,\"ticks\":\"\"},\"colorscale\":[[0.0,\"#0d0887\"],[0.1111111111111111,\"#46039f\"],[0.2222222222222222,\"#7201a8\"],[0.3333333333333333,\"#9c179e\"],[0.4444444444444444,\"#bd3786\"],[0.5555555555555556,\"#d8576b\"],[0.6666666666666666,\"#ed7953\"],[0.7777777777777778,\"#fb9f3a\"],[0.8888888888888888,\"#fdca26\"],[1.0,\"#f0f921\"]]}],\"histogram2dcontour\":[{\"colorbar\":{\"outlinewidth\":0.0,\"ticks\":\"\"},\"colorscale\":[[0.0,\"#0d0887\"],[0.1111111111111111,\"#46039f\"],[0.2222222222222222,\"#7201a8\"],[0.3333333333333333,\"#9c179e\"],[0.4444444444444444,\"#bd3786\"],[0.5555555555555556,\"#d8576b\"],[0.6666666666666666,\"#ed7953\"],[0.7777777777777778,\"#fb9f3a\"],[0.8888888888888888,\"#fdca26\"],[1.0,\"#f0f921\"]]}],\"mesh3d\":[{\"colorbar\":{\"outlinewidth\":0.0,\"ticks\":\"\"}}],\"parcoords\":[{\"line\":{\"colorbar\":{\"outlinewidth\":0.0,\"ticks\":\"\"}}}],\"pie\":[{\"automargin\":true}],\"scatter\":[{\"marker\":{\"colorbar\":{\"outlinewidth\":0.0,\"ticks\":\"\"}}}],\"scatter3d\":[{\"marker\":{\"colorbar\":{\"outlinewidth\":0.0,\"ticks\":\"\"}},\"line\":{\"colorbar\":{\"outlinewidth\":0.0,\"ticks\":\"\"}}}],\"scattercarpet\":[{\"marker\":{\"colorbar\":{\"outlinewidth\":0.0,\"ticks\":\"\"}}}],\"scattergeo\":[{\"marker\":{\"colorbar\":{\"outlinewidth\":0.0,\"ticks\":\"\"}}}],\"scattergl\":[{\"marker\":{\"colorbar\":{\"outlinewidth\":0.0,\"ticks\":\"\"}}}],\"scattermapbox\":[{\"marker\":{\"colorbar\":{\"outlinewidth\":0.0,\"ticks\":\"\"}}}],\"scatterpolar\":[{\"marker\":{\"colorbar\":{\"outlinewidth\":0.0,\"ticks\":\"\"}}}],\"scatterpolargl\":[{\"marker\":{\"colorbar\":{\"outlinewidth\":0.0,\"ticks\":\"\"}}}],\"scatterternary\":[{\"marker\":{\"colorbar\":{\"outlinewidth\":0.0,\"ticks\":\"\"}}}],\"surface\":[{\"colorbar\":{\"outlinewidth\":0.0,\"ticks\":\"\"},\"colorscale\":[[0.0,\"#0d0887\"],[0.1111111111111111,\"#46039f\"],[0.2222222222222222,\"#7201a8\"],[0.3333333333333333,\"#9c179e\"],[0.4444444444444444,\"#bd3786\"],[0.5555555555555556,\"#d8576b\"],[0.6666666666666666,\"#ed7953\"],[0.7777777777777778,\"#fb9f3a\"],[0.8888888888888888,\"#fdca26\"],[1.0,\"#f0f921\"]]}],\"table\":[{\"cells\":{\"fill\":{\"color\":\"rgba(235, 240, 248, 1.0)\"},\"line\":{\"color\":\"rgba(255, 255, 255, 1.0)\"}},\"header\":{\"fill\":{\"color\":\"rgba(200, 212, 227, 1.0)\"},\"line\":{\"color\":\"rgba(255, 255, 255, 1.0)\"}}}]}},\"xaxis\":{\"title\":{\"text\":\"Zeit\"}},\"yaxis\":{\"title\":{\"text\":\"Proteinkonzentration\"}}};\r\n",
       "            var config = {\"responsive\":true};\r\n",
       "            Plotly.newPlot('f9763792-be31-49f0-8095-9feb0deed54c', data, layout, config);\r\n",
       "});\r\n",
       "            };\r\n",
       "            if ((typeof(requirejs) !==  typeof(Function)) || (typeof(requirejs.config) !== typeof(Function))) {\r\n",
       "                var script = document.createElement(\"script\");\r\n",
       "                script.setAttribute(\"src\", \"https://cdnjs.cloudflare.com/ajax/libs/require.js/2.3.6/require.min.js\");\r\n",
       "                script.onload = function(){\r\n",
       "                    renderPlotly_f9763792be3149f080959feb0deed54c();\r\n",
       "                };\r\n",
       "                document.getElementsByTagName(\"head\")[0].appendChild(script);\r\n",
       "            }\r\n",
       "            else {\r\n",
       "                renderPlotly_f9763792be3149f080959feb0deed54c();\r\n",
       "            }\r\n",
       "</script>\r\n",
       "\n",
       "    \n",
       "</div>    \n"
      ]
     },
     "metadata": {},
     "output_type": "display_data"
    }
   ],
   "source": [
    "//Konstanten\n",
    "let alpha =    0.5  // Konstante für die Zunahme der Proteinkonzentration (nicht reguliert)\n",
    "let beta =    50.0  // Konstante für die Zunahme der Proteinkonzentration (reguliert)\n",
    "let gamma =   20.0  // Konstante für die Verringerung der Proteinkonzentration\n",
    "let K_d =     20.0  // Repressorkonzentration bei der die Proteinproduktion um die Hälfte reduziert ist\n",
    "let R =       10.0  // Repressorkonzentration\n",
    "\n",
    "\n",
    "// unsere DGL als  Modell (Model)\n",
    "let dP_dt : Model = \n",
    "    fun P t ->\n",
    "\n",
    "        let x = P[0] // Änderung in der Proteinmenge (unreguliert)\n",
    "        let Proteinkonzentration = P[1] // Änderung in der Proteinmenge (reguliert durch Repressor)\n",
    "        //Änderung der Proteinkonzentration ohne einen Repressor (nicht verändern bitte)\n",
    "        let x' = beta - (gamma * x)\n",
    "        // Änderung des Proteinkonzentration unter Einfluss von einem Repressor (hier die Gleichung einsetzen)\n",
    "        let Proteinkonzentration' = beta * 1. / (1. + (R / K_d)) - (gamma * Proteinkonzentration)\n",
    "\n",
    "        [| x'; Proteinkonzentration' |]\n",
    "\n",
    "//Startkonzentrationen\n",
    "let P0 = [| \n",
    "    0.0\n",
    "    0.0  \n",
    "|]\n",
    "\n",
    "// Simulation der Modelfuntkion\n",
    "let Ps = \n",
    "    modelContext.OdeInt(\n",
    "        1., // Startzeitpunkt\n",
    "        P0,\n",
    "        dP_dt\n",
    "    )\n",
    "    |> SolPoints.take 10 // Anzhal der Zeitpunkte\n",
    "    |> SolPoints.memorize \n",
    "\n",
    "//Graphische Darstellung der numerischen Lösung\n",
    "[\n",
    "    let proteins = Ps |> SolPoints.toPoints 1 \n",
    "    proteins\n",
    "    |> Chart.Spline \n",
    "    |> Chart.withTraceInfo(\"Unreguliert\");\n",
    "    let proteinsregulated = SolPoints.toPoints 2 Ps\n",
    "    proteinsregulated\n",
    "    |> Chart.Spline \n",
    "    |> Chart.withTraceInfo(\"Reguliert\");\n",
    "]\n",
    "\n",
    "|> Chart.combine\n",
    "|> Chart.withXAxisStyle(\"Zeit\")\n",
    "|> Chart.withYAxisStyle(\"Proteinkonzentration\")"
   ]
  },
  {
   "cell_type": "markdown",
   "metadata": {},
   "source": [
    "##### Aufgabe 3.11\n",
    "***Erklären Sie, wie sich der Repressor auf die Höhe des Gleichgewichtszustandes der Proteinkonzentration, $Proteinkonzentration_{GGW}$, und auf die Zeit die benötigt wird diesen zu erreichen auswirkt. Verändern sie dafür die Werte von \"R\" falls nötig. Beachten sie das die eingesetzten Werte reale Zahlen sein müssen und nicht ganze Zahlen. Falls sie die Werte verändern möchten, dann kopieren sie den oben stehnden Code Block und setzten sie diesen in den nachfolgenden Code Block ein. Verändern sie dann den Wert von R (R befindet sich im Bereich Konstanten).***\n"
   ]
  },
  {
   "cell_type": "code",
   "execution_count": null,
   "metadata": {
    "dotnet_interactive": {
     "language": "fsharp"
    },
    "vscode": {
     "languageId": "dotnet-interactive.fsharp"
    }
   },
   "outputs": [],
   "source": [
    "//Code hierrein kopieren"
   ]
  },
  {
   "cell_type": "markdown",
   "metadata": {},
   "source": [
    "In diesen Block die Antwort schreiben"
   ]
  },
  {
   "cell_type": "markdown",
   "metadata": {},
   "source": [
    "##### Aufgabe 3.12\n",
    "***In der Realität wird ein Gen schwach exprimiert, auch wenn die Expression des Gens durch einen Repressor gehemmt wird. Ergänze die Differenzialgleichungen für ein Protein dessen Produktion von einem Repressor inhibiert wird um einen Term $\\alpha$ der diese Grundgenexpression wiederspielt. Beachte dabei das $\\alpha$ nicht vom Repressor beeinflusst wird (setze $\\alpha$ als \"alpha\", ohne \"\", in die Gleichung ein).<br>\n",
    "Kopiere dafür den Code Block von oben in den nachfolgenden Code Block und ändere die Differenzialgleichung in diesem.***\n",
    "\n"
   ]
  },
  {
   "cell_type": "code",
   "execution_count": null,
   "metadata": {
    "dotnet_interactive": {
     "language": "fsharp"
    },
    "vscode": {
     "languageId": "dotnet-interactive.fsharp"
    }
   },
   "outputs": [],
   "source": [
    "//Code hierrein kopieren\n",
    "//Anschliesend die Differenzialgleichung um alpha erweitern. Bitte beachten das sie alpha auch zu der Liste der Konstanten hinzufügen müssen\n",
    "//und dementsprechend alpha auch einen Wert zuweisen müssen."
   ]
  },
  {
   "cell_type": "markdown",
   "metadata": {},
   "source": [
    "***Wie wirkt sich $\\alpha$ auf den Gleichgewichtszustand aus?***"
   ]
  },
  {
   "cell_type": "markdown",
   "metadata": {},
   "source": [
    "In diesen Block die Antwort schreiben"
   ]
  },
  {
   "cell_type": "markdown",
   "metadata": {},
   "source": [
    "Es folgt eine kurze Besprechung. \n",
    "\n",
    "-----------"
   ]
  },
  {
   "cell_type": "markdown",
   "metadata": {},
   "source": [
    "#### Aktivatoren\n",
    "\n",
    "Hier Formel"
   ]
  },
  {
   "cell_type": "markdown",
   "metadata": {},
   "source": [
    "##### Aufgabe 3.13\n",
    "***Stelle die Differenzialgleichung für die Proteinproduktion auf, die von einem Aktivator reguliert wird. Beachte dabei das ein Aktivator gegensätzlich zu einem Repressor wirkt und daher der Faktor mit dem $beta$ multipliziert werden muss $\\frac {D_{gebunden}}{D_{total}}$ ist. Dies bedeutet das sie folgende Gleichung in diese Form umwandeln müssen***\n",
    "$$k_{+}*(D_{gebunden}-D_{total})*R = k_{-}*D_{gebunden}$$\n",
    "***und anschließend in die Differenzialgleichung für die Proteinproduktion einsetzen müssen***\n",
    "$$ \\frac {dProteinkonzentration} {dt} = \\beta* \\frac {D_{gebunden}}{D_{total}}  - \\gamma*Proteinkonzentration$$\n",
    "\n",
    "***Falls sie Probleme mit dem Umformen haben, schauen sie sich noch einmal die Umformung für den Repressor an.***\n",
    "\n",
    "//////\n",
    "\n",
    "***Wie unterscheiden sich die Formeln, die die Genexpression unter Repressor- und Aktivatoreinfluss beschreiben? Versuchen Sie, diesen Unterschied biologisch zu begründen.***\n",
    "\n",
    "\n"
   ]
  },
  {
   "cell_type": "markdown",
   "metadata": {},
   "source": [
    "In diesen Block die Antwort schreiben"
   ]
  },
  {
   "cell_type": "markdown",
   "metadata": {},
   "source": [
    "##### Aufgabe 3.14\n",
    "\n",
    "***Setze die Differenzialgleichungen für ein Protein das von einem Aktivator und die Differenzialgleichungen für ein Protein das von einem Repressor reguliert wird in das folgende Model ein (beachten sie dabei, das sie die Proteinkonzentration für die Gleichung die von einem Repressor beeinflusst wird \"Proteinkonzentration2, ohne \"\", nennen und die Proteinkonzentration für die Gleichung die von einem Aktivator beeinflusst wird \"Proteinkonzentration3, ohne \"\", nennen. Bechte ebenfalls das  $\\beta \\textrm{ und } \\gamma$ als \"beta\" und \"gamma\", ohne \"\", eingesetzt werden müssen und nicht als Symbole, und das $K_{D}$ als K_d eingesetzt wird)***"
   ]
  },
  {
   "cell_type": "code",
   "execution_count": null,
   "metadata": {
    "dotnet_interactive": {
     "language": "fsharp"
    },
    "vscode": {
     "languageId": "dotnet-interactive.fsharp"
    }
   },
   "outputs": [
    {
     "data": {
      "text/html": [
       "\n",
       "<div>\n",
       "    <div id=\"f45ce74e-32f2-41b7-9897-8fe32cb1373d\"><!-- Plotly chart will be drawn inside this DIV --></div>\r\n",
       "<script type=\"text/javascript\">\r\n",
       "\r\n",
       "            var renderPlotly_f45ce74e32f241b798978fe32cb1373d = function() {\r\n",
       "            var fsharpPlotlyRequire = requirejs.config({context:'fsharp-plotly',paths:{plotly:'https://cdn.plot.ly/plotly-2.6.3.min'}}) || require;\r\n",
       "            fsharpPlotlyRequire(['plotly'], function(Plotly) {\r\n",
       "\r\n",
       "            var data = [{\"type\":\"scatter\",\"mode\":\"lines\",\"x\":[0.0,0.16754018383426839,0.30385368724207185,0.43426305380611857,0.5756163437764288,0.7343250454156267,0.9145558919561392,1.121130682724521,1.3608287762326567,1.6436030636662713],\"y\":[0.0,1.1345837080029038,1.562253362270299,1.771944138821064,1.8875148073136305,1.949129641156925,1.979340924994992,1.9926446706639112,1.9977797990128363,1.9994582936372451],\"marker\":{},\"line\":{\"shape\":\"spline\"},\"name\":\"Unreguliert\"},{\"type\":\"scatter\",\"mode\":\"lines\",\"x\":[0.0,0.16754018383426839,0.30385368724207185,0.43426305380611857,0.5756163437764288,0.7343250454156267,0.9145558919561392,1.121130682724521,1.3608287762326567,1.6436030636662713],\"y\":[0.0,0.1890972846671507,0.26037556037838316,0.29532402313684397,0.3145858012189384,0.32485494019282085,0.32989015416583206,0.33210744511065193,0.33296329983547274,0.3332430489395409],\"marker\":{},\"line\":{\"shape\":\"spline\"},\"name\":\"Repressor\"},{\"type\":\"scatter\",\"mode\":\"lines\",\"x\":[0.0,0.16754018383426839,0.30385368724207185,0.43426305380611857,0.5756163437764288,0.7343250454156267,0.9145558919561392,1.121130682724521,1.3608287762326567,1.6436030636662713],\"y\":[0.0,0.9454864233357532,1.3018778018919157,1.47662011568422,1.572929006094692,1.624274700964104,1.6494507708291601,1.6605372255532596,1.6648164991773635,1.6662152446977043],\"marker\":{},\"line\":{\"shape\":\"spline\"},\"name\":\"Aktivator\"}];\r\n",
       "            var layout = {\"width\":600,\"height\":600,\"template\":{\"layout\":{\"title\":{\"x\":0.05},\"font\":{\"color\":\"rgba(42, 63, 95, 1.0)\"},\"paper_bgcolor\":\"rgba(255, 255, 255, 1.0)\",\"plot_bgcolor\":\"rgba(229, 236, 246, 1.0)\",\"autotypenumbers\":\"strict\",\"colorscale\":{\"diverging\":[[0.0,\"#8e0152\"],[0.1,\"#c51b7d\"],[0.2,\"#de77ae\"],[0.3,\"#f1b6da\"],[0.4,\"#fde0ef\"],[0.5,\"#f7f7f7\"],[0.6,\"#e6f5d0\"],[0.7,\"#b8e186\"],[0.8,\"#7fbc41\"],[0.9,\"#4d9221\"],[1.0,\"#276419\"]],\"sequential\":[[0.0,\"#0d0887\"],[0.1111111111111111,\"#46039f\"],[0.2222222222222222,\"#7201a8\"],[0.3333333333333333,\"#9c179e\"],[0.4444444444444444,\"#bd3786\"],[0.5555555555555556,\"#d8576b\"],[0.6666666666666666,\"#ed7953\"],[0.7777777777777778,\"#fb9f3a\"],[0.8888888888888888,\"#fdca26\"],[1.0,\"#f0f921\"]],\"sequentialminus\":[[0.0,\"#0d0887\"],[0.1111111111111111,\"#46039f\"],[0.2222222222222222,\"#7201a8\"],[0.3333333333333333,\"#9c179e\"],[0.4444444444444444,\"#bd3786\"],[0.5555555555555556,\"#d8576b\"],[0.6666666666666666,\"#ed7953\"],[0.7777777777777778,\"#fb9f3a\"],[0.8888888888888888,\"#fdca26\"],[1.0,\"#f0f921\"]]},\"hovermode\":\"closest\",\"hoverlabel\":{\"align\":\"left\"},\"coloraxis\":{\"colorbar\":{\"outlinewidth\":0.0,\"ticks\":\"\"}},\"geo\":{\"showland\":true,\"landcolor\":\"rgba(229, 236, 246, 1.0)\",\"showlakes\":true,\"lakecolor\":\"rgba(255, 255, 255, 1.0)\",\"subunitcolor\":\"rgba(255, 255, 255, 1.0)\",\"bgcolor\":\"rgba(255, 255, 255, 1.0)\"},\"mapbox\":{\"style\":\"light\"},\"polar\":{\"bgcolor\":\"rgba(229, 236, 246, 1.0)\",\"radialaxis\":{\"linecolor\":\"rgba(255, 255, 255, 1.0)\",\"gridcolor\":\"rgba(255, 255, 255, 1.0)\",\"ticks\":\"\"},\"angularaxis\":{\"linecolor\":\"rgba(255, 255, 255, 1.0)\",\"gridcolor\":\"rgba(255, 255, 255, 1.0)\",\"ticks\":\"\"}},\"scene\":{\"xaxis\":{\"ticks\":\"\",\"linecolor\":\"rgba(255, 255, 255, 1.0)\",\"gridcolor\":\"rgba(255, 255, 255, 1.0)\",\"gridwidth\":2.0,\"zerolinecolor\":\"rgba(255, 255, 255, 1.0)\",\"backgroundcolor\":\"rgba(229, 236, 246, 1.0)\",\"showbackground\":true},\"yaxis\":{\"ticks\":\"\",\"linecolor\":\"rgba(255, 255, 255, 1.0)\",\"gridcolor\":\"rgba(255, 255, 255, 1.0)\",\"gridwidth\":2.0,\"zerolinecolor\":\"rgba(255, 255, 255, 1.0)\",\"backgroundcolor\":\"rgba(229, 236, 246, 1.0)\",\"showbackground\":true},\"zaxis\":{\"ticks\":\"\",\"linecolor\":\"rgba(255, 255, 255, 1.0)\",\"gridcolor\":\"rgba(255, 255, 255, 1.0)\",\"gridwidth\":2.0,\"zerolinecolor\":\"rgba(255, 255, 255, 1.0)\",\"backgroundcolor\":\"rgba(229, 236, 246, 1.0)\",\"showbackground\":true}},\"ternary\":{\"aaxis\":{\"ticks\":\"\",\"linecolor\":\"rgba(255, 255, 255, 1.0)\",\"gridcolor\":\"rgba(255, 255, 255, 1.0)\"},\"baxis\":{\"ticks\":\"\",\"linecolor\":\"rgba(255, 255, 255, 1.0)\",\"gridcolor\":\"rgba(255, 255, 255, 1.0)\"},\"caxis\":{\"ticks\":\"\",\"linecolor\":\"rgba(255, 255, 255, 1.0)\",\"gridcolor\":\"rgba(255, 255, 255, 1.0)\"},\"bgcolor\":\"rgba(229, 236, 246, 1.0)\"},\"xaxis\":{\"title\":{\"standoff\":15},\"ticks\":\"\",\"automargin\":true,\"linecolor\":\"rgba(255, 255, 255, 1.0)\",\"gridcolor\":\"rgba(255, 255, 255, 1.0)\",\"zerolinecolor\":\"rgba(255, 255, 255, 1.0)\",\"zerolinewidth\":2.0},\"yaxis\":{\"title\":{\"standoff\":15},\"ticks\":\"\",\"automargin\":true,\"linecolor\":\"rgba(255, 255, 255, 1.0)\",\"gridcolor\":\"rgba(255, 255, 255, 1.0)\",\"zerolinecolor\":\"rgba(255, 255, 255, 1.0)\",\"zerolinewidth\":2.0},\"annotationdefaults\":{\"arrowcolor\":\"#2a3f5f\",\"arrowhead\":0,\"arrowwidth\":1},\"shapedefaults\":{\"line\":{\"color\":\"rgba(42, 63, 95, 1.0)\"}},\"colorway\":[\"rgba(99, 110, 250, 1.0)\",\"rgba(239, 85, 59, 1.0)\",\"rgba(0, 204, 150, 1.0)\",\"rgba(171, 99, 250, 1.0)\",\"rgba(255, 161, 90, 1.0)\",\"rgba(25, 211, 243, 1.0)\",\"rgba(255, 102, 146, 1.0)\",\"rgba(182, 232, 128, 1.0)\",\"rgba(255, 151, 255, 1.0)\",\"rgba(254, 203, 82, 1.0)\"]},\"data\":{\"bar\":[{\"marker\":{\"line\":{\"color\":\"rgba(229, 236, 246, 1.0)\",\"width\":0.5},\"pattern\":{\"fillmode\":\"overlay\",\"size\":10,\"solidity\":0.2}},\"error_x\":{\"color\":\"rgba(42, 63, 95, 1.0)\"},\"error_y\":{\"color\":\"rgba(42, 63, 95, 1.0)\"}}],\"barpolar\":[{\"marker\":{\"line\":{\"color\":\"rgba(229, 236, 246, 1.0)\",\"width\":0.5},\"pattern\":{\"fillmode\":\"overlay\",\"size\":10,\"solidity\":0.2}}}],\"carpet\":[{\"aaxis\":{\"linecolor\":\"rgba(255, 255, 255, 1.0)\",\"gridcolor\":\"rgba(255, 255, 255, 1.0)\",\"endlinecolor\":\"rgba(42, 63, 95, 1.0)\",\"minorgridcolor\":\"rgba(255, 255, 255, 1.0)\",\"startlinecolor\":\"rgba(42, 63, 95, 1.0)\"},\"baxis\":{\"linecolor\":\"rgba(255, 255, 255, 1.0)\",\"gridcolor\":\"rgba(255, 255, 255, 1.0)\",\"endlinecolor\":\"rgba(42, 63, 95, 1.0)\",\"minorgridcolor\":\"rgba(255, 255, 255, 1.0)\",\"startlinecolor\":\"rgba(42, 63, 95, 1.0)\"}}],\"choropleth\":[{\"colorbar\":{\"outlinewidth\":0.0,\"ticks\":\"\"},\"colorscale\":[[0.0,\"#0d0887\"],[0.1111111111111111,\"#46039f\"],[0.2222222222222222,\"#7201a8\"],[0.3333333333333333,\"#9c179e\"],[0.4444444444444444,\"#bd3786\"],[0.5555555555555556,\"#d8576b\"],[0.6666666666666666,\"#ed7953\"],[0.7777777777777778,\"#fb9f3a\"],[0.8888888888888888,\"#fdca26\"],[1.0,\"#f0f921\"]]}],\"contour\":[{\"colorbar\":{\"outlinewidth\":0.0,\"ticks\":\"\"},\"colorscale\":[[0.0,\"#0d0887\"],[0.1111111111111111,\"#46039f\"],[0.2222222222222222,\"#7201a8\"],[0.3333333333333333,\"#9c179e\"],[0.4444444444444444,\"#bd3786\"],[0.5555555555555556,\"#d8576b\"],[0.6666666666666666,\"#ed7953\"],[0.7777777777777778,\"#fb9f3a\"],[0.8888888888888888,\"#fdca26\"],[1.0,\"#f0f921\"]]}],\"contourcarpet\":[{\"colorbar\":{\"outlinewidth\":0.0,\"ticks\":\"\"}}],\"heatmap\":[{\"colorbar\":{\"outlinewidth\":0.0,\"ticks\":\"\"},\"colorscale\":[[0.0,\"#0d0887\"],[0.1111111111111111,\"#46039f\"],[0.2222222222222222,\"#7201a8\"],[0.3333333333333333,\"#9c179e\"],[0.4444444444444444,\"#bd3786\"],[0.5555555555555556,\"#d8576b\"],[0.6666666666666666,\"#ed7953\"],[0.7777777777777778,\"#fb9f3a\"],[0.8888888888888888,\"#fdca26\"],[1.0,\"#f0f921\"]]}],\"heatmapgl\":[{\"colorbar\":{\"outlinewidth\":0.0,\"ticks\":\"\"},\"colorscale\":[[0.0,\"#0d0887\"],[0.1111111111111111,\"#46039f\"],[0.2222222222222222,\"#7201a8\"],[0.3333333333333333,\"#9c179e\"],[0.4444444444444444,\"#bd3786\"],[0.5555555555555556,\"#d8576b\"],[0.6666666666666666,\"#ed7953\"],[0.7777777777777778,\"#fb9f3a\"],[0.8888888888888888,\"#fdca26\"],[1.0,\"#f0f921\"]]}],\"histogram\":[{\"marker\":{\"pattern\":{\"fillmode\":\"overlay\",\"size\":10,\"solidity\":0.2}}}],\"histogram2d\":[{\"colorbar\":{\"outlinewidth\":0.0,\"ticks\":\"\"},\"colorscale\":[[0.0,\"#0d0887\"],[0.1111111111111111,\"#46039f\"],[0.2222222222222222,\"#7201a8\"],[0.3333333333333333,\"#9c179e\"],[0.4444444444444444,\"#bd3786\"],[0.5555555555555556,\"#d8576b\"],[0.6666666666666666,\"#ed7953\"],[0.7777777777777778,\"#fb9f3a\"],[0.8888888888888888,\"#fdca26\"],[1.0,\"#f0f921\"]]}],\"histogram2dcontour\":[{\"colorbar\":{\"outlinewidth\":0.0,\"ticks\":\"\"},\"colorscale\":[[0.0,\"#0d0887\"],[0.1111111111111111,\"#46039f\"],[0.2222222222222222,\"#7201a8\"],[0.3333333333333333,\"#9c179e\"],[0.4444444444444444,\"#bd3786\"],[0.5555555555555556,\"#d8576b\"],[0.6666666666666666,\"#ed7953\"],[0.7777777777777778,\"#fb9f3a\"],[0.8888888888888888,\"#fdca26\"],[1.0,\"#f0f921\"]]}],\"mesh3d\":[{\"colorbar\":{\"outlinewidth\":0.0,\"ticks\":\"\"}}],\"parcoords\":[{\"line\":{\"colorbar\":{\"outlinewidth\":0.0,\"ticks\":\"\"}}}],\"pie\":[{\"automargin\":true}],\"scatter\":[{\"marker\":{\"colorbar\":{\"outlinewidth\":0.0,\"ticks\":\"\"}}}],\"scatter3d\":[{\"marker\":{\"colorbar\":{\"outlinewidth\":0.0,\"ticks\":\"\"}},\"line\":{\"colorbar\":{\"outlinewidth\":0.0,\"ticks\":\"\"}}}],\"scattercarpet\":[{\"marker\":{\"colorbar\":{\"outlinewidth\":0.0,\"ticks\":\"\"}}}],\"scattergeo\":[{\"marker\":{\"colorbar\":{\"outlinewidth\":0.0,\"ticks\":\"\"}}}],\"scattergl\":[{\"marker\":{\"colorbar\":{\"outlinewidth\":0.0,\"ticks\":\"\"}}}],\"scattermapbox\":[{\"marker\":{\"colorbar\":{\"outlinewidth\":0.0,\"ticks\":\"\"}}}],\"scatterpolar\":[{\"marker\":{\"colorbar\":{\"outlinewidth\":0.0,\"ticks\":\"\"}}}],\"scatterpolargl\":[{\"marker\":{\"colorbar\":{\"outlinewidth\":0.0,\"ticks\":\"\"}}}],\"scatterternary\":[{\"marker\":{\"colorbar\":{\"outlinewidth\":0.0,\"ticks\":\"\"}}}],\"surface\":[{\"colorbar\":{\"outlinewidth\":0.0,\"ticks\":\"\"},\"colorscale\":[[0.0,\"#0d0887\"],[0.1111111111111111,\"#46039f\"],[0.2222222222222222,\"#7201a8\"],[0.3333333333333333,\"#9c179e\"],[0.4444444444444444,\"#bd3786\"],[0.5555555555555556,\"#d8576b\"],[0.6666666666666666,\"#ed7953\"],[0.7777777777777778,\"#fb9f3a\"],[0.8888888888888888,\"#fdca26\"],[1.0,\"#f0f921\"]]}],\"table\":[{\"cells\":{\"fill\":{\"color\":\"rgba(235, 240, 248, 1.0)\"},\"line\":{\"color\":\"rgba(255, 255, 255, 1.0)\"}},\"header\":{\"fill\":{\"color\":\"rgba(200, 212, 227, 1.0)\"},\"line\":{\"color\":\"rgba(255, 255, 255, 1.0)\"}}}]}},\"xaxis\":{\"title\":{\"text\":\"Zeit\"}},\"yaxis\":{\"title\":{\"text\":\"Proteinkonzentration\"}}};\r\n",
       "            var config = {\"responsive\":true};\r\n",
       "            Plotly.newPlot('f45ce74e-32f2-41b7-9897-8fe32cb1373d', data, layout, config);\r\n",
       "});\r\n",
       "            };\r\n",
       "            if ((typeof(requirejs) !==  typeof(Function)) || (typeof(requirejs.config) !== typeof(Function))) {\r\n",
       "                var script = document.createElement(\"script\");\r\n",
       "                script.setAttribute(\"src\", \"https://cdnjs.cloudflare.com/ajax/libs/require.js/2.3.6/require.min.js\");\r\n",
       "                script.onload = function(){\r\n",
       "                    renderPlotly_f45ce74e32f241b798978fe32cb1373d();\r\n",
       "                };\r\n",
       "                document.getElementsByTagName(\"head\")[0].appendChild(script);\r\n",
       "            }\r\n",
       "            else {\r\n",
       "                renderPlotly_f45ce74e32f241b798978fe32cb1373d();\r\n",
       "            }\r\n",
       "</script>\r\n",
       "\n",
       "    \n",
       "</div>    \n"
      ]
     },
     "metadata": {},
     "output_type": "display_data"
    }
   ],
   "source": [
    "//Konstanten\n",
    "let beta =    10.  // Konstante für die Zunahme der Proteinkonzentration\n",
    "let gamma =   5.   // Konstante für die Verringerung der Proteinkonzentration\n",
    "let K_d =     2.   // Repressorkonzentration bei der die Proteinproduktion um die Hälfte reduziert ist\n",
    "let R =       10.  // Repressorkonzentration\n",
    "let A =       10.  // Aktivatorexpression \n",
    "\n",
    "// unsere DGL als  Modell (Model)\n",
    "let dP_dt : Model = \n",
    "    fun P t ->\n",
    "\n",
    "        let Proteinkonzentration1 = P[0] // Änderung in der Proteinmenge (unreguliert)\n",
    "        let Proteinkonzentration2 = P[1] // Änderung in der Proteinmenge (reguliert durch Repressor)\n",
    "        let Proteinkonzentration3 = P[2] // Änderung in der Proteinmenge (reguliert durch Aktivator)\n",
    "        //Änderung der Proteinkonzentration ohne einen Repressor\n",
    "        let Proteinkonzentration1' = beta - (gamma*Proteinkonzentration1)\n",
    "        // Änderung des Proteinkonzentration unter Einfluss von einem Repressor (hier die Gleichung für die Proteinproduktion reguliert durch einen Repressor einfügen)\n",
    "        let Proteinkonzentration2' = beta * 1./(1.+(R/K_d)) - (gamma*Proteinkonzentration2)\n",
    "        // Änderung des Proteinkonzentration unter Einfluss von einem Aktivator (hier die Gleichung für die Proteinproduktion reguliert durch einen Aktivator einfügen)\n",
    "        let Proteinkonzentration3' = beta * 1./(1.+(K_d/A)) - (gamma*Proteinkonzentration3)\n",
    "\n",
    "        [| Proteinkonzentration1'; Proteinkonzentration2';Proteinkonzentration3' |]\n",
    "\n",
    "//Startkonzentrationen\n",
    "let P0 = [| \n",
    "    0.0\n",
    "    0.0\n",
    "    0.0  \n",
    "|]\n",
    "\n",
    "// Simulation der Modelfuntkion\n",
    "let Ps = \n",
    "    modelContext.OdeInt(\n",
    "        0., // Startzeitpunkt\n",
    "        P0,\n",
    "        dP_dt\n",
    "    )\n",
    "    |> SolPoints.take 10 // Anzahl der Zeitpunkte\n",
    "    |> SolPoints.memorize \n",
    "\n",
    "//Graphische Darstellung der numerischen Lösung\n",
    "[\n",
    "    let proteins = Ps |> SolPoints.toPoints 1 \n",
    "    proteins |> Chart.Spline \n",
    "    |> Chart.withTraceInfo(\"Unreguliert\");\n",
    "    let proteinsregulatedbyrep = Ps |> SolPoints.toPoints 2 \n",
    "    proteinsregulatedbyrep|> Chart.Spline \n",
    "    |> Chart.withTraceInfo(\"Repressor\");\n",
    "    let proteinsregulatedbyakt = Ps |> SolPoints.toPoints 3 \n",
    "    proteinsregulatedbyakt|> Chart.Spline \n",
    "    |> Chart.withTraceInfo(\"Aktivator\");\n",
    "]\n",
    "\n",
    "|> Chart.combine\n",
    "|> Chart.withXAxisStyle(\"Zeit\")\n",
    "|> Chart.withYAxisStyle(\"Proteinkonzentration\")"
   ]
  },
  {
   "cell_type": "markdown",
   "metadata": {},
   "source": [
    "##### Aufgabe 3.15\n",
    "***Aktivator und Repressor führen beide zu einer Verringerung der maximalen Genexpression. Wenn allerdings beide zum selben Ergebnis führen, warum gibt es dann beides? Erklären sie, warum mache Gene eher von einem Aktivator reguliert werden sollten als von einem Repressor und umgekehrt.***\n",
    "\n",
    "***Nutzen sie für die beantwortung dieser Frage Literaturquellen, falls sie die Antwort nicht wissen sollten.\n",
    "Sie können selber nach passenden Literaturquellen suchen oder die nachfolgenden zwei nutzen:***<br>\n",
    "https://www.ncbi.nlm.nih.gov/pmc/articles/PMC388476/ <br>\n",
    "https://www.pnas.org/doi/full/10.1073/pnas.0506610103\n",
    "\n",
    "***Anmerkungen: Die Antworten die beide Quellen auf die Frage geben unterscheidet sich, es ist wissenschaftlich bisher noch nicht geklärt welche der Antworten die korrekte ist (es ist ausreichend wenn sie eine der beiden Antworten geben).***\n"
   ]
  },
  {
   "cell_type": "markdown",
   "metadata": {},
   "source": [
    "Hier die Antwort eintragen."
   ]
  },
  {
   "cell_type": "markdown",
   "metadata": {},
   "source": [
    "Es folgt eine kurze Besprechung. Falls sie zu schnell vorangekommen sind, schauen sie sich bitte die zweite Quelle und Erklärungsmöglichkeit an."
   ]
  },
  {
   "cell_type": "markdown",
   "metadata": {},
   "source": [
    "### Autoregulation\n",
    "\n",
    "#### Negative Autoregulation\n",
    "\n",
    "Neben der Fähigkeit von Repressoren die Produktion von bestimmten Proteinen zu regulieren, sind viele auch dazu in der Lage sich selbst zu regulieren. Ein Beispiel dafür ist der Repressor LacI, der nicht nur die Expression des Lac Operons begrenzt sondern auch seine eigene. Dies wird im folgenden negative Autoregulation genannt, ein anderer Namen dafür ist auch negativer Feedbackloop (wobei dieser Ausdruck allgemeiner ist und auch für mehrere Proteine verwendet werden kann). Die Differenzialgleichung, die diesen Prozess beschreibt ist analog zu der von der Proteinkonzentration die von einem Repressor reguliert wird, nur das die Repressorkonzentration ersetzt wird mit der Proteinkonzentration, also\n",
    "$$ \\frac {dProteinkonzentration} {dt} = \\beta* \\frac {1}{1+ \\frac {Proteinkonzentration}{K_{D}}}  - \\gamma*Proteinkonzentration$$\n",
    "\n",
    "Aber warum sollte ein Protein seine eigene Produktion durch Autoregulation dämpfen? Wäre es nicht deutlich einfach die maximale Reproduktionsrate $\\beta$ zu verringern, da eine Verringerung von $\\beta$ (oder eine Zunahme von $\\gamma$) zu einem geringerem $Proteinkonezntation_{GGW}$ führt (wie bereits bei Frage 2 bearbeitet)? Um diese Frage zu beantworten ist es nötig sich die Zeit anzusehen die benötigt wird um das $Proteinkonezntation_{GGW}$ zu erreichen. Das folgende Model zeigt wie sich die Proteinkonzentration, für ein Protein das ohne weitere Einflüße expremiert wird (also ohne Eigenregulation, oder Repressor/ Aktivator), verhält für verschiedene Werte von $\\beta$ und $\\gamma$. Beachte dabei das wenn $\\beta$ varriert wird (Graph 1) gamma konstant bleibt, und wenn $\\gamma$ varriert wird (Graph 2)  $\\beta$ konstant bleibt.\n"
   ]
  },
  {
   "cell_type": "code",
   "execution_count": null,
   "metadata": {
    "dotnet_interactive": {
     "language": "fsharp"
    },
    "vscode": {
     "languageId": "dotnet-interactive.fsharp"
    }
   },
   "outputs": [
    {
     "data": {
      "text/html": [
       "\n",
       "<div>\n",
       "    <div id=\"4ccf7133-451d-4e63-bad6-cbc737d601d5\"><!-- Plotly chart will be drawn inside this DIV --></div>\r\n",
       "<script type=\"text/javascript\">\r\n",
       "\r\n",
       "            var renderPlotly_4ccf7133451d4e63bad6cbc737d601d5 = function() {\r\n",
       "            var fsharpPlotlyRequire = requirejs.config({context:'fsharp-plotly',paths:{plotly:'https://cdn.plot.ly/plotly-2.6.3.min'}}) || require;\r\n",
       "            fsharpPlotlyRequire(['plotly'], function(Plotly) {\r\n",
       "\r\n",
       "            var data = [{\"type\":\"scatter\",\"mode\":\"lines\",\"x\":[0.0,0.05818463850034437,0.10801321248431038,0.15718845656729766,0.21174404887888298,0.27432484889493725,0.3470308344122129,0.43260596039447397,0.5350363651682183,0.6598265072245851,0.8132648459392408,1.0008467438446806,1.2273728392459453,1.4984201560713353,1.821506213637569],\"y\":[0.0,0.025954913620068906,0.04385311878855047,0.05834301266317583,0.07141133910933947,0.08327859667085524,0.0938071077301669,0.10284884618814477,0.11029529474345638,0.11607366590202539,0.12016805108975773,0.1227182990358915,0.12407794692207506,0.12468810868310008,0.12491422823205672],\"marker\":{},\"line\":{\"shape\":\"spline\"},\"name\":\"beta = 0.5\",\"xaxis\":\"x\",\"yaxis\":\"y\"},{\"type\":\"scatter\",\"mode\":\"lines\",\"x\":[0.0,0.05818463850034437,0.10801321248431038,0.15718845656729766,0.21174404887888298,0.27432484889493725,0.3470308344122129,0.43260596039447397,0.5350363651682183,0.6598265072245851,0.8132648459392408,1.0008467438446806,1.2273728392459453,1.4984201560713353,1.821506213637569],\"y\":[0.0,0.05190982724013781,0.08770623757710094,0.11668602532635167,0.14282267821867894,0.16655719334171049,0.1876142154603338,0.20569769237628954,0.22059058948691276,0.23214733180405078,0.24033610217951545,0.245436598071783,0.24815589384415013,0.24937621736620016,0.24982845646411345],\"marker\":{},\"line\":{\"shape\":\"spline\"},\"name\":\"beta = 1.0\",\"xaxis\":\"x\",\"yaxis\":\"y\"},{\"type\":\"scatter\",\"mode\":\"lines\",\"x\":[0.0,0.05818463850034437,0.10801321248431038,0.15718845656729766,0.21174404887888298,0.27432484889493725,0.3470308344122129,0.43260596039447397,0.5350363651682183,0.6598265072245851,0.8132648459392408,1.0008467438446806,1.2273728392459453,1.4984201560713353,1.821506213637569],\"y\":[0.0,0.10381965448027562,0.17541247515420189,0.23337205065270333,0.2856453564373579,0.33311438668342097,0.3752284309206676,0.4113953847525791,0.4411811789738255,0.46429466360810157,0.4806722043590309,0.490873196143566,0.49631178768830025,0.49875243473240033,0.4996569129282269],\"marker\":{\"color\":\"rgba(34, 139, 34, 1.0)\"},\"line\":{\"shape\":\"spline\"},\"name\":\"beta = 2.0\",\"xaxis\":\"x\",\"yaxis\":\"y\"},{\"type\":\"scatter\",\"mode\":\"lines\",\"x\":[0.0,0.05818463850034437,0.10801321248431038,0.15718845656729766,0.21174404887888298,0.27432484889493725,0.3470308344122129,0.43260596039447397,0.5350363651682183,0.6598265072245851,0.8132648459392408,1.0008467438446806,1.2273728392459453,1.4984201560713353,1.821506213637569],\"y\":[0.0,0.20763930896055124,0.35082495030840377,0.46674410130540667,0.5712907128747158,0.6662287733668419,0.7504568618413352,0.8227907695051582,0.882362357947651,0.9285893272162031,0.9613444087180618,0.981746392287132,0.9926235753766005,0.9975048694648007,0.9993138258564538],\"marker\":{},\"line\":{\"shape\":\"spline\"},\"name\":\"beta = 4.0\",\"xaxis\":\"x\",\"yaxis\":\"y\"},{\"type\":\"scatter\",\"mode\":\"markers\",\"x\":[0.17328679513998632],\"y\":[0.0625],\"marker\":{\"color\":\"rgba(0, 0, 255, 1.0)\"},\"line\":{},\"name\":\"beta = 0.5\",\"xaxis\":\"x\",\"yaxis\":\"y\"},{\"type\":\"scatter\",\"mode\":\"markers\",\"x\":[0.17328679513998632],\"y\":[0.125],\"marker\":{\"color\":\"rgba(255, 0, 0, 1.0)\"},\"line\":{},\"name\":\"beta = 1.0\",\"xaxis\":\"x\",\"yaxis\":\"y\"},{\"type\":\"scatter\",\"mode\":\"markers\",\"x\":[0.17328679513998632],\"y\":[0.25],\"marker\":{\"color\":\"rgba(0, 128, 0, 1.0)\"},\"line\":{},\"name\":\"beta = 2.0\",\"xaxis\":\"x\",\"yaxis\":\"y\"},{\"type\":\"scatter\",\"mode\":\"markers\",\"x\":[0.17328679513998632],\"y\":[0.5],\"marker\":{\"color\":\"rgba(128, 0, 128, 1.0)\"},\"line\":{},\"name\":\"beta = 4.0\",\"xaxis\":\"x\",\"yaxis\":\"y\"},{\"type\":\"scatter\",\"mode\":\"lines\",\"x\":[0.0,0.05818463850034437,0.10801321248431038,0.15718845656729766,0.21174404887888298,0.27432484889493725,0.3470308344122129,0.43260596039447397,0.5350363651682183,0.6598265072245851,0.8132648459392408,1.0008467438446806,1.2273728392459453,1.4984201560713353,1.821506213637569],\"y\":[0.0,0.10985354830298563,0.1942859897403927,0.26975626259196517,0.3452410317998292,0.4222706075443229,0.5004570363731689,0.5790376698750546,0.6570164338261836,0.7327720013107726,0.8033893350578291,0.8648937667114892,0.9141150629630407,0.9500555115236421,0.9738267677657519],\"marker\":{\"color\":\"rgba(148, 0, 211, 1.0)\"},\"line\":{\"shape\":\"spline\"},\"name\":\"gamma = 2.\",\"xaxis\":\"x2\",\"yaxis\":\"y2\"},{\"type\":\"scatter\",\"mode\":\"lines\",\"x\":[0.0,0.05818463850034437,0.10801321248431038,0.15718845656729766,0.21174404887888298,0.27432484889493725,0.3470308344122129,0.43260596039447397,0.5350363651682183,0.6598265072245851,0.8132648459392408,1.0008467438446806,1.2273728392459453,1.4984201560713353,1.821506213637569],\"y\":[0.0,0.10381965448027562,0.17541247515420189,0.23337205065270333,0.2856453564373579,0.33311438668342097,0.3752284309206676,0.4113953847525791,0.4411811789738255,0.46429466360810157,0.4806722043590309,0.490873196143566,0.49631178768830025,0.49875243473240033,0.4996569129282269],\"marker\":{\"color\":\"rgba(34, 139, 34, 1.0)\"},\"line\":{\"shape\":\"spline\"},\"name\":\"gamma = 4.\",\"xaxis\":\"x2\",\"yaxis\":\"y2\"},{\"type\":\"scatter\",\"mode\":\"lines\",\"x\":[0.0,0.05818463850034437,0.10801321248431038,0.15718845656729766,0.21174404887888298,0.27432484889493725,0.3470308344122129,0.43260596039447397,0.5350363651682183,0.6598265072245851,0.8132648459392408,1.0008467438446806,1.2273728392459453,1.4984201560713353,1.821506213637569],\"y\":[0.0,0.0930412592207733,0.1446430613037635,0.17890964352900654,0.2040521825901601,0.22214928142099788,0.2344321372199477,0.24214928291960605,0.2465403499580324,0.2487250007366873,0.24962608354655372,0.2499161482076163,0.249985852934533,0.24999809130107967,0.24999971609822097],\"marker\":{\"color\":\"rgba(255, 0, 0, 1.0)\"},\"line\":{\"shape\":\"spline\"},\"name\":\"gamma = 8.\",\"xaxis\":\"x2\",\"yaxis\":\"y2\"},{\"type\":\"scatter\",\"mode\":\"lines\",\"x\":[0.0,0.05818463850034437,0.10801321248431038,0.15718845656729766,0.21174404887888298,0.27432484889493725,0.3470308344122129,0.43260596039447397,0.5350363651682183,0.6598265072245851,0.8132648459392408,1.0008467438446806,1.2273728392459453,1.4984201560713353,1.821506213637569],\"y\":[0.0,0.07572567978769201,0.10279874933327757,0.11489180642062191,0.12077729904308021,0.12344840285406095,0.1245149568361754,0.12487635316219278,0.12497567660850875,0.12499642491005888,0.12499951195089147,0.12499987221054877,0.12499989518282312,0.1249997123993377,0.12499740766888073],\"marker\":{\"color\":\"rgba(0, 0, 255, 1.0)\"},\"line\":{\"shape\":\"spline\"},\"name\":\"gamma = 16.\",\"xaxis\":\"x2\",\"yaxis\":\"y2\"},{\"type\":\"scatter\",\"mode\":\"markers\",\"x\":[0.34657359027997264],\"y\":[0.5],\"marker\":{\"color\":\"rgba(148, 0, 211, 1.0)\"},\"line\":{},\"name\":\"gamma = 2.\",\"xaxis\":\"x2\",\"yaxis\":\"y2\"},{\"type\":\"scatter\",\"mode\":\"markers\",\"x\":[0.17328679513998632],\"y\":[0.25],\"marker\":{\"color\":\"rgba(0, 128, 0, 1.0)\"},\"line\":{},\"name\":\"gamma = 4.0\",\"xaxis\":\"x2\",\"yaxis\":\"y2\"},{\"type\":\"scatter\",\"mode\":\"markers\",\"x\":[0.08664339756999316],\"y\":[0.125],\"marker\":{\"color\":\"rgba(255, 0, 0, 1.0)\"},\"line\":{},\"name\":\"gamma = 8.0\",\"xaxis\":\"x2\",\"yaxis\":\"y2\"},{\"type\":\"scatter\",\"mode\":\"markers\",\"x\":[0.04332169878499658],\"y\":[0.0625],\"marker\":{\"color\":\"rgba(0, 0, 255, 1.0)\"},\"line\":{},\"name\":\"gamma = 16.0\",\"xaxis\":\"x2\",\"yaxis\":\"y2\"}];\r\n",
       "            var layout = {\"width\":1000,\"height\":500,\"template\":{\"layout\":{\"title\":{\"x\":0.05},\"font\":{\"color\":\"rgba(42, 63, 95, 1.0)\"},\"paper_bgcolor\":\"rgba(255, 255, 255, 1.0)\",\"plot_bgcolor\":\"rgba(229, 236, 246, 1.0)\",\"autotypenumbers\":\"strict\",\"colorscale\":{\"diverging\":[[0.0,\"#8e0152\"],[0.1,\"#c51b7d\"],[0.2,\"#de77ae\"],[0.3,\"#f1b6da\"],[0.4,\"#fde0ef\"],[0.5,\"#f7f7f7\"],[0.6,\"#e6f5d0\"],[0.7,\"#b8e186\"],[0.8,\"#7fbc41\"],[0.9,\"#4d9221\"],[1.0,\"#276419\"]],\"sequential\":[[0.0,\"#0d0887\"],[0.1111111111111111,\"#46039f\"],[0.2222222222222222,\"#7201a8\"],[0.3333333333333333,\"#9c179e\"],[0.4444444444444444,\"#bd3786\"],[0.5555555555555556,\"#d8576b\"],[0.6666666666666666,\"#ed7953\"],[0.7777777777777778,\"#fb9f3a\"],[0.8888888888888888,\"#fdca26\"],[1.0,\"#f0f921\"]],\"sequentialminus\":[[0.0,\"#0d0887\"],[0.1111111111111111,\"#46039f\"],[0.2222222222222222,\"#7201a8\"],[0.3333333333333333,\"#9c179e\"],[0.4444444444444444,\"#bd3786\"],[0.5555555555555556,\"#d8576b\"],[0.6666666666666666,\"#ed7953\"],[0.7777777777777778,\"#fb9f3a\"],[0.8888888888888888,\"#fdca26\"],[1.0,\"#f0f921\"]]},\"hovermode\":\"closest\",\"hoverlabel\":{\"align\":\"left\"},\"coloraxis\":{\"colorbar\":{\"outlinewidth\":0.0,\"ticks\":\"\"}},\"geo\":{\"showland\":true,\"landcolor\":\"rgba(229, 236, 246, 1.0)\",\"showlakes\":true,\"lakecolor\":\"rgba(255, 255, 255, 1.0)\",\"subunitcolor\":\"rgba(255, 255, 255, 1.0)\",\"bgcolor\":\"rgba(255, 255, 255, 1.0)\"},\"mapbox\":{\"style\":\"light\"},\"polar\":{\"bgcolor\":\"rgba(229, 236, 246, 1.0)\",\"radialaxis\":{\"linecolor\":\"rgba(255, 255, 255, 1.0)\",\"gridcolor\":\"rgba(255, 255, 255, 1.0)\",\"ticks\":\"\"},\"angularaxis\":{\"linecolor\":\"rgba(255, 255, 255, 1.0)\",\"gridcolor\":\"rgba(255, 255, 255, 1.0)\",\"ticks\":\"\"}},\"scene\":{\"xaxis\":{\"ticks\":\"\",\"linecolor\":\"rgba(255, 255, 255, 1.0)\",\"gridcolor\":\"rgba(255, 255, 255, 1.0)\",\"gridwidth\":2.0,\"zerolinecolor\":\"rgba(255, 255, 255, 1.0)\",\"backgroundcolor\":\"rgba(229, 236, 246, 1.0)\",\"showbackground\":true},\"yaxis\":{\"ticks\":\"\",\"linecolor\":\"rgba(255, 255, 255, 1.0)\",\"gridcolor\":\"rgba(255, 255, 255, 1.0)\",\"gridwidth\":2.0,\"zerolinecolor\":\"rgba(255, 255, 255, 1.0)\",\"backgroundcolor\":\"rgba(229, 236, 246, 1.0)\",\"showbackground\":true},\"zaxis\":{\"ticks\":\"\",\"linecolor\":\"rgba(255, 255, 255, 1.0)\",\"gridcolor\":\"rgba(255, 255, 255, 1.0)\",\"gridwidth\":2.0,\"zerolinecolor\":\"rgba(255, 255, 255, 1.0)\",\"backgroundcolor\":\"rgba(229, 236, 246, 1.0)\",\"showbackground\":true}},\"ternary\":{\"aaxis\":{\"ticks\":\"\",\"linecolor\":\"rgba(255, 255, 255, 1.0)\",\"gridcolor\":\"rgba(255, 255, 255, 1.0)\"},\"baxis\":{\"ticks\":\"\",\"linecolor\":\"rgba(255, 255, 255, 1.0)\",\"gridcolor\":\"rgba(255, 255, 255, 1.0)\"},\"caxis\":{\"ticks\":\"\",\"linecolor\":\"rgba(255, 255, 255, 1.0)\",\"gridcolor\":\"rgba(255, 255, 255, 1.0)\"},\"bgcolor\":\"rgba(229, 236, 246, 1.0)\"},\"xaxis\":{\"title\":{\"standoff\":15},\"ticks\":\"\",\"automargin\":true,\"linecolor\":\"rgba(255, 255, 255, 1.0)\",\"gridcolor\":\"rgba(255, 255, 255, 1.0)\",\"zerolinecolor\":\"rgba(255, 255, 255, 1.0)\",\"zerolinewidth\":2.0},\"yaxis\":{\"title\":{\"standoff\":15},\"ticks\":\"\",\"automargin\":true,\"linecolor\":\"rgba(255, 255, 255, 1.0)\",\"gridcolor\":\"rgba(255, 255, 255, 1.0)\",\"zerolinecolor\":\"rgba(255, 255, 255, 1.0)\",\"zerolinewidth\":2.0},\"annotationdefaults\":{\"arrowcolor\":\"#2a3f5f\",\"arrowhead\":0,\"arrowwidth\":1},\"shapedefaults\":{\"line\":{\"color\":\"rgba(42, 63, 95, 1.0)\"}},\"colorway\":[\"rgba(99, 110, 250, 1.0)\",\"rgba(239, 85, 59, 1.0)\",\"rgba(0, 204, 150, 1.0)\",\"rgba(171, 99, 250, 1.0)\",\"rgba(255, 161, 90, 1.0)\",\"rgba(25, 211, 243, 1.0)\",\"rgba(255, 102, 146, 1.0)\",\"rgba(182, 232, 128, 1.0)\",\"rgba(255, 151, 255, 1.0)\",\"rgba(254, 203, 82, 1.0)\"]},\"data\":{\"bar\":[{\"marker\":{\"line\":{\"color\":\"rgba(229, 236, 246, 1.0)\",\"width\":0.5},\"pattern\":{\"fillmode\":\"overlay\",\"size\":10,\"solidity\":0.2}},\"error_x\":{\"color\":\"rgba(42, 63, 95, 1.0)\"},\"error_y\":{\"color\":\"rgba(42, 63, 95, 1.0)\"}}],\"barpolar\":[{\"marker\":{\"line\":{\"color\":\"rgba(229, 236, 246, 1.0)\",\"width\":0.5},\"pattern\":{\"fillmode\":\"overlay\",\"size\":10,\"solidity\":0.2}}}],\"carpet\":[{\"aaxis\":{\"linecolor\":\"rgba(255, 255, 255, 1.0)\",\"gridcolor\":\"rgba(255, 255, 255, 1.0)\",\"endlinecolor\":\"rgba(42, 63, 95, 1.0)\",\"minorgridcolor\":\"rgba(255, 255, 255, 1.0)\",\"startlinecolor\":\"rgba(42, 63, 95, 1.0)\"},\"baxis\":{\"linecolor\":\"rgba(255, 255, 255, 1.0)\",\"gridcolor\":\"rgba(255, 255, 255, 1.0)\",\"endlinecolor\":\"rgba(42, 63, 95, 1.0)\",\"minorgridcolor\":\"rgba(255, 255, 255, 1.0)\",\"startlinecolor\":\"rgba(42, 63, 95, 1.0)\"}}],\"choropleth\":[{\"colorbar\":{\"outlinewidth\":0.0,\"ticks\":\"\"},\"colorscale\":[[0.0,\"#0d0887\"],[0.1111111111111111,\"#46039f\"],[0.2222222222222222,\"#7201a8\"],[0.3333333333333333,\"#9c179e\"],[0.4444444444444444,\"#bd3786\"],[0.5555555555555556,\"#d8576b\"],[0.6666666666666666,\"#ed7953\"],[0.7777777777777778,\"#fb9f3a\"],[0.8888888888888888,\"#fdca26\"],[1.0,\"#f0f921\"]]}],\"contour\":[{\"colorbar\":{\"outlinewidth\":0.0,\"ticks\":\"\"},\"colorscale\":[[0.0,\"#0d0887\"],[0.1111111111111111,\"#46039f\"],[0.2222222222222222,\"#7201a8\"],[0.3333333333333333,\"#9c179e\"],[0.4444444444444444,\"#bd3786\"],[0.5555555555555556,\"#d8576b\"],[0.6666666666666666,\"#ed7953\"],[0.7777777777777778,\"#fb9f3a\"],[0.8888888888888888,\"#fdca26\"],[1.0,\"#f0f921\"]]}],\"contourcarpet\":[{\"colorbar\":{\"outlinewidth\":0.0,\"ticks\":\"\"}}],\"heatmap\":[{\"colorbar\":{\"outlinewidth\":0.0,\"ticks\":\"\"},\"colorscale\":[[0.0,\"#0d0887\"],[0.1111111111111111,\"#46039f\"],[0.2222222222222222,\"#7201a8\"],[0.3333333333333333,\"#9c179e\"],[0.4444444444444444,\"#bd3786\"],[0.5555555555555556,\"#d8576b\"],[0.6666666666666666,\"#ed7953\"],[0.7777777777777778,\"#fb9f3a\"],[0.8888888888888888,\"#fdca26\"],[1.0,\"#f0f921\"]]}],\"heatmapgl\":[{\"colorbar\":{\"outlinewidth\":0.0,\"ticks\":\"\"},\"colorscale\":[[0.0,\"#0d0887\"],[0.1111111111111111,\"#46039f\"],[0.2222222222222222,\"#7201a8\"],[0.3333333333333333,\"#9c179e\"],[0.4444444444444444,\"#bd3786\"],[0.5555555555555556,\"#d8576b\"],[0.6666666666666666,\"#ed7953\"],[0.7777777777777778,\"#fb9f3a\"],[0.8888888888888888,\"#fdca26\"],[1.0,\"#f0f921\"]]}],\"histogram\":[{\"marker\":{\"pattern\":{\"fillmode\":\"overlay\",\"size\":10,\"solidity\":0.2}}}],\"histogram2d\":[{\"colorbar\":{\"outlinewidth\":0.0,\"ticks\":\"\"},\"colorscale\":[[0.0,\"#0d0887\"],[0.1111111111111111,\"#46039f\"],[0.2222222222222222,\"#7201a8\"],[0.3333333333333333,\"#9c179e\"],[0.4444444444444444,\"#bd3786\"],[0.5555555555555556,\"#d8576b\"],[0.6666666666666666,\"#ed7953\"],[0.7777777777777778,\"#fb9f3a\"],[0.8888888888888888,\"#fdca26\"],[1.0,\"#f0f921\"]]}],\"histogram2dcontour\":[{\"colorbar\":{\"outlinewidth\":0.0,\"ticks\":\"\"},\"colorscale\":[[0.0,\"#0d0887\"],[0.1111111111111111,\"#46039f\"],[0.2222222222222222,\"#7201a8\"],[0.3333333333333333,\"#9c179e\"],[0.4444444444444444,\"#bd3786\"],[0.5555555555555556,\"#d8576b\"],[0.6666666666666666,\"#ed7953\"],[0.7777777777777778,\"#fb9f3a\"],[0.8888888888888888,\"#fdca26\"],[1.0,\"#f0f921\"]]}],\"mesh3d\":[{\"colorbar\":{\"outlinewidth\":0.0,\"ticks\":\"\"}}],\"parcoords\":[{\"line\":{\"colorbar\":{\"outlinewidth\":0.0,\"ticks\":\"\"}}}],\"pie\":[{\"automargin\":true}],\"scatter\":[{\"marker\":{\"colorbar\":{\"outlinewidth\":0.0,\"ticks\":\"\"}}}],\"scatter3d\":[{\"marker\":{\"colorbar\":{\"outlinewidth\":0.0,\"ticks\":\"\"}},\"line\":{\"colorbar\":{\"outlinewidth\":0.0,\"ticks\":\"\"}}}],\"scattercarpet\":[{\"marker\":{\"colorbar\":{\"outlinewidth\":0.0,\"ticks\":\"\"}}}],\"scattergeo\":[{\"marker\":{\"colorbar\":{\"outlinewidth\":0.0,\"ticks\":\"\"}}}],\"scattergl\":[{\"marker\":{\"colorbar\":{\"outlinewidth\":0.0,\"ticks\":\"\"}}}],\"scattermapbox\":[{\"marker\":{\"colorbar\":{\"outlinewidth\":0.0,\"ticks\":\"\"}}}],\"scatterpolar\":[{\"marker\":{\"colorbar\":{\"outlinewidth\":0.0,\"ticks\":\"\"}}}],\"scatterpolargl\":[{\"marker\":{\"colorbar\":{\"outlinewidth\":0.0,\"ticks\":\"\"}}}],\"scatterternary\":[{\"marker\":{\"colorbar\":{\"outlinewidth\":0.0,\"ticks\":\"\"}}}],\"surface\":[{\"colorbar\":{\"outlinewidth\":0.0,\"ticks\":\"\"},\"colorscale\":[[0.0,\"#0d0887\"],[0.1111111111111111,\"#46039f\"],[0.2222222222222222,\"#7201a8\"],[0.3333333333333333,\"#9c179e\"],[0.4444444444444444,\"#bd3786\"],[0.5555555555555556,\"#d8576b\"],[0.6666666666666666,\"#ed7953\"],[0.7777777777777778,\"#fb9f3a\"],[0.8888888888888888,\"#fdca26\"],[1.0,\"#f0f921\"]]}],\"table\":[{\"cells\":{\"fill\":{\"color\":\"rgba(235, 240, 248, 1.0)\"},\"line\":{\"color\":\"rgba(255, 255, 255, 1.0)\"}},\"header\":{\"fill\":{\"color\":\"rgba(200, 212, 227, 1.0)\"},\"line\":{\"color\":\"rgba(255, 255, 255, 1.0)\"}}}]}},\"title\":{\"text\":\"Veränderung von beta                                       Veränderung von gamma\"},\"xaxis\":{\"title\":{\"text\":\"Zeit\"}},\"yaxis\":{\"title\":{\"text\":\"Proteinkonzentration\"}},\"xaxis2\":{\"title\":{\"text\":\"Zeit\"}},\"yaxis2\":{\"title\":{\"text\":\"Proteinkonzentration\"}},\"grid\":{\"rows\":1,\"columns\":2,\"pattern\":\"independent\"}};\r\n",
       "            var config = {\"responsive\":true};\r\n",
       "            Plotly.newPlot('4ccf7133-451d-4e63-bad6-cbc737d601d5', data, layout, config);\r\n",
       "});\r\n",
       "            };\r\n",
       "            if ((typeof(requirejs) !==  typeof(Function)) || (typeof(requirejs.config) !== typeof(Function))) {\r\n",
       "                var script = document.createElement(\"script\");\r\n",
       "                script.setAttribute(\"src\", \"https://cdnjs.cloudflare.com/ajax/libs/require.js/2.3.6/require.min.js\");\r\n",
       "                script.onload = function(){\r\n",
       "                    renderPlotly_4ccf7133451d4e63bad6cbc737d601d5();\r\n",
       "                };\r\n",
       "                document.getElementsByTagName(\"head\")[0].appendChild(script);\r\n",
       "            }\r\n",
       "            else {\r\n",
       "                renderPlotly_4ccf7133451d4e63bad6cbc737d601d5();\r\n",
       "            }\r\n",
       "</script>\r\n",
       "\n",
       "    \n",
       "</div>    \n"
      ]
     },
     "metadata": {},
     "output_type": "display_data"
    }
   ],
   "source": [
    "//Bitte nichts ändern!\n",
    "\n",
    "//Konstanten\n",
    "let beta1 =  0.5// Konstante für die Zunahme der Proteinkonzentration\n",
    "let beta2 =  1. // Konstante für die Zunahme der Proteinkonzentration\n",
    "let beta3 =  2. // Konstante für die Zunahme der Proteinkonzentration\n",
    "let beta4 =  4. // Konstante für die Zunahme der Proteinkonzentration\n",
    "let gamma1 = 2. // Konstante für die Verringerung der Proteinkonzentration\n",
    "let gamma2 = 4. // Konstante für die Verringerung der Proteinkonzentration\n",
    "let gamma3 = 8. // Konstante für die Verringerung der Proteinkonzentration\n",
    "let gamma4 = 16.// Konstante für die Verringerung der Proteinkonzentration\n",
    "\n",
    "\n",
    "// unsere DGL als  Modell (Model)\n",
    "let dP_dt : Model = \n",
    "    fun P t ->\n",
    "        // Veränderung der Proteinmenge\n",
    "        let Proteinkonzentration1 = P[0] // Änderung in der Proteinmenge\n",
    "        let Proteinkonzentration2 = P[1] // Änderung in der Proteinmenge\n",
    "        let Proteinkonzentration3 = P[2] // Änderung in der Proteinmenge\n",
    "        let Proteinkonzentration4 = P[3] // Änderung in der Proteinmenge\n",
    "\n",
    "        let Proteinkonzentration5 = P[4] // Änderung in der Proteinmenge\n",
    "        let Proteinkonzentration6 = P[5] // Änderung in der Proteinmenge\n",
    "        let Proteinkonzentration7 = P[6] // Änderung in der Proteinmenge\n",
    "        let Proteinkonzentration8 = P[7] // Änderung in der Proteinmenge\n",
    "        // Modelfunktion\n",
    "        let Proteinkonzentration1' = beta1 - gamma2 * Proteinkonzentration1 //DGL für ein unreguliertes Protein\n",
    "        let Proteinkonzentration2' = beta2 - gamma2 * Proteinkonzentration2 //DGL für ein unreguliertes Protein\n",
    "        let Proteinkonzentration3' = beta3 - gamma2 * Proteinkonzentration3 //DGL für ein unreguliertes Protein\n",
    "        let Proteinkonzentration4' = beta4 - gamma2 * Proteinkonzentration4 //DGL für ein unreguliertes Protein\n",
    " \n",
    "        let Proteinkonzentration5' = beta3 - gamma1 * Proteinkonzentration5 //DGL für ein unreguliertes Protein\n",
    "        let Proteinkonzentration6' = beta3 - gamma2 * Proteinkonzentration6 //DGL für ein unreguliertes Protein\n",
    "        let Proteinkonzentration7' = beta3 - gamma3 * Proteinkonzentration7 //DGL für ein unreguliertes Protein\n",
    "        let Proteinkonzentration8' = beta3 - gamma4 * Proteinkonzentration8 //DGL für ein unreguliertes Protein\n",
    "\n",
    "        [|Proteinkonzentration1';Proteinkonzentration2';Proteinkonzentration3';Proteinkonzentration4';Proteinkonzentration5';Proteinkonzentration6';Proteinkonzentration7';Proteinkonzentration8' |]\n",
    "\n",
    "//Startkonzentrationen\n",
    "let P0 = [| \n",
    "    0.0 \n",
    "    0.0 \n",
    "    0.0 \n",
    "    0.0 \n",
    "    0.0\n",
    "    0.0\n",
    "    0.0\n",
    "    0.0\n",
    "|]\n",
    "\n",
    "// Simulation der Modelfuntkion\n",
    "let Ps = \n",
    "    modelContext.OdeInt(\n",
    "        0., // Startzeitpunkt\n",
    "        P0,\n",
    "        dP_dt\n",
    "    )\n",
    "    |> SolPoints.take 15 // Anzahl der Zeitpunkte\n",
    "    |> SolPoints.memorize \n",
    "\n",
    "// Generierung der Punkte für das Kennzeichnen der Antwortszeit\n",
    "let t0 = log(2.) / gamma2\n",
    "let x1 = beta1 / gamma2 * (0.5)\n",
    "let x2 = beta2 / gamma2 * (0.5)\n",
    "let x3 = beta3 / gamma2 * (0.5)\n",
    "let x4 = beta4 / gamma2 * (0.5)\n",
    "let t1 = log(2.) / gamma1\n",
    "let t2 = log(2.) / gamma2\n",
    "let t3 = log(2.) / gamma3\n",
    "let t4 = log(2.) / gamma4\n",
    "let x5 = beta3 / gamma1 * (0.5)\n",
    "let x6 = beta3 / gamma2 * (0.5)\n",
    "let x7 = beta3 / gamma3 * (0.5)\n",
    "let x8 = beta3 / gamma4 * (0.5)\n",
    "\n",
    "//Graphische Darstellung der numerischen Lösung\n",
    "[\n",
    "    [\n",
    "        let proteins = Ps |> SolPoints.toPoints 1 \n",
    "        proteins |> Chart.Spline \n",
    "        |> Chart.withTraceInfo(\"beta = 0.5\");\n",
    "        let proteinsregulatedbyrep = Ps |> SolPoints.toPoints 2 \n",
    "        proteinsregulatedbyrep|> Chart.Spline \n",
    "        |> Chart.withTraceInfo(\"beta = 1.0\");\n",
    "        let proteinsregulatedbyakt = Ps |> SolPoints.toPoints 3 \n",
    "        proteinsregulatedbyakt|> Chart.Spline \n",
    "        |> Chart.withTraceInfo(\"beta = 2.0\");\n",
    "        |> Chart.withMarkerStyle(Color = Color.fromKeyword ForestGreen)\n",
    "        let proteinsregulatedbyakt = Ps |> SolPoints.toPoints 4 \n",
    "        proteinsregulatedbyakt|> Chart.Spline \n",
    "        |> Chart.withTraceInfo(\"beta = 4.0\");\n",
    "        [t0,x1]\n",
    "        |> Chart.Point\n",
    "        |> Chart.withMarkerStyle(Color = Color.fromKeyword Blue)\n",
    "        |> Chart.withTraceInfo(\"beta = 0.5\");\n",
    "        [t0,x2]\n",
    "        |> Chart.Point\n",
    "        |> Chart.withMarkerStyle(Color = Color.fromKeyword Red)\n",
    "        |> Chart.withTraceInfo(\"beta = 1.0\");\n",
    "        [t0,x3]\n",
    "        |> Chart.Point\n",
    "        |> Chart.withMarkerStyle(Color = Color.fromKeyword Green)\n",
    "        |> Chart.withTraceInfo(\"beta = 2.0\");\n",
    "        [t0,x4]\n",
    "        |> Chart.Point \n",
    "        |> Chart.withMarkerStyle(Color = Color.fromKeyword Purple)\n",
    "        |> Chart.withTraceInfo(\"beta = 4.0\");\n",
    "    ]\n",
    "    |> Chart.combine\n",
    "    |> Chart.withTitle @\"Veränderung von beta\"\n",
    "    |> Chart.withXAxisStyle(\"Zeit\")\n",
    "    |> Chart.withYAxisStyle(\"Proteinkonzentration\")\n",
    "\n",
    "    [\n",
    "        let proteins = Ps |> SolPoints.toPoints 5 \n",
    "        proteins \n",
    "        |> Chart.Spline \n",
    "        |> Chart.withTraceInfo(\"gamma = 2.\");\n",
    "        |> Chart.withMarkerStyle(Color = Color.fromKeyword DarkViolet)\n",
    "        let proteinsregulatedbyrep = Ps |> SolPoints.toPoints 6 \n",
    "        proteinsregulatedbyrep\n",
    "        |> Chart.Spline \n",
    "        |> Chart.withTraceInfo(\"gamma = 4.\");\n",
    "        |> Chart.withMarkerStyle(Color = Color.fromKeyword ForestGreen)\n",
    "        let proteinsregulatedbyakt = Ps |> SolPoints.toPoints 7 \n",
    "        proteinsregulatedbyakt\n",
    "        |> Chart.Spline \n",
    "        |> Chart.withTraceInfo(\"gamma = 8.\");\n",
    "        |> Chart.withMarkerStyle(Color = Color.fromKeyword Red)\n",
    "        let proteinsregulatedbyakt = Ps |> SolPoints.toPoints 8 \n",
    "        proteinsregulatedbyakt\n",
    "        |> Chart.Spline \n",
    "        |> Chart.withTraceInfo(\"gamma = 16.\");\n",
    "        |> Chart.withMarkerStyle(Color = Color.fromKeyword Blue)\n",
    "        [t1,x5]\n",
    "        |> Chart.Point\n",
    "        |> Chart.withMarkerStyle(Color = Color.fromKeyword DarkViolet)\n",
    "        |> Chart.withTraceInfo(\"gamma = 2.\");\n",
    "        [t2,x6]\n",
    "        |> Chart.Point\n",
    "        |> Chart.withMarkerStyle(Color = Color.fromKeyword Green)\n",
    "        |> Chart.withTraceInfo(\"gamma = 4.0\");\n",
    "        [t3,x7]\n",
    "        |> Chart.Point\n",
    "        |> Chart.withMarkerStyle(Color = Color.fromKeyword Red)\n",
    "        |> Chart.withTraceInfo(\"gamma = 8.0\");\n",
    "        [t4,x8]\n",
    "        |> Chart.Point \n",
    "        |> Chart.withMarkerStyle(Color = Color.fromKeyword Blue)\n",
    "        |> Chart.withTraceInfo(\"gamma = 16.0\");\n",
    "    ]\n",
    "    |> Chart.combine\n",
    "    |> Chart.withTitle @\"Veränderung von beta                                       Veränderung von gamma\"\n",
    "    |> Chart.withXAxisStyle(\"Zeit\")\n",
    "    |> Chart.withYAxisStyle(\"Proteinkonzentration\")\n",
    "\n",
    "]\n",
    "|> Chart.Grid (1,2)\n",
    "|> Chart.withSize(1000,500)"
   ]
  },
  {
   "cell_type": "markdown",
   "metadata": {},
   "source": [
    "Die Graphen zeigen, dass sowohl die Abnahme von $\\beta$, als auch die Zunahme von $\\gamma$ zu einer Verringerung der $Proteinkonzentration_{GGW}$ führen. Allerdings unterscheidet sich die Form der Graphen erheblich. \n",
    "Acht Punkte sind makiert, die diesen Fakt unterstreichen. Diese repräsentieren die Antwortszeit, welche beschreibt wie lange es dauert, bis der Wert der $Proteinkonzentration (t)$ gleich dem Wert $\\frac {1}{2}*Proteinkonzentration_{GGW}$ ist. \n",
    "Die Betrachtung der Antwortszeit zeigt, dass eine Veränderung von $\\beta$ nicht zu einer Verkürzung der Antwortszeit führt, während eine Veränderung von $\\gamma$ zu einer Verringerung der Antwortszeit führt. Die Formel für die Berechnung der Antwortszeit ist\n",
    "$$ T_{\\frac {1}{2}} = \\frac  {\\log (2)}{\\gamma}$$\n",
    "wobei $T_{\\frac {1}{2}}$ die Antwortszeit repräsentiert. Dies bedeutet, wenn ein Protein möglichst schnell produziert werden soll, sollte der Wert für $\\gamma$ möglichst groß sein (Anmerkung: Die gezeigte Formel gilt nur für unregulierte Proteine)."
   ]
  },
  {
   "cell_type": "markdown",
   "metadata": {},
   "source": [
    "##### Aufgabe 3.16\n",
    "\n",
    "***Überlege was ein hoher Wert für $\\gamma$ im Bezug auf die Proteinstabilität bedeutet (zur Erinnerung $\\gamma$ beschreibt sowohl den aktiven Abbau, als auch die Verteilung in der Zelle beim Wachstum).\n",
    "Tipp: Falls sie Probleme mit dieser Aufgabe haben, überlegen sie sich welche Faktoren einen schnellen beziehungsweise langsamen Abbau von einem Protein begünstigen.***\n",
    "\n"
   ]
  },
  {
   "cell_type": "markdown",
   "metadata": {},
   "source": [
    "Bitte hier die Antwort eingeben."
   ]
  },
  {
   "cell_type": "markdown",
   "metadata": {},
   "source": [
    "##### Aufgabe 3.17\n",
    "\n",
    "***Betrachten sie nun den Graphen für ein Protein, das sich selbst negativ autoreguliert.\n",
    "Setzen sie die Gleichung für negative Autoregulation in die nachfolgende Simulation ein (Bitte beachten sie, dass sie die Proteinkonzentration als \"Proteinkonzentration2\" einsetzten müssen, ohne \"\". Beachten sie ebenfalls das $\\beta \\textrm{ und } \\gamma$ als \"beta\" und \"gamma\", ohne \"\", eingesetzt werden müssen und nicht als Symbole, und das $K_{D}$ als K_d eingesetzt wird).***"
   ]
  },
  {
   "cell_type": "code",
   "execution_count": null,
   "metadata": {
    "dotnet_interactive": {
     "language": "fsharp"
    },
    "vscode": {
     "languageId": "dotnet-interactive.fsharp"
    }
   },
   "outputs": [
    {
     "data": {
      "text/html": [
       "\n",
       "<div>\n",
       "    <div id=\"262168b4-74b1-4fad-94ec-b9bdf859e31c\"><!-- Plotly chart will be drawn inside this DIV --></div>\r\n",
       "<script type=\"text/javascript\">\r\n",
       "\r\n",
       "            var renderPlotly_262168b474b14fad94ecb9bdf859e31c = function() {\r\n",
       "            var fsharpPlotlyRequire = requirejs.config({context:'fsharp-plotly',paths:{plotly:'https://cdn.plot.ly/plotly-2.6.3.min'}}) || require;\r\n",
       "            fsharpPlotlyRequire(['plotly'], function(Plotly) {\r\n",
       "\r\n",
       "            var data = [{\"type\":\"scatter\",\"mode\":\"lines\",\"x\":[0.0,0.3526489699241825,0.6621281536214076,0.9838321987488821,1.366051482506549,1.820074350041603,2.3518024854457296,2.9695646584854196,3.6865635145665148,4.522840684770351,5.507274189135837,6.679693785043027],\"y\":[0.0,0.5943525517355123,0.968495171365372,1.2522491382368597,1.489775787107594,1.675973061960016,1.8096057389815379,1.8973492743790046,1.9498844664841881,1.9782837100966486,1.991885002404089,1.997486118997081],\"marker\":{},\"line\":{\"shape\":\"spline\"},\"name\":\"Unreguliert\"},{\"type\":\"scatter\",\"mode\":\"lines\",\"x\":[0.0,0.3526489699241825,0.6621281536214076,0.9838321987488821,1.366051482506549,1.820074350041603,2.3518024854457296,2.9695646584854196,3.6865635145665148,4.522840684770351,5.507274189135837,6.679693785043027],\"y\":[0.0,0.46987056632923035,0.6800847653428574,0.8070652624533186,0.8928785397660717,0.9462803307712722,0.9759247727890931,0.9904919404134085,0.9967592076772097,0.9990749864525295,0.9997877168611103,0.9999625113763633],\"marker\":{},\"line\":{\"shape\":\"spline\"},\"name\":\"negative AR\"},{\"type\":\"scatter\",\"mode\":\"markers\",\"x\":[0.6931471805599453],\"y\":[1.0],\"marker\":{\"color\":\"rgba(0, 0, 255, 1.0)\"},\"line\":{},\"name\":\"Unreguliert\"},{\"type\":\"scatter\",\"mode\":\"markers\",\"x\":[0.385],\"y\":[0.5],\"marker\":{\"color\":\"rgba(255, 0, 0, 1.0)\"},\"line\":{},\"name\":\"negative AR\"}];\r\n",
       "            var layout = {\"width\":600,\"height\":600,\"template\":{\"layout\":{\"title\":{\"x\":0.05},\"font\":{\"color\":\"rgba(42, 63, 95, 1.0)\"},\"paper_bgcolor\":\"rgba(255, 255, 255, 1.0)\",\"plot_bgcolor\":\"rgba(229, 236, 246, 1.0)\",\"autotypenumbers\":\"strict\",\"colorscale\":{\"diverging\":[[0.0,\"#8e0152\"],[0.1,\"#c51b7d\"],[0.2,\"#de77ae\"],[0.3,\"#f1b6da\"],[0.4,\"#fde0ef\"],[0.5,\"#f7f7f7\"],[0.6,\"#e6f5d0\"],[0.7,\"#b8e186\"],[0.8,\"#7fbc41\"],[0.9,\"#4d9221\"],[1.0,\"#276419\"]],\"sequential\":[[0.0,\"#0d0887\"],[0.1111111111111111,\"#46039f\"],[0.2222222222222222,\"#7201a8\"],[0.3333333333333333,\"#9c179e\"],[0.4444444444444444,\"#bd3786\"],[0.5555555555555556,\"#d8576b\"],[0.6666666666666666,\"#ed7953\"],[0.7777777777777778,\"#fb9f3a\"],[0.8888888888888888,\"#fdca26\"],[1.0,\"#f0f921\"]],\"sequentialminus\":[[0.0,\"#0d0887\"],[0.1111111111111111,\"#46039f\"],[0.2222222222222222,\"#7201a8\"],[0.3333333333333333,\"#9c179e\"],[0.4444444444444444,\"#bd3786\"],[0.5555555555555556,\"#d8576b\"],[0.6666666666666666,\"#ed7953\"],[0.7777777777777778,\"#fb9f3a\"],[0.8888888888888888,\"#fdca26\"],[1.0,\"#f0f921\"]]},\"hovermode\":\"closest\",\"hoverlabel\":{\"align\":\"left\"},\"coloraxis\":{\"colorbar\":{\"outlinewidth\":0.0,\"ticks\":\"\"}},\"geo\":{\"showland\":true,\"landcolor\":\"rgba(229, 236, 246, 1.0)\",\"showlakes\":true,\"lakecolor\":\"rgba(255, 255, 255, 1.0)\",\"subunitcolor\":\"rgba(255, 255, 255, 1.0)\",\"bgcolor\":\"rgba(255, 255, 255, 1.0)\"},\"mapbox\":{\"style\":\"light\"},\"polar\":{\"bgcolor\":\"rgba(229, 236, 246, 1.0)\",\"radialaxis\":{\"linecolor\":\"rgba(255, 255, 255, 1.0)\",\"gridcolor\":\"rgba(255, 255, 255, 1.0)\",\"ticks\":\"\"},\"angularaxis\":{\"linecolor\":\"rgba(255, 255, 255, 1.0)\",\"gridcolor\":\"rgba(255, 255, 255, 1.0)\",\"ticks\":\"\"}},\"scene\":{\"xaxis\":{\"ticks\":\"\",\"linecolor\":\"rgba(255, 255, 255, 1.0)\",\"gridcolor\":\"rgba(255, 255, 255, 1.0)\",\"gridwidth\":2.0,\"zerolinecolor\":\"rgba(255, 255, 255, 1.0)\",\"backgroundcolor\":\"rgba(229, 236, 246, 1.0)\",\"showbackground\":true},\"yaxis\":{\"ticks\":\"\",\"linecolor\":\"rgba(255, 255, 255, 1.0)\",\"gridcolor\":\"rgba(255, 255, 255, 1.0)\",\"gridwidth\":2.0,\"zerolinecolor\":\"rgba(255, 255, 255, 1.0)\",\"backgroundcolor\":\"rgba(229, 236, 246, 1.0)\",\"showbackground\":true},\"zaxis\":{\"ticks\":\"\",\"linecolor\":\"rgba(255, 255, 255, 1.0)\",\"gridcolor\":\"rgba(255, 255, 255, 1.0)\",\"gridwidth\":2.0,\"zerolinecolor\":\"rgba(255, 255, 255, 1.0)\",\"backgroundcolor\":\"rgba(229, 236, 246, 1.0)\",\"showbackground\":true}},\"ternary\":{\"aaxis\":{\"ticks\":\"\",\"linecolor\":\"rgba(255, 255, 255, 1.0)\",\"gridcolor\":\"rgba(255, 255, 255, 1.0)\"},\"baxis\":{\"ticks\":\"\",\"linecolor\":\"rgba(255, 255, 255, 1.0)\",\"gridcolor\":\"rgba(255, 255, 255, 1.0)\"},\"caxis\":{\"ticks\":\"\",\"linecolor\":\"rgba(255, 255, 255, 1.0)\",\"gridcolor\":\"rgba(255, 255, 255, 1.0)\"},\"bgcolor\":\"rgba(229, 236, 246, 1.0)\"},\"xaxis\":{\"title\":{\"standoff\":15},\"ticks\":\"\",\"automargin\":true,\"linecolor\":\"rgba(255, 255, 255, 1.0)\",\"gridcolor\":\"rgba(255, 255, 255, 1.0)\",\"zerolinecolor\":\"rgba(255, 255, 255, 1.0)\",\"zerolinewidth\":2.0},\"yaxis\":{\"title\":{\"standoff\":15},\"ticks\":\"\",\"automargin\":true,\"linecolor\":\"rgba(255, 255, 255, 1.0)\",\"gridcolor\":\"rgba(255, 255, 255, 1.0)\",\"zerolinecolor\":\"rgba(255, 255, 255, 1.0)\",\"zerolinewidth\":2.0},\"annotationdefaults\":{\"arrowcolor\":\"#2a3f5f\",\"arrowhead\":0,\"arrowwidth\":1},\"shapedefaults\":{\"line\":{\"color\":\"rgba(42, 63, 95, 1.0)\"}},\"colorway\":[\"rgba(99, 110, 250, 1.0)\",\"rgba(239, 85, 59, 1.0)\",\"rgba(0, 204, 150, 1.0)\",\"rgba(171, 99, 250, 1.0)\",\"rgba(255, 161, 90, 1.0)\",\"rgba(25, 211, 243, 1.0)\",\"rgba(255, 102, 146, 1.0)\",\"rgba(182, 232, 128, 1.0)\",\"rgba(255, 151, 255, 1.0)\",\"rgba(254, 203, 82, 1.0)\"]},\"data\":{\"bar\":[{\"marker\":{\"line\":{\"color\":\"rgba(229, 236, 246, 1.0)\",\"width\":0.5},\"pattern\":{\"fillmode\":\"overlay\",\"size\":10,\"solidity\":0.2}},\"error_x\":{\"color\":\"rgba(42, 63, 95, 1.0)\"},\"error_y\":{\"color\":\"rgba(42, 63, 95, 1.0)\"}}],\"barpolar\":[{\"marker\":{\"line\":{\"color\":\"rgba(229, 236, 246, 1.0)\",\"width\":0.5},\"pattern\":{\"fillmode\":\"overlay\",\"size\":10,\"solidity\":0.2}}}],\"carpet\":[{\"aaxis\":{\"linecolor\":\"rgba(255, 255, 255, 1.0)\",\"gridcolor\":\"rgba(255, 255, 255, 1.0)\",\"endlinecolor\":\"rgba(42, 63, 95, 1.0)\",\"minorgridcolor\":\"rgba(255, 255, 255, 1.0)\",\"startlinecolor\":\"rgba(42, 63, 95, 1.0)\"},\"baxis\":{\"linecolor\":\"rgba(255, 255, 255, 1.0)\",\"gridcolor\":\"rgba(255, 255, 255, 1.0)\",\"endlinecolor\":\"rgba(42, 63, 95, 1.0)\",\"minorgridcolor\":\"rgba(255, 255, 255, 1.0)\",\"startlinecolor\":\"rgba(42, 63, 95, 1.0)\"}}],\"choropleth\":[{\"colorbar\":{\"outlinewidth\":0.0,\"ticks\":\"\"},\"colorscale\":[[0.0,\"#0d0887\"],[0.1111111111111111,\"#46039f\"],[0.2222222222222222,\"#7201a8\"],[0.3333333333333333,\"#9c179e\"],[0.4444444444444444,\"#bd3786\"],[0.5555555555555556,\"#d8576b\"],[0.6666666666666666,\"#ed7953\"],[0.7777777777777778,\"#fb9f3a\"],[0.8888888888888888,\"#fdca26\"],[1.0,\"#f0f921\"]]}],\"contour\":[{\"colorbar\":{\"outlinewidth\":0.0,\"ticks\":\"\"},\"colorscale\":[[0.0,\"#0d0887\"],[0.1111111111111111,\"#46039f\"],[0.2222222222222222,\"#7201a8\"],[0.3333333333333333,\"#9c179e\"],[0.4444444444444444,\"#bd3786\"],[0.5555555555555556,\"#d8576b\"],[0.6666666666666666,\"#ed7953\"],[0.7777777777777778,\"#fb9f3a\"],[0.8888888888888888,\"#fdca26\"],[1.0,\"#f0f921\"]]}],\"contourcarpet\":[{\"colorbar\":{\"outlinewidth\":0.0,\"ticks\":\"\"}}],\"heatmap\":[{\"colorbar\":{\"outlinewidth\":0.0,\"ticks\":\"\"},\"colorscale\":[[0.0,\"#0d0887\"],[0.1111111111111111,\"#46039f\"],[0.2222222222222222,\"#7201a8\"],[0.3333333333333333,\"#9c179e\"],[0.4444444444444444,\"#bd3786\"],[0.5555555555555556,\"#d8576b\"],[0.6666666666666666,\"#ed7953\"],[0.7777777777777778,\"#fb9f3a\"],[0.8888888888888888,\"#fdca26\"],[1.0,\"#f0f921\"]]}],\"heatmapgl\":[{\"colorbar\":{\"outlinewidth\":0.0,\"ticks\":\"\"},\"colorscale\":[[0.0,\"#0d0887\"],[0.1111111111111111,\"#46039f\"],[0.2222222222222222,\"#7201a8\"],[0.3333333333333333,\"#9c179e\"],[0.4444444444444444,\"#bd3786\"],[0.5555555555555556,\"#d8576b\"],[0.6666666666666666,\"#ed7953\"],[0.7777777777777778,\"#fb9f3a\"],[0.8888888888888888,\"#fdca26\"],[1.0,\"#f0f921\"]]}],\"histogram\":[{\"marker\":{\"pattern\":{\"fillmode\":\"overlay\",\"size\":10,\"solidity\":0.2}}}],\"histogram2d\":[{\"colorbar\":{\"outlinewidth\":0.0,\"ticks\":\"\"},\"colorscale\":[[0.0,\"#0d0887\"],[0.1111111111111111,\"#46039f\"],[0.2222222222222222,\"#7201a8\"],[0.3333333333333333,\"#9c179e\"],[0.4444444444444444,\"#bd3786\"],[0.5555555555555556,\"#d8576b\"],[0.6666666666666666,\"#ed7953\"],[0.7777777777777778,\"#fb9f3a\"],[0.8888888888888888,\"#fdca26\"],[1.0,\"#f0f921\"]]}],\"histogram2dcontour\":[{\"colorbar\":{\"outlinewidth\":0.0,\"ticks\":\"\"},\"colorscale\":[[0.0,\"#0d0887\"],[0.1111111111111111,\"#46039f\"],[0.2222222222222222,\"#7201a8\"],[0.3333333333333333,\"#9c179e\"],[0.4444444444444444,\"#bd3786\"],[0.5555555555555556,\"#d8576b\"],[0.6666666666666666,\"#ed7953\"],[0.7777777777777778,\"#fb9f3a\"],[0.8888888888888888,\"#fdca26\"],[1.0,\"#f0f921\"]]}],\"mesh3d\":[{\"colorbar\":{\"outlinewidth\":0.0,\"ticks\":\"\"}}],\"parcoords\":[{\"line\":{\"colorbar\":{\"outlinewidth\":0.0,\"ticks\":\"\"}}}],\"pie\":[{\"automargin\":true}],\"scatter\":[{\"marker\":{\"colorbar\":{\"outlinewidth\":0.0,\"ticks\":\"\"}}}],\"scatter3d\":[{\"marker\":{\"colorbar\":{\"outlinewidth\":0.0,\"ticks\":\"\"}},\"line\":{\"colorbar\":{\"outlinewidth\":0.0,\"ticks\":\"\"}}}],\"scattercarpet\":[{\"marker\":{\"colorbar\":{\"outlinewidth\":0.0,\"ticks\":\"\"}}}],\"scattergeo\":[{\"marker\":{\"colorbar\":{\"outlinewidth\":0.0,\"ticks\":\"\"}}}],\"scattergl\":[{\"marker\":{\"colorbar\":{\"outlinewidth\":0.0,\"ticks\":\"\"}}}],\"scattermapbox\":[{\"marker\":{\"colorbar\":{\"outlinewidth\":0.0,\"ticks\":\"\"}}}],\"scatterpolar\":[{\"marker\":{\"colorbar\":{\"outlinewidth\":0.0,\"ticks\":\"\"}}}],\"scatterpolargl\":[{\"marker\":{\"colorbar\":{\"outlinewidth\":0.0,\"ticks\":\"\"}}}],\"scatterternary\":[{\"marker\":{\"colorbar\":{\"outlinewidth\":0.0,\"ticks\":\"\"}}}],\"surface\":[{\"colorbar\":{\"outlinewidth\":0.0,\"ticks\":\"\"},\"colorscale\":[[0.0,\"#0d0887\"],[0.1111111111111111,\"#46039f\"],[0.2222222222222222,\"#7201a8\"],[0.3333333333333333,\"#9c179e\"],[0.4444444444444444,\"#bd3786\"],[0.5555555555555556,\"#d8576b\"],[0.6666666666666666,\"#ed7953\"],[0.7777777777777778,\"#fb9f3a\"],[0.8888888888888888,\"#fdca26\"],[1.0,\"#f0f921\"]]}],\"table\":[{\"cells\":{\"fill\":{\"color\":\"rgba(235, 240, 248, 1.0)\"},\"line\":{\"color\":\"rgba(255, 255, 255, 1.0)\"}},\"header\":{\"fill\":{\"color\":\"rgba(200, 212, 227, 1.0)\"},\"line\":{\"color\":\"rgba(255, 255, 255, 1.0)\"}}}]}},\"xaxis\":{\"title\":{\"text\":\"Zeit\"}},\"yaxis\":{\"title\":{\"text\":\"Proteinkonzentration\"}}};\r\n",
       "            var config = {\"responsive\":true};\r\n",
       "            Plotly.newPlot('262168b4-74b1-4fad-94ec-b9bdf859e31c', data, layout, config);\r\n",
       "});\r\n",
       "            };\r\n",
       "            if ((typeof(requirejs) !==  typeof(Function)) || (typeof(requirejs.config) !== typeof(Function))) {\r\n",
       "                var script = document.createElement(\"script\");\r\n",
       "                script.setAttribute(\"src\", \"https://cdnjs.cloudflare.com/ajax/libs/require.js/2.3.6/require.min.js\");\r\n",
       "                script.onload = function(){\r\n",
       "                    renderPlotly_262168b474b14fad94ecb9bdf859e31c();\r\n",
       "                };\r\n",
       "                document.getElementsByTagName(\"head\")[0].appendChild(script);\r\n",
       "            }\r\n",
       "            else {\r\n",
       "                renderPlotly_262168b474b14fad94ecb9bdf859e31c();\r\n",
       "            }\r\n",
       "</script>\r\n",
       "\n",
       "    \n",
       "</div>    \n"
      ]
     },
     "metadata": {},
     "output_type": "display_data"
    }
   ],
   "source": [
    "//Konstanten\n",
    "let beta  =  2.0 // Konstante für die Zunahme der Proteinkonzentration\n",
    "let gamma =  1.0 // Konstante für die Verringerung der Proteinkonzentration\n",
    "let K_d =    1.0 // Dissoziationskonstante\n",
    "\n",
    "// unsere DGL als  Modell (Model)\n",
    "let dP_dt : Model = \n",
    "    fun P t ->\n",
    "\n",
    "        let Proteinkonzentration1 = P[0] // Änderung in der Proteinmenge (unreguliert)\n",
    "        let Proteinkonzentration2 = P[1] // Änderung in der Proteinmenge (reguliert durch negative Autoregulation)\n",
    "        //Änderung der Proteinkonzentration ohne negative Autoregulation\n",
    "        let Proteinkonzentration1' = beta - (gamma*Proteinkonzentration1)\n",
    "        // Änderung des Proteinkonzentration bei negativer Autoregulation (hier die Gleichung einsetzen)\n",
    "        let Proteinkonzentration2' = beta * 1./(1.+(Proteinkonzentration2/K_d)) - (gamma*Proteinkonzentration2)\n",
    "\n",
    "        [| Proteinkonzentration1'; Proteinkonzentration2' |]\n",
    "\n",
    "//Startkonzentrationen\n",
    "let P0 = [| \n",
    "    0.0\n",
    "    0.0  \n",
    "|]\n",
    "\n",
    "// Generierung der Punkte für das Kennzeichnen der Antwortszeit\n",
    "let t0 = log(2.) / gamma\n",
    "let t1 = K_d/(2. * beta) + 0.135\n",
    "let x0 = beta / gamma * (0.5) \n",
    "let x1 = K_d * 0.5 \n",
    "\n",
    "// Simulation der Modelfuntkion\n",
    "let Ps = \n",
    "    modelContext.OdeInt(\n",
    "        0., // Startzeitpunkt\n",
    "        P0,\n",
    "        dP_dt\n",
    "    )\n",
    "    |> SolPoints.take 12 // Anzahl der Zeitpunkte\n",
    "    |> SolPoints.memorize \n",
    "\n",
    "//Graphische Darstellung der numerischen Lösung\n",
    "[\n",
    "    let proteins = Ps |> SolPoints.toPoints 1 \n",
    "    proteins |> Chart.Spline \n",
    "    |> Chart.withTraceInfo(\"Unreguliert\");\n",
    "    let proteinsregulated = Ps |> SolPoints.toPoints 2 \n",
    "    proteinsregulated|> Chart.Spline \n",
    "    |> Chart.withTraceInfo(\"negative AR\");\n",
    "    [t0,x0]\n",
    "        |> Chart.Point\n",
    "        |> Chart.withMarkerStyle(Color = Color.fromKeyword Blue)\n",
    "        |> Chart.withTraceInfo(\"Unreguliert\");\n",
    "    [t1,x1]\n",
    "        |> Chart.Point\n",
    "        |> Chart.withMarkerStyle(Color = Color.fromKeyword Red)\n",
    "        |> Chart.withTraceInfo(\"negative AR\");    \n",
    "]\n",
    "\n",
    "|> Chart.combine\n",
    "|> Chart.withXAxisStyle(\"Zeit\")\n",
    "|> Chart.withYAxisStyle(\"Proteinkonzentration\")"
   ]
  },
  {
   "cell_type": "markdown",
   "metadata": {},
   "source": [
    "##### Aufgabe 3.18\n",
    "\n",
    "***Welchen Effekt hat die negative Autoregulation im Bezug auf die Antwortzeit.*** \n"
   ]
  },
  {
   "cell_type": "markdown",
   "metadata": {},
   "source": [
    "Bitte hier die Antwort eingeben."
   ]
  },
  {
   "cell_type": "markdown",
   "metadata": {},
   "source": [
    "\n",
    "##### Aufgabe 3.19\n",
    "\n",
    "***Warum ist negative Autoregulation ein sinnvollerer Mechanismus für eine verkürzung der Antwortszeit für die meisten Proteine im Vergleich zur Erhöhung von $\\gamma$?***\n"
   ]
  },
  {
   "cell_type": "markdown",
   "metadata": {},
   "source": [
    "Bitte hier die Antwort eingeben."
   ]
  },
  {
   "cell_type": "markdown",
   "metadata": {},
   "source": [
    "#### Positive Autoregulation\n",
    "\n",
    "Die Betrachtung der negativen Autoregulation zeigte, dass sie dazu genutzt werden kann, die Antwortgeschwindigkeit der Proteinkonzentration zu erhöhen. Beim Vergleich von Repressor und Aktivator hatten beide einen identischen Effekt. Beide verringerten die $Proteinkonzentration_{GGW}$ und hatten keinen Einfluss auf die Antwortgeschwindigkeit. Daher ist die logische Folgerung, dass sich postive Autoregulation genauso wie die negative Autoregulation verhält. Diese Vermutung soll im nachfolgendem Abschnitt untersucht werden. Eine durch positive Autoregulation regulierte Genexpression wird durch folgende Differenzialgleichung dargestellt:\n",
    "\n",
    "$$ \\frac {dProteinkonzentration} {dt} = \\beta* \\frac {1}{1+ \\frac {K_{D}}{Proteinkonzentration}}  - \\gamma*Proteinkonzentration$$\n",
    "\n"
   ]
  },
  {
   "cell_type": "markdown",
   "metadata": {},
   "source": [
    "##### Aufgabe 3.20\n",
    "\n",
    "***Setzen sie die Gleichung für postive Autoregulation in die nachfolgende Simulation ein (Bitte beachten sie, dass sie die Proteinkonzentration als \"Proteinkonzentration2\" einsetzten müssen, ohne \"\". Beachten sie ebenfalls das $\\beta \\textrm{ und } \\gamma$ als \"beta\" und \"gamma\", ohne \"\", eingesetzt werden müssen und nicht als Symbole, und das $K_{D}$ als K_d eingesetzt wird).***"
   ]
  },
  {
   "cell_type": "code",
   "execution_count": null,
   "metadata": {
    "dotnet_interactive": {
     "language": "fsharp"
    },
    "vscode": {
     "languageId": "dotnet-interactive.fsharp"
    }
   },
   "outputs": [
    {
     "data": {
      "text/html": [
       "\n",
       "<div>\n",
       "    <div id=\"5b756428-a5c2-4136-ae29-01ef17417dd2\"><!-- Plotly chart will be drawn inside this DIV --></div>\r\n",
       "<script type=\"text/javascript\">\r\n",
       "\r\n",
       "            var renderPlotly_5b756428a5c24136ae2901ef17417dd2 = function() {\r\n",
       "            var fsharpPlotlyRequire = requirejs.config({context:'fsharp-plotly',paths:{plotly:'https://cdn.plot.ly/plotly-2.6.3.min'}}) || require;\r\n",
       "            fsharpPlotlyRequire(['plotly'], function(Plotly) {\r\n",
       "\r\n",
       "            var data = [{\"type\":\"scatter\",\"mode\":\"lines\",\"x\":[0.0,0.7856628194647389,1.4677523343222774,2.140200428251707,2.8783196297251274,3.713146045827365,4.666808620938143,5.766151026754663,7.04859282945031,8.565728422165778],\"y\":[0.0,5.441818349247017,7.695574452961647,8.823692315556546,9.43771161124187,9.755992981929104,9.905971973807508,9.968671476810862,9.991299607113897,9.998079632811486],\"marker\":{},\"line\":{\"shape\":\"spline\"},\"name\":\"Unreguliert\"},{\"type\":\"scatter\",\"mode\":\"lines\",\"x\":[0.0,0.7856628194647389,1.4677523343222774,2.140200428251707,2.8783196297251274,3.713146045827365,4.666808620938143,5.766151026754663,7.04859282945031,8.565728422165778],\"y\":[4.0,4.838882882019207,5.5725525403759955,6.209493776413471,6.763815588904103,7.211411213324171,7.539458791766505,7.756717922535201,7.885903968592316,7.953793682015552],\"marker\":{},\"line\":{\"shape\":\"spline\"},\"name\":\"positive AR\"}];\r\n",
       "            var layout = {\"width\":600,\"height\":600,\"template\":{\"layout\":{\"title\":{\"x\":0.05},\"font\":{\"color\":\"rgba(42, 63, 95, 1.0)\"},\"paper_bgcolor\":\"rgba(255, 255, 255, 1.0)\",\"plot_bgcolor\":\"rgba(229, 236, 246, 1.0)\",\"autotypenumbers\":\"strict\",\"colorscale\":{\"diverging\":[[0.0,\"#8e0152\"],[0.1,\"#c51b7d\"],[0.2,\"#de77ae\"],[0.3,\"#f1b6da\"],[0.4,\"#fde0ef\"],[0.5,\"#f7f7f7\"],[0.6,\"#e6f5d0\"],[0.7,\"#b8e186\"],[0.8,\"#7fbc41\"],[0.9,\"#4d9221\"],[1.0,\"#276419\"]],\"sequential\":[[0.0,\"#0d0887\"],[0.1111111111111111,\"#46039f\"],[0.2222222222222222,\"#7201a8\"],[0.3333333333333333,\"#9c179e\"],[0.4444444444444444,\"#bd3786\"],[0.5555555555555556,\"#d8576b\"],[0.6666666666666666,\"#ed7953\"],[0.7777777777777778,\"#fb9f3a\"],[0.8888888888888888,\"#fdca26\"],[1.0,\"#f0f921\"]],\"sequentialminus\":[[0.0,\"#0d0887\"],[0.1111111111111111,\"#46039f\"],[0.2222222222222222,\"#7201a8\"],[0.3333333333333333,\"#9c179e\"],[0.4444444444444444,\"#bd3786\"],[0.5555555555555556,\"#d8576b\"],[0.6666666666666666,\"#ed7953\"],[0.7777777777777778,\"#fb9f3a\"],[0.8888888888888888,\"#fdca26\"],[1.0,\"#f0f921\"]]},\"hovermode\":\"closest\",\"hoverlabel\":{\"align\":\"left\"},\"coloraxis\":{\"colorbar\":{\"outlinewidth\":0.0,\"ticks\":\"\"}},\"geo\":{\"showland\":true,\"landcolor\":\"rgba(229, 236, 246, 1.0)\",\"showlakes\":true,\"lakecolor\":\"rgba(255, 255, 255, 1.0)\",\"subunitcolor\":\"rgba(255, 255, 255, 1.0)\",\"bgcolor\":\"rgba(255, 255, 255, 1.0)\"},\"mapbox\":{\"style\":\"light\"},\"polar\":{\"bgcolor\":\"rgba(229, 236, 246, 1.0)\",\"radialaxis\":{\"linecolor\":\"rgba(255, 255, 255, 1.0)\",\"gridcolor\":\"rgba(255, 255, 255, 1.0)\",\"ticks\":\"\"},\"angularaxis\":{\"linecolor\":\"rgba(255, 255, 255, 1.0)\",\"gridcolor\":\"rgba(255, 255, 255, 1.0)\",\"ticks\":\"\"}},\"scene\":{\"xaxis\":{\"ticks\":\"\",\"linecolor\":\"rgba(255, 255, 255, 1.0)\",\"gridcolor\":\"rgba(255, 255, 255, 1.0)\",\"gridwidth\":2.0,\"zerolinecolor\":\"rgba(255, 255, 255, 1.0)\",\"backgroundcolor\":\"rgba(229, 236, 246, 1.0)\",\"showbackground\":true},\"yaxis\":{\"ticks\":\"\",\"linecolor\":\"rgba(255, 255, 255, 1.0)\",\"gridcolor\":\"rgba(255, 255, 255, 1.0)\",\"gridwidth\":2.0,\"zerolinecolor\":\"rgba(255, 255, 255, 1.0)\",\"backgroundcolor\":\"rgba(229, 236, 246, 1.0)\",\"showbackground\":true},\"zaxis\":{\"ticks\":\"\",\"linecolor\":\"rgba(255, 255, 255, 1.0)\",\"gridcolor\":\"rgba(255, 255, 255, 1.0)\",\"gridwidth\":2.0,\"zerolinecolor\":\"rgba(255, 255, 255, 1.0)\",\"backgroundcolor\":\"rgba(229, 236, 246, 1.0)\",\"showbackground\":true}},\"ternary\":{\"aaxis\":{\"ticks\":\"\",\"linecolor\":\"rgba(255, 255, 255, 1.0)\",\"gridcolor\":\"rgba(255, 255, 255, 1.0)\"},\"baxis\":{\"ticks\":\"\",\"linecolor\":\"rgba(255, 255, 255, 1.0)\",\"gridcolor\":\"rgba(255, 255, 255, 1.0)\"},\"caxis\":{\"ticks\":\"\",\"linecolor\":\"rgba(255, 255, 255, 1.0)\",\"gridcolor\":\"rgba(255, 255, 255, 1.0)\"},\"bgcolor\":\"rgba(229, 236, 246, 1.0)\"},\"xaxis\":{\"title\":{\"standoff\":15},\"ticks\":\"\",\"automargin\":true,\"linecolor\":\"rgba(255, 255, 255, 1.0)\",\"gridcolor\":\"rgba(255, 255, 255, 1.0)\",\"zerolinecolor\":\"rgba(255, 255, 255, 1.0)\",\"zerolinewidth\":2.0},\"yaxis\":{\"title\":{\"standoff\":15},\"ticks\":\"\",\"automargin\":true,\"linecolor\":\"rgba(255, 255, 255, 1.0)\",\"gridcolor\":\"rgba(255, 255, 255, 1.0)\",\"zerolinecolor\":\"rgba(255, 255, 255, 1.0)\",\"zerolinewidth\":2.0},\"annotationdefaults\":{\"arrowcolor\":\"#2a3f5f\",\"arrowhead\":0,\"arrowwidth\":1},\"shapedefaults\":{\"line\":{\"color\":\"rgba(42, 63, 95, 1.0)\"}},\"colorway\":[\"rgba(99, 110, 250, 1.0)\",\"rgba(239, 85, 59, 1.0)\",\"rgba(0, 204, 150, 1.0)\",\"rgba(171, 99, 250, 1.0)\",\"rgba(255, 161, 90, 1.0)\",\"rgba(25, 211, 243, 1.0)\",\"rgba(255, 102, 146, 1.0)\",\"rgba(182, 232, 128, 1.0)\",\"rgba(255, 151, 255, 1.0)\",\"rgba(254, 203, 82, 1.0)\"]},\"data\":{\"bar\":[{\"marker\":{\"line\":{\"color\":\"rgba(229, 236, 246, 1.0)\",\"width\":0.5},\"pattern\":{\"fillmode\":\"overlay\",\"size\":10,\"solidity\":0.2}},\"error_x\":{\"color\":\"rgba(42, 63, 95, 1.0)\"},\"error_y\":{\"color\":\"rgba(42, 63, 95, 1.0)\"}}],\"barpolar\":[{\"marker\":{\"line\":{\"color\":\"rgba(229, 236, 246, 1.0)\",\"width\":0.5},\"pattern\":{\"fillmode\":\"overlay\",\"size\":10,\"solidity\":0.2}}}],\"carpet\":[{\"aaxis\":{\"linecolor\":\"rgba(255, 255, 255, 1.0)\",\"gridcolor\":\"rgba(255, 255, 255, 1.0)\",\"endlinecolor\":\"rgba(42, 63, 95, 1.0)\",\"minorgridcolor\":\"rgba(255, 255, 255, 1.0)\",\"startlinecolor\":\"rgba(42, 63, 95, 1.0)\"},\"baxis\":{\"linecolor\":\"rgba(255, 255, 255, 1.0)\",\"gridcolor\":\"rgba(255, 255, 255, 1.0)\",\"endlinecolor\":\"rgba(42, 63, 95, 1.0)\",\"minorgridcolor\":\"rgba(255, 255, 255, 1.0)\",\"startlinecolor\":\"rgba(42, 63, 95, 1.0)\"}}],\"choropleth\":[{\"colorbar\":{\"outlinewidth\":0.0,\"ticks\":\"\"},\"colorscale\":[[0.0,\"#0d0887\"],[0.1111111111111111,\"#46039f\"],[0.2222222222222222,\"#7201a8\"],[0.3333333333333333,\"#9c179e\"],[0.4444444444444444,\"#bd3786\"],[0.5555555555555556,\"#d8576b\"],[0.6666666666666666,\"#ed7953\"],[0.7777777777777778,\"#fb9f3a\"],[0.8888888888888888,\"#fdca26\"],[1.0,\"#f0f921\"]]}],\"contour\":[{\"colorbar\":{\"outlinewidth\":0.0,\"ticks\":\"\"},\"colorscale\":[[0.0,\"#0d0887\"],[0.1111111111111111,\"#46039f\"],[0.2222222222222222,\"#7201a8\"],[0.3333333333333333,\"#9c179e\"],[0.4444444444444444,\"#bd3786\"],[0.5555555555555556,\"#d8576b\"],[0.6666666666666666,\"#ed7953\"],[0.7777777777777778,\"#fb9f3a\"],[0.8888888888888888,\"#fdca26\"],[1.0,\"#f0f921\"]]}],\"contourcarpet\":[{\"colorbar\":{\"outlinewidth\":0.0,\"ticks\":\"\"}}],\"heatmap\":[{\"colorbar\":{\"outlinewidth\":0.0,\"ticks\":\"\"},\"colorscale\":[[0.0,\"#0d0887\"],[0.1111111111111111,\"#46039f\"],[0.2222222222222222,\"#7201a8\"],[0.3333333333333333,\"#9c179e\"],[0.4444444444444444,\"#bd3786\"],[0.5555555555555556,\"#d8576b\"],[0.6666666666666666,\"#ed7953\"],[0.7777777777777778,\"#fb9f3a\"],[0.8888888888888888,\"#fdca26\"],[1.0,\"#f0f921\"]]}],\"heatmapgl\":[{\"colorbar\":{\"outlinewidth\":0.0,\"ticks\":\"\"},\"colorscale\":[[0.0,\"#0d0887\"],[0.1111111111111111,\"#46039f\"],[0.2222222222222222,\"#7201a8\"],[0.3333333333333333,\"#9c179e\"],[0.4444444444444444,\"#bd3786\"],[0.5555555555555556,\"#d8576b\"],[0.6666666666666666,\"#ed7953\"],[0.7777777777777778,\"#fb9f3a\"],[0.8888888888888888,\"#fdca26\"],[1.0,\"#f0f921\"]]}],\"histogram\":[{\"marker\":{\"pattern\":{\"fillmode\":\"overlay\",\"size\":10,\"solidity\":0.2}}}],\"histogram2d\":[{\"colorbar\":{\"outlinewidth\":0.0,\"ticks\":\"\"},\"colorscale\":[[0.0,\"#0d0887\"],[0.1111111111111111,\"#46039f\"],[0.2222222222222222,\"#7201a8\"],[0.3333333333333333,\"#9c179e\"],[0.4444444444444444,\"#bd3786\"],[0.5555555555555556,\"#d8576b\"],[0.6666666666666666,\"#ed7953\"],[0.7777777777777778,\"#fb9f3a\"],[0.8888888888888888,\"#fdca26\"],[1.0,\"#f0f921\"]]}],\"histogram2dcontour\":[{\"colorbar\":{\"outlinewidth\":0.0,\"ticks\":\"\"},\"colorscale\":[[0.0,\"#0d0887\"],[0.1111111111111111,\"#46039f\"],[0.2222222222222222,\"#7201a8\"],[0.3333333333333333,\"#9c179e\"],[0.4444444444444444,\"#bd3786\"],[0.5555555555555556,\"#d8576b\"],[0.6666666666666666,\"#ed7953\"],[0.7777777777777778,\"#fb9f3a\"],[0.8888888888888888,\"#fdca26\"],[1.0,\"#f0f921\"]]}],\"mesh3d\":[{\"colorbar\":{\"outlinewidth\":0.0,\"ticks\":\"\"}}],\"parcoords\":[{\"line\":{\"colorbar\":{\"outlinewidth\":0.0,\"ticks\":\"\"}}}],\"pie\":[{\"automargin\":true}],\"scatter\":[{\"marker\":{\"colorbar\":{\"outlinewidth\":0.0,\"ticks\":\"\"}}}],\"scatter3d\":[{\"marker\":{\"colorbar\":{\"outlinewidth\":0.0,\"ticks\":\"\"}},\"line\":{\"colorbar\":{\"outlinewidth\":0.0,\"ticks\":\"\"}}}],\"scattercarpet\":[{\"marker\":{\"colorbar\":{\"outlinewidth\":0.0,\"ticks\":\"\"}}}],\"scattergeo\":[{\"marker\":{\"colorbar\":{\"outlinewidth\":0.0,\"ticks\":\"\"}}}],\"scattergl\":[{\"marker\":{\"colorbar\":{\"outlinewidth\":0.0,\"ticks\":\"\"}}}],\"scattermapbox\":[{\"marker\":{\"colorbar\":{\"outlinewidth\":0.0,\"ticks\":\"\"}}}],\"scatterpolar\":[{\"marker\":{\"colorbar\":{\"outlinewidth\":0.0,\"ticks\":\"\"}}}],\"scatterpolargl\":[{\"marker\":{\"colorbar\":{\"outlinewidth\":0.0,\"ticks\":\"\"}}}],\"scatterternary\":[{\"marker\":{\"colorbar\":{\"outlinewidth\":0.0,\"ticks\":\"\"}}}],\"surface\":[{\"colorbar\":{\"outlinewidth\":0.0,\"ticks\":\"\"},\"colorscale\":[[0.0,\"#0d0887\"],[0.1111111111111111,\"#46039f\"],[0.2222222222222222,\"#7201a8\"],[0.3333333333333333,\"#9c179e\"],[0.4444444444444444,\"#bd3786\"],[0.5555555555555556,\"#d8576b\"],[0.6666666666666666,\"#ed7953\"],[0.7777777777777778,\"#fb9f3a\"],[0.8888888888888888,\"#fdca26\"],[1.0,\"#f0f921\"]]}],\"table\":[{\"cells\":{\"fill\":{\"color\":\"rgba(235, 240, 248, 1.0)\"},\"line\":{\"color\":\"rgba(255, 255, 255, 1.0)\"}},\"header\":{\"fill\":{\"color\":\"rgba(200, 212, 227, 1.0)\"},\"line\":{\"color\":\"rgba(255, 255, 255, 1.0)\"}}}]}},\"xaxis\":{\"title\":{\"text\":\"Zeit\"}},\"yaxis\":{\"title\":{\"text\":\"Proteinkonzentration\"}}};\r\n",
       "            var config = {\"responsive\":true};\r\n",
       "            Plotly.newPlot('5b756428-a5c2-4136-ae29-01ef17417dd2', data, layout, config);\r\n",
       "});\r\n",
       "            };\r\n",
       "            if ((typeof(requirejs) !==  typeof(Function)) || (typeof(requirejs.config) !== typeof(Function))) {\r\n",
       "                var script = document.createElement(\"script\");\r\n",
       "                script.setAttribute(\"src\", \"https://cdnjs.cloudflare.com/ajax/libs/require.js/2.3.6/require.min.js\");\r\n",
       "                script.onload = function(){\r\n",
       "                    renderPlotly_5b756428a5c24136ae2901ef17417dd2();\r\n",
       "                };\r\n",
       "                document.getElementsByTagName(\"head\")[0].appendChild(script);\r\n",
       "            }\r\n",
       "            else {\r\n",
       "                renderPlotly_5b756428a5c24136ae2901ef17417dd2();\r\n",
       "            }\r\n",
       "</script>\r\n",
       "\n",
       "    \n",
       "</div>    \n"
      ]
     },
     "metadata": {},
     "output_type": "display_data"
    }
   ],
   "source": [
    "//Konstanten\n",
    "let beta  =  10.0 // Konstante für die Zunahme der Proteinkonzentration\n",
    "let gamma =  1.0  // Konstante für die Verringerung der Proteinkonzentration\n",
    "let K_d =    4.0  // Dissoziationskonstante\n",
    "let n =      2.0  // Hill Koeffizent \n",
    "\n",
    "// unsere DGL als  Modell (Model)\n",
    "let dP_dt : Model = \n",
    "    fun P t ->\n",
    "\n",
    "        let Proteinkonzentration1 = P[0] // Änderung in der Proteinmenge\n",
    "        let Proteinkonzentration2 = P[1] // Änderung in der Proteinmenge\n",
    "        //Änderung der Proteinkonzentration ohne positive Autoregulation\n",
    "        let Proteinkonzentration1' = beta - (gamma*Proteinkonzentration1)\n",
    "        // Änderung des Proteinkonzentration bei positiver Autoregulation (hier die Gleichung einsetzen)\n",
    "        let Proteinkonzentration2' = beta * (Proteinkonzentration2**n)/((Proteinkonzentration2**n) + (K_d**n)) - (gamma*Proteinkonzentration2)\n",
    "\n",
    "        [| Proteinkonzentration1'; Proteinkonzentration2' |]\n",
    "\n",
    "//Startkonzentrationen\n",
    "let P0 = [| \n",
    "    //Startkonzentration für das unregulierte Protein (muss nicht verändert werden)\n",
    "    0.0 \n",
    "    //Startkonzentration für das durch postive Autoreguliation regulierte Protein (hier bitte die Startwerte ändern)\n",
    "    4.0 \n",
    "|]\n",
    "\n",
    "// Simulation der Modelfuntkion\n",
    "let Ps = \n",
    "    modelContext.OdeInt(\n",
    "        0., // Startzeitpunkt\n",
    "        P0,\n",
    "        dP_dt\n",
    "    )\n",
    "    |> SolPoints.take 10 // Anzahl der Zeitpunkte\n",
    "    |> SolPoints.memorize \n",
    "\n",
    "//Graphische Darstellung der numerischen Lösung\n",
    "[\n",
    "    let proteins = Ps |> SolPoints.toPoints 1 \n",
    "    proteins |> Chart.Spline \n",
    "    |> Chart.withTraceInfo(\"Unreguliert\");\n",
    "    let proteinsregulated = Ps |> SolPoints.toPoints 2 \n",
    "    proteinsregulated|> Chart.Spline \n",
    "    |> Chart.withTraceInfo(\"positive AR\");\n",
    "]\n",
    "\n",
    "|> Chart.combine\n",
    "|> Chart.withXAxisStyle(\"Zeit\")\n",
    "|> Chart.withYAxisStyle(\"Proteinkonzentration\")"
   ]
  },
  {
   "cell_type": "markdown",
   "metadata": {},
   "source": [
    "##### Aufgabe 3.21\n",
    "\n",
    "***Welchen Effekt hat positive Autoregulation?***"
   ]
  },
  {
   "cell_type": "markdown",
   "metadata": {},
   "source": [
    "Hier die Antwort eingeben."
   ]
  },
  {
   "cell_type": "markdown",
   "metadata": {},
   "source": [
    "Es folgt eine kurze Besprechung. Falls Sie schnell vorangekommen sind, können sie bis zur Besprechung folgende Aufgaben lösen.\n",
    "\n",
    "\n",
    "##### Expertenaufgabe 3.2\n",
    "\n",
    "***Überlegen sie sich wie lange die Antwortszeit von einem Protein ist, mit folgenden Bedingungen:***\n",
    "1. ***Es gibt eine gewisse Anfangskonzentration $P_{Start}$***\n",
    "2. ***Die Produktionsrate $\\beta$ ist null***\n",
    "3. ***Der Teil $\\gamma_{Abbau}$ von $\\gamma$ ist null.*** \n",
    "\n",
    "***Das bedeutet die initale Proteinkonzentration verändert sich nur durch das Verteilen des Proteins in der Zelle und durch Zellteilung. Die Antwortszeit soll sich auf das Volumen von einer Zelle beziehen.\n",
    "Überlegen sie weiterhin, ob diese Bedingungen häufig auftreten insbesondere mit Blick auf die Stabilität der meisten Proteine in der Zelle.***\n",
    "\n",
    "***Falls sie Probleme mit dem lösen der Aufgabe haben, nutzen sie die folgende Literatur (diese beschreibt ein etwas komplexeres System, kommt aber zu der gesuchten Antwort):\n",
    "https://www.sciencedirect.com/science/article/pii/S0022283603005060?via%3Dihub***"
   ]
  },
  {
   "cell_type": "markdown",
   "metadata": {},
   "source": [
    "Bitte hier die Antwort eingeben."
   ]
  },
  {
   "cell_type": "markdown",
   "metadata": {},
   "source": [
    "Take Home Messages\n",
    "\n",
    "1. Ordinäre differentialgleichungen für die Änderung der Proteinkonzentration erlauben es einfache Genexpressions prozesse zu beschreiben\n",
    "2. \n",
    "..\n",
    "n. <br>\n",
    "n+1. Die Regulation der Proteinproduktion durch Aktivatoren und Repressoren führt zu einer Verringerung des Proteinkonzentrationsgleichgewichtspunktes.<br>\n",
    "n+2. Negative Autoregulation verringert die Antwortszeit der Proteinproduktion und ist eines der einfachsten Netzwerkmotive.<br>\n",
    "n+2. Postive Autoregulation führt zu einer erhöhten Antwortszeit und ist ebenfalls ein Netzwerkmotiv.<br>\n"
   ]
  }
 ],
 "metadata": {
  "kernelspec": {
   "display_name": ".NET (C#)",
   "language": "C#",
   "name": ".net-csharp"
  },
  "language_info": {
   "file_extension": ".cs",
   "mimetype": "text/x-csharp",
   "name": "C#",
   "pygments_lexer": "csharp",
   "version": "9.0"
  },
  "vscode": {
   "interpreter": {
    "hash": "3017eed01e41510f2e4758f02a5c4b458edd512c2a48ee2ef97492bf17f5a7a1"
   }
  }
 },
 "nbformat": 4,
 "nbformat_minor": 2
}
