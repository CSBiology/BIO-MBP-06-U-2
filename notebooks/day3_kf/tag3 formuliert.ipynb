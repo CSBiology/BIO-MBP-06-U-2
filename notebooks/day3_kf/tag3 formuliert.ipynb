{
 "cells": [
  {
   "cell_type": "code",
   "execution_count": null,
   "metadata": {
    "dotnet_interactive": {
     "language": "fsharp"
    },
    "vscode": {
     "languageId": "dotnet-interactive.fsharp"
    }
   },
   "outputs": [
    {
     "data": {
      "text/html": [
       "<div><div></div><div></div><div><strong>Installed Packages</strong><ul><li><span>FSharp.Stats, 0.4.8</span></li><li><span>FsODE, 0.0.2</span></li><li><span>Plotly.NET.Interactive, 3.0.2</span></li></ul></div></div>"
      ]
     },
     "metadata": {},
     "output_type": "display_data"
    }
   ],
   "source": [
    "// Importieren der benötigten Module\n",
    "#r \"nuget: Plotly.NET.Interactive, 3.0.2\"\n",
    "#r \"nuget: FsODE, 0.0.2\"\n",
    "#r \"nuget: FSharp.Stats\"\n",
    "\n",
    "// ... und öffnen der benöätigten Module\n",
    "open FsODE\n",
    "open Plotly.NET\n",
    "open FSharp.Stats\n",
    "open FsODE.Stochastic\n",
    "\n",
    "// der Rechenalgorithmus der Programmbibliothek, die wir benutzen:\n",
    "let modelContext = //OdeContext()\n",
    "    OdeSolverMethod.RK546M //RK547M()\n",
    "    |> OdeContext"
   ]
  },
  {
   "cell_type": "markdown",
   "metadata": {},
   "source": [
    "## Modellierung von einfachen biologischen Systemen\n",
    "\n",
    "### Inhalt\n",
    "\n",
    "- einfache biologische Systeme\n",
    "- Stochastik \n",
    "- Aktivator und Repressor\n",
    "- Autoregulation\n",
    "    - Negative Autoregulation\n",
    "    - Postive Autoregulation\n",
    "\n",
    "### Biologische Systeme \n",
    "\n",
    "Biologische Systeme können als Netzwerke aufgefasst werden, in welchen biologischen Einheiten miteinander verknüpft sind. Dabei hängen Größe, Art, und Anzahl der biologischen Einheiten vom gewählten System ab. Biologische Zellen sind dabei besonders interessanteste Systeme. Sie werden begrenzt von einer Membran die Stoff-, Energie-, und Informationsaustausch mit der Umgebung erlaubt, und enthalten Millionen von Molekülen die alle miteinander interagieren. Dabei sind die Interaktionen zumeist spezifischer Natur und formen selbst wiederum kleinere biologische Systeme, die die Funktion der ganzen Zelle sicherstellen. Beispiele für solche Systeme sind die Kontrolle des Zelltods, Signalwege die die Kommunikation mit anderen Zellen erlauben, die Nutzung von Metaboliten, und viele weitere. \n",
    "Die Grundeinheiten in solchen Systemen sind Gene, beziehungsweise die Proteine, welche von diesen kodiert werden. Diese Grundeinheiten sind miteinander verbunden in sogenannten Netzwerkmotiven. Diese Netzwerkmotive sind mannigfaltig und die Grundlegendsten werden in den nächsten zwei Notebooks besprochen. <br>\n",
    "Alle Netzwerke beschäftigen sich damit, wie sich die einzelnen Proteinkonzentration verändern und welche Auswirkungen dies hat. Daher ist der erste Schritt zum Verständnis von diesen, die Differenzialgleichung die beschreibt wie sich die Proteinkonzentration eines Proteins über die Zeit verändert.\n",
    "Der Aufbau der Differenzialgleichung ist immer identisch. Die Komplexität der einzelnen Teile der Gleichung kann jedoch variieren in Abhängigkeit der Anzahl an Faktoren, die auf die Produktion des Proteins Einfluss nehmen. Diese allgemeine Form ist \n",
    "$$ \\frac {dProteinkonzentration} {dt} = \\textrm{Produktion des Proteins} - \\textrm{Verringerung der Proteinkonzentration}$$\n"
   ]
  },
  {
   "cell_type": "markdown",
   "metadata": {},
   "source": [
    "##### Aufgabe 3.1\n",
    "***Der Ausdruck \"Verringerung der Proteinkonzentration\" ist sehr allgemein formuliert. Überlegen Sie, welche Faktoren für diese Verringerung verantwortlich sein können. Betreiben Sie falls nötig Literaturrecherche.***"
   ]
  },
  {
   "cell_type": "markdown",
   "metadata": {},
   "source": [
    "Hier die Antwort eingeben."
   ]
  },
  {
   "cell_type": "markdown",
   "metadata": {},
   "source": [
    "\n",
    "Was ist dann die Proteinkonzentration eines Proteins X das von einem Gen x produziert wird? Wenn die Annahme getätigt wird, dass das Gen x nur das Protein X codiert und auch in sonst keiner Weise beeinflusst wird, kann die Produktion des Proteins X direkt mit einer Produktionsrate $\\beta$ beschrieben werden. Dem gegenüber stehen die Faktoren, welche die Proteinkonzentration verringern. Diese sind abhängig von der Proteinkonzentration. Die mathematische Beschreibung dieses Prozesses wird mit dem Verringerungsfaktor $\\gamma$ zusammengefasst, der mit der Proteinkonzentration verrechnet wird. Die Differenzialgleichung ist somit\n",
    "\n",
    "$$ \\frac {dProteinkonzentration} {dt} = \\beta - \\gamma*Proteinkonzentration$$\n",
    "\n",
    "##### Aufgabe 3.2\n",
    "***Setze die Differenzialgleichung in das folgende Model ein (beachte das $\\beta \\textrm{ und } \\gamma$ als \"beta\" und \"gamma\", ohne \"\", eingesetzt werden müssen und nicht als Symbole).***\n"
   ]
  },
  {
   "cell_type": "code",
   "execution_count": null,
   "metadata": {
    "dotnet_interactive": {
     "language": "fsharp"
    },
    "vscode": {
     "languageId": "dotnet-interactive.fsharp"
    }
   },
   "outputs": [
    {
     "data": {
      "text/html": [
       "\n",
       "<div>\n",
       "    <div id=\"826ddc77-6177-454d-92ec-88ab95bef5df\"><!-- Plotly chart will be drawn inside this DIV --></div>\r\n",
       "<script type=\"text/javascript\">\r\n",
       "\r\n",
       "            var renderPlotly_826ddc776177454d92ec88ab95bef5df = function() {\r\n",
       "            var fsharpPlotlyRequire = requirejs.config({context:'fsharp-plotly',paths:{plotly:'https://cdn.plot.ly/plotly-2.6.3.min'}}) || require;\r\n",
       "            fsharpPlotlyRequire(['plotly'], function(Plotly) {\r\n",
       "\r\n",
       "            var data = [{\"type\":\"scatter\",\"mode\":\"lines\",\"x\":[0.0,0.7989479999643277,1.515360099024572,2.2056811569599497,2.9035649684403015,3.6321330352019467,4.4122540345783285,5.2660951372752205,6.219302924272051,7.30353848796182],\"y\":[10.0,5.598425870906858,3.7578334079090143,2.881401691153138,2.438617160567895,2.2116760158590605,2.09702191402635,2.041310162261161,2.015926093831235,2.005386870962245],\"marker\":{},\"line\":{\"shape\":\"spline\"},\"name\":\"Protein\"}];\r\n",
       "            var layout = {\"width\":600,\"height\":600,\"template\":{\"layout\":{\"title\":{\"x\":0.05},\"font\":{\"color\":\"rgba(42, 63, 95, 1.0)\"},\"paper_bgcolor\":\"rgba(255, 255, 255, 1.0)\",\"plot_bgcolor\":\"rgba(229, 236, 246, 1.0)\",\"autotypenumbers\":\"strict\",\"colorscale\":{\"diverging\":[[0.0,\"#8e0152\"],[0.1,\"#c51b7d\"],[0.2,\"#de77ae\"],[0.3,\"#f1b6da\"],[0.4,\"#fde0ef\"],[0.5,\"#f7f7f7\"],[0.6,\"#e6f5d0\"],[0.7,\"#b8e186\"],[0.8,\"#7fbc41\"],[0.9,\"#4d9221\"],[1.0,\"#276419\"]],\"sequential\":[[0.0,\"#0d0887\"],[0.1111111111111111,\"#46039f\"],[0.2222222222222222,\"#7201a8\"],[0.3333333333333333,\"#9c179e\"],[0.4444444444444444,\"#bd3786\"],[0.5555555555555556,\"#d8576b\"],[0.6666666666666666,\"#ed7953\"],[0.7777777777777778,\"#fb9f3a\"],[0.8888888888888888,\"#fdca26\"],[1.0,\"#f0f921\"]],\"sequentialminus\":[[0.0,\"#0d0887\"],[0.1111111111111111,\"#46039f\"],[0.2222222222222222,\"#7201a8\"],[0.3333333333333333,\"#9c179e\"],[0.4444444444444444,\"#bd3786\"],[0.5555555555555556,\"#d8576b\"],[0.6666666666666666,\"#ed7953\"],[0.7777777777777778,\"#fb9f3a\"],[0.8888888888888888,\"#fdca26\"],[1.0,\"#f0f921\"]]},\"hovermode\":\"closest\",\"hoverlabel\":{\"align\":\"left\"},\"coloraxis\":{\"colorbar\":{\"outlinewidth\":0.0,\"ticks\":\"\"}},\"geo\":{\"showland\":true,\"landcolor\":\"rgba(229, 236, 246, 1.0)\",\"showlakes\":true,\"lakecolor\":\"rgba(255, 255, 255, 1.0)\",\"subunitcolor\":\"rgba(255, 255, 255, 1.0)\",\"bgcolor\":\"rgba(255, 255, 255, 1.0)\"},\"mapbox\":{\"style\":\"light\"},\"polar\":{\"bgcolor\":\"rgba(229, 236, 246, 1.0)\",\"radialaxis\":{\"linecolor\":\"rgba(255, 255, 255, 1.0)\",\"gridcolor\":\"rgba(255, 255, 255, 1.0)\",\"ticks\":\"\"},\"angularaxis\":{\"linecolor\":\"rgba(255, 255, 255, 1.0)\",\"gridcolor\":\"rgba(255, 255, 255, 1.0)\",\"ticks\":\"\"}},\"scene\":{\"xaxis\":{\"ticks\":\"\",\"linecolor\":\"rgba(255, 255, 255, 1.0)\",\"gridcolor\":\"rgba(255, 255, 255, 1.0)\",\"gridwidth\":2.0,\"zerolinecolor\":\"rgba(255, 255, 255, 1.0)\",\"backgroundcolor\":\"rgba(229, 236, 246, 1.0)\",\"showbackground\":true},\"yaxis\":{\"ticks\":\"\",\"linecolor\":\"rgba(255, 255, 255, 1.0)\",\"gridcolor\":\"rgba(255, 255, 255, 1.0)\",\"gridwidth\":2.0,\"zerolinecolor\":\"rgba(255, 255, 255, 1.0)\",\"backgroundcolor\":\"rgba(229, 236, 246, 1.0)\",\"showbackground\":true},\"zaxis\":{\"ticks\":\"\",\"linecolor\":\"rgba(255, 255, 255, 1.0)\",\"gridcolor\":\"rgba(255, 255, 255, 1.0)\",\"gridwidth\":2.0,\"zerolinecolor\":\"rgba(255, 255, 255, 1.0)\",\"backgroundcolor\":\"rgba(229, 236, 246, 1.0)\",\"showbackground\":true}},\"ternary\":{\"aaxis\":{\"ticks\":\"\",\"linecolor\":\"rgba(255, 255, 255, 1.0)\",\"gridcolor\":\"rgba(255, 255, 255, 1.0)\"},\"baxis\":{\"ticks\":\"\",\"linecolor\":\"rgba(255, 255, 255, 1.0)\",\"gridcolor\":\"rgba(255, 255, 255, 1.0)\"},\"caxis\":{\"ticks\":\"\",\"linecolor\":\"rgba(255, 255, 255, 1.0)\",\"gridcolor\":\"rgba(255, 255, 255, 1.0)\"},\"bgcolor\":\"rgba(229, 236, 246, 1.0)\"},\"xaxis\":{\"title\":{\"standoff\":15},\"ticks\":\"\",\"automargin\":true,\"linecolor\":\"rgba(255, 255, 255, 1.0)\",\"gridcolor\":\"rgba(255, 255, 255, 1.0)\",\"zerolinecolor\":\"rgba(255, 255, 255, 1.0)\",\"zerolinewidth\":2.0},\"yaxis\":{\"title\":{\"standoff\":15},\"ticks\":\"\",\"automargin\":true,\"linecolor\":\"rgba(255, 255, 255, 1.0)\",\"gridcolor\":\"rgba(255, 255, 255, 1.0)\",\"zerolinecolor\":\"rgba(255, 255, 255, 1.0)\",\"zerolinewidth\":2.0},\"annotationdefaults\":{\"arrowcolor\":\"#2a3f5f\",\"arrowhead\":0,\"arrowwidth\":1},\"shapedefaults\":{\"line\":{\"color\":\"rgba(42, 63, 95, 1.0)\"}},\"colorway\":[\"rgba(99, 110, 250, 1.0)\",\"rgba(239, 85, 59, 1.0)\",\"rgba(0, 204, 150, 1.0)\",\"rgba(171, 99, 250, 1.0)\",\"rgba(255, 161, 90, 1.0)\",\"rgba(25, 211, 243, 1.0)\",\"rgba(255, 102, 146, 1.0)\",\"rgba(182, 232, 128, 1.0)\",\"rgba(255, 151, 255, 1.0)\",\"rgba(254, 203, 82, 1.0)\"]},\"data\":{\"bar\":[{\"marker\":{\"line\":{\"color\":\"rgba(229, 236, 246, 1.0)\",\"width\":0.5},\"pattern\":{\"fillmode\":\"overlay\",\"size\":10,\"solidity\":0.2}},\"error_x\":{\"color\":\"rgba(42, 63, 95, 1.0)\"},\"error_y\":{\"color\":\"rgba(42, 63, 95, 1.0)\"}}],\"barpolar\":[{\"marker\":{\"line\":{\"color\":\"rgba(229, 236, 246, 1.0)\",\"width\":0.5},\"pattern\":{\"fillmode\":\"overlay\",\"size\":10,\"solidity\":0.2}}}],\"carpet\":[{\"aaxis\":{\"linecolor\":\"rgba(255, 255, 255, 1.0)\",\"gridcolor\":\"rgba(255, 255, 255, 1.0)\",\"endlinecolor\":\"rgba(42, 63, 95, 1.0)\",\"minorgridcolor\":\"rgba(255, 255, 255, 1.0)\",\"startlinecolor\":\"rgba(42, 63, 95, 1.0)\"},\"baxis\":{\"linecolor\":\"rgba(255, 255, 255, 1.0)\",\"gridcolor\":\"rgba(255, 255, 255, 1.0)\",\"endlinecolor\":\"rgba(42, 63, 95, 1.0)\",\"minorgridcolor\":\"rgba(255, 255, 255, 1.0)\",\"startlinecolor\":\"rgba(42, 63, 95, 1.0)\"}}],\"choropleth\":[{\"colorbar\":{\"outlinewidth\":0.0,\"ticks\":\"\"},\"colorscale\":[[0.0,\"#0d0887\"],[0.1111111111111111,\"#46039f\"],[0.2222222222222222,\"#7201a8\"],[0.3333333333333333,\"#9c179e\"],[0.4444444444444444,\"#bd3786\"],[0.5555555555555556,\"#d8576b\"],[0.6666666666666666,\"#ed7953\"],[0.7777777777777778,\"#fb9f3a\"],[0.8888888888888888,\"#fdca26\"],[1.0,\"#f0f921\"]]}],\"contour\":[{\"colorbar\":{\"outlinewidth\":0.0,\"ticks\":\"\"},\"colorscale\":[[0.0,\"#0d0887\"],[0.1111111111111111,\"#46039f\"],[0.2222222222222222,\"#7201a8\"],[0.3333333333333333,\"#9c179e\"],[0.4444444444444444,\"#bd3786\"],[0.5555555555555556,\"#d8576b\"],[0.6666666666666666,\"#ed7953\"],[0.7777777777777778,\"#fb9f3a\"],[0.8888888888888888,\"#fdca26\"],[1.0,\"#f0f921\"]]}],\"contourcarpet\":[{\"colorbar\":{\"outlinewidth\":0.0,\"ticks\":\"\"}}],\"heatmap\":[{\"colorbar\":{\"outlinewidth\":0.0,\"ticks\":\"\"},\"colorscale\":[[0.0,\"#0d0887\"],[0.1111111111111111,\"#46039f\"],[0.2222222222222222,\"#7201a8\"],[0.3333333333333333,\"#9c179e\"],[0.4444444444444444,\"#bd3786\"],[0.5555555555555556,\"#d8576b\"],[0.6666666666666666,\"#ed7953\"],[0.7777777777777778,\"#fb9f3a\"],[0.8888888888888888,\"#fdca26\"],[1.0,\"#f0f921\"]]}],\"heatmapgl\":[{\"colorbar\":{\"outlinewidth\":0.0,\"ticks\":\"\"},\"colorscale\":[[0.0,\"#0d0887\"],[0.1111111111111111,\"#46039f\"],[0.2222222222222222,\"#7201a8\"],[0.3333333333333333,\"#9c179e\"],[0.4444444444444444,\"#bd3786\"],[0.5555555555555556,\"#d8576b\"],[0.6666666666666666,\"#ed7953\"],[0.7777777777777778,\"#fb9f3a\"],[0.8888888888888888,\"#fdca26\"],[1.0,\"#f0f921\"]]}],\"histogram\":[{\"marker\":{\"pattern\":{\"fillmode\":\"overlay\",\"size\":10,\"solidity\":0.2}}}],\"histogram2d\":[{\"colorbar\":{\"outlinewidth\":0.0,\"ticks\":\"\"},\"colorscale\":[[0.0,\"#0d0887\"],[0.1111111111111111,\"#46039f\"],[0.2222222222222222,\"#7201a8\"],[0.3333333333333333,\"#9c179e\"],[0.4444444444444444,\"#bd3786\"],[0.5555555555555556,\"#d8576b\"],[0.6666666666666666,\"#ed7953\"],[0.7777777777777778,\"#fb9f3a\"],[0.8888888888888888,\"#fdca26\"],[1.0,\"#f0f921\"]]}],\"histogram2dcontour\":[{\"colorbar\":{\"outlinewidth\":0.0,\"ticks\":\"\"},\"colorscale\":[[0.0,\"#0d0887\"],[0.1111111111111111,\"#46039f\"],[0.2222222222222222,\"#7201a8\"],[0.3333333333333333,\"#9c179e\"],[0.4444444444444444,\"#bd3786\"],[0.5555555555555556,\"#d8576b\"],[0.6666666666666666,\"#ed7953\"],[0.7777777777777778,\"#fb9f3a\"],[0.8888888888888888,\"#fdca26\"],[1.0,\"#f0f921\"]]}],\"mesh3d\":[{\"colorbar\":{\"outlinewidth\":0.0,\"ticks\":\"\"}}],\"parcoords\":[{\"line\":{\"colorbar\":{\"outlinewidth\":0.0,\"ticks\":\"\"}}}],\"pie\":[{\"automargin\":true}],\"scatter\":[{\"marker\":{\"colorbar\":{\"outlinewidth\":0.0,\"ticks\":\"\"}}}],\"scatter3d\":[{\"marker\":{\"colorbar\":{\"outlinewidth\":0.0,\"ticks\":\"\"}},\"line\":{\"colorbar\":{\"outlinewidth\":0.0,\"ticks\":\"\"}}}],\"scattercarpet\":[{\"marker\":{\"colorbar\":{\"outlinewidth\":0.0,\"ticks\":\"\"}}}],\"scattergeo\":[{\"marker\":{\"colorbar\":{\"outlinewidth\":0.0,\"ticks\":\"\"}}}],\"scattergl\":[{\"marker\":{\"colorbar\":{\"outlinewidth\":0.0,\"ticks\":\"\"}}}],\"scattermapbox\":[{\"marker\":{\"colorbar\":{\"outlinewidth\":0.0,\"ticks\":\"\"}}}],\"scatterpolar\":[{\"marker\":{\"colorbar\":{\"outlinewidth\":0.0,\"ticks\":\"\"}}}],\"scatterpolargl\":[{\"marker\":{\"colorbar\":{\"outlinewidth\":0.0,\"ticks\":\"\"}}}],\"scatterternary\":[{\"marker\":{\"colorbar\":{\"outlinewidth\":0.0,\"ticks\":\"\"}}}],\"surface\":[{\"colorbar\":{\"outlinewidth\":0.0,\"ticks\":\"\"},\"colorscale\":[[0.0,\"#0d0887\"],[0.1111111111111111,\"#46039f\"],[0.2222222222222222,\"#7201a8\"],[0.3333333333333333,\"#9c179e\"],[0.4444444444444444,\"#bd3786\"],[0.5555555555555556,\"#d8576b\"],[0.6666666666666666,\"#ed7953\"],[0.7777777777777778,\"#fb9f3a\"],[0.8888888888888888,\"#fdca26\"],[1.0,\"#f0f921\"]]}],\"table\":[{\"cells\":{\"fill\":{\"color\":\"rgba(235, 240, 248, 1.0)\"},\"line\":{\"color\":\"rgba(255, 255, 255, 1.0)\"}},\"header\":{\"fill\":{\"color\":\"rgba(200, 212, 227, 1.0)\"},\"line\":{\"color\":\"rgba(255, 255, 255, 1.0)\"}}}]}},\"xaxis\":{\"title\":{\"text\":\"Zeit\"}},\"yaxis\":{\"title\":{\"text\":\"Proteinkonzentration\"}}};\r\n",
       "            var config = {\"responsive\":true};\r\n",
       "            Plotly.newPlot('826ddc77-6177-454d-92ec-88ab95bef5df', data, layout, config);\r\n",
       "});\r\n",
       "            };\r\n",
       "            if ((typeof(requirejs) !==  typeof(Function)) || (typeof(requirejs.config) !== typeof(Function))) {\r\n",
       "                var script = document.createElement(\"script\");\r\n",
       "                script.setAttribute(\"src\", \"https://cdnjs.cloudflare.com/ajax/libs/require.js/2.3.6/require.min.js\");\r\n",
       "                script.onload = function(){\r\n",
       "                    renderPlotly_826ddc776177454d92ec88ab95bef5df();\r\n",
       "                };\r\n",
       "                document.getElementsByTagName(\"head\")[0].appendChild(script);\r\n",
       "            }\r\n",
       "            else {\r\n",
       "                renderPlotly_826ddc776177454d92ec88ab95bef5df();\r\n",
       "            }\r\n",
       "</script>\r\n",
       "\n",
       "    \n",
       "</div>    \n"
      ]
     },
     "metadata": {},
     "output_type": "display_data"
    }
   ],
   "source": [
    "//Konstanten\n",
    "let beta =    2. // Konstante für die Zunahme der Proteinkonzentration\n",
    "let gamma =   1. // Konstante für die Verringerung der Proteinkonzentration\n",
    "\n",
    "// unsere DGL als  Modell (Model)\n",
    "let dP_dt : Model = \n",
    "    fun P t ->\n",
    "        // Veränderung der Proteinmenge\n",
    "        let Proteinkonzentration = P[0] \n",
    "        // Modelfunktion (hier die Gleichung einfügen)\n",
    "        let Proteinkonzentration' = beta - gamma*Proteinkonzentration\n",
    "\n",
    "        [| Proteinkonzentration' |]\n",
    "\n",
    "//Startkonzentrationen\n",
    "let P0 = [| \n",
    "    10.0 \n",
    "|]\n",
    "\n",
    "// Simulation der Modelfuntkion\n",
    "let Ps = \n",
    "    modelContext.OdeInt(\n",
    "        0., // Startzeitpunkt\n",
    "        P0,\n",
    "        dP_dt\n",
    "    )\n",
    "    |> SolPoints.take 10 // Anzahl der Zeitpunkte\n",
    "    |> SolPoints.memorize \n",
    "\n",
    "let proteins = SolPoints.toPoints 1 Ps\n",
    "\n",
    "//Graphische Darstellung der numerischen Lösung\n",
    "proteins\n",
    "|> Chart.Spline \n",
    "|> Chart.withTraceInfo(\"Protein\")\n",
    "|> Chart.withXAxisStyle(\"Zeit\")\n",
    "|> Chart.withYAxisStyle(\"Proteinkonzentration\")"
   ]
  },
  {
   "cell_type": "markdown",
   "metadata": {},
   "source": [
    "Der erstellte Graph zeigt wie sich die Proteinkonzentration über die Zeit verändert. Die Proteinkonzentration startet am Zeitpunkt 0 bei einem Wert von 10, $Proteinkonzentration (0) = 10$. Die Proteinkonzentration nähert sich mit der Zeit dem Wert 2. Dieser Wert entspricht dem Punkt an dem Produktion und Verringerung der Proteinanzahl im Gleichgewicht stehen und ist somit ein Gleichgewichtspunkt. Dieser Gleichgewichtspunkt wird im folgenden $Proteinkonzentration_{GGW}$ genannt. Das $Proteinkonzentration_{GGW}$ ist von den Werten von $\\beta$ und $\\gamma$ anhängig. Die Werte von $\\beta$ und $\\gamma$ die zu dem $Proteinkonzentration_{GGW} = 2$ geführt haben sind 2. und 1. (die Werte sind im oberen code block beim Absatz Konstanten zu finden)."
   ]
  },
  {
   "cell_type": "markdown",
   "metadata": {},
   "source": [
    "##### Aufgabe 3.3 \n",
    "***Verändere den Wert von $\\beta$ und versuche eine Gesetzmäßigkeit zu erkennen die beschreibt welchen Wert die Proteinkonzentration im GGW annimmt in Abhängigkeit von $\\beta \\textrm{ und } \\gamma$. Wähle die korrekte Gleichung aus den vier nachfolgen aus, die diese Gesetzmäßigkeit beschreibt. Kopiere dafür den Code Block von oben in den nachfolgenden Code Block und ändere dann $\\beta$ ( $\\beta$ befindet sich im Abschnitt Konstanten, beachte das die Eingesetzten Zahlen Fließzahlen sein müssen).***"
   ]
  },
  {
   "cell_type": "code",
   "execution_count": null,
   "metadata": {
    "dotnet_interactive": {
     "language": "fsharp"
    },
    "vscode": {
     "languageId": "dotnet-interactive.fsharp"
    }
   },
   "outputs": [],
   "source": [
    "//Code hier reinkopieren"
   ]
  },
  {
   "cell_type": "markdown",
   "metadata": {},
   "source": [
    "Mögliche Gleichungen die das Problem beschreiben:\n",
    "\n",
    "\n",
    "a) $Proteinkonzentration_{GGW} = \\gamma  - 2*\\beta$\n",
    " \n",
    "b) $Proteinkonzentration_{GGW} = \\frac {\\beta - \\gamma}  {\\gamma^{2}}$ \n",
    "\n",
    "c) $Proteinkonzentration_{GGW} = \\frac {\\beta}  {\\gamma}$ \n",
    "\n",
    "d) $Proteinkonzentration_{GGW} = \\frac {\\beta^{2}}  {\\gamma^{\\beta}}$ "
   ]
  },
  {
   "cell_type": "markdown",
   "metadata": {},
   "source": [
    "In diesen Block die gewählte Antwort einfügen"
   ]
  },
  {
   "cell_type": "markdown",
   "metadata": {},
   "source": [
    "Natürlich werden Proteine nicht direkt von einem Gen produziert, sondern es kommt zuerst zur Transkription des Gens und somit zur Produktion von mRNA. Daher ist eine korrekter Darstellung der Proteinkonzentration nur möglich durch das verknüpfen von zwei Differenzialgleichungen. Eine die beschreibt wie sich die mRNA Konzentration mit der Zeit ändert und eine die beschreibt wie sich die Proteinkonzentration mit der Zeit ändert. Diese sind \n",
    "$$\\textrm {mRNAKonzentration'}  = \\frac {\\textrm {dmRNAKonzentration}} {dt} = \\beta_{1} - \\gamma_{1}*\\textrm {mRNAKonzentration'}$$\n",
    "$$\\textrm {Proteinkonzentration'} = \\frac {dProteinkonzentration} {dt} = \\beta_{2} * mRNAKonzentration - \\gamma_{2}*Proteinkonzentration$$\n",
    "\n",
    "Die verknüpfung findet bei der Produktion des Proteins statt. Diese ist jetzt abhängig von der Konzentration von mRNA in der Zelle und nicht länger nur von der Konstante $\\beta$, was auch nur logisch ist da mehr mRNA zu mehr Protein führen sollte. \n",
    "\n",
    "##### Aufgabe 3.4\n",
    "***Setze die beiden Differenzialgleichung in das folgende Model ein (beachte das $\\beta_{1} \\textrm{ und } \\gamma_{1}$ als \"beta1\" und \"gamma1\", ohne \"\", eingesetzt werden müssen und nicht als Symbole. Das selbe gilt für $\\beta_{2} \\textrm{ und } \\gamma_{2}$ ).***"
   ]
  },
  {
   "cell_type": "code",
   "execution_count": null,
   "metadata": {
    "dotnet_interactive": {
     "language": "fsharp"
    },
    "vscode": {
     "languageId": "dotnet-interactive.fsharp"
    }
   },
   "outputs": [
    {
     "data": {
      "text/html": [
       "\n",
       "<div>\n",
       "    <div id=\"f023c501-5b16-4be2-90d3-d0cbc183fc53\"><!-- Plotly chart will be drawn inside this DIV --></div>\r\n",
       "<script type=\"text/javascript\">\r\n",
       "\r\n",
       "            var renderPlotly_f023c5015b164be290d3d0cbc183fc53 = function() {\r\n",
       "            var fsharpPlotlyRequire = requirejs.config({context:'fsharp-plotly',paths:{plotly:'https://cdn.plot.ly/plotly-2.6.3.min'}}) || require;\r\n",
       "            fsharpPlotlyRequire(['plotly'], function(Plotly) {\r\n",
       "\r\n",
       "            var data = [{\"type\":\"scatter\",\"mode\":\"lines\",\"x\":[0.0,0.2967337943944471,0.543865762768948,0.784045103596793,1.0540343133043613,1.3670550245370447,1.7306922440157628,2.1528386206572545,2.644570127916146,3.22282023208009,3.91395833413242,4.755424353096238,5.777579139218129,6.987581618660051,8.403578397796904],\"y\":[0.0,0.22379642345676887,0.3315105493570299,0.39577901659584597,0.4392641930059082,0.46752439059581447,0.48430703015873383,0.4932541291438619,0.4974767408685941,0.4992058503221826,0.49980014045998417,0.49996224288838864,0.49999460843871946,0.49999927436204866,0.49999985519853873],\"marker\":{},\"line\":{\"shape\":\"spline\"},\"name\":\"mRNA\"},{\"type\":\"scatter\",\"mode\":\"lines\",\"x\":[0.0,0.2967337943944471,0.543865762768948,0.784045103596793,1.0540343133043613,1.3670550245370447,1.7306922440157628,2.1528386206572545,2.644570127916146,3.22282023208009,3.91395833413242,4.755424353096238,5.777579139218129,6.987581618660051,8.403578397796904],\"y\":[0.0,0.0659235828682963,0.17597935058783484,0.29533116692268774,0.42441406267937287,0.5552385541319356,0.6770626612166626,0.7811840330166597,0.862975049870299,0.9219035675974873,0.9604773370694883,0.9828656796203603,0.9938175632078003,0.998153308905232,0.9995502982865268],\"marker\":{},\"line\":{\"shape\":\"spline\"},\"name\":\"Proteine\"}];\r\n",
       "            var layout = {\"width\":600,\"height\":600,\"template\":{\"layout\":{\"title\":{\"x\":0.05},\"font\":{\"color\":\"rgba(42, 63, 95, 1.0)\"},\"paper_bgcolor\":\"rgba(255, 255, 255, 1.0)\",\"plot_bgcolor\":\"rgba(229, 236, 246, 1.0)\",\"autotypenumbers\":\"strict\",\"colorscale\":{\"diverging\":[[0.0,\"#8e0152\"],[0.1,\"#c51b7d\"],[0.2,\"#de77ae\"],[0.3,\"#f1b6da\"],[0.4,\"#fde0ef\"],[0.5,\"#f7f7f7\"],[0.6,\"#e6f5d0\"],[0.7,\"#b8e186\"],[0.8,\"#7fbc41\"],[0.9,\"#4d9221\"],[1.0,\"#276419\"]],\"sequential\":[[0.0,\"#0d0887\"],[0.1111111111111111,\"#46039f\"],[0.2222222222222222,\"#7201a8\"],[0.3333333333333333,\"#9c179e\"],[0.4444444444444444,\"#bd3786\"],[0.5555555555555556,\"#d8576b\"],[0.6666666666666666,\"#ed7953\"],[0.7777777777777778,\"#fb9f3a\"],[0.8888888888888888,\"#fdca26\"],[1.0,\"#f0f921\"]],\"sequentialminus\":[[0.0,\"#0d0887\"],[0.1111111111111111,\"#46039f\"],[0.2222222222222222,\"#7201a8\"],[0.3333333333333333,\"#9c179e\"],[0.4444444444444444,\"#bd3786\"],[0.5555555555555556,\"#d8576b\"],[0.6666666666666666,\"#ed7953\"],[0.7777777777777778,\"#fb9f3a\"],[0.8888888888888888,\"#fdca26\"],[1.0,\"#f0f921\"]]},\"hovermode\":\"closest\",\"hoverlabel\":{\"align\":\"left\"},\"coloraxis\":{\"colorbar\":{\"outlinewidth\":0.0,\"ticks\":\"\"}},\"geo\":{\"showland\":true,\"landcolor\":\"rgba(229, 236, 246, 1.0)\",\"showlakes\":true,\"lakecolor\":\"rgba(255, 255, 255, 1.0)\",\"subunitcolor\":\"rgba(255, 255, 255, 1.0)\",\"bgcolor\":\"rgba(255, 255, 255, 1.0)\"},\"mapbox\":{\"style\":\"light\"},\"polar\":{\"bgcolor\":\"rgba(229, 236, 246, 1.0)\",\"radialaxis\":{\"linecolor\":\"rgba(255, 255, 255, 1.0)\",\"gridcolor\":\"rgba(255, 255, 255, 1.0)\",\"ticks\":\"\"},\"angularaxis\":{\"linecolor\":\"rgba(255, 255, 255, 1.0)\",\"gridcolor\":\"rgba(255, 255, 255, 1.0)\",\"ticks\":\"\"}},\"scene\":{\"xaxis\":{\"ticks\":\"\",\"linecolor\":\"rgba(255, 255, 255, 1.0)\",\"gridcolor\":\"rgba(255, 255, 255, 1.0)\",\"gridwidth\":2.0,\"zerolinecolor\":\"rgba(255, 255, 255, 1.0)\",\"backgroundcolor\":\"rgba(229, 236, 246, 1.0)\",\"showbackground\":true},\"yaxis\":{\"ticks\":\"\",\"linecolor\":\"rgba(255, 255, 255, 1.0)\",\"gridcolor\":\"rgba(255, 255, 255, 1.0)\",\"gridwidth\":2.0,\"zerolinecolor\":\"rgba(255, 255, 255, 1.0)\",\"backgroundcolor\":\"rgba(229, 236, 246, 1.0)\",\"showbackground\":true},\"zaxis\":{\"ticks\":\"\",\"linecolor\":\"rgba(255, 255, 255, 1.0)\",\"gridcolor\":\"rgba(255, 255, 255, 1.0)\",\"gridwidth\":2.0,\"zerolinecolor\":\"rgba(255, 255, 255, 1.0)\",\"backgroundcolor\":\"rgba(229, 236, 246, 1.0)\",\"showbackground\":true}},\"ternary\":{\"aaxis\":{\"ticks\":\"\",\"linecolor\":\"rgba(255, 255, 255, 1.0)\",\"gridcolor\":\"rgba(255, 255, 255, 1.0)\"},\"baxis\":{\"ticks\":\"\",\"linecolor\":\"rgba(255, 255, 255, 1.0)\",\"gridcolor\":\"rgba(255, 255, 255, 1.0)\"},\"caxis\":{\"ticks\":\"\",\"linecolor\":\"rgba(255, 255, 255, 1.0)\",\"gridcolor\":\"rgba(255, 255, 255, 1.0)\"},\"bgcolor\":\"rgba(229, 236, 246, 1.0)\"},\"xaxis\":{\"title\":{\"standoff\":15},\"ticks\":\"\",\"automargin\":true,\"linecolor\":\"rgba(255, 255, 255, 1.0)\",\"gridcolor\":\"rgba(255, 255, 255, 1.0)\",\"zerolinecolor\":\"rgba(255, 255, 255, 1.0)\",\"zerolinewidth\":2.0},\"yaxis\":{\"title\":{\"standoff\":15},\"ticks\":\"\",\"automargin\":true,\"linecolor\":\"rgba(255, 255, 255, 1.0)\",\"gridcolor\":\"rgba(255, 255, 255, 1.0)\",\"zerolinecolor\":\"rgba(255, 255, 255, 1.0)\",\"zerolinewidth\":2.0},\"annotationdefaults\":{\"arrowcolor\":\"#2a3f5f\",\"arrowhead\":0,\"arrowwidth\":1},\"shapedefaults\":{\"line\":{\"color\":\"rgba(42, 63, 95, 1.0)\"}},\"colorway\":[\"rgba(99, 110, 250, 1.0)\",\"rgba(239, 85, 59, 1.0)\",\"rgba(0, 204, 150, 1.0)\",\"rgba(171, 99, 250, 1.0)\",\"rgba(255, 161, 90, 1.0)\",\"rgba(25, 211, 243, 1.0)\",\"rgba(255, 102, 146, 1.0)\",\"rgba(182, 232, 128, 1.0)\",\"rgba(255, 151, 255, 1.0)\",\"rgba(254, 203, 82, 1.0)\"]},\"data\":{\"bar\":[{\"marker\":{\"line\":{\"color\":\"rgba(229, 236, 246, 1.0)\",\"width\":0.5},\"pattern\":{\"fillmode\":\"overlay\",\"size\":10,\"solidity\":0.2}},\"error_x\":{\"color\":\"rgba(42, 63, 95, 1.0)\"},\"error_y\":{\"color\":\"rgba(42, 63, 95, 1.0)\"}}],\"barpolar\":[{\"marker\":{\"line\":{\"color\":\"rgba(229, 236, 246, 1.0)\",\"width\":0.5},\"pattern\":{\"fillmode\":\"overlay\",\"size\":10,\"solidity\":0.2}}}],\"carpet\":[{\"aaxis\":{\"linecolor\":\"rgba(255, 255, 255, 1.0)\",\"gridcolor\":\"rgba(255, 255, 255, 1.0)\",\"endlinecolor\":\"rgba(42, 63, 95, 1.0)\",\"minorgridcolor\":\"rgba(255, 255, 255, 1.0)\",\"startlinecolor\":\"rgba(42, 63, 95, 1.0)\"},\"baxis\":{\"linecolor\":\"rgba(255, 255, 255, 1.0)\",\"gridcolor\":\"rgba(255, 255, 255, 1.0)\",\"endlinecolor\":\"rgba(42, 63, 95, 1.0)\",\"minorgridcolor\":\"rgba(255, 255, 255, 1.0)\",\"startlinecolor\":\"rgba(42, 63, 95, 1.0)\"}}],\"choropleth\":[{\"colorbar\":{\"outlinewidth\":0.0,\"ticks\":\"\"},\"colorscale\":[[0.0,\"#0d0887\"],[0.1111111111111111,\"#46039f\"],[0.2222222222222222,\"#7201a8\"],[0.3333333333333333,\"#9c179e\"],[0.4444444444444444,\"#bd3786\"],[0.5555555555555556,\"#d8576b\"],[0.6666666666666666,\"#ed7953\"],[0.7777777777777778,\"#fb9f3a\"],[0.8888888888888888,\"#fdca26\"],[1.0,\"#f0f921\"]]}],\"contour\":[{\"colorbar\":{\"outlinewidth\":0.0,\"ticks\":\"\"},\"colorscale\":[[0.0,\"#0d0887\"],[0.1111111111111111,\"#46039f\"],[0.2222222222222222,\"#7201a8\"],[0.3333333333333333,\"#9c179e\"],[0.4444444444444444,\"#bd3786\"],[0.5555555555555556,\"#d8576b\"],[0.6666666666666666,\"#ed7953\"],[0.7777777777777778,\"#fb9f3a\"],[0.8888888888888888,\"#fdca26\"],[1.0,\"#f0f921\"]]}],\"contourcarpet\":[{\"colorbar\":{\"outlinewidth\":0.0,\"ticks\":\"\"}}],\"heatmap\":[{\"colorbar\":{\"outlinewidth\":0.0,\"ticks\":\"\"},\"colorscale\":[[0.0,\"#0d0887\"],[0.1111111111111111,\"#46039f\"],[0.2222222222222222,\"#7201a8\"],[0.3333333333333333,\"#9c179e\"],[0.4444444444444444,\"#bd3786\"],[0.5555555555555556,\"#d8576b\"],[0.6666666666666666,\"#ed7953\"],[0.7777777777777778,\"#fb9f3a\"],[0.8888888888888888,\"#fdca26\"],[1.0,\"#f0f921\"]]}],\"heatmapgl\":[{\"colorbar\":{\"outlinewidth\":0.0,\"ticks\":\"\"},\"colorscale\":[[0.0,\"#0d0887\"],[0.1111111111111111,\"#46039f\"],[0.2222222222222222,\"#7201a8\"],[0.3333333333333333,\"#9c179e\"],[0.4444444444444444,\"#bd3786\"],[0.5555555555555556,\"#d8576b\"],[0.6666666666666666,\"#ed7953\"],[0.7777777777777778,\"#fb9f3a\"],[0.8888888888888888,\"#fdca26\"],[1.0,\"#f0f921\"]]}],\"histogram\":[{\"marker\":{\"pattern\":{\"fillmode\":\"overlay\",\"size\":10,\"solidity\":0.2}}}],\"histogram2d\":[{\"colorbar\":{\"outlinewidth\":0.0,\"ticks\":\"\"},\"colorscale\":[[0.0,\"#0d0887\"],[0.1111111111111111,\"#46039f\"],[0.2222222222222222,\"#7201a8\"],[0.3333333333333333,\"#9c179e\"],[0.4444444444444444,\"#bd3786\"],[0.5555555555555556,\"#d8576b\"],[0.6666666666666666,\"#ed7953\"],[0.7777777777777778,\"#fb9f3a\"],[0.8888888888888888,\"#fdca26\"],[1.0,\"#f0f921\"]]}],\"histogram2dcontour\":[{\"colorbar\":{\"outlinewidth\":0.0,\"ticks\":\"\"},\"colorscale\":[[0.0,\"#0d0887\"],[0.1111111111111111,\"#46039f\"],[0.2222222222222222,\"#7201a8\"],[0.3333333333333333,\"#9c179e\"],[0.4444444444444444,\"#bd3786\"],[0.5555555555555556,\"#d8576b\"],[0.6666666666666666,\"#ed7953\"],[0.7777777777777778,\"#fb9f3a\"],[0.8888888888888888,\"#fdca26\"],[1.0,\"#f0f921\"]]}],\"mesh3d\":[{\"colorbar\":{\"outlinewidth\":0.0,\"ticks\":\"\"}}],\"parcoords\":[{\"line\":{\"colorbar\":{\"outlinewidth\":0.0,\"ticks\":\"\"}}}],\"pie\":[{\"automargin\":true}],\"scatter\":[{\"marker\":{\"colorbar\":{\"outlinewidth\":0.0,\"ticks\":\"\"}}}],\"scatter3d\":[{\"marker\":{\"colorbar\":{\"outlinewidth\":0.0,\"ticks\":\"\"}},\"line\":{\"colorbar\":{\"outlinewidth\":0.0,\"ticks\":\"\"}}}],\"scattercarpet\":[{\"marker\":{\"colorbar\":{\"outlinewidth\":0.0,\"ticks\":\"\"}}}],\"scattergeo\":[{\"marker\":{\"colorbar\":{\"outlinewidth\":0.0,\"ticks\":\"\"}}}],\"scattergl\":[{\"marker\":{\"colorbar\":{\"outlinewidth\":0.0,\"ticks\":\"\"}}}],\"scattermapbox\":[{\"marker\":{\"colorbar\":{\"outlinewidth\":0.0,\"ticks\":\"\"}}}],\"scatterpolar\":[{\"marker\":{\"colorbar\":{\"outlinewidth\":0.0,\"ticks\":\"\"}}}],\"scatterpolargl\":[{\"marker\":{\"colorbar\":{\"outlinewidth\":0.0,\"ticks\":\"\"}}}],\"scatterternary\":[{\"marker\":{\"colorbar\":{\"outlinewidth\":0.0,\"ticks\":\"\"}}}],\"surface\":[{\"colorbar\":{\"outlinewidth\":0.0,\"ticks\":\"\"},\"colorscale\":[[0.0,\"#0d0887\"],[0.1111111111111111,\"#46039f\"],[0.2222222222222222,\"#7201a8\"],[0.3333333333333333,\"#9c179e\"],[0.4444444444444444,\"#bd3786\"],[0.5555555555555556,\"#d8576b\"],[0.6666666666666666,\"#ed7953\"],[0.7777777777777778,\"#fb9f3a\"],[0.8888888888888888,\"#fdca26\"],[1.0,\"#f0f921\"]]}],\"table\":[{\"cells\":{\"fill\":{\"color\":\"rgba(235, 240, 248, 1.0)\"},\"line\":{\"color\":\"rgba(255, 255, 255, 1.0)\"}},\"header\":{\"fill\":{\"color\":\"rgba(200, 212, 227, 1.0)\"},\"line\":{\"color\":\"rgba(255, 255, 255, 1.0)\"}}}]}},\"xaxis\":{\"title\":{\"text\":\"Zeit\"}},\"yaxis\":{\"title\":{\"text\":\"Konzentration\"}}};\r\n",
       "            var config = {\"responsive\":true};\r\n",
       "            Plotly.newPlot('f023c501-5b16-4be2-90d3-d0cbc183fc53', data, layout, config);\r\n",
       "});\r\n",
       "            };\r\n",
       "            if ((typeof(requirejs) !==  typeof(Function)) || (typeof(requirejs.config) !== typeof(Function))) {\r\n",
       "                var script = document.createElement(\"script\");\r\n",
       "                script.setAttribute(\"src\", \"https://cdnjs.cloudflare.com/ajax/libs/require.js/2.3.6/require.min.js\");\r\n",
       "                script.onload = function(){\r\n",
       "                    renderPlotly_f023c5015b164be290d3d0cbc183fc53();\r\n",
       "                };\r\n",
       "                document.getElementsByTagName(\"head\")[0].appendChild(script);\r\n",
       "            }\r\n",
       "            else {\r\n",
       "                renderPlotly_f023c5015b164be290d3d0cbc183fc53();\r\n",
       "            }\r\n",
       "</script>\r\n",
       "\n",
       "    \n",
       "</div>    \n"
      ]
     },
     "metadata": {},
     "output_type": "display_data"
    }
   ],
   "source": [
    "//Konstanten\n",
    "let beta1 = 1.  // Konstante für die Zunahme der Konzentration an mRNA\n",
    "let gamma1 = 2. // Konstante für die Verringerung der Konzentration an mRNA\n",
    "let beta2 = 2.  // Konstante für die Zunahme der Proteinkonzentration\n",
    "let gamma2 = 1. // Konstante für die Verringerung der Proteinkonzentration\n",
    "\n",
    "// unsere DGL als  Modell (Model)\n",
    "let dP_dt : Model = \n",
    "    fun P t ->\n",
    "        // Veränderung der Proteinmenge\n",
    "        let mRNAKonzentration = P[0] \n",
    "        let Proteinkonzentration = P[1]\n",
    "        // Modelfunktion (hier die Gleichung einfügen)\n",
    "        let mRNAKonzentration' = beta1 - gamma1 * mRNAKonzentration\n",
    "        let Proteinkonzentration' = beta2 * mRNAKonzentration - gamma2 * Proteinkonzentration\n",
    "\n",
    "        [| mRNAKonzentration'; Proteinkonzentration' |]\n",
    "\n",
    "//Startkonzentrationen\n",
    "let P0 = [|\n",
    "    0.0 \n",
    "    0.0 \n",
    "|]\n",
    "\n",
    "// Simulation der Modelfuntkion\n",
    "let Ps = \n",
    "    modelContext.OdeInt(\n",
    "        0., // Startzeitpunkt\n",
    "        P0,\n",
    "        dP_dt\n",
    "    )\n",
    "    |> SolPoints.take 15 // Anzahl der Zeitpunkte\n",
    "    |> SolPoints.memorize \n",
    "\n",
    "let mRNA = SolPoints.toPoints 1 Ps\n",
    "let proteins = SolPoints.toPoints 2 Ps\n",
    "\n",
    "//Graphische Darstellung der numerischen Lösung\n",
    "[\n",
    "    let mRNA = SolPoints.toPoints 1 Ps\n",
    "    mRNA\n",
    "    |> Chart.Spline \n",
    "    |> Chart.withTraceInfo(\"mRNA\")\n",
    "    let proteine = SolPoints.toPoints 2 Ps\n",
    "    proteine\n",
    "    |> Chart.Spline \n",
    "    |> Chart.withTraceInfo(\"Proteine\")\n",
    "]\n",
    "\n",
    "|> Chart.combine\n",
    "|> Chart.withXAxisStyle(\"Zeit\")\n",
    "|> Chart.withYAxisStyle(\"Konzentration\")"
   ]
  },
  {
   "cell_type": "markdown",
   "metadata": {},
   "source": [
    "##### Aufgabe 3.5\n",
    "***Wie hängt der Gleichgewichtszustand der Konzentration von mRNA mit dem Gleichgewichtszustand vom Protein zusammen? \n",
    "Stellen sie die mathematische Gleichung für den Gleichgewichtszustand vom Protein auf.\n",
    "Falls sie Probleme mit dem finden der Gleichung haben, dann kopieren sie den Code Block von oben in den folgenden Code Block und verändern sie die Werte von $beta_{1}$ und $\\gamma_{1}$, um zu sehen wie sich die beiden Gleichgewichtszustände bei verschiedenen Werten ändern.***"
   ]
  },
  {
   "cell_type": "code",
   "execution_count": null,
   "metadata": {
    "dotnet_interactive": {
     "language": "fsharp"
    },
    "vscode": {
     "languageId": "dotnet-interactive.fsharp"
    }
   },
   "outputs": [],
   "source": [
    "//Hier Code einfügen falls nötig"
   ]
  },
  {
   "cell_type": "markdown",
   "metadata": {},
   "source": [
    "Hier die Antwort eingeben."
   ]
  },
  {
   "cell_type": "markdown",
   "metadata": {},
   "source": [
    "Es folgt eine kurze Besprechung. Falls sie zu schnell vorangekommen sind, können sie die nachfolgende Frage bearbeiten.<br>\n",
    "\n",
    "##### Expertenaufgabe 3.1\n",
    "***Ein Protein wird mit einer konstanten rate $\\beta_{1}$ produziert. Die Produktionsrate ändert sich plötzlich zur Produktionsrate $\\beta_{2}$. Stelle die Differenzialgleichung für die Proteinkonzentration des Proteins nach der Zeit auf und füge diese in den unten stehenden Code Block ein. <br>\n",
    "Erkläre den Lösungsweg und welche Komponenten im Code Block geändert wurden. Bitte ändere nur die Abschnitte bei denen in den Kommentaren steht \"kann verändert werden\". Tipp: Nicht alle Stellen wo steht \"kann verändert werden\" müssen auch verändert werden.***"
   ]
  },
  {
   "cell_type": "code",
   "execution_count": null,
   "metadata": {
    "dotnet_interactive": {
     "language": "fsharp"
    },
    "vscode": {
     "languageId": "dotnet-interactive.fsharp"
    }
   },
   "outputs": [
    {
     "data": {
      "text/html": [
       "\n",
       "<div>\n",
       "    <div id=\"a6acbed6-c07f-481a-af50-452df14b4b2e\"><!-- Plotly chart will be drawn inside this DIV --></div>\r\n",
       "<script type=\"text/javascript\">\r\n",
       "\r\n",
       "            var renderPlotly_a6acbed6c07f481aaf50452df14b4b2e = function() {\r\n",
       "            var fsharpPlotlyRequire = requirejs.config({context:'fsharp-plotly',paths:{plotly:'https://cdn.plot.ly/plotly-2.6.3.min'}}) || require;\r\n",
       "            fsharpPlotlyRequire(['plotly'], function(Plotly) {\r\n",
       "\r\n",
       "            var data = [{\"type\":\"scatter\",\"mode\":\"lines\",\"x\":[0.0,1.0,2.279905199425163,4.696201522138052,8.27556126754768,12.910449646837225,18.490571014093124,24.96371812096024,32.3518326292845,40.75185434389689],\"y\":[0.0,0.09516258208333334,0.20386819338302942,0.3747602959665178,0.5628838650706578,0.7250170055198881,0.8426149656148425,0.9176171149629235,0.9606472985818185,0.9830108986518139],\"marker\":{},\"line\":{\"shape\":\"spline\"},\"name\":\"Protein\"}];\r\n",
       "            var layout = {\"width\":600,\"height\":600,\"template\":{\"layout\":{\"title\":{\"x\":0.05},\"font\":{\"color\":\"rgba(42, 63, 95, 1.0)\"},\"paper_bgcolor\":\"rgba(255, 255, 255, 1.0)\",\"plot_bgcolor\":\"rgba(229, 236, 246, 1.0)\",\"autotypenumbers\":\"strict\",\"colorscale\":{\"diverging\":[[0.0,\"#8e0152\"],[0.1,\"#c51b7d\"],[0.2,\"#de77ae\"],[0.3,\"#f1b6da\"],[0.4,\"#fde0ef\"],[0.5,\"#f7f7f7\"],[0.6,\"#e6f5d0\"],[0.7,\"#b8e186\"],[0.8,\"#7fbc41\"],[0.9,\"#4d9221\"],[1.0,\"#276419\"]],\"sequential\":[[0.0,\"#0d0887\"],[0.1111111111111111,\"#46039f\"],[0.2222222222222222,\"#7201a8\"],[0.3333333333333333,\"#9c179e\"],[0.4444444444444444,\"#bd3786\"],[0.5555555555555556,\"#d8576b\"],[0.6666666666666666,\"#ed7953\"],[0.7777777777777778,\"#fb9f3a\"],[0.8888888888888888,\"#fdca26\"],[1.0,\"#f0f921\"]],\"sequentialminus\":[[0.0,\"#0d0887\"],[0.1111111111111111,\"#46039f\"],[0.2222222222222222,\"#7201a8\"],[0.3333333333333333,\"#9c179e\"],[0.4444444444444444,\"#bd3786\"],[0.5555555555555556,\"#d8576b\"],[0.6666666666666666,\"#ed7953\"],[0.7777777777777778,\"#fb9f3a\"],[0.8888888888888888,\"#fdca26\"],[1.0,\"#f0f921\"]]},\"hovermode\":\"closest\",\"hoverlabel\":{\"align\":\"left\"},\"coloraxis\":{\"colorbar\":{\"outlinewidth\":0.0,\"ticks\":\"\"}},\"geo\":{\"showland\":true,\"landcolor\":\"rgba(229, 236, 246, 1.0)\",\"showlakes\":true,\"lakecolor\":\"rgba(255, 255, 255, 1.0)\",\"subunitcolor\":\"rgba(255, 255, 255, 1.0)\",\"bgcolor\":\"rgba(255, 255, 255, 1.0)\"},\"mapbox\":{\"style\":\"light\"},\"polar\":{\"bgcolor\":\"rgba(229, 236, 246, 1.0)\",\"radialaxis\":{\"linecolor\":\"rgba(255, 255, 255, 1.0)\",\"gridcolor\":\"rgba(255, 255, 255, 1.0)\",\"ticks\":\"\"},\"angularaxis\":{\"linecolor\":\"rgba(255, 255, 255, 1.0)\",\"gridcolor\":\"rgba(255, 255, 255, 1.0)\",\"ticks\":\"\"}},\"scene\":{\"xaxis\":{\"ticks\":\"\",\"linecolor\":\"rgba(255, 255, 255, 1.0)\",\"gridcolor\":\"rgba(255, 255, 255, 1.0)\",\"gridwidth\":2.0,\"zerolinecolor\":\"rgba(255, 255, 255, 1.0)\",\"backgroundcolor\":\"rgba(229, 236, 246, 1.0)\",\"showbackground\":true},\"yaxis\":{\"ticks\":\"\",\"linecolor\":\"rgba(255, 255, 255, 1.0)\",\"gridcolor\":\"rgba(255, 255, 255, 1.0)\",\"gridwidth\":2.0,\"zerolinecolor\":\"rgba(255, 255, 255, 1.0)\",\"backgroundcolor\":\"rgba(229, 236, 246, 1.0)\",\"showbackground\":true},\"zaxis\":{\"ticks\":\"\",\"linecolor\":\"rgba(255, 255, 255, 1.0)\",\"gridcolor\":\"rgba(255, 255, 255, 1.0)\",\"gridwidth\":2.0,\"zerolinecolor\":\"rgba(255, 255, 255, 1.0)\",\"backgroundcolor\":\"rgba(229, 236, 246, 1.0)\",\"showbackground\":true}},\"ternary\":{\"aaxis\":{\"ticks\":\"\",\"linecolor\":\"rgba(255, 255, 255, 1.0)\",\"gridcolor\":\"rgba(255, 255, 255, 1.0)\"},\"baxis\":{\"ticks\":\"\",\"linecolor\":\"rgba(255, 255, 255, 1.0)\",\"gridcolor\":\"rgba(255, 255, 255, 1.0)\"},\"caxis\":{\"ticks\":\"\",\"linecolor\":\"rgba(255, 255, 255, 1.0)\",\"gridcolor\":\"rgba(255, 255, 255, 1.0)\"},\"bgcolor\":\"rgba(229, 236, 246, 1.0)\"},\"xaxis\":{\"title\":{\"standoff\":15},\"ticks\":\"\",\"automargin\":true,\"linecolor\":\"rgba(255, 255, 255, 1.0)\",\"gridcolor\":\"rgba(255, 255, 255, 1.0)\",\"zerolinecolor\":\"rgba(255, 255, 255, 1.0)\",\"zerolinewidth\":2.0},\"yaxis\":{\"title\":{\"standoff\":15},\"ticks\":\"\",\"automargin\":true,\"linecolor\":\"rgba(255, 255, 255, 1.0)\",\"gridcolor\":\"rgba(255, 255, 255, 1.0)\",\"zerolinecolor\":\"rgba(255, 255, 255, 1.0)\",\"zerolinewidth\":2.0},\"annotationdefaults\":{\"arrowcolor\":\"#2a3f5f\",\"arrowhead\":0,\"arrowwidth\":1},\"shapedefaults\":{\"line\":{\"color\":\"rgba(42, 63, 95, 1.0)\"}},\"colorway\":[\"rgba(99, 110, 250, 1.0)\",\"rgba(239, 85, 59, 1.0)\",\"rgba(0, 204, 150, 1.0)\",\"rgba(171, 99, 250, 1.0)\",\"rgba(255, 161, 90, 1.0)\",\"rgba(25, 211, 243, 1.0)\",\"rgba(255, 102, 146, 1.0)\",\"rgba(182, 232, 128, 1.0)\",\"rgba(255, 151, 255, 1.0)\",\"rgba(254, 203, 82, 1.0)\"]},\"data\":{\"bar\":[{\"marker\":{\"line\":{\"color\":\"rgba(229, 236, 246, 1.0)\",\"width\":0.5},\"pattern\":{\"fillmode\":\"overlay\",\"size\":10,\"solidity\":0.2}},\"error_x\":{\"color\":\"rgba(42, 63, 95, 1.0)\"},\"error_y\":{\"color\":\"rgba(42, 63, 95, 1.0)\"}}],\"barpolar\":[{\"marker\":{\"line\":{\"color\":\"rgba(229, 236, 246, 1.0)\",\"width\":0.5},\"pattern\":{\"fillmode\":\"overlay\",\"size\":10,\"solidity\":0.2}}}],\"carpet\":[{\"aaxis\":{\"linecolor\":\"rgba(255, 255, 255, 1.0)\",\"gridcolor\":\"rgba(255, 255, 255, 1.0)\",\"endlinecolor\":\"rgba(42, 63, 95, 1.0)\",\"minorgridcolor\":\"rgba(255, 255, 255, 1.0)\",\"startlinecolor\":\"rgba(42, 63, 95, 1.0)\"},\"baxis\":{\"linecolor\":\"rgba(255, 255, 255, 1.0)\",\"gridcolor\":\"rgba(255, 255, 255, 1.0)\",\"endlinecolor\":\"rgba(42, 63, 95, 1.0)\",\"minorgridcolor\":\"rgba(255, 255, 255, 1.0)\",\"startlinecolor\":\"rgba(42, 63, 95, 1.0)\"}}],\"choropleth\":[{\"colorbar\":{\"outlinewidth\":0.0,\"ticks\":\"\"},\"colorscale\":[[0.0,\"#0d0887\"],[0.1111111111111111,\"#46039f\"],[0.2222222222222222,\"#7201a8\"],[0.3333333333333333,\"#9c179e\"],[0.4444444444444444,\"#bd3786\"],[0.5555555555555556,\"#d8576b\"],[0.6666666666666666,\"#ed7953\"],[0.7777777777777778,\"#fb9f3a\"],[0.8888888888888888,\"#fdca26\"],[1.0,\"#f0f921\"]]}],\"contour\":[{\"colorbar\":{\"outlinewidth\":0.0,\"ticks\":\"\"},\"colorscale\":[[0.0,\"#0d0887\"],[0.1111111111111111,\"#46039f\"],[0.2222222222222222,\"#7201a8\"],[0.3333333333333333,\"#9c179e\"],[0.4444444444444444,\"#bd3786\"],[0.5555555555555556,\"#d8576b\"],[0.6666666666666666,\"#ed7953\"],[0.7777777777777778,\"#fb9f3a\"],[0.8888888888888888,\"#fdca26\"],[1.0,\"#f0f921\"]]}],\"contourcarpet\":[{\"colorbar\":{\"outlinewidth\":0.0,\"ticks\":\"\"}}],\"heatmap\":[{\"colorbar\":{\"outlinewidth\":0.0,\"ticks\":\"\"},\"colorscale\":[[0.0,\"#0d0887\"],[0.1111111111111111,\"#46039f\"],[0.2222222222222222,\"#7201a8\"],[0.3333333333333333,\"#9c179e\"],[0.4444444444444444,\"#bd3786\"],[0.5555555555555556,\"#d8576b\"],[0.6666666666666666,\"#ed7953\"],[0.7777777777777778,\"#fb9f3a\"],[0.8888888888888888,\"#fdca26\"],[1.0,\"#f0f921\"]]}],\"heatmapgl\":[{\"colorbar\":{\"outlinewidth\":0.0,\"ticks\":\"\"},\"colorscale\":[[0.0,\"#0d0887\"],[0.1111111111111111,\"#46039f\"],[0.2222222222222222,\"#7201a8\"],[0.3333333333333333,\"#9c179e\"],[0.4444444444444444,\"#bd3786\"],[0.5555555555555556,\"#d8576b\"],[0.6666666666666666,\"#ed7953\"],[0.7777777777777778,\"#fb9f3a\"],[0.8888888888888888,\"#fdca26\"],[1.0,\"#f0f921\"]]}],\"histogram\":[{\"marker\":{\"pattern\":{\"fillmode\":\"overlay\",\"size\":10,\"solidity\":0.2}}}],\"histogram2d\":[{\"colorbar\":{\"outlinewidth\":0.0,\"ticks\":\"\"},\"colorscale\":[[0.0,\"#0d0887\"],[0.1111111111111111,\"#46039f\"],[0.2222222222222222,\"#7201a8\"],[0.3333333333333333,\"#9c179e\"],[0.4444444444444444,\"#bd3786\"],[0.5555555555555556,\"#d8576b\"],[0.6666666666666666,\"#ed7953\"],[0.7777777777777778,\"#fb9f3a\"],[0.8888888888888888,\"#fdca26\"],[1.0,\"#f0f921\"]]}],\"histogram2dcontour\":[{\"colorbar\":{\"outlinewidth\":0.0,\"ticks\":\"\"},\"colorscale\":[[0.0,\"#0d0887\"],[0.1111111111111111,\"#46039f\"],[0.2222222222222222,\"#7201a8\"],[0.3333333333333333,\"#9c179e\"],[0.4444444444444444,\"#bd3786\"],[0.5555555555555556,\"#d8576b\"],[0.6666666666666666,\"#ed7953\"],[0.7777777777777778,\"#fb9f3a\"],[0.8888888888888888,\"#fdca26\"],[1.0,\"#f0f921\"]]}],\"mesh3d\":[{\"colorbar\":{\"outlinewidth\":0.0,\"ticks\":\"\"}}],\"parcoords\":[{\"line\":{\"colorbar\":{\"outlinewidth\":0.0,\"ticks\":\"\"}}}],\"pie\":[{\"automargin\":true}],\"scatter\":[{\"marker\":{\"colorbar\":{\"outlinewidth\":0.0,\"ticks\":\"\"}}}],\"scatter3d\":[{\"marker\":{\"colorbar\":{\"outlinewidth\":0.0,\"ticks\":\"\"}},\"line\":{\"colorbar\":{\"outlinewidth\":0.0,\"ticks\":\"\"}}}],\"scattercarpet\":[{\"marker\":{\"colorbar\":{\"outlinewidth\":0.0,\"ticks\":\"\"}}}],\"scattergeo\":[{\"marker\":{\"colorbar\":{\"outlinewidth\":0.0,\"ticks\":\"\"}}}],\"scattergl\":[{\"marker\":{\"colorbar\":{\"outlinewidth\":0.0,\"ticks\":\"\"}}}],\"scattermapbox\":[{\"marker\":{\"colorbar\":{\"outlinewidth\":0.0,\"ticks\":\"\"}}}],\"scatterpolar\":[{\"marker\":{\"colorbar\":{\"outlinewidth\":0.0,\"ticks\":\"\"}}}],\"scatterpolargl\":[{\"marker\":{\"colorbar\":{\"outlinewidth\":0.0,\"ticks\":\"\"}}}],\"scatterternary\":[{\"marker\":{\"colorbar\":{\"outlinewidth\":0.0,\"ticks\":\"\"}}}],\"surface\":[{\"colorbar\":{\"outlinewidth\":0.0,\"ticks\":\"\"},\"colorscale\":[[0.0,\"#0d0887\"],[0.1111111111111111,\"#46039f\"],[0.2222222222222222,\"#7201a8\"],[0.3333333333333333,\"#9c179e\"],[0.4444444444444444,\"#bd3786\"],[0.5555555555555556,\"#d8576b\"],[0.6666666666666666,\"#ed7953\"],[0.7777777777777778,\"#fb9f3a\"],[0.8888888888888888,\"#fdca26\"],[1.0,\"#f0f921\"]]}],\"table\":[{\"cells\":{\"fill\":{\"color\":\"rgba(235, 240, 248, 1.0)\"},\"line\":{\"color\":\"rgba(255, 255, 255, 1.0)\"}},\"header\":{\"fill\":{\"color\":\"rgba(200, 212, 227, 1.0)\"},\"line\":{\"color\":\"rgba(255, 255, 255, 1.0)\"}}}]}},\"xaxis\":{\"title\":{\"text\":\"Zeit\"}},\"yaxis\":{\"title\":{\"text\":\"Proteinkonzentration\"}}};\r\n",
       "            var config = {\"responsive\":true};\r\n",
       "            Plotly.newPlot('a6acbed6-c07f-481a-af50-452df14b4b2e', data, layout, config);\r\n",
       "});\r\n",
       "            };\r\n",
       "            if ((typeof(requirejs) !==  typeof(Function)) || (typeof(requirejs.config) !== typeof(Function))) {\r\n",
       "                var script = document.createElement(\"script\");\r\n",
       "                script.setAttribute(\"src\", \"https://cdnjs.cloudflare.com/ajax/libs/require.js/2.3.6/require.min.js\");\r\n",
       "                script.onload = function(){\r\n",
       "                    renderPlotly_a6acbed6c07f481aaf50452df14b4b2e();\r\n",
       "                };\r\n",
       "                document.getElementsByTagName(\"head\")[0].appendChild(script);\r\n",
       "            }\r\n",
       "            else {\r\n",
       "                renderPlotly_a6acbed6c07f481aaf50452df14b4b2e();\r\n",
       "            }\r\n",
       "</script>\r\n",
       "\n",
       "    \n",
       "</div>    \n"
      ]
     },
     "metadata": {},
     "output_type": "display_data"
    }
   ],
   "source": [
    "//Konstanten (kann verändert werden)\n",
    "let beta = 0.1  // Konstante für die Zunahme der Proteinkonzentration\n",
    "let gamma = 0.1 // Konstante für die Verringerung der Proteinkonzentration\n",
    "\n",
    "// unsere DGL als  Modell (Model)\n",
    "let dP_dt : Model = \n",
    "    fun P t ->\n",
    "        // Veränderung der Proteinmenge\n",
    "        let Proteinkonzentration = P[0] \n",
    "        // Modelfunktion (kann verändert werden)\n",
    "        let Proteinkonzentration' = beta - gamma * Proteinkonzentration\n",
    "\n",
    "        [| Proteinkonzentration' |]\n",
    "\n",
    "//Startkonzentrationen (kann verändert werden)\n",
    "let P0 = [| \n",
    "    0.0 \n",
    "|]\n",
    "\n",
    "// Simulation der Modelfuntkion\n",
    "let Ps = \n",
    "    modelContext.OdeInt(\n",
    "        0., // Startzeitpunkt\n",
    "        P0,\n",
    "        dP_dt\n",
    "    )\n",
    "    |> SolPoints.take 10 // Anzahl der Zeitpunkte\n",
    "    |> SolPoints.memorize \n",
    "\n",
    "let proteins = SolPoints.toPoints 1 Ps\n",
    "\n",
    "//Graphische Darstellung der numerischen Lösung\n",
    "proteins\n",
    "|> Chart.Spline \n",
    "|> Chart.withTraceInfo(\"Protein\")\n",
    "|> Chart.withXAxisStyle(\"Zeit\")\n",
    "|> Chart.withYAxisStyle(\"Proteinkonzentration\")"
   ]
  },
  {
   "cell_type": "markdown",
   "metadata": {},
   "source": [
    "-------------"
   ]
  },
  {
   "cell_type": "markdown",
   "metadata": {},
   "source": [
    "## Der Einfluss des Zufalls auf die Genexpression\n",
    "\n",
    "Biologische Motivation + Bild (Zufall, Inneres und äußeres Rauschen)"
   ]
  },
  {
   "cell_type": "markdown",
   "metadata": {},
   "source": [
    "\n",
    "### Stichproben aus Verteilungen\n",
    "\n",
    "Um sich Zufall und den Einfluss von Zufall vorstellen zu können ist das einfachste mentale Modell der Münzwurf. Wenn die Situation zum Beispiel so aussieht, dass wir n\n",
    "unabhängige Münzwürfe machen, jeder mit der Wahrscheinlichkeit p, dass Kopf fällt, dann ist die Anzahl h\n",
    "der Köpfe binomialverteilt. Wir könnten beweisen, dass dies der Fall ist, oder es in einem Buch nachschlagen. Aber manchmal ist es zu schwierig (oder unmöglich) zu beweisen, wie die Verteilung aussieht. Daher können wir ihre Eigenschaften numerisch berechnen, indem wir eine Stichprobe aus der Verteilung nehmen. Für die Stichprobe wird ein Zufallszahlengenerator verwendet, um die Situation zu simulieren, aus der die Verteilung resultiert. Wenn Sie also die Situation kennen und einen Computer zur Hand haben, können Sie über eine Stichprobe ein Diagramm der Verteilung erhalten.\n",
    "\n",
    "Lassen Sie uns dies anhand der Binomialverteilung demonstrieren. Wir nehmen n=25\n",
    "und p=0.25 und berechnen P(h∣n,p), die Wahrscheinlichkeit, dass h Köpfe bei n Münzwürfen mit einer Wahrscheinlichkeit p für Köpfe auftreten. Wir ziehen 10, 30, 100 und 300 Stichproben und stellen sie der erwarteten Binomialverteilung gegenüber."
   ]
  },
  {
   "cell_type": "code",
   "execution_count": null,
   "metadata": {
    "dotnet_interactive": {
     "language": "fsharp"
    },
    "vscode": {
     "languageId": "dotnet-interactive.fsharp"
    }
   },
   "outputs": [
    {
     "data": {
      "text/html": [
       "\n",
       "<div>\n",
       "    <div id=\"d933f9ec-0421-4f54-846f-f684e25f5bbe\"><!-- Plotly chart will be drawn inside this DIV --></div>\r\n",
       "<script type=\"text/javascript\">\r\n",
       "\r\n",
       "            var renderPlotly_d933f9ec04214f54846ff684e25f5bbe = function() {\r\n",
       "            var fsharpPlotlyRequire = requirejs.config({context:'fsharp-plotly',paths:{plotly:'https://cdn.plot.ly/plotly-2.6.3.min'}}) || require;\r\n",
       "            fsharpPlotlyRequire(['plotly'], function(Plotly) {\r\n",
       "\r\n",
       "            var data = [{\"type\":\"scatter\",\"mode\":\"markers\",\"x\":[3,9,5,7,6,11,8,10,4],\"y\":[0.13333333333333333,0.1,0.2,0.16666666666666666,0.13333333333333333,0.03333333333333333,0.16666666666666666,0.03333333333333333,0.03333333333333333],\"marker\":{\"color\":\"Orange\"},\"line\":{},\"xaxis\":\"x\",\"yaxis\":\"y\"},{\"type\":\"scatter\",\"mode\":\"markers\",\"x\":[0,1,2,3,4,5,6,7,8,9,10,11,12,13,14,15,16,17,18,19,20,21,22,23,24,25],\"y\":[0.0007525434581650009,0.006271195484718762,0.025084781938915692,0.06410555384399787,0.11752684871417801,0.16453758820009692,0.182819542444813,0.1654081574502899,0.1240561180878663,0.07810940768503243,0.04165835076538414,0.018935613984275963,0.007363849882775983,0.0024546166275920002,0.0007013190364546628,0.0001714335422443791,3.571532130088355E-05,6.302703758973037E-06,9.337338902171049E-07,1.1466907423703524E-07,1.1466907423687175E-08,9.100720177515782E-10,5.51558798636467E-11,2.398081733198222E-12,6.661338147762031E-14,8.881784197001244E-16],\"marker\":{\"color\":\"Blue\",\"opacity\":0.3},\"line\":{},\"xaxis\":\"x\",\"yaxis\":\"y\"},{\"type\":\"scatter\",\"mode\":\"markers\",\"x\":[7,11,6,10,8,9,4,3,5,2,12,1,13],\"y\":[0.12,0.03,0.13,0.03,0.17,0.05,0.18,0.05,0.18,0.02,0.02,0.01,0.01],\"marker\":{\"color\":\"Orange\"},\"line\":{},\"xaxis\":\"x2\",\"yaxis\":\"y2\"},{\"type\":\"scatter\",\"mode\":\"markers\",\"x\":[0,1,2,3,4,5,6,7,8,9,10,11,12,13,14,15,16,17,18,19,20,21,22,23,24,25],\"y\":[0.0007525434581650009,0.006271195484718762,0.025084781938915692,0.06410555384399787,0.11752684871417801,0.16453758820009692,0.182819542444813,0.1654081574502899,0.1240561180878663,0.07810940768503243,0.04165835076538414,0.018935613984275963,0.007363849882775983,0.0024546166275920002,0.0007013190364546628,0.0001714335422443791,3.571532130088355E-05,6.302703758973037E-06,9.337338902171049E-07,1.1466907423703524E-07,1.1466907423687175E-08,9.100720177515782E-10,5.51558798636467E-11,2.398081733198222E-12,6.661338147762031E-14,8.881784197001244E-16],\"marker\":{\"color\":\"Blue\",\"opacity\":0.3},\"line\":{},\"xaxis\":\"x2\",\"yaxis\":\"y2\"},{\"type\":\"scatter\",\"mode\":\"markers\",\"x\":[4,5,9,10,8,7,2,11,6,3,1,0,14,12,13],\"y\":[0.105,0.165,0.072,0.034,0.135,0.165,0.019,0.022,0.182,0.079,0.004,0.002,0.001,0.012,0.003],\"marker\":{\"color\":\"Orange\"},\"line\":{},\"xaxis\":\"x3\",\"yaxis\":\"y3\"},{\"type\":\"scatter\",\"mode\":\"markers\",\"x\":[0,1,2,3,4,5,6,7,8,9,10,11,12,13,14,15,16,17,18,19,20,21,22,23,24,25],\"y\":[0.0007525434581650009,0.006271195484718762,0.025084781938915692,0.06410555384399787,0.11752684871417801,0.16453758820009692,0.182819542444813,0.1654081574502899,0.1240561180878663,0.07810940768503243,0.04165835076538414,0.018935613984275963,0.007363849882775983,0.0024546166275920002,0.0007013190364546628,0.0001714335422443791,3.571532130088355E-05,6.302703758973037E-06,9.337338902171049E-07,1.1466907423703524E-07,1.1466907423687175E-08,9.100720177515782E-10,5.51558798636467E-11,2.398081733198222E-12,6.661338147762031E-14,8.881784197001244E-16],\"marker\":{\"color\":\"Blue\",\"opacity\":0.3},\"line\":{},\"xaxis\":\"x3\",\"yaxis\":\"y3\"},{\"type\":\"scatter\",\"mode\":\"markers\",\"x\":[7,2,5,9,3,6,8,10,4,12,11,13,1,0,14,15],\"y\":[0.1609,0.0229,0.1687,0.0783,0.0646,0.1848,0.124,0.0433,0.1201,0.0062,0.0175,0.0024,0.0049,0.0008,0.0005,0.0001],\"marker\":{\"color\":\"Orange\"},\"line\":{},\"xaxis\":\"x4\",\"yaxis\":\"y4\"},{\"type\":\"scatter\",\"mode\":\"markers\",\"x\":[0,1,2,3,4,5,6,7,8,9,10,11,12,13,14,15,16,17,18,19,20,21,22,23,24,25],\"y\":[0.0007525434581650009,0.006271195484718762,0.025084781938915692,0.06410555384399787,0.11752684871417801,0.16453758820009692,0.182819542444813,0.1654081574502899,0.1240561180878663,0.07810940768503243,0.04165835076538414,0.018935613984275963,0.007363849882775983,0.0024546166275920002,0.0007013190364546628,0.0001714335422443791,3.571532130088355E-05,6.302703758973037E-06,9.337338902171049E-07,1.1466907423703524E-07,1.1466907423687175E-08,9.100720177515782E-10,5.51558798636467E-11,2.398081733198222E-12,6.661338147762031E-14,8.881784197001244E-16],\"marker\":{\"color\":\"Blue\",\"opacity\":0.3},\"line\":{},\"xaxis\":\"x4\",\"yaxis\":\"y4\"}];\r\n",
       "            var layout = {\"width\":800,\"height\":800,\"template\":{\"layout\":{\"title\":{\"x\":0.05},\"font\":{\"color\":\"rgba(42, 63, 95, 1.0)\"},\"paper_bgcolor\":\"rgba(255, 255, 255, 1.0)\",\"plot_bgcolor\":\"rgba(229, 236, 246, 1.0)\",\"autotypenumbers\":\"strict\",\"colorscale\":{\"diverging\":[[0.0,\"#8e0152\"],[0.1,\"#c51b7d\"],[0.2,\"#de77ae\"],[0.3,\"#f1b6da\"],[0.4,\"#fde0ef\"],[0.5,\"#f7f7f7\"],[0.6,\"#e6f5d0\"],[0.7,\"#b8e186\"],[0.8,\"#7fbc41\"],[0.9,\"#4d9221\"],[1.0,\"#276419\"]],\"sequential\":[[0.0,\"#0d0887\"],[0.1111111111111111,\"#46039f\"],[0.2222222222222222,\"#7201a8\"],[0.3333333333333333,\"#9c179e\"],[0.4444444444444444,\"#bd3786\"],[0.5555555555555556,\"#d8576b\"],[0.6666666666666666,\"#ed7953\"],[0.7777777777777778,\"#fb9f3a\"],[0.8888888888888888,\"#fdca26\"],[1.0,\"#f0f921\"]],\"sequentialminus\":[[0.0,\"#0d0887\"],[0.1111111111111111,\"#46039f\"],[0.2222222222222222,\"#7201a8\"],[0.3333333333333333,\"#9c179e\"],[0.4444444444444444,\"#bd3786\"],[0.5555555555555556,\"#d8576b\"],[0.6666666666666666,\"#ed7953\"],[0.7777777777777778,\"#fb9f3a\"],[0.8888888888888888,\"#fdca26\"],[1.0,\"#f0f921\"]]},\"hovermode\":\"closest\",\"hoverlabel\":{\"align\":\"left\"},\"coloraxis\":{\"colorbar\":{\"outlinewidth\":0.0,\"ticks\":\"\"}},\"geo\":{\"showland\":true,\"landcolor\":\"rgba(229, 236, 246, 1.0)\",\"showlakes\":true,\"lakecolor\":\"rgba(255, 255, 255, 1.0)\",\"subunitcolor\":\"rgba(255, 255, 255, 1.0)\",\"bgcolor\":\"rgba(255, 255, 255, 1.0)\"},\"mapbox\":{\"style\":\"light\"},\"polar\":{\"bgcolor\":\"rgba(229, 236, 246, 1.0)\",\"radialaxis\":{\"linecolor\":\"rgba(255, 255, 255, 1.0)\",\"gridcolor\":\"rgba(255, 255, 255, 1.0)\",\"ticks\":\"\"},\"angularaxis\":{\"linecolor\":\"rgba(255, 255, 255, 1.0)\",\"gridcolor\":\"rgba(255, 255, 255, 1.0)\",\"ticks\":\"\"}},\"scene\":{\"xaxis\":{\"ticks\":\"\",\"linecolor\":\"rgba(255, 255, 255, 1.0)\",\"gridcolor\":\"rgba(255, 255, 255, 1.0)\",\"gridwidth\":2.0,\"zerolinecolor\":\"rgba(255, 255, 255, 1.0)\",\"backgroundcolor\":\"rgba(229, 236, 246, 1.0)\",\"showbackground\":true},\"yaxis\":{\"ticks\":\"\",\"linecolor\":\"rgba(255, 255, 255, 1.0)\",\"gridcolor\":\"rgba(255, 255, 255, 1.0)\",\"gridwidth\":2.0,\"zerolinecolor\":\"rgba(255, 255, 255, 1.0)\",\"backgroundcolor\":\"rgba(229, 236, 246, 1.0)\",\"showbackground\":true},\"zaxis\":{\"ticks\":\"\",\"linecolor\":\"rgba(255, 255, 255, 1.0)\",\"gridcolor\":\"rgba(255, 255, 255, 1.0)\",\"gridwidth\":2.0,\"zerolinecolor\":\"rgba(255, 255, 255, 1.0)\",\"backgroundcolor\":\"rgba(229, 236, 246, 1.0)\",\"showbackground\":true}},\"ternary\":{\"aaxis\":{\"ticks\":\"\",\"linecolor\":\"rgba(255, 255, 255, 1.0)\",\"gridcolor\":\"rgba(255, 255, 255, 1.0)\"},\"baxis\":{\"ticks\":\"\",\"linecolor\":\"rgba(255, 255, 255, 1.0)\",\"gridcolor\":\"rgba(255, 255, 255, 1.0)\"},\"caxis\":{\"ticks\":\"\",\"linecolor\":\"rgba(255, 255, 255, 1.0)\",\"gridcolor\":\"rgba(255, 255, 255, 1.0)\"},\"bgcolor\":\"rgba(229, 236, 246, 1.0)\"},\"xaxis\":{\"title\":{\"standoff\":15},\"ticks\":\"\",\"automargin\":true,\"linecolor\":\"rgba(255, 255, 255, 1.0)\",\"gridcolor\":\"rgba(255, 255, 255, 1.0)\",\"zerolinecolor\":\"rgba(255, 255, 255, 1.0)\",\"zerolinewidth\":2.0},\"yaxis\":{\"title\":{\"standoff\":15},\"ticks\":\"\",\"automargin\":true,\"linecolor\":\"rgba(255, 255, 255, 1.0)\",\"gridcolor\":\"rgba(255, 255, 255, 1.0)\",\"zerolinecolor\":\"rgba(255, 255, 255, 1.0)\",\"zerolinewidth\":2.0},\"annotationdefaults\":{\"arrowcolor\":\"#2a3f5f\",\"arrowhead\":0,\"arrowwidth\":1},\"shapedefaults\":{\"line\":{\"color\":\"rgba(42, 63, 95, 1.0)\"}},\"colorway\":[\"rgba(99, 110, 250, 1.0)\",\"rgba(239, 85, 59, 1.0)\",\"rgba(0, 204, 150, 1.0)\",\"rgba(171, 99, 250, 1.0)\",\"rgba(255, 161, 90, 1.0)\",\"rgba(25, 211, 243, 1.0)\",\"rgba(255, 102, 146, 1.0)\",\"rgba(182, 232, 128, 1.0)\",\"rgba(255, 151, 255, 1.0)\",\"rgba(254, 203, 82, 1.0)\"]},\"data\":{\"bar\":[{\"marker\":{\"line\":{\"color\":\"rgba(229, 236, 246, 1.0)\",\"width\":0.5},\"pattern\":{\"fillmode\":\"overlay\",\"size\":10,\"solidity\":0.2}},\"error_x\":{\"color\":\"rgba(42, 63, 95, 1.0)\"},\"error_y\":{\"color\":\"rgba(42, 63, 95, 1.0)\"}}],\"barpolar\":[{\"marker\":{\"line\":{\"color\":\"rgba(229, 236, 246, 1.0)\",\"width\":0.5},\"pattern\":{\"fillmode\":\"overlay\",\"size\":10,\"solidity\":0.2}}}],\"carpet\":[{\"aaxis\":{\"linecolor\":\"rgba(255, 255, 255, 1.0)\",\"gridcolor\":\"rgba(255, 255, 255, 1.0)\",\"endlinecolor\":\"rgba(42, 63, 95, 1.0)\",\"minorgridcolor\":\"rgba(255, 255, 255, 1.0)\",\"startlinecolor\":\"rgba(42, 63, 95, 1.0)\"},\"baxis\":{\"linecolor\":\"rgba(255, 255, 255, 1.0)\",\"gridcolor\":\"rgba(255, 255, 255, 1.0)\",\"endlinecolor\":\"rgba(42, 63, 95, 1.0)\",\"minorgridcolor\":\"rgba(255, 255, 255, 1.0)\",\"startlinecolor\":\"rgba(42, 63, 95, 1.0)\"}}],\"choropleth\":[{\"colorbar\":{\"outlinewidth\":0.0,\"ticks\":\"\"},\"colorscale\":[[0.0,\"#0d0887\"],[0.1111111111111111,\"#46039f\"],[0.2222222222222222,\"#7201a8\"],[0.3333333333333333,\"#9c179e\"],[0.4444444444444444,\"#bd3786\"],[0.5555555555555556,\"#d8576b\"],[0.6666666666666666,\"#ed7953\"],[0.7777777777777778,\"#fb9f3a\"],[0.8888888888888888,\"#fdca26\"],[1.0,\"#f0f921\"]]}],\"contour\":[{\"colorbar\":{\"outlinewidth\":0.0,\"ticks\":\"\"},\"colorscale\":[[0.0,\"#0d0887\"],[0.1111111111111111,\"#46039f\"],[0.2222222222222222,\"#7201a8\"],[0.3333333333333333,\"#9c179e\"],[0.4444444444444444,\"#bd3786\"],[0.5555555555555556,\"#d8576b\"],[0.6666666666666666,\"#ed7953\"],[0.7777777777777778,\"#fb9f3a\"],[0.8888888888888888,\"#fdca26\"],[1.0,\"#f0f921\"]]}],\"contourcarpet\":[{\"colorbar\":{\"outlinewidth\":0.0,\"ticks\":\"\"}}],\"heatmap\":[{\"colorbar\":{\"outlinewidth\":0.0,\"ticks\":\"\"},\"colorscale\":[[0.0,\"#0d0887\"],[0.1111111111111111,\"#46039f\"],[0.2222222222222222,\"#7201a8\"],[0.3333333333333333,\"#9c179e\"],[0.4444444444444444,\"#bd3786\"],[0.5555555555555556,\"#d8576b\"],[0.6666666666666666,\"#ed7953\"],[0.7777777777777778,\"#fb9f3a\"],[0.8888888888888888,\"#fdca26\"],[1.0,\"#f0f921\"]]}],\"heatmapgl\":[{\"colorbar\":{\"outlinewidth\":0.0,\"ticks\":\"\"},\"colorscale\":[[0.0,\"#0d0887\"],[0.1111111111111111,\"#46039f\"],[0.2222222222222222,\"#7201a8\"],[0.3333333333333333,\"#9c179e\"],[0.4444444444444444,\"#bd3786\"],[0.5555555555555556,\"#d8576b\"],[0.6666666666666666,\"#ed7953\"],[0.7777777777777778,\"#fb9f3a\"],[0.8888888888888888,\"#fdca26\"],[1.0,\"#f0f921\"]]}],\"histogram\":[{\"marker\":{\"pattern\":{\"fillmode\":\"overlay\",\"size\":10,\"solidity\":0.2}}}],\"histogram2d\":[{\"colorbar\":{\"outlinewidth\":0.0,\"ticks\":\"\"},\"colorscale\":[[0.0,\"#0d0887\"],[0.1111111111111111,\"#46039f\"],[0.2222222222222222,\"#7201a8\"],[0.3333333333333333,\"#9c179e\"],[0.4444444444444444,\"#bd3786\"],[0.5555555555555556,\"#d8576b\"],[0.6666666666666666,\"#ed7953\"],[0.7777777777777778,\"#fb9f3a\"],[0.8888888888888888,\"#fdca26\"],[1.0,\"#f0f921\"]]}],\"histogram2dcontour\":[{\"colorbar\":{\"outlinewidth\":0.0,\"ticks\":\"\"},\"colorscale\":[[0.0,\"#0d0887\"],[0.1111111111111111,\"#46039f\"],[0.2222222222222222,\"#7201a8\"],[0.3333333333333333,\"#9c179e\"],[0.4444444444444444,\"#bd3786\"],[0.5555555555555556,\"#d8576b\"],[0.6666666666666666,\"#ed7953\"],[0.7777777777777778,\"#fb9f3a\"],[0.8888888888888888,\"#fdca26\"],[1.0,\"#f0f921\"]]}],\"mesh3d\":[{\"colorbar\":{\"outlinewidth\":0.0,\"ticks\":\"\"}}],\"parcoords\":[{\"line\":{\"colorbar\":{\"outlinewidth\":0.0,\"ticks\":\"\"}}}],\"pie\":[{\"automargin\":true}],\"scatter\":[{\"marker\":{\"colorbar\":{\"outlinewidth\":0.0,\"ticks\":\"\"}}}],\"scatter3d\":[{\"marker\":{\"colorbar\":{\"outlinewidth\":0.0,\"ticks\":\"\"}},\"line\":{\"colorbar\":{\"outlinewidth\":0.0,\"ticks\":\"\"}}}],\"scattercarpet\":[{\"marker\":{\"colorbar\":{\"outlinewidth\":0.0,\"ticks\":\"\"}}}],\"scattergeo\":[{\"marker\":{\"colorbar\":{\"outlinewidth\":0.0,\"ticks\":\"\"}}}],\"scattergl\":[{\"marker\":{\"colorbar\":{\"outlinewidth\":0.0,\"ticks\":\"\"}}}],\"scattermapbox\":[{\"marker\":{\"colorbar\":{\"outlinewidth\":0.0,\"ticks\":\"\"}}}],\"scatterpolar\":[{\"marker\":{\"colorbar\":{\"outlinewidth\":0.0,\"ticks\":\"\"}}}],\"scatterpolargl\":[{\"marker\":{\"colorbar\":{\"outlinewidth\":0.0,\"ticks\":\"\"}}}],\"scatterternary\":[{\"marker\":{\"colorbar\":{\"outlinewidth\":0.0,\"ticks\":\"\"}}}],\"surface\":[{\"colorbar\":{\"outlinewidth\":0.0,\"ticks\":\"\"},\"colorscale\":[[0.0,\"#0d0887\"],[0.1111111111111111,\"#46039f\"],[0.2222222222222222,\"#7201a8\"],[0.3333333333333333,\"#9c179e\"],[0.4444444444444444,\"#bd3786\"],[0.5555555555555556,\"#d8576b\"],[0.6666666666666666,\"#ed7953\"],[0.7777777777777778,\"#fb9f3a\"],[0.8888888888888888,\"#fdca26\"],[1.0,\"#f0f921\"]]}],\"table\":[{\"cells\":{\"fill\":{\"color\":\"rgba(235, 240, 248, 1.0)\"},\"line\":{\"color\":\"rgba(255, 255, 255, 1.0)\"}},\"header\":{\"fill\":{\"color\":\"rgba(200, 212, 227, 1.0)\"},\"line\":{\"color\":\"rgba(255, 255, 255, 1.0)\"}}}]}},\"showlegend\":false,\"xaxis\":{\"title\":{\"text\":\"h<br>30 Stichproben\"}},\"yaxis\":{\"title\":{\"text\":\"P(h)\"}},\"xaxis2\":{\"title\":{\"text\":\"h<br>100 Stichproben\"}},\"yaxis2\":{\"title\":{\"text\":\"P(h)\"}},\"xaxis3\":{\"title\":{\"text\":\"h<br>1000 Stichproben\"}},\"yaxis3\":{\"title\":{\"text\":\"P(h)\"}},\"xaxis4\":{\"title\":{\"text\":\"h<br>10000 Stichproben\"}},\"yaxis4\":{\"title\":{\"text\":\"P(h)\"}},\"grid\":{\"rows\":2,\"columns\":2,\"pattern\":\"independent\"}};\r\n",
       "            var config = {\"responsive\":true};\r\n",
       "            Plotly.newPlot('d933f9ec-0421-4f54-846f-f684e25f5bbe', data, layout, config);\r\n",
       "});\r\n",
       "            };\r\n",
       "            if ((typeof(requirejs) !==  typeof(Function)) || (typeof(requirejs.config) !== typeof(Function))) {\r\n",
       "                var script = document.createElement(\"script\");\r\n",
       "                script.setAttribute(\"src\", \"https://cdnjs.cloudflare.com/ajax/libs/require.js/2.3.6/require.min.js\");\r\n",
       "                script.onload = function(){\r\n",
       "                    renderPlotly_d933f9ec04214f54846ff684e25f5bbe();\r\n",
       "                };\r\n",
       "                document.getElementsByTagName(\"head\")[0].appendChild(script);\r\n",
       "            }\r\n",
       "            else {\r\n",
       "                renderPlotly_d933f9ec04214f54846ff684e25f5bbe();\r\n",
       "            }\r\n",
       "</script>\r\n",
       "\n",
       "    \n",
       "</div>    \n"
      ]
     },
     "metadata": {},
     "output_type": "display_data"
    }
   ],
   "source": [
    "let stichproben = [|30;100;1000;10000|]\n",
    "let n = 25\n",
    "let p = 0.25\n",
    "\n",
    "let binomialverteilung = Distributions.Discrete.Binomial.Init p n\n",
    "\n",
    "let binomialPunkte =\n",
    "    [|0 .. 25|]\n",
    "    |> Array.map (fun x -> x,binomialverteilung.PMF x)\n",
    "\n",
    "stichproben\n",
    "|> Array.map (fun s ->\n",
    "    [\n",
    "        simulateCoinflips n p s\n",
    "        |> Array.countBy id\n",
    "        |> Array.map (fun (heads,count) -> heads, float count/ float s)\n",
    "        |> Chart.Point\n",
    "        |> Chart.withMarkerStyle(Color = Color.fromString \"Orange\")\n",
    "        binomialPunkte\n",
    "        |> Chart.Point\n",
    "        |> Chart.withMarkerStyle(Color = Color.fromString \"Blue\", Opacity = 0.3)\n",
    "    ]\n",
    "    |> Chart.combine\n",
    "    |> Chart.withLegend false\n",
    "    |> Chart.withXAxisStyle(TitleText = $\"h<br>{s} Stichproben\")\n",
    "    |> Chart.withYAxisStyle(TitleText = \"P(h)\")\n",
    ")\n",
    "|> Chart.Grid(2,2)\n",
    "|> Chart.withSize (800,800)"
   ]
  },
  {
   "cell_type": "markdown",
   "metadata": {},
   "source": [
    "##### Aufgabe 3.6\n",
    "\n",
    "***Die meisten Münzen haben eine Wahrscheinlichkeit von p=0.5 für Kopf. Simulieren Sie diese Situation wie wie oben gezeigt und vergleichen Sie die Verteilungen aus den unterschiedlichen Stichprobenzahlen mit der tatsächlichen Binomialverteilung.***"
   ]
  },
  {
   "cell_type": "code",
   "execution_count": null,
   "metadata": {
    "dotnet_interactive": {
     "language": "fsharp"
    },
    "vscode": {
     "languageId": "dotnet-interactive.fsharp"
    }
   },
   "outputs": [
    {
     "data": {
      "text/html": [
       "\n",
       "<div>\n",
       "    <div id=\"1f5bad0c-25f3-4a2d-a158-5ff10e2379b9\"><!-- Plotly chart will be drawn inside this DIV --></div>\r\n",
       "<script type=\"text/javascript\">\r\n",
       "\r\n",
       "            var renderPlotly_1f5bad0c25f34a2da1585ff10e2379b9 = function() {\r\n",
       "            var fsharpPlotlyRequire = requirejs.config({context:'fsharp-plotly',paths:{plotly:'https://cdn.plot.ly/plotly-2.6.3.min'}}) || require;\r\n",
       "            fsharpPlotlyRequire(['plotly'], function(Plotly) {\r\n",
       "\r\n",
       "            var data = [{\"type\":\"scatter\",\"mode\":\"markers\",\"x\":[13,11,17,9,12,8,14,16,19,15,10],\"y\":[0.16666666666666666,0.13333333333333333,0.03333333333333333,0.1,0.16666666666666666,0.03333333333333333,0.1,0.03333333333333333,0.03333333333333333,0.1,0.1],\"marker\":{\"color\":\"Orange\"},\"line\":{},\"xaxis\":\"x\",\"yaxis\":\"y\"},{\"type\":\"scatter\",\"mode\":\"markers\",\"x\":[0,1,2,3,4,5,6,7,8,9,10,11,12,13,14,15,16,17,18,19,20,21,22,23,24,25],\"y\":[2.98023223876953E-08,7.450580596936228E-07,8.940696716337938E-06,6.854534149203345E-05,0.000376999378206768,0.0015833973884708055,0.005277991294910222,0.014325976371918308,0.032233446836854855,0.06088539958078794,0.0974166393293392,0.1328408718128082,0.1549810171149857,0.1549810171149857,0.13284087181280774,0.09741663932933901,0.06088539958078794,0.032233446836854855,0.014325976371918282,0.005277991294910222,0.0015833973884708055,0.0003769993782067666,6.854534149203345E-05,8.94069671633797E-06,7.450580596936228E-07,2.98023223876953E-08],\"marker\":{\"color\":\"Blue\",\"opacity\":0.3},\"line\":{},\"xaxis\":\"x\",\"yaxis\":\"y\"},{\"type\":\"scatter\",\"mode\":\"markers\",\"x\":[15,13,11,17,12,8,14,9,16,10,19],\"y\":[0.12,0.14,0.14,0.03,0.2,0.03,0.18,0.07,0.02,0.05,0.02],\"marker\":{\"color\":\"Orange\"},\"line\":{},\"xaxis\":\"x2\",\"yaxis\":\"y2\"},{\"type\":\"scatter\",\"mode\":\"markers\",\"x\":[0,1,2,3,4,5,6,7,8,9,10,11,12,13,14,15,16,17,18,19,20,21,22,23,24,25],\"y\":[2.98023223876953E-08,7.450580596936228E-07,8.940696716337938E-06,6.854534149203345E-05,0.000376999378206768,0.0015833973884708055,0.005277991294910222,0.014325976371918308,0.032233446836854855,0.06088539958078794,0.0974166393293392,0.1328408718128082,0.1549810171149857,0.1549810171149857,0.13284087181280774,0.09741663932933901,0.06088539958078794,0.032233446836854855,0.014325976371918282,0.005277991294910222,0.0015833973884708055,0.0003769993782067666,6.854534149203345E-05,8.94069671633797E-06,7.450580596936228E-07,2.98023223876953E-08],\"marker\":{\"color\":\"Blue\",\"opacity\":0.3},\"line\":{},\"xaxis\":\"x2\",\"yaxis\":\"y2\"},{\"type\":\"scatter\",\"mode\":\"markers\",\"x\":[14,12,11,15,13,10,9,17,8,7,6,16,18,20],\"y\":[0.138,0.147,0.148,0.087,0.159,0.095,0.06,0.038,0.024,0.024,0.005,0.061,0.013,0.001],\"marker\":{\"color\":\"Orange\"},\"line\":{},\"xaxis\":\"x3\",\"yaxis\":\"y3\"},{\"type\":\"scatter\",\"mode\":\"markers\",\"x\":[0,1,2,3,4,5,6,7,8,9,10,11,12,13,14,15,16,17,18,19,20,21,22,23,24,25],\"y\":[2.98023223876953E-08,7.450580596936228E-07,8.940696716337938E-06,6.854534149203345E-05,0.000376999378206768,0.0015833973884708055,0.005277991294910222,0.014325976371918308,0.032233446836854855,0.06088539958078794,0.0974166393293392,0.1328408718128082,0.1549810171149857,0.1549810171149857,0.13284087181280774,0.09741663932933901,0.06088539958078794,0.032233446836854855,0.014325976371918282,0.005277991294910222,0.0015833973884708055,0.0003769993782067666,6.854534149203345E-05,8.94069671633797E-06,7.450580596936228E-07,2.98023223876953E-08],\"marker\":{\"color\":\"Blue\",\"opacity\":0.3},\"line\":{},\"xaxis\":\"x3\",\"yaxis\":\"y3\"},{\"type\":\"scatter\",\"mode\":\"markers\",\"x\":[9,11,12,17,14,16,15,6,10,8,13,18,5,20,7,19,21,4,22,3],\"y\":[0.0625,0.1373,0.1547,0.0325,0.1287,0.0585,0.0981,0.0044,0.0977,0.0337,0.1531,0.0152,0.0014,0.0016,0.0134,0.006,0.0002,0.0008,0.0001,0.0001],\"marker\":{\"color\":\"Orange\"},\"line\":{},\"xaxis\":\"x4\",\"yaxis\":\"y4\"},{\"type\":\"scatter\",\"mode\":\"markers\",\"x\":[0,1,2,3,4,5,6,7,8,9,10,11,12,13,14,15,16,17,18,19,20,21,22,23,24,25],\"y\":[2.98023223876953E-08,7.450580596936228E-07,8.940696716337938E-06,6.854534149203345E-05,0.000376999378206768,0.0015833973884708055,0.005277991294910222,0.014325976371918308,0.032233446836854855,0.06088539958078794,0.0974166393293392,0.1328408718128082,0.1549810171149857,0.1549810171149857,0.13284087181280774,0.09741663932933901,0.06088539958078794,0.032233446836854855,0.014325976371918282,0.005277991294910222,0.0015833973884708055,0.0003769993782067666,6.854534149203345E-05,8.94069671633797E-06,7.450580596936228E-07,2.98023223876953E-08],\"marker\":{\"color\":\"Blue\",\"opacity\":0.3},\"line\":{},\"xaxis\":\"x4\",\"yaxis\":\"y4\"}];\r\n",
       "            var layout = {\"width\":800,\"height\":800,\"template\":{\"layout\":{\"title\":{\"x\":0.05},\"font\":{\"color\":\"rgba(42, 63, 95, 1.0)\"},\"paper_bgcolor\":\"rgba(255, 255, 255, 1.0)\",\"plot_bgcolor\":\"rgba(229, 236, 246, 1.0)\",\"autotypenumbers\":\"strict\",\"colorscale\":{\"diverging\":[[0.0,\"#8e0152\"],[0.1,\"#c51b7d\"],[0.2,\"#de77ae\"],[0.3,\"#f1b6da\"],[0.4,\"#fde0ef\"],[0.5,\"#f7f7f7\"],[0.6,\"#e6f5d0\"],[0.7,\"#b8e186\"],[0.8,\"#7fbc41\"],[0.9,\"#4d9221\"],[1.0,\"#276419\"]],\"sequential\":[[0.0,\"#0d0887\"],[0.1111111111111111,\"#46039f\"],[0.2222222222222222,\"#7201a8\"],[0.3333333333333333,\"#9c179e\"],[0.4444444444444444,\"#bd3786\"],[0.5555555555555556,\"#d8576b\"],[0.6666666666666666,\"#ed7953\"],[0.7777777777777778,\"#fb9f3a\"],[0.8888888888888888,\"#fdca26\"],[1.0,\"#f0f921\"]],\"sequentialminus\":[[0.0,\"#0d0887\"],[0.1111111111111111,\"#46039f\"],[0.2222222222222222,\"#7201a8\"],[0.3333333333333333,\"#9c179e\"],[0.4444444444444444,\"#bd3786\"],[0.5555555555555556,\"#d8576b\"],[0.6666666666666666,\"#ed7953\"],[0.7777777777777778,\"#fb9f3a\"],[0.8888888888888888,\"#fdca26\"],[1.0,\"#f0f921\"]]},\"hovermode\":\"closest\",\"hoverlabel\":{\"align\":\"left\"},\"coloraxis\":{\"colorbar\":{\"outlinewidth\":0.0,\"ticks\":\"\"}},\"geo\":{\"showland\":true,\"landcolor\":\"rgba(229, 236, 246, 1.0)\",\"showlakes\":true,\"lakecolor\":\"rgba(255, 255, 255, 1.0)\",\"subunitcolor\":\"rgba(255, 255, 255, 1.0)\",\"bgcolor\":\"rgba(255, 255, 255, 1.0)\"},\"mapbox\":{\"style\":\"light\"},\"polar\":{\"bgcolor\":\"rgba(229, 236, 246, 1.0)\",\"radialaxis\":{\"linecolor\":\"rgba(255, 255, 255, 1.0)\",\"gridcolor\":\"rgba(255, 255, 255, 1.0)\",\"ticks\":\"\"},\"angularaxis\":{\"linecolor\":\"rgba(255, 255, 255, 1.0)\",\"gridcolor\":\"rgba(255, 255, 255, 1.0)\",\"ticks\":\"\"}},\"scene\":{\"xaxis\":{\"ticks\":\"\",\"linecolor\":\"rgba(255, 255, 255, 1.0)\",\"gridcolor\":\"rgba(255, 255, 255, 1.0)\",\"gridwidth\":2.0,\"zerolinecolor\":\"rgba(255, 255, 255, 1.0)\",\"backgroundcolor\":\"rgba(229, 236, 246, 1.0)\",\"showbackground\":true},\"yaxis\":{\"ticks\":\"\",\"linecolor\":\"rgba(255, 255, 255, 1.0)\",\"gridcolor\":\"rgba(255, 255, 255, 1.0)\",\"gridwidth\":2.0,\"zerolinecolor\":\"rgba(255, 255, 255, 1.0)\",\"backgroundcolor\":\"rgba(229, 236, 246, 1.0)\",\"showbackground\":true},\"zaxis\":{\"ticks\":\"\",\"linecolor\":\"rgba(255, 255, 255, 1.0)\",\"gridcolor\":\"rgba(255, 255, 255, 1.0)\",\"gridwidth\":2.0,\"zerolinecolor\":\"rgba(255, 255, 255, 1.0)\",\"backgroundcolor\":\"rgba(229, 236, 246, 1.0)\",\"showbackground\":true}},\"ternary\":{\"aaxis\":{\"ticks\":\"\",\"linecolor\":\"rgba(255, 255, 255, 1.0)\",\"gridcolor\":\"rgba(255, 255, 255, 1.0)\"},\"baxis\":{\"ticks\":\"\",\"linecolor\":\"rgba(255, 255, 255, 1.0)\",\"gridcolor\":\"rgba(255, 255, 255, 1.0)\"},\"caxis\":{\"ticks\":\"\",\"linecolor\":\"rgba(255, 255, 255, 1.0)\",\"gridcolor\":\"rgba(255, 255, 255, 1.0)\"},\"bgcolor\":\"rgba(229, 236, 246, 1.0)\"},\"xaxis\":{\"title\":{\"standoff\":15},\"ticks\":\"\",\"automargin\":true,\"linecolor\":\"rgba(255, 255, 255, 1.0)\",\"gridcolor\":\"rgba(255, 255, 255, 1.0)\",\"zerolinecolor\":\"rgba(255, 255, 255, 1.0)\",\"zerolinewidth\":2.0},\"yaxis\":{\"title\":{\"standoff\":15},\"ticks\":\"\",\"automargin\":true,\"linecolor\":\"rgba(255, 255, 255, 1.0)\",\"gridcolor\":\"rgba(255, 255, 255, 1.0)\",\"zerolinecolor\":\"rgba(255, 255, 255, 1.0)\",\"zerolinewidth\":2.0},\"annotationdefaults\":{\"arrowcolor\":\"#2a3f5f\",\"arrowhead\":0,\"arrowwidth\":1},\"shapedefaults\":{\"line\":{\"color\":\"rgba(42, 63, 95, 1.0)\"}},\"colorway\":[\"rgba(99, 110, 250, 1.0)\",\"rgba(239, 85, 59, 1.0)\",\"rgba(0, 204, 150, 1.0)\",\"rgba(171, 99, 250, 1.0)\",\"rgba(255, 161, 90, 1.0)\",\"rgba(25, 211, 243, 1.0)\",\"rgba(255, 102, 146, 1.0)\",\"rgba(182, 232, 128, 1.0)\",\"rgba(255, 151, 255, 1.0)\",\"rgba(254, 203, 82, 1.0)\"]},\"data\":{\"bar\":[{\"marker\":{\"line\":{\"color\":\"rgba(229, 236, 246, 1.0)\",\"width\":0.5},\"pattern\":{\"fillmode\":\"overlay\",\"size\":10,\"solidity\":0.2}},\"error_x\":{\"color\":\"rgba(42, 63, 95, 1.0)\"},\"error_y\":{\"color\":\"rgba(42, 63, 95, 1.0)\"}}],\"barpolar\":[{\"marker\":{\"line\":{\"color\":\"rgba(229, 236, 246, 1.0)\",\"width\":0.5},\"pattern\":{\"fillmode\":\"overlay\",\"size\":10,\"solidity\":0.2}}}],\"carpet\":[{\"aaxis\":{\"linecolor\":\"rgba(255, 255, 255, 1.0)\",\"gridcolor\":\"rgba(255, 255, 255, 1.0)\",\"endlinecolor\":\"rgba(42, 63, 95, 1.0)\",\"minorgridcolor\":\"rgba(255, 255, 255, 1.0)\",\"startlinecolor\":\"rgba(42, 63, 95, 1.0)\"},\"baxis\":{\"linecolor\":\"rgba(255, 255, 255, 1.0)\",\"gridcolor\":\"rgba(255, 255, 255, 1.0)\",\"endlinecolor\":\"rgba(42, 63, 95, 1.0)\",\"minorgridcolor\":\"rgba(255, 255, 255, 1.0)\",\"startlinecolor\":\"rgba(42, 63, 95, 1.0)\"}}],\"choropleth\":[{\"colorbar\":{\"outlinewidth\":0.0,\"ticks\":\"\"},\"colorscale\":[[0.0,\"#0d0887\"],[0.1111111111111111,\"#46039f\"],[0.2222222222222222,\"#7201a8\"],[0.3333333333333333,\"#9c179e\"],[0.4444444444444444,\"#bd3786\"],[0.5555555555555556,\"#d8576b\"],[0.6666666666666666,\"#ed7953\"],[0.7777777777777778,\"#fb9f3a\"],[0.8888888888888888,\"#fdca26\"],[1.0,\"#f0f921\"]]}],\"contour\":[{\"colorbar\":{\"outlinewidth\":0.0,\"ticks\":\"\"},\"colorscale\":[[0.0,\"#0d0887\"],[0.1111111111111111,\"#46039f\"],[0.2222222222222222,\"#7201a8\"],[0.3333333333333333,\"#9c179e\"],[0.4444444444444444,\"#bd3786\"],[0.5555555555555556,\"#d8576b\"],[0.6666666666666666,\"#ed7953\"],[0.7777777777777778,\"#fb9f3a\"],[0.8888888888888888,\"#fdca26\"],[1.0,\"#f0f921\"]]}],\"contourcarpet\":[{\"colorbar\":{\"outlinewidth\":0.0,\"ticks\":\"\"}}],\"heatmap\":[{\"colorbar\":{\"outlinewidth\":0.0,\"ticks\":\"\"},\"colorscale\":[[0.0,\"#0d0887\"],[0.1111111111111111,\"#46039f\"],[0.2222222222222222,\"#7201a8\"],[0.3333333333333333,\"#9c179e\"],[0.4444444444444444,\"#bd3786\"],[0.5555555555555556,\"#d8576b\"],[0.6666666666666666,\"#ed7953\"],[0.7777777777777778,\"#fb9f3a\"],[0.8888888888888888,\"#fdca26\"],[1.0,\"#f0f921\"]]}],\"heatmapgl\":[{\"colorbar\":{\"outlinewidth\":0.0,\"ticks\":\"\"},\"colorscale\":[[0.0,\"#0d0887\"],[0.1111111111111111,\"#46039f\"],[0.2222222222222222,\"#7201a8\"],[0.3333333333333333,\"#9c179e\"],[0.4444444444444444,\"#bd3786\"],[0.5555555555555556,\"#d8576b\"],[0.6666666666666666,\"#ed7953\"],[0.7777777777777778,\"#fb9f3a\"],[0.8888888888888888,\"#fdca26\"],[1.0,\"#f0f921\"]]}],\"histogram\":[{\"marker\":{\"pattern\":{\"fillmode\":\"overlay\",\"size\":10,\"solidity\":0.2}}}],\"histogram2d\":[{\"colorbar\":{\"outlinewidth\":0.0,\"ticks\":\"\"},\"colorscale\":[[0.0,\"#0d0887\"],[0.1111111111111111,\"#46039f\"],[0.2222222222222222,\"#7201a8\"],[0.3333333333333333,\"#9c179e\"],[0.4444444444444444,\"#bd3786\"],[0.5555555555555556,\"#d8576b\"],[0.6666666666666666,\"#ed7953\"],[0.7777777777777778,\"#fb9f3a\"],[0.8888888888888888,\"#fdca26\"],[1.0,\"#f0f921\"]]}],\"histogram2dcontour\":[{\"colorbar\":{\"outlinewidth\":0.0,\"ticks\":\"\"},\"colorscale\":[[0.0,\"#0d0887\"],[0.1111111111111111,\"#46039f\"],[0.2222222222222222,\"#7201a8\"],[0.3333333333333333,\"#9c179e\"],[0.4444444444444444,\"#bd3786\"],[0.5555555555555556,\"#d8576b\"],[0.6666666666666666,\"#ed7953\"],[0.7777777777777778,\"#fb9f3a\"],[0.8888888888888888,\"#fdca26\"],[1.0,\"#f0f921\"]]}],\"mesh3d\":[{\"colorbar\":{\"outlinewidth\":0.0,\"ticks\":\"\"}}],\"parcoords\":[{\"line\":{\"colorbar\":{\"outlinewidth\":0.0,\"ticks\":\"\"}}}],\"pie\":[{\"automargin\":true}],\"scatter\":[{\"marker\":{\"colorbar\":{\"outlinewidth\":0.0,\"ticks\":\"\"}}}],\"scatter3d\":[{\"marker\":{\"colorbar\":{\"outlinewidth\":0.0,\"ticks\":\"\"}},\"line\":{\"colorbar\":{\"outlinewidth\":0.0,\"ticks\":\"\"}}}],\"scattercarpet\":[{\"marker\":{\"colorbar\":{\"outlinewidth\":0.0,\"ticks\":\"\"}}}],\"scattergeo\":[{\"marker\":{\"colorbar\":{\"outlinewidth\":0.0,\"ticks\":\"\"}}}],\"scattergl\":[{\"marker\":{\"colorbar\":{\"outlinewidth\":0.0,\"ticks\":\"\"}}}],\"scattermapbox\":[{\"marker\":{\"colorbar\":{\"outlinewidth\":0.0,\"ticks\":\"\"}}}],\"scatterpolar\":[{\"marker\":{\"colorbar\":{\"outlinewidth\":0.0,\"ticks\":\"\"}}}],\"scatterpolargl\":[{\"marker\":{\"colorbar\":{\"outlinewidth\":0.0,\"ticks\":\"\"}}}],\"scatterternary\":[{\"marker\":{\"colorbar\":{\"outlinewidth\":0.0,\"ticks\":\"\"}}}],\"surface\":[{\"colorbar\":{\"outlinewidth\":0.0,\"ticks\":\"\"},\"colorscale\":[[0.0,\"#0d0887\"],[0.1111111111111111,\"#46039f\"],[0.2222222222222222,\"#7201a8\"],[0.3333333333333333,\"#9c179e\"],[0.4444444444444444,\"#bd3786\"],[0.5555555555555556,\"#d8576b\"],[0.6666666666666666,\"#ed7953\"],[0.7777777777777778,\"#fb9f3a\"],[0.8888888888888888,\"#fdca26\"],[1.0,\"#f0f921\"]]}],\"table\":[{\"cells\":{\"fill\":{\"color\":\"rgba(235, 240, 248, 1.0)\"},\"line\":{\"color\":\"rgba(255, 255, 255, 1.0)\"}},\"header\":{\"fill\":{\"color\":\"rgba(200, 212, 227, 1.0)\"},\"line\":{\"color\":\"rgba(255, 255, 255, 1.0)\"}}}]}},\"showlegend\":false,\"xaxis\":{\"title\":{\"text\":\"h<br>30 Stichproben\"}},\"yaxis\":{\"title\":{\"text\":\"P(h)\"}},\"xaxis2\":{\"title\":{\"text\":\"h<br>100 Stichproben\"}},\"yaxis2\":{\"title\":{\"text\":\"P(h)\"}},\"xaxis3\":{\"title\":{\"text\":\"h<br>1000 Stichproben\"}},\"yaxis3\":{\"title\":{\"text\":\"P(h)\"}},\"xaxis4\":{\"title\":{\"text\":\"h<br>10000 Stichproben\"}},\"yaxis4\":{\"title\":{\"text\":\"P(h)\"}},\"grid\":{\"rows\":2,\"columns\":2,\"pattern\":\"independent\"}};\r\n",
       "            var config = {\"responsive\":true};\r\n",
       "            Plotly.newPlot('1f5bad0c-25f3-4a2d-a158-5ff10e2379b9', data, layout, config);\r\n",
       "});\r\n",
       "            };\r\n",
       "            if ((typeof(requirejs) !==  typeof(Function)) || (typeof(requirejs.config) !== typeof(Function))) {\r\n",
       "                var script = document.createElement(\"script\");\r\n",
       "                script.setAttribute(\"src\", \"https://cdnjs.cloudflare.com/ajax/libs/require.js/2.3.6/require.min.js\");\r\n",
       "                script.onload = function(){\r\n",
       "                    renderPlotly_1f5bad0c25f34a2da1585ff10e2379b9();\r\n",
       "                };\r\n",
       "                document.getElementsByTagName(\"head\")[0].appendChild(script);\r\n",
       "            }\r\n",
       "            else {\r\n",
       "                renderPlotly_1f5bad0c25f34a2da1585ff10e2379b9();\r\n",
       "            }\r\n",
       "</script>\r\n",
       "\n",
       "    \n",
       "</div>    \n"
      ]
     },
     "metadata": {},
     "output_type": "display_data"
    }
   ],
   "source": [
    "// Kopieren sie den benötigten Code aus dem vorherigen Codeblock\n",
    "let stichproben = [|30;100;1000;10000|]\n",
    "let n = 25\n",
    "let p = 0.5\n",
    "\n",
    "let binomialverteilung = Distributions.Discrete.Binomial.Init 0.5 25\n",
    "let binomialPunkte =\n",
    "    [|0 .. 25|]\n",
    "    |> Array.map (fun x -> x,binomialverteilung.PMF x)\n",
    "\n",
    "stichproben\n",
    "|> Array.map (fun s ->\n",
    "    [\n",
    "        simulateCoinflips n p s\n",
    "        |> Array.countBy id\n",
    "        |> Array.map (fun (heads,count) -> heads, float count/ float s)\n",
    "        |> Chart.Point\n",
    "        |> Chart.withMarkerStyle(Color = Color.fromString \"Orange\")\n",
    "        binomialPunkte\n",
    "        |> Chart.Point\n",
    "        |> Chart.withMarkerStyle(Color = Color.fromString \"Blue\", Opacity = 0.3)\n",
    "    ]\n",
    "    |> Chart.combine\n",
    "    |> Chart.withLegend false\n",
    "    |> Chart.withXAxisStyle(TitleText = $\"h<br>{s} Stichproben\")\n",
    "    |> Chart.withYAxisStyle(TitleText = \"P(h)\")\n",
    ")\n",
    "|> Chart.Grid(2,2)\n",
    "|> Chart.withSize (800,800)"
   ]
  },
  {
   "cell_type": "markdown",
   "metadata": {},
   "source": [
    "Wie wir sehen, können wir die tatsächliche Verteilung annähernd berechnen, wenn wir eine Stichprobe aus der Wahrscheinlichkeitsverteilung ziehen. Je mehr Stichproben wir nehmen, desto besser wird die Annäherung.\n",
    "Stichproben sind eine so leistungsfähige Strategie, dass hocheffiziente Algorithmen mit praktischen APIs entwickelt wurden, um Stichproben aus benannten Wahrscheinlichkeitsverteilungen zu ziehen. Wir hätten zum Beispiel `binomialverteilung.Sample()` als einfachen (und viel effizienteren) Ersatz für die obige Funktion `simulateCoinflips` verwenden können.\n",
    "\n",
    "Wir werden die gleiche Strategie für die Lösung von stochastischen Gleichungssystemen verwenden. Wir werden eine stochastische Methode verwenden, um eine Stichprobe aus der Verteilung zu ziehen, die von dem Gleichungssystem beschrieben wird. Diese Methode wurde in den letzten 70er Jahren von Dan Gillespie entwickelt. Aus diesem Grund werden diese Stichprobenverfahren oft als Gillespie-Simulationen bezeichnet. Der Algorithmus wird manchmal auch als stochastischer Simulationsalgorithmus oder SSA bezeichnet.\n",
    "\n",
    "Im Folgenden werden wir die Funktionsweise dieses Algorithmus anhand der einfachen Produktion eines Proteins untersuchen.\n",
    "\n",
    "## Simulieren des stochastischen Gleichungssystems\n",
    "\n",
    "Für die einfache Proteinproduktion gibt es die folgende Reaktion:\n",
    "\n",
    "DNA→mRNA→Protein\n",
    "\n",
    "Wir haben bereits vorher die Proteinproduktion mit Hilfe von Differentialgleichungen simuliert. Das Ergebnis davon ist jedoch nicht für jeden Fall anwendbar. Bei dieser Simulation haben wir den Mittelwert der Produktion bei einer großen Zahl an Reaktionen betrachtet. Sobald aber stochastische Effekte eine größere Rolle spielen (z.B. das Gesetz der großen Zahlen nicht anwendbar ist und mit wenig Reaktionen gearbeitet wird), sind stochastische Simulationen eine geeignetere Methode.\n",
    "\n",
    "### Anwenden der Gillespie Simulation\n",
    "\n",
    "Um die Gillespie-Simulation zu verwenden, erstellen wir zunächst ein Array, das die Änderungen in den Zahlen von mRNA (m)\n",
    "und Protein (p) für jede der vier möglichen Reaktionen enthält. Auf diese Art und Weise werden die Aktualisierungen der Teilchenzahlen kodiert, die wir durch die Wahl der jeweiligen Zustandsänderungen erhalten."
   ]
  },
  {
   "cell_type": "code",
   "execution_count": null,
   "metadata": {
    "dotnet_interactive": {
     "language": "fsharp"
    },
    "vscode": {
     "languageId": "dotnet-interactive.fsharp"
    }
   },
   "outputs": [],
   "source": [
    "// Index 0 repräsentiert Änderung bei mRNA (m), Index 1 repräsentiert Änderung bei Protein (p)\n",
    "let simpleUpdate =\n",
    "    [|\n",
    "        1., 0.;  // mRNA Produktion\n",
    "        -1., 0.; // mRNA Abbau\n",
    "        0., 1.;  // Protein Produktion\n",
    "        0., -1.  // Protein Abbau\n",
    "    |]"
   ]
  },
  {
   "cell_type": "markdown",
   "metadata": {},
   "source": [
    "Zusätzlich benötigen wir die Übergangswahrscheinlichkeiten der Zustandsänderungen. Die Übergangswahrscheinlichkeiten werden im Rahmen der stochastischen Simulation auch als Propensities bezeichnet.\n",
    "Dafür erstellen wir eine Funktion, die das Array der Propensities für jede der vier Reaktionen aktualisiert. Wir aktualisieren die Propensities (die als Argument an die Funktion übergeben werden), anstatt sie zu instanziieren und zurückzugeben, um bei der Ausführung des Codes Speicherplatz zu sparen. Sie wird eine Funktion der aktuellen Anzahl von Molekülen sein. Im Allgemeinen kann sie auch eine Funktion der Zeit sein, daher berücksichtigen wir ausdrücklich auch die Zeitabhängigkeit (auch wenn wir sie in diesem einfachen Beispiel nicht verwenden)."
   ]
  },
  {
   "cell_type": "code",
   "execution_count": null,
   "metadata": {
    "dotnet_interactive": {
     "language": "fsharp"
    },
    "vscode": {
     "languageId": "dotnet-interactive.fsharp"
    }
   },
   "outputs": [],
   "source": [
    "//Updates einen Array von Propensities abhängig von den Parametern und der Population\n",
    "let simplePropensities (propensities: float []) population t beta_m beta_p gamma =\n",
    "    let m,p = population\n",
    "    propensities.[0] <- beta_m     // mRNA Produktion\n",
    "    propensities.[1] <- m          // mRNA Abbau\n",
    "    propensities.[2] <- beta_p * m // Protein Produktion\n",
    "    propensities.[3] <- gamma * p  // Protein Abbau"
   ]
  },
  {
   "cell_type": "markdown",
   "metadata": {},
   "source": [
    "### \"Ziehen\" einer Reaktion\n",
    "\n",
    "Anschließend brauchen wir eine allgemeine Funktion, die eine bestimmte Reaktion und das Zeitintervall für diese Reaktion zieht. Um das Zeitintervall zu bestimmen, ziehen wir zunächst eine Zufallszahl aus einer Exponentialverteilung.\n",
    "Als nächstes müssen wir auswählen, welche Reaktion stattfinden soll. Das läuft darauf hinaus, eine Stichprobe aus einer diskreten Verteilung zu ziehen.\n",
    "Dabei ist die Wahrscheinlichkeit jeder Reaktion proportional zu ihrer Propensity."
   ]
  },
  {
   "cell_type": "markdown",
   "metadata": {},
   "source": [
    "Hier können sie die dafür verwendete Funktion ausprobieren. Die Funktion gibt mit der an dem jeweiligen Index angegebenen Wahrscheinlichkeit den Index bei Aufruf der Funktion zurück."
   ]
  },
  {
   "cell_type": "code",
   "execution_count": null,
   "metadata": {
    "dotnet_interactive": {
     "language": "fsharp"
    },
    "vscode": {
     "languageId": "dotnet-interactive.fsharp"
    }
   },
   "outputs": [
    {
     "data": {
      "text/html": [
       "<div class=\"dni-plaintext\">2</div>"
      ]
     },
     "metadata": {},
     "output_type": "display_data"
    }
   ],
   "source": [
    "// Beispielspropensitäten\n",
    "let probs = [|\n",
    "        0.1    // Wahrscheinlichkeit Index 0 zu ziehen\n",
    "        0.3    // Wahrscheinlichkeit Index 1 zu ziehen\n",
    "        0.4    // Wahrscheinlichkeit Index 2 zu ziehen\n",
    "        0.05   // Wahrscheinlichkeit Index 3 zu ziehen\n",
    "        0.15   // Wahrscheinlichkeit Index 4 zu ziehen\n",
    "    |]\n",
    "sampleDiscrete probs"
   ]
  },
  {
   "cell_type": "markdown",
   "metadata": {},
   "source": [
    "##### Aufgabe 3.7\n",
    "\n",
    "***Führen sie die Funktion `sampleDiscrete` mit Werten Ihrer Wahl mehrfach aus. Stimmen die Ziehungen der Indices mit dem Verhältnis der Zahlen überein?***"
   ]
  },
  {
   "cell_type": "code",
   "execution_count": null,
   "metadata": {
    "dotnet_interactive": {
     "language": "fsharp"
    },
    "vscode": {
     "languageId": "dotnet-interactive.fsharp"
    }
   },
   "outputs": [],
   "source": [
    "// Hier könnte Ihr Code stehen"
   ]
  },
  {
   "cell_type": "markdown",
   "metadata": {},
   "source": [
    "# Besprechung"
   ]
  },
  {
   "cell_type": "markdown",
   "metadata": {},
   "source": [
    "### SSA Zeitsprungverfahren\n",
    "\n",
    "Jetzt können wir unsere SSA-Hauptschleife verwenden. Wir werden nur die Zahlen zu vorher festgelegten Zeitpunkten speichern. Das spart Arbeitsspeicher, und wir interessieren uns ohnehin nur für die Werte zu bestimmten Zeitpunkten.\n",
    "\n",
    "Beachten Sie, dass diese Funktion generisch ist. Alles, was wir brauchen, um unser System zu spezifizieren, ist das Folgende:\n",
    "\n",
    "    - Eine Funktion zum Berechnen der Übergangswahrscheinlichkeiten\n",
    "    - Wie die Aktualisierungen für eine bestimmte Reaktion vorgenommen werden\n",
    "    - Ausgangspopulation\n",
    "\n",
    "Zusätzlich geben wir die notwendigen Parameter, eine Anfangsbedingung und die Zeitpunkte an, zu denen wir unsere Stichproben speichern wollen.\n",
    "\n",
    "Wir können nun eine Reihe von SSA-Simulationen durchführen und die Ergebnisse speichern. Wir führen dafür 100 Trajektorien mit den Werten $\\beta_{p}$ = 10, $\\beta_{m}$ = 10 und $\\gamma$ = 0,4 durch."
   ]
  },
  {
   "cell_type": "code",
   "execution_count": null,
   "metadata": {
    "dotnet_interactive": {
     "language": "fsharp"
    },
    "vscode": {
     "languageId": "dotnet-interactive.fsharp"
    }
   },
   "outputs": [],
   "source": [
    "let zeitpunkte = [|0. .. 0.5 .. 50.|]\n",
    "\n",
    "let samples =\n",
    "    [|\n",
    "        // So oft wird die Reaktion simuliert (100 mal)\n",
    "        for i = 0 to 100 do\n",
    "            gillespieSSA simplePropensities simpleUpdate (0,0) zeitpunkte 10. 10. 0.4\n",
    "    |]"
   ]
  },
  {
   "cell_type": "code",
   "execution_count": null,
   "metadata": {
    "dotnet_interactive": {
     "language": "fsharp"
    },
    "vscode": {
     "languageId": "dotnet-interactive.fsharp"
    }
   },
   "outputs": [
    {
     "data": {
      "text/html": [
       "\n",
       "<div>\n",
       "    <div id=\"43dd3dc9-f8cc-4f30-847b-2393c1cf542c\"><!-- Plotly chart will be drawn inside this DIV --></div>\r\n",
       "<script type=\"text/javascript\">\r\n",
       "\r\n",
       "            var renderPlotly_43dd3dc9f8cc4f30847b2393c1cf542c = function() {\r\n",
       "            var fsharpPlotlyRequire = requirejs.config({context:'fsharp-plotly',paths:{plotly:'https://cdn.plot.ly/plotly-2.6.3.min'}}) || require;\r\n",
       "            fsharpPlotlyRequire(['plotly'], function(Plotly) {\r\n",
       "\r\n",
       "            var data = [{\"type\":\"scatter\",\"mode\":\"lines\",\"x\":[0.0,0.5,1.0,1.5,2.0,2.5,3.0,3.5,4.0,4.5,5.0,5.5,6.0,6.5,7.0,7.5,8.0,8.5,9.0,9.5,10.0,10.5,11.0,11.5,12.0,12.5,13.0,13.5,14.0,14.5,15.0,15.5,16.0,16.5,17.0,17.5,18.0,18.5,19.0,19.5,20.0,20.5,21.0,21.5,22.0,22.5,23.0,23.5,24.0,24.5,25.0,25.5,26.0,26.5,27.0,27.5,28.0,28.5,29.0,29.5,30.0,30.5,31.0,31.5,32.0,32.5,33.0,33.5,34.0,34.5,35.0,35.5,36.0,36.5,37.0,37.5,38.0,38.5,39.0,39.5,40.0,40.5,41.0,41.5,42.0,42.5,43.0,43.5,44.0,44.5,45.0,45.5,46.0,46.5,47.0,47.5,48.0,48.5,49.0,49.5,50.0],\"y\":[0.0,4.069306930693069,6.148514851485149,7.3861386138613865,9.267326732673267,9.544554455445544,9.772277227722773,10.247524752475247,9.92079207920792,9.564356435643564,9.693069306930694,9.514851485148515,9.821782178217822,9.910891089108912,9.801980198019802,9.524752475247524,10.138613861386139,9.326732673267326,9.683168316831683,9.910891089108912,9.415841584158416,9.544554455445544,9.722772277227723,9.871287128712872,10.168316831683168,10.455445544554456,10.514851485148515,10.05940594059406,10.05940594059406,10.148514851485148,10.306930693069306,10.108910891089108,10.415841584158416,10.722772277227723,10.435643564356436,10.445544554455445,10.504950495049505,9.970297029702971,9.811881188118813,9.861386138613861,10.148514851485148,10.217821782178218,9.673267326732674,9.881188118811881,9.514851485148515,9.455445544554456,9.92079207920792,10.455445544554456,10.257425742574258,10.217821782178218,10.297029702970297,10.485148514851485,10.623762376237623,10.277227722772277,9.94059405940594,9.821782178217822,9.772277227722773,9.732673267326733,9.712871287128714,9.92079207920792,9.782178217821782,9.722772277227723,9.673267326732674,9.752475247524753,9.702970297029703,10.099009900990099,10.643564356435643,10.643564356435643,10.455445544554456,9.861386138613861,9.752475247524753,9.702970297029703,9.801980198019802,9.306930693069306,9.574257425742575,9.841584158415841,9.950495049504951,10.099009900990099,9.92079207920792,9.792079207920793,9.673267326732674,9.495049504950495,9.495049504950495,9.663366336633663,9.861386138613861,9.574257425742575,9.287128712871286,9.356435643564357,9.663366336633663,9.752475247524753,9.841584158415841,9.564356435643564,9.475247524752476,10.247524752475247,10.198019801980198,10.188118811881187,10.594059405940595,10.623762376237623,10.792079207920793,10.603960396039604,10.108910891089108],\"marker\":{},\"line\":{\"width\":5.0},\"error_y\":{\"array\":[0.0,2.2102372078244192,2.4099217357161677,2.649416150889486,3.1365302138156137,3.5483087590435183,3.0492005119992087,3.4041326078578646,3.1390545338264886,3.1158172012624825,3.042178739842305,3.2484268850818805,3.1698455470384057,2.908948297584507,3.376447251121207,3.1195963181345774,3.098482541407317,2.949945460143591,3.328455176412345,3.397348995616995,3.076580331253105,2.927540785284631,3.04997971101838,2.9754440553861325,3.4294877370554717,3.6125468923606996,3.3544414181384603,3.334131917540809,3.208805952930834,2.7654516398370137,3.0683629976175433,3.3313690582071813,3.2841051345310897,3.6003300178766615,3.4012228435789345,3.0934616452277295,2.9210400968704184,2.998184269002005,3.2178031987277556,2.7314088048854823,3.0410068681733073,2.9583913209581976,3.0169816402858305,2.7867081968260377,3.321487201198097,3.6510950479965527,3.291453078252314,3.4395486694485005,3.195789308908003,3.3424660369135832,2.9514218758267865,3.2668451490272337,3.0194419522438736,3.0401276679810274,2.745256935801157,3.0344556006109578,2.8138272445863204,3.016259568103882,3.118771019691463,2.972147938164692,2.91068363239992,3.02694173013353,2.4944294373306657,3.03119098901425,2.964943690714701,3.31211397900208,3.404656101329006,2.812771439046697,3.0480313399807675,2.724076735227174,2.984647183819418,3.366138899259641,3.2680875201872976,3.4949751766140658,3.476626337855323,3.324853901353643,3.147622079042408,3.5623165229806557,3.084422695795217,3.536429927718541,3.184678667906981,3.1768656325889437,3.345515692314826,3.2504683592453945,3.6387627099614424,3.1759928672887967,2.916630362810366,2.914049273488153,3.3623718643920752,3.05092097765268,3.233365655991684,3.2416534101725265,2.998646559386219,3.1061421107027916,2.8249594757454415,3.2579529502039426,3.3591017186795105,3.1586436492536314,3.147433340622699,3.2096081004409007,3.0980671074042596],\"color\":\"grey\"},\"name\":\"mRNA\",\"xaxis\":\"x\",\"yaxis\":\"y\"},{\"type\":\"scatter\",\"mode\":\"lines\",\"x\":[0.0,0.5,1.0,1.5,2.0,2.5,3.0,3.5,4.0,4.5,5.0,5.5,6.0,6.5,7.0,7.5,8.0,8.5,9.0,9.5,10.0,10.5,11.0,11.5,12.0,12.5,13.0,13.5,14.0,14.5,15.0,15.5,16.0,16.5,17.0,17.5,18.0,18.5,19.0,19.5,20.0,20.5,21.0,21.5,22.0,22.5,23.0,23.5,24.0,24.5,25.0,25.5,26.0,26.5,27.0,27.5,28.0,28.5,29.0,29.5,30.0,30.5,31.0,31.5,32.0,32.5,33.0,33.5,34.0,34.5,35.0,35.5,36.0,36.5,37.0,37.5,38.0,38.5,39.0,39.5,40.0,40.5,41.0,41.5,42.0,42.5,43.0,43.5,44.0,44.5,45.0,45.5,46.0,46.5,47.0,47.5,48.0,48.5,49.0,49.5,50.0],\"y\":[0.0,10.237623762376238,31.534653465346533,56.95049504950495,84.29702970297029,111.52475247524752,134.009900990099,153.03960396039605,170.990099009901,183.8019801980198,195.82178217821783,203.52475247524754,210.97029702970298,217.3861386138614,223.06930693069307,228.01980198019803,234.75247524752476,235.23762376237624,236.21782178217822,236.59405940594058,237.45544554455446,237.14851485148515,238.58415841584159,237.86138613861385,241.34653465346534,246.20792079207922,247.86138613861385,249.37623762376236,250.69306930693068,251.13861386138615,250.82178217821783,251.88118811881188,252.73267326732673,255.7128712871287,258.1980198019802,257.3069306930693,259.3762376237624,257.51485148514854,255.55445544554456,253.64356435643563,253.83168316831683,253.65346534653466,253.16831683168317,252.15841584158414,251.82178217821783,249.5049504950495,248.45544554455446,249.4257425742574,250.17821782178217,251.5742574257426,252.58415841584159,254.53465346534654,256.029702970297,256.54455445544556,254.0,251.7128712871287,249.8019801980198,249.79207920792078,248.78217821782178,248.21782178217822,247.87128712871288,248.69306930693068,247.6039603960396,246.69306930693068,246.24752475247524,246.23762376237624,246.95049504950495,250.95049504950495,252.55445544554456,251.1089108910891,250.69306930693068,251.20792079207922,248.65346534653466,246.3960396039604,245.36633663366337,247.3861386138614,246.06930693069307,248.85148514851485,248.97029702970298,248.41584158415841,247.93069306930693,246.13861386138615,244.77227722772278,245.36633663366337,244.23762376237624,243.26732673267327,240.55445544554456,239.4257425742574,239.21782178217822,241.3960396039604,241.31683168316832,243.5742574257426,241.3960396039604,242.2871287128713,245.14851485148515,246.67326732673268,247.9009900990099,251.24752475247524,253.96039603960395,256.55445544554453,258.1287128712871],\"marker\":{},\"line\":{\"width\":5.0},\"error_y\":{\"array\":[0.0,6.603254523114318,14.930213900969836,21.459439059595084,27.13136360541263,32.77486660824294,39.02396572607786,41.00437069193459,41.60684920767371,41.067510224502335,41.898065835931845,42.26714895977866,42.397277140293944,42.78129738496245,43.19867067995093,44.966427520544656,47.48734693380839,46.55172360178547,48.975831582607356,48.46755166455631,48.78535123425375,47.547531195344696,46.28612477335571,44.91258836962535,43.61982018384861,43.550732905815295,43.57224568529152,45.87065543136451,47.51962596112419,46.90906729044404,44.077748590327055,44.01006410554588,45.46270803397195,46.6386827930771,49.3382244921684,48.54992123047315,48.226310554540355,49.641638542938146,48.071504084545715,47.534531481527374,45.02822876972416,43.03590027954901,43.990696586194375,42.29107061148187,41.18795844408994,42.568679510263465,44.57410116928333,46.512868441895414,45.43575597249461,47.467114202288194,46.013534384294516,42.00561018636337,40.61316423169821,39.659431350556524,39.137961111943476,40.802288326431736,41.93710047248861,40.64414271003466,39.6647460499613,41.10489118350662,40.01716215983752,40.45682700713377,40.3881366759896,37.08065333142269,37.60755401261668,37.4259665245539,38.79313759871036,39.69644221781689,38.645174407039434,39.29984757988229,37.303550119059025,38.93977833313465,39.966845170356976,41.21870429984932,43.879544840911294,46.83139338030199,47.77975668120184,48.72091668649387,47.52903437806088,47.23034349371867,46.45347294352546,45.35240450140882,44.98219229608953,46.18673462635723,46.81690902117556,45.31730157216091,44.03872733118539,45.22949182439561,44.42355320331682,44.60517441013336,42.68674986294209,41.7203419292444,41.55191432603817,40.15478467970246,38.596732021924815,38.49314456130887,38.89640213451498,38.78076996156575,37.68658137642076,37.75750925247181,40.47583559763445],\"color\":\"grey\"},\"name\":\"Protein\",\"xaxis\":\"x2\",\"yaxis\":\"y2\"}];\r\n",
       "            var layout = {\"width\":1200,\"height\":600,\"template\":{\"layout\":{\"title\":{\"x\":0.05},\"font\":{\"color\":\"rgba(42, 63, 95, 1.0)\"},\"paper_bgcolor\":\"rgba(255, 255, 255, 1.0)\",\"plot_bgcolor\":\"rgba(229, 236, 246, 1.0)\",\"autotypenumbers\":\"strict\",\"colorscale\":{\"diverging\":[[0.0,\"#8e0152\"],[0.1,\"#c51b7d\"],[0.2,\"#de77ae\"],[0.3,\"#f1b6da\"],[0.4,\"#fde0ef\"],[0.5,\"#f7f7f7\"],[0.6,\"#e6f5d0\"],[0.7,\"#b8e186\"],[0.8,\"#7fbc41\"],[0.9,\"#4d9221\"],[1.0,\"#276419\"]],\"sequential\":[[0.0,\"#0d0887\"],[0.1111111111111111,\"#46039f\"],[0.2222222222222222,\"#7201a8\"],[0.3333333333333333,\"#9c179e\"],[0.4444444444444444,\"#bd3786\"],[0.5555555555555556,\"#d8576b\"],[0.6666666666666666,\"#ed7953\"],[0.7777777777777778,\"#fb9f3a\"],[0.8888888888888888,\"#fdca26\"],[1.0,\"#f0f921\"]],\"sequentialminus\":[[0.0,\"#0d0887\"],[0.1111111111111111,\"#46039f\"],[0.2222222222222222,\"#7201a8\"],[0.3333333333333333,\"#9c179e\"],[0.4444444444444444,\"#bd3786\"],[0.5555555555555556,\"#d8576b\"],[0.6666666666666666,\"#ed7953\"],[0.7777777777777778,\"#fb9f3a\"],[0.8888888888888888,\"#fdca26\"],[1.0,\"#f0f921\"]]},\"hovermode\":\"closest\",\"hoverlabel\":{\"align\":\"left\"},\"coloraxis\":{\"colorbar\":{\"outlinewidth\":0.0,\"ticks\":\"\"}},\"geo\":{\"showland\":true,\"landcolor\":\"rgba(229, 236, 246, 1.0)\",\"showlakes\":true,\"lakecolor\":\"rgba(255, 255, 255, 1.0)\",\"subunitcolor\":\"rgba(255, 255, 255, 1.0)\",\"bgcolor\":\"rgba(255, 255, 255, 1.0)\"},\"mapbox\":{\"style\":\"light\"},\"polar\":{\"bgcolor\":\"rgba(229, 236, 246, 1.0)\",\"radialaxis\":{\"linecolor\":\"rgba(255, 255, 255, 1.0)\",\"gridcolor\":\"rgba(255, 255, 255, 1.0)\",\"ticks\":\"\"},\"angularaxis\":{\"linecolor\":\"rgba(255, 255, 255, 1.0)\",\"gridcolor\":\"rgba(255, 255, 255, 1.0)\",\"ticks\":\"\"}},\"scene\":{\"xaxis\":{\"ticks\":\"\",\"linecolor\":\"rgba(255, 255, 255, 1.0)\",\"gridcolor\":\"rgba(255, 255, 255, 1.0)\",\"gridwidth\":2.0,\"zerolinecolor\":\"rgba(255, 255, 255, 1.0)\",\"backgroundcolor\":\"rgba(229, 236, 246, 1.0)\",\"showbackground\":true},\"yaxis\":{\"ticks\":\"\",\"linecolor\":\"rgba(255, 255, 255, 1.0)\",\"gridcolor\":\"rgba(255, 255, 255, 1.0)\",\"gridwidth\":2.0,\"zerolinecolor\":\"rgba(255, 255, 255, 1.0)\",\"backgroundcolor\":\"rgba(229, 236, 246, 1.0)\",\"showbackground\":true},\"zaxis\":{\"ticks\":\"\",\"linecolor\":\"rgba(255, 255, 255, 1.0)\",\"gridcolor\":\"rgba(255, 255, 255, 1.0)\",\"gridwidth\":2.0,\"zerolinecolor\":\"rgba(255, 255, 255, 1.0)\",\"backgroundcolor\":\"rgba(229, 236, 246, 1.0)\",\"showbackground\":true}},\"ternary\":{\"aaxis\":{\"ticks\":\"\",\"linecolor\":\"rgba(255, 255, 255, 1.0)\",\"gridcolor\":\"rgba(255, 255, 255, 1.0)\"},\"baxis\":{\"ticks\":\"\",\"linecolor\":\"rgba(255, 255, 255, 1.0)\",\"gridcolor\":\"rgba(255, 255, 255, 1.0)\"},\"caxis\":{\"ticks\":\"\",\"linecolor\":\"rgba(255, 255, 255, 1.0)\",\"gridcolor\":\"rgba(255, 255, 255, 1.0)\"},\"bgcolor\":\"rgba(229, 236, 246, 1.0)\"},\"xaxis\":{\"title\":{\"standoff\":15},\"ticks\":\"\",\"automargin\":true,\"linecolor\":\"rgba(255, 255, 255, 1.0)\",\"gridcolor\":\"rgba(255, 255, 255, 1.0)\",\"zerolinecolor\":\"rgba(255, 255, 255, 1.0)\",\"zerolinewidth\":2.0},\"yaxis\":{\"title\":{\"standoff\":15},\"ticks\":\"\",\"automargin\":true,\"linecolor\":\"rgba(255, 255, 255, 1.0)\",\"gridcolor\":\"rgba(255, 255, 255, 1.0)\",\"zerolinecolor\":\"rgba(255, 255, 255, 1.0)\",\"zerolinewidth\":2.0},\"annotationdefaults\":{\"arrowcolor\":\"#2a3f5f\",\"arrowhead\":0,\"arrowwidth\":1},\"shapedefaults\":{\"line\":{\"color\":\"rgba(42, 63, 95, 1.0)\"}},\"colorway\":[\"rgba(99, 110, 250, 1.0)\",\"rgba(239, 85, 59, 1.0)\",\"rgba(0, 204, 150, 1.0)\",\"rgba(171, 99, 250, 1.0)\",\"rgba(255, 161, 90, 1.0)\",\"rgba(25, 211, 243, 1.0)\",\"rgba(255, 102, 146, 1.0)\",\"rgba(182, 232, 128, 1.0)\",\"rgba(255, 151, 255, 1.0)\",\"rgba(254, 203, 82, 1.0)\"]},\"data\":{\"bar\":[{\"marker\":{\"line\":{\"color\":\"rgba(229, 236, 246, 1.0)\",\"width\":0.5},\"pattern\":{\"fillmode\":\"overlay\",\"size\":10,\"solidity\":0.2}},\"error_x\":{\"color\":\"rgba(42, 63, 95, 1.0)\"},\"error_y\":{\"color\":\"rgba(42, 63, 95, 1.0)\"}}],\"barpolar\":[{\"marker\":{\"line\":{\"color\":\"rgba(229, 236, 246, 1.0)\",\"width\":0.5},\"pattern\":{\"fillmode\":\"overlay\",\"size\":10,\"solidity\":0.2}}}],\"carpet\":[{\"aaxis\":{\"linecolor\":\"rgba(255, 255, 255, 1.0)\",\"gridcolor\":\"rgba(255, 255, 255, 1.0)\",\"endlinecolor\":\"rgba(42, 63, 95, 1.0)\",\"minorgridcolor\":\"rgba(255, 255, 255, 1.0)\",\"startlinecolor\":\"rgba(42, 63, 95, 1.0)\"},\"baxis\":{\"linecolor\":\"rgba(255, 255, 255, 1.0)\",\"gridcolor\":\"rgba(255, 255, 255, 1.0)\",\"endlinecolor\":\"rgba(42, 63, 95, 1.0)\",\"minorgridcolor\":\"rgba(255, 255, 255, 1.0)\",\"startlinecolor\":\"rgba(42, 63, 95, 1.0)\"}}],\"choropleth\":[{\"colorbar\":{\"outlinewidth\":0.0,\"ticks\":\"\"},\"colorscale\":[[0.0,\"#0d0887\"],[0.1111111111111111,\"#46039f\"],[0.2222222222222222,\"#7201a8\"],[0.3333333333333333,\"#9c179e\"],[0.4444444444444444,\"#bd3786\"],[0.5555555555555556,\"#d8576b\"],[0.6666666666666666,\"#ed7953\"],[0.7777777777777778,\"#fb9f3a\"],[0.8888888888888888,\"#fdca26\"],[1.0,\"#f0f921\"]]}],\"contour\":[{\"colorbar\":{\"outlinewidth\":0.0,\"ticks\":\"\"},\"colorscale\":[[0.0,\"#0d0887\"],[0.1111111111111111,\"#46039f\"],[0.2222222222222222,\"#7201a8\"],[0.3333333333333333,\"#9c179e\"],[0.4444444444444444,\"#bd3786\"],[0.5555555555555556,\"#d8576b\"],[0.6666666666666666,\"#ed7953\"],[0.7777777777777778,\"#fb9f3a\"],[0.8888888888888888,\"#fdca26\"],[1.0,\"#f0f921\"]]}],\"contourcarpet\":[{\"colorbar\":{\"outlinewidth\":0.0,\"ticks\":\"\"}}],\"heatmap\":[{\"colorbar\":{\"outlinewidth\":0.0,\"ticks\":\"\"},\"colorscale\":[[0.0,\"#0d0887\"],[0.1111111111111111,\"#46039f\"],[0.2222222222222222,\"#7201a8\"],[0.3333333333333333,\"#9c179e\"],[0.4444444444444444,\"#bd3786\"],[0.5555555555555556,\"#d8576b\"],[0.6666666666666666,\"#ed7953\"],[0.7777777777777778,\"#fb9f3a\"],[0.8888888888888888,\"#fdca26\"],[1.0,\"#f0f921\"]]}],\"heatmapgl\":[{\"colorbar\":{\"outlinewidth\":0.0,\"ticks\":\"\"},\"colorscale\":[[0.0,\"#0d0887\"],[0.1111111111111111,\"#46039f\"],[0.2222222222222222,\"#7201a8\"],[0.3333333333333333,\"#9c179e\"],[0.4444444444444444,\"#bd3786\"],[0.5555555555555556,\"#d8576b\"],[0.6666666666666666,\"#ed7953\"],[0.7777777777777778,\"#fb9f3a\"],[0.8888888888888888,\"#fdca26\"],[1.0,\"#f0f921\"]]}],\"histogram\":[{\"marker\":{\"pattern\":{\"fillmode\":\"overlay\",\"size\":10,\"solidity\":0.2}}}],\"histogram2d\":[{\"colorbar\":{\"outlinewidth\":0.0,\"ticks\":\"\"},\"colorscale\":[[0.0,\"#0d0887\"],[0.1111111111111111,\"#46039f\"],[0.2222222222222222,\"#7201a8\"],[0.3333333333333333,\"#9c179e\"],[0.4444444444444444,\"#bd3786\"],[0.5555555555555556,\"#d8576b\"],[0.6666666666666666,\"#ed7953\"],[0.7777777777777778,\"#fb9f3a\"],[0.8888888888888888,\"#fdca26\"],[1.0,\"#f0f921\"]]}],\"histogram2dcontour\":[{\"colorbar\":{\"outlinewidth\":0.0,\"ticks\":\"\"},\"colorscale\":[[0.0,\"#0d0887\"],[0.1111111111111111,\"#46039f\"],[0.2222222222222222,\"#7201a8\"],[0.3333333333333333,\"#9c179e\"],[0.4444444444444444,\"#bd3786\"],[0.5555555555555556,\"#d8576b\"],[0.6666666666666666,\"#ed7953\"],[0.7777777777777778,\"#fb9f3a\"],[0.8888888888888888,\"#fdca26\"],[1.0,\"#f0f921\"]]}],\"mesh3d\":[{\"colorbar\":{\"outlinewidth\":0.0,\"ticks\":\"\"}}],\"parcoords\":[{\"line\":{\"colorbar\":{\"outlinewidth\":0.0,\"ticks\":\"\"}}}],\"pie\":[{\"automargin\":true}],\"scatter\":[{\"marker\":{\"colorbar\":{\"outlinewidth\":0.0,\"ticks\":\"\"}}}],\"scatter3d\":[{\"marker\":{\"colorbar\":{\"outlinewidth\":0.0,\"ticks\":\"\"}},\"line\":{\"colorbar\":{\"outlinewidth\":0.0,\"ticks\":\"\"}}}],\"scattercarpet\":[{\"marker\":{\"colorbar\":{\"outlinewidth\":0.0,\"ticks\":\"\"}}}],\"scattergeo\":[{\"marker\":{\"colorbar\":{\"outlinewidth\":0.0,\"ticks\":\"\"}}}],\"scattergl\":[{\"marker\":{\"colorbar\":{\"outlinewidth\":0.0,\"ticks\":\"\"}}}],\"scattermapbox\":[{\"marker\":{\"colorbar\":{\"outlinewidth\":0.0,\"ticks\":\"\"}}}],\"scatterpolar\":[{\"marker\":{\"colorbar\":{\"outlinewidth\":0.0,\"ticks\":\"\"}}}],\"scatterpolargl\":[{\"marker\":{\"colorbar\":{\"outlinewidth\":0.0,\"ticks\":\"\"}}}],\"scatterternary\":[{\"marker\":{\"colorbar\":{\"outlinewidth\":0.0,\"ticks\":\"\"}}}],\"surface\":[{\"colorbar\":{\"outlinewidth\":0.0,\"ticks\":\"\"},\"colorscale\":[[0.0,\"#0d0887\"],[0.1111111111111111,\"#46039f\"],[0.2222222222222222,\"#7201a8\"],[0.3333333333333333,\"#9c179e\"],[0.4444444444444444,\"#bd3786\"],[0.5555555555555556,\"#d8576b\"],[0.6666666666666666,\"#ed7953\"],[0.7777777777777778,\"#fb9f3a\"],[0.8888888888888888,\"#fdca26\"],[1.0,\"#f0f921\"]]}],\"table\":[{\"cells\":{\"fill\":{\"color\":\"rgba(235, 240, 248, 1.0)\"},\"line\":{\"color\":\"rgba(255, 255, 255, 1.0)\"}},\"header\":{\"fill\":{\"color\":\"rgba(200, 212, 227, 1.0)\"},\"line\":{\"color\":\"rgba(255, 255, 255, 1.0)\"}}}]}},\"yaxis\":{\"title\":{\"text\":\"Anzahl\"}},\"xaxis\":{\"title\":{\"text\":\"Zeit\"},\"range\":[0.0,15.0]},\"xaxis2\":{\"title\":{\"text\":\"Zeit\"},\"range\":[0.0,15.0]},\"yaxis2\":{\"title\":{\"text\":\"Anzahl\"}},\"grid\":{\"rows\":1,\"columns\":2,\"pattern\":\"independent\"}};\r\n",
       "            var config = {\"responsive\":true};\r\n",
       "            Plotly.newPlot('43dd3dc9-f8cc-4f30-847b-2393c1cf542c', data, layout, config);\r\n",
       "});\r\n",
       "            };\r\n",
       "            if ((typeof(requirejs) !==  typeof(Function)) || (typeof(requirejs.config) !== typeof(Function))) {\r\n",
       "                var script = document.createElement(\"script\");\r\n",
       "                script.setAttribute(\"src\", \"https://cdnjs.cloudflare.com/ajax/libs/require.js/2.3.6/require.min.js\");\r\n",
       "                script.onload = function(){\r\n",
       "                    renderPlotly_43dd3dc9f8cc4f30847b2393c1cf542c();\r\n",
       "                };\r\n",
       "                document.getElementsByTagName(\"head\")[0].appendChild(script);\r\n",
       "            }\r\n",
       "            else {\r\n",
       "                renderPlotly_43dd3dc9f8cc4f30847b2393c1cf542c();\r\n",
       "            }\r\n",
       "</script>\r\n",
       "\n",
       "    \n",
       "</div>    \n"
      ]
     },
     "metadata": {},
     "output_type": "display_data"
    }
   ],
   "source": [
    "[\n",
    "    samples\n",
    "    |> Array.map fst\n",
    "    |> Array.transpose\n",
    "    |> Array.map (fun numbers -> Array.average numbers, Seq.stDev numbers)\n",
    "    |> Array.unzip\n",
    "    |> fun (number,stDev) ->\n",
    "        Chart.Line (zeitpunkte, number, LineWidth = 5)\n",
    "        |> Chart.withYErrorStyle(Array = stDev, Color = Color.fromString \"grey\")\n",
    "        |> Chart.withYAxisStyle(TitleText = \"Anzahl\")\n",
    "        |> Chart.withXAxisStyle(TitleText = \"Zeit\",MinMax=(0.,15.))\n",
    "        |> Chart.withTraceInfo(\"mRNA\")\n",
    "    samples\n",
    "    |> Array.map snd\n",
    "    |> Array.transpose\n",
    "    |> Array.map (fun numbers -> Array.average numbers, Seq.stDev numbers)\n",
    "    |> Array.unzip\n",
    "    |> fun (number,stDev) ->\n",
    "        Chart.Line (zeitpunkte, number, LineWidth = 5)\n",
    "        |> Chart.withYErrorStyle(Array = stDev, Color = Color.fromString \"grey\")\n",
    "        |> Chart.withYAxisStyle(TitleText = \"Anzahl\")\n",
    "        |> Chart.withXAxisStyle(TitleText = \"Zeit\",MinMax=(0.,15.))\n",
    "        |> Chart.withTraceInfo(\"Protein\")\n",
    "]\n",
    "|> Chart.Grid (1,2)\n",
    "|> Chart.withSize(1200., 600.)"
   ]
  },
  {
   "cell_type": "markdown",
   "metadata": {},
   "source": [
    "##### Aufgabe 3.8\n",
    "***Führen sie `gillespieSSA` mit den obigen Werten unterschiedlich oft aus. Wie sehen die Kurven bei niedriger Wiederholungszahl aus? Wie bei hoher?***"
   ]
  },
  {
   "cell_type": "code",
   "execution_count": null,
   "metadata": {
    "dotnet_interactive": {
     "language": "fsharp"
    },
    "vscode": {
     "languageId": "dotnet-interactive.fsharp"
    }
   },
   "outputs": [],
   "source": [
    "// Kopieren sie den benötigten Code aus dem vorherigen Codeblock"
   ]
  },
  {
   "cell_type": "markdown",
   "metadata": {},
   "source": [
    "Wie man in den beiden obigen Abbildungen ablesen kann, erreichen beide Moleküle nach einer gewissen Zeit den Gleichgewichtszustand. Dieser Bereich ist biologisch dadurch interessant, dass die Verteilung über die Zustände hinweg stabil bleibt. Somit kann diese Verteilung als echte Eigenschaft des Moleküls im Gesamtkontext des biologischen Systems verstanden werden.\n",
    "\n",
    "Daher schauen wir uns die Wahrscheinlichkeitsverteilungen in diesem stationären Gleichgewichtszustand an. Dafür aggregieren wir die simulierten Häufigkeiten der einzelnen Werte als normiertes Histogramm. Dieses Histogramm entspricht der Form der Wahrscheinlichkeitsverteilung, gegeben durch ihre Wahrscheinlichkeitsdichtefunktion (PDF)."
   ]
  },
  {
   "cell_type": "code",
   "execution_count": null,
   "metadata": {
    "dotnet_interactive": {
     "language": "fsharp"
    },
    "vscode": {
     "languageId": "dotnet-interactive.fsharp"
    }
   },
   "outputs": [
    {
     "data": {
      "text/html": [
       "\n",
       "<div>\n",
       "    <div id=\"fba1b45f-afaa-406d-89ec-b423b09224d0\"><!-- Plotly chart will be drawn inside this DIV --></div>\r\n",
       "<script type=\"text/javascript\">\r\n",
       "\r\n",
       "            var renderPlotly_fba1b45fafaa406d89ecb423b09224d0 = function() {\r\n",
       "            var fsharpPlotlyRequire = requirejs.config({context:'fsharp-plotly',paths:{plotly:'https://cdn.plot.ly/plotly-2.6.3.min'}}) || require;\r\n",
       "            fsharpPlotlyRequire(['plotly'], function(Plotly) {\r\n",
       "\r\n",
       "            var data = [{\"type\":\"bar\",\"x\":[18.0,20.0,15.0,7.0,9.0,8.0,11.0,10.0,13.0,16.0,12.0,14.0,4.0,5.0,6.0,17.0,19.0,3.0,21.0,2.0,1.0,22.0],\"y\":[0.006600660066006601,0.0019413706076490001,0.0343622597553873,0.09202096680256261,0.1254125412541254,0.11279363230440691,0.11318190642593672,0.12890700834789362,0.06658901184236071,0.0180547466511357,0.0945447485925063,0.0526111434672879,0.020190254319549603,0.03805086390992041,0.06658901184236071,0.0122306348281887,0.0052417006406523005,0.0062123859444768005,0.0007765482430596001,0.0029120559114735,0.00038827412152980003,0.00038827412152980003],\"orientation\":\"v\",\"marker\":{\"pattern\":{}}}];\r\n",
       "            var layout = {\"width\":600,\"height\":600,\"template\":{\"layout\":{\"title\":{\"x\":0.05},\"font\":{\"color\":\"rgba(42, 63, 95, 1.0)\"},\"paper_bgcolor\":\"rgba(255, 255, 255, 1.0)\",\"plot_bgcolor\":\"rgba(229, 236, 246, 1.0)\",\"autotypenumbers\":\"strict\",\"colorscale\":{\"diverging\":[[0.0,\"#8e0152\"],[0.1,\"#c51b7d\"],[0.2,\"#de77ae\"],[0.3,\"#f1b6da\"],[0.4,\"#fde0ef\"],[0.5,\"#f7f7f7\"],[0.6,\"#e6f5d0\"],[0.7,\"#b8e186\"],[0.8,\"#7fbc41\"],[0.9,\"#4d9221\"],[1.0,\"#276419\"]],\"sequential\":[[0.0,\"#0d0887\"],[0.1111111111111111,\"#46039f\"],[0.2222222222222222,\"#7201a8\"],[0.3333333333333333,\"#9c179e\"],[0.4444444444444444,\"#bd3786\"],[0.5555555555555556,\"#d8576b\"],[0.6666666666666666,\"#ed7953\"],[0.7777777777777778,\"#fb9f3a\"],[0.8888888888888888,\"#fdca26\"],[1.0,\"#f0f921\"]],\"sequentialminus\":[[0.0,\"#0d0887\"],[0.1111111111111111,\"#46039f\"],[0.2222222222222222,\"#7201a8\"],[0.3333333333333333,\"#9c179e\"],[0.4444444444444444,\"#bd3786\"],[0.5555555555555556,\"#d8576b\"],[0.6666666666666666,\"#ed7953\"],[0.7777777777777778,\"#fb9f3a\"],[0.8888888888888888,\"#fdca26\"],[1.0,\"#f0f921\"]]},\"hovermode\":\"closest\",\"hoverlabel\":{\"align\":\"left\"},\"coloraxis\":{\"colorbar\":{\"outlinewidth\":0.0,\"ticks\":\"\"}},\"geo\":{\"showland\":true,\"landcolor\":\"rgba(229, 236, 246, 1.0)\",\"showlakes\":true,\"lakecolor\":\"rgba(255, 255, 255, 1.0)\",\"subunitcolor\":\"rgba(255, 255, 255, 1.0)\",\"bgcolor\":\"rgba(255, 255, 255, 1.0)\"},\"mapbox\":{\"style\":\"light\"},\"polar\":{\"bgcolor\":\"rgba(229, 236, 246, 1.0)\",\"radialaxis\":{\"linecolor\":\"rgba(255, 255, 255, 1.0)\",\"gridcolor\":\"rgba(255, 255, 255, 1.0)\",\"ticks\":\"\"},\"angularaxis\":{\"linecolor\":\"rgba(255, 255, 255, 1.0)\",\"gridcolor\":\"rgba(255, 255, 255, 1.0)\",\"ticks\":\"\"}},\"scene\":{\"xaxis\":{\"ticks\":\"\",\"linecolor\":\"rgba(255, 255, 255, 1.0)\",\"gridcolor\":\"rgba(255, 255, 255, 1.0)\",\"gridwidth\":2.0,\"zerolinecolor\":\"rgba(255, 255, 255, 1.0)\",\"backgroundcolor\":\"rgba(229, 236, 246, 1.0)\",\"showbackground\":true},\"yaxis\":{\"ticks\":\"\",\"linecolor\":\"rgba(255, 255, 255, 1.0)\",\"gridcolor\":\"rgba(255, 255, 255, 1.0)\",\"gridwidth\":2.0,\"zerolinecolor\":\"rgba(255, 255, 255, 1.0)\",\"backgroundcolor\":\"rgba(229, 236, 246, 1.0)\",\"showbackground\":true},\"zaxis\":{\"ticks\":\"\",\"linecolor\":\"rgba(255, 255, 255, 1.0)\",\"gridcolor\":\"rgba(255, 255, 255, 1.0)\",\"gridwidth\":2.0,\"zerolinecolor\":\"rgba(255, 255, 255, 1.0)\",\"backgroundcolor\":\"rgba(229, 236, 246, 1.0)\",\"showbackground\":true}},\"ternary\":{\"aaxis\":{\"ticks\":\"\",\"linecolor\":\"rgba(255, 255, 255, 1.0)\",\"gridcolor\":\"rgba(255, 255, 255, 1.0)\"},\"baxis\":{\"ticks\":\"\",\"linecolor\":\"rgba(255, 255, 255, 1.0)\",\"gridcolor\":\"rgba(255, 255, 255, 1.0)\"},\"caxis\":{\"ticks\":\"\",\"linecolor\":\"rgba(255, 255, 255, 1.0)\",\"gridcolor\":\"rgba(255, 255, 255, 1.0)\"},\"bgcolor\":\"rgba(229, 236, 246, 1.0)\"},\"xaxis\":{\"title\":{\"standoff\":15},\"ticks\":\"\",\"automargin\":true,\"linecolor\":\"rgba(255, 255, 255, 1.0)\",\"gridcolor\":\"rgba(255, 255, 255, 1.0)\",\"zerolinecolor\":\"rgba(255, 255, 255, 1.0)\",\"zerolinewidth\":2.0},\"yaxis\":{\"title\":{\"standoff\":15},\"ticks\":\"\",\"automargin\":true,\"linecolor\":\"rgba(255, 255, 255, 1.0)\",\"gridcolor\":\"rgba(255, 255, 255, 1.0)\",\"zerolinecolor\":\"rgba(255, 255, 255, 1.0)\",\"zerolinewidth\":2.0},\"annotationdefaults\":{\"arrowcolor\":\"#2a3f5f\",\"arrowhead\":0,\"arrowwidth\":1},\"shapedefaults\":{\"line\":{\"color\":\"rgba(42, 63, 95, 1.0)\"}},\"colorway\":[\"rgba(99, 110, 250, 1.0)\",\"rgba(239, 85, 59, 1.0)\",\"rgba(0, 204, 150, 1.0)\",\"rgba(171, 99, 250, 1.0)\",\"rgba(255, 161, 90, 1.0)\",\"rgba(25, 211, 243, 1.0)\",\"rgba(255, 102, 146, 1.0)\",\"rgba(182, 232, 128, 1.0)\",\"rgba(255, 151, 255, 1.0)\",\"rgba(254, 203, 82, 1.0)\"]},\"data\":{\"bar\":[{\"marker\":{\"line\":{\"color\":\"rgba(229, 236, 246, 1.0)\",\"width\":0.5},\"pattern\":{\"fillmode\":\"overlay\",\"size\":10,\"solidity\":0.2}},\"error_x\":{\"color\":\"rgba(42, 63, 95, 1.0)\"},\"error_y\":{\"color\":\"rgba(42, 63, 95, 1.0)\"}}],\"barpolar\":[{\"marker\":{\"line\":{\"color\":\"rgba(229, 236, 246, 1.0)\",\"width\":0.5},\"pattern\":{\"fillmode\":\"overlay\",\"size\":10,\"solidity\":0.2}}}],\"carpet\":[{\"aaxis\":{\"linecolor\":\"rgba(255, 255, 255, 1.0)\",\"gridcolor\":\"rgba(255, 255, 255, 1.0)\",\"endlinecolor\":\"rgba(42, 63, 95, 1.0)\",\"minorgridcolor\":\"rgba(255, 255, 255, 1.0)\",\"startlinecolor\":\"rgba(42, 63, 95, 1.0)\"},\"baxis\":{\"linecolor\":\"rgba(255, 255, 255, 1.0)\",\"gridcolor\":\"rgba(255, 255, 255, 1.0)\",\"endlinecolor\":\"rgba(42, 63, 95, 1.0)\",\"minorgridcolor\":\"rgba(255, 255, 255, 1.0)\",\"startlinecolor\":\"rgba(42, 63, 95, 1.0)\"}}],\"choropleth\":[{\"colorbar\":{\"outlinewidth\":0.0,\"ticks\":\"\"},\"colorscale\":[[0.0,\"#0d0887\"],[0.1111111111111111,\"#46039f\"],[0.2222222222222222,\"#7201a8\"],[0.3333333333333333,\"#9c179e\"],[0.4444444444444444,\"#bd3786\"],[0.5555555555555556,\"#d8576b\"],[0.6666666666666666,\"#ed7953\"],[0.7777777777777778,\"#fb9f3a\"],[0.8888888888888888,\"#fdca26\"],[1.0,\"#f0f921\"]]}],\"contour\":[{\"colorbar\":{\"outlinewidth\":0.0,\"ticks\":\"\"},\"colorscale\":[[0.0,\"#0d0887\"],[0.1111111111111111,\"#46039f\"],[0.2222222222222222,\"#7201a8\"],[0.3333333333333333,\"#9c179e\"],[0.4444444444444444,\"#bd3786\"],[0.5555555555555556,\"#d8576b\"],[0.6666666666666666,\"#ed7953\"],[0.7777777777777778,\"#fb9f3a\"],[0.8888888888888888,\"#fdca26\"],[1.0,\"#f0f921\"]]}],\"contourcarpet\":[{\"colorbar\":{\"outlinewidth\":0.0,\"ticks\":\"\"}}],\"heatmap\":[{\"colorbar\":{\"outlinewidth\":0.0,\"ticks\":\"\"},\"colorscale\":[[0.0,\"#0d0887\"],[0.1111111111111111,\"#46039f\"],[0.2222222222222222,\"#7201a8\"],[0.3333333333333333,\"#9c179e\"],[0.4444444444444444,\"#bd3786\"],[0.5555555555555556,\"#d8576b\"],[0.6666666666666666,\"#ed7953\"],[0.7777777777777778,\"#fb9f3a\"],[0.8888888888888888,\"#fdca26\"],[1.0,\"#f0f921\"]]}],\"heatmapgl\":[{\"colorbar\":{\"outlinewidth\":0.0,\"ticks\":\"\"},\"colorscale\":[[0.0,\"#0d0887\"],[0.1111111111111111,\"#46039f\"],[0.2222222222222222,\"#7201a8\"],[0.3333333333333333,\"#9c179e\"],[0.4444444444444444,\"#bd3786\"],[0.5555555555555556,\"#d8576b\"],[0.6666666666666666,\"#ed7953\"],[0.7777777777777778,\"#fb9f3a\"],[0.8888888888888888,\"#fdca26\"],[1.0,\"#f0f921\"]]}],\"histogram\":[{\"marker\":{\"pattern\":{\"fillmode\":\"overlay\",\"size\":10,\"solidity\":0.2}}}],\"histogram2d\":[{\"colorbar\":{\"outlinewidth\":0.0,\"ticks\":\"\"},\"colorscale\":[[0.0,\"#0d0887\"],[0.1111111111111111,\"#46039f\"],[0.2222222222222222,\"#7201a8\"],[0.3333333333333333,\"#9c179e\"],[0.4444444444444444,\"#bd3786\"],[0.5555555555555556,\"#d8576b\"],[0.6666666666666666,\"#ed7953\"],[0.7777777777777778,\"#fb9f3a\"],[0.8888888888888888,\"#fdca26\"],[1.0,\"#f0f921\"]]}],\"histogram2dcontour\":[{\"colorbar\":{\"outlinewidth\":0.0,\"ticks\":\"\"},\"colorscale\":[[0.0,\"#0d0887\"],[0.1111111111111111,\"#46039f\"],[0.2222222222222222,\"#7201a8\"],[0.3333333333333333,\"#9c179e\"],[0.4444444444444444,\"#bd3786\"],[0.5555555555555556,\"#d8576b\"],[0.6666666666666666,\"#ed7953\"],[0.7777777777777778,\"#fb9f3a\"],[0.8888888888888888,\"#fdca26\"],[1.0,\"#f0f921\"]]}],\"mesh3d\":[{\"colorbar\":{\"outlinewidth\":0.0,\"ticks\":\"\"}}],\"parcoords\":[{\"line\":{\"colorbar\":{\"outlinewidth\":0.0,\"ticks\":\"\"}}}],\"pie\":[{\"automargin\":true}],\"scatter\":[{\"marker\":{\"colorbar\":{\"outlinewidth\":0.0,\"ticks\":\"\"}}}],\"scatter3d\":[{\"marker\":{\"colorbar\":{\"outlinewidth\":0.0,\"ticks\":\"\"}},\"line\":{\"colorbar\":{\"outlinewidth\":0.0,\"ticks\":\"\"}}}],\"scattercarpet\":[{\"marker\":{\"colorbar\":{\"outlinewidth\":0.0,\"ticks\":\"\"}}}],\"scattergeo\":[{\"marker\":{\"colorbar\":{\"outlinewidth\":0.0,\"ticks\":\"\"}}}],\"scattergl\":[{\"marker\":{\"colorbar\":{\"outlinewidth\":0.0,\"ticks\":\"\"}}}],\"scattermapbox\":[{\"marker\":{\"colorbar\":{\"outlinewidth\":0.0,\"ticks\":\"\"}}}],\"scatterpolar\":[{\"marker\":{\"colorbar\":{\"outlinewidth\":0.0,\"ticks\":\"\"}}}],\"scatterpolargl\":[{\"marker\":{\"colorbar\":{\"outlinewidth\":0.0,\"ticks\":\"\"}}}],\"scatterternary\":[{\"marker\":{\"colorbar\":{\"outlinewidth\":0.0,\"ticks\":\"\"}}}],\"surface\":[{\"colorbar\":{\"outlinewidth\":0.0,\"ticks\":\"\"},\"colorscale\":[[0.0,\"#0d0887\"],[0.1111111111111111,\"#46039f\"],[0.2222222222222222,\"#7201a8\"],[0.3333333333333333,\"#9c179e\"],[0.4444444444444444,\"#bd3786\"],[0.5555555555555556,\"#d8576b\"],[0.6666666666666666,\"#ed7953\"],[0.7777777777777778,\"#fb9f3a\"],[0.8888888888888888,\"#fdca26\"],[1.0,\"#f0f921\"]]}],\"table\":[{\"cells\":{\"fill\":{\"color\":\"rgba(235, 240, 248, 1.0)\"},\"line\":{\"color\":\"rgba(255, 255, 255, 1.0)\"}},\"header\":{\"fill\":{\"color\":\"rgba(200, 212, 227, 1.0)\"},\"line\":{\"color\":\"rgba(255, 255, 255, 1.0)\"}}}]}},\"xaxis\":{\"title\":{\"text\":\"mRNA Anzahl\"}},\"yaxis\":{\"title\":{\"text\":\"P(Anzahl)\"}}};\r\n",
       "            var config = {\"responsive\":true};\r\n",
       "            Plotly.newPlot('fba1b45f-afaa-406d-89ec-b423b09224d0', data, layout, config);\r\n",
       "});\r\n",
       "            };\r\n",
       "            if ((typeof(requirejs) !==  typeof(Function)) || (typeof(requirejs.config) !== typeof(Function))) {\r\n",
       "                var script = document.createElement(\"script\");\r\n",
       "                script.setAttribute(\"src\", \"https://cdnjs.cloudflare.com/ajax/libs/require.js/2.3.6/require.min.js\");\r\n",
       "                script.onload = function(){\r\n",
       "                    renderPlotly_fba1b45fafaa406d89ecb423b09224d0();\r\n",
       "                };\r\n",
       "                document.getElementsByTagName(\"head\")[0].appendChild(script);\r\n",
       "            }\r\n",
       "            else {\r\n",
       "                renderPlotly_fba1b45fafaa406d89ecb423b09224d0();\r\n",
       "            }\r\n",
       "</script>\r\n",
       "\n",
       "    \n",
       "</div>    \n"
      ]
     },
     "metadata": {},
     "output_type": "display_data"
    }
   ],
   "source": [
    "let samplesmRNA =\n",
    "    samples\n",
    "    |> Array.map fst\n",
    "    |> Array.collect (fun x -> x.[50 ..])\n",
    "\n",
    "let sampleZahlenmRNA =\n",
    "    samplesmRNA\n",
    "    |> Array.countBy id\n",
    "    |> fun histo ->\n",
    "        let histoSum =\n",
    "            histo\n",
    "            |> Array.map snd\n",
    "            |> Array.sum\n",
    "        histo\n",
    "        |> Array.map (fun (event,count) -> event, float count/ float histoSum)\n",
    "\n",
    "let histomRNA =\n",
    "    Chart.Column(sampleZahlenmRNA)\n",
    "    |> Chart.withXAxisStyle(TitleText = \"mRNA Anzahl\")\n",
    "    |> Chart.withYAxisStyle(TitleText = \"P(Anzahl)\")\n",
    "\n",
    "histomRNA"
   ]
  },
  {
   "cell_type": "code",
   "execution_count": null,
   "metadata": {
    "dotnet_interactive": {
     "language": "fsharp"
    },
    "vscode": {
     "languageId": "dotnet-interactive.fsharp"
    }
   },
   "outputs": [
    {
     "data": {
      "text/html": [
       "\n",
       "<div>\n",
       "    <div id=\"ac689030-bc1f-4eb2-9d9a-05d290b49952\"><!-- Plotly chart will be drawn inside this DIV --></div>\r\n",
       "<script type=\"text/javascript\">\r\n",
       "\r\n",
       "            var renderPlotly_ac689030bc1f4eb29d9a05d290b49952 = function() {\r\n",
       "            var fsharpPlotlyRequire = requirejs.config({context:'fsharp-plotly',paths:{plotly:'https://cdn.plot.ly/plotly-2.6.3.min'}}) || require;\r\n",
       "            fsharpPlotlyRequire(['plotly'], function(Plotly) {\r\n",
       "\r\n",
       "            var data = [{\"type\":\"bar\",\"x\":[330.0,356.0,375.0,363.0,326.0,307.0,293.0,291.0,286.0,283.0,264.0,267.0,306.0,280.0,295.0,303.0,302.0,271.0,234.0,210.0,202.0,190.0,182.0,162.0,163.0,175.0,194.0,207.0,200.0,199.0,201.0,195.0,189.0,172.0,208.0,239.0,266.0,305.0,334.0,336.0,315.0,301.0,276.0,294.0,319.0,223.0,228.0,245.0,230.0,249.0,229.0,211.0,203.0,205.0,196.0,220.0,236.0,244.0,246.0,275.0,285.0,292.0,318.0,297.0,299.0,304.0,309.0,284.0,277.0,260.0,258.0,259.0,251.0,226.0,198.0,183.0,224.0,233.0,256.0,274.0,252.0,232.0,214.0,287.0,281.0,273.0,238.0,247.0,263.0,221.0,212.0,217.0,253.0,296.0,308.0,257.0,225.0,254.0,243.0,219.0,218.0,231.0,237.0,235.0,215.0,289.0,312.0,290.0,298.0,269.0,216.0,197.0,187.0,241.0,186.0,222.0,278.0,178.0,180.0,167.0,154.0,164.0,177.0,193.0,250.0,261.0,248.0,185.0,179.0,174.0,159.0,147.0,160.0,152.0,165.0,272.0,331.0,320.0,321.0,317.0,282.0,270.0,279.0,268.0,173.0,156.0,265.0,255.0,240.0,316.0,300.0,262.0,327.0,313.0,333.0,353.0,348.0,335.0,213.0,380.0,366.0,350.0,338.0,209.0,191.0,155.0,227.0,242.0,357.0,359.0,322.0,329.0,325.0,148.0,143.0,138.0,127.0,119.0,113.0,121.0,123.0,124.0,134.0,181.0,204.0,184.0,161.0,323.0,332.0,341.0,343.0,344.0,364.0,362.0,328.0,288.0,170.0,311.0,324.0,169.0,188.0,310.0,171.0,158.0,206.0,360.0,352.0,192.0,140.0,136.0,142.0,340.0,314.0,151.0,176.0,126.0,131.0,129.0,132.0,141.0,153.0,347.0,367.0,351.0,361.0,376.0,386.0,349.0,337.0,358.0,346.0,385.0,382.0,370.0,354.0,383.0,390.0,388.0,355.0,168.0,146.0,166.0,157.0,404.0,405.0,415.0,339.0,365.0,389.0,345.0],\"y\":[0.0019413706076490001,0.0005824111822947001,0.00038827412152980003,0.0007765482430596001,0.0036886041545331006,0.0027179188507086,0.0062123859444768005,0.0052417006406523005,0.004076878276062901,0.0067947971267715,0.0085420306736556,0.0089303047951854,0.0034944670937682005,0.008736167734420501,0.0042710153368278,0.0042710153368278,0.0031061929722384003,0.0064065230052417,0.010095127159774802,0.008153756552125802,0.0052417006406523005,0.0034944670937682005,0.0029120559114735,0.0013589594253543,0.0013589594253543,0.0027179188507086,0.0052417006406523005,0.0062123859444768005,0.0052417006406523005,0.0044651523975927,0.0052417006406523005,0.0038827412152980002,0.004659289458357601,0.0019413706076490001,0.008153756552125802,0.010677538342069502,0.0064065230052417,0.004659289458357601,0.0019413706076490001,0.0021355076684139,0.004076878276062901,0.0036886041545331006,0.006988934187536401,0.0036886041545331006,0.0017472335468841002,0.0077654824305960005,0.008153756552125802,0.0089303047951854,0.0089303047951854,0.010483401281304601,0.008153756552125802,0.007183071248301301,0.007183071248301301,0.005824111822947,0.006018248883711901,0.007959619491360901,0.010677538342069502,0.010677538342069502,0.0110658124635993,0.006988934187536401,0.007377208309066201,0.005047563579887401,0.0036886041545331006,0.0052417006406523005,0.0029120559114735,0.0031061929722384003,0.0044651523975927,0.0052417006406523005,0.005629974762182101,0.009900990099009901,0.0077654824305960005,0.0062123859444768005,0.009900990099009901,0.0089303047951854,0.006600660066006601,0.0033003300330033004,0.008736167734420501,0.0089303047951854,0.009900990099009901,0.008736167734420501,0.009900990099009901,0.011842360706658901,0.0067947971267715,0.007183071248301301,0.0077654824305960005,0.0077654824305960005,0.009512715977480102,0.007571345369831101,0.0085420306736556,0.008153756552125802,0.0089303047951854,0.008153756552125802,0.011259949524364201,0.0023296447291788003,0.0025237817899437004,0.0089303047951854,0.0091244418559503,0.007959619491360901,0.009706853038245,0.007571345369831101,0.0085420306736556,0.0091244418559503,0.0110658124635993,0.008736167734420501,0.007183071248301301,0.0044651523975927,0.0021355076684139,0.005629974762182101,0.0036886041545331006,0.006988934187536401,0.005824111822947,0.006600660066006601,0.0033003300330033004,0.011842360706658901,0.0025237817899437004,0.010095127159774802,0.0062123859444768005,0.0017472335468841002,0.0015530964861192001,0.0013589594253543,0.0005824111822947001,0.0009706853038245001,0.0019413706076490001,0.005047563579887401,0.0089303047951854,0.011259949524364201,0.009900990099009901,0.0034944670937682005,0.0029120559114735,0.0011648223645894002,0.0011648223645894002,0.00019413706076490002,0.0009706853038245001,0.00038827412152980003,0.0007765482430596001,0.007377208309066201,0.0015530964861192001,0.0011648223645894002,0.0029120559114735,0.0027179188507086,0.0067947971267715,0.0064065230052417,0.006600660066006601,0.0067947971267715,0.0017472335468841002,0.0007765482430596001,0.007377208309066201,0.009900990099009901,0.0085420306736556,0.0015530964861192001,0.0034944670937682005,0.008153756552125802,0.0017472335468841002,0.0033003300330033004,0.0011648223645894002,0.00038827412152980003,0.0007765482430596001,0.0009706853038245001,0.0044651523975927,0.00038827412152980003,0.0009706853038245001,0.0009706853038245001,0.0005824111822947001,0.007377208309066201,0.0031061929722384003,0.0005824111822947001,0.0089303047951854,0.007959619491360901,0.0005824111822947001,0.0005824111822947001,0.0019413706076490001,0.0013589594253543,0.0021355076684139,0.00038827412152980003,0.00019413706076490002,0.00038827412152980003,0.00019413706076490002,0.00019413706076490002,0.00019413706076490002,0.00019413706076490002,0.00019413706076490002,0.00019413706076490002,0.0007765482430596001,0.0011648223645894002,0.004659289458357601,0.0025237817899437004,0.0011648223645894002,0.0013589594253543,0.0019413706076490001,0.00038827412152980003,0.0009706853038245001,0.0015530964861192001,0.00038827412152980003,0.00038827412152980003,0.0007765482430596001,0.0042710153368278,0.0019413706076490001,0.0033003300330033004,0.0011648223645894002,0.0011648223645894002,0.005047563579887401,0.0031061929722384003,0.0011648223645894002,0.0005824111822947001,0.007183071248301301,0.0005824111822947001,0.0007765482430596001,0.0036886041545331006,0.00038827412152980003,0.0005824111822947001,0.00019413706076490002,0.0009706853038245001,0.0015530964861192001,0.00019413706076490002,0.0015530964861192001,0.00038827412152980003,0.00019413706076490002,0.00019413706076490002,0.00019413706076490002,0.00038827412152980003,0.00038827412152980003,0.0011648223645894002,0.00019413706076490002,0.0005824111822947001,0.00038827412152980003,0.00038827412152980003,0.00019413706076490002,0.0009706853038245001,0.0005824111822947001,0.00019413706076490002,0.00019413706076490002,0.00019413706076490002,0.00019413706076490002,0.0005824111822947001,0.00038827412152980003,0.00038827412152980003,0.00019413706076490002,0.00038827412152980003,0.00038827412152980003,0.0005824111822947001,0.00019413706076490002,0.00019413706076490002,0.00038827412152980003,0.00038827412152980003,0.00019413706076490002,0.00019413706076490002,0.00019413706076490002,0.00019413706076490002,0.00019413706076490002,0.00019413706076490002],\"orientation\":\"v\",\"marker\":{\"pattern\":{}}}];\r\n",
       "            var layout = {\"width\":600,\"height\":600,\"template\":{\"layout\":{\"title\":{\"x\":0.05},\"font\":{\"color\":\"rgba(42, 63, 95, 1.0)\"},\"paper_bgcolor\":\"rgba(255, 255, 255, 1.0)\",\"plot_bgcolor\":\"rgba(229, 236, 246, 1.0)\",\"autotypenumbers\":\"strict\",\"colorscale\":{\"diverging\":[[0.0,\"#8e0152\"],[0.1,\"#c51b7d\"],[0.2,\"#de77ae\"],[0.3,\"#f1b6da\"],[0.4,\"#fde0ef\"],[0.5,\"#f7f7f7\"],[0.6,\"#e6f5d0\"],[0.7,\"#b8e186\"],[0.8,\"#7fbc41\"],[0.9,\"#4d9221\"],[1.0,\"#276419\"]],\"sequential\":[[0.0,\"#0d0887\"],[0.1111111111111111,\"#46039f\"],[0.2222222222222222,\"#7201a8\"],[0.3333333333333333,\"#9c179e\"],[0.4444444444444444,\"#bd3786\"],[0.5555555555555556,\"#d8576b\"],[0.6666666666666666,\"#ed7953\"],[0.7777777777777778,\"#fb9f3a\"],[0.8888888888888888,\"#fdca26\"],[1.0,\"#f0f921\"]],\"sequentialminus\":[[0.0,\"#0d0887\"],[0.1111111111111111,\"#46039f\"],[0.2222222222222222,\"#7201a8\"],[0.3333333333333333,\"#9c179e\"],[0.4444444444444444,\"#bd3786\"],[0.5555555555555556,\"#d8576b\"],[0.6666666666666666,\"#ed7953\"],[0.7777777777777778,\"#fb9f3a\"],[0.8888888888888888,\"#fdca26\"],[1.0,\"#f0f921\"]]},\"hovermode\":\"closest\",\"hoverlabel\":{\"align\":\"left\"},\"coloraxis\":{\"colorbar\":{\"outlinewidth\":0.0,\"ticks\":\"\"}},\"geo\":{\"showland\":true,\"landcolor\":\"rgba(229, 236, 246, 1.0)\",\"showlakes\":true,\"lakecolor\":\"rgba(255, 255, 255, 1.0)\",\"subunitcolor\":\"rgba(255, 255, 255, 1.0)\",\"bgcolor\":\"rgba(255, 255, 255, 1.0)\"},\"mapbox\":{\"style\":\"light\"},\"polar\":{\"bgcolor\":\"rgba(229, 236, 246, 1.0)\",\"radialaxis\":{\"linecolor\":\"rgba(255, 255, 255, 1.0)\",\"gridcolor\":\"rgba(255, 255, 255, 1.0)\",\"ticks\":\"\"},\"angularaxis\":{\"linecolor\":\"rgba(255, 255, 255, 1.0)\",\"gridcolor\":\"rgba(255, 255, 255, 1.0)\",\"ticks\":\"\"}},\"scene\":{\"xaxis\":{\"ticks\":\"\",\"linecolor\":\"rgba(255, 255, 255, 1.0)\",\"gridcolor\":\"rgba(255, 255, 255, 1.0)\",\"gridwidth\":2.0,\"zerolinecolor\":\"rgba(255, 255, 255, 1.0)\",\"backgroundcolor\":\"rgba(229, 236, 246, 1.0)\",\"showbackground\":true},\"yaxis\":{\"ticks\":\"\",\"linecolor\":\"rgba(255, 255, 255, 1.0)\",\"gridcolor\":\"rgba(255, 255, 255, 1.0)\",\"gridwidth\":2.0,\"zerolinecolor\":\"rgba(255, 255, 255, 1.0)\",\"backgroundcolor\":\"rgba(229, 236, 246, 1.0)\",\"showbackground\":true},\"zaxis\":{\"ticks\":\"\",\"linecolor\":\"rgba(255, 255, 255, 1.0)\",\"gridcolor\":\"rgba(255, 255, 255, 1.0)\",\"gridwidth\":2.0,\"zerolinecolor\":\"rgba(255, 255, 255, 1.0)\",\"backgroundcolor\":\"rgba(229, 236, 246, 1.0)\",\"showbackground\":true}},\"ternary\":{\"aaxis\":{\"ticks\":\"\",\"linecolor\":\"rgba(255, 255, 255, 1.0)\",\"gridcolor\":\"rgba(255, 255, 255, 1.0)\"},\"baxis\":{\"ticks\":\"\",\"linecolor\":\"rgba(255, 255, 255, 1.0)\",\"gridcolor\":\"rgba(255, 255, 255, 1.0)\"},\"caxis\":{\"ticks\":\"\",\"linecolor\":\"rgba(255, 255, 255, 1.0)\",\"gridcolor\":\"rgba(255, 255, 255, 1.0)\"},\"bgcolor\":\"rgba(229, 236, 246, 1.0)\"},\"xaxis\":{\"title\":{\"standoff\":15},\"ticks\":\"\",\"automargin\":true,\"linecolor\":\"rgba(255, 255, 255, 1.0)\",\"gridcolor\":\"rgba(255, 255, 255, 1.0)\",\"zerolinecolor\":\"rgba(255, 255, 255, 1.0)\",\"zerolinewidth\":2.0},\"yaxis\":{\"title\":{\"standoff\":15},\"ticks\":\"\",\"automargin\":true,\"linecolor\":\"rgba(255, 255, 255, 1.0)\",\"gridcolor\":\"rgba(255, 255, 255, 1.0)\",\"zerolinecolor\":\"rgba(255, 255, 255, 1.0)\",\"zerolinewidth\":2.0},\"annotationdefaults\":{\"arrowcolor\":\"#2a3f5f\",\"arrowhead\":0,\"arrowwidth\":1},\"shapedefaults\":{\"line\":{\"color\":\"rgba(42, 63, 95, 1.0)\"}},\"colorway\":[\"rgba(99, 110, 250, 1.0)\",\"rgba(239, 85, 59, 1.0)\",\"rgba(0, 204, 150, 1.0)\",\"rgba(171, 99, 250, 1.0)\",\"rgba(255, 161, 90, 1.0)\",\"rgba(25, 211, 243, 1.0)\",\"rgba(255, 102, 146, 1.0)\",\"rgba(182, 232, 128, 1.0)\",\"rgba(255, 151, 255, 1.0)\",\"rgba(254, 203, 82, 1.0)\"]},\"data\":{\"bar\":[{\"marker\":{\"line\":{\"color\":\"rgba(229, 236, 246, 1.0)\",\"width\":0.5},\"pattern\":{\"fillmode\":\"overlay\",\"size\":10,\"solidity\":0.2}},\"error_x\":{\"color\":\"rgba(42, 63, 95, 1.0)\"},\"error_y\":{\"color\":\"rgba(42, 63, 95, 1.0)\"}}],\"barpolar\":[{\"marker\":{\"line\":{\"color\":\"rgba(229, 236, 246, 1.0)\",\"width\":0.5},\"pattern\":{\"fillmode\":\"overlay\",\"size\":10,\"solidity\":0.2}}}],\"carpet\":[{\"aaxis\":{\"linecolor\":\"rgba(255, 255, 255, 1.0)\",\"gridcolor\":\"rgba(255, 255, 255, 1.0)\",\"endlinecolor\":\"rgba(42, 63, 95, 1.0)\",\"minorgridcolor\":\"rgba(255, 255, 255, 1.0)\",\"startlinecolor\":\"rgba(42, 63, 95, 1.0)\"},\"baxis\":{\"linecolor\":\"rgba(255, 255, 255, 1.0)\",\"gridcolor\":\"rgba(255, 255, 255, 1.0)\",\"endlinecolor\":\"rgba(42, 63, 95, 1.0)\",\"minorgridcolor\":\"rgba(255, 255, 255, 1.0)\",\"startlinecolor\":\"rgba(42, 63, 95, 1.0)\"}}],\"choropleth\":[{\"colorbar\":{\"outlinewidth\":0.0,\"ticks\":\"\"},\"colorscale\":[[0.0,\"#0d0887\"],[0.1111111111111111,\"#46039f\"],[0.2222222222222222,\"#7201a8\"],[0.3333333333333333,\"#9c179e\"],[0.4444444444444444,\"#bd3786\"],[0.5555555555555556,\"#d8576b\"],[0.6666666666666666,\"#ed7953\"],[0.7777777777777778,\"#fb9f3a\"],[0.8888888888888888,\"#fdca26\"],[1.0,\"#f0f921\"]]}],\"contour\":[{\"colorbar\":{\"outlinewidth\":0.0,\"ticks\":\"\"},\"colorscale\":[[0.0,\"#0d0887\"],[0.1111111111111111,\"#46039f\"],[0.2222222222222222,\"#7201a8\"],[0.3333333333333333,\"#9c179e\"],[0.4444444444444444,\"#bd3786\"],[0.5555555555555556,\"#d8576b\"],[0.6666666666666666,\"#ed7953\"],[0.7777777777777778,\"#fb9f3a\"],[0.8888888888888888,\"#fdca26\"],[1.0,\"#f0f921\"]]}],\"contourcarpet\":[{\"colorbar\":{\"outlinewidth\":0.0,\"ticks\":\"\"}}],\"heatmap\":[{\"colorbar\":{\"outlinewidth\":0.0,\"ticks\":\"\"},\"colorscale\":[[0.0,\"#0d0887\"],[0.1111111111111111,\"#46039f\"],[0.2222222222222222,\"#7201a8\"],[0.3333333333333333,\"#9c179e\"],[0.4444444444444444,\"#bd3786\"],[0.5555555555555556,\"#d8576b\"],[0.6666666666666666,\"#ed7953\"],[0.7777777777777778,\"#fb9f3a\"],[0.8888888888888888,\"#fdca26\"],[1.0,\"#f0f921\"]]}],\"heatmapgl\":[{\"colorbar\":{\"outlinewidth\":0.0,\"ticks\":\"\"},\"colorscale\":[[0.0,\"#0d0887\"],[0.1111111111111111,\"#46039f\"],[0.2222222222222222,\"#7201a8\"],[0.3333333333333333,\"#9c179e\"],[0.4444444444444444,\"#bd3786\"],[0.5555555555555556,\"#d8576b\"],[0.6666666666666666,\"#ed7953\"],[0.7777777777777778,\"#fb9f3a\"],[0.8888888888888888,\"#fdca26\"],[1.0,\"#f0f921\"]]}],\"histogram\":[{\"marker\":{\"pattern\":{\"fillmode\":\"overlay\",\"size\":10,\"solidity\":0.2}}}],\"histogram2d\":[{\"colorbar\":{\"outlinewidth\":0.0,\"ticks\":\"\"},\"colorscale\":[[0.0,\"#0d0887\"],[0.1111111111111111,\"#46039f\"],[0.2222222222222222,\"#7201a8\"],[0.3333333333333333,\"#9c179e\"],[0.4444444444444444,\"#bd3786\"],[0.5555555555555556,\"#d8576b\"],[0.6666666666666666,\"#ed7953\"],[0.7777777777777778,\"#fb9f3a\"],[0.8888888888888888,\"#fdca26\"],[1.0,\"#f0f921\"]]}],\"histogram2dcontour\":[{\"colorbar\":{\"outlinewidth\":0.0,\"ticks\":\"\"},\"colorscale\":[[0.0,\"#0d0887\"],[0.1111111111111111,\"#46039f\"],[0.2222222222222222,\"#7201a8\"],[0.3333333333333333,\"#9c179e\"],[0.4444444444444444,\"#bd3786\"],[0.5555555555555556,\"#d8576b\"],[0.6666666666666666,\"#ed7953\"],[0.7777777777777778,\"#fb9f3a\"],[0.8888888888888888,\"#fdca26\"],[1.0,\"#f0f921\"]]}],\"mesh3d\":[{\"colorbar\":{\"outlinewidth\":0.0,\"ticks\":\"\"}}],\"parcoords\":[{\"line\":{\"colorbar\":{\"outlinewidth\":0.0,\"ticks\":\"\"}}}],\"pie\":[{\"automargin\":true}],\"scatter\":[{\"marker\":{\"colorbar\":{\"outlinewidth\":0.0,\"ticks\":\"\"}}}],\"scatter3d\":[{\"marker\":{\"colorbar\":{\"outlinewidth\":0.0,\"ticks\":\"\"}},\"line\":{\"colorbar\":{\"outlinewidth\":0.0,\"ticks\":\"\"}}}],\"scattercarpet\":[{\"marker\":{\"colorbar\":{\"outlinewidth\":0.0,\"ticks\":\"\"}}}],\"scattergeo\":[{\"marker\":{\"colorbar\":{\"outlinewidth\":0.0,\"ticks\":\"\"}}}],\"scattergl\":[{\"marker\":{\"colorbar\":{\"outlinewidth\":0.0,\"ticks\":\"\"}}}],\"scattermapbox\":[{\"marker\":{\"colorbar\":{\"outlinewidth\":0.0,\"ticks\":\"\"}}}],\"scatterpolar\":[{\"marker\":{\"colorbar\":{\"outlinewidth\":0.0,\"ticks\":\"\"}}}],\"scatterpolargl\":[{\"marker\":{\"colorbar\":{\"outlinewidth\":0.0,\"ticks\":\"\"}}}],\"scatterternary\":[{\"marker\":{\"colorbar\":{\"outlinewidth\":0.0,\"ticks\":\"\"}}}],\"surface\":[{\"colorbar\":{\"outlinewidth\":0.0,\"ticks\":\"\"},\"colorscale\":[[0.0,\"#0d0887\"],[0.1111111111111111,\"#46039f\"],[0.2222222222222222,\"#7201a8\"],[0.3333333333333333,\"#9c179e\"],[0.4444444444444444,\"#bd3786\"],[0.5555555555555556,\"#d8576b\"],[0.6666666666666666,\"#ed7953\"],[0.7777777777777778,\"#fb9f3a\"],[0.8888888888888888,\"#fdca26\"],[1.0,\"#f0f921\"]]}],\"table\":[{\"cells\":{\"fill\":{\"color\":\"rgba(235, 240, 248, 1.0)\"},\"line\":{\"color\":\"rgba(255, 255, 255, 1.0)\"}},\"header\":{\"fill\":{\"color\":\"rgba(200, 212, 227, 1.0)\"},\"line\":{\"color\":\"rgba(255, 255, 255, 1.0)\"}}}]}},\"xaxis\":{\"title\":{\"text\":\"Protein Anzahl\"}},\"yaxis\":{\"title\":{\"text\":\"P(Anzahl)\"}}};\r\n",
       "            var config = {\"responsive\":true};\r\n",
       "            Plotly.newPlot('ac689030-bc1f-4eb2-9d9a-05d290b49952', data, layout, config);\r\n",
       "});\r\n",
       "            };\r\n",
       "            if ((typeof(requirejs) !==  typeof(Function)) || (typeof(requirejs.config) !== typeof(Function))) {\r\n",
       "                var script = document.createElement(\"script\");\r\n",
       "                script.setAttribute(\"src\", \"https://cdnjs.cloudflare.com/ajax/libs/require.js/2.3.6/require.min.js\");\r\n",
       "                script.onload = function(){\r\n",
       "                    renderPlotly_ac689030bc1f4eb29d9a05d290b49952();\r\n",
       "                };\r\n",
       "                document.getElementsByTagName(\"head\")[0].appendChild(script);\r\n",
       "            }\r\n",
       "            else {\r\n",
       "                renderPlotly_ac689030bc1f4eb29d9a05d290b49952();\r\n",
       "            }\r\n",
       "</script>\r\n",
       "\n",
       "    \n",
       "</div>    \n"
      ]
     },
     "metadata": {},
     "output_type": "display_data"
    }
   ],
   "source": [
    "let samplesProtein =\n",
    "    samples\n",
    "    |> Array.map snd\n",
    "    |> Array.collect (fun x -> x.[50 ..])\n",
    "\n",
    "let sampleZahlenProtein =\n",
    "    samplesProtein\n",
    "    |> Array.countBy id\n",
    "    |> fun histo ->\n",
    "        let histoSum =\n",
    "            histo\n",
    "            |> Array.map snd\n",
    "            |> Array.sum\n",
    "        histo\n",
    "        |> Array.map (fun (event,count) -> event, float count/ float histoSum)\n",
    "\n",
    "let histoProtein =\n",
    "    Chart.Column(sampleZahlenProtein)\n",
    "    |> Chart.withXAxisStyle(TitleText = \"Protein Anzahl\")\n",
    "    |> Chart.withYAxisStyle(TitleText = \"P(Anzahl)\")\n",
    "\n",
    "histoProtein"
   ]
  },
  {
   "cell_type": "markdown",
   "metadata": {},
   "source": [
    "##### Aufgabe 3.9\n",
    "***Welcher Verteilung entspricht die mRNA-Verteilung? Schauen Sie sich die folgenden Verteilungen an. Achten Sie insbesondere auf die Randbereiche.***"
   ]
  },
  {
   "cell_type": "code",
   "execution_count": null,
   "metadata": {
    "dotnet_interactive": {
     "language": "fsharp"
    },
    "vscode": {
     "languageId": "dotnet-interactive.fsharp"
    }
   },
   "outputs": [
    {
     "data": {
      "text/html": [
       "\n",
       "<div>\n",
       "    <div id=\"ed4fc587-5771-4267-9532-0b6b50537bee\"><!-- Plotly chart will be drawn inside this DIV --></div>\r\n",
       "<script type=\"text/javascript\">\r\n",
       "\r\n",
       "            var renderPlotly_ed4fc5875771426795320b6b50537bee = function() {\r\n",
       "            var fsharpPlotlyRequire = requirejs.config({context:'fsharp-plotly',paths:{plotly:'https://cdn.plot.ly/plotly-2.6.3.min'}}) || require;\r\n",
       "            fsharpPlotlyRequire(['plotly'], function(Plotly) {\r\n",
       "\r\n",
       "            var data = [{\"type\":\"bar\",\"x\":[18.0,20.0,15.0,7.0,9.0,8.0,11.0,10.0,13.0,16.0,12.0,14.0,4.0,5.0,6.0,17.0,19.0,3.0,21.0,2.0,1.0,22.0],\"y\":[0.006600660066006601,0.0019413706076490001,0.0343622597553873,0.09202096680256261,0.1254125412541254,0.11279363230440691,0.11318190642593672,0.12890700834789362,0.06658901184236071,0.0180547466511357,0.0945447485925063,0.0526111434672879,0.020190254319549603,0.03805086390992041,0.06658901184236071,0.0122306348281887,0.0052417006406523005,0.0062123859444768005,0.0007765482430596001,0.0029120559114735,0.00038827412152980003,0.00038827412152980003],\"orientation\":\"v\",\"marker\":{\"pattern\":{}}},{\"type\":\"scatter\",\"mode\":\"lines\",\"x\":[0.0,1.0,2.0,3.0,4.0,5.0,6.0,7.0,8.0,9.0,10.0,11.0,12.0,13.0,14.0,15.0,16.0,17.0,18.0,19.0,20.0,21.0,22.0,23.0,24.0,25.0],\"y\":[4.841307515537022E-05,0.00048101975798421517,0.0023896437773125753,0.00791429359212323,0.01965859210596364,0.03906453447451419,0.06468918041387309,0.09181927404946641,0.1140365615069317,0.12589307753323534,0.1250840965846137,0.11298210372397141,0.09354673989660797,0.07149662651267863,0.05074085265402528,0.0336098634307948,0.020871180359695287,0.012198272632713753,0.0067332707248825155,0.0035210542912338153,0.0017492141096006157,0.0008276065573513224,0.0003737674590872322,0.00016146332741321192,6.684407262085658E-05,2.6565814736267276E-05],\"marker\":{},\"line\":{}},{\"type\":\"scatter\",\"mode\":\"lines\",\"x\":[0.0,1.0,2.0,3.0,4.0,5.0,6.0,7.0,8.0,9.0,10.0,11.0,12.0,13.0,14.0,15.0,16.0,17.0,18.0,19.0,20.0,21.0,22.0,23.0,24.0,25.0],\"y\":[0.0008637459493707341,0.002242269870593322,0.005261077885916319,0.011156977913221879,0.021384712096171134,0.03704633369381924,0.05800588445435211,0.08208879190928989,0.10499791317715576,0.12138428463180265,0.1268321197863212,0.11977909601502405,0.10223928495019349,0.07887503554875228,0.05499792757859641,0.03466075941604258,0.01974307590201598,0.010164278325726818,0.004729587608222307,0.0019890925580955403,0.0007560868813862722,0.0002597606757194696,8.066034962325736E-05,2.263767325439541E-05,5.7423342247235784E-06,1.3165281145274427E-06],\"marker\":{},\"line\":{}},{\"type\":\"scatter\",\"mode\":\"lines\",\"x\":[0.0,1.0,2.0,3.0,4.0,5.0,6.0,7.0,8.0,9.0,10.0,11.0,12.0,13.0,14.0,15.0,16.0,17.0,18.0,19.0,20.0,21.0,22.0,23.0,24.0,25.0],\"y\":[0.10064674964340843,0.0910100653155826,0.08229607034596444,0.07441641944661176,0.06729122617852451,0.06084825303719327,0.055022179085509486,0.049753937709064,0.044990117779783644,0.040682422156710196,0.0367871780340279,0.03326489417209026,0.030079860522511683,0.02719978618819403,0.02459547204781037,0.022240514725707365,0.020111038905977898,0.018185455276817697,0.016444241651127955,0.014869745044294082,0.013446002702541275,0.012158580267394914,0.010994425435504716,0.009941735630189012,0.008989838343110505,0.008129082932948938],\"marker\":{},\"line\":{}}];\r\n",
       "            var layout = {\"width\":600,\"height\":600,\"template\":{\"layout\":{\"title\":{\"x\":0.05},\"font\":{\"color\":\"rgba(42, 63, 95, 1.0)\"},\"paper_bgcolor\":\"rgba(255, 255, 255, 1.0)\",\"plot_bgcolor\":\"rgba(229, 236, 246, 1.0)\",\"autotypenumbers\":\"strict\",\"colorscale\":{\"diverging\":[[0.0,\"#8e0152\"],[0.1,\"#c51b7d\"],[0.2,\"#de77ae\"],[0.3,\"#f1b6da\"],[0.4,\"#fde0ef\"],[0.5,\"#f7f7f7\"],[0.6,\"#e6f5d0\"],[0.7,\"#b8e186\"],[0.8,\"#7fbc41\"],[0.9,\"#4d9221\"],[1.0,\"#276419\"]],\"sequential\":[[0.0,\"#0d0887\"],[0.1111111111111111,\"#46039f\"],[0.2222222222222222,\"#7201a8\"],[0.3333333333333333,\"#9c179e\"],[0.4444444444444444,\"#bd3786\"],[0.5555555555555556,\"#d8576b\"],[0.6666666666666666,\"#ed7953\"],[0.7777777777777778,\"#fb9f3a\"],[0.8888888888888888,\"#fdca26\"],[1.0,\"#f0f921\"]],\"sequentialminus\":[[0.0,\"#0d0887\"],[0.1111111111111111,\"#46039f\"],[0.2222222222222222,\"#7201a8\"],[0.3333333333333333,\"#9c179e\"],[0.4444444444444444,\"#bd3786\"],[0.5555555555555556,\"#d8576b\"],[0.6666666666666666,\"#ed7953\"],[0.7777777777777778,\"#fb9f3a\"],[0.8888888888888888,\"#fdca26\"],[1.0,\"#f0f921\"]]},\"hovermode\":\"closest\",\"hoverlabel\":{\"align\":\"left\"},\"coloraxis\":{\"colorbar\":{\"outlinewidth\":0.0,\"ticks\":\"\"}},\"geo\":{\"showland\":true,\"landcolor\":\"rgba(229, 236, 246, 1.0)\",\"showlakes\":true,\"lakecolor\":\"rgba(255, 255, 255, 1.0)\",\"subunitcolor\":\"rgba(255, 255, 255, 1.0)\",\"bgcolor\":\"rgba(255, 255, 255, 1.0)\"},\"mapbox\":{\"style\":\"light\"},\"polar\":{\"bgcolor\":\"rgba(229, 236, 246, 1.0)\",\"radialaxis\":{\"linecolor\":\"rgba(255, 255, 255, 1.0)\",\"gridcolor\":\"rgba(255, 255, 255, 1.0)\",\"ticks\":\"\"},\"angularaxis\":{\"linecolor\":\"rgba(255, 255, 255, 1.0)\",\"gridcolor\":\"rgba(255, 255, 255, 1.0)\",\"ticks\":\"\"}},\"scene\":{\"xaxis\":{\"ticks\":\"\",\"linecolor\":\"rgba(255, 255, 255, 1.0)\",\"gridcolor\":\"rgba(255, 255, 255, 1.0)\",\"gridwidth\":2.0,\"zerolinecolor\":\"rgba(255, 255, 255, 1.0)\",\"backgroundcolor\":\"rgba(229, 236, 246, 1.0)\",\"showbackground\":true},\"yaxis\":{\"ticks\":\"\",\"linecolor\":\"rgba(255, 255, 255, 1.0)\",\"gridcolor\":\"rgba(255, 255, 255, 1.0)\",\"gridwidth\":2.0,\"zerolinecolor\":\"rgba(255, 255, 255, 1.0)\",\"backgroundcolor\":\"rgba(229, 236, 246, 1.0)\",\"showbackground\":true},\"zaxis\":{\"ticks\":\"\",\"linecolor\":\"rgba(255, 255, 255, 1.0)\",\"gridcolor\":\"rgba(255, 255, 255, 1.0)\",\"gridwidth\":2.0,\"zerolinecolor\":\"rgba(255, 255, 255, 1.0)\",\"backgroundcolor\":\"rgba(229, 236, 246, 1.0)\",\"showbackground\":true}},\"ternary\":{\"aaxis\":{\"ticks\":\"\",\"linecolor\":\"rgba(255, 255, 255, 1.0)\",\"gridcolor\":\"rgba(255, 255, 255, 1.0)\"},\"baxis\":{\"ticks\":\"\",\"linecolor\":\"rgba(255, 255, 255, 1.0)\",\"gridcolor\":\"rgba(255, 255, 255, 1.0)\"},\"caxis\":{\"ticks\":\"\",\"linecolor\":\"rgba(255, 255, 255, 1.0)\",\"gridcolor\":\"rgba(255, 255, 255, 1.0)\"},\"bgcolor\":\"rgba(229, 236, 246, 1.0)\"},\"xaxis\":{\"title\":{\"standoff\":15},\"ticks\":\"\",\"automargin\":true,\"linecolor\":\"rgba(255, 255, 255, 1.0)\",\"gridcolor\":\"rgba(255, 255, 255, 1.0)\",\"zerolinecolor\":\"rgba(255, 255, 255, 1.0)\",\"zerolinewidth\":2.0},\"yaxis\":{\"title\":{\"standoff\":15},\"ticks\":\"\",\"automargin\":true,\"linecolor\":\"rgba(255, 255, 255, 1.0)\",\"gridcolor\":\"rgba(255, 255, 255, 1.0)\",\"zerolinecolor\":\"rgba(255, 255, 255, 1.0)\",\"zerolinewidth\":2.0},\"annotationdefaults\":{\"arrowcolor\":\"#2a3f5f\",\"arrowhead\":0,\"arrowwidth\":1},\"shapedefaults\":{\"line\":{\"color\":\"rgba(42, 63, 95, 1.0)\"}},\"colorway\":[\"rgba(99, 110, 250, 1.0)\",\"rgba(239, 85, 59, 1.0)\",\"rgba(0, 204, 150, 1.0)\",\"rgba(171, 99, 250, 1.0)\",\"rgba(255, 161, 90, 1.0)\",\"rgba(25, 211, 243, 1.0)\",\"rgba(255, 102, 146, 1.0)\",\"rgba(182, 232, 128, 1.0)\",\"rgba(255, 151, 255, 1.0)\",\"rgba(254, 203, 82, 1.0)\"]},\"data\":{\"bar\":[{\"marker\":{\"line\":{\"color\":\"rgba(229, 236, 246, 1.0)\",\"width\":0.5},\"pattern\":{\"fillmode\":\"overlay\",\"size\":10,\"solidity\":0.2}},\"error_x\":{\"color\":\"rgba(42, 63, 95, 1.0)\"},\"error_y\":{\"color\":\"rgba(42, 63, 95, 1.0)\"}}],\"barpolar\":[{\"marker\":{\"line\":{\"color\":\"rgba(229, 236, 246, 1.0)\",\"width\":0.5},\"pattern\":{\"fillmode\":\"overlay\",\"size\":10,\"solidity\":0.2}}}],\"carpet\":[{\"aaxis\":{\"linecolor\":\"rgba(255, 255, 255, 1.0)\",\"gridcolor\":\"rgba(255, 255, 255, 1.0)\",\"endlinecolor\":\"rgba(42, 63, 95, 1.0)\",\"minorgridcolor\":\"rgba(255, 255, 255, 1.0)\",\"startlinecolor\":\"rgba(42, 63, 95, 1.0)\"},\"baxis\":{\"linecolor\":\"rgba(255, 255, 255, 1.0)\",\"gridcolor\":\"rgba(255, 255, 255, 1.0)\",\"endlinecolor\":\"rgba(42, 63, 95, 1.0)\",\"minorgridcolor\":\"rgba(255, 255, 255, 1.0)\",\"startlinecolor\":\"rgba(42, 63, 95, 1.0)\"}}],\"choropleth\":[{\"colorbar\":{\"outlinewidth\":0.0,\"ticks\":\"\"},\"colorscale\":[[0.0,\"#0d0887\"],[0.1111111111111111,\"#46039f\"],[0.2222222222222222,\"#7201a8\"],[0.3333333333333333,\"#9c179e\"],[0.4444444444444444,\"#bd3786\"],[0.5555555555555556,\"#d8576b\"],[0.6666666666666666,\"#ed7953\"],[0.7777777777777778,\"#fb9f3a\"],[0.8888888888888888,\"#fdca26\"],[1.0,\"#f0f921\"]]}],\"contour\":[{\"colorbar\":{\"outlinewidth\":0.0,\"ticks\":\"\"},\"colorscale\":[[0.0,\"#0d0887\"],[0.1111111111111111,\"#46039f\"],[0.2222222222222222,\"#7201a8\"],[0.3333333333333333,\"#9c179e\"],[0.4444444444444444,\"#bd3786\"],[0.5555555555555556,\"#d8576b\"],[0.6666666666666666,\"#ed7953\"],[0.7777777777777778,\"#fb9f3a\"],[0.8888888888888888,\"#fdca26\"],[1.0,\"#f0f921\"]]}],\"contourcarpet\":[{\"colorbar\":{\"outlinewidth\":0.0,\"ticks\":\"\"}}],\"heatmap\":[{\"colorbar\":{\"outlinewidth\":0.0,\"ticks\":\"\"},\"colorscale\":[[0.0,\"#0d0887\"],[0.1111111111111111,\"#46039f\"],[0.2222222222222222,\"#7201a8\"],[0.3333333333333333,\"#9c179e\"],[0.4444444444444444,\"#bd3786\"],[0.5555555555555556,\"#d8576b\"],[0.6666666666666666,\"#ed7953\"],[0.7777777777777778,\"#fb9f3a\"],[0.8888888888888888,\"#fdca26\"],[1.0,\"#f0f921\"]]}],\"heatmapgl\":[{\"colorbar\":{\"outlinewidth\":0.0,\"ticks\":\"\"},\"colorscale\":[[0.0,\"#0d0887\"],[0.1111111111111111,\"#46039f\"],[0.2222222222222222,\"#7201a8\"],[0.3333333333333333,\"#9c179e\"],[0.4444444444444444,\"#bd3786\"],[0.5555555555555556,\"#d8576b\"],[0.6666666666666666,\"#ed7953\"],[0.7777777777777778,\"#fb9f3a\"],[0.8888888888888888,\"#fdca26\"],[1.0,\"#f0f921\"]]}],\"histogram\":[{\"marker\":{\"pattern\":{\"fillmode\":\"overlay\",\"size\":10,\"solidity\":0.2}}}],\"histogram2d\":[{\"colorbar\":{\"outlinewidth\":0.0,\"ticks\":\"\"},\"colorscale\":[[0.0,\"#0d0887\"],[0.1111111111111111,\"#46039f\"],[0.2222222222222222,\"#7201a8\"],[0.3333333333333333,\"#9c179e\"],[0.4444444444444444,\"#bd3786\"],[0.5555555555555556,\"#d8576b\"],[0.6666666666666666,\"#ed7953\"],[0.7777777777777778,\"#fb9f3a\"],[0.8888888888888888,\"#fdca26\"],[1.0,\"#f0f921\"]]}],\"histogram2dcontour\":[{\"colorbar\":{\"outlinewidth\":0.0,\"ticks\":\"\"},\"colorscale\":[[0.0,\"#0d0887\"],[0.1111111111111111,\"#46039f\"],[0.2222222222222222,\"#7201a8\"],[0.3333333333333333,\"#9c179e\"],[0.4444444444444444,\"#bd3786\"],[0.5555555555555556,\"#d8576b\"],[0.6666666666666666,\"#ed7953\"],[0.7777777777777778,\"#fb9f3a\"],[0.8888888888888888,\"#fdca26\"],[1.0,\"#f0f921\"]]}],\"mesh3d\":[{\"colorbar\":{\"outlinewidth\":0.0,\"ticks\":\"\"}}],\"parcoords\":[{\"line\":{\"colorbar\":{\"outlinewidth\":0.0,\"ticks\":\"\"}}}],\"pie\":[{\"automargin\":true}],\"scatter\":[{\"marker\":{\"colorbar\":{\"outlinewidth\":0.0,\"ticks\":\"\"}}}],\"scatter3d\":[{\"marker\":{\"colorbar\":{\"outlinewidth\":0.0,\"ticks\":\"\"}},\"line\":{\"colorbar\":{\"outlinewidth\":0.0,\"ticks\":\"\"}}}],\"scattercarpet\":[{\"marker\":{\"colorbar\":{\"outlinewidth\":0.0,\"ticks\":\"\"}}}],\"scattergeo\":[{\"marker\":{\"colorbar\":{\"outlinewidth\":0.0,\"ticks\":\"\"}}}],\"scattergl\":[{\"marker\":{\"colorbar\":{\"outlinewidth\":0.0,\"ticks\":\"\"}}}],\"scattermapbox\":[{\"marker\":{\"colorbar\":{\"outlinewidth\":0.0,\"ticks\":\"\"}}}],\"scatterpolar\":[{\"marker\":{\"colorbar\":{\"outlinewidth\":0.0,\"ticks\":\"\"}}}],\"scatterpolargl\":[{\"marker\":{\"colorbar\":{\"outlinewidth\":0.0,\"ticks\":\"\"}}}],\"scatterternary\":[{\"marker\":{\"colorbar\":{\"outlinewidth\":0.0,\"ticks\":\"\"}}}],\"surface\":[{\"colorbar\":{\"outlinewidth\":0.0,\"ticks\":\"\"},\"colorscale\":[[0.0,\"#0d0887\"],[0.1111111111111111,\"#46039f\"],[0.2222222222222222,\"#7201a8\"],[0.3333333333333333,\"#9c179e\"],[0.4444444444444444,\"#bd3786\"],[0.5555555555555556,\"#d8576b\"],[0.6666666666666666,\"#ed7953\"],[0.7777777777777778,\"#fb9f3a\"],[0.8888888888888888,\"#fdca26\"],[1.0,\"#f0f921\"]]}],\"table\":[{\"cells\":{\"fill\":{\"color\":\"rgba(235, 240, 248, 1.0)\"},\"line\":{\"color\":\"rgba(255, 255, 255, 1.0)\"}},\"header\":{\"fill\":{\"color\":\"rgba(200, 212, 227, 1.0)\"},\"line\":{\"color\":\"rgba(255, 255, 255, 1.0)\"}}}]}},\"xaxis\":{\"title\":{\"text\":\"mRNA Anzahl\"}},\"yaxis\":{\"title\":{\"text\":\"P(Anzahl)\"}}};\r\n",
       "            var config = {\"responsive\":true};\r\n",
       "            Plotly.newPlot('ed4fc587-5771-4267-9532-0b6b50537bee', data, layout, config);\r\n",
       "});\r\n",
       "            };\r\n",
       "            if ((typeof(requirejs) !==  typeof(Function)) || (typeof(requirejs.config) !== typeof(Function))) {\r\n",
       "                var script = document.createElement(\"script\");\r\n",
       "                script.setAttribute(\"src\", \"https://cdnjs.cloudflare.com/ajax/libs/require.js/2.3.6/require.min.js\");\r\n",
       "                script.onload = function(){\r\n",
       "                    renderPlotly_ed4fc5875771426795320b6b50537bee();\r\n",
       "                };\r\n",
       "                document.getElementsByTagName(\"head\")[0].appendChild(script);\r\n",
       "            }\r\n",
       "            else {\r\n",
       "                renderPlotly_ed4fc5875771426795320b6b50537bee();\r\n",
       "            }\r\n",
       "</script>\r\n",
       "\n",
       "    \n",
       "</div>    \n"
      ]
     },
     "metadata": {},
     "output_type": "display_data"
    }
   ],
   "source": [
    "let poissonLambda = Distributions.Discrete.Poisson.Fit samplesmRNA\n",
    "let poissonVerteilung = Distributions.Discrete.Poisson.Init poissonLambda\n",
    "\n",
    "let normalVerteilung = Distributions.Continuous.Normal.Estimate(samplesmRNA)\n",
    "\n",
    "let betaAlpha = Distributions.Continuous.Exponential.Fit(samplesmRNA) \n",
    "let betaVerteilung = Distributions.Continuous.Exponential.Init betaAlpha\n",
    "\n",
    "[\n",
    "    histomRNA\n",
    "    Chart.Line ([|0. .. 25.|], [|0 .. 25|] |> Array.map poissonVerteilung.PMF)\n",
    "    Chart.Line ([|0. .. 25.|], [|0 .. 25|] |> Array.map normalVerteilung.PDF)\n",
    "    Chart.Line ([|0. .. 25.|], [|0 .. 25|] |> Array.map betaVerteilung.PDF)\n",
    "]\n",
    "|> Chart.combine\n"
   ]
  },
  {
   "cell_type": "markdown",
   "metadata": {},
   "source": [
    "Antwort hier hinschreiben."
   ]
  },
  {
   "cell_type": "markdown",
   "metadata": {},
   "source": [
    "Analog zur mRNA stabilisiert sich die Verteilung der Proteine im Gleichgewichtszustand, wenn auch verzögert. Diese wird aber im Gegensatz zu der mRNA am besten von der Gammaverteilung beschrieben. Dennoch ist zu beachten, dass wir hier ein prokaryotisches Modell betrachten."
   ]
  },
  {
   "cell_type": "code",
   "execution_count": null,
   "metadata": {
    "dotnet_interactive": {
     "language": "fsharp"
    },
    "vscode": {
     "languageId": "dotnet-interactive.fsharp"
    }
   },
   "outputs": [
    {
     "data": {
      "text/html": [
       "\n",
       "<div>\n",
       "    <div id=\"afe2e155-2589-4af4-90c6-c79d45342b77\"><!-- Plotly chart will be drawn inside this DIV --></div>\r\n",
       "<script type=\"text/javascript\">\r\n",
       "\r\n",
       "            var renderPlotly_afe2e15525894af490c6c79d45342b77 = function() {\r\n",
       "            var fsharpPlotlyRequire = requirejs.config({context:'fsharp-plotly',paths:{plotly:'https://cdn.plot.ly/plotly-2.6.3.min'}}) || require;\r\n",
       "            fsharpPlotlyRequire(['plotly'], function(Plotly) {\r\n",
       "\r\n",
       "            var data = [{\"type\":\"bar\",\"x\":[330.0,356.0,375.0,363.0,326.0,307.0,293.0,291.0,286.0,283.0,264.0,267.0,306.0,280.0,295.0,303.0,302.0,271.0,234.0,210.0,202.0,190.0,182.0,162.0,163.0,175.0,194.0,207.0,200.0,199.0,201.0,195.0,189.0,172.0,208.0,239.0,266.0,305.0,334.0,336.0,315.0,301.0,276.0,294.0,319.0,223.0,228.0,245.0,230.0,249.0,229.0,211.0,203.0,205.0,196.0,220.0,236.0,244.0,246.0,275.0,285.0,292.0,318.0,297.0,299.0,304.0,309.0,284.0,277.0,260.0,258.0,259.0,251.0,226.0,198.0,183.0,224.0,233.0,256.0,274.0,252.0,232.0,214.0,287.0,281.0,273.0,238.0,247.0,263.0,221.0,212.0,217.0,253.0,296.0,308.0,257.0,225.0,254.0,243.0,219.0,218.0,231.0,237.0,235.0,215.0,289.0,312.0,290.0,298.0,269.0,216.0,197.0,187.0,241.0,186.0,222.0,278.0,178.0,180.0,167.0,154.0,164.0,177.0,193.0,250.0,261.0,248.0,185.0,179.0,174.0,159.0,147.0,160.0,152.0,165.0,272.0,331.0,320.0,321.0,317.0,282.0,270.0,279.0,268.0,173.0,156.0,265.0,255.0,240.0,316.0,300.0,262.0,327.0,313.0,333.0,353.0,348.0,335.0,213.0,380.0,366.0,350.0,338.0,209.0,191.0,155.0,227.0,242.0,357.0,359.0,322.0,329.0,325.0,148.0,143.0,138.0,127.0,119.0,113.0,121.0,123.0,124.0,134.0,181.0,204.0,184.0,161.0,323.0,332.0,341.0,343.0,344.0,364.0,362.0,328.0,288.0,170.0,311.0,324.0,169.0,188.0,310.0,171.0,158.0,206.0,360.0,352.0,192.0,140.0,136.0,142.0,340.0,314.0,151.0,176.0,126.0,131.0,129.0,132.0,141.0,153.0,347.0,367.0,351.0,361.0,376.0,386.0,349.0,337.0,358.0,346.0,385.0,382.0,370.0,354.0,383.0,390.0,388.0,355.0,168.0,146.0,166.0,157.0,404.0,405.0,415.0,339.0,365.0,389.0,345.0],\"y\":[0.0019413706076490001,0.0005824111822947001,0.00038827412152980003,0.0007765482430596001,0.0036886041545331006,0.0027179188507086,0.0062123859444768005,0.0052417006406523005,0.004076878276062901,0.0067947971267715,0.0085420306736556,0.0089303047951854,0.0034944670937682005,0.008736167734420501,0.0042710153368278,0.0042710153368278,0.0031061929722384003,0.0064065230052417,0.010095127159774802,0.008153756552125802,0.0052417006406523005,0.0034944670937682005,0.0029120559114735,0.0013589594253543,0.0013589594253543,0.0027179188507086,0.0052417006406523005,0.0062123859444768005,0.0052417006406523005,0.0044651523975927,0.0052417006406523005,0.0038827412152980002,0.004659289458357601,0.0019413706076490001,0.008153756552125802,0.010677538342069502,0.0064065230052417,0.004659289458357601,0.0019413706076490001,0.0021355076684139,0.004076878276062901,0.0036886041545331006,0.006988934187536401,0.0036886041545331006,0.0017472335468841002,0.0077654824305960005,0.008153756552125802,0.0089303047951854,0.0089303047951854,0.010483401281304601,0.008153756552125802,0.007183071248301301,0.007183071248301301,0.005824111822947,0.006018248883711901,0.007959619491360901,0.010677538342069502,0.010677538342069502,0.0110658124635993,0.006988934187536401,0.007377208309066201,0.005047563579887401,0.0036886041545331006,0.0052417006406523005,0.0029120559114735,0.0031061929722384003,0.0044651523975927,0.0052417006406523005,0.005629974762182101,0.009900990099009901,0.0077654824305960005,0.0062123859444768005,0.009900990099009901,0.0089303047951854,0.006600660066006601,0.0033003300330033004,0.008736167734420501,0.0089303047951854,0.009900990099009901,0.008736167734420501,0.009900990099009901,0.011842360706658901,0.0067947971267715,0.007183071248301301,0.0077654824305960005,0.0077654824305960005,0.009512715977480102,0.007571345369831101,0.0085420306736556,0.008153756552125802,0.0089303047951854,0.008153756552125802,0.011259949524364201,0.0023296447291788003,0.0025237817899437004,0.0089303047951854,0.0091244418559503,0.007959619491360901,0.009706853038245,0.007571345369831101,0.0085420306736556,0.0091244418559503,0.0110658124635993,0.008736167734420501,0.007183071248301301,0.0044651523975927,0.0021355076684139,0.005629974762182101,0.0036886041545331006,0.006988934187536401,0.005824111822947,0.006600660066006601,0.0033003300330033004,0.011842360706658901,0.0025237817899437004,0.010095127159774802,0.0062123859444768005,0.0017472335468841002,0.0015530964861192001,0.0013589594253543,0.0005824111822947001,0.0009706853038245001,0.0019413706076490001,0.005047563579887401,0.0089303047951854,0.011259949524364201,0.009900990099009901,0.0034944670937682005,0.0029120559114735,0.0011648223645894002,0.0011648223645894002,0.00019413706076490002,0.0009706853038245001,0.00038827412152980003,0.0007765482430596001,0.007377208309066201,0.0015530964861192001,0.0011648223645894002,0.0029120559114735,0.0027179188507086,0.0067947971267715,0.0064065230052417,0.006600660066006601,0.0067947971267715,0.0017472335468841002,0.0007765482430596001,0.007377208309066201,0.009900990099009901,0.0085420306736556,0.0015530964861192001,0.0034944670937682005,0.008153756552125802,0.0017472335468841002,0.0033003300330033004,0.0011648223645894002,0.00038827412152980003,0.0007765482430596001,0.0009706853038245001,0.0044651523975927,0.00038827412152980003,0.0009706853038245001,0.0009706853038245001,0.0005824111822947001,0.007377208309066201,0.0031061929722384003,0.0005824111822947001,0.0089303047951854,0.007959619491360901,0.0005824111822947001,0.0005824111822947001,0.0019413706076490001,0.0013589594253543,0.0021355076684139,0.00038827412152980003,0.00019413706076490002,0.00038827412152980003,0.00019413706076490002,0.00019413706076490002,0.00019413706076490002,0.00019413706076490002,0.00019413706076490002,0.00019413706076490002,0.0007765482430596001,0.0011648223645894002,0.004659289458357601,0.0025237817899437004,0.0011648223645894002,0.0013589594253543,0.0019413706076490001,0.00038827412152980003,0.0009706853038245001,0.0015530964861192001,0.00038827412152980003,0.00038827412152980003,0.0007765482430596001,0.0042710153368278,0.0019413706076490001,0.0033003300330033004,0.0011648223645894002,0.0011648223645894002,0.005047563579887401,0.0031061929722384003,0.0011648223645894002,0.0005824111822947001,0.007183071248301301,0.0005824111822947001,0.0007765482430596001,0.0036886041545331006,0.00038827412152980003,0.0005824111822947001,0.00019413706076490002,0.0009706853038245001,0.0015530964861192001,0.00019413706076490002,0.0015530964861192001,0.00038827412152980003,0.00019413706076490002,0.00019413706076490002,0.00019413706076490002,0.00038827412152980003,0.00038827412152980003,0.0011648223645894002,0.00019413706076490002,0.0005824111822947001,0.00038827412152980003,0.00038827412152980003,0.00019413706076490002,0.0009706853038245001,0.0005824111822947001,0.00019413706076490002,0.00019413706076490002,0.00019413706076490002,0.00019413706076490002,0.0005824111822947001,0.00038827412152980003,0.00038827412152980003,0.00019413706076490002,0.00038827412152980003,0.00038827412152980003,0.0005824111822947001,0.00019413706076490002,0.00019413706076490002,0.00038827412152980003,0.00038827412152980003,0.00019413706076490002,0.00019413706076490002,0.00019413706076490002,0.00019413706076490002,0.00019413706076490002,0.00019413706076490002],\"orientation\":\"v\",\"marker\":{\"pattern\":{}}},{\"type\":\"scatter\",\"mode\":\"lines\",\"x\":[0.0,1.0,2.0,3.0,4.0,5.0,6.0,7.0,8.0,9.0,10.0,11.0,12.0,13.0,14.0,15.0,16.0,17.0,18.0,19.0,20.0,21.0,22.0,23.0,24.0,25.0,26.0,27.0,28.0,29.0,30.0,31.0,32.0,33.0,34.0,35.0,36.0,37.0,38.0,39.0,40.0,41.0,42.0,43.0,44.0,45.0,46.0,47.0,48.0,49.0,50.0,51.0,52.0,53.0,54.0,55.0,56.0,57.0,58.0,59.0,60.0,61.0,62.0,63.0,64.0,65.0,66.0,67.0,68.0,69.0,70.0,71.0,72.0,73.0,74.0,75.0,76.0,77.0,78.0,79.0,80.0,81.0,82.0,83.0,84.0,85.0,86.0,87.0,88.0,89.0,90.0,91.0,92.0,93.0,94.0,95.0,96.0,97.0,98.0,99.0,100.0,101.0,102.0,103.0,104.0,105.0,106.0,107.0,108.0,109.0,110.0,111.0,112.0,113.0,114.0,115.0,116.0,117.0,118.0,119.0,120.0,121.0,122.0,123.0,124.0,125.0,126.0,127.0,128.0,129.0,130.0,131.0,132.0,133.0,134.0,135.0,136.0,137.0,138.0,139.0,140.0,141.0,142.0,143.0,144.0,145.0,146.0,147.0,148.0,149.0,150.0,151.0,152.0,153.0,154.0,155.0,156.0,157.0,158.0,159.0,160.0,161.0,162.0,163.0,164.0,165.0,166.0,167.0,168.0,169.0,170.0,171.0,172.0,173.0,174.0,175.0,176.0,177.0,178.0,179.0,180.0,181.0,182.0,183.0,184.0,185.0,186.0,187.0,188.0,189.0,190.0,191.0,192.0,193.0,194.0,195.0,196.0,197.0,198.0,199.0,200.0,201.0,202.0,203.0,204.0,205.0,206.0,207.0,208.0,209.0,210.0,211.0,212.0,213.0,214.0,215.0,216.0,217.0,218.0,219.0,220.0,221.0,222.0,223.0,224.0,225.0,226.0,227.0,228.0,229.0,230.0,231.0,232.0,233.0,234.0,235.0,236.0,237.0,238.0,239.0,240.0,241.0,242.0,243.0,244.0,245.0,246.0,247.0,248.0,249.0,250.0,251.0,252.0,253.0,254.0,255.0,256.0,257.0,258.0,259.0,260.0,261.0,262.0,263.0,264.0,265.0,266.0,267.0,268.0,269.0,270.0,271.0,272.0,273.0,274.0,275.0,276.0,277.0,278.0,279.0,280.0,281.0,282.0,283.0,284.0,285.0,286.0,287.0,288.0,289.0,290.0,291.0,292.0,293.0,294.0,295.0,296.0,297.0,298.0,299.0,300.0,301.0,302.0,303.0,304.0,305.0,306.0,307.0,308.0,309.0,310.0,311.0,312.0,313.0,314.0,315.0,316.0,317.0,318.0,319.0,320.0,321.0,322.0,323.0,324.0,325.0,326.0,327.0,328.0,329.0,330.0,331.0,332.0,333.0,334.0,335.0,336.0,337.0,338.0,339.0,340.0,341.0,342.0,343.0,344.0,345.0,346.0,347.0,348.0,349.0,350.0,351.0,352.0,353.0,354.0,355.0,356.0,357.0,358.0,359.0,360.0,361.0,362.0,363.0,364.0,365.0,366.0,367.0,368.0,369.0,370.0,371.0,372.0,373.0,374.0,375.0,376.0,377.0,378.0,379.0,380.0,381.0,382.0,383.0,384.0,385.0,386.0,387.0,388.0,389.0,390.0,391.0,392.0,393.0,394.0,395.0,396.0,397.0,398.0,399.0,400.0,401.0,402.0,403.0,404.0,405.0,406.0,407.0,408.0,409.0,410.0,411.0,412.0,413.0,414.0,415.0,416.0,417.0,418.0,419.0,420.0,421.0,422.0,423.0,424.0,425.0,426.0,427.0,428.0,429.0,430.0,431.0,432.0,433.0,434.0,435.0,436.0,437.0,438.0,439.0,440.0,441.0,442.0,443.0,444.0,445.0,446.0,447.0,448.0,449.0,450.0,451.0,452.0,453.0,454.0,455.0,456.0,457.0,458.0,459.0,460.0,461.0,462.0,463.0,464.0,465.0,466.0,467.0,468.0,469.0,470.0,471.0,472.0,473.0,474.0,475.0,476.0,477.0,478.0,479.0,480.0,481.0,482.0,483.0,484.0,485.0,486.0,487.0,488.0,489.0,490.0,491.0,492.0,493.0,494.0,495.0,496.0,497.0,498.0,499.0,500.0],\"y\":[0.0,2.52766640278036E-68,2.9474164170914854E-58,2.1523883389839906E-52,2.988853608193042E-48,4.732976045325725E-45,1.8981266207247716E-42,2.950660337962192E-40,2.29218991479352E-38,1.048303702506338E-36,3.1566153444009555E-35,6.7781870573664225E-34,1.1009153842880144E-32,1.414415625699491E-31,1.4882962354736159E-30,1.318458335406131E-29,1.0054539051494661E-28,6.721605626478959E-28,3.998895831371468E-27,2.1440879756942343E-26,1.0471672191506642E-25,4.701288873107461E-25,1.9554617652082294E-24,7.586877129036791E-24,2.762047373220135E-23,9.484431742372356E-23,3.085997938901754E-22,9.553234815776094E-22,2.823900387606851E-21,7.996506115241477E-21,2.1755436613105905E-20,5.701539967370311E-20,1.442796108658102E-19,3.5329907267197374E-19,8.387976951993537E-19,1.9343161471604955E-18,4.339759830296237E-18,9.486933962518781E-18,2.0235298222515493E-17,4.2166893572739036E-17,8.594575878284207E-17,1.7153104633385853E-16,3.3555734754538495E-16,6.440294073134062E-16,1.2137815945735782E-15,2.2481567420643906E-15,4.095393845410865E-15,7.342741676010218E-15,1.2965974089909735E-14,2.2563642685229685E-14,3.871923296843706E-14,6.555394300708138E-14,1.095601114283813E-13,1.8084301488474783E-13,2.949501965956184E-13,4.75536926474321E-13,7.58209137414947E-13,1.1960077871834073E-12,1.8671590684643387E-12,2.8859229049487303E-12,4.417639289851221E-12,6.699411912097821E-12,1.0068297157814383E-11,1.4999402460200784E-11,2.2156962254462016E-11,3.246227641201563E-11,4.7183391753343917E-11,6.80526116666335E-11,9.741936430128607E-11,1.3844768107996887E-10,1.9536957137695136E-10,2.738079648577367E-10,3.8118566998934183E-10,5.272400057857438E-10,7.246664435527809E-10,9.89918784190802E-10,1.3441981295593757E-09,1.8146682142735507E-09,2.4359405720402005E-09,3.251879535740744E-09,4.317784221202677E-09,5.703012418247849E-09,7.49411969359777E-09,9.798595968362736E-09,1.2749291321541175E-08,1.6509632725679872E-08,2.1279743757544644E-08,2.7303589940720776E-08,3.487728314220823E-08,4.435868921302901E-08,5.6178493662776736E-08,7.085289039723678E-08,8.899806821249831E-08,1.1134667859423044E-07,1.3876647616456253E-07,1.7228132958302404E-07,2.1309480556109622E-07,2.626165316015557E-07,3.224915438279229E-07,3.946328245293001E-07,4.81257229519331E-07,5.849249978112975E-07,7.085830251780749E-07,8.556120686478765E-07,1.029878030665929E-06,1.2357874493439966E-06,1.4783472947734268E-06,1.7632291406977181E-06,2.096837745871991E-06,2.486384040184757E-06,2.9399624671516885E-06,3.46663258683102E-06,4.076504791764871E-06,4.780829933466921E-06,5.592092598609754E-06,6.524107712799534E-06,7.592120086145962E-06,8.812906449285142E-06,1.020487946167827E-05,1.1788193106581698E-05,1.3584848819744094E-05,1.561880163243345E-05,1.791606554460507E-05,2.0504817281743003E-05,2.3415497529978904E-05,2.6680908689386857E-05,3.0336308135762212E-05,3.441949593748939E-05,3.8970895937222254E-05,4.403362907878201E-05,4.96535778386334E-05,5.587944060934081E-05,6.276277488002246E-05,7.035802806664899E-05,7.872255486351928E-05,8.79166200167253E-05,9.800338546109912E-05,0.00010904888081443057,0.00012112195628613624,0.0001342942171326611,0.0001486399388779192,0.00016423596261387174,0.0001811615698036056,0.00019949833612629134,0.00021932996402923428,0.00024074209378647108,0.0002638220930051738,0.0002886588246684462,0.0003153423939566882,0.00034396387424606354,0.00037461501284294184,0.0004073879171740093,0.00044237472231277745,0.00047966724088369567,0.0005193565965416242,0.0005615328423779597,0.0006062845657520126,0.0006536984811870714,0.000703859013102983,0.0007568478702804362,0.0008127436140643508,0.000871621222414846,0.0009335516520015691,0.0009986014006125798,0.0010668320722079007,0.001138299946992836,0.0012130555589157288,0.001291143283006343,0.0013726009349694433,0.0014574593854261289,0.0015457421911600042,0.0016374652456717944,0.0017326364512765871,0.0018312554148935411,0.001933313169575435,0.0020387919237147647,0.0021476648397290173,0.0022598958438916888,0.0023754394688167125,0.002494240729945667,0.002616235037207473,0.002741348142841516,0.0028694961261850438,0.0030005854160296327,0.0031345128509519733,0.0032711657778227965,0.0034104221884922316,0.0035521508944454687,0.0036962117390213654,0.0038424558465834243,0.003990725907836919,0.004140856500297108,0.004292674442723762,0.004445999182163582,0.0046006432120734376,0.004756412519837768,0.004913107061843625,0.005070521264145073,0.0052284445466206884,0.005386661868417534,0.005544954292378297,0.005703099566063438,0.0058608727169111655,0.0060180466590230835,0.00617439280902333,0.006329681708409541,0.006483683649810153,0.006636169304556665,0.006786910349004159,0.006935680087057797,0.0070822540664128705,0.007226410686066938,0.00736793179273526,0.007506603263882563,0.0076422155751650405,0.007774564350194721,0.00790345089062976,0.008028682684724595,0.008150073892599264,0.008267445806610436,0.008380627285354244,0.00848945515996791,0.008593774611547507,0.008693439518638902,0.00878831277392535,0.008878266569370519,0.008963182649234475,0.009042952530537343,0.009117477690683233,0.009186669722109376,0.009250450453972709,0.009308752041019577,0.009361517019927084,0.009408698333525221,0.00945025932344866,0.00948617369186691,0.009516425433076774,0.009541008735821947,0.009559927857326605,0.009573196970100712,0.009580839982670305,0.009582890335458722,0.009579390773107153,0.009570393094585896,0.009555957882502937,0.009536154213045428,0.009511059348043438,0.00948075841065793,0.00944534404621659,0.009404916069740199,0.009359581101704153,0.009309452193564802,0.00925464844459333,0.009195294611525974,0.009131520712526533,0.009063461626926459,0.008991256692176713,0.008915049299405318,0.008834986488935529,0.008751218547073166,0.008663898605413304,0.0085731822438734,0.00847922709859807,0.008382192475821374,0.008282238972706198,0.00817952810613186,0.00807422195031536,0.007966482784105354,0.007856472748704685,0.007744353516526514,0.007630285971803603,0.007514429903524346,0.007396943711182777,0.007277984123778148,0.007157705932432461,0.007036261736923825,0.006913801706386281,0.006790473354350839,0.0066664213282586,0.006541787213513283,0.006416709352089483,0.006291322675662982,0.006165758553178236,0.00604014465272565,0.00591460481755665,0.005789258956021703,0.005664222945182551,0.005539608547813583,0.005415523342471378,0.005292070666290292,0.005169349570125254,0.005047454785646712,0.004926476703967723,0.004806501365365052,0.004687610459640712,0.004569881336657771,0.004453387026567316,0.004338196269246521,0.00422437355244514,0.004111979158151133,0.004001069216665493,0.003891695767893927,0.0037839068293496416,0.0036777464703733036,0.003573254892079618,0.0034704685125432067,0.003369420056748367,0.003270138650833409,0.0031726499201723954,0.0030769760908471904,0.002983136094075494,0.0028911456731749432,0.0028010174926546534,0.0027127612490422705,0.0026263837830706738,0.002541889192859954,0.0024592789477518723,0.0023785520024661865,0.002299704911266602,0.002222731941840373,0.002147625188612206,0.0020743746852318417,0.002002968515986804,0.0019333929259140233,0.0018656324293968732,0.0017996699170507277,0.0017354867607172941,0.0016730629164027331,0.0016123770250100642,0.0015534065107304965,0.0014961276769742064,0.0014405157997331513,0.0013865452182838683,0.0013341894231497548,0.001283421141255216,0.0012342124182165226,0.0011865346977248722,0.0011403588979881155,0.0010956554852086676,0.00105239454408353,0.0010105458453231245,0.0009700789101923748,0.0009309630720875902,0.0008931675351689238,0.000856661430075067,0.0008214138667547215,0.0007873939844534739,0.0007545709989020866,0.0007229142467555229,0.0006923932273376178,0.0006629776417500521,0.0006346374294079706,0.0006073428020673485,0.0005810642754129053,0.0005557726982767085,0.0005314392795604947,0.0005080356129358784,0.00048553369939830486,0.0004639059677511587,0.0004431252930978089,0.0004231650134192512,0.0004039989443153558,0.0003856013919879514,0.0003679471645428035,0.00035101158168849954,0.0003347704829077748,0.0003192002341774509,0.0003042777333111128,0.000289980413997865,0.00027628624860916515,0.0002631737498440012,0.0002506219712814658,0.00023861050690768523,0.00022711948968283575,0.00021612958921153155,0.00020562200857856503,0.00019557848040962632,0.00018598126221481707,0.0001768131310708026,0.0001680573776952977,0.0001596977999656349,0.00015171869593100386,0.00014410485636603493,0.00013684155691124394,0.00012991454984383977,0.0001233100555203698,0.00011701475353085425,0.00011101577360174642,0.00010530068628351098,9.985749345644582E-05,9.46746186866379E-05,8.974089746212147E-05,8.504556733746742E-05,8.057825801348624E-05,7.632898137674993E-05,7.228812152238892E-05,6.844642478174792E-05,6.479498977512186E-05,6.132525750829932E-05,5.802900153019397E-05,5.489831816756751E-05,5.192561685146264E-05,4.910361054876551E-05,4.642530631115277E-05,4.388399595245316E-05,4.1473246864458984E-05,3.918689298016042E-05,3.7019025892350715E-05,3.496398613469914E-05,3.301635463145067E-05,3.117094432109052E-05,2.9422791958552012E-05,2.7767150099767814E-05,2.6199479271697464E-05,2.4715440330321646E-05,2.3310887008443677E-05,2.1981858654610364E-05,2.0724573163921476E-05,1.9535420101000216E-05,1.8410954014938213E-05,1.7347887945625724E-05,1.6343087120465047E-05,1.5393562840131005E-05,1.449646655170071E-05,1.3649084107187362E-05,1.2848830205231753E-05,1.2093243013480782E-05,1.1379978968942524E-05,1.0706807753424055E-05,1.0071607440988493E-05,9.472359814199913E-06,8.907145845812659E-06,8.374141342432404E-06,7.871612746584217E-06,7.3979130935532174E-06,6.9514781192727575E-06,6.530822515521943E-06,6.134536328616963E-06,5.761281497788791E-06,5.4097885294043325E-06,5.078853303197648E-06,4.76733400667672E-06,4.474148193889249E-06,4.19826996475922E-06,3.93872726122663E-06,3.6945992764708966E-06,3.46501397353618E-06,3.2491457097268102E-06,3.0462129631985855E-06,2.855476158224699E-06,2.6762355856837293E-06,2.5078294153772274E-06,2.3496317968573206E-06,2.2010510455133026E-06,2.0615279107412024E-06,1.9305339230938634E-06,1.807569817387346E-06,1.6921640288149353E-06,1.5838712591997814E-06,1.4822711105959237E-06,1.3869667835256175E-06,1.2975838372206195E-06,1.2137690093148816E-06,1.1351890925120867E-06,1.0615298658327864E-06,9.924950781205353E-07,9.278054815644009E-07,8.671979130697381E-07,8.104244213843702E-07,7.572514379600591E-07,7.074589896005114E-07,6.608399510191E-07,6.17199335496968E-07,5.763536219011068E-07,5.381301163871508E-07,5.023663471765463E-07,4.6890949086083756E-07,4.376158287461974E-07,4.083502318120074E-07,3.809856729143207E-07,3.5540276492170053E-07,3.314893235253087E-07,3.091399535182138E-07,2.8825565738977956E-07,2.687434651307539E-07,2.5051608419266276E-07,2.3349156859129676E-07,2.1759300618863035E-07,2.0274822323112572E-07,1.888895052633962E-07,1.7595333357673767E-07,1.638801363902688E-07,1.5261405399974293E-07,1.4210271716474936E-07,1.3229703803939094E-07,1.2315101298421267E-07,1.1462153662925267E-07,1.0666822658795805E-07,9.925325825113924E-08,9.234120911790296E-08,8.589891214720822E-08],\"marker\":{},\"line\":{}}];\r\n",
       "            var layout = {\"width\":600,\"height\":600,\"template\":{\"layout\":{\"title\":{\"x\":0.05},\"font\":{\"color\":\"rgba(42, 63, 95, 1.0)\"},\"paper_bgcolor\":\"rgba(255, 255, 255, 1.0)\",\"plot_bgcolor\":\"rgba(229, 236, 246, 1.0)\",\"autotypenumbers\":\"strict\",\"colorscale\":{\"diverging\":[[0.0,\"#8e0152\"],[0.1,\"#c51b7d\"],[0.2,\"#de77ae\"],[0.3,\"#f1b6da\"],[0.4,\"#fde0ef\"],[0.5,\"#f7f7f7\"],[0.6,\"#e6f5d0\"],[0.7,\"#b8e186\"],[0.8,\"#7fbc41\"],[0.9,\"#4d9221\"],[1.0,\"#276419\"]],\"sequential\":[[0.0,\"#0d0887\"],[0.1111111111111111,\"#46039f\"],[0.2222222222222222,\"#7201a8\"],[0.3333333333333333,\"#9c179e\"],[0.4444444444444444,\"#bd3786\"],[0.5555555555555556,\"#d8576b\"],[0.6666666666666666,\"#ed7953\"],[0.7777777777777778,\"#fb9f3a\"],[0.8888888888888888,\"#fdca26\"],[1.0,\"#f0f921\"]],\"sequentialminus\":[[0.0,\"#0d0887\"],[0.1111111111111111,\"#46039f\"],[0.2222222222222222,\"#7201a8\"],[0.3333333333333333,\"#9c179e\"],[0.4444444444444444,\"#bd3786\"],[0.5555555555555556,\"#d8576b\"],[0.6666666666666666,\"#ed7953\"],[0.7777777777777778,\"#fb9f3a\"],[0.8888888888888888,\"#fdca26\"],[1.0,\"#f0f921\"]]},\"hovermode\":\"closest\",\"hoverlabel\":{\"align\":\"left\"},\"coloraxis\":{\"colorbar\":{\"outlinewidth\":0.0,\"ticks\":\"\"}},\"geo\":{\"showland\":true,\"landcolor\":\"rgba(229, 236, 246, 1.0)\",\"showlakes\":true,\"lakecolor\":\"rgba(255, 255, 255, 1.0)\",\"subunitcolor\":\"rgba(255, 255, 255, 1.0)\",\"bgcolor\":\"rgba(255, 255, 255, 1.0)\"},\"mapbox\":{\"style\":\"light\"},\"polar\":{\"bgcolor\":\"rgba(229, 236, 246, 1.0)\",\"radialaxis\":{\"linecolor\":\"rgba(255, 255, 255, 1.0)\",\"gridcolor\":\"rgba(255, 255, 255, 1.0)\",\"ticks\":\"\"},\"angularaxis\":{\"linecolor\":\"rgba(255, 255, 255, 1.0)\",\"gridcolor\":\"rgba(255, 255, 255, 1.0)\",\"ticks\":\"\"}},\"scene\":{\"xaxis\":{\"ticks\":\"\",\"linecolor\":\"rgba(255, 255, 255, 1.0)\",\"gridcolor\":\"rgba(255, 255, 255, 1.0)\",\"gridwidth\":2.0,\"zerolinecolor\":\"rgba(255, 255, 255, 1.0)\",\"backgroundcolor\":\"rgba(229, 236, 246, 1.0)\",\"showbackground\":true},\"yaxis\":{\"ticks\":\"\",\"linecolor\":\"rgba(255, 255, 255, 1.0)\",\"gridcolor\":\"rgba(255, 255, 255, 1.0)\",\"gridwidth\":2.0,\"zerolinecolor\":\"rgba(255, 255, 255, 1.0)\",\"backgroundcolor\":\"rgba(229, 236, 246, 1.0)\",\"showbackground\":true},\"zaxis\":{\"ticks\":\"\",\"linecolor\":\"rgba(255, 255, 255, 1.0)\",\"gridcolor\":\"rgba(255, 255, 255, 1.0)\",\"gridwidth\":2.0,\"zerolinecolor\":\"rgba(255, 255, 255, 1.0)\",\"backgroundcolor\":\"rgba(229, 236, 246, 1.0)\",\"showbackground\":true}},\"ternary\":{\"aaxis\":{\"ticks\":\"\",\"linecolor\":\"rgba(255, 255, 255, 1.0)\",\"gridcolor\":\"rgba(255, 255, 255, 1.0)\"},\"baxis\":{\"ticks\":\"\",\"linecolor\":\"rgba(255, 255, 255, 1.0)\",\"gridcolor\":\"rgba(255, 255, 255, 1.0)\"},\"caxis\":{\"ticks\":\"\",\"linecolor\":\"rgba(255, 255, 255, 1.0)\",\"gridcolor\":\"rgba(255, 255, 255, 1.0)\"},\"bgcolor\":\"rgba(229, 236, 246, 1.0)\"},\"xaxis\":{\"title\":{\"standoff\":15},\"ticks\":\"\",\"automargin\":true,\"linecolor\":\"rgba(255, 255, 255, 1.0)\",\"gridcolor\":\"rgba(255, 255, 255, 1.0)\",\"zerolinecolor\":\"rgba(255, 255, 255, 1.0)\",\"zerolinewidth\":2.0},\"yaxis\":{\"title\":{\"standoff\":15},\"ticks\":\"\",\"automargin\":true,\"linecolor\":\"rgba(255, 255, 255, 1.0)\",\"gridcolor\":\"rgba(255, 255, 255, 1.0)\",\"zerolinecolor\":\"rgba(255, 255, 255, 1.0)\",\"zerolinewidth\":2.0},\"annotationdefaults\":{\"arrowcolor\":\"#2a3f5f\",\"arrowhead\":0,\"arrowwidth\":1},\"shapedefaults\":{\"line\":{\"color\":\"rgba(42, 63, 95, 1.0)\"}},\"colorway\":[\"rgba(99, 110, 250, 1.0)\",\"rgba(239, 85, 59, 1.0)\",\"rgba(0, 204, 150, 1.0)\",\"rgba(171, 99, 250, 1.0)\",\"rgba(255, 161, 90, 1.0)\",\"rgba(25, 211, 243, 1.0)\",\"rgba(255, 102, 146, 1.0)\",\"rgba(182, 232, 128, 1.0)\",\"rgba(255, 151, 255, 1.0)\",\"rgba(254, 203, 82, 1.0)\"]},\"data\":{\"bar\":[{\"marker\":{\"line\":{\"color\":\"rgba(229, 236, 246, 1.0)\",\"width\":0.5},\"pattern\":{\"fillmode\":\"overlay\",\"size\":10,\"solidity\":0.2}},\"error_x\":{\"color\":\"rgba(42, 63, 95, 1.0)\"},\"error_y\":{\"color\":\"rgba(42, 63, 95, 1.0)\"}}],\"barpolar\":[{\"marker\":{\"line\":{\"color\":\"rgba(229, 236, 246, 1.0)\",\"width\":0.5},\"pattern\":{\"fillmode\":\"overlay\",\"size\":10,\"solidity\":0.2}}}],\"carpet\":[{\"aaxis\":{\"linecolor\":\"rgba(255, 255, 255, 1.0)\",\"gridcolor\":\"rgba(255, 255, 255, 1.0)\",\"endlinecolor\":\"rgba(42, 63, 95, 1.0)\",\"minorgridcolor\":\"rgba(255, 255, 255, 1.0)\",\"startlinecolor\":\"rgba(42, 63, 95, 1.0)\"},\"baxis\":{\"linecolor\":\"rgba(255, 255, 255, 1.0)\",\"gridcolor\":\"rgba(255, 255, 255, 1.0)\",\"endlinecolor\":\"rgba(42, 63, 95, 1.0)\",\"minorgridcolor\":\"rgba(255, 255, 255, 1.0)\",\"startlinecolor\":\"rgba(42, 63, 95, 1.0)\"}}],\"choropleth\":[{\"colorbar\":{\"outlinewidth\":0.0,\"ticks\":\"\"},\"colorscale\":[[0.0,\"#0d0887\"],[0.1111111111111111,\"#46039f\"],[0.2222222222222222,\"#7201a8\"],[0.3333333333333333,\"#9c179e\"],[0.4444444444444444,\"#bd3786\"],[0.5555555555555556,\"#d8576b\"],[0.6666666666666666,\"#ed7953\"],[0.7777777777777778,\"#fb9f3a\"],[0.8888888888888888,\"#fdca26\"],[1.0,\"#f0f921\"]]}],\"contour\":[{\"colorbar\":{\"outlinewidth\":0.0,\"ticks\":\"\"},\"colorscale\":[[0.0,\"#0d0887\"],[0.1111111111111111,\"#46039f\"],[0.2222222222222222,\"#7201a8\"],[0.3333333333333333,\"#9c179e\"],[0.4444444444444444,\"#bd3786\"],[0.5555555555555556,\"#d8576b\"],[0.6666666666666666,\"#ed7953\"],[0.7777777777777778,\"#fb9f3a\"],[0.8888888888888888,\"#fdca26\"],[1.0,\"#f0f921\"]]}],\"contourcarpet\":[{\"colorbar\":{\"outlinewidth\":0.0,\"ticks\":\"\"}}],\"heatmap\":[{\"colorbar\":{\"outlinewidth\":0.0,\"ticks\":\"\"},\"colorscale\":[[0.0,\"#0d0887\"],[0.1111111111111111,\"#46039f\"],[0.2222222222222222,\"#7201a8\"],[0.3333333333333333,\"#9c179e\"],[0.4444444444444444,\"#bd3786\"],[0.5555555555555556,\"#d8576b\"],[0.6666666666666666,\"#ed7953\"],[0.7777777777777778,\"#fb9f3a\"],[0.8888888888888888,\"#fdca26\"],[1.0,\"#f0f921\"]]}],\"heatmapgl\":[{\"colorbar\":{\"outlinewidth\":0.0,\"ticks\":\"\"},\"colorscale\":[[0.0,\"#0d0887\"],[0.1111111111111111,\"#46039f\"],[0.2222222222222222,\"#7201a8\"],[0.3333333333333333,\"#9c179e\"],[0.4444444444444444,\"#bd3786\"],[0.5555555555555556,\"#d8576b\"],[0.6666666666666666,\"#ed7953\"],[0.7777777777777778,\"#fb9f3a\"],[0.8888888888888888,\"#fdca26\"],[1.0,\"#f0f921\"]]}],\"histogram\":[{\"marker\":{\"pattern\":{\"fillmode\":\"overlay\",\"size\":10,\"solidity\":0.2}}}],\"histogram2d\":[{\"colorbar\":{\"outlinewidth\":0.0,\"ticks\":\"\"},\"colorscale\":[[0.0,\"#0d0887\"],[0.1111111111111111,\"#46039f\"],[0.2222222222222222,\"#7201a8\"],[0.3333333333333333,\"#9c179e\"],[0.4444444444444444,\"#bd3786\"],[0.5555555555555556,\"#d8576b\"],[0.6666666666666666,\"#ed7953\"],[0.7777777777777778,\"#fb9f3a\"],[0.8888888888888888,\"#fdca26\"],[1.0,\"#f0f921\"]]}],\"histogram2dcontour\":[{\"colorbar\":{\"outlinewidth\":0.0,\"ticks\":\"\"},\"colorscale\":[[0.0,\"#0d0887\"],[0.1111111111111111,\"#46039f\"],[0.2222222222222222,\"#7201a8\"],[0.3333333333333333,\"#9c179e\"],[0.4444444444444444,\"#bd3786\"],[0.5555555555555556,\"#d8576b\"],[0.6666666666666666,\"#ed7953\"],[0.7777777777777778,\"#fb9f3a\"],[0.8888888888888888,\"#fdca26\"],[1.0,\"#f0f921\"]]}],\"mesh3d\":[{\"colorbar\":{\"outlinewidth\":0.0,\"ticks\":\"\"}}],\"parcoords\":[{\"line\":{\"colorbar\":{\"outlinewidth\":0.0,\"ticks\":\"\"}}}],\"pie\":[{\"automargin\":true}],\"scatter\":[{\"marker\":{\"colorbar\":{\"outlinewidth\":0.0,\"ticks\":\"\"}}}],\"scatter3d\":[{\"marker\":{\"colorbar\":{\"outlinewidth\":0.0,\"ticks\":\"\"}},\"line\":{\"colorbar\":{\"outlinewidth\":0.0,\"ticks\":\"\"}}}],\"scattercarpet\":[{\"marker\":{\"colorbar\":{\"outlinewidth\":0.0,\"ticks\":\"\"}}}],\"scattergeo\":[{\"marker\":{\"colorbar\":{\"outlinewidth\":0.0,\"ticks\":\"\"}}}],\"scattergl\":[{\"marker\":{\"colorbar\":{\"outlinewidth\":0.0,\"ticks\":\"\"}}}],\"scattermapbox\":[{\"marker\":{\"colorbar\":{\"outlinewidth\":0.0,\"ticks\":\"\"}}}],\"scatterpolar\":[{\"marker\":{\"colorbar\":{\"outlinewidth\":0.0,\"ticks\":\"\"}}}],\"scatterpolargl\":[{\"marker\":{\"colorbar\":{\"outlinewidth\":0.0,\"ticks\":\"\"}}}],\"scatterternary\":[{\"marker\":{\"colorbar\":{\"outlinewidth\":0.0,\"ticks\":\"\"}}}],\"surface\":[{\"colorbar\":{\"outlinewidth\":0.0,\"ticks\":\"\"},\"colorscale\":[[0.0,\"#0d0887\"],[0.1111111111111111,\"#46039f\"],[0.2222222222222222,\"#7201a8\"],[0.3333333333333333,\"#9c179e\"],[0.4444444444444444,\"#bd3786\"],[0.5555555555555556,\"#d8576b\"],[0.6666666666666666,\"#ed7953\"],[0.7777777777777778,\"#fb9f3a\"],[0.8888888888888888,\"#fdca26\"],[1.0,\"#f0f921\"]]}],\"table\":[{\"cells\":{\"fill\":{\"color\":\"rgba(235, 240, 248, 1.0)\"},\"line\":{\"color\":\"rgba(255, 255, 255, 1.0)\"}},\"header\":{\"fill\":{\"color\":\"rgba(200, 212, 227, 1.0)\"},\"line\":{\"color\":\"rgba(255, 255, 255, 1.0)\"}}}]}},\"xaxis\":{\"title\":{\"text\":\"Protein Anzahl\"}},\"yaxis\":{\"title\":{\"text\":\"P(Anzahl)\"}}};\r\n",
       "            var config = {\"responsive\":true};\r\n",
       "            Plotly.newPlot('afe2e155-2589-4af4-90c6-c79d45342b77', data, layout, config);\r\n",
       "});\r\n",
       "            };\r\n",
       "            if ((typeof(requirejs) !==  typeof(Function)) || (typeof(requirejs.config) !== typeof(Function))) {\r\n",
       "                var script = document.createElement(\"script\");\r\n",
       "                script.setAttribute(\"src\", \"https://cdnjs.cloudflare.com/ajax/libs/require.js/2.3.6/require.min.js\");\r\n",
       "                script.onload = function(){\r\n",
       "                    renderPlotly_afe2e15525894af490c6c79d45342b77();\r\n",
       "                };\r\n",
       "                document.getElementsByTagName(\"head\")[0].appendChild(script);\r\n",
       "            }\r\n",
       "            else {\r\n",
       "                renderPlotly_afe2e15525894af490c6c79d45342b77();\r\n",
       "            }\r\n",
       "</script>\r\n",
       "\n",
       "    \n",
       "</div>    \n"
      ]
     },
     "metadata": {},
     "output_type": "display_data"
    }
   ],
   "source": [
    "let gammaAlpha,gammaBeta = Distributions.Continuous.Gamma.Fit samplesProtein\n",
    "let gammaVerteilung = Distributions.Continuous.Gamma.Init gammaAlpha gammaBeta\n",
    "\n",
    "[\n",
    "    histoProtein\n",
    "    Chart.Line ([|0. .. 500.|], [|0. .. 500.|] |> Array.map gammaVerteilung.PDF)\n",
    "]\n",
    "|> Chart.combine"
   ]
  },
  {
   "cell_type": "markdown",
   "metadata": {},
   "source": [
    "# Besprechung"
   ]
  },
  {
   "cell_type": "markdown",
   "metadata": {},
   "source": [
    "## Regulation\n",
    "\n",
    "Wie bereits in der Einführung erwähnt ist wichtig, das mathematische Modell dem zu untersuchenden System anzupassen. In echten biologischen Systemen werden Gene nicht konstant exprimiert, sondern unterliegen einer Regulation, die von unterschiedlichen Faktoren abhängt. Die einfachste Form der Regulierung ist mittels Repressoren oder Aktivatoren. Beides sind zumeist Proteine, die an spezifische Regionen auf der DNA binden können um die Promotoraktivität eines Gens zu regulieren, wobei die Stärke der Regulierung meist mit der Stärke der Bindung des Regulators zur DNA-Region einhergeht. \n",
    "\n",
    "Bild Promotor\n",
    "\n",
    "### Repressoren\n",
    "\n",
    "Um den Einfluss eines Repressors/Aktivators auf die Produktion von einem Protein zu bestimmen, ist es zuerst nötig sich mit dem Prozess der Bindung des Repressors/Aktivators an die jeweilige Bindestelle, durch die die Proteinprodukion beeinflusst wird, zu beschäftigen. Innerhalb der Zelle bindet und löst sich ein Repressor von seiner Bindestelle in einem kontinuierlichen Prozess. Dies kann als eine Gleichgewichtsreaktion dargestellt werden\n",
    "$$D + R\\quad \\underset{k_{-}}{\\stackrel{k_{+}}{\\rightleftharpoons}} \\quad D_{gebunden}$$\n",
    "wobei $D$ die Konzentration von Bindestellen ohne Repressor,<br> $R$ die Repressorkonzentration,<br> $D_{gebunden}$ die Konzentration von Bindestellen mit Repressor,<br> $k_{+}$ die Geschwindigkeit des Bindens des Repressor an die Bindestelle,<br> und $k_{-}$ die Geschwindigkeit des Loslösens des Repressors von der Bindestelle ist.<br> $D$ und $D_{gebunden}$ zusammen ergeben $D_{total}$ was der Konzentration aller Bindestellen entspricht ($D_{total} = D + D_{gebunden} $).<br>\n",
    "Das Gen wird nur dann stark exprimiert wenn der Repressor nicht gebunden ist, was dem Verhältnis von nicht gebundenen Bindestellen zu der Anzahl von allen Bindestellen entspricht, also $D/D_{total}$. Für eine Differenzialgleichung die beschreibt wie sich die Proteinkonzentration verhält wenn das Gen von einem Repressor reguliert wird ist es daher nötig die Produktionsrate mit dem Verhältnis $D/D_{total}$ zu multiplizieren. Sowohl $D$ als auch $D_{total}$ sind aber nur schwierig experimentell zu bestimmen. Die Repressorkonzentration und die Dissoziationskonstante, also die Konzentration  bei der die Produktion um die Hälfte reduziert ist, sind hingegen vergleichsweise einfach zu bestimmen. Daher ist es sinnvoll das Verhältnis $D/D_{total}$ als einen Zusammenhang von $R$ und der Dissoziationskonstante $K_{D}$ darzustellen. Dies ist möglich durch das Umformen der Gleichgewichtsgleichung die sich aus der Gleichgewichtsreaktion ergibt. Diese ist:\n",
    "$$k_{+}*D*R = k_{-}*D_{gebunden}$$\n",
    "Einsetzten von $D_{total} = D + D_{gebunden} $ um $D_ {gebunden}$ zu ersetzen ergibt:\n",
    "$$k_{+}*D*R = k_{-}*(D_{total}-D)$$\n",
    "Separieren von $D$ und $D_{total}$ von den anderen Faktoren führt zu:\n",
    "$$\\frac {D} {(D_{total}-D)}= \\frac {k_{-}}{k_{+}*R} $$\n",
    "$$\\frac {D/D} {(D_{total}/D-D/D)}= \\frac {k_{-}}{k_{+}*R} $$\n",
    "$$\\frac {1} {(D_{total}/D-1)}= \\frac {k_{-}}{k_{+}*R} $$\n",
    "$$\\frac {D_{total}}{D}-1= \\frac {k_{+}*R}{k_{-}} $$\n",
    "$$\\frac {D_{total}}{D}= \\frac {k_{+}*R}{k_{-}}+1 $$\n",
    "das Verhältnis von $\\frac {k_{-}}{k_{+}}$ kann ersetzt werden durch die Dissoziationskonstante $K_{D}$. Daher folgt:\n",
    "$$\\frac {D_{total}}{D}= \\frac {R}{K_{D}} +1 $$\n",
    "$$\\frac {D}{D_{total}}= \\frac {1}{1+\\frac {R}{K_{D}}} $$\n",
    "\n",
    "Der Term $\\frac {1}{1+\\frac {R}{K_{D}}}$ beschreibt somit den Term durch den die Expressionsrate eines Gens gedämpft wird, wenn es von einem Repressor reguliert wird. Das heißt wenn das Gen x, welches das Protein X produziert, durch den Inhibitor R reguliert wird, kann dies mit folgender Differenzialgleichung beschrieben werden\n",
    "$$ \\frac {dProteinkonzentration} {dt} = \\beta* \\frac {1}{1+ \\frac {R}{K_{D}}}  - \\gamma*Proteinkonzentration$$\n",
    "\n",
    "\n",
    "\n"
   ]
  },
  {
   "cell_type": "markdown",
   "metadata": {},
   "source": [
    "##### Aufgabe 3.10\n",
    "***Setze die Differenzialgleichungen für ein Protein dessen Produktion von einem Repressor reguliert wird in das folgende Model ein (beachte das $\\beta \\textrm{ und } \\gamma$ als \"beta\" und \"gamma\", ohne \"\", eingesetzt werden müssen und nicht als Symbole, und das $K_{D}$ als K_d eingesetzt wird).***\n"
   ]
  },
  {
   "cell_type": "code",
   "execution_count": null,
   "metadata": {
    "dotnet_interactive": {
     "language": "fsharp"
    },
    "vscode": {
     "languageId": "dotnet-interactive.fsharp"
    }
   },
   "outputs": [
    {
     "data": {
      "text/html": [
       "\n",
       "<div>\n",
       "    <div id=\"f9763792-be31-49f0-8095-9feb0deed54c\"><!-- Plotly chart will be drawn inside this DIV --></div>\r\n",
       "<script type=\"text/javascript\">\r\n",
       "\r\n",
       "            var renderPlotly_f9763792be3149f080959feb0deed54c = function() {\r\n",
       "            var fsharpPlotlyRequire = requirejs.config({context:'fsharp-plotly',paths:{plotly:'https://cdn.plot.ly/plotly-2.6.3.min'}}) || require;\r\n",
       "            fsharpPlotlyRequire(['plotly'], function(Plotly) {\r\n",
       "\r\n",
       "            var data = [{\"type\":\"scatter\",\"mode\":\"lines\",\"x\":[1.0,1.0422735078757366,1.0765131872331148,1.1092114559929191,1.1446387385328363,1.1844146918571201,1.2295896333525944,1.2813781168854694,1.3414877266484424,1.4124262324362684],\"y\":[0.0,1.4265998162922884,1.9587992851463176,2.2185873827498845,2.3614441073473618,2.4374630685892638,2.4746624373708337,2.4910050155572883,2.4972948471148437,2.499343125095302],\"marker\":{},\"line\":{\"shape\":\"spline\"},\"name\":\"Unreguliert\"},{\"type\":\"scatter\",\"mode\":\"lines\",\"x\":[1.0,1.0422735078757366,1.0765131872331148,1.1092114559929191,1.1446387385328363,1.1844146918571201,1.2295896333525944,1.2813781168854694,1.3414877266484424,1.4124262324362684],\"y\":[0.0,0.9510665441948588,1.305866190097545,1.4790582551665898,1.574296071564908,1.6249753790595094,1.6497749582472225,1.6606700103715255,1.664863231409896,1.666228750063535],\"marker\":{},\"line\":{\"shape\":\"spline\"},\"name\":\"Reguliert\"}];\r\n",
       "            var layout = {\"width\":600,\"height\":600,\"template\":{\"layout\":{\"title\":{\"x\":0.05},\"font\":{\"color\":\"rgba(42, 63, 95, 1.0)\"},\"paper_bgcolor\":\"rgba(255, 255, 255, 1.0)\",\"plot_bgcolor\":\"rgba(229, 236, 246, 1.0)\",\"autotypenumbers\":\"strict\",\"colorscale\":{\"diverging\":[[0.0,\"#8e0152\"],[0.1,\"#c51b7d\"],[0.2,\"#de77ae\"],[0.3,\"#f1b6da\"],[0.4,\"#fde0ef\"],[0.5,\"#f7f7f7\"],[0.6,\"#e6f5d0\"],[0.7,\"#b8e186\"],[0.8,\"#7fbc41\"],[0.9,\"#4d9221\"],[1.0,\"#276419\"]],\"sequential\":[[0.0,\"#0d0887\"],[0.1111111111111111,\"#46039f\"],[0.2222222222222222,\"#7201a8\"],[0.3333333333333333,\"#9c179e\"],[0.4444444444444444,\"#bd3786\"],[0.5555555555555556,\"#d8576b\"],[0.6666666666666666,\"#ed7953\"],[0.7777777777777778,\"#fb9f3a\"],[0.8888888888888888,\"#fdca26\"],[1.0,\"#f0f921\"]],\"sequentialminus\":[[0.0,\"#0d0887\"],[0.1111111111111111,\"#46039f\"],[0.2222222222222222,\"#7201a8\"],[0.3333333333333333,\"#9c179e\"],[0.4444444444444444,\"#bd3786\"],[0.5555555555555556,\"#d8576b\"],[0.6666666666666666,\"#ed7953\"],[0.7777777777777778,\"#fb9f3a\"],[0.8888888888888888,\"#fdca26\"],[1.0,\"#f0f921\"]]},\"hovermode\":\"closest\",\"hoverlabel\":{\"align\":\"left\"},\"coloraxis\":{\"colorbar\":{\"outlinewidth\":0.0,\"ticks\":\"\"}},\"geo\":{\"showland\":true,\"landcolor\":\"rgba(229, 236, 246, 1.0)\",\"showlakes\":true,\"lakecolor\":\"rgba(255, 255, 255, 1.0)\",\"subunitcolor\":\"rgba(255, 255, 255, 1.0)\",\"bgcolor\":\"rgba(255, 255, 255, 1.0)\"},\"mapbox\":{\"style\":\"light\"},\"polar\":{\"bgcolor\":\"rgba(229, 236, 246, 1.0)\",\"radialaxis\":{\"linecolor\":\"rgba(255, 255, 255, 1.0)\",\"gridcolor\":\"rgba(255, 255, 255, 1.0)\",\"ticks\":\"\"},\"angularaxis\":{\"linecolor\":\"rgba(255, 255, 255, 1.0)\",\"gridcolor\":\"rgba(255, 255, 255, 1.0)\",\"ticks\":\"\"}},\"scene\":{\"xaxis\":{\"ticks\":\"\",\"linecolor\":\"rgba(255, 255, 255, 1.0)\",\"gridcolor\":\"rgba(255, 255, 255, 1.0)\",\"gridwidth\":2.0,\"zerolinecolor\":\"rgba(255, 255, 255, 1.0)\",\"backgroundcolor\":\"rgba(229, 236, 246, 1.0)\",\"showbackground\":true},\"yaxis\":{\"ticks\":\"\",\"linecolor\":\"rgba(255, 255, 255, 1.0)\",\"gridcolor\":\"rgba(255, 255, 255, 1.0)\",\"gridwidth\":2.0,\"zerolinecolor\":\"rgba(255, 255, 255, 1.0)\",\"backgroundcolor\":\"rgba(229, 236, 246, 1.0)\",\"showbackground\":true},\"zaxis\":{\"ticks\":\"\",\"linecolor\":\"rgba(255, 255, 255, 1.0)\",\"gridcolor\":\"rgba(255, 255, 255, 1.0)\",\"gridwidth\":2.0,\"zerolinecolor\":\"rgba(255, 255, 255, 1.0)\",\"backgroundcolor\":\"rgba(229, 236, 246, 1.0)\",\"showbackground\":true}},\"ternary\":{\"aaxis\":{\"ticks\":\"\",\"linecolor\":\"rgba(255, 255, 255, 1.0)\",\"gridcolor\":\"rgba(255, 255, 255, 1.0)\"},\"baxis\":{\"ticks\":\"\",\"linecolor\":\"rgba(255, 255, 255, 1.0)\",\"gridcolor\":\"rgba(255, 255, 255, 1.0)\"},\"caxis\":{\"ticks\":\"\",\"linecolor\":\"rgba(255, 255, 255, 1.0)\",\"gridcolor\":\"rgba(255, 255, 255, 1.0)\"},\"bgcolor\":\"rgba(229, 236, 246, 1.0)\"},\"xaxis\":{\"title\":{\"standoff\":15},\"ticks\":\"\",\"automargin\":true,\"linecolor\":\"rgba(255, 255, 255, 1.0)\",\"gridcolor\":\"rgba(255, 255, 255, 1.0)\",\"zerolinecolor\":\"rgba(255, 255, 255, 1.0)\",\"zerolinewidth\":2.0},\"yaxis\":{\"title\":{\"standoff\":15},\"ticks\":\"\",\"automargin\":true,\"linecolor\":\"rgba(255, 255, 255, 1.0)\",\"gridcolor\":\"rgba(255, 255, 255, 1.0)\",\"zerolinecolor\":\"rgba(255, 255, 255, 1.0)\",\"zerolinewidth\":2.0},\"annotationdefaults\":{\"arrowcolor\":\"#2a3f5f\",\"arrowhead\":0,\"arrowwidth\":1},\"shapedefaults\":{\"line\":{\"color\":\"rgba(42, 63, 95, 1.0)\"}},\"colorway\":[\"rgba(99, 110, 250, 1.0)\",\"rgba(239, 85, 59, 1.0)\",\"rgba(0, 204, 150, 1.0)\",\"rgba(171, 99, 250, 1.0)\",\"rgba(255, 161, 90, 1.0)\",\"rgba(25, 211, 243, 1.0)\",\"rgba(255, 102, 146, 1.0)\",\"rgba(182, 232, 128, 1.0)\",\"rgba(255, 151, 255, 1.0)\",\"rgba(254, 203, 82, 1.0)\"]},\"data\":{\"bar\":[{\"marker\":{\"line\":{\"color\":\"rgba(229, 236, 246, 1.0)\",\"width\":0.5},\"pattern\":{\"fillmode\":\"overlay\",\"size\":10,\"solidity\":0.2}},\"error_x\":{\"color\":\"rgba(42, 63, 95, 1.0)\"},\"error_y\":{\"color\":\"rgba(42, 63, 95, 1.0)\"}}],\"barpolar\":[{\"marker\":{\"line\":{\"color\":\"rgba(229, 236, 246, 1.0)\",\"width\":0.5},\"pattern\":{\"fillmode\":\"overlay\",\"size\":10,\"solidity\":0.2}}}],\"carpet\":[{\"aaxis\":{\"linecolor\":\"rgba(255, 255, 255, 1.0)\",\"gridcolor\":\"rgba(255, 255, 255, 1.0)\",\"endlinecolor\":\"rgba(42, 63, 95, 1.0)\",\"minorgridcolor\":\"rgba(255, 255, 255, 1.0)\",\"startlinecolor\":\"rgba(42, 63, 95, 1.0)\"},\"baxis\":{\"linecolor\":\"rgba(255, 255, 255, 1.0)\",\"gridcolor\":\"rgba(255, 255, 255, 1.0)\",\"endlinecolor\":\"rgba(42, 63, 95, 1.0)\",\"minorgridcolor\":\"rgba(255, 255, 255, 1.0)\",\"startlinecolor\":\"rgba(42, 63, 95, 1.0)\"}}],\"choropleth\":[{\"colorbar\":{\"outlinewidth\":0.0,\"ticks\":\"\"},\"colorscale\":[[0.0,\"#0d0887\"],[0.1111111111111111,\"#46039f\"],[0.2222222222222222,\"#7201a8\"],[0.3333333333333333,\"#9c179e\"],[0.4444444444444444,\"#bd3786\"],[0.5555555555555556,\"#d8576b\"],[0.6666666666666666,\"#ed7953\"],[0.7777777777777778,\"#fb9f3a\"],[0.8888888888888888,\"#fdca26\"],[1.0,\"#f0f921\"]]}],\"contour\":[{\"colorbar\":{\"outlinewidth\":0.0,\"ticks\":\"\"},\"colorscale\":[[0.0,\"#0d0887\"],[0.1111111111111111,\"#46039f\"],[0.2222222222222222,\"#7201a8\"],[0.3333333333333333,\"#9c179e\"],[0.4444444444444444,\"#bd3786\"],[0.5555555555555556,\"#d8576b\"],[0.6666666666666666,\"#ed7953\"],[0.7777777777777778,\"#fb9f3a\"],[0.8888888888888888,\"#fdca26\"],[1.0,\"#f0f921\"]]}],\"contourcarpet\":[{\"colorbar\":{\"outlinewidth\":0.0,\"ticks\":\"\"}}],\"heatmap\":[{\"colorbar\":{\"outlinewidth\":0.0,\"ticks\":\"\"},\"colorscale\":[[0.0,\"#0d0887\"],[0.1111111111111111,\"#46039f\"],[0.2222222222222222,\"#7201a8\"],[0.3333333333333333,\"#9c179e\"],[0.4444444444444444,\"#bd3786\"],[0.5555555555555556,\"#d8576b\"],[0.6666666666666666,\"#ed7953\"],[0.7777777777777778,\"#fb9f3a\"],[0.8888888888888888,\"#fdca26\"],[1.0,\"#f0f921\"]]}],\"heatmapgl\":[{\"colorbar\":{\"outlinewidth\":0.0,\"ticks\":\"\"},\"colorscale\":[[0.0,\"#0d0887\"],[0.1111111111111111,\"#46039f\"],[0.2222222222222222,\"#7201a8\"],[0.3333333333333333,\"#9c179e\"],[0.4444444444444444,\"#bd3786\"],[0.5555555555555556,\"#d8576b\"],[0.6666666666666666,\"#ed7953\"],[0.7777777777777778,\"#fb9f3a\"],[0.8888888888888888,\"#fdca26\"],[1.0,\"#f0f921\"]]}],\"histogram\":[{\"marker\":{\"pattern\":{\"fillmode\":\"overlay\",\"size\":10,\"solidity\":0.2}}}],\"histogram2d\":[{\"colorbar\":{\"outlinewidth\":0.0,\"ticks\":\"\"},\"colorscale\":[[0.0,\"#0d0887\"],[0.1111111111111111,\"#46039f\"],[0.2222222222222222,\"#7201a8\"],[0.3333333333333333,\"#9c179e\"],[0.4444444444444444,\"#bd3786\"],[0.5555555555555556,\"#d8576b\"],[0.6666666666666666,\"#ed7953\"],[0.7777777777777778,\"#fb9f3a\"],[0.8888888888888888,\"#fdca26\"],[1.0,\"#f0f921\"]]}],\"histogram2dcontour\":[{\"colorbar\":{\"outlinewidth\":0.0,\"ticks\":\"\"},\"colorscale\":[[0.0,\"#0d0887\"],[0.1111111111111111,\"#46039f\"],[0.2222222222222222,\"#7201a8\"],[0.3333333333333333,\"#9c179e\"],[0.4444444444444444,\"#bd3786\"],[0.5555555555555556,\"#d8576b\"],[0.6666666666666666,\"#ed7953\"],[0.7777777777777778,\"#fb9f3a\"],[0.8888888888888888,\"#fdca26\"],[1.0,\"#f0f921\"]]}],\"mesh3d\":[{\"colorbar\":{\"outlinewidth\":0.0,\"ticks\":\"\"}}],\"parcoords\":[{\"line\":{\"colorbar\":{\"outlinewidth\":0.0,\"ticks\":\"\"}}}],\"pie\":[{\"automargin\":true}],\"scatter\":[{\"marker\":{\"colorbar\":{\"outlinewidth\":0.0,\"ticks\":\"\"}}}],\"scatter3d\":[{\"marker\":{\"colorbar\":{\"outlinewidth\":0.0,\"ticks\":\"\"}},\"line\":{\"colorbar\":{\"outlinewidth\":0.0,\"ticks\":\"\"}}}],\"scattercarpet\":[{\"marker\":{\"colorbar\":{\"outlinewidth\":0.0,\"ticks\":\"\"}}}],\"scattergeo\":[{\"marker\":{\"colorbar\":{\"outlinewidth\":0.0,\"ticks\":\"\"}}}],\"scattergl\":[{\"marker\":{\"colorbar\":{\"outlinewidth\":0.0,\"ticks\":\"\"}}}],\"scattermapbox\":[{\"marker\":{\"colorbar\":{\"outlinewidth\":0.0,\"ticks\":\"\"}}}],\"scatterpolar\":[{\"marker\":{\"colorbar\":{\"outlinewidth\":0.0,\"ticks\":\"\"}}}],\"scatterpolargl\":[{\"marker\":{\"colorbar\":{\"outlinewidth\":0.0,\"ticks\":\"\"}}}],\"scatterternary\":[{\"marker\":{\"colorbar\":{\"outlinewidth\":0.0,\"ticks\":\"\"}}}],\"surface\":[{\"colorbar\":{\"outlinewidth\":0.0,\"ticks\":\"\"},\"colorscale\":[[0.0,\"#0d0887\"],[0.1111111111111111,\"#46039f\"],[0.2222222222222222,\"#7201a8\"],[0.3333333333333333,\"#9c179e\"],[0.4444444444444444,\"#bd3786\"],[0.5555555555555556,\"#d8576b\"],[0.6666666666666666,\"#ed7953\"],[0.7777777777777778,\"#fb9f3a\"],[0.8888888888888888,\"#fdca26\"],[1.0,\"#f0f921\"]]}],\"table\":[{\"cells\":{\"fill\":{\"color\":\"rgba(235, 240, 248, 1.0)\"},\"line\":{\"color\":\"rgba(255, 255, 255, 1.0)\"}},\"header\":{\"fill\":{\"color\":\"rgba(200, 212, 227, 1.0)\"},\"line\":{\"color\":\"rgba(255, 255, 255, 1.0)\"}}}]}},\"xaxis\":{\"title\":{\"text\":\"Zeit\"}},\"yaxis\":{\"title\":{\"text\":\"Proteinkonzentration\"}}};\r\n",
       "            var config = {\"responsive\":true};\r\n",
       "            Plotly.newPlot('f9763792-be31-49f0-8095-9feb0deed54c', data, layout, config);\r\n",
       "});\r\n",
       "            };\r\n",
       "            if ((typeof(requirejs) !==  typeof(Function)) || (typeof(requirejs.config) !== typeof(Function))) {\r\n",
       "                var script = document.createElement(\"script\");\r\n",
       "                script.setAttribute(\"src\", \"https://cdnjs.cloudflare.com/ajax/libs/require.js/2.3.6/require.min.js\");\r\n",
       "                script.onload = function(){\r\n",
       "                    renderPlotly_f9763792be3149f080959feb0deed54c();\r\n",
       "                };\r\n",
       "                document.getElementsByTagName(\"head\")[0].appendChild(script);\r\n",
       "            }\r\n",
       "            else {\r\n",
       "                renderPlotly_f9763792be3149f080959feb0deed54c();\r\n",
       "            }\r\n",
       "</script>\r\n",
       "\n",
       "    \n",
       "</div>    \n"
      ]
     },
     "metadata": {},
     "output_type": "display_data"
    }
   ],
   "source": [
    "//Konstanten\n",
    "let alpha =    0.5  // Konstante für die Zunahme der Proteinkonzentration (nicht reguliert)\n",
    "let beta =    50.0  // Konstante für die Zunahme der Proteinkonzentration (reguliert)\n",
    "let gamma =   20.0  // Konstante für die Verringerung der Proteinkonzentration\n",
    "let K_d =     20.0  // Repressorkonzentration bei der die Proteinproduktion um die Hälfte reduziert ist\n",
    "let R =       10.0  // Repressorkonzentration\n",
    "\n",
    "\n",
    "// unsere DGL als  Modell (Model)\n",
    "let dP_dt : Model = \n",
    "    fun P t ->\n",
    "\n",
    "        let x = P[0] // Änderung in der Proteinmenge (unreguliert)\n",
    "        let Proteinkonzentration = P[1] // Änderung in der Proteinmenge (reguliert durch Repressor)\n",
    "        //Änderung der Proteinkonzentration ohne einen Repressor (nicht verändern bitte)\n",
    "        let x' = beta - (gamma * x)\n",
    "        // Änderung des Proteinkonzentration unter Einfluss von einem Repressor (hier die Gleichung einsetzen)\n",
    "        let Proteinkonzentration' = beta * 1. / (1. + (R / K_d)) - (gamma * Proteinkonzentration)\n",
    "\n",
    "        [| x'; Proteinkonzentration' |]\n",
    "\n",
    "//Startkonzentrationen\n",
    "let P0 = [| \n",
    "    0.0\n",
    "    0.0  \n",
    "|]\n",
    "\n",
    "// Simulation der Modelfuntkion\n",
    "let Ps = \n",
    "    modelContext.OdeInt(\n",
    "        1., // Startzeitpunkt\n",
    "        P0,\n",
    "        dP_dt\n",
    "    )\n",
    "    |> SolPoints.take 10 // Anzhal der Zeitpunkte\n",
    "    |> SolPoints.memorize \n",
    "\n",
    "//Graphische Darstellung der numerischen Lösung\n",
    "[\n",
    "    let proteins = Ps |> SolPoints.toPoints 1 \n",
    "    proteins\n",
    "    |> Chart.Spline \n",
    "    |> Chart.withTraceInfo(\"Unreguliert\");\n",
    "    let proteinsregulated = SolPoints.toPoints 2 Ps\n",
    "    proteinsregulated\n",
    "    |> Chart.Spline \n",
    "    |> Chart.withTraceInfo(\"Reguliert\");\n",
    "]\n",
    "\n",
    "|> Chart.combine\n",
    "|> Chart.withXAxisStyle(\"Zeit\")\n",
    "|> Chart.withYAxisStyle(\"Proteinkonzentration\")"
   ]
  },
  {
   "cell_type": "markdown",
   "metadata": {},
   "source": [
    "##### Aufgabe 3.11\n",
    "***Erklären Sie, wie sich der Repressor auf die Höhe des Gleichgewichtszustandes der Proteinkonzentration, $Proteinkonzentration_{GGW}$, und auf die Zeit die benötigt wird diesen zu erreichen auswirkt. Verändern sie dafür die Werte von \"R\" falls nötig. Beachten sie das die eingesetzten Werte reale Zahlen sein müssen und nicht ganze Zahlen. Falls sie die Werte verändern möchten, dann kopieren sie den oben stehnden Code Block und setzten sie diesen in den nachfolgenden Code Block ein. Verändern sie dann den Wert von R (R befindet sich im Bereich Konstanten).***\n"
   ]
  },
  {
   "cell_type": "code",
   "execution_count": null,
   "metadata": {
    "dotnet_interactive": {
     "language": "fsharp"
    },
    "vscode": {
     "languageId": "dotnet-interactive.fsharp"
    }
   },
   "outputs": [],
   "source": [
    "//Code hierrein kopieren"
   ]
  },
  {
   "cell_type": "markdown",
   "metadata": {},
   "source": [
    "In diesen Block die Antwort schreiben"
   ]
  },
  {
   "cell_type": "markdown",
   "metadata": {},
   "source": [
    "##### Aufgabe 3.12\n",
    "***In der Realität wird ein Gen schwach exprimiert, auch wenn die Expression des Gens durch einen Repressor gehemmt wird. Ergänze die Differenzialgleichungen für ein Protein dessen Produktion von einem Repressor inhibiert wird um einen Term $\\alpha$ der diese Grundgenexpression wiederspielt. Beachte dabei das $\\alpha$ nicht vom Repressor beeinflusst wird (setze $\\alpha$ als \"alpha\", ohne \"\", in die Gleichung ein).<br>\n",
    "Kopiere dafür den Code Block von oben in den nachfolgenden Code Block und ändere die Differenzialgleichung in diesem.***\n",
    "\n"
   ]
  },
  {
   "cell_type": "code",
   "execution_count": null,
   "metadata": {
    "dotnet_interactive": {
     "language": "fsharp"
    },
    "vscode": {
     "languageId": "dotnet-interactive.fsharp"
    }
   },
   "outputs": [],
   "source": [
    "//Code hierrein kopieren\n",
    "//Anschliesend die Differenzialgleichung um alpha erweitern. Bitte beachten das sie alpha auch zu der Liste der Konstanten hinzufügen müssen\n",
    "//und dementsprechend alpha auch einen Wert zuweisen müssen."
   ]
  },
  {
   "cell_type": "markdown",
   "metadata": {},
   "source": [
    "***Wie wirkt sich $\\alpha$ auf den Gleichgewichtszustand aus und wie ist eine Änderung von $\\alpha$ biologisch zu erklären?***"
   ]
  },
  {
   "cell_type": "markdown",
   "metadata": {},
   "source": [
    "In diesen Block die Antwort schreiben"
   ]
  },
  {
   "cell_type": "markdown",
   "metadata": {},
   "source": [
    "Es folgt eine kurze Besprechung. \n",
    "\n",
    "-----------"
   ]
  },
  {
   "cell_type": "markdown",
   "metadata": {},
   "source": [
    "#### Aktivatoren\n",
    "\n",
    "Hier Formel"
   ]
  },
  {
   "cell_type": "markdown",
   "metadata": {},
   "source": [
    "##### Aufgabe 3.13\n",
    "\n",
    "***Wie unterscheiden sich die Formeln, die die Genexpression unter Repressor- und Aktivatoreinfluss beschreiben? Versuchen Sie, diese Mechanismen zu erklären. Nennen Sie jeweils ein Beispiel für einen Aktivator und einen Repressor.***\n"
   ]
  },
  {
   "cell_type": "markdown",
   "metadata": {},
   "source": [
    "In diesen Block die Antwort schreiben"
   ]
  },
  {
   "cell_type": "markdown",
   "metadata": {},
   "source": [
    "##### Aufgabe 3.14\n",
    "\n",
    "***Setze die Differenzialgleichungen für ein Protein das von einem Aktivator und die Differenzialgleichungen für ein Protein das von einem Repressor reguliert wird in das folgende Model ein (beachten sie dabei, das sie die Proteinkonzentration für die Gleichung die von einem Repressor beeinflusst wird \"Proteinkonzentration2, ohne \"\", nennen und die Proteinkonzentration für die Gleichung die von einem Aktivator beeinflusst wird \"Proteinkonzentration3, ohne \"\", nennen. Bechte ebenfalls das  $\\beta \\textrm{ und } \\gamma$ als \"beta\" und \"gamma\", ohne \"\", eingesetzt werden müssen und nicht als Symbole, und das $K_{D}$ als K_d eingesetzt wird)***"
   ]
  },
  {
   "cell_type": "code",
   "execution_count": null,
   "metadata": {
    "dotnet_interactive": {
     "language": "fsharp"
    },
    "vscode": {
     "languageId": "dotnet-interactive.fsharp"
    }
   },
   "outputs": [
    {
     "data": {
      "text/html": [
       "\n",
       "<div>\n",
       "    <div id=\"f45ce74e-32f2-41b7-9897-8fe32cb1373d\"><!-- Plotly chart will be drawn inside this DIV --></div>\r\n",
       "<script type=\"text/javascript\">\r\n",
       "\r\n",
       "            var renderPlotly_f45ce74e32f241b798978fe32cb1373d = function() {\r\n",
       "            var fsharpPlotlyRequire = requirejs.config({context:'fsharp-plotly',paths:{plotly:'https://cdn.plot.ly/plotly-2.6.3.min'}}) || require;\r\n",
       "            fsharpPlotlyRequire(['plotly'], function(Plotly) {\r\n",
       "\r\n",
       "            var data = [{\"type\":\"scatter\",\"mode\":\"lines\",\"x\":[0.0,0.16754018383426839,0.30385368724207185,0.43426305380611857,0.5756163437764288,0.7343250454156267,0.9145558919561392,1.121130682724521,1.3608287762326567,1.6436030636662713],\"y\":[0.0,1.1345837080029038,1.562253362270299,1.771944138821064,1.8875148073136305,1.949129641156925,1.979340924994992,1.9926446706639112,1.9977797990128363,1.9994582936372451],\"marker\":{},\"line\":{\"shape\":\"spline\"},\"name\":\"Unreguliert\"},{\"type\":\"scatter\",\"mode\":\"lines\",\"x\":[0.0,0.16754018383426839,0.30385368724207185,0.43426305380611857,0.5756163437764288,0.7343250454156267,0.9145558919561392,1.121130682724521,1.3608287762326567,1.6436030636662713],\"y\":[0.0,0.1890972846671507,0.26037556037838316,0.29532402313684397,0.3145858012189384,0.32485494019282085,0.32989015416583206,0.33210744511065193,0.33296329983547274,0.3332430489395409],\"marker\":{},\"line\":{\"shape\":\"spline\"},\"name\":\"Repressor\"},{\"type\":\"scatter\",\"mode\":\"lines\",\"x\":[0.0,0.16754018383426839,0.30385368724207185,0.43426305380611857,0.5756163437764288,0.7343250454156267,0.9145558919561392,1.121130682724521,1.3608287762326567,1.6436030636662713],\"y\":[0.0,0.9454864233357532,1.3018778018919157,1.47662011568422,1.572929006094692,1.624274700964104,1.6494507708291601,1.6605372255532596,1.6648164991773635,1.6662152446977043],\"marker\":{},\"line\":{\"shape\":\"spline\"},\"name\":\"Aktivator\"}];\r\n",
       "            var layout = {\"width\":600,\"height\":600,\"template\":{\"layout\":{\"title\":{\"x\":0.05},\"font\":{\"color\":\"rgba(42, 63, 95, 1.0)\"},\"paper_bgcolor\":\"rgba(255, 255, 255, 1.0)\",\"plot_bgcolor\":\"rgba(229, 236, 246, 1.0)\",\"autotypenumbers\":\"strict\",\"colorscale\":{\"diverging\":[[0.0,\"#8e0152\"],[0.1,\"#c51b7d\"],[0.2,\"#de77ae\"],[0.3,\"#f1b6da\"],[0.4,\"#fde0ef\"],[0.5,\"#f7f7f7\"],[0.6,\"#e6f5d0\"],[0.7,\"#b8e186\"],[0.8,\"#7fbc41\"],[0.9,\"#4d9221\"],[1.0,\"#276419\"]],\"sequential\":[[0.0,\"#0d0887\"],[0.1111111111111111,\"#46039f\"],[0.2222222222222222,\"#7201a8\"],[0.3333333333333333,\"#9c179e\"],[0.4444444444444444,\"#bd3786\"],[0.5555555555555556,\"#d8576b\"],[0.6666666666666666,\"#ed7953\"],[0.7777777777777778,\"#fb9f3a\"],[0.8888888888888888,\"#fdca26\"],[1.0,\"#f0f921\"]],\"sequentialminus\":[[0.0,\"#0d0887\"],[0.1111111111111111,\"#46039f\"],[0.2222222222222222,\"#7201a8\"],[0.3333333333333333,\"#9c179e\"],[0.4444444444444444,\"#bd3786\"],[0.5555555555555556,\"#d8576b\"],[0.6666666666666666,\"#ed7953\"],[0.7777777777777778,\"#fb9f3a\"],[0.8888888888888888,\"#fdca26\"],[1.0,\"#f0f921\"]]},\"hovermode\":\"closest\",\"hoverlabel\":{\"align\":\"left\"},\"coloraxis\":{\"colorbar\":{\"outlinewidth\":0.0,\"ticks\":\"\"}},\"geo\":{\"showland\":true,\"landcolor\":\"rgba(229, 236, 246, 1.0)\",\"showlakes\":true,\"lakecolor\":\"rgba(255, 255, 255, 1.0)\",\"subunitcolor\":\"rgba(255, 255, 255, 1.0)\",\"bgcolor\":\"rgba(255, 255, 255, 1.0)\"},\"mapbox\":{\"style\":\"light\"},\"polar\":{\"bgcolor\":\"rgba(229, 236, 246, 1.0)\",\"radialaxis\":{\"linecolor\":\"rgba(255, 255, 255, 1.0)\",\"gridcolor\":\"rgba(255, 255, 255, 1.0)\",\"ticks\":\"\"},\"angularaxis\":{\"linecolor\":\"rgba(255, 255, 255, 1.0)\",\"gridcolor\":\"rgba(255, 255, 255, 1.0)\",\"ticks\":\"\"}},\"scene\":{\"xaxis\":{\"ticks\":\"\",\"linecolor\":\"rgba(255, 255, 255, 1.0)\",\"gridcolor\":\"rgba(255, 255, 255, 1.0)\",\"gridwidth\":2.0,\"zerolinecolor\":\"rgba(255, 255, 255, 1.0)\",\"backgroundcolor\":\"rgba(229, 236, 246, 1.0)\",\"showbackground\":true},\"yaxis\":{\"ticks\":\"\",\"linecolor\":\"rgba(255, 255, 255, 1.0)\",\"gridcolor\":\"rgba(255, 255, 255, 1.0)\",\"gridwidth\":2.0,\"zerolinecolor\":\"rgba(255, 255, 255, 1.0)\",\"backgroundcolor\":\"rgba(229, 236, 246, 1.0)\",\"showbackground\":true},\"zaxis\":{\"ticks\":\"\",\"linecolor\":\"rgba(255, 255, 255, 1.0)\",\"gridcolor\":\"rgba(255, 255, 255, 1.0)\",\"gridwidth\":2.0,\"zerolinecolor\":\"rgba(255, 255, 255, 1.0)\",\"backgroundcolor\":\"rgba(229, 236, 246, 1.0)\",\"showbackground\":true}},\"ternary\":{\"aaxis\":{\"ticks\":\"\",\"linecolor\":\"rgba(255, 255, 255, 1.0)\",\"gridcolor\":\"rgba(255, 255, 255, 1.0)\"},\"baxis\":{\"ticks\":\"\",\"linecolor\":\"rgba(255, 255, 255, 1.0)\",\"gridcolor\":\"rgba(255, 255, 255, 1.0)\"},\"caxis\":{\"ticks\":\"\",\"linecolor\":\"rgba(255, 255, 255, 1.0)\",\"gridcolor\":\"rgba(255, 255, 255, 1.0)\"},\"bgcolor\":\"rgba(229, 236, 246, 1.0)\"},\"xaxis\":{\"title\":{\"standoff\":15},\"ticks\":\"\",\"automargin\":true,\"linecolor\":\"rgba(255, 255, 255, 1.0)\",\"gridcolor\":\"rgba(255, 255, 255, 1.0)\",\"zerolinecolor\":\"rgba(255, 255, 255, 1.0)\",\"zerolinewidth\":2.0},\"yaxis\":{\"title\":{\"standoff\":15},\"ticks\":\"\",\"automargin\":true,\"linecolor\":\"rgba(255, 255, 255, 1.0)\",\"gridcolor\":\"rgba(255, 255, 255, 1.0)\",\"zerolinecolor\":\"rgba(255, 255, 255, 1.0)\",\"zerolinewidth\":2.0},\"annotationdefaults\":{\"arrowcolor\":\"#2a3f5f\",\"arrowhead\":0,\"arrowwidth\":1},\"shapedefaults\":{\"line\":{\"color\":\"rgba(42, 63, 95, 1.0)\"}},\"colorway\":[\"rgba(99, 110, 250, 1.0)\",\"rgba(239, 85, 59, 1.0)\",\"rgba(0, 204, 150, 1.0)\",\"rgba(171, 99, 250, 1.0)\",\"rgba(255, 161, 90, 1.0)\",\"rgba(25, 211, 243, 1.0)\",\"rgba(255, 102, 146, 1.0)\",\"rgba(182, 232, 128, 1.0)\",\"rgba(255, 151, 255, 1.0)\",\"rgba(254, 203, 82, 1.0)\"]},\"data\":{\"bar\":[{\"marker\":{\"line\":{\"color\":\"rgba(229, 236, 246, 1.0)\",\"width\":0.5},\"pattern\":{\"fillmode\":\"overlay\",\"size\":10,\"solidity\":0.2}},\"error_x\":{\"color\":\"rgba(42, 63, 95, 1.0)\"},\"error_y\":{\"color\":\"rgba(42, 63, 95, 1.0)\"}}],\"barpolar\":[{\"marker\":{\"line\":{\"color\":\"rgba(229, 236, 246, 1.0)\",\"width\":0.5},\"pattern\":{\"fillmode\":\"overlay\",\"size\":10,\"solidity\":0.2}}}],\"carpet\":[{\"aaxis\":{\"linecolor\":\"rgba(255, 255, 255, 1.0)\",\"gridcolor\":\"rgba(255, 255, 255, 1.0)\",\"endlinecolor\":\"rgba(42, 63, 95, 1.0)\",\"minorgridcolor\":\"rgba(255, 255, 255, 1.0)\",\"startlinecolor\":\"rgba(42, 63, 95, 1.0)\"},\"baxis\":{\"linecolor\":\"rgba(255, 255, 255, 1.0)\",\"gridcolor\":\"rgba(255, 255, 255, 1.0)\",\"endlinecolor\":\"rgba(42, 63, 95, 1.0)\",\"minorgridcolor\":\"rgba(255, 255, 255, 1.0)\",\"startlinecolor\":\"rgba(42, 63, 95, 1.0)\"}}],\"choropleth\":[{\"colorbar\":{\"outlinewidth\":0.0,\"ticks\":\"\"},\"colorscale\":[[0.0,\"#0d0887\"],[0.1111111111111111,\"#46039f\"],[0.2222222222222222,\"#7201a8\"],[0.3333333333333333,\"#9c179e\"],[0.4444444444444444,\"#bd3786\"],[0.5555555555555556,\"#d8576b\"],[0.6666666666666666,\"#ed7953\"],[0.7777777777777778,\"#fb9f3a\"],[0.8888888888888888,\"#fdca26\"],[1.0,\"#f0f921\"]]}],\"contour\":[{\"colorbar\":{\"outlinewidth\":0.0,\"ticks\":\"\"},\"colorscale\":[[0.0,\"#0d0887\"],[0.1111111111111111,\"#46039f\"],[0.2222222222222222,\"#7201a8\"],[0.3333333333333333,\"#9c179e\"],[0.4444444444444444,\"#bd3786\"],[0.5555555555555556,\"#d8576b\"],[0.6666666666666666,\"#ed7953\"],[0.7777777777777778,\"#fb9f3a\"],[0.8888888888888888,\"#fdca26\"],[1.0,\"#f0f921\"]]}],\"contourcarpet\":[{\"colorbar\":{\"outlinewidth\":0.0,\"ticks\":\"\"}}],\"heatmap\":[{\"colorbar\":{\"outlinewidth\":0.0,\"ticks\":\"\"},\"colorscale\":[[0.0,\"#0d0887\"],[0.1111111111111111,\"#46039f\"],[0.2222222222222222,\"#7201a8\"],[0.3333333333333333,\"#9c179e\"],[0.4444444444444444,\"#bd3786\"],[0.5555555555555556,\"#d8576b\"],[0.6666666666666666,\"#ed7953\"],[0.7777777777777778,\"#fb9f3a\"],[0.8888888888888888,\"#fdca26\"],[1.0,\"#f0f921\"]]}],\"heatmapgl\":[{\"colorbar\":{\"outlinewidth\":0.0,\"ticks\":\"\"},\"colorscale\":[[0.0,\"#0d0887\"],[0.1111111111111111,\"#46039f\"],[0.2222222222222222,\"#7201a8\"],[0.3333333333333333,\"#9c179e\"],[0.4444444444444444,\"#bd3786\"],[0.5555555555555556,\"#d8576b\"],[0.6666666666666666,\"#ed7953\"],[0.7777777777777778,\"#fb9f3a\"],[0.8888888888888888,\"#fdca26\"],[1.0,\"#f0f921\"]]}],\"histogram\":[{\"marker\":{\"pattern\":{\"fillmode\":\"overlay\",\"size\":10,\"solidity\":0.2}}}],\"histogram2d\":[{\"colorbar\":{\"outlinewidth\":0.0,\"ticks\":\"\"},\"colorscale\":[[0.0,\"#0d0887\"],[0.1111111111111111,\"#46039f\"],[0.2222222222222222,\"#7201a8\"],[0.3333333333333333,\"#9c179e\"],[0.4444444444444444,\"#bd3786\"],[0.5555555555555556,\"#d8576b\"],[0.6666666666666666,\"#ed7953\"],[0.7777777777777778,\"#fb9f3a\"],[0.8888888888888888,\"#fdca26\"],[1.0,\"#f0f921\"]]}],\"histogram2dcontour\":[{\"colorbar\":{\"outlinewidth\":0.0,\"ticks\":\"\"},\"colorscale\":[[0.0,\"#0d0887\"],[0.1111111111111111,\"#46039f\"],[0.2222222222222222,\"#7201a8\"],[0.3333333333333333,\"#9c179e\"],[0.4444444444444444,\"#bd3786\"],[0.5555555555555556,\"#d8576b\"],[0.6666666666666666,\"#ed7953\"],[0.7777777777777778,\"#fb9f3a\"],[0.8888888888888888,\"#fdca26\"],[1.0,\"#f0f921\"]]}],\"mesh3d\":[{\"colorbar\":{\"outlinewidth\":0.0,\"ticks\":\"\"}}],\"parcoords\":[{\"line\":{\"colorbar\":{\"outlinewidth\":0.0,\"ticks\":\"\"}}}],\"pie\":[{\"automargin\":true}],\"scatter\":[{\"marker\":{\"colorbar\":{\"outlinewidth\":0.0,\"ticks\":\"\"}}}],\"scatter3d\":[{\"marker\":{\"colorbar\":{\"outlinewidth\":0.0,\"ticks\":\"\"}},\"line\":{\"colorbar\":{\"outlinewidth\":0.0,\"ticks\":\"\"}}}],\"scattercarpet\":[{\"marker\":{\"colorbar\":{\"outlinewidth\":0.0,\"ticks\":\"\"}}}],\"scattergeo\":[{\"marker\":{\"colorbar\":{\"outlinewidth\":0.0,\"ticks\":\"\"}}}],\"scattergl\":[{\"marker\":{\"colorbar\":{\"outlinewidth\":0.0,\"ticks\":\"\"}}}],\"scattermapbox\":[{\"marker\":{\"colorbar\":{\"outlinewidth\":0.0,\"ticks\":\"\"}}}],\"scatterpolar\":[{\"marker\":{\"colorbar\":{\"outlinewidth\":0.0,\"ticks\":\"\"}}}],\"scatterpolargl\":[{\"marker\":{\"colorbar\":{\"outlinewidth\":0.0,\"ticks\":\"\"}}}],\"scatterternary\":[{\"marker\":{\"colorbar\":{\"outlinewidth\":0.0,\"ticks\":\"\"}}}],\"surface\":[{\"colorbar\":{\"outlinewidth\":0.0,\"ticks\":\"\"},\"colorscale\":[[0.0,\"#0d0887\"],[0.1111111111111111,\"#46039f\"],[0.2222222222222222,\"#7201a8\"],[0.3333333333333333,\"#9c179e\"],[0.4444444444444444,\"#bd3786\"],[0.5555555555555556,\"#d8576b\"],[0.6666666666666666,\"#ed7953\"],[0.7777777777777778,\"#fb9f3a\"],[0.8888888888888888,\"#fdca26\"],[1.0,\"#f0f921\"]]}],\"table\":[{\"cells\":{\"fill\":{\"color\":\"rgba(235, 240, 248, 1.0)\"},\"line\":{\"color\":\"rgba(255, 255, 255, 1.0)\"}},\"header\":{\"fill\":{\"color\":\"rgba(200, 212, 227, 1.0)\"},\"line\":{\"color\":\"rgba(255, 255, 255, 1.0)\"}}}]}},\"xaxis\":{\"title\":{\"text\":\"Zeit\"}},\"yaxis\":{\"title\":{\"text\":\"Proteinkonzentration\"}}};\r\n",
       "            var config = {\"responsive\":true};\r\n",
       "            Plotly.newPlot('f45ce74e-32f2-41b7-9897-8fe32cb1373d', data, layout, config);\r\n",
       "});\r\n",
       "            };\r\n",
       "            if ((typeof(requirejs) !==  typeof(Function)) || (typeof(requirejs.config) !== typeof(Function))) {\r\n",
       "                var script = document.createElement(\"script\");\r\n",
       "                script.setAttribute(\"src\", \"https://cdnjs.cloudflare.com/ajax/libs/require.js/2.3.6/require.min.js\");\r\n",
       "                script.onload = function(){\r\n",
       "                    renderPlotly_f45ce74e32f241b798978fe32cb1373d();\r\n",
       "                };\r\n",
       "                document.getElementsByTagName(\"head\")[0].appendChild(script);\r\n",
       "            }\r\n",
       "            else {\r\n",
       "                renderPlotly_f45ce74e32f241b798978fe32cb1373d();\r\n",
       "            }\r\n",
       "</script>\r\n",
       "\n",
       "    \n",
       "</div>    \n"
      ]
     },
     "metadata": {},
     "output_type": "display_data"
    }
   ],
   "source": [
    "//Konstanten\n",
    "let beta =    10.  // Konstante für die Zunahme der Proteinkonzentration\n",
    "let gamma =   5.   // Konstante für die Verringerung der Proteinkonzentration\n",
    "let K_d =     2.   // Repressorkonzentration bei der die Proteinproduktion um die Hälfte reduziert ist\n",
    "let R =       10.  // Repressorkonzentration\n",
    "let A =       10.  // Aktivatorexpression \n",
    "\n",
    "// unsere DGL als  Modell (Model)\n",
    "let dP_dt : Model = \n",
    "    fun P t ->\n",
    "\n",
    "        let Proteinkonzentration1 = P[0] // Änderung in der Proteinmenge (unreguliert)\n",
    "        let Proteinkonzentration2 = P[1] // Änderung in der Proteinmenge (reguliert durch Repressor)\n",
    "        let Proteinkonzentration3 = P[2] // Änderung in der Proteinmenge (reguliert durch Aktivator)\n",
    "        //Änderung der Proteinkonzentration ohne einen Repressor\n",
    "        let Proteinkonzentration1' = beta - (gamma*Proteinkonzentration1)\n",
    "        // Änderung des Proteinkonzentration unter Einfluss von einem Repressor (hier die Gleichung für die Proteinproduktion reguliert durch einen Repressor einfügen)\n",
    "        let Proteinkonzentration2' = beta * 1./(1.+(R/K_d)) - (gamma*Proteinkonzentration2)\n",
    "        // Änderung des Proteinkonzentration unter Einfluss von einem Aktivator (hier die Gleichung für die Proteinproduktion reguliert durch einen Aktivator einfügen)\n",
    "        let Proteinkonzentration3' = beta * 1./(1.+(K_d/A)) - (gamma*Proteinkonzentration3)\n",
    "\n",
    "        [| Proteinkonzentration1'; Proteinkonzentration2';Proteinkonzentration3' |]\n",
    "\n",
    "//Startkonzentrationen\n",
    "let P0 = [| \n",
    "    0.0\n",
    "    0.0\n",
    "    0.0  \n",
    "|]\n",
    "\n",
    "// Simulation der Modelfuntkion\n",
    "let Ps = \n",
    "    modelContext.OdeInt(\n",
    "        0., // Startzeitpunkt\n",
    "        P0,\n",
    "        dP_dt\n",
    "    )\n",
    "    |> SolPoints.take 10 // Anzahl der Zeitpunkte\n",
    "    |> SolPoints.memorize \n",
    "\n",
    "//Graphische Darstellung der numerischen Lösung\n",
    "[\n",
    "    let proteins = Ps |> SolPoints.toPoints 1 \n",
    "    proteins |> Chart.Spline \n",
    "    |> Chart.withTraceInfo(\"Unreguliert\");\n",
    "    let proteinsregulatedbyrep = Ps |> SolPoints.toPoints 2 \n",
    "    proteinsregulatedbyrep|> Chart.Spline \n",
    "    |> Chart.withTraceInfo(\"Repressor\");\n",
    "    let proteinsregulatedbyakt = Ps |> SolPoints.toPoints 3 \n",
    "    proteinsregulatedbyakt|> Chart.Spline \n",
    "    |> Chart.withTraceInfo(\"Aktivator\");\n",
    "]\n",
    "\n",
    "|> Chart.combine\n",
    "|> Chart.withXAxisStyle(\"Zeit\")\n",
    "|> Chart.withYAxisStyle(\"Proteinkonzentration\")"
   ]
  },
  {
   "cell_type": "markdown",
   "metadata": {},
   "source": [
    "##### Aufgabe 3.15\n",
    "***Aktivator und Repressor führen beide zu einer Verringerung der maximalen Genexpression. Wenn allerdings beide zum selben Ergebnis führen, warum gibt es dann beides? Erklären sie, warum manche Gene eher von einem Aktivator reguliert werden sollten als von einem Repressor und umgekehrt.***\n",
    "\n",
    "***Nutzen sie für die beantwortung dieser Frage Literaturquellen, falls sie die Antwort nicht wissen sollten.\n",
    "Sie können selber nach passenden Literaturquellen suchen oder die nachfolgenden zwei nutzen:***<br>\n",
    "https://www.ncbi.nlm.nih.gov/pmc/articles/PMC388476/ <br>\n",
    "https://www.pnas.org/doi/full/10.1073/pnas.0506610103\n",
    "\n",
    "***Anmerkungen: Die Antworten die beide Quellen auf die Frage geben unterscheidet sich, es ist wissenschaftlich bisher noch nicht geklärt welche der Antworten die korrekte ist (es ist ausreichend wenn sie eine der beiden Antworten geben).***\n"
   ]
  },
  {
   "cell_type": "markdown",
   "metadata": {},
   "source": [
    "Hier die Antwort eintragen."
   ]
  },
  {
   "cell_type": "markdown",
   "metadata": {},
   "source": [
    "Es folgt eine kurze Besprechung. Falls sie zu schnell vorangekommen sind, schauen sie sich bitte die zweite Quelle und Erklärungsmöglichkeit an."
   ]
  },
  {
   "cell_type": "markdown",
   "metadata": {},
   "source": [
    "### Autoregulation\n",
    "\n",
    "Bild\n",
    "\n",
    "#### Negative Autoregulation\n",
    "\n",
    "Neben der Fähigkeit von Repressoren die Produktion von bestimmten Proteinen zu regulieren, sind viele auch dazu in der Lage sich selbst zu regulieren. Ein Beispiel dafür ist der Repressor LacI, der nicht nur die Expression des Lac Operons begrenzt sondern auch seine eigene. Dies wird im folgenden negative Autoregulation genannt, ein anderer Namen dafür ist auch negativer Feedbackloop (wobei dieser Ausdruck allgemeiner ist und auch für mehrere Proteine verwendet werden kann). Die Differenzialgleichung, die diesen Prozess beschreibt ist analog zu der von der Proteinkonzentration die von einem Repressor reguliert wird, nur das die Repressorkonzentration ersetzt wird mit der Proteinkonzentration, also\n",
    "$$ \\frac {dProteinkonzentration} {dt} = \\beta* \\frac {1}{1+ \\frac {Proteinkonzentration}{K_{D}}}  - \\gamma*Proteinkonzentration$$\n",
    "\n",
    "Aber warum sollte ein Protein seine eigene Produktion durch Autoregulation dämpfen? Wäre es nicht deutlich einfach die maximale Reproduktionsrate $\\beta$ zu verringern, da eine Verringerung von $\\beta$ (oder eine Zunahme von $\\gamma$) zu einem geringerem $Proteinkonezntation_{GGW}$ führt (wie bereits bei Frage 2 bearbeitet)? Um diese Frage zu beantworten ist es nötig sich die Zeit anzusehen die benötigt wird um das $Proteinkonezntation_{GGW}$ zu erreichen. Das folgende Model zeigt wie sich die Proteinkonzentration, für ein Protein das ohne weitere Einflüße expremiert wird (also ohne Eigenregulation, oder Repressor/ Aktivator), verhält für verschiedene Werte von $\\beta$ und $\\gamma$. Beachte dabei das wenn $\\beta$ varriert wird (Graph 1) gamma konstant bleibt, und wenn $\\gamma$ varriert wird (Graph 2)  $\\beta$ konstant bleibt.\n"
   ]
  },
  {
   "cell_type": "code",
   "execution_count": null,
   "metadata": {
    "dotnet_interactive": {
     "language": "fsharp"
    },
    "vscode": {
     "languageId": "dotnet-interactive.fsharp"
    }
   },
   "outputs": [
    {
     "data": {
      "text/html": [
       "\n",
       "<div>\n",
       "    <div id=\"4ccf7133-451d-4e63-bad6-cbc737d601d5\"><!-- Plotly chart will be drawn inside this DIV --></div>\r\n",
       "<script type=\"text/javascript\">\r\n",
       "\r\n",
       "            var renderPlotly_4ccf7133451d4e63bad6cbc737d601d5 = function() {\r\n",
       "            var fsharpPlotlyRequire = requirejs.config({context:'fsharp-plotly',paths:{plotly:'https://cdn.plot.ly/plotly-2.6.3.min'}}) || require;\r\n",
       "            fsharpPlotlyRequire(['plotly'], function(Plotly) {\r\n",
       "\r\n",
       "            var data = [{\"type\":\"scatter\",\"mode\":\"lines\",\"x\":[0.0,0.05818463850034437,0.10801321248431038,0.15718845656729766,0.21174404887888298,0.27432484889493725,0.3470308344122129,0.43260596039447397,0.5350363651682183,0.6598265072245851,0.8132648459392408,1.0008467438446806,1.2273728392459453,1.4984201560713353,1.821506213637569],\"y\":[0.0,0.025954913620068906,0.04385311878855047,0.05834301266317583,0.07141133910933947,0.08327859667085524,0.0938071077301669,0.10284884618814477,0.11029529474345638,0.11607366590202539,0.12016805108975773,0.1227182990358915,0.12407794692207506,0.12468810868310008,0.12491422823205672],\"marker\":{},\"line\":{\"shape\":\"spline\"},\"name\":\"beta = 0.5\",\"xaxis\":\"x\",\"yaxis\":\"y\"},{\"type\":\"scatter\",\"mode\":\"lines\",\"x\":[0.0,0.05818463850034437,0.10801321248431038,0.15718845656729766,0.21174404887888298,0.27432484889493725,0.3470308344122129,0.43260596039447397,0.5350363651682183,0.6598265072245851,0.8132648459392408,1.0008467438446806,1.2273728392459453,1.4984201560713353,1.821506213637569],\"y\":[0.0,0.05190982724013781,0.08770623757710094,0.11668602532635167,0.14282267821867894,0.16655719334171049,0.1876142154603338,0.20569769237628954,0.22059058948691276,0.23214733180405078,0.24033610217951545,0.245436598071783,0.24815589384415013,0.24937621736620016,0.24982845646411345],\"marker\":{},\"line\":{\"shape\":\"spline\"},\"name\":\"beta = 1.0\",\"xaxis\":\"x\",\"yaxis\":\"y\"},{\"type\":\"scatter\",\"mode\":\"lines\",\"x\":[0.0,0.05818463850034437,0.10801321248431038,0.15718845656729766,0.21174404887888298,0.27432484889493725,0.3470308344122129,0.43260596039447397,0.5350363651682183,0.6598265072245851,0.8132648459392408,1.0008467438446806,1.2273728392459453,1.4984201560713353,1.821506213637569],\"y\":[0.0,0.10381965448027562,0.17541247515420189,0.23337205065270333,0.2856453564373579,0.33311438668342097,0.3752284309206676,0.4113953847525791,0.4411811789738255,0.46429466360810157,0.4806722043590309,0.490873196143566,0.49631178768830025,0.49875243473240033,0.4996569129282269],\"marker\":{\"color\":\"rgba(34, 139, 34, 1.0)\"},\"line\":{\"shape\":\"spline\"},\"name\":\"beta = 2.0\",\"xaxis\":\"x\",\"yaxis\":\"y\"},{\"type\":\"scatter\",\"mode\":\"lines\",\"x\":[0.0,0.05818463850034437,0.10801321248431038,0.15718845656729766,0.21174404887888298,0.27432484889493725,0.3470308344122129,0.43260596039447397,0.5350363651682183,0.6598265072245851,0.8132648459392408,1.0008467438446806,1.2273728392459453,1.4984201560713353,1.821506213637569],\"y\":[0.0,0.20763930896055124,0.35082495030840377,0.46674410130540667,0.5712907128747158,0.6662287733668419,0.7504568618413352,0.8227907695051582,0.882362357947651,0.9285893272162031,0.9613444087180618,0.981746392287132,0.9926235753766005,0.9975048694648007,0.9993138258564538],\"marker\":{},\"line\":{\"shape\":\"spline\"},\"name\":\"beta = 4.0\",\"xaxis\":\"x\",\"yaxis\":\"y\"},{\"type\":\"scatter\",\"mode\":\"markers\",\"x\":[0.17328679513998632],\"y\":[0.0625],\"marker\":{\"color\":\"rgba(0, 0, 255, 1.0)\"},\"line\":{},\"name\":\"beta = 0.5\",\"xaxis\":\"x\",\"yaxis\":\"y\"},{\"type\":\"scatter\",\"mode\":\"markers\",\"x\":[0.17328679513998632],\"y\":[0.125],\"marker\":{\"color\":\"rgba(255, 0, 0, 1.0)\"},\"line\":{},\"name\":\"beta = 1.0\",\"xaxis\":\"x\",\"yaxis\":\"y\"},{\"type\":\"scatter\",\"mode\":\"markers\",\"x\":[0.17328679513998632],\"y\":[0.25],\"marker\":{\"color\":\"rgba(0, 128, 0, 1.0)\"},\"line\":{},\"name\":\"beta = 2.0\",\"xaxis\":\"x\",\"yaxis\":\"y\"},{\"type\":\"scatter\",\"mode\":\"markers\",\"x\":[0.17328679513998632],\"y\":[0.5],\"marker\":{\"color\":\"rgba(128, 0, 128, 1.0)\"},\"line\":{},\"name\":\"beta = 4.0\",\"xaxis\":\"x\",\"yaxis\":\"y\"},{\"type\":\"scatter\",\"mode\":\"lines\",\"x\":[0.0,0.05818463850034437,0.10801321248431038,0.15718845656729766,0.21174404887888298,0.27432484889493725,0.3470308344122129,0.43260596039447397,0.5350363651682183,0.6598265072245851,0.8132648459392408,1.0008467438446806,1.2273728392459453,1.4984201560713353,1.821506213637569],\"y\":[0.0,0.10985354830298563,0.1942859897403927,0.26975626259196517,0.3452410317998292,0.4222706075443229,0.5004570363731689,0.5790376698750546,0.6570164338261836,0.7327720013107726,0.8033893350578291,0.8648937667114892,0.9141150629630407,0.9500555115236421,0.9738267677657519],\"marker\":{\"color\":\"rgba(148, 0, 211, 1.0)\"},\"line\":{\"shape\":\"spline\"},\"name\":\"gamma = 2.\",\"xaxis\":\"x2\",\"yaxis\":\"y2\"},{\"type\":\"scatter\",\"mode\":\"lines\",\"x\":[0.0,0.05818463850034437,0.10801321248431038,0.15718845656729766,0.21174404887888298,0.27432484889493725,0.3470308344122129,0.43260596039447397,0.5350363651682183,0.6598265072245851,0.8132648459392408,1.0008467438446806,1.2273728392459453,1.4984201560713353,1.821506213637569],\"y\":[0.0,0.10381965448027562,0.17541247515420189,0.23337205065270333,0.2856453564373579,0.33311438668342097,0.3752284309206676,0.4113953847525791,0.4411811789738255,0.46429466360810157,0.4806722043590309,0.490873196143566,0.49631178768830025,0.49875243473240033,0.4996569129282269],\"marker\":{\"color\":\"rgba(34, 139, 34, 1.0)\"},\"line\":{\"shape\":\"spline\"},\"name\":\"gamma = 4.\",\"xaxis\":\"x2\",\"yaxis\":\"y2\"},{\"type\":\"scatter\",\"mode\":\"lines\",\"x\":[0.0,0.05818463850034437,0.10801321248431038,0.15718845656729766,0.21174404887888298,0.27432484889493725,0.3470308344122129,0.43260596039447397,0.5350363651682183,0.6598265072245851,0.8132648459392408,1.0008467438446806,1.2273728392459453,1.4984201560713353,1.821506213637569],\"y\":[0.0,0.0930412592207733,0.1446430613037635,0.17890964352900654,0.2040521825901601,0.22214928142099788,0.2344321372199477,0.24214928291960605,0.2465403499580324,0.2487250007366873,0.24962608354655372,0.2499161482076163,0.249985852934533,0.24999809130107967,0.24999971609822097],\"marker\":{\"color\":\"rgba(255, 0, 0, 1.0)\"},\"line\":{\"shape\":\"spline\"},\"name\":\"gamma = 8.\",\"xaxis\":\"x2\",\"yaxis\":\"y2\"},{\"type\":\"scatter\",\"mode\":\"lines\",\"x\":[0.0,0.05818463850034437,0.10801321248431038,0.15718845656729766,0.21174404887888298,0.27432484889493725,0.3470308344122129,0.43260596039447397,0.5350363651682183,0.6598265072245851,0.8132648459392408,1.0008467438446806,1.2273728392459453,1.4984201560713353,1.821506213637569],\"y\":[0.0,0.07572567978769201,0.10279874933327757,0.11489180642062191,0.12077729904308021,0.12344840285406095,0.1245149568361754,0.12487635316219278,0.12497567660850875,0.12499642491005888,0.12499951195089147,0.12499987221054877,0.12499989518282312,0.1249997123993377,0.12499740766888073],\"marker\":{\"color\":\"rgba(0, 0, 255, 1.0)\"},\"line\":{\"shape\":\"spline\"},\"name\":\"gamma = 16.\",\"xaxis\":\"x2\",\"yaxis\":\"y2\"},{\"type\":\"scatter\",\"mode\":\"markers\",\"x\":[0.34657359027997264],\"y\":[0.5],\"marker\":{\"color\":\"rgba(148, 0, 211, 1.0)\"},\"line\":{},\"name\":\"gamma = 2.\",\"xaxis\":\"x2\",\"yaxis\":\"y2\"},{\"type\":\"scatter\",\"mode\":\"markers\",\"x\":[0.17328679513998632],\"y\":[0.25],\"marker\":{\"color\":\"rgba(0, 128, 0, 1.0)\"},\"line\":{},\"name\":\"gamma = 4.0\",\"xaxis\":\"x2\",\"yaxis\":\"y2\"},{\"type\":\"scatter\",\"mode\":\"markers\",\"x\":[0.08664339756999316],\"y\":[0.125],\"marker\":{\"color\":\"rgba(255, 0, 0, 1.0)\"},\"line\":{},\"name\":\"gamma = 8.0\",\"xaxis\":\"x2\",\"yaxis\":\"y2\"},{\"type\":\"scatter\",\"mode\":\"markers\",\"x\":[0.04332169878499658],\"y\":[0.0625],\"marker\":{\"color\":\"rgba(0, 0, 255, 1.0)\"},\"line\":{},\"name\":\"gamma = 16.0\",\"xaxis\":\"x2\",\"yaxis\":\"y2\"}];\r\n",
       "            var layout = {\"width\":1000,\"height\":500,\"template\":{\"layout\":{\"title\":{\"x\":0.05},\"font\":{\"color\":\"rgba(42, 63, 95, 1.0)\"},\"paper_bgcolor\":\"rgba(255, 255, 255, 1.0)\",\"plot_bgcolor\":\"rgba(229, 236, 246, 1.0)\",\"autotypenumbers\":\"strict\",\"colorscale\":{\"diverging\":[[0.0,\"#8e0152\"],[0.1,\"#c51b7d\"],[0.2,\"#de77ae\"],[0.3,\"#f1b6da\"],[0.4,\"#fde0ef\"],[0.5,\"#f7f7f7\"],[0.6,\"#e6f5d0\"],[0.7,\"#b8e186\"],[0.8,\"#7fbc41\"],[0.9,\"#4d9221\"],[1.0,\"#276419\"]],\"sequential\":[[0.0,\"#0d0887\"],[0.1111111111111111,\"#46039f\"],[0.2222222222222222,\"#7201a8\"],[0.3333333333333333,\"#9c179e\"],[0.4444444444444444,\"#bd3786\"],[0.5555555555555556,\"#d8576b\"],[0.6666666666666666,\"#ed7953\"],[0.7777777777777778,\"#fb9f3a\"],[0.8888888888888888,\"#fdca26\"],[1.0,\"#f0f921\"]],\"sequentialminus\":[[0.0,\"#0d0887\"],[0.1111111111111111,\"#46039f\"],[0.2222222222222222,\"#7201a8\"],[0.3333333333333333,\"#9c179e\"],[0.4444444444444444,\"#bd3786\"],[0.5555555555555556,\"#d8576b\"],[0.6666666666666666,\"#ed7953\"],[0.7777777777777778,\"#fb9f3a\"],[0.8888888888888888,\"#fdca26\"],[1.0,\"#f0f921\"]]},\"hovermode\":\"closest\",\"hoverlabel\":{\"align\":\"left\"},\"coloraxis\":{\"colorbar\":{\"outlinewidth\":0.0,\"ticks\":\"\"}},\"geo\":{\"showland\":true,\"landcolor\":\"rgba(229, 236, 246, 1.0)\",\"showlakes\":true,\"lakecolor\":\"rgba(255, 255, 255, 1.0)\",\"subunitcolor\":\"rgba(255, 255, 255, 1.0)\",\"bgcolor\":\"rgba(255, 255, 255, 1.0)\"},\"mapbox\":{\"style\":\"light\"},\"polar\":{\"bgcolor\":\"rgba(229, 236, 246, 1.0)\",\"radialaxis\":{\"linecolor\":\"rgba(255, 255, 255, 1.0)\",\"gridcolor\":\"rgba(255, 255, 255, 1.0)\",\"ticks\":\"\"},\"angularaxis\":{\"linecolor\":\"rgba(255, 255, 255, 1.0)\",\"gridcolor\":\"rgba(255, 255, 255, 1.0)\",\"ticks\":\"\"}},\"scene\":{\"xaxis\":{\"ticks\":\"\",\"linecolor\":\"rgba(255, 255, 255, 1.0)\",\"gridcolor\":\"rgba(255, 255, 255, 1.0)\",\"gridwidth\":2.0,\"zerolinecolor\":\"rgba(255, 255, 255, 1.0)\",\"backgroundcolor\":\"rgba(229, 236, 246, 1.0)\",\"showbackground\":true},\"yaxis\":{\"ticks\":\"\",\"linecolor\":\"rgba(255, 255, 255, 1.0)\",\"gridcolor\":\"rgba(255, 255, 255, 1.0)\",\"gridwidth\":2.0,\"zerolinecolor\":\"rgba(255, 255, 255, 1.0)\",\"backgroundcolor\":\"rgba(229, 236, 246, 1.0)\",\"showbackground\":true},\"zaxis\":{\"ticks\":\"\",\"linecolor\":\"rgba(255, 255, 255, 1.0)\",\"gridcolor\":\"rgba(255, 255, 255, 1.0)\",\"gridwidth\":2.0,\"zerolinecolor\":\"rgba(255, 255, 255, 1.0)\",\"backgroundcolor\":\"rgba(229, 236, 246, 1.0)\",\"showbackground\":true}},\"ternary\":{\"aaxis\":{\"ticks\":\"\",\"linecolor\":\"rgba(255, 255, 255, 1.0)\",\"gridcolor\":\"rgba(255, 255, 255, 1.0)\"},\"baxis\":{\"ticks\":\"\",\"linecolor\":\"rgba(255, 255, 255, 1.0)\",\"gridcolor\":\"rgba(255, 255, 255, 1.0)\"},\"caxis\":{\"ticks\":\"\",\"linecolor\":\"rgba(255, 255, 255, 1.0)\",\"gridcolor\":\"rgba(255, 255, 255, 1.0)\"},\"bgcolor\":\"rgba(229, 236, 246, 1.0)\"},\"xaxis\":{\"title\":{\"standoff\":15},\"ticks\":\"\",\"automargin\":true,\"linecolor\":\"rgba(255, 255, 255, 1.0)\",\"gridcolor\":\"rgba(255, 255, 255, 1.0)\",\"zerolinecolor\":\"rgba(255, 255, 255, 1.0)\",\"zerolinewidth\":2.0},\"yaxis\":{\"title\":{\"standoff\":15},\"ticks\":\"\",\"automargin\":true,\"linecolor\":\"rgba(255, 255, 255, 1.0)\",\"gridcolor\":\"rgba(255, 255, 255, 1.0)\",\"zerolinecolor\":\"rgba(255, 255, 255, 1.0)\",\"zerolinewidth\":2.0},\"annotationdefaults\":{\"arrowcolor\":\"#2a3f5f\",\"arrowhead\":0,\"arrowwidth\":1},\"shapedefaults\":{\"line\":{\"color\":\"rgba(42, 63, 95, 1.0)\"}},\"colorway\":[\"rgba(99, 110, 250, 1.0)\",\"rgba(239, 85, 59, 1.0)\",\"rgba(0, 204, 150, 1.0)\",\"rgba(171, 99, 250, 1.0)\",\"rgba(255, 161, 90, 1.0)\",\"rgba(25, 211, 243, 1.0)\",\"rgba(255, 102, 146, 1.0)\",\"rgba(182, 232, 128, 1.0)\",\"rgba(255, 151, 255, 1.0)\",\"rgba(254, 203, 82, 1.0)\"]},\"data\":{\"bar\":[{\"marker\":{\"line\":{\"color\":\"rgba(229, 236, 246, 1.0)\",\"width\":0.5},\"pattern\":{\"fillmode\":\"overlay\",\"size\":10,\"solidity\":0.2}},\"error_x\":{\"color\":\"rgba(42, 63, 95, 1.0)\"},\"error_y\":{\"color\":\"rgba(42, 63, 95, 1.0)\"}}],\"barpolar\":[{\"marker\":{\"line\":{\"color\":\"rgba(229, 236, 246, 1.0)\",\"width\":0.5},\"pattern\":{\"fillmode\":\"overlay\",\"size\":10,\"solidity\":0.2}}}],\"carpet\":[{\"aaxis\":{\"linecolor\":\"rgba(255, 255, 255, 1.0)\",\"gridcolor\":\"rgba(255, 255, 255, 1.0)\",\"endlinecolor\":\"rgba(42, 63, 95, 1.0)\",\"minorgridcolor\":\"rgba(255, 255, 255, 1.0)\",\"startlinecolor\":\"rgba(42, 63, 95, 1.0)\"},\"baxis\":{\"linecolor\":\"rgba(255, 255, 255, 1.0)\",\"gridcolor\":\"rgba(255, 255, 255, 1.0)\",\"endlinecolor\":\"rgba(42, 63, 95, 1.0)\",\"minorgridcolor\":\"rgba(255, 255, 255, 1.0)\",\"startlinecolor\":\"rgba(42, 63, 95, 1.0)\"}}],\"choropleth\":[{\"colorbar\":{\"outlinewidth\":0.0,\"ticks\":\"\"},\"colorscale\":[[0.0,\"#0d0887\"],[0.1111111111111111,\"#46039f\"],[0.2222222222222222,\"#7201a8\"],[0.3333333333333333,\"#9c179e\"],[0.4444444444444444,\"#bd3786\"],[0.5555555555555556,\"#d8576b\"],[0.6666666666666666,\"#ed7953\"],[0.7777777777777778,\"#fb9f3a\"],[0.8888888888888888,\"#fdca26\"],[1.0,\"#f0f921\"]]}],\"contour\":[{\"colorbar\":{\"outlinewidth\":0.0,\"ticks\":\"\"},\"colorscale\":[[0.0,\"#0d0887\"],[0.1111111111111111,\"#46039f\"],[0.2222222222222222,\"#7201a8\"],[0.3333333333333333,\"#9c179e\"],[0.4444444444444444,\"#bd3786\"],[0.5555555555555556,\"#d8576b\"],[0.6666666666666666,\"#ed7953\"],[0.7777777777777778,\"#fb9f3a\"],[0.8888888888888888,\"#fdca26\"],[1.0,\"#f0f921\"]]}],\"contourcarpet\":[{\"colorbar\":{\"outlinewidth\":0.0,\"ticks\":\"\"}}],\"heatmap\":[{\"colorbar\":{\"outlinewidth\":0.0,\"ticks\":\"\"},\"colorscale\":[[0.0,\"#0d0887\"],[0.1111111111111111,\"#46039f\"],[0.2222222222222222,\"#7201a8\"],[0.3333333333333333,\"#9c179e\"],[0.4444444444444444,\"#bd3786\"],[0.5555555555555556,\"#d8576b\"],[0.6666666666666666,\"#ed7953\"],[0.7777777777777778,\"#fb9f3a\"],[0.8888888888888888,\"#fdca26\"],[1.0,\"#f0f921\"]]}],\"heatmapgl\":[{\"colorbar\":{\"outlinewidth\":0.0,\"ticks\":\"\"},\"colorscale\":[[0.0,\"#0d0887\"],[0.1111111111111111,\"#46039f\"],[0.2222222222222222,\"#7201a8\"],[0.3333333333333333,\"#9c179e\"],[0.4444444444444444,\"#bd3786\"],[0.5555555555555556,\"#d8576b\"],[0.6666666666666666,\"#ed7953\"],[0.7777777777777778,\"#fb9f3a\"],[0.8888888888888888,\"#fdca26\"],[1.0,\"#f0f921\"]]}],\"histogram\":[{\"marker\":{\"pattern\":{\"fillmode\":\"overlay\",\"size\":10,\"solidity\":0.2}}}],\"histogram2d\":[{\"colorbar\":{\"outlinewidth\":0.0,\"ticks\":\"\"},\"colorscale\":[[0.0,\"#0d0887\"],[0.1111111111111111,\"#46039f\"],[0.2222222222222222,\"#7201a8\"],[0.3333333333333333,\"#9c179e\"],[0.4444444444444444,\"#bd3786\"],[0.5555555555555556,\"#d8576b\"],[0.6666666666666666,\"#ed7953\"],[0.7777777777777778,\"#fb9f3a\"],[0.8888888888888888,\"#fdca26\"],[1.0,\"#f0f921\"]]}],\"histogram2dcontour\":[{\"colorbar\":{\"outlinewidth\":0.0,\"ticks\":\"\"},\"colorscale\":[[0.0,\"#0d0887\"],[0.1111111111111111,\"#46039f\"],[0.2222222222222222,\"#7201a8\"],[0.3333333333333333,\"#9c179e\"],[0.4444444444444444,\"#bd3786\"],[0.5555555555555556,\"#d8576b\"],[0.6666666666666666,\"#ed7953\"],[0.7777777777777778,\"#fb9f3a\"],[0.8888888888888888,\"#fdca26\"],[1.0,\"#f0f921\"]]}],\"mesh3d\":[{\"colorbar\":{\"outlinewidth\":0.0,\"ticks\":\"\"}}],\"parcoords\":[{\"line\":{\"colorbar\":{\"outlinewidth\":0.0,\"ticks\":\"\"}}}],\"pie\":[{\"automargin\":true}],\"scatter\":[{\"marker\":{\"colorbar\":{\"outlinewidth\":0.0,\"ticks\":\"\"}}}],\"scatter3d\":[{\"marker\":{\"colorbar\":{\"outlinewidth\":0.0,\"ticks\":\"\"}},\"line\":{\"colorbar\":{\"outlinewidth\":0.0,\"ticks\":\"\"}}}],\"scattercarpet\":[{\"marker\":{\"colorbar\":{\"outlinewidth\":0.0,\"ticks\":\"\"}}}],\"scattergeo\":[{\"marker\":{\"colorbar\":{\"outlinewidth\":0.0,\"ticks\":\"\"}}}],\"scattergl\":[{\"marker\":{\"colorbar\":{\"outlinewidth\":0.0,\"ticks\":\"\"}}}],\"scattermapbox\":[{\"marker\":{\"colorbar\":{\"outlinewidth\":0.0,\"ticks\":\"\"}}}],\"scatterpolar\":[{\"marker\":{\"colorbar\":{\"outlinewidth\":0.0,\"ticks\":\"\"}}}],\"scatterpolargl\":[{\"marker\":{\"colorbar\":{\"outlinewidth\":0.0,\"ticks\":\"\"}}}],\"scatterternary\":[{\"marker\":{\"colorbar\":{\"outlinewidth\":0.0,\"ticks\":\"\"}}}],\"surface\":[{\"colorbar\":{\"outlinewidth\":0.0,\"ticks\":\"\"},\"colorscale\":[[0.0,\"#0d0887\"],[0.1111111111111111,\"#46039f\"],[0.2222222222222222,\"#7201a8\"],[0.3333333333333333,\"#9c179e\"],[0.4444444444444444,\"#bd3786\"],[0.5555555555555556,\"#d8576b\"],[0.6666666666666666,\"#ed7953\"],[0.7777777777777778,\"#fb9f3a\"],[0.8888888888888888,\"#fdca26\"],[1.0,\"#f0f921\"]]}],\"table\":[{\"cells\":{\"fill\":{\"color\":\"rgba(235, 240, 248, 1.0)\"},\"line\":{\"color\":\"rgba(255, 255, 255, 1.0)\"}},\"header\":{\"fill\":{\"color\":\"rgba(200, 212, 227, 1.0)\"},\"line\":{\"color\":\"rgba(255, 255, 255, 1.0)\"}}}]}},\"title\":{\"text\":\"Veränderung von beta                                       Veränderung von gamma\"},\"xaxis\":{\"title\":{\"text\":\"Zeit\"}},\"yaxis\":{\"title\":{\"text\":\"Proteinkonzentration\"}},\"xaxis2\":{\"title\":{\"text\":\"Zeit\"}},\"yaxis2\":{\"title\":{\"text\":\"Proteinkonzentration\"}},\"grid\":{\"rows\":1,\"columns\":2,\"pattern\":\"independent\"}};\r\n",
       "            var config = {\"responsive\":true};\r\n",
       "            Plotly.newPlot('4ccf7133-451d-4e63-bad6-cbc737d601d5', data, layout, config);\r\n",
       "});\r\n",
       "            };\r\n",
       "            if ((typeof(requirejs) !==  typeof(Function)) || (typeof(requirejs.config) !== typeof(Function))) {\r\n",
       "                var script = document.createElement(\"script\");\r\n",
       "                script.setAttribute(\"src\", \"https://cdnjs.cloudflare.com/ajax/libs/require.js/2.3.6/require.min.js\");\r\n",
       "                script.onload = function(){\r\n",
       "                    renderPlotly_4ccf7133451d4e63bad6cbc737d601d5();\r\n",
       "                };\r\n",
       "                document.getElementsByTagName(\"head\")[0].appendChild(script);\r\n",
       "            }\r\n",
       "            else {\r\n",
       "                renderPlotly_4ccf7133451d4e63bad6cbc737d601d5();\r\n",
       "            }\r\n",
       "</script>\r\n",
       "\n",
       "    \n",
       "</div>    \n"
      ]
     },
     "metadata": {},
     "output_type": "display_data"
    }
   ],
   "source": [
    "//Bitte nichts ändern!\n",
    "\n",
    "//Konstanten\n",
    "let beta1 =  0.5// Konstante für die Zunahme der Proteinkonzentration\n",
    "let beta2 =  1. // Konstante für die Zunahme der Proteinkonzentration\n",
    "let beta3 =  2. // Konstante für die Zunahme der Proteinkonzentration\n",
    "let beta4 =  4. // Konstante für die Zunahme der Proteinkonzentration\n",
    "let gamma1 = 2. // Konstante für die Verringerung der Proteinkonzentration\n",
    "let gamma2 = 4. // Konstante für die Verringerung der Proteinkonzentration\n",
    "let gamma3 = 8. // Konstante für die Verringerung der Proteinkonzentration\n",
    "let gamma4 = 16.// Konstante für die Verringerung der Proteinkonzentration\n",
    "\n",
    "\n",
    "// unsere DGL als  Modell (Model)\n",
    "let dP_dt : Model = \n",
    "    fun P t ->\n",
    "        // Veränderung der Proteinmenge\n",
    "        let Proteinkonzentration1 = P[0] // Änderung in der Proteinmenge\n",
    "        let Proteinkonzentration2 = P[1] // Änderung in der Proteinmenge\n",
    "        let Proteinkonzentration3 = P[2] // Änderung in der Proteinmenge\n",
    "        let Proteinkonzentration4 = P[3] // Änderung in der Proteinmenge\n",
    "\n",
    "        let Proteinkonzentration5 = P[4] // Änderung in der Proteinmenge\n",
    "        let Proteinkonzentration6 = P[5] // Änderung in der Proteinmenge\n",
    "        let Proteinkonzentration7 = P[6] // Änderung in der Proteinmenge\n",
    "        let Proteinkonzentration8 = P[7] // Änderung in der Proteinmenge\n",
    "        // Modelfunktion\n",
    "        let Proteinkonzentration1' = beta1 - gamma2 * Proteinkonzentration1 //DGL für ein unreguliertes Protein\n",
    "        let Proteinkonzentration2' = beta2 - gamma2 * Proteinkonzentration2 //DGL für ein unreguliertes Protein\n",
    "        let Proteinkonzentration3' = beta3 - gamma2 * Proteinkonzentration3 //DGL für ein unreguliertes Protein\n",
    "        let Proteinkonzentration4' = beta4 - gamma2 * Proteinkonzentration4 //DGL für ein unreguliertes Protein\n",
    " \n",
    "        let Proteinkonzentration5' = beta3 - gamma1 * Proteinkonzentration5 //DGL für ein unreguliertes Protein\n",
    "        let Proteinkonzentration6' = beta3 - gamma2 * Proteinkonzentration6 //DGL für ein unreguliertes Protein\n",
    "        let Proteinkonzentration7' = beta3 - gamma3 * Proteinkonzentration7 //DGL für ein unreguliertes Protein\n",
    "        let Proteinkonzentration8' = beta3 - gamma4 * Proteinkonzentration8 //DGL für ein unreguliertes Protein\n",
    "\n",
    "        [|Proteinkonzentration1';Proteinkonzentration2';Proteinkonzentration3';Proteinkonzentration4';Proteinkonzentration5';Proteinkonzentration6';Proteinkonzentration7';Proteinkonzentration8' |]\n",
    "\n",
    "//Startkonzentrationen\n",
    "let P0 = [| \n",
    "    0.0 \n",
    "    0.0 \n",
    "    0.0 \n",
    "    0.0 \n",
    "    0.0\n",
    "    0.0\n",
    "    0.0\n",
    "    0.0\n",
    "|]\n",
    "\n",
    "// Simulation der Modelfuntkion\n",
    "let Ps = \n",
    "    modelContext.OdeInt(\n",
    "        0., // Startzeitpunkt\n",
    "        P0,\n",
    "        dP_dt\n",
    "    )\n",
    "    |> SolPoints.take 15 // Anzahl der Zeitpunkte\n",
    "    |> SolPoints.memorize \n",
    "\n",
    "// Generierung der Punkte für das Kennzeichnen der Antwortszeit\n",
    "let t0 = log(2.) / gamma2\n",
    "let x1 = beta1 / gamma2 * (0.5)\n",
    "let x2 = beta2 / gamma2 * (0.5)\n",
    "let x3 = beta3 / gamma2 * (0.5)\n",
    "let x4 = beta4 / gamma2 * (0.5)\n",
    "let t1 = log(2.) / gamma1\n",
    "let t2 = log(2.) / gamma2\n",
    "let t3 = log(2.) / gamma3\n",
    "let t4 = log(2.) / gamma4\n",
    "let x5 = beta3 / gamma1 * (0.5)\n",
    "let x6 = beta3 / gamma2 * (0.5)\n",
    "let x7 = beta3 / gamma3 * (0.5)\n",
    "let x8 = beta3 / gamma4 * (0.5)\n",
    "\n",
    "//Graphische Darstellung der numerischen Lösung\n",
    "[\n",
    "    [\n",
    "        let proteins = Ps |> SolPoints.toPoints 1 \n",
    "        proteins |> Chart.Spline \n",
    "        |> Chart.withTraceInfo(\"beta = 0.5\");\n",
    "        let proteinsregulatedbyrep = Ps |> SolPoints.toPoints 2 \n",
    "        proteinsregulatedbyrep|> Chart.Spline \n",
    "        |> Chart.withTraceInfo(\"beta = 1.0\");\n",
    "        let proteinsregulatedbyakt = Ps |> SolPoints.toPoints 3 \n",
    "        proteinsregulatedbyakt|> Chart.Spline \n",
    "        |> Chart.withTraceInfo(\"beta = 2.0\");\n",
    "        |> Chart.withMarkerStyle(Color = Color.fromKeyword ForestGreen)\n",
    "        let proteinsregulatedbyakt = Ps |> SolPoints.toPoints 4 \n",
    "        proteinsregulatedbyakt|> Chart.Spline \n",
    "        |> Chart.withTraceInfo(\"beta = 4.0\");\n",
    "        [t0,x1]\n",
    "        |> Chart.Point\n",
    "        |> Chart.withMarkerStyle(Color = Color.fromKeyword Blue)\n",
    "        |> Chart.withTraceInfo(\"beta = 0.5\");\n",
    "        [t0,x2]\n",
    "        |> Chart.Point\n",
    "        |> Chart.withMarkerStyle(Color = Color.fromKeyword Red)\n",
    "        |> Chart.withTraceInfo(\"beta = 1.0\");\n",
    "        [t0,x3]\n",
    "        |> Chart.Point\n",
    "        |> Chart.withMarkerStyle(Color = Color.fromKeyword Green)\n",
    "        |> Chart.withTraceInfo(\"beta = 2.0\");\n",
    "        [t0,x4]\n",
    "        |> Chart.Point \n",
    "        |> Chart.withMarkerStyle(Color = Color.fromKeyword Purple)\n",
    "        |> Chart.withTraceInfo(\"beta = 4.0\");\n",
    "    ]\n",
    "    |> Chart.combine\n",
    "    |> Chart.withTitle @\"Veränderung von beta\"\n",
    "    |> Chart.withXAxisStyle(\"Zeit\")\n",
    "    |> Chart.withYAxisStyle(\"Proteinkonzentration\")\n",
    "\n",
    "    [\n",
    "        let proteins = Ps |> SolPoints.toPoints 5 \n",
    "        proteins \n",
    "        |> Chart.Spline \n",
    "        |> Chart.withTraceInfo(\"gamma = 2.\");\n",
    "        |> Chart.withMarkerStyle(Color = Color.fromKeyword DarkViolet)\n",
    "        let proteinsregulatedbyrep = Ps |> SolPoints.toPoints 6 \n",
    "        proteinsregulatedbyrep\n",
    "        |> Chart.Spline \n",
    "        |> Chart.withTraceInfo(\"gamma = 4.\");\n",
    "        |> Chart.withMarkerStyle(Color = Color.fromKeyword ForestGreen)\n",
    "        let proteinsregulatedbyakt = Ps |> SolPoints.toPoints 7 \n",
    "        proteinsregulatedbyakt\n",
    "        |> Chart.Spline \n",
    "        |> Chart.withTraceInfo(\"gamma = 8.\");\n",
    "        |> Chart.withMarkerStyle(Color = Color.fromKeyword Red)\n",
    "        let proteinsregulatedbyakt = Ps |> SolPoints.toPoints 8 \n",
    "        proteinsregulatedbyakt\n",
    "        |> Chart.Spline \n",
    "        |> Chart.withTraceInfo(\"gamma = 16.\");\n",
    "        |> Chart.withMarkerStyle(Color = Color.fromKeyword Blue)\n",
    "        [t1,x5]\n",
    "        |> Chart.Point\n",
    "        |> Chart.withMarkerStyle(Color = Color.fromKeyword DarkViolet)\n",
    "        |> Chart.withTraceInfo(\"gamma = 2.\");\n",
    "        [t2,x6]\n",
    "        |> Chart.Point\n",
    "        |> Chart.withMarkerStyle(Color = Color.fromKeyword Green)\n",
    "        |> Chart.withTraceInfo(\"gamma = 4.0\");\n",
    "        [t3,x7]\n",
    "        |> Chart.Point\n",
    "        |> Chart.withMarkerStyle(Color = Color.fromKeyword Red)\n",
    "        |> Chart.withTraceInfo(\"gamma = 8.0\");\n",
    "        [t4,x8]\n",
    "        |> Chart.Point \n",
    "        |> Chart.withMarkerStyle(Color = Color.fromKeyword Blue)\n",
    "        |> Chart.withTraceInfo(\"gamma = 16.0\");\n",
    "    ]\n",
    "    |> Chart.combine\n",
    "    |> Chart.withTitle @\"Veränderung von beta                                       Veränderung von gamma\"\n",
    "    |> Chart.withXAxisStyle(\"Zeit\")\n",
    "    |> Chart.withYAxisStyle(\"Proteinkonzentration\")\n",
    "\n",
    "]\n",
    "|> Chart.Grid (1,2)\n",
    "|> Chart.withSize(1000,500)"
   ]
  },
  {
   "cell_type": "markdown",
   "metadata": {},
   "source": [
    "Die Graphen zeigen, dass sowohl die Abnahme von $\\beta$, als auch die Zunahme von $\\gamma$ zu einer Verringerung der $Proteinkonzentration_{GGW}$ führen. Allerdings unterscheidet sich die Form der Graphen erheblich. \n",
    "Acht Punkte sind makiert, die diesen Fakt unterstreichen. Diese repräsentieren die Antwortszeit, welche beschreibt wie lange es dauert, bis der Wert der $Proteinkonzentration (t)$ gleich dem Wert $\\frac {1}{2}*Proteinkonzentration_{GGW}$ ist. \n",
    "Die Betrachtung der Antwortszeit zeigt, dass eine Veränderung von $\\beta$ nicht zu einer Verkürzung der Antwortszeit führt, während eine Veränderung von $\\gamma$ zu einer Verringerung der Antwortszeit führt. Die Formel für die Berechnung der Antwortszeit ist\n",
    "$$ T_{\\frac {1}{2}} = \\frac  {\\log (2)}{\\gamma}$$\n",
    "wobei $T_{\\frac {1}{2}}$ die Antwortszeit repräsentiert. Dies bedeutet, wenn ein Protein möglichst schnell produziert werden soll, sollte der Wert für $\\gamma$ möglichst groß sein (Anmerkung: Die gezeigte Formel gilt nur für unregulierte Proteine)."
   ]
  },
  {
   "cell_type": "markdown",
   "metadata": {},
   "source": [
    "##### Aufgabe 3.16\n",
    "\n",
    "***Überlege was ein hoher Wert für $\\gamma$ im Bezug auf die Proteinstabilität bedeutet (zur Erinnerung $\\gamma$ beschreibt sowohl den aktiven Abbau, als auch die Verteilung in der Zelle beim Wachstum).\n",
    "Tipp: Falls sie Probleme mit dieser Aufgabe haben, überlegen sie sich welche Faktoren einen schnellen beziehungsweise langsamen Abbau von einem Protein begünstigen.***\n",
    "\n"
   ]
  },
  {
   "cell_type": "markdown",
   "metadata": {},
   "source": [
    "Bitte hier die Antwort eingeben."
   ]
  },
  {
   "cell_type": "markdown",
   "metadata": {},
   "source": [
    "##### Aufgabe 3.17\n",
    "\n",
    "***Betrachten sie nun den Graphen für ein Protein, das sich selbst negativ autoreguliert.\n",
    "Setzen sie die Gleichung für negative Autoregulation in die nachfolgende Simulation ein (Bitte beachten sie, dass sie die Proteinkonzentration als \"Proteinkonzentration2\" einsetzten müssen, ohne \"\". Beachten sie ebenfalls das $\\beta \\textrm{ und } \\gamma$ als \"beta\" und \"gamma\", ohne \"\", eingesetzt werden müssen und nicht als Symbole, und das $K_{D}$ als K_d eingesetzt wird).***"
   ]
  },
  {
   "cell_type": "code",
   "execution_count": null,
   "metadata": {
    "dotnet_interactive": {
     "language": "fsharp"
    },
    "vscode": {
     "languageId": "dotnet-interactive.fsharp"
    }
   },
   "outputs": [
    {
     "data": {
      "text/html": [
       "\n",
       "<div>\n",
       "    <div id=\"262168b4-74b1-4fad-94ec-b9bdf859e31c\"><!-- Plotly chart will be drawn inside this DIV --></div>\r\n",
       "<script type=\"text/javascript\">\r\n",
       "\r\n",
       "            var renderPlotly_262168b474b14fad94ecb9bdf859e31c = function() {\r\n",
       "            var fsharpPlotlyRequire = requirejs.config({context:'fsharp-plotly',paths:{plotly:'https://cdn.plot.ly/plotly-2.6.3.min'}}) || require;\r\n",
       "            fsharpPlotlyRequire(['plotly'], function(Plotly) {\r\n",
       "\r\n",
       "            var data = [{\"type\":\"scatter\",\"mode\":\"lines\",\"x\":[0.0,0.3526489699241825,0.6621281536214076,0.9838321987488821,1.366051482506549,1.820074350041603,2.3518024854457296,2.9695646584854196,3.6865635145665148,4.522840684770351,5.507274189135837,6.679693785043027],\"y\":[0.0,0.5943525517355123,0.968495171365372,1.2522491382368597,1.489775787107594,1.675973061960016,1.8096057389815379,1.8973492743790046,1.9498844664841881,1.9782837100966486,1.991885002404089,1.997486118997081],\"marker\":{},\"line\":{\"shape\":\"spline\"},\"name\":\"Unreguliert\"},{\"type\":\"scatter\",\"mode\":\"lines\",\"x\":[0.0,0.3526489699241825,0.6621281536214076,0.9838321987488821,1.366051482506549,1.820074350041603,2.3518024854457296,2.9695646584854196,3.6865635145665148,4.522840684770351,5.507274189135837,6.679693785043027],\"y\":[0.0,0.46987056632923035,0.6800847653428574,0.8070652624533186,0.8928785397660717,0.9462803307712722,0.9759247727890931,0.9904919404134085,0.9967592076772097,0.9990749864525295,0.9997877168611103,0.9999625113763633],\"marker\":{},\"line\":{\"shape\":\"spline\"},\"name\":\"negative AR\"},{\"type\":\"scatter\",\"mode\":\"markers\",\"x\":[0.6931471805599453],\"y\":[1.0],\"marker\":{\"color\":\"rgba(0, 0, 255, 1.0)\"},\"line\":{},\"name\":\"Unreguliert\"},{\"type\":\"scatter\",\"mode\":\"markers\",\"x\":[0.385],\"y\":[0.5],\"marker\":{\"color\":\"rgba(255, 0, 0, 1.0)\"},\"line\":{},\"name\":\"negative AR\"}];\r\n",
       "            var layout = {\"width\":600,\"height\":600,\"template\":{\"layout\":{\"title\":{\"x\":0.05},\"font\":{\"color\":\"rgba(42, 63, 95, 1.0)\"},\"paper_bgcolor\":\"rgba(255, 255, 255, 1.0)\",\"plot_bgcolor\":\"rgba(229, 236, 246, 1.0)\",\"autotypenumbers\":\"strict\",\"colorscale\":{\"diverging\":[[0.0,\"#8e0152\"],[0.1,\"#c51b7d\"],[0.2,\"#de77ae\"],[0.3,\"#f1b6da\"],[0.4,\"#fde0ef\"],[0.5,\"#f7f7f7\"],[0.6,\"#e6f5d0\"],[0.7,\"#b8e186\"],[0.8,\"#7fbc41\"],[0.9,\"#4d9221\"],[1.0,\"#276419\"]],\"sequential\":[[0.0,\"#0d0887\"],[0.1111111111111111,\"#46039f\"],[0.2222222222222222,\"#7201a8\"],[0.3333333333333333,\"#9c179e\"],[0.4444444444444444,\"#bd3786\"],[0.5555555555555556,\"#d8576b\"],[0.6666666666666666,\"#ed7953\"],[0.7777777777777778,\"#fb9f3a\"],[0.8888888888888888,\"#fdca26\"],[1.0,\"#f0f921\"]],\"sequentialminus\":[[0.0,\"#0d0887\"],[0.1111111111111111,\"#46039f\"],[0.2222222222222222,\"#7201a8\"],[0.3333333333333333,\"#9c179e\"],[0.4444444444444444,\"#bd3786\"],[0.5555555555555556,\"#d8576b\"],[0.6666666666666666,\"#ed7953\"],[0.7777777777777778,\"#fb9f3a\"],[0.8888888888888888,\"#fdca26\"],[1.0,\"#f0f921\"]]},\"hovermode\":\"closest\",\"hoverlabel\":{\"align\":\"left\"},\"coloraxis\":{\"colorbar\":{\"outlinewidth\":0.0,\"ticks\":\"\"}},\"geo\":{\"showland\":true,\"landcolor\":\"rgba(229, 236, 246, 1.0)\",\"showlakes\":true,\"lakecolor\":\"rgba(255, 255, 255, 1.0)\",\"subunitcolor\":\"rgba(255, 255, 255, 1.0)\",\"bgcolor\":\"rgba(255, 255, 255, 1.0)\"},\"mapbox\":{\"style\":\"light\"},\"polar\":{\"bgcolor\":\"rgba(229, 236, 246, 1.0)\",\"radialaxis\":{\"linecolor\":\"rgba(255, 255, 255, 1.0)\",\"gridcolor\":\"rgba(255, 255, 255, 1.0)\",\"ticks\":\"\"},\"angularaxis\":{\"linecolor\":\"rgba(255, 255, 255, 1.0)\",\"gridcolor\":\"rgba(255, 255, 255, 1.0)\",\"ticks\":\"\"}},\"scene\":{\"xaxis\":{\"ticks\":\"\",\"linecolor\":\"rgba(255, 255, 255, 1.0)\",\"gridcolor\":\"rgba(255, 255, 255, 1.0)\",\"gridwidth\":2.0,\"zerolinecolor\":\"rgba(255, 255, 255, 1.0)\",\"backgroundcolor\":\"rgba(229, 236, 246, 1.0)\",\"showbackground\":true},\"yaxis\":{\"ticks\":\"\",\"linecolor\":\"rgba(255, 255, 255, 1.0)\",\"gridcolor\":\"rgba(255, 255, 255, 1.0)\",\"gridwidth\":2.0,\"zerolinecolor\":\"rgba(255, 255, 255, 1.0)\",\"backgroundcolor\":\"rgba(229, 236, 246, 1.0)\",\"showbackground\":true},\"zaxis\":{\"ticks\":\"\",\"linecolor\":\"rgba(255, 255, 255, 1.0)\",\"gridcolor\":\"rgba(255, 255, 255, 1.0)\",\"gridwidth\":2.0,\"zerolinecolor\":\"rgba(255, 255, 255, 1.0)\",\"backgroundcolor\":\"rgba(229, 236, 246, 1.0)\",\"showbackground\":true}},\"ternary\":{\"aaxis\":{\"ticks\":\"\",\"linecolor\":\"rgba(255, 255, 255, 1.0)\",\"gridcolor\":\"rgba(255, 255, 255, 1.0)\"},\"baxis\":{\"ticks\":\"\",\"linecolor\":\"rgba(255, 255, 255, 1.0)\",\"gridcolor\":\"rgba(255, 255, 255, 1.0)\"},\"caxis\":{\"ticks\":\"\",\"linecolor\":\"rgba(255, 255, 255, 1.0)\",\"gridcolor\":\"rgba(255, 255, 255, 1.0)\"},\"bgcolor\":\"rgba(229, 236, 246, 1.0)\"},\"xaxis\":{\"title\":{\"standoff\":15},\"ticks\":\"\",\"automargin\":true,\"linecolor\":\"rgba(255, 255, 255, 1.0)\",\"gridcolor\":\"rgba(255, 255, 255, 1.0)\",\"zerolinecolor\":\"rgba(255, 255, 255, 1.0)\",\"zerolinewidth\":2.0},\"yaxis\":{\"title\":{\"standoff\":15},\"ticks\":\"\",\"automargin\":true,\"linecolor\":\"rgba(255, 255, 255, 1.0)\",\"gridcolor\":\"rgba(255, 255, 255, 1.0)\",\"zerolinecolor\":\"rgba(255, 255, 255, 1.0)\",\"zerolinewidth\":2.0},\"annotationdefaults\":{\"arrowcolor\":\"#2a3f5f\",\"arrowhead\":0,\"arrowwidth\":1},\"shapedefaults\":{\"line\":{\"color\":\"rgba(42, 63, 95, 1.0)\"}},\"colorway\":[\"rgba(99, 110, 250, 1.0)\",\"rgba(239, 85, 59, 1.0)\",\"rgba(0, 204, 150, 1.0)\",\"rgba(171, 99, 250, 1.0)\",\"rgba(255, 161, 90, 1.0)\",\"rgba(25, 211, 243, 1.0)\",\"rgba(255, 102, 146, 1.0)\",\"rgba(182, 232, 128, 1.0)\",\"rgba(255, 151, 255, 1.0)\",\"rgba(254, 203, 82, 1.0)\"]},\"data\":{\"bar\":[{\"marker\":{\"line\":{\"color\":\"rgba(229, 236, 246, 1.0)\",\"width\":0.5},\"pattern\":{\"fillmode\":\"overlay\",\"size\":10,\"solidity\":0.2}},\"error_x\":{\"color\":\"rgba(42, 63, 95, 1.0)\"},\"error_y\":{\"color\":\"rgba(42, 63, 95, 1.0)\"}}],\"barpolar\":[{\"marker\":{\"line\":{\"color\":\"rgba(229, 236, 246, 1.0)\",\"width\":0.5},\"pattern\":{\"fillmode\":\"overlay\",\"size\":10,\"solidity\":0.2}}}],\"carpet\":[{\"aaxis\":{\"linecolor\":\"rgba(255, 255, 255, 1.0)\",\"gridcolor\":\"rgba(255, 255, 255, 1.0)\",\"endlinecolor\":\"rgba(42, 63, 95, 1.0)\",\"minorgridcolor\":\"rgba(255, 255, 255, 1.0)\",\"startlinecolor\":\"rgba(42, 63, 95, 1.0)\"},\"baxis\":{\"linecolor\":\"rgba(255, 255, 255, 1.0)\",\"gridcolor\":\"rgba(255, 255, 255, 1.0)\",\"endlinecolor\":\"rgba(42, 63, 95, 1.0)\",\"minorgridcolor\":\"rgba(255, 255, 255, 1.0)\",\"startlinecolor\":\"rgba(42, 63, 95, 1.0)\"}}],\"choropleth\":[{\"colorbar\":{\"outlinewidth\":0.0,\"ticks\":\"\"},\"colorscale\":[[0.0,\"#0d0887\"],[0.1111111111111111,\"#46039f\"],[0.2222222222222222,\"#7201a8\"],[0.3333333333333333,\"#9c179e\"],[0.4444444444444444,\"#bd3786\"],[0.5555555555555556,\"#d8576b\"],[0.6666666666666666,\"#ed7953\"],[0.7777777777777778,\"#fb9f3a\"],[0.8888888888888888,\"#fdca26\"],[1.0,\"#f0f921\"]]}],\"contour\":[{\"colorbar\":{\"outlinewidth\":0.0,\"ticks\":\"\"},\"colorscale\":[[0.0,\"#0d0887\"],[0.1111111111111111,\"#46039f\"],[0.2222222222222222,\"#7201a8\"],[0.3333333333333333,\"#9c179e\"],[0.4444444444444444,\"#bd3786\"],[0.5555555555555556,\"#d8576b\"],[0.6666666666666666,\"#ed7953\"],[0.7777777777777778,\"#fb9f3a\"],[0.8888888888888888,\"#fdca26\"],[1.0,\"#f0f921\"]]}],\"contourcarpet\":[{\"colorbar\":{\"outlinewidth\":0.0,\"ticks\":\"\"}}],\"heatmap\":[{\"colorbar\":{\"outlinewidth\":0.0,\"ticks\":\"\"},\"colorscale\":[[0.0,\"#0d0887\"],[0.1111111111111111,\"#46039f\"],[0.2222222222222222,\"#7201a8\"],[0.3333333333333333,\"#9c179e\"],[0.4444444444444444,\"#bd3786\"],[0.5555555555555556,\"#d8576b\"],[0.6666666666666666,\"#ed7953\"],[0.7777777777777778,\"#fb9f3a\"],[0.8888888888888888,\"#fdca26\"],[1.0,\"#f0f921\"]]}],\"heatmapgl\":[{\"colorbar\":{\"outlinewidth\":0.0,\"ticks\":\"\"},\"colorscale\":[[0.0,\"#0d0887\"],[0.1111111111111111,\"#46039f\"],[0.2222222222222222,\"#7201a8\"],[0.3333333333333333,\"#9c179e\"],[0.4444444444444444,\"#bd3786\"],[0.5555555555555556,\"#d8576b\"],[0.6666666666666666,\"#ed7953\"],[0.7777777777777778,\"#fb9f3a\"],[0.8888888888888888,\"#fdca26\"],[1.0,\"#f0f921\"]]}],\"histogram\":[{\"marker\":{\"pattern\":{\"fillmode\":\"overlay\",\"size\":10,\"solidity\":0.2}}}],\"histogram2d\":[{\"colorbar\":{\"outlinewidth\":0.0,\"ticks\":\"\"},\"colorscale\":[[0.0,\"#0d0887\"],[0.1111111111111111,\"#46039f\"],[0.2222222222222222,\"#7201a8\"],[0.3333333333333333,\"#9c179e\"],[0.4444444444444444,\"#bd3786\"],[0.5555555555555556,\"#d8576b\"],[0.6666666666666666,\"#ed7953\"],[0.7777777777777778,\"#fb9f3a\"],[0.8888888888888888,\"#fdca26\"],[1.0,\"#f0f921\"]]}],\"histogram2dcontour\":[{\"colorbar\":{\"outlinewidth\":0.0,\"ticks\":\"\"},\"colorscale\":[[0.0,\"#0d0887\"],[0.1111111111111111,\"#46039f\"],[0.2222222222222222,\"#7201a8\"],[0.3333333333333333,\"#9c179e\"],[0.4444444444444444,\"#bd3786\"],[0.5555555555555556,\"#d8576b\"],[0.6666666666666666,\"#ed7953\"],[0.7777777777777778,\"#fb9f3a\"],[0.8888888888888888,\"#fdca26\"],[1.0,\"#f0f921\"]]}],\"mesh3d\":[{\"colorbar\":{\"outlinewidth\":0.0,\"ticks\":\"\"}}],\"parcoords\":[{\"line\":{\"colorbar\":{\"outlinewidth\":0.0,\"ticks\":\"\"}}}],\"pie\":[{\"automargin\":true}],\"scatter\":[{\"marker\":{\"colorbar\":{\"outlinewidth\":0.0,\"ticks\":\"\"}}}],\"scatter3d\":[{\"marker\":{\"colorbar\":{\"outlinewidth\":0.0,\"ticks\":\"\"}},\"line\":{\"colorbar\":{\"outlinewidth\":0.0,\"ticks\":\"\"}}}],\"scattercarpet\":[{\"marker\":{\"colorbar\":{\"outlinewidth\":0.0,\"ticks\":\"\"}}}],\"scattergeo\":[{\"marker\":{\"colorbar\":{\"outlinewidth\":0.0,\"ticks\":\"\"}}}],\"scattergl\":[{\"marker\":{\"colorbar\":{\"outlinewidth\":0.0,\"ticks\":\"\"}}}],\"scattermapbox\":[{\"marker\":{\"colorbar\":{\"outlinewidth\":0.0,\"ticks\":\"\"}}}],\"scatterpolar\":[{\"marker\":{\"colorbar\":{\"outlinewidth\":0.0,\"ticks\":\"\"}}}],\"scatterpolargl\":[{\"marker\":{\"colorbar\":{\"outlinewidth\":0.0,\"ticks\":\"\"}}}],\"scatterternary\":[{\"marker\":{\"colorbar\":{\"outlinewidth\":0.0,\"ticks\":\"\"}}}],\"surface\":[{\"colorbar\":{\"outlinewidth\":0.0,\"ticks\":\"\"},\"colorscale\":[[0.0,\"#0d0887\"],[0.1111111111111111,\"#46039f\"],[0.2222222222222222,\"#7201a8\"],[0.3333333333333333,\"#9c179e\"],[0.4444444444444444,\"#bd3786\"],[0.5555555555555556,\"#d8576b\"],[0.6666666666666666,\"#ed7953\"],[0.7777777777777778,\"#fb9f3a\"],[0.8888888888888888,\"#fdca26\"],[1.0,\"#f0f921\"]]}],\"table\":[{\"cells\":{\"fill\":{\"color\":\"rgba(235, 240, 248, 1.0)\"},\"line\":{\"color\":\"rgba(255, 255, 255, 1.0)\"}},\"header\":{\"fill\":{\"color\":\"rgba(200, 212, 227, 1.0)\"},\"line\":{\"color\":\"rgba(255, 255, 255, 1.0)\"}}}]}},\"xaxis\":{\"title\":{\"text\":\"Zeit\"}},\"yaxis\":{\"title\":{\"text\":\"Proteinkonzentration\"}}};\r\n",
       "            var config = {\"responsive\":true};\r\n",
       "            Plotly.newPlot('262168b4-74b1-4fad-94ec-b9bdf859e31c', data, layout, config);\r\n",
       "});\r\n",
       "            };\r\n",
       "            if ((typeof(requirejs) !==  typeof(Function)) || (typeof(requirejs.config) !== typeof(Function))) {\r\n",
       "                var script = document.createElement(\"script\");\r\n",
       "                script.setAttribute(\"src\", \"https://cdnjs.cloudflare.com/ajax/libs/require.js/2.3.6/require.min.js\");\r\n",
       "                script.onload = function(){\r\n",
       "                    renderPlotly_262168b474b14fad94ecb9bdf859e31c();\r\n",
       "                };\r\n",
       "                document.getElementsByTagName(\"head\")[0].appendChild(script);\r\n",
       "            }\r\n",
       "            else {\r\n",
       "                renderPlotly_262168b474b14fad94ecb9bdf859e31c();\r\n",
       "            }\r\n",
       "</script>\r\n",
       "\n",
       "    \n",
       "</div>    \n"
      ]
     },
     "metadata": {},
     "output_type": "display_data"
    }
   ],
   "source": [
    "//Konstanten\n",
    "let beta  =  2.0 // Konstante für die Zunahme der Proteinkonzentration\n",
    "let gamma =  1.0 // Konstante für die Verringerung der Proteinkonzentration\n",
    "let K_d =    1.0 // Dissoziationskonstante\n",
    "\n",
    "// unsere DGL als  Modell (Model)\n",
    "let dP_dt : Model = \n",
    "    fun P t ->\n",
    "\n",
    "        let Proteinkonzentration1 = P[0] // Änderung in der Proteinmenge (unreguliert)\n",
    "        let Proteinkonzentration2 = P[1] // Änderung in der Proteinmenge (reguliert durch negative Autoregulation)\n",
    "        //Änderung der Proteinkonzentration ohne negative Autoregulation\n",
    "        let Proteinkonzentration1' = beta - (gamma*Proteinkonzentration1)\n",
    "        // Änderung des Proteinkonzentration bei negativer Autoregulation (hier die Gleichung einsetzen)\n",
    "        let Proteinkonzentration2' = beta * 1./(1.+(Proteinkonzentration2/K_d)) - (gamma*Proteinkonzentration2)\n",
    "\n",
    "        [| Proteinkonzentration1'; Proteinkonzentration2' |]\n",
    "\n",
    "//Startkonzentrationen\n",
    "let P0 = [| \n",
    "    0.0\n",
    "    0.0  \n",
    "|]\n",
    "\n",
    "// Generierung der Punkte für das Kennzeichnen der Antwortszeit\n",
    "let t0 = log(2.) / gamma\n",
    "let t1 = K_d/(2. * beta) + 0.135\n",
    "let x0 = beta / gamma * (0.5) \n",
    "let x1 = K_d * 0.5 \n",
    "\n",
    "// Simulation der Modelfuntkion\n",
    "let Ps = \n",
    "    modelContext.OdeInt(\n",
    "        0., // Startzeitpunkt\n",
    "        P0,\n",
    "        dP_dt\n",
    "    )\n",
    "    |> SolPoints.take 12 // Anzahl der Zeitpunkte\n",
    "    |> SolPoints.memorize \n",
    "\n",
    "//Graphische Darstellung der numerischen Lösung\n",
    "[\n",
    "    let proteins = Ps |> SolPoints.toPoints 1 \n",
    "    proteins |> Chart.Spline \n",
    "    |> Chart.withTraceInfo(\"Unreguliert\");\n",
    "    let proteinsregulated = Ps |> SolPoints.toPoints 2 \n",
    "    proteinsregulated|> Chart.Spline \n",
    "    |> Chart.withTraceInfo(\"negative AR\");\n",
    "    [t0,x0]\n",
    "        |> Chart.Point\n",
    "        |> Chart.withMarkerStyle(Color = Color.fromKeyword Blue)\n",
    "        |> Chart.withTraceInfo(\"Unreguliert\");\n",
    "    [t1,x1]\n",
    "        |> Chart.Point\n",
    "        |> Chart.withMarkerStyle(Color = Color.fromKeyword Red)\n",
    "        |> Chart.withTraceInfo(\"negative AR\");    \n",
    "]\n",
    "\n",
    "|> Chart.combine\n",
    "|> Chart.withXAxisStyle(\"Zeit\")\n",
    "|> Chart.withYAxisStyle(\"Proteinkonzentration\")"
   ]
  },
  {
   "cell_type": "markdown",
   "metadata": {},
   "source": [
    "##### Aufgabe 3.18\n",
    "\n",
    "***Welchen Effekt hat die negative Autoregulation im Bezug auf die Antwortzeit.*** \n"
   ]
  },
  {
   "cell_type": "markdown",
   "metadata": {},
   "source": [
    "Bitte hier die Antwort eingeben."
   ]
  },
  {
   "cell_type": "markdown",
   "metadata": {},
   "source": [
    "\n",
    "##### Aufgabe 3.19\n",
    "\n",
    "***Warum ist negative Autoregulation ein sinnvollerer Mechanismus für eine verkürzung der Antwortszeit für die meisten Proteine im Vergleich zur Erhöhung von $\\gamma$?***\n"
   ]
  },
  {
   "cell_type": "markdown",
   "metadata": {},
   "source": [
    "Bitte hier die Antwort eingeben."
   ]
  },
  {
   "cell_type": "markdown",
   "metadata": {},
   "source": [
    "#### Positive Autoregulation\n",
    "\n",
    "Die Betrachtung der negativen Autoregulation zeigte, dass sie dazu genutzt werden kann, die Antwortgeschwindigkeit der Proteinkonzentration zu erhöhen. Beim Vergleich von Repressor und Aktivator hatten beide einen identischen Effekt. Beide verringerten die $Proteinkonzentration_{GGW}$ und hatten keinen Einfluss auf die Antwortgeschwindigkeit. Daher ist die logische Folgerung, dass sich postive Autoregulation genauso wie die negative Autoregulation verhält. Diese Vermutung soll im nachfolgendem Abschnitt untersucht werden. Eine durch positive Autoregulation regulierte Genexpression wird durch folgende Differenzialgleichung dargestellt:\n",
    "\n",
    "$$ \\frac {dProteinkonzentration} {dt} = \\beta* \\frac {1}{1+ \\frac {K_{D}}{Proteinkonzentration}}  - \\gamma*Proteinkonzentration$$\n",
    "\n"
   ]
  },
  {
   "cell_type": "markdown",
   "metadata": {},
   "source": [
    "##### Aufgabe 3.20\n",
    "\n",
    "***Setzen sie die Gleichung für postive Autoregulation in die nachfolgende Simulation ein (Bitte beachten sie, dass sie die Proteinkonzentration als \"Proteinkonzentration2\" einsetzten müssen, ohne \"\". Beachten sie ebenfalls das $\\beta \\textrm{ und } \\gamma$ als \"beta\" und \"gamma\", ohne \"\", eingesetzt werden müssen und nicht als Symbole, und das $K_{D}$ als K_d eingesetzt wird).***"
   ]
  },
  {
   "cell_type": "code",
   "execution_count": null,
   "metadata": {
    "dotnet_interactive": {
     "language": "fsharp"
    },
    "vscode": {
     "languageId": "dotnet-interactive.fsharp"
    }
   },
   "outputs": [
    {
     "data": {
      "text/html": [
       "\n",
       "<div>\n",
       "    <div id=\"5b756428-a5c2-4136-ae29-01ef17417dd2\"><!-- Plotly chart will be drawn inside this DIV --></div>\r\n",
       "<script type=\"text/javascript\">\r\n",
       "\r\n",
       "            var renderPlotly_5b756428a5c24136ae2901ef17417dd2 = function() {\r\n",
       "            var fsharpPlotlyRequire = requirejs.config({context:'fsharp-plotly',paths:{plotly:'https://cdn.plot.ly/plotly-2.6.3.min'}}) || require;\r\n",
       "            fsharpPlotlyRequire(['plotly'], function(Plotly) {\r\n",
       "\r\n",
       "            var data = [{\"type\":\"scatter\",\"mode\":\"lines\",\"x\":[0.0,0.7856628194647389,1.4677523343222774,2.140200428251707,2.8783196297251274,3.713146045827365,4.666808620938143,5.766151026754663,7.04859282945031,8.565728422165778],\"y\":[0.0,5.441818349247017,7.695574452961647,8.823692315556546,9.43771161124187,9.755992981929104,9.905971973807508,9.968671476810862,9.991299607113897,9.998079632811486],\"marker\":{},\"line\":{\"shape\":\"spline\"},\"name\":\"Unreguliert\"},{\"type\":\"scatter\",\"mode\":\"lines\",\"x\":[0.0,0.7856628194647389,1.4677523343222774,2.140200428251707,2.8783196297251274,3.713146045827365,4.666808620938143,5.766151026754663,7.04859282945031,8.565728422165778],\"y\":[4.0,4.838882882019207,5.5725525403759955,6.209493776413471,6.763815588904103,7.211411213324171,7.539458791766505,7.756717922535201,7.885903968592316,7.953793682015552],\"marker\":{},\"line\":{\"shape\":\"spline\"},\"name\":\"positive AR\"}];\r\n",
       "            var layout = {\"width\":600,\"height\":600,\"template\":{\"layout\":{\"title\":{\"x\":0.05},\"font\":{\"color\":\"rgba(42, 63, 95, 1.0)\"},\"paper_bgcolor\":\"rgba(255, 255, 255, 1.0)\",\"plot_bgcolor\":\"rgba(229, 236, 246, 1.0)\",\"autotypenumbers\":\"strict\",\"colorscale\":{\"diverging\":[[0.0,\"#8e0152\"],[0.1,\"#c51b7d\"],[0.2,\"#de77ae\"],[0.3,\"#f1b6da\"],[0.4,\"#fde0ef\"],[0.5,\"#f7f7f7\"],[0.6,\"#e6f5d0\"],[0.7,\"#b8e186\"],[0.8,\"#7fbc41\"],[0.9,\"#4d9221\"],[1.0,\"#276419\"]],\"sequential\":[[0.0,\"#0d0887\"],[0.1111111111111111,\"#46039f\"],[0.2222222222222222,\"#7201a8\"],[0.3333333333333333,\"#9c179e\"],[0.4444444444444444,\"#bd3786\"],[0.5555555555555556,\"#d8576b\"],[0.6666666666666666,\"#ed7953\"],[0.7777777777777778,\"#fb9f3a\"],[0.8888888888888888,\"#fdca26\"],[1.0,\"#f0f921\"]],\"sequentialminus\":[[0.0,\"#0d0887\"],[0.1111111111111111,\"#46039f\"],[0.2222222222222222,\"#7201a8\"],[0.3333333333333333,\"#9c179e\"],[0.4444444444444444,\"#bd3786\"],[0.5555555555555556,\"#d8576b\"],[0.6666666666666666,\"#ed7953\"],[0.7777777777777778,\"#fb9f3a\"],[0.8888888888888888,\"#fdca26\"],[1.0,\"#f0f921\"]]},\"hovermode\":\"closest\",\"hoverlabel\":{\"align\":\"left\"},\"coloraxis\":{\"colorbar\":{\"outlinewidth\":0.0,\"ticks\":\"\"}},\"geo\":{\"showland\":true,\"landcolor\":\"rgba(229, 236, 246, 1.0)\",\"showlakes\":true,\"lakecolor\":\"rgba(255, 255, 255, 1.0)\",\"subunitcolor\":\"rgba(255, 255, 255, 1.0)\",\"bgcolor\":\"rgba(255, 255, 255, 1.0)\"},\"mapbox\":{\"style\":\"light\"},\"polar\":{\"bgcolor\":\"rgba(229, 236, 246, 1.0)\",\"radialaxis\":{\"linecolor\":\"rgba(255, 255, 255, 1.0)\",\"gridcolor\":\"rgba(255, 255, 255, 1.0)\",\"ticks\":\"\"},\"angularaxis\":{\"linecolor\":\"rgba(255, 255, 255, 1.0)\",\"gridcolor\":\"rgba(255, 255, 255, 1.0)\",\"ticks\":\"\"}},\"scene\":{\"xaxis\":{\"ticks\":\"\",\"linecolor\":\"rgba(255, 255, 255, 1.0)\",\"gridcolor\":\"rgba(255, 255, 255, 1.0)\",\"gridwidth\":2.0,\"zerolinecolor\":\"rgba(255, 255, 255, 1.0)\",\"backgroundcolor\":\"rgba(229, 236, 246, 1.0)\",\"showbackground\":true},\"yaxis\":{\"ticks\":\"\",\"linecolor\":\"rgba(255, 255, 255, 1.0)\",\"gridcolor\":\"rgba(255, 255, 255, 1.0)\",\"gridwidth\":2.0,\"zerolinecolor\":\"rgba(255, 255, 255, 1.0)\",\"backgroundcolor\":\"rgba(229, 236, 246, 1.0)\",\"showbackground\":true},\"zaxis\":{\"ticks\":\"\",\"linecolor\":\"rgba(255, 255, 255, 1.0)\",\"gridcolor\":\"rgba(255, 255, 255, 1.0)\",\"gridwidth\":2.0,\"zerolinecolor\":\"rgba(255, 255, 255, 1.0)\",\"backgroundcolor\":\"rgba(229, 236, 246, 1.0)\",\"showbackground\":true}},\"ternary\":{\"aaxis\":{\"ticks\":\"\",\"linecolor\":\"rgba(255, 255, 255, 1.0)\",\"gridcolor\":\"rgba(255, 255, 255, 1.0)\"},\"baxis\":{\"ticks\":\"\",\"linecolor\":\"rgba(255, 255, 255, 1.0)\",\"gridcolor\":\"rgba(255, 255, 255, 1.0)\"},\"caxis\":{\"ticks\":\"\",\"linecolor\":\"rgba(255, 255, 255, 1.0)\",\"gridcolor\":\"rgba(255, 255, 255, 1.0)\"},\"bgcolor\":\"rgba(229, 236, 246, 1.0)\"},\"xaxis\":{\"title\":{\"standoff\":15},\"ticks\":\"\",\"automargin\":true,\"linecolor\":\"rgba(255, 255, 255, 1.0)\",\"gridcolor\":\"rgba(255, 255, 255, 1.0)\",\"zerolinecolor\":\"rgba(255, 255, 255, 1.0)\",\"zerolinewidth\":2.0},\"yaxis\":{\"title\":{\"standoff\":15},\"ticks\":\"\",\"automargin\":true,\"linecolor\":\"rgba(255, 255, 255, 1.0)\",\"gridcolor\":\"rgba(255, 255, 255, 1.0)\",\"zerolinecolor\":\"rgba(255, 255, 255, 1.0)\",\"zerolinewidth\":2.0},\"annotationdefaults\":{\"arrowcolor\":\"#2a3f5f\",\"arrowhead\":0,\"arrowwidth\":1},\"shapedefaults\":{\"line\":{\"color\":\"rgba(42, 63, 95, 1.0)\"}},\"colorway\":[\"rgba(99, 110, 250, 1.0)\",\"rgba(239, 85, 59, 1.0)\",\"rgba(0, 204, 150, 1.0)\",\"rgba(171, 99, 250, 1.0)\",\"rgba(255, 161, 90, 1.0)\",\"rgba(25, 211, 243, 1.0)\",\"rgba(255, 102, 146, 1.0)\",\"rgba(182, 232, 128, 1.0)\",\"rgba(255, 151, 255, 1.0)\",\"rgba(254, 203, 82, 1.0)\"]},\"data\":{\"bar\":[{\"marker\":{\"line\":{\"color\":\"rgba(229, 236, 246, 1.0)\",\"width\":0.5},\"pattern\":{\"fillmode\":\"overlay\",\"size\":10,\"solidity\":0.2}},\"error_x\":{\"color\":\"rgba(42, 63, 95, 1.0)\"},\"error_y\":{\"color\":\"rgba(42, 63, 95, 1.0)\"}}],\"barpolar\":[{\"marker\":{\"line\":{\"color\":\"rgba(229, 236, 246, 1.0)\",\"width\":0.5},\"pattern\":{\"fillmode\":\"overlay\",\"size\":10,\"solidity\":0.2}}}],\"carpet\":[{\"aaxis\":{\"linecolor\":\"rgba(255, 255, 255, 1.0)\",\"gridcolor\":\"rgba(255, 255, 255, 1.0)\",\"endlinecolor\":\"rgba(42, 63, 95, 1.0)\",\"minorgridcolor\":\"rgba(255, 255, 255, 1.0)\",\"startlinecolor\":\"rgba(42, 63, 95, 1.0)\"},\"baxis\":{\"linecolor\":\"rgba(255, 255, 255, 1.0)\",\"gridcolor\":\"rgba(255, 255, 255, 1.0)\",\"endlinecolor\":\"rgba(42, 63, 95, 1.0)\",\"minorgridcolor\":\"rgba(255, 255, 255, 1.0)\",\"startlinecolor\":\"rgba(42, 63, 95, 1.0)\"}}],\"choropleth\":[{\"colorbar\":{\"outlinewidth\":0.0,\"ticks\":\"\"},\"colorscale\":[[0.0,\"#0d0887\"],[0.1111111111111111,\"#46039f\"],[0.2222222222222222,\"#7201a8\"],[0.3333333333333333,\"#9c179e\"],[0.4444444444444444,\"#bd3786\"],[0.5555555555555556,\"#d8576b\"],[0.6666666666666666,\"#ed7953\"],[0.7777777777777778,\"#fb9f3a\"],[0.8888888888888888,\"#fdca26\"],[1.0,\"#f0f921\"]]}],\"contour\":[{\"colorbar\":{\"outlinewidth\":0.0,\"ticks\":\"\"},\"colorscale\":[[0.0,\"#0d0887\"],[0.1111111111111111,\"#46039f\"],[0.2222222222222222,\"#7201a8\"],[0.3333333333333333,\"#9c179e\"],[0.4444444444444444,\"#bd3786\"],[0.5555555555555556,\"#d8576b\"],[0.6666666666666666,\"#ed7953\"],[0.7777777777777778,\"#fb9f3a\"],[0.8888888888888888,\"#fdca26\"],[1.0,\"#f0f921\"]]}],\"contourcarpet\":[{\"colorbar\":{\"outlinewidth\":0.0,\"ticks\":\"\"}}],\"heatmap\":[{\"colorbar\":{\"outlinewidth\":0.0,\"ticks\":\"\"},\"colorscale\":[[0.0,\"#0d0887\"],[0.1111111111111111,\"#46039f\"],[0.2222222222222222,\"#7201a8\"],[0.3333333333333333,\"#9c179e\"],[0.4444444444444444,\"#bd3786\"],[0.5555555555555556,\"#d8576b\"],[0.6666666666666666,\"#ed7953\"],[0.7777777777777778,\"#fb9f3a\"],[0.8888888888888888,\"#fdca26\"],[1.0,\"#f0f921\"]]}],\"heatmapgl\":[{\"colorbar\":{\"outlinewidth\":0.0,\"ticks\":\"\"},\"colorscale\":[[0.0,\"#0d0887\"],[0.1111111111111111,\"#46039f\"],[0.2222222222222222,\"#7201a8\"],[0.3333333333333333,\"#9c179e\"],[0.4444444444444444,\"#bd3786\"],[0.5555555555555556,\"#d8576b\"],[0.6666666666666666,\"#ed7953\"],[0.7777777777777778,\"#fb9f3a\"],[0.8888888888888888,\"#fdca26\"],[1.0,\"#f0f921\"]]}],\"histogram\":[{\"marker\":{\"pattern\":{\"fillmode\":\"overlay\",\"size\":10,\"solidity\":0.2}}}],\"histogram2d\":[{\"colorbar\":{\"outlinewidth\":0.0,\"ticks\":\"\"},\"colorscale\":[[0.0,\"#0d0887\"],[0.1111111111111111,\"#46039f\"],[0.2222222222222222,\"#7201a8\"],[0.3333333333333333,\"#9c179e\"],[0.4444444444444444,\"#bd3786\"],[0.5555555555555556,\"#d8576b\"],[0.6666666666666666,\"#ed7953\"],[0.7777777777777778,\"#fb9f3a\"],[0.8888888888888888,\"#fdca26\"],[1.0,\"#f0f921\"]]}],\"histogram2dcontour\":[{\"colorbar\":{\"outlinewidth\":0.0,\"ticks\":\"\"},\"colorscale\":[[0.0,\"#0d0887\"],[0.1111111111111111,\"#46039f\"],[0.2222222222222222,\"#7201a8\"],[0.3333333333333333,\"#9c179e\"],[0.4444444444444444,\"#bd3786\"],[0.5555555555555556,\"#d8576b\"],[0.6666666666666666,\"#ed7953\"],[0.7777777777777778,\"#fb9f3a\"],[0.8888888888888888,\"#fdca26\"],[1.0,\"#f0f921\"]]}],\"mesh3d\":[{\"colorbar\":{\"outlinewidth\":0.0,\"ticks\":\"\"}}],\"parcoords\":[{\"line\":{\"colorbar\":{\"outlinewidth\":0.0,\"ticks\":\"\"}}}],\"pie\":[{\"automargin\":true}],\"scatter\":[{\"marker\":{\"colorbar\":{\"outlinewidth\":0.0,\"ticks\":\"\"}}}],\"scatter3d\":[{\"marker\":{\"colorbar\":{\"outlinewidth\":0.0,\"ticks\":\"\"}},\"line\":{\"colorbar\":{\"outlinewidth\":0.0,\"ticks\":\"\"}}}],\"scattercarpet\":[{\"marker\":{\"colorbar\":{\"outlinewidth\":0.0,\"ticks\":\"\"}}}],\"scattergeo\":[{\"marker\":{\"colorbar\":{\"outlinewidth\":0.0,\"ticks\":\"\"}}}],\"scattergl\":[{\"marker\":{\"colorbar\":{\"outlinewidth\":0.0,\"ticks\":\"\"}}}],\"scattermapbox\":[{\"marker\":{\"colorbar\":{\"outlinewidth\":0.0,\"ticks\":\"\"}}}],\"scatterpolar\":[{\"marker\":{\"colorbar\":{\"outlinewidth\":0.0,\"ticks\":\"\"}}}],\"scatterpolargl\":[{\"marker\":{\"colorbar\":{\"outlinewidth\":0.0,\"ticks\":\"\"}}}],\"scatterternary\":[{\"marker\":{\"colorbar\":{\"outlinewidth\":0.0,\"ticks\":\"\"}}}],\"surface\":[{\"colorbar\":{\"outlinewidth\":0.0,\"ticks\":\"\"},\"colorscale\":[[0.0,\"#0d0887\"],[0.1111111111111111,\"#46039f\"],[0.2222222222222222,\"#7201a8\"],[0.3333333333333333,\"#9c179e\"],[0.4444444444444444,\"#bd3786\"],[0.5555555555555556,\"#d8576b\"],[0.6666666666666666,\"#ed7953\"],[0.7777777777777778,\"#fb9f3a\"],[0.8888888888888888,\"#fdca26\"],[1.0,\"#f0f921\"]]}],\"table\":[{\"cells\":{\"fill\":{\"color\":\"rgba(235, 240, 248, 1.0)\"},\"line\":{\"color\":\"rgba(255, 255, 255, 1.0)\"}},\"header\":{\"fill\":{\"color\":\"rgba(200, 212, 227, 1.0)\"},\"line\":{\"color\":\"rgba(255, 255, 255, 1.0)\"}}}]}},\"xaxis\":{\"title\":{\"text\":\"Zeit\"}},\"yaxis\":{\"title\":{\"text\":\"Proteinkonzentration\"}}};\r\n",
       "            var config = {\"responsive\":true};\r\n",
       "            Plotly.newPlot('5b756428-a5c2-4136-ae29-01ef17417dd2', data, layout, config);\r\n",
       "});\r\n",
       "            };\r\n",
       "            if ((typeof(requirejs) !==  typeof(Function)) || (typeof(requirejs.config) !== typeof(Function))) {\r\n",
       "                var script = document.createElement(\"script\");\r\n",
       "                script.setAttribute(\"src\", \"https://cdnjs.cloudflare.com/ajax/libs/require.js/2.3.6/require.min.js\");\r\n",
       "                script.onload = function(){\r\n",
       "                    renderPlotly_5b756428a5c24136ae2901ef17417dd2();\r\n",
       "                };\r\n",
       "                document.getElementsByTagName(\"head\")[0].appendChild(script);\r\n",
       "            }\r\n",
       "            else {\r\n",
       "                renderPlotly_5b756428a5c24136ae2901ef17417dd2();\r\n",
       "            }\r\n",
       "</script>\r\n",
       "\n",
       "    \n",
       "</div>    \n"
      ]
     },
     "metadata": {},
     "output_type": "display_data"
    }
   ],
   "source": [
    "//Konstanten\n",
    "let beta  =  10.0 // Konstante für die Zunahme der Proteinkonzentration\n",
    "let gamma =  1.0  // Konstante für die Verringerung der Proteinkonzentration\n",
    "let K_d =    4.0  // Dissoziationskonstante\n",
    "let n =      2.0  // Hill Koeffizent \n",
    "\n",
    "// unsere DGL als  Modell (Model)\n",
    "let dP_dt : Model = \n",
    "    fun P t ->\n",
    "\n",
    "        let Proteinkonzentration1 = P[0] // Änderung in der Proteinmenge\n",
    "        let Proteinkonzentration2 = P[1] // Änderung in der Proteinmenge\n",
    "        //Änderung der Proteinkonzentration ohne positive Autoregulation\n",
    "        let Proteinkonzentration1' = beta - (gamma*Proteinkonzentration1)\n",
    "        // Änderung des Proteinkonzentration bei positiver Autoregulation (hier die Gleichung einsetzen)\n",
    "        let Proteinkonzentration2' = beta * (Proteinkonzentration2**n)/((Proteinkonzentration2**n) + (K_d**n)) - (gamma*Proteinkonzentration2)\n",
    "\n",
    "        [| Proteinkonzentration1'; Proteinkonzentration2' |]\n",
    "\n",
    "//Startkonzentrationen\n",
    "let P0 = [| \n",
    "    //Startkonzentration für das unregulierte Protein (muss nicht verändert werden)\n",
    "    0.0 \n",
    "    //Startkonzentration für das durch postive Autoreguliation regulierte Protein (hier bitte die Startwerte ändern)\n",
    "    4.0 \n",
    "|]\n",
    "\n",
    "// Simulation der Modelfuntkion\n",
    "let Ps = \n",
    "    modelContext.OdeInt(\n",
    "        0., // Startzeitpunkt\n",
    "        P0,\n",
    "        dP_dt\n",
    "    )\n",
    "    |> SolPoints.take 10 // Anzahl der Zeitpunkte\n",
    "    |> SolPoints.memorize \n",
    "\n",
    "//Graphische Darstellung der numerischen Lösung\n",
    "[\n",
    "    let proteins = Ps |> SolPoints.toPoints 1 \n",
    "    proteins |> Chart.Spline \n",
    "    |> Chart.withTraceInfo(\"Unreguliert\");\n",
    "    let proteinsregulated = Ps |> SolPoints.toPoints 2 \n",
    "    proteinsregulated|> Chart.Spline \n",
    "    |> Chart.withTraceInfo(\"positive AR\");\n",
    "]\n",
    "\n",
    "|> Chart.combine\n",
    "|> Chart.withXAxisStyle(\"Zeit\")\n",
    "|> Chart.withYAxisStyle(\"Proteinkonzentration\")"
   ]
  },
  {
   "cell_type": "markdown",
   "metadata": {},
   "source": [
    "##### Aufgabe 3.21\n",
    "\n",
    "***Welchen Effekt hat positive Autoregulation?***"
   ]
  },
  {
   "cell_type": "markdown",
   "metadata": {},
   "source": [
    "Hier die Antwort eingeben."
   ]
  },
  {
   "cell_type": "markdown",
   "metadata": {},
   "source": [
    "Es folgt eine kurze Besprechung. Falls Sie schnell vorangekommen sind, können sie bis zur Besprechung folgende Aufgaben lösen.\n",
    "\n",
    "\n",
    "##### Expertenaufgabe 3.2\n",
    "\n",
    "***Überlegen sie sich wie lange die Antwortszeit von einem Protein ist, mit folgenden Bedingungen:***\n",
    "1. ***Es gibt eine gewisse Anfangskonzentration $P_{Start}$***\n",
    "2. ***Die Produktionsrate $\\beta$ ist null***\n",
    "3. ***Der Teil $\\gamma_{Abbau}$ von $\\gamma$ ist null.*** \n",
    "\n",
    "***Das bedeutet die initale Proteinkonzentration verändert sich nur durch das Verteilen des Proteins in der Zelle und durch Zellteilung. Die Antwortszeit soll sich auf das Volumen von einer Zelle beziehen.\n",
    "Überlegen sie weiterhin, ob diese Bedingungen häufig auftreten insbesondere mit Blick auf die Stabilität der meisten Proteine in der Zelle.***\n",
    "\n",
    "***Falls sie Probleme mit dem lösen der Aufgabe haben, nutzen sie die folgende Literatur (diese beschreibt ein etwas komplexeres System, kommt aber zu der gesuchten Antwort):\n",
    "https://www.sciencedirect.com/science/article/pii/S0022283603005060?via%3Dihub***"
   ]
  },
  {
   "cell_type": "markdown",
   "metadata": {},
   "source": [
    "Bitte hier die Antwort eingeben."
   ]
  },
  {
   "cell_type": "markdown",
   "metadata": {},
   "source": [
    "Take Home Messages\n",
    "\n",
    "1. Ordinäre differentialgleichungen für die Änderung der Proteinkonzentration erlauben es einfache Genexpressions prozesse zu beschreiben\n",
    "2. \n",
    "..\n",
    "n. <br>\n",
    "n+1. Die Regulation der Proteinproduktion durch Aktivatoren und Repressoren führt zu einer Verringerung des Proteinkonzentrationsgleichgewichtspunktes.<br>\n",
    "n+2. Negative Autoregulation verringert die Antwortszeit der Proteinproduktion und ist eines der einfachsten Netzwerkmotive.<br>\n",
    "n+2. Postive Autoregulation führt zu einer erhöhten Antwortszeit und ist ebenfalls ein Netzwerkmotiv.<br>\n"
   ]
  }
 ],
 "metadata": {
  "kernelspec": {
   "display_name": ".NET (C#)",
   "language": "C#",
   "name": ".net-csharp"
  },
  "language_info": {
   "file_extension": ".cs",
   "mimetype": "text/x-csharp",
   "name": "C#",
   "pygments_lexer": "csharp",
   "version": "9.0"
  },
  "vscode": {
   "interpreter": {
    "hash": "3017eed01e41510f2e4758f02a5c4b458edd512c2a48ee2ef97492bf17f5a7a1"
   }
  }
 },
 "nbformat": 4,
 "nbformat_minor": 2
}
