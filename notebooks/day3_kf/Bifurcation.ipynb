{
 "cells": [
  {
   "cell_type": "code",
   "execution_count": null,
   "metadata": {
    "dotnet_interactive": {
     "language": "fsharp"
    },
    "vscode": {
     "languageId": "dotnet-interactive.fsharp"
    }
   },
   "outputs": [
    {
     "data": {
      "text/html": [
       "<div><div></div><div></div><div><strong>Installed Packages</strong><ul><li><span>Plotly.NET.Interactive, 3.0.2</span></li></ul></div></div>"
      ]
     },
     "metadata": {},
     "output_type": "display_data"
    },
    {
     "data": {
      "text/markdown": [
       "Loading extensions from `Plotly.NET.Interactive.dll`"
      ]
     },
     "metadata": {},
     "output_type": "display_data"
    }
   ],
   "source": [
    "// Import the required modules\n",
    "#r \"nuget: Plotly.NET.Interactive, 3.0.2\"\n",
    "\n",
    "#I \"./bin/Release/net6.0\"\n",
    "#r \"AltaxoCore.Redist.dll\"\n",
    "#r \"FSOde.dll\"\n",
    "\n",
    "// ... and open the required modules\n",
    "open FsODE\n",
    "open Plotly.NET\n",
    "\n",
    "// First set the model context that remembers the solver method and it´s optiony \n",
    "let modelContext = //OdeContext()\n",
    "    OdeSolverMethod.RK546M //RK547M()\n",
    "    |> OdeContext"
   ]
  },
  {
   "cell_type": "markdown",
   "metadata": {},
   "source": [
    "## Bifurkation\n",
    "\n",
    "Bifurkation beschreibt die qualtitative Änderung des Zustandes eines Systems, das durch nicht lineare Gleichungen beschrieben wird, in Abhängigkeit der Veränderung eines Parameters der Teil der beschreibenden Gleichung ist. Dies ist am einfachstem an einem Beispiel zu erklären. Eine ODE beschreibt den Fall eines Blattes. Dabei fällt das Blatt zuerst in einer schwingenden Bewegungsform, deren Amplitude mit dem absinken abnimmt. Sobald das Blatt eine bestimmten Punkt erreicht hat ändert sich der Fall des Blattes. Statt wie bisher in einer schwingenden Bewegung zu fallen, fällt es jetzt in einer kreiselnden Bewegung. <br>\n",
    "Die Änderung von der einen in die zweite Bewegungsform ist eine typische Bifurkation. Ein bestimmter Parameter in der ODE hat einen bestimmten Wert geändert und hat so den qualitativen Zustand des ODE geändert. \n",
    "Es gibt fünf Grundarten der Bifurkation, webei es bei allen weitere Unterarten gibt je nachdem wo sich Bifurkationspunkte befinden, ob diese stabil sind, und in welche Richtung die Bifurkation sich entwickelt. <br>\n",
    "Bifurkationen werden überlicherweise in der From von Bifurkationsdiagrammen dargestellt. Im folgenden werden drei Bifurkation und deren Bifurkationsdiagramme vorgestellt. \n",
    "Die erste Bifurkationsart ist die Sattel-Knoten-Bifurkation. \n",
    "<center><img style=\"max-width:50%\" src=\"C:/Users/Megaport/Desktop/Bilder Bifurkation/img/beispiel saddlenode.png\"></img></center>\n",
    "_Von: https://modelinginbiology.github.io/Videos/LacOperon-Bifurcation?loc=5604._\n",
    "<br>\n",
    "\n",
    "Bei dieser Bifurkation verliert ein System zwei Fixpunkte wenn der Bifurkationparameter einen bestimmten Wert erreicht. Dabei wandern die beiden Fixpunkte aufeinander zu, wenn sich der Bifurkationparameter diesen Wert nähert und voneinander weg wenn er sich von diesem Wert entfernt. Im Bifurkationdiagramm für die Sattel-Knoten-Bifurkation ist das folgendermaßen zu verstehen. Während der Bifurkationsparameter (hier r) einen Wert von unter 1,8 hat, hat das System nur einen Fixpunkt (gezeigt in blau) Alle x-Werte wandern  zu diesem Fixpunkt. Das heißt für $r=1.8$ würden alle X- Werte nach einiger Zeit den Wert 5.5 annehmen, oder $x(t)=5.5$ für alle $x0$. \n",
    "Wenn r Werte annimmt die im Bereich $1,8<r<5,8$ liegen hat das System drei Fixpunkte. Dabei sind die stabilen FIxpunkte gekennzeichnet durch blaue Punkte und der instabilen Fixpunkte durch einen rote Punkt. Für einen Wert von $r=2.0$ bedeutet dies das x-Werte deren Startwert kleiner als 0,5 ist immer zum niedrigerem blauen Fixpunkt wandern (ungefähr 0,4), wenn der Startwert von x-Wert gleich 0,5 ist würden die x-Werte in Abhängigkeit von der Zeit auf diesem Wert verweilen. Bei Startwerten für x größer 0,5 werden die x-Werte hingegen zum zweiten Fixpunk (ungefähr 4,7) über die Zeit wandern. \n",
    "Oder mathmatischer ausgedrückt:<br>\n",
    "Für r=2 gilt: <br>\n",
    "$$x(t)= 0,4\\quad \\textrm{für alle} \\quad x0<0,4$$\n",
    "$$x(t)= 0,5 \\quad \\textrm{für} \\quad x0= 0,5$$\n",
    "$$x(t)= 4,7 \\quad \\textrm{für alle} \\quad x0>0,5$$\n",
    "Diese Auflistung zeigt auch den unterschied zwischen stabilen und instabilen Fixpunkten. Ein instabiler Fixpunkt in einem System wird nur erreicht, wenn der Startwert x0 diesen genau trifft. Leicht höher oder niedrigere Startwerte führen das System von diesem Fixpunkt weg und zu einem der stabilen Fixpunkte. \n",
    "Sobald r den Wert 5,9 annimmt verschwinden zwei Fixpunkte, der höhere stabile Fixpunkt, und der instabile Fixpunkt. Dieses verschwinden ist die Sattel-Knoten-Bifurkation (da beide Fixpunkte verloren sind). Das System verbleibt mit einem letzten Fixpunkt zu dem alle x-Werte über die Zeit wandern, dass heißt $x(t)=0$ für alle x0 wenn $r>5,8$.\n",
    "<br>\n",
    "Die zweite Art der Bifurkation ist die  Heugabel-Bifurkation. \n",
    "<center><img style=\"max-width:50%\" src=\"C:/Users/Megaport/Desktop/Bilder Bifurkation/img/beispiel pitchfork.png\"></img></center>\n",
    "_Von ONE DIMENSIONALFLOWSLecture 3: Bifurcations; Oxford Universität Abteilung für Pyhsik._\n",
    "<br>\n",
    "\n",
    "Bei dieser Bifurkation verändert das System sich von einem Fixpunkt zu drei Fixpunkten, wobei zwei von diesem Fixpunkten stabil sind und der mittlere Fixpunkt instabil. Das Diagramm zeigt wie das System seinen Zustand beim erreichen des Bifurkationpunktes $r=0$ ändert. Für alle Werte die niedriger sind bewegt sich das System immer zu einem Fixpunkt zu (hier 0), während es sich bei Werten $r>0$ zu drei Fixpunkten entwickeln kann. Wobei hier gilt:<br>\n",
    "$$x(t)= postiv \\quad \\textrm{für alle} \\quad x0>0$$\n",
    "$$x(t)= 0 \\quad \\textrm{für alle} \\quad x0= 0$$\n",
    "$$x(t)= negativ \\quad \\textrm{für alle} \\quad x0<0$$\n",
    " <br>\n",
    "Die dritte Art der Bifurkation ist die Transkritische Bifurkation. <br>\n",
    "<center><img style=\"max-width:50%\" src=\"C:/Users/Megaport/Desktop/Bilder Bifurkation/img/beispiel transkritical.png\"></img></center>\n",
    "_Von Homogene3 - Zellen Netzwerke; Universität Hamburg._\n",
    "\n",
    "\n",
    "Bei dieser Bifurkation ändert sich die Stabilität des Systems beim erreichen des Bifurkationspunktes. Das heißt aus einem instabilem Fixpunkt wird ein stabiler Fixpunkt, und aus einem stabilem Fixpunkt wird ein instabiler Fixpunkt. \n",
    "Die vierte Art der Bifurkation ist die Hopf Bifurkation. <br>\n",
    "Bei dieser Bifurkation wird aus einem stabilem Fixpunkt ein instabiler Fixpunkt von dem die x(t) Werte sich enfernen und in einer bestimmten Entfernung beginnen um diesen Fixpunkt zu rotieren um einen Limit Cycle zu bilden. Diese Bifurkation wird genauer im folgendem Abschnitt der Oszillation behandelt. <br>\n",
    "<br>\n",
    "<br>\n",
    "### Aufgabenablauf\n",
    "\n",
    "Im folgendem müssen sie ODEs aufstellen und anhand der zeitabhängigen Simulation bestimmen, welche Bifurkation dieses System durchläuft. Das ganze wird an einem Beispiel erläutert:\n",
    "Ein System ist beschrieben durch die ODE:<br>\n",
    "$$x' = rx*-x**2$$\n",
    "Eine zeitabhängige Simulation in Abhängigkeit von r ist gegegen als:<br>\n",
    "<center><img style=\"max-width:50%\" src=\"C:/Users/Megaport/Desktop/Bilder Bifurkation/img/simulation example.png\"></img></center>\n",
    "_Simulationen von: https://www.math.ksu.edu/~albin/teaching/math340_fall2018/slides/03_bifurcations.html._\n",
    "<br>\n",
    "\n",
    "Alle x(t) wandern für r=0 gegen den Wert 0. Daher ist davon auszugehen das es einen Fixpunkt bei x=0 gibt, welcher stabil ist. \n",
    "Für x=1 wandern alle x(t) Werte zu dem Wert 1, außer das x(t) welches bei dem Wert x0=0 startet. Dieses x(t) verbleibt beim Wert 0. \n",
    "Daher kann angenommen werden, das dieses System einen Fixpunkt bei x=1 hat welcher stabil ist und einen bei 0, welcher instabil ist.\n",
    "Eine identische Beobachtung kann für r=2 gemacht werden, wobei hier der stabile Fixpunkt allerdings bei x=2 ist. \n",
    "Eine Änderung der Stabilität eines Fixpunktes deutet darauf hin das es sich um eine **Transkritische Bifurkation** handelt. <br>\n",
    "Anmerkung:<br>\n",
    "Für eine Transkritische Bifurkation müsste der andere Fixpunkt ebenfalls seine Stabilität ändern und zwar nachdem er den anderen Fixpunkt passiert hat. Das heißt für r<0 müsste es einen instabilen Fixpunkt geben der unterhalb von 0 liegt. da es für r>0 einen stabilen Fixpunkt gibt der postiv ist (falls es sich um Transkritische Bifurkation handelt). Die gezeigten simulationen zeigen dieses Verhalten allerdings nicht, weshalb offen bleibt ob es sich wirklich um eine Transkritische Bifurkation handelt. Im Rahmen der Aufgaben können sie allerdings davon ausgehen das es sich um eine der besprochenen Bifurkation handelt, auch wenn eventuell vorkommende instabile Fixpunkte nicht auftauchen. "
   ]
  },
  {
   "cell_type": "markdown",
   "metadata": {},
   "source": [
    "#### Lac Operon (Sattelnote Bifurcation)\n",
    "\n",
    "Die Produktion von $\\beta$ - galactosidase und lactose permease werden unter anderem durch die intrzelluläre Laktosekonzentration bestimmt. \n",
    "Diese ist Abhängig von der Anzahl an lactose permease proteinen in der Zellmembran, der extrazellulären Lactosekonzentration, und der Konzentration von $\\beta$ - galactosidase welche die Lactose spaltet. \n",
    "Für die Betrachtung der Bifurkation wird die Betrachtungsweise vereinfacht. <br>\n",
    "Die Intrazelluläre Lactosekonzentration sinkt proportional zu der bereits vorhandenen Lakttosekonzentration, und steight in Abghängigkeit von einer Konstanten Produktion a und der bereits vorhanden intrzellulären Laktosekontration lactose. a und lactose sind beide repressiert, wobei der regulator die intracelluläre Lactosekonzentration lactose ist.\n",
    "Bilde ein ODE für die intrazelluläre Lactosekonzentration. \n"
   ]
  },
  {
   "cell_type": "code",
   "execution_count": null,
   "metadata": {
    "dotnet_interactive": {
     "language": "fsharp"
    },
    "vscode": {
     "languageId": "dotnet-interactive.fsharp"
    }
   },
   "outputs": [],
   "source": [
    "// Bifurkationskonstante\n",
    "let gamma = 0.5\n",
    "// Systemparameter (nicht ändern)\n",
    "let beta,n= 0.05,2.\n",
    "// Definiere eine Funktion welche die Derivate einer Funktion berechnet\n",
    "let dXintralac_dt : Model = \n",
    "    fun U x ->\n",
    "        // Wert der abhängig ist von der Zeit t. (nicht verändern)\n",
    "        let intalac = U[0]\n",
    "        // Differnzialgleichungen welche die Veränderung des Wertes beschreiben\n",
    "        let intralac' = (beta+intalac**n)/(1.+intalac**n)-gamma*intalac\n",
    "        // Rückgabe des neuen Wertes. Nicht verändern.\n",
    "        [| intralac'|]\n",
    "\n"
   ]
  },
  {
   "cell_type": "markdown",
   "metadata": {},
   "source": [
    "Varriere die Proportionalitätskonstante für den Abbau von Lactose. Bestimme um welche Art der Bifurkation es sich handelt. (Anmerkung: instabile Bifurkationspunkte werden eventuell nicht angezeigt.)"
   ]
  },
  {
   "cell_type": "code",
   "execution_count": null,
   "metadata": {
    "dotnet_interactive": {
     "language": "fsharp"
    },
    "vscode": {
     "languageId": "dotnet-interactive.fsharp"
    }
   },
   "outputs": [
    {
     "data": {
      "text/html": [
       "\n",
       "<div>\n",
       "    <div id=\"8cb709e0-1dc7-470e-8acc-818e23279a43\"><!-- Plotly chart will be drawn inside this DIV --></div>\r\n",
       "<script type=\"text/javascript\">\r\n",
       "\r\n",
       "            var renderPlotly_8cb709e01dc7470e8acc818e23279a43 = function() {\r\n",
       "            var fsharpPlotlyRequire = requirejs.config({context:'fsharp-plotly',paths:{plotly:'https://cdn.plot.ly/plotly-2.6.3.min'}}) || require;\r\n",
       "            fsharpPlotlyRequire(['plotly'], function(Plotly) {\r\n",
       "\r\n",
       "            var data = [{\"type\":\"scatter\",\"name\":\"x0=0.0\",\"mode\":\"lines\",\"x\":[0.0,1.0,1.9206042547182185,3.0232480528543677,4.402042399734769,6.101354725960124,8.161395345108982,10.6255581664794,13.541499664512735,16.966512867738597,20.97940873252176,25.69915834012496,31.31187390675991,38.112658150704874,46.579038918773264,57.51037511379685,72.25209329869952,92.42844536835943,117.41719195341356,130.31471569102865],\"y\":[0.0,0.039840322892707315,0.06407619607789268,0.08389455449302943,0.10014632085675718,0.11255396366880759,0.12128405038157004,0.1269003428171371,0.1301647152053349,0.13185501052779244,0.13262228451091215,0.13292129995116597,0.13301828958425224,0.1330432294854242,0.13304794630937766,0.13304854260090776,0.13304853271590444,0.13304734326620876,0.13299845192730553,0.13302604804772655],\"marker\":{},\"line\":{\"shape\":\"spline\"}},{\"type\":\"scatter\",\"name\":\"x0=0.3\",\"mode\":\"lines\",\"x\":[0.0,1.0,2.351226338253425,5.008192648949546,9.391280993623186,14.761977778637402,19.416846545045978,23.75029394154239,28.318154604083414,33.518150465397255,39.68488814907412,47.2265872734218,56.76617564785782,69.3438148789274,86.57903763223186,109.47151221548896,126.55740283583167,142.00267938195188,156.10819048756767,168.73730612584953],\"y\":[0.3,0.27873981640722323,0.2515482995247701,0.20655072765566695,0.16155919710428718,0.1408172880697921,0.13545354501517334,0.13384650643070983,0.13329712328916013,0.13311449584691532,0.13306238858638492,0.13305079088841687,0.13304896852702575,0.13304879313428894,0.13304902328817014,0.13305581011059997,0.13306937214142622,0.13307899335498444,0.13307290113015158,0.13305828573021672],\"marker\":{},\"line\":{\"shape\":\"spline\"}},{\"type\":\"scatter\",\"name\":\"x0=0.6\",\"mode\":\"lines\",\"x\":[0.0,1.0,2.6939598587006555,7.3514310474936995,15.106566918959006,25.019438056324063,35.52070360114042,45.12922968643497,54.04076655063965,62.73945098725824,71.4530273222782,81.04866464178419,92.38444005510402,106.38481806109544,124.3700816760887,148.5050600467166,181.63021736760936,223.49998148182544,246.9457570785437,267.5532046833238],\"y\":[0.6,0.6015595311784652,0.6046522614999261,0.6170659002050005,0.6598909702957854,0.7984943726264853,1.0530000213795998,1.2088881398191005,1.2596251743866198,1.2740566338498622,1.278063917439905,1.2792025423941469,1.2794912763935555,1.2795478158929148,1.279555360418078,1.2795556198267652,1.279547946424655,1.2792529636200192,1.279348108285274,1.2794918344662383],\"marker\":{},\"line\":{\"shape\":\"spline\"}},{\"type\":\"scatter\",\"name\":\"x0=0.9\",\"mode\":\"lines\",\"x\":[0.0,1.0,2.522630423191975,6.091312032019964,11.711271202508417,19.06857693164452,27.242575314997417,35.540296175411754,44.30475678375191,54.25155904016249,66.16163583114643,81.0070222668092,100.27479315879683,126.39371835659615,161.97331846818406,205.0004030923336,225.27417694349066,242.8532265434338,260.5953145009186,281.50620919063056],\"y\":[0.8999999999999999,0.925366748805173,0.9643882874562142,1.0521820349534552,1.1599430748256654,1.2350919599058787,1.2659683724597306,1.2756022772892095,1.278493155672358,1.2793171347046752,1.2795157333387488,1.2795514295808854,1.2795556828673196,1.2795551908177498,1.2795375104051265,1.2787656353100012,1.2793316562913168,1.279521438128654,1.2795511602235015,1.2795549500783723],\"marker\":{},\"line\":{\"shape\":\"spline\"}},{\"type\":\"scatter\",\"name\":\"x0=1.2\",\"mode\":\"lines\",\"x\":[0.0,1.0,2.555626664498111,6.323624409727612,12.147731011766453,19.38962605263332,27.739095063094815,37.388195496274385,48.88786653273466,63.104148380942746,81.39783745118697,106.00802054631886,139.7448869786034,181.95884495090644,204.58394388100976,224.39609262482824,243.82864428864224,265.1910222529157,290.9443591731909,322.55033243212597],\"y\":[1.2,1.2100485100543212,1.2234357262161604,1.2466288076187226,1.265480376311548,1.2747604521541658,1.2781834433894845,1.2792334925969036,1.2794983129315578,1.2795489010680285,1.2795554628761823,1.2795555415426856,1.27954614561982,1.2791711667594639,1.2793462263367061,1.2795036465384595,1.27954464470381,1.2795521937237153,1.279550877686838,1.2795260720667232],\"marker\":{},\"line\":{\"shape\":\"spline\"}},{\"type\":\"scatter\",\"name\":\"x0=1.5\",\"mode\":\"lines\",\"x\":[0.0,1.0,2.301288446140421,4.7623006429220185,8.276281821404982,12.712251401710567,18.10907164974707,24.602954676212867,32.38708572343119,41.74498534498711,53.13213788752478,67.30895017243714,85.57357330969366,110.13908823059391,143.81709769617152,185.99721118412458,208.82598160615632,228.77864870030172,248.26223111028983,269.5378479237279],\"y\":[1.5,1.4621317059109622,1.4236994972615957,1.3736584844414461,1.3323360867212564,1.305739641433627,1.2909594207314026,1.2838088733422106,1.2808705795177602,1.2798788655060858,1.27961605775475,1.2795649781497735,1.2795583264523946,1.2795582309566222,1.2795674502459808,1.2799327735411623,1.2797742434044348,1.2796138870433054,1.2795701659480587,1.2795618603297856],\"marker\":{},\"line\":{\"shape\":\"spline\"}},{\"type\":\"scatter\",\"name\":\"x0=1.8\",\"mode\":\"lines\",\"x\":[0.0,1.0,2.16505543244885,4.051339983719982,6.594735097090872,9.767816457572255,13.65250512662645,18.38208239988861,24.103991552345633,30.981904447775555,39.22938577208896,49.172243395988694,61.344750489421926,76.64612901616097,96.62082071802097,123.81769351580141,160.61330935821252,199.8412686789381,219.7964873397892,237.66769866529611],\"y\":[1.8,1.6928898290162415,1.6010701443799233,1.5001012105353886,1.4176868910626408,1.3597849331961722,1.322273613247937,1.2999342434210415,1.2880386284397483,1.282548889092888,1.280420332286039,1.2797512338123775,1.2795891569107252,1.2795611444046813,1.279558011429273,1.2795589647952403,1.2795865519756255,1.2802063761886637,1.2797274616298508,1.279585076214311],\"marker\":{},\"line\":{\"shape\":\"spline\"}},{\"type\":\"scatter\",\"name\":\"x0=2.1\",\"mode\":\"lines\",\"x\":[0.0,1.0,2.098138966310858,3.73066405822213,5.854947796246014,8.473007385217876,11.671139537848237,15.578413494189828,20.33712602857296,26.09444971637945,33.01413691975026,41.312036502918424,51.31908227967334,63.57872638450011,79.00626180453091,99.17446536002284,126.66472974916694,163.77737463345403,202.67619381374487,222.38195303202824],\"y\":[2.1,1.909934575935917,1.762505954944094,1.6159420772632616,1.4991446976821152,1.4153282495431971,1.358170361150379,1.3213009714647792,1.299393452724377,1.2877725554213002,1.2824374891134067,1.2803820299097317,1.2797408976435178,1.2795871168166906,1.2795608776308383,1.279557995486834,1.2795590894929083,1.2795901992729202,1.2802460951893715,1.2797267552100478],\"marker\":{},\"line\":{\"shape\":\"spline\"}},{\"type\":\"scatter\",\"name\":\"x0=2.4\",\"mode\":\"lines\",\"x\":[0.0,1.0,2.0592163205900036,3.5510162446859734,5.442288190605955,7.7454100281920955,10.543890946094088,13.96043050836141,18.133490118020735,23.206597059828553,29.329683600756713,36.67844254774438,45.49844682242774,56.17815062059917,69.36213428551409,86.14357759203949,108.40368347039815,138.96948369951295,179.00863570576547,206.17536819745462],\"y\":[2.4,2.117915001604316,1.9129826866341777,1.722598593632008,1.5744685238373692,1.4679039624972483,1.3937147314145475,1.3439662879497176,1.3126181451606285,1.2946129683155367,1.2854778144752035,1.2815069109387585,1.280074110478689,1.2796616719994938,1.2795724211323773,1.2795590960648664,1.2795579775837385,1.279561333113696,1.279668730724797,1.2797620560098206],\"marker\":{},\"line\":{\"shape\":\"spline\"}},{\"type\":\"scatter\",\"name\":\"x0=2.7\",\"mode\":\"lines\",\"x\":[0.0,1.0,2.034418028536675,3.4384330193728765,5.182617610063859,7.282933123538951,9.818786721233515,12.906589981379987,16.68053247327058,21.282091695464253,26.856682008215014,33.563114733301894,41.604539938029546,51.28628912726752,63.10622989164118,77.8999035936304,97.09902852703114,123.10960917871274,158.55993777747813,201.53814130166575],\"y\":[2.6999999999999997,2.3196970764056695,2.055686877013139,1.8220758943382303,1.6442530265182462,1.516918904872168,1.4275576631282394,1.3663735600643858,1.3264379231584809,1.3023071004084217,1.2892238344081488,1.2830528373810866,1.2805968613488288,1.2798000075441156,1.279599089918446,1.2795624967688028,1.279558109264792,1.279558558947022,1.279575463381572,1.2803047194459576],\"marker\":{},\"line\":{\"shape\":\"spline\"}},{\"type\":\"scatter\",\"name\":\"x0=3.0\",\"mode\":\"lines\",\"x\":[0.0,1.0,2.0176379864952505,3.36265026610977,5.006331235914063,6.9653341100327815,9.314974416729239,12.166057816801883,15.648465005965571,19.90155623451624,25.06883824965186,31.301384420060018,38.77923174222827,47.758013133513245,58.64503967600187,72.1178389303978,89.32783312584931,112.25387402607669,143.75232401590156,184.52566004265014],\"y\":[2.9999999999999996,2.5171040832434803,2.1926997244829938,1.9159709196315209,1.7094247446324813,1.5626466216876098,1.4594493210564914,1.3879645912335155,1.3402388005954724,1.3103840043375359,1.293415805759171,1.2849225237663437,1.2812909221706272,1.2800062026622325,1.2796453109110024,1.2795696431839934,1.2795587944171796,1.2795580215595448,1.2795625573990543,1.2797179229369928],\"marker\":{},\"line\":{\"shape\":\"spline\"}},{\"type\":\"scatter\",\"name\":\"x0=3.3\",\"mode\":\"lines\",\"x\":[0.0,1.0,2.005773626993244,3.309002799274422,4.880159928192157,6.73520705814536,8.945672756630268,11.617492660243531,14.876471728974314,18.8596643282909,23.709357798891062,29.57281237123007,36.61668424188425,45.06481385754218,55.26396602192489,67.78555591935597,83.59391656220632,104.3479609879238,132.71860566332,170.74422109871205],\"y\":[3.2999999999999994,2.711335975594991,2.3254293816659506,2.0054735707641367,1.7708089725792344,1.6055225099918935,1.4894792109087864,1.4085783067218594,1.353740123595598,1.3185731266993477,1.2978717818332075,1.2870296667863248,1.2821300822980093,1.2802778327741406,1.2797132753100566,1.2795817911978598,1.279560201428149,1.2795579639817394,1.2795595360713252,1.2796040565958016],\"marker\":{},\"line\":{\"shape\":\"spline\"}},{\"type\":\"scatter\",\"name\":\"x0=3.6\",\"mode\":\"lines\",\"x\":[0.0,1.0,1.9970926573784615,3.2695557704316345,4.786243421936954,6.561719181205206,8.664058710013947,11.19497323083351,14.276524774632803,18.043374314058205,22.63670553292937,28.201738118723295,34.89702682222983,42.92509770217353,52.59000102289844,64.38730590151101,79.14853720571035,98.29828954532108,124.23287470811462,159.59360890051636],\"y\":[3.599999999999999,2.9032076310654897,2.4548613996355555,2.091469305580126,1.829074046133769,1.6459650124069625,1.517831292301622,1.428211622114778,1.3668239379162317,1.326723286208389,1.3024706287015646,1.289306325631964,1.283088360351396,1.2806094968813375,1.279803565642726,1.2795998327685614,1.2795626011693404,1.2795581176388315,1.2795585376180527,1.2795749162507855],\"marker\":{},\"line\":{\"shape\":\"spline\"}},{\"type\":\"scatter\",\"name\":\"x0=3.9\",\"mode\":\"lines\",\"x\":[0.0,1.0,1.9905605235201382,3.2396664269076525,4.7141694599191375,6.426864029916705,8.442670060066979,10.859607325786504,13.796341339793763,17.385146573993985,21.766062526186403,27.083087195652574,33.48969103813529,41.1736023527366,50.40755068285303,61.63041163093077,75.57478615680917,93.4896900923513,117.51194544276692,150.4869787925225],\"y\":[3.899999999999999,3.093288024610729,2.581706090220888,2.1746258086313532,1.8847499173085938,1.6843348045610145,1.544701629362656,1.4469220573715702,1.3794517039380376,1.3347521528713533,1.30713316355796,1.2917014079173612,1.2841429178587664,1.2809948167808325,1.2799157743281762,1.2796243228252047,1.2795662517121875,1.2795584482619222,1.2795581446045419,1.2795654577595694],\"marker\":{},\"line\":{\"shape\":\"spline\"}},{\"type\":\"scatter\",\"name\":\"x0=4.2\",\"mode\":\"lines\",\"x\":[0.0,1.0,1.98552730992595,3.216454578478177,4.657481220735577,6.319443673529706,8.264355940247702,10.586978061322945,13.402903190202291,16.84208590069921,21.043355957344303,26.149865251390327,32.31179239453773,39.70630770969744,48.582494078507025,59.33541055408673,72.62118007239528,89.55337094179163,112.0476133714366,142.94423205847693],\"y\":[4.199999999999999,3.2819842360094444,2.706488257024999,2.255454677550252,1.9382567913516142,1.720932414234409,1.570271360571788,1.4647869035452896,1.3916234414705682,1.342616970722312,1.3118080296142927,1.2941771739491426,1.2852746787930032,1.2814274342156216,1.2800489447301389,1.2796555537088767,1.279571369824368,1.279558980240306,1.2795579904700647,1.2795617261941528],\"marker\":{},\"line\":{\"shape\":\"spline\"}},{\"type\":\"scatter\",\"name\":\"x0=4.5\",\"mode\":\"lines\",\"x\":[0.0,1.0,1.981568272788103,3.198050405464892,4.611977720767632,6.232144464702185,8.117866022401788,10.360991328038594,13.07433096848294,16.385618351474072,20.43242153751373,25.357209991932592,31.30796699008681,38.454161528779245,47.026609364656125,57.385620720404106,70.12644481818748,86.25530566943118,107.50414029513482,136.60778153840516],\"y\":[4.499999999999999,3.469593806729641,2.8296038469539893,2.3343540343281153,1.9899301627143828,1.7560058634210245,1.5946994527456702,1.48188596502003,1.4033573200541738,1.3502977947777768,1.3164621332611752,1.2967059066365159,1.286468074161921,1.2819014537034683,1.2802018515242812,1.2796936284916567,1.2795781265454569,1.2795597549600626,1.2795579545763651,1.2795600085919787],\"marker\":{},\"line\":{\"shape\":\"spline\"}},{\"type\":\"scatter\",\"name\":\"x0=4.8\",\"mode\":\"lines\",\"x\":[0.0,1.0,1.9783968329238468,3.1831950535428426,4.5748184830372125,6.1599979465168015,7.995522938193683,10.170613901681401,12.795552548955788,15.99596421926887,19.90812479084854,24.673882849298376,30.43971194961858,37.36935923306919,45.67926487620271,55.701611631862875,67.98205646566156,83.43974722322557,103.65424952215535,131.21453127388526],\"y\":[4.799999999999999,3.6563383462073125,2.9513569435255875,2.411638095940572,2.040040346881297,1.7897598396108547,1.618122573933517,1.498294515119878,1.4146793084370501,1.3577878321502757,1.3210743731226045,1.2992672536469612,1.2877105208265278,1.282411600911895,1.280373168600359,1.2797385198808662,1.2795866510087208,1.2795608172951853,1.2795579921063016,1.2795591208939128],\"marker\":{},\"line\":{\"shape\":\"spline\"}}];\r\n",
       "            var layout = {\"width\":600,\"height\":600,\"template\":{\"layout\":{\"title\":{\"x\":0.05},\"font\":{\"color\":\"rgba(42, 63, 95, 1.0)\"},\"paper_bgcolor\":\"rgba(255, 255, 255, 1.0)\",\"plot_bgcolor\":\"rgba(229, 236, 246, 1.0)\",\"autotypenumbers\":\"strict\",\"colorscale\":{\"diverging\":[[0.0,\"#8e0152\"],[0.1,\"#c51b7d\"],[0.2,\"#de77ae\"],[0.3,\"#f1b6da\"],[0.4,\"#fde0ef\"],[0.5,\"#f7f7f7\"],[0.6,\"#e6f5d0\"],[0.7,\"#b8e186\"],[0.8,\"#7fbc41\"],[0.9,\"#4d9221\"],[1.0,\"#276419\"]],\"sequential\":[[0.0,\"#0d0887\"],[0.1111111111111111,\"#46039f\"],[0.2222222222222222,\"#7201a8\"],[0.3333333333333333,\"#9c179e\"],[0.4444444444444444,\"#bd3786\"],[0.5555555555555556,\"#d8576b\"],[0.6666666666666666,\"#ed7953\"],[0.7777777777777778,\"#fb9f3a\"],[0.8888888888888888,\"#fdca26\"],[1.0,\"#f0f921\"]],\"sequentialminus\":[[0.0,\"#0d0887\"],[0.1111111111111111,\"#46039f\"],[0.2222222222222222,\"#7201a8\"],[0.3333333333333333,\"#9c179e\"],[0.4444444444444444,\"#bd3786\"],[0.5555555555555556,\"#d8576b\"],[0.6666666666666666,\"#ed7953\"],[0.7777777777777778,\"#fb9f3a\"],[0.8888888888888888,\"#fdca26\"],[1.0,\"#f0f921\"]]},\"hovermode\":\"closest\",\"hoverlabel\":{\"align\":\"left\"},\"coloraxis\":{\"colorbar\":{\"outlinewidth\":0.0,\"ticks\":\"\"}},\"geo\":{\"showland\":true,\"landcolor\":\"rgba(229, 236, 246, 1.0)\",\"showlakes\":true,\"lakecolor\":\"rgba(255, 255, 255, 1.0)\",\"subunitcolor\":\"rgba(255, 255, 255, 1.0)\",\"bgcolor\":\"rgba(255, 255, 255, 1.0)\"},\"mapbox\":{\"style\":\"light\"},\"polar\":{\"bgcolor\":\"rgba(229, 236, 246, 1.0)\",\"radialaxis\":{\"linecolor\":\"rgba(255, 255, 255, 1.0)\",\"gridcolor\":\"rgba(255, 255, 255, 1.0)\",\"ticks\":\"\"},\"angularaxis\":{\"linecolor\":\"rgba(255, 255, 255, 1.0)\",\"gridcolor\":\"rgba(255, 255, 255, 1.0)\",\"ticks\":\"\"}},\"scene\":{\"xaxis\":{\"ticks\":\"\",\"linecolor\":\"rgba(255, 255, 255, 1.0)\",\"gridcolor\":\"rgba(255, 255, 255, 1.0)\",\"gridwidth\":2.0,\"zerolinecolor\":\"rgba(255, 255, 255, 1.0)\",\"backgroundcolor\":\"rgba(229, 236, 246, 1.0)\",\"showbackground\":true},\"yaxis\":{\"ticks\":\"\",\"linecolor\":\"rgba(255, 255, 255, 1.0)\",\"gridcolor\":\"rgba(255, 255, 255, 1.0)\",\"gridwidth\":2.0,\"zerolinecolor\":\"rgba(255, 255, 255, 1.0)\",\"backgroundcolor\":\"rgba(229, 236, 246, 1.0)\",\"showbackground\":true},\"zaxis\":{\"ticks\":\"\",\"linecolor\":\"rgba(255, 255, 255, 1.0)\",\"gridcolor\":\"rgba(255, 255, 255, 1.0)\",\"gridwidth\":2.0,\"zerolinecolor\":\"rgba(255, 255, 255, 1.0)\",\"backgroundcolor\":\"rgba(229, 236, 246, 1.0)\",\"showbackground\":true}},\"ternary\":{\"aaxis\":{\"ticks\":\"\",\"linecolor\":\"rgba(255, 255, 255, 1.0)\",\"gridcolor\":\"rgba(255, 255, 255, 1.0)\"},\"baxis\":{\"ticks\":\"\",\"linecolor\":\"rgba(255, 255, 255, 1.0)\",\"gridcolor\":\"rgba(255, 255, 255, 1.0)\"},\"caxis\":{\"ticks\":\"\",\"linecolor\":\"rgba(255, 255, 255, 1.0)\",\"gridcolor\":\"rgba(255, 255, 255, 1.0)\"},\"bgcolor\":\"rgba(229, 236, 246, 1.0)\"},\"xaxis\":{\"title\":{\"standoff\":15},\"ticks\":\"\",\"automargin\":true,\"linecolor\":\"rgba(255, 255, 255, 1.0)\",\"gridcolor\":\"rgba(255, 255, 255, 1.0)\",\"zerolinecolor\":\"rgba(255, 255, 255, 1.0)\",\"zerolinewidth\":2.0},\"yaxis\":{\"title\":{\"standoff\":15},\"ticks\":\"\",\"automargin\":true,\"linecolor\":\"rgba(255, 255, 255, 1.0)\",\"gridcolor\":\"rgba(255, 255, 255, 1.0)\",\"zerolinecolor\":\"rgba(255, 255, 255, 1.0)\",\"zerolinewidth\":2.0},\"annotationdefaults\":{\"arrowcolor\":\"#2a3f5f\",\"arrowhead\":0,\"arrowwidth\":1},\"shapedefaults\":{\"line\":{\"color\":\"rgba(42, 63, 95, 1.0)\"}},\"colorway\":[\"rgba(99, 110, 250, 1.0)\",\"rgba(239, 85, 59, 1.0)\",\"rgba(0, 204, 150, 1.0)\",\"rgba(171, 99, 250, 1.0)\",\"rgba(255, 161, 90, 1.0)\",\"rgba(25, 211, 243, 1.0)\",\"rgba(255, 102, 146, 1.0)\",\"rgba(182, 232, 128, 1.0)\",\"rgba(255, 151, 255, 1.0)\",\"rgba(254, 203, 82, 1.0)\"]},\"data\":{\"bar\":[{\"marker\":{\"line\":{\"color\":\"rgba(229, 236, 246, 1.0)\",\"width\":0.5},\"pattern\":{\"fillmode\":\"overlay\",\"size\":10,\"solidity\":0.2}},\"error_x\":{\"color\":\"rgba(42, 63, 95, 1.0)\"},\"error_y\":{\"color\":\"rgba(42, 63, 95, 1.0)\"}}],\"barpolar\":[{\"marker\":{\"line\":{\"color\":\"rgba(229, 236, 246, 1.0)\",\"width\":0.5},\"pattern\":{\"fillmode\":\"overlay\",\"size\":10,\"solidity\":0.2}}}],\"carpet\":[{\"aaxis\":{\"linecolor\":\"rgba(255, 255, 255, 1.0)\",\"gridcolor\":\"rgba(255, 255, 255, 1.0)\",\"endlinecolor\":\"rgba(42, 63, 95, 1.0)\",\"minorgridcolor\":\"rgba(255, 255, 255, 1.0)\",\"startlinecolor\":\"rgba(42, 63, 95, 1.0)\"},\"baxis\":{\"linecolor\":\"rgba(255, 255, 255, 1.0)\",\"gridcolor\":\"rgba(255, 255, 255, 1.0)\",\"endlinecolor\":\"rgba(42, 63, 95, 1.0)\",\"minorgridcolor\":\"rgba(255, 255, 255, 1.0)\",\"startlinecolor\":\"rgba(42, 63, 95, 1.0)\"}}],\"choropleth\":[{\"colorbar\":{\"outlinewidth\":0.0,\"ticks\":\"\"},\"colorscale\":[[0.0,\"#0d0887\"],[0.1111111111111111,\"#46039f\"],[0.2222222222222222,\"#7201a8\"],[0.3333333333333333,\"#9c179e\"],[0.4444444444444444,\"#bd3786\"],[0.5555555555555556,\"#d8576b\"],[0.6666666666666666,\"#ed7953\"],[0.7777777777777778,\"#fb9f3a\"],[0.8888888888888888,\"#fdca26\"],[1.0,\"#f0f921\"]]}],\"contour\":[{\"colorbar\":{\"outlinewidth\":0.0,\"ticks\":\"\"},\"colorscale\":[[0.0,\"#0d0887\"],[0.1111111111111111,\"#46039f\"],[0.2222222222222222,\"#7201a8\"],[0.3333333333333333,\"#9c179e\"],[0.4444444444444444,\"#bd3786\"],[0.5555555555555556,\"#d8576b\"],[0.6666666666666666,\"#ed7953\"],[0.7777777777777778,\"#fb9f3a\"],[0.8888888888888888,\"#fdca26\"],[1.0,\"#f0f921\"]]}],\"contourcarpet\":[{\"colorbar\":{\"outlinewidth\":0.0,\"ticks\":\"\"}}],\"heatmap\":[{\"colorbar\":{\"outlinewidth\":0.0,\"ticks\":\"\"},\"colorscale\":[[0.0,\"#0d0887\"],[0.1111111111111111,\"#46039f\"],[0.2222222222222222,\"#7201a8\"],[0.3333333333333333,\"#9c179e\"],[0.4444444444444444,\"#bd3786\"],[0.5555555555555556,\"#d8576b\"],[0.6666666666666666,\"#ed7953\"],[0.7777777777777778,\"#fb9f3a\"],[0.8888888888888888,\"#fdca26\"],[1.0,\"#f0f921\"]]}],\"heatmapgl\":[{\"colorbar\":{\"outlinewidth\":0.0,\"ticks\":\"\"},\"colorscale\":[[0.0,\"#0d0887\"],[0.1111111111111111,\"#46039f\"],[0.2222222222222222,\"#7201a8\"],[0.3333333333333333,\"#9c179e\"],[0.4444444444444444,\"#bd3786\"],[0.5555555555555556,\"#d8576b\"],[0.6666666666666666,\"#ed7953\"],[0.7777777777777778,\"#fb9f3a\"],[0.8888888888888888,\"#fdca26\"],[1.0,\"#f0f921\"]]}],\"histogram\":[{\"marker\":{\"pattern\":{\"fillmode\":\"overlay\",\"size\":10,\"solidity\":0.2}}}],\"histogram2d\":[{\"colorbar\":{\"outlinewidth\":0.0,\"ticks\":\"\"},\"colorscale\":[[0.0,\"#0d0887\"],[0.1111111111111111,\"#46039f\"],[0.2222222222222222,\"#7201a8\"],[0.3333333333333333,\"#9c179e\"],[0.4444444444444444,\"#bd3786\"],[0.5555555555555556,\"#d8576b\"],[0.6666666666666666,\"#ed7953\"],[0.7777777777777778,\"#fb9f3a\"],[0.8888888888888888,\"#fdca26\"],[1.0,\"#f0f921\"]]}],\"histogram2dcontour\":[{\"colorbar\":{\"outlinewidth\":0.0,\"ticks\":\"\"},\"colorscale\":[[0.0,\"#0d0887\"],[0.1111111111111111,\"#46039f\"],[0.2222222222222222,\"#7201a8\"],[0.3333333333333333,\"#9c179e\"],[0.4444444444444444,\"#bd3786\"],[0.5555555555555556,\"#d8576b\"],[0.6666666666666666,\"#ed7953\"],[0.7777777777777778,\"#fb9f3a\"],[0.8888888888888888,\"#fdca26\"],[1.0,\"#f0f921\"]]}],\"mesh3d\":[{\"colorbar\":{\"outlinewidth\":0.0,\"ticks\":\"\"}}],\"parcoords\":[{\"line\":{\"colorbar\":{\"outlinewidth\":0.0,\"ticks\":\"\"}}}],\"pie\":[{\"automargin\":true}],\"scatter\":[{\"marker\":{\"colorbar\":{\"outlinewidth\":0.0,\"ticks\":\"\"}}}],\"scatter3d\":[{\"marker\":{\"colorbar\":{\"outlinewidth\":0.0,\"ticks\":\"\"}},\"line\":{\"colorbar\":{\"outlinewidth\":0.0,\"ticks\":\"\"}}}],\"scattercarpet\":[{\"marker\":{\"colorbar\":{\"outlinewidth\":0.0,\"ticks\":\"\"}}}],\"scattergeo\":[{\"marker\":{\"colorbar\":{\"outlinewidth\":0.0,\"ticks\":\"\"}}}],\"scattergl\":[{\"marker\":{\"colorbar\":{\"outlinewidth\":0.0,\"ticks\":\"\"}}}],\"scattermapbox\":[{\"marker\":{\"colorbar\":{\"outlinewidth\":0.0,\"ticks\":\"\"}}}],\"scatterpolar\":[{\"marker\":{\"colorbar\":{\"outlinewidth\":0.0,\"ticks\":\"\"}}}],\"scatterpolargl\":[{\"marker\":{\"colorbar\":{\"outlinewidth\":0.0,\"ticks\":\"\"}}}],\"scatterternary\":[{\"marker\":{\"colorbar\":{\"outlinewidth\":0.0,\"ticks\":\"\"}}}],\"surface\":[{\"colorbar\":{\"outlinewidth\":0.0,\"ticks\":\"\"},\"colorscale\":[[0.0,\"#0d0887\"],[0.1111111111111111,\"#46039f\"],[0.2222222222222222,\"#7201a8\"],[0.3333333333333333,\"#9c179e\"],[0.4444444444444444,\"#bd3786\"],[0.5555555555555556,\"#d8576b\"],[0.6666666666666666,\"#ed7953\"],[0.7777777777777778,\"#fb9f3a\"],[0.8888888888888888,\"#fdca26\"],[1.0,\"#f0f921\"]]}],\"table\":[{\"cells\":{\"fill\":{\"color\":\"rgba(235, 240, 248, 1.0)\"},\"line\":{\"color\":\"rgba(255, 255, 255, 1.0)\"}},\"header\":{\"fill\":{\"color\":\"rgba(200, 212, 227, 1.0)\"},\"line\":{\"color\":\"rgba(255, 255, 255, 1.0)\"}}}]}},\"xaxis\":{\"title\":{\"text\":\"Time\"}},\"yaxis\":{\"title\":{\"text\":\"Intrazelluläre Lactosekonzentration\"}},\"title\":{\"text\":\"\"}};\r\n",
       "            var config = {\"responsive\":true};\r\n",
       "            Plotly.newPlot('8cb709e0-1dc7-470e-8acc-818e23279a43', data, layout, config);\r\n",
       "});\r\n",
       "            };\r\n",
       "            if ((typeof(requirejs) !==  typeof(Function)) || (typeof(requirejs.config) !== typeof(Function))) {\r\n",
       "                var script = document.createElement(\"script\");\r\n",
       "                script.setAttribute(\"src\", \"https://cdnjs.cloudflare.com/ajax/libs/require.js/2.3.6/require.min.js\");\r\n",
       "                script.onload = function(){\r\n",
       "                    renderPlotly_8cb709e01dc7470e8acc818e23279a43();\r\n",
       "                };\r\n",
       "                document.getElementsByTagName(\"head\")[0].appendChild(script);\r\n",
       "            }\r\n",
       "            else {\r\n",
       "                renderPlotly_8cb709e01dc7470e8acc818e23279a43();\r\n",
       "            }\r\n",
       "</script>\r\n",
       "\n",
       "    \n",
       "</div>    \n"
      ]
     },
     "metadata": {},
     "output_type": "display_data"
    }
   ],
   "source": [
    "[\n",
    "    for r in [0.0 ..0.3.. 5.0] do\n",
    "        let intralac0 = [|r|]\n",
    "        let simulationIntralac = \n",
    "            modelContext.OdeInt(0.,intralac0,dXintralac_dt)\n",
    "            |> SolPoints.take 20\n",
    "            |> SolPoints.memorize\n",
    "        let name = sprintf \"x0=%.1f\" r\n",
    "        let y = simulationIntralac |> SolPoints.toPoints 1\n",
    "        Chart.Spline (y, Name=name )\n",
    "    \n",
    "]\n",
    "|> Chart.combine        \n",
    "|> Chart.withXAxisStyle(\"Time\")\n",
    "|> Chart.withYAxisStyle(\"Intrazelluläre Lactosekonzentration\")\n",
    "|> Chart.withTitle(\"\")"
   ]
  },
  {
   "cell_type": "markdown",
   "metadata": {},
   "source": [
    "#### Laterale Inhibition (Pitchfork bifurcation)\n",
    "\n",
    "Laterale Inhibition ist ein Prozess bei dem das Schicksal von Zellen bestimmt wird mittles Zell-Zell Kommunikation. Laterale Inhibition ist entscheidend für die Generirung von Mustern in Geweben, so das ein bestimmter Zelltyp von anderen Zelltypen umgeben ist, und bei der Reproduktion von Stammzellen, bei der eine Tochterzelle die Fähigkeit behält sich zu teilen, während die andere sich in einen bestimmten Zelltyp spezialisiert. <br>\n",
    "Das Delta Notch Paar, beides Oberflächenproteine, ist das am besten untersuchte Beispiel für die laterale Inhibition. Dabei kann Delta als Ligand und Notch als Rezeptor aufgefasst werden. Hohe Konzentrationen von Delta auf der einen Zelloberfläche führen zu einer Repression der Delta produktion in der anderen Zelle. Dies wird ausgelöst durch das biden der Delta protein der einen Zelle an die Notch protein der anderen Zelle. <br>\n",
    "<br>\n",
    "Eine Mutterzelle teilt sich in zwei Tochterzellen. Die Konzentration von Deltaproteinen in beiden Zellen kann durch ODE beschrieben werden. Dabei ist die Produktion in der einen Zelle abhängig von Konzentration an Delta in der anderen Zelle. Diese Abhängigkeit kann durch eine inhibatorische Hill funktion beschrieben werden, wobei die Inhibitorkonzentration noch durch eine Bindunkskonstante I ergänzt wird, welche die stärke der Bindung der beiden Zellen zueinander beschreibt. Die Rate Konstanten, sowie die Produktionsrate $\\beta$, von beiden Zellen können als identisch angenommen werden. Die Reduktion der Deltakonzentration ist proportional zur der aktuellen konzentration von Deltaproteinen in der Zelle. \n",
    "Stelle die beiden ODEs auf.\n"
   ]
  },
  {
   "cell_type": "code",
   "execution_count": null,
   "metadata": {
    "dotnet_interactive": {
     "language": "fsharp"
    },
    "vscode": {
     "languageId": "dotnet-interactive.fsharp"
    }
   },
   "outputs": [],
   "source": [
    "// Bifurkationskonstante\n",
    "let I = 0.1\n",
    "// Systemparameter (nicht ändern)\n",
    "let beta,K,n,gamma = 1.,1.,4,0.5\n",
    "// Define a function which calculates the derivative\n",
    "let dXdelta_dt : Model = \n",
    "    // Here U is a vector such that y=U[0] and z=U[1]. This function should return [y', z']\n",
    "    fun U x ->\n",
    "        // States at given x. Leave as is. \n",
    "        let delta1 = U[0]\n",
    "        let delta2 = U[1]\n",
    "        // Functions for computing the change of the state \n",
    "        let delta1' = beta*(K**n) / ((K**n)+(I*delta2)**n) - gamma* delta1\n",
    "        let delta2' = beta*(K**n) / ((K**n)+(I*delta1)**n) - gamma* delta2\n",
    "        // Resulting new states. Leave as is. \n",
    "        [| delta1'; delta2'|]"
   ]
  },
  {
   "cell_type": "markdown",
   "metadata": {},
   "source": [
    "Varriere die Bindunskonstante I. Bestimme die Bifurkationspunkte und ob diese instabil oder stabil sind. Bestimme außerdem um welche Art der Bifurkation es sich handelt. (Anmerkung: instabile Bifurkationspunkte werden eventuell nicht angezeigt.)"
   ]
  },
  {
   "cell_type": "code",
   "execution_count": null,
   "metadata": {
    "dotnet_interactive": {
     "language": "fsharp"
    },
    "vscode": {
     "languageId": "dotnet-interactive.fsharp"
    }
   },
   "outputs": [
    {
     "data": {
      "text/html": [
       "\n",
       "<div>\n",
       "    <div id=\"c3cdf17b-fc41-4be1-be1e-f211dcde0f1b\"><!-- Plotly chart will be drawn inside this DIV --></div>\r\n",
       "<script type=\"text/javascript\">\r\n",
       "\r\n",
       "            var renderPlotly_c3cdf17bfc414be1be1ef211dcde0f1b = function() {\r\n",
       "            var fsharpPlotlyRequire = requirejs.config({context:'fsharp-plotly',paths:{plotly:'https://cdn.plot.ly/plotly-2.6.3.min'}}) || require;\r\n",
       "            fsharpPlotlyRequire(['plotly'], function(Plotly) {\r\n",
       "\r\n",
       "            var data = [{\"type\":\"scatter\",\"name\":\"x0=0.0\",\"mode\":\"lines\",\"x\":[0.0,1.0,1.9177381556145607,2.973817652520226,4.197306846665269,5.596324664569287,7.186247926883901,8.996024704640705,11.071766388975796,13.482345066396855,16.329758018652416,19.76830058972791,24.04075857203118,29.548223290827515,36.96449179100176,47.124669105568756,59.78594323182429,66.47625528281493,72.32053739700774,78.06545646308818,84.43163637316788,92.1811089506298,101.7671594306584,112.63559350523337,119.00301325141085,124.75595862448503,130.5690986168754,137.20952940885155,145.40740598561987,155.44454778945945,166.40769008408574,172.14962871995417,177.29606212845616,182.62272687586395,189.07082351080578,197.54635131501794,208.49116468552242,219.13040171548016,226.22011037324904,231.96692851718836],\"y\":[0.0,0.7868911323558546,1.2331123890557454,1.54722609203818,1.753546908389772,1.8763204002571143,1.9426001241670037,1.974977294351616,1.9891226613274489,1.9945288039856297,1.996273925463111,1.9967252123093868,1.996811701624741,1.9968228387120666,1.9968228771426813,1.9968051190208103,1.996093240240495,1.9964555689812136,1.9967383830007466,1.996806444535238,1.9968182664277607,1.9968159612920349,1.9967728464678898,1.9961383438649818,1.9965679420688822,1.9967689875942118,1.9968123757169756,1.9968190549098692,1.9968131334677228,1.9967318307037694,1.9955248465243953,1.9965428285221591,1.996783164266253,1.9968184299546488,1.9968225295851507,1.9968185097080864,1.996731583826957,1.9957582758207346,1.996038347027428,1.996653559181756],\"marker\":{},\"line\":{\"shape\":\"spline\"}},{\"type\":\"scatter\",\"name\":\"x0=0.1\",\"mode\":\"lines\",\"x\":[0.0,1.0,1.9220867108339132,2.9886538363317756,4.2243500444608735,5.636441685295471,7.240864161628278,9.067634575357769,11.164281281029035,13.601625515816085,16.48459386344665,19.972250402680572,24.31569083790373,29.93107777120074,37.51465954596138,47.88240874309022,60.64190788849371,67.06548778286758,72.65357559376193,78.20610480535795,84.53074281297577,92.46088193203603,102.48743618413448,113.89034631087226,119.94210759299904,125.33147281051261,130.82498538229206,137.3025847337562,145.6205662425826,156.18655367639525,166.62863796886603,173.8359534916039,179.75096584510595,185.23959738283642,191.0156508823921,197.93763942835722,206.76156999456705,217.57937481165652,227.155662694651,233.6814735840502],\"y\":[0.1,0.8475441275277333,1.2730255184560453,1.5730010833780068,1.7689252471992436,1.884695298332086,1.9467447285738917,1.9768232843379783,1.9898489034659046,1.9947735865932648,1.9963413810000477,1.9967393828950595,1.9968137730047366,1.9968230482963674,1.9968227198827821,1.9968006327264483,1.9958819347674543,1.9964535752173043,1.9967535688635907,1.996811811042572,1.9968204567927799,1.99681777575116,1.9967679499400783,1.9957876487149422,1.9965332230507538,1.9967758371734652,1.996816359309749,1.996821593747072,1.9968173185328097,1.9967384994902742,1.9959547252440473,1.9961104754541297,1.9966462967190206,1.9967929847669048,1.996818096316153,1.9968207596012406,1.9968106787843003,1.9966388606428045,1.9957819805467478,1.9963707006046238],\"marker\":{},\"line\":{\"shape\":\"spline\"}},{\"type\":\"scatter\",\"name\":\"x0=0.2\",\"mode\":\"lines\",\"x\":[0.0,1.0,1.9260889155796965,3.0025000177826295,4.24992030941772,5.674771814641552,7.29349291157076,9.137128106393263,11.254603699103866,13.718693332245813,16.63728406051674,20.17428823107781,24.58928770540772,30.31382855890059,38.06600619487893,48.636339999237336,61.47717402627876,67.64784270869528,72.99554446664635,78.36279240264818,84.62630818725613,92.67734379376779,103.05753952332527,114.93053639193693,120.77492033882959,125.91916317572597,131.18560448764092,137.50634161678417,145.79867963962988,156.58286917364927,167.45674219982192,174.78681721509736,180.67739406274237,186.06379057435728,191.67229555430725,198.39238380893778,207.04541331805052,217.8750289750422,227.87690841072813,234.65373638136484],\"y\":[0.2,0.9081971228843722,1.3126500011487434,1.598221599065029,1.7837768524442645,1.8926916639869056,1.9506593162929409,1.978547031994343,1.9905182912741795,1.994995695763416,1.9964013913525194,1.9967516722570486,1.9968155174710362,1.9968232231450824,1.9968225331522262,1.9967951171321305,1.9956192526895027,1.9964481291265903,1.9967630099700682,1.9968149054036626,1.996821771409171,1.9968192160714926,1.9967666113011984,1.99543221864693,1.9964967024832194,1.9967763337220925,1.9968175735707994,1.9968225333422973,1.9968194570779498,1.9967522858767048,1.9958627780831684,1.9959410919817824,1.9966083244031543,1.9967885859986032,1.996818101491078,1.996821545387154,1.996814704764019,1.9966891030162441,1.995802208582911,1.996261030849913],\"marker\":{},\"line\":{\"shape\":\"spline\"}},{\"type\":\"scatter\",\"name\":\"x0=0.3\",\"mode\":\"lines\",\"x\":[0.0,1.0,1.9297543336314202,3.0153653477448765,4.274011130347489,5.711289721066882,7.3440882661491775,9.204434783588288,11.342631372408595,13.833403422181744,16.787624077016442,20.374124724736692,24.861134059931942,30.695852141929638,38.61737856256074,49.384459345093134,62.29004571519482,68.22173620926844,73.34455276830514,78.53282952367653,84.71268136924951,92.81427675924914,103.43951136584276,115.7004459063429,121.44551573698877,126.45870019535619,131.59439019648553,137.80234688709155,146.02059603206902,156.84102065315486,167.9861478399172,175.45537136110812,181.38722534601592,186.74994630955015,192.26242232813095,198.8236844739344,207.28473230261545,218.00035279861154,228.3085435421352,235.33967737843358],\"y\":[0.30000000000000004,0.9688501184965663,1.3520099861824744,1.6229301874548963,1.7981402899492,1.9003370320075483,1.954360986960606,1.9801580757210193,1.9911356169595458,1.995197260652612,1.9964547609763834,1.9967623224277629,1.996816987080526,1.9968233700018048,1.9968223158965817,1.996788382913998,1.9952972992943614,1.9964375763235296,1.9967680533031915,1.996816610257252,1.996822566392412,1.9968203726491287,1.9967695728950305,1.995183707958856,1.9964676860020933,1.9967746255786691,1.9968177863589733,1.9968228739963567,1.9968204736418822,1.9967635306016271,1.995863696158154,1.9958234608144894,1.9965705968428955,1.996782794294221,1.9968175083385362,1.9968217987392562,1.9968168115506453,1.996723602557598,1.995888414550806,1.996170044974482],\"marker\":{},\"line\":{\"shape\":\"spline\"}},{\"type\":\"scatter\",\"name\":\"x0=0.4\",\"mode\":\"lines\",\"x\":[0.0,1.0,1.9330893188899583,3.0272496059887075,4.296599554813181,5.745945634776145,7.392570848070229,9.26943992558963,11.428204410861719,13.945535274426765,16.935309320455794,20.571334719541312,25.13062418199949,31.076244480424467,39.167199275580444,50.124269444000376,61.89724210885663,67.8903439149456,73.2576136642216,78.75344370958567,85.26714409880513,93.65502914174617,104.30262190989586,114.69243598162261,121.81572604999153,127.6707701583205,133.12855621094656,138.9206444273439,145.91261794714018,154.85662242714344,165.79312327600923,175.26722899330085,181.6649300863908,187.14022088002602,192.51441848354781,198.63524747836902,206.38762497805376,216.3860854046058,228.05417252818467,234.328265788141],\"y\":[0.4,1.0295031144492872,1.3911276810834434,1.647166047314566,1.812050874574453,1.9076564186022753,1.9578651776220413,1.9816649864583866,1.9917051691304755,1.9953801765464247,1.9965021995650565,1.9967715435866238,1.9968182258372738,1.9968234944596748,1.9968220678084274,1.9967802388245506,1.995812769983472,1.9965540417951972,1.996779918796733,1.9968170755792103,1.9968217670146995,1.9968172292239155,1.9967326916305046,1.995925849766842,1.9961405427889982,1.9966620706080787,1.996796404994968,1.9968187704359974,1.9968209018582985,1.9968097557128974,1.9966117892969553,1.995713140993654,1.9963950014590832,1.9967482093407116,1.9968123516134586,1.996821423846111,1.996820105444396,1.9967862275399813,1.995996861482335,1.9965393424391158],\"marker\":{},\"line\":{\"shape\":\"spline\"}},{\"type\":\"scatter\",\"name\":\"x0=0.5\",\"mode\":\"lines\",\"x\":[0.0,1.0,1.936099230769846,3.038149444230521,4.317655021096926,5.778675581327027,7.438838852718197,9.331996280074245,11.51111734090543,14.054805320258623,17.079947600919326,20.765369298900143,25.396972283259288,31.45382815390225,39.71348083674243,50.852823872504324,62.43583566467385,68.28590931212766,73.53864559579056,78.95487389756349,85.45438587338623,93.9193366914764,104.75178905354726,115.23725626331286,122.30366261040436,128.07679007965464,133.45846480705956,139.20513071483833,146.20218400943583,155.2246092840925,166.31202841689336,175.82519563420504,182.16429783116132,187.5711817133973,192.88514155005743,198.97140950392105,206.7303680634493,216.79889638975163,228.5941000042278,234.84569298111242],\"y\":[0.5,1.090156110841674,1.4300243234900947,1.670966732983558,1.825542131504139,1.9146732885218243,1.9611862149413026,1.9830756491250001,1.992230861542881,1.9955461573335438,1.9965443408303867,1.9967795198282592,1.9968192711431103,1.9968236012632103,1.9968217898525489,1.9967705122372958,1.995718787315929,1.996562386410393,1.9967839928443405,1.996818185315306,1.996822280592894,1.996817944062877,1.996730363227347,1.9958430884054625,1.9961148721362696,1.996666770619699,1.996798529804482,1.9968194636713394,1.996821346803243,1.9968104559767943,1.996601536052149,1.9956258322499523,1.9963855047128234,1.9967498549204228,1.9968130594819327,1.9968217465210654,1.9968205071955245,1.9967874779170058,1.9959626266345611,1.996533499081872],\"marker\":{},\"line\":{\"shape\":\"spline\"}},{\"type\":\"scatter\",\"name\":\"x0=0.6\",\"mode\":\"lines\",\"x\":[0.0,1.0,1.9387902600039313,3.0480637351651083,4.337147109429783,5.80941039542844,7.482777678710177,9.391933957701738,11.591129156490126,14.16087690093142,17.221068673458273,20.955564227884445,25.659218434626535,31.82715379198092,40.253835684296824,51.5667726341205,62.95641259623635,68.67193752819082,73.81799364452507,79.15820454960951,85.6363194534199,94.15559515182461,105.13873597318468,115.72334380841937,122.75742172161613,128.47076032293276,133.79144249912054,139.49336086742082,146.47662022804175,155.53674868216154,166.72670708717314,176.30084341774517,182.62133619793394,187.99104309777277,193.26405744380014,199.31386758203848,207.0501924140192,217.13086868247385,228.99245911053188,235.2699935602705],\"y\":[0.6000000000000001,1.1508091077870164,1.4687207852182018,1.694369249758242,1.838646769202787,1.9214102121541035,1.964337693835444,1.9843974562187183,1.9927163218123234,1.9956967718427125,1.9965817557004923,1.9967864133375117,1.9968201548897477,1.9968236945527198,1.9968214849482244,1.9967590802968298,1.995627594950716,1.996569534832796,1.9967870898636353,1.9968190083278645,1.9968226793380859,1.9968186152951775,1.9967304425897352,1.9957779959309514,1.9960890747162612,1.996668455103669,1.9967997269445705,1.9968199133254736,1.9968216943920838,1.9968113528896152,1.9966014162124988,1.9955709937287962,1.9963729224408637,1.9967494021608463,1.996813254531855,1.9968219131802984,1.9968208179961164,1.9967896116694521,1.9959796617138985,1.996532238059151],\"marker\":{},\"line\":{\"shape\":\"spline\"}},{\"type\":\"scatter\",\"name\":\"x0=0.7\",\"mode\":\"lines\",\"x\":[0.0,1.0,1.9411708184741236,3.056997867656226,4.355052031130882,5.838083368893981,7.524268042240042,9.449068622854963,11.66797132138317,14.263367793413307,17.358130831353254,21.141144765267622,25.91622996168612,32.19449606479769,40.78548224512795,52.262407707746775,63.45774910807972,69.0474719123718,74.0947651143055,79.3626947696739,85.81275375625263,94.36451196883536,105.4646353426313,116.15152286898997,123.1760375903286,128.84987756348244,134.12352011736058,139.78206589812794,146.7362039396655,155.79952263261202,167.04959573240873,174.69832218823115,181.62206527861386,188.22570901983252,194.79262740845806,201.76388357747447,209.50910824318544,218.12706982270305,227.20315890693,235.8810636441239],\"y\":[0.7000000000000001,1.2114621054127368,1.507237855296762,1.7174106193574061,1.8513972418226217,1.9278892728691188,1.9673327218399077,1.985637435872325,1.9931649511971652,1.9958334688547206,1.9966149616984055,1.996792367492079,1.9968209043071037,1.9968237780655187,1.9968211588224276,1.9967459133816723,1.9955423307682612,1.996575676049624,1.9967894412851215,1.9968196230026969,1.9968229930351729,1.99681924449625,1.9967328248629814,1.995734009372114,1.996063698407416,1.9966677580198073,1.9968002531524291,1.99682019252209,1.9968219691057398,1.9968123650794254,1.9966098036174893,1.9965611246854766,1.9966576535674385,1.996746496438049,1.9967895217786462,1.9968015813807074,1.996793681437853,1.9967384686601495,1.9964865173327306,1.995850588267748],\"marker\":{},\"line\":{\"shape\":\"spline\"}},{\"type\":\"scatter\",\"name\":\"x0=0.8\",\"mode\":\"lines\",\"x\":[0.0,1.0,1.9432524349879003,3.0649667863132244,4.371357599386532,5.864636300020808,7.56319238470782,9.5032077883993,11.741353604429474,14.361855216856515,17.49052453367884,21.321226939055467,26.16669857851088,32.55384488996863,41.3052471605559,52.935706331981216,61.65194478374601,69.53505925474589,76.7287532721964,83.15348715425216,89.21054314049614,95.47233077363042,102.58004547373223,111.04187148980904,120.81628392035897,129.66980714641656,137.26130117629077,143.95653325467407,149.8972252581326,155.6910977961452,162.05681415839678,169.73033064180038,179.1636083235012,189.8674086650304,198.02935361107853,204.52860548382523,210.24321674950005,215.72947966955476,221.82618300766373,229.3732344727122],\"y\":[0.8,1.2721151038603562,1.5455962508090346,1.7401279938389647,1.86382596973016,1.9341322750302494,1.9701840612360428,1.986802332170381,1.9935799641221872,1.995957594436754,1.9966444297886852,1.9967975092555272,1.99682154264337,1.9968238552997009,1.9968208210141543,1.9967311310321707,1.9965439349039622,1.9964000804614392,1.9964770654100021,1.996686238362651,1.9967856515102564,1.9968117080999637,1.996815038815972,1.996800301248011,1.9966635376971171,1.99629046163586,1.9962007966401587,1.9965048442943105,1.9967429318527647,1.9968065842498477,1.996818259920049,1.996816470535858,1.9967804286706894,1.996290725751368,1.9958094446955272,1.9963922144464787,1.996732932088664,1.996808621919684,1.9968204026208758,1.9968198126853487],\"marker\":{},\"line\":{\"shape\":\"spline\"}},{\"type\":\"scatter\",\"name\":\"x0=0.9\",\"mode\":\"lines\",\"x\":[0.0,1.0,1.9450501291789162,3.071996646963818,4.386066503244443,5.8890238021657755,7.599439505372533,9.554155232815988,11.810967867977517,14.455878574086888,17.617573515964747,21.49481603691976,26.409134513334127,32.902893974649544,41.80956556175215,53.58237036742055,62.056874901938045,69.68773044715121,76.706377995563,83.12904242977898,89.3686516163631,95.95783521721218,103.44255927739682,112.14249358449814,121.7636688052582,129.8954652219652,136.8419466307603,143.14103936252377,149.14156850702105,155.47954107326484,162.80370329250096,171.5799659751579,181.60524638661283,190.14773743366223,197.30688994043965,203.63826507452086,209.44818021132295,215.41642181190448,222.27839397850175,230.6954947035796],\"y\":[0.9,1.3327681032854568,1.5838164176555076,1.762558413386724,1.875965291941458,1.9401608016468774,1.972904198134808,1.987898653208781,1.9939644146479953,1.9960704044829882,1.9966705896529384,1.9968019511145598,1.9968220897261024,1.9968239296393309,1.9968204859496654,1.9967150674857794,1.996552135712029,1.9964925486494982,1.9965927415537932,1.9967323850219376,1.996793996860941,1.9968107066793983,1.9968097442837782,1.996779474505444,1.99655845154301,1.9963289479706108,1.9965025384687964,1.9967108018731548,1.9967942846802698,1.9968139104643543,1.9968148318753394,1.9967926740338302,1.996575085559301,1.9961770553682716,1.9963132863388224,1.9966385211118112,1.996782305458392,1.996814002947479,1.9968185379024117,1.9968094482149579],\"marker\":{},\"line\":{\"shape\":\"spline\"}},{\"type\":\"scatter\",\"name\":\"x0=1.0\",\"mode\":\"lines\",\"x\":[0.0,1.0,1.9465822917798548,3.078125106988913,4.399197882094331,5.911215929637006,7.632907599232185,9.601713881476261,11.876490358058774,14.544940756724714,17.738534615837565,21.66080415812268,26.641860461808896,33.2390311143066,42.2944841866733,54.19786248992788,62.44681268209896,69.84445579471598,76.70066119122046,83.12214752725683,89.54082592321579,96.4564597703375,104.31284162078015,113.22570238727629,122.66870955334636,130.1584389521882,136.54733332167282,142.50286769450472,148.5661956020475,155.44434159770242,163.7456793642584,173.58791243460544,184.0264461088485,189.69213206651364,194.82673121902945,200.17908796330755,206.69823673382731,215.2853993282246,226.33743702166058,236.85368099262357],\"y\":[1.0,1.3934211038576283,1.621918196601573,1.7847383218516724,1.8878472312330694,1.9459961702805617,1.9755053654293457,1.9889327003721704,1.994321215827213,1.996173074703689,1.996693834093332,1.9968057927324858,1.996822562435326,1.9968240044337913,1.996820173913492,1.9966983391078916,1.9965621238255344,1.9965638202092195,1.9966677121723455,1.9967622321602103,1.9968001551220993,1.9968093343522217,1.9968016694221513,1.9967431154322623,1.9964028690074127,1.9963730394738606,1.9966506211125863,1.996779725669689,1.9968122453074022,1.9968173398564313,1.996808264577811,1.9967097481854859,1.995660672831306,1.996585743664852,1.9967896758787445,1.9968193898956614,1.9968227389377589,1.9968183963103527,1.9967230322763436,1.995743380120871],\"marker\":{},\"line\":{\"shape\":\"spline\"}}];\r\n",
       "            var layout = {\"width\":600,\"height\":600,\"template\":{\"layout\":{\"title\":{\"x\":0.05},\"font\":{\"color\":\"rgba(42, 63, 95, 1.0)\"},\"paper_bgcolor\":\"rgba(255, 255, 255, 1.0)\",\"plot_bgcolor\":\"rgba(229, 236, 246, 1.0)\",\"autotypenumbers\":\"strict\",\"colorscale\":{\"diverging\":[[0.0,\"#8e0152\"],[0.1,\"#c51b7d\"],[0.2,\"#de77ae\"],[0.3,\"#f1b6da\"],[0.4,\"#fde0ef\"],[0.5,\"#f7f7f7\"],[0.6,\"#e6f5d0\"],[0.7,\"#b8e186\"],[0.8,\"#7fbc41\"],[0.9,\"#4d9221\"],[1.0,\"#276419\"]],\"sequential\":[[0.0,\"#0d0887\"],[0.1111111111111111,\"#46039f\"],[0.2222222222222222,\"#7201a8\"],[0.3333333333333333,\"#9c179e\"],[0.4444444444444444,\"#bd3786\"],[0.5555555555555556,\"#d8576b\"],[0.6666666666666666,\"#ed7953\"],[0.7777777777777778,\"#fb9f3a\"],[0.8888888888888888,\"#fdca26\"],[1.0,\"#f0f921\"]],\"sequentialminus\":[[0.0,\"#0d0887\"],[0.1111111111111111,\"#46039f\"],[0.2222222222222222,\"#7201a8\"],[0.3333333333333333,\"#9c179e\"],[0.4444444444444444,\"#bd3786\"],[0.5555555555555556,\"#d8576b\"],[0.6666666666666666,\"#ed7953\"],[0.7777777777777778,\"#fb9f3a\"],[0.8888888888888888,\"#fdca26\"],[1.0,\"#f0f921\"]]},\"hovermode\":\"closest\",\"hoverlabel\":{\"align\":\"left\"},\"coloraxis\":{\"colorbar\":{\"outlinewidth\":0.0,\"ticks\":\"\"}},\"geo\":{\"showland\":true,\"landcolor\":\"rgba(229, 236, 246, 1.0)\",\"showlakes\":true,\"lakecolor\":\"rgba(255, 255, 255, 1.0)\",\"subunitcolor\":\"rgba(255, 255, 255, 1.0)\",\"bgcolor\":\"rgba(255, 255, 255, 1.0)\"},\"mapbox\":{\"style\":\"light\"},\"polar\":{\"bgcolor\":\"rgba(229, 236, 246, 1.0)\",\"radialaxis\":{\"linecolor\":\"rgba(255, 255, 255, 1.0)\",\"gridcolor\":\"rgba(255, 255, 255, 1.0)\",\"ticks\":\"\"},\"angularaxis\":{\"linecolor\":\"rgba(255, 255, 255, 1.0)\",\"gridcolor\":\"rgba(255, 255, 255, 1.0)\",\"ticks\":\"\"}},\"scene\":{\"xaxis\":{\"ticks\":\"\",\"linecolor\":\"rgba(255, 255, 255, 1.0)\",\"gridcolor\":\"rgba(255, 255, 255, 1.0)\",\"gridwidth\":2.0,\"zerolinecolor\":\"rgba(255, 255, 255, 1.0)\",\"backgroundcolor\":\"rgba(229, 236, 246, 1.0)\",\"showbackground\":true},\"yaxis\":{\"ticks\":\"\",\"linecolor\":\"rgba(255, 255, 255, 1.0)\",\"gridcolor\":\"rgba(255, 255, 255, 1.0)\",\"gridwidth\":2.0,\"zerolinecolor\":\"rgba(255, 255, 255, 1.0)\",\"backgroundcolor\":\"rgba(229, 236, 246, 1.0)\",\"showbackground\":true},\"zaxis\":{\"ticks\":\"\",\"linecolor\":\"rgba(255, 255, 255, 1.0)\",\"gridcolor\":\"rgba(255, 255, 255, 1.0)\",\"gridwidth\":2.0,\"zerolinecolor\":\"rgba(255, 255, 255, 1.0)\",\"backgroundcolor\":\"rgba(229, 236, 246, 1.0)\",\"showbackground\":true}},\"ternary\":{\"aaxis\":{\"ticks\":\"\",\"linecolor\":\"rgba(255, 255, 255, 1.0)\",\"gridcolor\":\"rgba(255, 255, 255, 1.0)\"},\"baxis\":{\"ticks\":\"\",\"linecolor\":\"rgba(255, 255, 255, 1.0)\",\"gridcolor\":\"rgba(255, 255, 255, 1.0)\"},\"caxis\":{\"ticks\":\"\",\"linecolor\":\"rgba(255, 255, 255, 1.0)\",\"gridcolor\":\"rgba(255, 255, 255, 1.0)\"},\"bgcolor\":\"rgba(229, 236, 246, 1.0)\"},\"xaxis\":{\"title\":{\"standoff\":15},\"ticks\":\"\",\"automargin\":true,\"linecolor\":\"rgba(255, 255, 255, 1.0)\",\"gridcolor\":\"rgba(255, 255, 255, 1.0)\",\"zerolinecolor\":\"rgba(255, 255, 255, 1.0)\",\"zerolinewidth\":2.0},\"yaxis\":{\"title\":{\"standoff\":15},\"ticks\":\"\",\"automargin\":true,\"linecolor\":\"rgba(255, 255, 255, 1.0)\",\"gridcolor\":\"rgba(255, 255, 255, 1.0)\",\"zerolinecolor\":\"rgba(255, 255, 255, 1.0)\",\"zerolinewidth\":2.0},\"annotationdefaults\":{\"arrowcolor\":\"#2a3f5f\",\"arrowhead\":0,\"arrowwidth\":1},\"shapedefaults\":{\"line\":{\"color\":\"rgba(42, 63, 95, 1.0)\"}},\"colorway\":[\"rgba(99, 110, 250, 1.0)\",\"rgba(239, 85, 59, 1.0)\",\"rgba(0, 204, 150, 1.0)\",\"rgba(171, 99, 250, 1.0)\",\"rgba(255, 161, 90, 1.0)\",\"rgba(25, 211, 243, 1.0)\",\"rgba(255, 102, 146, 1.0)\",\"rgba(182, 232, 128, 1.0)\",\"rgba(255, 151, 255, 1.0)\",\"rgba(254, 203, 82, 1.0)\"]},\"data\":{\"bar\":[{\"marker\":{\"line\":{\"color\":\"rgba(229, 236, 246, 1.0)\",\"width\":0.5},\"pattern\":{\"fillmode\":\"overlay\",\"size\":10,\"solidity\":0.2}},\"error_x\":{\"color\":\"rgba(42, 63, 95, 1.0)\"},\"error_y\":{\"color\":\"rgba(42, 63, 95, 1.0)\"}}],\"barpolar\":[{\"marker\":{\"line\":{\"color\":\"rgba(229, 236, 246, 1.0)\",\"width\":0.5},\"pattern\":{\"fillmode\":\"overlay\",\"size\":10,\"solidity\":0.2}}}],\"carpet\":[{\"aaxis\":{\"linecolor\":\"rgba(255, 255, 255, 1.0)\",\"gridcolor\":\"rgba(255, 255, 255, 1.0)\",\"endlinecolor\":\"rgba(42, 63, 95, 1.0)\",\"minorgridcolor\":\"rgba(255, 255, 255, 1.0)\",\"startlinecolor\":\"rgba(42, 63, 95, 1.0)\"},\"baxis\":{\"linecolor\":\"rgba(255, 255, 255, 1.0)\",\"gridcolor\":\"rgba(255, 255, 255, 1.0)\",\"endlinecolor\":\"rgba(42, 63, 95, 1.0)\",\"minorgridcolor\":\"rgba(255, 255, 255, 1.0)\",\"startlinecolor\":\"rgba(42, 63, 95, 1.0)\"}}],\"choropleth\":[{\"colorbar\":{\"outlinewidth\":0.0,\"ticks\":\"\"},\"colorscale\":[[0.0,\"#0d0887\"],[0.1111111111111111,\"#46039f\"],[0.2222222222222222,\"#7201a8\"],[0.3333333333333333,\"#9c179e\"],[0.4444444444444444,\"#bd3786\"],[0.5555555555555556,\"#d8576b\"],[0.6666666666666666,\"#ed7953\"],[0.7777777777777778,\"#fb9f3a\"],[0.8888888888888888,\"#fdca26\"],[1.0,\"#f0f921\"]]}],\"contour\":[{\"colorbar\":{\"outlinewidth\":0.0,\"ticks\":\"\"},\"colorscale\":[[0.0,\"#0d0887\"],[0.1111111111111111,\"#46039f\"],[0.2222222222222222,\"#7201a8\"],[0.3333333333333333,\"#9c179e\"],[0.4444444444444444,\"#bd3786\"],[0.5555555555555556,\"#d8576b\"],[0.6666666666666666,\"#ed7953\"],[0.7777777777777778,\"#fb9f3a\"],[0.8888888888888888,\"#fdca26\"],[1.0,\"#f0f921\"]]}],\"contourcarpet\":[{\"colorbar\":{\"outlinewidth\":0.0,\"ticks\":\"\"}}],\"heatmap\":[{\"colorbar\":{\"outlinewidth\":0.0,\"ticks\":\"\"},\"colorscale\":[[0.0,\"#0d0887\"],[0.1111111111111111,\"#46039f\"],[0.2222222222222222,\"#7201a8\"],[0.3333333333333333,\"#9c179e\"],[0.4444444444444444,\"#bd3786\"],[0.5555555555555556,\"#d8576b\"],[0.6666666666666666,\"#ed7953\"],[0.7777777777777778,\"#fb9f3a\"],[0.8888888888888888,\"#fdca26\"],[1.0,\"#f0f921\"]]}],\"heatmapgl\":[{\"colorbar\":{\"outlinewidth\":0.0,\"ticks\":\"\"},\"colorscale\":[[0.0,\"#0d0887\"],[0.1111111111111111,\"#46039f\"],[0.2222222222222222,\"#7201a8\"],[0.3333333333333333,\"#9c179e\"],[0.4444444444444444,\"#bd3786\"],[0.5555555555555556,\"#d8576b\"],[0.6666666666666666,\"#ed7953\"],[0.7777777777777778,\"#fb9f3a\"],[0.8888888888888888,\"#fdca26\"],[1.0,\"#f0f921\"]]}],\"histogram\":[{\"marker\":{\"pattern\":{\"fillmode\":\"overlay\",\"size\":10,\"solidity\":0.2}}}],\"histogram2d\":[{\"colorbar\":{\"outlinewidth\":0.0,\"ticks\":\"\"},\"colorscale\":[[0.0,\"#0d0887\"],[0.1111111111111111,\"#46039f\"],[0.2222222222222222,\"#7201a8\"],[0.3333333333333333,\"#9c179e\"],[0.4444444444444444,\"#bd3786\"],[0.5555555555555556,\"#d8576b\"],[0.6666666666666666,\"#ed7953\"],[0.7777777777777778,\"#fb9f3a\"],[0.8888888888888888,\"#fdca26\"],[1.0,\"#f0f921\"]]}],\"histogram2dcontour\":[{\"colorbar\":{\"outlinewidth\":0.0,\"ticks\":\"\"},\"colorscale\":[[0.0,\"#0d0887\"],[0.1111111111111111,\"#46039f\"],[0.2222222222222222,\"#7201a8\"],[0.3333333333333333,\"#9c179e\"],[0.4444444444444444,\"#bd3786\"],[0.5555555555555556,\"#d8576b\"],[0.6666666666666666,\"#ed7953\"],[0.7777777777777778,\"#fb9f3a\"],[0.8888888888888888,\"#fdca26\"],[1.0,\"#f0f921\"]]}],\"mesh3d\":[{\"colorbar\":{\"outlinewidth\":0.0,\"ticks\":\"\"}}],\"parcoords\":[{\"line\":{\"colorbar\":{\"outlinewidth\":0.0,\"ticks\":\"\"}}}],\"pie\":[{\"automargin\":true}],\"scatter\":[{\"marker\":{\"colorbar\":{\"outlinewidth\":0.0,\"ticks\":\"\"}}}],\"scatter3d\":[{\"marker\":{\"colorbar\":{\"outlinewidth\":0.0,\"ticks\":\"\"}},\"line\":{\"colorbar\":{\"outlinewidth\":0.0,\"ticks\":\"\"}}}],\"scattercarpet\":[{\"marker\":{\"colorbar\":{\"outlinewidth\":0.0,\"ticks\":\"\"}}}],\"scattergeo\":[{\"marker\":{\"colorbar\":{\"outlinewidth\":0.0,\"ticks\":\"\"}}}],\"scattergl\":[{\"marker\":{\"colorbar\":{\"outlinewidth\":0.0,\"ticks\":\"\"}}}],\"scattermapbox\":[{\"marker\":{\"colorbar\":{\"outlinewidth\":0.0,\"ticks\":\"\"}}}],\"scatterpolar\":[{\"marker\":{\"colorbar\":{\"outlinewidth\":0.0,\"ticks\":\"\"}}}],\"scatterpolargl\":[{\"marker\":{\"colorbar\":{\"outlinewidth\":0.0,\"ticks\":\"\"}}}],\"scatterternary\":[{\"marker\":{\"colorbar\":{\"outlinewidth\":0.0,\"ticks\":\"\"}}}],\"surface\":[{\"colorbar\":{\"outlinewidth\":0.0,\"ticks\":\"\"},\"colorscale\":[[0.0,\"#0d0887\"],[0.1111111111111111,\"#46039f\"],[0.2222222222222222,\"#7201a8\"],[0.3333333333333333,\"#9c179e\"],[0.4444444444444444,\"#bd3786\"],[0.5555555555555556,\"#d8576b\"],[0.6666666666666666,\"#ed7953\"],[0.7777777777777778,\"#fb9f3a\"],[0.8888888888888888,\"#fdca26\"],[1.0,\"#f0f921\"]]}],\"table\":[{\"cells\":{\"fill\":{\"color\":\"rgba(235, 240, 248, 1.0)\"},\"line\":{\"color\":\"rgba(255, 255, 255, 1.0)\"}},\"header\":{\"fill\":{\"color\":\"rgba(200, 212, 227, 1.0)\"},\"line\":{\"color\":\"rgba(255, 255, 255, 1.0)\"}}}]}},\"xaxis\":{\"title\":{\"text\":\"Time\"}},\"yaxis\":{\"title\":{\"text\":\"Population\"}},\"title\":{\"text\":\"Pitchfork\"}};\r\n",
       "            var config = {\"responsive\":true};\r\n",
       "            Plotly.newPlot('c3cdf17b-fc41-4be1-be1e-f211dcde0f1b', data, layout, config);\r\n",
       "});\r\n",
       "            };\r\n",
       "            if ((typeof(requirejs) !==  typeof(Function)) || (typeof(requirejs.config) !== typeof(Function))) {\r\n",
       "                var script = document.createElement(\"script\");\r\n",
       "                script.setAttribute(\"src\", \"https://cdnjs.cloudflare.com/ajax/libs/require.js/2.3.6/require.min.js\");\r\n",
       "                script.onload = function(){\r\n",
       "                    renderPlotly_c3cdf17bfc414be1be1ef211dcde0f1b();\r\n",
       "                };\r\n",
       "                document.getElementsByTagName(\"head\")[0].appendChild(script);\r\n",
       "            }\r\n",
       "            else {\r\n",
       "                renderPlotly_c3cdf17bfc414be1be1ef211dcde0f1b();\r\n",
       "            }\r\n",
       "</script>\r\n",
       "\n",
       "    \n",
       "</div>    \n"
      ]
     },
     "metadata": {},
     "output_type": "display_data"
    }
   ],
   "source": [
    "[\n",
    "    for r in [0.0 ..0.1.. 1.0] do\n",
    "        let P0 = [|r; 0.5|]\n",
    "        let Ps = \n",
    "            modelContext.OdeInt(0.,P0,dXdelta_dt)\n",
    "            |> SolPoints.take 40\n",
    "            |> SolPoints.memorize\n",
    "        let name = sprintf \"x0=%.1f\" r\n",
    "        let predators = Ps |> SolPoints.toPoints 1\n",
    "        Chart.Spline (predators, Name=name )\n",
    "    \n",
    "]\n",
    "|> Chart.combine        \n",
    "|> Chart.withXAxisStyle(\"Time\")\n",
    "|> Chart.withYAxisStyle(\"Population\")\n",
    "|> Chart.withTitle(\"Pitchfork\")\n"
   ]
  },
  {
   "cell_type": "markdown",
   "metadata": {},
   "source": [
    "#### Genetic Switch \n",
    "\n",
    "Syntetische Biologie beschäftigt sich mit der Erstellung von neuen biologischen Systemen die bisher nicht in der Natur vorkommen oder mit der Verbesserung von bereits bestehnden Systemen durch das Einfügen oder Entfernen von Bestandteilen. Eine klassiches Beispiel für synthetische Biologie ist der genetische Schlater. In diesem sind zwei Gene inhibitorisch miteinander Verbunden. Das heißt das Protein das vom ersten Gen erzeugt wird, inhibitiert die expression der Proteins des zweiten Gens und umgekehrt. \n",
    "Stelle ODEs aus die dieses System beschreiben. Die Inhibition soll durch eine inhibitorische Hill Funktion beschrieben werden. Beachte das die beiden Gene ein Grundexpression haben die unabähngig von der Inhibition ist und das Proteine auch wieder abgebaut werden. <br>\n",
    "Es kann angenommen werden das die Rate Konstanten identisch sind.\n",
    "\n"
   ]
  },
  {
   "cell_type": "code",
   "execution_count": null,
   "metadata": {
    "dotnet_interactive": {
     "language": "fsharp"
    },
    "vscode": {
     "languageId": "dotnet-interactive.fsharp"
    }
   },
   "outputs": [],
   "source": [
    "// Bifurkationskonstante\n",
    "let beta2  = 6.\n",
    "// Systemparameter (nicht ändern)\n",
    "let a, beta1,n,gamma, K = 0.2, 3.,3.,1., 1.\n",
    "// Define a function which calculates the derivative\n",
    "let dU2_dt : Model = \n",
    "    // Here U is a vector such that y=U[0] and z=U[1]. This function should return [y', z']\n",
    "    fun U x ->\n",
    "        // States at given x. Leave as is. \n",
    "        let w = U[0]\n",
    "        let v = U[1]\n",
    "        // Functions for computing the change of the state \n",
    "        let w' = a+beta1/(1.+v**n/K)-gamma*w\n",
    "        let v' = a+beta2/(1.+w**n/K)-gamma*v\n",
    "        // Resulting new states. Leave as is. \n",
    "        [| w';v'|]"
   ]
  },
  {
   "cell_type": "markdown",
   "metadata": {},
   "source": [
    "Varriere die Bindunskonstante beta2 des zweiten Proteins. Bestimme die Bifurkationspunkte und ob diese instabil oder stabil sind. Bestimme außerdem um welche Art der Bifurkation es sich handelt. (Anmerkung: instabile Bifurkationspunkte werden eventuell nicht angezeigt.)"
   ]
  },
  {
   "cell_type": "code",
   "execution_count": null,
   "metadata": {
    "dotnet_interactive": {
     "language": "fsharp"
    },
    "vscode": {
     "languageId": "dotnet-interactive.fsharp"
    }
   },
   "outputs": [
    {
     "data": {
      "text/html": [
       "\n",
       "<div>\n",
       "    <div id=\"d1e7c315-11f9-48e9-86a6-7fb803d63eba\"><!-- Plotly chart will be drawn inside this DIV --></div>\r\n",
       "<script type=\"text/javascript\">\r\n",
       "\r\n",
       "            var renderPlotly_d1e7c31511f948e986a67fb803d63eba = function() {\r\n",
       "            var fsharpPlotlyRequire = requirejs.config({context:'fsharp-plotly',paths:{plotly:'https://cdn.plot.ly/plotly-2.6.3.min'}}) || require;\r\n",
       "            fsharpPlotlyRequire(['plotly'], function(Plotly) {\r\n",
       "\r\n",
       "            var data = [{\"type\":\"scatter\",\"name\":\"x0=0.0\",\"mode\":\"lines\",\"x\":[0.0,0.20672137130555446,0.3679877059027896,0.5331206675068036,0.7283319814170524,0.9713973536720946,1.2877745872233857,1.7081541010842547,2.2618957297380726,2.952381862945181,3.7519051991016945,4.639402478379575,5.620248517498702,6.720123986211972,7.978634483333034,9.450228283657724,11.21225859198621,13.381749128108893,16.147452922843993,19.82717061403318],\"y\":[0.0,0.4666180104289105,0.5402246291230921,0.5368440059528926,0.5059945309179207,0.4596819407818434,0.40400395156546354,0.3457720485012332,0.2937715758206001,0.25591249874139327,0.23345444035592414,0.22191830110115138,0.21651770883401023,0.21419326682361728,0.21329302037301676,0.21299121440000757,0.21290821441159127,0.2128908302451127,0.2128883131871962,0.2128881253296796],\"marker\":{},\"line\":{\"shape\":\"spline\"}},{\"type\":\"scatter\",\"name\":\"x0=0.5\",\"mode\":\"lines\",\"x\":[0.0,0.165736186063666,0.3120059733894605,0.45303855824970984,0.610527675339511,0.8067241812925506,1.0588645883612509,1.4064490069037847,1.850897996958282,2.3399391357383013,2.8849177183331536,3.514097125152606,4.235155922847075,5.037798411418745,5.920152230879824,6.897304568096122,7.997846299276116,9.262128861043458,10.745569320649164,12.527749157368419],\"y\":[0.5,0.8709292531862929,1.0150890150041354,1.0517054752736419,1.0354055573303722,0.9753090361186328,0.8728228845261321,0.7273530050926481,0.5701544441352551,0.445154059201641,0.3542774072839907,0.29182842181645985,0.25313758696375904,0.23185032149084933,0.2211697435307508,0.2161974560919641,0.21406691916500298,0.2132487754591391,0.21297820446535115,0.21290522776491327],\"marker\":{},\"line\":{\"shape\":\"spline\"}},{\"type\":\"scatter\",\"name\":\"x0=1.0\",\"mode\":\"lines\",\"x\":[0.0,0.2706611379935539,0.5023554417946736,0.7260404797616113,0.9735569918412862,1.2635067829872093,1.6053653568608641,2.0073871881941914,2.4809684958389244,3.0440217321738903,3.725492796931732,4.574742817985412,5.727003702263034,7.153854683365271,8.571480448087724,9.880365683773979,11.108918591656495,12.34521546978169,13.687744161470823,15.233756705283698],\"y\":[1.0,1.4877536146663273,1.7207616843886333,1.8443625772382715,1.9195209313710146,1.9655743102859589,1.992554661880756,2.0087103632067174,2.020670491040645,2.0335669410880866,2.0523021383140105,2.084375514195966,2.1496847418766922,2.274781097392501,2.443130237860459,2.6088994108286734,2.7428887794917767,2.8420582442086877,2.911476018482839,2.956395346219628],\"marker\":{},\"line\":{\"shape\":\"spline\"}},{\"type\":\"scatter\",\"name\":\"x0=1.5\",\"mode\":\"lines\",\"x\":[0.0,0.4488302972199106,0.8413219353792363,1.224340082191652,1.6286800245631465,2.0884026861167486,2.624897665818107,3.2584677374798936,4.015877951077927,4.936856873774012,6.084227492410324,7.566572445661063,9.53218421731084,11.994706221064149,14.879501535163115,18.316417163686204,21.435340483255683,23.60199197746907,25.462962062469337,27.277136956441097],\"y\":[1.5,2.0913540916947637,2.3732181646263397,2.5307725181735794,2.6336266868047957,2.7109685848848155,2.7743071124459058,2.829057799238482,2.87720756044376,2.91856549445628,2.951950345750495,2.976311293863781,2.9912525501092406,2.998058146592434,3.000361814891291,3.000888240002178,3.000490188215539,3.0008638593995607,3.001106440486451,3.0011582846272002],\"marker\":{},\"line\":{\"shape\":\"spline\"}},{\"type\":\"scatter\",\"name\":\"x0=2.0\",\"mode\":\"lines\",\"x\":[0.0,0.5278778066908705,0.9952307974966501,1.4522531236842329,1.9378800957509335,2.4829708121364042,3.108698861693389,3.8362671918780302,4.69422398912063,5.725031172246209,6.994939206845274,8.614885697836847,10.791415792396934,13.815931170014572,17.835067325973412,20.403320996147556,22.679799762986985,24.820761137514957,26.92589186475878,29.162900796848707],\"y\":[2.0,2.482374280604624,2.7105304076161714,2.828960878736731,2.895792792336704,2.935246753140525,2.9590635787915263,2.974017319919043,2.9839460535975952,2.9908105157225098,2.995524572486455,2.9985487255076553,3.0002334034244273,3.000940729996573,3.0009668529587117,3.0009260489390353,3.0010212729539973,3.001107940591272,3.001147139327372,3.0011580100882345],\"marker\":{},\"line\":{\"shape\":\"spline\"}},{\"type\":\"scatter\",\"name\":\"x0=2.5\",\"mode\":\"lines\",\"x\":[0.0,0.5806871562122465,1.096912777308452,1.604524153499924,2.150446676738676,2.7606068039557834,3.45529058415889,4.257900561400665,5.2011656712959,6.3339766830044315,7.731732892149994,9.511803299524532,11.840803920541717,14.88179805078082,18.664031231107064,22.092649523997267,24.298617061704284,26.097969852568273,27.803824954497557,29.69328774304482],\"y\":[2.5,2.803280325519721,2.9386757714824494,2.9994345568523095,3.024192699271589,3.030057495640667,3.0269022474751472,3.0205630958831304,3.0141096342777693,3.008856205405059,3.005152195744379,3.0028856513215763,3.001739982991196,3.0013019483138987,3.001097183221429,3.0002175314346355,3.0006834260239827,3.0010851985736906,3.0011585964456966,3.0011687594249765],\"marker\":{},\"line\":{\"shape\":\"spline\"}},{\"type\":\"scatter\",\"name\":\"x0=3.0\",\"mode\":\"lines\",\"x\":[0.0,0.7668653848870299,1.4098989518583585,2.0252107233109586,2.6794619255558954,3.4071617736020943,4.236812918981983,5.2027086877394595,6.353218977473418,7.759599515776205,9.523928854177127,11.770226255974865,14.60634533308604,18.092557292090163,22.043138102900713,24.017960492795467,25.754289844310545,27.52010650053865,29.613437310176728,32.32933758465893],\"y\":[3.0,3.1010395053724777,3.121114190469446,3.1116497765160687,3.0913709722212572,3.0686089530239036,3.047780026059991,3.0308788288244277,3.0183905195736114,3.009993519660232,3.004988426546056,3.0024874812259283,3.0015131696095114,3.0012061709557774,3.0003577307680582,3.0009545156245694,3.001138241549839,3.0011664332364827,3.001169622969295,3.0011671991220954],\"marker\":{},\"line\":{\"shape\":\"spline\"}},{\"type\":\"scatter\",\"name\":\"x0=3.5\",\"mode\":\"lines\",\"x\":[0.0,1.0,1.809716458590055,2.5770806942080142,3.384784293963083,4.282038291310883,5.3137998477931445,6.5340851682003755,8.015336940319898,9.851000713406222,12.140918326144885,14.97043629560067,18.402951059383646,22.283407319081903,24.295675777377014,26.07454425376598,27.878399604177723,29.995102147700326,32.70862017795684,36.16453521585793],\"y\":[3.5,3.3018827355396128,3.211231944370852,3.1493158017308445,3.102489117538175,3.0670990141690226,3.041294580697156,3.0235043602671676,3.0121778355980626,3.0057693009883337,3.002723720079729,3.001576004222225,3.001221518969625,3.0004801266172847,3.00096768101118,3.0011380329209767,3.00116604454287,3.0011693137168796,3.0011665088212816,3.0011188396773107],\"marker\":{},\"line\":{\"shape\":\"spline\"}},{\"type\":\"scatter\",\"name\":\"x0=4.0\",\"mode\":\"lines\",\"x\":[0.0,1.0,1.8628797178469099,2.7916148966868426,3.8393500061993944,4.995309468392129,6.2972875968462425,7.819116800465888,9.649585648582464,11.87857389817958,14.58995686920036,17.86130913708871,21.62618503072527,23.85206764643179,25.846199154367643,27.819057588457234,29.983954690370517,32.55735165716189,35.645523457101945,39.05949534158787],\"y\":[4.0,3.488144352825477,3.292008272826263,3.1774884456112575,3.104486251000618,3.059471249377889,3.0321403235975364,3.016087589136644,3.007407398782299,3.003336872610761,3.0017695695365765,3.001281181861584,3.0008437239824928,3.0009900288851417,3.0011210973758327,3.001158436092245,3.001165452796765,3.001162522911626,3.001127462145429,3.00075123562479],\"marker\":{},\"line\":{\"shape\":\"spline\"}},{\"type\":\"scatter\",\"name\":\"x0=4.5\",\"mode\":\"lines\",\"x\":[0.0,1.0,1.8491546121697744,2.6930054574709863,3.591743826133844,4.633811230510253,5.940702556335791,7.5846410396211255,9.527363481926871,11.783340343854038,14.445975997245359,17.611308154251,21.230024634115516,23.509223060073275,25.573636208779458,27.609124909956105,29.800462123518336,32.33629881521437,35.307255719036824,38.56262257314324],\"y\":[4.5,3.6734399238622775,3.378276762845554,3.2289644013211616,3.1407872332761553,3.0829784668344344,3.0440665728221727,3.0205567603727532,3.0088386803100695,3.003798084488303,3.0019135227390628,3.0013194697826306,3.0009257770090416,3.001008059379,3.0011159303762778,3.0011542090711947,3.001162826653917,3.0011599330832044,3.0011278728850836,3.000869492085639],\"marker\":{},\"line\":{\"shape\":\"spline\"}},{\"type\":\"scatter\",\"name\":\"x0=5.0\",\"mode\":\"lines\",\"x\":[0.0,1.0,1.8438586578777205,2.6567350292399294,3.479929414802184,4.384196012581718,5.442222587285299,6.754409859493545,8.451085023361186,10.552025674910727,13.010716247180838,15.903792543052969,19.31934889659593,23.068355877430818,24.981224319760525,26.681268528424706,28.43084832293074,30.53788525179955,33.301934969807334,36.87957333136763],\"y\":[5.0,3.8582374765929686,3.462371970513481,3.275026332339734,3.1717737649920794,3.1066252917198596,3.0629441720956874,3.033657227347742,3.015538429380932,3.0064532466144236,3.002816903529928,3.001585872583911,3.0012056851678515,3.0002892708436733,3.0009720206763832,3.0011432255304884,3.0011676194237045,3.001169987689807,3.0011672253570567,3.00111416321308],\"marker\":{},\"line\":{\"shape\":\"spline\"}}];\r\n",
       "            var layout = {\"width\":600,\"height\":600,\"template\":{\"layout\":{\"title\":{\"x\":0.05},\"font\":{\"color\":\"rgba(42, 63, 95, 1.0)\"},\"paper_bgcolor\":\"rgba(255, 255, 255, 1.0)\",\"plot_bgcolor\":\"rgba(229, 236, 246, 1.0)\",\"autotypenumbers\":\"strict\",\"colorscale\":{\"diverging\":[[0.0,\"#8e0152\"],[0.1,\"#c51b7d\"],[0.2,\"#de77ae\"],[0.3,\"#f1b6da\"],[0.4,\"#fde0ef\"],[0.5,\"#f7f7f7\"],[0.6,\"#e6f5d0\"],[0.7,\"#b8e186\"],[0.8,\"#7fbc41\"],[0.9,\"#4d9221\"],[1.0,\"#276419\"]],\"sequential\":[[0.0,\"#0d0887\"],[0.1111111111111111,\"#46039f\"],[0.2222222222222222,\"#7201a8\"],[0.3333333333333333,\"#9c179e\"],[0.4444444444444444,\"#bd3786\"],[0.5555555555555556,\"#d8576b\"],[0.6666666666666666,\"#ed7953\"],[0.7777777777777778,\"#fb9f3a\"],[0.8888888888888888,\"#fdca26\"],[1.0,\"#f0f921\"]],\"sequentialminus\":[[0.0,\"#0d0887\"],[0.1111111111111111,\"#46039f\"],[0.2222222222222222,\"#7201a8\"],[0.3333333333333333,\"#9c179e\"],[0.4444444444444444,\"#bd3786\"],[0.5555555555555556,\"#d8576b\"],[0.6666666666666666,\"#ed7953\"],[0.7777777777777778,\"#fb9f3a\"],[0.8888888888888888,\"#fdca26\"],[1.0,\"#f0f921\"]]},\"hovermode\":\"closest\",\"hoverlabel\":{\"align\":\"left\"},\"coloraxis\":{\"colorbar\":{\"outlinewidth\":0.0,\"ticks\":\"\"}},\"geo\":{\"showland\":true,\"landcolor\":\"rgba(229, 236, 246, 1.0)\",\"showlakes\":true,\"lakecolor\":\"rgba(255, 255, 255, 1.0)\",\"subunitcolor\":\"rgba(255, 255, 255, 1.0)\",\"bgcolor\":\"rgba(255, 255, 255, 1.0)\"},\"mapbox\":{\"style\":\"light\"},\"polar\":{\"bgcolor\":\"rgba(229, 236, 246, 1.0)\",\"radialaxis\":{\"linecolor\":\"rgba(255, 255, 255, 1.0)\",\"gridcolor\":\"rgba(255, 255, 255, 1.0)\",\"ticks\":\"\"},\"angularaxis\":{\"linecolor\":\"rgba(255, 255, 255, 1.0)\",\"gridcolor\":\"rgba(255, 255, 255, 1.0)\",\"ticks\":\"\"}},\"scene\":{\"xaxis\":{\"ticks\":\"\",\"linecolor\":\"rgba(255, 255, 255, 1.0)\",\"gridcolor\":\"rgba(255, 255, 255, 1.0)\",\"gridwidth\":2.0,\"zerolinecolor\":\"rgba(255, 255, 255, 1.0)\",\"backgroundcolor\":\"rgba(229, 236, 246, 1.0)\",\"showbackground\":true},\"yaxis\":{\"ticks\":\"\",\"linecolor\":\"rgba(255, 255, 255, 1.0)\",\"gridcolor\":\"rgba(255, 255, 255, 1.0)\",\"gridwidth\":2.0,\"zerolinecolor\":\"rgba(255, 255, 255, 1.0)\",\"backgroundcolor\":\"rgba(229, 236, 246, 1.0)\",\"showbackground\":true},\"zaxis\":{\"ticks\":\"\",\"linecolor\":\"rgba(255, 255, 255, 1.0)\",\"gridcolor\":\"rgba(255, 255, 255, 1.0)\",\"gridwidth\":2.0,\"zerolinecolor\":\"rgba(255, 255, 255, 1.0)\",\"backgroundcolor\":\"rgba(229, 236, 246, 1.0)\",\"showbackground\":true}},\"ternary\":{\"aaxis\":{\"ticks\":\"\",\"linecolor\":\"rgba(255, 255, 255, 1.0)\",\"gridcolor\":\"rgba(255, 255, 255, 1.0)\"},\"baxis\":{\"ticks\":\"\",\"linecolor\":\"rgba(255, 255, 255, 1.0)\",\"gridcolor\":\"rgba(255, 255, 255, 1.0)\"},\"caxis\":{\"ticks\":\"\",\"linecolor\":\"rgba(255, 255, 255, 1.0)\",\"gridcolor\":\"rgba(255, 255, 255, 1.0)\"},\"bgcolor\":\"rgba(229, 236, 246, 1.0)\"},\"xaxis\":{\"title\":{\"standoff\":15},\"ticks\":\"\",\"automargin\":true,\"linecolor\":\"rgba(255, 255, 255, 1.0)\",\"gridcolor\":\"rgba(255, 255, 255, 1.0)\",\"zerolinecolor\":\"rgba(255, 255, 255, 1.0)\",\"zerolinewidth\":2.0},\"yaxis\":{\"title\":{\"standoff\":15},\"ticks\":\"\",\"automargin\":true,\"linecolor\":\"rgba(255, 255, 255, 1.0)\",\"gridcolor\":\"rgba(255, 255, 255, 1.0)\",\"zerolinecolor\":\"rgba(255, 255, 255, 1.0)\",\"zerolinewidth\":2.0},\"annotationdefaults\":{\"arrowcolor\":\"#2a3f5f\",\"arrowhead\":0,\"arrowwidth\":1},\"shapedefaults\":{\"line\":{\"color\":\"rgba(42, 63, 95, 1.0)\"}},\"colorway\":[\"rgba(99, 110, 250, 1.0)\",\"rgba(239, 85, 59, 1.0)\",\"rgba(0, 204, 150, 1.0)\",\"rgba(171, 99, 250, 1.0)\",\"rgba(255, 161, 90, 1.0)\",\"rgba(25, 211, 243, 1.0)\",\"rgba(255, 102, 146, 1.0)\",\"rgba(182, 232, 128, 1.0)\",\"rgba(255, 151, 255, 1.0)\",\"rgba(254, 203, 82, 1.0)\"]},\"data\":{\"bar\":[{\"marker\":{\"line\":{\"color\":\"rgba(229, 236, 246, 1.0)\",\"width\":0.5},\"pattern\":{\"fillmode\":\"overlay\",\"size\":10,\"solidity\":0.2}},\"error_x\":{\"color\":\"rgba(42, 63, 95, 1.0)\"},\"error_y\":{\"color\":\"rgba(42, 63, 95, 1.0)\"}}],\"barpolar\":[{\"marker\":{\"line\":{\"color\":\"rgba(229, 236, 246, 1.0)\",\"width\":0.5},\"pattern\":{\"fillmode\":\"overlay\",\"size\":10,\"solidity\":0.2}}}],\"carpet\":[{\"aaxis\":{\"linecolor\":\"rgba(255, 255, 255, 1.0)\",\"gridcolor\":\"rgba(255, 255, 255, 1.0)\",\"endlinecolor\":\"rgba(42, 63, 95, 1.0)\",\"minorgridcolor\":\"rgba(255, 255, 255, 1.0)\",\"startlinecolor\":\"rgba(42, 63, 95, 1.0)\"},\"baxis\":{\"linecolor\":\"rgba(255, 255, 255, 1.0)\",\"gridcolor\":\"rgba(255, 255, 255, 1.0)\",\"endlinecolor\":\"rgba(42, 63, 95, 1.0)\",\"minorgridcolor\":\"rgba(255, 255, 255, 1.0)\",\"startlinecolor\":\"rgba(42, 63, 95, 1.0)\"}}],\"choropleth\":[{\"colorbar\":{\"outlinewidth\":0.0,\"ticks\":\"\"},\"colorscale\":[[0.0,\"#0d0887\"],[0.1111111111111111,\"#46039f\"],[0.2222222222222222,\"#7201a8\"],[0.3333333333333333,\"#9c179e\"],[0.4444444444444444,\"#bd3786\"],[0.5555555555555556,\"#d8576b\"],[0.6666666666666666,\"#ed7953\"],[0.7777777777777778,\"#fb9f3a\"],[0.8888888888888888,\"#fdca26\"],[1.0,\"#f0f921\"]]}],\"contour\":[{\"colorbar\":{\"outlinewidth\":0.0,\"ticks\":\"\"},\"colorscale\":[[0.0,\"#0d0887\"],[0.1111111111111111,\"#46039f\"],[0.2222222222222222,\"#7201a8\"],[0.3333333333333333,\"#9c179e\"],[0.4444444444444444,\"#bd3786\"],[0.5555555555555556,\"#d8576b\"],[0.6666666666666666,\"#ed7953\"],[0.7777777777777778,\"#fb9f3a\"],[0.8888888888888888,\"#fdca26\"],[1.0,\"#f0f921\"]]}],\"contourcarpet\":[{\"colorbar\":{\"outlinewidth\":0.0,\"ticks\":\"\"}}],\"heatmap\":[{\"colorbar\":{\"outlinewidth\":0.0,\"ticks\":\"\"},\"colorscale\":[[0.0,\"#0d0887\"],[0.1111111111111111,\"#46039f\"],[0.2222222222222222,\"#7201a8\"],[0.3333333333333333,\"#9c179e\"],[0.4444444444444444,\"#bd3786\"],[0.5555555555555556,\"#d8576b\"],[0.6666666666666666,\"#ed7953\"],[0.7777777777777778,\"#fb9f3a\"],[0.8888888888888888,\"#fdca26\"],[1.0,\"#f0f921\"]]}],\"heatmapgl\":[{\"colorbar\":{\"outlinewidth\":0.0,\"ticks\":\"\"},\"colorscale\":[[0.0,\"#0d0887\"],[0.1111111111111111,\"#46039f\"],[0.2222222222222222,\"#7201a8\"],[0.3333333333333333,\"#9c179e\"],[0.4444444444444444,\"#bd3786\"],[0.5555555555555556,\"#d8576b\"],[0.6666666666666666,\"#ed7953\"],[0.7777777777777778,\"#fb9f3a\"],[0.8888888888888888,\"#fdca26\"],[1.0,\"#f0f921\"]]}],\"histogram\":[{\"marker\":{\"pattern\":{\"fillmode\":\"overlay\",\"size\":10,\"solidity\":0.2}}}],\"histogram2d\":[{\"colorbar\":{\"outlinewidth\":0.0,\"ticks\":\"\"},\"colorscale\":[[0.0,\"#0d0887\"],[0.1111111111111111,\"#46039f\"],[0.2222222222222222,\"#7201a8\"],[0.3333333333333333,\"#9c179e\"],[0.4444444444444444,\"#bd3786\"],[0.5555555555555556,\"#d8576b\"],[0.6666666666666666,\"#ed7953\"],[0.7777777777777778,\"#fb9f3a\"],[0.8888888888888888,\"#fdca26\"],[1.0,\"#f0f921\"]]}],\"histogram2dcontour\":[{\"colorbar\":{\"outlinewidth\":0.0,\"ticks\":\"\"},\"colorscale\":[[0.0,\"#0d0887\"],[0.1111111111111111,\"#46039f\"],[0.2222222222222222,\"#7201a8\"],[0.3333333333333333,\"#9c179e\"],[0.4444444444444444,\"#bd3786\"],[0.5555555555555556,\"#d8576b\"],[0.6666666666666666,\"#ed7953\"],[0.7777777777777778,\"#fb9f3a\"],[0.8888888888888888,\"#fdca26\"],[1.0,\"#f0f921\"]]}],\"mesh3d\":[{\"colorbar\":{\"outlinewidth\":0.0,\"ticks\":\"\"}}],\"parcoords\":[{\"line\":{\"colorbar\":{\"outlinewidth\":0.0,\"ticks\":\"\"}}}],\"pie\":[{\"automargin\":true}],\"scatter\":[{\"marker\":{\"colorbar\":{\"outlinewidth\":0.0,\"ticks\":\"\"}}}],\"scatter3d\":[{\"marker\":{\"colorbar\":{\"outlinewidth\":0.0,\"ticks\":\"\"}},\"line\":{\"colorbar\":{\"outlinewidth\":0.0,\"ticks\":\"\"}}}],\"scattercarpet\":[{\"marker\":{\"colorbar\":{\"outlinewidth\":0.0,\"ticks\":\"\"}}}],\"scattergeo\":[{\"marker\":{\"colorbar\":{\"outlinewidth\":0.0,\"ticks\":\"\"}}}],\"scattergl\":[{\"marker\":{\"colorbar\":{\"outlinewidth\":0.0,\"ticks\":\"\"}}}],\"scattermapbox\":[{\"marker\":{\"colorbar\":{\"outlinewidth\":0.0,\"ticks\":\"\"}}}],\"scatterpolar\":[{\"marker\":{\"colorbar\":{\"outlinewidth\":0.0,\"ticks\":\"\"}}}],\"scatterpolargl\":[{\"marker\":{\"colorbar\":{\"outlinewidth\":0.0,\"ticks\":\"\"}}}],\"scatterternary\":[{\"marker\":{\"colorbar\":{\"outlinewidth\":0.0,\"ticks\":\"\"}}}],\"surface\":[{\"colorbar\":{\"outlinewidth\":0.0,\"ticks\":\"\"},\"colorscale\":[[0.0,\"#0d0887\"],[0.1111111111111111,\"#46039f\"],[0.2222222222222222,\"#7201a8\"],[0.3333333333333333,\"#9c179e\"],[0.4444444444444444,\"#bd3786\"],[0.5555555555555556,\"#d8576b\"],[0.6666666666666666,\"#ed7953\"],[0.7777777777777778,\"#fb9f3a\"],[0.8888888888888888,\"#fdca26\"],[1.0,\"#f0f921\"]]}],\"table\":[{\"cells\":{\"fill\":{\"color\":\"rgba(235, 240, 248, 1.0)\"},\"line\":{\"color\":\"rgba(255, 255, 255, 1.0)\"}},\"header\":{\"fill\":{\"color\":\"rgba(200, 212, 227, 1.0)\"},\"line\":{\"color\":\"rgba(255, 255, 255, 1.0)\"}}}]}},\"xaxis\":{\"title\":{\"text\":\"Time\"}},\"yaxis\":{\"title\":{\"text\":\"Population\"}},\"title\":{\"text\":\"Saddle Node\"}};\r\n",
       "            var config = {\"responsive\":true};\r\n",
       "            Plotly.newPlot('d1e7c315-11f9-48e9-86a6-7fb803d63eba', data, layout, config);\r\n",
       "});\r\n",
       "            };\r\n",
       "            if ((typeof(requirejs) !==  typeof(Function)) || (typeof(requirejs.config) !== typeof(Function))) {\r\n",
       "                var script = document.createElement(\"script\");\r\n",
       "                script.setAttribute(\"src\", \"https://cdnjs.cloudflare.com/ajax/libs/require.js/2.3.6/require.min.js\");\r\n",
       "                script.onload = function(){\r\n",
       "                    renderPlotly_d1e7c31511f948e986a67fb803d63eba();\r\n",
       "                };\r\n",
       "                document.getElementsByTagName(\"head\")[0].appendChild(script);\r\n",
       "            }\r\n",
       "            else {\r\n",
       "                renderPlotly_d1e7c31511f948e986a67fb803d63eba();\r\n",
       "            }\r\n",
       "</script>\r\n",
       "\n",
       "    \n",
       "</div>    \n"
      ]
     },
     "metadata": {},
     "output_type": "display_data"
    }
   ],
   "source": [
    "[\n",
    "    for r in [0.0 ..0.5.. 5.0] do\n",
    "        let P0 = [|r;0|]\n",
    "        let Ps = \n",
    "            modelContext.OdeInt(0.,P0,dU2_dt)\n",
    "            |> SolPoints.take 20\n",
    "            |> SolPoints.memorize\n",
    "        let name = sprintf \"x0=%.1f\" r\n",
    "        let predators = Ps |> SolPoints.toPoints 1\n",
    "        Chart.Spline (predators, Name=name )\n",
    "    \n",
    "]\n",
    "|> Chart.combine        \n",
    "|> Chart.withXAxisStyle(\"Time\")\n",
    "|> Chart.withYAxisStyle(\"Population\")\n",
    "|> Chart.withTitle(\"Saddle Node\")"
   ]
  },
  {
   "cell_type": "markdown",
   "metadata": {},
   "source": [
    "Die ODEs der letzten beiden System sind sich sehr ähnlich, führen aber zu unterschiedlichen Bifurkationen. Überlege was die Grundlegenden unterschiede sind und welches der beiden Systeme öfter in einer normalen biologischen Umgebung vorgefunden wird und warum. "
   ]
  },
  {
   "cell_type": "markdown",
   "metadata": {},
   "source": [
    "#### Wildweizen Population (Transcritical)\n",
    "\n",
    "Die Produktion von Weizen in der heutigen Zeit ist streng geordnet. Weizen wird ausgesäht, geerntet, und wieder ausgesäht. Dabei sinkt die Population des Weizens nach dem ernten und bis zum nachfolgenden Aussehen auf Null, und steigt nach dem Aussähen schlagartig wieder auf das Maximum. Wildweizen auf der anderen Seite wird nicht reguliert. Die Menge an Wildweizen über einen Zeitraum kann durch eine ODE beschrieben werden. Dabei wird der Produktionsteil beschrieben durch typisches logitschies Wachstum und der Abnahmeteil ist proportional zur Menge an Wildweizen. \n",
    "Stelle die ODE auf. "
   ]
  },
  {
   "cell_type": "code",
   "execution_count": null,
   "metadata": {
    "dotnet_interactive": {
     "language": "fsharp"
    },
    "vscode": {
     "languageId": "dotnet-interactive.fsharp"
    }
   },
   "outputs": [],
   "source": [
    "// Bifurkationskonstante\n",
    "let gamma  = 0.15\n",
    "// Systemparameter (nicht ändern)\n",
    "let r, K  = 0.2,100.\n",
    "// Define a function which calculates the derivative\n",
    "let dU2_dt : Model = \n",
    "    // Here U is a vector such that y=U[0] and z=U[1]. This function should return [y', z']\n",
    "    fun U x ->\n",
    "        // States at given x. Leave as is. \n",
    "        let weizen = U[0]\n",
    "        // Functions for computing the change of the state \n",
    "        let weizen' = r*weizen*(1.-weizen/K)-(gamma*weizen)\n",
    "        // Resulting new states. Leave as is. \n",
    "        [| weizen'|]"
   ]
  },
  {
   "cell_type": "markdown",
   "metadata": {},
   "source": [
    "Varriere die Abnahmekonstante. Bestimme die Bifurkationspunkte und ob diese instabil oder stabil sind. Bestimme außerdem um welche Art der Bifurkation es sich handelt. (Anmerkung: instabile Bifurkationspunkte werden eventuell nicht angezeigt.)"
   ]
  },
  {
   "cell_type": "code",
   "execution_count": null,
   "metadata": {
    "dotnet_interactive": {
     "language": "fsharp"
    },
    "vscode": {
     "languageId": "dotnet-interactive.fsharp"
    }
   },
   "outputs": [
    {
     "data": {
      "text/html": [
       "\n",
       "<div>\n",
       "    <div id=\"161afaed-5bc7-445c-8e96-1293ea8e5510\"><!-- Plotly chart will be drawn inside this DIV --></div>\r\n",
       "<script type=\"text/javascript\">\r\n",
       "\r\n",
       "            var renderPlotly_161afaed5bc7445c8e961293ea8e5510 = function() {\r\n",
       "            var fsharpPlotlyRequire = requirejs.config({context:'fsharp-plotly',paths:{plotly:'https://cdn.plot.ly/plotly-2.6.3.min'}}) || require;\r\n",
       "            fsharpPlotlyRequire(['plotly'], function(Plotly) {\r\n",
       "\r\n",
       "            var data = [{\"type\":\"scatter\",\"name\":\"x0=0\",\"mode\":\"lines\",\"x\":[0.0,1.0,2.0,3.0,4.0,5.0,6.0,7.0,8.0,9.0,10.0,11.0,12.0,13.0,14.0,15.0,16.0,17.0,18.0,19.0,20.0,21.0,22.0,23.0,24.0,25.0,26.0,27.0,28.0,29.0,30.0,31.0,32.0,33.0,34.0,35.0,36.0,37.0,38.0,39.0,40.0,41.0,42.0,43.0,44.0,45.0,46.0,47.0,48.0,49.0,50.0,51.0,52.0,53.0,54.0,55.0,56.0,57.0,58.0,59.0,60.0,61.0,62.0,63.0,64.0,65.0,66.0,67.0,68.0,69.0,70.0,71.0,72.0,73.0,74.0,75.0,76.0,77.0,78.0,79.0,80.0,81.0,82.0,83.0,84.0,85.0,86.0,87.0,88.0,89.0,90.0,91.0,92.0,93.0,94.0,95.0,96.0,97.0,98.0,99.0,100.0,101.0,102.0,103.0,104.0,105.0,106.0,107.0,108.0,109.0,110.0,111.0,112.0,113.0,114.0,115.0,116.0,117.0,118.0,119.0,120.0,121.0,122.0,123.0,124.0,125.0,126.0,127.0,128.0,129.0,130.0,131.0,132.0,133.0,134.0,135.0,136.0,137.0,138.0,139.0,140.0,141.0,142.0,143.0,144.0,145.0,146.0,147.0,148.0,149.0,150.0,151.0,152.0,153.0,154.0,155.0,156.0,157.0,158.0,159.0,160.0,161.0,162.0,163.0,164.0,165.0,166.0,167.0,168.0,169.0,170.0,171.0,172.0,173.0,174.0,175.0,176.0,177.0,178.0,179.0,180.0,181.0,182.0,183.0,184.0,185.0,186.0,187.0,188.0,189.0,190.0,191.0,192.0,193.0,194.0,195.0,196.0,197.0,198.0,199.0,200.0,201.0,202.0,203.0,204.0,205.0,206.0,207.0,208.0,209.0,210.0,211.0,212.0,213.0,214.0,215.0,216.0,217.0,218.0,219.0,220.0,221.0,222.0,223.0,224.0,225.0,226.0,227.0,228.0,229.0,230.0,231.0,232.0,233.0,234.0,235.0,236.0,237.0,238.0,239.0,240.0,241.0,242.0,243.0,244.0,245.0,246.0,247.0,248.0,249.0,250.0,251.0,252.0,253.0,254.0,255.0,256.0,257.0,258.0,259.0,260.0,261.0,262.0,263.0,264.0,265.0,266.0,267.0,268.0,269.0,270.0,271.0,272.0,273.0,274.0,275.0,276.0,277.0,278.0,279.0,280.0,281.0,282.0,283.0,284.0,285.0,286.0,287.0,288.0,289.0,290.0,291.0,292.0,293.0,294.0,295.0,296.0,297.0,298.0,299.0,300.0,301.0,302.0,303.0,304.0,305.0,306.0,307.0,308.0,309.0,310.0,311.0,312.0,313.0,314.0,315.0,316.0,317.0,318.0,319.0,320.0,321.0,322.0,323.0,324.0,325.0,326.0,327.0,328.0,329.0,330.0,331.0,332.0,333.0,334.0,335.0,336.0,337.0,338.0,339.0,340.0,341.0,342.0,343.0,344.0,345.0,346.0,347.0,348.0,349.0,350.0,351.0,352.0,353.0,354.0,355.0,356.0,357.0,358.0,359.0,360.0,361.0,362.0,363.0,364.0,365.0,366.0,367.0,368.0,369.0,370.0,371.0,372.0,373.0,374.0,375.0,376.0,377.0,378.0,379.0,380.0,381.0,382.0,383.0,384.0,385.0,386.0,387.0,388.0,389.0,390.0,391.0,392.0,393.0,394.0,395.0,396.0,397.0,398.0,399.0,400.0,401.0,402.0,403.0,404.0,405.0,406.0,407.0,408.0,409.0,410.0,411.0,412.0,413.0,414.0,415.0,416.0,417.0,418.0,419.0,420.0,421.0,422.0,423.0,424.0,425.0,426.0,427.0,428.0,429.0,430.0,431.0,432.0,433.0,434.0,435.0,436.0,437.0,438.0,439.0,440.0,441.0,442.0,443.0,444.0,445.0,446.0,447.0,448.0,449.0,450.0,451.0,452.0,453.0,454.0,455.0,456.0,457.0,458.0,459.0,460.0,461.0,462.0,463.0,464.0,465.0,466.0,467.0,468.0,469.0,470.0,471.0,472.0,473.0,474.0,475.0,476.0,477.0,478.0,479.0,480.0,481.0,482.0,483.0,484.0,485.0,486.0,487.0,488.0,489.0,490.0,491.0,492.0,493.0,494.0,495.0,496.0,497.0,498.0,499.0,500.0,501.0,502.0,503.0,504.0,505.0,506.0,507.0,508.0,509.0,510.0,511.0,512.0,513.0,514.0,515.0,516.0,517.0,518.0,519.0,520.0,521.0,522.0,523.0,524.0,525.0,526.0,527.0,528.0,529.0,530.0,531.0,532.0,533.0,534.0,535.0,536.0,537.0,538.0,539.0,540.0,541.0,542.0,543.0,544.0,545.0,546.0,547.0,548.0,549.0,550.0,551.0,552.0,553.0,554.0,555.0,556.0,557.0,558.0,559.0,560.0,561.0,562.0,563.0,564.0,565.0,566.0,567.0,568.0,569.0,570.0,571.0,572.0,573.0,574.0,575.0,576.0,577.0,578.0,579.0,580.0,581.0,582.0,583.0,584.0,585.0,586.0,587.0,588.0,589.0,590.0,591.0,592.0,593.0,594.0,595.0,596.0,597.0,598.0,599.0,600.0,601.0,602.0,603.0,604.0,605.0,606.0,607.0,608.0,609.0,610.0,611.0,612.0,613.0,614.0,615.0,616.0,617.0,618.0,619.0,620.0,621.0,622.0,623.0,624.0,625.0,626.0,627.0,628.0,629.0,630.0,631.0,632.0,633.0,634.0,635.0,636.0,637.0,638.0,639.0,640.0,641.0,642.0,643.0,644.0,645.0,646.0,647.0,648.0,649.0,650.0,651.0,652.0,653.0,654.0,655.0,656.0,657.0,658.0,659.0,660.0,661.0,662.0,663.0,664.0,665.0,666.0,667.0,668.0,669.0,670.0,671.0,672.0,673.0,674.0,675.0,676.0,677.0,678.0,679.0,680.0,681.0,682.0,683.0,684.0,685.0,686.0,687.0,688.0,689.0,690.0,691.0,692.0,693.0,694.0,695.0,696.0,697.0,698.0,699.0,700.0,701.0,702.0,703.0,704.0,705.0,706.0,707.0,708.0,709.0,710.0,711.0,712.0,713.0,714.0,715.0,716.0,717.0,718.0,719.0,720.0,721.0,722.0,723.0,724.0,725.0,726.0,727.0,728.0,729.0,730.0,731.0,732.0,733.0,734.0,735.0,736.0,737.0,738.0,739.0,740.0,741.0,742.0,743.0,744.0,745.0,746.0,747.0,748.0,749.0,750.0,751.0,752.0,753.0,754.0,755.0,756.0,757.0,758.0,759.0,760.0,761.0,762.0,763.0,764.0,765.0,766.0,767.0,768.0,769.0,770.0,771.0,772.0,773.0,774.0,775.0,776.0,777.0,778.0,779.0,780.0,781.0,782.0,783.0,784.0,785.0,786.0,787.0,788.0,789.0,790.0,791.0,792.0,793.0,794.0,795.0,796.0,797.0,798.0,799.0,800.0,801.0,802.0,803.0,804.0,805.0,806.0,807.0,808.0,809.0,810.0,811.0,812.0,813.0,814.0,815.0,816.0,817.0,818.0,819.0,820.0,821.0,822.0,823.0,824.0,825.0,826.0,827.0,828.0,829.0,830.0,831.0,832.0,833.0,834.0,835.0,836.0,837.0,838.0,839.0,840.0,841.0,842.0,843.0,844.0,845.0,846.0,847.0,848.0,849.0,850.0,851.0,852.0,853.0,854.0,855.0,856.0,857.0,858.0,859.0,860.0,861.0,862.0,863.0,864.0,865.0,866.0,867.0,868.0,869.0,870.0,871.0,872.0,873.0,874.0,875.0,876.0,877.0,878.0,879.0,880.0,881.0,882.0,883.0,884.0,885.0,886.0,887.0,888.0,889.0,890.0,891.0,892.0,893.0,894.0,895.0,896.0,897.0,898.0,899.0,900.0,901.0,902.0,903.0,904.0,905.0,906.0,907.0,908.0,909.0,910.0,911.0,912.0,913.0,914.0,915.0,916.0,917.0,918.0,919.0,920.0,921.0,922.0,923.0,924.0,925.0,926.0,927.0,928.0,929.0,930.0,931.0,932.0,933.0,934.0,935.0,936.0,937.0,938.0,939.0,940.0,941.0,942.0,943.0,944.0,945.0,946.0,947.0,948.0,949.0,950.0,951.0,952.0,953.0,954.0,955.0,956.0,957.0,958.0,959.0,960.0,961.0,962.0,963.0,964.0,965.0,966.0,967.0,968.0,969.0,970.0,971.0,972.0,973.0,974.0,975.0,976.0,977.0,978.0,979.0,980.0,981.0,982.0,983.0,984.0,985.0,986.0,987.0,988.0,989.0,990.0,991.0,992.0,993.0,994.0,995.0,996.0,997.0,998.0,999.0,1000.0],\"y\":[0.0,0.0,0.0,0.0,0.0,0.0,0.0,0.0,0.0,0.0,0.0,0.0,0.0,0.0,0.0,0.0,0.0,0.0,0.0,0.0,0.0,0.0,0.0,0.0,0.0,0.0,0.0,0.0,0.0,0.0,0.0,0.0,0.0,0.0,0.0,0.0,0.0,0.0,0.0,0.0,0.0,0.0,0.0,0.0,0.0,0.0,0.0,0.0,0.0,0.0,0.0,0.0,0.0,0.0,0.0,0.0,0.0,0.0,0.0,0.0,0.0,0.0,0.0,0.0,0.0,0.0,0.0,0.0,0.0,0.0,0.0,0.0,0.0,0.0,0.0,0.0,0.0,0.0,0.0,0.0,0.0,0.0,0.0,0.0,0.0,0.0,0.0,0.0,0.0,0.0,0.0,0.0,0.0,0.0,0.0,0.0,0.0,0.0,0.0,0.0,0.0,0.0,0.0,0.0,0.0,0.0,0.0,0.0,0.0,0.0,0.0,0.0,0.0,0.0,0.0,0.0,0.0,0.0,0.0,0.0,0.0,0.0,0.0,0.0,0.0,0.0,0.0,0.0,0.0,0.0,0.0,0.0,0.0,0.0,0.0,0.0,0.0,0.0,0.0,0.0,0.0,0.0,0.0,0.0,0.0,0.0,0.0,0.0,0.0,0.0,0.0,0.0,0.0,0.0,0.0,0.0,0.0,0.0,0.0,0.0,0.0,0.0,0.0,0.0,0.0,0.0,0.0,0.0,0.0,0.0,0.0,0.0,0.0,0.0,0.0,0.0,0.0,0.0,0.0,0.0,0.0,0.0,0.0,0.0,0.0,0.0,0.0,0.0,0.0,0.0,0.0,0.0,0.0,0.0,0.0,0.0,0.0,0.0,0.0,0.0,0.0,0.0,0.0,0.0,0.0,0.0,0.0,0.0,0.0,0.0,0.0,0.0,0.0,0.0,0.0,0.0,0.0,0.0,0.0,0.0,0.0,0.0,0.0,0.0,0.0,0.0,0.0,0.0,0.0,0.0,0.0,0.0,0.0,0.0,0.0,0.0,0.0,0.0,0.0,0.0,0.0,0.0,0.0,0.0,0.0,0.0,0.0,0.0,0.0,0.0,0.0,0.0,0.0,0.0,0.0,0.0,0.0,0.0,0.0,0.0,0.0,0.0,0.0,0.0,0.0,0.0,0.0,0.0,0.0,0.0,0.0,0.0,0.0,0.0,0.0,0.0,0.0,0.0,0.0,0.0,0.0,0.0,0.0,0.0,0.0,0.0,0.0,0.0,0.0,0.0,0.0,0.0,0.0,0.0,0.0,0.0,0.0,0.0,0.0,0.0,0.0,0.0,0.0,0.0,0.0,0.0,0.0,0.0,0.0,0.0,0.0,0.0,0.0,0.0,0.0,0.0,0.0,0.0,0.0,0.0,0.0,0.0,0.0,0.0,0.0,0.0,0.0,0.0,0.0,0.0,0.0,0.0,0.0,0.0,0.0,0.0,0.0,0.0,0.0,0.0,0.0,0.0,0.0,0.0,0.0,0.0,0.0,0.0,0.0,0.0,0.0,0.0,0.0,0.0,0.0,0.0,0.0,0.0,0.0,0.0,0.0,0.0,0.0,0.0,0.0,0.0,0.0,0.0,0.0,0.0,0.0,0.0,0.0,0.0,0.0,0.0,0.0,0.0,0.0,0.0,0.0,0.0,0.0,0.0,0.0,0.0,0.0,0.0,0.0,0.0,0.0,0.0,0.0,0.0,0.0,0.0,0.0,0.0,0.0,0.0,0.0,0.0,0.0,0.0,0.0,0.0,0.0,0.0,0.0,0.0,0.0,0.0,0.0,0.0,0.0,0.0,0.0,0.0,0.0,0.0,0.0,0.0,0.0,0.0,0.0,0.0,0.0,0.0,0.0,0.0,0.0,0.0,0.0,0.0,0.0,0.0,0.0,0.0,0.0,0.0,0.0,0.0,0.0,0.0,0.0,0.0,0.0,0.0,0.0,0.0,0.0,0.0,0.0,0.0,0.0,0.0,0.0,0.0,0.0,0.0,0.0,0.0,0.0,0.0,0.0,0.0,0.0,0.0,0.0,0.0,0.0,0.0,0.0,0.0,0.0,0.0,0.0,0.0,0.0,0.0,0.0,0.0,0.0,0.0,0.0,0.0,0.0,0.0,0.0,0.0,0.0,0.0,0.0,0.0,0.0,0.0,0.0,0.0,0.0,0.0,0.0,0.0,0.0,0.0,0.0,0.0,0.0,0.0,0.0,0.0,0.0,0.0,0.0,0.0,0.0,0.0,0.0,0.0,0.0,0.0,0.0,0.0,0.0,0.0,0.0,0.0,0.0,0.0,0.0,0.0,0.0,0.0,0.0,0.0,0.0,0.0,0.0,0.0,0.0,0.0,0.0,0.0,0.0,0.0,0.0,0.0,0.0,0.0,0.0,0.0,0.0,0.0,0.0,0.0,0.0,0.0,0.0,0.0,0.0,0.0,0.0,0.0,0.0,0.0,0.0,0.0,0.0,0.0,0.0,0.0,0.0,0.0,0.0,0.0,0.0,0.0,0.0,0.0,0.0,0.0,0.0,0.0,0.0,0.0,0.0,0.0,0.0,0.0,0.0,0.0,0.0,0.0,0.0,0.0,0.0,0.0,0.0,0.0,0.0,0.0,0.0,0.0,0.0,0.0,0.0,0.0,0.0,0.0,0.0,0.0,0.0,0.0,0.0,0.0,0.0,0.0,0.0,0.0,0.0,0.0,0.0,0.0,0.0,0.0,0.0,0.0,0.0,0.0,0.0,0.0,0.0,0.0,0.0,0.0,0.0,0.0,0.0,0.0,0.0,0.0,0.0,0.0,0.0,0.0,0.0,0.0,0.0,0.0,0.0,0.0,0.0,0.0,0.0,0.0,0.0,0.0,0.0,0.0,0.0,0.0,0.0,0.0,0.0,0.0,0.0,0.0,0.0,0.0,0.0,0.0,0.0,0.0,0.0,0.0,0.0,0.0,0.0,0.0,0.0,0.0,0.0,0.0,0.0,0.0,0.0,0.0,0.0,0.0,0.0,0.0,0.0,0.0,0.0,0.0,0.0,0.0,0.0,0.0,0.0,0.0,0.0,0.0,0.0,0.0,0.0,0.0,0.0,0.0,0.0,0.0,0.0,0.0,0.0,0.0,0.0,0.0,0.0,0.0,0.0,0.0,0.0,0.0,0.0,0.0,0.0,0.0,0.0,0.0,0.0,0.0,0.0,0.0,0.0,0.0,0.0,0.0,0.0,0.0,0.0,0.0,0.0,0.0,0.0,0.0,0.0,0.0,0.0,0.0,0.0,0.0,0.0,0.0,0.0,0.0,0.0,0.0,0.0,0.0,0.0,0.0,0.0,0.0,0.0,0.0,0.0,0.0,0.0,0.0,0.0,0.0,0.0,0.0,0.0,0.0,0.0,0.0,0.0,0.0,0.0,0.0,0.0,0.0,0.0,0.0,0.0,0.0,0.0,0.0,0.0,0.0,0.0,0.0,0.0,0.0,0.0,0.0,0.0,0.0,0.0,0.0,0.0,0.0,0.0,0.0,0.0,0.0,0.0,0.0,0.0,0.0,0.0,0.0,0.0,0.0,0.0,0.0,0.0,0.0,0.0,0.0,0.0,0.0,0.0,0.0,0.0,0.0,0.0,0.0,0.0,0.0,0.0,0.0,0.0,0.0,0.0,0.0,0.0,0.0,0.0,0.0,0.0,0.0,0.0,0.0,0.0,0.0,0.0,0.0,0.0,0.0,0.0,0.0,0.0,0.0,0.0,0.0,0.0,0.0,0.0,0.0,0.0,0.0,0.0,0.0,0.0,0.0,0.0,0.0,0.0,0.0,0.0,0.0,0.0,0.0,0.0,0.0,0.0,0.0,0.0,0.0,0.0,0.0,0.0,0.0,0.0,0.0,0.0,0.0,0.0,0.0,0.0,0.0,0.0,0.0,0.0,0.0,0.0,0.0,0.0,0.0,0.0,0.0,0.0,0.0,0.0,0.0,0.0,0.0,0.0,0.0,0.0,0.0,0.0,0.0,0.0,0.0,0.0,0.0,0.0,0.0,0.0,0.0,0.0,0.0,0.0,0.0,0.0,0.0,0.0,0.0,0.0,0.0,0.0,0.0,0.0,0.0,0.0,0.0,0.0,0.0,0.0,0.0,0.0,0.0,0.0,0.0,0.0,0.0,0.0,0.0,0.0,0.0,0.0,0.0,0.0,0.0,0.0,0.0,0.0,0.0,0.0,0.0,0.0,0.0,0.0,0.0,0.0,0.0,0.0,0.0,0.0,0.0,0.0,0.0,0.0,0.0,0.0,0.0,0.0,0.0,0.0,0.0,0.0,0.0,0.0,0.0,0.0,0.0,0.0,0.0,0.0,0.0,0.0,0.0,0.0,0.0,0.0,0.0,0.0,0.0,0.0],\"marker\":{},\"line\":{\"shape\":\"spline\"}},{\"type\":\"scatter\",\"name\":\"x0=0.1\",\"mode\":\"lines\",\"x\":[0.0,1.0,2.7281775208996573,7.652000530713092,16.113045001043567,27.56278816011249,41.31936656668034,56.79404446165861,73.48756723900114,91.09878289250524,110.79069847894246,131.9422323606513,155.20044256374706,180.55062045788083,204.53358088657353,228.29135178664993,254.12607861131502,284.10753499365035,320.3353489031245,365.64943604899037],\"y\":[0.1,0.10510555412939837,0.1145480781148491,0.14633632245759118,0.22271239137442456,0.3920949570428681,0.7681020424154565,1.607419741438577,3.4170378331594993,6.9090999229252485,12.637835236925778,18.66037670352172,22.599606446089716,24.273653726264964,24.776376707233286,24.931358643967172,24.981074541679877,24.99574701291863,24.99928188245158,24.999905150057966],\"marker\":{},\"line\":{\"shape\":\"spline\"}},{\"type\":\"scatter\",\"name\":\"x0=0.2\",\"mode\":\"lines\",\"x\":[0.0,1.0,2.7305544445893197,7.671461513083821,16.169707575683997,27.669830215792576,41.473026644912665,56.97268959352078,73.74759897781347,92.25692209601183,112.24108560202006,133.4177143800677,156.27256187465508,179.4426627794245,202.44315183276595,226.82889850315013,254.48588015103826,287.3083528745777,327.6432175906448,379.0447192416224],\"y\":[0.2,0.21016801491839585,0.22898934629450052,0.2924100911525769,0.44447559664375436,0.7791276713626958,1.5069093710389234,3.0552272097671027,6.090507648724054,11.208080975139579,17.20517670104507,21.604591310670916,23.806429055608554,24.612437602274056,24.875921627840064,24.96318532127388,24.990730190109616,24.99817974631939,24.999735796112734,24.999961180542655],\"marker\":{},\"line\":{\"shape\":\"spline\"}},{\"type\":\"scatter\",\"name\":\"x0=0.3\",\"mode\":\"lines\",\"x\":[0.0,1.0,2.7329620240260386,7.691224624611622,16.22752785042482,27.780812607987833,41.64264620942689,57.22111172933903,74.29291586243764,94.24119295555877,116.04907210573631,139.21463757858047,163.70808644692008,187.19910917212962,211.1202175878612,237.62480706561655,268.6875896415421,306.4811162158622,354.1005988370774,416.6114806153481],\"y\":[0.30000000000000004,0.315187408864003,0.3433241421860482,0.4382247107818854,0.6653130241137273,1.1613334110667075,2.219431592022259,4.378092979235837,8.31668821505447,14.368971799155965,20.02114953868827,23.188779344332524,24.438756028159396,24.8237807131201,24.94641694427012,24.985713489351166,24.996952173828994,24.999516740462823,24.999935696038815,24.999979027972635],\"marker\":{},\"line\":{\"shape\":\"spline\"}},{\"type\":\"scatter\",\"name\":\"x0=0.4\",\"mode\":\"lines\",\"x\":[0.0,1.0,2.7354010987206827,7.7112987853821515,16.28653882358387,27.89578113541256,41.82752857324293,57.53127191397739,75.13080473311103,94.56012497450413,115.19738397608536,137.5441080417259,160.79317339087723,183.73938352624813,207.69347490096948,234.54451251697353,266.16265888080807,304.7529005382072,353.5488063810989,417.87987308917513],\"y\":[0.4,0.42016376244151155,0.4575528127442963,0.5837836950458999,0.8852482185923131,1.53893388646408,2.9082010609316353,5.600081774558819,10.258872136198429,16.192653912783733,20.94093320033936,23.508984339623336,24.513626667798114,24.843441984555458,24.952499318750423,24.987551931750946,24.9974136214054,24.99960193899414,24.999946019544748,24.999979201224868],\"marker\":{},\"line\":{\"shape\":\"spline\"}},{\"type\":\"scatter\",\"name\":\"x0=0.5\",\"mode\":\"lines\",\"x\":[0.0,1.0,2.7378725421701433,7.731693332768476,16.346775668075793,28.01479999514566,42.02732218160843,57.900698216307774,76.45912251795866,96.95503713102323,118.97004614399948,142.80249224795904,166.22452934286252,189.50565874368428,214.52888019824678,243.24236549307318,277.618038368528,320.2143576377032,375.0282984557837,448.719164019952],\"y\":[0.5,0.5250971021045172,0.5716757147441277,0.7290906742149431,1.1043049271526,1.9121394661679405,3.5753980980450635,6.739304632760134,12.069837874086158,18.057576704762177,22.165154725403237,24.064852170674364,24.702268781707332,24.906231370006566,24.97306726627075,24.99356201167648,24.99882218101221,24.999838777717084,24.999971631975278,24.99997405594789],\"marker\":{},\"line\":{\"shape\":\"spline\"}},{\"type\":\"scatter\",\"name\":\"x0=0.6\",\"mode\":\"lines\",\"x\":[0.0,1.0,2.740377331593952,7.752418403656709,16.408276481880993,28.137952434527275,42.241962366730675,58.331372402560135,78.84343047900809,102.2908886622233,126.26752339179396,151.1672512224196,174.83213617940135,198.9330955080479,225.72335178735426,257.2154875607921,295.6340101366569,344.1824901062568,408.13151611339794,495.7220085188729],\"y\":[0.6,0.6299874542849411,0.6856932175914647,0.8741494182977908,1.3225072055302665,2.2811512052075678,4.222939292872635,7.810421864061577,13.973072939880883,20.090255259115196,23.283693606854467,24.48005164772483,24.83833139078007,24.951298038827215,24.987198385197075,24.99732422502682,24.99958558808268,24.99994407528347,24.999979198470037,24.99993899301006],\"marker\":{},\"line\":{\"shape\":\"spline\"}},{\"type\":\"scatter\",\"name\":\"x0=0.7\",\"mode\":\"lines\",\"x\":[0.0,1.0,2.7429164389413208,7.7734843883280025,16.471081483873235,28.26533972554347,42.47164105363099,58.83033646936836,77.85903799020713,98.55283291049167,121.18892813539438,145.4187054476365,168.7973282337823,192.60429449726539,218.9271466135578,249.71612638657996,287.11132181970805,334.1401914857585,395.7386366883728,479.83343318901365],\"y\":[0.7000000000000001,0.7348348453930527,0.7996057014321442,1.0189638296758765,1.539879449359813,2.646162498221869,4.852543011223848,8.826392666523049,14.640070368387908,19.976522831580407,23.124596657868366,24.410247163974024,24.813649226011773,24.94299820663735,24.984663494348844,24.996685023849444,24.999466177040244,24.999929361152184,24.999978775637228,24.999952781746632],\"marker\":{},\"line\":{\"shape\":\"spline\"}},{\"type\":\"scatter\",\"name\":\"x0=0.8\",\"mode\":\"lines\",\"x\":[0.0,1.0,2.745490890957784,7.794902275531345,16.53523375323439,28.397082551254655,42.71680209035627,59.41262675300875,78.39970028594973,98.76781322563146,120.99871454605237,144.4495977695256,167.47050995420446,191.27909411933106,217.79903365852567,248.91093024644627,286.7695422446244,334.48041156939973,397.1315004269466,482.80132885771036],\"y\":[0.8,0.8396393018174911,0.9134135591477248,1.1635379625034705,1.756446497581887,3.0073607445356503,5.465781728006929,9.800312643232175,15.62309973673498,20.545894872244823,23.335155249650487,24.459555844811817,24.82642007129386,24.94692776327104,24.985860609908016,24.996990622362215,24.99952402550145,24.999936596158545,24.999979057044442,24.999947158043508],\"marker\":{},\"line\":{\"shape\":\"spline\"}},{\"type\":\"scatter\",\"name\":\"x0=0.9\",\"mode\":\"lines\",\"x\":[0.0,1.0,2.748101806041254,7.816683850259134,16.60077967696602,28.533322350411535,42.97815727981507,60.11017311513042,79.43798848673615,100.06829029817227,122.49854430220672,145.652444838053,168.57846241090945,192.65225339795492,219.74755680253074,251.73424020564147,290.8574778473415,340.44665287916166,406.0086683787461,495.95101053325175],\"y\":[0.9,0.9444008499252885,1.0271171991055184,1.3078760461816847,1.9722337444699818,3.364928924409213,6.06412695823175,10.74874977466143,16.617632404811747,21.18956646909853,23.616206401110162,24.54788108642213,24.854460000985053,24.956117376212173,24.98863880597914,24.997680185365184,24.99964966207854,24.999951588148893,24.999979090388674,24.999926595903624],\"marker\":{},\"line\":{\"shape\":\"spline\"}},{\"type\":\"scatter\",\"name\":\"x0=1.0\",\"mode\":\"lines\",\"x\":[0.0,1.0,2.75075029765648,7.83884122962831,16.667768363599137,28.674221721795426,43.25672432868315,61.004620477596674,81.0633758581375,102.51809723416434,125.76017048188848,149.00521940667454,172.10825754735447,196.76510700707328,224.88243909183547,258.3838260169341,299.70537852546033,352.591081737291,423.2822432286691,520.3899774365619],\"y\":[1.0,1.049119516061891,1.1407170417485344,1.4519824704327635,2.1872671647030417,3.7190469368957775,6.648991367294915,11.70227666089784,17.645198376639705,21.879991117307394,23.93214899865022,24.655759045258513,24.890480851587714,24.967952378299834,24.992111707544744,24.998498694866335,24.999788172743802,24.999966665383113,24.99997680636419,24.999863107660687],\"marker\":{},\"line\":{\"shape\":\"spline\"}}];\r\n",
       "            var layout = {\"width\":600,\"height\":600,\"template\":{\"layout\":{\"title\":{\"x\":0.05},\"font\":{\"color\":\"rgba(42, 63, 95, 1.0)\"},\"paper_bgcolor\":\"rgba(255, 255, 255, 1.0)\",\"plot_bgcolor\":\"rgba(229, 236, 246, 1.0)\",\"autotypenumbers\":\"strict\",\"colorscale\":{\"diverging\":[[0.0,\"#8e0152\"],[0.1,\"#c51b7d\"],[0.2,\"#de77ae\"],[0.3,\"#f1b6da\"],[0.4,\"#fde0ef\"],[0.5,\"#f7f7f7\"],[0.6,\"#e6f5d0\"],[0.7,\"#b8e186\"],[0.8,\"#7fbc41\"],[0.9,\"#4d9221\"],[1.0,\"#276419\"]],\"sequential\":[[0.0,\"#0d0887\"],[0.1111111111111111,\"#46039f\"],[0.2222222222222222,\"#7201a8\"],[0.3333333333333333,\"#9c179e\"],[0.4444444444444444,\"#bd3786\"],[0.5555555555555556,\"#d8576b\"],[0.6666666666666666,\"#ed7953\"],[0.7777777777777778,\"#fb9f3a\"],[0.8888888888888888,\"#fdca26\"],[1.0,\"#f0f921\"]],\"sequentialminus\":[[0.0,\"#0d0887\"],[0.1111111111111111,\"#46039f\"],[0.2222222222222222,\"#7201a8\"],[0.3333333333333333,\"#9c179e\"],[0.4444444444444444,\"#bd3786\"],[0.5555555555555556,\"#d8576b\"],[0.6666666666666666,\"#ed7953\"],[0.7777777777777778,\"#fb9f3a\"],[0.8888888888888888,\"#fdca26\"],[1.0,\"#f0f921\"]]},\"hovermode\":\"closest\",\"hoverlabel\":{\"align\":\"left\"},\"coloraxis\":{\"colorbar\":{\"outlinewidth\":0.0,\"ticks\":\"\"}},\"geo\":{\"showland\":true,\"landcolor\":\"rgba(229, 236, 246, 1.0)\",\"showlakes\":true,\"lakecolor\":\"rgba(255, 255, 255, 1.0)\",\"subunitcolor\":\"rgba(255, 255, 255, 1.0)\",\"bgcolor\":\"rgba(255, 255, 255, 1.0)\"},\"mapbox\":{\"style\":\"light\"},\"polar\":{\"bgcolor\":\"rgba(229, 236, 246, 1.0)\",\"radialaxis\":{\"linecolor\":\"rgba(255, 255, 255, 1.0)\",\"gridcolor\":\"rgba(255, 255, 255, 1.0)\",\"ticks\":\"\"},\"angularaxis\":{\"linecolor\":\"rgba(255, 255, 255, 1.0)\",\"gridcolor\":\"rgba(255, 255, 255, 1.0)\",\"ticks\":\"\"}},\"scene\":{\"xaxis\":{\"ticks\":\"\",\"linecolor\":\"rgba(255, 255, 255, 1.0)\",\"gridcolor\":\"rgba(255, 255, 255, 1.0)\",\"gridwidth\":2.0,\"zerolinecolor\":\"rgba(255, 255, 255, 1.0)\",\"backgroundcolor\":\"rgba(229, 236, 246, 1.0)\",\"showbackground\":true},\"yaxis\":{\"ticks\":\"\",\"linecolor\":\"rgba(255, 255, 255, 1.0)\",\"gridcolor\":\"rgba(255, 255, 255, 1.0)\",\"gridwidth\":2.0,\"zerolinecolor\":\"rgba(255, 255, 255, 1.0)\",\"backgroundcolor\":\"rgba(229, 236, 246, 1.0)\",\"showbackground\":true},\"zaxis\":{\"ticks\":\"\",\"linecolor\":\"rgba(255, 255, 255, 1.0)\",\"gridcolor\":\"rgba(255, 255, 255, 1.0)\",\"gridwidth\":2.0,\"zerolinecolor\":\"rgba(255, 255, 255, 1.0)\",\"backgroundcolor\":\"rgba(229, 236, 246, 1.0)\",\"showbackground\":true}},\"ternary\":{\"aaxis\":{\"ticks\":\"\",\"linecolor\":\"rgba(255, 255, 255, 1.0)\",\"gridcolor\":\"rgba(255, 255, 255, 1.0)\"},\"baxis\":{\"ticks\":\"\",\"linecolor\":\"rgba(255, 255, 255, 1.0)\",\"gridcolor\":\"rgba(255, 255, 255, 1.0)\"},\"caxis\":{\"ticks\":\"\",\"linecolor\":\"rgba(255, 255, 255, 1.0)\",\"gridcolor\":\"rgba(255, 255, 255, 1.0)\"},\"bgcolor\":\"rgba(229, 236, 246, 1.0)\"},\"xaxis\":{\"title\":{\"standoff\":15},\"ticks\":\"\",\"automargin\":true,\"linecolor\":\"rgba(255, 255, 255, 1.0)\",\"gridcolor\":\"rgba(255, 255, 255, 1.0)\",\"zerolinecolor\":\"rgba(255, 255, 255, 1.0)\",\"zerolinewidth\":2.0},\"yaxis\":{\"title\":{\"standoff\":15},\"ticks\":\"\",\"automargin\":true,\"linecolor\":\"rgba(255, 255, 255, 1.0)\",\"gridcolor\":\"rgba(255, 255, 255, 1.0)\",\"zerolinecolor\":\"rgba(255, 255, 255, 1.0)\",\"zerolinewidth\":2.0},\"annotationdefaults\":{\"arrowcolor\":\"#2a3f5f\",\"arrowhead\":0,\"arrowwidth\":1},\"shapedefaults\":{\"line\":{\"color\":\"rgba(42, 63, 95, 1.0)\"}},\"colorway\":[\"rgba(99, 110, 250, 1.0)\",\"rgba(239, 85, 59, 1.0)\",\"rgba(0, 204, 150, 1.0)\",\"rgba(171, 99, 250, 1.0)\",\"rgba(255, 161, 90, 1.0)\",\"rgba(25, 211, 243, 1.0)\",\"rgba(255, 102, 146, 1.0)\",\"rgba(182, 232, 128, 1.0)\",\"rgba(255, 151, 255, 1.0)\",\"rgba(254, 203, 82, 1.0)\"]},\"data\":{\"bar\":[{\"marker\":{\"line\":{\"color\":\"rgba(229, 236, 246, 1.0)\",\"width\":0.5},\"pattern\":{\"fillmode\":\"overlay\",\"size\":10,\"solidity\":0.2}},\"error_x\":{\"color\":\"rgba(42, 63, 95, 1.0)\"},\"error_y\":{\"color\":\"rgba(42, 63, 95, 1.0)\"}}],\"barpolar\":[{\"marker\":{\"line\":{\"color\":\"rgba(229, 236, 246, 1.0)\",\"width\":0.5},\"pattern\":{\"fillmode\":\"overlay\",\"size\":10,\"solidity\":0.2}}}],\"carpet\":[{\"aaxis\":{\"linecolor\":\"rgba(255, 255, 255, 1.0)\",\"gridcolor\":\"rgba(255, 255, 255, 1.0)\",\"endlinecolor\":\"rgba(42, 63, 95, 1.0)\",\"minorgridcolor\":\"rgba(255, 255, 255, 1.0)\",\"startlinecolor\":\"rgba(42, 63, 95, 1.0)\"},\"baxis\":{\"linecolor\":\"rgba(255, 255, 255, 1.0)\",\"gridcolor\":\"rgba(255, 255, 255, 1.0)\",\"endlinecolor\":\"rgba(42, 63, 95, 1.0)\",\"minorgridcolor\":\"rgba(255, 255, 255, 1.0)\",\"startlinecolor\":\"rgba(42, 63, 95, 1.0)\"}}],\"choropleth\":[{\"colorbar\":{\"outlinewidth\":0.0,\"ticks\":\"\"},\"colorscale\":[[0.0,\"#0d0887\"],[0.1111111111111111,\"#46039f\"],[0.2222222222222222,\"#7201a8\"],[0.3333333333333333,\"#9c179e\"],[0.4444444444444444,\"#bd3786\"],[0.5555555555555556,\"#d8576b\"],[0.6666666666666666,\"#ed7953\"],[0.7777777777777778,\"#fb9f3a\"],[0.8888888888888888,\"#fdca26\"],[1.0,\"#f0f921\"]]}],\"contour\":[{\"colorbar\":{\"outlinewidth\":0.0,\"ticks\":\"\"},\"colorscale\":[[0.0,\"#0d0887\"],[0.1111111111111111,\"#46039f\"],[0.2222222222222222,\"#7201a8\"],[0.3333333333333333,\"#9c179e\"],[0.4444444444444444,\"#bd3786\"],[0.5555555555555556,\"#d8576b\"],[0.6666666666666666,\"#ed7953\"],[0.7777777777777778,\"#fb9f3a\"],[0.8888888888888888,\"#fdca26\"],[1.0,\"#f0f921\"]]}],\"contourcarpet\":[{\"colorbar\":{\"outlinewidth\":0.0,\"ticks\":\"\"}}],\"heatmap\":[{\"colorbar\":{\"outlinewidth\":0.0,\"ticks\":\"\"},\"colorscale\":[[0.0,\"#0d0887\"],[0.1111111111111111,\"#46039f\"],[0.2222222222222222,\"#7201a8\"],[0.3333333333333333,\"#9c179e\"],[0.4444444444444444,\"#bd3786\"],[0.5555555555555556,\"#d8576b\"],[0.6666666666666666,\"#ed7953\"],[0.7777777777777778,\"#fb9f3a\"],[0.8888888888888888,\"#fdca26\"],[1.0,\"#f0f921\"]]}],\"heatmapgl\":[{\"colorbar\":{\"outlinewidth\":0.0,\"ticks\":\"\"},\"colorscale\":[[0.0,\"#0d0887\"],[0.1111111111111111,\"#46039f\"],[0.2222222222222222,\"#7201a8\"],[0.3333333333333333,\"#9c179e\"],[0.4444444444444444,\"#bd3786\"],[0.5555555555555556,\"#d8576b\"],[0.6666666666666666,\"#ed7953\"],[0.7777777777777778,\"#fb9f3a\"],[0.8888888888888888,\"#fdca26\"],[1.0,\"#f0f921\"]]}],\"histogram\":[{\"marker\":{\"pattern\":{\"fillmode\":\"overlay\",\"size\":10,\"solidity\":0.2}}}],\"histogram2d\":[{\"colorbar\":{\"outlinewidth\":0.0,\"ticks\":\"\"},\"colorscale\":[[0.0,\"#0d0887\"],[0.1111111111111111,\"#46039f\"],[0.2222222222222222,\"#7201a8\"],[0.3333333333333333,\"#9c179e\"],[0.4444444444444444,\"#bd3786\"],[0.5555555555555556,\"#d8576b\"],[0.6666666666666666,\"#ed7953\"],[0.7777777777777778,\"#fb9f3a\"],[0.8888888888888888,\"#fdca26\"],[1.0,\"#f0f921\"]]}],\"histogram2dcontour\":[{\"colorbar\":{\"outlinewidth\":0.0,\"ticks\":\"\"},\"colorscale\":[[0.0,\"#0d0887\"],[0.1111111111111111,\"#46039f\"],[0.2222222222222222,\"#7201a8\"],[0.3333333333333333,\"#9c179e\"],[0.4444444444444444,\"#bd3786\"],[0.5555555555555556,\"#d8576b\"],[0.6666666666666666,\"#ed7953\"],[0.7777777777777778,\"#fb9f3a\"],[0.8888888888888888,\"#fdca26\"],[1.0,\"#f0f921\"]]}],\"mesh3d\":[{\"colorbar\":{\"outlinewidth\":0.0,\"ticks\":\"\"}}],\"parcoords\":[{\"line\":{\"colorbar\":{\"outlinewidth\":0.0,\"ticks\":\"\"}}}],\"pie\":[{\"automargin\":true}],\"scatter\":[{\"marker\":{\"colorbar\":{\"outlinewidth\":0.0,\"ticks\":\"\"}}}],\"scatter3d\":[{\"marker\":{\"colorbar\":{\"outlinewidth\":0.0,\"ticks\":\"\"}},\"line\":{\"colorbar\":{\"outlinewidth\":0.0,\"ticks\":\"\"}}}],\"scattercarpet\":[{\"marker\":{\"colorbar\":{\"outlinewidth\":0.0,\"ticks\":\"\"}}}],\"scattergeo\":[{\"marker\":{\"colorbar\":{\"outlinewidth\":0.0,\"ticks\":\"\"}}}],\"scattergl\":[{\"marker\":{\"colorbar\":{\"outlinewidth\":0.0,\"ticks\":\"\"}}}],\"scattermapbox\":[{\"marker\":{\"colorbar\":{\"outlinewidth\":0.0,\"ticks\":\"\"}}}],\"scatterpolar\":[{\"marker\":{\"colorbar\":{\"outlinewidth\":0.0,\"ticks\":\"\"}}}],\"scatterpolargl\":[{\"marker\":{\"colorbar\":{\"outlinewidth\":0.0,\"ticks\":\"\"}}}],\"scatterternary\":[{\"marker\":{\"colorbar\":{\"outlinewidth\":0.0,\"ticks\":\"\"}}}],\"surface\":[{\"colorbar\":{\"outlinewidth\":0.0,\"ticks\":\"\"},\"colorscale\":[[0.0,\"#0d0887\"],[0.1111111111111111,\"#46039f\"],[0.2222222222222222,\"#7201a8\"],[0.3333333333333333,\"#9c179e\"],[0.4444444444444444,\"#bd3786\"],[0.5555555555555556,\"#d8576b\"],[0.6666666666666666,\"#ed7953\"],[0.7777777777777778,\"#fb9f3a\"],[0.8888888888888888,\"#fdca26\"],[1.0,\"#f0f921\"]]}],\"table\":[{\"cells\":{\"fill\":{\"color\":\"rgba(235, 240, 248, 1.0)\"},\"line\":{\"color\":\"rgba(255, 255, 255, 1.0)\"}},\"header\":{\"fill\":{\"color\":\"rgba(200, 212, 227, 1.0)\"},\"line\":{\"color\":\"rgba(255, 255, 255, 1.0)\"}}}]}},\"xaxis\":{\"title\":{\"text\":\"Time\"}},\"yaxis\":{\"title\":{\"text\":\"Population\"}},\"title\":{\"text\":\"Transcritical\"}};\r\n",
       "            var config = {\"responsive\":true};\r\n",
       "            Plotly.newPlot('161afaed-5bc7-445c-8e96-1293ea8e5510', data, layout, config);\r\n",
       "});\r\n",
       "            };\r\n",
       "            if ((typeof(requirejs) !==  typeof(Function)) || (typeof(requirejs.config) !== typeof(Function))) {\r\n",
       "                var script = document.createElement(\"script\");\r\n",
       "                script.setAttribute(\"src\", \"https://cdnjs.cloudflare.com/ajax/libs/require.js/2.3.6/require.min.js\");\r\n",
       "                script.onload = function(){\r\n",
       "                    renderPlotly_161afaed5bc7445c8e961293ea8e5510();\r\n",
       "                };\r\n",
       "                document.getElementsByTagName(\"head\")[0].appendChild(script);\r\n",
       "            }\r\n",
       "            else {\r\n",
       "                renderPlotly_161afaed5bc7445c8e961293ea8e5510();\r\n",
       "            }\r\n",
       "</script>\r\n",
       "\n",
       "    \n",
       "</div>    \n"
      ]
     },
     "metadata": {},
     "output_type": "display_data"
    }
   ],
   "source": [
    "[\n",
    "    Chart.Spline ([ for x in 0.0 .. 1000.0 -> (x, x*0.) ] ,Name =\"x0=0\")\n",
    "    for r in [0.1.. 0.1.. 1.] do\n",
    "        let P0 = [|r|]\n",
    "        let Ps = \n",
    "            modelContext.OdeInt(0.,P0,dU2_dt)\n",
    "            |> SolPoints.take 20\n",
    "            |> SolPoints.memorize\n",
    "        let name = sprintf \"x0=%.1f\" r\n",
    "        let predators = Ps |> SolPoints.toPoints 1\n",
    "        Chart.Spline (predators, Name=name )\n",
    "        \n",
    "    \n",
    "]\n",
    "|> Chart.combine        \n",
    "|> Chart.withXAxisStyle(\"Time\")\n",
    "|> Chart.withYAxisStyle(\"Population\")\n",
    "|> Chart.withTitle(\"Transcritical\")"
   ]
  },
  {
   "cell_type": "markdown",
   "metadata": {},
   "source": [
    "Braucht noch ein biologisches Beispiel\n",
    "Aktivator(wahrscheinlich licht) aktivert ein Transkriptionsfaktor welcher die Produktion eines anderen Transkriptionsfaktors startet (wobei bei höhere Lichtintensitöt mehr Transkriptionsfaktoren aktiv werden). Dieses Transkrptionsfaktor autoreguliert sich selbst positiv. "
   ]
  },
  {
   "cell_type": "code",
   "execution_count": null,
   "metadata": {
    "dotnet_interactive": {
     "language": "fsharp"
    },
    "vscode": {
     "languageId": "dotnet-interactive.fsharp"
    }
   },
   "outputs": [],
   "source": [
    "// Bifurkationskonstante\n",
    "let activator  = 0.6 \n",
    "// Systemparameter (nicht ändern)\n",
    "let alpha, beta,  K1, K2, gamma, n  = 0.1, 10. , 1. , 1. , 1. , 2.\n",
    "// Define a function which calculates the derivative\n",
    "let dU2_dt : Model = \n",
    "    // Here U is a vector such that y=U[0] and z=U[1]. This function should return [y', z']\n",
    "    fun U x ->\n",
    "        // States at given x. Leave as is. \n",
    "        let protein = U[0]\n",
    "        // Functions for computing the change of the state \n",
    "        let protein' = alpha + beta * (activator**n/ (K1+ activator**n)) * (protein**2/ (K2+protein**n)) - gamma*protein\n",
    "        // Resulting new states. Leave as is. \n",
    "        [| protein'|]"
   ]
  },
  {
   "cell_type": "markdown",
   "metadata": {},
   "source": [
    "Varriere die Bifurkationskonstante welche die Intensität des des Lichts beschreibt. Bestimme um welche Art der Bifurkation es sich handelt. (Anmerkung: instabile Bifurkationspunkte werden eventuell nicht angezeigt.)"
   ]
  },
  {
   "cell_type": "code",
   "execution_count": null,
   "metadata": {
    "dotnet_interactive": {
     "language": "fsharp"
    },
    "vscode": {
     "languageId": "dotnet-interactive.fsharp"
    }
   },
   "outputs": [
    {
     "data": {
      "text/html": [
       "\n",
       "<div>\n",
       "    <div id=\"6a9aa582-face-4ec8-835f-248bb7c6ce60\"><!-- Plotly chart will be drawn inside this DIV --></div>\r\n",
       "<script type=\"text/javascript\">\r\n",
       "\r\n",
       "            var renderPlotly_6a9aa582face4ec8835f248bb7c6ce60 = function() {\r\n",
       "            var fsharpPlotlyRequire = requirejs.config({context:'fsharp-plotly',paths:{plotly:'https://cdn.plot.ly/plotly-2.6.3.min'}}) || require;\r\n",
       "            fsharpPlotlyRequire(['plotly'], function(Plotly) {\r\n",
       "\r\n",
       "            var data = [{\"type\":\"scatter\",\"name\":\"x0=0.0\",\"mode\":\"lines\",\"x\":[0.0,0.7958187867762047,1.495812437325765,2.237301641497215,3.1832834581560108,4.4266704001904875,6.059716407193176,8.215491215114369,11.097049052739088,15.028502859831374,20.598282702214046,29.738816625676996,40.70949449063521,44.98077838552568,47.47435698138078,49.76630188509877,51.10685128420858,52.27716925940637,53.58267765922526,55.04965332903613],\"y\":[0.0,0.057051573738367195,0.08606841402148308,0.106656246050545,0.12473024707388038,0.14084374871008967,0.155012111928228,0.16748158065819427,0.17867566355821832,0.1892189124981993,0.20029979014342025,0.21698186057829263,0.25436310743450224,0.3017829161006996,0.3842178615339386,0.67552976802431,1.1735787435671743,1.6834719688429622,2.0460412441538605,2.2289681270995043],\"marker\":{},\"line\":{\"shape\":\"spline\"}},{\"type\":\"scatter\",\"name\":\"x0=0.2\",\"mode\":\"lines\",\"x\":[0.0,1.0,2.6955770451103285,7.402881990211231,15.234391999893951,23.14509386151007,26.30241890526418,28.718346162472322,30.747654794538526,32.71230468737683,34.52113133752578,36.080222711491636,37.60769704246927,39.25889039009697,41.152958957958525,43.403361087334225,46.157539452869074,49.6439299554092,54.24475640817015,60.5518268623756],\"y\":[0.2,0.20179324571117246,0.2047851584830659,0.21325066290096562,0.23177348977617257,0.280087949396901,0.349633541053671,0.5486992911808481,1.2076878708358458,1.950458075007265,2.221337207730416,2.298085839519891,2.3240122153471936,2.3333143512517984,2.336440714116131,2.3373312937103528,2.3375283890343566,2.3375591123835155,2.3375620196465032,2.3375577075438914],\"marker\":{},\"line\":{\"shape\":\"spline\"}},{\"type\":\"scatter\",\"name\":\"x0=0.4\",\"mode\":\"lines\",\"x\":[0.0,1.0,2.0627625673951786,3.330311687831701,4.520010312184983,6.062405539681757,7.92757903190238,9.54590666714039,11.145801960323702,12.913031114969026,14.977537989246139,17.46954256272573,20.571957766337245,24.58223995392627,29.997338068249185,37.401176881348604,46.5182397644372,51.114505421114316,55.115237871552644,59.09078640873311],\"y\":[0.4,0.48993065537070174,0.683990867123362,1.1551713815138998,1.6757069447651554,2.084629555788441,2.266397302733933,2.3145295037925,2.330065990073702,2.3353979705646264,2.3370551461441713,2.337473735547558,2.3375518511934996,2.337561581982257,2.337561233420162,2.3375379567840318,2.3365649046992334,2.3371657088215283,2.3374863467177605,2.3375492137607923],\"marker\":{},\"line\":{\"shape\":\"spline\"}},{\"type\":\"scatter\",\"name\":\"x0=0.6\",\"mode\":\"lines\",\"x\":[0.0,1.0,1.912819611410749,2.874812989719423,3.9406993859733577,5.175325338412666,6.498070703838332,7.913105803336569,9.467214831244846,11.234208850694376,13.306035579425501,15.805735974171933,18.91751814812017,22.941731646471734,28.37851716929644,35.80895601511838,44.93787042426936,49.50068622912527,53.469501270671536,57.420783079960295],\"y\":[0.6000000000000001,0.8859068714642354,1.2840545047010319,1.6947168296034831,2.0035906353237993,2.1907157442460674,2.278503018820316,2.3155680040750615,2.3301716994402044,2.3354281913541657,2.3370647551437163,2.337475856446775,2.337552158679034,2.3375616089380493,2.3375611909202654,2.3375369058385718,2.3365154758449656,2.337163830263056,2.3374884249199614,2.3375499448316512],\"marker\":{},\"line\":{\"shape\":\"spline\"}},{\"type\":\"scatter\",\"name\":\"x0=0.8\",\"mode\":\"lines\",\"x\":[0.0,1.0,1.885124567962011,2.9902257957130116,4.338985758243124,5.710239313334861,7.141551731717949,8.698436543030681,10.46406943321133,12.533389954568054,15.029784027765402,18.136906819417998,22.154046741813143,27.579880877219658,34.996966334764004,44.12006915919739,48.69971741964996,52.68457403340864,56.64805939133486,61.170540534757535],\"y\":[0.8,1.2125130293209427,1.6056446571188832,1.9598661135994848,2.182739379239703,2.277286360178654,2.315365295652619,2.330117858336773,2.3354105720320213,2.3370597715286285,2.3374747963701266,2.3375520053366285,2.3375615956992606,2.337561212823348,2.3375374429992566,2.336540652319759,2.337164785794404,2.3374873991721623,2.3375495852363497,2.3375587567737033],\"marker\":{},\"line\":{\"shape\":\"spline\"}},{\"type\":\"scatter\",\"name\":\"x0=1.0\",\"mode\":\"lines\",\"x\":[0.0,1.0,1.903560337251426,2.936844521949931,4.129600726050141,5.441647737937675,6.866790186718601,8.44773180150368,10.256460085349339,12.387113628478678,14.969720585887483,18.202454833885636,22.411663769480857,28.132934834775952,35.896162597109225,45.14032269314891,49.29642371967427,52.88244952214103,56.53136882048997,60.91754740314184],\"y\":[1.0,1.4532213698441003,1.8026627088081404,2.059275702713097,2.2127456289834613,2.2871478390404145,2.3189426368828836,2.331425437152097,2.3358416571890697,2.3371772478131496,2.3374990172761696,2.337555394931332,2.337561864601351,2.337560477090231,2.3375182730554327,2.3356383184139555,2.3371202200946106,2.3375009741604234,2.3375547248634967,2.337561153674473],\"marker\":{},\"line\":{\"shape\":\"spline\"}},{\"type\":\"scatter\",\"name\":\"x0=1.2\",\"mode\":\"lines\",\"x\":[0.0,1.0,2.164935497239887,3.6873574334310355,5.1454001125868745,6.630067876745791,8.246540951694088,10.095044567758345,12.28091792723934,14.942592828881496,18.291905638067615,22.680598848169033,28.673723306053738,36.72945535925873,44.907647097871454,49.016840910257386,52.71444674367921,56.54612493571589,61.18259770100168,67.26597473772213],\"y\":[1.2000000000000002,1.640382173735059,1.9939216274864404,2.213173232183489,2.2921772078184857,2.3214961330629538,2.3323993866638086,2.3361547355305095,2.3372591583277496,2.3375150241229243,2.33755748434357,2.3375619873326787,2.337559466792543,2.3374884262597773,2.3361594373468892,2.3372568941922043,2.337517568434691,2.3375562293713688,2.337560715351796,2.3375557861853835],\"marker\":{},\"line\":{\"shape\":\"spline\"}},{\"type\":\"scatter\",\"name\":\"x0=1.4\",\"mode\":\"lines\",\"x\":[0.0,1.0,1.9618828397233186,3.1120943453184546,4.39954522927872,5.805534427202673,7.363172894450962,9.139545861400173,11.22499527216906,13.743715644939721,16.883071626549864,20.9493253212841,26.451055854462286,33.959821941799945,43.12095644922944,47.58582155184883,51.46161087562994,55.34151127006541,59.8381571019752,65.57643874763247],\"y\":[1.4000000000000001,1.7954482257586268,2.041664894492793,2.2005727325879256,2.2811795743114485,2.3164394162458573,2.3304829939188387,2.3355315805200867,2.3370933323104452,2.337481857482993,2.3375530185311058,2.337561681519576,2.3375610530378053,2.337533481409987,2.3363546427192934,2.337157317221472,2.337493566286782,2.3375517333014084,2.337559680284707,2.3375567066271103],\"marker\":{},\"line\":{\"shape\":\"spline\"}},{\"type\":\"scatter\",\"name\":\"x0=1.6\",\"mode\":\"lines\",\"x\":[0.0,1.0,1.966321879274439,3.1307135214029698,4.443805439295787,5.894177437700246,7.522316309087196,9.400564986162827,11.62856687474877,14.3491177737591,17.785004796395135,22.30754949029098,28.499921362119736,36.75367716604459,44.69467227517755,48.65153212440888,52.22964450267343,55.97355179665467,60.57484708560179,66.69496714382046],\"y\":[1.6,1.9302720826621944,2.1205142837035384,2.2391834333446194,2.2980023891813293,2.323229690829915,2.332995261095035,2.3363429675220604,2.337307237558635,2.3375240274795646,2.337558594501014,2.3375620203370575,2.337558442497119,2.337454832856284,2.3358980360572845,2.3372532243018087,2.337520017261248,2.337557114750554,2.3375612167389694,2.337556759160335],\"marker\":{},\"line\":{\"shape\":\"spline\"}},{\"type\":\"scatter\",\"name\":\"x0=1.8\",\"mode\":\"lines\",\"x\":[0.0,1.0,1.9754102320972324,3.165141327768183,4.519298452924957,6.036248469666177,7.763653274862559,9.781875512664522,12.205737363961902,15.207155686863507,19.063676746622786,24.240343428115445,31.34355844675953,40.30604695149636,45.294424797924,49.673559521651356,53.92952713718742,58.501383689304376,63.87564458310674,70.35863179745257],\"y\":[1.8,2.0515904222561994,2.1886440466387516,2.271858974293726,2.312005145419649,2.328743089549754,2.3349433849470786,2.336928440643888,2.337446371203439,2.337547749372551,2.3375612052383334,2.337561621570599,2.33754709771711,2.3369859247181224,2.3371788443928514,2.3374477911999767,2.3375338486462556,2.3375523342184885,2.337551292763798,2.3375148603786133],\"marker\":{},\"line\":{\"shape\":\"spline\"}},{\"type\":\"scatter\",\"name\":\"x0=2.0\",\"mode\":\"lines\",\"x\":[0.0,1.0,1.9838416304134405,3.2073168551678615,4.629991055188805,6.255629808454955,8.138842687224388,10.374219962796714,13.1046366189664,16.554852609426014,21.09957733909173,27.324645026648522,35.60954837984411,41.88772043731571,47.57311005285189,52.750524585585346,57.344097846922224,61.63935075698026,66.05381368836025,71.06286344877797],\"y\":[2.0,2.1634549605817943,2.2486971255289827,2.2995716411931015,2.3235315351582346,2.3330838250799886,2.3363707761144163,2.3373143179677482,2.337525327558993,2.337558750364679,2.337562021727511,2.3375582455916923,2.3374480545598266,2.3372026645674824,2.3369889157704034,2.337075060909404,2.337369737153695,2.3375111587634927,2.3375473090622103,2.337552567053832],\"marker\":{},\"line\":{\"shape\":\"spline\"}}];\r\n",
       "            var layout = {\"width\":600,\"height\":600,\"template\":{\"layout\":{\"title\":{\"x\":0.05},\"font\":{\"color\":\"rgba(42, 63, 95, 1.0)\"},\"paper_bgcolor\":\"rgba(255, 255, 255, 1.0)\",\"plot_bgcolor\":\"rgba(229, 236, 246, 1.0)\",\"autotypenumbers\":\"strict\",\"colorscale\":{\"diverging\":[[0.0,\"#8e0152\"],[0.1,\"#c51b7d\"],[0.2,\"#de77ae\"],[0.3,\"#f1b6da\"],[0.4,\"#fde0ef\"],[0.5,\"#f7f7f7\"],[0.6,\"#e6f5d0\"],[0.7,\"#b8e186\"],[0.8,\"#7fbc41\"],[0.9,\"#4d9221\"],[1.0,\"#276419\"]],\"sequential\":[[0.0,\"#0d0887\"],[0.1111111111111111,\"#46039f\"],[0.2222222222222222,\"#7201a8\"],[0.3333333333333333,\"#9c179e\"],[0.4444444444444444,\"#bd3786\"],[0.5555555555555556,\"#d8576b\"],[0.6666666666666666,\"#ed7953\"],[0.7777777777777778,\"#fb9f3a\"],[0.8888888888888888,\"#fdca26\"],[1.0,\"#f0f921\"]],\"sequentialminus\":[[0.0,\"#0d0887\"],[0.1111111111111111,\"#46039f\"],[0.2222222222222222,\"#7201a8\"],[0.3333333333333333,\"#9c179e\"],[0.4444444444444444,\"#bd3786\"],[0.5555555555555556,\"#d8576b\"],[0.6666666666666666,\"#ed7953\"],[0.7777777777777778,\"#fb9f3a\"],[0.8888888888888888,\"#fdca26\"],[1.0,\"#f0f921\"]]},\"hovermode\":\"closest\",\"hoverlabel\":{\"align\":\"left\"},\"coloraxis\":{\"colorbar\":{\"outlinewidth\":0.0,\"ticks\":\"\"}},\"geo\":{\"showland\":true,\"landcolor\":\"rgba(229, 236, 246, 1.0)\",\"showlakes\":true,\"lakecolor\":\"rgba(255, 255, 255, 1.0)\",\"subunitcolor\":\"rgba(255, 255, 255, 1.0)\",\"bgcolor\":\"rgba(255, 255, 255, 1.0)\"},\"mapbox\":{\"style\":\"light\"},\"polar\":{\"bgcolor\":\"rgba(229, 236, 246, 1.0)\",\"radialaxis\":{\"linecolor\":\"rgba(255, 255, 255, 1.0)\",\"gridcolor\":\"rgba(255, 255, 255, 1.0)\",\"ticks\":\"\"},\"angularaxis\":{\"linecolor\":\"rgba(255, 255, 255, 1.0)\",\"gridcolor\":\"rgba(255, 255, 255, 1.0)\",\"ticks\":\"\"}},\"scene\":{\"xaxis\":{\"ticks\":\"\",\"linecolor\":\"rgba(255, 255, 255, 1.0)\",\"gridcolor\":\"rgba(255, 255, 255, 1.0)\",\"gridwidth\":2.0,\"zerolinecolor\":\"rgba(255, 255, 255, 1.0)\",\"backgroundcolor\":\"rgba(229, 236, 246, 1.0)\",\"showbackground\":true},\"yaxis\":{\"ticks\":\"\",\"linecolor\":\"rgba(255, 255, 255, 1.0)\",\"gridcolor\":\"rgba(255, 255, 255, 1.0)\",\"gridwidth\":2.0,\"zerolinecolor\":\"rgba(255, 255, 255, 1.0)\",\"backgroundcolor\":\"rgba(229, 236, 246, 1.0)\",\"showbackground\":true},\"zaxis\":{\"ticks\":\"\",\"linecolor\":\"rgba(255, 255, 255, 1.0)\",\"gridcolor\":\"rgba(255, 255, 255, 1.0)\",\"gridwidth\":2.0,\"zerolinecolor\":\"rgba(255, 255, 255, 1.0)\",\"backgroundcolor\":\"rgba(229, 236, 246, 1.0)\",\"showbackground\":true}},\"ternary\":{\"aaxis\":{\"ticks\":\"\",\"linecolor\":\"rgba(255, 255, 255, 1.0)\",\"gridcolor\":\"rgba(255, 255, 255, 1.0)\"},\"baxis\":{\"ticks\":\"\",\"linecolor\":\"rgba(255, 255, 255, 1.0)\",\"gridcolor\":\"rgba(255, 255, 255, 1.0)\"},\"caxis\":{\"ticks\":\"\",\"linecolor\":\"rgba(255, 255, 255, 1.0)\",\"gridcolor\":\"rgba(255, 255, 255, 1.0)\"},\"bgcolor\":\"rgba(229, 236, 246, 1.0)\"},\"xaxis\":{\"title\":{\"standoff\":15},\"ticks\":\"\",\"automargin\":true,\"linecolor\":\"rgba(255, 255, 255, 1.0)\",\"gridcolor\":\"rgba(255, 255, 255, 1.0)\",\"zerolinecolor\":\"rgba(255, 255, 255, 1.0)\",\"zerolinewidth\":2.0},\"yaxis\":{\"title\":{\"standoff\":15},\"ticks\":\"\",\"automargin\":true,\"linecolor\":\"rgba(255, 255, 255, 1.0)\",\"gridcolor\":\"rgba(255, 255, 255, 1.0)\",\"zerolinecolor\":\"rgba(255, 255, 255, 1.0)\",\"zerolinewidth\":2.0},\"annotationdefaults\":{\"arrowcolor\":\"#2a3f5f\",\"arrowhead\":0,\"arrowwidth\":1},\"shapedefaults\":{\"line\":{\"color\":\"rgba(42, 63, 95, 1.0)\"}},\"colorway\":[\"rgba(99, 110, 250, 1.0)\",\"rgba(239, 85, 59, 1.0)\",\"rgba(0, 204, 150, 1.0)\",\"rgba(171, 99, 250, 1.0)\",\"rgba(255, 161, 90, 1.0)\",\"rgba(25, 211, 243, 1.0)\",\"rgba(255, 102, 146, 1.0)\",\"rgba(182, 232, 128, 1.0)\",\"rgba(255, 151, 255, 1.0)\",\"rgba(254, 203, 82, 1.0)\"]},\"data\":{\"bar\":[{\"marker\":{\"line\":{\"color\":\"rgba(229, 236, 246, 1.0)\",\"width\":0.5},\"pattern\":{\"fillmode\":\"overlay\",\"size\":10,\"solidity\":0.2}},\"error_x\":{\"color\":\"rgba(42, 63, 95, 1.0)\"},\"error_y\":{\"color\":\"rgba(42, 63, 95, 1.0)\"}}],\"barpolar\":[{\"marker\":{\"line\":{\"color\":\"rgba(229, 236, 246, 1.0)\",\"width\":0.5},\"pattern\":{\"fillmode\":\"overlay\",\"size\":10,\"solidity\":0.2}}}],\"carpet\":[{\"aaxis\":{\"linecolor\":\"rgba(255, 255, 255, 1.0)\",\"gridcolor\":\"rgba(255, 255, 255, 1.0)\",\"endlinecolor\":\"rgba(42, 63, 95, 1.0)\",\"minorgridcolor\":\"rgba(255, 255, 255, 1.0)\",\"startlinecolor\":\"rgba(42, 63, 95, 1.0)\"},\"baxis\":{\"linecolor\":\"rgba(255, 255, 255, 1.0)\",\"gridcolor\":\"rgba(255, 255, 255, 1.0)\",\"endlinecolor\":\"rgba(42, 63, 95, 1.0)\",\"minorgridcolor\":\"rgba(255, 255, 255, 1.0)\",\"startlinecolor\":\"rgba(42, 63, 95, 1.0)\"}}],\"choropleth\":[{\"colorbar\":{\"outlinewidth\":0.0,\"ticks\":\"\"},\"colorscale\":[[0.0,\"#0d0887\"],[0.1111111111111111,\"#46039f\"],[0.2222222222222222,\"#7201a8\"],[0.3333333333333333,\"#9c179e\"],[0.4444444444444444,\"#bd3786\"],[0.5555555555555556,\"#d8576b\"],[0.6666666666666666,\"#ed7953\"],[0.7777777777777778,\"#fb9f3a\"],[0.8888888888888888,\"#fdca26\"],[1.0,\"#f0f921\"]]}],\"contour\":[{\"colorbar\":{\"outlinewidth\":0.0,\"ticks\":\"\"},\"colorscale\":[[0.0,\"#0d0887\"],[0.1111111111111111,\"#46039f\"],[0.2222222222222222,\"#7201a8\"],[0.3333333333333333,\"#9c179e\"],[0.4444444444444444,\"#bd3786\"],[0.5555555555555556,\"#d8576b\"],[0.6666666666666666,\"#ed7953\"],[0.7777777777777778,\"#fb9f3a\"],[0.8888888888888888,\"#fdca26\"],[1.0,\"#f0f921\"]]}],\"contourcarpet\":[{\"colorbar\":{\"outlinewidth\":0.0,\"ticks\":\"\"}}],\"heatmap\":[{\"colorbar\":{\"outlinewidth\":0.0,\"ticks\":\"\"},\"colorscale\":[[0.0,\"#0d0887\"],[0.1111111111111111,\"#46039f\"],[0.2222222222222222,\"#7201a8\"],[0.3333333333333333,\"#9c179e\"],[0.4444444444444444,\"#bd3786\"],[0.5555555555555556,\"#d8576b\"],[0.6666666666666666,\"#ed7953\"],[0.7777777777777778,\"#fb9f3a\"],[0.8888888888888888,\"#fdca26\"],[1.0,\"#f0f921\"]]}],\"heatmapgl\":[{\"colorbar\":{\"outlinewidth\":0.0,\"ticks\":\"\"},\"colorscale\":[[0.0,\"#0d0887\"],[0.1111111111111111,\"#46039f\"],[0.2222222222222222,\"#7201a8\"],[0.3333333333333333,\"#9c179e\"],[0.4444444444444444,\"#bd3786\"],[0.5555555555555556,\"#d8576b\"],[0.6666666666666666,\"#ed7953\"],[0.7777777777777778,\"#fb9f3a\"],[0.8888888888888888,\"#fdca26\"],[1.0,\"#f0f921\"]]}],\"histogram\":[{\"marker\":{\"pattern\":{\"fillmode\":\"overlay\",\"size\":10,\"solidity\":0.2}}}],\"histogram2d\":[{\"colorbar\":{\"outlinewidth\":0.0,\"ticks\":\"\"},\"colorscale\":[[0.0,\"#0d0887\"],[0.1111111111111111,\"#46039f\"],[0.2222222222222222,\"#7201a8\"],[0.3333333333333333,\"#9c179e\"],[0.4444444444444444,\"#bd3786\"],[0.5555555555555556,\"#d8576b\"],[0.6666666666666666,\"#ed7953\"],[0.7777777777777778,\"#fb9f3a\"],[0.8888888888888888,\"#fdca26\"],[1.0,\"#f0f921\"]]}],\"histogram2dcontour\":[{\"colorbar\":{\"outlinewidth\":0.0,\"ticks\":\"\"},\"colorscale\":[[0.0,\"#0d0887\"],[0.1111111111111111,\"#46039f\"],[0.2222222222222222,\"#7201a8\"],[0.3333333333333333,\"#9c179e\"],[0.4444444444444444,\"#bd3786\"],[0.5555555555555556,\"#d8576b\"],[0.6666666666666666,\"#ed7953\"],[0.7777777777777778,\"#fb9f3a\"],[0.8888888888888888,\"#fdca26\"],[1.0,\"#f0f921\"]]}],\"mesh3d\":[{\"colorbar\":{\"outlinewidth\":0.0,\"ticks\":\"\"}}],\"parcoords\":[{\"line\":{\"colorbar\":{\"outlinewidth\":0.0,\"ticks\":\"\"}}}],\"pie\":[{\"automargin\":true}],\"scatter\":[{\"marker\":{\"colorbar\":{\"outlinewidth\":0.0,\"ticks\":\"\"}}}],\"scatter3d\":[{\"marker\":{\"colorbar\":{\"outlinewidth\":0.0,\"ticks\":\"\"}},\"line\":{\"colorbar\":{\"outlinewidth\":0.0,\"ticks\":\"\"}}}],\"scattercarpet\":[{\"marker\":{\"colorbar\":{\"outlinewidth\":0.0,\"ticks\":\"\"}}}],\"scattergeo\":[{\"marker\":{\"colorbar\":{\"outlinewidth\":0.0,\"ticks\":\"\"}}}],\"scattergl\":[{\"marker\":{\"colorbar\":{\"outlinewidth\":0.0,\"ticks\":\"\"}}}],\"scattermapbox\":[{\"marker\":{\"colorbar\":{\"outlinewidth\":0.0,\"ticks\":\"\"}}}],\"scatterpolar\":[{\"marker\":{\"colorbar\":{\"outlinewidth\":0.0,\"ticks\":\"\"}}}],\"scatterpolargl\":[{\"marker\":{\"colorbar\":{\"outlinewidth\":0.0,\"ticks\":\"\"}}}],\"scatterternary\":[{\"marker\":{\"colorbar\":{\"outlinewidth\":0.0,\"ticks\":\"\"}}}],\"surface\":[{\"colorbar\":{\"outlinewidth\":0.0,\"ticks\":\"\"},\"colorscale\":[[0.0,\"#0d0887\"],[0.1111111111111111,\"#46039f\"],[0.2222222222222222,\"#7201a8\"],[0.3333333333333333,\"#9c179e\"],[0.4444444444444444,\"#bd3786\"],[0.5555555555555556,\"#d8576b\"],[0.6666666666666666,\"#ed7953\"],[0.7777777777777778,\"#fb9f3a\"],[0.8888888888888888,\"#fdca26\"],[1.0,\"#f0f921\"]]}],\"table\":[{\"cells\":{\"fill\":{\"color\":\"rgba(235, 240, 248, 1.0)\"},\"line\":{\"color\":\"rgba(255, 255, 255, 1.0)\"}},\"header\":{\"fill\":{\"color\":\"rgba(200, 212, 227, 1.0)\"},\"line\":{\"color\":\"rgba(255, 255, 255, 1.0)\"}}}]}},\"xaxis\":{\"title\":{\"text\":\"Time\"}},\"yaxis\":{\"title\":{\"text\":\"Population\"}},\"title\":{\"text\":\"Transcritical\"}};\r\n",
       "            var config = {\"responsive\":true};\r\n",
       "            Plotly.newPlot('6a9aa582-face-4ec8-835f-248bb7c6ce60', data, layout, config);\r\n",
       "});\r\n",
       "            };\r\n",
       "            if ((typeof(requirejs) !==  typeof(Function)) || (typeof(requirejs.config) !== typeof(Function))) {\r\n",
       "                var script = document.createElement(\"script\");\r\n",
       "                script.setAttribute(\"src\", \"https://cdnjs.cloudflare.com/ajax/libs/require.js/2.3.6/require.min.js\");\r\n",
       "                script.onload = function(){\r\n",
       "                    renderPlotly_6a9aa582face4ec8835f248bb7c6ce60();\r\n",
       "                };\r\n",
       "                document.getElementsByTagName(\"head\")[0].appendChild(script);\r\n",
       "            }\r\n",
       "            else {\r\n",
       "                renderPlotly_6a9aa582face4ec8835f248bb7c6ce60();\r\n",
       "            }\r\n",
       "</script>\r\n",
       "\n",
       "    \n",
       "</div>    \n"
      ]
     },
     "metadata": {},
     "output_type": "display_data"
    }
   ],
   "source": [
    "[\n",
    "    for r in [0. .. 0.2.. 2.] do\n",
    "        let P0 = [|r|]\n",
    "        let Ps = \n",
    "            modelContext.OdeInt(0.,P0,dU2_dt)\n",
    "            |> SolPoints.take 20\n",
    "            |> SolPoints.memorize\n",
    "        let name = sprintf \"x0=%.1f\" r\n",
    "        let predators = Ps |> SolPoints.toPoints 1\n",
    "        Chart.Spline (predators, Name=name )\n",
    "]\n",
    "|> Chart.combine        \n",
    "|> Chart.withXAxisStyle(\"Time\")\n",
    "|> Chart.withYAxisStyle(\"Population\")\n",
    "|> Chart.withTitle(\"Transcritical\")"
   ]
  },
  {
   "cell_type": "markdown",
   "metadata": {},
   "source": [
    "Fleißaufgabe\n",
    "SEIRS model "
   ]
  },
  {
   "cell_type": "code",
   "execution_count": null,
   "metadata": {
    "dotnet_interactive": {
     "language": "fsharp"
    },
    "vscode": {
     "languageId": "dotnet-interactive.fsharp"
    }
   },
   "outputs": [],
   "source": [
    "// Bifurkationskonstante\n",
    "let r  = 0.6 // effectivness of the treatment\n",
    "// Systemparameter (nicht ändern)\n",
    "let A = 20289. //growth rate of the population\n",
    "let mu = 2.5 * 10.**(-5) //natural death rate\n",
    "let beta = 1.5 * 10.**(-9) // rate of transmission of the infeection\n",
    "let alpha = 1. * 10.**(-6) //saturation parameter that measures the inhibitory effect\n",
    "let delta = 0.05 //portion of the removed population that becomes susceptible again\n",
    "let gamma = 0.25 //rate of developing an infection after being exposed\n",
    "let theta = 0.1 //natural recovery rate\n",
    "let phi = 0.142857 //disease induced death rate of the infected population\n",
    "let b = 5. * 10.**10(-5) //saturation parameter that measures the treatment effect\n",
    "let omega = 0.142857 //disease induced death rate of the recovered population (e.g. induced death because the lungs were attacked)\n",
    "// Define a function which calculates the derivative\n",
    "let dU2_dt : Model = \n",
    "    // Here U is a vector such that y=U[0] and z=U[1]. This function should return [y', z']\n",
    "    fun U x ->\n",
    "        // States at given x. Leave as is. \n",
    "        let susceptible = U[0]\n",
    "        let exposed = U[1]\n",
    "        let infected = U[2]\n",
    "        let recovered = U[3]\n",
    "        // Functions for computing the change of the state \n",
    "        let susceptible' = A - mu*susceptible - beta*susceptible*infected/(1+alpha*infected) + delta*recovered\n",
    "        let exposed' = beta*susceptible*infected/(1+alpha*infected) - (gamma + mu)*exposed\n",
    "        let infected' = my*exposed - (theta+ mu +phi)*infected - r*infected/(1+b*infected)\n",
    "        let recovered' = theta*infected - (delta+ mu + omega)*recovered  + r*infected/(1+b*infected)\n",
    "\n",
    "        // Resulting new states. Leave as is. \n",
    "        [| susceptible';exposed';infected';recovered'|]\n",
    "\n",
    "let SO = [|189000000; 70000; 60000; 40000 |] // S0, E0, I0, R0"
   ]
  },
  {
   "cell_type": "code",
   "execution_count": null,
   "metadata": {
    "dotnet_interactive": {
     "language": "fsharp"
    },
    "vscode": {
     "languageId": "dotnet-interactive.fsharp"
    }
   },
   "outputs": [],
   "source": []
  }
 ],
 "metadata": {
  "kernelspec": {
   "display_name": ".NET (C#)",
   "language": "C#",
   "name": ".net-csharp"
  },
  "language_info": {
   "file_extension": ".cs",
   "mimetype": "text/x-csharp",
   "name": "C#",
   "pygments_lexer": "csharp",
   "version": "9.0"
  },
  "orig_nbformat": 4,
  "vscode": {
   "interpreter": {
    "hash": "a117527e71c9235e8171501342e68793e0723812bc0bf154d3be898b05e3508c"
   }
  }
 },
 "nbformat": 4,
 "nbformat_minor": 2
}
