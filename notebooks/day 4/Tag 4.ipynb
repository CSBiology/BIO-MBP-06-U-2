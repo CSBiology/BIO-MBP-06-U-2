{
 "cells": [
  {
   "cell_type": "code",
   "execution_count": null,
   "metadata": {
    "dotnet_interactive": {
     "language": "fsharp"
    },
    "vscode": {
     "languageId": "dotnet-interactive.fsharp"
    }
   },
   "outputs": [
    {
     "data": {
      "text/html": [
       "<div><div></div><div></div><div><strong>Installed Packages</strong><ul><li><span>FSharp.Stats, 0.4.7</span></li><li><span>FsODE, 0.0.1</span></li><li><span>Plotly.NET.Interactive, 3.0.2</span></li></ul></div></div>"
      ]
     },
     "metadata": {},
     "output_type": "display_data"
    },
    {
     "data": {
      "text/markdown": [
       "Loading extensions from `Plotly.NET.Interactive.dll`"
      ]
     },
     "metadata": {},
     "output_type": "display_data"
    }
   ],
   "source": [
    "// Importieren der benötigten Module\n",
    "#r \"nuget: Plotly.NET.Interactive, 3.0.2\"\n",
    "#r \"nuget: FsODE, 0.0.1\"\n",
    "#r \"nuget: FSharp.Stats\"\n",
    "\n",
    "// ... und öffnen der benöätigten Module\n",
    "open FsODE\n",
    "open Plotly.NET\n",
    "open FSharp.Stats\n",
    "\n",
    "\n",
    "// der Rechenalgorithmus der Programmbibliothek, die wir benutzen:\n",
    "let modelContext = //OdeContext()\n",
    "    OdeSolverMethod.RK546M //RK547M()\n",
    "    |> OdeContext"
   ]
  },
  {
   "cell_type": "markdown",
   "metadata": {},
   "source": [
    "### Einfaches Model vom Lac Operon\n",
    "\n",
    "Einleitender Text der das Lac Operon erklärt\n",
    "\n",
    "\n",
    "\n",
    "\n",
    "\n",
    "\n"
   ]
  },
  {
   "cell_type": "markdown",
   "metadata": {},
   "source": [
    "Um die Komplexität des Lac Operons zu verringern wird sich im Folgenden nur die Konzentration von intrazellulärer Lactose angeschaut. Damit diese Betrachtung möglichst einfach bleibt wird davon ausgegangen das es genug extrazelluläre Lactose gibt. Lactose kann wie oben beschrieben nur durch $\\beta -\\textrm {Galactosid-Permease}$ in die Zelle transportiert werden. LacY, das Gen das $\\beta -\\textrm {Galactosid-Permease}$ codiert, wird kontinuierlich expremiert auch wenn es durch LacI inhibiert wird. Allerdings ist die produzierte Menge an $\\beta -\\textrm {Galactosid-Permease}$ sehr gering. Das heißt Lactose kann immer in die Zelle transporitert werden, aber nur in geringen Mengen solange LacI noch an den Promotor des Lac Operons bindet. <br>\n",
    "Wenn die Konzentration von Lactose in der Zelle hoch genug ist, kommt es wie besprochen zur Bildung von Allolactose welches eine Bindung mit LacI eingeht. Dies führt dazu das LacI nicht mehr an den Promotor des Lac Operons bindet was zu einer erhöhten Produktion von  $\\beta -\\textrm {Galactosid-Permease}$ führt. Somit wird mehr Lactose in die Zelle transportiert. <br>\n",
    "Die Differenzialgleichung für die Konzentration von intrazellulärer Lactose kann somit folgendermaßen beschrieben werden. Es gibt einen unregulierten geringen Lactoseimport, genannt $\\alpha$. Dieser ist nicht reguliert. Es gibt außerdem einen regulierten Lactoseimport, dieser wird $\\beta$ genannt analog zur Proteinproduktion von $\\beta -\\textrm {Galactosid-Permease}$ die nötig ist damit dieser regulierte Transport beginnt. Da mehr intrazelluläre Lactose zu mehr Import führt, kann hier von einer positiven Autoregulation gesprochen werden. Abschließend wird Lactose natürlich auch von der Zelle verbraucht, wobei die Menge die genutzt wird wieder von der Lactosekonzentration abhängt. Die Differenzialgleichung ist somit <br>\n",
    "\n",
    "$$ Lactosekonzentration_{intrazellulär}' = \\frac {dLactosekonzentration_{intrazellulär}} {dt}= \\alpha + \\beta * \\frac {Lactosekonzentration_{intrazellulär}}{K_{D} + Lactosekonzentration_{intrazellulär}} - \\gamma*Lactosekonzentration_{intrazellulär}$$\n",
    "Da die Simulationen nur auf die richtige Differenzialgleichung achten, aber nicht auf die genutzten Namen der Parameter verkürzen wir die Gleichung zu\n",
    "$$ inlac' = \\frac {dinlac} {dt}= \\alpha + \\beta * \\frac {inlac}{K_{D} + inlac} - \\gamma*inlac$$\n"
   ]
  },
  {
   "cell_type": "markdown",
   "metadata": {},
   "source": [
    "Aufgabe 4.1: <br>\n",
    "Setzen sie die Gleichung für die intrazelluläre Lactosekonzentration in die nachfolgende Simulation ein (Bitte beachten sie, dass sie die Lactosekonzentration als \"inlac\" einsetzten müssen, ohne \"\". Beachten sie ebenfalls das $\\alpha$, $\\beta \\textrm{ und } \\gamma$ als \"alpha\", \"beta\" und \"gamma\", ohne \"\", eingesetzt werden müssen und nicht als Symbole, und das $K_{D}$ als K_d eingesetzt wird)."
   ]
  },
  {
   "cell_type": "code",
   "execution_count": null,
   "metadata": {
    "dotnet_interactive": {
     "language": "fsharp"
    },
    "vscode": {
     "languageId": "dotnet-interactive.fsharp"
    }
   },
   "outputs": [
    {
     "data": {
      "text/html": [
       "\n",
       "<div>\n",
       "    <div id=\"ac7c305d-f121-4a19-9afe-59b114986325\"><!-- Plotly chart will be drawn inside this DIV --></div>\r\n",
       "<script type=\"text/javascript\">\r\n",
       "\r\n",
       "            var renderPlotly_ac7c305df1214a199afe59b114986325 = function() {\r\n",
       "            var fsharpPlotlyRequire = requirejs.config({context:'fsharp-plotly',paths:{plotly:'https://cdn.plot.ly/plotly-2.6.3.min'}}) || require;\r\n",
       "            fsharpPlotlyRequire(['plotly'], function(Plotly) {\r\n",
       "\r\n",
       "            var data = [{\"type\":\"scatter\",\"mode\":\"lines\",\"x\":[0.0,1.0,1.8768038568175387,2.7866586285835244,3.8525675833572794,5.148477115351924,6.58000342177724,8.12692298562358,9.802518872111074,11.664342269620386],\"y\":[0.1,0.9858599207912646,2.121441747440442,3.2954011469491693,4.35160710588768,5.133725060003653,5.56787553372623,5.77581847368103,5.866515451490882,5.903230284261419],\"marker\":{},\"line\":{\"shape\":\"spline\"},\"name\":\"Lactose\"}];\r\n",
       "            var layout = {\"width\":600,\"height\":600,\"template\":{\"layout\":{\"title\":{\"x\":0.05},\"font\":{\"color\":\"rgba(42, 63, 95, 1.0)\"},\"paper_bgcolor\":\"rgba(255, 255, 255, 1.0)\",\"plot_bgcolor\":\"rgba(229, 236, 246, 1.0)\",\"autotypenumbers\":\"strict\",\"colorscale\":{\"diverging\":[[0.0,\"#8e0152\"],[0.1,\"#c51b7d\"],[0.2,\"#de77ae\"],[0.3,\"#f1b6da\"],[0.4,\"#fde0ef\"],[0.5,\"#f7f7f7\"],[0.6,\"#e6f5d0\"],[0.7,\"#b8e186\"],[0.8,\"#7fbc41\"],[0.9,\"#4d9221\"],[1.0,\"#276419\"]],\"sequential\":[[0.0,\"#0d0887\"],[0.1111111111111111,\"#46039f\"],[0.2222222222222222,\"#7201a8\"],[0.3333333333333333,\"#9c179e\"],[0.4444444444444444,\"#bd3786\"],[0.5555555555555556,\"#d8576b\"],[0.6666666666666666,\"#ed7953\"],[0.7777777777777778,\"#fb9f3a\"],[0.8888888888888888,\"#fdca26\"],[1.0,\"#f0f921\"]],\"sequentialminus\":[[0.0,\"#0d0887\"],[0.1111111111111111,\"#46039f\"],[0.2222222222222222,\"#7201a8\"],[0.3333333333333333,\"#9c179e\"],[0.4444444444444444,\"#bd3786\"],[0.5555555555555556,\"#d8576b\"],[0.6666666666666666,\"#ed7953\"],[0.7777777777777778,\"#fb9f3a\"],[0.8888888888888888,\"#fdca26\"],[1.0,\"#f0f921\"]]},\"hovermode\":\"closest\",\"hoverlabel\":{\"align\":\"left\"},\"coloraxis\":{\"colorbar\":{\"outlinewidth\":0.0,\"ticks\":\"\"}},\"geo\":{\"showland\":true,\"landcolor\":\"rgba(229, 236, 246, 1.0)\",\"showlakes\":true,\"lakecolor\":\"rgba(255, 255, 255, 1.0)\",\"subunitcolor\":\"rgba(255, 255, 255, 1.0)\",\"bgcolor\":\"rgba(255, 255, 255, 1.0)\"},\"mapbox\":{\"style\":\"light\"},\"polar\":{\"bgcolor\":\"rgba(229, 236, 246, 1.0)\",\"radialaxis\":{\"linecolor\":\"rgba(255, 255, 255, 1.0)\",\"gridcolor\":\"rgba(255, 255, 255, 1.0)\",\"ticks\":\"\"},\"angularaxis\":{\"linecolor\":\"rgba(255, 255, 255, 1.0)\",\"gridcolor\":\"rgba(255, 255, 255, 1.0)\",\"ticks\":\"\"}},\"scene\":{\"xaxis\":{\"ticks\":\"\",\"linecolor\":\"rgba(255, 255, 255, 1.0)\",\"gridcolor\":\"rgba(255, 255, 255, 1.0)\",\"gridwidth\":2.0,\"zerolinecolor\":\"rgba(255, 255, 255, 1.0)\",\"backgroundcolor\":\"rgba(229, 236, 246, 1.0)\",\"showbackground\":true},\"yaxis\":{\"ticks\":\"\",\"linecolor\":\"rgba(255, 255, 255, 1.0)\",\"gridcolor\":\"rgba(255, 255, 255, 1.0)\",\"gridwidth\":2.0,\"zerolinecolor\":\"rgba(255, 255, 255, 1.0)\",\"backgroundcolor\":\"rgba(229, 236, 246, 1.0)\",\"showbackground\":true},\"zaxis\":{\"ticks\":\"\",\"linecolor\":\"rgba(255, 255, 255, 1.0)\",\"gridcolor\":\"rgba(255, 255, 255, 1.0)\",\"gridwidth\":2.0,\"zerolinecolor\":\"rgba(255, 255, 255, 1.0)\",\"backgroundcolor\":\"rgba(229, 236, 246, 1.0)\",\"showbackground\":true}},\"ternary\":{\"aaxis\":{\"ticks\":\"\",\"linecolor\":\"rgba(255, 255, 255, 1.0)\",\"gridcolor\":\"rgba(255, 255, 255, 1.0)\"},\"baxis\":{\"ticks\":\"\",\"linecolor\":\"rgba(255, 255, 255, 1.0)\",\"gridcolor\":\"rgba(255, 255, 255, 1.0)\"},\"caxis\":{\"ticks\":\"\",\"linecolor\":\"rgba(255, 255, 255, 1.0)\",\"gridcolor\":\"rgba(255, 255, 255, 1.0)\"},\"bgcolor\":\"rgba(229, 236, 246, 1.0)\"},\"xaxis\":{\"title\":{\"standoff\":15},\"ticks\":\"\",\"automargin\":true,\"linecolor\":\"rgba(255, 255, 255, 1.0)\",\"gridcolor\":\"rgba(255, 255, 255, 1.0)\",\"zerolinecolor\":\"rgba(255, 255, 255, 1.0)\",\"zerolinewidth\":2.0},\"yaxis\":{\"title\":{\"standoff\":15},\"ticks\":\"\",\"automargin\":true,\"linecolor\":\"rgba(255, 255, 255, 1.0)\",\"gridcolor\":\"rgba(255, 255, 255, 1.0)\",\"zerolinecolor\":\"rgba(255, 255, 255, 1.0)\",\"zerolinewidth\":2.0},\"annotationdefaults\":{\"arrowcolor\":\"#2a3f5f\",\"arrowhead\":0,\"arrowwidth\":1},\"shapedefaults\":{\"line\":{\"color\":\"rgba(42, 63, 95, 1.0)\"}},\"colorway\":[\"rgba(99, 110, 250, 1.0)\",\"rgba(239, 85, 59, 1.0)\",\"rgba(0, 204, 150, 1.0)\",\"rgba(171, 99, 250, 1.0)\",\"rgba(255, 161, 90, 1.0)\",\"rgba(25, 211, 243, 1.0)\",\"rgba(255, 102, 146, 1.0)\",\"rgba(182, 232, 128, 1.0)\",\"rgba(255, 151, 255, 1.0)\",\"rgba(254, 203, 82, 1.0)\"]},\"data\":{\"bar\":[{\"marker\":{\"line\":{\"color\":\"rgba(229, 236, 246, 1.0)\",\"width\":0.5},\"pattern\":{\"fillmode\":\"overlay\",\"size\":10,\"solidity\":0.2}},\"error_x\":{\"color\":\"rgba(42, 63, 95, 1.0)\"},\"error_y\":{\"color\":\"rgba(42, 63, 95, 1.0)\"}}],\"barpolar\":[{\"marker\":{\"line\":{\"color\":\"rgba(229, 236, 246, 1.0)\",\"width\":0.5},\"pattern\":{\"fillmode\":\"overlay\",\"size\":10,\"solidity\":0.2}}}],\"carpet\":[{\"aaxis\":{\"linecolor\":\"rgba(255, 255, 255, 1.0)\",\"gridcolor\":\"rgba(255, 255, 255, 1.0)\",\"endlinecolor\":\"rgba(42, 63, 95, 1.0)\",\"minorgridcolor\":\"rgba(255, 255, 255, 1.0)\",\"startlinecolor\":\"rgba(42, 63, 95, 1.0)\"},\"baxis\":{\"linecolor\":\"rgba(255, 255, 255, 1.0)\",\"gridcolor\":\"rgba(255, 255, 255, 1.0)\",\"endlinecolor\":\"rgba(42, 63, 95, 1.0)\",\"minorgridcolor\":\"rgba(255, 255, 255, 1.0)\",\"startlinecolor\":\"rgba(42, 63, 95, 1.0)\"}}],\"choropleth\":[{\"colorbar\":{\"outlinewidth\":0.0,\"ticks\":\"\"},\"colorscale\":[[0.0,\"#0d0887\"],[0.1111111111111111,\"#46039f\"],[0.2222222222222222,\"#7201a8\"],[0.3333333333333333,\"#9c179e\"],[0.4444444444444444,\"#bd3786\"],[0.5555555555555556,\"#d8576b\"],[0.6666666666666666,\"#ed7953\"],[0.7777777777777778,\"#fb9f3a\"],[0.8888888888888888,\"#fdca26\"],[1.0,\"#f0f921\"]]}],\"contour\":[{\"colorbar\":{\"outlinewidth\":0.0,\"ticks\":\"\"},\"colorscale\":[[0.0,\"#0d0887\"],[0.1111111111111111,\"#46039f\"],[0.2222222222222222,\"#7201a8\"],[0.3333333333333333,\"#9c179e\"],[0.4444444444444444,\"#bd3786\"],[0.5555555555555556,\"#d8576b\"],[0.6666666666666666,\"#ed7953\"],[0.7777777777777778,\"#fb9f3a\"],[0.8888888888888888,\"#fdca26\"],[1.0,\"#f0f921\"]]}],\"contourcarpet\":[{\"colorbar\":{\"outlinewidth\":0.0,\"ticks\":\"\"}}],\"heatmap\":[{\"colorbar\":{\"outlinewidth\":0.0,\"ticks\":\"\"},\"colorscale\":[[0.0,\"#0d0887\"],[0.1111111111111111,\"#46039f\"],[0.2222222222222222,\"#7201a8\"],[0.3333333333333333,\"#9c179e\"],[0.4444444444444444,\"#bd3786\"],[0.5555555555555556,\"#d8576b\"],[0.6666666666666666,\"#ed7953\"],[0.7777777777777778,\"#fb9f3a\"],[0.8888888888888888,\"#fdca26\"],[1.0,\"#f0f921\"]]}],\"heatmapgl\":[{\"colorbar\":{\"outlinewidth\":0.0,\"ticks\":\"\"},\"colorscale\":[[0.0,\"#0d0887\"],[0.1111111111111111,\"#46039f\"],[0.2222222222222222,\"#7201a8\"],[0.3333333333333333,\"#9c179e\"],[0.4444444444444444,\"#bd3786\"],[0.5555555555555556,\"#d8576b\"],[0.6666666666666666,\"#ed7953\"],[0.7777777777777778,\"#fb9f3a\"],[0.8888888888888888,\"#fdca26\"],[1.0,\"#f0f921\"]]}],\"histogram\":[{\"marker\":{\"pattern\":{\"fillmode\":\"overlay\",\"size\":10,\"solidity\":0.2}}}],\"histogram2d\":[{\"colorbar\":{\"outlinewidth\":0.0,\"ticks\":\"\"},\"colorscale\":[[0.0,\"#0d0887\"],[0.1111111111111111,\"#46039f\"],[0.2222222222222222,\"#7201a8\"],[0.3333333333333333,\"#9c179e\"],[0.4444444444444444,\"#bd3786\"],[0.5555555555555556,\"#d8576b\"],[0.6666666666666666,\"#ed7953\"],[0.7777777777777778,\"#fb9f3a\"],[0.8888888888888888,\"#fdca26\"],[1.0,\"#f0f921\"]]}],\"histogram2dcontour\":[{\"colorbar\":{\"outlinewidth\":0.0,\"ticks\":\"\"},\"colorscale\":[[0.0,\"#0d0887\"],[0.1111111111111111,\"#46039f\"],[0.2222222222222222,\"#7201a8\"],[0.3333333333333333,\"#9c179e\"],[0.4444444444444444,\"#bd3786\"],[0.5555555555555556,\"#d8576b\"],[0.6666666666666666,\"#ed7953\"],[0.7777777777777778,\"#fb9f3a\"],[0.8888888888888888,\"#fdca26\"],[1.0,\"#f0f921\"]]}],\"mesh3d\":[{\"colorbar\":{\"outlinewidth\":0.0,\"ticks\":\"\"}}],\"parcoords\":[{\"line\":{\"colorbar\":{\"outlinewidth\":0.0,\"ticks\":\"\"}}}],\"pie\":[{\"automargin\":true}],\"scatter\":[{\"marker\":{\"colorbar\":{\"outlinewidth\":0.0,\"ticks\":\"\"}}}],\"scatter3d\":[{\"marker\":{\"colorbar\":{\"outlinewidth\":0.0,\"ticks\":\"\"}},\"line\":{\"colorbar\":{\"outlinewidth\":0.0,\"ticks\":\"\"}}}],\"scattercarpet\":[{\"marker\":{\"colorbar\":{\"outlinewidth\":0.0,\"ticks\":\"\"}}}],\"scattergeo\":[{\"marker\":{\"colorbar\":{\"outlinewidth\":0.0,\"ticks\":\"\"}}}],\"scattergl\":[{\"marker\":{\"colorbar\":{\"outlinewidth\":0.0,\"ticks\":\"\"}}}],\"scattermapbox\":[{\"marker\":{\"colorbar\":{\"outlinewidth\":0.0,\"ticks\":\"\"}}}],\"scatterpolar\":[{\"marker\":{\"colorbar\":{\"outlinewidth\":0.0,\"ticks\":\"\"}}}],\"scatterpolargl\":[{\"marker\":{\"colorbar\":{\"outlinewidth\":0.0,\"ticks\":\"\"}}}],\"scatterternary\":[{\"marker\":{\"colorbar\":{\"outlinewidth\":0.0,\"ticks\":\"\"}}}],\"surface\":[{\"colorbar\":{\"outlinewidth\":0.0,\"ticks\":\"\"},\"colorscale\":[[0.0,\"#0d0887\"],[0.1111111111111111,\"#46039f\"],[0.2222222222222222,\"#7201a8\"],[0.3333333333333333,\"#9c179e\"],[0.4444444444444444,\"#bd3786\"],[0.5555555555555556,\"#d8576b\"],[0.6666666666666666,\"#ed7953\"],[0.7777777777777778,\"#fb9f3a\"],[0.8888888888888888,\"#fdca26\"],[1.0,\"#f0f921\"]]}],\"table\":[{\"cells\":{\"fill\":{\"color\":\"rgba(235, 240, 248, 1.0)\"},\"line\":{\"color\":\"rgba(255, 255, 255, 1.0)\"}},\"header\":{\"fill\":{\"color\":\"rgba(200, 212, 227, 1.0)\"},\"line\":{\"color\":\"rgba(255, 255, 255, 1.0)\"}}}]}},\"xaxis\":{\"title\":{\"text\":\"Zeit\"}},\"yaxis\":{\"title\":{\"text\":\"Lactosekonzentration\"}}};\r\n",
       "            var config = {\"responsive\":true};\r\n",
       "            Plotly.newPlot('ac7c305d-f121-4a19-9afe-59b114986325', data, layout, config);\r\n",
       "});\r\n",
       "            };\r\n",
       "            if ((typeof(requirejs) !==  typeof(Function)) || (typeof(requirejs.config) !== typeof(Function))) {\r\n",
       "                var script = document.createElement(\"script\");\r\n",
       "                script.setAttribute(\"src\", \"https://cdnjs.cloudflare.com/ajax/libs/require.js/2.3.6/require.min.js\");\r\n",
       "                script.onload = function(){\r\n",
       "                    renderPlotly_ac7c305df1214a199afe59b114986325();\r\n",
       "                };\r\n",
       "                document.getElementsByTagName(\"head\")[0].appendChild(script);\r\n",
       "            }\r\n",
       "            else {\r\n",
       "                renderPlotly_ac7c305df1214a199afe59b114986325();\r\n",
       "            }\r\n",
       "</script>\r\n",
       "\n",
       "    \n",
       "</div>    \n"
      ]
     },
     "metadata": {},
     "output_type": "display_data"
    }
   ],
   "source": [
    "//Konstanten\n",
    "let alpha =  0.5  // Konstante für die Zunahme der Lactosekonzentration (unreguliert)\n",
    "let beta  =  10.0 // Konstante für die Zunahme der Lactosekonzentration (reguliert)\n",
    "let gamma =  1.0  // Konstante für die Verringerung der Lactosekonzentration\n",
    "let K_d =    5.0  // Dissoziationskonstante\n",
    "\n",
    "// unsere DGL als  Modell (Model)\n",
    "let dP_dt : Model = \n",
    "    fun P t ->\n",
    "\n",
    "        let inlac = P[0] // Änderung in der Lactosekonzentration\n",
    "\n",
    "        //Differenzialgleichung die diese Änderung beschreibt (hier die Gleichung einsetzen)\n",
    "        let inlac' = alpha + beta * (inlac)/((inlac) + (K_d)) - (gamma*inlac)\n",
    "\n",
    "        [| inlac' |]\n",
    "\n",
    "//Startkonzentrationen\n",
    "let P0 = [| \n",
    "    0.1\n",
    "|]\n",
    "\n",
    "// Simulation der Modelfuntkion\n",
    "let Ps = \n",
    "    modelContext.OdeInt(\n",
    "        0., // Startzeitpunkt\n",
    "        P0,\n",
    "        dP_dt\n",
    "    )\n",
    "    |> SolPoints.take 10 // Anzahl der Zeitpunkte\n",
    "    |> SolPoints.memorize \n",
    "\n",
    "//Graphische Darstellung der numerischen Lösung\n",
    "[\n",
    "    let lactose = Ps |> SolPoints.toPoints 1 \n",
    "    lactose |> Chart.Spline \n",
    "    |> Chart.withTraceInfo(\"Lactose\");\n",
    "]\n",
    "\n",
    "|> Chart.combine\n",
    "|> Chart.withXAxisStyle(\"Zeit\")\n",
    "|> Chart.withYAxisStyle(\"Lactosekonzentration\")"
   ]
  },
  {
   "cell_type": "markdown",
   "metadata": {},
   "source": [
    "Aufgabe 4.2: <br>\n",
    "Varrieren sie die Startkonzentration. Was beobachten sie? Ist dies das Verhalten was sie in einer Zelle erwarten würden? Begründen sie die Antwort. <br>\n",
    "Kopieren sie dafür den obenstehnden Code Block in den folgenden Code Block und ändern sie dann die Werte für die Startkonzentration im Abschnitt Startkonzentrationen, der Wert unter P0 (lassen sie alles andere gleich)."
   ]
  },
  {
   "cell_type": "code",
   "execution_count": null,
   "metadata": {
    "dotnet_interactive": {
     "language": "fsharp"
    },
    "vscode": {
     "languageId": "dotnet-interactive.fsharp"
    }
   },
   "outputs": [],
   "source": [
    "//hier code einfügen"
   ]
  },
  {
   "cell_type": "markdown",
   "metadata": {},
   "source": [
    "Bitte hier die Antwort eingeben"
   ]
  },
  {
   "cell_type": "markdown",
   "metadata": {},
   "source": [
    "Die Beobachtung zeigt das die aktuelle Differnzialgleichung nicht das darstellt was wir eigentlich zeigen wollen. Daher nehmen wir eine kleine Änderung am aktuellen Modell vor um den erwünschten Effekt zu erzielen. Die neue Differnzialgleichung lautet\n",
    "$$ inlac' = \\frac {dinlac} {dt}= \\alpha + \\beta * \\frac {inlac^{2}}{(K_{D})^{2} + inlac^{2}} - \\gamma*inlac$$\n",
    "\n",
    "Aufgabe 4.3: <br>\n",
    "Setzen sie die Gleichung für intrazelluläre Lactosekonzentration, in der der Teil der postiven Autoregulation hoch 2 genommen wird, in die nachfolgende Simulation ein (Bitte beachten sie, dass sie die Lactosekonzentration als \"inlac\" einsetzten müssen, ohne \"\". Beachten sie ebenfalls das $\\alpha$, $\\beta \\textrm{ und } \\gamma$ als \"alpha\", \"beta\" und \"gamma\", ohne \"\", eingesetzt werden müssen und nicht als Symbole, und das $K_{D}$ als K_d eingesetzt wird)."
   ]
  },
  {
   "cell_type": "code",
   "execution_count": null,
   "metadata": {
    "dotnet_interactive": {
     "language": "fsharp"
    },
    "vscode": {
     "languageId": "dotnet-interactive.fsharp"
    }
   },
   "outputs": [
    {
     "data": {
      "text/html": [
       "\n",
       "<div>\n",
       "    <div id=\"2b0eb48c-1e67-444c-8cfd-78321b846039\"><!-- Plotly chart will be drawn inside this DIV --></div>\r\n",
       "<script type=\"text/javascript\">\r\n",
       "\r\n",
       "            var renderPlotly_2b0eb48c1e67444c8cfd78321b846039 = function() {\r\n",
       "            var fsharpPlotlyRequire = requirejs.config({context:'fsharp-plotly',paths:{plotly:'https://cdn.plot.ly/plotly-2.6.3.min'}}) || require;\r\n",
       "            fsharpPlotlyRequire(['plotly'], function(Plotly) {\r\n",
       "\r\n",
       "            var data = [{\"type\":\"scatter\",\"mode\":\"lines\",\"x\":[0.0,1.0,1.8173587142281646,2.657274445631881,3.6616689935044775,4.878002919240579,6.332662672844597,8.053328119451509,10.076281948186896,12.454572349765725],\"y\":[0.1,0.37352049573541324,0.4879427902888077,0.5581938101028174,0.6082600924552566,0.6421592475355892,0.6629838585279508,0.6744184996352036,0.6799501728379508,0.6822651680876927],\"marker\":{},\"line\":{\"shape\":\"spline\"},\"name\":\"Lactose\"}];\r\n",
       "            var layout = {\"width\":600,\"height\":600,\"template\":{\"layout\":{\"title\":{\"x\":0.05},\"font\":{\"color\":\"rgba(42, 63, 95, 1.0)\"},\"paper_bgcolor\":\"rgba(255, 255, 255, 1.0)\",\"plot_bgcolor\":\"rgba(229, 236, 246, 1.0)\",\"autotypenumbers\":\"strict\",\"colorscale\":{\"diverging\":[[0.0,\"#8e0152\"],[0.1,\"#c51b7d\"],[0.2,\"#de77ae\"],[0.3,\"#f1b6da\"],[0.4,\"#fde0ef\"],[0.5,\"#f7f7f7\"],[0.6,\"#e6f5d0\"],[0.7,\"#b8e186\"],[0.8,\"#7fbc41\"],[0.9,\"#4d9221\"],[1.0,\"#276419\"]],\"sequential\":[[0.0,\"#0d0887\"],[0.1111111111111111,\"#46039f\"],[0.2222222222222222,\"#7201a8\"],[0.3333333333333333,\"#9c179e\"],[0.4444444444444444,\"#bd3786\"],[0.5555555555555556,\"#d8576b\"],[0.6666666666666666,\"#ed7953\"],[0.7777777777777778,\"#fb9f3a\"],[0.8888888888888888,\"#fdca26\"],[1.0,\"#f0f921\"]],\"sequentialminus\":[[0.0,\"#0d0887\"],[0.1111111111111111,\"#46039f\"],[0.2222222222222222,\"#7201a8\"],[0.3333333333333333,\"#9c179e\"],[0.4444444444444444,\"#bd3786\"],[0.5555555555555556,\"#d8576b\"],[0.6666666666666666,\"#ed7953\"],[0.7777777777777778,\"#fb9f3a\"],[0.8888888888888888,\"#fdca26\"],[1.0,\"#f0f921\"]]},\"hovermode\":\"closest\",\"hoverlabel\":{\"align\":\"left\"},\"coloraxis\":{\"colorbar\":{\"outlinewidth\":0.0,\"ticks\":\"\"}},\"geo\":{\"showland\":true,\"landcolor\":\"rgba(229, 236, 246, 1.0)\",\"showlakes\":true,\"lakecolor\":\"rgba(255, 255, 255, 1.0)\",\"subunitcolor\":\"rgba(255, 255, 255, 1.0)\",\"bgcolor\":\"rgba(255, 255, 255, 1.0)\"},\"mapbox\":{\"style\":\"light\"},\"polar\":{\"bgcolor\":\"rgba(229, 236, 246, 1.0)\",\"radialaxis\":{\"linecolor\":\"rgba(255, 255, 255, 1.0)\",\"gridcolor\":\"rgba(255, 255, 255, 1.0)\",\"ticks\":\"\"},\"angularaxis\":{\"linecolor\":\"rgba(255, 255, 255, 1.0)\",\"gridcolor\":\"rgba(255, 255, 255, 1.0)\",\"ticks\":\"\"}},\"scene\":{\"xaxis\":{\"ticks\":\"\",\"linecolor\":\"rgba(255, 255, 255, 1.0)\",\"gridcolor\":\"rgba(255, 255, 255, 1.0)\",\"gridwidth\":2.0,\"zerolinecolor\":\"rgba(255, 255, 255, 1.0)\",\"backgroundcolor\":\"rgba(229, 236, 246, 1.0)\",\"showbackground\":true},\"yaxis\":{\"ticks\":\"\",\"linecolor\":\"rgba(255, 255, 255, 1.0)\",\"gridcolor\":\"rgba(255, 255, 255, 1.0)\",\"gridwidth\":2.0,\"zerolinecolor\":\"rgba(255, 255, 255, 1.0)\",\"backgroundcolor\":\"rgba(229, 236, 246, 1.0)\",\"showbackground\":true},\"zaxis\":{\"ticks\":\"\",\"linecolor\":\"rgba(255, 255, 255, 1.0)\",\"gridcolor\":\"rgba(255, 255, 255, 1.0)\",\"gridwidth\":2.0,\"zerolinecolor\":\"rgba(255, 255, 255, 1.0)\",\"backgroundcolor\":\"rgba(229, 236, 246, 1.0)\",\"showbackground\":true}},\"ternary\":{\"aaxis\":{\"ticks\":\"\",\"linecolor\":\"rgba(255, 255, 255, 1.0)\",\"gridcolor\":\"rgba(255, 255, 255, 1.0)\"},\"baxis\":{\"ticks\":\"\",\"linecolor\":\"rgba(255, 255, 255, 1.0)\",\"gridcolor\":\"rgba(255, 255, 255, 1.0)\"},\"caxis\":{\"ticks\":\"\",\"linecolor\":\"rgba(255, 255, 255, 1.0)\",\"gridcolor\":\"rgba(255, 255, 255, 1.0)\"},\"bgcolor\":\"rgba(229, 236, 246, 1.0)\"},\"xaxis\":{\"title\":{\"standoff\":15},\"ticks\":\"\",\"automargin\":true,\"linecolor\":\"rgba(255, 255, 255, 1.0)\",\"gridcolor\":\"rgba(255, 255, 255, 1.0)\",\"zerolinecolor\":\"rgba(255, 255, 255, 1.0)\",\"zerolinewidth\":2.0},\"yaxis\":{\"title\":{\"standoff\":15},\"ticks\":\"\",\"automargin\":true,\"linecolor\":\"rgba(255, 255, 255, 1.0)\",\"gridcolor\":\"rgba(255, 255, 255, 1.0)\",\"zerolinecolor\":\"rgba(255, 255, 255, 1.0)\",\"zerolinewidth\":2.0},\"annotationdefaults\":{\"arrowcolor\":\"#2a3f5f\",\"arrowhead\":0,\"arrowwidth\":1},\"shapedefaults\":{\"line\":{\"color\":\"rgba(42, 63, 95, 1.0)\"}},\"colorway\":[\"rgba(99, 110, 250, 1.0)\",\"rgba(239, 85, 59, 1.0)\",\"rgba(0, 204, 150, 1.0)\",\"rgba(171, 99, 250, 1.0)\",\"rgba(255, 161, 90, 1.0)\",\"rgba(25, 211, 243, 1.0)\",\"rgba(255, 102, 146, 1.0)\",\"rgba(182, 232, 128, 1.0)\",\"rgba(255, 151, 255, 1.0)\",\"rgba(254, 203, 82, 1.0)\"]},\"data\":{\"bar\":[{\"marker\":{\"line\":{\"color\":\"rgba(229, 236, 246, 1.0)\",\"width\":0.5},\"pattern\":{\"fillmode\":\"overlay\",\"size\":10,\"solidity\":0.2}},\"error_x\":{\"color\":\"rgba(42, 63, 95, 1.0)\"},\"error_y\":{\"color\":\"rgba(42, 63, 95, 1.0)\"}}],\"barpolar\":[{\"marker\":{\"line\":{\"color\":\"rgba(229, 236, 246, 1.0)\",\"width\":0.5},\"pattern\":{\"fillmode\":\"overlay\",\"size\":10,\"solidity\":0.2}}}],\"carpet\":[{\"aaxis\":{\"linecolor\":\"rgba(255, 255, 255, 1.0)\",\"gridcolor\":\"rgba(255, 255, 255, 1.0)\",\"endlinecolor\":\"rgba(42, 63, 95, 1.0)\",\"minorgridcolor\":\"rgba(255, 255, 255, 1.0)\",\"startlinecolor\":\"rgba(42, 63, 95, 1.0)\"},\"baxis\":{\"linecolor\":\"rgba(255, 255, 255, 1.0)\",\"gridcolor\":\"rgba(255, 255, 255, 1.0)\",\"endlinecolor\":\"rgba(42, 63, 95, 1.0)\",\"minorgridcolor\":\"rgba(255, 255, 255, 1.0)\",\"startlinecolor\":\"rgba(42, 63, 95, 1.0)\"}}],\"choropleth\":[{\"colorbar\":{\"outlinewidth\":0.0,\"ticks\":\"\"},\"colorscale\":[[0.0,\"#0d0887\"],[0.1111111111111111,\"#46039f\"],[0.2222222222222222,\"#7201a8\"],[0.3333333333333333,\"#9c179e\"],[0.4444444444444444,\"#bd3786\"],[0.5555555555555556,\"#d8576b\"],[0.6666666666666666,\"#ed7953\"],[0.7777777777777778,\"#fb9f3a\"],[0.8888888888888888,\"#fdca26\"],[1.0,\"#f0f921\"]]}],\"contour\":[{\"colorbar\":{\"outlinewidth\":0.0,\"ticks\":\"\"},\"colorscale\":[[0.0,\"#0d0887\"],[0.1111111111111111,\"#46039f\"],[0.2222222222222222,\"#7201a8\"],[0.3333333333333333,\"#9c179e\"],[0.4444444444444444,\"#bd3786\"],[0.5555555555555556,\"#d8576b\"],[0.6666666666666666,\"#ed7953\"],[0.7777777777777778,\"#fb9f3a\"],[0.8888888888888888,\"#fdca26\"],[1.0,\"#f0f921\"]]}],\"contourcarpet\":[{\"colorbar\":{\"outlinewidth\":0.0,\"ticks\":\"\"}}],\"heatmap\":[{\"colorbar\":{\"outlinewidth\":0.0,\"ticks\":\"\"},\"colorscale\":[[0.0,\"#0d0887\"],[0.1111111111111111,\"#46039f\"],[0.2222222222222222,\"#7201a8\"],[0.3333333333333333,\"#9c179e\"],[0.4444444444444444,\"#bd3786\"],[0.5555555555555556,\"#d8576b\"],[0.6666666666666666,\"#ed7953\"],[0.7777777777777778,\"#fb9f3a\"],[0.8888888888888888,\"#fdca26\"],[1.0,\"#f0f921\"]]}],\"heatmapgl\":[{\"colorbar\":{\"outlinewidth\":0.0,\"ticks\":\"\"},\"colorscale\":[[0.0,\"#0d0887\"],[0.1111111111111111,\"#46039f\"],[0.2222222222222222,\"#7201a8\"],[0.3333333333333333,\"#9c179e\"],[0.4444444444444444,\"#bd3786\"],[0.5555555555555556,\"#d8576b\"],[0.6666666666666666,\"#ed7953\"],[0.7777777777777778,\"#fb9f3a\"],[0.8888888888888888,\"#fdca26\"],[1.0,\"#f0f921\"]]}],\"histogram\":[{\"marker\":{\"pattern\":{\"fillmode\":\"overlay\",\"size\":10,\"solidity\":0.2}}}],\"histogram2d\":[{\"colorbar\":{\"outlinewidth\":0.0,\"ticks\":\"\"},\"colorscale\":[[0.0,\"#0d0887\"],[0.1111111111111111,\"#46039f\"],[0.2222222222222222,\"#7201a8\"],[0.3333333333333333,\"#9c179e\"],[0.4444444444444444,\"#bd3786\"],[0.5555555555555556,\"#d8576b\"],[0.6666666666666666,\"#ed7953\"],[0.7777777777777778,\"#fb9f3a\"],[0.8888888888888888,\"#fdca26\"],[1.0,\"#f0f921\"]]}],\"histogram2dcontour\":[{\"colorbar\":{\"outlinewidth\":0.0,\"ticks\":\"\"},\"colorscale\":[[0.0,\"#0d0887\"],[0.1111111111111111,\"#46039f\"],[0.2222222222222222,\"#7201a8\"],[0.3333333333333333,\"#9c179e\"],[0.4444444444444444,\"#bd3786\"],[0.5555555555555556,\"#d8576b\"],[0.6666666666666666,\"#ed7953\"],[0.7777777777777778,\"#fb9f3a\"],[0.8888888888888888,\"#fdca26\"],[1.0,\"#f0f921\"]]}],\"mesh3d\":[{\"colorbar\":{\"outlinewidth\":0.0,\"ticks\":\"\"}}],\"parcoords\":[{\"line\":{\"colorbar\":{\"outlinewidth\":0.0,\"ticks\":\"\"}}}],\"pie\":[{\"automargin\":true}],\"scatter\":[{\"marker\":{\"colorbar\":{\"outlinewidth\":0.0,\"ticks\":\"\"}}}],\"scatter3d\":[{\"marker\":{\"colorbar\":{\"outlinewidth\":0.0,\"ticks\":\"\"}},\"line\":{\"colorbar\":{\"outlinewidth\":0.0,\"ticks\":\"\"}}}],\"scattercarpet\":[{\"marker\":{\"colorbar\":{\"outlinewidth\":0.0,\"ticks\":\"\"}}}],\"scattergeo\":[{\"marker\":{\"colorbar\":{\"outlinewidth\":0.0,\"ticks\":\"\"}}}],\"scattergl\":[{\"marker\":{\"colorbar\":{\"outlinewidth\":0.0,\"ticks\":\"\"}}}],\"scattermapbox\":[{\"marker\":{\"colorbar\":{\"outlinewidth\":0.0,\"ticks\":\"\"}}}],\"scatterpolar\":[{\"marker\":{\"colorbar\":{\"outlinewidth\":0.0,\"ticks\":\"\"}}}],\"scatterpolargl\":[{\"marker\":{\"colorbar\":{\"outlinewidth\":0.0,\"ticks\":\"\"}}}],\"scatterternary\":[{\"marker\":{\"colorbar\":{\"outlinewidth\":0.0,\"ticks\":\"\"}}}],\"surface\":[{\"colorbar\":{\"outlinewidth\":0.0,\"ticks\":\"\"},\"colorscale\":[[0.0,\"#0d0887\"],[0.1111111111111111,\"#46039f\"],[0.2222222222222222,\"#7201a8\"],[0.3333333333333333,\"#9c179e\"],[0.4444444444444444,\"#bd3786\"],[0.5555555555555556,\"#d8576b\"],[0.6666666666666666,\"#ed7953\"],[0.7777777777777778,\"#fb9f3a\"],[0.8888888888888888,\"#fdca26\"],[1.0,\"#f0f921\"]]}],\"table\":[{\"cells\":{\"fill\":{\"color\":\"rgba(235, 240, 248, 1.0)\"},\"line\":{\"color\":\"rgba(255, 255, 255, 1.0)\"}},\"header\":{\"fill\":{\"color\":\"rgba(200, 212, 227, 1.0)\"},\"line\":{\"color\":\"rgba(255, 255, 255, 1.0)\"}}}]}},\"xaxis\":{\"title\":{\"text\":\"Zeit\"}},\"yaxis\":{\"title\":{\"text\":\"Lactosekonzentration\"}}};\r\n",
       "            var config = {\"responsive\":true};\r\n",
       "            Plotly.newPlot('2b0eb48c-1e67-444c-8cfd-78321b846039', data, layout, config);\r\n",
       "});\r\n",
       "            };\r\n",
       "            if ((typeof(requirejs) !==  typeof(Function)) || (typeof(requirejs.config) !== typeof(Function))) {\r\n",
       "                var script = document.createElement(\"script\");\r\n",
       "                script.setAttribute(\"src\", \"https://cdnjs.cloudflare.com/ajax/libs/require.js/2.3.6/require.min.js\");\r\n",
       "                script.onload = function(){\r\n",
       "                    renderPlotly_2b0eb48c1e67444c8cfd78321b846039();\r\n",
       "                };\r\n",
       "                document.getElementsByTagName(\"head\")[0].appendChild(script);\r\n",
       "            }\r\n",
       "            else {\r\n",
       "                renderPlotly_2b0eb48c1e67444c8cfd78321b846039();\r\n",
       "            }\r\n",
       "</script>\r\n",
       "\n",
       "    \n",
       "</div>    \n"
      ]
     },
     "metadata": {},
     "output_type": "display_data"
    }
   ],
   "source": [
    "//Konstanten\n",
    "let alpha =  0.5  // Konstante für die Zunahme der Lactosekonzentration (unreguliert)\n",
    "let beta  =  10.0 // Konstante für die Zunahme der Lactosekonzentration (reguliert)\n",
    "let gamma =  1.0  // Konstante für die Verringerung der Lactosekonzentration\n",
    "let K_d =    5.0  // Dissoziationskonstante\n",
    "\n",
    "// unsere DGL als  Modell (Model)\n",
    "let dP_dt : Model = \n",
    "    fun P t ->\n",
    "\n",
    "        let inlac = P[0] // Änderung in der Lactosekonzentration\n",
    "\n",
    "        //Differenzialgleichung die diese Änderung beschreibt (hier die Gleichung einsetzen)\n",
    "        let inlac' = alpha + beta * (inlac**2.)/((inlac**2.) + (K_d**2.)) - (gamma*inlac)\n",
    "\n",
    "        [| inlac' |]\n",
    "\n",
    "//Startkonzentrationen\n",
    "let P0 = [| \n",
    "    0.1\n",
    "|]\n",
    "\n",
    "// Simulation der Modelfuntkion\n",
    "let Ps = \n",
    "    modelContext.OdeInt(\n",
    "        0., // Startzeitpunkt\n",
    "        P0,\n",
    "        dP_dt\n",
    "    )\n",
    "    |> SolPoints.take 10 // Anzahl der Zeitpunkte\n",
    "    |> SolPoints.memorize \n",
    "\n",
    "//Graphische Darstellung der numerischen Lösung\n",
    "[\n",
    "    let lactose = Ps |> SolPoints.toPoints 1 \n",
    "    lactose |> Chart.Spline \n",
    "    |> Chart.withTraceInfo(\"Lactose\");\n",
    "]\n",
    "\n",
    "|> Chart.combine\n",
    "|> Chart.withXAxisStyle(\"Zeit\")\n",
    "|> Chart.withYAxisStyle(\"Lactosekonzentration\")"
   ]
  },
  {
   "cell_type": "markdown",
   "metadata": {},
   "source": [
    "Aufgabe 4.4: <br>\n",
    "Was beobachten sie?<br>\n",
    "\n",
    "\n"
   ]
  },
  {
   "cell_type": "markdown",
   "metadata": {},
   "source": [
    "Hier die Antwort eingeben"
   ]
  },
  {
   "cell_type": "markdown",
   "metadata": {},
   "source": [
    "Aufgabe 4.5: <br>\n",
    "Erhöhen sie jetzt Schrittweise den Wert von der $Lactosekonzentration(0)$. Kopieren sie dafür den obenstehnden Code Block in den folgenden Code Block und ändern sie dann die Werte für die Startkonzentration im Abschnitt Startkonzentrationen, der Wert unter P0 (lassen sie alles andere gleich). Nutzen sie dabei die folgenden Werte:\n",
    "$$0.5$$\n",
    "$$1.0$$\n",
    "$$1.5$$\n",
    "$$2.0$$\n",
    "$$2.5$$\n",
    "$$3.0$$\n",
    "$$3.5$$\n",
    "$$4.0$$\n",
    "$$5.0$$\n",
    "$$6.0$$\n",
    "$$7.0$$\n",
    "$$8.0$$\n",
    "\n",
    "Notieren sie die Werte die sie für die Gleichgewichtspunkte finden, bei jeder Konzentration (der Wert bei dem sich die Konzentration nicht mehr merklich ändert)\n",
    "\n",
    "\n",
    "Was können sie im Bezug auf das $Lactosekonzentration_{GGW}$ sagen?\n"
   ]
  },
  {
   "cell_type": "code",
   "execution_count": null,
   "metadata": {
    "dotnet_interactive": {
     "language": "markdown"
    },
    "vscode": {
     "languageId": "markdown"
    }
   },
   "outputs": [],
   "source": []
  },
  {
   "cell_type": "markdown",
   "metadata": {},
   "source": [
    "Block für die Werte und die Antwort\n",
    "\n",
    "Hier die Werte für die einzelnen $Lactosekonzentration_{GGW}$ eintragen:\n",
    "\n",
    "\n",
    "\n",
    "\n",
    "Anschliesend bitte beantworten was sie über das  $Lactosekonzentration_{GGW}$ im allgemeinen sagen können."
   ]
  },
  {
   "cell_type": "markdown",
   "metadata": {},
   "source": [
    "Es folgt eine kurze Besprechung. \n",
    "### Expertenaufgabe?"
   ]
  },
  {
   "cell_type": "markdown",
   "metadata": {},
   "source": [
    "----------------\n",
    "Aufgabe 4.6: <br>\n",
    "Bestimmen Sie, ob es sich um stabile oder instabile Punktattraktoren handelt. Nutzen sie dafür die Werte die sie oben eingetragen haben.\n",
    "Stabil bedeutet das die $Lactosekonzentration{GGW}$ vom folgenden und vorherigen $Lactosekonzentration(0)$ identisch sind. Als Beispiel (diese Werte sind ausgedacht und sollen nur als Beispiel dienen):\n",
    "$Lactosekonzentration(0)$ wird zu $Proteinkonzentration_{GGW}$\n",
    "$$Lactosekonzentration(1.0) -> Lactosekonzentration{GGW} = 2$$\n",
    "$$Lactosekonzentration(2.0) -> Lactosekonzentration{GGW} = 2$$\n",
    "$$Lactosekonzentration(3.0) -> Lactosekonzentration{GGW} = 2$$\n",
    "\n",
    "dann handelt es sich beim Punktattraktor 2 um einen stabilen Punktattraktor. \n",
    "\n",
    "Instabil bedeutet analog das die beiden flannkierenden Proteinkonzentration_{GGW} zu einem anderen Punktattraktor wandern. Als Beispiel:\n",
    "\n",
    "$$Lactosekonzentration(3.0) -> Lactosekonzentration{GGW} = 2$$\n",
    "$$Lactosekonzentration(4.0) -> Lactosekonzentration{GGW} = 4$$\n",
    "$$Lactosekonzentration(5.0) -> Lactosekonzentration{GGW} = 8$$\n",
    "\n",
    "Hier wäre der Punktattraktor bei 4 instabil. \n",
    "\n",
    "Gehen sie jezt bei denen von ihnen bestimmten Punkten anlog vor (es reicht wenn sie schreiben Punktattraktor X ist stabil/instabil)."
   ]
  },
  {
   "cell_type": "markdown",
   "metadata": {},
   "source": [
    "Hier die Antwort eingeben."
   ]
  },
  {
   "cell_type": "markdown",
   "metadata": {},
   "source": [
    "Ein System das zwei stabile Punktattraktoren hat wird auch bistabiles System genannt. **Bistabilität** ist eine Schlüsseleigenschaften von biologischen Systemen, da das System auch dann an einem der beiden Punktattraktoren verweilt, wenn es leichte Störungen oder es leicht veränderte äußere Einflüsse gibt. Das bedeutet bezogen auf das lac Operon, das dieses nur dann exprimiert wird wenn es eine hohe Konzentration an extrazellulärer Lactose gibt. Bei nur sehr geringen Mengen kommt es nicht zur Ausbildung von Allolactose und das lac Operon wird weiterhin durch lacI inhibiert. Dies hat den Vorteil das die Energie die auf die Produktion von lacY, laxZ, und lacA verwendet werden würde gespart wird, da die Menge an Lactose dies nicht rechtfertigt. Auf der anderen Seite kommt es bei einer hohen Lactosekonzentration zur Ausbildung von genug Allolactose, so dass das Lac Operon nicht mehr durch LacI inhibiert wird. Da die Repression sehr stark ist, der Faktor ist ungefähr 1000, kommt es anschließend zu einer sehr starken Expression des Lac Operon. <br>\n",
    "Die Fähigkeit nur dann Gene zu exprimieren, wenn sie wirklich gebraucht werden, aber dann in sehr hohem Maße, ist ein grundlegender Vorteil gegenüber einem Organismus der diese Fähigkeit nicht hat und immer alles mit der selben Rate produziert. Daher hat sich **Bistabilität** als eines der Grundlegenden Bausteine in der Evolution durchgesetzt und kann heute in jedem Organismus bei fast allen relevanten Genzyklen beobachtet werden.\n",
    "Bistabilität ist allerdings nur eine spezialform der **Multistabilität**. Multistabilität bedeutet das ein System mehrere Fixpunkte hat zu denen es wandern kann, anhängig von den äußeren Einflüssen. Dies hat beim System von Lactose noch keinen Vorteil, aber bei komplexeren Problemen wo wie der Proliferation ist es deutlich vorteilhafter. \n",
    "\n"
   ]
  },
  {
   "cell_type": "markdown",
   "metadata": {},
   "source": [
    "Aufgabe 4.7: <br>\n",
    "Teilen sie Gleichung welche die Änderung der Lactosekonzentration im Bezug auf die Zeit beschreibt in zwei Gleichungen. Die erste soll die Zunahme der Lactose beschreiben, die zweite die Abnahame, also\n",
    "$$ \\frac {dLactosekonzentration} {dt} = \\textrm{Zunahme der Lactosekonzentration} $$\n",
    "$$ \\frac {dLactosekonzentration} {dt} = \\textrm{Verringerung der Lactosekonzentration}$$\n",
    "\n",
    "Fügen sie die beiden Gleichungen in das folgende Model ein (beachte das $\\beta \\textrm{ und } \\gamma$ als \"beta\" und \"gamma\", ohne \"\", eingesetzt werden müssen und nicht als Symbole, und das $K_{d}$ als K_d eingesetzt wird). "
   ]
  },
  {
   "cell_type": "code",
   "execution_count": null,
   "metadata": {
    "dotnet_interactive": {
     "language": "fsharp"
    },
    "vscode": {
     "languageId": "dotnet-interactive.fsharp"
    }
   },
   "outputs": [
    {
     "data": {
      "text/html": [
       "\n",
       "<div>\n",
       "    <div id=\"ed7e720d-af3b-4a33-9714-125402959a9d\"><!-- Plotly chart will be drawn inside this DIV --></div>\r\n",
       "<script type=\"text/javascript\">\r\n",
       "\r\n",
       "            var renderPlotly_ed7e720daf3b4a339714125402959a9d = function() {\r\n",
       "            var fsharpPlotlyRequire = requirejs.config({context:'fsharp-plotly',paths:{plotly:'https://cdn.plot.ly/plotly-2.6.3.min'}}) || require;\r\n",
       "            fsharpPlotlyRequire(['plotly'], function(Plotly) {\r\n",
       "\r\n",
       "            var data = [{\"type\":\"scatter\",\"mode\":\"lines\",\"x\":[0.0,0.1,0.2,0.30000000000000004,0.4,0.5,0.6000000000000001,0.7000000000000001,0.8,0.9,1.0,1.1,1.2000000000000002,1.3,1.4000000000000001,1.5,1.6,1.7000000000000002,1.8,1.9000000000000001,2.0,2.1,2.2,2.3000000000000003,2.4000000000000004,2.5,2.6,2.7,2.8000000000000003,2.9000000000000004,3.0,3.1,3.2,3.3000000000000003,3.4000000000000004,3.5,3.6,3.7,3.8000000000000003,3.9000000000000004,4.0,4.1000000000000005,4.2,4.3,4.4,4.5,4.6000000000000005,4.7,4.800000000000001,4.9,5.0,5.1000000000000005,5.2,5.300000000000001,5.4,5.5,5.6000000000000005,5.7,5.800000000000001,5.9,6.0,6.1000000000000005,6.2,6.300000000000001,6.4,6.5,6.6000000000000005,6.7,6.800000000000001,6.9,7.0,7.1000000000000005,7.2,7.300000000000001,7.4,7.5,7.6000000000000005,7.7,7.800000000000001,7.9,8.0,8.1,8.200000000000001,8.3,8.4,8.5,8.6,8.700000000000001,8.8,8.9,9.0,9.1,9.200000000000001,9.3,9.4,9.5,9.600000000000001,9.700000000000001,9.8,9.9,10.0,10.100000000000001,10.200000000000001,10.3,10.4,10.5,10.600000000000001,10.700000000000001,10.8,10.9,11.0,11.100000000000001,11.200000000000001,11.3,11.4,11.5,11.600000000000001,11.700000000000001,11.8,11.9,12.0,12.100000000000001,12.200000000000001,12.3,12.4,12.5,12.600000000000001,12.700000000000001,12.8,12.9,13.0,13.100000000000001,13.200000000000001,13.3,13.4,13.5,13.600000000000001,13.700000000000001,13.8,13.9,14.0,14.100000000000001,14.200000000000001,14.3,14.4,14.5,14.600000000000001,14.700000000000001,14.8,14.9,15.0],\"y\":[0.0,0.1,0.2,0.30000000000000004,0.4,0.5,0.6000000000000001,0.7000000000000001,0.8,0.9,1.0,1.1,1.2000000000000002,1.3,1.4000000000000001,1.5,1.6,1.7000000000000002,1.8,1.9000000000000001,2.0,2.1,2.2,2.3000000000000003,2.4000000000000004,2.5,2.6,2.7,2.8000000000000003,2.9000000000000004,3.0,3.1,3.2,3.3000000000000003,3.4000000000000004,3.5,3.6,3.7,3.8000000000000003,3.9000000000000004,4.0,4.1000000000000005,4.2,4.3,4.4,4.5,4.6000000000000005,4.7,4.800000000000001,4.9,5.0,5.1000000000000005,5.2,5.300000000000001,5.4,5.5,5.6000000000000005,5.7,5.800000000000001,5.9,6.0,6.1000000000000005,6.2,6.300000000000001,6.4,6.5,6.6000000000000005,6.7,6.800000000000001,6.9,7.0,7.1000000000000005,7.2,7.300000000000001,7.4,7.5,7.6000000000000005,7.7,7.800000000000001,7.9,8.0,8.1,8.200000000000001,8.3,8.4,8.5,8.6,8.700000000000001,8.8,8.9,9.0,9.1,9.200000000000001,9.3,9.4,9.5,9.600000000000001,9.700000000000001,9.8,9.9,10.0,10.100000000000001,10.200000000000001,10.3,10.4,10.5,10.600000000000001,10.700000000000001,10.8,10.9,11.0,11.100000000000001,11.200000000000001,11.3,11.4,11.5,11.600000000000001,11.700000000000001,11.8,11.9,12.0,12.100000000000001,12.200000000000001,12.3,12.4,12.5,12.600000000000001,12.700000000000001,12.8,12.9,13.0,13.100000000000001,13.200000000000001,13.3,13.4,13.5,13.600000000000001,13.700000000000001,13.8,13.9,14.0,14.100000000000001,14.200000000000001,14.3,14.4,14.5,14.600000000000001,14.700000000000001,14.8,14.9,15.0],\"marker\":{},\"line\":{},\"name\":\"Zunahme\"},{\"type\":\"scatter\",\"mode\":\"lines\",\"x\":[0.0,0.1,0.2,0.30000000000000004,0.4,0.5,0.6000000000000001,0.7000000000000001,0.8,0.9,1.0,1.1,1.2000000000000002,1.3,1.4000000000000001,1.5,1.6,1.7000000000000002,1.8,1.9000000000000001,2.0,2.1,2.2,2.3000000000000003,2.4000000000000004,2.5,2.6,2.7,2.8000000000000003,2.9000000000000004,3.0,3.1,3.2,3.3000000000000003,3.4000000000000004,3.5,3.6,3.7,3.8000000000000003,3.9000000000000004,4.0,4.1000000000000005,4.2,4.3,4.4,4.5,4.6000000000000005,4.7,4.800000000000001,4.9,5.0,5.1000000000000005,5.2,5.300000000000001,5.4,5.5,5.6000000000000005,5.7,5.800000000000001,5.9,6.0,6.1000000000000005,6.2,6.300000000000001,6.4,6.5,6.6000000000000005,6.7,6.800000000000001,6.9,7.0,7.1000000000000005,7.2,7.300000000000001,7.4,7.5,7.6000000000000005,7.7,7.800000000000001,7.9,8.0,8.1,8.200000000000001,8.3,8.4,8.5,8.6,8.700000000000001,8.8,8.9,9.0,9.1,9.200000000000001,9.3,9.4,9.5,9.600000000000001,9.700000000000001,9.8,9.9,10.0,10.100000000000001,10.200000000000001,10.3,10.4,10.5,10.600000000000001,10.700000000000001,10.8,10.9,11.0,11.100000000000001,11.200000000000001,11.3,11.4,11.5,11.600000000000001,11.700000000000001,11.8,11.9,12.0,12.100000000000001,12.200000000000001,12.3,12.4,12.5,12.600000000000001,12.700000000000001,12.8,12.9,13.0,13.100000000000001,13.200000000000001,13.3,13.4,13.5,13.600000000000001,13.700000000000001,13.8,13.9,14.0,14.100000000000001,14.200000000000001,14.3,14.4,14.5,14.600000000000001,14.700000000000001,14.8,14.9,15.0],\"y\":[0.5,0.5039984006397441,0.5159744408945687,0.5358708648864089,0.5635930047694754,0.599009900990099,0.6419558359621451,0.6922322479403689,0.749609984399376,0.8138318481208835,0.8846153846153846,0.9616558565433041,1.0446293494704992,1.133195953540652,1.2270029673590506,1.3256880733944953,1.4288824383164007,1.5362136966654716,1.6473087818696885,1.7617965746242574,1.8793103448275863,1.999489969398164,2.1219839142091157,2.246450973918785,2.3725617685305593,2.5,2.628463476070529,2.7576649117373804,2.8873325213154692,3.0172104160431013,3.1470588235294117,3.2766541462005203,3.4057888762769584,3.534271384786849,3.6619256017505473,3.7885906040268456,3.914120126448894,4.038382010855519,4.161257606490873,4.282641134046258,4.402439024390244,4.520569241808181,4.636960600375234,4.751552080938147,4.86429215509468,4.975138121546961,5.084055459272097,5.191017201104269,5.296003330557869,5.399000204039992,5.5,5.599000196039992,5.696003074558032,5.791015257110568,5.8840472673559825,5.975113122171946,6.064229950319376,6.151417637850061,6.236698499317873,6.320096973750209,6.401639344262295,6.481353480147887,6.5592686002522065,6.63541505642294,6.709824135839903,6.782527881040892,6.853558926487749,6.922950350550865,6.990735541830433,7.056948078777028,7.121621621621622,7.184789815674314,7.246486205101511,7.306744156341805,7.3655967903711135,7.423076923076923,7.479217013049782,7.534049116146637,7.5876048462255365,7.639915341494109,7.691011235955056,7.740922635470699,7.789679098005204,7.837309617637661,7.883842611971536,7.929305912596401,7.973726758286176,8.017131790644552,8.059547051932839,8.100997984838308,8.141509433962264,8.18110564882664,8.219810288215978,8.257646425688403,8.294636556104447,8.330802603036876,8.366165926937523,8.400747333949115,8.434567085261072,8.467644906918137,8.5,8.53165105109834,8.562616243025419,8.592913265695323,8.622559327125263,8.651571164510166,8.679965055329065,8.707756828446485,8.734961875176504,8.761595160280926,8.787671232876713,8.813204237230957,8.838207923424621,8.862695657868885,8.8866804336603,8.910174880763115,8.933191276009026,8.955741552906295,8.977837311251827,8.999489826541025,9.020710059171599,9.04150866343854,9.061895996318453,9.081882126042316,9.101476840456478,9.120689655172415,9.139529821506311,9.158006334210102,9.176127938995975,9.193903139856852,9.211340206185566,9.228447179695845,9.245231881148364,9.261701916885432,9.277864685177942,9.29372738238842,9.309297008954086,9.324580375193944,9.33958410694393,9.354314651024243,9.368778280542987,9.382981100040213,9.396929050476528,9.41062791407033,9.424083318987778,9.437300743889478,9.450285522337923,9.463042847069561,9.475577774135386,9.48789522691389,9.5],\"marker\":{},\"line\":{},\"name\":\"Verringerung\"}];\r\n",
       "            var layout = {\"width\":600,\"height\":600,\"template\":{\"layout\":{\"title\":{\"x\":0.05},\"font\":{\"color\":\"rgba(42, 63, 95, 1.0)\"},\"paper_bgcolor\":\"rgba(255, 255, 255, 1.0)\",\"plot_bgcolor\":\"rgba(229, 236, 246, 1.0)\",\"autotypenumbers\":\"strict\",\"colorscale\":{\"diverging\":[[0.0,\"#8e0152\"],[0.1,\"#c51b7d\"],[0.2,\"#de77ae\"],[0.3,\"#f1b6da\"],[0.4,\"#fde0ef\"],[0.5,\"#f7f7f7\"],[0.6,\"#e6f5d0\"],[0.7,\"#b8e186\"],[0.8,\"#7fbc41\"],[0.9,\"#4d9221\"],[1.0,\"#276419\"]],\"sequential\":[[0.0,\"#0d0887\"],[0.1111111111111111,\"#46039f\"],[0.2222222222222222,\"#7201a8\"],[0.3333333333333333,\"#9c179e\"],[0.4444444444444444,\"#bd3786\"],[0.5555555555555556,\"#d8576b\"],[0.6666666666666666,\"#ed7953\"],[0.7777777777777778,\"#fb9f3a\"],[0.8888888888888888,\"#fdca26\"],[1.0,\"#f0f921\"]],\"sequentialminus\":[[0.0,\"#0d0887\"],[0.1111111111111111,\"#46039f\"],[0.2222222222222222,\"#7201a8\"],[0.3333333333333333,\"#9c179e\"],[0.4444444444444444,\"#bd3786\"],[0.5555555555555556,\"#d8576b\"],[0.6666666666666666,\"#ed7953\"],[0.7777777777777778,\"#fb9f3a\"],[0.8888888888888888,\"#fdca26\"],[1.0,\"#f0f921\"]]},\"hovermode\":\"closest\",\"hoverlabel\":{\"align\":\"left\"},\"coloraxis\":{\"colorbar\":{\"outlinewidth\":0.0,\"ticks\":\"\"}},\"geo\":{\"showland\":true,\"landcolor\":\"rgba(229, 236, 246, 1.0)\",\"showlakes\":true,\"lakecolor\":\"rgba(255, 255, 255, 1.0)\",\"subunitcolor\":\"rgba(255, 255, 255, 1.0)\",\"bgcolor\":\"rgba(255, 255, 255, 1.0)\"},\"mapbox\":{\"style\":\"light\"},\"polar\":{\"bgcolor\":\"rgba(229, 236, 246, 1.0)\",\"radialaxis\":{\"linecolor\":\"rgba(255, 255, 255, 1.0)\",\"gridcolor\":\"rgba(255, 255, 255, 1.0)\",\"ticks\":\"\"},\"angularaxis\":{\"linecolor\":\"rgba(255, 255, 255, 1.0)\",\"gridcolor\":\"rgba(255, 255, 255, 1.0)\",\"ticks\":\"\"}},\"scene\":{\"xaxis\":{\"ticks\":\"\",\"linecolor\":\"rgba(255, 255, 255, 1.0)\",\"gridcolor\":\"rgba(255, 255, 255, 1.0)\",\"gridwidth\":2.0,\"zerolinecolor\":\"rgba(255, 255, 255, 1.0)\",\"backgroundcolor\":\"rgba(229, 236, 246, 1.0)\",\"showbackground\":true},\"yaxis\":{\"ticks\":\"\",\"linecolor\":\"rgba(255, 255, 255, 1.0)\",\"gridcolor\":\"rgba(255, 255, 255, 1.0)\",\"gridwidth\":2.0,\"zerolinecolor\":\"rgba(255, 255, 255, 1.0)\",\"backgroundcolor\":\"rgba(229, 236, 246, 1.0)\",\"showbackground\":true},\"zaxis\":{\"ticks\":\"\",\"linecolor\":\"rgba(255, 255, 255, 1.0)\",\"gridcolor\":\"rgba(255, 255, 255, 1.0)\",\"gridwidth\":2.0,\"zerolinecolor\":\"rgba(255, 255, 255, 1.0)\",\"backgroundcolor\":\"rgba(229, 236, 246, 1.0)\",\"showbackground\":true}},\"ternary\":{\"aaxis\":{\"ticks\":\"\",\"linecolor\":\"rgba(255, 255, 255, 1.0)\",\"gridcolor\":\"rgba(255, 255, 255, 1.0)\"},\"baxis\":{\"ticks\":\"\",\"linecolor\":\"rgba(255, 255, 255, 1.0)\",\"gridcolor\":\"rgba(255, 255, 255, 1.0)\"},\"caxis\":{\"ticks\":\"\",\"linecolor\":\"rgba(255, 255, 255, 1.0)\",\"gridcolor\":\"rgba(255, 255, 255, 1.0)\"},\"bgcolor\":\"rgba(229, 236, 246, 1.0)\"},\"xaxis\":{\"title\":{\"standoff\":15},\"ticks\":\"\",\"automargin\":true,\"linecolor\":\"rgba(255, 255, 255, 1.0)\",\"gridcolor\":\"rgba(255, 255, 255, 1.0)\",\"zerolinecolor\":\"rgba(255, 255, 255, 1.0)\",\"zerolinewidth\":2.0},\"yaxis\":{\"title\":{\"standoff\":15},\"ticks\":\"\",\"automargin\":true,\"linecolor\":\"rgba(255, 255, 255, 1.0)\",\"gridcolor\":\"rgba(255, 255, 255, 1.0)\",\"zerolinecolor\":\"rgba(255, 255, 255, 1.0)\",\"zerolinewidth\":2.0},\"annotationdefaults\":{\"arrowcolor\":\"#2a3f5f\",\"arrowhead\":0,\"arrowwidth\":1},\"shapedefaults\":{\"line\":{\"color\":\"rgba(42, 63, 95, 1.0)\"}},\"colorway\":[\"rgba(99, 110, 250, 1.0)\",\"rgba(239, 85, 59, 1.0)\",\"rgba(0, 204, 150, 1.0)\",\"rgba(171, 99, 250, 1.0)\",\"rgba(255, 161, 90, 1.0)\",\"rgba(25, 211, 243, 1.0)\",\"rgba(255, 102, 146, 1.0)\",\"rgba(182, 232, 128, 1.0)\",\"rgba(255, 151, 255, 1.0)\",\"rgba(254, 203, 82, 1.0)\"]},\"data\":{\"bar\":[{\"marker\":{\"line\":{\"color\":\"rgba(229, 236, 246, 1.0)\",\"width\":0.5},\"pattern\":{\"fillmode\":\"overlay\",\"size\":10,\"solidity\":0.2}},\"error_x\":{\"color\":\"rgba(42, 63, 95, 1.0)\"},\"error_y\":{\"color\":\"rgba(42, 63, 95, 1.0)\"}}],\"barpolar\":[{\"marker\":{\"line\":{\"color\":\"rgba(229, 236, 246, 1.0)\",\"width\":0.5},\"pattern\":{\"fillmode\":\"overlay\",\"size\":10,\"solidity\":0.2}}}],\"carpet\":[{\"aaxis\":{\"linecolor\":\"rgba(255, 255, 255, 1.0)\",\"gridcolor\":\"rgba(255, 255, 255, 1.0)\",\"endlinecolor\":\"rgba(42, 63, 95, 1.0)\",\"minorgridcolor\":\"rgba(255, 255, 255, 1.0)\",\"startlinecolor\":\"rgba(42, 63, 95, 1.0)\"},\"baxis\":{\"linecolor\":\"rgba(255, 255, 255, 1.0)\",\"gridcolor\":\"rgba(255, 255, 255, 1.0)\",\"endlinecolor\":\"rgba(42, 63, 95, 1.0)\",\"minorgridcolor\":\"rgba(255, 255, 255, 1.0)\",\"startlinecolor\":\"rgba(42, 63, 95, 1.0)\"}}],\"choropleth\":[{\"colorbar\":{\"outlinewidth\":0.0,\"ticks\":\"\"},\"colorscale\":[[0.0,\"#0d0887\"],[0.1111111111111111,\"#46039f\"],[0.2222222222222222,\"#7201a8\"],[0.3333333333333333,\"#9c179e\"],[0.4444444444444444,\"#bd3786\"],[0.5555555555555556,\"#d8576b\"],[0.6666666666666666,\"#ed7953\"],[0.7777777777777778,\"#fb9f3a\"],[0.8888888888888888,\"#fdca26\"],[1.0,\"#f0f921\"]]}],\"contour\":[{\"colorbar\":{\"outlinewidth\":0.0,\"ticks\":\"\"},\"colorscale\":[[0.0,\"#0d0887\"],[0.1111111111111111,\"#46039f\"],[0.2222222222222222,\"#7201a8\"],[0.3333333333333333,\"#9c179e\"],[0.4444444444444444,\"#bd3786\"],[0.5555555555555556,\"#d8576b\"],[0.6666666666666666,\"#ed7953\"],[0.7777777777777778,\"#fb9f3a\"],[0.8888888888888888,\"#fdca26\"],[1.0,\"#f0f921\"]]}],\"contourcarpet\":[{\"colorbar\":{\"outlinewidth\":0.0,\"ticks\":\"\"}}],\"heatmap\":[{\"colorbar\":{\"outlinewidth\":0.0,\"ticks\":\"\"},\"colorscale\":[[0.0,\"#0d0887\"],[0.1111111111111111,\"#46039f\"],[0.2222222222222222,\"#7201a8\"],[0.3333333333333333,\"#9c179e\"],[0.4444444444444444,\"#bd3786\"],[0.5555555555555556,\"#d8576b\"],[0.6666666666666666,\"#ed7953\"],[0.7777777777777778,\"#fb9f3a\"],[0.8888888888888888,\"#fdca26\"],[1.0,\"#f0f921\"]]}],\"heatmapgl\":[{\"colorbar\":{\"outlinewidth\":0.0,\"ticks\":\"\"},\"colorscale\":[[0.0,\"#0d0887\"],[0.1111111111111111,\"#46039f\"],[0.2222222222222222,\"#7201a8\"],[0.3333333333333333,\"#9c179e\"],[0.4444444444444444,\"#bd3786\"],[0.5555555555555556,\"#d8576b\"],[0.6666666666666666,\"#ed7953\"],[0.7777777777777778,\"#fb9f3a\"],[0.8888888888888888,\"#fdca26\"],[1.0,\"#f0f921\"]]}],\"histogram\":[{\"marker\":{\"pattern\":{\"fillmode\":\"overlay\",\"size\":10,\"solidity\":0.2}}}],\"histogram2d\":[{\"colorbar\":{\"outlinewidth\":0.0,\"ticks\":\"\"},\"colorscale\":[[0.0,\"#0d0887\"],[0.1111111111111111,\"#46039f\"],[0.2222222222222222,\"#7201a8\"],[0.3333333333333333,\"#9c179e\"],[0.4444444444444444,\"#bd3786\"],[0.5555555555555556,\"#d8576b\"],[0.6666666666666666,\"#ed7953\"],[0.7777777777777778,\"#fb9f3a\"],[0.8888888888888888,\"#fdca26\"],[1.0,\"#f0f921\"]]}],\"histogram2dcontour\":[{\"colorbar\":{\"outlinewidth\":0.0,\"ticks\":\"\"},\"colorscale\":[[0.0,\"#0d0887\"],[0.1111111111111111,\"#46039f\"],[0.2222222222222222,\"#7201a8\"],[0.3333333333333333,\"#9c179e\"],[0.4444444444444444,\"#bd3786\"],[0.5555555555555556,\"#d8576b\"],[0.6666666666666666,\"#ed7953\"],[0.7777777777777778,\"#fb9f3a\"],[0.8888888888888888,\"#fdca26\"],[1.0,\"#f0f921\"]]}],\"mesh3d\":[{\"colorbar\":{\"outlinewidth\":0.0,\"ticks\":\"\"}}],\"parcoords\":[{\"line\":{\"colorbar\":{\"outlinewidth\":0.0,\"ticks\":\"\"}}}],\"pie\":[{\"automargin\":true}],\"scatter\":[{\"marker\":{\"colorbar\":{\"outlinewidth\":0.0,\"ticks\":\"\"}}}],\"scatter3d\":[{\"marker\":{\"colorbar\":{\"outlinewidth\":0.0,\"ticks\":\"\"}},\"line\":{\"colorbar\":{\"outlinewidth\":0.0,\"ticks\":\"\"}}}],\"scattercarpet\":[{\"marker\":{\"colorbar\":{\"outlinewidth\":0.0,\"ticks\":\"\"}}}],\"scattergeo\":[{\"marker\":{\"colorbar\":{\"outlinewidth\":0.0,\"ticks\":\"\"}}}],\"scattergl\":[{\"marker\":{\"colorbar\":{\"outlinewidth\":0.0,\"ticks\":\"\"}}}],\"scattermapbox\":[{\"marker\":{\"colorbar\":{\"outlinewidth\":0.0,\"ticks\":\"\"}}}],\"scatterpolar\":[{\"marker\":{\"colorbar\":{\"outlinewidth\":0.0,\"ticks\":\"\"}}}],\"scatterpolargl\":[{\"marker\":{\"colorbar\":{\"outlinewidth\":0.0,\"ticks\":\"\"}}}],\"scatterternary\":[{\"marker\":{\"colorbar\":{\"outlinewidth\":0.0,\"ticks\":\"\"}}}],\"surface\":[{\"colorbar\":{\"outlinewidth\":0.0,\"ticks\":\"\"},\"colorscale\":[[0.0,\"#0d0887\"],[0.1111111111111111,\"#46039f\"],[0.2222222222222222,\"#7201a8\"],[0.3333333333333333,\"#9c179e\"],[0.4444444444444444,\"#bd3786\"],[0.5555555555555556,\"#d8576b\"],[0.6666666666666666,\"#ed7953\"],[0.7777777777777778,\"#fb9f3a\"],[0.8888888888888888,\"#fdca26\"],[1.0,\"#f0f921\"]]}],\"table\":[{\"cells\":{\"fill\":{\"color\":\"rgba(235, 240, 248, 1.0)\"},\"line\":{\"color\":\"rgba(255, 255, 255, 1.0)\"}},\"header\":{\"fill\":{\"color\":\"rgba(200, 212, 227, 1.0)\"},\"line\":{\"color\":\"rgba(255, 255, 255, 1.0)\"}}}]}},\"xaxis\":{\"title\":{\"text\":\"Lactosekonzentration\"}},\"yaxis\":{\"title\":{\"text\":\"Veränderung der Lactosekonzentration\"}}};\r\n",
       "            var config = {\"responsive\":true};\r\n",
       "            Plotly.newPlot('ed7e720d-af3b-4a33-9714-125402959a9d', data, layout, config);\r\n",
       "});\r\n",
       "            };\r\n",
       "            if ((typeof(requirejs) !==  typeof(Function)) || (typeof(requirejs.config) !== typeof(Function))) {\r\n",
       "                var script = document.createElement(\"script\");\r\n",
       "                script.setAttribute(\"src\", \"https://cdnjs.cloudflare.com/ajax/libs/require.js/2.3.6/require.min.js\");\r\n",
       "                script.onload = function(){\r\n",
       "                    renderPlotly_ed7e720daf3b4a339714125402959a9d();\r\n",
       "                };\r\n",
       "                document.getElementsByTagName(\"head\")[0].appendChild(script);\r\n",
       "            }\r\n",
       "            else {\r\n",
       "                renderPlotly_ed7e720daf3b4a339714125402959a9d();\r\n",
       "            }\r\n",
       "</script>\r\n",
       "\n",
       "    \n",
       "</div>    \n"
      ]
     },
     "metadata": {},
     "output_type": "display_data"
    }
   ],
   "source": [
    "//Konstanten\n",
    "let alpha =  0.5  // Konstante für die Zunahme der Lactosekonzentration (unreguliert)\n",
    "let beta  =  10.0 // Konstante für die Zunahme der Lactosekonzentration (reguliert)\n",
    "let gamma =  1.0  // Konstante für die Verringerung der Lactosekonzentration\n",
    "let K_d =    5.0  // Dissoziationskonstante\n",
    "\n",
    "//Graphische Darstellung der Gleichungen\n",
    "[\n",
    "    // Fügen sie die Gleichung für den Proteinabbau ein\n",
    "\n",
    "    Chart.Line [ for inlac in 0.0 .. 0.1 .. 15.0 do\n",
    "    (inlac, (gamma*inlac)) ]\n",
    "    |> Chart.withTraceInfo(\"Zunahme\");\n",
    "    //Fügen sie die Gleichung für die Proteinproduktion ein\n",
    "    Chart.Line [ for inlac in 0.0 .. 0.1 .. 15.0 do \n",
    "    (inlac, alpha + beta * (inlac**2.)/((inlac**2.) + (K_d**2.))) ]\n",
    "    |> Chart.withTraceInfo(\"Verringerung\");\n",
    "]\n",
    "\n",
    "|> Chart.combine\n",
    "|> Chart.withXAxisStyle(\"Lactosekonzentration\")\n",
    "|> Chart.withYAxisStyle(\"Veränderung der Lactosekonzentration\")"
   ]
  },
  {
   "cell_type": "markdown",
   "metadata": {},
   "source": [
    "Der gezeigte Graph stellt auf der Y-Achse die Änderung der Lactosekonzentration dar, also Import' und Abbau'. Die X-Achse repräsentiert die Lactosekonzentration. Diese graphische Darstellung macht es sehr einfach die Punktattraktionen zu bestimmen. Diese sind die Schnittpunkte der beiden Kurven, da bei diesen der Import und der Verbrauch den gleichen Wert besitzen. In diesem Fall befinden sich die Schnittpunkte der beiden Kurven bei 1, 2.5 und 7.3 .<br>\n",
    "Diese Art von Graph ermöglicht es auch zu bestimmen ob es sich um stabile oder instabile Punktattraktionen handelt. Dafür muss man sich nur überlegen, wohin die Lactosekonzentration wandert. <br>\n",
    "Einige Beispiele folgen: <br>\n",
    "$$Lactosekonzentration (0) = 1$$ \n",
    "Dieser Wert liegt bereits auf einer Punktattraktion und daher wird die Lactosekonzentration sich nicht ändern.\n",
    "$$Lactosekonzentration (0) = 2$$ \n",
    "Bei dieser Lactosekonzentration ist der Wert von der Kurve für die Verringerung höher als der für den Import. Das heißt es wird mehr Lactose verbraucht als importiert, somit sinkt die Lactosekonzentration und die $Lactosekonzentration(t)$ wandert zu der Punktattraktion 1.\n",
    "$$Lactosekonzentration (0) = 2.5$$\n",
    "Dieser Wert liegt bereits auf einer Punktattraktion und daher wird die Lactosekonzentration sich nicht ändern. \n",
    "$$Lactosekonzentration (0) = 3$$\n",
    "Bei dieser Lactosekonzentration ist der Wert von der Kurve für den Import höher als der für den Verbrauch. Das heißt es wird mehr Lactose importiert als verbraucht, somit steigt die Lactosekonzentration und die $Lactosekonzentration(t)$ wandert zu der Punktattraktion 7,3.\n",
    "$$Lactosekonzentration (0) = 10$$\n",
    "Bei dieser Lactosekonzentration ist der Wert von der Kurve für den Verbrauch höher als der für den Import. Das heißt es  wird mehr Lactose verbraucht als importiert, somit sinkt die Lactosekonzentration und die $Lactosekonzentration(t)$ wandert zu der Punktattraktion 7.3.\n",
    "\n",
    "Das heißt die Punktattraktion 1 ist stabil, da höhere Werte sich zu diesem Wert hinbewegen (bis die nächste Punktattraktion erreicht wird).\n",
    "Die Punktattraktion 2.5 ist instabil, da höhere Werte zur nächsten Punktattraktion, 7.3, wandern und niedrigere zur vorherigen Punktattraktion, 0. Nur wenn die $Lactosekonzentration(0) = 2.5$ kommt es zu diesem Punkt.\n",
    "\n",
    "Aufgabe 4.8: <br>\n",
    "Kopieren sie den obenstehenden Code Block und fügen sie diesen in den folgenden Code Block ein. \n"
   ]
  },
  {
   "cell_type": "code",
   "execution_count": null,
   "metadata": {
    "dotnet_interactive": {
     "language": "fsharp"
    },
    "vscode": {
     "languageId": "dotnet-interactive.fsharp"
    }
   },
   "outputs": [],
   "source": [
    "//Code block einfügen"
   ]
  },
  {
   "cell_type": "markdown",
   "metadata": {},
   "source": [
    "Varrieren sie die Werte für die Abbaukonsante $\\gamma$. Bestimmen sie die Punktattraktionen und ob diese stabil oder instabil sind. Notieren sie die Werte im nachfolgennden Block. Varrieren sie $\\gamma$ von 0.7 bis 1.5 in 0.1 schritten (also 0.7,0.8.0.9,...)."
   ]
  },
  {
   "cell_type": "markdown",
   "metadata": {},
   "source": [
    "Notieren sie hier die Werte\n"
   ]
  },
  {
   "cell_type": "markdown",
   "metadata": {},
   "source": [
    "Aufgabe 4.9: <br>\n",
    "Setzen sie jetzt die Werte in den nachfolgenden Code Block ein und führen sie diesen anschliesend aus.\n",
    "Beachten sie dabei das folgende: <br>\n",
    "x Werte sind die Werte die sie für die Abbaukonstante $\\gamma$ haben, y Werte sind die von ihnen notierten Punktattraktionen. \n",
    "Beachten sie außerdem das sie die Werte sinnvoll anordnen müßen um anschliesend ein aussagekräftiges Diagramm zu erhalten (Tipp: Der Kurvenverlauf folget der Ordnung in der sie Werte eingeben haben)."
   ]
  },
  {
   "cell_type": "code",
   "execution_count": null,
   "metadata": {
    "dotnet_interactive": {
     "language": "fsharp"
    },
    "vscode": {
     "languageId": "dotnet-interactive.fsharp"
    }
   },
   "outputs": [
    {
     "data": {
      "text/html": [
       "\n",
       "<div>\n",
       "    <div id=\"8a552cc3-ca44-4d96-be96-1b977ab8ae51\"><!-- Plotly chart will be drawn inside this DIV --></div>\r\n",
       "<script type=\"text/javascript\">\r\n",
       "\r\n",
       "            var renderPlotly_8a552cc3ca444d96be961b977ab8ae51 = function() {\r\n",
       "            var fsharpPlotlyRequire = requirejs.config({context:'fsharp-plotly',paths:{plotly:'https://cdn.plot.ly/plotly-2.6.3.min'}}) || require;\r\n",
       "            fsharpPlotlyRequire(['plotly'], function(Plotly) {\r\n",
       "\r\n",
       "            var data = [{\"type\":\"scatter\",\"mode\":\"lines\",\"x\":[0.7,0.8,0.9,1.0,1.1,0.9,1.0,1.1,0.9,1.0,1.1,1.2],\"y\":[7.0,7.0,7.0,7.0,7.0,2.5,2.5,2.5,1.0,1.0,1.0,1.0],\"marker\":{},\"line\":{\"shape\":\"spline\"}}];\r\n",
       "            var layout = {\"width\":600,\"height\":600,\"template\":{\"layout\":{\"title\":{\"x\":0.05},\"font\":{\"color\":\"rgba(42, 63, 95, 1.0)\"},\"paper_bgcolor\":\"rgba(255, 255, 255, 1.0)\",\"plot_bgcolor\":\"rgba(229, 236, 246, 1.0)\",\"autotypenumbers\":\"strict\",\"colorscale\":{\"diverging\":[[0.0,\"#8e0152\"],[0.1,\"#c51b7d\"],[0.2,\"#de77ae\"],[0.3,\"#f1b6da\"],[0.4,\"#fde0ef\"],[0.5,\"#f7f7f7\"],[0.6,\"#e6f5d0\"],[0.7,\"#b8e186\"],[0.8,\"#7fbc41\"],[0.9,\"#4d9221\"],[1.0,\"#276419\"]],\"sequential\":[[0.0,\"#0d0887\"],[0.1111111111111111,\"#46039f\"],[0.2222222222222222,\"#7201a8\"],[0.3333333333333333,\"#9c179e\"],[0.4444444444444444,\"#bd3786\"],[0.5555555555555556,\"#d8576b\"],[0.6666666666666666,\"#ed7953\"],[0.7777777777777778,\"#fb9f3a\"],[0.8888888888888888,\"#fdca26\"],[1.0,\"#f0f921\"]],\"sequentialminus\":[[0.0,\"#0d0887\"],[0.1111111111111111,\"#46039f\"],[0.2222222222222222,\"#7201a8\"],[0.3333333333333333,\"#9c179e\"],[0.4444444444444444,\"#bd3786\"],[0.5555555555555556,\"#d8576b\"],[0.6666666666666666,\"#ed7953\"],[0.7777777777777778,\"#fb9f3a\"],[0.8888888888888888,\"#fdca26\"],[1.0,\"#f0f921\"]]},\"hovermode\":\"closest\",\"hoverlabel\":{\"align\":\"left\"},\"coloraxis\":{\"colorbar\":{\"outlinewidth\":0.0,\"ticks\":\"\"}},\"geo\":{\"showland\":true,\"landcolor\":\"rgba(229, 236, 246, 1.0)\",\"showlakes\":true,\"lakecolor\":\"rgba(255, 255, 255, 1.0)\",\"subunitcolor\":\"rgba(255, 255, 255, 1.0)\",\"bgcolor\":\"rgba(255, 255, 255, 1.0)\"},\"mapbox\":{\"style\":\"light\"},\"polar\":{\"bgcolor\":\"rgba(229, 236, 246, 1.0)\",\"radialaxis\":{\"linecolor\":\"rgba(255, 255, 255, 1.0)\",\"gridcolor\":\"rgba(255, 255, 255, 1.0)\",\"ticks\":\"\"},\"angularaxis\":{\"linecolor\":\"rgba(255, 255, 255, 1.0)\",\"gridcolor\":\"rgba(255, 255, 255, 1.0)\",\"ticks\":\"\"}},\"scene\":{\"xaxis\":{\"ticks\":\"\",\"linecolor\":\"rgba(255, 255, 255, 1.0)\",\"gridcolor\":\"rgba(255, 255, 255, 1.0)\",\"gridwidth\":2.0,\"zerolinecolor\":\"rgba(255, 255, 255, 1.0)\",\"backgroundcolor\":\"rgba(229, 236, 246, 1.0)\",\"showbackground\":true},\"yaxis\":{\"ticks\":\"\",\"linecolor\":\"rgba(255, 255, 255, 1.0)\",\"gridcolor\":\"rgba(255, 255, 255, 1.0)\",\"gridwidth\":2.0,\"zerolinecolor\":\"rgba(255, 255, 255, 1.0)\",\"backgroundcolor\":\"rgba(229, 236, 246, 1.0)\",\"showbackground\":true},\"zaxis\":{\"ticks\":\"\",\"linecolor\":\"rgba(255, 255, 255, 1.0)\",\"gridcolor\":\"rgba(255, 255, 255, 1.0)\",\"gridwidth\":2.0,\"zerolinecolor\":\"rgba(255, 255, 255, 1.0)\",\"backgroundcolor\":\"rgba(229, 236, 246, 1.0)\",\"showbackground\":true}},\"ternary\":{\"aaxis\":{\"ticks\":\"\",\"linecolor\":\"rgba(255, 255, 255, 1.0)\",\"gridcolor\":\"rgba(255, 255, 255, 1.0)\"},\"baxis\":{\"ticks\":\"\",\"linecolor\":\"rgba(255, 255, 255, 1.0)\",\"gridcolor\":\"rgba(255, 255, 255, 1.0)\"},\"caxis\":{\"ticks\":\"\",\"linecolor\":\"rgba(255, 255, 255, 1.0)\",\"gridcolor\":\"rgba(255, 255, 255, 1.0)\"},\"bgcolor\":\"rgba(229, 236, 246, 1.0)\"},\"xaxis\":{\"title\":{\"standoff\":15},\"ticks\":\"\",\"automargin\":true,\"linecolor\":\"rgba(255, 255, 255, 1.0)\",\"gridcolor\":\"rgba(255, 255, 255, 1.0)\",\"zerolinecolor\":\"rgba(255, 255, 255, 1.0)\",\"zerolinewidth\":2.0},\"yaxis\":{\"title\":{\"standoff\":15},\"ticks\":\"\",\"automargin\":true,\"linecolor\":\"rgba(255, 255, 255, 1.0)\",\"gridcolor\":\"rgba(255, 255, 255, 1.0)\",\"zerolinecolor\":\"rgba(255, 255, 255, 1.0)\",\"zerolinewidth\":2.0},\"annotationdefaults\":{\"arrowcolor\":\"#2a3f5f\",\"arrowhead\":0,\"arrowwidth\":1},\"shapedefaults\":{\"line\":{\"color\":\"rgba(42, 63, 95, 1.0)\"}},\"colorway\":[\"rgba(99, 110, 250, 1.0)\",\"rgba(239, 85, 59, 1.0)\",\"rgba(0, 204, 150, 1.0)\",\"rgba(171, 99, 250, 1.0)\",\"rgba(255, 161, 90, 1.0)\",\"rgba(25, 211, 243, 1.0)\",\"rgba(255, 102, 146, 1.0)\",\"rgba(182, 232, 128, 1.0)\",\"rgba(255, 151, 255, 1.0)\",\"rgba(254, 203, 82, 1.0)\"]},\"data\":{\"bar\":[{\"marker\":{\"line\":{\"color\":\"rgba(229, 236, 246, 1.0)\",\"width\":0.5},\"pattern\":{\"fillmode\":\"overlay\",\"size\":10,\"solidity\":0.2}},\"error_x\":{\"color\":\"rgba(42, 63, 95, 1.0)\"},\"error_y\":{\"color\":\"rgba(42, 63, 95, 1.0)\"}}],\"barpolar\":[{\"marker\":{\"line\":{\"color\":\"rgba(229, 236, 246, 1.0)\",\"width\":0.5},\"pattern\":{\"fillmode\":\"overlay\",\"size\":10,\"solidity\":0.2}}}],\"carpet\":[{\"aaxis\":{\"linecolor\":\"rgba(255, 255, 255, 1.0)\",\"gridcolor\":\"rgba(255, 255, 255, 1.0)\",\"endlinecolor\":\"rgba(42, 63, 95, 1.0)\",\"minorgridcolor\":\"rgba(255, 255, 255, 1.0)\",\"startlinecolor\":\"rgba(42, 63, 95, 1.0)\"},\"baxis\":{\"linecolor\":\"rgba(255, 255, 255, 1.0)\",\"gridcolor\":\"rgba(255, 255, 255, 1.0)\",\"endlinecolor\":\"rgba(42, 63, 95, 1.0)\",\"minorgridcolor\":\"rgba(255, 255, 255, 1.0)\",\"startlinecolor\":\"rgba(42, 63, 95, 1.0)\"}}],\"choropleth\":[{\"colorbar\":{\"outlinewidth\":0.0,\"ticks\":\"\"},\"colorscale\":[[0.0,\"#0d0887\"],[0.1111111111111111,\"#46039f\"],[0.2222222222222222,\"#7201a8\"],[0.3333333333333333,\"#9c179e\"],[0.4444444444444444,\"#bd3786\"],[0.5555555555555556,\"#d8576b\"],[0.6666666666666666,\"#ed7953\"],[0.7777777777777778,\"#fb9f3a\"],[0.8888888888888888,\"#fdca26\"],[1.0,\"#f0f921\"]]}],\"contour\":[{\"colorbar\":{\"outlinewidth\":0.0,\"ticks\":\"\"},\"colorscale\":[[0.0,\"#0d0887\"],[0.1111111111111111,\"#46039f\"],[0.2222222222222222,\"#7201a8\"],[0.3333333333333333,\"#9c179e\"],[0.4444444444444444,\"#bd3786\"],[0.5555555555555556,\"#d8576b\"],[0.6666666666666666,\"#ed7953\"],[0.7777777777777778,\"#fb9f3a\"],[0.8888888888888888,\"#fdca26\"],[1.0,\"#f0f921\"]]}],\"contourcarpet\":[{\"colorbar\":{\"outlinewidth\":0.0,\"ticks\":\"\"}}],\"heatmap\":[{\"colorbar\":{\"outlinewidth\":0.0,\"ticks\":\"\"},\"colorscale\":[[0.0,\"#0d0887\"],[0.1111111111111111,\"#46039f\"],[0.2222222222222222,\"#7201a8\"],[0.3333333333333333,\"#9c179e\"],[0.4444444444444444,\"#bd3786\"],[0.5555555555555556,\"#d8576b\"],[0.6666666666666666,\"#ed7953\"],[0.7777777777777778,\"#fb9f3a\"],[0.8888888888888888,\"#fdca26\"],[1.0,\"#f0f921\"]]}],\"heatmapgl\":[{\"colorbar\":{\"outlinewidth\":0.0,\"ticks\":\"\"},\"colorscale\":[[0.0,\"#0d0887\"],[0.1111111111111111,\"#46039f\"],[0.2222222222222222,\"#7201a8\"],[0.3333333333333333,\"#9c179e\"],[0.4444444444444444,\"#bd3786\"],[0.5555555555555556,\"#d8576b\"],[0.6666666666666666,\"#ed7953\"],[0.7777777777777778,\"#fb9f3a\"],[0.8888888888888888,\"#fdca26\"],[1.0,\"#f0f921\"]]}],\"histogram\":[{\"marker\":{\"pattern\":{\"fillmode\":\"overlay\",\"size\":10,\"solidity\":0.2}}}],\"histogram2d\":[{\"colorbar\":{\"outlinewidth\":0.0,\"ticks\":\"\"},\"colorscale\":[[0.0,\"#0d0887\"],[0.1111111111111111,\"#46039f\"],[0.2222222222222222,\"#7201a8\"],[0.3333333333333333,\"#9c179e\"],[0.4444444444444444,\"#bd3786\"],[0.5555555555555556,\"#d8576b\"],[0.6666666666666666,\"#ed7953\"],[0.7777777777777778,\"#fb9f3a\"],[0.8888888888888888,\"#fdca26\"],[1.0,\"#f0f921\"]]}],\"histogram2dcontour\":[{\"colorbar\":{\"outlinewidth\":0.0,\"ticks\":\"\"},\"colorscale\":[[0.0,\"#0d0887\"],[0.1111111111111111,\"#46039f\"],[0.2222222222222222,\"#7201a8\"],[0.3333333333333333,\"#9c179e\"],[0.4444444444444444,\"#bd3786\"],[0.5555555555555556,\"#d8576b\"],[0.6666666666666666,\"#ed7953\"],[0.7777777777777778,\"#fb9f3a\"],[0.8888888888888888,\"#fdca26\"],[1.0,\"#f0f921\"]]}],\"mesh3d\":[{\"colorbar\":{\"outlinewidth\":0.0,\"ticks\":\"\"}}],\"parcoords\":[{\"line\":{\"colorbar\":{\"outlinewidth\":0.0,\"ticks\":\"\"}}}],\"pie\":[{\"automargin\":true}],\"scatter\":[{\"marker\":{\"colorbar\":{\"outlinewidth\":0.0,\"ticks\":\"\"}}}],\"scatter3d\":[{\"marker\":{\"colorbar\":{\"outlinewidth\":0.0,\"ticks\":\"\"}},\"line\":{\"colorbar\":{\"outlinewidth\":0.0,\"ticks\":\"\"}}}],\"scattercarpet\":[{\"marker\":{\"colorbar\":{\"outlinewidth\":0.0,\"ticks\":\"\"}}}],\"scattergeo\":[{\"marker\":{\"colorbar\":{\"outlinewidth\":0.0,\"ticks\":\"\"}}}],\"scattergl\":[{\"marker\":{\"colorbar\":{\"outlinewidth\":0.0,\"ticks\":\"\"}}}],\"scattermapbox\":[{\"marker\":{\"colorbar\":{\"outlinewidth\":0.0,\"ticks\":\"\"}}}],\"scatterpolar\":[{\"marker\":{\"colorbar\":{\"outlinewidth\":0.0,\"ticks\":\"\"}}}],\"scatterpolargl\":[{\"marker\":{\"colorbar\":{\"outlinewidth\":0.0,\"ticks\":\"\"}}}],\"scatterternary\":[{\"marker\":{\"colorbar\":{\"outlinewidth\":0.0,\"ticks\":\"\"}}}],\"surface\":[{\"colorbar\":{\"outlinewidth\":0.0,\"ticks\":\"\"},\"colorscale\":[[0.0,\"#0d0887\"],[0.1111111111111111,\"#46039f\"],[0.2222222222222222,\"#7201a8\"],[0.3333333333333333,\"#9c179e\"],[0.4444444444444444,\"#bd3786\"],[0.5555555555555556,\"#d8576b\"],[0.6666666666666666,\"#ed7953\"],[0.7777777777777778,\"#fb9f3a\"],[0.8888888888888888,\"#fdca26\"],[1.0,\"#f0f921\"]]}],\"table\":[{\"cells\":{\"fill\":{\"color\":\"rgba(235, 240, 248, 1.0)\"},\"line\":{\"color\":\"rgba(255, 255, 255, 1.0)\"}},\"header\":{\"fill\":{\"color\":\"rgba(200, 212, 227, 1.0)\"},\"line\":{\"color\":\"rgba(255, 255, 255, 1.0)\"}}}]}}};\r\n",
       "            var config = {\"responsive\":true};\r\n",
       "            Plotly.newPlot('8a552cc3-ca44-4d96-be96-1b977ab8ae51', data, layout, config);\r\n",
       "});\r\n",
       "            };\r\n",
       "            if ((typeof(requirejs) !==  typeof(Function)) || (typeof(requirejs.config) !== typeof(Function))) {\r\n",
       "                var script = document.createElement(\"script\");\r\n",
       "                script.setAttribute(\"src\", \"https://cdnjs.cloudflare.com/ajax/libs/require.js/2.3.6/require.min.js\");\r\n",
       "                script.onload = function(){\r\n",
       "                    renderPlotly_8a552cc3ca444d96be961b977ab8ae51();\r\n",
       "                };\r\n",
       "                document.getElementsByTagName(\"head\")[0].appendChild(script);\r\n",
       "            }\r\n",
       "            else {\r\n",
       "                renderPlotly_8a552cc3ca444d96be961b977ab8ae51();\r\n",
       "            }\r\n",
       "</script>\r\n",
       "\n",
       "    \n",
       "</div>    \n"
      ]
     },
     "metadata": {},
     "output_type": "display_data"
    }
   ],
   "source": [
    "let x = [0.7; 0.8; 0.9; 1.0; 1.1;0.9; 1.0; 1.1; 0.9; 1.0; 1.1; 1.2]\n",
    "let y = [7. ; 7. ; 7. ;7. ; 7.  ; 2.5; 2.5; 2.5 ; 1. ; 1.; 1. ; 1.  ]\n",
    "\n",
    "Chart.Spline (x, y)\n",
    "\n"
   ]
  },
  {
   "cell_type": "markdown",
   "metadata": {},
   "source": [
    "Dieser Graph ist ein sogenanntes **Bifurkationsdiagramm**. **Bifurkation** beschreibt die qualitative Änderung des Zustandes eines Systems, das durch nicht lineare Gleichungen beschrieben wird, in Abhängigkeit der Veränderung eines Parameters der Teil der beschreibenden Gleichung ist. In diesem Fall haben sie den Parameter $\\gamma$ verändert und es kam zu einer sogenannten **Saddle-Node Bifurkation**. Bei dieser Bifurkation verliert ein System zwei Punktattraktionen wenn der Bifurkationsparameter einen bestimmten Wert erreicht. Dabei wandern die beiden Punktattraktionen aufeinander zu, wenn sich der Bifurkationsparameter diesen Wert nähert und voneinander weg wenn er sich von diesem Wert entfernt. Das heißt das System wechselt zwischen den beiden Konformationen **bistabil** und **monostabil**, weshalb von einer qualitativen Änderung gesprochen wird."
   ]
  },
  {
   "cell_type": "markdown",
   "metadata": {},
   "source": [
    "Es folgt eine kurze Besprechung. Falls Sie schnell vorangekommen sind, können sie bis zur Besprechung folgende Aufgaben lösen.<br>\n",
    "\n",
    "Expertenaufgabe 4.1: \n",
    "\n",
    "Stellen sie die Differenzialgleichung für ein Model auf das neben der intrazellulären Lactosekonzentration auch die Konzentration von $\\beta -\\textrm {Galactosid-Permease}$ umfasst.<br>\n",
    "Fügen sie die Gleichungen in die nachfolgende Simulation ein (beachten sie das die Gleichung für die Lactosekonzentration die Konstanten \"alpha1\", \"beta1\", und \"gamma1\", ohne \"\", hat und die Gleichung für die Konzentration von $\\beta -\\textrm {Galactosid-Permease}$ die Konstanten \"alpha2\", \"beta2\", und \"gamma2\", ohne\"\". Die Konzentration von $\\beta -\\textrm {Galactosid-Permease}$ soll \"perm\", ohne \"\", genannt werden. )."
   ]
  },
  {
   "cell_type": "code",
   "execution_count": null,
   "metadata": {
    "vscode": {
     "languageId": "dotnet-interactive.fsharp"
    }
   },
   "outputs": [
    {
     "data": {
      "text/html": [
       "\n",
       "<div>\n",
       "    <div id=\"86085a92-80c7-4bb8-8545-280e1f2a414d\"><!-- Plotly chart will be drawn inside this DIV --></div>\r\n",
       "<script type=\"text/javascript\">\r\n",
       "\r\n",
       "            var renderPlotly_86085a9280c74bb88545280e1f2a414d = function() {\r\n",
       "            var fsharpPlotlyRequire = requirejs.config({context:'fsharp-plotly',paths:{plotly:'https://cdn.plot.ly/plotly-2.6.3.min'}}) || require;\r\n",
       "            fsharpPlotlyRequire(['plotly'], function(Plotly) {\r\n",
       "\r\n",
       "            var data = [{\"type\":\"scatter\",\"mode\":\"lines\",\"x\":[0.0,0.7926732333241069,1.490678071390128,2.212438001638085,3.1198894622384294,4.1903114703129285,5.287408495047005,6.43163117949292,7.660695182487807,8.997426605181754,10.539092758018517,11.824046079963535,12.94340609516845,13.987145890334155,15.027631846241691],\"y\":[0.0,0.28425444999019045,0.4369602793601368,0.5620010463816565,0.7042919373168715,0.8708514262400979,1.0568820977155842,1.2933416232151904,1.6534454000592784,2.334703139807276,3.983954543743302,6.053324963344762,7.572644797396418,8.475710094567802,8.997516192338194],\"marker\":{},\"line\":{\"shape\":\"spline\"},\"name\":\"Lactose\"},{\"type\":\"scatter\",\"mode\":\"lines\",\"x\":[0.0,0.7926732333241069,1.490678071390128,2.212438001638085,3.1198894622384294,4.1903114703129285,5.287408495047005,6.43163117949292,7.660695182487807,8.997426605181754,10.539092758018517,11.824046079963535,12.94340609516845,13.987145890334155,15.027631846241691],\"y\":[0.0,0.3361812503551675,0.5641197710039557,0.7575827600835271,0.9637142569717132,1.1834963590252214,1.4131854354730957,1.6948563963960424,2.116523766683493,2.915679876110606,4.952353008757916,7.896332309006342,10.565835588034364,12.562199174108803,13.998545142330604],\"marker\":{},\"line\":{\"shape\":\"spline\"},\"name\":\"Permease\"}];\r\n",
       "            var layout = {\"width\":600,\"height\":600,\"template\":{\"layout\":{\"title\":{\"x\":0.05},\"font\":{\"color\":\"rgba(42, 63, 95, 1.0)\"},\"paper_bgcolor\":\"rgba(255, 255, 255, 1.0)\",\"plot_bgcolor\":\"rgba(229, 236, 246, 1.0)\",\"autotypenumbers\":\"strict\",\"colorscale\":{\"diverging\":[[0.0,\"#8e0152\"],[0.1,\"#c51b7d\"],[0.2,\"#de77ae\"],[0.3,\"#f1b6da\"],[0.4,\"#fde0ef\"],[0.5,\"#f7f7f7\"],[0.6,\"#e6f5d0\"],[0.7,\"#b8e186\"],[0.8,\"#7fbc41\"],[0.9,\"#4d9221\"],[1.0,\"#276419\"]],\"sequential\":[[0.0,\"#0d0887\"],[0.1111111111111111,\"#46039f\"],[0.2222222222222222,\"#7201a8\"],[0.3333333333333333,\"#9c179e\"],[0.4444444444444444,\"#bd3786\"],[0.5555555555555556,\"#d8576b\"],[0.6666666666666666,\"#ed7953\"],[0.7777777777777778,\"#fb9f3a\"],[0.8888888888888888,\"#fdca26\"],[1.0,\"#f0f921\"]],\"sequentialminus\":[[0.0,\"#0d0887\"],[0.1111111111111111,\"#46039f\"],[0.2222222222222222,\"#7201a8\"],[0.3333333333333333,\"#9c179e\"],[0.4444444444444444,\"#bd3786\"],[0.5555555555555556,\"#d8576b\"],[0.6666666666666666,\"#ed7953\"],[0.7777777777777778,\"#fb9f3a\"],[0.8888888888888888,\"#fdca26\"],[1.0,\"#f0f921\"]]},\"hovermode\":\"closest\",\"hoverlabel\":{\"align\":\"left\"},\"coloraxis\":{\"colorbar\":{\"outlinewidth\":0.0,\"ticks\":\"\"}},\"geo\":{\"showland\":true,\"landcolor\":\"rgba(229, 236, 246, 1.0)\",\"showlakes\":true,\"lakecolor\":\"rgba(255, 255, 255, 1.0)\",\"subunitcolor\":\"rgba(255, 255, 255, 1.0)\",\"bgcolor\":\"rgba(255, 255, 255, 1.0)\"},\"mapbox\":{\"style\":\"light\"},\"polar\":{\"bgcolor\":\"rgba(229, 236, 246, 1.0)\",\"radialaxis\":{\"linecolor\":\"rgba(255, 255, 255, 1.0)\",\"gridcolor\":\"rgba(255, 255, 255, 1.0)\",\"ticks\":\"\"},\"angularaxis\":{\"linecolor\":\"rgba(255, 255, 255, 1.0)\",\"gridcolor\":\"rgba(255, 255, 255, 1.0)\",\"ticks\":\"\"}},\"scene\":{\"xaxis\":{\"ticks\":\"\",\"linecolor\":\"rgba(255, 255, 255, 1.0)\",\"gridcolor\":\"rgba(255, 255, 255, 1.0)\",\"gridwidth\":2.0,\"zerolinecolor\":\"rgba(255, 255, 255, 1.0)\",\"backgroundcolor\":\"rgba(229, 236, 246, 1.0)\",\"showbackground\":true},\"yaxis\":{\"ticks\":\"\",\"linecolor\":\"rgba(255, 255, 255, 1.0)\",\"gridcolor\":\"rgba(255, 255, 255, 1.0)\",\"gridwidth\":2.0,\"zerolinecolor\":\"rgba(255, 255, 255, 1.0)\",\"backgroundcolor\":\"rgba(229, 236, 246, 1.0)\",\"showbackground\":true},\"zaxis\":{\"ticks\":\"\",\"linecolor\":\"rgba(255, 255, 255, 1.0)\",\"gridcolor\":\"rgba(255, 255, 255, 1.0)\",\"gridwidth\":2.0,\"zerolinecolor\":\"rgba(255, 255, 255, 1.0)\",\"backgroundcolor\":\"rgba(229, 236, 246, 1.0)\",\"showbackground\":true}},\"ternary\":{\"aaxis\":{\"ticks\":\"\",\"linecolor\":\"rgba(255, 255, 255, 1.0)\",\"gridcolor\":\"rgba(255, 255, 255, 1.0)\"},\"baxis\":{\"ticks\":\"\",\"linecolor\":\"rgba(255, 255, 255, 1.0)\",\"gridcolor\":\"rgba(255, 255, 255, 1.0)\"},\"caxis\":{\"ticks\":\"\",\"linecolor\":\"rgba(255, 255, 255, 1.0)\",\"gridcolor\":\"rgba(255, 255, 255, 1.0)\"},\"bgcolor\":\"rgba(229, 236, 246, 1.0)\"},\"xaxis\":{\"title\":{\"standoff\":15},\"ticks\":\"\",\"automargin\":true,\"linecolor\":\"rgba(255, 255, 255, 1.0)\",\"gridcolor\":\"rgba(255, 255, 255, 1.0)\",\"zerolinecolor\":\"rgba(255, 255, 255, 1.0)\",\"zerolinewidth\":2.0},\"yaxis\":{\"title\":{\"standoff\":15},\"ticks\":\"\",\"automargin\":true,\"linecolor\":\"rgba(255, 255, 255, 1.0)\",\"gridcolor\":\"rgba(255, 255, 255, 1.0)\",\"zerolinecolor\":\"rgba(255, 255, 255, 1.0)\",\"zerolinewidth\":2.0},\"annotationdefaults\":{\"arrowcolor\":\"#2a3f5f\",\"arrowhead\":0,\"arrowwidth\":1},\"shapedefaults\":{\"line\":{\"color\":\"rgba(42, 63, 95, 1.0)\"}},\"colorway\":[\"rgba(99, 110, 250, 1.0)\",\"rgba(239, 85, 59, 1.0)\",\"rgba(0, 204, 150, 1.0)\",\"rgba(171, 99, 250, 1.0)\",\"rgba(255, 161, 90, 1.0)\",\"rgba(25, 211, 243, 1.0)\",\"rgba(255, 102, 146, 1.0)\",\"rgba(182, 232, 128, 1.0)\",\"rgba(255, 151, 255, 1.0)\",\"rgba(254, 203, 82, 1.0)\"]},\"data\":{\"bar\":[{\"marker\":{\"line\":{\"color\":\"rgba(229, 236, 246, 1.0)\",\"width\":0.5},\"pattern\":{\"fillmode\":\"overlay\",\"size\":10,\"solidity\":0.2}},\"error_x\":{\"color\":\"rgba(42, 63, 95, 1.0)\"},\"error_y\":{\"color\":\"rgba(42, 63, 95, 1.0)\"}}],\"barpolar\":[{\"marker\":{\"line\":{\"color\":\"rgba(229, 236, 246, 1.0)\",\"width\":0.5},\"pattern\":{\"fillmode\":\"overlay\",\"size\":10,\"solidity\":0.2}}}],\"carpet\":[{\"aaxis\":{\"linecolor\":\"rgba(255, 255, 255, 1.0)\",\"gridcolor\":\"rgba(255, 255, 255, 1.0)\",\"endlinecolor\":\"rgba(42, 63, 95, 1.0)\",\"minorgridcolor\":\"rgba(255, 255, 255, 1.0)\",\"startlinecolor\":\"rgba(42, 63, 95, 1.0)\"},\"baxis\":{\"linecolor\":\"rgba(255, 255, 255, 1.0)\",\"gridcolor\":\"rgba(255, 255, 255, 1.0)\",\"endlinecolor\":\"rgba(42, 63, 95, 1.0)\",\"minorgridcolor\":\"rgba(255, 255, 255, 1.0)\",\"startlinecolor\":\"rgba(42, 63, 95, 1.0)\"}}],\"choropleth\":[{\"colorbar\":{\"outlinewidth\":0.0,\"ticks\":\"\"},\"colorscale\":[[0.0,\"#0d0887\"],[0.1111111111111111,\"#46039f\"],[0.2222222222222222,\"#7201a8\"],[0.3333333333333333,\"#9c179e\"],[0.4444444444444444,\"#bd3786\"],[0.5555555555555556,\"#d8576b\"],[0.6666666666666666,\"#ed7953\"],[0.7777777777777778,\"#fb9f3a\"],[0.8888888888888888,\"#fdca26\"],[1.0,\"#f0f921\"]]}],\"contour\":[{\"colorbar\":{\"outlinewidth\":0.0,\"ticks\":\"\"},\"colorscale\":[[0.0,\"#0d0887\"],[0.1111111111111111,\"#46039f\"],[0.2222222222222222,\"#7201a8\"],[0.3333333333333333,\"#9c179e\"],[0.4444444444444444,\"#bd3786\"],[0.5555555555555556,\"#d8576b\"],[0.6666666666666666,\"#ed7953\"],[0.7777777777777778,\"#fb9f3a\"],[0.8888888888888888,\"#fdca26\"],[1.0,\"#f0f921\"]]}],\"contourcarpet\":[{\"colorbar\":{\"outlinewidth\":0.0,\"ticks\":\"\"}}],\"heatmap\":[{\"colorbar\":{\"outlinewidth\":0.0,\"ticks\":\"\"},\"colorscale\":[[0.0,\"#0d0887\"],[0.1111111111111111,\"#46039f\"],[0.2222222222222222,\"#7201a8\"],[0.3333333333333333,\"#9c179e\"],[0.4444444444444444,\"#bd3786\"],[0.5555555555555556,\"#d8576b\"],[0.6666666666666666,\"#ed7953\"],[0.7777777777777778,\"#fb9f3a\"],[0.8888888888888888,\"#fdca26\"],[1.0,\"#f0f921\"]]}],\"heatmapgl\":[{\"colorbar\":{\"outlinewidth\":0.0,\"ticks\":\"\"},\"colorscale\":[[0.0,\"#0d0887\"],[0.1111111111111111,\"#46039f\"],[0.2222222222222222,\"#7201a8\"],[0.3333333333333333,\"#9c179e\"],[0.4444444444444444,\"#bd3786\"],[0.5555555555555556,\"#d8576b\"],[0.6666666666666666,\"#ed7953\"],[0.7777777777777778,\"#fb9f3a\"],[0.8888888888888888,\"#fdca26\"],[1.0,\"#f0f921\"]]}],\"histogram\":[{\"marker\":{\"pattern\":{\"fillmode\":\"overlay\",\"size\":10,\"solidity\":0.2}}}],\"histogram2d\":[{\"colorbar\":{\"outlinewidth\":0.0,\"ticks\":\"\"},\"colorscale\":[[0.0,\"#0d0887\"],[0.1111111111111111,\"#46039f\"],[0.2222222222222222,\"#7201a8\"],[0.3333333333333333,\"#9c179e\"],[0.4444444444444444,\"#bd3786\"],[0.5555555555555556,\"#d8576b\"],[0.6666666666666666,\"#ed7953\"],[0.7777777777777778,\"#fb9f3a\"],[0.8888888888888888,\"#fdca26\"],[1.0,\"#f0f921\"]]}],\"histogram2dcontour\":[{\"colorbar\":{\"outlinewidth\":0.0,\"ticks\":\"\"},\"colorscale\":[[0.0,\"#0d0887\"],[0.1111111111111111,\"#46039f\"],[0.2222222222222222,\"#7201a8\"],[0.3333333333333333,\"#9c179e\"],[0.4444444444444444,\"#bd3786\"],[0.5555555555555556,\"#d8576b\"],[0.6666666666666666,\"#ed7953\"],[0.7777777777777778,\"#fb9f3a\"],[0.8888888888888888,\"#fdca26\"],[1.0,\"#f0f921\"]]}],\"mesh3d\":[{\"colorbar\":{\"outlinewidth\":0.0,\"ticks\":\"\"}}],\"parcoords\":[{\"line\":{\"colorbar\":{\"outlinewidth\":0.0,\"ticks\":\"\"}}}],\"pie\":[{\"automargin\":true}],\"scatter\":[{\"marker\":{\"colorbar\":{\"outlinewidth\":0.0,\"ticks\":\"\"}}}],\"scatter3d\":[{\"marker\":{\"colorbar\":{\"outlinewidth\":0.0,\"ticks\":\"\"}},\"line\":{\"colorbar\":{\"outlinewidth\":0.0,\"ticks\":\"\"}}}],\"scattercarpet\":[{\"marker\":{\"colorbar\":{\"outlinewidth\":0.0,\"ticks\":\"\"}}}],\"scattergeo\":[{\"marker\":{\"colorbar\":{\"outlinewidth\":0.0,\"ticks\":\"\"}}}],\"scattergl\":[{\"marker\":{\"colorbar\":{\"outlinewidth\":0.0,\"ticks\":\"\"}}}],\"scattermapbox\":[{\"marker\":{\"colorbar\":{\"outlinewidth\":0.0,\"ticks\":\"\"}}}],\"scatterpolar\":[{\"marker\":{\"colorbar\":{\"outlinewidth\":0.0,\"ticks\":\"\"}}}],\"scatterpolargl\":[{\"marker\":{\"colorbar\":{\"outlinewidth\":0.0,\"ticks\":\"\"}}}],\"scatterternary\":[{\"marker\":{\"colorbar\":{\"outlinewidth\":0.0,\"ticks\":\"\"}}}],\"surface\":[{\"colorbar\":{\"outlinewidth\":0.0,\"ticks\":\"\"},\"colorscale\":[[0.0,\"#0d0887\"],[0.1111111111111111,\"#46039f\"],[0.2222222222222222,\"#7201a8\"],[0.3333333333333333,\"#9c179e\"],[0.4444444444444444,\"#bd3786\"],[0.5555555555555556,\"#d8576b\"],[0.6666666666666666,\"#ed7953\"],[0.7777777777777778,\"#fb9f3a\"],[0.8888888888888888,\"#fdca26\"],[1.0,\"#f0f921\"]]}],\"table\":[{\"cells\":{\"fill\":{\"color\":\"rgba(235, 240, 248, 1.0)\"},\"line\":{\"color\":\"rgba(255, 255, 255, 1.0)\"}},\"header\":{\"fill\":{\"color\":\"rgba(200, 212, 227, 1.0)\"},\"line\":{\"color\":\"rgba(255, 255, 255, 1.0)\"}}}]}},\"xaxis\":{\"title\":{\"text\":\"Zeit\"}},\"yaxis\":{\"title\":{\"text\":\"Konzentration\"}}};\r\n",
       "            var config = {\"responsive\":true};\r\n",
       "            Plotly.newPlot('86085a92-80c7-4bb8-8545-280e1f2a414d', data, layout, config);\r\n",
       "});\r\n",
       "            };\r\n",
       "            if ((typeof(requirejs) !==  typeof(Function)) || (typeof(requirejs.config) !== typeof(Function))) {\r\n",
       "                var script = document.createElement(\"script\");\r\n",
       "                script.setAttribute(\"src\", \"https://cdnjs.cloudflare.com/ajax/libs/require.js/2.3.6/require.min.js\");\r\n",
       "                script.onload = function(){\r\n",
       "                    renderPlotly_86085a9280c74bb88545280e1f2a414d();\r\n",
       "                };\r\n",
       "                document.getElementsByTagName(\"head\")[0].appendChild(script);\r\n",
       "            }\r\n",
       "            else {\r\n",
       "                renderPlotly_86085a9280c74bb88545280e1f2a414d();\r\n",
       "            }\r\n",
       "</script>\r\n",
       "\n",
       "    \n",
       "</div>    \n"
      ]
     },
     "metadata": {},
     "output_type": "display_data"
    }
   ],
   "source": [
    "//Konstanten\n",
    "let alpha1 =  0.5  // Konstante für die Zunahme der Lactosekonzentration (unreguliert)\n",
    "let beta1  =  10.0 // Konstante für die Zunahme der Lactosekonzentration (reguliert)\n",
    "let gamma1 =  1.0  // Konstante für die Verringerung der Lactosekonzentration\n",
    "let alpha2 =  0.5  // Konstante für die Zunahme der beta-Galactosid-Permease Konzentration (unreguliert)\n",
    "let beta2  =  10.0 // Konstante für die Zunahme der beta-Galactosid-Permease Konzentration (reguliert)\n",
    "let gamma2 =  0.5  // Konstante für die Verringerung der beta-Galactosid-Permease Konzentration\n",
    "let K_d1   =  5.0  // Dissoziationskonstante1\n",
    "let K_d2   =  5.0  // Dissoziationskonstante1\n",
    "\n",
    "// unsere DGL als  Modell (Model)\n",
    "let dP_dt : Model = \n",
    "    fun P t ->\n",
    "\n",
    "        let inlac = P[0] // Änderung in der Lactosekonzentration\n",
    "        let perm  = P[1] // Änderung der beta-Galactosid Permease Konzentration\n",
    "\n",
    "        //Differenzialgleichung die die Änderung in der Lactosekonzentration beschreibt (hier die Gleichung einsetzen)\n",
    "        let inlac' = alpha1 + beta1 * (perm**2.)/((perm**2.) + (K_d**2.)) - (gamma1*inlac)\n",
    "        //Differenzialgleichung die die Änderung in der beta-Galactosid Permease Konzentration beschreibt (hier die Gleichung einsetzen)\n",
    "        let perm' = alpha2 + beta2* (inlac**2.)/((inlac**2.) + (K_d2**2.)) - (gamma2*perm)\n",
    "\n",
    "        [| inlac'; perm' |]\n",
    "\n",
    "//Startkonzentrationen\n",
    "let P0 = [| \n",
    "    0.0\n",
    "    0.0\n",
    "|]\n",
    "\n",
    "// Simulation der Modelfuntkion\n",
    "let Ps = \n",
    "    modelContext.OdeInt(\n",
    "        0., // Startzeitpunkt\n",
    "        P0,\n",
    "        dP_dt\n",
    "    )\n",
    "    |> SolPoints.take 15 // Anzahl der Zeitpunkte\n",
    "    |> SolPoints.memorize \n",
    "\n",
    "//Graphische Darstellung der numerischen Lösung\n",
    "[\n",
    "    let lactose = Ps |> SolPoints.toPoints 1 \n",
    "    lactose |> Chart.Spline \n",
    "    |> Chart.withTraceInfo(\"Lactose\");\n",
    "    let permease = Ps |> SolPoints.toPoints 2 \n",
    "    permease |> Chart.Spline \n",
    "    |> Chart.withTraceInfo(\"Permease\");\n",
    "\n",
    "]\n",
    "\n",
    "|> Chart.combine\n",
    "|> Chart.withXAxisStyle(\"Zeit\")\n",
    "|> Chart.withYAxisStyle(\"Konzentration\")"
   ]
  },
  {
   "cell_type": "markdown",
   "metadata": {},
   "source": [
    "---------\n",
    "### Hill Funktion und Ultrasensitivität\n",
    "\n",
    "Die Umgebung von einer Zelle ändert sich dauerhaft, da sich die Konzentrationen von allen Molekülen um die Zelle dauerhaft ändern. Durch aktiven oder passiven Import der Zelle, oder benachbarter Zellen, durch Export von bestimmten Molekülen, oder durch Diffusion und einige Möglichkeiten zu nennen. Die Zelle muss konstant die Expression von Genen und damit auch die Produktion von Proteinen an diese Veränderungen anpassen. Wie beim lac Operon gezeigt ist dies in vielen Fällen nicht möglich mit den am Vortrag besprochenen Differenzialgleichungen. Dies liegt daran das diesen Prozessen kein linearer Zusammenhang zu Grund liegt, sondern ein **ultrasensitives** Verhalten.\n",
    "Das heißt das ein Prozess nur dann stattfindet wenn ein bestimmter Schwellenwert überschritten wird, während es davor keinen Effekt gibt. Oft ist dieses ultrasensitive Verhalten bedingt durch **Kooperativität**. Beim lac Operon führte dieses ultrasensitves Verhalten dazu das es nur bei hohen Anfangskonzentration zu einem Verstärkten Import von Lactose kam. Allerdings musste dies bewerkstelligt werden durch das Einführen eines Faktors hoch 2. Dieser Faktor beschreibt allerdings nicht alle möglichen Prozesse und ist auch nicht sehr allgemein. Daher wird für die mathematische Beschreibung von solchen Ultrasensitiven Prozessen in der Biologie zumeist die Hillfunktion verwendet. Das Anwenden von dieser auf die bisher besprochenen negative Autoregulation führt zu der folgenden Differenzialgleichung \n",
    "$$ \\frac {dProteinkonzentration} {dt} = \\beta* \\frac {1}{1+ (\\frac {Proteinkonzentration}{K_{D}})^{n}}  - \\gamma*Proteinkonzentration$$\n",
    "\n",
    "die Gleichung für eine ultrasentives Verhalten von einer Proteinproduktion die durch einen Repressor beeinflusst wird ist identisch, nur müssen sie die Proteinkonzentration im Term, der $\\beta$ beeinflusst, durch die Repressorkonzentration ersetzten. Die Differenzialgleichung für positive Autoregulation ist \n",
    "$$ \\frac {dProteinkonzentration} {dt} = \\beta* \\frac {Proteinkonzentration^{n}}{{(K_{D})^{n}} + Proteinkonzentration^{n}} - \\gamma*Proteinkonzentration$$\n",
    "auch hier führt das ersetzten der Proteinkonzentration, im $\\beta$ beeinflussenden Term, mit der Aktivatorkonzentration zu der Gleichung für eine Proteinproduktion die von diesem beeinflusst wird. \n",
    "Der Parameter $n$ ist der Hillkoeffizent und beschreibt wie stark das ultrasensitve Verhalten ist. Ein Wert von 1 beschreibt die bisher besprochenen Verhaltensweisen, während ein Wert von 2 oder höher das ulatrsensitive Verhalten beschreibt. \n",
    "Im nachfolgenden soll überprüft werden, ob die Hill Funktion wirklich so wirkt wie besprochen.\n",
    "\n",
    "Aufgabe 4.10:\n",
    "\n",
    "Setzen sie die Gleichung für positive Autoregulation in die nachfolgende Simulation ein, dabei sollte die positive Autoregulation durch eine Hill Funktion beschrieben werden (Bitte beachten sie, dass sie die Proteinkonzentration als \"Proteinkonznetration2\" einsetzten müssen, ohne \"\". Beachten sie ebenfalls das $\\beta \\textrm{ und } \\gamma$ als \"beta\" und \"gamma\", ohne \"\", eingesetzt werden müssen und nicht als Symbole, und das $K_{D}$ als K_d eingesetzt wird).\n"
   ]
  },
  {
   "cell_type": "code",
   "execution_count": null,
   "metadata": {
    "dotnet_interactive": {
     "language": "fsharp"
    },
    "vscode": {
     "languageId": "dotnet-interactive.fsharp"
    }
   },
   "outputs": [
    {
     "data": {
      "text/html": [
       "\n",
       "<div>\n",
       "    <div id=\"60038082-3b26-439b-83a4-5bbe42323e47\"><!-- Plotly chart will be drawn inside this DIV --></div>\r\n",
       "<script type=\"text/javascript\">\r\n",
       "\r\n",
       "            var renderPlotly_600380823b26439b83a45bbe42323e47 = function() {\r\n",
       "            var fsharpPlotlyRequire = requirejs.config({context:'fsharp-plotly',paths:{plotly:'https://cdn.plot.ly/plotly-2.6.3.min'}}) || require;\r\n",
       "            fsharpPlotlyRequire(['plotly'], function(Plotly) {\r\n",
       "\r\n",
       "            var data = [{\"type\":\"scatter\",\"mode\":\"lines\",\"x\":[0.0,0.7856628194647389,1.4677523343222774,2.140200428251707,2.8783196297251274,3.713146045827365,4.666808620938143,5.766151026754663,7.04859282945031,8.565728422165778],\"y\":[0.0,5.441818349247017,7.695574452961647,8.823692315556546,9.43771161124187,9.755992981929104,9.905971973807508,9.968671476810862,9.991299607113897,9.998079632811486],\"marker\":{},\"line\":{\"shape\":\"spline\"},\"name\":\"Unreguliert\"},{\"type\":\"scatter\",\"mode\":\"lines\",\"x\":[0.0,0.7856628194647389,1.4677523343222774,2.140200428251707,2.8783196297251274,3.713146045827365,4.666808620938143,5.766151026754663,7.04859282945031,8.565728422165778],\"y\":[4.0,4.838882882019207,5.5725525403759955,6.209493776413471,6.763815588904103,7.211411213324171,7.539458791766505,7.756717922535201,7.885903968592316,7.953793682015552],\"marker\":{},\"line\":{\"shape\":\"spline\"},\"name\":\"negative AR\"}];\r\n",
       "            var layout = {\"width\":600,\"height\":600,\"template\":{\"layout\":{\"title\":{\"x\":0.05},\"font\":{\"color\":\"rgba(42, 63, 95, 1.0)\"},\"paper_bgcolor\":\"rgba(255, 255, 255, 1.0)\",\"plot_bgcolor\":\"rgba(229, 236, 246, 1.0)\",\"autotypenumbers\":\"strict\",\"colorscale\":{\"diverging\":[[0.0,\"#8e0152\"],[0.1,\"#c51b7d\"],[0.2,\"#de77ae\"],[0.3,\"#f1b6da\"],[0.4,\"#fde0ef\"],[0.5,\"#f7f7f7\"],[0.6,\"#e6f5d0\"],[0.7,\"#b8e186\"],[0.8,\"#7fbc41\"],[0.9,\"#4d9221\"],[1.0,\"#276419\"]],\"sequential\":[[0.0,\"#0d0887\"],[0.1111111111111111,\"#46039f\"],[0.2222222222222222,\"#7201a8\"],[0.3333333333333333,\"#9c179e\"],[0.4444444444444444,\"#bd3786\"],[0.5555555555555556,\"#d8576b\"],[0.6666666666666666,\"#ed7953\"],[0.7777777777777778,\"#fb9f3a\"],[0.8888888888888888,\"#fdca26\"],[1.0,\"#f0f921\"]],\"sequentialminus\":[[0.0,\"#0d0887\"],[0.1111111111111111,\"#46039f\"],[0.2222222222222222,\"#7201a8\"],[0.3333333333333333,\"#9c179e\"],[0.4444444444444444,\"#bd3786\"],[0.5555555555555556,\"#d8576b\"],[0.6666666666666666,\"#ed7953\"],[0.7777777777777778,\"#fb9f3a\"],[0.8888888888888888,\"#fdca26\"],[1.0,\"#f0f921\"]]},\"hovermode\":\"closest\",\"hoverlabel\":{\"align\":\"left\"},\"coloraxis\":{\"colorbar\":{\"outlinewidth\":0.0,\"ticks\":\"\"}},\"geo\":{\"showland\":true,\"landcolor\":\"rgba(229, 236, 246, 1.0)\",\"showlakes\":true,\"lakecolor\":\"rgba(255, 255, 255, 1.0)\",\"subunitcolor\":\"rgba(255, 255, 255, 1.0)\",\"bgcolor\":\"rgba(255, 255, 255, 1.0)\"},\"mapbox\":{\"style\":\"light\"},\"polar\":{\"bgcolor\":\"rgba(229, 236, 246, 1.0)\",\"radialaxis\":{\"linecolor\":\"rgba(255, 255, 255, 1.0)\",\"gridcolor\":\"rgba(255, 255, 255, 1.0)\",\"ticks\":\"\"},\"angularaxis\":{\"linecolor\":\"rgba(255, 255, 255, 1.0)\",\"gridcolor\":\"rgba(255, 255, 255, 1.0)\",\"ticks\":\"\"}},\"scene\":{\"xaxis\":{\"ticks\":\"\",\"linecolor\":\"rgba(255, 255, 255, 1.0)\",\"gridcolor\":\"rgba(255, 255, 255, 1.0)\",\"gridwidth\":2.0,\"zerolinecolor\":\"rgba(255, 255, 255, 1.0)\",\"backgroundcolor\":\"rgba(229, 236, 246, 1.0)\",\"showbackground\":true},\"yaxis\":{\"ticks\":\"\",\"linecolor\":\"rgba(255, 255, 255, 1.0)\",\"gridcolor\":\"rgba(255, 255, 255, 1.0)\",\"gridwidth\":2.0,\"zerolinecolor\":\"rgba(255, 255, 255, 1.0)\",\"backgroundcolor\":\"rgba(229, 236, 246, 1.0)\",\"showbackground\":true},\"zaxis\":{\"ticks\":\"\",\"linecolor\":\"rgba(255, 255, 255, 1.0)\",\"gridcolor\":\"rgba(255, 255, 255, 1.0)\",\"gridwidth\":2.0,\"zerolinecolor\":\"rgba(255, 255, 255, 1.0)\",\"backgroundcolor\":\"rgba(229, 236, 246, 1.0)\",\"showbackground\":true}},\"ternary\":{\"aaxis\":{\"ticks\":\"\",\"linecolor\":\"rgba(255, 255, 255, 1.0)\",\"gridcolor\":\"rgba(255, 255, 255, 1.0)\"},\"baxis\":{\"ticks\":\"\",\"linecolor\":\"rgba(255, 255, 255, 1.0)\",\"gridcolor\":\"rgba(255, 255, 255, 1.0)\"},\"caxis\":{\"ticks\":\"\",\"linecolor\":\"rgba(255, 255, 255, 1.0)\",\"gridcolor\":\"rgba(255, 255, 255, 1.0)\"},\"bgcolor\":\"rgba(229, 236, 246, 1.0)\"},\"xaxis\":{\"title\":{\"standoff\":15},\"ticks\":\"\",\"automargin\":true,\"linecolor\":\"rgba(255, 255, 255, 1.0)\",\"gridcolor\":\"rgba(255, 255, 255, 1.0)\",\"zerolinecolor\":\"rgba(255, 255, 255, 1.0)\",\"zerolinewidth\":2.0},\"yaxis\":{\"title\":{\"standoff\":15},\"ticks\":\"\",\"automargin\":true,\"linecolor\":\"rgba(255, 255, 255, 1.0)\",\"gridcolor\":\"rgba(255, 255, 255, 1.0)\",\"zerolinecolor\":\"rgba(255, 255, 255, 1.0)\",\"zerolinewidth\":2.0},\"annotationdefaults\":{\"arrowcolor\":\"#2a3f5f\",\"arrowhead\":0,\"arrowwidth\":1},\"shapedefaults\":{\"line\":{\"color\":\"rgba(42, 63, 95, 1.0)\"}},\"colorway\":[\"rgba(99, 110, 250, 1.0)\",\"rgba(239, 85, 59, 1.0)\",\"rgba(0, 204, 150, 1.0)\",\"rgba(171, 99, 250, 1.0)\",\"rgba(255, 161, 90, 1.0)\",\"rgba(25, 211, 243, 1.0)\",\"rgba(255, 102, 146, 1.0)\",\"rgba(182, 232, 128, 1.0)\",\"rgba(255, 151, 255, 1.0)\",\"rgba(254, 203, 82, 1.0)\"]},\"data\":{\"bar\":[{\"marker\":{\"line\":{\"color\":\"rgba(229, 236, 246, 1.0)\",\"width\":0.5},\"pattern\":{\"fillmode\":\"overlay\",\"size\":10,\"solidity\":0.2}},\"error_x\":{\"color\":\"rgba(42, 63, 95, 1.0)\"},\"error_y\":{\"color\":\"rgba(42, 63, 95, 1.0)\"}}],\"barpolar\":[{\"marker\":{\"line\":{\"color\":\"rgba(229, 236, 246, 1.0)\",\"width\":0.5},\"pattern\":{\"fillmode\":\"overlay\",\"size\":10,\"solidity\":0.2}}}],\"carpet\":[{\"aaxis\":{\"linecolor\":\"rgba(255, 255, 255, 1.0)\",\"gridcolor\":\"rgba(255, 255, 255, 1.0)\",\"endlinecolor\":\"rgba(42, 63, 95, 1.0)\",\"minorgridcolor\":\"rgba(255, 255, 255, 1.0)\",\"startlinecolor\":\"rgba(42, 63, 95, 1.0)\"},\"baxis\":{\"linecolor\":\"rgba(255, 255, 255, 1.0)\",\"gridcolor\":\"rgba(255, 255, 255, 1.0)\",\"endlinecolor\":\"rgba(42, 63, 95, 1.0)\",\"minorgridcolor\":\"rgba(255, 255, 255, 1.0)\",\"startlinecolor\":\"rgba(42, 63, 95, 1.0)\"}}],\"choropleth\":[{\"colorbar\":{\"outlinewidth\":0.0,\"ticks\":\"\"},\"colorscale\":[[0.0,\"#0d0887\"],[0.1111111111111111,\"#46039f\"],[0.2222222222222222,\"#7201a8\"],[0.3333333333333333,\"#9c179e\"],[0.4444444444444444,\"#bd3786\"],[0.5555555555555556,\"#d8576b\"],[0.6666666666666666,\"#ed7953\"],[0.7777777777777778,\"#fb9f3a\"],[0.8888888888888888,\"#fdca26\"],[1.0,\"#f0f921\"]]}],\"contour\":[{\"colorbar\":{\"outlinewidth\":0.0,\"ticks\":\"\"},\"colorscale\":[[0.0,\"#0d0887\"],[0.1111111111111111,\"#46039f\"],[0.2222222222222222,\"#7201a8\"],[0.3333333333333333,\"#9c179e\"],[0.4444444444444444,\"#bd3786\"],[0.5555555555555556,\"#d8576b\"],[0.6666666666666666,\"#ed7953\"],[0.7777777777777778,\"#fb9f3a\"],[0.8888888888888888,\"#fdca26\"],[1.0,\"#f0f921\"]]}],\"contourcarpet\":[{\"colorbar\":{\"outlinewidth\":0.0,\"ticks\":\"\"}}],\"heatmap\":[{\"colorbar\":{\"outlinewidth\":0.0,\"ticks\":\"\"},\"colorscale\":[[0.0,\"#0d0887\"],[0.1111111111111111,\"#46039f\"],[0.2222222222222222,\"#7201a8\"],[0.3333333333333333,\"#9c179e\"],[0.4444444444444444,\"#bd3786\"],[0.5555555555555556,\"#d8576b\"],[0.6666666666666666,\"#ed7953\"],[0.7777777777777778,\"#fb9f3a\"],[0.8888888888888888,\"#fdca26\"],[1.0,\"#f0f921\"]]}],\"heatmapgl\":[{\"colorbar\":{\"outlinewidth\":0.0,\"ticks\":\"\"},\"colorscale\":[[0.0,\"#0d0887\"],[0.1111111111111111,\"#46039f\"],[0.2222222222222222,\"#7201a8\"],[0.3333333333333333,\"#9c179e\"],[0.4444444444444444,\"#bd3786\"],[0.5555555555555556,\"#d8576b\"],[0.6666666666666666,\"#ed7953\"],[0.7777777777777778,\"#fb9f3a\"],[0.8888888888888888,\"#fdca26\"],[1.0,\"#f0f921\"]]}],\"histogram\":[{\"marker\":{\"pattern\":{\"fillmode\":\"overlay\",\"size\":10,\"solidity\":0.2}}}],\"histogram2d\":[{\"colorbar\":{\"outlinewidth\":0.0,\"ticks\":\"\"},\"colorscale\":[[0.0,\"#0d0887\"],[0.1111111111111111,\"#46039f\"],[0.2222222222222222,\"#7201a8\"],[0.3333333333333333,\"#9c179e\"],[0.4444444444444444,\"#bd3786\"],[0.5555555555555556,\"#d8576b\"],[0.6666666666666666,\"#ed7953\"],[0.7777777777777778,\"#fb9f3a\"],[0.8888888888888888,\"#fdca26\"],[1.0,\"#f0f921\"]]}],\"histogram2dcontour\":[{\"colorbar\":{\"outlinewidth\":0.0,\"ticks\":\"\"},\"colorscale\":[[0.0,\"#0d0887\"],[0.1111111111111111,\"#46039f\"],[0.2222222222222222,\"#7201a8\"],[0.3333333333333333,\"#9c179e\"],[0.4444444444444444,\"#bd3786\"],[0.5555555555555556,\"#d8576b\"],[0.6666666666666666,\"#ed7953\"],[0.7777777777777778,\"#fb9f3a\"],[0.8888888888888888,\"#fdca26\"],[1.0,\"#f0f921\"]]}],\"mesh3d\":[{\"colorbar\":{\"outlinewidth\":0.0,\"ticks\":\"\"}}],\"parcoords\":[{\"line\":{\"colorbar\":{\"outlinewidth\":0.0,\"ticks\":\"\"}}}],\"pie\":[{\"automargin\":true}],\"scatter\":[{\"marker\":{\"colorbar\":{\"outlinewidth\":0.0,\"ticks\":\"\"}}}],\"scatter3d\":[{\"marker\":{\"colorbar\":{\"outlinewidth\":0.0,\"ticks\":\"\"}},\"line\":{\"colorbar\":{\"outlinewidth\":0.0,\"ticks\":\"\"}}}],\"scattercarpet\":[{\"marker\":{\"colorbar\":{\"outlinewidth\":0.0,\"ticks\":\"\"}}}],\"scattergeo\":[{\"marker\":{\"colorbar\":{\"outlinewidth\":0.0,\"ticks\":\"\"}}}],\"scattergl\":[{\"marker\":{\"colorbar\":{\"outlinewidth\":0.0,\"ticks\":\"\"}}}],\"scattermapbox\":[{\"marker\":{\"colorbar\":{\"outlinewidth\":0.0,\"ticks\":\"\"}}}],\"scatterpolar\":[{\"marker\":{\"colorbar\":{\"outlinewidth\":0.0,\"ticks\":\"\"}}}],\"scatterpolargl\":[{\"marker\":{\"colorbar\":{\"outlinewidth\":0.0,\"ticks\":\"\"}}}],\"scatterternary\":[{\"marker\":{\"colorbar\":{\"outlinewidth\":0.0,\"ticks\":\"\"}}}],\"surface\":[{\"colorbar\":{\"outlinewidth\":0.0,\"ticks\":\"\"},\"colorscale\":[[0.0,\"#0d0887\"],[0.1111111111111111,\"#46039f\"],[0.2222222222222222,\"#7201a8\"],[0.3333333333333333,\"#9c179e\"],[0.4444444444444444,\"#bd3786\"],[0.5555555555555556,\"#d8576b\"],[0.6666666666666666,\"#ed7953\"],[0.7777777777777778,\"#fb9f3a\"],[0.8888888888888888,\"#fdca26\"],[1.0,\"#f0f921\"]]}],\"table\":[{\"cells\":{\"fill\":{\"color\":\"rgba(235, 240, 248, 1.0)\"},\"line\":{\"color\":\"rgba(255, 255, 255, 1.0)\"}},\"header\":{\"fill\":{\"color\":\"rgba(200, 212, 227, 1.0)\"},\"line\":{\"color\":\"rgba(255, 255, 255, 1.0)\"}}}]}},\"xaxis\":{\"title\":{\"text\":\"Zeit\"}},\"yaxis\":{\"title\":{\"text\":\"Proteinkonzentration\"}}};\r\n",
       "            var config = {\"responsive\":true};\r\n",
       "            Plotly.newPlot('60038082-3b26-439b-83a4-5bbe42323e47', data, layout, config);\r\n",
       "});\r\n",
       "            };\r\n",
       "            if ((typeof(requirejs) !==  typeof(Function)) || (typeof(requirejs.config) !== typeof(Function))) {\r\n",
       "                var script = document.createElement(\"script\");\r\n",
       "                script.setAttribute(\"src\", \"https://cdnjs.cloudflare.com/ajax/libs/require.js/2.3.6/require.min.js\");\r\n",
       "                script.onload = function(){\r\n",
       "                    renderPlotly_600380823b26439b83a45bbe42323e47();\r\n",
       "                };\r\n",
       "                document.getElementsByTagName(\"head\")[0].appendChild(script);\r\n",
       "            }\r\n",
       "            else {\r\n",
       "                renderPlotly_600380823b26439b83a45bbe42323e47();\r\n",
       "            }\r\n",
       "</script>\r\n",
       "\n",
       "    \n",
       "</div>    \n"
      ]
     },
     "metadata": {},
     "output_type": "display_data"
    }
   ],
   "source": [
    "//Konstanten\n",
    "let beta  =  10.0 // Konstante für die Zunahme der Proteinkonzentration\n",
    "let gamma =  1.0  // Konstante für die Verringerung der Proteinkonzentration\n",
    "let K_d =    4.0  // Dissoziationskonstante\n",
    "let n =      2.0  // Hill Koeffizent \n",
    "\n",
    "// unsere DGL als  Modell (Model)\n",
    "let dP_dt : Model = \n",
    "    fun P t ->\n",
    "\n",
    "        let Proteinkonznetration1 = P[0] // Änderung in der Proteinmenge\n",
    "        let Proteinkonznetration2 = P[1] // Änderung in der Proteinmenge\n",
    "        //Änderung der Proteinkonzentration ohne positive Autoregulation\n",
    "        let Proteinkonznetration1' = beta - (gamma*Proteinkonznetration1)\n",
    "        // Änderung des Proteinkonzentration bei positiver Autoregulation (hier die Gleichung einsetzen)\n",
    "        let Proteinkonznetration2' = beta * (Proteinkonznetration2**n)/((Proteinkonznetration2**n) + (K_d**n)) - (gamma*Proteinkonznetration2)\n",
    "\n",
    "        [| Proteinkonznetration1'; Proteinkonznetration2' |]\n",
    "\n",
    "//Startkonzentrationen\n",
    "let P0 = [| \n",
    "    //Startkonzentration für das unregulierte Protein (muss nicht verändert werden)\n",
    "    0.0 \n",
    "    //Startkonzentration für das durch postive Autoreguliation regulierte Protein (hier bitte die Startwerte ändern)\n",
    "    4.0 \n",
    "|]\n",
    "\n",
    "// Simulation der Modelfuntkion\n",
    "let Ps = \n",
    "    modelContext.OdeInt(\n",
    "        0., // Startzeitpunkt\n",
    "        P0,\n",
    "        dP_dt\n",
    "    )\n",
    "    |> SolPoints.take 10 // Anzahl der Zeitpunkte\n",
    "    |> SolPoints.memorize \n",
    "\n",
    "//Graphische Darstellung der numerischen Lösung\n",
    "[\n",
    "    let proteins = Ps |> SolPoints.toPoints 1 \n",
    "    proteins |> Chart.Spline \n",
    "    |> Chart.withTraceInfo(\"Unreguliert\");\n",
    "    let proteinsregulated = Ps |> SolPoints.toPoints 2 \n",
    "    proteinsregulated|> Chart.Spline \n",
    "    |> Chart.withTraceInfo(\"negative AR\");\n",
    "]\n",
    "\n",
    "|> Chart.combine\n",
    "|> Chart.withXAxisStyle(\"Zeit\")\n",
    "|> Chart.withYAxisStyle(\"Proteinkonzentration\")"
   ]
  },
  {
   "cell_type": "markdown",
   "metadata": {},
   "source": [
    "Die Konstanten für den gezeigten Graphen sind:\n",
    "$$\\beta = 10$$\n",
    "$$\\gamma= 1$$\n",
    "$$n = 4$$\n",
    "$$K_{D} = 1$$\n",
    "$$Proteinkonzentration (0) = 0.1$$\n",
    "Aufgabe 4.11: <br>\n",
    "Welchen Effekt hat postive Autoregulation bei einem Wert von $n=1$ auf die Antwortszeit?\n"
   ]
  },
  {
   "cell_type": "markdown",
   "metadata": {},
   "source": [
    "Hier die Antwort eintippen"
   ]
  },
  {
   "cell_type": "markdown",
   "metadata": {},
   "source": [
    "Aufgabe 4.12 <br>\n",
    "Was passiert bei $n=2$?\n",
    "Kopieren sie die obenstehnden code block für die postive Autoregulation und fügen sie diesen in den folgenden Code Block ein. Verändern sie dann die Hill Konstante. "
   ]
  },
  {
   "cell_type": "code",
   "execution_count": null,
   "metadata": {
    "dotnet_interactive": {
     "language": "fsharp"
    },
    "vscode": {
     "languageId": "dotnet-interactive.fsharp"
    }
   },
   "outputs": [],
   "source": []
  },
  {
   "cell_type": "markdown",
   "metadata": {},
   "source": [
    "Was beobachten sie?"
   ]
  },
  {
   "cell_type": "markdown",
   "metadata": {},
   "source": [
    "Hier die Antwort eintippen"
   ]
  },
  {
   "cell_type": "markdown",
   "metadata": {},
   "source": [
    "Es folgt eine kurze Besprechung.Falls Sie schnell vorangekommen sind, können sie bis zur Besprechung folgende Aufgaben lösen.<br>\n",
    "\n",
    "Expertenaufgabe 4.2: \n",
    "\n",
    "Stellen sie die Differenzialgleichung für ein Model auf das neben der intrazellulären Lactosekonzentration auch die Konzentration von $\\beta -\\textrm {Galactosid-Permease}$ umfasst auf, diesesmal soll der Zusammenhang aber mit der Hill Funktion gezeigt werden.\n",
    "Fügen sie die Gleichungen in die nachfolgende Simulation ein (beachten sie das die Gleichung für die Lactosekonzentration die Konstanten \"n1\",\"alpha1\", \"beta1\", und \"gamma1\", ohne \"\", hat und die Gleichung für die Konzentration von $\\beta -\\textrm {Galactosid-Permease}$ die Konstanten \"n2\", \"alpha2\", \"beta2\", und \"gamma2\", ohne\"\". Die Konzentration von $\\beta -\\textrm {Galactosid-Permease}$ soll \"perm\", ohne \"\", genannt werden. )."
   ]
  },
  {
   "cell_type": "code",
   "execution_count": null,
   "metadata": {
    "dotnet_interactive": {
     "language": "fsharp"
    },
    "vscode": {
     "languageId": "dotnet-interactive.fsharp"
    }
   },
   "outputs": [
    {
     "data": {
      "text/html": [
       "\n",
       "<div>\n",
       "    <div id=\"fa2a70a3-7539-4eac-bdca-0af3c27b00ce\"><!-- Plotly chart will be drawn inside this DIV --></div>\r\n",
       "<script type=\"text/javascript\">\r\n",
       "\r\n",
       "            var renderPlotly_fa2a70a375394eacbdca0af3c27b00ce = function() {\r\n",
       "            var fsharpPlotlyRequire = requirejs.config({context:'fsharp-plotly',paths:{plotly:'https://cdn.plot.ly/plotly-2.6.3.min'}}) || require;\r\n",
       "            fsharpPlotlyRequire(['plotly'], function(Plotly) {\r\n",
       "\r\n",
       "            var data = [{\"type\":\"scatter\",\"mode\":\"lines\",\"x\":[0.0,0.7846951281925025,1.4641874177850416,2.136778602138254,2.888494324638333,3.768655775662478,4.839019206269999,6.195976696991055,7.827315833759492,9.65145358431686,11.74397557629868,14.25384136997985,17.32080329518401,21.071844469809093,25.741646134194035],\"y\":[0.0,0.2723824091874858,0.3881287417945044,0.45158019181210224,0.49347772949831764,0.5236884791715268,0.5467707058141816,0.5644476238226113,0.576028705547789,0.5822790874557293,0.5853289049658811,0.5866428410000559,0.5871024929194933,0.5872248154509162,0.5872559199199131],\"marker\":{},\"line\":{\"shape\":\"spline\"},\"name\":\"Lactose\"},{\"type\":\"scatter\",\"mode\":\"lines\",\"x\":[0.0,0.7846951281925025,1.4641874177850416,2.136778602138254,2.888494324638333,3.768655775662478,4.839019206269999,6.195976696991055,7.827315833759492,9.65145358431686,11.74397557629868,14.25384136997985,17.32080329518401,21.071844469809093,25.741646134194035],\"y\":[0.0,0.32489315960391446,0.5212103600629223,0.6614587249193836,0.7729210665188736,0.8613570142707233,0.9290844362094977,0.9776522716601643,1.0067586924938599,1.0213654274575155,1.0281766045698302,1.0310405593976064,1.0320316595306953,1.0322929284179037,1.0323416284702105],\"marker\":{},\"line\":{\"shape\":\"spline\"},\"name\":\"Permease\"}];\r\n",
       "            var layout = {\"width\":600,\"height\":600,\"template\":{\"layout\":{\"title\":{\"x\":0.05},\"font\":{\"color\":\"rgba(42, 63, 95, 1.0)\"},\"paper_bgcolor\":\"rgba(255, 255, 255, 1.0)\",\"plot_bgcolor\":\"rgba(229, 236, 246, 1.0)\",\"autotypenumbers\":\"strict\",\"colorscale\":{\"diverging\":[[0.0,\"#8e0152\"],[0.1,\"#c51b7d\"],[0.2,\"#de77ae\"],[0.3,\"#f1b6da\"],[0.4,\"#fde0ef\"],[0.5,\"#f7f7f7\"],[0.6,\"#e6f5d0\"],[0.7,\"#b8e186\"],[0.8,\"#7fbc41\"],[0.9,\"#4d9221\"],[1.0,\"#276419\"]],\"sequential\":[[0.0,\"#0d0887\"],[0.1111111111111111,\"#46039f\"],[0.2222222222222222,\"#7201a8\"],[0.3333333333333333,\"#9c179e\"],[0.4444444444444444,\"#bd3786\"],[0.5555555555555556,\"#d8576b\"],[0.6666666666666666,\"#ed7953\"],[0.7777777777777778,\"#fb9f3a\"],[0.8888888888888888,\"#fdca26\"],[1.0,\"#f0f921\"]],\"sequentialminus\":[[0.0,\"#0d0887\"],[0.1111111111111111,\"#46039f\"],[0.2222222222222222,\"#7201a8\"],[0.3333333333333333,\"#9c179e\"],[0.4444444444444444,\"#bd3786\"],[0.5555555555555556,\"#d8576b\"],[0.6666666666666666,\"#ed7953\"],[0.7777777777777778,\"#fb9f3a\"],[0.8888888888888888,\"#fdca26\"],[1.0,\"#f0f921\"]]},\"hovermode\":\"closest\",\"hoverlabel\":{\"align\":\"left\"},\"coloraxis\":{\"colorbar\":{\"outlinewidth\":0.0,\"ticks\":\"\"}},\"geo\":{\"showland\":true,\"landcolor\":\"rgba(229, 236, 246, 1.0)\",\"showlakes\":true,\"lakecolor\":\"rgba(255, 255, 255, 1.0)\",\"subunitcolor\":\"rgba(255, 255, 255, 1.0)\",\"bgcolor\":\"rgba(255, 255, 255, 1.0)\"},\"mapbox\":{\"style\":\"light\"},\"polar\":{\"bgcolor\":\"rgba(229, 236, 246, 1.0)\",\"radialaxis\":{\"linecolor\":\"rgba(255, 255, 255, 1.0)\",\"gridcolor\":\"rgba(255, 255, 255, 1.0)\",\"ticks\":\"\"},\"angularaxis\":{\"linecolor\":\"rgba(255, 255, 255, 1.0)\",\"gridcolor\":\"rgba(255, 255, 255, 1.0)\",\"ticks\":\"\"}},\"scene\":{\"xaxis\":{\"ticks\":\"\",\"linecolor\":\"rgba(255, 255, 255, 1.0)\",\"gridcolor\":\"rgba(255, 255, 255, 1.0)\",\"gridwidth\":2.0,\"zerolinecolor\":\"rgba(255, 255, 255, 1.0)\",\"backgroundcolor\":\"rgba(229, 236, 246, 1.0)\",\"showbackground\":true},\"yaxis\":{\"ticks\":\"\",\"linecolor\":\"rgba(255, 255, 255, 1.0)\",\"gridcolor\":\"rgba(255, 255, 255, 1.0)\",\"gridwidth\":2.0,\"zerolinecolor\":\"rgba(255, 255, 255, 1.0)\",\"backgroundcolor\":\"rgba(229, 236, 246, 1.0)\",\"showbackground\":true},\"zaxis\":{\"ticks\":\"\",\"linecolor\":\"rgba(255, 255, 255, 1.0)\",\"gridcolor\":\"rgba(255, 255, 255, 1.0)\",\"gridwidth\":2.0,\"zerolinecolor\":\"rgba(255, 255, 255, 1.0)\",\"backgroundcolor\":\"rgba(229, 236, 246, 1.0)\",\"showbackground\":true}},\"ternary\":{\"aaxis\":{\"ticks\":\"\",\"linecolor\":\"rgba(255, 255, 255, 1.0)\",\"gridcolor\":\"rgba(255, 255, 255, 1.0)\"},\"baxis\":{\"ticks\":\"\",\"linecolor\":\"rgba(255, 255, 255, 1.0)\",\"gridcolor\":\"rgba(255, 255, 255, 1.0)\"},\"caxis\":{\"ticks\":\"\",\"linecolor\":\"rgba(255, 255, 255, 1.0)\",\"gridcolor\":\"rgba(255, 255, 255, 1.0)\"},\"bgcolor\":\"rgba(229, 236, 246, 1.0)\"},\"xaxis\":{\"title\":{\"standoff\":15},\"ticks\":\"\",\"automargin\":true,\"linecolor\":\"rgba(255, 255, 255, 1.0)\",\"gridcolor\":\"rgba(255, 255, 255, 1.0)\",\"zerolinecolor\":\"rgba(255, 255, 255, 1.0)\",\"zerolinewidth\":2.0},\"yaxis\":{\"title\":{\"standoff\":15},\"ticks\":\"\",\"automargin\":true,\"linecolor\":\"rgba(255, 255, 255, 1.0)\",\"gridcolor\":\"rgba(255, 255, 255, 1.0)\",\"zerolinecolor\":\"rgba(255, 255, 255, 1.0)\",\"zerolinewidth\":2.0},\"annotationdefaults\":{\"arrowcolor\":\"#2a3f5f\",\"arrowhead\":0,\"arrowwidth\":1},\"shapedefaults\":{\"line\":{\"color\":\"rgba(42, 63, 95, 1.0)\"}},\"colorway\":[\"rgba(99, 110, 250, 1.0)\",\"rgba(239, 85, 59, 1.0)\",\"rgba(0, 204, 150, 1.0)\",\"rgba(171, 99, 250, 1.0)\",\"rgba(255, 161, 90, 1.0)\",\"rgba(25, 211, 243, 1.0)\",\"rgba(255, 102, 146, 1.0)\",\"rgba(182, 232, 128, 1.0)\",\"rgba(255, 151, 255, 1.0)\",\"rgba(254, 203, 82, 1.0)\"]},\"data\":{\"bar\":[{\"marker\":{\"line\":{\"color\":\"rgba(229, 236, 246, 1.0)\",\"width\":0.5},\"pattern\":{\"fillmode\":\"overlay\",\"size\":10,\"solidity\":0.2}},\"error_x\":{\"color\":\"rgba(42, 63, 95, 1.0)\"},\"error_y\":{\"color\":\"rgba(42, 63, 95, 1.0)\"}}],\"barpolar\":[{\"marker\":{\"line\":{\"color\":\"rgba(229, 236, 246, 1.0)\",\"width\":0.5},\"pattern\":{\"fillmode\":\"overlay\",\"size\":10,\"solidity\":0.2}}}],\"carpet\":[{\"aaxis\":{\"linecolor\":\"rgba(255, 255, 255, 1.0)\",\"gridcolor\":\"rgba(255, 255, 255, 1.0)\",\"endlinecolor\":\"rgba(42, 63, 95, 1.0)\",\"minorgridcolor\":\"rgba(255, 255, 255, 1.0)\",\"startlinecolor\":\"rgba(42, 63, 95, 1.0)\"},\"baxis\":{\"linecolor\":\"rgba(255, 255, 255, 1.0)\",\"gridcolor\":\"rgba(255, 255, 255, 1.0)\",\"endlinecolor\":\"rgba(42, 63, 95, 1.0)\",\"minorgridcolor\":\"rgba(255, 255, 255, 1.0)\",\"startlinecolor\":\"rgba(42, 63, 95, 1.0)\"}}],\"choropleth\":[{\"colorbar\":{\"outlinewidth\":0.0,\"ticks\":\"\"},\"colorscale\":[[0.0,\"#0d0887\"],[0.1111111111111111,\"#46039f\"],[0.2222222222222222,\"#7201a8\"],[0.3333333333333333,\"#9c179e\"],[0.4444444444444444,\"#bd3786\"],[0.5555555555555556,\"#d8576b\"],[0.6666666666666666,\"#ed7953\"],[0.7777777777777778,\"#fb9f3a\"],[0.8888888888888888,\"#fdca26\"],[1.0,\"#f0f921\"]]}],\"contour\":[{\"colorbar\":{\"outlinewidth\":0.0,\"ticks\":\"\"},\"colorscale\":[[0.0,\"#0d0887\"],[0.1111111111111111,\"#46039f\"],[0.2222222222222222,\"#7201a8\"],[0.3333333333333333,\"#9c179e\"],[0.4444444444444444,\"#bd3786\"],[0.5555555555555556,\"#d8576b\"],[0.6666666666666666,\"#ed7953\"],[0.7777777777777778,\"#fb9f3a\"],[0.8888888888888888,\"#fdca26\"],[1.0,\"#f0f921\"]]}],\"contourcarpet\":[{\"colorbar\":{\"outlinewidth\":0.0,\"ticks\":\"\"}}],\"heatmap\":[{\"colorbar\":{\"outlinewidth\":0.0,\"ticks\":\"\"},\"colorscale\":[[0.0,\"#0d0887\"],[0.1111111111111111,\"#46039f\"],[0.2222222222222222,\"#7201a8\"],[0.3333333333333333,\"#9c179e\"],[0.4444444444444444,\"#bd3786\"],[0.5555555555555556,\"#d8576b\"],[0.6666666666666666,\"#ed7953\"],[0.7777777777777778,\"#fb9f3a\"],[0.8888888888888888,\"#fdca26\"],[1.0,\"#f0f921\"]]}],\"heatmapgl\":[{\"colorbar\":{\"outlinewidth\":0.0,\"ticks\":\"\"},\"colorscale\":[[0.0,\"#0d0887\"],[0.1111111111111111,\"#46039f\"],[0.2222222222222222,\"#7201a8\"],[0.3333333333333333,\"#9c179e\"],[0.4444444444444444,\"#bd3786\"],[0.5555555555555556,\"#d8576b\"],[0.6666666666666666,\"#ed7953\"],[0.7777777777777778,\"#fb9f3a\"],[0.8888888888888888,\"#fdca26\"],[1.0,\"#f0f921\"]]}],\"histogram\":[{\"marker\":{\"pattern\":{\"fillmode\":\"overlay\",\"size\":10,\"solidity\":0.2}}}],\"histogram2d\":[{\"colorbar\":{\"outlinewidth\":0.0,\"ticks\":\"\"},\"colorscale\":[[0.0,\"#0d0887\"],[0.1111111111111111,\"#46039f\"],[0.2222222222222222,\"#7201a8\"],[0.3333333333333333,\"#9c179e\"],[0.4444444444444444,\"#bd3786\"],[0.5555555555555556,\"#d8576b\"],[0.6666666666666666,\"#ed7953\"],[0.7777777777777778,\"#fb9f3a\"],[0.8888888888888888,\"#fdca26\"],[1.0,\"#f0f921\"]]}],\"histogram2dcontour\":[{\"colorbar\":{\"outlinewidth\":0.0,\"ticks\":\"\"},\"colorscale\":[[0.0,\"#0d0887\"],[0.1111111111111111,\"#46039f\"],[0.2222222222222222,\"#7201a8\"],[0.3333333333333333,\"#9c179e\"],[0.4444444444444444,\"#bd3786\"],[0.5555555555555556,\"#d8576b\"],[0.6666666666666666,\"#ed7953\"],[0.7777777777777778,\"#fb9f3a\"],[0.8888888888888888,\"#fdca26\"],[1.0,\"#f0f921\"]]}],\"mesh3d\":[{\"colorbar\":{\"outlinewidth\":0.0,\"ticks\":\"\"}}],\"parcoords\":[{\"line\":{\"colorbar\":{\"outlinewidth\":0.0,\"ticks\":\"\"}}}],\"pie\":[{\"automargin\":true}],\"scatter\":[{\"marker\":{\"colorbar\":{\"outlinewidth\":0.0,\"ticks\":\"\"}}}],\"scatter3d\":[{\"marker\":{\"colorbar\":{\"outlinewidth\":0.0,\"ticks\":\"\"}},\"line\":{\"colorbar\":{\"outlinewidth\":0.0,\"ticks\":\"\"}}}],\"scattercarpet\":[{\"marker\":{\"colorbar\":{\"outlinewidth\":0.0,\"ticks\":\"\"}}}],\"scattergeo\":[{\"marker\":{\"colorbar\":{\"outlinewidth\":0.0,\"ticks\":\"\"}}}],\"scattergl\":[{\"marker\":{\"colorbar\":{\"outlinewidth\":0.0,\"ticks\":\"\"}}}],\"scattermapbox\":[{\"marker\":{\"colorbar\":{\"outlinewidth\":0.0,\"ticks\":\"\"}}}],\"scatterpolar\":[{\"marker\":{\"colorbar\":{\"outlinewidth\":0.0,\"ticks\":\"\"}}}],\"scatterpolargl\":[{\"marker\":{\"colorbar\":{\"outlinewidth\":0.0,\"ticks\":\"\"}}}],\"scatterternary\":[{\"marker\":{\"colorbar\":{\"outlinewidth\":0.0,\"ticks\":\"\"}}}],\"surface\":[{\"colorbar\":{\"outlinewidth\":0.0,\"ticks\":\"\"},\"colorscale\":[[0.0,\"#0d0887\"],[0.1111111111111111,\"#46039f\"],[0.2222222222222222,\"#7201a8\"],[0.3333333333333333,\"#9c179e\"],[0.4444444444444444,\"#bd3786\"],[0.5555555555555556,\"#d8576b\"],[0.6666666666666666,\"#ed7953\"],[0.7777777777777778,\"#fb9f3a\"],[0.8888888888888888,\"#fdca26\"],[1.0,\"#f0f921\"]]}],\"table\":[{\"cells\":{\"fill\":{\"color\":\"rgba(235, 240, 248, 1.0)\"},\"line\":{\"color\":\"rgba(255, 255, 255, 1.0)\"}},\"header\":{\"fill\":{\"color\":\"rgba(200, 212, 227, 1.0)\"},\"line\":{\"color\":\"rgba(255, 255, 255, 1.0)\"}}}]}},\"xaxis\":{\"title\":{\"text\":\"Zeit\"}},\"yaxis\":{\"title\":{\"text\":\"Konzentration\"}}};\r\n",
       "            var config = {\"responsive\":true};\r\n",
       "            Plotly.newPlot('fa2a70a3-7539-4eac-bdca-0af3c27b00ce', data, layout, config);\r\n",
       "});\r\n",
       "            };\r\n",
       "            if ((typeof(requirejs) !==  typeof(Function)) || (typeof(requirejs.config) !== typeof(Function))) {\r\n",
       "                var script = document.createElement(\"script\");\r\n",
       "                script.setAttribute(\"src\", \"https://cdnjs.cloudflare.com/ajax/libs/require.js/2.3.6/require.min.js\");\r\n",
       "                script.onload = function(){\r\n",
       "                    renderPlotly_fa2a70a375394eacbdca0af3c27b00ce();\r\n",
       "                };\r\n",
       "                document.getElementsByTagName(\"head\")[0].appendChild(script);\r\n",
       "            }\r\n",
       "            else {\r\n",
       "                renderPlotly_fa2a70a375394eacbdca0af3c27b00ce();\r\n",
       "            }\r\n",
       "</script>\r\n",
       "\n",
       "    \n",
       "</div>    \n"
      ]
     },
     "metadata": {},
     "output_type": "display_data"
    }
   ],
   "source": [
    "//Konstanten\n",
    "let alpha1 =  0.5  // Konstante für die Zunahme der Lactosekonzentration (unreguliert)\n",
    "let beta1  =  10.0 // Konstante für die Zunahme der Lactosekonzentration (reguliert)\n",
    "let gamma1 =  1.0  // Konstante für die Verringerung der Lactosekonzentration\n",
    "let alpha2 =  0.5  // Konstante für die Zunahme der beta-Galactosid-Permease Konzentration (unreguliert)\n",
    "let beta2  =  10.0 // Konstante für die Zunahme der beta-Galactosid-Permease Konzentration (reguliert)\n",
    "let gamma2 =  0.5  // Konstante für die Verringerung der beta-Galactosid-Permease Konzentration\n",
    "let K_d1   =  5.0  // Dissoziationskonstante1\n",
    "let K_d2   =  5.0  // Dissoziationskonstante1\n",
    "let n1     =  3.0  // Hill Koeffizent für die Regulation der Lactosekonzentration\n",
    "let n2     =  3.0  // Hill Koeffizent für die Regulation der beta-Galactosid Permease Konzentration\n",
    "\n",
    "// unsere DGL als  Modell (Model)\n",
    "let dP_dt : Model = \n",
    "    fun P t ->\n",
    "\n",
    "        let inlac = P[0] // Änderung in der Lactosekonzentration\n",
    "        let perm  = P[1] // Änderung der beta-Galactosid Permease Konzentration\n",
    "\n",
    "        //Differenzialgleichung die die Änderung in der Lactosekonzentration beschreibt (hier die Gleichung einsetzen)\n",
    "        let inlac' = alpha1 + beta1 * (perm**n1)/((perm**n1) + (K_d**n1)) - (gamma1*inlac)\n",
    "        //Differenzialgleichung die die Änderung in der beta-Galactosid Permease Konzentration beschreibt (hier die Gleichung einsetzen)\n",
    "        let perm' = alpha2 + beta2* (inlac**n2)/((inlac**n2) + (K_d2**n2)) - (gamma2*perm)\n",
    "\n",
    "        [| inlac'; perm' |]\n",
    "\n",
    "//Startkonzentrationen\n",
    "let P0 = [| \n",
    "    0.0\n",
    "    0.0\n",
    "|]\n",
    "\n",
    "// Simulation der Modelfuntkion\n",
    "let Ps = \n",
    "    modelContext.OdeInt(\n",
    "        0., // Startzeitpunkt\n",
    "        P0,\n",
    "        dP_dt\n",
    "    )\n",
    "    |> SolPoints.take 15 // Anzahl der Zeitpunkte\n",
    "    |> SolPoints.memorize \n",
    "\n",
    "//Graphische Darstellung der numerischen Lösung\n",
    "[\n",
    "    let lactose = Ps |> SolPoints.toPoints 1 \n",
    "    lactose |> Chart.Spline \n",
    "    |> Chart.withTraceInfo(\"Lactose\");\n",
    "    let permease = Ps |> SolPoints.toPoints 2 \n",
    "    permease |> Chart.Spline \n",
    "    |> Chart.withTraceInfo(\"Permease\");\n",
    "\n",
    "]\n",
    "\n",
    "|> Chart.combine\n",
    "|> Chart.withXAxisStyle(\"Zeit\")\n",
    "|> Chart.withYAxisStyle(\"Konzentration\")"
   ]
  },
  {
   "cell_type": "markdown",
   "metadata": {},
   "source": [
    "------------------\n",
    "\n",
    "### Osszillation/Hopf Bifukration folgt"
   ]
  },
  {
   "cell_type": "markdown",
   "metadata": {},
   "source": [
    "### Eine einfache biologische Uhr\n",
    "\n",
    "Wir als lebende Organismen werden von vielen verschiedenen Uhren kontrolliert. Die uns bekannteste ist der zirkadiane Rhythmus. Dieser beschreibt die Fähigkeit physiologische Vorgänge, Schlafen, Nahrungsaufnahme, AKtivitäten, etc., auf eine periodenlänge von circa 24 Stunden zu synchronisieren. Wir nennen den zirkadianen Rhythmus auch umgangssprachlicher unseren Tagesrhythmus. <br>\n",
    "Der Tagesrhythmus spiegelt direkt eine der wichtigsten Eigenschaften von biologischen Uhren wieder. Sie können sich von Störrungen erholen. Eine Nacht nicht zu schlafen, oder einen Tag nichts zu essen, führt im Normalfall nicht dazu das sich unser Tagesrhythmus ändert. Nach ein bis zwei Tagen ist alles wieder so wie davor. Nur das konstante Verändern der Lebenumstände, also zum Beispiel immer Nachts zu arbeiten, führt dazu das sich unser Tagesrhythmus umstellt. <br>\n",
    "Periodische Zyklen , auch Oszillationen genannt, die auch bei kleinen Störrungen wieder in ihren ursprunglichen Zyklus zurückkehren werden Grenzzklus, oder Limit Cycle, genannt. Das folgende Bild veranschaulicht dies\n",
    "\n",
    "Bild 1\n",
    "\n",
    "Das Nachbilden eines so komplexen Rhythmuses wie den zirkadianen Rhythmus ist für dieses Praktikum leider zu komplex. Stattdessen wird im folgenden Teil eine einfache biologische Uhr aus Proteinen gebaut. Dabei wird zuerst das allgemeine Design der Uhr besprochen und darauffolgend gezeigt das dieses Design funktioniert, sowohl in silico als auch in vitro.\n",
    "Das bauen einer einfachen biologischen Uhr mit den bereits gelernten Bausteinen, also eine Uhr die auf einem System von Genen und Proteinen beruht, muss auf der Idee basieren das die einzelnen Bausteine einen Grenzzyklus formen, das es ansonsten nicht zur Oszillation kommt. Weiterhin sollte diese einfache Uhr die Fähigkeit haben bei vielen verschiedenen biologischen Parametern zu oszillieren. Dies ist nötg da es sehr schwierig ist die biologischen Parameter in der Zelle zu kontrollieren. Im folgenden wird sich zuerst mit dem Design des Grenzzyklus beschäftigt und erst nachdem nachgewiesen ist das dieser so funktioniert wie gewünscht wird sich damit beschäftigt welche Proteine sinnvolle Kandiaten für dieses Design sind. <br>\n",
    "Eine mögliches Desgin  für einen Grenzzyklus  ist ein \"Stein-Schwere-Papier\" Feedback loop. Das heißt drei Proteine die in einem Kreis angeordnet sind und sich gegenseitig inhibieren. Dieses Design wird allgemein auch Repressilator genannt.  Das folgende Diagramm veranschaulicht dieses Idee\n",
    "\n",
    "Bild 2\n",
    "\n",
    "\n",
    "Aus dem Schaubild geht hervor das sich die Differenzialgleichungen, welche die Proteinkonzentrationen der einzelnen Proteine beschreiben, miteinander verknüpft sind. Dies bedeutet die Differnzialgleichung für das erste Protein $x_{1}$ kann folgendermaßen hergleitet werden. Die Proteinproduktion $\\beta$ wird reguliert durch den Repressor $x_{3}$. Die Regulierung selbst wird beschrieben durch eine Hillfunktion, da wir noch nicht wissen ob das Verhalten ultrasensitiv oder linear sein muss um die Oszillation zu erhalten. Die Verringerung, beschrieben durch $\\gamma$ des Proteins $x_{1}$ ist nur von $x_1$ abhängig. Somit ergibt sich\n",
    "$$x_{1}' = \\frac {dx_{1}}{dt} = \\beta * \\frac {1} {1+ (\\frac {x_{3}}{K_{D}})^{n}} - \\gamma * x_{1}$$\n",
    "\n",
    "Die Gleichungen für die anderen zwei Proteine, $x_{2}$ und $x_{3}$, werden analog aufgestellt.\n",
    "\n",
    "Aufgabe 4.13: <br>\n",
    "Stelle die beiden anderen Gleichungen auf"
   ]
  },
  {
   "cell_type": "markdown",
   "metadata": {},
   "source": []
  },
  {
   "cell_type": "markdown",
   "metadata": {},
   "source": [
    "Um zu überprüfen ob das besprochene Model wirklich zu einem Grenzzyklus führt, wird im ersten Schritt ermittelt wie viele Punktattraktionen es gibt. Dafür wird das oben besprochene Model der Seperierung von Zunahme und Verringerung genutzt. Die Zunahme lässt sich somit beschreiben als \n",
    "$$ \\beta * \\frac {1} {1+ (\\frac {x_{i+1}}{K_{D}})^{n}}$$\n",
    "und die Verringerung als \n",
    "$$ \\gamma * x_{i}  $$\n",
    "wobei $i$ für das Protein steht das gerade betrachtet wird und $i+1$ das darauffolgende Protein beschreibt.\n",
    "Da wir es hier mit drei Funktionen zu tun haben, die miteinander Verknüpft sind, ist für die Bestimmung der Punktattraktion also dem Punkt bei dem alle $x_{i}'=0$ sind nicht so einfach wie zuvor, da die gezeigten Zunahmen und Verringerungen erst zusammengebracht werden müssen. Die Lösung dieses Problems ist\n",
    "$$x_{i} = fff(x_{i})$$\n",
    "Da alle drei Funktionen identisch sind bis auf den Parameter $x_{i}$ kann der Zusammenhang als eine Kompositiion auf Funktionen beschrieben werden. Dies ermöglicht eien sehr einfache Berechnung der Differenzialgleichung, da einfach die Kettenregel auf jede Funktion angewendet werden kann. Die graphische Darstellung der Zunahme und Verringerung ist somit"
   ]
  },
  {
   "cell_type": "code",
   "execution_count": null,
   "metadata": {
    "dotnet_interactive": {
     "language": "fsharp"
    },
    "vscode": {
     "languageId": "dotnet-interactive.fsharp"
    }
   },
   "outputs": [
    {
     "data": {
      "text/html": [
       "\n",
       "<div>\n",
       "    <div id=\"4533b576-d657-4a8a-8cae-92d35c848a46\"><!-- Plotly chart will be drawn inside this DIV --></div>\r\n",
       "<script type=\"text/javascript\">\r\n",
       "\r\n",
       "            var renderPlotly_4533b576d6574a8a8cae92d35c848a46 = function() {\r\n",
       "            var fsharpPlotlyRequire = requirejs.config({context:'fsharp-plotly',paths:{plotly:'https://cdn.plot.ly/plotly-2.6.3.min'}}) || require;\r\n",
       "            fsharpPlotlyRequire(['plotly'], function(Plotly) {\r\n",
       "\r\n",
       "            var data = [{\"type\":\"scatter\",\"mode\":\"lines\",\"x\":[0.0,0.01,0.02,0.03,0.04,0.05,0.06,0.07,0.08,0.09,0.1,0.11,0.12,0.13,0.14,0.15,0.16,0.17,0.18,0.19,0.2,0.21,0.22,0.23,0.24,0.25,0.26,0.27,0.28,0.29,0.3,0.31,0.32,0.33,0.34,0.35000000000000003,0.36,0.37,0.38,0.39,0.4,0.41000000000000003,0.42,0.43,0.44,0.45,0.46,0.47000000000000003,0.48,0.49,0.5,0.51,0.52,0.53,0.54,0.55,0.56,0.5700000000000001,0.58,0.59,0.6,0.61,0.62,0.63,0.64,0.65,0.66,0.67,0.68,0.6900000000000001,0.7000000000000001,0.71,0.72,0.73,0.74,0.75,0.76,0.77,0.78,0.79,0.8,0.81,0.8200000000000001,0.8300000000000001,0.84,0.85,0.86,0.87,0.88,0.89,0.9,0.91,0.92,0.93,0.9400000000000001,0.9500000000000001,0.96,0.97,0.98,0.99,1.0,1.01,1.02,1.03,1.04,1.05,1.06,1.07,1.08,1.09,1.1,1.11,1.12,1.1300000000000001,1.1400000000000001,1.1500000000000001,1.16,1.17,1.18,1.19,1.2,1.21,1.22,1.23,1.24,1.25,1.26,1.27,1.28,1.29,1.3,1.31,1.32,1.33,1.34,1.35,1.36,1.37,1.3800000000000001,1.3900000000000001,1.4000000000000001,1.41,1.42,1.43,1.44,1.45,1.46,1.47,1.48,1.49,1.5,1.51,1.52,1.53,1.54,1.55,1.56,1.57,1.58,1.59,1.6,1.61,1.62,1.6300000000000001,1.6400000000000001,1.6500000000000001,1.6600000000000001,1.67,1.68,1.69,1.7,1.71,1.72,1.73,1.74,1.75,1.76,1.77,1.78,1.79,1.8,1.81,1.82,1.83,1.84,1.85,1.86,1.87,1.8800000000000001,1.8900000000000001,1.9000000000000001,1.9100000000000001,1.92,1.93,1.94,1.95,1.96,1.97,1.98,1.99,2.0,2.0100000000000002,2.02,2.0300000000000002,2.04,2.05,2.06,2.07,2.08,2.09,2.1,2.11,2.12,2.13,2.14,2.15,2.16,2.17,2.18,2.19,2.2,2.21,2.22,2.23,2.24,2.25,2.2600000000000002,2.27,2.2800000000000002,2.29,2.3000000000000003,2.31,2.32,2.33,2.34,2.35,2.36,2.37,2.38,2.39,2.4,2.41,2.42,2.43,2.44,2.45,2.46,2.47,2.48,2.49,2.5,2.5100000000000002,2.52,2.5300000000000002,2.54,2.5500000000000003,2.56,2.57,2.58,2.59,2.6,2.61,2.62,2.63,2.64,2.65,2.66,2.67,2.68,2.69,2.7,2.71,2.72,2.73,2.74,2.75,2.7600000000000002,2.77,2.7800000000000002,2.79,2.8000000000000003,2.81,2.82,2.83,2.84,2.85,2.86,2.87,2.88,2.89,2.9,2.91,2.92,2.93,2.94,2.95,2.96,2.97,2.98,2.99,3.0],\"y\":[0.0,0.01,0.02,0.03,0.04,0.05,0.06,0.07,0.08,0.09,0.1,0.11,0.12,0.13,0.14,0.15,0.16,0.17,0.18,0.19,0.2,0.21,0.22,0.23,0.24,0.25,0.26,0.27,0.28,0.29,0.3,0.31,0.32,0.33,0.34,0.35000000000000003,0.36,0.37,0.38,0.39,0.4,0.41000000000000003,0.42,0.43,0.44,0.45,0.46,0.47000000000000003,0.48,0.49,0.5,0.51,0.52,0.53,0.54,0.55,0.56,0.5700000000000001,0.58,0.59,0.6,0.61,0.62,0.63,0.64,0.65,0.66,0.67,0.68,0.6900000000000001,0.7000000000000001,0.71,0.72,0.73,0.74,0.75,0.76,0.77,0.78,0.79,0.8,0.81,0.8200000000000001,0.8300000000000001,0.84,0.85,0.86,0.87,0.88,0.89,0.9,0.91,0.92,0.93,0.9400000000000001,0.9500000000000001,0.96,0.97,0.98,0.99,1.0,1.01,1.02,1.03,1.04,1.05,1.06,1.07,1.08,1.09,1.1,1.11,1.12,1.1300000000000001,1.1400000000000001,1.1500000000000001,1.16,1.17,1.18,1.19,1.2,1.21,1.22,1.23,1.24,1.25,1.26,1.27,1.28,1.29,1.3,1.31,1.32,1.33,1.34,1.35,1.36,1.37,1.3800000000000001,1.3900000000000001,1.4000000000000001,1.41,1.42,1.43,1.44,1.45,1.46,1.47,1.48,1.49,1.5,1.51,1.52,1.53,1.54,1.55,1.56,1.57,1.58,1.59,1.6,1.61,1.62,1.6300000000000001,1.6400000000000001,1.6500000000000001,1.6600000000000001,1.67,1.68,1.69,1.7,1.71,1.72,1.73,1.74,1.75,1.76,1.77,1.78,1.79,1.8,1.81,1.82,1.83,1.84,1.85,1.86,1.87,1.8800000000000001,1.8900000000000001,1.9000000000000001,1.9100000000000001,1.92,1.93,1.94,1.95,1.96,1.97,1.98,1.99,2.0,2.0100000000000002,2.02,2.0300000000000002,2.04,2.05,2.06,2.07,2.08,2.09,2.1,2.11,2.12,2.13,2.14,2.15,2.16,2.17,2.18,2.19,2.2,2.21,2.22,2.23,2.24,2.25,2.2600000000000002,2.27,2.2800000000000002,2.29,2.3000000000000003,2.31,2.32,2.33,2.34,2.35,2.36,2.37,2.38,2.39,2.4,2.41,2.42,2.43,2.44,2.45,2.46,2.47,2.48,2.49,2.5,2.5100000000000002,2.52,2.5300000000000002,2.54,2.5500000000000003,2.56,2.57,2.58,2.59,2.6,2.61,2.62,2.63,2.64,2.65,2.66,2.67,2.68,2.69,2.7,2.71,2.72,2.73,2.74,2.75,2.7600000000000002,2.77,2.7800000000000002,2.79,2.8000000000000003,2.81,2.82,2.83,2.84,2.85,2.86,2.87,2.88,2.89,2.9,2.91,2.92,2.93,2.94,2.95,2.96,2.97,2.98,2.99,3.0],\"marker\":{},\"line\":{},\"name\":\"Verringerung\"},{\"type\":\"scatter\",\"mode\":\"lines\",\"x\":[0.0,0.01,0.02,0.03,0.04,0.05,0.06,0.07,0.08,0.09,0.1,0.11,0.12,0.13,0.14,0.15,0.16,0.17,0.18,0.19,0.2,0.21,0.22,0.23,0.24,0.25,0.26,0.27,0.28,0.29,0.3,0.31,0.32,0.33,0.34,0.35000000000000003,0.36,0.37,0.38,0.39,0.4,0.41000000000000003,0.42,0.43,0.44,0.45,0.46,0.47000000000000003,0.48,0.49,0.5,0.51,0.52,0.53,0.54,0.55,0.56,0.5700000000000001,0.58,0.59,0.6,0.61,0.62,0.63,0.64,0.65,0.66,0.67,0.68,0.6900000000000001,0.7000000000000001,0.71,0.72,0.73,0.74,0.75,0.76,0.77,0.78,0.79,0.8,0.81,0.8200000000000001,0.8300000000000001,0.84,0.85,0.86,0.87,0.88,0.89,0.9,0.91,0.92,0.93,0.9400000000000001,0.9500000000000001,0.96,0.97,0.98,0.99,1.0,1.01,1.02,1.03,1.04,1.05,1.06,1.07,1.08,1.09,1.1,1.11,1.12,1.1300000000000001,1.1400000000000001,1.1500000000000001,1.16,1.17,1.18,1.19,1.2,1.21,1.22,1.23,1.24,1.25,1.26,1.27,1.28,1.29,1.3,1.31,1.32,1.33,1.34,1.35,1.36,1.37,1.3800000000000001,1.3900000000000001,1.4000000000000001,1.41,1.42,1.43,1.44,1.45,1.46,1.47,1.48,1.49,1.5,1.51,1.52,1.53,1.54,1.55,1.56,1.57,1.58,1.59,1.6,1.61,1.62,1.6300000000000001,1.6400000000000001,1.6500000000000001,1.6600000000000001,1.67,1.68,1.69,1.7,1.71,1.72,1.73,1.74,1.75,1.76,1.77,1.78,1.79,1.8,1.81,1.82,1.83,1.84,1.85,1.86,1.87,1.8800000000000001,1.8900000000000001,1.9000000000000001,1.9100000000000001,1.92,1.93,1.94,1.95,1.96,1.97,1.98,1.99,2.0,2.0100000000000002,2.02,2.0300000000000002,2.04,2.05,2.06,2.07,2.08,2.09,2.1,2.11,2.12,2.13,2.14,2.15,2.16,2.17,2.18,2.19,2.2,2.21,2.22,2.23,2.24,2.25,2.2600000000000002,2.27,2.2800000000000002,2.29,2.3000000000000003,2.31,2.32,2.33,2.34,2.35,2.36,2.37,2.38,2.39,2.4,2.41,2.42,2.43,2.44,2.45,2.46,2.47,2.48,2.49,2.5,2.5100000000000002,2.52,2.5300000000000002,2.54,2.5500000000000003,2.56,2.57,2.58,2.59,2.6,2.61,2.62,2.63,2.64,2.65,2.66,2.67,2.68,2.69,2.7,2.71,2.72,2.73,2.74,2.75,2.7600000000000002,2.77,2.7800000000000002,2.79,2.8000000000000003,2.81,2.82,2.83,2.84,2.85,2.86,2.87,2.88,2.89,2.9,2.91,2.92,2.93,2.94,2.95,2.96,2.97,2.98,2.99,3.0],\"y\":[1.7142857142857142,1.7088068181818183,1.7033898305084745,1.6980337078651686,1.6927374301675977,1.6875,1.6823204419889501,1.677197802197802,1.6721311475409835,1.6671195652173914,1.662162162162162,1.657258064516129,1.6524064171122994,1.6476063829787235,1.6428571428571428,1.638157894736842,1.6335078534031413,1.62890625,1.6243523316062178,1.6198453608247423,1.6153846153846154,1.6109693877551021,1.6065989847715736,1.6022727272727273,1.5979899497487438,1.59375,1.58955223880597,1.5853960396039604,1.5812807881773399,1.5772058823529411,1.573170731707317,1.5691747572815533,1.5652173913043477,1.5612980769230769,1.5574162679425836,1.5535714285714286,1.5497630331753556,1.5459905660377358,1.5422535211267607,1.5385514018691588,1.5348837209302326,1.53125,1.5276497695852536,1.5240825688073394,1.5205479452054795,1.5170454545454546,1.5135746606334841,1.510135135135135,1.5067264573991033,1.5033482142857142,1.5,1.4966814159292037,1.4933920704845813,1.4901315789473688,1.4868995633187772,1.483695652173913,1.4805194805194806,1.4773706896551724,1.4742489270386265,1.4711538461538463,1.4680851063829785,1.465042372881356,1.4620253164556962,1.4590336134453783,1.4560669456066946,1.453125,1.450207468879668,1.4473140495867771,1.4444444444444446,1.4415983606557377,1.4387755102040816,1.4359756097560976,1.4331983805668014,1.430443548387097,1.4277108433734942,1.425,1.4223107569721116,1.4196428571428572,1.4169960474308303,1.4143700787401576,1.411764705882353,1.4091796875,1.406614785992218,1.4040697674418605,1.4015444015444014,1.3990384615384612,1.3965517241379313,1.3940839694656488,1.3916349809885933,1.3892045454545454,1.3867924528301885,1.3843984962406017,1.3820224719101122,1.3796641791044777,1.3773234200743492,1.375,1.3726937269372694,1.3704044117647058,1.3681318681318684,1.3658759124087592,1.3636363636363635,1.3614130434782608,1.3592057761732854,1.3570143884892085,1.3548387096774193,1.3526785714285716,1.3505338078291818,1.348404255319149,1.346289752650177,1.3441901408450703,1.3421052631578947,1.3400349650349648,1.3379790940766552,1.3359375,1.333910034602076,1.331896551724138,1.3298969072164948,1.3279109589041098,1.325938566552901,1.3239795918367345,1.3220338983050848,1.3201013513513513,1.3181818181818183,1.3162751677852351,1.31438127090301,1.3125,1.3106312292358802,1.3087748344370862,1.306930693069307,1.3050986842105265,1.3032786885245902,1.3014705882352942,1.299674267100977,1.2978896103896105,1.296116504854369,1.2943548387096773,1.2926045016077168,1.2908653846153846,1.2891373801916932,1.2874203821656052,1.2857142857142858,1.284018987341772,1.2823343848580442,1.2806603773584904,1.2789968652037618,1.27734375,1.2757009345794394,1.2740683229813663,1.2724458204334366,1.2708333333333333,1.2692307692307694,1.267638036809816,1.2660550458715598,1.264481707317073,1.262917933130699,1.2613636363636365,1.2598187311178246,1.2582831325301207,1.256756756756757,1.255239520958084,1.253731343283582,1.252232142857143,1.2507418397626113,1.2492603550295858,1.247787610619469,1.2463235294117647,1.2448680351906156,1.243421052631579,1.24198250728863,1.2405523255813955,1.2391304347826084,1.2377167630057806,1.2363112391930835,1.2349137931034484,1.2335243553008597,1.232142857142857,1.2307692307692308,1.2294034090909092,1.2280453257790367,1.2266949152542375,1.2253521126760563,1.2240168539325842,1.222689075630252,1.2213687150837989,1.2200557103064065,1.21875,1.2174515235457062,1.2161602209944753,1.2148760330578514,1.213598901098901,1.2123287671232876,1.2110655737704916,1.209809264305177,1.2085597826086956,1.2073170731707314,1.2060810810810811,1.2048517520215634,1.2036290322580647,1.202412868632708,1.20120320855615,1.2,1.1988031914893618,1.1976127320954908,1.1964285714285714,1.195250659630607,1.1940789473684212,1.1929133858267718,1.1917539267015707,1.1906005221932114,1.189453125,1.1883116883116884,1.187176165803109,1.186046511627907,1.1849226804123711,1.1838046272493572,1.182692307692308,1.1815856777493605,1.1804846938775508,1.1793893129770991,1.1782994923857866,1.1772151898734178,1.1761363636363638,1.1750629722921915,1.173994974874372,1.1729323308270678,1.171875,1.1708229426433914,1.169776119402985,1.1687344913151365,1.1676980198019802,1.1666666666666667,1.1656403940886702,1.1646191646191646,1.1636029411764706,1.162591687041565,1.1615853658536586,1.1605839416058394,1.1595873786407767,1.158595641646489,1.1576086956521738,1.1566265060240963,1.1556490384615383,1.1546762589928057,1.1537081339712918,1.1527446300715989,1.1517857142857142,1.1508313539192399,1.149881516587678,1.148936170212766,1.1479952830188678,1.1470588235294117,1.1461267605633803,1.14519906323185,1.1442757009345796,1.1433566433566433,1.1424418604651163,1.1415313225058006,1.140625,1.1397228637413395,1.1388248847926268,1.1379310344827585,1.1370412844036697,1.1361556064073226,1.1352739726027397,1.1343963553530751,1.1335227272727273,1.1326530612244898,1.131787330316742,1.130925507900677,1.1300675675675675,1.1292134831460674,1.1283632286995515,1.12751677852349,1.1266741071428572,1.1258351893095768,1.125,1.1241685144124167,1.1233407079646016,1.1225165562913906,1.1216960352422907,1.1208791208791207,1.120065789473684,1.1192560175054704,1.1184497816593886,1.1176470588235294,1.1168478260869563,1.116052060737527,1.1152597402597402,1.1144708423326135,1.1136853448275863,1.1129032258064515,1.1121244635193133,1.1113490364025695,1.1105769230769231,1.1098081023454158,1.1090425531914894,1.10828025477707,1.107521186440678,1.10676532769556,1.1060126582278482,1.1052631578947367],\"marker\":{},\"line\":{},\"name\":\"Zunahme \"}];\r\n",
       "            var layout = {\"width\":600,\"height\":600,\"template\":{\"layout\":{\"title\":{\"x\":0.05},\"font\":{\"color\":\"rgba(42, 63, 95, 1.0)\"},\"paper_bgcolor\":\"rgba(255, 255, 255, 1.0)\",\"plot_bgcolor\":\"rgba(229, 236, 246, 1.0)\",\"autotypenumbers\":\"strict\",\"colorscale\":{\"diverging\":[[0.0,\"#8e0152\"],[0.1,\"#c51b7d\"],[0.2,\"#de77ae\"],[0.3,\"#f1b6da\"],[0.4,\"#fde0ef\"],[0.5,\"#f7f7f7\"],[0.6,\"#e6f5d0\"],[0.7,\"#b8e186\"],[0.8,\"#7fbc41\"],[0.9,\"#4d9221\"],[1.0,\"#276419\"]],\"sequential\":[[0.0,\"#0d0887\"],[0.1111111111111111,\"#46039f\"],[0.2222222222222222,\"#7201a8\"],[0.3333333333333333,\"#9c179e\"],[0.4444444444444444,\"#bd3786\"],[0.5555555555555556,\"#d8576b\"],[0.6666666666666666,\"#ed7953\"],[0.7777777777777778,\"#fb9f3a\"],[0.8888888888888888,\"#fdca26\"],[1.0,\"#f0f921\"]],\"sequentialminus\":[[0.0,\"#0d0887\"],[0.1111111111111111,\"#46039f\"],[0.2222222222222222,\"#7201a8\"],[0.3333333333333333,\"#9c179e\"],[0.4444444444444444,\"#bd3786\"],[0.5555555555555556,\"#d8576b\"],[0.6666666666666666,\"#ed7953\"],[0.7777777777777778,\"#fb9f3a\"],[0.8888888888888888,\"#fdca26\"],[1.0,\"#f0f921\"]]},\"hovermode\":\"closest\",\"hoverlabel\":{\"align\":\"left\"},\"coloraxis\":{\"colorbar\":{\"outlinewidth\":0.0,\"ticks\":\"\"}},\"geo\":{\"showland\":true,\"landcolor\":\"rgba(229, 236, 246, 1.0)\",\"showlakes\":true,\"lakecolor\":\"rgba(255, 255, 255, 1.0)\",\"subunitcolor\":\"rgba(255, 255, 255, 1.0)\",\"bgcolor\":\"rgba(255, 255, 255, 1.0)\"},\"mapbox\":{\"style\":\"light\"},\"polar\":{\"bgcolor\":\"rgba(229, 236, 246, 1.0)\",\"radialaxis\":{\"linecolor\":\"rgba(255, 255, 255, 1.0)\",\"gridcolor\":\"rgba(255, 255, 255, 1.0)\",\"ticks\":\"\"},\"angularaxis\":{\"linecolor\":\"rgba(255, 255, 255, 1.0)\",\"gridcolor\":\"rgba(255, 255, 255, 1.0)\",\"ticks\":\"\"}},\"scene\":{\"xaxis\":{\"ticks\":\"\",\"linecolor\":\"rgba(255, 255, 255, 1.0)\",\"gridcolor\":\"rgba(255, 255, 255, 1.0)\",\"gridwidth\":2.0,\"zerolinecolor\":\"rgba(255, 255, 255, 1.0)\",\"backgroundcolor\":\"rgba(229, 236, 246, 1.0)\",\"showbackground\":true},\"yaxis\":{\"ticks\":\"\",\"linecolor\":\"rgba(255, 255, 255, 1.0)\",\"gridcolor\":\"rgba(255, 255, 255, 1.0)\",\"gridwidth\":2.0,\"zerolinecolor\":\"rgba(255, 255, 255, 1.0)\",\"backgroundcolor\":\"rgba(229, 236, 246, 1.0)\",\"showbackground\":true},\"zaxis\":{\"ticks\":\"\",\"linecolor\":\"rgba(255, 255, 255, 1.0)\",\"gridcolor\":\"rgba(255, 255, 255, 1.0)\",\"gridwidth\":2.0,\"zerolinecolor\":\"rgba(255, 255, 255, 1.0)\",\"backgroundcolor\":\"rgba(229, 236, 246, 1.0)\",\"showbackground\":true}},\"ternary\":{\"aaxis\":{\"ticks\":\"\",\"linecolor\":\"rgba(255, 255, 255, 1.0)\",\"gridcolor\":\"rgba(255, 255, 255, 1.0)\"},\"baxis\":{\"ticks\":\"\",\"linecolor\":\"rgba(255, 255, 255, 1.0)\",\"gridcolor\":\"rgba(255, 255, 255, 1.0)\"},\"caxis\":{\"ticks\":\"\",\"linecolor\":\"rgba(255, 255, 255, 1.0)\",\"gridcolor\":\"rgba(255, 255, 255, 1.0)\"},\"bgcolor\":\"rgba(229, 236, 246, 1.0)\"},\"xaxis\":{\"title\":{\"standoff\":15},\"ticks\":\"\",\"automargin\":true,\"linecolor\":\"rgba(255, 255, 255, 1.0)\",\"gridcolor\":\"rgba(255, 255, 255, 1.0)\",\"zerolinecolor\":\"rgba(255, 255, 255, 1.0)\",\"zerolinewidth\":2.0},\"yaxis\":{\"title\":{\"standoff\":15},\"ticks\":\"\",\"automargin\":true,\"linecolor\":\"rgba(255, 255, 255, 1.0)\",\"gridcolor\":\"rgba(255, 255, 255, 1.0)\",\"zerolinecolor\":\"rgba(255, 255, 255, 1.0)\",\"zerolinewidth\":2.0},\"annotationdefaults\":{\"arrowcolor\":\"#2a3f5f\",\"arrowhead\":0,\"arrowwidth\":1},\"shapedefaults\":{\"line\":{\"color\":\"rgba(42, 63, 95, 1.0)\"}},\"colorway\":[\"rgba(99, 110, 250, 1.0)\",\"rgba(239, 85, 59, 1.0)\",\"rgba(0, 204, 150, 1.0)\",\"rgba(171, 99, 250, 1.0)\",\"rgba(255, 161, 90, 1.0)\",\"rgba(25, 211, 243, 1.0)\",\"rgba(255, 102, 146, 1.0)\",\"rgba(182, 232, 128, 1.0)\",\"rgba(255, 151, 255, 1.0)\",\"rgba(254, 203, 82, 1.0)\"]},\"data\":{\"bar\":[{\"marker\":{\"line\":{\"color\":\"rgba(229, 236, 246, 1.0)\",\"width\":0.5},\"pattern\":{\"fillmode\":\"overlay\",\"size\":10,\"solidity\":0.2}},\"error_x\":{\"color\":\"rgba(42, 63, 95, 1.0)\"},\"error_y\":{\"color\":\"rgba(42, 63, 95, 1.0)\"}}],\"barpolar\":[{\"marker\":{\"line\":{\"color\":\"rgba(229, 236, 246, 1.0)\",\"width\":0.5},\"pattern\":{\"fillmode\":\"overlay\",\"size\":10,\"solidity\":0.2}}}],\"carpet\":[{\"aaxis\":{\"linecolor\":\"rgba(255, 255, 255, 1.0)\",\"gridcolor\":\"rgba(255, 255, 255, 1.0)\",\"endlinecolor\":\"rgba(42, 63, 95, 1.0)\",\"minorgridcolor\":\"rgba(255, 255, 255, 1.0)\",\"startlinecolor\":\"rgba(42, 63, 95, 1.0)\"},\"baxis\":{\"linecolor\":\"rgba(255, 255, 255, 1.0)\",\"gridcolor\":\"rgba(255, 255, 255, 1.0)\",\"endlinecolor\":\"rgba(42, 63, 95, 1.0)\",\"minorgridcolor\":\"rgba(255, 255, 255, 1.0)\",\"startlinecolor\":\"rgba(42, 63, 95, 1.0)\"}}],\"choropleth\":[{\"colorbar\":{\"outlinewidth\":0.0,\"ticks\":\"\"},\"colorscale\":[[0.0,\"#0d0887\"],[0.1111111111111111,\"#46039f\"],[0.2222222222222222,\"#7201a8\"],[0.3333333333333333,\"#9c179e\"],[0.4444444444444444,\"#bd3786\"],[0.5555555555555556,\"#d8576b\"],[0.6666666666666666,\"#ed7953\"],[0.7777777777777778,\"#fb9f3a\"],[0.8888888888888888,\"#fdca26\"],[1.0,\"#f0f921\"]]}],\"contour\":[{\"colorbar\":{\"outlinewidth\":0.0,\"ticks\":\"\"},\"colorscale\":[[0.0,\"#0d0887\"],[0.1111111111111111,\"#46039f\"],[0.2222222222222222,\"#7201a8\"],[0.3333333333333333,\"#9c179e\"],[0.4444444444444444,\"#bd3786\"],[0.5555555555555556,\"#d8576b\"],[0.6666666666666666,\"#ed7953\"],[0.7777777777777778,\"#fb9f3a\"],[0.8888888888888888,\"#fdca26\"],[1.0,\"#f0f921\"]]}],\"contourcarpet\":[{\"colorbar\":{\"outlinewidth\":0.0,\"ticks\":\"\"}}],\"heatmap\":[{\"colorbar\":{\"outlinewidth\":0.0,\"ticks\":\"\"},\"colorscale\":[[0.0,\"#0d0887\"],[0.1111111111111111,\"#46039f\"],[0.2222222222222222,\"#7201a8\"],[0.3333333333333333,\"#9c179e\"],[0.4444444444444444,\"#bd3786\"],[0.5555555555555556,\"#d8576b\"],[0.6666666666666666,\"#ed7953\"],[0.7777777777777778,\"#fb9f3a\"],[0.8888888888888888,\"#fdca26\"],[1.0,\"#f0f921\"]]}],\"heatmapgl\":[{\"colorbar\":{\"outlinewidth\":0.0,\"ticks\":\"\"},\"colorscale\":[[0.0,\"#0d0887\"],[0.1111111111111111,\"#46039f\"],[0.2222222222222222,\"#7201a8\"],[0.3333333333333333,\"#9c179e\"],[0.4444444444444444,\"#bd3786\"],[0.5555555555555556,\"#d8576b\"],[0.6666666666666666,\"#ed7953\"],[0.7777777777777778,\"#fb9f3a\"],[0.8888888888888888,\"#fdca26\"],[1.0,\"#f0f921\"]]}],\"histogram\":[{\"marker\":{\"pattern\":{\"fillmode\":\"overlay\",\"size\":10,\"solidity\":0.2}}}],\"histogram2d\":[{\"colorbar\":{\"outlinewidth\":0.0,\"ticks\":\"\"},\"colorscale\":[[0.0,\"#0d0887\"],[0.1111111111111111,\"#46039f\"],[0.2222222222222222,\"#7201a8\"],[0.3333333333333333,\"#9c179e\"],[0.4444444444444444,\"#bd3786\"],[0.5555555555555556,\"#d8576b\"],[0.6666666666666666,\"#ed7953\"],[0.7777777777777778,\"#fb9f3a\"],[0.8888888888888888,\"#fdca26\"],[1.0,\"#f0f921\"]]}],\"histogram2dcontour\":[{\"colorbar\":{\"outlinewidth\":0.0,\"ticks\":\"\"},\"colorscale\":[[0.0,\"#0d0887\"],[0.1111111111111111,\"#46039f\"],[0.2222222222222222,\"#7201a8\"],[0.3333333333333333,\"#9c179e\"],[0.4444444444444444,\"#bd3786\"],[0.5555555555555556,\"#d8576b\"],[0.6666666666666666,\"#ed7953\"],[0.7777777777777778,\"#fb9f3a\"],[0.8888888888888888,\"#fdca26\"],[1.0,\"#f0f921\"]]}],\"mesh3d\":[{\"colorbar\":{\"outlinewidth\":0.0,\"ticks\":\"\"}}],\"parcoords\":[{\"line\":{\"colorbar\":{\"outlinewidth\":0.0,\"ticks\":\"\"}}}],\"pie\":[{\"automargin\":true}],\"scatter\":[{\"marker\":{\"colorbar\":{\"outlinewidth\":0.0,\"ticks\":\"\"}}}],\"scatter3d\":[{\"marker\":{\"colorbar\":{\"outlinewidth\":0.0,\"ticks\":\"\"}},\"line\":{\"colorbar\":{\"outlinewidth\":0.0,\"ticks\":\"\"}}}],\"scattercarpet\":[{\"marker\":{\"colorbar\":{\"outlinewidth\":0.0,\"ticks\":\"\"}}}],\"scattergeo\":[{\"marker\":{\"colorbar\":{\"outlinewidth\":0.0,\"ticks\":\"\"}}}],\"scattergl\":[{\"marker\":{\"colorbar\":{\"outlinewidth\":0.0,\"ticks\":\"\"}}}],\"scattermapbox\":[{\"marker\":{\"colorbar\":{\"outlinewidth\":0.0,\"ticks\":\"\"}}}],\"scatterpolar\":[{\"marker\":{\"colorbar\":{\"outlinewidth\":0.0,\"ticks\":\"\"}}}],\"scatterpolargl\":[{\"marker\":{\"colorbar\":{\"outlinewidth\":0.0,\"ticks\":\"\"}}}],\"scatterternary\":[{\"marker\":{\"colorbar\":{\"outlinewidth\":0.0,\"ticks\":\"\"}}}],\"surface\":[{\"colorbar\":{\"outlinewidth\":0.0,\"ticks\":\"\"},\"colorscale\":[[0.0,\"#0d0887\"],[0.1111111111111111,\"#46039f\"],[0.2222222222222222,\"#7201a8\"],[0.3333333333333333,\"#9c179e\"],[0.4444444444444444,\"#bd3786\"],[0.5555555555555556,\"#d8576b\"],[0.6666666666666666,\"#ed7953\"],[0.7777777777777778,\"#fb9f3a\"],[0.8888888888888888,\"#fdca26\"],[1.0,\"#f0f921\"]]}],\"table\":[{\"cells\":{\"fill\":{\"color\":\"rgba(235, 240, 248, 1.0)\"},\"line\":{\"color\":\"rgba(255, 255, 255, 1.0)\"}},\"header\":{\"fill\":{\"color\":\"rgba(200, 212, 227, 1.0)\"},\"line\":{\"color\":\"rgba(255, 255, 255, 1.0)\"}}}]}},\"xaxis\":{\"title\":{\"text\":\"Proteinkonzentration\"}},\"yaxis\":{\"title\":{\"text\":\"Veränderung der Proteinkonzentration\"}}};\r\n",
       "            var config = {\"responsive\":true};\r\n",
       "            Plotly.newPlot('4533b576-d657-4a8a-8cae-92d35c848a46', data, layout, config);\r\n",
       "});\r\n",
       "            };\r\n",
       "            if ((typeof(requirejs) !==  typeof(Function)) || (typeof(requirejs.config) !== typeof(Function))) {\r\n",
       "                var script = document.createElement(\"script\");\r\n",
       "                script.setAttribute(\"src\", \"https://cdnjs.cloudflare.com/ajax/libs/require.js/2.3.6/require.min.js\");\r\n",
       "                script.onload = function(){\r\n",
       "                    renderPlotly_4533b576d6574a8a8cae92d35c848a46();\r\n",
       "                };\r\n",
       "                document.getElementsByTagName(\"head\")[0].appendChild(script);\r\n",
       "            }\r\n",
       "            else {\r\n",
       "                renderPlotly_4533b576d6574a8a8cae92d35c848a46();\r\n",
       "            }\r\n",
       "</script>\r\n",
       "\n",
       "    \n",
       "</div>    \n"
      ]
     },
     "metadata": {},
     "output_type": "display_data"
    }
   ],
   "source": [
    "// Parameter\n",
    "let beta, n = 3., 1.\n",
    "\n",
    "// f(x)\n",
    "let f x = beta / (1. + x**n)\n",
    "\n",
    "// Herstellung der Komposition von Funktionen\n",
    "let xx = [|0. .. 0.01 .. 3.|]\n",
    "let fff = xx |> Array.map (fun x -> f(f(f x)))\n",
    "\n",
    "[\n",
    "    Chart.Line (xx,xx)\n",
    "    |> Chart.withTraceInfo(\"Verringerung\");\n",
    "    Chart.Line (xx,fff)\n",
    "    |> Chart.withTraceInfo(\"Zunahme \");\n",
    "]\n",
    "|> Chart.combine\n",
    "|> Chart.withXAxisStyle(\"Proteinkonzentration\")\n",
    "|> Chart.withYAxisStyle(\"Veränderung der Proteinkonzentration\")"
   ]
  },
  {
   "cell_type": "markdown",
   "metadata": {},
   "source": [
    "Es zeigt sich das dieses Model nur einen Punktattraktor hat. Um zu bestimmen welche Art der Punktattraktor ist, also stabil, instabil, etwas anderes, ist es leider nicht möglich das hier gezeigte Diagramm zu nutzen, da dieses durch eine Komposition von Funktionen enstanden ist. Daher müssen andere Methoden verwendet werden um die Punktattraktion zu finden und zu bestimmen um welche Art es sich handelt. Eines der meist genutzten Verfahren dafür ist Lineare Stabilität Analyse. Diese auf das hier gezeigte Problem anzuwenden führt zu folgender Lösung:\n",
    "1. Die Punktattraktion befindet sich an dem Punkt der die folgende Gleichung erfüllt\n",
    "\n",
    "$$ \\beta= x_{0}* (1+ (x_{0})^{n})$$\n",
    "wobei $x_{0}$ die Punktattraktion beschreibt\n",
    "\n",
    "2. Es handelt sich um einen Grenzzyklus solange n>2 ist\n",
    "3. Bei einem Wert von n<2 gibt es keine Oszillation\n",
    "\n",
    "Diese Ergebnisse sagen uns das das gewählte Desgin zu einem Grenzzyklus führt, solange n>2 ist.\n",
    "Um nun den nummerischen Wert für die Punktattraktion zu finden, muss die Gleichung $ \\beta= x_{0}* (1+ (x_{0})^{n})$ gelöst werden in Abhängigkeit von $\\beta$. Dies ist analystisch nur äußerst schwierig zu machen, aber es gibt Algorithmen die dieses für uns machen. Ein solcher ist der Bisection Algortihmus. Anwendung von diesem bringt uns zu folgendem Graphen"
   ]
  },
  {
   "cell_type": "code",
   "execution_count": null,
   "metadata": {
    "dotnet_interactive": {
     "language": "fsharp"
    },
    "vscode": {
     "languageId": "dotnet-interactive.fsharp"
    }
   },
   "outputs": [
    {
     "data": {
      "text/html": [
       "\n",
       "<div>\n",
       "    <div id=\"d26a240e-86f5-4a08-8be4-a2dec6e2d819\"><!-- Plotly chart will be drawn inside this DIV --></div>\r\n",
       "<script type=\"text/javascript\">\r\n",
       "\r\n",
       "            var renderPlotly_d26a240e86f54a088be4a2dec6e2d819 = function() {\r\n",
       "            var fsharpPlotlyRequire = requirejs.config({context:'fsharp-plotly',paths:{plotly:'https://cdn.plot.ly/plotly-2.6.3.min'}}) || require;\r\n",
       "            fsharpPlotlyRequire(['plotly'], function(Plotly) {\r\n",
       "\r\n",
       "            var data = [{\"type\":\"scatter\",\"mode\":\"lines\",\"x\":[0.0,0.5,1.0,1.5,2.0,2.5,3.0,3.5,4.0,4.5,5.0,5.5,6.0,6.5,7.0,7.5,8.0,8.5,9.0,9.5,10.0,10.5,11.0,11.5,12.0,12.5,13.0,13.5,14.0,14.5,15.0,15.5,16.0,16.5,17.0,17.5,18.0,18.5,19.0,19.5,20.0,20.5,21.0,21.5,22.0,22.5,23.0,23.5,24.0,24.5,25.0,25.5,26.0,26.5,27.0,27.5,28.0,28.5,29.0,29.5,30.0,30.5,31.0,31.5,32.0,32.5,33.0,33.5,34.0,34.5,35.0,35.5,36.0,36.5,37.0,37.5,38.0,38.5,39.0,39.5,40.0,40.5,41.0,41.5,42.0,42.5,43.0,43.5,44.0,44.5,45.0,45.5,46.0,46.5,47.0,47.5,48.0,48.5,49.0,49.5,50.0,50.5,51.0,51.5,52.0,52.5,53.0,53.5,54.0,54.5,55.0,55.5,56.0,56.5,57.0,57.5,58.0,58.5,59.0,59.5,60.0,60.5,61.0,61.5,62.0,62.5,63.0,63.5,64.0,64.5,65.0,65.5,66.0,66.5,67.0,67.5,68.0,68.5,69.0,69.5,70.0,70.5,71.0,71.5,72.0,72.5,73.0,73.5,74.0,74.5,75.0,75.5,76.0,76.5,77.0,77.5,78.0,78.5,79.0,79.5,80.0,80.5,81.0,81.5,82.0,82.5,83.0,83.5,84.0,84.5,85.0,85.5,86.0,86.5,87.0,87.5,88.0,88.5,89.0,89.5,90.0,90.5,91.0,91.5,92.0,92.5,93.0,93.5,94.0,94.5,95.0,95.5,96.0,96.5,97.0,97.5,98.0,98.5,99.0,99.5,100.0],\"y\":[0.0,0.423828125,0.68231201171875,0.861236572265625,1.0,1.1147308349609375,1.2133941650390625,1.3004837036132812,1.3787841796875,1.4501953125,1.5159797668457031,1.5771293640136719,1.6343650817871094,1.6882410049438477,1.7392120361328125,1.7876100540161133,1.8337554931640625,1.877873420715332,1.9201698303222656,1.9608354568481445,2.0000076293945312,2.0378036499023438,2.074343681335449,2.109726905822754,2.1440391540527344,2.1773576736450195,2.2097530364990234,2.2412753105163574,2.272001266479492,2.3019518852233887,2.3311901092529297,2.3597612380981445,2.3876876831054688,2.4150094985961914,2.4417591094970703,2.467963695526123,2.4936561584472656,2.5188522338867188,2.5435776710510254,2.5678532123565674,2.591705322265625,2.6151392459869385,2.638187885284424,2.660849928855896,2.683155059814453,2.705104351043701,2.7267227172851562,2.748023271560669,2.769001007080078,2.7896900177001953,2.8100788593292236,2.830191493034363,2.8500356674194336,2.869614362716675,2.8889451026916504,2.908022403717041,2.9268627166748047,2.94547963142395,2.963870048522949,2.982041120529175,2.999997138977051,3.017754077911377,3.035311222076416,3.052672505378723,3.0698471069335938,3.08683842420578,3.1036477088928223,3.1202900409698486,3.1367549896240234,3.1530582904815674,3.1691980361938477,3.1851788759231567,3.2010083198547363,3.216688334941864,3.2322194576263428,3.2476097345352173,3.26285719871521,3.277967631816864,3.2929458618164062,3.307795763015747,3.3225107192993164,3.3371068239212036,3.351575493812561,3.365926504135132,3.3801541328430176,3.394271731376648,3.4082770347595215,3.4221668243408203,3.435952663421631,3.4496299624443054,3.4631985425949097,3.476668357849121,3.4900381565093994,3.503305971622467,3.516480326652527,3.5295581817626953,3.54254150390625,3.5554317831993103,3.5682329535484314,3.580942690372467,3.5935699939727783,3.606108695268631,3.618561029434204,3.63093501329422,3.6432230472564697,3.6554324626922607,3.6675641536712646,3.679615467786789,3.6915929317474365,3.7034899592399597,3.715319037437439,3.727069616317749,3.738750457763672,3.75036358833313,3.761904001235962,3.773373067378998,3.7847788333892822,3.7961153984069824,3.8073869347572327,3.8185939490795135,3.8297367095947266,3.840815246105194,3.8518329858779907,3.862789571285248,3.8736844062805176,3.8845203816890717,3.8952965140342712,3.906019151210785,3.9166793823242188,3.9272831976413727,3.9378327131271362,3.9483299255371094,3.958768844604492,3.969155013561249,3.9794899821281433,3.989771157503128,3.999999761581421,4.01017689704895,4.020307660102844,4.030384719371796,4.040414988994598,4.050397038459778,4.060329258441925,4.070214122533798,4.080051898956299,4.089844897389412,4.099591016769409,4.109292358160019,4.118950963020325,4.128562152385712,4.138129949569702,4.147656127810478,4.157137870788574,4.166581302881241,4.17597883939743,4.185334146022797,4.194650888442993,4.203928053379059,4.213164508342743,4.222359001636505,4.23151969909668,4.240635693073273,4.249717444181442,4.258758589625359,4.267762303352356,4.276731759309769,4.2856627106666565,4.294558197259903,4.3034162521362305,4.312237307429314,4.321026802062988,4.329777494072914,4.338494718074799,4.347178712487221,4.355829656124115,4.364445060491562,4.373027563095093,4.381577163934708,4.390093803405762,4.3985773622989655,4.407030344009399,4.415449857711792,4.423841029405594,4.432198137044907,4.440526247024536,4.4488222151994705,4.457088321447372,4.465324059128761,4.473531663417816,4.481707736849785,4.489857256412506,4.497973874211311,4.506065368652344,4.514125257730484,4.522158443927765,4.530164077877998,4.538141250610352,4.546091929078102,4.554015129804611,4.561912775039673,4.5697808265686035],\"marker\":{},\"line\":{},\"name\":\"n=2 \"},{\"type\":\"scatter\",\"mode\":\"lines\",\"x\":[0.0,0.5,1.0,1.5,2.0,2.5,3.0,3.5,4.0,4.5,5.0,5.5,6.0,6.5,7.0,7.5,8.0,8.5,9.0,9.5,10.0,10.5,11.0,11.5,12.0,12.5,13.0,13.5,14.0,14.5,15.0,15.5,16.0,16.5,17.0,17.5,18.0,18.5,19.0,19.5,20.0,20.5,21.0,21.5,22.0,22.5,23.0,23.5,24.0,24.5,25.0,25.5,26.0,26.5,27.0,27.5,28.0,28.5,29.0,29.5,30.0,30.5,31.0,31.5,32.0,32.5,33.0,33.5,34.0,34.5,35.0,35.5,36.0,36.5,37.0,37.5,38.0,38.5,39.0,39.5,40.0,40.5,41.0,41.5,42.0,42.5,43.0,43.5,44.0,44.5,45.0,45.5,46.0,46.5,47.0,47.5,48.0,48.5,49.0,49.5,50.0,50.5,51.0,51.5,52.0,52.5,53.0,53.5,54.0,54.5,55.0,55.5,56.0,56.5,57.0,57.5,58.0,58.5,59.0,59.5,60.0,60.5,61.0,61.5,62.0,62.5,63.0,63.5,64.0,64.5,65.0,65.5,66.0,66.5,67.0,67.5,68.0,68.5,69.0,69.5,70.0,70.5,71.0,71.5,72.0,72.5,73.0,73.5,74.0,74.5,75.0,75.5,76.0,76.5,77.0,77.5,78.0,78.5,79.0,79.5,80.0,80.5,81.0,81.5,82.0,82.5,83.0,83.5,84.0,84.5,85.0,85.5,86.0,86.5,87.0,87.5,88.0,88.5,89.0,89.5,90.0,90.5,91.0,91.5,92.0,92.5,93.0,93.5,94.0,94.5,95.0,95.5,96.0,96.5,97.0,97.5,98.0,98.5,99.0,99.5,100.0],\"y\":[0.0,0.4755859375,0.7548828125,0.9022064208984375,1.0,1.0736083984375,1.1329879760742188,1.183004379272461,1.2263336181640625,1.2646808624267578,1.2991523742675781,1.3304996490478516,1.3593063354492188,1.3859710693359375,1.410813331604004,1.4341020584106445,1.456024169921875,1.476752758026123,1.4964237213134766,1.5151424407958984,1.5330123901367188,1.550112247467041,1.5665130615234375,1.5822787284851074,1.597452163696289,1.612091064453125,1.6262273788452148,1.6399025917053223,1.6531486511230469,1.6659893989562988,1.678462028503418,1.690578579902649,1.7023658752441406,1.7138417959213257,1.7250263690948486,1.7359375953674316,1.7465815544128418,1.756980061531067,1.767143726348877,1.777081847190857,1.78680419921875,1.7963277101516724,1.8056538105010986,1.8147960305213928,1.8237617015838623,1.8325549364089966,1.8411881923675537,1.8496644496917725,1.8579912185668945,1.866172969341278,1.8742144107818604,1.882124125957489,1.8899030685424805,1.8975600600242615,1.9050968885421753,1.9125178456306458,1.9198269844055176,1.9270284175872803,1.934123158454895,1.94111967086792,1.948016881942749,1.9548181295394897,1.9615280628204346,1.968149185180664,1.9746837615966797,1.9811320304870605,1.9875000715255737,1.9937884211540222,1.9999998807907104,2.0061357021331787,2.0121976733207703,2.0181882679462433,2.024110794067383,2.0299630165100098,2.035752296447754,2.041476219892502,2.047135591506958,2.0527347326278687,2.058274805545807,2.0637560188770294,2.0691800117492676,2.0745500028133392,2.0798636078834534,2.085124909877777,2.090333640575409,2.0954912900924683,2.1005999743938446,2.105659916996956,2.1106719970703125,2.115636497735977,2.120557129383087,2.125430405139923,2.130261719226837,2.1350506246089935,2.1397961378097534,2.144499570131302,2.149163246154785,2.153787687420845,2.15837299823761,2.1629188656806946,2.1674275398254395,2.171900972723961,2.176336258649826,2.180737689137459,2.185103178024292,2.1894333511590958,2.1937316954135895,2.197995141148567,2.2022282481193542,2.2064273357391357,2.21059650182724,2.2147331088781357,2.2188408374786377,2.2229165136814117,2.2269650995731354,2.230982929468155,2.234972894191742,2.238936021924019,2.242869645357132,2.246777005493641,2.2506576776504517,2.2545110285282135,2.2583398520946503,2.2621422708034515,2.265919864177704,2.269672229886055,2.2733997255563736,2.277103506028652,2.2807836532592773,2.2844401001930237,2.2880735993385315,2.2916847839951515,2.295273184776306,2.2988391742110252,2.302383005619049,2.305905818939209,2.309407651424408,2.3128884211182594,2.3163479268550873,2.319787919521332,2.3232069611549377,2.3266066163778305,2.329986274242401,2.333347335457802,2.336688995361328,2.3400114104151726,2.3433146476745605,2.3466008752584457,2.349867820739746,2.3531163930892944,2.3563485592603683,2.3595628812909126,2.3627589344978333,2.3659384846687317,2.369102120399475,2.372248061001301,2.375377893447876,2.378490835428238,2.3815883696079254,2.384669579565525,2.3877346515655518,2.3907849118113518,2.3938192427158356,2.396838866174221,2.399842530488968,2.402832582592964,2.4058064222335815,2.4087669290602207,2.4117132425308228,2.4146444275975227,2.4175620079040527,2.4204655811190605,2.423354685306549,2.4262307323515415,2.429093822836876,2.4319427087903023,2.4347786903381348,2.437601074576378,2.440411761403084,2.4432086497545242,2.4459929019212723,2.448764991015196,2.451524004340172,2.4542716965079308,2.4570063948631287,2.4597297981381416,2.4624408334493637,2.465139761567116,2.4678268134593964,2.4705035984516144,2.4731674790382385,2.4758207090198994,2.4784626960754395,2.4810928031802177,2.4837125167250633,2.4863211438059807,2.4889194071292877,2.4915058128535748,2.494082495570183,2.4966486394405365,2.499203383922577],\"marker\":{},\"line\":{},\"name\":\"n=4 \"},{\"type\":\"scatter\",\"mode\":\"lines\",\"x\":[0.0,0.5,1.0,1.5,2.0,2.5,3.0,3.5,4.0,4.5,5.0,5.5,6.0,6.5,7.0,7.5,8.0,8.5,9.0,9.5,10.0,10.5,11.0,11.5,12.0,12.5,13.0,13.5,14.0,14.5,15.0,15.5,16.0,16.5,17.0,17.5,18.0,18.5,19.0,19.5,20.0,20.5,21.0,21.5,22.0,22.5,23.0,23.5,24.0,24.5,25.0,25.5,26.0,26.5,27.0,27.5,28.0,28.5,29.0,29.5,30.0,30.5,31.0,31.5,32.0,32.5,33.0,33.5,34.0,34.5,35.0,35.5,36.0,36.5,37.0,37.5,38.0,38.5,39.0,39.5,40.0,40.5,41.0,41.5,42.0,42.5,43.0,43.5,44.0,44.5,45.0,45.5,46.0,46.5,47.0,47.5,48.0,48.5,49.0,49.5,50.0,50.5,51.0,51.5,52.0,52.5,53.0,53.5,54.0,54.5,55.0,55.5,56.0,56.5,57.0,57.5,58.0,58.5,59.0,59.5,60.0,60.5,61.0,61.5,62.0,62.5,63.0,63.5,64.0,64.5,65.0,65.5,66.0,66.5,67.0,67.5,68.0,68.5,69.0,69.5,70.0,70.5,71.0,71.5,72.0,72.5,73.0,73.5,74.0,74.5,75.0,75.5,76.0,76.5,77.0,77.5,78.0,78.5,79.0,79.5,80.0,80.5,81.0,81.5,82.0,82.5,83.0,83.5,84.0,84.5,85.0,85.5,86.0,86.5,87.0,87.5,88.0,88.5,89.0,89.5,90.0,90.5,91.0,91.5,92.0,92.5,93.0,93.5,94.0,94.5,95.0,95.5,96.0,96.5,97.0,97.5,98.0,98.5,99.0,99.5,100.0],\"y\":[0.0,0.498046875,0.82427978515625,0.9379806518554688,1.0,1.0427284240722656,1.0754585266113281,1.1020545959472656,1.1245193481445312,1.1439943313598633,1.161208152770996,1.1766471862792969,1.1906604766845703,1.2034945487976074,1.215341567993164,1.226348876953125,1.23663330078125,1.2462844848632812,1.255387544631958,1.2639973163604736,1.2721705436706543,1.279948353767395,1.2873709201812744,1.2944732904434204,1.301279067993164,1.3078153133392334,1.314101219177246,1.3201618194580078,1.3260083198547363,1.3316562175750732,1.3371223211288452,1.3424174189567566,1.3475513458251953,1.3525360822677612,1.357378363609314,1.362088918685913,1.3666713237762451,1.371137022972107,1.3754907846450806,1.3797365427017212,1.3838815689086914,1.387930005788803,1.3918876647949219,1.395757108926773,1.3995436429977417,1.4032499492168427,1.406880795955658,1.4104384779930115,1.413926124572754,1.4173469841480255,1.4207035303115845,1.4239979088306427,1.4272331595420837,1.4304113686084747,1.4335339665412903,1.436602845788002,1.4396207332611084,1.4425898641347885,1.4455113410949707,1.448386162519455,1.4512154459953308,1.454002469778061,1.4567475020885468,1.4594514816999435,1.4621171951293945,1.4647437632083893,1.467334359884262,1.4698876738548279,1.4724078178405762,1.4748925119638443,1.4773452281951904,1.4797661900520325,1.482155442237854,1.484514556825161,1.4868440628051758,1.4891451224684715,1.491417944431305,1.4936635047197342,1.4958830773830414,1.498076543211937,1.500244140625,1.502387747168541,1.5045067518949509,1.5066022723913193,1.5086754262447357,1.5107254683971405,1.512754201889038,1.5147609785199165,1.5167465209960938,1.5187123715877533,1.5206576138734818,1.5225835070014,1.5244895219802856,1.5263774245977402,1.5282472223043442,1.5300977975130081,1.5319318771362305,1.5337475836277008,1.5355469733476639,1.5373296216130257,1.5390962362289429,1.540846474468708,1.5425811856985092,1.5443001836538315,1.5460037589073181,1.5476934984326363,1.5493676215410233,1.5510280057787895,1.55267433822155,1.5543068647384644,1.5559256076812744,1.5575311928987503,1.5591236352920532,1.560703583061695,1.5622702315449715,1.5638246946036816,1.5653670728206635,1.5668972879648209,1.5684155225753784,1.5699226818978786,1.57141774892807,1.5729022175073624,1.5743747502565384,1.5758370235562325,1.5772887766361237,1.5787291340529919,1.5801598727703094,1.5815798565745354,1.5829896926879883,1.5843898840248585,1.5857798606157303,1.5871608704328537,1.5885316282510757,1.5898936726152897,1.591245986521244,1.5925894305109978,1.5939237773418427,1.595249205827713,1.596565805375576,1.5978740938007832,1.5991739928722382,1.6004653349518776,1.6017483919858932,1.603023361414671,1.6042903661727905,1.6055489145219326,1.6068000569939613,1.6080437041819096,1.60927914083004,1.610507782548666,1.6117282211780548,1.6129417568445206,1.614147961139679,1.6153471861034632,1.6165391579270363,1.6177241131663322,1.6189022362232208,1.6200736593455076,1.621238462626934,1.6223963778465986,1.6235476732254028,1.6246928721666336,1.6258312538266182,1.626963548362255,1.6280892342329025,1.629209266975522,1.6303227245807648,1.631430484354496,1.632532149553299,1.633627900853753,1.634717881679535,1.635802198201418,1.6368802785873413,1.6379531100392342,1.6390203684568405,1.640082336962223,1.6411386132240295,1.642189409583807,1.64323490858078,1.6442749295383692,1.6453099250793457,1.646339651197195,1.647364504635334,1.648384178057313,1.6493986696004868,1.650408636778593,1.6514133363962173,1.6524130254983902,1.6534082889556885,1.6543986406177282,1.6553842648863792,1.6563653238117695,1.6573415994644165,1.6583132036030293,1.6592805869877338,1.660243459045887,1.661201499402523,1.6621554587036371,1.6631053425371647,1.66405039280653,1.6649913042783737],\"marker\":{},\"line\":{},\"name\":\"n=8 \"}];\r\n",
       "            var layout = {\"width\":600,\"height\":600,\"template\":{\"layout\":{\"title\":{\"x\":0.05},\"font\":{\"color\":\"rgba(42, 63, 95, 1.0)\"},\"paper_bgcolor\":\"rgba(255, 255, 255, 1.0)\",\"plot_bgcolor\":\"rgba(229, 236, 246, 1.0)\",\"autotypenumbers\":\"strict\",\"colorscale\":{\"diverging\":[[0.0,\"#8e0152\"],[0.1,\"#c51b7d\"],[0.2,\"#de77ae\"],[0.3,\"#f1b6da\"],[0.4,\"#fde0ef\"],[0.5,\"#f7f7f7\"],[0.6,\"#e6f5d0\"],[0.7,\"#b8e186\"],[0.8,\"#7fbc41\"],[0.9,\"#4d9221\"],[1.0,\"#276419\"]],\"sequential\":[[0.0,\"#0d0887\"],[0.1111111111111111,\"#46039f\"],[0.2222222222222222,\"#7201a8\"],[0.3333333333333333,\"#9c179e\"],[0.4444444444444444,\"#bd3786\"],[0.5555555555555556,\"#d8576b\"],[0.6666666666666666,\"#ed7953\"],[0.7777777777777778,\"#fb9f3a\"],[0.8888888888888888,\"#fdca26\"],[1.0,\"#f0f921\"]],\"sequentialminus\":[[0.0,\"#0d0887\"],[0.1111111111111111,\"#46039f\"],[0.2222222222222222,\"#7201a8\"],[0.3333333333333333,\"#9c179e\"],[0.4444444444444444,\"#bd3786\"],[0.5555555555555556,\"#d8576b\"],[0.6666666666666666,\"#ed7953\"],[0.7777777777777778,\"#fb9f3a\"],[0.8888888888888888,\"#fdca26\"],[1.0,\"#f0f921\"]]},\"hovermode\":\"closest\",\"hoverlabel\":{\"align\":\"left\"},\"coloraxis\":{\"colorbar\":{\"outlinewidth\":0.0,\"ticks\":\"\"}},\"geo\":{\"showland\":true,\"landcolor\":\"rgba(229, 236, 246, 1.0)\",\"showlakes\":true,\"lakecolor\":\"rgba(255, 255, 255, 1.0)\",\"subunitcolor\":\"rgba(255, 255, 255, 1.0)\",\"bgcolor\":\"rgba(255, 255, 255, 1.0)\"},\"mapbox\":{\"style\":\"light\"},\"polar\":{\"bgcolor\":\"rgba(229, 236, 246, 1.0)\",\"radialaxis\":{\"linecolor\":\"rgba(255, 255, 255, 1.0)\",\"gridcolor\":\"rgba(255, 255, 255, 1.0)\",\"ticks\":\"\"},\"angularaxis\":{\"linecolor\":\"rgba(255, 255, 255, 1.0)\",\"gridcolor\":\"rgba(255, 255, 255, 1.0)\",\"ticks\":\"\"}},\"scene\":{\"xaxis\":{\"ticks\":\"\",\"linecolor\":\"rgba(255, 255, 255, 1.0)\",\"gridcolor\":\"rgba(255, 255, 255, 1.0)\",\"gridwidth\":2.0,\"zerolinecolor\":\"rgba(255, 255, 255, 1.0)\",\"backgroundcolor\":\"rgba(229, 236, 246, 1.0)\",\"showbackground\":true},\"yaxis\":{\"ticks\":\"\",\"linecolor\":\"rgba(255, 255, 255, 1.0)\",\"gridcolor\":\"rgba(255, 255, 255, 1.0)\",\"gridwidth\":2.0,\"zerolinecolor\":\"rgba(255, 255, 255, 1.0)\",\"backgroundcolor\":\"rgba(229, 236, 246, 1.0)\",\"showbackground\":true},\"zaxis\":{\"ticks\":\"\",\"linecolor\":\"rgba(255, 255, 255, 1.0)\",\"gridcolor\":\"rgba(255, 255, 255, 1.0)\",\"gridwidth\":2.0,\"zerolinecolor\":\"rgba(255, 255, 255, 1.0)\",\"backgroundcolor\":\"rgba(229, 236, 246, 1.0)\",\"showbackground\":true}},\"ternary\":{\"aaxis\":{\"ticks\":\"\",\"linecolor\":\"rgba(255, 255, 255, 1.0)\",\"gridcolor\":\"rgba(255, 255, 255, 1.0)\"},\"baxis\":{\"ticks\":\"\",\"linecolor\":\"rgba(255, 255, 255, 1.0)\",\"gridcolor\":\"rgba(255, 255, 255, 1.0)\"},\"caxis\":{\"ticks\":\"\",\"linecolor\":\"rgba(255, 255, 255, 1.0)\",\"gridcolor\":\"rgba(255, 255, 255, 1.0)\"},\"bgcolor\":\"rgba(229, 236, 246, 1.0)\"},\"xaxis\":{\"title\":{\"standoff\":15},\"ticks\":\"\",\"automargin\":true,\"linecolor\":\"rgba(255, 255, 255, 1.0)\",\"gridcolor\":\"rgba(255, 255, 255, 1.0)\",\"zerolinecolor\":\"rgba(255, 255, 255, 1.0)\",\"zerolinewidth\":2.0},\"yaxis\":{\"title\":{\"standoff\":15},\"ticks\":\"\",\"automargin\":true,\"linecolor\":\"rgba(255, 255, 255, 1.0)\",\"gridcolor\":\"rgba(255, 255, 255, 1.0)\",\"zerolinecolor\":\"rgba(255, 255, 255, 1.0)\",\"zerolinewidth\":2.0},\"annotationdefaults\":{\"arrowcolor\":\"#2a3f5f\",\"arrowhead\":0,\"arrowwidth\":1},\"shapedefaults\":{\"line\":{\"color\":\"rgba(42, 63, 95, 1.0)\"}},\"colorway\":[\"rgba(99, 110, 250, 1.0)\",\"rgba(239, 85, 59, 1.0)\",\"rgba(0, 204, 150, 1.0)\",\"rgba(171, 99, 250, 1.0)\",\"rgba(255, 161, 90, 1.0)\",\"rgba(25, 211, 243, 1.0)\",\"rgba(255, 102, 146, 1.0)\",\"rgba(182, 232, 128, 1.0)\",\"rgba(255, 151, 255, 1.0)\",\"rgba(254, 203, 82, 1.0)\"]},\"data\":{\"bar\":[{\"marker\":{\"line\":{\"color\":\"rgba(229, 236, 246, 1.0)\",\"width\":0.5},\"pattern\":{\"fillmode\":\"overlay\",\"size\":10,\"solidity\":0.2}},\"error_x\":{\"color\":\"rgba(42, 63, 95, 1.0)\"},\"error_y\":{\"color\":\"rgba(42, 63, 95, 1.0)\"}}],\"barpolar\":[{\"marker\":{\"line\":{\"color\":\"rgba(229, 236, 246, 1.0)\",\"width\":0.5},\"pattern\":{\"fillmode\":\"overlay\",\"size\":10,\"solidity\":0.2}}}],\"carpet\":[{\"aaxis\":{\"linecolor\":\"rgba(255, 255, 255, 1.0)\",\"gridcolor\":\"rgba(255, 255, 255, 1.0)\",\"endlinecolor\":\"rgba(42, 63, 95, 1.0)\",\"minorgridcolor\":\"rgba(255, 255, 255, 1.0)\",\"startlinecolor\":\"rgba(42, 63, 95, 1.0)\"},\"baxis\":{\"linecolor\":\"rgba(255, 255, 255, 1.0)\",\"gridcolor\":\"rgba(255, 255, 255, 1.0)\",\"endlinecolor\":\"rgba(42, 63, 95, 1.0)\",\"minorgridcolor\":\"rgba(255, 255, 255, 1.0)\",\"startlinecolor\":\"rgba(42, 63, 95, 1.0)\"}}],\"choropleth\":[{\"colorbar\":{\"outlinewidth\":0.0,\"ticks\":\"\"},\"colorscale\":[[0.0,\"#0d0887\"],[0.1111111111111111,\"#46039f\"],[0.2222222222222222,\"#7201a8\"],[0.3333333333333333,\"#9c179e\"],[0.4444444444444444,\"#bd3786\"],[0.5555555555555556,\"#d8576b\"],[0.6666666666666666,\"#ed7953\"],[0.7777777777777778,\"#fb9f3a\"],[0.8888888888888888,\"#fdca26\"],[1.0,\"#f0f921\"]]}],\"contour\":[{\"colorbar\":{\"outlinewidth\":0.0,\"ticks\":\"\"},\"colorscale\":[[0.0,\"#0d0887\"],[0.1111111111111111,\"#46039f\"],[0.2222222222222222,\"#7201a8\"],[0.3333333333333333,\"#9c179e\"],[0.4444444444444444,\"#bd3786\"],[0.5555555555555556,\"#d8576b\"],[0.6666666666666666,\"#ed7953\"],[0.7777777777777778,\"#fb9f3a\"],[0.8888888888888888,\"#fdca26\"],[1.0,\"#f0f921\"]]}],\"contourcarpet\":[{\"colorbar\":{\"outlinewidth\":0.0,\"ticks\":\"\"}}],\"heatmap\":[{\"colorbar\":{\"outlinewidth\":0.0,\"ticks\":\"\"},\"colorscale\":[[0.0,\"#0d0887\"],[0.1111111111111111,\"#46039f\"],[0.2222222222222222,\"#7201a8\"],[0.3333333333333333,\"#9c179e\"],[0.4444444444444444,\"#bd3786\"],[0.5555555555555556,\"#d8576b\"],[0.6666666666666666,\"#ed7953\"],[0.7777777777777778,\"#fb9f3a\"],[0.8888888888888888,\"#fdca26\"],[1.0,\"#f0f921\"]]}],\"heatmapgl\":[{\"colorbar\":{\"outlinewidth\":0.0,\"ticks\":\"\"},\"colorscale\":[[0.0,\"#0d0887\"],[0.1111111111111111,\"#46039f\"],[0.2222222222222222,\"#7201a8\"],[0.3333333333333333,\"#9c179e\"],[0.4444444444444444,\"#bd3786\"],[0.5555555555555556,\"#d8576b\"],[0.6666666666666666,\"#ed7953\"],[0.7777777777777778,\"#fb9f3a\"],[0.8888888888888888,\"#fdca26\"],[1.0,\"#f0f921\"]]}],\"histogram\":[{\"marker\":{\"pattern\":{\"fillmode\":\"overlay\",\"size\":10,\"solidity\":0.2}}}],\"histogram2d\":[{\"colorbar\":{\"outlinewidth\":0.0,\"ticks\":\"\"},\"colorscale\":[[0.0,\"#0d0887\"],[0.1111111111111111,\"#46039f\"],[0.2222222222222222,\"#7201a8\"],[0.3333333333333333,\"#9c179e\"],[0.4444444444444444,\"#bd3786\"],[0.5555555555555556,\"#d8576b\"],[0.6666666666666666,\"#ed7953\"],[0.7777777777777778,\"#fb9f3a\"],[0.8888888888888888,\"#fdca26\"],[1.0,\"#f0f921\"]]}],\"histogram2dcontour\":[{\"colorbar\":{\"outlinewidth\":0.0,\"ticks\":\"\"},\"colorscale\":[[0.0,\"#0d0887\"],[0.1111111111111111,\"#46039f\"],[0.2222222222222222,\"#7201a8\"],[0.3333333333333333,\"#9c179e\"],[0.4444444444444444,\"#bd3786\"],[0.5555555555555556,\"#d8576b\"],[0.6666666666666666,\"#ed7953\"],[0.7777777777777778,\"#fb9f3a\"],[0.8888888888888888,\"#fdca26\"],[1.0,\"#f0f921\"]]}],\"mesh3d\":[{\"colorbar\":{\"outlinewidth\":0.0,\"ticks\":\"\"}}],\"parcoords\":[{\"line\":{\"colorbar\":{\"outlinewidth\":0.0,\"ticks\":\"\"}}}],\"pie\":[{\"automargin\":true}],\"scatter\":[{\"marker\":{\"colorbar\":{\"outlinewidth\":0.0,\"ticks\":\"\"}}}],\"scatter3d\":[{\"marker\":{\"colorbar\":{\"outlinewidth\":0.0,\"ticks\":\"\"}},\"line\":{\"colorbar\":{\"outlinewidth\":0.0,\"ticks\":\"\"}}}],\"scattercarpet\":[{\"marker\":{\"colorbar\":{\"outlinewidth\":0.0,\"ticks\":\"\"}}}],\"scattergeo\":[{\"marker\":{\"colorbar\":{\"outlinewidth\":0.0,\"ticks\":\"\"}}}],\"scattergl\":[{\"marker\":{\"colorbar\":{\"outlinewidth\":0.0,\"ticks\":\"\"}}}],\"scattermapbox\":[{\"marker\":{\"colorbar\":{\"outlinewidth\":0.0,\"ticks\":\"\"}}}],\"scatterpolar\":[{\"marker\":{\"colorbar\":{\"outlinewidth\":0.0,\"ticks\":\"\"}}}],\"scatterpolargl\":[{\"marker\":{\"colorbar\":{\"outlinewidth\":0.0,\"ticks\":\"\"}}}],\"scatterternary\":[{\"marker\":{\"colorbar\":{\"outlinewidth\":0.0,\"ticks\":\"\"}}}],\"surface\":[{\"colorbar\":{\"outlinewidth\":0.0,\"ticks\":\"\"},\"colorscale\":[[0.0,\"#0d0887\"],[0.1111111111111111,\"#46039f\"],[0.2222222222222222,\"#7201a8\"],[0.3333333333333333,\"#9c179e\"],[0.4444444444444444,\"#bd3786\"],[0.5555555555555556,\"#d8576b\"],[0.6666666666666666,\"#ed7953\"],[0.7777777777777778,\"#fb9f3a\"],[0.8888888888888888,\"#fdca26\"],[1.0,\"#f0f921\"]]}],\"table\":[{\"cells\":{\"fill\":{\"color\":\"rgba(235, 240, 248, 1.0)\"},\"line\":{\"color\":\"rgba(255, 255, 255, 1.0)\"}},\"header\":{\"fill\":{\"color\":\"rgba(200, 212, 227, 1.0)\"},\"line\":{\"color\":\"rgba(255, 255, 255, 1.0)\"}}}]}},\"xaxis\":{\"title\":{\"text\":\"Beta\"}},\"yaxis\":{\"title\":{\"text\":\"Punktattraktion\"}}};\r\n",
       "            var config = {\"responsive\":true};\r\n",
       "            Plotly.newPlot('d26a240e-86f5-4a08-8be4-a2dec6e2d819', data, layout, config);\r\n",
       "});\r\n",
       "            };\r\n",
       "            if ((typeof(requirejs) !==  typeof(Function)) || (typeof(requirejs.config) !== typeof(Function))) {\r\n",
       "                var script = document.createElement(\"script\");\r\n",
       "                script.setAttribute(\"src\", \"https://cdnjs.cloudflare.com/ajax/libs/require.js/2.3.6/require.min.js\");\r\n",
       "                script.onload = function(){\r\n",
       "                    renderPlotly_d26a240e86f54a088be4a2dec6e2d819();\r\n",
       "                };\r\n",
       "                document.getElementsByTagName(\"head\")[0].appendChild(script);\r\n",
       "            }\r\n",
       "            else {\r\n",
       "                renderPlotly_d26a240e86f54a088be4a2dec6e2d819();\r\n",
       "            }\r\n",
       "</script>\r\n",
       "\n",
       "    \n",
       "</div>    \n"
      ]
     },
     "metadata": {},
     "output_type": "display_data"
    }
   ],
   "source": [
    "//Bisection Algorithmus (nicht anfassen)\n",
    "let fixedPoint beta (n: float) =\n",
    "    Optimization.Bisection.tryFindRoot\n",
    "        (fun x -> beta - x * (1. + x**n))\n",
    "        0.0001\n",
    "        0.\n",
    "        beta\n",
    "        100\n",
    "//Array der beschreibt welche Spanne von betas sich angeschaut werden (von 0 bis 100) und mit welchen Schritten (0.5)\n",
    "let betaArr = [|0. .. 0.5 .. 100.|]\n",
    "\n",
    "//Die gewählten Werte für n (diese Verändern falls nötig)\n",
    "[|2.;4.;8.|]\n",
    "//Die graphische Darstellung der Fixpunkte, berechnet durch den Bisection Algorithmus (nicht anfassen)\n",
    "|> Array.map (fun n ->\n",
    "    Chart.Line\n",
    "        (\n",
    "            Array.zip \n",
    "                betaArr\n",
    "                (betaArr |> Array.map (fun beta -> fixedPoint beta n))\n",
    "            |> Array.filter (fun (x,y) -> y.IsSome)\n",
    "            |> Array.map (fun (x,y) -> x,y.Value)\n",
    "        )\n",
    "    |> Chart.withTraceInfo(Name = $\"n={n} \");\n",
    "\n",
    ")\n",
    "|> Chart.combine\n",
    "|> Chart.withXAxisStyle(\"Beta\")\n",
    "|> Chart.withYAxisStyle(\"Punktattraktion\")"
   ]
  },
  {
   "cell_type": "markdown",
   "metadata": {},
   "source": [
    "Das bestimmen des nummerischen Wertes auf diesem Graph ist trivial. Wir müssen uns nur überlegen welches $\\beta$ wir haben und welches $n$ und können dann einfach den Wert an der gegeben Stelle ablesen.\n",
    "\n",
    "Aufgabe 4.14:\n",
    "Ermittle die Punktattraktion für die folgenden drei Kombinationen von $\\beta$ und $n$. \n",
    "1. $\\beta = 10$, $n=3$\n",
    "2. $\\beta = 10$, $n=10$\n",
    "3. $\\beta = 2$ , $n=10$\n",
    "\n",
    "Kompiere dafür den Code Block mit dem Bisektion Algorithmus in den nachfolgenden Code Block und gebe verändere die Werte für n, falls nötig."
   ]
  },
  {
   "cell_type": "code",
   "execution_count": null,
   "metadata": {
    "dotnet_interactive": {
     "language": "fsharp"
    },
    "vscode": {
     "languageId": "dotnet-interactive.fsharp"
    }
   },
   "outputs": [],
   "source": [
    "//Hier den Code reinkopieren"
   ]
  },
  {
   "cell_type": "markdown",
   "metadata": {},
   "source": [
    "Hier die Antwort eintragen"
   ]
  },
  {
   "cell_type": "markdown",
   "metadata": {},
   "source": [
    "Es folgt eine kurze Besprechung. Falls sie zu schnell vorangekommen sind können sie die folgende Aufgabe bearbeiten.\n",
    "\n",
    "Expertenaufgabe 4.3: "
   ]
  },
  {
   "cell_type": "markdown",
   "metadata": {},
   "source": [
    "----------------------\n",
    "\n",
    "Wir werden jetzt dazu übergehen den Grenzzyklus graphisch darzustellen. \n",
    "\n",
    "Aufgabe 4.15:<br>\n",
    "Fügen sie die drei Differenzialgleichungen die die Prteinkonzentration von x1, x2, und x3 beschreiben in den nachfolgenden Code Block ein (beachten sie das übliche)."
   ]
  },
  {
   "cell_type": "code",
   "execution_count": null,
   "metadata": {
    "dotnet_interactive": {
     "language": "fsharp"
    },
    "vscode": {
     "languageId": "dotnet-interactive.fsharp"
    }
   },
   "outputs": [
    {
     "data": {
      "text/html": [
       "\n",
       "<div>\n",
       "    <div id=\"dc264382-cf93-4a3b-a199-acb2fb446ef3\"><!-- Plotly chart will be drawn inside this DIV --></div>\r\n",
       "<script type=\"text/javascript\">\r\n",
       "\r\n",
       "            var renderPlotly_dc264382cf934a3ba199acb2fb446ef3 = function() {\r\n",
       "            var fsharpPlotlyRequire = requirejs.config({context:'fsharp-plotly',paths:{plotly:'https://cdn.plot.ly/plotly-2.6.3.min'}}) || require;\r\n",
       "            fsharpPlotlyRequire(['plotly'], function(Plotly) {\r\n",
       "\r\n",
       "            var data = [{\"type\":\"scatter\",\"mode\":\"lines\",\"x\":[0.0,0.27498381191050736,0.5083376387808366,0.7448349058204391,1.0227525467393748,1.357678441714033,1.7676454786051519,2.243665288123432,2.7463760832685664,3.260766523226204,3.773830540477527,4.28416121125207,4.7898980374989355,5.289694814388849,5.784712984951081,6.271952199237621,6.755417625720818,7.231468257262467,7.705255670237092,8.174166355556178,8.638328198239435,9.099376375220409,9.552691855916759,10.004757149145805,10.452123313504776,10.895628131231742,11.337251659997627,11.77171172696838,12.20579726258017,12.637500714065078,13.063190878774938,13.488811479945053,13.910430879447553,14.328868498334629,14.747383129425273,15.160534408467786,15.572526169633688,15.984815148416535,16.391117466428184,16.79729219450049,17.204194215179776,17.605071851237778,18.00617430345536,18.40849636131948,18.804953632078625,19.2016227084635,19.600075462472113,19.992970736744276,20.385749034946905,20.78090393586401,21.17116806570698,21.560571424159505,21.95281028041441,22.34148881080243,22.728069434778654,23.117441374944306,23.505317459868586,23.88957183265663,24.276010804693417,24.66348176693867,25.045897456141084,25.42942092507855,25.81621318893687,26.19759289029779,26.57875426976021,26.96416273553889,27.345647891768067,27.725175313086414,28.108524807575957,28.49131968634468,28.86998308867698,29.250678485225354,29.6343596634797,30.01251922076296,30.390622727209937,30.773588257349978,31.152348381923144,31.529174220501183,31.910411410869376,32.29131465353645,32.66792395189199,33.04652079102226,33.4287783299606,33.80552059724631,34.18171118139282,34.56322064132654,34.94127600759302,35.31665510006919,35.69613377655889,36.07675818059682,36.452426185211316,36.82917034993689,37.21070278304583,37.58709790792291,37.96203238606215,38.342341420863576,38.72097111754855,39.095793653984245,39.47354303203002,39.85446034969802,40.22980404201746,40.60484607480124,40.985479613259365,41.362218300829305,41.73640115119516,42.11517621771673,42.49488303878455,42.86966844792309,43.2456614421961,43.62658441590815,44.00233521960611,44.37648809348261,44.75619436042142,45.13439666927863,45.508628676138606,45.885707508365904,46.26629666090015,46.64124471730192,47.01561521719186,47.39576555966513,47.77237933629873,48.14613866278723,48.524287535434574,48.90400022584544,49.27856205383234,49.65390583595684,50.03454038255467,50.41027732871751,50.78405537280711,51.163246345431205,51.541736750356286,51.91587417376825,52.29230812947765,52.67289927412091,53.04792286480549,53.42192420854016,53.801781988933485,54.178848412159425,54.552567222916466,54.93011225010016,55.31011980402188,55.68470638275141,56.059452630305586,56.43981765744843,56.81579497592916,57.189383721007864,57.56801997219271,57.947019357430705,58.32124918538795,58.69705335541027],\"y\":[1.0,1.1267344113971418,1.1764500408131116,1.2276900124127592,1.3066288070415748,1.4224481875494055,1.5451255933441141,1.5710920958024275,1.4457249191054546,1.2713811289959307,1.1846915764804182,1.2594604005105494,1.4633161201216447,1.631190149383332,1.6016215849872075,1.4100247567044586,1.2136346941715337,1.1343278515708783,1.2307875354601812,1.4707350543270294,1.6902573831816512,1.703117835374076,1.5084886366953216,1.263360251733287,1.1027594082056678,1.102749457754889,1.292220637716342,1.5908561874415652,1.807274926360026,1.7699247141707488,1.527197873288957,1.2513848545502788,1.0649193009390134,1.0344256773673952,1.201102009199126,1.5232380136198604,1.8351889152239154,1.9235169291852976,1.731775562467293,1.4198445171690288,1.1450900541158675,0.990802480722635,1.0063963504584799,1.228265302322748,1.5963200858963433,1.9330024290170755,2.0211046156160264,1.8080915506735136,1.468937642373494,1.1644474306841595,0.9744245331809056,0.9430547018800528,1.1168268460463926,1.478065639849073,1.8823028932323302,2.108648751762534,2.0011962339753167,1.669696380388499,1.3150793593878236,1.0453633533566449,0.911058563397376,0.954115001428005,1.2142682281998858,1.6310019141259917,2.026494061855341,2.1757988338939103,1.9791495021014132,1.609959156772861,1.254367649888803,0.9993574159516754,0.8855233033879389,0.9560101706649383,1.247408654858562,1.6852181591386575,2.0827953956377634,2.215439940458654,1.9960173650208843,1.6134253626075878,1.2513168675236273,0.9921714754437946,0.8739370166664753,0.938627336338023,1.2264616773170085,1.669400362711823,2.084263958256429,2.245258815780064,2.043314668833572,1.658227900065145,1.2846011246523799,1.009538682033062,0.8721831736861705,0.9113439368005322,1.173249267796334,1.6089384839832124,2.0466306391479514,2.2612365987287046,2.1056109011162447,1.7283000410827218,1.3418439247316498,1.0448472781244391,0.8808404129630018,0.8844184252495886,1.1057781910140845,1.5217535695680153,1.978913571675602,2.2566730271734263,2.1702681418852685,1.813972337995043,1.4166154430691267,1.0952979736278383,0.9007770652537457,0.8644669320778893,1.0369217862402762,1.4220242405901773,1.890004820433306,2.2282744136697623,2.2259060670788515,1.906489797401629,1.5031875621828652,1.158124034260989,0.9318391321853358,0.8549173536176509,0.9745817566715773,1.3179711289246054,1.7849850476969555,2.1753564280114532,2.2653404938221424,2.0008338614368477,1.5985488705392912,1.2314831715749162,0.9730831436634882,0.8568011593416549,0.9241638087667031,1.2177601624780308,1.6710511789898246,2.101112756958646,2.2820002728201483,2.0894888028580887,1.6987335423884886,1.3136036994565616,1.0241184658941422,0.8700076068361529,0.8868131152207053,1.1245122284754832,1.5518779231315165,2.008714303944904,2.272984900381736,2.1670405212007466,1.8011236249909974,1.4029226750894366],\"marker\":{},\"line\":{\"shape\":\"spline\"}},{\"type\":\"scatter\",\"mode\":\"lines\",\"x\":[0.0,0.27498381191050736,0.5083376387808366,0.7448349058204391,1.0227525467393748,1.357678441714033,1.7676454786051519,2.243665288123432,2.7463760832685664,3.260766523226204,3.773830540477527,4.28416121125207,4.7898980374989355,5.289694814388849,5.784712984951081,6.271952199237621,6.755417625720818,7.231468257262467,7.705255670237092,8.174166355556178,8.638328198239435,9.099376375220409,9.552691855916759,10.004757149145805,10.452123313504776,10.895628131231742,11.337251659997627,11.77171172696838,12.20579726258017,12.637500714065078,13.063190878774938,13.488811479945053,13.910430879447553,14.328868498334629,14.747383129425273,15.160534408467786,15.572526169633688,15.984815148416535,16.391117466428184,16.79729219450049,17.204194215179776,17.605071851237778,18.00617430345536,18.40849636131948,18.804953632078625,19.2016227084635,19.600075462472113,19.992970736744276,20.385749034946905,20.78090393586401,21.17116806570698,21.560571424159505,21.95281028041441,22.34148881080243,22.728069434778654,23.117441374944306,23.505317459868586,23.88957183265663,24.276010804693417,24.66348176693867,25.045897456141084,25.42942092507855,25.81621318893687,26.19759289029779,26.57875426976021,26.96416273553889,27.345647891768067,27.725175313086414,28.108524807575957,28.49131968634468,28.86998308867698,29.250678485225354,29.6343596634797,30.01251922076296,30.390622727209937,30.773588257349978,31.152348381923144,31.529174220501183,31.910411410869376,32.29131465353645,32.66792395189199,33.04652079102226,33.4287783299606,33.80552059724631,34.18171118139282,34.56322064132654,34.94127600759302,35.31665510006919,35.69613377655889,36.07675818059682,36.452426185211316,36.82917034993689,37.21070278304583,37.58709790792291,37.96203238606215,38.342341420863576,38.72097111754855,39.095793653984245,39.47354303203002,39.85446034969802,40.22980404201746,40.60484607480124,40.985479613259365,41.362218300829305,41.73640115119516,42.11517621771673,42.49488303878455,42.86966844792309,43.2456614421961,43.62658441590815,44.00233521960611,44.37648809348261,44.75619436042142,45.13439666927863,45.508628676138606,45.885707508365904,46.26629666090015,46.64124471730192,47.01561521719186,47.39576555966513,47.77237933629873,48.14613866278723,48.524287535434574,48.90400022584544,49.27856205383234,49.65390583595684,50.03454038255467,50.41027732871751,50.78405537280711,51.163246345431205,51.541736750356286,51.91587417376825,52.29230812947765,52.67289927412091,53.04792286480549,53.42192420854016,53.801781988933485,54.178848412159425,54.552567222916466,54.93011225010016,55.31011980402188,55.68470638275141,56.059452630305586,56.43981765744843,56.81579497592916,57.189383721007864,57.56801997219271,57.947019357430705,58.32124918538795,58.69705335541027],\"y\":[1.0,1.2932926965553906,1.4346745356729667,1.5173288600146868,1.549206837065123,1.5093028096286822,1.3910458383934583,1.2517760962141247,1.200823371503312,1.3022166039440661,1.5009486408487405,1.6215071677838722,1.541313477220723,1.342846202282745,1.1828624118946043,1.1658793835693646,1.3225816099710024,1.5641124178352506,1.698776088402798,1.60472158309084,1.375382398434804,1.1714768134396487,1.0984788150343674,1.208199738433925,1.4712670529988685,1.7281532967730608,1.7788941395762274,1.5917851618764736,1.3206557843125941,1.110600079897662,1.0434891686449128,1.1666168907918693,1.4593735269091617,1.773206827002166,1.8945623042902686,1.7363383098520693,1.4385442401608453,1.1654222075906198,1.008369495812386,1.0197902647030987,1.2352034850260452,1.5929757448848878,1.9142335922352371,1.9852733737778816,1.767015410501808,1.435090643953677,1.144408068545066,0.9727489309050663,0.9656554307424388,1.166387297278729,1.5379068190486345,1.9198418922287441,2.0888999797077186,1.9291374709060043,1.5872427295552298,1.2490044592819283,1.0086807991549174,0.9120203072654405,1.0048205602087703,1.3114047460987406,1.7369765557948886,2.083092500718192,2.1346341199074503,1.8707163274639298,1.496629617300023,1.167292015088915,0.9530998613625168,0.8908144705829426,1.028615807966824,1.378246954660331,1.8232769710282495,2.1548729895992897,2.16400941271644,1.8653550346288674,1.4788773562768782,1.147958326860015,0.9359149607657501,0.8765975894610996,1.0187005918973584,1.3756951304688558,1.8313677648817084,2.1775928750256277,2.2007240316448424,1.9032242290416732,1.5089449225221718,1.166817966647557,0.9414574724766156,0.8654617778761962,0.9861355471994164,1.3278234184782478,1.7881096468092346,2.1654488871971487,2.238295520108168,1.967072211080275,1.5693099345505364,1.2110721633823918,0.963727735760729,0.8606617975495554,0.9456251636461487,1.2557423963841976,1.711628273338336,2.1235275646183287,2.265788598963247,2.043141541552752,1.6491833238863582,1.2739815905008194,1.0002848310344796,0.8651322102304557,0.907252211043527,1.1733558741599475,1.613739256759727,2.0557325987974,2.274374080597894,2.119684951712867,1.7398083291079844,1.3497801033347683,1.0487051675272558,0.8801098818424429,0.8776124941134826,1.0919922510608306,1.5051064319865208,1.9671821572630512,2.259004907269709,2.1887146807285176,1.8372121608883618,1.4366098255733788,1.1087617264548644,0.9061181505250994,0.8593533346731255,1.0185297489549558,1.3944272961321476,1.8645290960184895,2.2190991203838575,2.242124037045328,1.9354563639336935,1.530729575123838,1.1784489487445886,0.9423859900837772,0.8534257797909822,0.9571903704194817,1.2865359398626952,1.751268604679932,2.155880303613585,2.2750229088713185,2.0311265105710503,1.630787182050731,1.2571314917326348,0.988326838021959,0.8594297954850486,0.9099273291622862],\"marker\":{},\"line\":{\"shape\":\"spline\"}},{\"type\":\"scatter\",\"mode\":\"lines\",\"x\":[0.0,0.27498381191050736,0.5083376387808366,0.7448349058204391,1.0227525467393748,1.357678441714033,1.7676454786051519,2.243665288123432,2.7463760832685664,3.260766523226204,3.773830540477527,4.28416121125207,4.7898980374989355,5.289694814388849,5.784712984951081,6.271952199237621,6.755417625720818,7.231468257262467,7.705255670237092,8.174166355556178,8.638328198239435,9.099376375220409,9.552691855916759,10.004757149145805,10.452123313504776,10.895628131231742,11.337251659997627,11.77171172696838,12.20579726258017,12.637500714065078,13.063190878774938,13.488811479945053,13.910430879447553,14.328868498334629,14.747383129425273,15.160534408467786,15.572526169633688,15.984815148416535,16.391117466428184,16.79729219450049,17.204194215179776,17.605071851237778,18.00617430345536,18.40849636131948,18.804953632078625,19.2016227084635,19.600075462472113,19.992970736744276,20.385749034946905,20.78090393586401,21.17116806570698,21.560571424159505,21.95281028041441,22.34148881080243,22.728069434778654,23.117441374944306,23.505317459868586,23.88957183265663,24.276010804693417,24.66348176693867,25.045897456141084,25.42942092507855,25.81621318893687,26.19759289029779,26.57875426976021,26.96416273553889,27.345647891768067,27.725175313086414,28.108524807575957,28.49131968634468,28.86998308867698,29.250678485225354,29.6343596634797,30.01251922076296,30.390622727209937,30.773588257349978,31.152348381923144,31.529174220501183,31.910411410869376,32.29131465353645,32.66792395189199,33.04652079102226,33.4287783299606,33.80552059724631,34.18171118139282,34.56322064132654,34.94127600759302,35.31665510006919,35.69613377655889,36.07675818059682,36.452426185211316,36.82917034993689,37.21070278304583,37.58709790792291,37.96203238606215,38.342341420863576,38.72097111754855,39.095793653984245,39.47354303203002,39.85446034969802,40.22980404201746,40.60484607480124,40.985479613259365,41.362218300829305,41.73640115119516,42.11517621771673,42.49488303878455,42.86966844792309,43.2456614421961,43.62658441590815,44.00233521960611,44.37648809348261,44.75619436042142,45.13439666927863,45.508628676138606,45.885707508365904,46.26629666090015,46.64124471730192,47.01561521719186,47.39576555966513,47.77237933629873,48.14613866278723,48.524287535434574,48.90400022584544,49.27856205383234,49.65390583595684,50.03454038255467,50.41027732871751,50.78405537280711,51.163246345431205,51.541736750356286,51.91587417376825,52.29230812947765,52.67289927412091,53.04792286480549,53.42192420854016,53.801781988933485,54.178848412159425,54.552567222916466,54.93011225010016,55.31011980402188,55.68470638275141,56.059452630305586,56.43981765744843,56.81579497592916,57.189383721007864,57.56801997219271,57.947019357430705,58.32124918538795,58.69705335541027],\"y\":[1.2,1.3775115480957545,1.381727460599796,1.3383373127889222,1.2745996434512392,1.2204920885548949,1.2262702690828886,1.3443287477084398,1.5230257995822436,1.5997327429036152,1.489275027522457,1.298498716647621,1.1763777995290516,1.2118781197757835,1.4038443561902925,1.6164196987042472,1.6608265966832814,1.5005351905771176,1.2766742049658442,1.1319691453352267,1.148531626136537,1.3442125347913996,1.6141091965355208,1.75912515641462,1.657124020524428,1.407757376463435,1.1749301988562355,1.0631824105645489,1.129981352790228,1.3801655031083886,1.6925772522012161,1.8591481674032753,1.7515156740830566,1.4747618111428678,1.2002599632620021,1.032239494176537,1.0282715667824698,1.2255206046243061,1.5683191593865438,1.8815634061379884,1.9527256738579564,1.7415342589530647,1.418709512029313,1.1381330761011639,0.9787255902339114,0.9878032548854075,1.204726014347716,1.5778635285125895,1.9358519749118877,2.0573948934047346,1.8631923682727831,1.5199404048164245,1.1990476106368793,0.985709427959463,0.9238765871040177,1.0610518465212335,1.4011670011922779,1.8214180025819429,2.109015478564151,2.072680490177585,1.7653676099699291,1.3977660927517053,1.0977646577629308,0.924028260581286,0.9146145984948234,1.117204720636608,1.5087508106508418,1.9386620040906863,2.185034290251966,2.080778580885705,1.734176489184012,1.3583718924077166,1.0638147159536708,0.9002191098605994,0.9042605128235129,1.1241714196487769,1.5319474580891734,1.9720128753604622,2.2219191355117727,2.1125840550297683,1.756615036358394,1.372086978242942,1.06888479653565,0.8957268597954653,0.8871965374875568,1.0932018866220923,1.4967457649628106,1.9501842550108979,2.2339980758684597,2.1604550591585876,1.8132717968823573,1.4195332124892284,1.0994754306360148,0.9055314941515824,0.8698944312531021,1.0428975201772497,1.4267756934235933,1.8907647930554194,2.221568343778575,2.210911131400886,1.889584912501599,1.4891650261447928,1.148848375936493,0.9283174220611653,0.8585589674360224,0.9875944294309253,1.338301435475245,1.8045631097077752,2.1833148094964123,2.252772256304427,1.975859016435007,1.5739705004989446,1.212801801881762,0.962821415823564,0.8567235249075636,0.9376742818796012,1.2447160687766923,1.7018541040254935,2.1211056342908416,2.2766063019618277,2.0628536467445917,1.668517476002745,1.288757597080041,1.0085595960620721,0.8656868277032683,0.8974908393921471,1.152402267292782,1.5884563750570353,2.037914184789817,2.2768784697998,2.142456370226053,1.7674709041484307,1.3732019961985618,1.0640279830136148,0.8854980767170999,0.8700052997608695,1.0686848839269956,1.4724966693335477,1.9390623686995474,2.251608135684457,2.2089395292265093,1.8687396878896656,1.4656011970764489,1.12953823388,0.916108442744827,0.8555327770234169,0.9967820501316319,1.3587902063819086,1.8290503390414274,2.201878751081182],\"marker\":{},\"line\":{\"shape\":\"spline\"}}];\r\n",
       "            var layout = {\"width\":1100,\"height\":600,\"template\":{\"layout\":{\"title\":{\"x\":0.05},\"font\":{\"color\":\"rgba(42, 63, 95, 1.0)\"},\"paper_bgcolor\":\"rgba(255, 255, 255, 1.0)\",\"plot_bgcolor\":\"rgba(229, 236, 246, 1.0)\",\"autotypenumbers\":\"strict\",\"colorscale\":{\"diverging\":[[0.0,\"#8e0152\"],[0.1,\"#c51b7d\"],[0.2,\"#de77ae\"],[0.3,\"#f1b6da\"],[0.4,\"#fde0ef\"],[0.5,\"#f7f7f7\"],[0.6,\"#e6f5d0\"],[0.7,\"#b8e186\"],[0.8,\"#7fbc41\"],[0.9,\"#4d9221\"],[1.0,\"#276419\"]],\"sequential\":[[0.0,\"#0d0887\"],[0.1111111111111111,\"#46039f\"],[0.2222222222222222,\"#7201a8\"],[0.3333333333333333,\"#9c179e\"],[0.4444444444444444,\"#bd3786\"],[0.5555555555555556,\"#d8576b\"],[0.6666666666666666,\"#ed7953\"],[0.7777777777777778,\"#fb9f3a\"],[0.8888888888888888,\"#fdca26\"],[1.0,\"#f0f921\"]],\"sequentialminus\":[[0.0,\"#0d0887\"],[0.1111111111111111,\"#46039f\"],[0.2222222222222222,\"#7201a8\"],[0.3333333333333333,\"#9c179e\"],[0.4444444444444444,\"#bd3786\"],[0.5555555555555556,\"#d8576b\"],[0.6666666666666666,\"#ed7953\"],[0.7777777777777778,\"#fb9f3a\"],[0.8888888888888888,\"#fdca26\"],[1.0,\"#f0f921\"]]},\"hovermode\":\"closest\",\"hoverlabel\":{\"align\":\"left\"},\"coloraxis\":{\"colorbar\":{\"outlinewidth\":0.0,\"ticks\":\"\"}},\"geo\":{\"showland\":true,\"landcolor\":\"rgba(229, 236, 246, 1.0)\",\"showlakes\":true,\"lakecolor\":\"rgba(255, 255, 255, 1.0)\",\"subunitcolor\":\"rgba(255, 255, 255, 1.0)\",\"bgcolor\":\"rgba(255, 255, 255, 1.0)\"},\"mapbox\":{\"style\":\"light\"},\"polar\":{\"bgcolor\":\"rgba(229, 236, 246, 1.0)\",\"radialaxis\":{\"linecolor\":\"rgba(255, 255, 255, 1.0)\",\"gridcolor\":\"rgba(255, 255, 255, 1.0)\",\"ticks\":\"\"},\"angularaxis\":{\"linecolor\":\"rgba(255, 255, 255, 1.0)\",\"gridcolor\":\"rgba(255, 255, 255, 1.0)\",\"ticks\":\"\"}},\"scene\":{\"xaxis\":{\"ticks\":\"\",\"linecolor\":\"rgba(255, 255, 255, 1.0)\",\"gridcolor\":\"rgba(255, 255, 255, 1.0)\",\"gridwidth\":2.0,\"zerolinecolor\":\"rgba(255, 255, 255, 1.0)\",\"backgroundcolor\":\"rgba(229, 236, 246, 1.0)\",\"showbackground\":true},\"yaxis\":{\"ticks\":\"\",\"linecolor\":\"rgba(255, 255, 255, 1.0)\",\"gridcolor\":\"rgba(255, 255, 255, 1.0)\",\"gridwidth\":2.0,\"zerolinecolor\":\"rgba(255, 255, 255, 1.0)\",\"backgroundcolor\":\"rgba(229, 236, 246, 1.0)\",\"showbackground\":true},\"zaxis\":{\"ticks\":\"\",\"linecolor\":\"rgba(255, 255, 255, 1.0)\",\"gridcolor\":\"rgba(255, 255, 255, 1.0)\",\"gridwidth\":2.0,\"zerolinecolor\":\"rgba(255, 255, 255, 1.0)\",\"backgroundcolor\":\"rgba(229, 236, 246, 1.0)\",\"showbackground\":true}},\"ternary\":{\"aaxis\":{\"ticks\":\"\",\"linecolor\":\"rgba(255, 255, 255, 1.0)\",\"gridcolor\":\"rgba(255, 255, 255, 1.0)\"},\"baxis\":{\"ticks\":\"\",\"linecolor\":\"rgba(255, 255, 255, 1.0)\",\"gridcolor\":\"rgba(255, 255, 255, 1.0)\"},\"caxis\":{\"ticks\":\"\",\"linecolor\":\"rgba(255, 255, 255, 1.0)\",\"gridcolor\":\"rgba(255, 255, 255, 1.0)\"},\"bgcolor\":\"rgba(229, 236, 246, 1.0)\"},\"xaxis\":{\"title\":{\"standoff\":15},\"ticks\":\"\",\"automargin\":true,\"linecolor\":\"rgba(255, 255, 255, 1.0)\",\"gridcolor\":\"rgba(255, 255, 255, 1.0)\",\"zerolinecolor\":\"rgba(255, 255, 255, 1.0)\",\"zerolinewidth\":2.0},\"yaxis\":{\"title\":{\"standoff\":15},\"ticks\":\"\",\"automargin\":true,\"linecolor\":\"rgba(255, 255, 255, 1.0)\",\"gridcolor\":\"rgba(255, 255, 255, 1.0)\",\"zerolinecolor\":\"rgba(255, 255, 255, 1.0)\",\"zerolinewidth\":2.0},\"annotationdefaults\":{\"arrowcolor\":\"#2a3f5f\",\"arrowhead\":0,\"arrowwidth\":1},\"shapedefaults\":{\"line\":{\"color\":\"rgba(42, 63, 95, 1.0)\"}},\"colorway\":[\"rgba(99, 110, 250, 1.0)\",\"rgba(239, 85, 59, 1.0)\",\"rgba(0, 204, 150, 1.0)\",\"rgba(171, 99, 250, 1.0)\",\"rgba(255, 161, 90, 1.0)\",\"rgba(25, 211, 243, 1.0)\",\"rgba(255, 102, 146, 1.0)\",\"rgba(182, 232, 128, 1.0)\",\"rgba(255, 151, 255, 1.0)\",\"rgba(254, 203, 82, 1.0)\"]},\"data\":{\"bar\":[{\"marker\":{\"line\":{\"color\":\"rgba(229, 236, 246, 1.0)\",\"width\":0.5},\"pattern\":{\"fillmode\":\"overlay\",\"size\":10,\"solidity\":0.2}},\"error_x\":{\"color\":\"rgba(42, 63, 95, 1.0)\"},\"error_y\":{\"color\":\"rgba(42, 63, 95, 1.0)\"}}],\"barpolar\":[{\"marker\":{\"line\":{\"color\":\"rgba(229, 236, 246, 1.0)\",\"width\":0.5},\"pattern\":{\"fillmode\":\"overlay\",\"size\":10,\"solidity\":0.2}}}],\"carpet\":[{\"aaxis\":{\"linecolor\":\"rgba(255, 255, 255, 1.0)\",\"gridcolor\":\"rgba(255, 255, 255, 1.0)\",\"endlinecolor\":\"rgba(42, 63, 95, 1.0)\",\"minorgridcolor\":\"rgba(255, 255, 255, 1.0)\",\"startlinecolor\":\"rgba(42, 63, 95, 1.0)\"},\"baxis\":{\"linecolor\":\"rgba(255, 255, 255, 1.0)\",\"gridcolor\":\"rgba(255, 255, 255, 1.0)\",\"endlinecolor\":\"rgba(42, 63, 95, 1.0)\",\"minorgridcolor\":\"rgba(255, 255, 255, 1.0)\",\"startlinecolor\":\"rgba(42, 63, 95, 1.0)\"}}],\"choropleth\":[{\"colorbar\":{\"outlinewidth\":0.0,\"ticks\":\"\"},\"colorscale\":[[0.0,\"#0d0887\"],[0.1111111111111111,\"#46039f\"],[0.2222222222222222,\"#7201a8\"],[0.3333333333333333,\"#9c179e\"],[0.4444444444444444,\"#bd3786\"],[0.5555555555555556,\"#d8576b\"],[0.6666666666666666,\"#ed7953\"],[0.7777777777777778,\"#fb9f3a\"],[0.8888888888888888,\"#fdca26\"],[1.0,\"#f0f921\"]]}],\"contour\":[{\"colorbar\":{\"outlinewidth\":0.0,\"ticks\":\"\"},\"colorscale\":[[0.0,\"#0d0887\"],[0.1111111111111111,\"#46039f\"],[0.2222222222222222,\"#7201a8\"],[0.3333333333333333,\"#9c179e\"],[0.4444444444444444,\"#bd3786\"],[0.5555555555555556,\"#d8576b\"],[0.6666666666666666,\"#ed7953\"],[0.7777777777777778,\"#fb9f3a\"],[0.8888888888888888,\"#fdca26\"],[1.0,\"#f0f921\"]]}],\"contourcarpet\":[{\"colorbar\":{\"outlinewidth\":0.0,\"ticks\":\"\"}}],\"heatmap\":[{\"colorbar\":{\"outlinewidth\":0.0,\"ticks\":\"\"},\"colorscale\":[[0.0,\"#0d0887\"],[0.1111111111111111,\"#46039f\"],[0.2222222222222222,\"#7201a8\"],[0.3333333333333333,\"#9c179e\"],[0.4444444444444444,\"#bd3786\"],[0.5555555555555556,\"#d8576b\"],[0.6666666666666666,\"#ed7953\"],[0.7777777777777778,\"#fb9f3a\"],[0.8888888888888888,\"#fdca26\"],[1.0,\"#f0f921\"]]}],\"heatmapgl\":[{\"colorbar\":{\"outlinewidth\":0.0,\"ticks\":\"\"},\"colorscale\":[[0.0,\"#0d0887\"],[0.1111111111111111,\"#46039f\"],[0.2222222222222222,\"#7201a8\"],[0.3333333333333333,\"#9c179e\"],[0.4444444444444444,\"#bd3786\"],[0.5555555555555556,\"#d8576b\"],[0.6666666666666666,\"#ed7953\"],[0.7777777777777778,\"#fb9f3a\"],[0.8888888888888888,\"#fdca26\"],[1.0,\"#f0f921\"]]}],\"histogram\":[{\"marker\":{\"pattern\":{\"fillmode\":\"overlay\",\"size\":10,\"solidity\":0.2}}}],\"histogram2d\":[{\"colorbar\":{\"outlinewidth\":0.0,\"ticks\":\"\"},\"colorscale\":[[0.0,\"#0d0887\"],[0.1111111111111111,\"#46039f\"],[0.2222222222222222,\"#7201a8\"],[0.3333333333333333,\"#9c179e\"],[0.4444444444444444,\"#bd3786\"],[0.5555555555555556,\"#d8576b\"],[0.6666666666666666,\"#ed7953\"],[0.7777777777777778,\"#fb9f3a\"],[0.8888888888888888,\"#fdca26\"],[1.0,\"#f0f921\"]]}],\"histogram2dcontour\":[{\"colorbar\":{\"outlinewidth\":0.0,\"ticks\":\"\"},\"colorscale\":[[0.0,\"#0d0887\"],[0.1111111111111111,\"#46039f\"],[0.2222222222222222,\"#7201a8\"],[0.3333333333333333,\"#9c179e\"],[0.4444444444444444,\"#bd3786\"],[0.5555555555555556,\"#d8576b\"],[0.6666666666666666,\"#ed7953\"],[0.7777777777777778,\"#fb9f3a\"],[0.8888888888888888,\"#fdca26\"],[1.0,\"#f0f921\"]]}],\"mesh3d\":[{\"colorbar\":{\"outlinewidth\":0.0,\"ticks\":\"\"}}],\"parcoords\":[{\"line\":{\"colorbar\":{\"outlinewidth\":0.0,\"ticks\":\"\"}}}],\"pie\":[{\"automargin\":true}],\"scatter\":[{\"marker\":{\"colorbar\":{\"outlinewidth\":0.0,\"ticks\":\"\"}}}],\"scatter3d\":[{\"marker\":{\"colorbar\":{\"outlinewidth\":0.0,\"ticks\":\"\"}},\"line\":{\"colorbar\":{\"outlinewidth\":0.0,\"ticks\":\"\"}}}],\"scattercarpet\":[{\"marker\":{\"colorbar\":{\"outlinewidth\":0.0,\"ticks\":\"\"}}}],\"scattergeo\":[{\"marker\":{\"colorbar\":{\"outlinewidth\":0.0,\"ticks\":\"\"}}}],\"scattergl\":[{\"marker\":{\"colorbar\":{\"outlinewidth\":0.0,\"ticks\":\"\"}}}],\"scattermapbox\":[{\"marker\":{\"colorbar\":{\"outlinewidth\":0.0,\"ticks\":\"\"}}}],\"scatterpolar\":[{\"marker\":{\"colorbar\":{\"outlinewidth\":0.0,\"ticks\":\"\"}}}],\"scatterpolargl\":[{\"marker\":{\"colorbar\":{\"outlinewidth\":0.0,\"ticks\":\"\"}}}],\"scatterternary\":[{\"marker\":{\"colorbar\":{\"outlinewidth\":0.0,\"ticks\":\"\"}}}],\"surface\":[{\"colorbar\":{\"outlinewidth\":0.0,\"ticks\":\"\"},\"colorscale\":[[0.0,\"#0d0887\"],[0.1111111111111111,\"#46039f\"],[0.2222222222222222,\"#7201a8\"],[0.3333333333333333,\"#9c179e\"],[0.4444444444444444,\"#bd3786\"],[0.5555555555555556,\"#d8576b\"],[0.6666666666666666,\"#ed7953\"],[0.7777777777777778,\"#fb9f3a\"],[0.8888888888888888,\"#fdca26\"],[1.0,\"#f0f921\"]]}],\"table\":[{\"cells\":{\"fill\":{\"color\":\"rgba(235, 240, 248, 1.0)\"},\"line\":{\"color\":\"rgba(255, 255, 255, 1.0)\"}},\"header\":{\"fill\":{\"color\":\"rgba(200, 212, 227, 1.0)\"},\"line\":{\"color\":\"rgba(255, 255, 255, 1.0)\"}}}]}}};\r\n",
       "            var config = {\"responsive\":true};\r\n",
       "            Plotly.newPlot('dc264382-cf93-4a3b-a199-acb2fb446ef3', data, layout, config);\r\n",
       "});\r\n",
       "            };\r\n",
       "            if ((typeof(requirejs) !==  typeof(Function)) || (typeof(requirejs.config) !== typeof(Function))) {\r\n",
       "                var script = document.createElement(\"script\");\r\n",
       "                script.setAttribute(\"src\", \"https://cdnjs.cloudflare.com/ajax/libs/require.js/2.3.6/require.min.js\");\r\n",
       "                script.onload = function(){\r\n",
       "                    renderPlotly_dc264382cf934a3ba199acb2fb446ef3();\r\n",
       "                };\r\n",
       "                document.getElementsByTagName(\"head\")[0].appendChild(script);\r\n",
       "            }\r\n",
       "            else {\r\n",
       "                renderPlotly_dc264382cf934a3ba199acb2fb446ef3();\r\n",
       "            }\r\n",
       "</script>\r\n",
       "\n",
       "    \n",
       "</div>    \n"
      ]
     },
     "metadata": {},
     "output_type": "display_data"
    }
   ],
   "source": [
    "//Konstanten\n",
    "let beta  = 5. // Konstante für die Zunahme der Proteinkonzentration\n",
    "let gamma = 1.  // Konstante für die Abnahme der Proteinkonzentration \n",
    "let K_d   = 1.  // Dissoziationskonstante\n",
    "let n     = 3.  // Hillkonstante\n",
    "\n",
    "let repressilator_rhs (x1,x2,x3) t beta n =\n",
    "    [|\n",
    "        beta / (1. + x3 ** n) - x1\n",
    "        beta / (1. + x1 ** n) - x2\n",
    "        beta / (1. + x2 ** n) - x3\n",
    "    |]\n",
    "\n",
    "// Define a function which calculates the derivative\n",
    "let dP_dt : Model = \n",
    "    fun P t ->\n",
    "        let x1 = P[0] //Änderung der Proteinkonzentration von x1\n",
    "        let x2 = P[1] //Änderung der Proteinkonzentration von x2\n",
    "        let x3 = P[2] //Änderung der Proteinkonzentration von x3\n",
    "\n",
    "        //Differenzialgleichung die die Änderung der Proteinkonzentration von x1 beschreibt (hier die Gleichung einsetzen)\n",
    "        let x1' = beta / (1. + (x3/K_d) ** n) - gamma * x1\n",
    "        //Differenzialgleichung die die Änderung der Proteinkonzentration von x2 beschreibt (hier die Gleichung einsetzen)\n",
    "        let x2' = beta / (1. + (x1/K_d) ** n) - gamma * x2\n",
    "        //Differenzialgleichung die die Änderung der Proteinkonzentration von x3 beschreibt (hier die Gleichung einsetzen)\n",
    "        let x3' = beta / (1. + (x2/K_d) ** n) - gamma * x3\n",
    "\n",
    "        [|x1'; x2'; x3'|]\n",
    "\n",
    "//Startkonzentrationen\n",
    "let P0 = [|1.; 1.; 1.2|]\n",
    "\n",
    "let Ps = \n",
    "    modelContext.OdeInt(0.,P0,dP_dt)\n",
    "    |> SolPoints.take 150\n",
    "    |> SolPoints.memorize \n",
    "    \n",
    "let x1 = Ps |> SolPoints.toPoints 1\n",
    "let x2 = Ps |> SolPoints.toPoints 2\n",
    "let x3 = Ps |> SolPoints.toPoints 3\n",
    "\n",
    "[\n",
    "    Chart.Spline (x1)\n",
    "    Chart.Spline (x2)\n",
    "    Chart.Spline (x3)\n",
    "]\n",
    "|> Chart.combine\n",
    "|> Chart.withSize(1100,600)\n",
    "|> Chart.withXAxisStyle(\"Zeit\")\n",
    "|> Chart.withYAxisStyle(\"Proteinkonzentration\")"
   ]
  },
  {
   "cell_type": "markdown",
   "metadata": {},
   "source": [
    "Der gezeigte Graph zeigt wie sich die Konzentrationen der drei Proteine über die Zeit verhalten. Wir sehen die erwartet Oszillation für die angegebenen Startwerte. \n",
    "\n",
    "Aufgabe 4.16:<br>\n",
    "Verändere die Werte der Hillkonstante. Was beobachten sie für die verschiedenen Werte von n im Bezug auf die Oszillation? Teste die folgenden Werte:\n",
    "$$n=1$$\n",
    "$$n=2$$\n",
    "$$n=3$$\n",
    "$$n=4$$\n",
    "Kopiere dafür den Code Block mit den drei Differenzialgleichungen in den folgenden Code Block und ändere dann die Konstante \"n\"."
   ]
  },
  {
   "cell_type": "code",
   "execution_count": null,
   "metadata": {
    "dotnet_interactive": {
     "language": "fsharp"
    },
    "vscode": {
     "languageId": "dotnet-interactive.fsharp"
    }
   },
   "outputs": [],
   "source": [
    "//Code hier einfügen"
   ]
  },
  {
   "cell_type": "markdown",
   "metadata": {},
   "source": [
    "Hier die Antwort eingeben für die 4 Werte"
   ]
  },
  {
   "cell_type": "markdown",
   "metadata": {},
   "source": [
    "Aufgabe 4.17:<br>\n",
    "Verändere die Werte der Produkionskonstante $\\beta$. Was beobachten sie für die verschiedenen Werte von n im Bezug auf die Oszillation? Teste die folgenden Werte:\n",
    "$$\\beta=1$$\n",
    "$$\\beta=2$$\n",
    "$$\\beta=3$$\n",
    "$$\\beta=4$$\n",
    "Kopiere dafür den Code Block mit den drei Differenzialgleichungen (den originalen Code Block, nicht den mit den Veränderten Werten von der Hillkonstante) in den folgenden Code Block und ändere dann die Konstante \"beta\"."
   ]
  },
  {
   "cell_type": "code",
   "execution_count": null,
   "metadata": {
    "dotnet_interactive": {
     "language": "fsharp"
    },
    "vscode": {
     "languageId": "dotnet-interactive.fsharp"
    }
   },
   "outputs": [],
   "source": [
    "//Code hier einfügen"
   ]
  },
  {
   "cell_type": "markdown",
   "metadata": {},
   "source": [
    "Hier die Antwort eingeben für die vier Werte"
   ]
  },
  {
   "cell_type": "markdown",
   "metadata": {},
   "source": [
    "Die bisherige Darstellung zeigt zwar das alle drei Proteine oszillieren, aber eine alternative Darstellung im 3D Plot, wobei die Konzentration von x1 die x-Achse, die von x2, die y-Achse, und die von x3 die z-Achse darstellen, zeigt dieses Verhalten nocheinmal anschaulicher."
   ]
  },
  {
   "cell_type": "code",
   "execution_count": null,
   "metadata": {
    "dotnet_interactive": {
     "language": "fsharp"
    },
    "vscode": {
     "languageId": "dotnet-interactive.fsharp"
    }
   },
   "outputs": [
    {
     "data": {
      "text/html": [
       "\n",
       "<div>\n",
       "    <div id=\"b149d661-3558-4ded-a203-825dd5790615\"><!-- Plotly chart will be drawn inside this DIV --></div>\r\n",
       "<script type=\"text/javascript\">\r\n",
       "\r\n",
       "            var renderPlotly_b149d66135584deda203825dd5790615 = function() {\r\n",
       "            var fsharpPlotlyRequire = requirejs.config({context:'fsharp-plotly',paths:{plotly:'https://cdn.plot.ly/plotly-2.6.3.min'}}) || require;\r\n",
       "            fsharpPlotlyRequire(['plotly'], function(Plotly) {\r\n",
       "\r\n",
       "            var data = [{\"type\":\"scatter3d\",\"mode\":\"lines\",\"x\":[1.0,1.1267344113971418,1.1764500408131116,1.2276900124127592,1.3066288070415748,1.4224481875494055,1.5451255933441141,1.5710920958024275,1.4457249191054546,1.2713811289959307,1.1846915764804182,1.2594604005105494,1.4633161201216447,1.631190149383332,1.6016215849872075,1.4100247567044586,1.2136346941715337,1.1343278515708783,1.2307875354601812,1.4707350543270294,1.6902573831816512,1.703117835374076,1.5084886366953216,1.263360251733287,1.1027594082056678,1.102749457754889,1.292220637716342,1.5908561874415652,1.807274926360026,1.7699247141707488,1.527197873288957,1.2513848545502788,1.0649193009390134,1.0344256773673952,1.201102009199126,1.5232380136198604,1.8351889152239154,1.9235169291852976,1.731775562467293,1.4198445171690288,1.1450900541158675,0.990802480722635,1.0063963504584799,1.228265302322748,1.5963200858963433,1.9330024290170755,2.0211046156160264,1.8080915506735136,1.468937642373494,1.1644474306841595,0.9744245331809056,0.9430547018800528,1.1168268460463926,1.478065639849073,1.8823028932323302,2.108648751762534,2.0011962339753167,1.669696380388499,1.3150793593878236,1.0453633533566449,0.911058563397376,0.954115001428005,1.2142682281998858,1.6310019141259917,2.026494061855341,2.1757988338939103,1.9791495021014132,1.609959156772861,1.254367649888803,0.9993574159516754,0.8855233033879389,0.9560101706649383,1.247408654858562,1.6852181591386575,2.0827953956377634,2.215439940458654,1.9960173650208843,1.6134253626075878,1.2513168675236273,0.9921714754437946,0.8739370166664753,0.938627336338023,1.2264616773170085,1.669400362711823,2.084263958256429,2.245258815780064,2.043314668833572,1.658227900065145,1.2846011246523799,1.009538682033062,0.8721831736861705,0.9113439368005322,1.173249267796334,1.6089384839832124,2.0466306391479514,2.2612365987287046,2.1056109011162447,1.7283000410827218,1.3418439247316498,1.0448472781244391,0.8808404129630018,0.8844184252495886,1.1057781910140845,1.5217535695680153,1.978913571675602,2.2566730271734263,2.1702681418852685,1.813972337995043,1.4166154430691267,1.0952979736278383,0.9007770652537457,0.8644669320778893,1.0369217862402762,1.4220242405901773,1.890004820433306,2.2282744136697623,2.2259060670788515,1.906489797401629,1.5031875621828652,1.158124034260989,0.9318391321853358,0.8549173536176509,0.9745817566715773,1.3179711289246054,1.7849850476969555,2.1753564280114532,2.2653404938221424,2.0008338614368477,1.5985488705392912,1.2314831715749162,0.9730831436634882,0.8568011593416549,0.9241638087667031,1.2177601624780308,1.6710511789898246,2.101112756958646,2.2820002728201483,2.0894888028580887,1.6987335423884886,1.3136036994565616,1.0241184658941422,0.8700076068361529,0.8868131152207053,1.1245122284754832,1.5518779231315165,2.008714303944904,2.272984900381736,2.1670405212007466,1.8011236249909974,1.4029226750894366,1.0844213926433641,0.8941329954451738,0.8633509156061976,1.042993038243618,1.4341446472441914,1.9037730724449216,2.2383198471324732,2.2281119925460513,1.903288751499717,1.4985961487390533,1.1539612041455525,0.9288007418836388,0.8533279719017997,0.9749432699147482,1.3204588669220827,1.7888714620281974,2.179525158937881,2.2686268057141676,2.0027128310839784,1.5994633047968105,1.2317681580972444,0.9728394195598502,0.8559710946374891,0.9225531116287475,1.215515095110039,1.6690341301446368,2.100542977973586,2.284121566222431,2.093583481527448,1.702831051393051,1.3167835867519573,1.0259675350404533,0.8702888462816603,0.8850065480788556,1.120308571904436,1.546550665278106,2.0046663931795323,2.2729593426023,2.1715641880815024,1.8070353642932027,1.4080691248851884,1.087917020675583,0.8955660070158415,0.8621149657284141,1.0383975820153155,1.4272703019860449,1.8974387863546693,2.235983492040407,2.2318537757193986,1.9100144235998566,1.5050297566930038,1.15871973319808,0.9312743199335128,0.8529614624987805,0.9708283481786713,1.313094504080637,1.7810343430635016,2.17504200306094,2.270867035935535,2.0095685155280227,1.6067123340546847,1.2375143090233887,0.976238098594397,0.8565212063426908,0.9192958918108258,1.2083015976351112,1.6603399682650806,2.0943218246242172,2.2844158008057462,2.0998290421919474,1.7104043981409094,1.3231894761238283,1.0301339326394252,0.8717193816367124,0.8827911315216288,1.1137720256641046,1.5375834020026589,1.9971053770753684,2.271173926140865,2.1768318907501265,1.8148727711006933,1.4151706703185396,1.0929222850645288,0.8978721610245561,0.8609286205435864,1.0327715903773205,1.4184639194629785,1.8889900938702053,2.2322551385556304,2.235653775008679,1.917734977892093,1.512583833459897,1.1643977161658554,0.934337833349896,0.8527884908211549,0.9663770528986035,1.304839243744183,1.7720460307516637,2.169608725112213,2.272847575145341,2.016833741890851,1.614568759654004,1.2438159973752043,0.9800338708968206,0.8572715952182864,0.9159745465925829,1.2006849901088494,1.651007267323372,2.087470096016702,2.284377505983969,2.1061962388692765,1.718306005578601,1.3299327091327797,1.0345678048930436,0.8733205288560139,0.8806193201888824,1.1070871805810771,1.5282828117192477,1.9891399818968698,2.269070787952693,2.1820683717714773,1.8228881693068715,1.4224927175096256,1.0981233248321645,0.9003215201677287,0.8598229274884077,1.027122729552227,1.409492412453519,1.8802790411584362,2.228256625236035,2.2393426455813112,1.9255155948331462,1.5202235493109377,1.1701617878964963,0.9374810012483306,0.8527023104302185,0.9620182553221297,1.2966235525968437,1.7630058276657774,2.1640282141595755,2.2746488930982918,2.0240261118265996,1.6224289388688575,1.2501560395781885,0.9838844890864573,0.8580968498015663,0.9127540235953976,1.19314715556669,1.6416766034875239,2.080522504886074,2.2841652085213826,2.112462081089715,1.7261925047428328,1.3366986192051185,1.0390460540057287,0.8749856146360306,0.8785401528716739,1.1004939254562347,1.519013560934406,1.981113827832886,2.266808277931408,2.1871797562315267,1.830878033099061,1.429834874563646,1.1033689431509492,0.9028304947501851,0.8588024052537622,1.0215702661847967,1.4005647852750616,1.8715240630646663,2.2241183162442226,2.242891413273423,1.9332628619435328,1.527886532821539,1.1759742224216525,0.9406809729240153,0.8526889779199046,0.9577466490999614,1.288452405338619,1.7539284211904047,2.158324622098053,2.2763008617508045,2.0311745486685986,1.630316545005938,1.2565500251433357,0.9877962457940396,0.8589919291711721,0.9096144416643763,1.185654811788806,1.6323130114759374,2.073460437791147,2.28379412854124,2.118670746536078,1.7341138581737812,1.3435280858634477,1.0435941997382776,0.876721249462672,0.8765354140442829,1.0939473360836498,1.509719489275008,1.9729833236429952,2.264381386509009,2.192205288691211,1.8388991750700818,1.4372485883237671,1.108695227229025,0.9054149835424283,0.8578572219644933,1.0160726854830724,1.391616251687255,1.8626627472255013,2.2198135494650177,2.2463295597578075,1.9410385252038016,1.5356343631908285,1.1818817499368002,0.9439631863079491,0.8527475102868279,0.9535269390055803,1.2802592989034218,1.7447399873578573,2.1524520679987402,2.2778168838098787,2.038339190484793,1.638299713289523,1.263053535024679,0.9918034958497071,0.8599649131237609,0.906529018182703,1.1781438832702575,1.6228356976527394,2.06622221929074,2.283258855329216,2.1248750347320264,1.7421412425310998,1.3504834812865143,1.048254499591749,0.8785442214775248,0.8745884317695435,1.0874186187650445,1.500419575668728,1.9647924670399943,2.261807584106328,2.197106159634964,1.8468882579503585,1.444674795297362,1.1140594842098683,0.9080539440140781,0.8569947618140855,1.010675405106257,1.3827208439642449,1.8537680033515556,2.2153777620902053,2.2496268938430686,1.9487781716977362,1.543404493945094,1.187837224026227,0.9473017623212028,0.8528778516141801,0.9493939854401758,1.2721114788438643,1.7355150931025025,2.146457334890559,2.2791814848775664,2.0454600742396023,1.6463144488964927,1.2696151620410223,0.9958752561464206,0.8610090985556809,0.9035237976341531,1.1706763134140086,1.6133214638328852,2.058865026688769,2.282559843349277,2.1310217053412184,1.7502106492616525,1.3575106859283996,1.0529916299641302,0.8804323771534586,0.8727384548478707,1.081030714862394,1.4912406126710591,1.9566330072187268,2.2591159451150857,2.2018383791682155,1.8547744319481556,1.4520486315749708,1.1194148485684148,0.91072345729169,0.8562203384603339,1.0054231532992035,1.3739548774872108,1.8449176664638904,2.21085229840749,2.2527558322760006,1.9564144977059903,1.5511296859800399,1.193788934065276,0.950667374580223,0.8530776719287276,0.9453820678454804,1.2640790483608844,1.7263343663515252,2.140394247624638,2.2803831555325758,2.0524744841154168,1.6542911483310379,1.2761778942876654,0.9999761727241603,0.8621149330349627,0.900624002505882,1.163317009405684,1.6038538565751708,2.051454162013572,2.2817032310276697,2.1370555537144216,1.7582517761614154,1.36454902081694,1.057764942867255,0.8823750060629334,0.8709843208903736,1.0747698806163695,1.4821540279155143,1.9484768772057959,2.256300710374693,2.2064235066784423,1.8625910619628248,1.459401186989472,1.1247834118638829,0.9134334175605414,0.8555280814901314,1.000291234084242,1.3652805033152977,1.8360756043771973,2.20622186283773,2.255731381701856,1.9639794443544556,1.5588421918123923,1.1997613440526511,0.9540733549524939,0.8533461882122758,0.9414723283033853,1.2561276212865187,1.7171603538028393,2.13424011093874,2.2814282673122452,2.05941099957903,1.6622627729042698,1.2827686195751076,1.0041228887566662,0.8632860794298458,0.8978161899126714,1.156035152347285,1.5943946736862697,2.04396100297122,2.2806866966744637,2.1430002092775,1.7662974973754486,1.3716276022820397,1.062594252818204,0.8843826983965222,0.8693107857308481,1.0685782122617424,1.4730714012665294,1.9402430351457296,2.253335035558388,2.2109080800331604,1.8704183913809933,1.4668086768563395,1.1302209271901116,0.9162116183818706,0.8549100302147749,0.9952262959343385,1.3566085078022678,1.827151093024542,2.2014396644237113,2.2585829762396687,1.9715499236737957,1.5666216892950837,1.205816433427482,0.9575551985614361,0.8536861108190413,0.937624374083213,1.2481756928701144,1.7078989934142517,2.127931753157844,2.282324171814256,2.0663083976484846,1.6702647317267414,1.2894127889193758,1.008330259233124,0.8645263298246044,0.8950907453192116,1.1488075897055812,1.584914407161102,2.036362510823805,2.279506477476777,2.148872433258539,1.7743732839413562,1.3787696211263596,1.0674957717264055,0.8864622788163492,0.8677127705675213,1.0624370207005496,1.463964592637785,1.931905192689727,2.2502084738082346,2.2153034384275165,1.878280619052002,1.474295566187842,1.1357460066599783,0.9190679035406117,0.8543649960839687,0.9902136577347684,1.347912465857644,1.8181154176532208,2.1964888110515695,2.2613155697765115,1.9791481895304495,1.5744936302026924,1.2119749171911636,0.9611255698030149,0.8540999176921794,0.9338275569571044,1.2401993009353047,1.6985248341527859,2.1214542117946475,2.283067665201309,2.0731539481698187,1.6782760875180114,1.2960901367017756,1.0125845781256424,0.8658312804426058,0.8924568382389841,1.1416603767247335,1.575447759754705,2.0286868371587516,2.2781664171489915,2.1546489562796243,1.782449920708613,1.3859500527888495,1.072452710062537,0.8886066863257159,0.8661962388385579,1.0563694026993689,1.4548671601167218,1.9234932959059394,2.246931352326255,2.2195908212604873,1.8861486409087442,1.4818357376938738,1.1413400260806368,0.9219929733425457,0.853895694346941,0.9852727757867914,1.3392249131574883,1.8090009030105536,2.1913855564142084,2.263915180137522,1.9867449048339065,1.5824302752445143,1.2182159900865661,0.9647731690954159,0.854587508568807,0.9300971481976493,1.2322286052286993,1.6891235093439878,2.11491958080451,2.2836457593479293,2.0798414979322595,1.686183382099081,1.3027095104576292,1.0168285834959803,0.867182155296897,0.8899462106681116,1.1346849773894847,1.566118326220457,2.021036529501128,2.276687498817177,2.1602548457218607,1.7904221386230512,1.3930752355212206,1.0774000890695103,0.8907868722210773,0.8647791389005643,1.0504534759132595,1.4458980128200034,1.9151185211067014,2.2435490942596665,2.2237141588863722,1.8939190569485407,1.489330542394348,1.1469297196937784,0.9249480472967637,0.85350712239233,0.9804675711517934,1.3306599589450894,1.7999279760880957,2.1861985561288217,2.2663471117566725,1.9942391563571835,1.5903272601987348,1.2244576863176415,0.9684501470665883,0.8551421085608912,0.9264816690647585,1.2243687178112492,1.679763633805747,2.1083202891574127,2.284065318790294,2.086427066551451,1.6940614796325122,1.3093363874403696,1.021104816260931,0.8685910946535234,0.8875296603905107,1.1278063777569374,1.5568285780526083,2.0133342488353096,2.275058426431207,2.1657495892847676,1.798373390638369,1.400219549178817,1.0823891235813625,0.8930243268076423,0.8634445152328516,1.0446260276975723,1.4369635185744365,1.9066949694365023,2.2400295835801676,2.2277169324206096,1.9016723532397584,1.4968578598011062,1.1525729697292024,0.9279631455302136,0.853193796734872,0.9757469104265659,1.3221287205340704,1.7908035810925986,2.1808762609929015,2.2686366279584265,2.0017075352978333,1.5982661002166396,1.2307643974224094,0.9721943867023253,0.8557688097681124,0.9229428592545221,1.2165385074700772,1.670349423913562,2.101589521858363,2.284330251060373,2.0929771671008917,1.7019917935650801,1.3160395636611308,1.0254579130779273,0.8700727367340593,0.8851820661876645,1.1209541430741796,1.5474834525737309,2.0055011576537938,2.2732617848037173,2.171187430066128,1.8063853573513704,1.4074574034269869,1.0874722436714443,0.8953427171434983,0.862179033159231,1.0388281968097428,1.4279724933298552,1.898135613676022,2.2363353381797464,2.231637113326145,1.9094873549359201,1.5044960328137758,1.1583101779020242,0.9310445653426285,0.8529556176582848,0.9711188439352524,1.3136514976951754,1.78165229610141,2.1754341419104057,2.270775636105717,2.009127036426551,1.606223825059301,1.237118144370188,0.9759954886694572,0.8564659615011565,0.9194911550000374,1.2087615615445246,1.6609090668779984,2.0947470989464,2.284437644206214,2.0994704153741948,1.7099514196248968,1.3228003852038719,1.0298763169387604,0.8716236053027665,0.8829110272052731,1.114149557430942,1.5381109805154753,1.997559756682852,2.2713004883147327,2.176549008117836,1.8144344164771105,1.414768970821415,1.0926363260472718,0.8977366378312084,0.8609876844374625,1.033078896416851,1.418952167215018,1.889464357044226,2.2324742533869206,2.235458659148059,1.9173207006473216,1.5121768207407982,1.1640906212426034,0.9341702606181883,0.8527930455883981,0.9666091680569313,1.305275706491287,1.772525362364801,2.1699040334746127,2.2727527639467793,2.0164564724522602,1.6141570983484217,1.243484270427762,0.9798326770787948,0.8572291230879907,0.9161443143733012,1.201080124769639,1.6514947854267048,2.087831674023269,2.284386757244188,2.105869964811292,1.7178970401602602,1.3295823946503242,1.0343364221050257,0.8732352944400539,0.8807286863197411,1.1074302865648067,1.5287631557007875,1.9895541325305413,2.269184941938254,2.1818025994626606,1.82247609169892,1.422114927854637,1.0978540532844865,0.9001935292248942,0.8598773245058915,1.0274107684796985,1.4099529433231224,1.8807286321520635,2.2284664937993006,2.239157331368099,1.9251171431473006,1.519830742239003,1.1698645677248045,0.9373180703356772,0.8527047106360072,0.962239576068441,1.2970439086702736,1.7634706438913046,2.1643178444765008,2.274560673479939,2.0236588087172698,1.6220255421952434,1.2498298216098886,0.9836856148196469,0.8580527413759582,0.9129168963238267,1.193532080759406,1.6421553499276453,2.080881285065967,2.2841802177019606,2.1121428838062974,1.7257880389254998,1.3363507692806407,1.0388151145909545,0.874898619593789,0.8786446748632725,1.1008301821348356,1.5194886261420444,1.9815272848673466,2.266928224797452,2.186920349235568,1.8304684289363433,1.4294574159216886,1.1030985371169435,0.9027002429430329,0.8588527596511805,1.0218530243274342,1.401022100148504,1.871974635390374,2.2243341555569875,2.2427125912352412,1.932865864690028,1.5274924753735473,1.1756745785221936,0.9405152766978545,0.8526879031773843,0.9579638870805928,1.2888709122510567,1.7543954475482284,2.158620482406577,2.2762196721178523,2.0308085417376742,1.6299108214680513,1.2562203557004374,0.9875938702120085,0.858944264489822,0.9097737031180299,1.1860384560697312,1.6327946576919905,2.073825880658861,2.2838170692198747,2.118353323892887,1.7337062027924315,1.343175795069595,1.0433589098351863,0.8766303872484346,0.8766365479951339,1.0942809332858274,1.5101921968617977,1.9733974637800031,2.2645080337276275,2.1919535312374787,1.8384934148131857,1.4368725793517878,1.1084244022130714,0.9052826998971554,0.8579031141312654,1.0163488425755904,1.39206842041773,1.8631125843525325,2.2200348525492375,2.246158729812006,1.9406453822207506,1.5352412348447324,1.1815812560422478,0.9437955166135175,0.8527428123169687,0.9537386650612945,1.2806733648054265,1.7452064566477858,2.152752582072046,2.2777436985508577,2.037977194554881,1.637894444258476,1.2627226048039775,0.9915988999193304,0.8599139011070512,0.9066834295745012,1.1785234282116441,1.6233168107825386,2.0665918459464097,2.283289901282175,2.12456202754154,1.7417334855170914,1.3501293332137074,1.048016525284501,0.87845006781791,0.8746852836627637,1.0877484336848458,1.5008917398839172,1.965210357006097,2.2619420644172736,2.1968597176927025,1.8464822940386845,1.4442963690561357,1.1137854193421715,0.9079182570657615,0.8570366972391525,1.0109478260467883,1.3831725216796589,1.854221732595108,2.21560678218981,2.2494624071320675,1.9483849446861259,1.5430082882585137,1.1875328000807817,0.9471303924074131,0.8528694838033717,0.9496023486395747,1.2725252761568084,1.7359857090997983,2.1467655386970823,2.279115683585172,2.045098555963674,1.6459055658711113,1.269279625405249,0.9956663482451215,0.8609542008102704,0.9036748842173857,1.1710555078172091,1.6138068178078981,2.0592425350523373,2.282599426788101,2.130710147174794,1.74979873100305,1.3571511022638956,1.052748533228919,0.8803345830992373,0.8728305140710453,1.0813533842972975,1.4917063222590277,1.9570488463892028,2.2592561571999146,2.2016007631045547,1.8543741918467376,1.4516733383579616,1.11914159088124,0.9105864188866459,0.8562578023619307,1.0056879077725371,1.3743994148442653,1.8453685315582942,2.211085501947483,2.2526000835474256,1.9560270348131619,1.5507362771968916,1.1934851020076807,0.9504948658462576,0.8530658169620003,0.9455840521702767,1.2644864598468377,1.7268021080531257,2.140705472315528,2.280325701777698,2.0521188679290785,1.6538847348913164,1.2758427444361118,0.9997660600677678,0.8620569901084449,0.9007695599684564,1.1636902072430755,1.6043361817011939,2.051833862583103,2.2817507583180423,2.1367501773115056,1.7578418426528801,1.3641893381219776,1.057520318418309,0.8822744261919494,0.8710717709763772,1.0750873009073174,1.4826170418665858,1.9488944413937805,2.2564478264229075,2.206192234207342,1.8621924177337652],\"y\":[1.0,1.2932926965553906,1.4346745356729667,1.5173288600146868,1.549206837065123,1.5093028096286822,1.3910458383934583,1.2517760962141247,1.200823371503312,1.3022166039440661,1.5009486408487405,1.6215071677838722,1.541313477220723,1.342846202282745,1.1828624118946043,1.1658793835693646,1.3225816099710024,1.5641124178352506,1.698776088402798,1.60472158309084,1.375382398434804,1.1714768134396487,1.0984788150343674,1.208199738433925,1.4712670529988685,1.7281532967730608,1.7788941395762274,1.5917851618764736,1.3206557843125941,1.110600079897662,1.0434891686449128,1.1666168907918693,1.4593735269091617,1.773206827002166,1.8945623042902686,1.7363383098520693,1.4385442401608453,1.1654222075906198,1.008369495812386,1.0197902647030987,1.2352034850260452,1.5929757448848878,1.9142335922352371,1.9852733737778816,1.767015410501808,1.435090643953677,1.144408068545066,0.9727489309050663,0.9656554307424388,1.166387297278729,1.5379068190486345,1.9198418922287441,2.0888999797077186,1.9291374709060043,1.5872427295552298,1.2490044592819283,1.0086807991549174,0.9120203072654405,1.0048205602087703,1.3114047460987406,1.7369765557948886,2.083092500718192,2.1346341199074503,1.8707163274639298,1.496629617300023,1.167292015088915,0.9530998613625168,0.8908144705829426,1.028615807966824,1.378246954660331,1.8232769710282495,2.1548729895992897,2.16400941271644,1.8653550346288674,1.4788773562768782,1.147958326860015,0.9359149607657501,0.8765975894610996,1.0187005918973584,1.3756951304688558,1.8313677648817084,2.1775928750256277,2.2007240316448424,1.9032242290416732,1.5089449225221718,1.166817966647557,0.9414574724766156,0.8654617778761962,0.9861355471994164,1.3278234184782478,1.7881096468092346,2.1654488871971487,2.238295520108168,1.967072211080275,1.5693099345505364,1.2110721633823918,0.963727735760729,0.8606617975495554,0.9456251636461487,1.2557423963841976,1.711628273338336,2.1235275646183287,2.265788598963247,2.043141541552752,1.6491833238863582,1.2739815905008194,1.0002848310344796,0.8651322102304557,0.907252211043527,1.1733558741599475,1.613739256759727,2.0557325987974,2.274374080597894,2.119684951712867,1.7398083291079844,1.3497801033347683,1.0487051675272558,0.8801098818424429,0.8776124941134826,1.0919922510608306,1.5051064319865208,1.9671821572630512,2.259004907269709,2.1887146807285176,1.8372121608883618,1.4366098255733788,1.1087617264548644,0.9061181505250994,0.8593533346731255,1.0185297489549558,1.3944272961321476,1.8645290960184895,2.2190991203838575,2.242124037045328,1.9354563639336935,1.530729575123838,1.1784489487445886,0.9423859900837772,0.8534257797909822,0.9571903704194817,1.2865359398626952,1.751268604679932,2.155880303613585,2.2750229088713185,2.0311265105710503,1.630787182050731,1.2571314917326348,0.988326838021959,0.8594297954850486,0.9099273291622862,1.1857655862506837,1.6321486807545091,2.072976685747868,2.282933607461944,2.117643087216458,1.7332286513149229,1.342895299901636,1.0432653436346924,0.8767368406057764,0.877006785859493,1.094948831732092,1.5109570538149908,1.9738913007236665,2.2642934173327114,2.190940517251462,1.8372606306558905,1.4358240099562718,1.1077227374598033,0.9050082524093216,0.8581755925516182,1.0173214344384989,1.3935368675957185,1.864478347034305,2.220540473622732,2.2452849022663948,1.9390516994985276,1.5337167190535297,1.1804481549465289,0.9431975201749119,0.8527991424239243,0.9546629555191983,1.2823912048069699,1.7470869651796765,2.153885922359096,2.27727064116601,2.036301530996901,1.6360749922749243,1.2612581357578914,0.9907118176713575,0.8597254793705478,0.9074293899449427,1.180285340242429,1.62551642773919,2.068242903172277,2.2833412795475825,2.12301415868046,1.739766378585698,1.3484355954300593,1.046888845690489,0.8780196443730744,0.8751807754050734,1.0893696737344756,1.5031902053100719,1.9672237022928587,2.2625489673740375,2.195595909222369,1.84444897498704,1.4424122588612007,1.1124274148193456,0.9072540422137173,0.8572630117632286,1.0123283954290228,1.3854446385115298,1.8564913710059596,2.216731655264791,2.2485984253418754,1.946375346355063,1.5409928411865919,1.1859886711771923,0.9462656855993583,0.8528370598718958,0.9506762708826287,1.274644028816013,1.7383865449308502,2.1483263614314887,2.278756278204837,2.043229812142959,1.6438009810149783,1.2675559626602253,0.994596104721269,0.8606782606273318,0.9044613038406684,1.1730158487330375,1.616309040621231,2.0611814559815755,2.2827883023890085,2.129089043430245,1.7476651822039966,1.355291497498969,1.0514934921747958,0.8798328989129036,0.873313303012386,1.0830304553007057,1.494120911267532,1.9591996894973236,2.2599725848312895,2.2003586651955866,1.852293834706468,1.4497254691330523,1.1177250553549718,0.9098781158272609,0.8564570254303743,1.0070684499174143,1.3767115185395788,1.8477090603160766,2.212289919740003,2.2517817645778457,1.9540089376244452,1.5486904322623636,1.191906684619406,0.9496002113830856,0.8530077934338445,0.9466394456305054,1.2666090695402348,1.7292348833505387,2.1423194335018105,2.2800186266508473,2.050264066015724,1.6517690833796244,1.2740996269398488,0.9986746220726905,0.8617585191091892,0.9015315652379157,1.165636555322993,1.6068474976904945,2.0538067540107647,2.281990625579469,2.135155518709525,1.7557068930857729,1.362317755559218,1.0562487291845335,0.8817535048471619,0.8715308937745498,1.0767437635990185,1.4850290230108687,1.951066071047948,2.257207413002144,2.204982727839535,1.8601157673221205,1.4570681604229148,1.1230768817256396,0.9125684486376919,0.8557393193991337,1.0019085152997815,1.3680259836599085,1.8388831924680864,2.207703687401585,2.2548024620434632,1.9615839202280831,1.5563934841796243,1.1978618504317209,0.9529870569074756,0.8532535838188678,0.9427034767385633,1.2586449599522704,1.720074018706675,2.136204860803752,2.2811130233176153,2.057215670524894,1.659730689800506,1.2806716949120605,1.0028005184059028,0.862906988009416,0.8986983815670869,1.158340299204394,1.5973989830275763,2.046350452852216,2.2810268935792926,2.141121196224726,1.7637407063852164,1.3693742058356297,1.061053790895337,0.8837377733413503,0.8698338026820036,1.0705379311388736,1.4759566983142212,1.9428675139052833,2.254293584103113,2.2094942074056982,1.867930284993971,1.4644490995867399,1.1284857361639176,0.9153214721243536,0.855098349804532,0.9968282731777431,1.359363558022748,1.8299956260481807,2.20297561157745,2.257690546375473,1.9691440124386013,1.5641425775515165,1.2038834908198006,0.9564406001961818,0.8535703096230196,0.9388402429605045,1.2507022930474574,1.7108511269231728,2.1299529474162537,2.2820565497198153,2.0641346806984404,1.667739399967606,1.2873146677105476,1.0069993242720598,0.8641285630425106,0.8959394731534847,1.151075847443677,1.5878995170314734,2.0387646058900053,2.2798955324137196,2.147032785829639,1.7718291223374614,1.3765155995233254,1.0659457297609145,0.8858001752149754,0.8682073831718061,1.0643637314790693,1.4668324730675524,1.9345398106647007,2.2512096474968395,2.213930327690194,1.8758031608908483,1.4719312929552466,1.1339980788340582,0.9181607143258219,0.854528542390674,0.9917850683753314,1.3506510718068463,1.8209703917407363,2.1980648554603635,2.2604689160651716,1.9767546182749935,1.572006804446895,1.2100259756590943,0.9599925374061036,0.8539616462267072,0.9350165440881535,1.242711516861941,1.701484033070872,2.123506493167248,2.2828507555536652,2.071006405406609,1.6757534668787377,1.2939842116035505,1.011239842739743,0.8654133711437972,0.8932765177921342,1.1439026326609898,1.5784276659183458,2.031112465806475,2.2786056714005225,2.1528401171644296,1.7799061746733855,1.383684465251399,1.070885552155313,0.887924324836737,0.8666650800007935,1.058272371636612,1.4577312599583867,1.9261505184285643,2.247979702581252,2.2182523421263642,1.8836701063399803,1.4794552476012008,1.139570748193901,0.9210642902656716,0.8540353050960264,0.9868210589483335,1.341959990385178,1.811879927107979,2.1930092664726533,2.263111014022374,1.984352680261152,1.5799237067476675,1.2162414558881915,0.9636159894894509,0.8544259248751495,0.9312647658130604,1.2347382001124267,1.692093297673447,2.116994019245915,2.2834801088697523,2.0777368174672297,1.6836849642858809,1.3006145649538292,1.0154824375822242,0.8667484663559895,0.8907302368771028,1.136881245193153,1.5690655620560352,2.0234625188718027,2.2771716966990554,2.158493316382231,1.7879022634086454,1.3908190167500067,1.075830413847818,0.8900909266008233,0.865218502658819,1.0523155028756495,1.4487318233511068,1.9177733235962249,2.244634014875436,2.222422643865752,1.8914625693131535,1.4869559312262615,1.1451555559444198,0.9240066770108971,0.8536219054764302,0.9819786489282778,1.3333660236565708,1.8028039485761442,2.187854199945578,2.2655930209897175,1.9918709294730554,1.5878243820808036,1.222476005464919,0.9672796279666431,0.8549588756444529,0.9276172257215407,1.2268521766796543,1.6827307090898251,2.110422301223699,2.283949170507138,2.0843473176671674,1.6915634673115112,1.30723165410137,1.0197437048149884,0.8681375420358104,0.8882867747103391,1.1299797689538278,1.5597735804811519,2.0157851151233444,2.275591789846473,2.164017200678555,1.7958512967648328,1.397949273302006,1.0808006719202072,0.8923077931521879,0.8638593474026453,1.0464665491166159,1.439796263806266,1.9093745279281045,2.241161771636138,2.226459278702681,1.8992127408279087,1.4944645501698126,1.1507755217891975,0.9269993988019252,0.8532851328686099,0.9772364490600468,1.3248335084010385,1.7937059252496532,2.182580617066916,2.2679253220577396,1.9993393975092393,1.5957411540799153,1.2287550802212337,0.970998342204137,0.8555620057772999,0.9240580150487006,1.2190211482846145,1.6733440735810585,2.103740651970309,2.2842630656797303,2.0909016517621923,1.6994684180924815,1.3139031202914984,1.024067489253272,0.8695944026953468,0.8859198383683287,1.1231266271623488,1.5504562811853109,2.0080022105953033,2.273850518449098,2.169467432764768,1.803835163561037,1.4051493153246188,1.085848149451401,0.8945978096484507,0.8625732062465858,1.0406655362092465,1.4308330154797664,1.9008678252399291,2.2375273281008656,2.2304017944436567,1.9069996362470594,1.5020589658629233,1.1564791560826666,0.9300600193580927,0.8530230215767732,0.9725760621753741,1.3163329446926788,1.7845560503349034,2.1771721189688833,2.2701139562183177,2.006780557133338,1.6036993313291976,1.235099024916921,0.9747844395326271,0.8562373579372354,0.9205758650709693,1.211220905824759,1.6639042570138838,2.096928061095128,2.284420744447823,2.097418462389794,1.7074251934000926,1.32065105457889,1.0284686451958898,0.8711244819258755,0.8836225886906203,1.1163012523320432,1.5410847766319693,2.0000887436972006,2.2719401022287085,2.1748579447966065,1.811879034474373,1.4124433078983751,1.0909905647347908,0.8969695716086247,0.8613572333398389,1.034895947887345,1.4218145345021245,1.8922251238930148,2.233716334304502,2.2342582415813004,1.9148434226042759,1.509756103000639,1.1622707609000267,0.9331843439632722,0.8528360267076174,0.9680117569557516,1.307893173718384,1.7753866655944763,2.1716486265395374,2.272149705376336,2.014166313112788,1.6116703894610693,1.2414853640563903,0.9786247686831855,0.856982617981929,0.9171833166529989,1.203480194516429,1.6544459782739125,2.090009354449811,2.2844196983979934,2.103872035910016,1.715405347723322,1.3274520287111362,1.0329324234767783,0.8727230535609543,0.8814039714239912,1.1095294895823324,1.531693633016753,1.9920729845743086,2.2698653088329506,2.1801658476169363,1.819953595729384,1.4198061873072545,1.0962110286705218,0.8994158239455092,0.8602170325491707,1.0291805412839585,1.4127743918252356,1.8834766358390411,2.22973982537977,2.238010135920978,1.9226715152094913,1.5174239633663391,1.1680456993648873,0.9363232560677767,0.8527247336830146,0.9636029605881037,1.299625163348116,1.7663191459707321,2.1660858451253713,2.2740083818962393,2.0214004262023355,1.619550351880695,1.2478303142574705,0.9824685310269619,0.857786524104013,0.9139223190083134,1.1958989017422175,1.6450934501473657,2.083077428450243,2.2842619604797374,2.110177677060121,1.723304644581772,1.3342171159044294,1.037400302130949,0.8743684180941834,0.8792916096831573,1.1028994459909427,1.522406405123741,1.9840615638202472,2.2676551588763685,2.1853205844552352,1.8279525509788697,1.4271415724716312,1.1014412675007665,0.9019041630002245,0.8591667944263212,1.0235943707707347,1.4038319642566492,1.8747380115024956,2.2256510231966895,2.2416065763265434,1.9304267189674817,1.5250747310222934,1.1738379073767242,0.9395013901762367,0.852685527647754,0.9593025635919571,1.291442736712454,1.7572603973837955,2.160429653809214,2.2757124693107227,2.028558917378148,1.6274215935904415,1.2541995948768605,0.9863550198165938,0.858655704356522,0.9107561430496132,1.1883964113327765,1.635749729751411,2.076062803335251,2.2839486079216975,2.1164011212439946,1.731205488367491,1.3410166858926593,1.0419184884898407,0.876076678244293,0.8772617892921082,1.096341323849483,1.5131270497483862,1.9759731148724569,2.265289211742693,2.190375151380322,1.8359584615518358,1.4345255770217833,1.1067354986324411,0.9044598273548747,0.858194531748319,1.0180792348647023,1.3948952288979914,1.8659197945127208,2.221409208365069,2.2450836996449635,1.9381881218561614,1.532787454212115,1.1797074674792967,0.9427517038547968,0.8527176578028784,0.9550659447831361,1.283261838567561,1.74811743268538,2.1546221787298263,2.27727784967733,2.035713973079825,1.6353653472170229,1.2606593002843787,0.9903249317675118,0.8595994661371837,0.9076524018107492,1.180896228828139,1.6263192463944822,2.0688932743576953,2.2834742788123625,2.122603934031927,1.7391894383861815,1.3479218038500078,1.046534803971074,0.8778663892600386,0.8752944984167679,1.0898105881535227,1.5038382029827932,1.9678132113625182,2.2627720578582298,2.1953160568792893,1.8439497894609767,1.4419382391008613,1.1120793291274136,0.9070756556208526,0.8573028708931162,1.0126517120427279,1.385991029707955,1.8570479882918398,2.2170267162190895,2.248428849154996,1.9459317309595097,1.5405399724251931,1.1856380867610141,0.9460655172150376,0.8528215093383298,0.950906174183779,1.2751072199405433,1.7389170444561763,2.1486795152358766,2.27869659269776,2.0428424912204384,1.6433587623858164,1.2671915763023853,0.9943679872713976,0.8606161939679159,0.9046213411387077,1.173421686988295,1.6168300144856873,2.0615886772899668,2.282836483259119,2.1287646279067522,1.7472336138505955,1.354913989467826,1.0512378168812915,0.8797293672164868,0.8734086266622563,1.0833669912417694,1.4946069154350448,1.9596340509115222,2.260120516356655,2.2001151234123135,1.8518822006137512,1.4493392394413696,1.117443769148084,0.9097369416687309,0.8564954836545892,1.0073406661092776,1.3771680311195222,1.8481716155381425,2.21252897335708,2.251622995470435,1.9536143841342404,1.5482900830416733,1.1915976692002124,0.949424894980036,0.8529961366520644,0.946845564394276,1.2670236788207023,1.7297100058783474,2.1426347457661277,2.279959441958321,2.049903805927408,1.6513581490503364,1.2737610637787509,0.998462655138529,0.8617006219243374,0.901679719255613,1.166014538321581,1.6073348265977199,2.0541892982265324,2.2820368723136686,2.1348467586670785,1.7552939420532785,1.3619558712212274,1.0560029766926107,0.881653005409019,0.8716200620401563,1.0770644269055503,1.4854953869636554,1.951485514191561,2.2573535463362,2.2047487936255257,1.8597150524734318,1.4566907795067978,1.1228010467240501,0.9124288749524416,0.8557740680661092,1.0021708752867586,1.3684704673878951,1.839337044113765,2.207942394961332,2.2546512890753467,1.9611965408282315,1.5559979909107962,1.1975553106472363,0.9528119793229948,0.8532391887935337,0.9429031005411288,1.2590520498806073,1.72054444881037,2.13652127421234,2.2810608541795023,2.056860778835193,1.6593220985715917,1.2803336028052996,1.0025875554767998,0.8628463918140645,0.8988415264254661,1.1587128959397033,1.5978837586464758,2.046735219364575,2.2810803655640766,2.140817329167522,1.7633283790630532,1.3690111359944237,1.0608058498385489,0.8836343475766509,0.8699188885829205,1.070854629657072,1.4764220698150432,1.9432900670558133,2.254446798855914,2.209265286319524,1.8675291775025666,1.464069133282611,1.128206582894991,0.9151785717294287,0.8551294049009255,0.9970872157172771,1.3598078261718056,1.8304535243232927,2.2032218580678484,2.2575454867301104,1.9687561484799734,1.5637434995764594,1.2035726224221968,0.956261610164522,0.8535523126537932,0.9390368625438604,1.2511096557233137,1.711326274521993,2.130277364677164,2.282012000315775,2.0637840203675966,1.6673327906701596,1.2869771272344686,1.0067854616045886,0.8640651176276681,0.8960769645596607,1.1514417750578438,1.5883802363817234,2.0391506212543034,2.279956695204402,2.1467357381439514,1.7714195416764928,1.3761530742853145,1.0656966963697543,0.8856941805041971,0.8682877649154288,1.0646745937673785,1.4672942609440298,1.9349632746205783,2.2513694360113905,2.213708280172759,1.8754043753068754,1.4715511649758852,1.1337173192330923,0.9180153027070626,0.8545555714350073,0.9920387085673444,1.3510920298424398,1.8214292768459437,2.1983171698195703,2.2603313929786717,1.9763692765030125,1.571607058703782,1.20971298604206,0.9598108476734483,0.8539400676789279,0.93520856700913,1.243115998129633,1.7019603321247763,2.1238366185412487,2.2828142441282875,2.0706587885664898,1.6753458775013517,1.2936442124849115,1.0110229857232282,0.8653464418783434,0.8934098101995325,1.1442656911457671,1.5789093002478447,2.0315036971062854,2.2786751636706875,2.1525469376676134,1.7794951560907943,1.383318746665546,1.0706328465595674,0.8878146710278395,0.8667415933338863,1.0585805474427263,1.4581941412711232,1.9265791924038498,2.2481476956803332,2.21803504521764,1.883269666166262,1.479071101915065,1.1392855120094232,0.9209148760935385,0.8540585711860781,0.9870719095923608,1.3424020186334915,1.8123443949229465,2.1932702057060003,2.2629798120795686,1.9839661096343801,1.5795192933573037,1.2159231812488422,0.9634297368165585,0.8544005099059024,0.931454059472901,1.235143769992967,1.692572393711394,2.117327793088956,2.2834519181328234,2.077396603061352,1.6832819631476543,1.300276944908427,1.0152657506673317,0.8666791044631934,0.89085750074823,1.137236175995639,1.5695410059528485,2.023853080492674,2.277248335783661,2.158208331470139,1.787495882015504,1.3904555094924378,1.0755777834611744,0.8899792824382661,0.8652900991269937,1.0526164766928838,1.4491889360481531,1.9182007996704287,2.2448076083344417,2.2222133350861135,1.8910664434443012,1.4865734658784384,1.144870074871017,0.9238554971057568,0.8536411129445044,0.9822230145620093,1.3338025346498927,1.803267049925879,2.188119809070964,2.2654701382116103,1.9914889511206153,1.5874213295446902,1.2221571818552328,0.9670915779202268,0.8549300142899096,0.9278009856361353,1.2272527666328066,1.6832084680660502,2.110759898171228,2.283929005972116,2.0840117516148373,1.6911612957161721,1.3068930998997694,1.0195250213197904,0.8680651114928868],\"z\":[1.2,1.3775115480957545,1.381727460599796,1.3383373127889222,1.2745996434512392,1.2204920885548949,1.2262702690828886,1.3443287477084398,1.5230257995822436,1.5997327429036152,1.489275027522457,1.298498716647621,1.1763777995290516,1.2118781197757835,1.4038443561902925,1.6164196987042472,1.6608265966832814,1.5005351905771176,1.2766742049658442,1.1319691453352267,1.148531626136537,1.3442125347913996,1.6141091965355208,1.75912515641462,1.657124020524428,1.407757376463435,1.1749301988562355,1.0631824105645489,1.129981352790228,1.3801655031083886,1.6925772522012161,1.8591481674032753,1.7515156740830566,1.4747618111428678,1.2002599632620021,1.032239494176537,1.0282715667824698,1.2255206046243061,1.5683191593865438,1.8815634061379884,1.9527256738579564,1.7415342589530647,1.418709512029313,1.1381330761011639,0.9787255902339114,0.9878032548854075,1.204726014347716,1.5778635285125895,1.9358519749118877,2.0573948934047346,1.8631923682727831,1.5199404048164245,1.1990476106368793,0.985709427959463,0.9238765871040177,1.0610518465212335,1.4011670011922779,1.8214180025819429,2.109015478564151,2.072680490177585,1.7653676099699291,1.3977660927517053,1.0977646577629308,0.924028260581286,0.9146145984948234,1.117204720636608,1.5087508106508418,1.9386620040906863,2.185034290251966,2.080778580885705,1.734176489184012,1.3583718924077166,1.0638147159536708,0.9002191098605994,0.9042605128235129,1.1241714196487769,1.5319474580891734,1.9720128753604622,2.2219191355117727,2.1125840550297683,1.756615036358394,1.372086978242942,1.06888479653565,0.8957268597954653,0.8871965374875568,1.0932018866220923,1.4967457649628106,1.9501842550108979,2.2339980758684597,2.1604550591585876,1.8132717968823573,1.4195332124892284,1.0994754306360148,0.9055314941515824,0.8698944312531021,1.0428975201772497,1.4267756934235933,1.8907647930554194,2.221568343778575,2.210911131400886,1.889584912501599,1.4891650261447928,1.148848375936493,0.9283174220611653,0.8585589674360224,0.9875944294309253,1.338301435475245,1.8045631097077752,2.1833148094964123,2.252772256304427,1.975859016435007,1.5739705004989446,1.212801801881762,0.962821415823564,0.8567235249075636,0.9376742818796012,1.2447160687766923,1.7018541040254935,2.1211056342908416,2.2766063019618277,2.0628536467445917,1.668517476002745,1.288757597080041,1.0085595960620721,0.8656868277032683,0.8974908393921471,1.152402267292782,1.5884563750570353,2.037914184789817,2.2768784697998,2.142456370226053,1.7674709041484307,1.3732019961985618,1.0640279830136148,0.8854980767170999,0.8700052997608695,1.0686848839269956,1.4724966693335477,1.9390623686995474,2.251608135684457,2.2089395292265093,1.8687396878896656,1.4656011970764489,1.12953823388,0.916108442744827,0.8555327770234169,0.9967820501316319,1.3587902063819086,1.8290503390414274,2.201878751081182,2.2566969448287364,1.968445004299737,1.5637074811859375,1.2036685599598222,0.9564412093442272,0.8538217224354642,0.9394242272719289,1.2515553885223814,1.7116446511693484,2.1302217188620207,2.2813449173613365,2.062740434057729,1.6663491673859463,1.2862404766218727,1.006384082392752,0.8640573974147668,0.8965949338407978,1.1525348146655616,1.5896950028763532,2.0400739505655405,2.2798094200307135,2.145494003152597,1.769906683739586,1.374869510638101,1.0648514789036292,0.8853866770098437,0.8686803609641005,1.0659253953271681,1.4690754907792836,1.9365285522995879,2.2518278310824345,2.2126227895627877,1.8736470983257878,1.4699168559898634,1.132531884375633,0.917427080289181,0.8547270155299596,0.9932062444765537,1.3530675883667331,1.82344672671816,2.199364496602595,2.259592641688116,1.9745222818597625,1.5697225547166844,1.2082511576654473,0.9589757198015603,0.8538679584331753,0.9361541266459897,1.2450662244206923,1.7042332743685291,2.1253813820900507,2.2825706893700675,2.068916640473948,1.6733302087657522,1.2919722284631603,1.0099641974208229,0.8650325660021642,0.8940907280730435,1.146084426859946,1.5813062954221466,2.0334342877221987,2.2789836166477495,2.151041505436262,1.7774105555929631,1.3814710066574167,1.0693608564646717,0.8872694524204493,0.8671423004961949,1.0601565634865582,1.4605496774825715,1.9287506998426767,2.2489810048876735,2.216902352998558,1.8812103647429055,1.477101619853022,1.1378264422931528,0.9201543821143123,0.854186366742936,0.9883697472398127,1.3446789296116801,1.8147296811703382,2.1946000103351864,2.2622866907529584,1.9819629419721347,1.5774294896538352,1.214281105677629,0.9624712580925864,0.8542748089416734,0.9324399483547142,1.2372465989609804,1.6950506502336444,2.1190477094895774,2.2832932467334977,2.0756256521170537,1.6811904328883691,1.2985269038951004,1.0141443660975735,0.8663232423002422,0.8915233894341407,1.1390832508698607,1.5720102163354805,2.0258765933092393,2.277636683399224,2.1567203238641297,1.7853819066402499,1.3885667166380955,1.0742666617346486,0.8894020063750555,0.8656667988311231,1.0541861856491639,1.4515680096690655,1.9204215547279355,2.245703227473911,2.2211173315132835,1.889003110469843,1.484583745269702,1.1433863393202817,0.9230713448449495,0.8537447985312844,0.9834994427931714,1.3360771522265744,1.8056762038275636,2.189496544651225,2.264823069703171,1.9894974521964266,1.5853231446820544,1.2204989345840462,0.9661148362491472,0.8547829413817708,0.9287619763502024,1.2293415183816165,1.6856956214258367,2.1125132136398745,2.283816849060673,2.082260965436137,1.6890671810207265,1.3051316735513687,1.0183884718722902,0.8676907577441042,0.889052015240774,1.1321590068996716,1.5627172853319202,2.018226315637414,2.276108906919718,2.1622762767147097,1.7933312315137644,1.3956847314183733,1.0792191128422957,0.8915982572724925,0.8642818281690248,1.0483130382597738,1.4426279493299892,1.9120448316447927,2.2422782425925054,2.225191208320781,1.8967550965577624,1.492078213697344,1.1489862803247832,0.9260432206442855,0.8533839321779896,0.978732286904329,1.3275376616404997,1.7965987199334688,2.1842687397350153,2.2672004924762477,1.9969719798680043,1.5932241237334768,1.2267552957722263,0.9698108851664963,0.8553628158869807,0.9251793194444301,1.2215032468233933,1.6763289440407223,2.1058753823742062,2.284180169638992,2.0888253356947946,1.6969539176474813,1.311777484656343,1.022686888465033,0.8691241561936094,0.8866635860044478,1.1252987869766715,1.553419359151417,2.0104864831418054,2.274421321481802,2.1677438528753057,1.8012946555981126,1.4028539952193078,1.0842359491411813,0.8938622133033564,0.8629739000477631,1.0425034329313463,1.4336838974639419,1.9035824312146334,2.2386998085102685,2.2291595360258745,1.9045215290873234,1.4996365718168057,1.1546622037593912,0.9290861664106109,0.8530975761585526,0.9740348330914782,1.3190051901515858,1.7874410623820738,2.178888514934342,2.2694409155614896,2.0044422976547382,1.6011909127600812,1.2330959630718294,0.9735858912149093,0.8560170555456835,0.9216631355481784,1.213671756066992,1.666880046272756,2.099085669835217,2.2843881389354643,2.095372239854829,1.7049161005115883,1.3185196011319675,1.0270754578915828,0.870635102533628,0.8843378078466264,1.1184456739322348,1.5440391897527914,2.00259272676065,2.272559603267872,2.173168565732102,1.8093416795908854,1.41013812816766,1.0893622150491966,0.896214414637313,0.8617321598007635,1.0367077470112105,1.4246579755082476,1.8949591859999868,2.234934662322126,2.233054448759962,1.912371451774119,1.507328084465457,1.1604418160490058,0.9321947005593328,0.8528868147852803,0.9694384849645811,1.3105442485909524,1.7782763506946893,2.1734004654181938,2.271525104664389,2.0118462996785365,1.6091585944465128,1.2394694654734266,0.9774094290685342,0.8567403776342128,0.9182421321043349,1.2059116201718578,1.657426721031127,2.0921997354748507,2.284437216263334,2.1018464812815876,1.7128895428872677,1.3253043638776212,1.0315197930267983,0.8722121826524569,0.8820942059858742,1.1116563501193972,1.5346533499248938,1.9946084910138964,2.2705365522607557,2.178503271766199,1.81740730979017,1.4174798336582244,1.0945583969707338,0.8986373084654024,0.8605679039016149,1.0309746069301329,1.4156237622915406,1.8862433237818674,2.231010155346729,2.236840040830932,1.920202861673978,1.5149999759517463,1.1662168378408233,0.9353259467405204,0.8527520774939942,0.9649859422892653,1.3022315840108714,1.7691868719622768,2.167855915267247,2.2734371091025265,2.019119950915429,1.6170583466516855,1.2458203537094945,0.9812478695895153,0.8575251040076931,0.9149436785688202,1.1982888314371514,1.648051356069353,2.085279468502373,2.284328703986715,2.1081916100020517,1.7208054065569551,1.3320731575490505,1.0359813943205367,0.8738410758862365,0.8799509469413607,1.104989215309219,1.525343765767577,1.9866044837728458,2.268371231948755,2.1837005204013242,1.8254211599630887,1.4248156609218103,1.0997797059528065,0.9011096714520905,0.8594906316527834,1.0253540220143509,1.4066604972917482,1.877511248492452,2.2269611083494985,2.2404815328698944,1.9279724792782136,1.5226475927473293,1.1719971215835443,0.9384881731437016,0.8526902536570286,0.9606562268482844,1.2940312811150234,1.7601354007963221,2.1622353865595847,2.275188161320069,2.02629445926844,1.6249235645879843,1.2521748376680741,0.9851165113631486,0.8583727258169773,0.911751140486546,1.1907697861050266,1.6387151816149303,2.078298681634315,2.284064934250972,2.114434285870263,1.7286969560859151,1.3388541976852995,1.0404785775260175,0.8755275279808573,0.8778972962454573,1.0984155759462668,1.5160721522571747,1.978549325878101,2.2660572220762796,2.188781420337231,1.8334160381239957,1.4321760130865315,1.105047711994585,0.9036411393516666,0.8584947459493861,1.019822414361918,1.3977317667882494,1.8687279992943662,2.222772506074391,2.2439929054059315,1.9357234651484685,1.5303320944718046,1.1778355670864706,0.9417119172609338,0.8526996809103066,0.9564040025004867,1.285858863864161,1.7510292513930246,2.1564823995195095,2.276796146479329,2.0334429159539877,1.6328354946658292,1.2585986129446058,0.9890554378565064,0.859291674864334,0.9086309146332914,1.1832770246752569,1.6293225995469378,2.071186323486336,2.2836425863772694,2.1206371290040935,1.7366456675491506,1.3457180251172256,1.0450584503941458,0.8772892457924613,0.8759121685823563,1.0918800787643486,1.506785307354872,1.9704081620617495,2.2635863788509742,2.193762159013508,1.8414182082397947,1.4395853996213364,1.1103800246152746,0.9062399739863628,0.857576817645873,1.0143626406273483,1.3888099278694184,1.8598659501564532,2.2184310764856026,2.2473829070354387,1.9434791624683871,1.538078256383725,1.183751551171174,0.945008195480359,0.8527808150350054,0.9522163990492357,1.277689183576395,1.7418395812304102,2.1505778739665495,2.278262920116906,2.040585895162631,1.640819623452963,1.2651130745929222,0.9930784384564648,0.8602859611806608,0.905574206094836,1.1757881113106932,1.6198442270904927,2.063918742212248,2.28305654013391,2.126816569475056,1.7446772410518434,1.3526880987312977,1.04973756576368,0.8791326807627631,0.8739930686743169,1.0853810350142767,1.4974984720186013,1.962203013169971,2.260966884879496,2.198624405013426,1.8493994089871648,1.4470181314842558,1.115758266012094,0.9088970250430929,0.8567398652424493,1.0089947403929331,1.3799278238047386,1.8509573163091484,2.2139525485896576,2.2506369640380104,1.9512102992339164,1.545858494056853,1.1897245425680882,0.9483658910078987,0.8529337774543634,0.9481091034622363,1.2695525069190547,1.7325996799449024,2.144542385242873,2.2795799840030297,2.047695411723912,1.6488474586104,1.271695677962436,0.9971722619699819,0.8613530754217411,0.9025931445646341,1.1683314773722293,1.6103148106933947,2.056521213178393,2.2823052259837624,2.132946898063362,1.752763048613023,1.3597408910436886,1.0545010330984996,0.8810420823185543,0.8721728086646481,1.079035564237718,1.488355408109369,1.9540520272305333,2.258238443306814,2.2033048202522783,1.8572548639530813,1.4543770177446165,1.1211118557645505,0.9115764656010331,0.855992544778446,1.003786674698176,1.3712007358401652,1.8421194123840428,2.2093986065667255,2.2537137338880533,1.9588155204797415,1.5535710295521834,1.1956761699372667,0.9517405638627594,0.8531552467613669,0.9441341814151023,1.26155475025115,1.723431258970889,2.1384570435440007,2.2807307046197356,2.054677436732487,1.6568136597032153,1.2782599590305619,1.0012831054486089,0.8624784053306114,0.8997257963452905,1.1610048887134967,1.600860323641885,2.049092401256153,2.281398914808048,2.1389459823299166,1.7607966991574995,1.3667840870358443,1.0592867022878525,0.8830031352701803,0.8704461580612018,1.07280352063518,1.479280108587596,1.9458803391321435,2.2553787465788666,2.2078532726867377,1.865066259319471,1.4617387122258683,1.1264961674174194,0.9143049415674557,0.8553245053665307,0.9986815516833636,1.362536646658355,1.8332610839695387,2.2047253827393325,2.256647105538944,1.9663739922705508,1.561296116169177,1.201667992139568,0.9551666391829031,0.8534459580138793,0.9402482148452344,1.2536118745492453,1.7142397903489264,2.132261091868258,2.2817283451045434,2.061603875677627,1.6648007790932162,1.2848737318039032,1.0054532945765473,0.863672744311007,0.896941038067324,1.1537320552683612,1.591383715026017,2.0415572818261114,2.2803293778310016,2.144874632599247,1.7688610794515343,1.3738907274527254,1.0641442867205344,0.8850358500405365,0.8687946493131543,1.0666207367520113,1.4701794438861657,1.9376042022438276,2.252358802146275,2.2123149534067714,1.8729136006939162,1.4691796744564567,1.131967467197576,0.9171109411302,0.8547288241895049,0.9936273066874876,1.3538470750936893,1.8242912448914743,2.199884465551219,2.2594646427406833,1.9739620620309066,1.5691136663580574,1.20776257174522,0.9586803272972201,0.8538095427779575,0.9364119446487832,1.24564303300117,1.7049308444517226,2.1258898618383646,2.2825771681117666,2.0684864626702804,1.6728041028041012,1.2915258535348697,1.0096735145597682,0.8649328932536764,0.894246213796564,1.1465340404281867,1.5819130744541852,2.0339385204563514,2.2790991153715834,2.1507133424885714,1.7769325338655162,1.3810407826796602,1.0690605054449205,0.8871347797554843,0.8672234014184828,1.060506315664346,1.4610807391316103,1.9292476226334885,2.249186318143115,2.2166738298762736,1.8807732612743444,1.4766791115931646,1.1375111414122647,0.9199873281846015,0.8542080692975801,0.9886401699220813,1.345158567672086,1.8152357210021153,2.1948882164404933,2.2621538966667942,1.9815557112199604,1.5770015897163796,1.2139436135460215,0.962273011900208,0.8542463918207969,0.9326382125933926,1.2376728510525328,1.6955546922196534,2.119399963448766,2.2832672659810287,2.0752745767883476,1.6807736548033567,1.2981774449903338,1.0139198824617304,0.8662510992599944,0.8916545946834366,1.1394494546431322,1.5725004869630408,2.026279224107469,2.2777162028335898,2.1564293091968123,1.7849670445484922,1.388195671513015,1.0740088959728429,0.8892882298742995,0.8657402537782108,1.054493645107856,1.4520341002361707,1.9208567529270268,2.2458792861239107,2.2209044725510703,1.8886016398759669,1.4841964984416223,1.1430975541389827,0.92291868830028,0.8537649795799471,0.983747849989957,1.3365194913480387,1.8061444248166858,2.189763935135677,2.264697576833135,1.9891116619308955,1.5849168704434728,1.2201779493526665,0.9659258551708174,0.8547547005584825,0.928948396148329,1.2297460562756442,1.6861768367581753,2.1128520092273004,2.283794633358674,2.0819225980914955,1.6886629146489187,1.3047917910478348,1.0181693080846417,0.8676188242354446,0.8891765282181369,1.1325123622819944,1.563193888178599,2.0186209158518564,2.276191514889886,2.161994082143334,1.7929238067509665,1.3953189092982476,1.0789638464567366,0.8914840402054126,0.8643507631373515,1.0486121380643991,1.4430857757776747,1.9124758761797802,2.2424575121458057,2.224985455792612,1.8963581243823175,1.4916931772423296,1.1486978364553364,0.9258893421197271,0.8534005330425171,0.9789745464263993,1.3279745573743829,1.7970653098581073,2.184540097926276,2.2670822583098635,1.9965896604226276,1.59281826697274,1.2264331276929898,0.9696198413403511,0.8553313158101616,0.9253609810535797,1.2219040967699266,1.6768101637513417,2.106218698340185,2.2841653956027312,2.088489988350654,1.6965486789522668,1.3114352120065524,1.0224648346330287,0.8690489508983161,0.886784227492064,1.1256495108714422,1.5538969359052803,2.0108861027184792,2.2745118659384085,2.167465249829007,1.8008853604294406,1.4024845659966627,1.0839767341613937,0.8937442968619204,0.8630391919494097,1.0428002222223107,1.4341433003732287,1.9040190998694246,2.2388873214750102,2.228958350635928,1.9041223403914338,1.4992468397079257,1.1543701148409138,0.9289298644868854,0.8531102769889884,0.9742706194076957,1.3194360143789254,1.7879053832748333,2.179163796300098,2.2693311531361697,2.0040653429792754,1.600787191631035,1.23277387365357,0.97339343249163,0.8559822339075276,0.9218390070827182,1.214066874317787,1.6673589534723225,2.099432046055867,2.284381427129475,2.0950422402052586,1.7045123801385054,1.318176949582421,1.0268517473513168,0.8705569502699269,0.884453677028918,1.1187913955147348,1.544514632664295,2.0029948918132723,2.2726578175427496,2.172895840269229,1.8089334847378793,1.4097676610220111,1.0891007925297784,0.8960935322414303,0.8617932178963332,1.036999920502583,1.425115527618892,1.895398353515473,2.2351292672681122,2.2328596960723353,1.9119732205702205,1.506936609969673,1.1601469127763167,0.932035332304797,0.8528957170324984,0.9696699276073906,1.3109732002890717,1.778743106316273,2.173682475433117,2.271422752823264,2.0114709009515264,1.6087528511972384,1.239144126246011,0.9772135571998566,0.8567018846138117,0.9184140488680066,1.2063050530421784,1.6579081916916747,2.092552681837882,2.284438562118589,2.101518584429714,1.7124832509180439,1.324957836820362,1.031292125140597,0.8721302754076968,0.8822064696035976,1.112000519925826,1.5351314125218907,1.9950172347987074,2.270643474944582,2.17823383750039,1.8169961562646137,1.4171045829613702,1.0942920960285596,0.8985122138799825,0.8606253097837622,1.0312650131302283,1.4160839779833094,1.8866893849551298,2.2312138647747446,2.236649971119514,1.9198042498084575,1.5146090861740444,1.1659222004903946,0.9351655561374241,0.8527571634060386,0.9652098881059381,1.3026525233839443,1.7696492096170662,2.168140358480695,2.273343574781282,2.018751648014946,1.6166565719752302,1.2454965909479156,0.9810515084133538,0.8574835778645384,0.9151092047917768,1.1986748090495412,1.6485282294616406,2.0856336432453446,2.284338004383556,2.10787070381322,1.720402562560031,1.3317278897478073,1.035753147359342,0.8737566615085691,0.880058001059197,1.1053267430250944,1.525817317961762,1.9870136598275012,2.268485197846218,2.1834384449945907,1.825013185688435,1.4244411962024177,1.0995124727716419,0.9009822352977824,0.8595435617370449,1.0256383273947705,1.407116485897364,1.8779575268407902,2.2271708519030113,2.2402990736503874,1.9275769362259805,1.5222569363824658,1.171701123604235,0.9383255243422557,0.8526916819841982,0.9608750218989797,1.294448546313775,1.7605980401883587],\"marker\":{},\"line\":{}}];\r\n",
       "            var layout = {\"width\":1100,\"height\":600,\"template\":{\"layout\":{\"title\":{\"x\":0.05},\"font\":{\"color\":\"rgba(42, 63, 95, 1.0)\"},\"paper_bgcolor\":\"rgba(255, 255, 255, 1.0)\",\"plot_bgcolor\":\"rgba(229, 236, 246, 1.0)\",\"autotypenumbers\":\"strict\",\"colorscale\":{\"diverging\":[[0.0,\"#8e0152\"],[0.1,\"#c51b7d\"],[0.2,\"#de77ae\"],[0.3,\"#f1b6da\"],[0.4,\"#fde0ef\"],[0.5,\"#f7f7f7\"],[0.6,\"#e6f5d0\"],[0.7,\"#b8e186\"],[0.8,\"#7fbc41\"],[0.9,\"#4d9221\"],[1.0,\"#276419\"]],\"sequential\":[[0.0,\"#0d0887\"],[0.1111111111111111,\"#46039f\"],[0.2222222222222222,\"#7201a8\"],[0.3333333333333333,\"#9c179e\"],[0.4444444444444444,\"#bd3786\"],[0.5555555555555556,\"#d8576b\"],[0.6666666666666666,\"#ed7953\"],[0.7777777777777778,\"#fb9f3a\"],[0.8888888888888888,\"#fdca26\"],[1.0,\"#f0f921\"]],\"sequentialminus\":[[0.0,\"#0d0887\"],[0.1111111111111111,\"#46039f\"],[0.2222222222222222,\"#7201a8\"],[0.3333333333333333,\"#9c179e\"],[0.4444444444444444,\"#bd3786\"],[0.5555555555555556,\"#d8576b\"],[0.6666666666666666,\"#ed7953\"],[0.7777777777777778,\"#fb9f3a\"],[0.8888888888888888,\"#fdca26\"],[1.0,\"#f0f921\"]]},\"hovermode\":\"closest\",\"hoverlabel\":{\"align\":\"left\"},\"coloraxis\":{\"colorbar\":{\"outlinewidth\":0.0,\"ticks\":\"\"}},\"geo\":{\"showland\":true,\"landcolor\":\"rgba(229, 236, 246, 1.0)\",\"showlakes\":true,\"lakecolor\":\"rgba(255, 255, 255, 1.0)\",\"subunitcolor\":\"rgba(255, 255, 255, 1.0)\",\"bgcolor\":\"rgba(255, 255, 255, 1.0)\"},\"mapbox\":{\"style\":\"light\"},\"polar\":{\"bgcolor\":\"rgba(229, 236, 246, 1.0)\",\"radialaxis\":{\"linecolor\":\"rgba(255, 255, 255, 1.0)\",\"gridcolor\":\"rgba(255, 255, 255, 1.0)\",\"ticks\":\"\"},\"angularaxis\":{\"linecolor\":\"rgba(255, 255, 255, 1.0)\",\"gridcolor\":\"rgba(255, 255, 255, 1.0)\",\"ticks\":\"\"}},\"scene\":{\"xaxis\":{\"ticks\":\"\",\"linecolor\":\"rgba(255, 255, 255, 1.0)\",\"gridcolor\":\"rgba(255, 255, 255, 1.0)\",\"gridwidth\":2.0,\"zerolinecolor\":\"rgba(255, 255, 255, 1.0)\",\"backgroundcolor\":\"rgba(229, 236, 246, 1.0)\",\"showbackground\":true},\"yaxis\":{\"ticks\":\"\",\"linecolor\":\"rgba(255, 255, 255, 1.0)\",\"gridcolor\":\"rgba(255, 255, 255, 1.0)\",\"gridwidth\":2.0,\"zerolinecolor\":\"rgba(255, 255, 255, 1.0)\",\"backgroundcolor\":\"rgba(229, 236, 246, 1.0)\",\"showbackground\":true},\"zaxis\":{\"ticks\":\"\",\"linecolor\":\"rgba(255, 255, 255, 1.0)\",\"gridcolor\":\"rgba(255, 255, 255, 1.0)\",\"gridwidth\":2.0,\"zerolinecolor\":\"rgba(255, 255, 255, 1.0)\",\"backgroundcolor\":\"rgba(229, 236, 246, 1.0)\",\"showbackground\":true}},\"ternary\":{\"aaxis\":{\"ticks\":\"\",\"linecolor\":\"rgba(255, 255, 255, 1.0)\",\"gridcolor\":\"rgba(255, 255, 255, 1.0)\"},\"baxis\":{\"ticks\":\"\",\"linecolor\":\"rgba(255, 255, 255, 1.0)\",\"gridcolor\":\"rgba(255, 255, 255, 1.0)\"},\"caxis\":{\"ticks\":\"\",\"linecolor\":\"rgba(255, 255, 255, 1.0)\",\"gridcolor\":\"rgba(255, 255, 255, 1.0)\"},\"bgcolor\":\"rgba(229, 236, 246, 1.0)\"},\"xaxis\":{\"title\":{\"standoff\":15},\"ticks\":\"\",\"automargin\":true,\"linecolor\":\"rgba(255, 255, 255, 1.0)\",\"gridcolor\":\"rgba(255, 255, 255, 1.0)\",\"zerolinecolor\":\"rgba(255, 255, 255, 1.0)\",\"zerolinewidth\":2.0},\"yaxis\":{\"title\":{\"standoff\":15},\"ticks\":\"\",\"automargin\":true,\"linecolor\":\"rgba(255, 255, 255, 1.0)\",\"gridcolor\":\"rgba(255, 255, 255, 1.0)\",\"zerolinecolor\":\"rgba(255, 255, 255, 1.0)\",\"zerolinewidth\":2.0},\"annotationdefaults\":{\"arrowcolor\":\"#2a3f5f\",\"arrowhead\":0,\"arrowwidth\":1},\"shapedefaults\":{\"line\":{\"color\":\"rgba(42, 63, 95, 1.0)\"}},\"colorway\":[\"rgba(99, 110, 250, 1.0)\",\"rgba(239, 85, 59, 1.0)\",\"rgba(0, 204, 150, 1.0)\",\"rgba(171, 99, 250, 1.0)\",\"rgba(255, 161, 90, 1.0)\",\"rgba(25, 211, 243, 1.0)\",\"rgba(255, 102, 146, 1.0)\",\"rgba(182, 232, 128, 1.0)\",\"rgba(255, 151, 255, 1.0)\",\"rgba(254, 203, 82, 1.0)\"]},\"data\":{\"bar\":[{\"marker\":{\"line\":{\"color\":\"rgba(229, 236, 246, 1.0)\",\"width\":0.5},\"pattern\":{\"fillmode\":\"overlay\",\"size\":10,\"solidity\":0.2}},\"error_x\":{\"color\":\"rgba(42, 63, 95, 1.0)\"},\"error_y\":{\"color\":\"rgba(42, 63, 95, 1.0)\"}}],\"barpolar\":[{\"marker\":{\"line\":{\"color\":\"rgba(229, 236, 246, 1.0)\",\"width\":0.5},\"pattern\":{\"fillmode\":\"overlay\",\"size\":10,\"solidity\":0.2}}}],\"carpet\":[{\"aaxis\":{\"linecolor\":\"rgba(255, 255, 255, 1.0)\",\"gridcolor\":\"rgba(255, 255, 255, 1.0)\",\"endlinecolor\":\"rgba(42, 63, 95, 1.0)\",\"minorgridcolor\":\"rgba(255, 255, 255, 1.0)\",\"startlinecolor\":\"rgba(42, 63, 95, 1.0)\"},\"baxis\":{\"linecolor\":\"rgba(255, 255, 255, 1.0)\",\"gridcolor\":\"rgba(255, 255, 255, 1.0)\",\"endlinecolor\":\"rgba(42, 63, 95, 1.0)\",\"minorgridcolor\":\"rgba(255, 255, 255, 1.0)\",\"startlinecolor\":\"rgba(42, 63, 95, 1.0)\"}}],\"choropleth\":[{\"colorbar\":{\"outlinewidth\":0.0,\"ticks\":\"\"},\"colorscale\":[[0.0,\"#0d0887\"],[0.1111111111111111,\"#46039f\"],[0.2222222222222222,\"#7201a8\"],[0.3333333333333333,\"#9c179e\"],[0.4444444444444444,\"#bd3786\"],[0.5555555555555556,\"#d8576b\"],[0.6666666666666666,\"#ed7953\"],[0.7777777777777778,\"#fb9f3a\"],[0.8888888888888888,\"#fdca26\"],[1.0,\"#f0f921\"]]}],\"contour\":[{\"colorbar\":{\"outlinewidth\":0.0,\"ticks\":\"\"},\"colorscale\":[[0.0,\"#0d0887\"],[0.1111111111111111,\"#46039f\"],[0.2222222222222222,\"#7201a8\"],[0.3333333333333333,\"#9c179e\"],[0.4444444444444444,\"#bd3786\"],[0.5555555555555556,\"#d8576b\"],[0.6666666666666666,\"#ed7953\"],[0.7777777777777778,\"#fb9f3a\"],[0.8888888888888888,\"#fdca26\"],[1.0,\"#f0f921\"]]}],\"contourcarpet\":[{\"colorbar\":{\"outlinewidth\":0.0,\"ticks\":\"\"}}],\"heatmap\":[{\"colorbar\":{\"outlinewidth\":0.0,\"ticks\":\"\"},\"colorscale\":[[0.0,\"#0d0887\"],[0.1111111111111111,\"#46039f\"],[0.2222222222222222,\"#7201a8\"],[0.3333333333333333,\"#9c179e\"],[0.4444444444444444,\"#bd3786\"],[0.5555555555555556,\"#d8576b\"],[0.6666666666666666,\"#ed7953\"],[0.7777777777777778,\"#fb9f3a\"],[0.8888888888888888,\"#fdca26\"],[1.0,\"#f0f921\"]]}],\"heatmapgl\":[{\"colorbar\":{\"outlinewidth\":0.0,\"ticks\":\"\"},\"colorscale\":[[0.0,\"#0d0887\"],[0.1111111111111111,\"#46039f\"],[0.2222222222222222,\"#7201a8\"],[0.3333333333333333,\"#9c179e\"],[0.4444444444444444,\"#bd3786\"],[0.5555555555555556,\"#d8576b\"],[0.6666666666666666,\"#ed7953\"],[0.7777777777777778,\"#fb9f3a\"],[0.8888888888888888,\"#fdca26\"],[1.0,\"#f0f921\"]]}],\"histogram\":[{\"marker\":{\"pattern\":{\"fillmode\":\"overlay\",\"size\":10,\"solidity\":0.2}}}],\"histogram2d\":[{\"colorbar\":{\"outlinewidth\":0.0,\"ticks\":\"\"},\"colorscale\":[[0.0,\"#0d0887\"],[0.1111111111111111,\"#46039f\"],[0.2222222222222222,\"#7201a8\"],[0.3333333333333333,\"#9c179e\"],[0.4444444444444444,\"#bd3786\"],[0.5555555555555556,\"#d8576b\"],[0.6666666666666666,\"#ed7953\"],[0.7777777777777778,\"#fb9f3a\"],[0.8888888888888888,\"#fdca26\"],[1.0,\"#f0f921\"]]}],\"histogram2dcontour\":[{\"colorbar\":{\"outlinewidth\":0.0,\"ticks\":\"\"},\"colorscale\":[[0.0,\"#0d0887\"],[0.1111111111111111,\"#46039f\"],[0.2222222222222222,\"#7201a8\"],[0.3333333333333333,\"#9c179e\"],[0.4444444444444444,\"#bd3786\"],[0.5555555555555556,\"#d8576b\"],[0.6666666666666666,\"#ed7953\"],[0.7777777777777778,\"#fb9f3a\"],[0.8888888888888888,\"#fdca26\"],[1.0,\"#f0f921\"]]}],\"mesh3d\":[{\"colorbar\":{\"outlinewidth\":0.0,\"ticks\":\"\"}}],\"parcoords\":[{\"line\":{\"colorbar\":{\"outlinewidth\":0.0,\"ticks\":\"\"}}}],\"pie\":[{\"automargin\":true}],\"scatter\":[{\"marker\":{\"colorbar\":{\"outlinewidth\":0.0,\"ticks\":\"\"}}}],\"scatter3d\":[{\"marker\":{\"colorbar\":{\"outlinewidth\":0.0,\"ticks\":\"\"}},\"line\":{\"colorbar\":{\"outlinewidth\":0.0,\"ticks\":\"\"}}}],\"scattercarpet\":[{\"marker\":{\"colorbar\":{\"outlinewidth\":0.0,\"ticks\":\"\"}}}],\"scattergeo\":[{\"marker\":{\"colorbar\":{\"outlinewidth\":0.0,\"ticks\":\"\"}}}],\"scattergl\":[{\"marker\":{\"colorbar\":{\"outlinewidth\":0.0,\"ticks\":\"\"}}}],\"scattermapbox\":[{\"marker\":{\"colorbar\":{\"outlinewidth\":0.0,\"ticks\":\"\"}}}],\"scatterpolar\":[{\"marker\":{\"colorbar\":{\"outlinewidth\":0.0,\"ticks\":\"\"}}}],\"scatterpolargl\":[{\"marker\":{\"colorbar\":{\"outlinewidth\":0.0,\"ticks\":\"\"}}}],\"scatterternary\":[{\"marker\":{\"colorbar\":{\"outlinewidth\":0.0,\"ticks\":\"\"}}}],\"surface\":[{\"colorbar\":{\"outlinewidth\":0.0,\"ticks\":\"\"},\"colorscale\":[[0.0,\"#0d0887\"],[0.1111111111111111,\"#46039f\"],[0.2222222222222222,\"#7201a8\"],[0.3333333333333333,\"#9c179e\"],[0.4444444444444444,\"#bd3786\"],[0.5555555555555556,\"#d8576b\"],[0.6666666666666666,\"#ed7953\"],[0.7777777777777778,\"#fb9f3a\"],[0.8888888888888888,\"#fdca26\"],[1.0,\"#f0f921\"]]}],\"table\":[{\"cells\":{\"fill\":{\"color\":\"rgba(235, 240, 248, 1.0)\"},\"line\":{\"color\":\"rgba(255, 255, 255, 1.0)\"}},\"header\":{\"fill\":{\"color\":\"rgba(200, 212, 227, 1.0)\"},\"line\":{\"color\":\"rgba(255, 255, 255, 1.0)\"}}}]}},\"xaxis\":{\"title\":{\"text\":\"Proteinkonzentration von x1\"}},\"yaxis\":{\"title\":{\"text\":\"Proteinkonzentration von x2\"}},\"scene\":{\"zaxis\":{\"title\":{\"text\":\"Proteinkonzentration von x3\"}}}};\r\n",
       "            var config = {\"responsive\":true};\r\n",
       "            Plotly.newPlot('b149d661-3558-4ded-a203-825dd5790615', data, layout, config);\r\n",
       "});\r\n",
       "            };\r\n",
       "            if ((typeof(requirejs) !==  typeof(Function)) || (typeof(requirejs.config) !== typeof(Function))) {\r\n",
       "                var script = document.createElement(\"script\");\r\n",
       "                script.setAttribute(\"src\", \"https://cdnjs.cloudflare.com/ajax/libs/require.js/2.3.6/require.min.js\");\r\n",
       "                script.onload = function(){\r\n",
       "                    renderPlotly_b149d66135584deda203825dd5790615();\r\n",
       "                };\r\n",
       "                document.getElementsByTagName(\"head\")[0].appendChild(script);\r\n",
       "            }\r\n",
       "            else {\r\n",
       "                renderPlotly_b149d66135584deda203825dd5790615();\r\n",
       "            }\r\n",
       "</script>\r\n",
       "\n",
       "    \n",
       "</div>    \n"
      ]
     },
     "metadata": {},
     "output_type": "display_data"
    }
   ],
   "source": [
    "//Konstanten\n",
    "let beta  = 5. // Konstante für die Zunahme der Proteinkonzentration\n",
    "let gamma = 1.  // Konstante für die Abnahme der Proteinkonzentration \n",
    "let K_d   = 1.  // Dissoziationskonstante\n",
    "let n     = 3.  // Hillkonstante\n",
    "\n",
    "let repressilator_rhs (x1,x2,x3) t beta n =\n",
    "    [|\n",
    "        beta / (1. + x3 ** n) - x1\n",
    "        beta / (1. + x1 ** n) - x2\n",
    "        beta / (1. + x2 ** n) - x3\n",
    "    |]\n",
    "\n",
    "// Define a function which calculates the derivative\n",
    "let dP_dt : Model = \n",
    "    fun P t ->\n",
    "        let x1 = P[0] //Änderung der Proteinkonzentration von x1\n",
    "        let x2 = P[1] //Änderung der Proteinkonzentration von x2\n",
    "        let x3 = P[2] //Änderung der Proteinkonzentration von x3\n",
    "\n",
    "        //Differenzialgleichung die die Änderung der Proteinkonzentration von x1 beschreibt (hier die Gleichung einsetzen)\n",
    "        let x1' = beta / (1. + (x3/K_d) ** n) - gamma * x1\n",
    "        //Differenzialgleichung die die Änderung der Proteinkonzentration von x2 beschreibt (hier die Gleichung einsetzen)\n",
    "        let x2' = beta / (1. + (x1/K_d) ** n) - gamma * x2\n",
    "        //Differenzialgleichung die die Änderung der Proteinkonzentration von x3 beschreibt (hier die Gleichung einsetzen)\n",
    "        let x3' = beta / (1. + (x2/K_d) ** n) - gamma * x3\n",
    "\n",
    "        [|x1'; x2'; x3'|]\n",
    "\n",
    "//Startkonzentrationen\n",
    "let P0 = [|1.; 1.; 1.2|]\n",
    "\n",
    "let Ps = \n",
    "    modelContext.OdeInt(0.,P0,dP_dt)\n",
    "    |> SolPoints.take 1000\n",
    "    |> SolPoints.memorize \n",
    "    \n",
    "let x1 = Ps |> SolPoints.toY 0\n",
    "let x2 = Ps |> SolPoints.toY 1\n",
    "let x3 = Ps |> SolPoints.toY 2\n",
    "\n",
    "Chart.Line3D(x1, x2, x3)\n",
    "|> Chart.withSize(1100,600)\n",
    "|> Chart.withXAxisStyle(\"Proteinkonzentration von x1\")\n",
    "|> Chart.withYAxisStyle(\"Proteinkonzentration von x2\")\n",
    "|> Chart.withZAxisStyle(\"Proteinkonzentration von x3\")"
   ]
  },
  {
   "cell_type": "markdown",
   "metadata": {},
   "source": []
  }
 ],
 "metadata": {
  "kernelspec": {
   "display_name": ".NET (C#)",
   "language": "C#",
   "name": ".net-csharp"
  },
  "language_info": {
   "file_extension": ".cs",
   "mimetype": "text/x-csharp",
   "name": "C#",
   "pygments_lexer": "csharp",
   "version": "9.0"
  },
  "vscode": {
   "interpreter": {
    "hash": "3017eed01e41510f2e4758f02a5c4b458edd512c2a48ee2ef97492bf17f5a7a1"
   }
  }
 },
 "nbformat": 4,
 "nbformat_minor": 2
}
