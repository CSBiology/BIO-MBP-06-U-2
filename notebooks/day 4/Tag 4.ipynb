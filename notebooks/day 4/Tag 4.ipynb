{
 "cells": [
  {
   "cell_type": "code",
   "execution_count": null,
   "metadata": {
    "dotnet_interactive": {
     "language": "fsharp"
    }
   },
   "outputs": [],
   "source": [
    "// Importieren der benötigten Module\n",
    "#r \"nuget: Plotly.NET.Interactive, 3.0.2\"\n",
    "#r \"nuget: FsODE, 0.0.1\"\n",
    "#r \"nuget: FSharp.Stats\"\n",
    "\n",
    "// ... und öffnen der benöätigten Module\n",
    "open FsODE\n",
    "open Plotly.NET\n",
    "open FSharp.Stats\n",
    "\n",
    "\n",
    "// der Rechenalgorithmus der Programmbibliothek, die wir benutzen:\n",
    "let modelContext = //OdeContext()\n",
    "    OdeSolverMethod.RK546M //RK547M()\n",
    "    |> OdeContext"
   ]
  },
  {
   "cell_type": "markdown",
   "metadata": {},
   "source": [
    "### Einfaches Model vom Lac Operon\n",
    "\n",
    "Also Intracellular lactose gegen die Zeit\n",
    "Dabei wird Intracellular lactose postiv reguliert\n",
    "\n",
    "Differenzialgleichung\n",
    "\n",
    "let intralac' = alpha + beta * (intalac**2/(K_d**2. + intalac**2))-gamma*intalac\n",
    "\n",
    "Funktioniernde Parameter:\n",
    "\n",
    "alpha = 0.5\n",
    "beta = 10.\n",
    "K_d = 4.\n",
    "\n",
    "Bistabilität einführen (das folgende ist nur eine Kopie vom alten tag 3, kann gerne komplett verändert werden) <br>\n",
    "\n",
    "\n",
    "Ein System das zwei stabile Fixpunkte hat wird auch istabiles System genannt. **Bistabilität** ist ein der Schlüsseleigenschaften der meisten biologischen Systeme, da das System auch dann an einem der beiden Fixpunkte verweilt, auch wenn es leichte Störungen oder leicht veränderte äußere Einflüße gibt. Das bedeutet ein biologisches System das sich um den Schutz gegen stark gestiegene Temperaturen kümmert und die dafür beötigten Proteine produizert wird nicht aktiv wenn sich die Temperatur nur leicht ändert, sondern erst wenn es zu einer starken Abweichung von den normalern Bedingungen kommt. Dies ermöglicht einen effizenteren Einsatz von Resourcen, es kommt nur dann zu einer Proteinproduktion wenn diese benötigt werden, und damit auch eine bessere Überlebenswahrscheinlichkeit. <br>\n",
    "Bistabilität ist allerdings nur eine spezialform der **Multistabilität**. Multistabilität bedeutet das ein System mehere Fixpunkte hat zu denen es wandern kann, anhängig von den äußeren Einflüßen. \n"
   ]
  },
  {
   "cell_type": "markdown",
   "metadata": {},
   "source": [
    "-----------------\n",
    "\n",
    "Muss kompleet überarbeitet werden (anderes Model für ultrasensitives Verhlaten, Überleitung vom Lac operon )\n",
    "\n",
    "### Hill Funktion und Ultrasensitivität\n",
    "\n",
    "Die Umgebung von einer Zelle ändert sich dauerhaft, da sich die Konzentrationen von allen Molekülen um die Zelle dauerhaft ändern. Durch aktiven oder passiven Import der Zelle, oder benachbarter Zellen, durch Export von bestimmten Molekülen, oder durch Diffusion und einige Möglichkeiten zu nennen. Die Zelle muss konstant die Expression von Genen und damit auch die Produktion von Proteinen an diese Veränderungen anpassen. Das ist in vielen Fällen auch kein Problem, da sich die Konzenrtation von Molekülen meist nicht schlagartig ändert. Daher können für diese Fälle auch die bisher besprochenen Differenzialgleichungen genutzt werden. In ebensovielen Fällen sind die bisher besprochenen Gleichungen aber nicht ausreichend.\n",
    "\n",
    "Beispiel (erklärung des biologischen Problems, einführen Ultrasentivität)\n",
    "\n",
    "Allerdings ist es an dieser Stelle relevant eine andere Darstellung einzuführen. Die meisten Antworten in der Genregulkation und bei Protein-Protein-Interaktionen haben ein **ultrasensitives** Verhalten. Das heißt das ein Prozess nur dann stattfindet wenn ein bestimmter Schwellenwert überschritten wird, während es davor keinen Effekt gibt. Oft ist dieses ultrasensitive Verhalten bedingt durch **Kooperativität**. Ein Beispiel dafür wäre Hemoglobin. Hemoglobin bindet bis zu vier Moleküle Sauerstoff. Wenn kein Molekül Sauerstoff gebunden ist, befindet sich das Hemoglobin in dem sogenannten T-State. In diesem ist die Affinität von Hemoglobin für Sauerstoff sehr gering und eine Bindung von Sauerstoff ist eher unwahrscheinlich. Fall aber ein Sauerstoffmolekül dennoch an das Hemoglobin bindet kommt es zu einer Konformationsänderung. Durch diese Änderung wird die Affinität von Hemoglobin für Sauerstoff deutlich erhöht und es ist wahrscheinlich das drei weitere Sauerstoffmolekükle an das Hemoglobin binden. Sobald alle vier Sauerstoffmoleküle an das Hemoglobin gebunden haben wird von dem sogenannten R-State gesprochen.<br>\n",
    "Das Verhalten kann daher als ultrasensitiv beschrieben werden, weil es nur bei hoch genugen Sauerstoffkonzentration zu der Bildung des R-states kommt. Bei niedrigen Konzentration bnindet zwar ab und zu ein Molekül Sauerstoff an das Hemoglobin, aber weitere Sauerstoffmoleküle sind zu weit entfernt um die jetzt höhere Affinität auszunutzen, weshalb das gebunde Sauerstoff nach einiger Zeit das Hemoglobin wieder verlässt.<br>\n",
    "\n",
    "\n",
    "Für die mathematische Beschreibung von solchen Ultrasensitiven Prozessen wird in der Biologie zumeist die Hillfunktion verwendet. Das anwenden von dieser auf die bisher besprochenen negative Autoregulation führt zu der folgenen Differenzialgleichung \n",
    "$$ \\frac {dProteinkonzentration} {dt} = \\beta* \\frac {1}{1+ (\\frac {Proteinkonzentration}{K_{D}})^{n}}  - \\gamma*Proteinkonzentration$$\n",
    "\n",
    "die Gleichung für eine ultrasentives Verhalten von einer Proteinproduktion die durch einen Repressor beeinflusst wird ist identisch, nur müssen sie die Proteinkonzentration im Term, der $\\beta$ beeienflusst, durch die Repressorkonezntration ersetzten. Die Differenzialgleichung für postive Autoregulation ist \n",
    "$$ \\frac {dProteinkonzentration} {dt} = \\beta* \\frac {Proteinkonzentration^{n}}{{(K_{D})^{n}} + Proteinkonzentration^{n}} - \\gamma*Proteinkonzentration$$\n",
    "auch hier führt das ersetzten der Protienkonzentration, im $\\beta$ beeinflussenden Term, mit der Aktivatorkonezentration zu der Gleichung für eine Proteinproduktion die von diesem beieinflusst wird. \n",
    "Der Paramerter $n$ ist der Hillkoeffizent und beschreibt wie stark das ultrasensitve Verhalten ist. Ein Wert von 1 beschreibt die bisher besprochenen Verhaltensweisen, während ein Wert von 2 oder höher das ulatrsensitive Verhalten beschreibt. \n",
    "\n",
    "Aufgabe:\n",
    "\n",
    "Setzen sie die Gleichung für postive Autoregulation in die nachfolgende Simulation ein, dabei sollte die postive Autoregulation durch eine Hill Funktion beschrieben werden (Bitte beachten sie, dass sie die Proteinkonznetration als \"Proteinkonznetration2\" einsetzten müssen, ohne \"\". Beachten sie ebenfalls das $\\beta \\textrm{ und } \\gamma$ als \"beta\" und \"gamma\", ohne \"\", eingesetzt werden müssen und nicht als Symbole, und das $K_{D}$ als K_d eingesetzt wird)."
   ]
  },
  {
   "cell_type": "code",
   "execution_count": null,
   "metadata": {
    "dotnet_interactive": {
     "language": "fsharp"
    }
   },
   "outputs": [],
   "source": [
    "//Konstanten\n",
    "let beta  =  10.0 // Konstante für die Zunahme der Proteinkonzentration\n",
    "let gamma =  1.0  // Konstante für die Verringerung der Proteinkonzentration\n",
    "let K_d =    4.0  // Dissoziationskonstante\n",
    "let n =      2.0  // Hill Koeffizent \n",
    "\n",
    "// unsere DGL als  Modell (Model)\n",
    "let dP_dt : Model = \n",
    "    fun P t ->\n",
    "\n",
    "        let Proteinkonznetration1 = P[0] // Änderung in der Proteinmenge\n",
    "        let Proteinkonznetration2 = P[1] // Änderung in der Proteinmenge\n",
    "        //Änderung der Proteinkonzentration ohne positive Autoregulation\n",
    "        let Proteinkonznetration1' = beta - (gamma*Proteinkonznetration1)\n",
    "        // Änderung des Proteinkonzentration bei positiver Autoregulation (hier die Gleichung einsetzen)\n",
    "        let Proteinkonznetration2' = beta * (Proteinkonznetration2**n)/((Proteinkonznetration2**n) + (K_d**n)) - (gamma*Proteinkonznetration2)\n",
    "\n",
    "        [| Proteinkonznetration1'; Proteinkonznetration2' |]\n",
    "\n",
    "//Startkonzentrationen\n",
    "let P0 = [| \n",
    "    //Startkonzentration für das unregulierte Protein (muss nicht verändert werden)\n",
    "    0.0 \n",
    "    //Startkonzentration für das durch postive Autoreguliation regulierte Protein (hier bitte die Startwerte ändern)\n",
    "    4.0 \n",
    "|]\n",
    "\n",
    "// Simulation der Modelfuntkion\n",
    "let Ps = \n",
    "    modelContext.OdeInt(\n",
    "        0., // Startzeitpunkt\n",
    "        P0,\n",
    "        dP_dt\n",
    "    )\n",
    "    |> SolPoints.take 10 // Anzahl der Zeitpunkte\n",
    "    |> SolPoints.memorize \n",
    "\n",
    "//Graphische Darstellung der numerischen Lösung\n",
    "[\n",
    "    let proteins = Ps |> SolPoints.toPoints 1 \n",
    "    proteins |> Chart.Spline \n",
    "    |> Chart.withTraceInfo(\"Unreguliert\");\n",
    "    let proteinsregulated = Ps |> SolPoints.toPoints 2 \n",
    "    proteinsregulated|> Chart.Spline \n",
    "    |> Chart.withTraceInfo(\"negative AR\");\n",
    "]\n",
    "\n",
    "|> Chart.combine\n",
    "|> Chart.withXAxisStyle(\"Zeit\")\n",
    "|> Chart.withYAxisStyle(\"Proteinkonzentration\")"
   ]
  },
  {
   "cell_type": "markdown",
   "metadata": {},
   "source": [
    "Die Konstanten für den gezeigten Graphen sind:\n",
    "$$\\beta = 10$$\n",
    "$$\\gamma= 1$$\n",
    "$$n = 1$$\n",
    "$$K_{D} = 1$$\n",
    "$$Proteinkonzentration (0) = 0.1$$\n",
    "Aufgabe: <br>\n",
    "Welchen Effekt hat postive Autoregulation bei einem Wert von $n=1$ auf die Antwortszeit?\n"
   ]
  },
  {
   "cell_type": "markdown",
   "metadata": {},
   "source": [
    "Hier die Antwort eintippen"
   ]
  },
  {
   "cell_type": "markdown",
   "metadata": {},
   "source": [
    "Aufgabe <br>\n",
    "Was passiert bei $n=2$?\n",
    "Kopieren sie die obenstehnden code block für die postive Autoregulation und fügen sie diesen in den folgenden Code Block ein. Verändern sie dann die Hill Konstante. "
   ]
  },
  {
   "cell_type": "code",
   "execution_count": null,
   "metadata": {
    "dotnet_interactive": {
     "language": "fsharp"
    }
   },
   "outputs": [],
   "source": [
    "//Code block einfügen"
   ]
  },
  {
   "cell_type": "markdown",
   "metadata": {},
   "source": [
    "Was beobachten sie, welchem bereits bekannten Effekt ähnelt dies?"
   ]
  },
  {
   "cell_type": "markdown",
   "metadata": {},
   "source": [
    "Hier die Antwort eintippen"
   ]
  },
  {
   "cell_type": "markdown",
   "metadata": {},
   "source": [
    "Die Punktattrkationen für dieses Model sind: <br>\n",
    "stabil: 0 und 8 <br>\n",
    "instabil: 2"
   ]
  },
  {
   "cell_type": "markdown",
   "metadata": {},
   "source": [
    "Aufgabe: <br>\n",
    "Teilen sie Gleichung welche die Proteinproduktion in Abhängigkeiten von ultrasenistver postiver Auporegulation beschreibt in zwei Gleichungen. Die erste soll die Produktion des Proteins beschreiben, die zweite die Abnahame, also\n",
    "$$ \\frac {dProteinkonzentration} {dt} = \\textrm{Produktion des Proteins} $$\n",
    "$$ \\frac {dProteinkonzentration} {dt} = \\textrm{Verringerung der Proteinkonzentration}$$\n",
    "\n",
    "Fügen sie die beiden Gleichungen in das folgende Model ein (beachte das $\\beta \\textrm{ und } \\gamma$ als \"beta\" und \"gamma\", ohne \"\", eingesetzt werden müssen und nicht als Symbole, und das $K_{d}$ als K_d eingesetzt wird). "
   ]
  },
  {
   "cell_type": "code",
   "execution_count": null,
   "metadata": {
    "dotnet_interactive": {
     "language": "fsharp"
    }
   },
   "outputs": [],
   "source": [
    "//Konstanten\n",
    "let beta  =  10.0 // Konstante für die Zunahme der Proteinkonzentration\n",
    "let gamma =  1.0  // Konstante für die Verringerung der Proteinkonzentration\n",
    "let K_d =    4.0  // Dissoziationskonstante\n",
    "let n =      2.0  // Hill Koeffizent \n",
    "\n",
    "//Graphische Darstellung der Gleichungen\n",
    "[\n",
    "    // Fügen sie die Gleichung für den Proteinabbau ein\n",
    "    Chart.Line [ for x in 0.0 .. 0.2 .. 15.0 -> (x, (gamma*x)) ]\n",
    "    |> Chart.withTraceInfo(\"Proteinabbau\");\n",
    "    //Fügen sie die Gleichung für die Proteinproduktion ein\n",
    "    Chart.Line [ for x in 0.0 .. 0.2 .. 15.0 -> (x, beta * (x**n)/((x**n) + (K_d**n))) ]\n",
    "    |> Chart.withTraceInfo(\"Proteinproduktion\");\n",
    "]\n",
    "\n",
    "|> Chart.combine\n",
    "|> Chart.withXAxisStyle(\"Proteinkonzentration\")\n",
    "|> Chart.withYAxisStyle(\"Veränderung der Proteinkonzentration\")"
   ]
  },
  {
   "cell_type": "markdown",
   "metadata": {},
   "source": [
    "Der gezeigte Graph stellt auf der Y-Achse die Änderung der Proteinkonzentration dar, also Produktion' und Verringerung'. Die X-Achse repäsentiert die Proteinkonzentration. Diese graphische Darstellung macht es sehr einfach die Punktattraktionen zu bestimmen. Diese sind die Schnittpunkte der beiden Kurven, da bei diesen die Produktion und die Verringerung den gleichen Wert besitzen. In diesem Fall sind die Schnittpunkte der beiden Kurven bei 0, 2 und 8. Somit handelt es sich bei diesen drei Werten um die Punktattraktionen. \n",
    "Diese Art von Graph macht es besonders einfach zu bestimmen ob es sich um stabile oder instabile Punktattraktionen handelt. Dafür muss man sich nur nur überlegen, wohin die Proteinkonzentration wandert. \n",
    "Einige Beispiele folgen:\n",
    "$Proteinkonzentration (0) = 0$ \n",
    "Dieser Wert liegt bereits auf einer Punktattraktion und daher wird die Proteinkonzentration sich nicht ändern.\n",
    "$Proteinkonzentration (0) = 1$ \n",
    "Bei dieser Proteinkonzentration ist der Wert von der Kurve für die Verringerung höher als der für die Produktion. Das heißt es werden mehr Proteine abgebaut als Produziert, somit sinkt die Proteinkonzentration und $Proteinkonzentration(t)$ wandert zu der Punktattraktion 0.\n",
    "$Proteinkonzentration (0) = 2$\n",
    "Dieser Wert liegt bereits auf einer Punktattraktion und daher wird die Proteinkonzentration sich nicht ändern. \n",
    "$Proteinkonzentration (0) = 3$\n",
    "Bei dieser Proteinkonzentration ist der Wert von der Kurve für die Produktion höher als der für die Verringerung. Das heißt es werden mehr Proteine produziert als Abgebaut/durch Wachstum abgegebn, somit steigt die Proteinkonzentration und $Proteinkonzentration(t)$ wandert zu der Punktattraktion 8.\n",
    "$Proteinkonzentration (0) = 10$\n",
    "Bei dieser Proteinkonzentration ist der Wert von der Kurve für die Verringerung höher als der für die Produktion. Das heißt es werden mehr Proteine abgebaut als Produziert, somit sinkt die Proteinkonzentration und $Proteinkonzentration(t)$ wandert zu der Punktattraktion 8.\n",
    "\n",
    "Das heißt die Punktattraktion 0 ist stabil, da höhere Werte sich zu diesem Wert hinbewegen (bis die nächste Punktattraktion erreicht wird).\n",
    "Die Punktattraktion 2 ist instabil, da höhere Werte zur nächsten Punktattraktion, 8, wandern und niedrigere zur vorherigen Punktattraktion, 0. Nur wenn die $Proteinkonzenrtation(0) = 2$ kommt es zu diesem Punkt.\n",
    "\n",
    "Aufgabe: <br>\n",
    "Kopieren sie den obenstehnden code block und fügen sie diesen in den folgenden Code Block ein. \n"
   ]
  },
  {
   "cell_type": "code",
   "execution_count": null,
   "metadata": {
    "dotnet_interactive": {
     "language": "fsharp"
    }
   },
   "outputs": [],
   "source": []
  },
  {
   "cell_type": "markdown",
   "metadata": {},
   "source": [
    "Varrieren sie die Werte für die Abbaukonsante $\\gamma$. Bestimmen sie die Punktattraktionen und ob diese stabil oder instabil sind. Notieren sie die Werte im nachfolgennden Block. Varrieren sie $\\gamma$ von 0 bis 10 in 1. schritten (also 0,1,2,3,4,5,6,7,8,9,10)."
   ]
  },
  {
   "cell_type": "markdown",
   "metadata": {},
   "source": [
    "Notieren sie hier die Werte"
   ]
  },
  {
   "cell_type": "markdown",
   "metadata": {},
   "source": [
    "Aufgabe: <br>\n",
    "Setzen sie jetzt die Werte in den nachfolgenden Code Block ein und führen sie diesen anschliesend aus.\n"
   ]
  },
  {
   "cell_type": "code",
   "execution_count": null,
   "metadata": {
    "dotnet_interactive": {
     "language": "fsharp"
    }
   },
   "outputs": [],
   "source": [
    "// Werte\n",
    "//code\n"
   ]
  },
  {
   "cell_type": "markdown",
   "metadata": {},
   "source": [
    "Dieser Graph ist ein sogenanntes **Bifurkationsdiagramm**. **Bifurkation** beschreibt die qualtitative Änderung des Zustandes eines Systems, das durch nicht lineare Gleichungen beschrieben wird, in Abhängigkeit der Veränderung eines Parameters der Teil der beschreibenden Gleichung ist. In diesem Fall haben sie den Parameter $\\gamma$ verändert und es kam zu einer sogenannten **Saddle-Node Bifurkation**. Bei dieser Bifurkation verliert ein System zwei Punktattraktionen wenn der Bifurkationparameter einen bestimmten Wert erreicht. Dabei wandern die beiden Punktattraktionen aufeinander zu, wenn sich der Bifurkationparameter diesen Wert nähert und voneinander weg wenn er sich von diesem Wert entfernt. Das heißt das System wechselt zwischen den beiden Konformationen **bistabil** und **monostabil**, weshalb von einer qualtiativen Änderung gesprochen wird."
   ]
  },
  {
   "cell_type": "markdown",
   "metadata": {},
   "source": [
    "Es folgt eine kurze Besprechung. Falls Sie schnell vorangekommen sind, können sie bis zur Besprechung folgende Aufgaben lösen."
   ]
  },
  {
   "cell_type": "markdown",
   "metadata": {},
   "source": [
    "Expertenaufgabe:\n",
    "Es gibt Saddle-Node Bifurkationen auch bei vielen anderen Systemen. Ein solches System ist "
   ]
  },
  {
   "cell_type": "markdown",
   "metadata": {},
   "source": [
    "------------------\n",
    "\n",
    "### Osszillation/Hopf Bifukration folgt"
   ]
  }
 ],
 "metadata": {
  "kernelspec": {
   "display_name": "Python 3.9.7 ('base')",
   "language": "python",
   "name": "python3"
  },
  "language_info": {
   "name": "python",
   "version": "3.9.7"
  },
  "vscode": {
   "interpreter": {
    "hash": "3017eed01e41510f2e4758f02a5c4b458edd512c2a48ee2ef97492bf17f5a7a1"
   }
  }
 },
 "nbformat": 4,
 "nbformat_minor": 2
}
