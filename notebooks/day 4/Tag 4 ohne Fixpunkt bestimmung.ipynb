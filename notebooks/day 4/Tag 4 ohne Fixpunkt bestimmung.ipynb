{
 "cells": [
  {
   "cell_type": "code",
   "execution_count": null,
   "metadata": {
    "dotnet_interactive": {
     "language": "fsharp"
    },
    "vscode": {
     "languageId": "dotnet-interactive.fsharp"
    }
   },
   "outputs": [
    {
     "data": {
      "text/html": [
       "<div><div></div><div></div><div><strong>Installed Packages</strong><ul><li><span>FSharp.Stats, 0.4.8</span></li><li><span>FsODE, 0.0.1</span></li><li><span>Plotly.NET.Interactive, 3.0.2</span></li></ul></div></div>"
      ]
     },
     "metadata": {},
     "output_type": "display_data"
    },
    {
     "data": {
      "text/markdown": [
       "Loading extensions from `Plotly.NET.Interactive.dll`"
      ]
     },
     "metadata": {},
     "output_type": "display_data"
    }
   ],
   "source": [
    "// Importieren der benötigten Module\n",
    "#r \"nuget: Plotly.NET.Interactive, 3.0.2\"\n",
    "#r \"nuget: FsODE, 0.0.1\"\n",
    "#r \"nuget: FSharp.Stats\"\n",
    "\n",
    "// ... und öffnen der benöätigten Module\n",
    "open FsODE\n",
    "open Plotly.NET\n",
    "open FSharp.Stats\n",
    "\n",
    "\n",
    "// der Rechenalgorithmus der Programmbibliothek, die wir benutzen:\n",
    "let modelContext = //OdeContext()\n",
    "    OdeSolverMethod.RK546M //RK547M()\n",
    "    |> OdeContext"
   ]
  },
  {
   "cell_type": "markdown",
   "metadata": {},
   "source": [
    "### Einfaches Model vom Lac Operon\n",
    "\n",
    "Das lac Operon ist sowohl für den Transport, als auch den Abbau, von Lactose in Bakterien zuständig. Es ist aufgebaut aus einem Promotor, einem Operator, und drei Strukturgenen, lacA, lacY und lacZ. Das Gen lacY codiert ein Transportprotein namens $\\beta -\\textrm {Galactosid-Permease}$. Dieses ermöglicht die Aufnahme von Lactose in die Zelle, indem es sich in die Plasmamembran integriert. Die Menge an Lactose, welche in die Zelle transportiert wird, ist abhängig von der Anzahl an $\\beta -\\textrm {Galactosid-Permease}$ Proteinen. <br>\n",
    "Das Gen lacZ codiert das Protein $\\beta -\\textrm {Galactosidase}$. Dieses Protein ist dafür zuständig Lactose in die zwei Zucker, Galactose und Glucose, zu spalten. Bei niedriger Konzentration von Lactose katalysiert es außerdem die Reaktion von Lactose zu Allolactose. \n",
    "Das Gen lacA codiert das Protein $\\beta -\\textrm {Galactosid-Transacetylase}$. Dieses Protein transferiert eine Acetlygruppe von acetly-CoA zu $\\beta \\textrm{-Galactosiden}$, Glycoside, und Lactasoiden. Allerdings spielt es im klassichen Lactosezyklus keine Rolle.<br>\n",
    "\n",
    "<center>\n",
    "<img src=\"https://raw.githubusercontent.com/CSBiology/BIO-MBP-06-U-2/main/images/day4/lac_operon.png\" width=50% />\n",
    "</center>\n",
    "\n",
    "Das Lac Operon wird vom Repressor LacI reguliert. Das Gen, lacI, welches für die Expression von LacI zuständig ist liegt upstream vom lac Operon und wird kontinuierlich exprimiert. Daher gibt es immer eine gewisse Konzentration von LacI in der Zelle. Wenn keine Lactose in der Zelle ist bindet LacI sowohl an den Operator vom lac Operon, als auch an den Operator für das Gen lacI. Diese Bindung führt dazu, dass die Produktion von beiden Genen herunterreguliert wird. Weitherhin führt die Bindung dazu, dass die DNA sich zu einer Schleife umformt, was das Binden der RNA-Polymerase an den Promotor des Lac Operons zusätzlich erschwert. Diese beiden Regulationen führen dazu, dass die Expression der Gene des lac Operon um den Faktor 1000 herunterreguliert wird.<br>\n",
    "In der Anwesenheit von Lactose können die geringen Konzentrationen von $\\beta -\\textrm {Galactosid-Permease}$ die Lactose in Allolactose umformen. Allolactose kann an das Protein LacI binden. LacI, das eine Bindung mit Allolactose eingeht, kann nicht mehr an Operatoren binden. Das führt dazu, dass das lac Operon wieder normal expremiert wird. Die normale Expression führt dazu, dass die drei Proteine, lacZ, lacY, und lacA in einem hohem Maße produziert werden.<br>\n",
    "Der Entscheidene Punkt, der den Schalter von nahezu keiner Produktion zu starker Produktion kippt, ist die intrazelluläre Lactosekonzentration. \n",
    "\n",
    "\n",
    "\n",
    "\n",
    "\n",
    "\n"
   ]
  },
  {
   "cell_type": "markdown",
   "metadata": {},
   "source": [
    "Daher wird ein Model verwendet, das ausschließlich die Konzentration von intrazellulärer Lactose betrachtet. Lactose kann wie oben beschrieben nur durch $\\beta -\\textrm {Galactosid-Permease}$ in die Zelle transportiert werden. LacY, das Gen das $\\beta -\\textrm {Galactosid-Permease}$ codiert, wird kontinuierlich expremiert, auch wenn es durch LacI inhibiert wird. Allerdings ist die produzierte Menge an $\\beta -\\textrm {Galactosid-Permease}$ sehr gering. Das heißt Lactose kann immer in die Zelle transporitert werden, aber nur in geringen Mengen solange LacI noch an den Promotor des Lac Operons bindet. <br>\n",
    "Wenn die Konzentration von Lactose in der Zelle hoch genug ist, kommt es wie besprochen zur Bildung von Allolactose welches eine Bindung mit LacI eingeht. Dies führt dazu das LacI nicht mehr an den Promotor des Lac Operons bindet was zu einer erhöhten Produktion von  $\\beta -\\textrm {Galactosid-Permease}$ führt. Somit wird mehr Lactose in die Zelle transportiert. <br>\n",
    "\n",
    "<center>\n",
    "<img src=\"https://raw.githubusercontent.com/CSBiology/BIO-MBP-06-U-2/main/images/day4/Simple_lac_operon.png\" width=50% />\n",
    "</center>\n",
    "\n",
    "Die Differenzialgleichung für die Konzentration von intrazellulärer Lactose kann somit folgendermaßen beschrieben werden. Es gibt einen unregulierten geringen Lactoseimport, genannt $\\alpha$. Es gibt außerdem einen regulierten Lactoseimport, dieser wird $\\beta$ genannt analog zur Proteinproduktion von $\\beta -\\textrm {Galactosid-Permease}$ die nötig ist damit dieser regulierte Transport beginnt. Da mehr intrazelluläre Lactose zu mehr Import führt, kann hier von einer positiven Autoregulation gesprochen werden. Abschließend wird Lactose natürlich auch von der Zelle verbraucht, wobei die Menge die genutzt wird wieder von der Lactosekonzentration abhängt. Die Differenzialgleichung ist somit <br>\n",
    "\n",
    "$$ Lactosekonzentration_{intrazellulär}' = \\frac {dLactosekonzentration_{intrazellulär}} {dt}= \\alpha + \\beta * \\frac {Lactosekonzentration_{intrazellulär}}{K_{D} + Lactosekonzentration_{intrazellulär}} - \\gamma*Lactosekonzentration_{intrazellulär}$$\n",
    "Da die Simulationen nur auf die richtige Differenzialgleichung achten, aber nicht auf die genutzten Namen der Parameter, verkürzen wir die Gleichung zu:\n",
    "$$ inlac' = \\frac {dinlac} {dt}= \\alpha + \\beta * \\frac {inlac}{K_{D} + inlac} - \\gamma*inlac$$\n"
   ]
  },
  {
   "cell_type": "markdown",
   "metadata": {},
   "source": [
    "##### Aufgabe 4.1\n",
    "***Setzen sie die Gleichung für die intrazelluläre Lactosekonzentration in die nachfolgende Simulation ein (Bitte beachten sie, dass sie die Lactosekonzentration als \"inlac\" einsetzten müssen, ohne \"\". Beachten sie ebenfalls das $\\alpha$, $\\beta \\textrm{ und } \\gamma$ als \"alpha\", \"beta\" und \"gamma\", ohne \"\", eingesetzt werden müssen und nicht als Symbole, und das $K_{D}$ als K_d eingesetzt wird).***"
   ]
  },
  {
   "cell_type": "code",
   "execution_count": null,
   "metadata": {
    "dotnet_interactive": {
     "language": "fsharp"
    },
    "vscode": {
     "languageId": "dotnet-interactive.fsharp"
    }
   },
   "outputs": [
    {
     "data": {
      "text/html": [
       "\n",
       "<div>\n",
       "    <div id=\"7a54929e-b2bf-46b5-b679-e681cad7cdd4\"><!-- Plotly chart will be drawn inside this DIV --></div>\r\n",
       "<script type=\"text/javascript\">\r\n",
       "\r\n",
       "            var renderPlotly_7a54929eb2bf46b5b679e681cad7cdd4 = function() {\r\n",
       "            var fsharpPlotlyRequire = requirejs.config({context:'fsharp-plotly',paths:{plotly:'https://cdn.plot.ly/plotly-2.6.3.min'}}) || require;\r\n",
       "            fsharpPlotlyRequire(['plotly'], function(Plotly) {\r\n",
       "\r\n",
       "            var data = [{\"type\":\"scatter\",\"mode\":\"lines\",\"x\":[0.0,1.0,1.8768038568175387,2.7866586285835244,3.8525675833572794,5.148477115351924,6.58000342177724,8.12692298562358,9.802518872111074,11.664342269620386],\"y\":[0.1,0.9858599207912646,2.121441747440442,3.2954011469491693,4.35160710588768,5.133725060003653,5.56787553372623,5.77581847368103,5.866515451490882,5.903230284261419],\"marker\":{},\"line\":{\"shape\":\"spline\"},\"name\":\"Lactose\"}];\r\n",
       "            var layout = {\"width\":600,\"height\":600,\"template\":{\"layout\":{\"title\":{\"x\":0.05},\"font\":{\"color\":\"rgba(42, 63, 95, 1.0)\"},\"paper_bgcolor\":\"rgba(255, 255, 255, 1.0)\",\"plot_bgcolor\":\"rgba(229, 236, 246, 1.0)\",\"autotypenumbers\":\"strict\",\"colorscale\":{\"diverging\":[[0.0,\"#8e0152\"],[0.1,\"#c51b7d\"],[0.2,\"#de77ae\"],[0.3,\"#f1b6da\"],[0.4,\"#fde0ef\"],[0.5,\"#f7f7f7\"],[0.6,\"#e6f5d0\"],[0.7,\"#b8e186\"],[0.8,\"#7fbc41\"],[0.9,\"#4d9221\"],[1.0,\"#276419\"]],\"sequential\":[[0.0,\"#0d0887\"],[0.1111111111111111,\"#46039f\"],[0.2222222222222222,\"#7201a8\"],[0.3333333333333333,\"#9c179e\"],[0.4444444444444444,\"#bd3786\"],[0.5555555555555556,\"#d8576b\"],[0.6666666666666666,\"#ed7953\"],[0.7777777777777778,\"#fb9f3a\"],[0.8888888888888888,\"#fdca26\"],[1.0,\"#f0f921\"]],\"sequentialminus\":[[0.0,\"#0d0887\"],[0.1111111111111111,\"#46039f\"],[0.2222222222222222,\"#7201a8\"],[0.3333333333333333,\"#9c179e\"],[0.4444444444444444,\"#bd3786\"],[0.5555555555555556,\"#d8576b\"],[0.6666666666666666,\"#ed7953\"],[0.7777777777777778,\"#fb9f3a\"],[0.8888888888888888,\"#fdca26\"],[1.0,\"#f0f921\"]]},\"hovermode\":\"closest\",\"hoverlabel\":{\"align\":\"left\"},\"coloraxis\":{\"colorbar\":{\"outlinewidth\":0.0,\"ticks\":\"\"}},\"geo\":{\"showland\":true,\"landcolor\":\"rgba(229, 236, 246, 1.0)\",\"showlakes\":true,\"lakecolor\":\"rgba(255, 255, 255, 1.0)\",\"subunitcolor\":\"rgba(255, 255, 255, 1.0)\",\"bgcolor\":\"rgba(255, 255, 255, 1.0)\"},\"mapbox\":{\"style\":\"light\"},\"polar\":{\"bgcolor\":\"rgba(229, 236, 246, 1.0)\",\"radialaxis\":{\"linecolor\":\"rgba(255, 255, 255, 1.0)\",\"gridcolor\":\"rgba(255, 255, 255, 1.0)\",\"ticks\":\"\"},\"angularaxis\":{\"linecolor\":\"rgba(255, 255, 255, 1.0)\",\"gridcolor\":\"rgba(255, 255, 255, 1.0)\",\"ticks\":\"\"}},\"scene\":{\"xaxis\":{\"ticks\":\"\",\"linecolor\":\"rgba(255, 255, 255, 1.0)\",\"gridcolor\":\"rgba(255, 255, 255, 1.0)\",\"gridwidth\":2.0,\"zerolinecolor\":\"rgba(255, 255, 255, 1.0)\",\"backgroundcolor\":\"rgba(229, 236, 246, 1.0)\",\"showbackground\":true},\"yaxis\":{\"ticks\":\"\",\"linecolor\":\"rgba(255, 255, 255, 1.0)\",\"gridcolor\":\"rgba(255, 255, 255, 1.0)\",\"gridwidth\":2.0,\"zerolinecolor\":\"rgba(255, 255, 255, 1.0)\",\"backgroundcolor\":\"rgba(229, 236, 246, 1.0)\",\"showbackground\":true},\"zaxis\":{\"ticks\":\"\",\"linecolor\":\"rgba(255, 255, 255, 1.0)\",\"gridcolor\":\"rgba(255, 255, 255, 1.0)\",\"gridwidth\":2.0,\"zerolinecolor\":\"rgba(255, 255, 255, 1.0)\",\"backgroundcolor\":\"rgba(229, 236, 246, 1.0)\",\"showbackground\":true}},\"ternary\":{\"aaxis\":{\"ticks\":\"\",\"linecolor\":\"rgba(255, 255, 255, 1.0)\",\"gridcolor\":\"rgba(255, 255, 255, 1.0)\"},\"baxis\":{\"ticks\":\"\",\"linecolor\":\"rgba(255, 255, 255, 1.0)\",\"gridcolor\":\"rgba(255, 255, 255, 1.0)\"},\"caxis\":{\"ticks\":\"\",\"linecolor\":\"rgba(255, 255, 255, 1.0)\",\"gridcolor\":\"rgba(255, 255, 255, 1.0)\"},\"bgcolor\":\"rgba(229, 236, 246, 1.0)\"},\"xaxis\":{\"title\":{\"standoff\":15},\"ticks\":\"\",\"automargin\":true,\"linecolor\":\"rgba(255, 255, 255, 1.0)\",\"gridcolor\":\"rgba(255, 255, 255, 1.0)\",\"zerolinecolor\":\"rgba(255, 255, 255, 1.0)\",\"zerolinewidth\":2.0},\"yaxis\":{\"title\":{\"standoff\":15},\"ticks\":\"\",\"automargin\":true,\"linecolor\":\"rgba(255, 255, 255, 1.0)\",\"gridcolor\":\"rgba(255, 255, 255, 1.0)\",\"zerolinecolor\":\"rgba(255, 255, 255, 1.0)\",\"zerolinewidth\":2.0},\"annotationdefaults\":{\"arrowcolor\":\"#2a3f5f\",\"arrowhead\":0,\"arrowwidth\":1},\"shapedefaults\":{\"line\":{\"color\":\"rgba(42, 63, 95, 1.0)\"}},\"colorway\":[\"rgba(99, 110, 250, 1.0)\",\"rgba(239, 85, 59, 1.0)\",\"rgba(0, 204, 150, 1.0)\",\"rgba(171, 99, 250, 1.0)\",\"rgba(255, 161, 90, 1.0)\",\"rgba(25, 211, 243, 1.0)\",\"rgba(255, 102, 146, 1.0)\",\"rgba(182, 232, 128, 1.0)\",\"rgba(255, 151, 255, 1.0)\",\"rgba(254, 203, 82, 1.0)\"]},\"data\":{\"bar\":[{\"marker\":{\"line\":{\"color\":\"rgba(229, 236, 246, 1.0)\",\"width\":0.5},\"pattern\":{\"fillmode\":\"overlay\",\"size\":10,\"solidity\":0.2}},\"error_x\":{\"color\":\"rgba(42, 63, 95, 1.0)\"},\"error_y\":{\"color\":\"rgba(42, 63, 95, 1.0)\"}}],\"barpolar\":[{\"marker\":{\"line\":{\"color\":\"rgba(229, 236, 246, 1.0)\",\"width\":0.5},\"pattern\":{\"fillmode\":\"overlay\",\"size\":10,\"solidity\":0.2}}}],\"carpet\":[{\"aaxis\":{\"linecolor\":\"rgba(255, 255, 255, 1.0)\",\"gridcolor\":\"rgba(255, 255, 255, 1.0)\",\"endlinecolor\":\"rgba(42, 63, 95, 1.0)\",\"minorgridcolor\":\"rgba(255, 255, 255, 1.0)\",\"startlinecolor\":\"rgba(42, 63, 95, 1.0)\"},\"baxis\":{\"linecolor\":\"rgba(255, 255, 255, 1.0)\",\"gridcolor\":\"rgba(255, 255, 255, 1.0)\",\"endlinecolor\":\"rgba(42, 63, 95, 1.0)\",\"minorgridcolor\":\"rgba(255, 255, 255, 1.0)\",\"startlinecolor\":\"rgba(42, 63, 95, 1.0)\"}}],\"choropleth\":[{\"colorbar\":{\"outlinewidth\":0.0,\"ticks\":\"\"},\"colorscale\":[[0.0,\"#0d0887\"],[0.1111111111111111,\"#46039f\"],[0.2222222222222222,\"#7201a8\"],[0.3333333333333333,\"#9c179e\"],[0.4444444444444444,\"#bd3786\"],[0.5555555555555556,\"#d8576b\"],[0.6666666666666666,\"#ed7953\"],[0.7777777777777778,\"#fb9f3a\"],[0.8888888888888888,\"#fdca26\"],[1.0,\"#f0f921\"]]}],\"contour\":[{\"colorbar\":{\"outlinewidth\":0.0,\"ticks\":\"\"},\"colorscale\":[[0.0,\"#0d0887\"],[0.1111111111111111,\"#46039f\"],[0.2222222222222222,\"#7201a8\"],[0.3333333333333333,\"#9c179e\"],[0.4444444444444444,\"#bd3786\"],[0.5555555555555556,\"#d8576b\"],[0.6666666666666666,\"#ed7953\"],[0.7777777777777778,\"#fb9f3a\"],[0.8888888888888888,\"#fdca26\"],[1.0,\"#f0f921\"]]}],\"contourcarpet\":[{\"colorbar\":{\"outlinewidth\":0.0,\"ticks\":\"\"}}],\"heatmap\":[{\"colorbar\":{\"outlinewidth\":0.0,\"ticks\":\"\"},\"colorscale\":[[0.0,\"#0d0887\"],[0.1111111111111111,\"#46039f\"],[0.2222222222222222,\"#7201a8\"],[0.3333333333333333,\"#9c179e\"],[0.4444444444444444,\"#bd3786\"],[0.5555555555555556,\"#d8576b\"],[0.6666666666666666,\"#ed7953\"],[0.7777777777777778,\"#fb9f3a\"],[0.8888888888888888,\"#fdca26\"],[1.0,\"#f0f921\"]]}],\"heatmapgl\":[{\"colorbar\":{\"outlinewidth\":0.0,\"ticks\":\"\"},\"colorscale\":[[0.0,\"#0d0887\"],[0.1111111111111111,\"#46039f\"],[0.2222222222222222,\"#7201a8\"],[0.3333333333333333,\"#9c179e\"],[0.4444444444444444,\"#bd3786\"],[0.5555555555555556,\"#d8576b\"],[0.6666666666666666,\"#ed7953\"],[0.7777777777777778,\"#fb9f3a\"],[0.8888888888888888,\"#fdca26\"],[1.0,\"#f0f921\"]]}],\"histogram\":[{\"marker\":{\"pattern\":{\"fillmode\":\"overlay\",\"size\":10,\"solidity\":0.2}}}],\"histogram2d\":[{\"colorbar\":{\"outlinewidth\":0.0,\"ticks\":\"\"},\"colorscale\":[[0.0,\"#0d0887\"],[0.1111111111111111,\"#46039f\"],[0.2222222222222222,\"#7201a8\"],[0.3333333333333333,\"#9c179e\"],[0.4444444444444444,\"#bd3786\"],[0.5555555555555556,\"#d8576b\"],[0.6666666666666666,\"#ed7953\"],[0.7777777777777778,\"#fb9f3a\"],[0.8888888888888888,\"#fdca26\"],[1.0,\"#f0f921\"]]}],\"histogram2dcontour\":[{\"colorbar\":{\"outlinewidth\":0.0,\"ticks\":\"\"},\"colorscale\":[[0.0,\"#0d0887\"],[0.1111111111111111,\"#46039f\"],[0.2222222222222222,\"#7201a8\"],[0.3333333333333333,\"#9c179e\"],[0.4444444444444444,\"#bd3786\"],[0.5555555555555556,\"#d8576b\"],[0.6666666666666666,\"#ed7953\"],[0.7777777777777778,\"#fb9f3a\"],[0.8888888888888888,\"#fdca26\"],[1.0,\"#f0f921\"]]}],\"mesh3d\":[{\"colorbar\":{\"outlinewidth\":0.0,\"ticks\":\"\"}}],\"parcoords\":[{\"line\":{\"colorbar\":{\"outlinewidth\":0.0,\"ticks\":\"\"}}}],\"pie\":[{\"automargin\":true}],\"scatter\":[{\"marker\":{\"colorbar\":{\"outlinewidth\":0.0,\"ticks\":\"\"}}}],\"scatter3d\":[{\"marker\":{\"colorbar\":{\"outlinewidth\":0.0,\"ticks\":\"\"}},\"line\":{\"colorbar\":{\"outlinewidth\":0.0,\"ticks\":\"\"}}}],\"scattercarpet\":[{\"marker\":{\"colorbar\":{\"outlinewidth\":0.0,\"ticks\":\"\"}}}],\"scattergeo\":[{\"marker\":{\"colorbar\":{\"outlinewidth\":0.0,\"ticks\":\"\"}}}],\"scattergl\":[{\"marker\":{\"colorbar\":{\"outlinewidth\":0.0,\"ticks\":\"\"}}}],\"scattermapbox\":[{\"marker\":{\"colorbar\":{\"outlinewidth\":0.0,\"ticks\":\"\"}}}],\"scatterpolar\":[{\"marker\":{\"colorbar\":{\"outlinewidth\":0.0,\"ticks\":\"\"}}}],\"scatterpolargl\":[{\"marker\":{\"colorbar\":{\"outlinewidth\":0.0,\"ticks\":\"\"}}}],\"scatterternary\":[{\"marker\":{\"colorbar\":{\"outlinewidth\":0.0,\"ticks\":\"\"}}}],\"surface\":[{\"colorbar\":{\"outlinewidth\":0.0,\"ticks\":\"\"},\"colorscale\":[[0.0,\"#0d0887\"],[0.1111111111111111,\"#46039f\"],[0.2222222222222222,\"#7201a8\"],[0.3333333333333333,\"#9c179e\"],[0.4444444444444444,\"#bd3786\"],[0.5555555555555556,\"#d8576b\"],[0.6666666666666666,\"#ed7953\"],[0.7777777777777778,\"#fb9f3a\"],[0.8888888888888888,\"#fdca26\"],[1.0,\"#f0f921\"]]}],\"table\":[{\"cells\":{\"fill\":{\"color\":\"rgba(235, 240, 248, 1.0)\"},\"line\":{\"color\":\"rgba(255, 255, 255, 1.0)\"}},\"header\":{\"fill\":{\"color\":\"rgba(200, 212, 227, 1.0)\"},\"line\":{\"color\":\"rgba(255, 255, 255, 1.0)\"}}}]}},\"xaxis\":{\"title\":{\"text\":\"Zeit\"}},\"yaxis\":{\"title\":{\"text\":\"Lactosekonzentration\"}}};\r\n",
       "            var config = {\"responsive\":true};\r\n",
       "            Plotly.newPlot('7a54929e-b2bf-46b5-b679-e681cad7cdd4', data, layout, config);\r\n",
       "});\r\n",
       "            };\r\n",
       "            if ((typeof(requirejs) !==  typeof(Function)) || (typeof(requirejs.config) !== typeof(Function))) {\r\n",
       "                var script = document.createElement(\"script\");\r\n",
       "                script.setAttribute(\"src\", \"https://cdnjs.cloudflare.com/ajax/libs/require.js/2.3.6/require.min.js\");\r\n",
       "                script.onload = function(){\r\n",
       "                    renderPlotly_7a54929eb2bf46b5b679e681cad7cdd4();\r\n",
       "                };\r\n",
       "                document.getElementsByTagName(\"head\")[0].appendChild(script);\r\n",
       "            }\r\n",
       "            else {\r\n",
       "                renderPlotly_7a54929eb2bf46b5b679e681cad7cdd4();\r\n",
       "            }\r\n",
       "</script>\r\n",
       "\n",
       "    \n",
       "</div>    \n"
      ]
     },
     "metadata": {},
     "output_type": "display_data"
    }
   ],
   "source": [
    "//Konstanten\n",
    "let alpha =  0.5  // Konstante für die Zunahme der Lactosekonzentration (unreguliert)\n",
    "let beta  =  10.0 // Konstante für die Zunahme der Lactosekonzentration (reguliert)\n",
    "let gamma =  1.0  // Konstante für die Verringerung der Lactosekonzentration\n",
    "let K_d =    5.0  // Dissoziationskonstante\n",
    "\n",
    "// unsere DGL als  Modell (Model)\n",
    "let dP_dt : Model = \n",
    "    fun P t ->\n",
    "\n",
    "        let inlac = P[0] // Änderung in der Lactosekonzentration\n",
    "\n",
    "        //Differenzialgleichung die diese Änderung beschreibt (hier die Gleichung einsetzen)\n",
    "        let inlac' = alpha + beta * (inlac)/((inlac) + (K_d)) - (gamma*inlac)\n",
    "\n",
    "        [| inlac' |]\n",
    "\n",
    "//Startkonzentrationen\n",
    "let P0 = [| \n",
    "    0.1\n",
    "|]\n",
    "\n",
    "// Simulation der Modelfuntkion\n",
    "let Ps = \n",
    "    modelContext.OdeInt(\n",
    "        0., // Startzeitpunkt\n",
    "        P0,\n",
    "        dP_dt\n",
    "    )\n",
    "    |> SolPoints.take 10 // Anzahl der Zeitpunkte\n",
    "    |> SolPoints.memorize \n",
    "\n",
    "//Graphische Darstellung der numerischen Lösung\n",
    "[\n",
    "    let lactose = SolPoints.toPoints 1 Ps\n",
    "    lactose \n",
    "    |> Chart.Spline \n",
    "    |> Chart.withTraceInfo(\"Lactose\");\n",
    "]\n",
    "\n",
    "|> Chart.combine\n",
    "|> Chart.withXAxisStyle(\"Zeit\")\n",
    "|> Chart.withYAxisStyle(\"Lactosekonzentration\")"
   ]
  },
  {
   "cell_type": "markdown",
   "metadata": {},
   "source": [
    "##### Aufgabe 4.2\n",
    "***Varrieren sie die Startkonzentration. Was beobachten sie? Ist dies das Verhalten was sie in einer Zelle erwarten würden? Begründen sie die Antwort. <br>\n",
    "Kopieren sie dafür den obenstehnden Code Block in den folgenden Code Block und ändern sie dann die Werte für die Startkonzentration im Abschnitt Startkonzentrationen, der Wert unter P0 (lassen sie alles andere gleich).***"
   ]
  },
  {
   "cell_type": "code",
   "execution_count": null,
   "metadata": {
    "dotnet_interactive": {
     "language": "fsharp"
    },
    "vscode": {
     "languageId": "dotnet-interactive.fsharp"
    }
   },
   "outputs": [],
   "source": [
    "//hier code einfügen"
   ]
  },
  {
   "cell_type": "markdown",
   "metadata": {},
   "source": [
    "Bitte hier die Antwort eingeben"
   ]
  },
  {
   "cell_type": "markdown",
   "metadata": {},
   "source": [
    "Die Beobachtung zeigt das die aktuelle Differnzialgleichung nicht das darstellt was wir eigentlich zeigen wollen. Daher nehmen wir eine kleine Änderung am aktuellen Modell vor um den erwünschten Effekt zu erzielen. Die neue Differnzialgleichung lautet\n",
    "$$ inlac' = \\frac {dinlac} {dt}= \\alpha + \\beta * \\frac {inlac^{2}}{(K_{D})^{2} + inlac^{2}} - \\gamma*inlac$$\n",
    "\n",
    "##### Aufgabe 4.3\n",
    "***Setzen sie die Gleichung für intrazelluläre Lactosekonzentration, in der der Teil der postiven Autoregulation hoch 2 genommen wird, in die nachfolgende Simulation ein (Bitte beachten sie, dass sie die Lactosekonzentration als \"inlac\" einsetzten müssen, ohne \"\". Beachten sie ebenfalls das $\\alpha$, $\\beta \\textrm{ und } \\gamma$ als \"alpha\", \"beta\" und \"gamma\", ohne \"\", eingesetzt werden müssen und nicht als Symbole, und das $K_{D}$ als K_d eingesetzt wird).***"
   ]
  },
  {
   "cell_type": "code",
   "execution_count": null,
   "metadata": {
    "dotnet_interactive": {
     "language": "fsharp"
    },
    "vscode": {
     "languageId": "dotnet-interactive.fsharp"
    }
   },
   "outputs": [
    {
     "data": {
      "text/html": [
       "\n",
       "<div>\n",
       "    <div id=\"71f0ae2b-371f-4919-99ea-67d7158b1b72\"><!-- Plotly chart will be drawn inside this DIV --></div>\r\n",
       "<script type=\"text/javascript\">\r\n",
       "\r\n",
       "            var renderPlotly_71f0ae2b371f491999ea67d7158b1b72 = function() {\r\n",
       "            var fsharpPlotlyRequire = requirejs.config({context:'fsharp-plotly',paths:{plotly:'https://cdn.plot.ly/plotly-2.6.3.min'}}) || require;\r\n",
       "            fsharpPlotlyRequire(['plotly'], function(Plotly) {\r\n",
       "\r\n",
       "            var data = [{\"type\":\"scatter\",\"mode\":\"lines\",\"x\":[0.0,1.0,1.8173587142281646,2.657274445631881,3.6616689935044775,4.878002919240579,6.332662672844597,8.053328119451509,10.076281948186896,12.454572349765725],\"y\":[0.1,0.37352049573541324,0.4879427902888077,0.5581938101028174,0.6082600924552566,0.6421592475355892,0.6629838585279508,0.6744184996352036,0.6799501728379508,0.6822651680876927],\"marker\":{},\"line\":{\"shape\":\"spline\"},\"name\":\"Lactose\"}];\r\n",
       "            var layout = {\"width\":600,\"height\":600,\"template\":{\"layout\":{\"title\":{\"x\":0.05},\"font\":{\"color\":\"rgba(42, 63, 95, 1.0)\"},\"paper_bgcolor\":\"rgba(255, 255, 255, 1.0)\",\"plot_bgcolor\":\"rgba(229, 236, 246, 1.0)\",\"autotypenumbers\":\"strict\",\"colorscale\":{\"diverging\":[[0.0,\"#8e0152\"],[0.1,\"#c51b7d\"],[0.2,\"#de77ae\"],[0.3,\"#f1b6da\"],[0.4,\"#fde0ef\"],[0.5,\"#f7f7f7\"],[0.6,\"#e6f5d0\"],[0.7,\"#b8e186\"],[0.8,\"#7fbc41\"],[0.9,\"#4d9221\"],[1.0,\"#276419\"]],\"sequential\":[[0.0,\"#0d0887\"],[0.1111111111111111,\"#46039f\"],[0.2222222222222222,\"#7201a8\"],[0.3333333333333333,\"#9c179e\"],[0.4444444444444444,\"#bd3786\"],[0.5555555555555556,\"#d8576b\"],[0.6666666666666666,\"#ed7953\"],[0.7777777777777778,\"#fb9f3a\"],[0.8888888888888888,\"#fdca26\"],[1.0,\"#f0f921\"]],\"sequentialminus\":[[0.0,\"#0d0887\"],[0.1111111111111111,\"#46039f\"],[0.2222222222222222,\"#7201a8\"],[0.3333333333333333,\"#9c179e\"],[0.4444444444444444,\"#bd3786\"],[0.5555555555555556,\"#d8576b\"],[0.6666666666666666,\"#ed7953\"],[0.7777777777777778,\"#fb9f3a\"],[0.8888888888888888,\"#fdca26\"],[1.0,\"#f0f921\"]]},\"hovermode\":\"closest\",\"hoverlabel\":{\"align\":\"left\"},\"coloraxis\":{\"colorbar\":{\"outlinewidth\":0.0,\"ticks\":\"\"}},\"geo\":{\"showland\":true,\"landcolor\":\"rgba(229, 236, 246, 1.0)\",\"showlakes\":true,\"lakecolor\":\"rgba(255, 255, 255, 1.0)\",\"subunitcolor\":\"rgba(255, 255, 255, 1.0)\",\"bgcolor\":\"rgba(255, 255, 255, 1.0)\"},\"mapbox\":{\"style\":\"light\"},\"polar\":{\"bgcolor\":\"rgba(229, 236, 246, 1.0)\",\"radialaxis\":{\"linecolor\":\"rgba(255, 255, 255, 1.0)\",\"gridcolor\":\"rgba(255, 255, 255, 1.0)\",\"ticks\":\"\"},\"angularaxis\":{\"linecolor\":\"rgba(255, 255, 255, 1.0)\",\"gridcolor\":\"rgba(255, 255, 255, 1.0)\",\"ticks\":\"\"}},\"scene\":{\"xaxis\":{\"ticks\":\"\",\"linecolor\":\"rgba(255, 255, 255, 1.0)\",\"gridcolor\":\"rgba(255, 255, 255, 1.0)\",\"gridwidth\":2.0,\"zerolinecolor\":\"rgba(255, 255, 255, 1.0)\",\"backgroundcolor\":\"rgba(229, 236, 246, 1.0)\",\"showbackground\":true},\"yaxis\":{\"ticks\":\"\",\"linecolor\":\"rgba(255, 255, 255, 1.0)\",\"gridcolor\":\"rgba(255, 255, 255, 1.0)\",\"gridwidth\":2.0,\"zerolinecolor\":\"rgba(255, 255, 255, 1.0)\",\"backgroundcolor\":\"rgba(229, 236, 246, 1.0)\",\"showbackground\":true},\"zaxis\":{\"ticks\":\"\",\"linecolor\":\"rgba(255, 255, 255, 1.0)\",\"gridcolor\":\"rgba(255, 255, 255, 1.0)\",\"gridwidth\":2.0,\"zerolinecolor\":\"rgba(255, 255, 255, 1.0)\",\"backgroundcolor\":\"rgba(229, 236, 246, 1.0)\",\"showbackground\":true}},\"ternary\":{\"aaxis\":{\"ticks\":\"\",\"linecolor\":\"rgba(255, 255, 255, 1.0)\",\"gridcolor\":\"rgba(255, 255, 255, 1.0)\"},\"baxis\":{\"ticks\":\"\",\"linecolor\":\"rgba(255, 255, 255, 1.0)\",\"gridcolor\":\"rgba(255, 255, 255, 1.0)\"},\"caxis\":{\"ticks\":\"\",\"linecolor\":\"rgba(255, 255, 255, 1.0)\",\"gridcolor\":\"rgba(255, 255, 255, 1.0)\"},\"bgcolor\":\"rgba(229, 236, 246, 1.0)\"},\"xaxis\":{\"title\":{\"standoff\":15},\"ticks\":\"\",\"automargin\":true,\"linecolor\":\"rgba(255, 255, 255, 1.0)\",\"gridcolor\":\"rgba(255, 255, 255, 1.0)\",\"zerolinecolor\":\"rgba(255, 255, 255, 1.0)\",\"zerolinewidth\":2.0},\"yaxis\":{\"title\":{\"standoff\":15},\"ticks\":\"\",\"automargin\":true,\"linecolor\":\"rgba(255, 255, 255, 1.0)\",\"gridcolor\":\"rgba(255, 255, 255, 1.0)\",\"zerolinecolor\":\"rgba(255, 255, 255, 1.0)\",\"zerolinewidth\":2.0},\"annotationdefaults\":{\"arrowcolor\":\"#2a3f5f\",\"arrowhead\":0,\"arrowwidth\":1},\"shapedefaults\":{\"line\":{\"color\":\"rgba(42, 63, 95, 1.0)\"}},\"colorway\":[\"rgba(99, 110, 250, 1.0)\",\"rgba(239, 85, 59, 1.0)\",\"rgba(0, 204, 150, 1.0)\",\"rgba(171, 99, 250, 1.0)\",\"rgba(255, 161, 90, 1.0)\",\"rgba(25, 211, 243, 1.0)\",\"rgba(255, 102, 146, 1.0)\",\"rgba(182, 232, 128, 1.0)\",\"rgba(255, 151, 255, 1.0)\",\"rgba(254, 203, 82, 1.0)\"]},\"data\":{\"bar\":[{\"marker\":{\"line\":{\"color\":\"rgba(229, 236, 246, 1.0)\",\"width\":0.5},\"pattern\":{\"fillmode\":\"overlay\",\"size\":10,\"solidity\":0.2}},\"error_x\":{\"color\":\"rgba(42, 63, 95, 1.0)\"},\"error_y\":{\"color\":\"rgba(42, 63, 95, 1.0)\"}}],\"barpolar\":[{\"marker\":{\"line\":{\"color\":\"rgba(229, 236, 246, 1.0)\",\"width\":0.5},\"pattern\":{\"fillmode\":\"overlay\",\"size\":10,\"solidity\":0.2}}}],\"carpet\":[{\"aaxis\":{\"linecolor\":\"rgba(255, 255, 255, 1.0)\",\"gridcolor\":\"rgba(255, 255, 255, 1.0)\",\"endlinecolor\":\"rgba(42, 63, 95, 1.0)\",\"minorgridcolor\":\"rgba(255, 255, 255, 1.0)\",\"startlinecolor\":\"rgba(42, 63, 95, 1.0)\"},\"baxis\":{\"linecolor\":\"rgba(255, 255, 255, 1.0)\",\"gridcolor\":\"rgba(255, 255, 255, 1.0)\",\"endlinecolor\":\"rgba(42, 63, 95, 1.0)\",\"minorgridcolor\":\"rgba(255, 255, 255, 1.0)\",\"startlinecolor\":\"rgba(42, 63, 95, 1.0)\"}}],\"choropleth\":[{\"colorbar\":{\"outlinewidth\":0.0,\"ticks\":\"\"},\"colorscale\":[[0.0,\"#0d0887\"],[0.1111111111111111,\"#46039f\"],[0.2222222222222222,\"#7201a8\"],[0.3333333333333333,\"#9c179e\"],[0.4444444444444444,\"#bd3786\"],[0.5555555555555556,\"#d8576b\"],[0.6666666666666666,\"#ed7953\"],[0.7777777777777778,\"#fb9f3a\"],[0.8888888888888888,\"#fdca26\"],[1.0,\"#f0f921\"]]}],\"contour\":[{\"colorbar\":{\"outlinewidth\":0.0,\"ticks\":\"\"},\"colorscale\":[[0.0,\"#0d0887\"],[0.1111111111111111,\"#46039f\"],[0.2222222222222222,\"#7201a8\"],[0.3333333333333333,\"#9c179e\"],[0.4444444444444444,\"#bd3786\"],[0.5555555555555556,\"#d8576b\"],[0.6666666666666666,\"#ed7953\"],[0.7777777777777778,\"#fb9f3a\"],[0.8888888888888888,\"#fdca26\"],[1.0,\"#f0f921\"]]}],\"contourcarpet\":[{\"colorbar\":{\"outlinewidth\":0.0,\"ticks\":\"\"}}],\"heatmap\":[{\"colorbar\":{\"outlinewidth\":0.0,\"ticks\":\"\"},\"colorscale\":[[0.0,\"#0d0887\"],[0.1111111111111111,\"#46039f\"],[0.2222222222222222,\"#7201a8\"],[0.3333333333333333,\"#9c179e\"],[0.4444444444444444,\"#bd3786\"],[0.5555555555555556,\"#d8576b\"],[0.6666666666666666,\"#ed7953\"],[0.7777777777777778,\"#fb9f3a\"],[0.8888888888888888,\"#fdca26\"],[1.0,\"#f0f921\"]]}],\"heatmapgl\":[{\"colorbar\":{\"outlinewidth\":0.0,\"ticks\":\"\"},\"colorscale\":[[0.0,\"#0d0887\"],[0.1111111111111111,\"#46039f\"],[0.2222222222222222,\"#7201a8\"],[0.3333333333333333,\"#9c179e\"],[0.4444444444444444,\"#bd3786\"],[0.5555555555555556,\"#d8576b\"],[0.6666666666666666,\"#ed7953\"],[0.7777777777777778,\"#fb9f3a\"],[0.8888888888888888,\"#fdca26\"],[1.0,\"#f0f921\"]]}],\"histogram\":[{\"marker\":{\"pattern\":{\"fillmode\":\"overlay\",\"size\":10,\"solidity\":0.2}}}],\"histogram2d\":[{\"colorbar\":{\"outlinewidth\":0.0,\"ticks\":\"\"},\"colorscale\":[[0.0,\"#0d0887\"],[0.1111111111111111,\"#46039f\"],[0.2222222222222222,\"#7201a8\"],[0.3333333333333333,\"#9c179e\"],[0.4444444444444444,\"#bd3786\"],[0.5555555555555556,\"#d8576b\"],[0.6666666666666666,\"#ed7953\"],[0.7777777777777778,\"#fb9f3a\"],[0.8888888888888888,\"#fdca26\"],[1.0,\"#f0f921\"]]}],\"histogram2dcontour\":[{\"colorbar\":{\"outlinewidth\":0.0,\"ticks\":\"\"},\"colorscale\":[[0.0,\"#0d0887\"],[0.1111111111111111,\"#46039f\"],[0.2222222222222222,\"#7201a8\"],[0.3333333333333333,\"#9c179e\"],[0.4444444444444444,\"#bd3786\"],[0.5555555555555556,\"#d8576b\"],[0.6666666666666666,\"#ed7953\"],[0.7777777777777778,\"#fb9f3a\"],[0.8888888888888888,\"#fdca26\"],[1.0,\"#f0f921\"]]}],\"mesh3d\":[{\"colorbar\":{\"outlinewidth\":0.0,\"ticks\":\"\"}}],\"parcoords\":[{\"line\":{\"colorbar\":{\"outlinewidth\":0.0,\"ticks\":\"\"}}}],\"pie\":[{\"automargin\":true}],\"scatter\":[{\"marker\":{\"colorbar\":{\"outlinewidth\":0.0,\"ticks\":\"\"}}}],\"scatter3d\":[{\"marker\":{\"colorbar\":{\"outlinewidth\":0.0,\"ticks\":\"\"}},\"line\":{\"colorbar\":{\"outlinewidth\":0.0,\"ticks\":\"\"}}}],\"scattercarpet\":[{\"marker\":{\"colorbar\":{\"outlinewidth\":0.0,\"ticks\":\"\"}}}],\"scattergeo\":[{\"marker\":{\"colorbar\":{\"outlinewidth\":0.0,\"ticks\":\"\"}}}],\"scattergl\":[{\"marker\":{\"colorbar\":{\"outlinewidth\":0.0,\"ticks\":\"\"}}}],\"scattermapbox\":[{\"marker\":{\"colorbar\":{\"outlinewidth\":0.0,\"ticks\":\"\"}}}],\"scatterpolar\":[{\"marker\":{\"colorbar\":{\"outlinewidth\":0.0,\"ticks\":\"\"}}}],\"scatterpolargl\":[{\"marker\":{\"colorbar\":{\"outlinewidth\":0.0,\"ticks\":\"\"}}}],\"scatterternary\":[{\"marker\":{\"colorbar\":{\"outlinewidth\":0.0,\"ticks\":\"\"}}}],\"surface\":[{\"colorbar\":{\"outlinewidth\":0.0,\"ticks\":\"\"},\"colorscale\":[[0.0,\"#0d0887\"],[0.1111111111111111,\"#46039f\"],[0.2222222222222222,\"#7201a8\"],[0.3333333333333333,\"#9c179e\"],[0.4444444444444444,\"#bd3786\"],[0.5555555555555556,\"#d8576b\"],[0.6666666666666666,\"#ed7953\"],[0.7777777777777778,\"#fb9f3a\"],[0.8888888888888888,\"#fdca26\"],[1.0,\"#f0f921\"]]}],\"table\":[{\"cells\":{\"fill\":{\"color\":\"rgba(235, 240, 248, 1.0)\"},\"line\":{\"color\":\"rgba(255, 255, 255, 1.0)\"}},\"header\":{\"fill\":{\"color\":\"rgba(200, 212, 227, 1.0)\"},\"line\":{\"color\":\"rgba(255, 255, 255, 1.0)\"}}}]}},\"xaxis\":{\"title\":{\"text\":\"Zeit\"}},\"yaxis\":{\"title\":{\"text\":\"Lactosekonzentration\"}}};\r\n",
       "            var config = {\"responsive\":true};\r\n",
       "            Plotly.newPlot('71f0ae2b-371f-4919-99ea-67d7158b1b72', data, layout, config);\r\n",
       "});\r\n",
       "            };\r\n",
       "            if ((typeof(requirejs) !==  typeof(Function)) || (typeof(requirejs.config) !== typeof(Function))) {\r\n",
       "                var script = document.createElement(\"script\");\r\n",
       "                script.setAttribute(\"src\", \"https://cdnjs.cloudflare.com/ajax/libs/require.js/2.3.6/require.min.js\");\r\n",
       "                script.onload = function(){\r\n",
       "                    renderPlotly_71f0ae2b371f491999ea67d7158b1b72();\r\n",
       "                };\r\n",
       "                document.getElementsByTagName(\"head\")[0].appendChild(script);\r\n",
       "            }\r\n",
       "            else {\r\n",
       "                renderPlotly_71f0ae2b371f491999ea67d7158b1b72();\r\n",
       "            }\r\n",
       "</script>\r\n",
       "\n",
       "    \n",
       "</div>    \n"
      ]
     },
     "metadata": {},
     "output_type": "display_data"
    }
   ],
   "source": [
    "//Konstanten\n",
    "let alpha =  0.5  // Konstante für die Zunahme der Lactosekonzentration (unreguliert)\n",
    "let beta  =  10.0 // Konstante für die Zunahme der Lactosekonzentration (reguliert)\n",
    "let gamma =  1.0  // Konstante für die Verringerung der Lactosekonzentration\n",
    "let K_d =    5.0  // Dissoziationskonstante\n",
    "\n",
    "// unsere DGL als  Modell (Model)\n",
    "let dP_dt : Model = \n",
    "    fun P t ->\n",
    "\n",
    "        let inlac = P[0] // Änderung in der Lactosekonzentration\n",
    "\n",
    "        //Differenzialgleichung die diese Änderung beschreibt (hier die Gleichung einsetzen)\n",
    "        let inlac' = alpha + beta * (inlac**2.)/((inlac**2.) + (K_d**2.)) - (gamma*inlac)\n",
    "\n",
    "        [| inlac' |]\n",
    "\n",
    "//Startkonzentrationen\n",
    "let P0 = [| \n",
    "    0.1\n",
    "|]\n",
    "\n",
    "// Simulation der Modelfuntkion\n",
    "let Ps = \n",
    "    modelContext.OdeInt(\n",
    "        0., // Startzeitpunkt\n",
    "        P0,\n",
    "        dP_dt\n",
    "    )\n",
    "    |> SolPoints.take 10 // Anzahl der Zeitpunkte\n",
    "    |> SolPoints.memorize \n",
    "\n",
    "//Graphische Darstellung der numerischen Lösung\n",
    "[\n",
    "    let lactose = SolPoints.toPoints 1 Ps\n",
    "    lactose \n",
    "    |> Chart.Spline \n",
    "    |> Chart.withTraceInfo(\"Lactose\");\n",
    "]\n",
    "\n",
    "|> Chart.combine\n",
    "|> Chart.withXAxisStyle(\"Zeit\")\n",
    "|> Chart.withYAxisStyle(\"Lactosekonzentration\")"
   ]
  },
  {
   "cell_type": "markdown",
   "metadata": {},
   "source": [
    "##### Aufgabe 4.4\n",
    "***Was beobachten sie?***\n",
    "\n",
    "\n"
   ]
  },
  {
   "cell_type": "markdown",
   "metadata": {},
   "source": [
    "Hier die Antwort eingeben"
   ]
  },
  {
   "cell_type": "markdown",
   "metadata": {},
   "source": [
    "##### Aufgabe 4.5\n",
    "***Erhöhen sie jetzt Schrittweise den Wert von der $Lactosekonzentration(0)$. Kopieren sie dafür den obenstehnden Code Block in den folgenden Code Block und ändern sie dann die Werte für die Startkonzentration im Abschnitt Startkonzentrationen, der Wert unter P0 (lassen sie alles andere gleich). Nutzen sie dabei die folgenden Werte:***\n",
    "$$0.5$$\n",
    "$$1.0$$\n",
    "$$1.5$$\n",
    "$$2.0$$\n",
    "$$2.5$$\n",
    "$$3.0$$\n",
    "$$3.5$$\n",
    "$$4.0$$\n",
    "$$5.0$$\n",
    "$$6.0$$\n",
    "$$7.0$$\n",
    "$$8.0$$\n",
    "\n",
    "***Notieren sie die Werte die sie für die Gleichgewichtspunkte finden, bei jeder Konzentration (der Wert bei dem sich die Konzentration nicht mehr merklich ändert)***\n",
    "\n",
    "\n",
    "***Was können sie im Bezug auf das $Lactosekonzentration_{GGW}$ sagen?***\n"
   ]
  },
  {
   "cell_type": "code",
   "execution_count": null,
   "metadata": {
    "dotnet_interactive": {
     "language": "markdown"
    },
    "vscode": {
     "languageId": "markdown"
    }
   },
   "outputs": [],
   "source": []
  },
  {
   "cell_type": "markdown",
   "metadata": {},
   "source": [
    "Block für die Werte und die Antwort\n",
    "\n",
    "Hier die Werte für die einzelnen $Lactosekonzentration_{GGW}$ eintragen:\n",
    "\n",
    "\n",
    "\n",
    "\n",
    "Anschliesend bitte beantworten was sie über das  $Lactosekonzentration_{GGW}$ im allgemeinen sagen können."
   ]
  },
  {
   "cell_type": "markdown",
   "metadata": {},
   "source": [
    "Es folgt eine kurze Besprechung. \n",
    "### Expertenaufgabe?"
   ]
  },
  {
   "cell_type": "markdown",
   "metadata": {},
   "source": [
    "----------------\n",
    "##### Aufgabe 4.6\n",
    "***Bestimmen Sie, ob es sich um stabile oder instabile Punktattraktoren handelt. Nutzen sie dafür die Werte die sie oben eingetragen haben.\n",
    "Stabil bedeutet das die $Lactosekonzentration{GGW}$ vom folgenden und vorherigen $Lactosekonzentration(0)$ identisch sind. Als Beispiel (diese Werte sind ausgedacht und sollen nur als Beispiel dienen):***\n",
    "$Lactosekonzentration(0)$ wird zu $Proteinkonzentration_{GGW}$\n",
    "$$Lactosekonzentration(1.0) -> Lactosekonzentration{GGW} = 2$$\n",
    "$$Lactosekonzentration(2.0) -> Lactosekonzentration{GGW} = 2$$\n",
    "$$Lactosekonzentration(3.0) -> Lactosekonzentration{GGW} = 2$$\n",
    "\n",
    "***dann handelt es sich beim Punktattraktor 2 um einen stabilen Punktattraktor.***\n",
    "\n",
    "***Instabil bedeutet analog das die beiden flannkierenden Proteinkonzentration_{GGW} zu einem anderen Punktattraktor wandern. Als Beispiel:***\n",
    "\n",
    "$$Lactosekonzentration(3.0) -> Lactosekonzentration{GGW} = 2$$\n",
    "$$Lactosekonzentration(4.0) -> Lactosekonzentration{GGW} = 4$$\n",
    "$$Lactosekonzentration(5.0) -> Lactosekonzentration{GGW} = 8$$\n",
    "\n",
    "***Hier wäre der Punktattraktor bei 4 instabil.***\n",
    "\n",
    "***Gehen sie jezt bei denen von ihnen bestimmten Punkten anlog vor (es reicht wenn sie schreiben Punktattraktor X ist stabil/instabil).***"
   ]
  },
  {
   "cell_type": "markdown",
   "metadata": {},
   "source": [
    "Hier die Antwort eingeben."
   ]
  },
  {
   "cell_type": "markdown",
   "metadata": {},
   "source": [
    "Ein System das zwei stabile Punktattraktoren hat wird auch bistabiles System genannt. **Bistabilität** ist eine Schlüsseleigenschaften von biologischen Systemen, da das System auch dann an einem der beiden Punktattraktoren verweilt, wenn es leichte Störungen oder es leicht veränderte äußere Einflüsse gibt. Das bedeutet bezogen auf das lac Operon, das dieses nur dann exprimiert wird wenn es eine hohe Konzentration an extrazellulärer Lactose gibt. Bei nur sehr geringen Mengen kommt es nicht zur Ausbildung von Allolactose und das lac Operon wird weiterhin durch lacI inhibiert. Dies hat den Vorteil das die Energie die auf die Produktion von lacY, laxZ, und lacA verwendet werden würde gespart wird, da die Menge an Lactose dies nicht rechtfertigt. Auf der anderen Seite kommt es bei einer hohen Lactosekonzentration zur Ausbildung von genug Allolactose, so dass das Lac Operon nicht mehr durch LacI inhibiert wird. Da die Repression sehr stark ist, der Faktor ist ungefähr 1000, kommt es anschließend zu einer sehr starken Expression des Lac Operon. <br>\n",
    "Die Fähigkeit nur dann Gene zu exprimieren, wenn sie wirklich gebraucht werden, aber dann in sehr hohem Maße, ist ein grundlegender Vorteil gegenüber einem Organismus der diese Fähigkeit nicht hat und immer alles mit der selben Rate produziert. Daher hat sich **Bistabilität** als eines der Grundlegenden Bausteine in der Evolution durchgesetzt und kann heute in jedem Organismus bei fast allen relevanten Genzyklen beobachtet werden.\n",
    "Bistabilität ist allerdings nur eine spezialform der **Multistabilität**. Multistabilität bedeutet das ein System mehrere Fixpunkte hat zu denen es wandern kann, anhängig von den äußeren Einflüssen. Dies hat beim System von Lactose noch keinen Vorteil, aber bei komplexeren Problemen wo wie der Proliferation ist es deutlich vorteilhafter. \n",
    "\n"
   ]
  },
  {
   "cell_type": "markdown",
   "metadata": {},
   "source": [
    "##### Aufgabe 4.7\n",
    "***Teilen sie Gleichung welche die Änderung der Lactosekonzentration im Bezug auf die Zeit beschreibt in zwei Gleichungen. Die erste soll die Zunahme der Lactose beschreiben, die zweite die Abnahame, also***\n",
    "$$ \\frac {dLactosekonzentration} {dt} = \\textrm{Zunahme der Lactosekonzentration} $$\n",
    "$$ \\frac {dLactosekonzentration} {dt} = \\textrm{Verringerung der Lactosekonzentration}$$\n",
    "\n",
    "***Fügen sie die beiden Gleichungen in das folgende Model ein (beachte das $\\beta \\textrm{ und } \\gamma$ als \"beta\" und \"gamma\", ohne \"\", eingesetzt werden müssen und nicht als Symbole, und das $K_{d}$ als K_d eingesetzt wird).*** "
   ]
  },
  {
   "cell_type": "code",
   "execution_count": null,
   "metadata": {
    "dotnet_interactive": {
     "language": "fsharp"
    },
    "vscode": {
     "languageId": "dotnet-interactive.fsharp"
    }
   },
   "outputs": [
    {
     "data": {
      "text/html": [
       "\n",
       "<div>\n",
       "    <div id=\"59f73d0e-2aa7-4260-8be4-6caad5c11a69\"><!-- Plotly chart will be drawn inside this DIV --></div>\r\n",
       "<script type=\"text/javascript\">\r\n",
       "\r\n",
       "            var renderPlotly_59f73d0e2aa742608be46caad5c11a69 = function() {\r\n",
       "            var fsharpPlotlyRequire = requirejs.config({context:'fsharp-plotly',paths:{plotly:'https://cdn.plot.ly/plotly-2.6.3.min'}}) || require;\r\n",
       "            fsharpPlotlyRequire(['plotly'], function(Plotly) {\r\n",
       "\r\n",
       "            var data = [{\"type\":\"scatter\",\"mode\":\"lines\",\"x\":[0.0,0.1,0.2,0.30000000000000004,0.4,0.5,0.6000000000000001,0.7000000000000001,0.8,0.9,1.0,1.1,1.2000000000000002,1.3,1.4000000000000001,1.5,1.6,1.7000000000000002,1.8,1.9000000000000001,2.0,2.1,2.2,2.3000000000000003,2.4000000000000004,2.5,2.6,2.7,2.8000000000000003,2.9000000000000004,3.0,3.1,3.2,3.3000000000000003,3.4000000000000004,3.5,3.6,3.7,3.8000000000000003,3.9000000000000004,4.0,4.1000000000000005,4.2,4.3,4.4,4.5,4.6000000000000005,4.7,4.800000000000001,4.9,5.0,5.1000000000000005,5.2,5.300000000000001,5.4,5.5,5.6000000000000005,5.7,5.800000000000001,5.9,6.0,6.1000000000000005,6.2,6.300000000000001,6.4,6.5,6.6000000000000005,6.7,6.800000000000001,6.9,7.0,7.1000000000000005,7.2,7.300000000000001,7.4,7.5,7.6000000000000005,7.7,7.800000000000001,7.9,8.0,8.1,8.200000000000001,8.3,8.4,8.5,8.6,8.700000000000001,8.8,8.9,9.0,9.1,9.200000000000001,9.3,9.4,9.5,9.600000000000001,9.700000000000001,9.8,9.9,10.0,10.100000000000001,10.200000000000001,10.3,10.4,10.5,10.600000000000001,10.700000000000001,10.8,10.9,11.0,11.100000000000001,11.200000000000001,11.3,11.4,11.5,11.600000000000001,11.700000000000001,11.8,11.9,12.0,12.100000000000001,12.200000000000001,12.3,12.4,12.5,12.600000000000001,12.700000000000001,12.8,12.9,13.0,13.100000000000001,13.200000000000001,13.3,13.4,13.5,13.600000000000001,13.700000000000001,13.8,13.9,14.0,14.100000000000001,14.200000000000001,14.3,14.4,14.5,14.600000000000001,14.700000000000001,14.8,14.9,15.0],\"y\":[0.0,0.1,0.2,0.30000000000000004,0.4,0.5,0.6000000000000001,0.7000000000000001,0.8,0.9,1.0,1.1,1.2000000000000002,1.3,1.4000000000000001,1.5,1.6,1.7000000000000002,1.8,1.9000000000000001,2.0,2.1,2.2,2.3000000000000003,2.4000000000000004,2.5,2.6,2.7,2.8000000000000003,2.9000000000000004,3.0,3.1,3.2,3.3000000000000003,3.4000000000000004,3.5,3.6,3.7,3.8000000000000003,3.9000000000000004,4.0,4.1000000000000005,4.2,4.3,4.4,4.5,4.6000000000000005,4.7,4.800000000000001,4.9,5.0,5.1000000000000005,5.2,5.300000000000001,5.4,5.5,5.6000000000000005,5.7,5.800000000000001,5.9,6.0,6.1000000000000005,6.2,6.300000000000001,6.4,6.5,6.6000000000000005,6.7,6.800000000000001,6.9,7.0,7.1000000000000005,7.2,7.300000000000001,7.4,7.5,7.6000000000000005,7.7,7.800000000000001,7.9,8.0,8.1,8.200000000000001,8.3,8.4,8.5,8.6,8.700000000000001,8.8,8.9,9.0,9.1,9.200000000000001,9.3,9.4,9.5,9.600000000000001,9.700000000000001,9.8,9.9,10.0,10.100000000000001,10.200000000000001,10.3,10.4,10.5,10.600000000000001,10.700000000000001,10.8,10.9,11.0,11.100000000000001,11.200000000000001,11.3,11.4,11.5,11.600000000000001,11.700000000000001,11.8,11.9,12.0,12.100000000000001,12.200000000000001,12.3,12.4,12.5,12.600000000000001,12.700000000000001,12.8,12.9,13.0,13.100000000000001,13.200000000000001,13.3,13.4,13.5,13.600000000000001,13.700000000000001,13.8,13.9,14.0,14.100000000000001,14.200000000000001,14.3,14.4,14.5,14.600000000000001,14.700000000000001,14.8,14.9,15.0],\"marker\":{},\"line\":{},\"name\":\"Zunahme\"},{\"type\":\"scatter\",\"mode\":\"lines\",\"x\":[0.0,0.1,0.2,0.30000000000000004,0.4,0.5,0.6000000000000001,0.7000000000000001,0.8,0.9,1.0,1.1,1.2000000000000002,1.3,1.4000000000000001,1.5,1.6,1.7000000000000002,1.8,1.9000000000000001,2.0,2.1,2.2,2.3000000000000003,2.4000000000000004,2.5,2.6,2.7,2.8000000000000003,2.9000000000000004,3.0,3.1,3.2,3.3000000000000003,3.4000000000000004,3.5,3.6,3.7,3.8000000000000003,3.9000000000000004,4.0,4.1000000000000005,4.2,4.3,4.4,4.5,4.6000000000000005,4.7,4.800000000000001,4.9,5.0,5.1000000000000005,5.2,5.300000000000001,5.4,5.5,5.6000000000000005,5.7,5.800000000000001,5.9,6.0,6.1000000000000005,6.2,6.300000000000001,6.4,6.5,6.6000000000000005,6.7,6.800000000000001,6.9,7.0,7.1000000000000005,7.2,7.300000000000001,7.4,7.5,7.6000000000000005,7.7,7.800000000000001,7.9,8.0,8.1,8.200000000000001,8.3,8.4,8.5,8.6,8.700000000000001,8.8,8.9,9.0,9.1,9.200000000000001,9.3,9.4,9.5,9.600000000000001,9.700000000000001,9.8,9.9,10.0,10.100000000000001,10.200000000000001,10.3,10.4,10.5,10.600000000000001,10.700000000000001,10.8,10.9,11.0,11.100000000000001,11.200000000000001,11.3,11.4,11.5,11.600000000000001,11.700000000000001,11.8,11.9,12.0,12.100000000000001,12.200000000000001,12.3,12.4,12.5,12.600000000000001,12.700000000000001,12.8,12.9,13.0,13.100000000000001,13.200000000000001,13.3,13.4,13.5,13.600000000000001,13.700000000000001,13.8,13.9,14.0,14.100000000000001,14.200000000000001,14.3,14.4,14.5,14.600000000000001,14.700000000000001,14.8,14.9,15.0],\"y\":[0.5,0.5039984006397441,0.5159744408945687,0.5358708648864089,0.5635930047694754,0.599009900990099,0.6419558359621451,0.6922322479403689,0.749609984399376,0.8138318481208835,0.8846153846153846,0.9616558565433041,1.0446293494704992,1.133195953540652,1.2270029673590506,1.3256880733944953,1.4288824383164007,1.5362136966654716,1.6473087818696885,1.7617965746242574,1.8793103448275863,1.999489969398164,2.1219839142091157,2.246450973918785,2.3725617685305593,2.5,2.628463476070529,2.7576649117373804,2.8873325213154692,3.0172104160431013,3.1470588235294117,3.2766541462005203,3.4057888762769584,3.534271384786849,3.6619256017505473,3.7885906040268456,3.914120126448894,4.038382010855519,4.161257606490873,4.282641134046258,4.402439024390244,4.520569241808181,4.636960600375234,4.751552080938147,4.86429215509468,4.975138121546961,5.084055459272097,5.191017201104269,5.296003330557869,5.399000204039992,5.5,5.599000196039992,5.696003074558032,5.791015257110568,5.8840472673559825,5.975113122171946,6.064229950319376,6.151417637850061,6.236698499317873,6.320096973750209,6.401639344262295,6.481353480147887,6.5592686002522065,6.63541505642294,6.709824135839903,6.782527881040892,6.853558926487749,6.922950350550865,6.990735541830433,7.056948078777028,7.121621621621622,7.184789815674314,7.246486205101511,7.306744156341805,7.3655967903711135,7.423076923076923,7.479217013049782,7.534049116146637,7.5876048462255365,7.639915341494109,7.691011235955056,7.740922635470699,7.789679098005204,7.837309617637661,7.883842611971536,7.929305912596401,7.973726758286176,8.017131790644552,8.059547051932839,8.100997984838308,8.141509433962264,8.18110564882664,8.219810288215978,8.257646425688403,8.294636556104447,8.330802603036876,8.366165926937523,8.400747333949115,8.434567085261072,8.467644906918137,8.5,8.53165105109834,8.562616243025419,8.592913265695323,8.622559327125263,8.651571164510166,8.679965055329065,8.707756828446485,8.734961875176504,8.761595160280926,8.787671232876713,8.813204237230957,8.838207923424621,8.862695657868885,8.8866804336603,8.910174880763115,8.933191276009026,8.955741552906295,8.977837311251827,8.999489826541025,9.020710059171599,9.04150866343854,9.061895996318453,9.081882126042316,9.101476840456478,9.120689655172415,9.139529821506311,9.158006334210102,9.176127938995975,9.193903139856852,9.211340206185566,9.228447179695845,9.245231881148364,9.261701916885432,9.277864685177942,9.29372738238842,9.309297008954086,9.324580375193944,9.33958410694393,9.354314651024243,9.368778280542987,9.382981100040213,9.396929050476528,9.41062791407033,9.424083318987778,9.437300743889478,9.450285522337923,9.463042847069561,9.475577774135386,9.48789522691389,9.5],\"marker\":{},\"line\":{},\"name\":\"Verringerung\"}];\r\n",
       "            var layout = {\"width\":600,\"height\":600,\"template\":{\"layout\":{\"title\":{\"x\":0.05},\"font\":{\"color\":\"rgba(42, 63, 95, 1.0)\"},\"paper_bgcolor\":\"rgba(255, 255, 255, 1.0)\",\"plot_bgcolor\":\"rgba(229, 236, 246, 1.0)\",\"autotypenumbers\":\"strict\",\"colorscale\":{\"diverging\":[[0.0,\"#8e0152\"],[0.1,\"#c51b7d\"],[0.2,\"#de77ae\"],[0.3,\"#f1b6da\"],[0.4,\"#fde0ef\"],[0.5,\"#f7f7f7\"],[0.6,\"#e6f5d0\"],[0.7,\"#b8e186\"],[0.8,\"#7fbc41\"],[0.9,\"#4d9221\"],[1.0,\"#276419\"]],\"sequential\":[[0.0,\"#0d0887\"],[0.1111111111111111,\"#46039f\"],[0.2222222222222222,\"#7201a8\"],[0.3333333333333333,\"#9c179e\"],[0.4444444444444444,\"#bd3786\"],[0.5555555555555556,\"#d8576b\"],[0.6666666666666666,\"#ed7953\"],[0.7777777777777778,\"#fb9f3a\"],[0.8888888888888888,\"#fdca26\"],[1.0,\"#f0f921\"]],\"sequentialminus\":[[0.0,\"#0d0887\"],[0.1111111111111111,\"#46039f\"],[0.2222222222222222,\"#7201a8\"],[0.3333333333333333,\"#9c179e\"],[0.4444444444444444,\"#bd3786\"],[0.5555555555555556,\"#d8576b\"],[0.6666666666666666,\"#ed7953\"],[0.7777777777777778,\"#fb9f3a\"],[0.8888888888888888,\"#fdca26\"],[1.0,\"#f0f921\"]]},\"hovermode\":\"closest\",\"hoverlabel\":{\"align\":\"left\"},\"coloraxis\":{\"colorbar\":{\"outlinewidth\":0.0,\"ticks\":\"\"}},\"geo\":{\"showland\":true,\"landcolor\":\"rgba(229, 236, 246, 1.0)\",\"showlakes\":true,\"lakecolor\":\"rgba(255, 255, 255, 1.0)\",\"subunitcolor\":\"rgba(255, 255, 255, 1.0)\",\"bgcolor\":\"rgba(255, 255, 255, 1.0)\"},\"mapbox\":{\"style\":\"light\"},\"polar\":{\"bgcolor\":\"rgba(229, 236, 246, 1.0)\",\"radialaxis\":{\"linecolor\":\"rgba(255, 255, 255, 1.0)\",\"gridcolor\":\"rgba(255, 255, 255, 1.0)\",\"ticks\":\"\"},\"angularaxis\":{\"linecolor\":\"rgba(255, 255, 255, 1.0)\",\"gridcolor\":\"rgba(255, 255, 255, 1.0)\",\"ticks\":\"\"}},\"scene\":{\"xaxis\":{\"ticks\":\"\",\"linecolor\":\"rgba(255, 255, 255, 1.0)\",\"gridcolor\":\"rgba(255, 255, 255, 1.0)\",\"gridwidth\":2.0,\"zerolinecolor\":\"rgba(255, 255, 255, 1.0)\",\"backgroundcolor\":\"rgba(229, 236, 246, 1.0)\",\"showbackground\":true},\"yaxis\":{\"ticks\":\"\",\"linecolor\":\"rgba(255, 255, 255, 1.0)\",\"gridcolor\":\"rgba(255, 255, 255, 1.0)\",\"gridwidth\":2.0,\"zerolinecolor\":\"rgba(255, 255, 255, 1.0)\",\"backgroundcolor\":\"rgba(229, 236, 246, 1.0)\",\"showbackground\":true},\"zaxis\":{\"ticks\":\"\",\"linecolor\":\"rgba(255, 255, 255, 1.0)\",\"gridcolor\":\"rgba(255, 255, 255, 1.0)\",\"gridwidth\":2.0,\"zerolinecolor\":\"rgba(255, 255, 255, 1.0)\",\"backgroundcolor\":\"rgba(229, 236, 246, 1.0)\",\"showbackground\":true}},\"ternary\":{\"aaxis\":{\"ticks\":\"\",\"linecolor\":\"rgba(255, 255, 255, 1.0)\",\"gridcolor\":\"rgba(255, 255, 255, 1.0)\"},\"baxis\":{\"ticks\":\"\",\"linecolor\":\"rgba(255, 255, 255, 1.0)\",\"gridcolor\":\"rgba(255, 255, 255, 1.0)\"},\"caxis\":{\"ticks\":\"\",\"linecolor\":\"rgba(255, 255, 255, 1.0)\",\"gridcolor\":\"rgba(255, 255, 255, 1.0)\"},\"bgcolor\":\"rgba(229, 236, 246, 1.0)\"},\"xaxis\":{\"title\":{\"standoff\":15},\"ticks\":\"\",\"automargin\":true,\"linecolor\":\"rgba(255, 255, 255, 1.0)\",\"gridcolor\":\"rgba(255, 255, 255, 1.0)\",\"zerolinecolor\":\"rgba(255, 255, 255, 1.0)\",\"zerolinewidth\":2.0},\"yaxis\":{\"title\":{\"standoff\":15},\"ticks\":\"\",\"automargin\":true,\"linecolor\":\"rgba(255, 255, 255, 1.0)\",\"gridcolor\":\"rgba(255, 255, 255, 1.0)\",\"zerolinecolor\":\"rgba(255, 255, 255, 1.0)\",\"zerolinewidth\":2.0},\"annotationdefaults\":{\"arrowcolor\":\"#2a3f5f\",\"arrowhead\":0,\"arrowwidth\":1},\"shapedefaults\":{\"line\":{\"color\":\"rgba(42, 63, 95, 1.0)\"}},\"colorway\":[\"rgba(99, 110, 250, 1.0)\",\"rgba(239, 85, 59, 1.0)\",\"rgba(0, 204, 150, 1.0)\",\"rgba(171, 99, 250, 1.0)\",\"rgba(255, 161, 90, 1.0)\",\"rgba(25, 211, 243, 1.0)\",\"rgba(255, 102, 146, 1.0)\",\"rgba(182, 232, 128, 1.0)\",\"rgba(255, 151, 255, 1.0)\",\"rgba(254, 203, 82, 1.0)\"]},\"data\":{\"bar\":[{\"marker\":{\"line\":{\"color\":\"rgba(229, 236, 246, 1.0)\",\"width\":0.5},\"pattern\":{\"fillmode\":\"overlay\",\"size\":10,\"solidity\":0.2}},\"error_x\":{\"color\":\"rgba(42, 63, 95, 1.0)\"},\"error_y\":{\"color\":\"rgba(42, 63, 95, 1.0)\"}}],\"barpolar\":[{\"marker\":{\"line\":{\"color\":\"rgba(229, 236, 246, 1.0)\",\"width\":0.5},\"pattern\":{\"fillmode\":\"overlay\",\"size\":10,\"solidity\":0.2}}}],\"carpet\":[{\"aaxis\":{\"linecolor\":\"rgba(255, 255, 255, 1.0)\",\"gridcolor\":\"rgba(255, 255, 255, 1.0)\",\"endlinecolor\":\"rgba(42, 63, 95, 1.0)\",\"minorgridcolor\":\"rgba(255, 255, 255, 1.0)\",\"startlinecolor\":\"rgba(42, 63, 95, 1.0)\"},\"baxis\":{\"linecolor\":\"rgba(255, 255, 255, 1.0)\",\"gridcolor\":\"rgba(255, 255, 255, 1.0)\",\"endlinecolor\":\"rgba(42, 63, 95, 1.0)\",\"minorgridcolor\":\"rgba(255, 255, 255, 1.0)\",\"startlinecolor\":\"rgba(42, 63, 95, 1.0)\"}}],\"choropleth\":[{\"colorbar\":{\"outlinewidth\":0.0,\"ticks\":\"\"},\"colorscale\":[[0.0,\"#0d0887\"],[0.1111111111111111,\"#46039f\"],[0.2222222222222222,\"#7201a8\"],[0.3333333333333333,\"#9c179e\"],[0.4444444444444444,\"#bd3786\"],[0.5555555555555556,\"#d8576b\"],[0.6666666666666666,\"#ed7953\"],[0.7777777777777778,\"#fb9f3a\"],[0.8888888888888888,\"#fdca26\"],[1.0,\"#f0f921\"]]}],\"contour\":[{\"colorbar\":{\"outlinewidth\":0.0,\"ticks\":\"\"},\"colorscale\":[[0.0,\"#0d0887\"],[0.1111111111111111,\"#46039f\"],[0.2222222222222222,\"#7201a8\"],[0.3333333333333333,\"#9c179e\"],[0.4444444444444444,\"#bd3786\"],[0.5555555555555556,\"#d8576b\"],[0.6666666666666666,\"#ed7953\"],[0.7777777777777778,\"#fb9f3a\"],[0.8888888888888888,\"#fdca26\"],[1.0,\"#f0f921\"]]}],\"contourcarpet\":[{\"colorbar\":{\"outlinewidth\":0.0,\"ticks\":\"\"}}],\"heatmap\":[{\"colorbar\":{\"outlinewidth\":0.0,\"ticks\":\"\"},\"colorscale\":[[0.0,\"#0d0887\"],[0.1111111111111111,\"#46039f\"],[0.2222222222222222,\"#7201a8\"],[0.3333333333333333,\"#9c179e\"],[0.4444444444444444,\"#bd3786\"],[0.5555555555555556,\"#d8576b\"],[0.6666666666666666,\"#ed7953\"],[0.7777777777777778,\"#fb9f3a\"],[0.8888888888888888,\"#fdca26\"],[1.0,\"#f0f921\"]]}],\"heatmapgl\":[{\"colorbar\":{\"outlinewidth\":0.0,\"ticks\":\"\"},\"colorscale\":[[0.0,\"#0d0887\"],[0.1111111111111111,\"#46039f\"],[0.2222222222222222,\"#7201a8\"],[0.3333333333333333,\"#9c179e\"],[0.4444444444444444,\"#bd3786\"],[0.5555555555555556,\"#d8576b\"],[0.6666666666666666,\"#ed7953\"],[0.7777777777777778,\"#fb9f3a\"],[0.8888888888888888,\"#fdca26\"],[1.0,\"#f0f921\"]]}],\"histogram\":[{\"marker\":{\"pattern\":{\"fillmode\":\"overlay\",\"size\":10,\"solidity\":0.2}}}],\"histogram2d\":[{\"colorbar\":{\"outlinewidth\":0.0,\"ticks\":\"\"},\"colorscale\":[[0.0,\"#0d0887\"],[0.1111111111111111,\"#46039f\"],[0.2222222222222222,\"#7201a8\"],[0.3333333333333333,\"#9c179e\"],[0.4444444444444444,\"#bd3786\"],[0.5555555555555556,\"#d8576b\"],[0.6666666666666666,\"#ed7953\"],[0.7777777777777778,\"#fb9f3a\"],[0.8888888888888888,\"#fdca26\"],[1.0,\"#f0f921\"]]}],\"histogram2dcontour\":[{\"colorbar\":{\"outlinewidth\":0.0,\"ticks\":\"\"},\"colorscale\":[[0.0,\"#0d0887\"],[0.1111111111111111,\"#46039f\"],[0.2222222222222222,\"#7201a8\"],[0.3333333333333333,\"#9c179e\"],[0.4444444444444444,\"#bd3786\"],[0.5555555555555556,\"#d8576b\"],[0.6666666666666666,\"#ed7953\"],[0.7777777777777778,\"#fb9f3a\"],[0.8888888888888888,\"#fdca26\"],[1.0,\"#f0f921\"]]}],\"mesh3d\":[{\"colorbar\":{\"outlinewidth\":0.0,\"ticks\":\"\"}}],\"parcoords\":[{\"line\":{\"colorbar\":{\"outlinewidth\":0.0,\"ticks\":\"\"}}}],\"pie\":[{\"automargin\":true}],\"scatter\":[{\"marker\":{\"colorbar\":{\"outlinewidth\":0.0,\"ticks\":\"\"}}}],\"scatter3d\":[{\"marker\":{\"colorbar\":{\"outlinewidth\":0.0,\"ticks\":\"\"}},\"line\":{\"colorbar\":{\"outlinewidth\":0.0,\"ticks\":\"\"}}}],\"scattercarpet\":[{\"marker\":{\"colorbar\":{\"outlinewidth\":0.0,\"ticks\":\"\"}}}],\"scattergeo\":[{\"marker\":{\"colorbar\":{\"outlinewidth\":0.0,\"ticks\":\"\"}}}],\"scattergl\":[{\"marker\":{\"colorbar\":{\"outlinewidth\":0.0,\"ticks\":\"\"}}}],\"scattermapbox\":[{\"marker\":{\"colorbar\":{\"outlinewidth\":0.0,\"ticks\":\"\"}}}],\"scatterpolar\":[{\"marker\":{\"colorbar\":{\"outlinewidth\":0.0,\"ticks\":\"\"}}}],\"scatterpolargl\":[{\"marker\":{\"colorbar\":{\"outlinewidth\":0.0,\"ticks\":\"\"}}}],\"scatterternary\":[{\"marker\":{\"colorbar\":{\"outlinewidth\":0.0,\"ticks\":\"\"}}}],\"surface\":[{\"colorbar\":{\"outlinewidth\":0.0,\"ticks\":\"\"},\"colorscale\":[[0.0,\"#0d0887\"],[0.1111111111111111,\"#46039f\"],[0.2222222222222222,\"#7201a8\"],[0.3333333333333333,\"#9c179e\"],[0.4444444444444444,\"#bd3786\"],[0.5555555555555556,\"#d8576b\"],[0.6666666666666666,\"#ed7953\"],[0.7777777777777778,\"#fb9f3a\"],[0.8888888888888888,\"#fdca26\"],[1.0,\"#f0f921\"]]}],\"table\":[{\"cells\":{\"fill\":{\"color\":\"rgba(235, 240, 248, 1.0)\"},\"line\":{\"color\":\"rgba(255, 255, 255, 1.0)\"}},\"header\":{\"fill\":{\"color\":\"rgba(200, 212, 227, 1.0)\"},\"line\":{\"color\":\"rgba(255, 255, 255, 1.0)\"}}}]}},\"xaxis\":{\"title\":{\"text\":\"Lactosekonzentration\"}},\"yaxis\":{\"title\":{\"text\":\"Veränderung der Lactosekonzentration\"}}};\r\n",
       "            var config = {\"responsive\":true};\r\n",
       "            Plotly.newPlot('59f73d0e-2aa7-4260-8be4-6caad5c11a69', data, layout, config);\r\n",
       "});\r\n",
       "            };\r\n",
       "            if ((typeof(requirejs) !==  typeof(Function)) || (typeof(requirejs.config) !== typeof(Function))) {\r\n",
       "                var script = document.createElement(\"script\");\r\n",
       "                script.setAttribute(\"src\", \"https://cdnjs.cloudflare.com/ajax/libs/require.js/2.3.6/require.min.js\");\r\n",
       "                script.onload = function(){\r\n",
       "                    renderPlotly_59f73d0e2aa742608be46caad5c11a69();\r\n",
       "                };\r\n",
       "                document.getElementsByTagName(\"head\")[0].appendChild(script);\r\n",
       "            }\r\n",
       "            else {\r\n",
       "                renderPlotly_59f73d0e2aa742608be46caad5c11a69();\r\n",
       "            }\r\n",
       "</script>\r\n",
       "\n",
       "    \n",
       "</div>    \n"
      ]
     },
     "metadata": {},
     "output_type": "display_data"
    }
   ],
   "source": [
    "//Konstanten\n",
    "let alpha =  0.5  // Konstante für die Zunahme der Lactosekonzentration (unreguliert)\n",
    "let beta  =  10.0 // Konstante für die Zunahme der Lactosekonzentration (reguliert)\n",
    "let gamma =  1.0  // Konstante für die Verringerung der Lactosekonzentration\n",
    "let K_d =    5.0  // Dissoziationskonstante\n",
    "\n",
    "//Graphische Darstellung der Gleichungen\n",
    "[\n",
    "    // Fügen sie die Gleichung für den Proteinabbau ein\n",
    "\n",
    "    Chart.Line [ for inlac in 0.0 .. 0.1 .. 15.0 do\n",
    "    (inlac, (gamma*inlac)) ]\n",
    "    |> Chart.withTraceInfo(\"Zunahme\");\n",
    "    //Fügen sie die Gleichung für die Proteinproduktion ein\n",
    "    Chart.Line [ for inlac in 0.0 .. 0.1 .. 15.0 do \n",
    "    (inlac, alpha + beta * (inlac**2.)/((inlac**2.) + (K_d**2.))) ]\n",
    "    |> Chart.withTraceInfo(\"Verringerung\");\n",
    "]\n",
    "\n",
    "|> Chart.combine\n",
    "|> Chart.withXAxisStyle(\"Lactosekonzentration\")\n",
    "|> Chart.withYAxisStyle(\"Veränderung der Lactosekonzentration\")"
   ]
  },
  {
   "cell_type": "markdown",
   "metadata": {},
   "source": [
    "Der gezeigte Graph stellt auf der Y-Achse die Änderung der Lactosekonzentration dar, also Import' und Abbau'. Die X-Achse repräsentiert die Lactosekonzentration. Diese graphische Darstellung macht es sehr einfach die Punktattraktionen zu bestimmen. Diese sind die Schnittpunkte der beiden Kurven, da bei diesen der Import und der Verbrauch den gleichen Wert besitzen. In diesem Fall befinden sich die Schnittpunkte der beiden Kurven bei 1, 2.5 und 7.3 .<br>\n",
    "Diese Art von Graph ermöglicht es auch zu bestimmen ob es sich um stabile oder instabile Punktattraktionen handelt. Dafür muss man sich nur überlegen, wohin die Lactosekonzentration wandert. <br>\n",
    "Einige Beispiele folgen: <br>\n",
    "$$Lactosekonzentration (0) = 1$$ \n",
    "Dieser Wert liegt bereits auf einer Punktattraktion und daher wird die Lactosekonzentration sich nicht ändern.\n",
    "$$Lactosekonzentration (0) = 2$$ \n",
    "Bei dieser Lactosekonzentration ist der Wert von der Kurve für die Verringerung höher als der für den Import. Das heißt es wird mehr Lactose verbraucht als importiert, somit sinkt die Lactosekonzentration und die $Lactosekonzentration(t)$ wandert zu der Punktattraktion 1.\n",
    "$$Lactosekonzentration (0) = 2.5$$\n",
    "Dieser Wert liegt bereits auf einer Punktattraktion und daher wird die Lactosekonzentration sich nicht ändern. \n",
    "$$Lactosekonzentration (0) = 3$$\n",
    "Bei dieser Lactosekonzentration ist der Wert von der Kurve für den Import höher als der für den Verbrauch. Das heißt es wird mehr Lactose importiert als verbraucht, somit steigt die Lactosekonzentration und die $Lactosekonzentration(t)$ wandert zu der Punktattraktion 7,3.\n",
    "$$Lactosekonzentration (0) = 10$$\n",
    "Bei dieser Lactosekonzentration ist der Wert von der Kurve für den Verbrauch höher als der für den Import. Das heißt es  wird mehr Lactose verbraucht als importiert, somit sinkt die Lactosekonzentration und die $Lactosekonzentration(t)$ wandert zu der Punktattraktion 7.3.\n",
    "\n",
    "Das heißt die Punktattraktion 1 ist stabil, da höhere Werte sich zu diesem Wert hinbewegen (bis die nächste Punktattraktion erreicht wird).\n",
    "Die Punktattraktion 2.5 ist instabil, da höhere Werte zur nächsten Punktattraktion, 7.3, wandern und niedrigere zur vorherigen Punktattraktion, 0. Nur wenn die $Lactosekonzentration(0) = 2.5$ kommt es zu diesem Punkt.\n",
    "\n",
    "##### Aufgabe 4.8\n",
    "***Kopieren sie den obenstehenden Code Block und fügen sie diesen in den folgenden Code Block ein.***\n"
   ]
  },
  {
   "cell_type": "code",
   "execution_count": null,
   "metadata": {
    "dotnet_interactive": {
     "language": "fsharp"
    },
    "vscode": {
     "languageId": "dotnet-interactive.fsharp"
    }
   },
   "outputs": [],
   "source": [
    "//Code block einfügen"
   ]
  },
  {
   "cell_type": "markdown",
   "metadata": {},
   "source": [
    "Varrieren sie die Werte für die Abbaukonsante $\\gamma$. Bestimmen sie die Punktattraktionen und ob diese stabil oder instabil sind. Notieren sie die Werte im nachfolgennden Block. Varrieren sie $\\gamma$ von 0.7 bis 1.5 in 0.1 schritten (also 0.7,0.8.0.9,...)."
   ]
  },
  {
   "cell_type": "markdown",
   "metadata": {},
   "source": [
    "Notieren sie hier die Werte\n"
   ]
  },
  {
   "cell_type": "markdown",
   "metadata": {},
   "source": [
    "##### Aufgabe 4.9\n",
    "***Setzen sie jetzt die Werte in den nachfolgenden Code Block ein und führen sie diesen anschliesend aus.\n",
    "Beachten sie dabei das folgende: <br>\n",
    "x Werte sind die Werte die sie für die Abbaukonstante $\\gamma$ haben, y Werte sind die von ihnen notierten Punktattraktionen. \n",
    "Beachten sie außerdem das sie die Werte sinnvoll anordnen müßen um anschliesend ein aussagekräftiges Diagramm zu erhalten (Tipp: Der Kurvenverlauf folget der Ordnung in der sie Werte eingeben haben).***"
   ]
  },
  {
   "cell_type": "code",
   "execution_count": null,
   "metadata": {
    "dotnet_interactive": {
     "language": "fsharp"
    },
    "vscode": {
     "languageId": "dotnet-interactive.fsharp"
    }
   },
   "outputs": [
    {
     "data": {
      "text/html": [
       "\n",
       "<div>\n",
       "    <div id=\"b3b31a4d-64b6-4d3b-9a39-cd0e2f4f934c\"><!-- Plotly chart will be drawn inside this DIV --></div>\r\n",
       "<script type=\"text/javascript\">\r\n",
       "\r\n",
       "            var renderPlotly_b3b31a4d64b64d3b9a39cd0e2f4f934c = function() {\r\n",
       "            var fsharpPlotlyRequire = requirejs.config({context:'fsharp-plotly',paths:{plotly:'https://cdn.plot.ly/plotly-2.6.3.min'}}) || require;\r\n",
       "            fsharpPlotlyRequire(['plotly'], function(Plotly) {\r\n",
       "\r\n",
       "            var data = [{\"type\":\"scatter\",\"mode\":\"lines\",\"x\":[0.7,0.8,0.9,1.0,1.1,0.9,1.0,1.1,0.9,1.0,1.1,1.2],\"y\":[7.0,7.0,7.0,7.0,7.0,2.5,2.5,2.5,1.0,1.0,1.0,1.0],\"marker\":{},\"line\":{\"shape\":\"spline\"}}];\r\n",
       "            var layout = {\"width\":600,\"height\":600,\"template\":{\"layout\":{\"title\":{\"x\":0.05},\"font\":{\"color\":\"rgba(42, 63, 95, 1.0)\"},\"paper_bgcolor\":\"rgba(255, 255, 255, 1.0)\",\"plot_bgcolor\":\"rgba(229, 236, 246, 1.0)\",\"autotypenumbers\":\"strict\",\"colorscale\":{\"diverging\":[[0.0,\"#8e0152\"],[0.1,\"#c51b7d\"],[0.2,\"#de77ae\"],[0.3,\"#f1b6da\"],[0.4,\"#fde0ef\"],[0.5,\"#f7f7f7\"],[0.6,\"#e6f5d0\"],[0.7,\"#b8e186\"],[0.8,\"#7fbc41\"],[0.9,\"#4d9221\"],[1.0,\"#276419\"]],\"sequential\":[[0.0,\"#0d0887\"],[0.1111111111111111,\"#46039f\"],[0.2222222222222222,\"#7201a8\"],[0.3333333333333333,\"#9c179e\"],[0.4444444444444444,\"#bd3786\"],[0.5555555555555556,\"#d8576b\"],[0.6666666666666666,\"#ed7953\"],[0.7777777777777778,\"#fb9f3a\"],[0.8888888888888888,\"#fdca26\"],[1.0,\"#f0f921\"]],\"sequentialminus\":[[0.0,\"#0d0887\"],[0.1111111111111111,\"#46039f\"],[0.2222222222222222,\"#7201a8\"],[0.3333333333333333,\"#9c179e\"],[0.4444444444444444,\"#bd3786\"],[0.5555555555555556,\"#d8576b\"],[0.6666666666666666,\"#ed7953\"],[0.7777777777777778,\"#fb9f3a\"],[0.8888888888888888,\"#fdca26\"],[1.0,\"#f0f921\"]]},\"hovermode\":\"closest\",\"hoverlabel\":{\"align\":\"left\"},\"coloraxis\":{\"colorbar\":{\"outlinewidth\":0.0,\"ticks\":\"\"}},\"geo\":{\"showland\":true,\"landcolor\":\"rgba(229, 236, 246, 1.0)\",\"showlakes\":true,\"lakecolor\":\"rgba(255, 255, 255, 1.0)\",\"subunitcolor\":\"rgba(255, 255, 255, 1.0)\",\"bgcolor\":\"rgba(255, 255, 255, 1.0)\"},\"mapbox\":{\"style\":\"light\"},\"polar\":{\"bgcolor\":\"rgba(229, 236, 246, 1.0)\",\"radialaxis\":{\"linecolor\":\"rgba(255, 255, 255, 1.0)\",\"gridcolor\":\"rgba(255, 255, 255, 1.0)\",\"ticks\":\"\"},\"angularaxis\":{\"linecolor\":\"rgba(255, 255, 255, 1.0)\",\"gridcolor\":\"rgba(255, 255, 255, 1.0)\",\"ticks\":\"\"}},\"scene\":{\"xaxis\":{\"ticks\":\"\",\"linecolor\":\"rgba(255, 255, 255, 1.0)\",\"gridcolor\":\"rgba(255, 255, 255, 1.0)\",\"gridwidth\":2.0,\"zerolinecolor\":\"rgba(255, 255, 255, 1.0)\",\"backgroundcolor\":\"rgba(229, 236, 246, 1.0)\",\"showbackground\":true},\"yaxis\":{\"ticks\":\"\",\"linecolor\":\"rgba(255, 255, 255, 1.0)\",\"gridcolor\":\"rgba(255, 255, 255, 1.0)\",\"gridwidth\":2.0,\"zerolinecolor\":\"rgba(255, 255, 255, 1.0)\",\"backgroundcolor\":\"rgba(229, 236, 246, 1.0)\",\"showbackground\":true},\"zaxis\":{\"ticks\":\"\",\"linecolor\":\"rgba(255, 255, 255, 1.0)\",\"gridcolor\":\"rgba(255, 255, 255, 1.0)\",\"gridwidth\":2.0,\"zerolinecolor\":\"rgba(255, 255, 255, 1.0)\",\"backgroundcolor\":\"rgba(229, 236, 246, 1.0)\",\"showbackground\":true}},\"ternary\":{\"aaxis\":{\"ticks\":\"\",\"linecolor\":\"rgba(255, 255, 255, 1.0)\",\"gridcolor\":\"rgba(255, 255, 255, 1.0)\"},\"baxis\":{\"ticks\":\"\",\"linecolor\":\"rgba(255, 255, 255, 1.0)\",\"gridcolor\":\"rgba(255, 255, 255, 1.0)\"},\"caxis\":{\"ticks\":\"\",\"linecolor\":\"rgba(255, 255, 255, 1.0)\",\"gridcolor\":\"rgba(255, 255, 255, 1.0)\"},\"bgcolor\":\"rgba(229, 236, 246, 1.0)\"},\"xaxis\":{\"title\":{\"standoff\":15},\"ticks\":\"\",\"automargin\":true,\"linecolor\":\"rgba(255, 255, 255, 1.0)\",\"gridcolor\":\"rgba(255, 255, 255, 1.0)\",\"zerolinecolor\":\"rgba(255, 255, 255, 1.0)\",\"zerolinewidth\":2.0},\"yaxis\":{\"title\":{\"standoff\":15},\"ticks\":\"\",\"automargin\":true,\"linecolor\":\"rgba(255, 255, 255, 1.0)\",\"gridcolor\":\"rgba(255, 255, 255, 1.0)\",\"zerolinecolor\":\"rgba(255, 255, 255, 1.0)\",\"zerolinewidth\":2.0},\"annotationdefaults\":{\"arrowcolor\":\"#2a3f5f\",\"arrowhead\":0,\"arrowwidth\":1},\"shapedefaults\":{\"line\":{\"color\":\"rgba(42, 63, 95, 1.0)\"}},\"colorway\":[\"rgba(99, 110, 250, 1.0)\",\"rgba(239, 85, 59, 1.0)\",\"rgba(0, 204, 150, 1.0)\",\"rgba(171, 99, 250, 1.0)\",\"rgba(255, 161, 90, 1.0)\",\"rgba(25, 211, 243, 1.0)\",\"rgba(255, 102, 146, 1.0)\",\"rgba(182, 232, 128, 1.0)\",\"rgba(255, 151, 255, 1.0)\",\"rgba(254, 203, 82, 1.0)\"]},\"data\":{\"bar\":[{\"marker\":{\"line\":{\"color\":\"rgba(229, 236, 246, 1.0)\",\"width\":0.5},\"pattern\":{\"fillmode\":\"overlay\",\"size\":10,\"solidity\":0.2}},\"error_x\":{\"color\":\"rgba(42, 63, 95, 1.0)\"},\"error_y\":{\"color\":\"rgba(42, 63, 95, 1.0)\"}}],\"barpolar\":[{\"marker\":{\"line\":{\"color\":\"rgba(229, 236, 246, 1.0)\",\"width\":0.5},\"pattern\":{\"fillmode\":\"overlay\",\"size\":10,\"solidity\":0.2}}}],\"carpet\":[{\"aaxis\":{\"linecolor\":\"rgba(255, 255, 255, 1.0)\",\"gridcolor\":\"rgba(255, 255, 255, 1.0)\",\"endlinecolor\":\"rgba(42, 63, 95, 1.0)\",\"minorgridcolor\":\"rgba(255, 255, 255, 1.0)\",\"startlinecolor\":\"rgba(42, 63, 95, 1.0)\"},\"baxis\":{\"linecolor\":\"rgba(255, 255, 255, 1.0)\",\"gridcolor\":\"rgba(255, 255, 255, 1.0)\",\"endlinecolor\":\"rgba(42, 63, 95, 1.0)\",\"minorgridcolor\":\"rgba(255, 255, 255, 1.0)\",\"startlinecolor\":\"rgba(42, 63, 95, 1.0)\"}}],\"choropleth\":[{\"colorbar\":{\"outlinewidth\":0.0,\"ticks\":\"\"},\"colorscale\":[[0.0,\"#0d0887\"],[0.1111111111111111,\"#46039f\"],[0.2222222222222222,\"#7201a8\"],[0.3333333333333333,\"#9c179e\"],[0.4444444444444444,\"#bd3786\"],[0.5555555555555556,\"#d8576b\"],[0.6666666666666666,\"#ed7953\"],[0.7777777777777778,\"#fb9f3a\"],[0.8888888888888888,\"#fdca26\"],[1.0,\"#f0f921\"]]}],\"contour\":[{\"colorbar\":{\"outlinewidth\":0.0,\"ticks\":\"\"},\"colorscale\":[[0.0,\"#0d0887\"],[0.1111111111111111,\"#46039f\"],[0.2222222222222222,\"#7201a8\"],[0.3333333333333333,\"#9c179e\"],[0.4444444444444444,\"#bd3786\"],[0.5555555555555556,\"#d8576b\"],[0.6666666666666666,\"#ed7953\"],[0.7777777777777778,\"#fb9f3a\"],[0.8888888888888888,\"#fdca26\"],[1.0,\"#f0f921\"]]}],\"contourcarpet\":[{\"colorbar\":{\"outlinewidth\":0.0,\"ticks\":\"\"}}],\"heatmap\":[{\"colorbar\":{\"outlinewidth\":0.0,\"ticks\":\"\"},\"colorscale\":[[0.0,\"#0d0887\"],[0.1111111111111111,\"#46039f\"],[0.2222222222222222,\"#7201a8\"],[0.3333333333333333,\"#9c179e\"],[0.4444444444444444,\"#bd3786\"],[0.5555555555555556,\"#d8576b\"],[0.6666666666666666,\"#ed7953\"],[0.7777777777777778,\"#fb9f3a\"],[0.8888888888888888,\"#fdca26\"],[1.0,\"#f0f921\"]]}],\"heatmapgl\":[{\"colorbar\":{\"outlinewidth\":0.0,\"ticks\":\"\"},\"colorscale\":[[0.0,\"#0d0887\"],[0.1111111111111111,\"#46039f\"],[0.2222222222222222,\"#7201a8\"],[0.3333333333333333,\"#9c179e\"],[0.4444444444444444,\"#bd3786\"],[0.5555555555555556,\"#d8576b\"],[0.6666666666666666,\"#ed7953\"],[0.7777777777777778,\"#fb9f3a\"],[0.8888888888888888,\"#fdca26\"],[1.0,\"#f0f921\"]]}],\"histogram\":[{\"marker\":{\"pattern\":{\"fillmode\":\"overlay\",\"size\":10,\"solidity\":0.2}}}],\"histogram2d\":[{\"colorbar\":{\"outlinewidth\":0.0,\"ticks\":\"\"},\"colorscale\":[[0.0,\"#0d0887\"],[0.1111111111111111,\"#46039f\"],[0.2222222222222222,\"#7201a8\"],[0.3333333333333333,\"#9c179e\"],[0.4444444444444444,\"#bd3786\"],[0.5555555555555556,\"#d8576b\"],[0.6666666666666666,\"#ed7953\"],[0.7777777777777778,\"#fb9f3a\"],[0.8888888888888888,\"#fdca26\"],[1.0,\"#f0f921\"]]}],\"histogram2dcontour\":[{\"colorbar\":{\"outlinewidth\":0.0,\"ticks\":\"\"},\"colorscale\":[[0.0,\"#0d0887\"],[0.1111111111111111,\"#46039f\"],[0.2222222222222222,\"#7201a8\"],[0.3333333333333333,\"#9c179e\"],[0.4444444444444444,\"#bd3786\"],[0.5555555555555556,\"#d8576b\"],[0.6666666666666666,\"#ed7953\"],[0.7777777777777778,\"#fb9f3a\"],[0.8888888888888888,\"#fdca26\"],[1.0,\"#f0f921\"]]}],\"mesh3d\":[{\"colorbar\":{\"outlinewidth\":0.0,\"ticks\":\"\"}}],\"parcoords\":[{\"line\":{\"colorbar\":{\"outlinewidth\":0.0,\"ticks\":\"\"}}}],\"pie\":[{\"automargin\":true}],\"scatter\":[{\"marker\":{\"colorbar\":{\"outlinewidth\":0.0,\"ticks\":\"\"}}}],\"scatter3d\":[{\"marker\":{\"colorbar\":{\"outlinewidth\":0.0,\"ticks\":\"\"}},\"line\":{\"colorbar\":{\"outlinewidth\":0.0,\"ticks\":\"\"}}}],\"scattercarpet\":[{\"marker\":{\"colorbar\":{\"outlinewidth\":0.0,\"ticks\":\"\"}}}],\"scattergeo\":[{\"marker\":{\"colorbar\":{\"outlinewidth\":0.0,\"ticks\":\"\"}}}],\"scattergl\":[{\"marker\":{\"colorbar\":{\"outlinewidth\":0.0,\"ticks\":\"\"}}}],\"scattermapbox\":[{\"marker\":{\"colorbar\":{\"outlinewidth\":0.0,\"ticks\":\"\"}}}],\"scatterpolar\":[{\"marker\":{\"colorbar\":{\"outlinewidth\":0.0,\"ticks\":\"\"}}}],\"scatterpolargl\":[{\"marker\":{\"colorbar\":{\"outlinewidth\":0.0,\"ticks\":\"\"}}}],\"scatterternary\":[{\"marker\":{\"colorbar\":{\"outlinewidth\":0.0,\"ticks\":\"\"}}}],\"surface\":[{\"colorbar\":{\"outlinewidth\":0.0,\"ticks\":\"\"},\"colorscale\":[[0.0,\"#0d0887\"],[0.1111111111111111,\"#46039f\"],[0.2222222222222222,\"#7201a8\"],[0.3333333333333333,\"#9c179e\"],[0.4444444444444444,\"#bd3786\"],[0.5555555555555556,\"#d8576b\"],[0.6666666666666666,\"#ed7953\"],[0.7777777777777778,\"#fb9f3a\"],[0.8888888888888888,\"#fdca26\"],[1.0,\"#f0f921\"]]}],\"table\":[{\"cells\":{\"fill\":{\"color\":\"rgba(235, 240, 248, 1.0)\"},\"line\":{\"color\":\"rgba(255, 255, 255, 1.0)\"}},\"header\":{\"fill\":{\"color\":\"rgba(200, 212, 227, 1.0)\"},\"line\":{\"color\":\"rgba(255, 255, 255, 1.0)\"}}}]}}};\r\n",
       "            var config = {\"responsive\":true};\r\n",
       "            Plotly.newPlot('b3b31a4d-64b6-4d3b-9a39-cd0e2f4f934c', data, layout, config);\r\n",
       "});\r\n",
       "            };\r\n",
       "            if ((typeof(requirejs) !==  typeof(Function)) || (typeof(requirejs.config) !== typeof(Function))) {\r\n",
       "                var script = document.createElement(\"script\");\r\n",
       "                script.setAttribute(\"src\", \"https://cdnjs.cloudflare.com/ajax/libs/require.js/2.3.6/require.min.js\");\r\n",
       "                script.onload = function(){\r\n",
       "                    renderPlotly_b3b31a4d64b64d3b9a39cd0e2f4f934c();\r\n",
       "                };\r\n",
       "                document.getElementsByTagName(\"head\")[0].appendChild(script);\r\n",
       "            }\r\n",
       "            else {\r\n",
       "                renderPlotly_b3b31a4d64b64d3b9a39cd0e2f4f934c();\r\n",
       "            }\r\n",
       "</script>\r\n",
       "\n",
       "    \n",
       "</div>    \n"
      ]
     },
     "metadata": {},
     "output_type": "display_data"
    }
   ],
   "source": [
    "let x = [0.7; 0.8; 0.9; 1.0; 1.1;0.9; 1.0; 1.1; 0.9; 1.0; 1.1; 1.2]\n",
    "let y = [7. ; 7. ; 7. ;7. ; 7.  ; 2.5; 2.5; 2.5 ; 1. ; 1.; 1. ; 1.  ]\n",
    "\n",
    "Chart.Spline (x, y)\n",
    "\n"
   ]
  },
  {
   "cell_type": "markdown",
   "metadata": {},
   "source": [
    "Dieser Graph ist ein sogenanntes **Bifurkationsdiagramm**. **Bifurkation** beschreibt die qualitative Änderung des Zustandes eines Systems, das durch nicht lineare Gleichungen beschrieben wird, in Abhängigkeit der Veränderung eines Parameters der Teil der beschreibenden Gleichung ist. In diesem Fall haben sie den Parameter $\\gamma$ verändert und es kam zu einer sogenannten **Saddle-Node Bifurkation**. Bei dieser Bifurkation verliert ein System zwei Punktattraktionen wenn der Bifurkationsparameter einen bestimmten Wert erreicht. Dabei wandern die beiden Punktattraktionen aufeinander zu, wenn sich der Bifurkationsparameter diesen Wert nähert und voneinander weg wenn er sich von diesem Wert entfernt. Das heißt das System wechselt zwischen den beiden Konformationen **bistabil** und **monostabil**, weshalb von einer qualitativen Änderung gesprochen wird."
   ]
  },
  {
   "cell_type": "markdown",
   "metadata": {},
   "source": [
    "Es folgt eine kurze Besprechung. Falls Sie schnell vorangekommen sind, können sie bis zur Besprechung folgende Aufgaben lösen.<br>\n",
    "\n",
    "##### Expertenaufgabe 4.1\n",
    "\n",
    "***Stellen sie die Differenzialgleichung für ein Model auf das neben der intrazellulären Lactosekonzentration auch die Konzentration von $\\beta -\\textrm {Galactosid-Permease}$ umfasst.<br>\n",
    "Fügen sie die Gleichungen in die nachfolgende Simulation ein (beachten sie das die Gleichung für die Lactosekonzentration die Konstanten \"alpha1\", \"beta1\", und \"gamma1\", ohne \"\", hat und die Gleichung für die Konzentration von $\\beta -\\textrm {Galactosid-Permease}$ die Konstanten \"alpha2\", \"beta2\", und \"gamma2\", ohne\"\". Die Konzentration von $\\beta -\\textrm {Galactosid-Permease}$ soll \"perm\", ohne \"\", genannt werden. ).***"
   ]
  },
  {
   "cell_type": "code",
   "execution_count": null,
   "metadata": {
    "dotnet_interactive": {
     "language": "fsharp"
    },
    "vscode": {
     "languageId": "dotnet-interactive.fsharp"
    }
   },
   "outputs": [
    {
     "data": {
      "text/html": [
       "\n",
       "<div>\n",
       "    <div id=\"81f94e13-8a9e-427a-829a-a4cd404750b9\"><!-- Plotly chart will be drawn inside this DIV --></div>\r\n",
       "<script type=\"text/javascript\">\r\n",
       "\r\n",
       "            var renderPlotly_81f94e138a9e427a829aa4cd404750b9 = function() {\r\n",
       "            var fsharpPlotlyRequire = requirejs.config({context:'fsharp-plotly',paths:{plotly:'https://cdn.plot.ly/plotly-2.6.3.min'}}) || require;\r\n",
       "            fsharpPlotlyRequire(['plotly'], function(Plotly) {\r\n",
       "\r\n",
       "            var data = [{\"type\":\"scatter\",\"mode\":\"lines\",\"x\":[0.0,0.7926732333241069,1.490678071390128,2.212438001638085,3.1198894622384294,4.1903114703129285,5.287408495047005,6.43163117949292,7.660695182487807,8.997426605181754,10.539092758018517,11.824046079963535,12.94340609516845,13.987145890334155,15.027631846241691],\"y\":[0.0,0.28425444999019045,0.4369602793601368,0.5620010463816565,0.7042919373168715,0.8708514262400979,1.0568820977155842,1.2933416232151904,1.6534454000592784,2.334703139807276,3.983954543743302,6.053324963344762,7.572644797396418,8.475710094567802,8.997516192338194],\"marker\":{},\"line\":{\"shape\":\"spline\"},\"name\":\"Lactose\"},{\"type\":\"scatter\",\"mode\":\"lines\",\"x\":[0.0,0.7926732333241069,1.490678071390128,2.212438001638085,3.1198894622384294,4.1903114703129285,5.287408495047005,6.43163117949292,7.660695182487807,8.997426605181754,10.539092758018517,11.824046079963535,12.94340609516845,13.987145890334155,15.027631846241691],\"y\":[0.0,0.3361812503551675,0.5641197710039557,0.7575827600835271,0.9637142569717132,1.1834963590252214,1.4131854354730957,1.6948563963960424,2.116523766683493,2.915679876110606,4.952353008757916,7.896332309006342,10.565835588034364,12.562199174108803,13.998545142330604],\"marker\":{},\"line\":{\"shape\":\"spline\"},\"name\":\"Permease\"}];\r\n",
       "            var layout = {\"width\":600,\"height\":600,\"template\":{\"layout\":{\"title\":{\"x\":0.05},\"font\":{\"color\":\"rgba(42, 63, 95, 1.0)\"},\"paper_bgcolor\":\"rgba(255, 255, 255, 1.0)\",\"plot_bgcolor\":\"rgba(229, 236, 246, 1.0)\",\"autotypenumbers\":\"strict\",\"colorscale\":{\"diverging\":[[0.0,\"#8e0152\"],[0.1,\"#c51b7d\"],[0.2,\"#de77ae\"],[0.3,\"#f1b6da\"],[0.4,\"#fde0ef\"],[0.5,\"#f7f7f7\"],[0.6,\"#e6f5d0\"],[0.7,\"#b8e186\"],[0.8,\"#7fbc41\"],[0.9,\"#4d9221\"],[1.0,\"#276419\"]],\"sequential\":[[0.0,\"#0d0887\"],[0.1111111111111111,\"#46039f\"],[0.2222222222222222,\"#7201a8\"],[0.3333333333333333,\"#9c179e\"],[0.4444444444444444,\"#bd3786\"],[0.5555555555555556,\"#d8576b\"],[0.6666666666666666,\"#ed7953\"],[0.7777777777777778,\"#fb9f3a\"],[0.8888888888888888,\"#fdca26\"],[1.0,\"#f0f921\"]],\"sequentialminus\":[[0.0,\"#0d0887\"],[0.1111111111111111,\"#46039f\"],[0.2222222222222222,\"#7201a8\"],[0.3333333333333333,\"#9c179e\"],[0.4444444444444444,\"#bd3786\"],[0.5555555555555556,\"#d8576b\"],[0.6666666666666666,\"#ed7953\"],[0.7777777777777778,\"#fb9f3a\"],[0.8888888888888888,\"#fdca26\"],[1.0,\"#f0f921\"]]},\"hovermode\":\"closest\",\"hoverlabel\":{\"align\":\"left\"},\"coloraxis\":{\"colorbar\":{\"outlinewidth\":0.0,\"ticks\":\"\"}},\"geo\":{\"showland\":true,\"landcolor\":\"rgba(229, 236, 246, 1.0)\",\"showlakes\":true,\"lakecolor\":\"rgba(255, 255, 255, 1.0)\",\"subunitcolor\":\"rgba(255, 255, 255, 1.0)\",\"bgcolor\":\"rgba(255, 255, 255, 1.0)\"},\"mapbox\":{\"style\":\"light\"},\"polar\":{\"bgcolor\":\"rgba(229, 236, 246, 1.0)\",\"radialaxis\":{\"linecolor\":\"rgba(255, 255, 255, 1.0)\",\"gridcolor\":\"rgba(255, 255, 255, 1.0)\",\"ticks\":\"\"},\"angularaxis\":{\"linecolor\":\"rgba(255, 255, 255, 1.0)\",\"gridcolor\":\"rgba(255, 255, 255, 1.0)\",\"ticks\":\"\"}},\"scene\":{\"xaxis\":{\"ticks\":\"\",\"linecolor\":\"rgba(255, 255, 255, 1.0)\",\"gridcolor\":\"rgba(255, 255, 255, 1.0)\",\"gridwidth\":2.0,\"zerolinecolor\":\"rgba(255, 255, 255, 1.0)\",\"backgroundcolor\":\"rgba(229, 236, 246, 1.0)\",\"showbackground\":true},\"yaxis\":{\"ticks\":\"\",\"linecolor\":\"rgba(255, 255, 255, 1.0)\",\"gridcolor\":\"rgba(255, 255, 255, 1.0)\",\"gridwidth\":2.0,\"zerolinecolor\":\"rgba(255, 255, 255, 1.0)\",\"backgroundcolor\":\"rgba(229, 236, 246, 1.0)\",\"showbackground\":true},\"zaxis\":{\"ticks\":\"\",\"linecolor\":\"rgba(255, 255, 255, 1.0)\",\"gridcolor\":\"rgba(255, 255, 255, 1.0)\",\"gridwidth\":2.0,\"zerolinecolor\":\"rgba(255, 255, 255, 1.0)\",\"backgroundcolor\":\"rgba(229, 236, 246, 1.0)\",\"showbackground\":true}},\"ternary\":{\"aaxis\":{\"ticks\":\"\",\"linecolor\":\"rgba(255, 255, 255, 1.0)\",\"gridcolor\":\"rgba(255, 255, 255, 1.0)\"},\"baxis\":{\"ticks\":\"\",\"linecolor\":\"rgba(255, 255, 255, 1.0)\",\"gridcolor\":\"rgba(255, 255, 255, 1.0)\"},\"caxis\":{\"ticks\":\"\",\"linecolor\":\"rgba(255, 255, 255, 1.0)\",\"gridcolor\":\"rgba(255, 255, 255, 1.0)\"},\"bgcolor\":\"rgba(229, 236, 246, 1.0)\"},\"xaxis\":{\"title\":{\"standoff\":15},\"ticks\":\"\",\"automargin\":true,\"linecolor\":\"rgba(255, 255, 255, 1.0)\",\"gridcolor\":\"rgba(255, 255, 255, 1.0)\",\"zerolinecolor\":\"rgba(255, 255, 255, 1.0)\",\"zerolinewidth\":2.0},\"yaxis\":{\"title\":{\"standoff\":15},\"ticks\":\"\",\"automargin\":true,\"linecolor\":\"rgba(255, 255, 255, 1.0)\",\"gridcolor\":\"rgba(255, 255, 255, 1.0)\",\"zerolinecolor\":\"rgba(255, 255, 255, 1.0)\",\"zerolinewidth\":2.0},\"annotationdefaults\":{\"arrowcolor\":\"#2a3f5f\",\"arrowhead\":0,\"arrowwidth\":1},\"shapedefaults\":{\"line\":{\"color\":\"rgba(42, 63, 95, 1.0)\"}},\"colorway\":[\"rgba(99, 110, 250, 1.0)\",\"rgba(239, 85, 59, 1.0)\",\"rgba(0, 204, 150, 1.0)\",\"rgba(171, 99, 250, 1.0)\",\"rgba(255, 161, 90, 1.0)\",\"rgba(25, 211, 243, 1.0)\",\"rgba(255, 102, 146, 1.0)\",\"rgba(182, 232, 128, 1.0)\",\"rgba(255, 151, 255, 1.0)\",\"rgba(254, 203, 82, 1.0)\"]},\"data\":{\"bar\":[{\"marker\":{\"line\":{\"color\":\"rgba(229, 236, 246, 1.0)\",\"width\":0.5},\"pattern\":{\"fillmode\":\"overlay\",\"size\":10,\"solidity\":0.2}},\"error_x\":{\"color\":\"rgba(42, 63, 95, 1.0)\"},\"error_y\":{\"color\":\"rgba(42, 63, 95, 1.0)\"}}],\"barpolar\":[{\"marker\":{\"line\":{\"color\":\"rgba(229, 236, 246, 1.0)\",\"width\":0.5},\"pattern\":{\"fillmode\":\"overlay\",\"size\":10,\"solidity\":0.2}}}],\"carpet\":[{\"aaxis\":{\"linecolor\":\"rgba(255, 255, 255, 1.0)\",\"gridcolor\":\"rgba(255, 255, 255, 1.0)\",\"endlinecolor\":\"rgba(42, 63, 95, 1.0)\",\"minorgridcolor\":\"rgba(255, 255, 255, 1.0)\",\"startlinecolor\":\"rgba(42, 63, 95, 1.0)\"},\"baxis\":{\"linecolor\":\"rgba(255, 255, 255, 1.0)\",\"gridcolor\":\"rgba(255, 255, 255, 1.0)\",\"endlinecolor\":\"rgba(42, 63, 95, 1.0)\",\"minorgridcolor\":\"rgba(255, 255, 255, 1.0)\",\"startlinecolor\":\"rgba(42, 63, 95, 1.0)\"}}],\"choropleth\":[{\"colorbar\":{\"outlinewidth\":0.0,\"ticks\":\"\"},\"colorscale\":[[0.0,\"#0d0887\"],[0.1111111111111111,\"#46039f\"],[0.2222222222222222,\"#7201a8\"],[0.3333333333333333,\"#9c179e\"],[0.4444444444444444,\"#bd3786\"],[0.5555555555555556,\"#d8576b\"],[0.6666666666666666,\"#ed7953\"],[0.7777777777777778,\"#fb9f3a\"],[0.8888888888888888,\"#fdca26\"],[1.0,\"#f0f921\"]]}],\"contour\":[{\"colorbar\":{\"outlinewidth\":0.0,\"ticks\":\"\"},\"colorscale\":[[0.0,\"#0d0887\"],[0.1111111111111111,\"#46039f\"],[0.2222222222222222,\"#7201a8\"],[0.3333333333333333,\"#9c179e\"],[0.4444444444444444,\"#bd3786\"],[0.5555555555555556,\"#d8576b\"],[0.6666666666666666,\"#ed7953\"],[0.7777777777777778,\"#fb9f3a\"],[0.8888888888888888,\"#fdca26\"],[1.0,\"#f0f921\"]]}],\"contourcarpet\":[{\"colorbar\":{\"outlinewidth\":0.0,\"ticks\":\"\"}}],\"heatmap\":[{\"colorbar\":{\"outlinewidth\":0.0,\"ticks\":\"\"},\"colorscale\":[[0.0,\"#0d0887\"],[0.1111111111111111,\"#46039f\"],[0.2222222222222222,\"#7201a8\"],[0.3333333333333333,\"#9c179e\"],[0.4444444444444444,\"#bd3786\"],[0.5555555555555556,\"#d8576b\"],[0.6666666666666666,\"#ed7953\"],[0.7777777777777778,\"#fb9f3a\"],[0.8888888888888888,\"#fdca26\"],[1.0,\"#f0f921\"]]}],\"heatmapgl\":[{\"colorbar\":{\"outlinewidth\":0.0,\"ticks\":\"\"},\"colorscale\":[[0.0,\"#0d0887\"],[0.1111111111111111,\"#46039f\"],[0.2222222222222222,\"#7201a8\"],[0.3333333333333333,\"#9c179e\"],[0.4444444444444444,\"#bd3786\"],[0.5555555555555556,\"#d8576b\"],[0.6666666666666666,\"#ed7953\"],[0.7777777777777778,\"#fb9f3a\"],[0.8888888888888888,\"#fdca26\"],[1.0,\"#f0f921\"]]}],\"histogram\":[{\"marker\":{\"pattern\":{\"fillmode\":\"overlay\",\"size\":10,\"solidity\":0.2}}}],\"histogram2d\":[{\"colorbar\":{\"outlinewidth\":0.0,\"ticks\":\"\"},\"colorscale\":[[0.0,\"#0d0887\"],[0.1111111111111111,\"#46039f\"],[0.2222222222222222,\"#7201a8\"],[0.3333333333333333,\"#9c179e\"],[0.4444444444444444,\"#bd3786\"],[0.5555555555555556,\"#d8576b\"],[0.6666666666666666,\"#ed7953\"],[0.7777777777777778,\"#fb9f3a\"],[0.8888888888888888,\"#fdca26\"],[1.0,\"#f0f921\"]]}],\"histogram2dcontour\":[{\"colorbar\":{\"outlinewidth\":0.0,\"ticks\":\"\"},\"colorscale\":[[0.0,\"#0d0887\"],[0.1111111111111111,\"#46039f\"],[0.2222222222222222,\"#7201a8\"],[0.3333333333333333,\"#9c179e\"],[0.4444444444444444,\"#bd3786\"],[0.5555555555555556,\"#d8576b\"],[0.6666666666666666,\"#ed7953\"],[0.7777777777777778,\"#fb9f3a\"],[0.8888888888888888,\"#fdca26\"],[1.0,\"#f0f921\"]]}],\"mesh3d\":[{\"colorbar\":{\"outlinewidth\":0.0,\"ticks\":\"\"}}],\"parcoords\":[{\"line\":{\"colorbar\":{\"outlinewidth\":0.0,\"ticks\":\"\"}}}],\"pie\":[{\"automargin\":true}],\"scatter\":[{\"marker\":{\"colorbar\":{\"outlinewidth\":0.0,\"ticks\":\"\"}}}],\"scatter3d\":[{\"marker\":{\"colorbar\":{\"outlinewidth\":0.0,\"ticks\":\"\"}},\"line\":{\"colorbar\":{\"outlinewidth\":0.0,\"ticks\":\"\"}}}],\"scattercarpet\":[{\"marker\":{\"colorbar\":{\"outlinewidth\":0.0,\"ticks\":\"\"}}}],\"scattergeo\":[{\"marker\":{\"colorbar\":{\"outlinewidth\":0.0,\"ticks\":\"\"}}}],\"scattergl\":[{\"marker\":{\"colorbar\":{\"outlinewidth\":0.0,\"ticks\":\"\"}}}],\"scattermapbox\":[{\"marker\":{\"colorbar\":{\"outlinewidth\":0.0,\"ticks\":\"\"}}}],\"scatterpolar\":[{\"marker\":{\"colorbar\":{\"outlinewidth\":0.0,\"ticks\":\"\"}}}],\"scatterpolargl\":[{\"marker\":{\"colorbar\":{\"outlinewidth\":0.0,\"ticks\":\"\"}}}],\"scatterternary\":[{\"marker\":{\"colorbar\":{\"outlinewidth\":0.0,\"ticks\":\"\"}}}],\"surface\":[{\"colorbar\":{\"outlinewidth\":0.0,\"ticks\":\"\"},\"colorscale\":[[0.0,\"#0d0887\"],[0.1111111111111111,\"#46039f\"],[0.2222222222222222,\"#7201a8\"],[0.3333333333333333,\"#9c179e\"],[0.4444444444444444,\"#bd3786\"],[0.5555555555555556,\"#d8576b\"],[0.6666666666666666,\"#ed7953\"],[0.7777777777777778,\"#fb9f3a\"],[0.8888888888888888,\"#fdca26\"],[1.0,\"#f0f921\"]]}],\"table\":[{\"cells\":{\"fill\":{\"color\":\"rgba(235, 240, 248, 1.0)\"},\"line\":{\"color\":\"rgba(255, 255, 255, 1.0)\"}},\"header\":{\"fill\":{\"color\":\"rgba(200, 212, 227, 1.0)\"},\"line\":{\"color\":\"rgba(255, 255, 255, 1.0)\"}}}]}},\"xaxis\":{\"title\":{\"text\":\"Zeit\"}},\"yaxis\":{\"title\":{\"text\":\"Konzentration\"}}};\r\n",
       "            var config = {\"responsive\":true};\r\n",
       "            Plotly.newPlot('81f94e13-8a9e-427a-829a-a4cd404750b9', data, layout, config);\r\n",
       "});\r\n",
       "            };\r\n",
       "            if ((typeof(requirejs) !==  typeof(Function)) || (typeof(requirejs.config) !== typeof(Function))) {\r\n",
       "                var script = document.createElement(\"script\");\r\n",
       "                script.setAttribute(\"src\", \"https://cdnjs.cloudflare.com/ajax/libs/require.js/2.3.6/require.min.js\");\r\n",
       "                script.onload = function(){\r\n",
       "                    renderPlotly_81f94e138a9e427a829aa4cd404750b9();\r\n",
       "                };\r\n",
       "                document.getElementsByTagName(\"head\")[0].appendChild(script);\r\n",
       "            }\r\n",
       "            else {\r\n",
       "                renderPlotly_81f94e138a9e427a829aa4cd404750b9();\r\n",
       "            }\r\n",
       "</script>\r\n",
       "\n",
       "    \n",
       "</div>    \n"
      ]
     },
     "metadata": {},
     "output_type": "display_data"
    }
   ],
   "source": [
    "//Konstanten\n",
    "let alpha1 =  0.5  // Konstante für die Zunahme der Lactosekonzentration (unreguliert)\n",
    "let beta1  =  10.0 // Konstante für die Zunahme der Lactosekonzentration (reguliert)\n",
    "let gamma1 =  1.0  // Konstante für die Verringerung der Lactosekonzentration\n",
    "let alpha2 =  0.5  // Konstante für die Zunahme der beta-Galactosid-Permease Konzentration (unreguliert)\n",
    "let beta2  =  10.0 // Konstante für die Zunahme der beta-Galactosid-Permease Konzentration (reguliert)\n",
    "let gamma2 =  0.5  // Konstante für die Verringerung der beta-Galactosid-Permease Konzentration\n",
    "let K_d1   =  5.0  // Dissoziationskonstante1\n",
    "let K_d2   =  5.0  // Dissoziationskonstante1\n",
    "\n",
    "// unsere DGL als  Modell (Model)\n",
    "let dP_dt : Model = \n",
    "    fun P t ->\n",
    "\n",
    "        let inlac = P[0] // Änderung in der Lactosekonzentration\n",
    "        let perm  = P[1] // Änderung der beta-Galactosid Permease Konzentration\n",
    "\n",
    "        //Differenzialgleichung die die Änderung in der Lactosekonzentration beschreibt (hier die Gleichung einsetzen)\n",
    "        let inlac' = alpha1 + beta1 * (perm**2.)/((perm**2.) + (K_d**2.)) - (gamma1*inlac)\n",
    "        //Differenzialgleichung die die Änderung in der beta-Galactosid Permease Konzentration beschreibt (hier die Gleichung einsetzen)\n",
    "        let perm' = alpha2 + beta2* (inlac**2.)/((inlac**2.) + (K_d2**2.)) - (gamma2*perm)\n",
    "\n",
    "        [| inlac'; perm' |]\n",
    "\n",
    "//Startkonzentrationen\n",
    "let P0 = [| \n",
    "    0.0\n",
    "    0.0\n",
    "|]\n",
    "\n",
    "// Simulation der Modelfuntkion\n",
    "let Ps = \n",
    "    modelContext.OdeInt(\n",
    "        0., // Startzeitpunkt\n",
    "        P0,\n",
    "        dP_dt\n",
    "    )\n",
    "    |> SolPoints.take 15 // Anzahl der Zeitpunkte\n",
    "    |> SolPoints.memorize \n",
    "\n",
    "//Graphische Darstellung der numerischen Lösung\n",
    "[\n",
    "    let lactose = SolPoints.toPoints 1 Ps\n",
    "    lactose \n",
    "    |> Chart.Spline \n",
    "    |> Chart.withTraceInfo(\"Lactose\");\n",
    "    let permease = SolPoints.toPoints 2 Ps\n",
    "    permease \n",
    "    |> Chart.Spline \n",
    "    |> Chart.withTraceInfo(\"Permease\");\n",
    "\n",
    "]\n",
    "\n",
    "|> Chart.combine\n",
    "|> Chart.withXAxisStyle(\"Zeit\")\n",
    "|> Chart.withYAxisStyle(\"Konzentration\")"
   ]
  },
  {
   "cell_type": "markdown",
   "metadata": {},
   "source": [
    "---------\n",
    "### Hill Funktion und Ultrasensitivität\n",
    "\n",
    "Die Umgebung von einer Zelle ändert sich dauerhaft, da sich die Konzentrationen von allen Molekülen um die Zelle dauerhaft ändern. Durch aktiven oder passiven Import der Zelle, oder benachbarter Zellen, durch Export von bestimmten Molekülen, oder durch Diffusion und einige Möglichkeiten zu nennen. Die Zelle muss konstant die Expression von Genen und damit auch die Produktion von Proteinen an diese Veränderungen anpassen. Wie beim lac Operon gezeigt ist dies in vielen Fällen nicht möglich mit den am Vortrag besprochenen Differenzialgleichungen. Dies liegt daran das diesen Prozessen kein linearer Zusammenhang zu Grund liegt, sondern ein **ultrasensitives** Verhalten.\n",
    "Das heißt das ein Prozess nur dann stattfindet wenn ein bestimmter Schwellenwert überschritten wird, während es davor keinen Effekt gibt. Oft ist dieses ultrasensitive Verhalten bedingt durch **Kooperativität**. Beim lac Operon führte dieses ultrasensitves Verhalten dazu das es nur bei hohen Anfangskonzentration zu einem Verstärkten Import von Lactose kam. Allerdings musste dies bewerkstelligt werden durch das Einführen eines Faktors hoch 2. Dieser Faktor beschreibt allerdings nicht alle möglichen Prozesse und ist auch nicht sehr allgemein. Daher wird für die mathematische Beschreibung von solchen Ultrasensitiven Prozessen in der Biologie zumeist die Hillfunktion verwendet. Das Anwenden von dieser auf die bisher besprochenen negative Autoregulation führt zu der folgenden Differenzialgleichung \n",
    "$$ \\frac {dProteinkonzentration} {dt} = \\beta* \\frac {1}{1+ (\\frac {Proteinkonzentration}{K_{D}})^{n}}  - \\gamma*Proteinkonzentration$$\n",
    "\n",
    "die Gleichung für eine ultrasentives Verhalten von einer Proteinproduktion die durch einen Repressor beeinflusst wird ist identisch, nur müssen sie die Proteinkonzentration im Term, der $\\beta$ beeinflusst, durch die Repressorkonzentration ersetzten. Die Differenzialgleichung für positive Autoregulation ist \n",
    "$$ \\frac {dProteinkonzentration} {dt} = \\beta* \\frac {Proteinkonzentration^{n}}{{(K_{D})^{n}} + Proteinkonzentration^{n}} - \\gamma*Proteinkonzentration$$\n",
    "auch hier führt das ersetzten der Proteinkonzentration, im $\\beta$ beeinflussenden Term, mit der Aktivatorkonzentration zu der Gleichung für eine Proteinproduktion die von diesem beeinflusst wird. \n",
    "Der Parameter $n$ ist der Hillkoeffizent und beschreibt wie stark das ultrasensitve Verhalten ist. Ein Wert von 1 beschreibt die bisher besprochenen Verhaltensweisen, während ein Wert von 2 oder höher das ulatrsensitive Verhalten beschreibt. \n",
    "Im nachfolgenden soll überprüft werden, ob die Hill Funktion wirklich so wirkt wie besprochen.\n",
    "\n",
    "##### Aufgabe 4.10\n",
    "\n",
    "***Setzen sie die Gleichung für positive Autoregulation in die nachfolgende Simulation ein, dabei sollte die positive Autoregulation durch eine Hill Funktion beschrieben werden (Bitte beachten sie, dass sie die Proteinkonzentration als \"Proteinkonznetration2\" einsetzten müssen, ohne \"\". Beachten sie ebenfalls das $\\beta \\textrm{ und } \\gamma$ als \"beta\" und \"gamma\", ohne \"\", eingesetzt werden müssen und nicht als Symbole, und das $K_{D}$ als K_d eingesetzt wird).***\n"
   ]
  },
  {
   "cell_type": "code",
   "execution_count": null,
   "metadata": {
    "dotnet_interactive": {
     "language": "fsharp"
    },
    "vscode": {
     "languageId": "dotnet-interactive.fsharp"
    }
   },
   "outputs": [
    {
     "data": {
      "text/html": [
       "\n",
       "<div>\n",
       "    <div id=\"058edb12-3c50-4665-a7b8-12b330f55059\"><!-- Plotly chart will be drawn inside this DIV --></div>\r\n",
       "<script type=\"text/javascript\">\r\n",
       "\r\n",
       "            var renderPlotly_058edb123c504665a7b812b330f55059 = function() {\r\n",
       "            var fsharpPlotlyRequire = requirejs.config({context:'fsharp-plotly',paths:{plotly:'https://cdn.plot.ly/plotly-2.6.3.min'}}) || require;\r\n",
       "            fsharpPlotlyRequire(['plotly'], function(Plotly) {\r\n",
       "\r\n",
       "            var data = [{\"type\":\"scatter\",\"mode\":\"lines\",\"x\":[0.0,0.7856628194647389,1.4677523343222774,2.140200428251707,2.8783196297251274,3.713146045827365,4.666808620938143,5.766151026754663,7.04859282945031,8.565728422165778],\"y\":[0.0,5.441818349247017,7.695574452961647,8.823692315556546,9.43771161124187,9.755992981929104,9.905971973807508,9.968671476810862,9.991299607113897,9.998079632811486],\"marker\":{},\"line\":{\"shape\":\"spline\"},\"name\":\"Unreguliert\"},{\"type\":\"scatter\",\"mode\":\"lines\",\"x\":[0.0,0.7856628194647389,1.4677523343222774,2.140200428251707,2.8783196297251274,3.713146045827365,4.666808620938143,5.766151026754663,7.04859282945031,8.565728422165778],\"y\":[4.0,4.838882882019207,5.5725525403759955,6.209493776413471,6.763815588904103,7.211411213324171,7.539458791766505,7.756717922535201,7.885903968592316,7.953793682015552],\"marker\":{},\"line\":{\"shape\":\"spline\"},\"name\":\"negative AR\"}];\r\n",
       "            var layout = {\"width\":600,\"height\":600,\"template\":{\"layout\":{\"title\":{\"x\":0.05},\"font\":{\"color\":\"rgba(42, 63, 95, 1.0)\"},\"paper_bgcolor\":\"rgba(255, 255, 255, 1.0)\",\"plot_bgcolor\":\"rgba(229, 236, 246, 1.0)\",\"autotypenumbers\":\"strict\",\"colorscale\":{\"diverging\":[[0.0,\"#8e0152\"],[0.1,\"#c51b7d\"],[0.2,\"#de77ae\"],[0.3,\"#f1b6da\"],[0.4,\"#fde0ef\"],[0.5,\"#f7f7f7\"],[0.6,\"#e6f5d0\"],[0.7,\"#b8e186\"],[0.8,\"#7fbc41\"],[0.9,\"#4d9221\"],[1.0,\"#276419\"]],\"sequential\":[[0.0,\"#0d0887\"],[0.1111111111111111,\"#46039f\"],[0.2222222222222222,\"#7201a8\"],[0.3333333333333333,\"#9c179e\"],[0.4444444444444444,\"#bd3786\"],[0.5555555555555556,\"#d8576b\"],[0.6666666666666666,\"#ed7953\"],[0.7777777777777778,\"#fb9f3a\"],[0.8888888888888888,\"#fdca26\"],[1.0,\"#f0f921\"]],\"sequentialminus\":[[0.0,\"#0d0887\"],[0.1111111111111111,\"#46039f\"],[0.2222222222222222,\"#7201a8\"],[0.3333333333333333,\"#9c179e\"],[0.4444444444444444,\"#bd3786\"],[0.5555555555555556,\"#d8576b\"],[0.6666666666666666,\"#ed7953\"],[0.7777777777777778,\"#fb9f3a\"],[0.8888888888888888,\"#fdca26\"],[1.0,\"#f0f921\"]]},\"hovermode\":\"closest\",\"hoverlabel\":{\"align\":\"left\"},\"coloraxis\":{\"colorbar\":{\"outlinewidth\":0.0,\"ticks\":\"\"}},\"geo\":{\"showland\":true,\"landcolor\":\"rgba(229, 236, 246, 1.0)\",\"showlakes\":true,\"lakecolor\":\"rgba(255, 255, 255, 1.0)\",\"subunitcolor\":\"rgba(255, 255, 255, 1.0)\",\"bgcolor\":\"rgba(255, 255, 255, 1.0)\"},\"mapbox\":{\"style\":\"light\"},\"polar\":{\"bgcolor\":\"rgba(229, 236, 246, 1.0)\",\"radialaxis\":{\"linecolor\":\"rgba(255, 255, 255, 1.0)\",\"gridcolor\":\"rgba(255, 255, 255, 1.0)\",\"ticks\":\"\"},\"angularaxis\":{\"linecolor\":\"rgba(255, 255, 255, 1.0)\",\"gridcolor\":\"rgba(255, 255, 255, 1.0)\",\"ticks\":\"\"}},\"scene\":{\"xaxis\":{\"ticks\":\"\",\"linecolor\":\"rgba(255, 255, 255, 1.0)\",\"gridcolor\":\"rgba(255, 255, 255, 1.0)\",\"gridwidth\":2.0,\"zerolinecolor\":\"rgba(255, 255, 255, 1.0)\",\"backgroundcolor\":\"rgba(229, 236, 246, 1.0)\",\"showbackground\":true},\"yaxis\":{\"ticks\":\"\",\"linecolor\":\"rgba(255, 255, 255, 1.0)\",\"gridcolor\":\"rgba(255, 255, 255, 1.0)\",\"gridwidth\":2.0,\"zerolinecolor\":\"rgba(255, 255, 255, 1.0)\",\"backgroundcolor\":\"rgba(229, 236, 246, 1.0)\",\"showbackground\":true},\"zaxis\":{\"ticks\":\"\",\"linecolor\":\"rgba(255, 255, 255, 1.0)\",\"gridcolor\":\"rgba(255, 255, 255, 1.0)\",\"gridwidth\":2.0,\"zerolinecolor\":\"rgba(255, 255, 255, 1.0)\",\"backgroundcolor\":\"rgba(229, 236, 246, 1.0)\",\"showbackground\":true}},\"ternary\":{\"aaxis\":{\"ticks\":\"\",\"linecolor\":\"rgba(255, 255, 255, 1.0)\",\"gridcolor\":\"rgba(255, 255, 255, 1.0)\"},\"baxis\":{\"ticks\":\"\",\"linecolor\":\"rgba(255, 255, 255, 1.0)\",\"gridcolor\":\"rgba(255, 255, 255, 1.0)\"},\"caxis\":{\"ticks\":\"\",\"linecolor\":\"rgba(255, 255, 255, 1.0)\",\"gridcolor\":\"rgba(255, 255, 255, 1.0)\"},\"bgcolor\":\"rgba(229, 236, 246, 1.0)\"},\"xaxis\":{\"title\":{\"standoff\":15},\"ticks\":\"\",\"automargin\":true,\"linecolor\":\"rgba(255, 255, 255, 1.0)\",\"gridcolor\":\"rgba(255, 255, 255, 1.0)\",\"zerolinecolor\":\"rgba(255, 255, 255, 1.0)\",\"zerolinewidth\":2.0},\"yaxis\":{\"title\":{\"standoff\":15},\"ticks\":\"\",\"automargin\":true,\"linecolor\":\"rgba(255, 255, 255, 1.0)\",\"gridcolor\":\"rgba(255, 255, 255, 1.0)\",\"zerolinecolor\":\"rgba(255, 255, 255, 1.0)\",\"zerolinewidth\":2.0},\"annotationdefaults\":{\"arrowcolor\":\"#2a3f5f\",\"arrowhead\":0,\"arrowwidth\":1},\"shapedefaults\":{\"line\":{\"color\":\"rgba(42, 63, 95, 1.0)\"}},\"colorway\":[\"rgba(99, 110, 250, 1.0)\",\"rgba(239, 85, 59, 1.0)\",\"rgba(0, 204, 150, 1.0)\",\"rgba(171, 99, 250, 1.0)\",\"rgba(255, 161, 90, 1.0)\",\"rgba(25, 211, 243, 1.0)\",\"rgba(255, 102, 146, 1.0)\",\"rgba(182, 232, 128, 1.0)\",\"rgba(255, 151, 255, 1.0)\",\"rgba(254, 203, 82, 1.0)\"]},\"data\":{\"bar\":[{\"marker\":{\"line\":{\"color\":\"rgba(229, 236, 246, 1.0)\",\"width\":0.5},\"pattern\":{\"fillmode\":\"overlay\",\"size\":10,\"solidity\":0.2}},\"error_x\":{\"color\":\"rgba(42, 63, 95, 1.0)\"},\"error_y\":{\"color\":\"rgba(42, 63, 95, 1.0)\"}}],\"barpolar\":[{\"marker\":{\"line\":{\"color\":\"rgba(229, 236, 246, 1.0)\",\"width\":0.5},\"pattern\":{\"fillmode\":\"overlay\",\"size\":10,\"solidity\":0.2}}}],\"carpet\":[{\"aaxis\":{\"linecolor\":\"rgba(255, 255, 255, 1.0)\",\"gridcolor\":\"rgba(255, 255, 255, 1.0)\",\"endlinecolor\":\"rgba(42, 63, 95, 1.0)\",\"minorgridcolor\":\"rgba(255, 255, 255, 1.0)\",\"startlinecolor\":\"rgba(42, 63, 95, 1.0)\"},\"baxis\":{\"linecolor\":\"rgba(255, 255, 255, 1.0)\",\"gridcolor\":\"rgba(255, 255, 255, 1.0)\",\"endlinecolor\":\"rgba(42, 63, 95, 1.0)\",\"minorgridcolor\":\"rgba(255, 255, 255, 1.0)\",\"startlinecolor\":\"rgba(42, 63, 95, 1.0)\"}}],\"choropleth\":[{\"colorbar\":{\"outlinewidth\":0.0,\"ticks\":\"\"},\"colorscale\":[[0.0,\"#0d0887\"],[0.1111111111111111,\"#46039f\"],[0.2222222222222222,\"#7201a8\"],[0.3333333333333333,\"#9c179e\"],[0.4444444444444444,\"#bd3786\"],[0.5555555555555556,\"#d8576b\"],[0.6666666666666666,\"#ed7953\"],[0.7777777777777778,\"#fb9f3a\"],[0.8888888888888888,\"#fdca26\"],[1.0,\"#f0f921\"]]}],\"contour\":[{\"colorbar\":{\"outlinewidth\":0.0,\"ticks\":\"\"},\"colorscale\":[[0.0,\"#0d0887\"],[0.1111111111111111,\"#46039f\"],[0.2222222222222222,\"#7201a8\"],[0.3333333333333333,\"#9c179e\"],[0.4444444444444444,\"#bd3786\"],[0.5555555555555556,\"#d8576b\"],[0.6666666666666666,\"#ed7953\"],[0.7777777777777778,\"#fb9f3a\"],[0.8888888888888888,\"#fdca26\"],[1.0,\"#f0f921\"]]}],\"contourcarpet\":[{\"colorbar\":{\"outlinewidth\":0.0,\"ticks\":\"\"}}],\"heatmap\":[{\"colorbar\":{\"outlinewidth\":0.0,\"ticks\":\"\"},\"colorscale\":[[0.0,\"#0d0887\"],[0.1111111111111111,\"#46039f\"],[0.2222222222222222,\"#7201a8\"],[0.3333333333333333,\"#9c179e\"],[0.4444444444444444,\"#bd3786\"],[0.5555555555555556,\"#d8576b\"],[0.6666666666666666,\"#ed7953\"],[0.7777777777777778,\"#fb9f3a\"],[0.8888888888888888,\"#fdca26\"],[1.0,\"#f0f921\"]]}],\"heatmapgl\":[{\"colorbar\":{\"outlinewidth\":0.0,\"ticks\":\"\"},\"colorscale\":[[0.0,\"#0d0887\"],[0.1111111111111111,\"#46039f\"],[0.2222222222222222,\"#7201a8\"],[0.3333333333333333,\"#9c179e\"],[0.4444444444444444,\"#bd3786\"],[0.5555555555555556,\"#d8576b\"],[0.6666666666666666,\"#ed7953\"],[0.7777777777777778,\"#fb9f3a\"],[0.8888888888888888,\"#fdca26\"],[1.0,\"#f0f921\"]]}],\"histogram\":[{\"marker\":{\"pattern\":{\"fillmode\":\"overlay\",\"size\":10,\"solidity\":0.2}}}],\"histogram2d\":[{\"colorbar\":{\"outlinewidth\":0.0,\"ticks\":\"\"},\"colorscale\":[[0.0,\"#0d0887\"],[0.1111111111111111,\"#46039f\"],[0.2222222222222222,\"#7201a8\"],[0.3333333333333333,\"#9c179e\"],[0.4444444444444444,\"#bd3786\"],[0.5555555555555556,\"#d8576b\"],[0.6666666666666666,\"#ed7953\"],[0.7777777777777778,\"#fb9f3a\"],[0.8888888888888888,\"#fdca26\"],[1.0,\"#f0f921\"]]}],\"histogram2dcontour\":[{\"colorbar\":{\"outlinewidth\":0.0,\"ticks\":\"\"},\"colorscale\":[[0.0,\"#0d0887\"],[0.1111111111111111,\"#46039f\"],[0.2222222222222222,\"#7201a8\"],[0.3333333333333333,\"#9c179e\"],[0.4444444444444444,\"#bd3786\"],[0.5555555555555556,\"#d8576b\"],[0.6666666666666666,\"#ed7953\"],[0.7777777777777778,\"#fb9f3a\"],[0.8888888888888888,\"#fdca26\"],[1.0,\"#f0f921\"]]}],\"mesh3d\":[{\"colorbar\":{\"outlinewidth\":0.0,\"ticks\":\"\"}}],\"parcoords\":[{\"line\":{\"colorbar\":{\"outlinewidth\":0.0,\"ticks\":\"\"}}}],\"pie\":[{\"automargin\":true}],\"scatter\":[{\"marker\":{\"colorbar\":{\"outlinewidth\":0.0,\"ticks\":\"\"}}}],\"scatter3d\":[{\"marker\":{\"colorbar\":{\"outlinewidth\":0.0,\"ticks\":\"\"}},\"line\":{\"colorbar\":{\"outlinewidth\":0.0,\"ticks\":\"\"}}}],\"scattercarpet\":[{\"marker\":{\"colorbar\":{\"outlinewidth\":0.0,\"ticks\":\"\"}}}],\"scattergeo\":[{\"marker\":{\"colorbar\":{\"outlinewidth\":0.0,\"ticks\":\"\"}}}],\"scattergl\":[{\"marker\":{\"colorbar\":{\"outlinewidth\":0.0,\"ticks\":\"\"}}}],\"scattermapbox\":[{\"marker\":{\"colorbar\":{\"outlinewidth\":0.0,\"ticks\":\"\"}}}],\"scatterpolar\":[{\"marker\":{\"colorbar\":{\"outlinewidth\":0.0,\"ticks\":\"\"}}}],\"scatterpolargl\":[{\"marker\":{\"colorbar\":{\"outlinewidth\":0.0,\"ticks\":\"\"}}}],\"scatterternary\":[{\"marker\":{\"colorbar\":{\"outlinewidth\":0.0,\"ticks\":\"\"}}}],\"surface\":[{\"colorbar\":{\"outlinewidth\":0.0,\"ticks\":\"\"},\"colorscale\":[[0.0,\"#0d0887\"],[0.1111111111111111,\"#46039f\"],[0.2222222222222222,\"#7201a8\"],[0.3333333333333333,\"#9c179e\"],[0.4444444444444444,\"#bd3786\"],[0.5555555555555556,\"#d8576b\"],[0.6666666666666666,\"#ed7953\"],[0.7777777777777778,\"#fb9f3a\"],[0.8888888888888888,\"#fdca26\"],[1.0,\"#f0f921\"]]}],\"table\":[{\"cells\":{\"fill\":{\"color\":\"rgba(235, 240, 248, 1.0)\"},\"line\":{\"color\":\"rgba(255, 255, 255, 1.0)\"}},\"header\":{\"fill\":{\"color\":\"rgba(200, 212, 227, 1.0)\"},\"line\":{\"color\":\"rgba(255, 255, 255, 1.0)\"}}}]}},\"xaxis\":{\"title\":{\"text\":\"Zeit\"}},\"yaxis\":{\"title\":{\"text\":\"Proteinkonzentration\"}}};\r\n",
       "            var config = {\"responsive\":true};\r\n",
       "            Plotly.newPlot('058edb12-3c50-4665-a7b8-12b330f55059', data, layout, config);\r\n",
       "});\r\n",
       "            };\r\n",
       "            if ((typeof(requirejs) !==  typeof(Function)) || (typeof(requirejs.config) !== typeof(Function))) {\r\n",
       "                var script = document.createElement(\"script\");\r\n",
       "                script.setAttribute(\"src\", \"https://cdnjs.cloudflare.com/ajax/libs/require.js/2.3.6/require.min.js\");\r\n",
       "                script.onload = function(){\r\n",
       "                    renderPlotly_058edb123c504665a7b812b330f55059();\r\n",
       "                };\r\n",
       "                document.getElementsByTagName(\"head\")[0].appendChild(script);\r\n",
       "            }\r\n",
       "            else {\r\n",
       "                renderPlotly_058edb123c504665a7b812b330f55059();\r\n",
       "            }\r\n",
       "</script>\r\n",
       "\n",
       "    \n",
       "</div>    \n"
      ]
     },
     "metadata": {},
     "output_type": "display_data"
    }
   ],
   "source": [
    "//Konstanten\n",
    "let beta  =  10.0 // Konstante für die Zunahme der Proteinkonzentration\n",
    "let gamma =  1.0  // Konstante für die Verringerung der Proteinkonzentration\n",
    "let K_d =    4.0  // Dissoziationskonstante\n",
    "let n =      2.0  // Hill Koeffizent \n",
    "\n",
    "// unsere DGL als  Modell (Model)\n",
    "let dP_dt : Model = \n",
    "    fun P t ->\n",
    "\n",
    "        let Proteinkonznetration1 = P[0] // Änderung in der Proteinmenge\n",
    "        let Proteinkonznetration2 = P[1] // Änderung in der Proteinmenge\n",
    "        //Änderung der Proteinkonzentration ohne positive Autoregulation\n",
    "        let Proteinkonznetration1' = beta - (gamma*Proteinkonznetration1)\n",
    "        // Änderung des Proteinkonzentration bei positiver Autoregulation (hier die Gleichung einsetzen)\n",
    "        let Proteinkonznetration2' = beta * (Proteinkonznetration2**n)/((Proteinkonznetration2**n) + (K_d**n)) - (gamma*Proteinkonznetration2)\n",
    "\n",
    "        [| Proteinkonznetration1'; Proteinkonznetration2' |]\n",
    "\n",
    "//Startkonzentrationen\n",
    "let P0 = [| \n",
    "    //Startkonzentration für das unregulierte Protein (muss nicht verändert werden)\n",
    "    0.0 \n",
    "    //Startkonzentration für das durch postive Autoreguliation regulierte Protein (hier bitte die Startwerte ändern)\n",
    "    4.0 \n",
    "|]\n",
    "\n",
    "// Simulation der Modelfuntkion\n",
    "let Ps = \n",
    "    modelContext.OdeInt(\n",
    "        0., // Startzeitpunkt\n",
    "        P0,\n",
    "        dP_dt\n",
    "    )\n",
    "    |> SolPoints.take 10 // Anzahl der Zeitpunkte\n",
    "    |> SolPoints.memorize \n",
    "\n",
    "//Graphische Darstellung der numerischen Lösung\n",
    "[\n",
    "    let proteins = SolPoints.toPoints 1 Ps\n",
    "    proteins \n",
    "    |> Chart.Spline \n",
    "    |> Chart.withTraceInfo(\"Unreguliert\");\n",
    "    let proteinsregulated = SolPoints.toPoints 2 Ps\n",
    "    proteinsregulated\n",
    "    |> Chart.Spline \n",
    "    |> Chart.withTraceInfo(\"negative AR\");\n",
    "]\n",
    "\n",
    "|> Chart.combine\n",
    "|> Chart.withXAxisStyle(\"Zeit\")\n",
    "|> Chart.withYAxisStyle(\"Proteinkonzentration\")"
   ]
  },
  {
   "cell_type": "markdown",
   "metadata": {},
   "source": [
    "Die Konstanten für den gezeigten Graphen sind:\n",
    "$$\\beta = 10$$\n",
    "$$\\gamma= 1$$\n",
    "$$n = 4$$\n",
    "$$K_{D} = 1$$\n",
    "$$Proteinkonzentration (0) = 0.1$$\n",
    "##### Aufgabe 4.11\n",
    "***Welchen Effekt hat postive Autoregulation bei einem Wert von $n=1$ auf die Antwortszeit?***\n"
   ]
  },
  {
   "cell_type": "markdown",
   "metadata": {},
   "source": [
    "Hier die Antwort eintippen"
   ]
  },
  {
   "cell_type": "markdown",
   "metadata": {},
   "source": [
    "##### Aufgabe 4.12\n",
    "***Was passiert bei $n=2$?\n",
    "Kopieren sie die obenstehnden code block für die postive Autoregulation und fügen sie diesen in den folgenden Code Block ein. Verändern sie dann die Hill Konstante.***"
   ]
  },
  {
   "cell_type": "code",
   "execution_count": null,
   "metadata": {
    "dotnet_interactive": {
     "language": "fsharp"
    },
    "vscode": {
     "languageId": "dotnet-interactive.fsharp"
    }
   },
   "outputs": [],
   "source": []
  },
  {
   "cell_type": "markdown",
   "metadata": {},
   "source": [
    "Was beobachten sie?"
   ]
  },
  {
   "cell_type": "markdown",
   "metadata": {},
   "source": [
    "Hier die Antwort eintippen"
   ]
  },
  {
   "cell_type": "markdown",
   "metadata": {},
   "source": [
    "Es folgt eine kurze Besprechung.Falls Sie schnell vorangekommen sind, können sie bis zur Besprechung folgende Aufgaben lösen.<br>\n",
    "\n",
    "##### Expertenaufgabe 4.2\n",
    "\n",
    "***Stellen sie die Differenzialgleichung für ein Model auf das neben der intrazellulären Lactosekonzentration auch die Konzentration von $\\beta -\\textrm {Galactosid-Permease}$ umfasst auf, diesesmal soll der Zusammenhang aber mit der Hill Funktion gezeigt werden.\n",
    "Fügen sie die Gleichungen in die nachfolgende Simulation ein (beachten sie das die Gleichung für die Lactosekonzentration die Konstanten \"n1\",\"alpha1\", \"beta1\", und \"gamma1\", ohne \"\", hat und die Gleichung für die Konzentration von $\\beta -\\textrm {Galactosid-Permease}$ die Konstanten \"n2\", \"alpha2\", \"beta2\", und \"gamma2\", ohne\"\". Die Konzentration von $\\beta -\\textrm {Galactosid-Permease}$ soll \"perm\", ohne \"\", genannt werden.).***"
   ]
  },
  {
   "cell_type": "code",
   "execution_count": null,
   "metadata": {
    "dotnet_interactive": {
     "language": "fsharp"
    },
    "vscode": {
     "languageId": "dotnet-interactive.fsharp"
    }
   },
   "outputs": [
    {
     "data": {
      "text/html": [
       "\n",
       "<div>\n",
       "    <div id=\"88f32e61-1550-438f-a01c-d8e6dba922be\"><!-- Plotly chart will be drawn inside this DIV --></div>\r\n",
       "<script type=\"text/javascript\">\r\n",
       "\r\n",
       "            var renderPlotly_88f32e611550438fa01cd8e6dba922be = function() {\r\n",
       "            var fsharpPlotlyRequire = requirejs.config({context:'fsharp-plotly',paths:{plotly:'https://cdn.plot.ly/plotly-2.6.3.min'}}) || require;\r\n",
       "            fsharpPlotlyRequire(['plotly'], function(Plotly) {\r\n",
       "\r\n",
       "            var data = [{\"type\":\"scatter\",\"mode\":\"lines\",\"x\":[0.0,0.7838678067004653,1.461163107355415,2.134368761129454,2.9029576823162166,3.8642804201595435,5.045473455936795,6.34806982884441,7.746705997740969,9.306341718708845,11.12449205344385,13.331813771883033,16.10344602549697,19.586725841771184,23.89776146169102],\"y\":[0.0,0.27267799738431825,0.39131462042625315,0.46145705001943604,0.5145768164951912,0.5612296126907063,0.601342363850287,0.6307082568196417,0.6502864577664976,0.6628383857863183,0.6704376430734984,0.6746039528110569,0.6765502420816278,0.6772571934628316,0.6774557007141975],\"marker\":{},\"line\":{\"shape\":\"spline\"},\"name\":\"Lactose\"},{\"type\":\"scatter\",\"mode\":\"lines\",\"x\":[0.0,0.7838678067004653,1.461163107355415,2.134368761129454,2.9029576823162166,3.8642804201595435,5.045473455936795,6.34806982884441,7.746705997740969,9.306341718708845,11.12449205344385,13.331813771883033,16.10344602549697,19.586725841771184,23.89776146169102],\"y\":[0.0,0.32461358356074194,0.5205044381876818,0.6612290627407807,0.7753871202891901,0.8707832735041896,0.942658032156531,0.9882134801082052,1.015445716635383,1.0317086758336613,1.0411403773952246,1.0461883980577522,1.0485183825100426,1.049358969447385,1.0495780586905792],\"marker\":{},\"line\":{\"shape\":\"spline\"},\"name\":\"Permease\"}];\r\n",
       "            var layout = {\"width\":600,\"height\":600,\"template\":{\"layout\":{\"title\":{\"x\":0.05},\"font\":{\"color\":\"rgba(42, 63, 95, 1.0)\"},\"paper_bgcolor\":\"rgba(255, 255, 255, 1.0)\",\"plot_bgcolor\":\"rgba(229, 236, 246, 1.0)\",\"autotypenumbers\":\"strict\",\"colorscale\":{\"diverging\":[[0.0,\"#8e0152\"],[0.1,\"#c51b7d\"],[0.2,\"#de77ae\"],[0.3,\"#f1b6da\"],[0.4,\"#fde0ef\"],[0.5,\"#f7f7f7\"],[0.6,\"#e6f5d0\"],[0.7,\"#b8e186\"],[0.8,\"#7fbc41\"],[0.9,\"#4d9221\"],[1.0,\"#276419\"]],\"sequential\":[[0.0,\"#0d0887\"],[0.1111111111111111,\"#46039f\"],[0.2222222222222222,\"#7201a8\"],[0.3333333333333333,\"#9c179e\"],[0.4444444444444444,\"#bd3786\"],[0.5555555555555556,\"#d8576b\"],[0.6666666666666666,\"#ed7953\"],[0.7777777777777778,\"#fb9f3a\"],[0.8888888888888888,\"#fdca26\"],[1.0,\"#f0f921\"]],\"sequentialminus\":[[0.0,\"#0d0887\"],[0.1111111111111111,\"#46039f\"],[0.2222222222222222,\"#7201a8\"],[0.3333333333333333,\"#9c179e\"],[0.4444444444444444,\"#bd3786\"],[0.5555555555555556,\"#d8576b\"],[0.6666666666666666,\"#ed7953\"],[0.7777777777777778,\"#fb9f3a\"],[0.8888888888888888,\"#fdca26\"],[1.0,\"#f0f921\"]]},\"hovermode\":\"closest\",\"hoverlabel\":{\"align\":\"left\"},\"coloraxis\":{\"colorbar\":{\"outlinewidth\":0.0,\"ticks\":\"\"}},\"geo\":{\"showland\":true,\"landcolor\":\"rgba(229, 236, 246, 1.0)\",\"showlakes\":true,\"lakecolor\":\"rgba(255, 255, 255, 1.0)\",\"subunitcolor\":\"rgba(255, 255, 255, 1.0)\",\"bgcolor\":\"rgba(255, 255, 255, 1.0)\"},\"mapbox\":{\"style\":\"light\"},\"polar\":{\"bgcolor\":\"rgba(229, 236, 246, 1.0)\",\"radialaxis\":{\"linecolor\":\"rgba(255, 255, 255, 1.0)\",\"gridcolor\":\"rgba(255, 255, 255, 1.0)\",\"ticks\":\"\"},\"angularaxis\":{\"linecolor\":\"rgba(255, 255, 255, 1.0)\",\"gridcolor\":\"rgba(255, 255, 255, 1.0)\",\"ticks\":\"\"}},\"scene\":{\"xaxis\":{\"ticks\":\"\",\"linecolor\":\"rgba(255, 255, 255, 1.0)\",\"gridcolor\":\"rgba(255, 255, 255, 1.0)\",\"gridwidth\":2.0,\"zerolinecolor\":\"rgba(255, 255, 255, 1.0)\",\"backgroundcolor\":\"rgba(229, 236, 246, 1.0)\",\"showbackground\":true},\"yaxis\":{\"ticks\":\"\",\"linecolor\":\"rgba(255, 255, 255, 1.0)\",\"gridcolor\":\"rgba(255, 255, 255, 1.0)\",\"gridwidth\":2.0,\"zerolinecolor\":\"rgba(255, 255, 255, 1.0)\",\"backgroundcolor\":\"rgba(229, 236, 246, 1.0)\",\"showbackground\":true},\"zaxis\":{\"ticks\":\"\",\"linecolor\":\"rgba(255, 255, 255, 1.0)\",\"gridcolor\":\"rgba(255, 255, 255, 1.0)\",\"gridwidth\":2.0,\"zerolinecolor\":\"rgba(255, 255, 255, 1.0)\",\"backgroundcolor\":\"rgba(229, 236, 246, 1.0)\",\"showbackground\":true}},\"ternary\":{\"aaxis\":{\"ticks\":\"\",\"linecolor\":\"rgba(255, 255, 255, 1.0)\",\"gridcolor\":\"rgba(255, 255, 255, 1.0)\"},\"baxis\":{\"ticks\":\"\",\"linecolor\":\"rgba(255, 255, 255, 1.0)\",\"gridcolor\":\"rgba(255, 255, 255, 1.0)\"},\"caxis\":{\"ticks\":\"\",\"linecolor\":\"rgba(255, 255, 255, 1.0)\",\"gridcolor\":\"rgba(255, 255, 255, 1.0)\"},\"bgcolor\":\"rgba(229, 236, 246, 1.0)\"},\"xaxis\":{\"title\":{\"standoff\":15},\"ticks\":\"\",\"automargin\":true,\"linecolor\":\"rgba(255, 255, 255, 1.0)\",\"gridcolor\":\"rgba(255, 255, 255, 1.0)\",\"zerolinecolor\":\"rgba(255, 255, 255, 1.0)\",\"zerolinewidth\":2.0},\"yaxis\":{\"title\":{\"standoff\":15},\"ticks\":\"\",\"automargin\":true,\"linecolor\":\"rgba(255, 255, 255, 1.0)\",\"gridcolor\":\"rgba(255, 255, 255, 1.0)\",\"zerolinecolor\":\"rgba(255, 255, 255, 1.0)\",\"zerolinewidth\":2.0},\"annotationdefaults\":{\"arrowcolor\":\"#2a3f5f\",\"arrowhead\":0,\"arrowwidth\":1},\"shapedefaults\":{\"line\":{\"color\":\"rgba(42, 63, 95, 1.0)\"}},\"colorway\":[\"rgba(99, 110, 250, 1.0)\",\"rgba(239, 85, 59, 1.0)\",\"rgba(0, 204, 150, 1.0)\",\"rgba(171, 99, 250, 1.0)\",\"rgba(255, 161, 90, 1.0)\",\"rgba(25, 211, 243, 1.0)\",\"rgba(255, 102, 146, 1.0)\",\"rgba(182, 232, 128, 1.0)\",\"rgba(255, 151, 255, 1.0)\",\"rgba(254, 203, 82, 1.0)\"]},\"data\":{\"bar\":[{\"marker\":{\"line\":{\"color\":\"rgba(229, 236, 246, 1.0)\",\"width\":0.5},\"pattern\":{\"fillmode\":\"overlay\",\"size\":10,\"solidity\":0.2}},\"error_x\":{\"color\":\"rgba(42, 63, 95, 1.0)\"},\"error_y\":{\"color\":\"rgba(42, 63, 95, 1.0)\"}}],\"barpolar\":[{\"marker\":{\"line\":{\"color\":\"rgba(229, 236, 246, 1.0)\",\"width\":0.5},\"pattern\":{\"fillmode\":\"overlay\",\"size\":10,\"solidity\":0.2}}}],\"carpet\":[{\"aaxis\":{\"linecolor\":\"rgba(255, 255, 255, 1.0)\",\"gridcolor\":\"rgba(255, 255, 255, 1.0)\",\"endlinecolor\":\"rgba(42, 63, 95, 1.0)\",\"minorgridcolor\":\"rgba(255, 255, 255, 1.0)\",\"startlinecolor\":\"rgba(42, 63, 95, 1.0)\"},\"baxis\":{\"linecolor\":\"rgba(255, 255, 255, 1.0)\",\"gridcolor\":\"rgba(255, 255, 255, 1.0)\",\"endlinecolor\":\"rgba(42, 63, 95, 1.0)\",\"minorgridcolor\":\"rgba(255, 255, 255, 1.0)\",\"startlinecolor\":\"rgba(42, 63, 95, 1.0)\"}}],\"choropleth\":[{\"colorbar\":{\"outlinewidth\":0.0,\"ticks\":\"\"},\"colorscale\":[[0.0,\"#0d0887\"],[0.1111111111111111,\"#46039f\"],[0.2222222222222222,\"#7201a8\"],[0.3333333333333333,\"#9c179e\"],[0.4444444444444444,\"#bd3786\"],[0.5555555555555556,\"#d8576b\"],[0.6666666666666666,\"#ed7953\"],[0.7777777777777778,\"#fb9f3a\"],[0.8888888888888888,\"#fdca26\"],[1.0,\"#f0f921\"]]}],\"contour\":[{\"colorbar\":{\"outlinewidth\":0.0,\"ticks\":\"\"},\"colorscale\":[[0.0,\"#0d0887\"],[0.1111111111111111,\"#46039f\"],[0.2222222222222222,\"#7201a8\"],[0.3333333333333333,\"#9c179e\"],[0.4444444444444444,\"#bd3786\"],[0.5555555555555556,\"#d8576b\"],[0.6666666666666666,\"#ed7953\"],[0.7777777777777778,\"#fb9f3a\"],[0.8888888888888888,\"#fdca26\"],[1.0,\"#f0f921\"]]}],\"contourcarpet\":[{\"colorbar\":{\"outlinewidth\":0.0,\"ticks\":\"\"}}],\"heatmap\":[{\"colorbar\":{\"outlinewidth\":0.0,\"ticks\":\"\"},\"colorscale\":[[0.0,\"#0d0887\"],[0.1111111111111111,\"#46039f\"],[0.2222222222222222,\"#7201a8\"],[0.3333333333333333,\"#9c179e\"],[0.4444444444444444,\"#bd3786\"],[0.5555555555555556,\"#d8576b\"],[0.6666666666666666,\"#ed7953\"],[0.7777777777777778,\"#fb9f3a\"],[0.8888888888888888,\"#fdca26\"],[1.0,\"#f0f921\"]]}],\"heatmapgl\":[{\"colorbar\":{\"outlinewidth\":0.0,\"ticks\":\"\"},\"colorscale\":[[0.0,\"#0d0887\"],[0.1111111111111111,\"#46039f\"],[0.2222222222222222,\"#7201a8\"],[0.3333333333333333,\"#9c179e\"],[0.4444444444444444,\"#bd3786\"],[0.5555555555555556,\"#d8576b\"],[0.6666666666666666,\"#ed7953\"],[0.7777777777777778,\"#fb9f3a\"],[0.8888888888888888,\"#fdca26\"],[1.0,\"#f0f921\"]]}],\"histogram\":[{\"marker\":{\"pattern\":{\"fillmode\":\"overlay\",\"size\":10,\"solidity\":0.2}}}],\"histogram2d\":[{\"colorbar\":{\"outlinewidth\":0.0,\"ticks\":\"\"},\"colorscale\":[[0.0,\"#0d0887\"],[0.1111111111111111,\"#46039f\"],[0.2222222222222222,\"#7201a8\"],[0.3333333333333333,\"#9c179e\"],[0.4444444444444444,\"#bd3786\"],[0.5555555555555556,\"#d8576b\"],[0.6666666666666666,\"#ed7953\"],[0.7777777777777778,\"#fb9f3a\"],[0.8888888888888888,\"#fdca26\"],[1.0,\"#f0f921\"]]}],\"histogram2dcontour\":[{\"colorbar\":{\"outlinewidth\":0.0,\"ticks\":\"\"},\"colorscale\":[[0.0,\"#0d0887\"],[0.1111111111111111,\"#46039f\"],[0.2222222222222222,\"#7201a8\"],[0.3333333333333333,\"#9c179e\"],[0.4444444444444444,\"#bd3786\"],[0.5555555555555556,\"#d8576b\"],[0.6666666666666666,\"#ed7953\"],[0.7777777777777778,\"#fb9f3a\"],[0.8888888888888888,\"#fdca26\"],[1.0,\"#f0f921\"]]}],\"mesh3d\":[{\"colorbar\":{\"outlinewidth\":0.0,\"ticks\":\"\"}}],\"parcoords\":[{\"line\":{\"colorbar\":{\"outlinewidth\":0.0,\"ticks\":\"\"}}}],\"pie\":[{\"automargin\":true}],\"scatter\":[{\"marker\":{\"colorbar\":{\"outlinewidth\":0.0,\"ticks\":\"\"}}}],\"scatter3d\":[{\"marker\":{\"colorbar\":{\"outlinewidth\":0.0,\"ticks\":\"\"}},\"line\":{\"colorbar\":{\"outlinewidth\":0.0,\"ticks\":\"\"}}}],\"scattercarpet\":[{\"marker\":{\"colorbar\":{\"outlinewidth\":0.0,\"ticks\":\"\"}}}],\"scattergeo\":[{\"marker\":{\"colorbar\":{\"outlinewidth\":0.0,\"ticks\":\"\"}}}],\"scattergl\":[{\"marker\":{\"colorbar\":{\"outlinewidth\":0.0,\"ticks\":\"\"}}}],\"scattermapbox\":[{\"marker\":{\"colorbar\":{\"outlinewidth\":0.0,\"ticks\":\"\"}}}],\"scatterpolar\":[{\"marker\":{\"colorbar\":{\"outlinewidth\":0.0,\"ticks\":\"\"}}}],\"scatterpolargl\":[{\"marker\":{\"colorbar\":{\"outlinewidth\":0.0,\"ticks\":\"\"}}}],\"scatterternary\":[{\"marker\":{\"colorbar\":{\"outlinewidth\":0.0,\"ticks\":\"\"}}}],\"surface\":[{\"colorbar\":{\"outlinewidth\":0.0,\"ticks\":\"\"},\"colorscale\":[[0.0,\"#0d0887\"],[0.1111111111111111,\"#46039f\"],[0.2222222222222222,\"#7201a8\"],[0.3333333333333333,\"#9c179e\"],[0.4444444444444444,\"#bd3786\"],[0.5555555555555556,\"#d8576b\"],[0.6666666666666666,\"#ed7953\"],[0.7777777777777778,\"#fb9f3a\"],[0.8888888888888888,\"#fdca26\"],[1.0,\"#f0f921\"]]}],\"table\":[{\"cells\":{\"fill\":{\"color\":\"rgba(235, 240, 248, 1.0)\"},\"line\":{\"color\":\"rgba(255, 255, 255, 1.0)\"}},\"header\":{\"fill\":{\"color\":\"rgba(200, 212, 227, 1.0)\"},\"line\":{\"color\":\"rgba(255, 255, 255, 1.0)\"}}}]}},\"xaxis\":{\"title\":{\"text\":\"Zeit\"}},\"yaxis\":{\"title\":{\"text\":\"Konzentration\"}}};\r\n",
       "            var config = {\"responsive\":true};\r\n",
       "            Plotly.newPlot('88f32e61-1550-438f-a01c-d8e6dba922be', data, layout, config);\r\n",
       "});\r\n",
       "            };\r\n",
       "            if ((typeof(requirejs) !==  typeof(Function)) || (typeof(requirejs.config) !== typeof(Function))) {\r\n",
       "                var script = document.createElement(\"script\");\r\n",
       "                script.setAttribute(\"src\", \"https://cdnjs.cloudflare.com/ajax/libs/require.js/2.3.6/require.min.js\");\r\n",
       "                script.onload = function(){\r\n",
       "                    renderPlotly_88f32e611550438fa01cd8e6dba922be();\r\n",
       "                };\r\n",
       "                document.getElementsByTagName(\"head\")[0].appendChild(script);\r\n",
       "            }\r\n",
       "            else {\r\n",
       "                renderPlotly_88f32e611550438fa01cd8e6dba922be();\r\n",
       "            }\r\n",
       "</script>\r\n",
       "\n",
       "    \n",
       "</div>    \n"
      ]
     },
     "metadata": {},
     "output_type": "display_data"
    }
   ],
   "source": [
    "//Konstanten\n",
    "let alpha1 =  0.5  // Konstante für die Zunahme der Lactosekonzentration (unreguliert)\n",
    "let beta1  =  10.0 // Konstante für die Zunahme der Lactosekonzentration (reguliert)\n",
    "let gamma1 =  1.0  // Konstante für die Verringerung der Lactosekonzentration\n",
    "let alpha2 =  0.5  // Konstante für die Zunahme der beta-Galactosid-Permease Konzentration (unreguliert)\n",
    "let beta2  =  10.0 // Konstante für die Zunahme der beta-Galactosid-Permease Konzentration (reguliert)\n",
    "let gamma2 =  0.5  // Konstante für die Verringerung der beta-Galactosid-Permease Konzentration\n",
    "let K_d1   =  5.0  // Dissoziationskonstante1\n",
    "let K_d2   =  5.0  // Dissoziationskonstante1\n",
    "let n1     =  3.0  // Hill Koeffizent für die Regulation der Lactosekonzentration\n",
    "let n2     =  3.0  // Hill Koeffizent für die Regulation der beta-Galactosid Permease Konzentration\n",
    "\n",
    "// unsere DGL als  Modell (Model)\n",
    "let dP_dt : Model = \n",
    "    fun P t ->\n",
    "\n",
    "        let inlac = P[0] // Änderung in der Lactosekonzentration\n",
    "        let perm  = P[1] // Änderung der beta-Galactosid Permease Konzentration\n",
    "\n",
    "        //Differenzialgleichung die die Änderung in der Lactosekonzentration beschreibt (hier die Gleichung einsetzen)\n",
    "        let inlac' = alpha1 + beta1 * (perm**n1)/((perm**n1) + (K_d**n1)) - (gamma1*inlac)\n",
    "        //Differenzialgleichung die die Änderung in der beta-Galactosid Permease Konzentration beschreibt (hier die Gleichung einsetzen)\n",
    "        let perm' = alpha2 + beta2* (inlac**n2)/((inlac**n2) + (K_d2**n2)) - (gamma2*perm)\n",
    "\n",
    "        [| inlac'; perm' |]\n",
    "\n",
    "//Startkonzentrationen\n",
    "let P0 = [| \n",
    "    0.0\n",
    "    0.0\n",
    "|]\n",
    "\n",
    "// Simulation der Modelfuntkion\n",
    "let Ps = \n",
    "    modelContext.OdeInt(\n",
    "        0., // Startzeitpunkt\n",
    "        P0,\n",
    "        dP_dt\n",
    "    )\n",
    "    |> SolPoints.take 15 // Anzahl der Zeitpunkte\n",
    "    |> SolPoints.memorize \n",
    "\n",
    "//Graphische Darstellung der numerischen Lösung\n",
    "[\n",
    "    let lactose = SolPoints.toPoints 1 Ps\n",
    "    lactose \n",
    "    |> Chart.Spline \n",
    "    |> Chart.withTraceInfo(\"Lactose\");\n",
    "    let permease = SolPoints.toPoints 2 Ps\n",
    "    permease \n",
    "    |> Chart.Spline \n",
    "    |> Chart.withTraceInfo(\"Permease\");\n",
    "\n",
    "]\n",
    "\n",
    "|> Chart.combine\n",
    "|> Chart.withXAxisStyle(\"Zeit\")\n",
    "|> Chart.withYAxisStyle(\"Konzentration\")"
   ]
  },
  {
   "cell_type": "markdown",
   "metadata": {},
   "source": [
    "------------------\n",
    "\n",
    "### Osszillation/Hopf Bifukration folgt"
   ]
  },
  {
   "cell_type": "markdown",
   "metadata": {},
   "source": [
    "### Eine einfache biologische Uhr\n",
    "\n",
    "Wir als lebende Organismen werden von vielen verschiedenen Uhren kontrolliert. Die uns bekannteste ist der zirkadiane Rhythmus. Dieser beschreibt die Fähigkeit physiologische Vorgänge, Schlafen, Nahrungsaufnahme, AKtivitäten, etc., auf eine periodenlänge von circa 24 Stunden zu synchronisieren. Wir nennen den zirkadianen Rhythmus auch umgangssprachlicher unseren Tagesrhythmus. <br>\n",
    "Der Tagesrhythmus spiegelt direkt eine der wichtigsten Eigenschaften von biologischen Uhren wieder. Sie können sich von Störrungen erholen. Eine Nacht nicht zu schlafen, oder einen Tag nichts zu essen, führt im Normalfall nicht dazu das sich unser Tagesrhythmus ändert. Nach ein bis zwei Tagen ist alles wieder so wie davor. Nur das konstante Verändern der Lebenumstände, also zum Beispiel immer Nachts zu arbeiten, führt dazu das sich unser Tagesrhythmus umstellt. <br>\n",
    "Periodische Zyklen , auch Oszillationen genannt, die auch bei kleinen Störrungen wieder in ihren ursprunglichen Zyklus zurückkehren werden Grenzzklus, oder Limit Cycle, genannt.\n",
    "\n",
    "<center>\n",
    "<img src=\"../../images/day4/Limit Cycle.png\" width=50% />\n",
    "</center>\n"
   ]
  },
  {
   "cell_type": "markdown",
   "metadata": {},
   "source": [
    "\n",
    "Das Nachbilden eines so komplexen Rhythmuses wie den zirkadianen Rhythmus ist für dieses Praktikum leider zu zeitaufwendig. Stattdessen wird im folgenden eine einfache biologische Uhr aus Proteinen gebaut. <br>\n",
    "Das bauen einer einfachen biologischen Uhr mit den bereits gelernten Bausteinen, also eine Uhr die auf einem System von Genen und Proteinen beruht, muss auf der Idee basieren das die einzelnen Bausteine einen Grenzzyklus formen, das es ansonsten nicht zur Oszillation kommt. Weiterhin sollte diese einfache Uhr die Fähigkeit haben bei vielen verschiedenen biologischen Parametern zu oszillieren. Dies ist nötg da es sehr schwierig ist die biologischen Parameter in der Zelle zu kontrollieren. <br>\n",
    "Eine mögliches Desgin  bei diesen Vorgaben  ist ein \"Stein-Schere-Papier\" Feedback loop. Das heißt drei Proteine die in einem Kreis angeordnet sind und sich gegenseitig inhibieren. \n",
    "\n",
    "<center>\n",
    "<img src=\"../../images/day4/Repressilator.png\" width=30% />\n",
    "</center>"
   ]
  },
  {
   "cell_type": "markdown",
   "metadata": {},
   "source": [
    "Zum Verständnis gehen wir einmal durch das Schaubild durch wobei wir mit der Annahme starten das, dass Protein x1 eine gewisse Startkonzentration hat und die beiden anderen Proteine, x2 und x3, eine Startkonzentration von 0 haben. <br>\n",
    "Das Protein x1 reguliert die Produktion von x2 herunter, somit wird nahezu kein x2 gebildet. Die Produktion vom Protein x3 wird nicht reguliert, da das Protein x2 nicht vorhanden ist. Somit kann über die Zeit mehr und mehr x3 gebildet werden. Gleichzeitig wird auch mehr x1 gebildet, wobei die Zunahme mit der Zeit immer kleiner wird, da x3 die Produkion herunterreguliert. Sobald eine bestimmte Konzentration von x3 überschritten wird, verringert sich die Konzentration von x1, da jetzt die Produktion so weit herunterreguliert wurde, dass diese geringer ist als die Verringerung der Proteinkonzentration. Das heißt umso mehr Zeit vergeht, umso geringer wird die Konzentration von x1, während die Konzentration von x3 weiter steigt. Da sich die Konzentration von x1 verringert, wird auch die reguliation der Produktion von x2 immer schwächer, bis die regulation so schwach ist das x2 produziert wird. An diesem Punkt würde der Zyklus wieder von vorne beginnen, nur das jetzt x3 die Rolle von x1 einnimmt. <br>\n",
    "Dieses Design wird allgemein auch Repressilator genannt.<br> \n"
   ]
  },
  {
   "cell_type": "markdown",
   "metadata": {},
   "source": [
    "\n",
    "Das heißt die Differenzialgleichungen, welche die Proteinkonzentrationen der einzelnen Proteine beschreiben, müssen miteinander verknüpft sein. Daher können die Differenzialgleichungen beschrieben werden als\n",
    "$$Proteinkonzentration_{x1}' = \\textrm {Zunahme der Proteinkonzentration * Regulation durch x3} - \\textrm {Verringerung der Proteinkonzentration}$$\n",
    "$$Proteinkonzentration_{x2}' = \\textrm {Zunahme der Proteinkonzentration * Regulation durch x1} - \\textrm {Verringerung der Proteinkonzentration}$$\n",
    "$$Proteinkonzentration_{x3}' = \\textrm {Zunahme der Proteinkonzentration * Regulation durch x2} - \\textrm {Verringerung der Proteinkonzentration}$$\n",
    "\n",
    "Die Proteinproduktion $\\beta$ wird reguliert durch den Repressor $x_{i-1}$, wobei $x_{i}$ das aktuelle Protein repäsentiert und $x_{i-1}$ das vorhergehende . Die Regulierung selbst wird beschrieben durch eine Hillfunktion für einen Repressor, da wir noch nicht wissen ob das Verhalten ultrasensitiv oder linear sein muss, um die Oszillation zu erhalten. Die Verringerung wird wieder beschrieben wie bisher durch den Faktor $\\gamma$ in Abhängigkeit von der Proteinkonzentration $x_{i}$. \n",
    "\n",
    "##### Aufgabe 4.13\n",
    "***Stelle die Differenzialgleichungen für die drei Proteine auf. Alle Proteine sollen das selbe $\\beta$, $\\gamma$, und $K_{D}$ haben.***"
   ]
  },
  {
   "cell_type": "markdown",
   "metadata": {},
   "source": [
    "Hier die Gleichungen einfügen."
   ]
  },
  {
   "cell_type": "markdown",
   "metadata": {},
   "source": [
    "### temporärer Block folgt (Abhängig von Besprechung über Aufbau des Notebooks)\n",
    "\n",
    "Es folgt eine kurze Besprechung.\n",
    "\n",
    "----------\n",
    "\n",
    "### Ende temporärer Block\n"
   ]
  },
  {
   "cell_type": "markdown",
   "metadata": {},
   "source": [
    "----------------------\n",
    "\n",
    "Wir werden jetzt dazu übergehen den Grenzzyklus graphisch darzustellen. Hierbei gibt es zwei mögliche Darstellungen. Die erste ist die bereits bekannte Darstellung mit der Proteinkonzentration auf der Y-Achse und der Zeit auf der X-Achse. Die alternative ist den Verlauf der Proteinkonzentration in einem 3D- Schaubild darzustellen, wobei die drei Achsen die drei Proteinkonzentration sind. Der Verlauf der Zeit ist in dieser Darstellung durch den Verlauf der Kurve zu erkennen. Beide Darstellungen können genutzt werden um die nachfolgenden Aufgaben zu bearbeiten. Sie können selbst auswählen welche der Darstellungen sie bevorzugen.\n",
    "\n",
    "##### Aufgabe 4.15\n",
    "***Fügen sie die drei Differenzialgleichungen die die Proteinkonzentration von x1, x2, und x3 beschreiben in den nachfolgenden Code Block ein (beachten sie das übliche).***"
   ]
  },
  {
   "cell_type": "code",
   "execution_count": null,
   "metadata": {
    "dotnet_interactive": {
     "language": "fsharp"
    },
    "vscode": {
     "languageId": "dotnet-interactive.fsharp"
    }
   },
   "outputs": [
    {
     "data": {
      "text/html": [
       "\n",
       "<div>\n",
       "    <div id=\"f2fa0b00-e5fb-4be9-a7a3-70137c488b2f\"><!-- Plotly chart will be drawn inside this DIV --></div>\r\n",
       "<script type=\"text/javascript\">\r\n",
       "\r\n",
       "            var renderPlotly_f2fa0b00e5fb4be9a7a370137c488b2f = function() {\r\n",
       "            var fsharpPlotlyRequire = requirejs.config({context:'fsharp-plotly',paths:{plotly:'https://cdn.plot.ly/plotly-2.6.3.min'}}) || require;\r\n",
       "            fsharpPlotlyRequire(['plotly'], function(Plotly) {\r\n",
       "\r\n",
       "            var data = [{\"type\":\"scatter\",\"mode\":\"lines\",\"x\":[0.0,0.1971861333671186,0.35420663868132435,0.49981152932609146,0.654725900882583,0.8413634798910722,1.0684648902489875,1.3412636991783697,1.6666720427801622,2.0556708095827982,2.5220232052384484,3.061154071628584,3.6307385340839113,4.207888359107802,4.7838710489723,5.355251729533617,5.9207521936866385,6.479684853242126,7.032002898885754,7.577710704111692,8.116801880464187,8.64960455528168,9.176068867356584,9.69619285637591,10.210419371210147,10.71754990875884,11.219381242469987,11.713267656712262,12.203092071431923,12.685510041844845,13.165364138116725,13.640026607952793,14.110210082236597,14.57689370636274,15.035850674454322,15.493025714836156,15.944527913529274,16.39327787536433,16.839623980797413,17.278609229919162,17.717027736118578,18.15158843627071,18.581905463022125,19.011514473142697,19.43515845494813,19.85778116859122,20.279677088205638,20.694885703809675,21.11042151391668,21.525143718716485,21.933699475695338,22.342990536526163,22.751315376274913,23.15430863679759,23.558364527525836,23.9615020959596,24.35972301629674,24.759226741989632,25.158290804527006,25.552396800064894,25.947850406658844,26.343779799293547,26.734387396887854,27.126154729509167,27.519608482371627,27.907434661498556,28.295936171262476,28.687239015127886,29.073149568786178,29.458887494289012,29.84806374754535,30.233046928731206,30.616453152898963,31.003282879062837,31.38840416202399,31.770079362842605,32.15420729884216,32.53969250018335,32.92007047830801,33.30140284009572,33.68656143845543,34.06646100271682,34.4457100938079,34.82955335362984,35.210297970384445,35.58837442479348,35.96997555042014,36.35239221750446,36.73001111163157,37.1089063919844,37.49192598276428,37.86962516054802,38.24645646574109,38.628393488806665,39.00755549774847,39.383670823073416,39.763327763875616,40.1446998580917,40.52091656423016,40.89784948034406,41.2796910280209,41.65660769371819,42.031922897178035,42.41239011621187,42.79157909089436,43.166806920770505,43.54466836002509,43.925901499182594,44.30152457001102,44.67671115421137,45.057458651901165,45.43449117019015,45.80891155722403,46.18776498386424,46.56771826377501,46.942706063614516,47.31879686355621,47.699840408074756,48.075762265810134,48.450067316997135,48.82985846052014,49.208223765798564,49.58259995341233,49.959759626774826,50.3404457000219,50.715489942011416,51.08995032448456,51.47017030401106,51.84686756862971,52.22072097645436,52.59894292806136,52.97870983713817,53.353335998089065,53.7287589082623,54.10944552938478,54.4852213383709,54.85906616104698,55.23832209664528,55.616823528584625,55.99100059585969,56.36750977351686,56.74812461742792,57.12316361807368,57.49721895267074,57.87712226380657,58.254167381119835,58.6279096837171,59.00552593775206,59.38552304425573,59.760121898720406],\"y\":[0.0,0.7439126026230873,0.9924106211795813,1.115692467869219,1.2011689557405016,1.2763281724538003,1.3492112742445568,1.42049910364296,1.4781104591949121,1.4920016468991029,1.4300385953167165,1.3166093937987495,1.2572320478440802,1.3265498952463068,1.472686199264909,1.5353328005584705,1.4375175983530104,1.2855100105649535,1.2213976328510705,1.3110978827172615,1.4925810811678772,1.5896733487613046,1.4977526978115225,1.3125100581713747,1.1871031969051922,1.2155210030692971,1.3992411072192412,1.6050356197326585,1.6462686420511117,1.4881005172904387,1.2710502549143843,1.1369051214906554,1.1662884123775437,1.3693634889247746,1.628296704639554,1.7429202729684532,1.616692921942676,1.3670278485081462,1.1525118739893014,1.07086198497135,1.1738655660790651,1.4445106277356337,1.7361169165925667,1.8394227760551636,1.6788300884086915,1.3946461592041035,1.1453446403981966,1.021020592382001,1.074743133524634,1.3254867657877565,1.6750970960375846,1.922695429796265,1.8884505829470946,1.6211555498891013,1.305661523928832,1.0665631230062038,0.9672393871536653,1.0551453718624295,1.3453265435459127,1.732431914289233,2.011622479371701,1.9916792388847298,1.7111836400519262,1.3670314477952026,1.0895163384104265,0.9413737745245288,0.9657835224697023,1.2028633742071646,1.5987723708221977,1.9805211518681085,2.1241676247236616,1.933996590702404,1.5772483671133655,1.235133800279403,0.9951547233302689,0.8995623298895067,0.9939717701746406,1.3046668623007482,1.7385463125545548,2.098284731916114,2.1654892214365296,1.9061037751552041,1.526146426529333,1.1865118548944262,0.9594399683034557,0.8809360530224283,0.9980142287959232,1.3328036387333602,1.782243242170626,2.144108452052851,2.2001001955610495,1.9251674161407413,1.5349170036584339,1.1883432935170235,0.9550578886079114,0.8690663762143157,0.976543625970802,1.3056916411448143,1.761321723583229,2.145363245968511,2.235015901379401,1.9770354218544415,1.5824493070776475,1.2225076335523148,0.9714181689100456,0.8636303420075778,0.9422916145956343,1.2457464587379108,1.6982531197325175,2.112152915533146,2.261803162663365,2.0463892678972355,1.6548452409084988,1.2793443569423606,1.0042084928157267,0.8671774440403378,0.9067805799066281,1.1698956220526848,1.6082905145024609,2.050340589807583,2.2711925174685543,2.1194734542505977,1.7410528208931018,1.3513136990510701,1.050048776600535,0.8811100248124819,0.878148334655391,1.091887725238105,1.5043329269682602,1.9659074806157468,2.257393940912355,2.1871097132050377,1.8359597807615282,1.4357628449115518,1.1083312289386167,0.906137724345736,0.8599437331363453,1.0198345056393712,1.3961447429083271,1.8659146093137933,2.2192128807408427,2.2403912963972497,1.9328925424046728,1.528402161388807,1.1767820859235225,0.9415768472410375,0.8536636948903316,0.9588136474008321,1.2893813575324506,1.7542696123380441],\"marker\":{},\"line\":{\"shape\":\"spline\"},\"name\":\"x1\"},{\"type\":\"scatter\",\"mode\":\"lines\",\"x\":[0.0,0.1971861333671186,0.35420663868132435,0.49981152932609146,0.654725900882583,0.8413634798910722,1.0684648902489875,1.3412636991783697,1.6666720427801622,2.0556708095827982,2.5220232052384484,3.061154071628584,3.6307385340839113,4.207888359107802,4.7838710489723,5.355251729533617,5.9207521936866385,6.479684853242126,7.032002898885754,7.577710704111692,8.116801880464187,8.64960455528168,9.176068867356584,9.69619285637591,10.210419371210147,10.71754990875884,11.219381242469987,11.713267656712262,12.203092071431923,12.685510041844845,13.165364138116725,13.640026607952793,14.110210082236597,14.57689370636274,15.035850674454322,15.493025714836156,15.944527913529274,16.39327787536433,16.839623980797413,17.278609229919162,17.717027736118578,18.15158843627071,18.581905463022125,19.011514473142697,19.43515845494813,19.85778116859122,20.279677088205638,20.694885703809675,21.11042151391668,21.525143718716485,21.933699475695338,22.342990536526163,22.751315376274913,23.15430863679759,23.558364527525836,23.9615020959596,24.35972301629674,24.759226741989632,25.158290804527006,25.552396800064894,25.947850406658844,26.343779799293547,26.734387396887854,27.126154729509167,27.519608482371627,27.907434661498556,28.295936171262476,28.687239015127886,29.073149568786178,29.458887494289012,29.84806374754535,30.233046928731206,30.616453152898963,31.003282879062837,31.38840416202399,31.770079362842605,32.15420729884216,32.53969250018335,32.92007047830801,33.30140284009572,33.68656143845543,34.06646100271682,34.4457100938079,34.82955335362984,35.210297970384445,35.58837442479348,35.96997555042014,36.35239221750446,36.73001111163157,37.1089063919844,37.49192598276428,37.86962516054802,38.24645646574109,38.628393488806665,39.00755549774847,39.383670823073416,39.763327763875616,40.1446998580917,40.52091656423016,40.89784948034406,41.2796910280209,41.65660769371819,42.031922897178035,42.41239011621187,42.79157909089436,43.166806920770505,43.54466836002509,43.925901499182594,44.30152457001102,44.67671115421137,45.057458651901165,45.43449117019015,45.80891155722403,46.18776498386424,46.56771826377501,46.942706063614516,47.31879686355621,47.699840408074756,48.075762265810134,48.450067316997135,48.82985846052014,49.208223765798564,49.58259995341233,49.959759626774826,50.3404457000219,50.715489942011416,51.08995032448456,51.47017030401106,51.84686756862971,52.22072097645436,52.59894292806136,52.97870983713817,53.353335998089065,53.7287589082623,54.10944552938478,54.4852213383709,54.85906616104698,55.23832209664528,55.616823528584625,55.99100059585969,56.36750977351686,56.74812461742792,57.12316361807368,57.49721895267074,57.87712226380657,58.254167381119835,58.6279096837171,59.00552593775206,59.38552304425573,59.760121898720406],\"y\":[0.0,0.7953034979292452,1.108485391981163,1.2675772432776946,1.3651334985760186,1.4250228326393193,1.4458028317829514,1.4257611637304974,1.370851111246558,1.302561089530612,1.2673804049612871,1.3256077671771778,1.4569278937663617,1.5215795735072055,1.4358301376177987,1.2933864538678028,1.2345856864676936,1.3239629154855739,1.4936724546375304,1.5696448962746954,1.466622596862753,1.2920953156039177,1.1944024829364546,1.255490930234468,1.4494938875187722,1.6163116641489146,1.5928036800669803,1.4080463945858552,1.217445583876108,1.1440225098838261,1.2452951054529717,1.4821835109030543,1.6854847148396161,1.6775759852113563,1.4762482391864025,1.2410495953777139,1.1013893976861184,1.1289311035179856,1.3407595963681718,1.6328104955328178,1.8040957703180538,1.7161723228951504,1.4583794239965935,1.1998693335042394,1.0495484463789875,1.0679244973303497,1.283313360061697,1.6161976705004992,1.8756365832929456,1.8710906480235923,1.625600989740297,1.3182387010171674,1.0810419724260003,0.9825913054650961,1.0710422596235645,1.3580304011900481,1.7335932742911506,1.9906291459520926,1.9486890506830246,1.6641045302194033,1.3299922473096508,1.0699847061261547,0.9446184951064758,0.9991459700176419,1.2649588832645888,1.6650482821539154,2.011181160329655,2.0862372325961633,1.8495621333001007,1.491184595754377,1.1709143035713745,0.9643212182423195,0.9115640199929753,1.0606883806944338,1.4135311395569636,1.843808813907676,2.1376463741345018,2.1014829194497975,1.7881940879912375,1.4130778359250566,1.1048306661460467,0.9216256235138652,0.8997701219279978,1.0882360763372037,1.4744994518638956,1.916280711021674,2.1946399554316467,2.1245869865195393,1.7870099544541271,1.4027574866223418,1.0920691091256054,0.9083018024802725,0.8858233363307694,1.0745098777190734,1.4655038339285007,1.9186196741223156,2.2164474711794933,2.1644637856578814,1.8285267328326678,1.4357339685633335,1.112225025827812,0.9130674703542428,0.8706215417629191,1.0348239751578332,1.411480226226355,1.8739811351213616,2.210427528122143,2.2105329435928467,1.896057186992234,1.4968874435766522,1.1553319844063457,0.932549198636708,0.8598820351985713,0.9850394083698183,1.3320297973926594,1.796759140074351,2.1770361894852233,2.2507850905227196,1.9774441824117592,1.5766279261059057,1.215311774192165,0.96469387637857,0.8577707076961594,0.9376160291719939,1.2433747882900548,1.6996019375126603,2.1186501924252314,2.2746846325415535,2.0618326124682715,1.6681013282023271,1.288682680596358,1.0087317686201085,0.8661109553512433,0.8982501739168983,1.153467940799299,1.5894513453807375,2.0382678940296888,2.275946024734243,2.1403962126525395,1.765300340679215,1.3714682364209856,1.0629623778637993,0.8852257781902688,0.8707659973031007,1.0706924719960107,1.4752053281957291,1.9413019523145416,2.2519813675123497,2.206841529755347,1.865660105538799],\"marker\":{},\"line\":{\"shape\":\"spline\"},\"name\":\"x2\"},{\"type\":\"scatter\",\"mode\":\"lines\",\"x\":[0.0,0.1971861333671186,0.35420663868132435,0.49981152932609146,0.654725900882583,0.8413634798910722,1.0684648902489875,1.3412636991783697,1.6666720427801622,2.0556708095827982,2.5220232052384484,3.061154071628584,3.6307385340839113,4.207888359107802,4.7838710489723,5.355251729533617,5.9207521936866385,6.479684853242126,7.032002898885754,7.577710704111692,8.116801880464187,8.64960455528168,9.176068867356584,9.69619285637591,10.210419371210147,10.71754990875884,11.219381242469987,11.713267656712262,12.203092071431923,12.685510041844845,13.165364138116725,13.640026607952793,14.110210082236597,14.57689370636274,15.035850674454322,15.493025714836156,15.944527913529274,16.39327787536433,16.839623980797413,17.278609229919162,17.717027736118578,18.15158843627071,18.581905463022125,19.011514473142697,19.43515845494813,19.85778116859122,20.279677088205638,20.694885703809675,21.11042151391668,21.525143718716485,21.933699475695338,22.342990536526163,22.751315376274913,23.15430863679759,23.558364527525836,23.9615020959596,24.35972301629674,24.759226741989632,25.158290804527006,25.552396800064894,25.947850406658844,26.343779799293547,26.734387396887854,27.126154729509167,27.519608482371627,27.907434661498556,28.295936171262476,28.687239015127886,29.073149568786178,29.458887494289012,29.84806374754535,30.233046928731206,30.616453152898963,31.003282879062837,31.38840416202399,31.770079362842605,32.15420729884216,32.53969250018335,32.92007047830801,33.30140284009572,33.68656143845543,34.06646100271682,34.4457100938079,34.82955335362984,35.210297970384445,35.58837442479348,35.96997555042014,36.35239221750446,36.73001111163157,37.1089063919844,37.49192598276428,37.86962516054802,38.24645646574109,38.628393488806665,39.00755549774847,39.383670823073416,39.763327763875616,40.1446998580917,40.52091656423016,40.89784948034406,41.2796910280209,41.65660769371819,42.031922897178035,42.41239011621187,42.79157909089436,43.166806920770505,43.54466836002509,43.925901499182594,44.30152457001102,44.67671115421137,45.057458651901165,45.43449117019015,45.80891155722403,46.18776498386424,46.56771826377501,46.942706063614516,47.31879686355621,47.699840408074756,48.075762265810134,48.450067316997135,48.82985846052014,49.208223765798564,49.58259995341233,49.959759626774826,50.3404457000219,50.715489942011416,51.08995032448456,51.47017030401106,51.84686756862971,52.22072097645436,52.59894292806136,52.97870983713817,53.353335998089065,53.7287589082623,54.10944552938478,54.4852213383709,54.85906616104698,55.23832209664528,55.616823528584625,55.99100059585969,56.36750977351686,56.74812461742792,57.12316361807368,57.49721895267074,57.87712226380657,58.254167381119835,58.6279096837171,59.00552593775206,59.38552304425573,59.760121898720406],\"y\":[0.1,0.865675263503158,1.119908987261577,1.2182715380167946,1.2603326552113798,1.2731775119656177,1.269564367960622,1.2667371326414074,1.2869422609858905,1.3507444941294156,1.4513568927618818,1.5085934578506361,1.4377617313784674,1.3055497774771907,1.2463229753588327,1.3281655762054538,1.4861096820120452,1.5511514774147688,1.447008518261904,1.2842300677361302,1.207260181345682,1.28820349426067,1.4792878038508754,1.607576132675714,1.5405964877987,1.3497542264046407,1.1919666634411594,1.1746398853090998,1.3283532726317289,1.5620154435972469,1.684428814401216,1.5828863858198627,1.3569668956994179,1.165450208505082,1.1110668555952585,1.2401179011270516,1.5063284712415461,1.7370772494616007,1.744726211092397,1.5359698820540812,1.273438346553796,1.0910611734814586,1.0634927805879006,1.2298101638013972,1.538407654258636,1.8153346936640602,1.8575416851827102,1.64608272875866,1.3477709974724696,1.1066848927216828,0.9999488678868202,1.0771231527656664,1.3511627623920983,1.7142598629902452,1.960552856883573,1.9138903894283044,1.6339248222356204,1.3096043024427797,1.0627204655132505,0.9540573596926419,1.0302902284868767,1.3136523632459585,1.709799151829755,2.0200338238678004,2.0394486336537456,1.773856556392163,1.4208449457349939,1.1227245837640643,0.947085871764903,0.9350051339957568,1.1326406541570424,1.5134483381133434,1.9249060821837907,2.1441644164933917,2.0207697307815735,1.6770743444593437,1.3157693674501685,1.0413768683061095,0.9021137964988599,0.9386071505849399,1.1933858240806392,1.61289337283487,2.023652432606679,2.200120506295895,2.0221558488538207,1.6522015559285421,1.286175975112343,1.0159930542503126,0.8835865363572317,0.9293311407390862,1.1964126882897217,1.6284910546184488,2.049690665029511,2.2342460771774113,2.055998869904435,1.6787575825475125,1.3035846410678251,1.022985916012819,0.8784716765886049,0.9080481997840364,1.1587849845846776,1.5876651361500318,2.027127473622615,2.252648292743332,2.1100573868879002,1.7380321007425275,1.3514548893210079,1.0520727195272135,0.8848225306795368,0.8840634844574276,1.0999900307708355,1.5119958575865826,1.9689186940009265,2.2506897395107437,2.1705143649652294,1.8175358481261015,1.4206598271260529,1.0986294594397104,0.9029433818889204,0.8651066804459095,1.035555353673766,1.4188621703354798,1.8861397454678757,2.2250510309008673,2.224459123026582,1.9064869417749475,1.5037407995373102,1.1588111421289045,0.9325126938865387,0.8555565240229768,0.9751616852959003,1.3183410374869176,1.7849282178064352,2.174616052415088,2.263761437630464,1.9989748396133704,1.5969737891484448,1.230396120157728,0.9725928418835761,0.8570163748340099,0.9253205338356365,1.2198227796230874,1.6732734408184866,2.102368885168011,2.281150364337115,2.0869192214954597,1.69595058838788,1.3113604009814277,1.0227461698722444,0.8696781327745251],\"marker\":{},\"line\":{\"shape\":\"spline\"},\"name\":\"x3\"}];\r\n",
       "            var layout = {\"width\":1100,\"height\":600,\"template\":{\"layout\":{\"title\":{\"x\":0.05},\"font\":{\"color\":\"rgba(42, 63, 95, 1.0)\"},\"paper_bgcolor\":\"rgba(255, 255, 255, 1.0)\",\"plot_bgcolor\":\"rgba(229, 236, 246, 1.0)\",\"autotypenumbers\":\"strict\",\"colorscale\":{\"diverging\":[[0.0,\"#8e0152\"],[0.1,\"#c51b7d\"],[0.2,\"#de77ae\"],[0.3,\"#f1b6da\"],[0.4,\"#fde0ef\"],[0.5,\"#f7f7f7\"],[0.6,\"#e6f5d0\"],[0.7,\"#b8e186\"],[0.8,\"#7fbc41\"],[0.9,\"#4d9221\"],[1.0,\"#276419\"]],\"sequential\":[[0.0,\"#0d0887\"],[0.1111111111111111,\"#46039f\"],[0.2222222222222222,\"#7201a8\"],[0.3333333333333333,\"#9c179e\"],[0.4444444444444444,\"#bd3786\"],[0.5555555555555556,\"#d8576b\"],[0.6666666666666666,\"#ed7953\"],[0.7777777777777778,\"#fb9f3a\"],[0.8888888888888888,\"#fdca26\"],[1.0,\"#f0f921\"]],\"sequentialminus\":[[0.0,\"#0d0887\"],[0.1111111111111111,\"#46039f\"],[0.2222222222222222,\"#7201a8\"],[0.3333333333333333,\"#9c179e\"],[0.4444444444444444,\"#bd3786\"],[0.5555555555555556,\"#d8576b\"],[0.6666666666666666,\"#ed7953\"],[0.7777777777777778,\"#fb9f3a\"],[0.8888888888888888,\"#fdca26\"],[1.0,\"#f0f921\"]]},\"hovermode\":\"closest\",\"hoverlabel\":{\"align\":\"left\"},\"coloraxis\":{\"colorbar\":{\"outlinewidth\":0.0,\"ticks\":\"\"}},\"geo\":{\"showland\":true,\"landcolor\":\"rgba(229, 236, 246, 1.0)\",\"showlakes\":true,\"lakecolor\":\"rgba(255, 255, 255, 1.0)\",\"subunitcolor\":\"rgba(255, 255, 255, 1.0)\",\"bgcolor\":\"rgba(255, 255, 255, 1.0)\"},\"mapbox\":{\"style\":\"light\"},\"polar\":{\"bgcolor\":\"rgba(229, 236, 246, 1.0)\",\"radialaxis\":{\"linecolor\":\"rgba(255, 255, 255, 1.0)\",\"gridcolor\":\"rgba(255, 255, 255, 1.0)\",\"ticks\":\"\"},\"angularaxis\":{\"linecolor\":\"rgba(255, 255, 255, 1.0)\",\"gridcolor\":\"rgba(255, 255, 255, 1.0)\",\"ticks\":\"\"}},\"scene\":{\"xaxis\":{\"ticks\":\"\",\"linecolor\":\"rgba(255, 255, 255, 1.0)\",\"gridcolor\":\"rgba(255, 255, 255, 1.0)\",\"gridwidth\":2.0,\"zerolinecolor\":\"rgba(255, 255, 255, 1.0)\",\"backgroundcolor\":\"rgba(229, 236, 246, 1.0)\",\"showbackground\":true},\"yaxis\":{\"ticks\":\"\",\"linecolor\":\"rgba(255, 255, 255, 1.0)\",\"gridcolor\":\"rgba(255, 255, 255, 1.0)\",\"gridwidth\":2.0,\"zerolinecolor\":\"rgba(255, 255, 255, 1.0)\",\"backgroundcolor\":\"rgba(229, 236, 246, 1.0)\",\"showbackground\":true},\"zaxis\":{\"ticks\":\"\",\"linecolor\":\"rgba(255, 255, 255, 1.0)\",\"gridcolor\":\"rgba(255, 255, 255, 1.0)\",\"gridwidth\":2.0,\"zerolinecolor\":\"rgba(255, 255, 255, 1.0)\",\"backgroundcolor\":\"rgba(229, 236, 246, 1.0)\",\"showbackground\":true}},\"ternary\":{\"aaxis\":{\"ticks\":\"\",\"linecolor\":\"rgba(255, 255, 255, 1.0)\",\"gridcolor\":\"rgba(255, 255, 255, 1.0)\"},\"baxis\":{\"ticks\":\"\",\"linecolor\":\"rgba(255, 255, 255, 1.0)\",\"gridcolor\":\"rgba(255, 255, 255, 1.0)\"},\"caxis\":{\"ticks\":\"\",\"linecolor\":\"rgba(255, 255, 255, 1.0)\",\"gridcolor\":\"rgba(255, 255, 255, 1.0)\"},\"bgcolor\":\"rgba(229, 236, 246, 1.0)\"},\"xaxis\":{\"title\":{\"standoff\":15},\"ticks\":\"\",\"automargin\":true,\"linecolor\":\"rgba(255, 255, 255, 1.0)\",\"gridcolor\":\"rgba(255, 255, 255, 1.0)\",\"zerolinecolor\":\"rgba(255, 255, 255, 1.0)\",\"zerolinewidth\":2.0},\"yaxis\":{\"title\":{\"standoff\":15},\"ticks\":\"\",\"automargin\":true,\"linecolor\":\"rgba(255, 255, 255, 1.0)\",\"gridcolor\":\"rgba(255, 255, 255, 1.0)\",\"zerolinecolor\":\"rgba(255, 255, 255, 1.0)\",\"zerolinewidth\":2.0},\"annotationdefaults\":{\"arrowcolor\":\"#2a3f5f\",\"arrowhead\":0,\"arrowwidth\":1},\"shapedefaults\":{\"line\":{\"color\":\"rgba(42, 63, 95, 1.0)\"}},\"colorway\":[\"rgba(99, 110, 250, 1.0)\",\"rgba(239, 85, 59, 1.0)\",\"rgba(0, 204, 150, 1.0)\",\"rgba(171, 99, 250, 1.0)\",\"rgba(255, 161, 90, 1.0)\",\"rgba(25, 211, 243, 1.0)\",\"rgba(255, 102, 146, 1.0)\",\"rgba(182, 232, 128, 1.0)\",\"rgba(255, 151, 255, 1.0)\",\"rgba(254, 203, 82, 1.0)\"]},\"data\":{\"bar\":[{\"marker\":{\"line\":{\"color\":\"rgba(229, 236, 246, 1.0)\",\"width\":0.5},\"pattern\":{\"fillmode\":\"overlay\",\"size\":10,\"solidity\":0.2}},\"error_x\":{\"color\":\"rgba(42, 63, 95, 1.0)\"},\"error_y\":{\"color\":\"rgba(42, 63, 95, 1.0)\"}}],\"barpolar\":[{\"marker\":{\"line\":{\"color\":\"rgba(229, 236, 246, 1.0)\",\"width\":0.5},\"pattern\":{\"fillmode\":\"overlay\",\"size\":10,\"solidity\":0.2}}}],\"carpet\":[{\"aaxis\":{\"linecolor\":\"rgba(255, 255, 255, 1.0)\",\"gridcolor\":\"rgba(255, 255, 255, 1.0)\",\"endlinecolor\":\"rgba(42, 63, 95, 1.0)\",\"minorgridcolor\":\"rgba(255, 255, 255, 1.0)\",\"startlinecolor\":\"rgba(42, 63, 95, 1.0)\"},\"baxis\":{\"linecolor\":\"rgba(255, 255, 255, 1.0)\",\"gridcolor\":\"rgba(255, 255, 255, 1.0)\",\"endlinecolor\":\"rgba(42, 63, 95, 1.0)\",\"minorgridcolor\":\"rgba(255, 255, 255, 1.0)\",\"startlinecolor\":\"rgba(42, 63, 95, 1.0)\"}}],\"choropleth\":[{\"colorbar\":{\"outlinewidth\":0.0,\"ticks\":\"\"},\"colorscale\":[[0.0,\"#0d0887\"],[0.1111111111111111,\"#46039f\"],[0.2222222222222222,\"#7201a8\"],[0.3333333333333333,\"#9c179e\"],[0.4444444444444444,\"#bd3786\"],[0.5555555555555556,\"#d8576b\"],[0.6666666666666666,\"#ed7953\"],[0.7777777777777778,\"#fb9f3a\"],[0.8888888888888888,\"#fdca26\"],[1.0,\"#f0f921\"]]}],\"contour\":[{\"colorbar\":{\"outlinewidth\":0.0,\"ticks\":\"\"},\"colorscale\":[[0.0,\"#0d0887\"],[0.1111111111111111,\"#46039f\"],[0.2222222222222222,\"#7201a8\"],[0.3333333333333333,\"#9c179e\"],[0.4444444444444444,\"#bd3786\"],[0.5555555555555556,\"#d8576b\"],[0.6666666666666666,\"#ed7953\"],[0.7777777777777778,\"#fb9f3a\"],[0.8888888888888888,\"#fdca26\"],[1.0,\"#f0f921\"]]}],\"contourcarpet\":[{\"colorbar\":{\"outlinewidth\":0.0,\"ticks\":\"\"}}],\"heatmap\":[{\"colorbar\":{\"outlinewidth\":0.0,\"ticks\":\"\"},\"colorscale\":[[0.0,\"#0d0887\"],[0.1111111111111111,\"#46039f\"],[0.2222222222222222,\"#7201a8\"],[0.3333333333333333,\"#9c179e\"],[0.4444444444444444,\"#bd3786\"],[0.5555555555555556,\"#d8576b\"],[0.6666666666666666,\"#ed7953\"],[0.7777777777777778,\"#fb9f3a\"],[0.8888888888888888,\"#fdca26\"],[1.0,\"#f0f921\"]]}],\"heatmapgl\":[{\"colorbar\":{\"outlinewidth\":0.0,\"ticks\":\"\"},\"colorscale\":[[0.0,\"#0d0887\"],[0.1111111111111111,\"#46039f\"],[0.2222222222222222,\"#7201a8\"],[0.3333333333333333,\"#9c179e\"],[0.4444444444444444,\"#bd3786\"],[0.5555555555555556,\"#d8576b\"],[0.6666666666666666,\"#ed7953\"],[0.7777777777777778,\"#fb9f3a\"],[0.8888888888888888,\"#fdca26\"],[1.0,\"#f0f921\"]]}],\"histogram\":[{\"marker\":{\"pattern\":{\"fillmode\":\"overlay\",\"size\":10,\"solidity\":0.2}}}],\"histogram2d\":[{\"colorbar\":{\"outlinewidth\":0.0,\"ticks\":\"\"},\"colorscale\":[[0.0,\"#0d0887\"],[0.1111111111111111,\"#46039f\"],[0.2222222222222222,\"#7201a8\"],[0.3333333333333333,\"#9c179e\"],[0.4444444444444444,\"#bd3786\"],[0.5555555555555556,\"#d8576b\"],[0.6666666666666666,\"#ed7953\"],[0.7777777777777778,\"#fb9f3a\"],[0.8888888888888888,\"#fdca26\"],[1.0,\"#f0f921\"]]}],\"histogram2dcontour\":[{\"colorbar\":{\"outlinewidth\":0.0,\"ticks\":\"\"},\"colorscale\":[[0.0,\"#0d0887\"],[0.1111111111111111,\"#46039f\"],[0.2222222222222222,\"#7201a8\"],[0.3333333333333333,\"#9c179e\"],[0.4444444444444444,\"#bd3786\"],[0.5555555555555556,\"#d8576b\"],[0.6666666666666666,\"#ed7953\"],[0.7777777777777778,\"#fb9f3a\"],[0.8888888888888888,\"#fdca26\"],[1.0,\"#f0f921\"]]}],\"mesh3d\":[{\"colorbar\":{\"outlinewidth\":0.0,\"ticks\":\"\"}}],\"parcoords\":[{\"line\":{\"colorbar\":{\"outlinewidth\":0.0,\"ticks\":\"\"}}}],\"pie\":[{\"automargin\":true}],\"scatter\":[{\"marker\":{\"colorbar\":{\"outlinewidth\":0.0,\"ticks\":\"\"}}}],\"scatter3d\":[{\"marker\":{\"colorbar\":{\"outlinewidth\":0.0,\"ticks\":\"\"}},\"line\":{\"colorbar\":{\"outlinewidth\":0.0,\"ticks\":\"\"}}}],\"scattercarpet\":[{\"marker\":{\"colorbar\":{\"outlinewidth\":0.0,\"ticks\":\"\"}}}],\"scattergeo\":[{\"marker\":{\"colorbar\":{\"outlinewidth\":0.0,\"ticks\":\"\"}}}],\"scattergl\":[{\"marker\":{\"colorbar\":{\"outlinewidth\":0.0,\"ticks\":\"\"}}}],\"scattermapbox\":[{\"marker\":{\"colorbar\":{\"outlinewidth\":0.0,\"ticks\":\"\"}}}],\"scatterpolar\":[{\"marker\":{\"colorbar\":{\"outlinewidth\":0.0,\"ticks\":\"\"}}}],\"scatterpolargl\":[{\"marker\":{\"colorbar\":{\"outlinewidth\":0.0,\"ticks\":\"\"}}}],\"scatterternary\":[{\"marker\":{\"colorbar\":{\"outlinewidth\":0.0,\"ticks\":\"\"}}}],\"surface\":[{\"colorbar\":{\"outlinewidth\":0.0,\"ticks\":\"\"},\"colorscale\":[[0.0,\"#0d0887\"],[0.1111111111111111,\"#46039f\"],[0.2222222222222222,\"#7201a8\"],[0.3333333333333333,\"#9c179e\"],[0.4444444444444444,\"#bd3786\"],[0.5555555555555556,\"#d8576b\"],[0.6666666666666666,\"#ed7953\"],[0.7777777777777778,\"#fb9f3a\"],[0.8888888888888888,\"#fdca26\"],[1.0,\"#f0f921\"]]}],\"table\":[{\"cells\":{\"fill\":{\"color\":\"rgba(235, 240, 248, 1.0)\"},\"line\":{\"color\":\"rgba(255, 255, 255, 1.0)\"}},\"header\":{\"fill\":{\"color\":\"rgba(200, 212, 227, 1.0)\"},\"line\":{\"color\":\"rgba(255, 255, 255, 1.0)\"}}}]}},\"xaxis\":{\"title\":{\"text\":\"Zeit\"}},\"yaxis\":{\"title\":{\"text\":\"Proteinkonzentration\"}}};\r\n",
       "            var config = {\"responsive\":true};\r\n",
       "            Plotly.newPlot('f2fa0b00-e5fb-4be9-a7a3-70137c488b2f', data, layout, config);\r\n",
       "});\r\n",
       "            };\r\n",
       "            if ((typeof(requirejs) !==  typeof(Function)) || (typeof(requirejs.config) !== typeof(Function))) {\r\n",
       "                var script = document.createElement(\"script\");\r\n",
       "                script.setAttribute(\"src\", \"https://cdnjs.cloudflare.com/ajax/libs/require.js/2.3.6/require.min.js\");\r\n",
       "                script.onload = function(){\r\n",
       "                    renderPlotly_f2fa0b00e5fb4be9a7a370137c488b2f();\r\n",
       "                };\r\n",
       "                document.getElementsByTagName(\"head\")[0].appendChild(script);\r\n",
       "            }\r\n",
       "            else {\r\n",
       "                renderPlotly_f2fa0b00e5fb4be9a7a370137c488b2f();\r\n",
       "            }\r\n",
       "</script>\r\n",
       "\n",
       "    \n",
       "</div>    \n"
      ]
     },
     "metadata": {},
     "output_type": "display_data"
    }
   ],
   "source": [
    "//Konstanten\n",
    "let beta  = 5. // Konstante für die Zunahme der Proteinkonzentration\n",
    "let gamma = 1.  // Konstante für die Abnahme der Proteinkonzentration \n",
    "let K_d   = 1.  // Dissoziationskonstante\n",
    "let n     = 3.  // Hillkonstante\n",
    "\n",
    "\n",
    "// Define a function which calculates the derivative\n",
    "let dP_dt : Model = \n",
    "    fun P t ->\n",
    "        let x1 = P[0] //Änderung der Proteinkonzentration von x1\n",
    "        let x2 = P[1] //Änderung der Proteinkonzentration von x2\n",
    "        let x3 = P[2] //Änderung der Proteinkonzentration von x3\n",
    "\n",
    "        //Differenzialgleichung die die Änderung der Proteinkonzentration von x1 beschreibt (hier die Gleichung einsetzen)\n",
    "        let x1' = beta / (1. + (x3/K_d) ** n) - gamma * x1\n",
    "        //Differenzialgleichung die die Änderung der Proteinkonzentration von x2 beschreibt (hier die Gleichung einsetzen)\n",
    "        let x2' = beta / (1. + (x1/K_d) ** n) - gamma * x2\n",
    "        //Differenzialgleichung die die Änderung der Proteinkonzentration von x3 beschreibt (hier die Gleichung einsetzen)\n",
    "        let x3' = beta / (1. + (x2/K_d) ** n) - gamma * x3\n",
    "\n",
    "        [|x1'; x2'; x3'|]\n",
    "\n",
    "//Startkonzentrationen\n",
    "let P0 = [|0.; 0.; 0.1|]\n",
    "\n",
    "let Ps = \n",
    "    modelContext.OdeInt(0.,P0,dP_dt)\n",
    "    |> SolPoints.take 150\n",
    "    |> SolPoints.memorize \n",
    "    \n",
    "let x1 = SolPoints.toPoints 1 Ps\n",
    "let x2 = SolPoints.toPoints 2 Ps\n",
    "let x3 = SolPoints.toPoints 3 Ps\n",
    "\n",
    "[\n",
    "    Chart.Spline (x1)\n",
    "    |> Chart.withTraceInfo (\"x1\")\n",
    "    Chart.Spline (x2)\n",
    "    |> Chart.withTraceInfo (\"x2\")\n",
    "    Chart.Spline (x3)\n",
    "    |> Chart.withTraceInfo (\"x3\")\n",
    "]\n",
    "|> Chart.combine\n",
    "|> Chart.withSize(1100,600)\n",
    "|> Chart.withXAxisStyle(\"Zeit\")\n",
    "|> Chart.withYAxisStyle(\"Proteinkonzentration\")"
   ]
  },
  {
   "cell_type": "markdown",
   "metadata": {},
   "source": [
    "##### Aufgabe 4.16\n",
    "***Fügen sie die drei Differenzialgleichungen die die Proteinkonzentration von x1, x2, und x3 beschreiben in den nachfolgenden Code Block ein (beachten sie das übliche).***"
   ]
  },
  {
   "cell_type": "code",
   "execution_count": null,
   "metadata": {
    "dotnet_interactive": {
     "language": "fsharp"
    },
    "vscode": {
     "languageId": "dotnet-interactive.fsharp"
    }
   },
   "outputs": [
    {
     "data": {
      "text/html": [
       "\n",
       "<div>\n",
       "    <div id=\"3ab8057b-52fa-4155-9ecd-e066558c717a\"><!-- Plotly chart will be drawn inside this DIV --></div>\r\n",
       "<script type=\"text/javascript\">\r\n",
       "\r\n",
       "            var renderPlotly_3ab8057b52fa41559ecde066558c717a = function() {\r\n",
       "            var fsharpPlotlyRequire = requirejs.config({context:'fsharp-plotly',paths:{plotly:'https://cdn.plot.ly/plotly-2.6.3.min'}}) || require;\r\n",
       "            fsharpPlotlyRequire(['plotly'], function(Plotly) {\r\n",
       "\r\n",
       "            var data = [{\"type\":\"scatter3d\",\"mode\":\"lines\",\"x\":[0.0,0.7439126026230873,0.9924106211795813,1.115692467869219,1.2011689557405016,1.2763281724538003,1.3492112742445568,1.42049910364296,1.4781104591949121,1.4920016468991029,1.4300385953167165,1.3166093937987495,1.2572320478440802,1.3265498952463068,1.472686199264909,1.5353328005584705,1.4375175983530104,1.2855100105649535,1.2213976328510705,1.3110978827172615,1.4925810811678772,1.5896733487613046,1.4977526978115225,1.3125100581713747,1.1871031969051922,1.2155210030692971,1.3992411072192412,1.6050356197326585,1.6462686420511117,1.4881005172904387,1.2710502549143843,1.1369051214906554,1.1662884123775437,1.3693634889247746,1.628296704639554,1.7429202729684532,1.616692921942676,1.3670278485081462,1.1525118739893014,1.07086198497135,1.1738655660790651,1.4445106277356337,1.7361169165925667,1.8394227760551636,1.6788300884086915,1.3946461592041035,1.1453446403981966,1.021020592382001,1.074743133524634,1.3254867657877565,1.6750970960375846,1.922695429796265,1.8884505829470946,1.6211555498891013,1.305661523928832,1.0665631230062038,0.9672393871536653,1.0551453718624295,1.3453265435459127,1.732431914289233,2.011622479371701,1.9916792388847298,1.7111836400519262,1.3670314477952026,1.0895163384104265,0.9413737745245288,0.9657835224697023,1.2028633742071646,1.5987723708221977,1.9805211518681085,2.1241676247236616,1.933996590702404,1.5772483671133655,1.235133800279403,0.9951547233302689,0.8995623298895067,0.9939717701746406,1.3046668623007482,1.7385463125545548,2.098284731916114,2.1654892214365296,1.9061037751552041,1.526146426529333,1.1865118548944262,0.9594399683034557,0.8809360530224283,0.9980142287959232,1.3328036387333602,1.782243242170626,2.144108452052851,2.2001001955610495,1.9251674161407413,1.5349170036584339,1.1883432935170235,0.9550578886079114,0.8690663762143157,0.976543625970802,1.3056916411448143,1.761321723583229,2.145363245968511,2.235015901379401,1.9770354218544415,1.5824493070776475,1.2225076335523148,0.9714181689100456,0.8636303420075778,0.9422916145956343,1.2457464587379108,1.6982531197325175,2.112152915533146,2.261803162663365,2.0463892678972355,1.6548452409084988,1.2793443569423606,1.0042084928157267,0.8671774440403378,0.9067805799066281,1.1698956220526848,1.6082905145024609,2.050340589807583,2.2711925174685543,2.1194734542505977,1.7410528208931018,1.3513136990510701,1.050048776600535,0.8811100248124819,0.878148334655391,1.091887725238105,1.5043329269682602,1.9659074806157468,2.257393940912355,2.1871097132050377,1.8359597807615282,1.4357628449115518,1.1083312289386167,0.906137724345736,0.8599437331363453,1.0198345056393712,1.3961447429083271,1.8659146093137933,2.2192128807408427,2.2403912963972497,1.9328925424046728,1.528402161388807,1.1767820859235225,0.9415768472410375,0.8536636948903316,0.9588136474008321,1.2893813575324506,1.7542696123380441,2.1575231994876796,2.2739080574170143,2.028046461386143,1.6275506609752055,1.254570050855621,0.9868152002132009,0.8591843986786869,0.9113751975870007,1.1890226514052364,1.6361267166248572,2.0758631966808343,2.282814607523556,2.114624061261387,1.7295113574780112,1.3397319402526275,1.0411885824449494,0.8759904346468972,0.8780288459992411,1.098112563336556,1.5153918670348947,1.9777148612285418,2.2653150514326885,2.188339489342304,1.8332349765939981,1.4321329680747867,1.105088213448946,0.9037523786206964,0.8586936449196754,1.020125387123071,1.3980614054306935,1.8689279675219783,2.2226464518359865,2.243438670000751,1.9350110470202724,1.5297130157980576,1.1774061166236809,0.9415190436750276,0.8527943830874324,0.9568790391984126,1.2866635976579288,1.7518595407837476,2.15690877692314,2.2764211220869974,2.032505549400062,1.6318648178800623,1.2578357790227814,0.9886096847155198,0.859227097954592,0.9090760386559877,1.1842675353928278,1.630528309764144,2.07205584014435,2.2835904625472603,2.1196916565925537,1.7354861313735672,1.344732573890472,1.044411875490264,0.8770570944656291,0.8762305002745819,1.0928629593584112,1.5081564241873477,1.9715885544177945,2.263903256211217,2.192954424179863,1.8401634699214147,1.438433580425193,1.1095564225750965,0.9058453762516732,0.8577333094210833,1.0152312602208644,1.390220222084269,1.861259884338253,2.219099420518856,2.2468122972335074,1.9422096659224652,1.5368155694595078,1.1827893617336112,0.9444745971516131,0.852772539780533,0.9529058707557461,1.2790311238473004,1.7433479783709775,2.1515436392787946,2.2780094859320084,2.0393894110031776,1.6394840128413093,1.2640238183521615,0.992406142023843,0.86012016206626,0.9060858460003136,1.1770433132070186,1.621435116008817,2.0651400418431267,2.2831546513639505,2.125769653796045,1.7433144930653106,1.3515048200940123,1.0489424854368365,0.8788189607048238,0.874314367322293,1.0864744023584252,1.4990638726890517,1.9635889911281588,2.261413554084089,2.1978041791185503,1.8480463093644668,1.4457562277110783,1.1148438295750411,0.9084436801331306,0.8568780332044179,1.009901147235585,1.3814338313269152,1.8524726465539365,2.2147201305354938,2.2500895641878,1.949894465629753,1.544531039941768,1.1887036758981864,0.947790384142462,0.8529036313465649,0.9488042822024955,1.2709373791375655,1.734177822376896,2.145579168651112,2.2793638931349567,2.046483403278635,1.6474737844849092,1.2705672726682549,0.9964686888812513,0.8611662243787598,0.9030973781261618,1.1696029401342625,1.6119458614542714,2.057793325100613,2.2824442189715026,2.1319020100199846,1.7513768766012183,1.358529438718978,1.0536808931510762,0.88071045408951,0.872479320528566,1.0801185687409978,1.4899224909329507,1.9554546453720556,2.2587163824241667,2.2025087241880983,1.8559066695946869,1.4531110513720216,1.1201888935775257,0.9111122069309772,0.8561156006647742,1.0046754096097947,1.3726976472887062,1.843641221517258,2.2101903207859976,2.2531941808989715,1.957509997573874,1.552242937016626,1.1946491779901471,0.9511562488113707,0.8531122887099358,0.9448119822448693,1.2629272768851292,1.7250107525950416,2.1395121012694043,2.2805433137693996,2.0534794897617243,1.6554409725152888,1.2771265809306294,1.0005713459687309,0.8622798463783701,0.9002135265576197,1.1622622572806616,1.6024893509638036,2.05037868423791,2.2815663999502727,2.137918133479657,1.7594115092799663,1.3655671194115084,1.058457779429142,0.8826604831464979,0.8707380994372187,1.0738729345216813,1.4808442826425519,1.9472945299919422,2.2558823674004174,2.2070762465961233,1.8637188417959467,1.46046569377157,1.125563049342124,0.9138297279630635,0.8554344109517696,0.9995569091629435,1.364030148149795,1.8347940912524776,2.205541802504139,2.256150161998728,1.9650704856477845,1.5599595319157618,1.2006291168899619,0.9545705916580358,0.8533907715669828,0.9409137842522929,1.2549812970956884,1.7158306433188866,2.1333402511331694,2.2815668212014617,2.0604102946292793,1.6634182670031117,1.2837266252644277,1.0047279852985416,0.8634612994068457,0.8974166379499263,1.1549856967198369,1.593023817029937,2.042867720071313,2.2805260240559084,2.143854673021709,1.767464499627954,1.3726573674048341,1.0632991877827478,0.8846792250680167,0.869074808746359,1.0676862051980427,1.4717547945721416,1.9390426934568974,2.252892502261659,2.211549842791558,1.8715541888592515,1.4678873529640732,1.1310151437262426,0.9166201604005321,0.8548266000558872,0.9944975138015452,1.3553513454580342,1.825850209416115,2.2007335950761298,2.2589859523884326,1.972647979415034,1.5677552862849604,1.2067013366882486,0.9580664297829887,0.8537413893520831,0.9370716342424009,1.24702271570149,1.7065488731916982,2.127004164972375,2.282441246282614,2.0673000539723994,1.671419765573134,1.29037350980336,1.008940628057936,0.8647104381727939,0.8947055040148805,1.1477725560675258,1.5835492028762244,2.0352610174463037,2.279323193770222,2.1497108865117487,1.7755372393792352,1.3798020831222217,1.0682067333291552,0.8867673302595008,0.8674891882784421,1.0615580052476248,1.4626528771709806,1.9306974317344703,2.2497454640696932,2.215928050269393,1.8794142193823138,1.475378954829589,1.1365479423186666,0.9194852068928042,0.8542926814080696,0.9894971295262877,1.3466598661323441,1.8168066928195155,2.1957627480912336,2.2616985083050665,1.98024316957086,1.5756334610346356,1.2128692636202487,0.9616464706262744,0.8541656147439813,0.9332858061585563,1.239050181069677,1.6971750259631597,2.1205218139040647,2.283160317738862,2.074118582862156,1.679411067305252,1.2970382851408295,1.0131907926135681,0.8660212741184217,0.8920912111376355,1.1406547781040939,1.5741083627995267,2.0275937449603574,2.2779637601371974,2.155459111914263,1.7835936771467138,1.386969977353414,1.0731591550561497,0.8889155932621042,0.8659880643082898,1.055516176892575,1.4535797136243227,1.9222961558306726,2.2464551148302054,2.220189068937716,1.8872632100359121,1.4829078027888734,1.1421377927090868,0.922412775141207,0.8538353816664345,0.9845789816018173,1.337995468328028,1.807703883724475,2.1906505474615545,2.2642723456157148,1.9878203912724013,1.5835593856385015,1.2191064845486013,0.9652959961829639,0.8546625769922944,0.9295743457439438,1.2311004622145525,1.6877855537991282,2.1139819305513385,2.2837152684647797,2.080787324491877,1.6873091586812081,1.3036545318823136,1.017436722292665,0.8673796428315762,0.8895957152120584,1.1336976786651485,1.564790484361437,2.0199407548965764,2.2764642152739603,2.1610456195953094,1.7915578623493853,1.3940933680130596,1.0781093427848067,0.8911026048703389,0.8645836976143348,1.049616638960194,1.4446211584335809,1.9139196631516486,2.2430553216792624,2.224292659165196,1.8950263216121759,1.4904025058053538,1.1477315828242085,0.9253745505497899,0.8534578221700153,0.9797888753182455,1.3294406836640846,1.798629286799909,2.1854474646904545,2.266682531293831,1.9953063328318839,1.5914573759102293,1.2253535106394797,0.9689802277098161,0.8552271029124396,0.9259720666877087,1.223249700107775,1.678423764815444,2.1073680210456947,2.284112640954894,2.0873638329490434,1.6951897398433289,1.3102880741832135,1.0217211631609948,0.868798015917781,0.8871904737902839,1.1268270845215227,1.555498629217277,2.0122246776287978,2.274812409100255,2.166529004132004,1.7995127903632717,1.4012464558779434,1.0831085588730647,0.8933501155460672,0.8632596957220648,1.0437969568706307,1.4356841571169563,1.9054821007346538,2.2395132754642644,2.228281412946785,1.9027836093346842,1.49794081892836,1.1533872767487723,0.9284007903977003,0.8531549911089027,0.9750763817798987,1.3209071874869167,1.7894899205690218,2.1801013576701487,2.268953385085144,2.0027771149024387,1.5994088601570602,1.231674853101989,0.972737292426048,0.855864693020824,0.9224413183496746,1.2154172723303716,1.6689939508762004,2.1006127712753346,2.284355418255407,2.093914126701223,1.7031341929553474,1.3170078763773643,1.0260890240458393,0.8702914024110693,0.8848508800445782,1.119973017022659,1.5461378100929197,2.004366234567178,2.2729900169205033,2.1719629325126633,1.8075401470991774,1.408503890679418,1.0882095718387053,0.895682173203087,0.8620031897081287,1.0379986984877168,1.4266775863102548,1.8968960101472563,2.2357906212705787,2.232192635596569,1.9106139098420976,1.505601401168065,1.15914167720154,0.931492701545652,0.8529275477528605,0.9704613239203816,1.3124375935741859,1.7803348409769184,2.1746421735914665,2.2710706479485085,2.01018934800371,1.6073691423810967,1.2380352472260183,0.9765465133093392,0.8565719480853943,0.9190021844865163,1.2076481860072246,1.6595501002512298,2.0937544959700514,2.28444004600958,2.100398896647424,1.711097874720206,1.3237768987384646,1.0305167959543025,0.8718522355495306,0.8825909282808232,1.113175515161549,1.5367616784771014,1.9964094413307176,2.271004963321208,2.1773131696553762,1.815594330709002,1.4158259800392883,1.093385296471258,0.8980869866105923,0.8608226034430384,1.0322566448704924,1.4176533355119354,1.888208804915424,2.23190545813653,2.235999570642992,1.9184451998609904,1.513277424296105,1.1649190363362303,0.9346200532894543,0.8527759038950258,0.9659747522768617,1.3040878719683295,1.7712240468673786,2.1691073011380504,2.2730219854050056,2.017495778573363,1.6152880019637863,1.2443943667996669,0.9803835590382421,0.8573434237154447,0.9156748279579917,1.199990944942713,1.6501525722291517,2.086838296832326,2.2843666418037096,2.1067761404023373,1.7190305515812447,1.3305526168082173,1.0349767425338798,0.8734703834243986,0.8804242286940407,1.106477723497943,1.5274303290617786,1.9884057563660524,2.268870311365754,2.182543909842924,1.8236238136147462,1.4231667578109692,1.098603550331585,0.9005495131893538,0.8597253555325243,1.0266080159875108,1.4086696316711387,1.8794759435595956,2.2278822326303245,2.239675335767206,1.9262298962646411,1.5209276125895481,1.1706944906899168,0.937772962008874,0.852697932451119,0.9616214476765613,1.295869723384233,1.7621720923113824,2.1635086352972612,2.274807439549448,2.0246860876850983,1.6231538793802855,1.2507423425172453,0.9842419738365251,0.8581762645752198,0.9124615498528731,1.192455454297066,1.6408159478343898,2.079877200931303,2.284137843350432,2.113036259633843,1.7269204528791522,1.3373247934757027,1.0394618855449957,0.8751424400573335,0.8783523937094166,1.099889015020576,1.518158461324627,1.9803692015293013,2.266591653227721,2.187646495074938,1.8316158250729337,1.4305149776024757,1.1038563131498276,0.903065445665371,0.8587121271855782,1.021061355637714,1.3997410735968971,1.8707120013639413,2.2237286757556567,2.243212964448565,1.9339782401612933,1.5285969372576558,1.1765145967757127,0.9409799576683553,0.8526913326632019,0.9573555878475482,1.287698288907686,1.7530863449886382,2.157790575378204,2.2764463598457807,2.0318341773464397,1.6310482245281088,1.257144744396165,0.9881615019356197,0.8590782983608778,0.9093277976409173,1.1849633812021296,1.6314443812606223,2.0728008098423834,2.2837517726923258,2.119242769348125,1.7348491922971556,1.344163769010835,1.0440189413546828,0.876885552361916,0.8763535232412297,1.093346151262657,1.5088671927181627,1.9722361795022572,2.264152083797137,2.192658527483183,1.8396307433592072,1.437926788065079,1.1091838945849435,0.9056538999756419,0.8577749824442141,1.015575278368445,1.3908011050044882,1.8618512509098522,2.21941359250472,2.246636763803928,1.9417473537962509,1.536343538805311,1.1824240177714425,0.9442659507334128,0.8527564438646077,0.9531456336143346,1.2795127914228317,1.743898439492092,2.151909281780341,2.2779479089963766,2.0389918087170376,1.6390308645949587,1.263650779082223,0.992172923167769,0.8600573780559866,0.906251037414704,1.1774596103087243,1.621967715613875,2.0655547858859795,2.2832018038542117,2.1254392134739972,1.7428769595819205,1.351122699820118,1.0486842154530702,0.8787145221078111,0.8744142327468085,1.0868240234725879,1.4995677114287873,1.964037973253875,2.2615639309835336,2.197550138890547,1.847620785839382,1.4453579239536984,1.114554414216643,0.9082992103121719,0.85691960372617,1.0101843428569497,1.381905921775395,1.852948813521039,2.2149635346883247,2.249922862171527,1.9494877010897844,1.5441197893491794,1.1883870235027736,0.9476114547189219,0.8528934243216121,0.9490184582652044,1.2713648766531311,1.7346653984900908,2.1459002310046067,2.2792992518590207,2.046112314691325,1.6470526887766672,1.2702211886289363,0.9962527617709598,0.8611086584573886,0.9032516149509822,1.1699921594910352,1.6124451649095568,2.058182845931621,2.2824873076050602,2.131583670427912,1.7509544368859191,1.3581602118261844,1.0534309320824338,0.8806093851431408,0.8725727703432092,1.080448561156872,1.4903997528555832,1.955881652726949,2.258861780994159,2.202266764156906,1.8554971782758227,1.4527266193476371,1.1199086927751312,0.9109713423019972,0.8561531846724761,1.004945552671771,1.3731522325083951,1.8441030391188065,2.2104302248017933,2.253036249480423,1.957114146466203,1.5518404651263789,1.1943380740760405,0.9509793518452246,0.8530995453411697,0.9450177688170577,1.2633434171489917,1.7254892333764908,2.1398312864044446,2.280485939470452,2.05311654527956,1.6550254763640504,1.2767836716497272,1.0003561336584625,0.8622200620848384,0.900361595816918,1.162643176365215,1.60298238338955,2.0507675269528427,2.281616299091508,2.137606760587166,1.7589925285456764,1.3651992082414133,1.0582073315774554,0.8825571756469471,0.8708268353697416,1.074196779244564,1.481317419125221,1.947721855092976,2.256033890660826,2.206840737908709,1.863311455659398,1.4600810471333712,1.1252812630792175,0.9136864031533434,0.8554680557891681,0.9998219796503283,1.364481770143639,1.8352571792801224,2.2057878222282996,2.255999223928662,1.9646764167040884,1.55955581029196,1.2003154933920617,0.9543908130644462,0.8533744912836123,0.9411153622586895,1.255395317981449,1.7163111112282474,2.13366563458253,2.2815171488386623,2.060049413439552,1.6630007626235037,1.283380397658365,1.0045092308548602,0.8633978262599692,0.8975607835847801,1.1553647055112064,1.5935191247265028,2.0432629540877567,2.2805844743043515,2.1435461614781843,1.7670428264389129,1.3722851914910086,1.0630443409190542,0.8845719236741402,0.8691598748537281,1.0680083342027251,1.472230498983572,1.9394765898793662,2.2530527675531022,2.211318216815801,1.8711437839332348,1.4674974750322383,1.130728010220258,0.9164723794730072,0.8548565623717451,0.9947606673973595,1.3558055678466026,1.8263204383592941,2.200989080715285,2.2588406638226415,1.9722512299989075,1.5673455398038643,1.2063814063058076,0.9578815277819768,0.8537212399219131,0.937271192041605,1.247439297767468,1.7070368995189757,2.127339692398788,2.28239931350553,2.066941780863824,1.6710022498069976,1.2900261546340803,1.0087198769837142,0.8646437297638887,0.8948445454576529,1.1481465191554843,1.5840426806428107,2.0356593839607866,2.279389833249995,2.149408022608634,1.7751164770150145,1.3794287642588416,1.067949593398224,0.886656901052929,0.867569815955076,1.0618755854521766,1.4631270288203382,1.931134204904597,2.2499131995322736,2.215702518065528,1.8790044190392463,1.4749871913899173,1.1362578840493462,0.9193341902655645,0.8543186408142917,0.9897559758973162,1.3471126493345102,1.8172799743549577,2.196025579101652,2.261560399089535,1.9798473482886525,1.5752212672953747,1.2125457672564484,0.961457984284679,0.8541416887367103,0.9334814846911953,1.2394655635481724,1.6976631682310392,2.120859230690043,2.2831271847238677,2.0737699064318678,1.6790006035378653,1.296695312569818,1.0129714419364626,0.8659524118945249,0.8922232356012645,1.1410182820942563,1.5745927431474802,2.0279892544325175,2.27803742307426,2.1551663321216465,1.7831800181459228,1.386601015415907,1.0729035283452022,0.8888037218819473,0.866063165800177,1.0558245875677386,1.4540453153095279,1.9227292910022635,2.2466277024525443,2.219972959288185,1.8868600975375769,1.4825199490297718,1.1418491061203364,0.9222607864502919,0.8538570184741845,0.9848297344390626,1.338440093536105,1.8081731528195013,2.190916729544823,2.2641434877465523,1.987431433668536,1.583150874968922,1.2187842299310707,0.9651067259692332,0.8546352539752913,0.9297632684907051,1.231508455794129],\"y\":[0.0,0.7953034979292452,1.108485391981163,1.2675772432776946,1.3651334985760186,1.4250228326393193,1.4458028317829514,1.4257611637304974,1.370851111246558,1.302561089530612,1.2673804049612871,1.3256077671771778,1.4569278937663617,1.5215795735072055,1.4358301376177987,1.2933864538678028,1.2345856864676936,1.3239629154855739,1.4936724546375304,1.5696448962746954,1.466622596862753,1.2920953156039177,1.1944024829364546,1.255490930234468,1.4494938875187722,1.6163116641489146,1.5928036800669803,1.4080463945858552,1.217445583876108,1.1440225098838261,1.2452951054529717,1.4821835109030543,1.6854847148396161,1.6775759852113563,1.4762482391864025,1.2410495953777139,1.1013893976861184,1.1289311035179856,1.3407595963681718,1.6328104955328178,1.8040957703180538,1.7161723228951504,1.4583794239965935,1.1998693335042394,1.0495484463789875,1.0679244973303497,1.283313360061697,1.6161976705004992,1.8756365832929456,1.8710906480235923,1.625600989740297,1.3182387010171674,1.0810419724260003,0.9825913054650961,1.0710422596235645,1.3580304011900481,1.7335932742911506,1.9906291459520926,1.9486890506830246,1.6641045302194033,1.3299922473096508,1.0699847061261547,0.9446184951064758,0.9991459700176419,1.2649588832645888,1.6650482821539154,2.011181160329655,2.0862372325961633,1.8495621333001007,1.491184595754377,1.1709143035713745,0.9643212182423195,0.9115640199929753,1.0606883806944338,1.4135311395569636,1.843808813907676,2.1376463741345018,2.1014829194497975,1.7881940879912375,1.4130778359250566,1.1048306661460467,0.9216256235138652,0.8997701219279978,1.0882360763372037,1.4744994518638956,1.916280711021674,2.1946399554316467,2.1245869865195393,1.7870099544541271,1.4027574866223418,1.0920691091256054,0.9083018024802725,0.8858233363307694,1.0745098777190734,1.4655038339285007,1.9186196741223156,2.2164474711794933,2.1644637856578814,1.8285267328326678,1.4357339685633335,1.112225025827812,0.9130674703542428,0.8706215417629191,1.0348239751578332,1.411480226226355,1.8739811351213616,2.210427528122143,2.2105329435928467,1.896057186992234,1.4968874435766522,1.1553319844063457,0.932549198636708,0.8598820351985713,0.9850394083698183,1.3320297973926594,1.796759140074351,2.1770361894852233,2.2507850905227196,1.9774441824117592,1.5766279261059057,1.215311774192165,0.96469387637857,0.8577707076961594,0.9376160291719939,1.2433747882900548,1.6996019375126603,2.1186501924252314,2.2746846325415535,2.0618326124682715,1.6681013282023271,1.288682680596358,1.0087317686201085,0.8661109553512433,0.8982501739168983,1.153467940799299,1.5894513453807375,2.0382678940296888,2.275946024734243,2.1403962126525395,1.765300340679215,1.3714682364209856,1.0629623778637993,0.8852257781902688,0.8707659973031007,1.0706924719960107,1.4752053281957291,1.9413019523145416,2.2519813675123497,2.206841529755347,1.865660105538799,1.462812867029078,1.1275597073692765,0.9151811683486305,0.8559436978860949,0.9989385583384547,1.3623170152645256,1.8325600387815724,2.2035571056034438,2.2551319063151176,1.9649543753831331,1.5602174004230638,1.2009952162620023,0.9549480065524429,0.8537660182307402,0.9412835866086056,1.2552678709808207,1.715893408955388,2.1330140914903364,2.2807012399920383,2.059279654476126,1.6624146209535267,1.2830023365422023,1.004358538176522,0.8635045141483446,0.8980108608110274,1.1561727085987716,1.5944138928665799,2.0437991350358375,2.2802672469013636,2.1424121485265752,1.765753692149512,1.3712207550583098,1.0623641286222751,0.8843556423531089,0.8695477788669974,1.0691307868936648,1.4737868752368386,1.9408055412883838,2.253366086933998,2.210253489448202,1.8695065752858753,1.4659956148179603,1.1296505317295753,0.9159521173296212,0.8550453625644967,0.9958768302222437,1.3576616228062628,1.8281915237531157,2.2019233486858307,2.2580836980066747,1.9704678370848654,1.5655445483138177,1.2049930217537277,0.9570968367121719,0.8536715524266413,0.9382013394574957,1.2493278252654245,1.7092190233555073,2.128799941130008,2.2821205959760706,2.065228867781603,1.6690404965192076,1.2884061562137334,1.0077001819135953,0.8643523230209977,0.8955258705452211,1.1499339786707863,1.5863816890977263,2.037526632792526,2.2796576285768957,2.147911460126355,1.7730694827627824,1.377621479642617,1.0667107163867213,0.8861333493654251,0.8679778896885602,1.0634370554766361,1.465444282976917,1.9332566332335526,2.2507061620590645,2.2145656970061838,1.8769725473164,1.4730520276752308,1.134829099156929,0.9185949510246514,0.8544571616681861,0.9910488010869469,1.3493625051744025,1.8196233336222976,2.197314706081363,2.2608529025452353,1.9778644494060544,1.573163053870448,1.2109334524839497,0.9605214270840051,0.8540287378015035,0.9344674977329757,1.2415481037988372,1.7001100146171022,2.1225491081923176,2.282945208203981,2.0719972493737444,1.6769197757136158,1.294958692857009,1.0118626737464504,0.8656077980376209,0.8928988410672207,1.1428675508902457,1.577051558961978,2.0299916394012376,2.2784006240786225,2.1536707303722418,1.781075366609981,1.3847260971148385,1.0716062034616285,0.8882382935865119,0.8664498479825478,1.057398132546195,1.4564156921562095,1.9249301056130435,2.2474979920323364,2.2188653836010492,1.8848054229247775,1.480545603290531,1.140381063704837,0.9214895495030975,0.8539710945483698,0.9861115534466234,1.340707392068385,1.810562010927449,2.192266547233795,2.263479341636574,1.9854465598517057,1.5810694433118309,1.2171437799376008,0.9641446050238236,0.8544992836553735,0.9307303479905005,1.233590745615805,1.6907362719463046,2.116046921638894,2.2835568934213484,2.0786983491811375,1.6848255695266714,1.3015706881445464,1.016096560344454,0.866945871631877,0.8903714944965604,1.1358779723128696,1.567720197020983,2.0223559720645174,2.2769521990662493,2.1592979294597603,1.7890518470442247,1.3918479269033726,1.076545934916608,0.8904077523248755,0.8650172085749095,1.0514652616727267,1.447438983002016,1.9165630697482205,2.2441407160318185,2.2230128502957784,1.8925828063551262,1.4880382797062515,1.145963886371058,0.9244352173584631,0.8535687043390632,0.9812886926295127,1.332131827551848,1.8014932944743927,2.1871009151503196,2.2659384376641474,1.992950830608901,1.588964871135443,1.2233786229312993,0.9678124362832533,0.8550415503100005,0.9270986484729126,1.2257197096849284,1.681378796677945,2.109465661223848,2.284003947388104,2.085295729872826,1.692701481433243,1.3081901152126776,1.0203632013344037,0.8683434033811721,0.887940832397831,1.1289887816543989,1.5584318777123203,2.014669565463862,2.2753507043641923,2.164807498800905,1.797000110092664,1.3989829122399253,1.081523532954755,0.8926333985521675,0.8636694251237168,1.0456272919438776,1.4385058154645207,1.9081548715502281,2.240647866797846,2.2270334957045756,1.9003330224925397,1.4955540133362957,1.1515933776073888,0.9274375253257733,0.8532426089323504,0.9765570890775774,1.323601373901084,1.7923848895688388,2.1818061655473153,2.268251023869896,2.00041812509768,1.5968904269339776,1.229669256367613,0.9715421452303821,0.8556552766574658,0.9235492423932156,1.2178902399236977,1.6719810613867747,2.1027627265909903,2.2842956139162665,2.0918472456069503,1.7006168309901792,1.3148750279024182,1.0246996725596023,0.8698113029931195,0.8855830084196892,1.1221370008733937,1.5491032319320208,2.0068649498566904,2.273584549395625,2.170251411812962,1.8049956798319147,1.4061991576018151,1.086586512208193,0.8949359880115935,0.8623928329547106,1.0398284804410096,1.4295311263665327,1.8996253796779485,2.2369867550994025,2.2309653991608926,1.9081316959849155,1.5031673187012196,1.1573115055387286,0.9305071862118561,0.8529914251471858,0.9719120464965533,1.315112583886468,1.783235610258274,2.176383091875625,2.270416798228827,2.0078484480928567,1.6048473313065308,1.2360168084802559,0.9753345587747744,0.8563404591413961,0.9200814166547108,1.2101016362401513,1.6625422505597884,2.095937462371068,2.2844304078368216,2.098352495666421,1.708573847649776,1.321627923950409,1.0291080833047315,0.8713506334729664,0.8832979863728453,1.1153219773116176,1.5397325161466555,1.99893981544006,2.271651249674937,2.17562808586795,1.813040858400957,1.413500176009222,1.0917380942390231,0.8973175095787373,0.8611882152526058,1.0340688629538715,1.4205129779404713,1.8909708260865312,2.2331534913333453,2.234805508635708,1.9159697204037331,1.5108560196478822,1.1630972883476296,0.9336317450115221,0.8528155961534221,0.9673732210860554,1.3067030253877254,1.774086706519106,2.1708572521653178,2.2724255813720946,2.0152076316955005,1.6128001793377476,1.2423931420053655,0.9791729784651476,0.8570937897763687,0.9167101287603192,1.2023888974960115,1.6531051868546567,2.0890210967003235,2.2844066557439757,2.10478067012383,1.7165372736604694,1.328419405604321,1.0335696260943177,0.8729549817453792,0.8810961759087166,1.1085749659479813,1.53036226662369,1.9909296618632546,2.269558150055347,2.1809106147266357,1.821099440044999,1.4208544229975624,1.096956651547825,0.899768298738977,0.860061747682885,1.02837569182305,1.4114925870685302,1.8822292388445485,2.229163249442425,2.2385327305420173,1.9237824387938014,1.5185165704210104,1.168871043044587,0.9367743069254557,0.8527147655907654,0.9629828183420156,1.2984525269032485,1.7650261484456378,2.1652845181714415,2.2742609499491557,2.022426396714648,1.6206739075569203,1.2487375606313789,0.9830204227674069,0.8579065578147551,0.913464814858481,1.1948236752874757,1.6437597844848681,2.082081644252774,2.2842267639284395,2.1110706618310084,1.724431798327563,1.3351851239341022,1.038041845947776,0.8746082979223053,0.8789969662528951,1.1019593587429504,1.5210819740168202,1.9829122368603258,2.267327122811166,2.1860479229603853,1.8290943837484361,1.4281921004975762,1.1021926906380797,0.9022646657760702,0.8590233038334812,1.0228031295526239,1.4025565399584332,1.8734847334258058,2.225055192850173,2.2421100458476935,1.9315337352003112,1.5261713471816485,1.1746705939887765,0.9399606913101801,0.852685730834438,0.9586941765428387,1.2902754058145356,1.75596107372483,2.1596103549542156,2.275944386611087,2.029580032421268,1.6285505256054191,1.2551156763805382,0.9869162897782997,0.8587857612271153,0.9103094618047375,1.1873261417966423,1.634409531612316,2.0750493997854402,2.2838908844479735,2.1172874540300644,1.7323395038645033,1.34199537496587,1.0425710667662296,0.8763269966943376,0.8769772326404199,1.0954060687445073,1.5117960281925877,1.9748060394935494,2.2649368904894613,2.191092198946292,1.8371079492222135,1.43558929818237,1.1075005868180314,0.9048321468385809,0.8580614077779478,1.0172936302728537,1.3936132245795367,1.8646477489640123,2.2207878645709704,2.245572736641104,1.9393024003678616,1.5338994349017412,1.1805562300187762,0.943224147824211,0.8527281683682327,0.954463234541527,1.282087966782452,1.7467983907273341,2.153776239559433,2.277490884767258,2.036740390247181,1.6365113515366718,1.2615938405762608,0.9909016008805911,0.8597411117655012,0.9072121892883293,1.1798201441463965,1.624958754881846,2.067851553429125,2.2833927295716796,2.1234922107897507,1.7403420890177226,1.3489215499806944,1.0472054925380627,0.8781300390365553,0.8750174216137071,1.0888753344535373,1.5025031061111456,1.9666348596755552,2.262397937252248,2.196016748577075,1.845097131343765,1.443006029901347,1.11285150075507,0.9074565723384904,0.8571813063538531,1.0118788219620778,1.3847139385627938,1.8557684646362127,2.216385287976386,2.248898685827839,1.947043183313585,1.5416575256315255,1.186495549073825,0.9465470645345043,0.8528423423538968,0.9503146273416049,1.2739373596262162,1.737589972817447,2.147814247519774,2.278888293904999,2.0438647648950816,1.6445117457506755,1.2681364672291933,0.9949551679354792,0.860768375613589,0.9041917127735273,1.1723495585052213,1.6154613434168394,2.0605276563969097,2.28273119052576,2.12964644756215,1.7483947610802182,1.355926210885862,1.0519210074870213,0.8800025241126012,0.873145900587458,1.082454585329891,1.4932938018073758,1.9584647352353903,2.2597311217190965,2.200788892430404,1.8530101592661308,1.4503951838092783,1.1182115041709766,0.9101206421008503,0.8563869572189897,1.0065916477143806,1.3759146880599997,1.8469037230113543,2.21187742579901,2.2520668266035444,1.9547064750442642,1.549396616384945,1.1924510679288425,0.9499083233043513,0.8530267950145498,0.9462737279220678,1.2658751260514864,1.7283947276136695,2.141763302384903,2.2801270427690477,2.050906609209758,1.6525009467292708,1.2747022268089458,0.9990515951647925,0.8618609884413975,0.9012669229406305,1.1649623177860686,1.6059784849898124,2.053124999009427,2.2819094561977344,2.1357087484114117,1.7564462588923855,1.362965533208753,1.0566885512872177,0.8819332555072399,0.8713710765075223,1.0761693466662083,1.484193510634237,1.950314580569339,2.2569457732189635,2.2054028820691802,1.8608353898383432,1.4577458902075537,1.1235722830949393,0.9128191558496752,0.8556770380153966,1.0014374812723037,1.3672276022483443,1.8380676924417245,2.207274502331726,2.255074082536636,1.9622806831323674,1.5571050336623866,1.198413469062976,0.9533022031355103,0.8532797313591316,0.9423446728996799,1.2579126859722336,1.7192273890036889,2.1356349940837176,2.281206363308909,2.05785448752495,1.6604665654245794,1.2812807544775051,1.003184300271571,0.8630164487030829,0.8984410321257537,1.1576695785244109,1.5965258074818527,2.0456569258753885,2.2809297507727093,2.14166828013274,1.7644837630335468,1.370028697694075,1.0615009078304363,0.8839245199978412,0.8696809381523678,1.0699676156171074,1.4751180566325641,1.9421055438007158,2.254016585194741,2.2099062512119643,1.868653374780441,1.4651343515996986,1.1289893528254815,0.9155794772715036,0.8550428273635786,0.9963619256557159,1.358562732410653,1.8291696898610206,2.202530770992526,2.257951285090766,1.9698433027367424,1.5648624812853498,1.2044444680536137,0.9567637772341682,0.8536032123562597,0.9384861648818664,1.2499678714934148,1.7099939316357964,2.12936706513842,2.282135911250733,2.064766623984851,1.6684726452024339,1.2879235336458343,1.0073852648462336,0.8642433813019887,0.8956921249404322,1.150416494553414,1.587032733642725,2.038068018210734,2.2797842222221263,2.147567859133095,1.7725677462517917,1.3771696047341326,1.0663951782281893,0.8859917360402833,0.8680629497183276,1.0638036069127081,1.4659997608313784,1.9337756738023075,2.250920523586356,2.214330080025814,1.8765223725365656,1.4726171603523992,1.1345048450226145,0.9184233926450432,0.8544802859639153,0.9913281131120116,1.3498558959259315,1.8201423227779634,2.1976088453867613,2.2607160779198634,1.9774495510459476,1.5727281379092533,1.210590964564221,0.9603207003682666,0.8540010372917368,0.9346706708067233,1.2419820945264521,1.7006245166359042,2.122910129650088,2.282915598677534,2.0716332232963657,1.676489023572268,1.294598005601156,1.0116315155200686,0.8655345830915786,0.8930365497851295,1.1432479164971383,1.577558511096329,2.0304058768779876,2.278479209339191,2.153368612869069,1.7806479846387373,1.3843447668153523,1.0713419999102007,0.8881226524732262,0.8665275213358077,1.0577166610399873,1.4568959172741365,1.9253763647782802,2.247675522589447,2.2186438022070964,1.884392855717326,1.4801489061297832,1.1400859988045222,0.921334406713454,0.8539938120685777,0.9863687977599421,1.3411622776620344,1.811041138847862,2.1925373207800742,2.2633469208987465,1.9850503453756945,1.5806540191321994,1.2168164249080575,0.9639526505627382,0.854472282032379,0.9309235685311983,1.2340062694207703,1.6912280806480506,2.1163906241368946,2.2835299869809345,2.078350744943979,1.6844127952972394,1.3012245269684959,1.015874096505185,0.866874153415197,0.8905009570527789,1.1362406999016712,1.568206930193728,2.0227566208322543,2.277032254575327,2.159007412903987,1.7886362567370804,1.3914758210556621,1.0762870667911337,0.8902929908442366,0.8650897083404994,1.0517723745027026,1.447906272801628,1.917000761531789,2.2443195101551954,2.2227999702199743,1.8921780632180998,1.487647072347308,1.145671632375841,0.9242801802817585,0.8535877034780064,0.9815377568397907,1.3325776827725442,1.801967010809367,2.187373481854864,2.2658140757306087,1.9925608104962373,1.588552776730403,1.2230523914156555,0.9676197844369137,0.8550114883735822,0.927285765770934,1.2261287000326893,1.6818672726301789,2.1098115623540017,2.2839845842830964,2.0849532927817167,1.6922903384682508,1.3078437569115389,1.0201392629831698,0.8682688656632073,0.8880655962047347,1.1293466177533382,1.5589165823438524,2.0150727836258384,2.2754382020307196,2.1645222450512707,1.7965850917862138,1.3986094041314459,1.0812622538307413,0.8925156116311669,0.8637378389917537,1.0459302958008845,1.4389719667632719,1.9085956524955756,2.2408338817699867,2.226826345554902,1.8999283297275062,1.495160329332783,1.1512977679002752,0.9272790892226825,0.8532577865460478,0.9768023199897147,1.3240464341251137,1.7928622767661646,2.1820862902186877,2.268133712847397,2.0000284810132234,1.5964751276454983,1.2293388327400299,0.9713455200342884,0.8556214035590721,0.9237328578787364,1.2182987266087564,1.672473604639153,2.1031163401057444,2.2842842387447075,2.0915057294920674,1.7002018252518296,1.3145237267391514,1.0244710990655106,0.8697327662292166,0.8857045228041726,1.122494448245715,1.5495921697277484,2.007276117141009,2.273681046266235,2.169968337804086,1.8045762864678778,1.405819663471854,1.0863195406020094,0.8948136189963523,0.8624578239430859,1.0401307981751353,1.4300015798124448,1.9000745547882736,2.2371824710511685,2.230762002381496,1.9077225844322387,1.502766647599247,1.1570105365638077,0.93034541983288,0.8530026651705723,0.9721518401094053,1.3155535783117478,1.7837129810808723,2.1766685939118697,2.2703076909631794,2.0074625477417727,1.6044323077234375,1.2356849352649855,0.9751355648005795,0.8563030211064204,0.9202599408765602,1.210506100313884,1.663034649085884,2.0962958103115503,2.2844272958250786,2.0980150027584745,1.7081585629020077,1.3212746666991193,1.0288767815352289,0.8712687172342686,0.8834151386448834,1.1156758479915345,1.5402213935259057,1.9993553883249322,2.2717560619024746,2.175349885492033,1.8126207959684562,1.4131179623030596,1.0914676816241164,0.8971915543144338,0.8612491319121776,1.0343677164787684,1.4209835306333534,1.8914244971674108,2.233357351230922,2.234607928090317,1.9155624997559624,1.510458209375267,1.162798283689113,0.9334698212339572,0.8528228118781989,0.9676039250562457,1.3071333097002529,1.7745568954995563,2.171143726471053,2.2723261622219906,2.0148311540788066,1.6123915434397984,1.2420647314401891,0.9789745837117905,0.8570534214696371,0.9168810583413811,1.2027834435582727,1.6535901458312385,2.0893787591714643,2.284411742943783,2.104452199661755,1.7161278406383678,1.3280694142873801,1.0333390248429983,0.8728709416421472,0.8812073122565983,1.1089200576560285,1.530843819126106,1.9913433983486812,2.2696696223147987,2.1806414571358204,1.820684958055149,1.4204751507236109,1.096686801695732,0.8996406460516441,0.8601177313931249,1.0286666484016054,1.4119562186176116,1.8826806250043873,2.2293721647175313,2.238343978502283],\"z\":[0.1,0.865675263503158,1.119908987261577,1.2182715380167946,1.2603326552113798,1.2731775119656177,1.269564367960622,1.2667371326414074,1.2869422609858905,1.3507444941294156,1.4513568927618818,1.5085934578506361,1.4377617313784674,1.3055497774771907,1.2463229753588327,1.3281655762054538,1.4861096820120452,1.5511514774147688,1.447008518261904,1.2842300677361302,1.207260181345682,1.28820349426067,1.4792878038508754,1.607576132675714,1.5405964877987,1.3497542264046407,1.1919666634411594,1.1746398853090998,1.3283532726317289,1.5620154435972469,1.684428814401216,1.5828863858198627,1.3569668956994179,1.165450208505082,1.1110668555952585,1.2401179011270516,1.5063284712415461,1.7370772494616007,1.744726211092397,1.5359698820540812,1.273438346553796,1.0910611734814586,1.0634927805879006,1.2298101638013972,1.538407654258636,1.8153346936640602,1.8575416851827102,1.64608272875866,1.3477709974724696,1.1066848927216828,0.9999488678868202,1.0771231527656664,1.3511627623920983,1.7142598629902452,1.960552856883573,1.9138903894283044,1.6339248222356204,1.3096043024427797,1.0627204655132505,0.9540573596926419,1.0302902284868767,1.3136523632459585,1.709799151829755,2.0200338238678004,2.0394486336537456,1.773856556392163,1.4208449457349939,1.1227245837640643,0.947085871764903,0.9350051339957568,1.1326406541570424,1.5134483381133434,1.9249060821837907,2.1441644164933917,2.0207697307815735,1.6770743444593437,1.3157693674501685,1.0413768683061095,0.9021137964988599,0.9386071505849399,1.1933858240806392,1.61289337283487,2.023652432606679,2.200120506295895,2.0221558488538207,1.6522015559285421,1.286175975112343,1.0159930542503126,0.8835865363572317,0.9293311407390862,1.1964126882897217,1.6284910546184488,2.049690665029511,2.2342460771774113,2.055998869904435,1.6787575825475125,1.3035846410678251,1.022985916012819,0.8784716765886049,0.9080481997840364,1.1587849845846776,1.5876651361500318,2.027127473622615,2.252648292743332,2.1100573868879002,1.7380321007425275,1.3514548893210079,1.0520727195272135,0.8848225306795368,0.8840634844574276,1.0999900307708355,1.5119958575865826,1.9689186940009265,2.2506897395107437,2.1705143649652294,1.8175358481261015,1.4206598271260529,1.0986294594397104,0.9029433818889204,0.8651066804459095,1.035555353673766,1.4188621703354798,1.8861397454678757,2.2250510309008673,2.224459123026582,1.9064869417749475,1.5037407995373102,1.1588111421289045,0.9325126938865387,0.8555565240229768,0.9751616852959003,1.3183410374869176,1.7849282178064352,2.174616052415088,2.263761437630464,1.9989748396133704,1.5969737891484448,1.230396120157728,0.9725928418835761,0.8570163748340099,0.9253205338356365,1.2198227796230874,1.6732734408184866,2.102368885168011,2.281150364337115,2.0869192214954597,1.69595058838788,1.3113604009814277,1.0227461698722444,0.8696781327745251,0.8878736338710569,1.1271799551132842,1.5553498497672282,2.01145282984581,2.2732468190895356,2.1644636312700642,1.7976369374637549,1.3998533362183567,1.0823168275780837,0.8932431447013438,0.8640354045937455,1.0456563144161293,1.4381542335288842,1.907489672617283,2.2397418722854887,2.226051520349807,1.8995203133715604,1.4949796935837771,1.1512704283265958,0.9273873074578318,0.8535285279177941,0.9772812848904906,1.3246413178504102,1.7933176011944798,2.182068256031104,2.2673810268298684,1.9988936360955567,1.5954297633042966,1.2285741488240163,0.9709533415174444,0.8556739721407596,0.9243792628229234,1.2195317635086549,1.6738541557234556,2.1039726298965062,2.2839352774708743,2.0901398508398517,1.6986770501041337,1.313277392040698,1.0236940549125655,0.8695203623110173,0.886244629462849,1.1239112334386203,1.5514640236628594,2.0087830037664,2.2738919982136787,2.168665542496098,1.80276890795883,1.4042157677496863,1.0852106656000584,0.8943316442044121,0.8627876780813164,1.0414853283489411,1.4320656258070639,1.9020091163993669,2.2379594665533595,2.2297517603708847,1.9058154524506585,1.500922912232199,1.1556375660928724,0.9296208389640976,0.8530834595773769,0.9732956988844045,1.3176248029493582,1.7859335083287158,2.177964572931147,2.269730586089916,2.00558835641868,1.6024362999468562,1.234096826117588,0.9741906758242427,0.8561393201393324,0.9211404151296876,1.2124744362060689,1.6654168174295625,2.098012610293199,2.2843747452718777,2.0963384385945605,1.7061133511396407,1.319540696250014,1.0277458760147622,0.870875343411002,0.884004631528739,1.117431663230943,1.5426368669792785,2.001398764405055,2.272252134897981,2.1739498668400477,1.8105255392314406,1.4112162616057495,1.0901253062201306,0.8965703332593105,0.8615609758949172,1.0358663774856645,1.4233347294883265,1.8936845348626672,2.234361958030333,2.233604607139913,1.9135120033518949,1.5084523287581844,1.1612902689170128,0.9326548855040787,0.852864968690662,0.9687789710951633,1.3093173293270721,1.7769381948233822,2.17258767257521,2.2718099150091096,2.0129138544351464,1.6103152281021742,1.2403980418813558,0.9779695196821676,0.8568524586995059,0.9177552224847383,1.2047931363132738,1.656055596936315,2.091191989466284,2.284427996463644,2.102775073507117,1.7140430319650632,1.3262891032978552,1.032167497373589,0.8724463831292477,0.8817775994581295,1.1106812852649297,1.533296969777171,1.993446927339719,2.2702293839710617,2.1792642011252648,1.8185720051371042,1.4185437313991272,1.0953140093234768,0.8989930405980084,0.8604068940196703,1.0301535242787176,1.4143206236909376,1.8849787224922536,2.230430357856306,2.2373754635519205,1.9213305987609965,1.516106860497163,1.1670517005084937,0.9357809625498562,0.8527389595612435,0.9643535602539572,1.3010409582565228,1.7678777575442988,2.1670488315406566,2.2736991586708624,2.0201610664288423,1.6181952967646782,1.2467370567925757,0.9818043047418425,0.8576436891487931,0.9144767409393151,1.1971977801307723,1.6467020074547443,2.0842759121393044,2.2842998800708987,2.1090981557431037,1.7219450393796263,1.333050421195817,1.0366278567619014,0.8740808392071497,0.8796493552587286,1.104035489644248,1.52400430883489,1.9854458708959881,2.2680465025018424,2.184440248791317,1.8265751155529888,1.4258754576504837,1.1005364496639005,0.9014710846087605,0.8593420765239936,1.0245509781413122,1.4053709556229874,1.8762479383701887,2.226365687942347,2.2409957784235766,1.9290911252046765,1.5237532202306758,1.1728352852500035,0.9389491661839724,0.8526872417764533,0.9600384151606706,1.2928513326986903,1.7588259196312834,2.1614141183210736,2.2754288095476793,2.027326638391996,1.6260612871532696,1.253096625503633,0.985680011796694,0.8585008006936926,0.9112968588240528,1.1896879776379155,1.6373645967719759,2.077281467645717,2.2840138702898782,2.1153309833558334,1.7298392857009526,1.3398385333574847,1.041133665529822,0.8757768251142228,0.8776068767104415,1.0974700972982356,1.5147308943032125,1.977377109510166,2.2657094133398967,2.1895084330203014,1.8345737155500785,1.4332453377215697,1.1058154853877251,0.9040131088184067,0.8583570640388033,1.0190277188248282,1.3964399965811511,1.867450203136808,2.2221536056646434,2.2444911381937187,1.9368457346946997,1.5314494157764178,1.178687000187223,0.9421844949807407,0.8527069698735001,0.9557938846183999,1.2846762268464433,1.7497043485570758,2.155637212666862,2.277017269108563,2.0344771482692106,1.6339865966542337,1.2595358409696313,0.9896324663100482,0.8594308872273924,0.9081845369197815,1.182192843310423,1.6279560519485448,2.07014409562781,2.2835680014009014,2.1215330389762586,1.737802968647271,1.3467202111734118,1.0457294807866884,0.8775510183770815,0.8756301001505891,1.0909376185267268,1.5054443908050241,1.9692285225640553,2.2632178302268855,2.1944703953335307,1.8425698791888867,1.440655210370818,1.1111523136250614,0.9066193254484205,0.8574512181462177,1.0135833535350498,1.3875273755770907,1.8585848981287636,2.2177940671788265,2.247860303852972,1.9445949161391267,1.539197438108277,1.18460885066147,0.9454883077879757,0.8527984291000397,0.9516194996085092,1.2765144761694576,1.7405110151626002,2.1497161170007595,2.2784620252784102,2.041612630928077,1.6419738970769682,1.2660575421172242,0.9936640508635013,0.8604352454946147,0.9051398936435937,1.174711441181009,1.6184739764331657,2.0628606308240975,2.2829585192878405,2.1277031768557815,1.7458392212528717,1.3536994167583531,1.0504188370159597,0.8794030999770885,0.8737263870978773,1.0844646637888227,1.496184032321767,1.961036230611727,2.2605840358935385,2.19930325070194,1.8505278549734432,1.4480725520684663,1.1165235925177759,0.909277979210848,0.8566278545110626,1.0082420351523231,1.3786733067096268,1.8496920657160274,2.2133073248640054,2.2510866696986143,1.9523030124203604,1.5469629798758238,1.1905749860417618,0.9488463497185784,0.8529612475313139,0.9475339905432221,1.2684030175169445,1.7312872290439039,2.1436771427682255,2.2797542433163107,2.04869932449669,1.6499877734477049,1.272633347544201,0.9977577432654441,0.8615101117109693,0.9021771691521484,1.1672782682154412,1.6089613269190743,2.055463173044635,2.282185315946771,2.13381081984868,1.753912417906287,1.3607463517787437,1.0551824695102796,0.8813187400194659,0.8719207834764069,1.078139510570608,1.4870564614152553,1.9528873797587754,2.2578384052322664,2.203961832016106,1.8583720433774606,1.4554271618468217,1.1218781758068515,0.9119627608930407,0.8558924132263495,1.0030520304540314,1.369960739434943,1.8408567890189085,2.2087391130811866,2.2541410320280697,1.9598968014647258,1.5546724345685023,1.1965285892454842,0.9522262325605662,0.8531924996357824,0.9435743252614021,1.260418142270797,1.722121263153074,2.1375797817402358,2.280882430945239,2.0556691046082447,1.6579519439813115,1.2792005462807878,1.0018744468816998,0.8626445831184575,0.8993234288814792,1.1599639299672437,1.5995095773349044,2.0480238147188463,2.28125633177956,2.1397962243771103,1.7619454124119238,1.3677941307379988,1.0599753365429412,0.8832887535492805,0.8702059173939276,1.0719183441611906,1.477983199299213,1.944705935674157,2.2549577160038146,2.2084952322221163,1.8661836997415504,1.462795480457046,1.1272714295253228,0.9147005165925978,0.855235064120039,0.9979572815248298,1.3612983882493386,1.831988144183889,2.2040450148978725,2.2570562937479877,1.9674548559251295,1.5624058103721297,1.2025312117327873,0.9556625525852578,0.8534933350508078,0.939697789154559,1.2524764727182247,1.7129188317507036,2.1313628616132645,2.2818588942217937,2.0625932534572837,1.6659487507029624,1.2858269729968204,1.006056669623299,0.8638498208444141,0.8965481675779547,1.1526927670835307,1.5900219407225233,2.040467206316359,2.280162415753298,2.1457195310215265,1.770020928343187,1.3749158716142864,1.064847374968946,0.8853334937330515,0.8685638420809101,1.0657375558604076,1.4688713552944503,1.9364078799157354,2.251912151837568,2.21294793515729,1.874042697585257,1.4702541134357796,1.1327598984796727,0.9175200755553099,0.8546493417776974,0.9929062416064471,1.3525979976451001,1.8229947744926314,2.1991758338238183,2.2598592086786455,1.975053361193178,1.5702432245748654,1.2086457568385396,0.9591918876334758,0.8538678043157503,0.9358655845243886,1.244497358755683,1.7035852233465323,2.1249609604564537,2.282686560001616,2.0694714385815973,1.6739554601748365,1.2924850061093422,1.0102841764299424,0.8651194023239417,0.893866239485344,1.1455056257946659,1.5805523921300781,2.0328366653401053,2.278909084867726,2.151545039751228,1.7780932176621902,1.3820720631939687,1.0697719742271157,0.8874419150760432,0.867004160165177,1.059633152666875,1.4597731857146299,1.9280399273514313,2.2487177715328066,2.2172917285057907,1.8819038955276044,1.4777618525486653,1.1383139453026387,0.9204065826043593,0.8541394101608587,0.9879289537750513,1.3439099256979554,1.813927129069549,2.1941572729893215,2.2625296592171407,1.982647488938167,1.5781411296402579,1.2148391874592235,0.9627959595180471,0.8543152705845444,0.9321010361462314,1.236527269912044,1.694204946600322,2.1184633079182253,2.283352793912069,2.0762358806242296,1.6819088133301852,1.2991271940488864,1.0145283688685052,0.8664440053404022,0.8912927958098708,1.1384469261991572,1.5711610863412178,2.0251822628763225,2.27750641616626,2.157235542124959,1.7861113842862677,1.3892178153907928,1.0747181636383476,0.8896001551456287,0.8655355646262651,1.0536432866416403,1.4507464825199448,1.9196557776743466,2.2453961620916347,2.2214981118446575,1.8897169563814469,1.4852714651410275,1.143898800527231,0.9233417655661328,0.8537080014854059,0.9830569433842067,1.3352898916362668,1.804843310078668,2.1890218002712976,2.2650488529409096,1.990187487230176,1.586049396752575,1.2210725711372115,0.9664524086474959,0.8548331191333937,0.9284283418476141,1.2286176990829645,1.6848345926299542,2.111907149766173,2.283857333357801,2.0828681816321963,1.6897925635871882,1.3057415047467358,1.018781700235184,0.8678198313489159,0.8888286448046266,1.1315248734333327,1.5618617242323507,2.01751776703454,2.275960448666631,2.1627834770479684,1.7940638142427776,1.3963425965915732,1.0796782476208833,0.8918038062155,0.8641581329696769,1.0477754371836827,1.4418046095400507,1.9112693047855374,2.2419552855896163,2.225561167661891,1.8974697068138835,1.492771545096471,1.1495058115552883,0.9263205179337736,0.8533543971350054,0.9782965417722849,1.3267511985324494,1.795758327280133,2.183779450324954,2.2674127752972355,1.997660563500133,1.5939554719653213,1.2273360121961525,0.9701554023369945,0.8554199579490246,0.9248524968333232,1.2207812785274252,1.6754616850004826,2.105256115383801,2.2842059323207486,2.089429440295259,1.6976844897042864,1.3123947308092812,1.023087498792545,0.8692601149897621,0.8864466011330387,1.1246669154473208,1.5525583758635175,2.009765517328057,2.274257127273254,2.168245646368065,1.8020327413458448,1.4035204335313407,1.0847037444207837,0.8940752522812693,0.862856656918297,1.041968694331027,1.4328555103423577,1.9027945086846645,2.238360719572734,2.229521653136775,1.9052414846706285,1.500339800634519,1.155189356695275,0.9293683867223342,0.8530751513536287,0.9736102802090809,1.3182287107749842,1.7866036619482002,2.1783913862138555,2.2696378850730103,2.005121718054249,1.6019190348888899,1.233677065088119,0.9739333024186027,0.856080297419381,0.9213465560240874,1.2129596061164352,1.6660162934238871,2.098460352522236,2.284399230303665,2.095966956076833,1.705644316704635,1.3191378758795964,1.0274792968365536,0.8707764816297431,0.8841293563845012,1.1178225447900005,1.543181648101888,2.00186680162512,2.272381426249942,2.1736598790207826,1.8100780287912392,1.4108066821742355,1.089834173574354,0.8964328969945824,0.8616225345120024,1.0361811803570173,1.4238326695451775,1.8941664933740066,2.234582637853802,2.2334050060932853,1.9130898436501407,1.5080346356153875,1.1609742707097237,0.9324826467329127,0.8528712386568144,0.9690214397280271,1.3097705115188192,1.7774338476757623,2.1728907567162694,2.2717088256354483,2.01252344813158,1.6098909612254448,1.240056913601117,0.9777632932246058,0.8568103059909329,0.9179324418793954,1.2052019454683784,1.6565576475777255,2.0915620484758275,2.284433743701884,2.102437846925886,1.713622972525257,1.325930126387263,1.0319311019394137,0.8723604594211594,0.8818921086663278,1.111035547733401,1.5337904174582335,1.993870120959983,2.270342495929085,2.178988992620415,1.818149559952444,1.4181575428662576,1.0950395350161828,0.8988635718555416,0.8604647977317652,1.030450843383111,1.414793026719541,1.885437575840908,2.23064140688972,2.2371823758652924,1.9209224760264454,1.5157060076650526,1.1667492159675057,0.9356159528477469,0.8527433677533043,0.9645821008119957,1.301471719931988,1.7683517127391717,2.1673414470404877,2.2736050594183803,2.01978479569673,1.6177840981608493,1.2464053942022935,0.9816028794482119,0.8576005529166094,0.9146452814320631,1.1975920796691002,1.6471899369219951,2.0846391008341354,2.2843108765049536,2.108770790778887,1.721533158028836,1.3326971135356054,1.0363940553207969,0.8739939859190283,0.8797580975115566,1.1043799414976239,1.5244883393904445,1.9858647937983158,2.268164324160709,2.1841733064571582,1.8261582168331598,1.4254924548348933,1.1002628857861487,0.9013403292122506,0.8593955265801319,1.0248408875545745,1.405836784320185,1.876704516754042,2.226581196824679,2.24081036713004,1.9286870760450716,1.5233537253844451,1.1725323530928677,0.938782473778941,0.8526881420798658,0.960261389423122,1.2932774948101813,1.7592990824954815,2.161711125353992,2.2753422627305517,2.0269538903485085,1.6256502313166334,1.2527635061906575,0.9854763007158038,0.8584543602147823,0.9114607596426281,1.1900786491913395,1.6378525521198515,2.0776492009381817,2.284032714781901,2.1150072259130765,1.7294265721609514,1.339482818015002,1.0408968639515892,0.8756866005939086,0.8777115974990726,1.097811506423017,1.5152154489541436,1.9778008009707824,2.265835456290108,2.1892460346127414,1.834155462886647,1.4328588997966547,1.1055379514525125,0.9038785604604611,0.8584066133204874,1.0193146441939447,1.3969066596166773,1.8679120272177518,2.2223775711912572,2.244311442100481,1.9364402867649713,1.531045615920572,1.1783792176131338,0.9420135918024699,0.8527041614728551,0.9560141410352312,1.2851034645949853,1.7501831917733226,2.1559429175709033,2.2769377312719565,2.0341035347252125,1.6335705732220442,1.2591970366770135,0.9894238039552568,0.8593804119183107,0.9083456410535058,1.1825845054222024,1.6284499393763947,2.070520988037318,2.2835953445135844,2.121209441648269,1.737384683073438,1.3463579051966548,1.0454868244423121,0.8774562503061385,0.8757318443589555,1.091278072837126,1.5059290178788494,1.9696550643337931,2.2633514085337127,2.1942146649856893,1.8421536144094088,1.4402684280761897,1.1108730274341971,0.9064820531758488,0.8574964270977434,1.0138648392516145,1.3879909127991976,1.8590481001871646,2.2180246700299406,2.24768805554606,1.944191639729428,1.538792781516778,1.1842988072116383,0.9453146037618936,0.8527918894127509,0.9518350810218138,1.2769390436343757,1.7409914009036005,2.1500279489709215,2.2783904101685697,2.0412415557147363,1.6415565325649388,1.2657159619423677,0.9934521871431714,0.8603811057409896,0.9052967121855231,1.1751005701966128,1.6189694320663204,2.0632434403095563,2.282994349842809,2.1273827947470743,1.7454190459630814,1.353333635957306,1.050172361127071,0.8793051616391198,0.8738226220412167,1.084795852533263,1.4966593173786473,1.961458319501026,2.2607228333526703,2.1990580186496502,1.8501197888796903,1.4476911513488502,1.116246693481838,0.9091400668095685,0.8566681791924686,1.0085140503639132,1.3791269292597217,1.850149769996711,2.2135409955717638,2.2509243454577827,1.9519078755628967,1.5465634460776152,1.190267276702867,0.9486724409992926,0.8529511461261443,0.9477418027983101,1.2688186702484532,1.7317620124726334,2.1439903743337974,2.279691572373193,2.0483363266909596,1.649575259623956,1.2722940656031798,0.997545828694727,0.8614531467470276,0.9023274361809621,1.1676590996186738,1.6094509511882742,2.0558461309351768,2.2822290727722776,2.133498491131575,1.7534966052589835,1.3603825169586985,1.0549358183466664],\"marker\":{},\"line\":{}}];\r\n",
       "            var layout = {\"width\":1100,\"height\":600,\"template\":{\"layout\":{\"title\":{\"x\":0.05},\"font\":{\"color\":\"rgba(42, 63, 95, 1.0)\"},\"paper_bgcolor\":\"rgba(255, 255, 255, 1.0)\",\"plot_bgcolor\":\"rgba(229, 236, 246, 1.0)\",\"autotypenumbers\":\"strict\",\"colorscale\":{\"diverging\":[[0.0,\"#8e0152\"],[0.1,\"#c51b7d\"],[0.2,\"#de77ae\"],[0.3,\"#f1b6da\"],[0.4,\"#fde0ef\"],[0.5,\"#f7f7f7\"],[0.6,\"#e6f5d0\"],[0.7,\"#b8e186\"],[0.8,\"#7fbc41\"],[0.9,\"#4d9221\"],[1.0,\"#276419\"]],\"sequential\":[[0.0,\"#0d0887\"],[0.1111111111111111,\"#46039f\"],[0.2222222222222222,\"#7201a8\"],[0.3333333333333333,\"#9c179e\"],[0.4444444444444444,\"#bd3786\"],[0.5555555555555556,\"#d8576b\"],[0.6666666666666666,\"#ed7953\"],[0.7777777777777778,\"#fb9f3a\"],[0.8888888888888888,\"#fdca26\"],[1.0,\"#f0f921\"]],\"sequentialminus\":[[0.0,\"#0d0887\"],[0.1111111111111111,\"#46039f\"],[0.2222222222222222,\"#7201a8\"],[0.3333333333333333,\"#9c179e\"],[0.4444444444444444,\"#bd3786\"],[0.5555555555555556,\"#d8576b\"],[0.6666666666666666,\"#ed7953\"],[0.7777777777777778,\"#fb9f3a\"],[0.8888888888888888,\"#fdca26\"],[1.0,\"#f0f921\"]]},\"hovermode\":\"closest\",\"hoverlabel\":{\"align\":\"left\"},\"coloraxis\":{\"colorbar\":{\"outlinewidth\":0.0,\"ticks\":\"\"}},\"geo\":{\"showland\":true,\"landcolor\":\"rgba(229, 236, 246, 1.0)\",\"showlakes\":true,\"lakecolor\":\"rgba(255, 255, 255, 1.0)\",\"subunitcolor\":\"rgba(255, 255, 255, 1.0)\",\"bgcolor\":\"rgba(255, 255, 255, 1.0)\"},\"mapbox\":{\"style\":\"light\"},\"polar\":{\"bgcolor\":\"rgba(229, 236, 246, 1.0)\",\"radialaxis\":{\"linecolor\":\"rgba(255, 255, 255, 1.0)\",\"gridcolor\":\"rgba(255, 255, 255, 1.0)\",\"ticks\":\"\"},\"angularaxis\":{\"linecolor\":\"rgba(255, 255, 255, 1.0)\",\"gridcolor\":\"rgba(255, 255, 255, 1.0)\",\"ticks\":\"\"}},\"scene\":{\"xaxis\":{\"ticks\":\"\",\"linecolor\":\"rgba(255, 255, 255, 1.0)\",\"gridcolor\":\"rgba(255, 255, 255, 1.0)\",\"gridwidth\":2.0,\"zerolinecolor\":\"rgba(255, 255, 255, 1.0)\",\"backgroundcolor\":\"rgba(229, 236, 246, 1.0)\",\"showbackground\":true},\"yaxis\":{\"ticks\":\"\",\"linecolor\":\"rgba(255, 255, 255, 1.0)\",\"gridcolor\":\"rgba(255, 255, 255, 1.0)\",\"gridwidth\":2.0,\"zerolinecolor\":\"rgba(255, 255, 255, 1.0)\",\"backgroundcolor\":\"rgba(229, 236, 246, 1.0)\",\"showbackground\":true},\"zaxis\":{\"ticks\":\"\",\"linecolor\":\"rgba(255, 255, 255, 1.0)\",\"gridcolor\":\"rgba(255, 255, 255, 1.0)\",\"gridwidth\":2.0,\"zerolinecolor\":\"rgba(255, 255, 255, 1.0)\",\"backgroundcolor\":\"rgba(229, 236, 246, 1.0)\",\"showbackground\":true}},\"ternary\":{\"aaxis\":{\"ticks\":\"\",\"linecolor\":\"rgba(255, 255, 255, 1.0)\",\"gridcolor\":\"rgba(255, 255, 255, 1.0)\"},\"baxis\":{\"ticks\":\"\",\"linecolor\":\"rgba(255, 255, 255, 1.0)\",\"gridcolor\":\"rgba(255, 255, 255, 1.0)\"},\"caxis\":{\"ticks\":\"\",\"linecolor\":\"rgba(255, 255, 255, 1.0)\",\"gridcolor\":\"rgba(255, 255, 255, 1.0)\"},\"bgcolor\":\"rgba(229, 236, 246, 1.0)\"},\"xaxis\":{\"title\":{\"standoff\":15},\"ticks\":\"\",\"automargin\":true,\"linecolor\":\"rgba(255, 255, 255, 1.0)\",\"gridcolor\":\"rgba(255, 255, 255, 1.0)\",\"zerolinecolor\":\"rgba(255, 255, 255, 1.0)\",\"zerolinewidth\":2.0},\"yaxis\":{\"title\":{\"standoff\":15},\"ticks\":\"\",\"automargin\":true,\"linecolor\":\"rgba(255, 255, 255, 1.0)\",\"gridcolor\":\"rgba(255, 255, 255, 1.0)\",\"zerolinecolor\":\"rgba(255, 255, 255, 1.0)\",\"zerolinewidth\":2.0},\"annotationdefaults\":{\"arrowcolor\":\"#2a3f5f\",\"arrowhead\":0,\"arrowwidth\":1},\"shapedefaults\":{\"line\":{\"color\":\"rgba(42, 63, 95, 1.0)\"}},\"colorway\":[\"rgba(99, 110, 250, 1.0)\",\"rgba(239, 85, 59, 1.0)\",\"rgba(0, 204, 150, 1.0)\",\"rgba(171, 99, 250, 1.0)\",\"rgba(255, 161, 90, 1.0)\",\"rgba(25, 211, 243, 1.0)\",\"rgba(255, 102, 146, 1.0)\",\"rgba(182, 232, 128, 1.0)\",\"rgba(255, 151, 255, 1.0)\",\"rgba(254, 203, 82, 1.0)\"]},\"data\":{\"bar\":[{\"marker\":{\"line\":{\"color\":\"rgba(229, 236, 246, 1.0)\",\"width\":0.5},\"pattern\":{\"fillmode\":\"overlay\",\"size\":10,\"solidity\":0.2}},\"error_x\":{\"color\":\"rgba(42, 63, 95, 1.0)\"},\"error_y\":{\"color\":\"rgba(42, 63, 95, 1.0)\"}}],\"barpolar\":[{\"marker\":{\"line\":{\"color\":\"rgba(229, 236, 246, 1.0)\",\"width\":0.5},\"pattern\":{\"fillmode\":\"overlay\",\"size\":10,\"solidity\":0.2}}}],\"carpet\":[{\"aaxis\":{\"linecolor\":\"rgba(255, 255, 255, 1.0)\",\"gridcolor\":\"rgba(255, 255, 255, 1.0)\",\"endlinecolor\":\"rgba(42, 63, 95, 1.0)\",\"minorgridcolor\":\"rgba(255, 255, 255, 1.0)\",\"startlinecolor\":\"rgba(42, 63, 95, 1.0)\"},\"baxis\":{\"linecolor\":\"rgba(255, 255, 255, 1.0)\",\"gridcolor\":\"rgba(255, 255, 255, 1.0)\",\"endlinecolor\":\"rgba(42, 63, 95, 1.0)\",\"minorgridcolor\":\"rgba(255, 255, 255, 1.0)\",\"startlinecolor\":\"rgba(42, 63, 95, 1.0)\"}}],\"choropleth\":[{\"colorbar\":{\"outlinewidth\":0.0,\"ticks\":\"\"},\"colorscale\":[[0.0,\"#0d0887\"],[0.1111111111111111,\"#46039f\"],[0.2222222222222222,\"#7201a8\"],[0.3333333333333333,\"#9c179e\"],[0.4444444444444444,\"#bd3786\"],[0.5555555555555556,\"#d8576b\"],[0.6666666666666666,\"#ed7953\"],[0.7777777777777778,\"#fb9f3a\"],[0.8888888888888888,\"#fdca26\"],[1.0,\"#f0f921\"]]}],\"contour\":[{\"colorbar\":{\"outlinewidth\":0.0,\"ticks\":\"\"},\"colorscale\":[[0.0,\"#0d0887\"],[0.1111111111111111,\"#46039f\"],[0.2222222222222222,\"#7201a8\"],[0.3333333333333333,\"#9c179e\"],[0.4444444444444444,\"#bd3786\"],[0.5555555555555556,\"#d8576b\"],[0.6666666666666666,\"#ed7953\"],[0.7777777777777778,\"#fb9f3a\"],[0.8888888888888888,\"#fdca26\"],[1.0,\"#f0f921\"]]}],\"contourcarpet\":[{\"colorbar\":{\"outlinewidth\":0.0,\"ticks\":\"\"}}],\"heatmap\":[{\"colorbar\":{\"outlinewidth\":0.0,\"ticks\":\"\"},\"colorscale\":[[0.0,\"#0d0887\"],[0.1111111111111111,\"#46039f\"],[0.2222222222222222,\"#7201a8\"],[0.3333333333333333,\"#9c179e\"],[0.4444444444444444,\"#bd3786\"],[0.5555555555555556,\"#d8576b\"],[0.6666666666666666,\"#ed7953\"],[0.7777777777777778,\"#fb9f3a\"],[0.8888888888888888,\"#fdca26\"],[1.0,\"#f0f921\"]]}],\"heatmapgl\":[{\"colorbar\":{\"outlinewidth\":0.0,\"ticks\":\"\"},\"colorscale\":[[0.0,\"#0d0887\"],[0.1111111111111111,\"#46039f\"],[0.2222222222222222,\"#7201a8\"],[0.3333333333333333,\"#9c179e\"],[0.4444444444444444,\"#bd3786\"],[0.5555555555555556,\"#d8576b\"],[0.6666666666666666,\"#ed7953\"],[0.7777777777777778,\"#fb9f3a\"],[0.8888888888888888,\"#fdca26\"],[1.0,\"#f0f921\"]]}],\"histogram\":[{\"marker\":{\"pattern\":{\"fillmode\":\"overlay\",\"size\":10,\"solidity\":0.2}}}],\"histogram2d\":[{\"colorbar\":{\"outlinewidth\":0.0,\"ticks\":\"\"},\"colorscale\":[[0.0,\"#0d0887\"],[0.1111111111111111,\"#46039f\"],[0.2222222222222222,\"#7201a8\"],[0.3333333333333333,\"#9c179e\"],[0.4444444444444444,\"#bd3786\"],[0.5555555555555556,\"#d8576b\"],[0.6666666666666666,\"#ed7953\"],[0.7777777777777778,\"#fb9f3a\"],[0.8888888888888888,\"#fdca26\"],[1.0,\"#f0f921\"]]}],\"histogram2dcontour\":[{\"colorbar\":{\"outlinewidth\":0.0,\"ticks\":\"\"},\"colorscale\":[[0.0,\"#0d0887\"],[0.1111111111111111,\"#46039f\"],[0.2222222222222222,\"#7201a8\"],[0.3333333333333333,\"#9c179e\"],[0.4444444444444444,\"#bd3786\"],[0.5555555555555556,\"#d8576b\"],[0.6666666666666666,\"#ed7953\"],[0.7777777777777778,\"#fb9f3a\"],[0.8888888888888888,\"#fdca26\"],[1.0,\"#f0f921\"]]}],\"mesh3d\":[{\"colorbar\":{\"outlinewidth\":0.0,\"ticks\":\"\"}}],\"parcoords\":[{\"line\":{\"colorbar\":{\"outlinewidth\":0.0,\"ticks\":\"\"}}}],\"pie\":[{\"automargin\":true}],\"scatter\":[{\"marker\":{\"colorbar\":{\"outlinewidth\":0.0,\"ticks\":\"\"}}}],\"scatter3d\":[{\"marker\":{\"colorbar\":{\"outlinewidth\":0.0,\"ticks\":\"\"}},\"line\":{\"colorbar\":{\"outlinewidth\":0.0,\"ticks\":\"\"}}}],\"scattercarpet\":[{\"marker\":{\"colorbar\":{\"outlinewidth\":0.0,\"ticks\":\"\"}}}],\"scattergeo\":[{\"marker\":{\"colorbar\":{\"outlinewidth\":0.0,\"ticks\":\"\"}}}],\"scattergl\":[{\"marker\":{\"colorbar\":{\"outlinewidth\":0.0,\"ticks\":\"\"}}}],\"scattermapbox\":[{\"marker\":{\"colorbar\":{\"outlinewidth\":0.0,\"ticks\":\"\"}}}],\"scatterpolar\":[{\"marker\":{\"colorbar\":{\"outlinewidth\":0.0,\"ticks\":\"\"}}}],\"scatterpolargl\":[{\"marker\":{\"colorbar\":{\"outlinewidth\":0.0,\"ticks\":\"\"}}}],\"scatterternary\":[{\"marker\":{\"colorbar\":{\"outlinewidth\":0.0,\"ticks\":\"\"}}}],\"surface\":[{\"colorbar\":{\"outlinewidth\":0.0,\"ticks\":\"\"},\"colorscale\":[[0.0,\"#0d0887\"],[0.1111111111111111,\"#46039f\"],[0.2222222222222222,\"#7201a8\"],[0.3333333333333333,\"#9c179e\"],[0.4444444444444444,\"#bd3786\"],[0.5555555555555556,\"#d8576b\"],[0.6666666666666666,\"#ed7953\"],[0.7777777777777778,\"#fb9f3a\"],[0.8888888888888888,\"#fdca26\"],[1.0,\"#f0f921\"]]}],\"table\":[{\"cells\":{\"fill\":{\"color\":\"rgba(235, 240, 248, 1.0)\"},\"line\":{\"color\":\"rgba(255, 255, 255, 1.0)\"}},\"header\":{\"fill\":{\"color\":\"rgba(200, 212, 227, 1.0)\"},\"line\":{\"color\":\"rgba(255, 255, 255, 1.0)\"}}}]}},\"xaxis\":{\"title\":{\"text\":\"Proteinkonzentration von x1\"}},\"yaxis\":{\"title\":{\"text\":\"Proteinkonzentration von x2\"}},\"scene\":{\"zaxis\":{\"title\":{\"text\":\"Proteinkonzentration von x3\"}}}};\r\n",
       "            var config = {\"responsive\":true};\r\n",
       "            Plotly.newPlot('3ab8057b-52fa-4155-9ecd-e066558c717a', data, layout, config);\r\n",
       "});\r\n",
       "            };\r\n",
       "            if ((typeof(requirejs) !==  typeof(Function)) || (typeof(requirejs.config) !== typeof(Function))) {\r\n",
       "                var script = document.createElement(\"script\");\r\n",
       "                script.setAttribute(\"src\", \"https://cdnjs.cloudflare.com/ajax/libs/require.js/2.3.6/require.min.js\");\r\n",
       "                script.onload = function(){\r\n",
       "                    renderPlotly_3ab8057b52fa41559ecde066558c717a();\r\n",
       "                };\r\n",
       "                document.getElementsByTagName(\"head\")[0].appendChild(script);\r\n",
       "            }\r\n",
       "            else {\r\n",
       "                renderPlotly_3ab8057b52fa41559ecde066558c717a();\r\n",
       "            }\r\n",
       "</script>\r\n",
       "\n",
       "    \n",
       "</div>    \n"
      ]
     },
     "metadata": {},
     "output_type": "display_data"
    }
   ],
   "source": [
    "//Konstanten\n",
    "let beta  = 5. // Konstante für die Zunahme der Proteinkonzentration\n",
    "let gamma = 1.  // Konstante für die Abnahme der Proteinkonzentration \n",
    "let K_d   = 1.  // Dissoziationskonstante\n",
    "let n     = 3.  // Hillkonstante\n",
    "\n",
    "let repressilator_rhs (x1,x2,x3) t beta n =\n",
    "    [|\n",
    "        beta / (1. + x3 ** n) - x1\n",
    "        beta / (1. + x1 ** n) - x2\n",
    "        beta / (1. + x2 ** n) - x3\n",
    "    |]\n",
    "\n",
    "// Define a function which calculates the derivative\n",
    "let dP_dt : Model = \n",
    "    fun P t ->\n",
    "        let x1 = P[0] //Änderung der Proteinkonzentration von x1\n",
    "        let x2 = P[1] //Änderung der Proteinkonzentration von x2\n",
    "        let x3 = P[2] //Änderung der Proteinkonzentration von x3\n",
    "\n",
    "        //Differenzialgleichung die die Änderung der Proteinkonzentration von x1 beschreibt (hier die Gleichung einsetzen)\n",
    "        let x1' = beta / (1. + (x3/K_d) ** n) - gamma * x1\n",
    "        //Differenzialgleichung die die Änderung der Proteinkonzentration von x2 beschreibt (hier die Gleichung einsetzen)\n",
    "        let x2' = beta / (1. + (x1/K_d) ** n) - gamma * x2\n",
    "        //Differenzialgleichung die die Änderung der Proteinkonzentration von x3 beschreibt (hier die Gleichung einsetzen)\n",
    "        let x3' = beta / (1. + (x2/K_d) ** n) - gamma * x3\n",
    "\n",
    "        [|x1'; x2'; x3'|]\n",
    "\n",
    "//Startkonzentrationen\n",
    "let P0 = [|0.; 0.; 0.1|]\n",
    "\n",
    "let Ps = \n",
    "    modelContext.OdeInt(0.,P0,dP_dt)\n",
    "    |> SolPoints.take 1000\n",
    "    |> SolPoints.memorize \n",
    "    \n",
    "let x1 = SolPoints.toY 0 Ps\n",
    "let x2 = SolPoints.toY 1 Ps\n",
    "let x3 = SolPoints.toY 2 Ps\n",
    "\n",
    "Chart.Line3D(x1, x2, x3)\n",
    "|> Chart.withSize(1100,600)\n",
    "|> Chart.withXAxisStyle(\"Proteinkonzentration von x1\")\n",
    "|> Chart.withYAxisStyle(\"Proteinkonzentration von x2\")\n",
    "|> Chart.withZAxisStyle(\"Proteinkonzentration von x3\")"
   ]
  },
  {
   "cell_type": "markdown",
   "metadata": {},
   "source": [
    "Der gezeigte Graph zeigt wie sich die Konzentrationen der drei Proteine über die Zeit verhalten. Wir sehen die erwartet Oszillation für die angegebenen Startwerte. \n",
    "\n",
    "##### Aufgabe 4.17\n",
    "***Verändere die Werte der Hillkonstante. Was beobachten sie für die verschiedenen Werte von n im Bezug auf die Oszillation? Teste die folgenden Werte:***\n",
    "$$n=1$$\n",
    "$$n=2$$\n",
    "$$n=3$$\n",
    "$$n=4$$\n",
    "***Kopiere dafür den Code Block mit den drei Differenzialgleichungen in den folgenden Code Block und ändere dann die Konstante \"n\".***"
   ]
  },
  {
   "cell_type": "code",
   "execution_count": null,
   "metadata": {
    "dotnet_interactive": {
     "language": "fsharp"
    },
    "vscode": {
     "languageId": "dotnet-interactive.fsharp"
    }
   },
   "outputs": [],
   "source": [
    "//Code hier einfügen"
   ]
  },
  {
   "cell_type": "markdown",
   "metadata": {},
   "source": [
    "Hier die Antwort eingeben für die 4 Werte"
   ]
  },
  {
   "cell_type": "markdown",
   "metadata": {},
   "source": [
    "##### Aufgabe 4.18\n",
    "***Verändere die Werte der Produkionskonstante $\\beta$. Was beobachten sie für die verschiedenen Werte von n im Bezug auf die Oszillation? Teste die folgenden Werte:***\n",
    "$$\\beta=1$$\n",
    "$$\\beta=2$$\n",
    "$$\\beta=3$$\n",
    "$$\\beta=4$$\n",
    "***Kopiere dafür den Code Block mit den drei Differenzialgleichungen (den originalen Code Block, nicht den mit den Veränderten Werten von der Hillkonstante) in den folgenden Code Block und ändere dann die Konstante \"beta\".***"
   ]
  },
  {
   "cell_type": "code",
   "execution_count": null,
   "metadata": {
    "dotnet_interactive": {
     "language": "fsharp"
    },
    "vscode": {
     "languageId": "dotnet-interactive.fsharp"
    }
   },
   "outputs": [],
   "source": [
    "//Code hier einfügen"
   ]
  },
  {
   "cell_type": "markdown",
   "metadata": {},
   "source": [
    "Hier die Antwort eingeben für die vier Werte"
   ]
  },
  {
   "cell_type": "markdown",
   "metadata": {},
   "source": [
    "##### Aufgabe 4.19\n",
    "***Verändern sie jetzt die Startkonzentrationen. Was beobachten sie für die verschiedenen Werte?\n",
    "Testen sie die folgenden Werte (hier angegeben als Startkonzentration x1; Startkonzentration x2; Startkonzentration x3):***\n",
    "1. 10.; 0.; 0.\n",
    "2. 0.; 10.; 10.\n",
    "3. 0.; 0.; 0.\n",
    "\n",
    "***Kopiere dafür den Code Block mit den drei Differenzialgleichungen (den originalen Code Block, nicht den mit den Veränderten Werten von der Hillkonstante) in den folgenden Code Block und ändere dann die Startkonzentrationen.***"
   ]
  },
  {
   "cell_type": "code",
   "execution_count": null,
   "metadata": {
    "dotnet_interactive": {
     "language": "fsharp"
    },
    "vscode": {
     "languageId": "dotnet-interactive.fsharp"
    }
   },
   "outputs": [],
   "source": [
    "// Code hier einfügen"
   ]
  },
  {
   "cell_type": "markdown",
   "metadata": {},
   "source": [
    "Wie sie beim bearbeiten der Aufgaben gesehen haben sollten, kommt es bei Repressilator entweder zur Ausbildung eines stabilen Grenzpunktes oder zur Ausbildung von einem Grenzzyklus. Diese Änderung konnten sie herbeiführen durch das ändern von Konstanten, in diesem Fall entweder durch das ändern von $\\beta$ oder $n$. Das heißt es handelt sich hier wieder um Bifurkation, da der qualitative Zustand des Systems, stabile Punktattraktion oder Grenzzyklus, durch das Verändern von Parametern beeinflusst wird. Allerdings handelt es sich nicht wie davor um eine Saddle Node Bifurkation, sondern um eine sogenannte **Hopf Bifurkation**. \n",
    "\n",
    "\n",
    "Es folgt eine kurze Besprechung. Fall sie zu schnell vorangekommen sind können sie die folgende Aufgabe bearbeiten.\n",
    "Exptertenaufgabe 4.4: \n",
    "Erweitern sie den Repressilator um ein weiteres Protein, so dass sich vier Proteine im Kreis gegenseitig regulieren. Dieses vierte Protein soll vom dritten Protein x3 reguliert werden und soll das Protein x1 regulierten. x1 wird nicht mehr von x3 reguliert.\n",
    "Stellen sie die Differenzialgleichungen auf und fügen sie diese in den nachfolgenden Code Block ein. "
   ]
  },
  {
   "cell_type": "code",
   "execution_count": null,
   "metadata": {
    "dotnet_interactive": {
     "language": "fsharp"
    },
    "vscode": {
     "languageId": "dotnet-interactive.fsharp"
    }
   },
   "outputs": [
    {
     "data": {
      "text/html": [
       "\n",
       "<div>\n",
       "    <div id=\"8f440fbb-063b-4d92-ab69-98a3b16c8ec7\"><!-- Plotly chart will be drawn inside this DIV --></div>\r\n",
       "<script type=\"text/javascript\">\r\n",
       "\r\n",
       "            var renderPlotly_8f440fbb063b4d92ab6998a3b16c8ec7 = function() {\r\n",
       "            var fsharpPlotlyRequire = requirejs.config({context:'fsharp-plotly',paths:{plotly:'https://cdn.plot.ly/plotly-2.6.3.min'}}) || require;\r\n",
       "            fsharpPlotlyRequire(['plotly'], function(Plotly) {\r\n",
       "\r\n",
       "            var data = [{\"type\":\"scatter\",\"mode\":\"lines\",\"x\":[0.0,1.0,1.9775170499610208,3.2682123130514134,4.965101035591575,7.09106356136829,9.681250019299855,12.785812026134208,16.47222154868158,20.844868403911384,26.092253699309886,32.682997365602084,40.29107499344409,47.72990780658685,54.63346117167025,61.096243492452814,67.40684604483843,73.91587990520225,80.9489979719615,88.74043354434085,97.394285917898,106.92790674826051,117.3824076755539,128.9036530741561,141.76766249322097,156.3916833561101,173.3700809645686,193.5627189439275,218.27308934066093,249.5960170870208,291.0809035521918,348.71136732100115,394.86795380809934,428.59300641383345,455.8507347592253,480.0564479796637,503.5027366107182,529.595658385446,561.7154160796998,602.1471569176165,648.8270415481705,675.950508640379,700.3365682034708,724.8175464992036,752.5010302304214,786.4029628515458,827.8026109410549,873.2756735483161,898.0134009237966,920.2781108225248,943.2127165442398,970.6205773333539,1006.1329971612206,1051.3191956317482,1094.860799490546,1124.379262849578,1148.617884868786,1171.2904962053117,1195.5578681642996,1225.1026375706035,1263.1024914692787,1309.5618714162815,1349.032574141844,1375.3803476065407,1397.966317503506,1420.270098658108,1445.9493843130622,1478.7763920677576,1521.3423537203423,1570.9493524163602,1596.7325059429254,1619.5121386372268,1642.5635633164059,1669.5061339623715,1703.9195126416573,1747.6402599990759,1791.7067556923078,1822.482244638389,1847.6983193912524,1870.9384525463693,1895.0717736590905,1923.646257668829,1959.8486179455454,2004.3856572998063,2045.1891195430585,2073.4285331376395,2097.368468717322,2120.3998920356935,2145.775810147726,2177.061035048281,2216.928635354882,2263.991362696639,2292.3723757362864,2317.9040459849575,2343.1861984892507,2370.871871496491,2403.631871899099,2442.729353127359,2485.773399422326,2518.5137495975464,2545.1181865756125,2569.0722074721543,2592.825871762841,2619.796711592531,2653.2694727079142,2695.01021149884,2741.8536321521924,2767.0223203360683,2789.5358281148124,2812.572066525466,2839.854236443873,2874.975225358778,2919.5708104080195,2963.186373362259,2993.1175843456917,3017.709312307238,3040.6124812837625,3064.882694440249,3094.1455392744447,3131.5598860446876,3177.336591743984,3217.1469883964146,3244.068654408446,3267.0899811315003,3289.6542392509527,3315.2973453364098,3347.7213873202613,3389.5114216359198,3438.321565269014,3464.761708356995,3488.246189009372,3511.8908829661564,3539.104617494425,3573.251751193335,3615.9551327337063,3663.467981252229,3687.6820073838394,3709.219843496095,3731.4190256585057,3758.2172525652886,3793.4407199268267,3839.0940789990873,3884.1645764191967,3914.312458489428,3938.6464412633213,3961.0838175740114,3984.768116856031,4013.453148089245,4050.5402993864313,4096.692583120913],\"y\":[1.0,1.323000000650052,1.53933483517184,1.7391967242380033,1.9139551705581792,2.0522225769758586,2.155259621000778,2.2332376158865563,2.303799433180865,2.393244675995394,2.5425919934193706,2.8365857959761134,3.393397184666496,4.250209643022508,5.3302653291645,6.456627887110604,7.4736904856707955,8.306363414775628,8.933415815888377,9.362806750221685,9.62627836400286,9.771195839817235,9.843680526818613,9.877053686876305,9.891172254681305,9.896562046524657,9.89835778787491,9.898854592286115,9.898960866914368,9.89897682273768,9.898977864534718,9.898948722235547,9.89860579722658,9.898345030591917,9.898709333547938,9.898919225238389,9.898967779205254,9.89897562926458,9.89897472043609,9.898951501771757,9.898546416046445,9.898800368474081,9.898938110861701,9.898969749006142,9.898974921733654,9.898971366863467,9.898923532177628,9.89825325454297,9.898799627159152,9.89895033783046,9.898974280392968,9.898977191735314,9.898973896844042,9.898909983008,9.898306012126287,9.89850424709257,9.89887279598033,9.898961177549557,9.898975352705218,9.898976552310568,9.898968171514243,9.898809883190772,9.898133015885218,9.898684642880466,9.898929526664668,9.89897134696913,9.898977033422844,9.898975976922998,9.89895031223881,9.898300809840006,9.898770391000333,9.898943025968473,9.898972852977762,9.898976850650829,9.898974298164969,9.898927817902061,9.8984367385211,9.898475437536662,9.898841781939646,9.898953650974754,9.898973801050277,9.898976233369519,9.898970456538109,9.898877617508955,9.898342925898438,9.898641582198879,9.898907780778714,9.89896648296893,9.898975812238431,9.89897568000715,9.898959164891636,9.898647294056445,9.898797470943933,9.89892634176825,9.89896476457807,9.898972581939672,9.898969742184352,9.898933898630455,9.898570726567467,9.898404868003281,9.898767691103053,9.898934424207043,9.898970243480832,9.898975790746812,9.898973455475925,9.898935556911448,9.898283461377865,9.898791204385217,9.898947912250657,9.89897375582871,9.898977030435288,9.898973937046408,9.898916330182804,9.89836048238396,9.89850112875516,9.898864424857766,9.898959038602936,9.89897486731903,9.898976405990888,9.898968794840615,9.898834400366418,9.898212116069777,9.898676052297466,9.898924550976893,9.898970206437353,9.8989767112868,9.898975832871853,9.898952663153798,9.898419600122573,9.89878046065533,9.898940564547338,9.89897165716076,9.898976181912646,9.898973314849473,9.898927048809762,9.898065619176746,9.898775293393607,9.898949116505905,9.898974606146995,9.898977608421323,9.898975158781957,9.898921823284882,9.898274530655963,9.898408232025327,9.898848861456324,9.898957814068591,9.89897509582461,9.8989769114633,9.898971066704341,9.89885878358456],\"marker\":{},\"line\":{\"shape\":\"spline\"},\"name\":\"x1\"},{\"type\":\"scatter\",\"mode\":\"lines\",\"x\":[0.0,1.0,1.9775170499610208,3.2682123130514134,4.965101035591575,7.09106356136829,9.681250019299855,12.785812026134208,16.47222154868158,20.844868403911384,26.092253699309886,32.682997365602084,40.29107499344409,47.72990780658685,54.63346117167025,61.096243492452814,67.40684604483843,73.91587990520225,80.9489979719615,88.74043354434085,97.394285917898,106.92790674826051,117.3824076755539,128.9036530741561,141.76766249322097,156.3916833561101,173.3700809645686,193.5627189439275,218.27308934066093,249.5960170870208,291.0809035521918,348.71136732100115,394.86795380809934,428.59300641383345,455.8507347592253,480.0564479796637,503.5027366107182,529.595658385446,561.7154160796998,602.1471569176165,648.8270415481705,675.950508640379,700.3365682034708,724.8175464992036,752.5010302304214,786.4029628515458,827.8026109410549,873.2756735483161,898.0134009237966,920.2781108225248,943.2127165442398,970.6205773333539,1006.1329971612206,1051.3191956317482,1094.860799490546,1124.379262849578,1148.617884868786,1171.2904962053117,1195.5578681642996,1225.1026375706035,1263.1024914692787,1309.5618714162815,1349.032574141844,1375.3803476065407,1397.966317503506,1420.270098658108,1445.9493843130622,1478.7763920677576,1521.3423537203423,1570.9493524163602,1596.7325059429254,1619.5121386372268,1642.5635633164059,1669.5061339623715,1703.9195126416573,1747.6402599990759,1791.7067556923078,1822.482244638389,1847.6983193912524,1870.9384525463693,1895.0717736590905,1923.646257668829,1959.8486179455454,2004.3856572998063,2045.1891195430585,2073.4285331376395,2097.368468717322,2120.3998920356935,2145.775810147726,2177.061035048281,2216.928635354882,2263.991362696639,2292.3723757362864,2317.9040459849575,2343.1861984892507,2370.871871496491,2403.631871899099,2442.729353127359,2485.773399422326,2518.5137495975464,2545.1181865756125,2569.0722074721543,2592.825871762841,2619.796711592531,2653.2694727079142,2695.01021149884,2741.8536321521924,2767.0223203360683,2789.5358281148124,2812.572066525466,2839.854236443873,2874.975225358778,2919.5708104080195,2963.186373362259,2993.1175843456917,3017.709312307238,3040.6124812837625,3064.882694440249,3094.1455392744447,3131.5598860446876,3177.336591743984,3217.1469883964146,3244.068654408446,3267.0899811315003,3289.6542392509527,3315.2973453364098,3347.7213873202613,3389.5114216359198,3438.321565269014,3464.761708356995,3488.246189009372,3511.8908829661564,3539.104617494425,3573.251751193335,3615.9551327337063,3663.467981252229,3687.6820073838394,3709.219843496095,3731.4190256585057,3758.2172525652886,3793.4407199268267,3839.0940789990873,3884.1645764191967,3914.312458489428,3938.6464412633213,3961.0838175740114,3984.768116856031,4013.453148089245,4050.5402993864313,4096.692583120913],\"y\":[1.0,1.3062646366333157,1.488548655660898,1.6348020702098403,1.7373381995653319,1.7906611840568571,1.8006786925741811,1.7775865642849682,1.730202255974809,1.6605083911927585,1.5581120089980318,1.3919059592028216,1.1478937749290687,0.881454094732656,0.6490297364228654,0.47183465093159294,0.34425709480632605,0.2541668189378585,0.1920634401292611,0.15141697819413558,0.12684685020025188,0.1132774809776518,0.10639779884268884,0.10317860808676499,0.10179632808774378,0.10126237119236932,0.10108297598910417,0.10103308505011382,0.10102238399630588,0.1010207716487887,0.10102059585163252,0.10101842589147669,0.10098371515378234,0.10095659365360621,0.10099324862060141,0.10101443089486505,0.10101933249775262,0.10102012495876028,0.10102003307180728,0.10101768753010425,0.10097677185505274,0.10100242165919168,0.10101633506693732,0.10101953089421155,0.10102005340052718,0.10101969428166692,0.10101486210694297,0.10094716829521655,0.10100234887879281,0.10101757063610106,0.1010199887254044,0.10102028272600663,0.10101994986245703,0.10101349341855738,0.10095249576363541,0.10097251428694255,0.10100973837674626,0.10101866526868042,0.10102009697943501,0.10102021812145538,0.1010193714888131,0.10100338208922997,0.1009350298058513,0.10099073533334378,0.10101546874216552,0.10101969247707322,0.10102026674666063,0.10102015999370625,0.10101756736191032,0.10095196907596052,0.10099939498288807,0.10101683191199676,0.1010198445146603,0.10102024826802004,0.10101999040328927,0.10101529503513289,0.10096569614952283,0.1009696045069559,0.10100660549765031,0.1010179049620613,0.1010199402363727,0.1010201859026573,0.10101960232115699,0.10101022403207373,0.10095622352224207,0.10098638434878203,0.10101327179075212,0.10101920108035667,0.10102014337790166,0.10102012999815724,0.10101846164499735,0.10098695997593794,0.10100212862903278,0.10101514610738159,0.10101902736032872,0.10101981703348031,0.10101953015654658,0.10101590929440978,0.10097922730833017,0.10096247820417244,0.10099912172327467,0.10101596284549011,0.10101958088116973,0.10102014119332964,0.10101990527404668,0.10101607680860022,0.10095021799803996,0.10100149769208708,0.10101732554390053,0.10101993572345168,0.10102026643009317,0.1010199539232993,0.10101413458500741,0.10095799588817474,0.10097219917593803,0.10100889271287741,0.10101844918867714,0.10102004794524796,0.10102020334013669,0.10101943445690467,0.10100585857288388,0.10094301584471224,0.10098986687675283,0.10101496597373477,0.10101957723665432,0.10102023420109557,0.10102014544099559,0.10101780484749381,0.10096396473476008,0.10100041134803944,0.10101658308765679,0.10101972368218881,0.10102018070765154,0.10101989106784957,0.10101521734433584,0.10092822296070611,0.10099989275297445,0.10101744768853177,0.10102002171443118,0.10102032483111126,0.10102007734571984,0.1010146894787712,0.10094931667022752,0.10096281819962434,0.10100732121895571,0.10101832562621697,0.1010200710529601,0.1010202544062782,0.1010196639608572,0.10100832155467068],\"marker\":{},\"line\":{\"shape\":\"spline\"},\"name\":\"x2\"},{\"type\":\"scatter\",\"mode\":\"lines\",\"x\":[0.0,1.0,1.9775170499610208,3.2682123130514134,4.965101035591575,7.09106356136829,9.681250019299855,12.785812026134208,16.47222154868158,20.844868403911384,26.092253699309886,32.682997365602084,40.29107499344409,47.72990780658685,54.63346117167025,61.096243492452814,67.40684604483843,73.91587990520225,80.9489979719615,88.74043354434085,97.394285917898,106.92790674826051,117.3824076755539,128.9036530741561,141.76766249322097,156.3916833561101,173.3700809645686,193.5627189439275,218.27308934066093,249.5960170870208,291.0809035521918,348.71136732100115,394.86795380809934,428.59300641383345,455.8507347592253,480.0564479796637,503.5027366107182,529.595658385446,561.7154160796998,602.1471569176165,648.8270415481705,675.950508640379,700.3365682034708,724.8175464992036,752.5010302304214,786.4029628515458,827.8026109410549,873.2756735483161,898.0134009237966,920.2781108225248,943.2127165442398,970.6205773333539,1006.1329971612206,1051.3191956317482,1094.860799490546,1124.379262849578,1148.617884868786,1171.2904962053117,1195.5578681642996,1225.1026375706035,1263.1024914692787,1309.5618714162815,1349.032574141844,1375.3803476065407,1397.966317503506,1420.270098658108,1445.9493843130622,1478.7763920677576,1521.3423537203423,1570.9493524163602,1596.7325059429254,1619.5121386372268,1642.5635633164059,1669.5061339623715,1703.9195126416573,1747.6402599990759,1791.7067556923078,1822.482244638389,1847.6983193912524,1870.9384525463693,1895.0717736590905,1923.646257668829,1959.8486179455454,2004.3856572998063,2045.1891195430585,2073.4285331376395,2097.368468717322,2120.3998920356935,2145.775810147726,2177.061035048281,2216.928635354882,2263.991362696639,2292.3723757362864,2317.9040459849575,2343.1861984892507,2370.871871496491,2403.631871899099,2442.729353127359,2485.773399422326,2518.5137495975464,2545.1181865756125,2569.0722074721543,2592.825871762841,2619.796711592531,2653.2694727079142,2695.01021149884,2741.8536321521924,2767.0223203360683,2789.5358281148124,2812.572066525466,2839.854236443873,2874.975225358778,2919.5708104080195,2963.186373362259,2993.1175843456917,3017.709312307238,3040.6124812837625,3064.882694440249,3094.1455392744447,3131.5598860446876,3177.336591743984,3217.1469883964146,3244.068654408446,3267.0899811315003,3289.6542392509527,3315.2973453364098,3347.7213873202613,3389.5114216359198,3438.321565269014,3464.761708356995,3488.246189009372,3511.8908829661564,3539.104617494425,3573.251751193335,3615.9551327337063,3663.467981252229,3687.6820073838394,3709.219843496095,3731.4190256585057,3758.2172525652886,3793.4407199268267,3839.0940789990873,3884.1645764191967,3914.312458489428,3938.6464412633213,3961.0838175740114,3984.768116856031,4013.453148089245,4050.5402993864313,4096.692583120913],\"y\":[1.2,1.489475598236481,1.6641527291425102,1.8124577872598937,1.9331898715085272,2.0264722059702858,2.102592422747172,2.1760012055640523,2.261787838466502,2.376278952755778,2.5464904710474037,2.8467533774063165,3.3978003689907528,4.249717743458495,5.32860174807054,6.455293077255817,7.47287759269264,8.305934022760173,8.933214799634802,9.362723906460495,9.62624870200015,9.771186843003225,9.843678376511381,9.877053380118813,9.891172287233987,9.896562083599566,9.89835779990782,9.898854594340168,9.898960867057125,9.898976822703247,9.8989778643844,9.898948722430095,9.89860581332537,9.898345034249049,9.898709333108332,9.898919225189285,9.898967779200845,9.89897562926385,9.89897472043589,9.898951501772116,9.898546416049353,9.8988003684742,9.898938110861705,9.898969749006142,9.898974921733654,9.898971366863467,9.898923532177628,9.89825325454297,9.898799627159152,9.89895033783046,9.898974280392968,9.898977191735314,9.898973896844042,9.898909983008,9.898306012126287,9.89850424709257,9.89887279598033,9.898961177549557,9.898975352705218,9.898976552310568,9.898968171514243,9.898809883190772,9.898133015885218,9.898684642880466,9.898929526664668,9.89897134696913,9.898977033422844,9.898975976922998,9.89895031223881,9.898300809840006,9.898770391000333,9.898943025968473,9.898972852977762,9.898976850650829,9.898974298164969,9.898927817902061,9.8984367385211,9.898475437536662,9.898841781939646,9.898953650974754,9.898973801050277,9.898976233369519,9.898970456538109,9.898877617508955,9.898342925898438,9.898641582198879,9.898907780778714,9.89896648296893,9.898975812238431,9.89897568000715,9.898959164891636,9.898647294056445,9.898797470943933,9.89892634176825,9.89896476457807,9.898972581939672,9.898969742184352,9.898933898630455,9.898570726567467,9.898404868003281,9.898767691103053,9.898934424207043,9.898970243480832,9.898975790746812,9.898973455475925,9.898935556911448,9.898283461377865,9.898791204385217,9.898947912250657,9.89897375582871,9.898977030435288,9.898973937046408,9.898916330182804,9.89836048238396,9.89850112875516,9.898864424857766,9.898959038602936,9.89897486731903,9.898976405990888,9.898968794840615,9.898834400366418,9.898212116069777,9.898676052297466,9.898924550976893,9.898970206437353,9.8989767112868,9.898975832871853,9.898952663153798,9.898419600122573,9.89878046065533,9.898940564547338,9.89897165716076,9.898976181912646,9.898973314849473,9.898927048809762,9.898065619176746,9.898775293393607,9.898949116505905,9.898974606146995,9.898977608421323,9.898975158781957,9.898921823284882,9.898274530655963,9.898408232025327,9.898848861456324,9.898957814068591,9.89897509582461,9.8989769114633,9.898971066704341,9.89885878358456],\"marker\":{},\"line\":{\"shape\":\"spline\"},\"name\":\"x3\"},{\"type\":\"scatter\",\"mode\":\"lines\",\"x\":[0.0,1.0,1.9775170499610208,3.2682123130514134,4.965101035591575,7.09106356136829,9.681250019299855,12.785812026134208,16.47222154868158,20.844868403911384,26.092253699309886,32.682997365602084,40.29107499344409,47.72990780658685,54.63346117167025,61.096243492452814,67.40684604483843,73.91587990520225,80.9489979719615,88.74043354434085,97.394285917898,106.92790674826051,117.3824076755539,128.9036530741561,141.76766249322097,156.3916833561101,173.3700809645686,193.5627189439275,218.27308934066093,249.5960170870208,291.0809035521918,348.71136732100115,394.86795380809934,428.59300641383345,455.8507347592253,480.0564479796637,503.5027366107182,529.595658385446,561.7154160796998,602.1471569176165,648.8270415481705,675.950508640379,700.3365682034708,724.8175464992036,752.5010302304214,786.4029628515458,827.8026109410549,873.2756735483161,898.0134009237966,920.2781108225248,943.2127165442398,970.6205773333539,1006.1329971612206,1051.3191956317482,1094.860799490546,1124.379262849578,1148.617884868786,1171.2904962053117,1195.5578681642996,1225.1026375706035,1263.1024914692787,1309.5618714162815,1349.032574141844,1375.3803476065407,1397.966317503506,1420.270098658108,1445.9493843130622,1478.7763920677576,1521.3423537203423,1570.9493524163602,1596.7325059429254,1619.5121386372268,1642.5635633164059,1669.5061339623715,1703.9195126416573,1747.6402599990759,1791.7067556923078,1822.482244638389,1847.6983193912524,1870.9384525463693,1895.0717736590905,1923.646257668829,1959.8486179455454,2004.3856572998063,2045.1891195430585,2073.4285331376395,2097.368468717322,2120.3998920356935,2145.775810147726,2177.061035048281,2216.928635354882,2263.991362696639,2292.3723757362864,2317.9040459849575,2343.1861984892507,2370.871871496491,2403.631871899099,2442.729353127359,2485.773399422326,2518.5137495975464,2545.1181865756125,2569.0722074721543,2592.825871762841,2619.796711592531,2653.2694727079142,2695.01021149884,2741.8536321521924,2767.0223203360683,2789.5358281148124,2812.572066525466,2839.854236443873,2874.975225358778,2919.5708104080195,2963.186373362259,2993.1175843456917,3017.709312307238,3040.6124812837625,3064.882694440249,3094.1455392744447,3131.5598860446876,3177.336591743984,3217.1469883964146,3244.068654408446,3267.0899811315003,3289.6542392509527,3315.2973453364098,3347.7213873202613,3389.5114216359198,3438.321565269014,3464.761708356995,3488.246189009372,3511.8908829661564,3539.104617494425,3573.251751193335,3615.9551327337063,3663.467981252229,3687.6820073838394,3709.219843496095,3731.4190256585057,3758.2172525652886,3793.4407199268267,3839.0940789990873,3884.1645764191967,3914.312458489428,3938.6464412633213,3961.0838175740114,3984.768116856031,4013.453148089245,4050.5402993864313,4096.692583120913],\"y\":[1.0,1.2400174809652647,1.390195138946681,1.521326768815067,1.6284268325344735,1.7043322256003761,1.7478938207822894,1.759139911323421,1.736542259305282,1.675990207930747,1.5691382994673058,1.3942653127690596,1.1468208155253912,0.8806864339418456,0.6487524640383012,0.471756530534695,0.3442431918789692,0.2541705735169457,0.19206972024850866,0.1514215965566444,0.1268494312545158,0.11327868468316678,0.10639827962923679,0.10317877157578076,0.10179637390779252,0.10126238113923912,0.10108297749508335,0.10103308519038262,0.10102238401249233,0.10102077165471153,0.10102059584682177,0.10101842554908934,0.100983714868863,0.10095659446954387,0.1009932487164301,0.10101443090265835,0.10101933249847318,0.101020124958793,0.10102003307178345,0.10101768753005486,0.10097677185517852,0.10100242165922615,0.10101633506694051,0.1010195308942119,0.10102005340052725,0.10101969428166692,0.10101486210694297,0.10094716829521655,0.10100234887879281,0.10101757063610106,0.1010199887254044,0.10102028272600663,0.10101994986245703,0.10101349341855738,0.10095249576363541,0.10097251428694255,0.10100973837674626,0.10101866526868042,0.10102009697943501,0.10102021812145538,0.1010193714888131,0.10100338208922997,0.1009350298058513,0.10099073533334378,0.10101546874216552,0.10101969247707322,0.10102026674666063,0.10102015999370625,0.10101756736191032,0.10095196907596052,0.10099939498288807,0.10101683191199676,0.1010198445146603,0.10102024826802004,0.10101999040328927,0.10101529503513289,0.10096569614952283,0.1009696045069559,0.10100660549765031,0.1010179049620613,0.1010199402363727,0.1010201859026573,0.10101960232115699,0.10101022403207373,0.10095622352224207,0.10098638434878203,0.10101327179075212,0.10101920108035667,0.10102014337790166,0.10102012999815724,0.10101846164499735,0.10098695997593794,0.10100212862903278,0.10101514610738159,0.10101902736032872,0.10101981703348031,0.10101953015654658,0.10101590929440978,0.10097922730833017,0.10096247820417244,0.10099912172327467,0.10101596284549011,0.10101958088116973,0.10102014119332964,0.10101990527404668,0.10101607680860022,0.10095021799803996,0.10100149769208708,0.10101732554390053,0.10101993572345168,0.10102026643009317,0.1010199539232993,0.10101413458500741,0.10095799588817474,0.10097219917593803,0.10100889271287741,0.10101844918867714,0.10102004794524796,0.10102020334013669,0.10101943445690467,0.10100585857288388,0.10094301584471224,0.10098986687675283,0.10101496597373477,0.10101957723665432,0.10102023420109557,0.10102014544099559,0.10101780484749381,0.10096396473476008,0.10100041134803944,0.10101658308765679,0.10101972368218881,0.10102018070765154,0.10101989106784957,0.10101521734433584,0.10092822296070611,0.10099989275297445,0.10101744768853177,0.10102002171443118,0.10102032483111126,0.10102007734571984,0.1010146894787712,0.10094931667022752,0.10096281819962434,0.10100732121895571,0.10101832562621697,0.1010200710529601,0.1010202544062782,0.1010196639608572,0.10100832155467068],\"marker\":{},\"line\":{\"shape\":\"spline\"},\"name\":\"x4\"}];\r\n",
       "            var layout = {\"width\":1100,\"height\":600,\"template\":{\"layout\":{\"title\":{\"x\":0.05},\"font\":{\"color\":\"rgba(42, 63, 95, 1.0)\"},\"paper_bgcolor\":\"rgba(255, 255, 255, 1.0)\",\"plot_bgcolor\":\"rgba(229, 236, 246, 1.0)\",\"autotypenumbers\":\"strict\",\"colorscale\":{\"diverging\":[[0.0,\"#8e0152\"],[0.1,\"#c51b7d\"],[0.2,\"#de77ae\"],[0.3,\"#f1b6da\"],[0.4,\"#fde0ef\"],[0.5,\"#f7f7f7\"],[0.6,\"#e6f5d0\"],[0.7,\"#b8e186\"],[0.8,\"#7fbc41\"],[0.9,\"#4d9221\"],[1.0,\"#276419\"]],\"sequential\":[[0.0,\"#0d0887\"],[0.1111111111111111,\"#46039f\"],[0.2222222222222222,\"#7201a8\"],[0.3333333333333333,\"#9c179e\"],[0.4444444444444444,\"#bd3786\"],[0.5555555555555556,\"#d8576b\"],[0.6666666666666666,\"#ed7953\"],[0.7777777777777778,\"#fb9f3a\"],[0.8888888888888888,\"#fdca26\"],[1.0,\"#f0f921\"]],\"sequentialminus\":[[0.0,\"#0d0887\"],[0.1111111111111111,\"#46039f\"],[0.2222222222222222,\"#7201a8\"],[0.3333333333333333,\"#9c179e\"],[0.4444444444444444,\"#bd3786\"],[0.5555555555555556,\"#d8576b\"],[0.6666666666666666,\"#ed7953\"],[0.7777777777777778,\"#fb9f3a\"],[0.8888888888888888,\"#fdca26\"],[1.0,\"#f0f921\"]]},\"hovermode\":\"closest\",\"hoverlabel\":{\"align\":\"left\"},\"coloraxis\":{\"colorbar\":{\"outlinewidth\":0.0,\"ticks\":\"\"}},\"geo\":{\"showland\":true,\"landcolor\":\"rgba(229, 236, 246, 1.0)\",\"showlakes\":true,\"lakecolor\":\"rgba(255, 255, 255, 1.0)\",\"subunitcolor\":\"rgba(255, 255, 255, 1.0)\",\"bgcolor\":\"rgba(255, 255, 255, 1.0)\"},\"mapbox\":{\"style\":\"light\"},\"polar\":{\"bgcolor\":\"rgba(229, 236, 246, 1.0)\",\"radialaxis\":{\"linecolor\":\"rgba(255, 255, 255, 1.0)\",\"gridcolor\":\"rgba(255, 255, 255, 1.0)\",\"ticks\":\"\"},\"angularaxis\":{\"linecolor\":\"rgba(255, 255, 255, 1.0)\",\"gridcolor\":\"rgba(255, 255, 255, 1.0)\",\"ticks\":\"\"}},\"scene\":{\"xaxis\":{\"ticks\":\"\",\"linecolor\":\"rgba(255, 255, 255, 1.0)\",\"gridcolor\":\"rgba(255, 255, 255, 1.0)\",\"gridwidth\":2.0,\"zerolinecolor\":\"rgba(255, 255, 255, 1.0)\",\"backgroundcolor\":\"rgba(229, 236, 246, 1.0)\",\"showbackground\":true},\"yaxis\":{\"ticks\":\"\",\"linecolor\":\"rgba(255, 255, 255, 1.0)\",\"gridcolor\":\"rgba(255, 255, 255, 1.0)\",\"gridwidth\":2.0,\"zerolinecolor\":\"rgba(255, 255, 255, 1.0)\",\"backgroundcolor\":\"rgba(229, 236, 246, 1.0)\",\"showbackground\":true},\"zaxis\":{\"ticks\":\"\",\"linecolor\":\"rgba(255, 255, 255, 1.0)\",\"gridcolor\":\"rgba(255, 255, 255, 1.0)\",\"gridwidth\":2.0,\"zerolinecolor\":\"rgba(255, 255, 255, 1.0)\",\"backgroundcolor\":\"rgba(229, 236, 246, 1.0)\",\"showbackground\":true}},\"ternary\":{\"aaxis\":{\"ticks\":\"\",\"linecolor\":\"rgba(255, 255, 255, 1.0)\",\"gridcolor\":\"rgba(255, 255, 255, 1.0)\"},\"baxis\":{\"ticks\":\"\",\"linecolor\":\"rgba(255, 255, 255, 1.0)\",\"gridcolor\":\"rgba(255, 255, 255, 1.0)\"},\"caxis\":{\"ticks\":\"\",\"linecolor\":\"rgba(255, 255, 255, 1.0)\",\"gridcolor\":\"rgba(255, 255, 255, 1.0)\"},\"bgcolor\":\"rgba(229, 236, 246, 1.0)\"},\"xaxis\":{\"title\":{\"standoff\":15},\"ticks\":\"\",\"automargin\":true,\"linecolor\":\"rgba(255, 255, 255, 1.0)\",\"gridcolor\":\"rgba(255, 255, 255, 1.0)\",\"zerolinecolor\":\"rgba(255, 255, 255, 1.0)\",\"zerolinewidth\":2.0},\"yaxis\":{\"title\":{\"standoff\":15},\"ticks\":\"\",\"automargin\":true,\"linecolor\":\"rgba(255, 255, 255, 1.0)\",\"gridcolor\":\"rgba(255, 255, 255, 1.0)\",\"zerolinecolor\":\"rgba(255, 255, 255, 1.0)\",\"zerolinewidth\":2.0},\"annotationdefaults\":{\"arrowcolor\":\"#2a3f5f\",\"arrowhead\":0,\"arrowwidth\":1},\"shapedefaults\":{\"line\":{\"color\":\"rgba(42, 63, 95, 1.0)\"}},\"colorway\":[\"rgba(99, 110, 250, 1.0)\",\"rgba(239, 85, 59, 1.0)\",\"rgba(0, 204, 150, 1.0)\",\"rgba(171, 99, 250, 1.0)\",\"rgba(255, 161, 90, 1.0)\",\"rgba(25, 211, 243, 1.0)\",\"rgba(255, 102, 146, 1.0)\",\"rgba(182, 232, 128, 1.0)\",\"rgba(255, 151, 255, 1.0)\",\"rgba(254, 203, 82, 1.0)\"]},\"data\":{\"bar\":[{\"marker\":{\"line\":{\"color\":\"rgba(229, 236, 246, 1.0)\",\"width\":0.5},\"pattern\":{\"fillmode\":\"overlay\",\"size\":10,\"solidity\":0.2}},\"error_x\":{\"color\":\"rgba(42, 63, 95, 1.0)\"},\"error_y\":{\"color\":\"rgba(42, 63, 95, 1.0)\"}}],\"barpolar\":[{\"marker\":{\"line\":{\"color\":\"rgba(229, 236, 246, 1.0)\",\"width\":0.5},\"pattern\":{\"fillmode\":\"overlay\",\"size\":10,\"solidity\":0.2}}}],\"carpet\":[{\"aaxis\":{\"linecolor\":\"rgba(255, 255, 255, 1.0)\",\"gridcolor\":\"rgba(255, 255, 255, 1.0)\",\"endlinecolor\":\"rgba(42, 63, 95, 1.0)\",\"minorgridcolor\":\"rgba(255, 255, 255, 1.0)\",\"startlinecolor\":\"rgba(42, 63, 95, 1.0)\"},\"baxis\":{\"linecolor\":\"rgba(255, 255, 255, 1.0)\",\"gridcolor\":\"rgba(255, 255, 255, 1.0)\",\"endlinecolor\":\"rgba(42, 63, 95, 1.0)\",\"minorgridcolor\":\"rgba(255, 255, 255, 1.0)\",\"startlinecolor\":\"rgba(42, 63, 95, 1.0)\"}}],\"choropleth\":[{\"colorbar\":{\"outlinewidth\":0.0,\"ticks\":\"\"},\"colorscale\":[[0.0,\"#0d0887\"],[0.1111111111111111,\"#46039f\"],[0.2222222222222222,\"#7201a8\"],[0.3333333333333333,\"#9c179e\"],[0.4444444444444444,\"#bd3786\"],[0.5555555555555556,\"#d8576b\"],[0.6666666666666666,\"#ed7953\"],[0.7777777777777778,\"#fb9f3a\"],[0.8888888888888888,\"#fdca26\"],[1.0,\"#f0f921\"]]}],\"contour\":[{\"colorbar\":{\"outlinewidth\":0.0,\"ticks\":\"\"},\"colorscale\":[[0.0,\"#0d0887\"],[0.1111111111111111,\"#46039f\"],[0.2222222222222222,\"#7201a8\"],[0.3333333333333333,\"#9c179e\"],[0.4444444444444444,\"#bd3786\"],[0.5555555555555556,\"#d8576b\"],[0.6666666666666666,\"#ed7953\"],[0.7777777777777778,\"#fb9f3a\"],[0.8888888888888888,\"#fdca26\"],[1.0,\"#f0f921\"]]}],\"contourcarpet\":[{\"colorbar\":{\"outlinewidth\":0.0,\"ticks\":\"\"}}],\"heatmap\":[{\"colorbar\":{\"outlinewidth\":0.0,\"ticks\":\"\"},\"colorscale\":[[0.0,\"#0d0887\"],[0.1111111111111111,\"#46039f\"],[0.2222222222222222,\"#7201a8\"],[0.3333333333333333,\"#9c179e\"],[0.4444444444444444,\"#bd3786\"],[0.5555555555555556,\"#d8576b\"],[0.6666666666666666,\"#ed7953\"],[0.7777777777777778,\"#fb9f3a\"],[0.8888888888888888,\"#fdca26\"],[1.0,\"#f0f921\"]]}],\"heatmapgl\":[{\"colorbar\":{\"outlinewidth\":0.0,\"ticks\":\"\"},\"colorscale\":[[0.0,\"#0d0887\"],[0.1111111111111111,\"#46039f\"],[0.2222222222222222,\"#7201a8\"],[0.3333333333333333,\"#9c179e\"],[0.4444444444444444,\"#bd3786\"],[0.5555555555555556,\"#d8576b\"],[0.6666666666666666,\"#ed7953\"],[0.7777777777777778,\"#fb9f3a\"],[0.8888888888888888,\"#fdca26\"],[1.0,\"#f0f921\"]]}],\"histogram\":[{\"marker\":{\"pattern\":{\"fillmode\":\"overlay\",\"size\":10,\"solidity\":0.2}}}],\"histogram2d\":[{\"colorbar\":{\"outlinewidth\":0.0,\"ticks\":\"\"},\"colorscale\":[[0.0,\"#0d0887\"],[0.1111111111111111,\"#46039f\"],[0.2222222222222222,\"#7201a8\"],[0.3333333333333333,\"#9c179e\"],[0.4444444444444444,\"#bd3786\"],[0.5555555555555556,\"#d8576b\"],[0.6666666666666666,\"#ed7953\"],[0.7777777777777778,\"#fb9f3a\"],[0.8888888888888888,\"#fdca26\"],[1.0,\"#f0f921\"]]}],\"histogram2dcontour\":[{\"colorbar\":{\"outlinewidth\":0.0,\"ticks\":\"\"},\"colorscale\":[[0.0,\"#0d0887\"],[0.1111111111111111,\"#46039f\"],[0.2222222222222222,\"#7201a8\"],[0.3333333333333333,\"#9c179e\"],[0.4444444444444444,\"#bd3786\"],[0.5555555555555556,\"#d8576b\"],[0.6666666666666666,\"#ed7953\"],[0.7777777777777778,\"#fb9f3a\"],[0.8888888888888888,\"#fdca26\"],[1.0,\"#f0f921\"]]}],\"mesh3d\":[{\"colorbar\":{\"outlinewidth\":0.0,\"ticks\":\"\"}}],\"parcoords\":[{\"line\":{\"colorbar\":{\"outlinewidth\":0.0,\"ticks\":\"\"}}}],\"pie\":[{\"automargin\":true}],\"scatter\":[{\"marker\":{\"colorbar\":{\"outlinewidth\":0.0,\"ticks\":\"\"}}}],\"scatter3d\":[{\"marker\":{\"colorbar\":{\"outlinewidth\":0.0,\"ticks\":\"\"}},\"line\":{\"colorbar\":{\"outlinewidth\":0.0,\"ticks\":\"\"}}}],\"scattercarpet\":[{\"marker\":{\"colorbar\":{\"outlinewidth\":0.0,\"ticks\":\"\"}}}],\"scattergeo\":[{\"marker\":{\"colorbar\":{\"outlinewidth\":0.0,\"ticks\":\"\"}}}],\"scattergl\":[{\"marker\":{\"colorbar\":{\"outlinewidth\":0.0,\"ticks\":\"\"}}}],\"scattermapbox\":[{\"marker\":{\"colorbar\":{\"outlinewidth\":0.0,\"ticks\":\"\"}}}],\"scatterpolar\":[{\"marker\":{\"colorbar\":{\"outlinewidth\":0.0,\"ticks\":\"\"}}}],\"scatterpolargl\":[{\"marker\":{\"colorbar\":{\"outlinewidth\":0.0,\"ticks\":\"\"}}}],\"scatterternary\":[{\"marker\":{\"colorbar\":{\"outlinewidth\":0.0,\"ticks\":\"\"}}}],\"surface\":[{\"colorbar\":{\"outlinewidth\":0.0,\"ticks\":\"\"},\"colorscale\":[[0.0,\"#0d0887\"],[0.1111111111111111,\"#46039f\"],[0.2222222222222222,\"#7201a8\"],[0.3333333333333333,\"#9c179e\"],[0.4444444444444444,\"#bd3786\"],[0.5555555555555556,\"#d8576b\"],[0.6666666666666666,\"#ed7953\"],[0.7777777777777778,\"#fb9f3a\"],[0.8888888888888888,\"#fdca26\"],[1.0,\"#f0f921\"]]}],\"table\":[{\"cells\":{\"fill\":{\"color\":\"rgba(235, 240, 248, 1.0)\"},\"line\":{\"color\":\"rgba(255, 255, 255, 1.0)\"}},\"header\":{\"fill\":{\"color\":\"rgba(200, 212, 227, 1.0)\"},\"line\":{\"color\":\"rgba(255, 255, 255, 1.0)\"}}}]}},\"xaxis\":{\"title\":{\"text\":\"Zeit\"}},\"yaxis\":{\"title\":{\"text\":\"Proteinkonzentration\"}}};\r\n",
       "            var config = {\"responsive\":true};\r\n",
       "            Plotly.newPlot('8f440fbb-063b-4d92-ab69-98a3b16c8ec7', data, layout, config);\r\n",
       "});\r\n",
       "            };\r\n",
       "            if ((typeof(requirejs) !==  typeof(Function)) || (typeof(requirejs.config) !== typeof(Function))) {\r\n",
       "                var script = document.createElement(\"script\");\r\n",
       "                script.setAttribute(\"src\", \"https://cdnjs.cloudflare.com/ajax/libs/require.js/2.3.6/require.min.js\");\r\n",
       "                script.onload = function(){\r\n",
       "                    renderPlotly_8f440fbb063b4d92ab6998a3b16c8ec7();\r\n",
       "                };\r\n",
       "                document.getElementsByTagName(\"head\")[0].appendChild(script);\r\n",
       "            }\r\n",
       "            else {\r\n",
       "                renderPlotly_8f440fbb063b4d92ab6998a3b16c8ec7();\r\n",
       "            }\r\n",
       "</script>\r\n",
       "\n",
       "    \n",
       "</div>    \n"
      ]
     },
     "metadata": {},
     "output_type": "display_data"
    }
   ],
   "source": [
    "//Konstanten\n",
    "let beta  = 1. // Konstante für die Zunahme der Proteinkonzentration\n",
    "let gamma = 0.1  // Konstante für die Abnahme der Proteinkonzentration \n",
    "let K_d   = 1.  // Dissoziationskonstante\n",
    "let n     = 2.  // Hillkonstante\n",
    "\n",
    "\n",
    "// Define a function which calculates the derivative\n",
    "let dP_dt : Model = \n",
    "    fun P t ->\n",
    "        let x1 = P[0] //Änderung der Proteinkonzentration von x1\n",
    "        let x2 = P[1] //Änderung der Proteinkonzentration von x2\n",
    "        let x3 = P[2] //Änderung der Proteinkonzentration von x3\n",
    "        let x4 = P[3]\n",
    "\n",
    "        //Differenzialgleichung die die Änderung der Proteinkonzentration von x1 beschreibt (hier die Gleichung einsetzen)\n",
    "        let x1' = beta / (1. + (x4/K_d) ** n) - gamma * x1\n",
    "        //Differenzialgleichung die die Änderung der Proteinkonzentration von x2 beschreibt (hier die Gleichung einsetzen)\n",
    "        let x2' = beta / (1. + (x1/K_d) ** n) - gamma * x2\n",
    "        //Differenzialgleichung die die Änderung der Proteinkonzentration von x3 beschreibt (hier die Gleichung einsetzen)\n",
    "        let x3' = beta / (1. + (x2/K_d) ** n) - gamma * x3\n",
    "        //Differenzialgleichung die die Änderung der Proteinkonzentration von x4 beschreibt (hier die Gleichung einsetzen)\n",
    "        let x4' = beta / (1. + (x3/K_d) ** n) - gamma * x4\n",
    "        [|x1'; x2'; x3'; x4'|]\n",
    "\n",
    "//Startkonzentrationen\n",
    "let P0 = [|1.; 1.; 1.2; 1.|]\n",
    "\n",
    "let Ps = \n",
    "    modelContext.OdeInt(0.,P0,dP_dt)\n",
    "    |> SolPoints.take 150\n",
    "    |> SolPoints.memorize \n",
    "    \n",
    "let x1 = SolPoints.toPoints 1 Ps\n",
    "let x2 = SolPoints.toPoints 2 Ps\n",
    "let x3 = SolPoints.toPoints 3 Ps\n",
    "let x4 = SolPoints.toPoints 4 Ps\n",
    "[\n",
    "    Chart.Spline (x1)\n",
    "    |> Chart.withTraceInfo (\"x1\")\n",
    "    Chart.Spline (x2)\n",
    "    |> Chart.withTraceInfo (\"x2\")\n",
    "    Chart.Spline (x3)\n",
    "    |> Chart.withTraceInfo (\"x3\")\n",
    "    Chart.Spline (x4)\n",
    "    |> Chart.withTraceInfo (\"x4\")\n",
    "]\n",
    "|> Chart.combine\n",
    "|> Chart.withSize(1100,600)\n",
    "|> Chart.withXAxisStyle(\"Zeit\")\n",
    "|> Chart.withYAxisStyle(\"Proteinkonzentration\")"
   ]
  },
  {
   "cell_type": "markdown",
   "metadata": {},
   "source": [
    "Was beobachten sie?<br> Verändern sie falls nötig entweder \"n\" oder \"\\beta\" und\n",
    "vergleichen sie den drei Proteinrepressilator mit dem vier Proteinrepressilator. "
   ]
  },
  {
   "cell_type": "markdown",
   "metadata": {},
   "source": [
    "Hier die Antwort eingeben."
   ]
  },
  {
   "cell_type": "markdown",
   "metadata": {},
   "source": [
    "----------------------"
   ]
  },
  {
   "cell_type": "markdown",
   "metadata": {},
   "source": [
    "Der Repressilator wurde bereits vor über 20 Jahren designed und auch getested. Die Gene die dafür genutzt wurden sind lacI, TetR, und $\\lambda$ cI. Dabei wurden diese auf zwei Plasmied verteilt. Seit dem wurde das System verbessert um es an stärke Schwankungen anzupassen und auch um es besser sichtbar zu machen.\n",
    "Schauen sie sich das folgende Paper an um zu sehen wo der aktuelle Stand der entwicklung ist. Bearbeiten sie dabei die nachfolgenden Fragen.\n",
    "Paper: https://www.nature.com/articles/nature19841#Sec18\n",
    "\n",
    "\n",
    "Aufgabe 4.18: <br>\n",
    "Anmerkung: Bitte gehen sie nicht zu sehr ins Detail beim beantworten der Fragen.\n",
    "Welche Verbesserungen wurden am Repressilator vorgenommen im Bezug auf Promotor und Plasmid?<br>\n",
    "Warum ist Stochhastik hier relevant?\n",
    "Wie wird der Repressilator sichtbar gemacht (schauen sie bei der bearbeitung dieser Frage auch in die Supplementary Information, fast ganz unten, falls sie zum Abschluss das ganze in vitro sehen möchten)?"
   ]
  },
  {
   "cell_type": "markdown",
   "metadata": {},
   "source": [
    "Hier die Antworten eintragen."
   ]
  },
  {
   "cell_type": "markdown",
   "metadata": {},
   "source": [
    "ENDE\n"
   ]
  }
 ],
 "metadata": {
  "kernelspec": {
   "display_name": ".NET (C#)",
   "language": "C#",
   "name": ".net-csharp"
  },
  "language_info": {
   "file_extension": ".cs",
   "mimetype": "text/x-csharp",
   "name": "C#",
   "pygments_lexer": "csharp",
   "version": "9.0"
  },
  "vscode": {
   "interpreter": {
    "hash": "3017eed01e41510f2e4758f02a5c4b458edd512c2a48ee2ef97492bf17f5a7a1"
   }
  }
 },
 "nbformat": 4,
 "nbformat_minor": 2
}
