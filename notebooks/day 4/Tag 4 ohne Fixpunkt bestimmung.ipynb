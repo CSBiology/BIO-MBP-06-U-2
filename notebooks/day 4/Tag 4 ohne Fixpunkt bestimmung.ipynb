{
 "cells": [
  {
   "cell_type": "code",
   "execution_count": null,
   "metadata": {
    "dotnet_interactive": {
     "language": "fsharp"
    },
    "vscode": {
     "languageId": "dotnet-interactive.fsharp"
    }
   },
   "outputs": [
    {
     "data": {
      "text/html": [
       "<div><div></div><div></div><div><strong>Installed Packages</strong><ul><li><span>FSharp.Stats, 0.4.8</span></li><li><span>FsODE, 0.0.1</span></li><li><span>Plotly.NET.Interactive, 3.0.2</span></li></ul></div></div>"
      ]
     },
     "metadata": {},
     "output_type": "display_data"
    },
    {
     "data": {
      "text/markdown": [
       "Loading extensions from `Plotly.NET.Interactive.dll`"
      ]
     },
     "metadata": {},
     "output_type": "display_data"
    }
   ],
   "source": [
    "// Importieren der benötigten Module\n",
    "#r \"nuget: Plotly.NET.Interactive, 3.0.2\"\n",
    "#r \"nuget: FsODE, 0.0.1\"\n",
    "#r \"nuget: FSharp.Stats\"\n",
    "\n",
    "// ... und öffnen der benöätigten Module\n",
    "open FsODE\n",
    "open Plotly.NET\n",
    "open FSharp.Stats\n",
    "\n",
    "\n",
    "// der Rechenalgorithmus der Programmbibliothek, die wir benutzen:\n",
    "let modelContext = //OdeContext()\n",
    "    OdeSolverMethod.RK546M //RK547M()\n",
    "    |> OdeContext"
   ]
  },
  {
   "cell_type": "markdown",
   "metadata": {},
   "source": [
    "### Einfaches Model vom Lac Operon\n",
    "\n",
    "Das lac Operon ist sowohl für den Transport, als auch den Abbau, von Lactose in Bakterien zuständig. Es ist aufgebaut aus einem Promotor, einem Operator, und drei Strukturgenen, lacA, lacY und lacZ. Das Gen lacY codiert ein Transportprotein namens $\\beta -\\textrm {Galactosid-Permease}$. Dieses ermöglicht die Aufnahme von Lactose in die Zelle, indem es sich in die Plasmamembran integriert. Die Menge an Lactose, welche in die Zelle transportiert wird, ist abhängig von der Anzahl an $\\beta -\\textrm {Galactosid-Permease}$ Proteinen. <br>\n",
    "Das Gen lacZ codiert das Protein $\\beta -\\textrm {Galactosidase}$. Dieses Protein ist dafür zuständig Lactose in die zwei Zucker, Galactose und Glucose, zu spalten. Bei niedriger Konzentration von Lactose katalysiert es außerdem die Reaktion von Lactose zu Allolactose. \n",
    "Das Gen lacA codiert das Protein $\\beta -\\textrm {Galactosid-Transacetylase}$. Dieses Protein transferiert eine Acetlygruppe von acetly-CoA zu $\\beta \\textrm{-Galactosiden}$, Glycoside, und Lactasoiden. Allerdings spielt es im klassichen Lactosezyklus keine Rolle.<br>\n",
    "\n",
    "<center>\n",
    "<img src=\"https://raw.githubusercontent.com/CSBiology/BIO-MBP-06-U-2/main/images/day4/lac_operon.png\" width=50% />\n",
    "</center>\n",
    "\n",
    "Das Lac Operon wird vom Repressor LacI reguliert. Das Gen, lacI, welches für die Expression von LacI zuständig ist liegt upstream vom lac Operon und wird kontinuierlich exprimiert. Daher gibt es immer eine gewisse Konzentration von LacI in der Zelle. Wenn keine Lactose in der Zelle ist bindet LacI sowohl an den Operator vom lac Operon, als auch an den Operator für das Gen lacI. Diese Bindung führt dazu, dass die Produktion von beiden Genen herunterreguliert wird. Weitherhin führt die Bindung dazu, dass die DNA sich zu einer Schleife umformt, was das Binden der RNA-Polymerase an den Promotor des Lac Operons zusätzlich erschwert. Diese beiden Regulationen führen dazu, dass die Expression der Gene des lac Operon um den Faktor 1000 herunterreguliert wird.<br>\n",
    "In der Anwesenheit von Lactose können die geringen Konzentrationen von $\\beta -\\textrm {Galactosid-Permease}$ die Lactose in Allolactose umformen. Allolactose kann an das Protein LacI binden. LacI, das eine Bindung mit Allolactose eingeht, kann nicht mehr an Operatoren binden. Das führt dazu, dass das lac Operon wieder normal expremiert wird. Die normale Expression führt dazu, dass die drei Proteine, lacZ, lacY, und lacA in einem hohem Maße produziert werden.<br>\n",
    "Der Entscheidene Punkt, der den Schalter von nahezu keiner Produktion zu starker Produktion kippt, ist die intrazelluläre Lactosekonzentration. \n",
    "\n",
    "\n",
    "\n",
    "\n",
    "\n",
    "\n"
   ]
  },
  {
   "cell_type": "markdown",
   "metadata": {},
   "source": [
    "Daher wird ein Model verwendet, das ausschließlich die Konzentration von intrazellulärer Lactose betrachtet. Lactose kann wie oben beschrieben nur durch $\\beta -\\textrm {Galactosid-Permease}$ in die Zelle transportiert werden. LacY, das Gen das $\\beta -\\textrm {Galactosid-Permease}$ codiert, wird kontinuierlich expremiert, auch wenn es durch LacI inhibiert wird. Allerdings ist die produzierte Menge an $\\beta -\\textrm {Galactosid-Permease}$ sehr gering. Das heißt Lactose kann immer in die Zelle transporitert werden, aber nur in geringen Mengen solange LacI noch an den Promotor des Lac Operons bindet. <br>\n",
    "Wenn die Konzentration von Lactose in der Zelle hoch genug ist, kommt es wie besprochen zur Bildung von Allolactose welches eine Bindung mit LacI eingeht. Dies führt dazu das LacI nicht mehr an den Promotor des Lac Operons bindet was zu einer erhöhten Produktion von  $\\beta -\\textrm {Galactosid-Permease}$ führt. Somit wird mehr Lactose in die Zelle transportiert. <br>\n",
    "\n",
    "<center>\n",
    "<img src=\"https://raw.githubusercontent.com/CSBiology/BIO-MBP-06-U-2/main/images/day4/Simple_lac_operon.png\" width=50% />\n",
    "</center>\n",
    "\n",
    "Die Differenzialgleichung für die Konzentration von intrazellulärer Lactose kann somit folgendermaßen beschrieben werden. Es gibt einen unregulierten geringen Lactoseimport, genannt $\\alpha$. Es gibt außerdem einen regulierten Lactoseimport, dieser wird $\\beta$ genannt analog zur Proteinproduktion von $\\beta -\\textrm {Galactosid-Permease}$ die nötig ist damit dieser regulierte Transport beginnt. Da mehr intrazelluläre Lactose zu mehr Import führt, kann hier von einer positiven Autoregulation gesprochen werden. Abschließend wird Lactose natürlich auch von der Zelle verbraucht, wobei die Menge die genutzt wird wieder von der Lactosekonzentration abhängt. Die Differenzialgleichung ist somit <br>\n",
    "\n",
    "$$ Lactosekonzentration_{intrazellulär}' = \\frac {dLactosekonzentration_{intrazellulär}} {dt}= \\alpha + \\beta * \\frac {Lactosekonzentration_{intrazellulär}}{K_{D} + Lactosekonzentration_{intrazellulär}} - \\gamma*Lactosekonzentration_{intrazellulär}$$\n",
    "Da die Simulationen nur auf die richtige Differenzialgleichung achten, aber nicht auf die genutzten Namen der Parameter, verkürzen wir die Gleichung zu:\n",
    "$$ inlac' = \\frac {dinlac} {dt}= \\alpha + \\beta * \\frac {inlac}{K_{D} + inlac} - \\gamma*inlac$$\n"
   ]
  },
  {
   "cell_type": "markdown",
   "metadata": {},
   "source": [
    "##### Aufgabe 4.1\n",
    "***Setzen Sie die Gleichung für die intrazelluläre Lactosekonzentration in die nachfolgende Simulation ein (Bitte beachten Sie, dass Sie die Lactosekonzentration als \"inlac\" einsetzten müssen, ohne \"\". Beachten Sie ebenfalls das $\\alpha$, $\\beta \\textrm{ und } \\gamma$ als \"alpha\", \"beta\" und \"gamma\", ohne \"\", eingesetzt werden müssen und nicht als Symbole, und das $K_{D}$ als K_d eingesetzt wird).***"
   ]
  },
  {
   "cell_type": "code",
   "execution_count": null,
   "metadata": {
    "dotnet_interactive": {
     "language": "fsharp"
    },
    "vscode": {
     "languageId": "dotnet-interactive.fsharp"
    }
   },
   "outputs": [
    {
     "data": {
      "text/html": [
       "\n",
       "<div>\n",
       "    <div id=\"33d03fc3-7b0b-4bd3-9960-af235dddbd35\"><!-- Plotly chart will be drawn inside this DIV --></div>\r\n",
       "<script type=\"text/javascript\">\r\n",
       "\r\n",
       "            var renderPlotly_33d03fc37b0b4bd39960af235dddbd35 = function() {\r\n",
       "            var fsharpPlotlyRequire = requirejs.config({context:'fsharp-plotly',paths:{plotly:'https://cdn.plot.ly/plotly-2.6.3.min'}}) || require;\r\n",
       "            fsharpPlotlyRequire(['plotly'], function(Plotly) {\r\n",
       "\r\n",
       "            var data = [{\"type\":\"scatter\",\"mode\":\"lines\",\"x\":[0.0,1.0,1.8768038568175387,2.7866586285835244,3.8525675833572794,5.148477115351924,6.58000342177724,8.12692298562358,9.802518872111074,11.664342269620386],\"y\":[0.1,0.9858599207912646,2.121441747440442,3.2954011469491693,4.35160710588768,5.133725060003653,5.56787553372623,5.77581847368103,5.866515451490882,5.903230284261419],\"marker\":{},\"line\":{\"shape\":\"spline\"},\"name\":\"Lactose\"}];\r\n",
       "            var layout = {\"width\":600,\"height\":600,\"template\":{\"layout\":{\"title\":{\"x\":0.05},\"font\":{\"color\":\"rgba(42, 63, 95, 1.0)\"},\"paper_bgcolor\":\"rgba(255, 255, 255, 1.0)\",\"plot_bgcolor\":\"rgba(229, 236, 246, 1.0)\",\"autotypenumbers\":\"strict\",\"colorscale\":{\"diverging\":[[0.0,\"#8e0152\"],[0.1,\"#c51b7d\"],[0.2,\"#de77ae\"],[0.3,\"#f1b6da\"],[0.4,\"#fde0ef\"],[0.5,\"#f7f7f7\"],[0.6,\"#e6f5d0\"],[0.7,\"#b8e186\"],[0.8,\"#7fbc41\"],[0.9,\"#4d9221\"],[1.0,\"#276419\"]],\"sequential\":[[0.0,\"#0d0887\"],[0.1111111111111111,\"#46039f\"],[0.2222222222222222,\"#7201a8\"],[0.3333333333333333,\"#9c179e\"],[0.4444444444444444,\"#bd3786\"],[0.5555555555555556,\"#d8576b\"],[0.6666666666666666,\"#ed7953\"],[0.7777777777777778,\"#fb9f3a\"],[0.8888888888888888,\"#fdca26\"],[1.0,\"#f0f921\"]],\"sequentialminus\":[[0.0,\"#0d0887\"],[0.1111111111111111,\"#46039f\"],[0.2222222222222222,\"#7201a8\"],[0.3333333333333333,\"#9c179e\"],[0.4444444444444444,\"#bd3786\"],[0.5555555555555556,\"#d8576b\"],[0.6666666666666666,\"#ed7953\"],[0.7777777777777778,\"#fb9f3a\"],[0.8888888888888888,\"#fdca26\"],[1.0,\"#f0f921\"]]},\"hovermode\":\"closest\",\"hoverlabel\":{\"align\":\"left\"},\"coloraxis\":{\"colorbar\":{\"outlinewidth\":0.0,\"ticks\":\"\"}},\"geo\":{\"showland\":true,\"landcolor\":\"rgba(229, 236, 246, 1.0)\",\"showlakes\":true,\"lakecolor\":\"rgba(255, 255, 255, 1.0)\",\"subunitcolor\":\"rgba(255, 255, 255, 1.0)\",\"bgcolor\":\"rgba(255, 255, 255, 1.0)\"},\"mapbox\":{\"style\":\"light\"},\"polar\":{\"bgcolor\":\"rgba(229, 236, 246, 1.0)\",\"radialaxis\":{\"linecolor\":\"rgba(255, 255, 255, 1.0)\",\"gridcolor\":\"rgba(255, 255, 255, 1.0)\",\"ticks\":\"\"},\"angularaxis\":{\"linecolor\":\"rgba(255, 255, 255, 1.0)\",\"gridcolor\":\"rgba(255, 255, 255, 1.0)\",\"ticks\":\"\"}},\"scene\":{\"xaxis\":{\"ticks\":\"\",\"linecolor\":\"rgba(255, 255, 255, 1.0)\",\"gridcolor\":\"rgba(255, 255, 255, 1.0)\",\"gridwidth\":2.0,\"zerolinecolor\":\"rgba(255, 255, 255, 1.0)\",\"backgroundcolor\":\"rgba(229, 236, 246, 1.0)\",\"showbackground\":true},\"yaxis\":{\"ticks\":\"\",\"linecolor\":\"rgba(255, 255, 255, 1.0)\",\"gridcolor\":\"rgba(255, 255, 255, 1.0)\",\"gridwidth\":2.0,\"zerolinecolor\":\"rgba(255, 255, 255, 1.0)\",\"backgroundcolor\":\"rgba(229, 236, 246, 1.0)\",\"showbackground\":true},\"zaxis\":{\"ticks\":\"\",\"linecolor\":\"rgba(255, 255, 255, 1.0)\",\"gridcolor\":\"rgba(255, 255, 255, 1.0)\",\"gridwidth\":2.0,\"zerolinecolor\":\"rgba(255, 255, 255, 1.0)\",\"backgroundcolor\":\"rgba(229, 236, 246, 1.0)\",\"showbackground\":true}},\"ternary\":{\"aaxis\":{\"ticks\":\"\",\"linecolor\":\"rgba(255, 255, 255, 1.0)\",\"gridcolor\":\"rgba(255, 255, 255, 1.0)\"},\"baxis\":{\"ticks\":\"\",\"linecolor\":\"rgba(255, 255, 255, 1.0)\",\"gridcolor\":\"rgba(255, 255, 255, 1.0)\"},\"caxis\":{\"ticks\":\"\",\"linecolor\":\"rgba(255, 255, 255, 1.0)\",\"gridcolor\":\"rgba(255, 255, 255, 1.0)\"},\"bgcolor\":\"rgba(229, 236, 246, 1.0)\"},\"xaxis\":{\"title\":{\"standoff\":15},\"ticks\":\"\",\"automargin\":true,\"linecolor\":\"rgba(255, 255, 255, 1.0)\",\"gridcolor\":\"rgba(255, 255, 255, 1.0)\",\"zerolinecolor\":\"rgba(255, 255, 255, 1.0)\",\"zerolinewidth\":2.0},\"yaxis\":{\"title\":{\"standoff\":15},\"ticks\":\"\",\"automargin\":true,\"linecolor\":\"rgba(255, 255, 255, 1.0)\",\"gridcolor\":\"rgba(255, 255, 255, 1.0)\",\"zerolinecolor\":\"rgba(255, 255, 255, 1.0)\",\"zerolinewidth\":2.0},\"annotationdefaults\":{\"arrowcolor\":\"#2a3f5f\",\"arrowhead\":0,\"arrowwidth\":1},\"shapedefaults\":{\"line\":{\"color\":\"rgba(42, 63, 95, 1.0)\"}},\"colorway\":[\"rgba(99, 110, 250, 1.0)\",\"rgba(239, 85, 59, 1.0)\",\"rgba(0, 204, 150, 1.0)\",\"rgba(171, 99, 250, 1.0)\",\"rgba(255, 161, 90, 1.0)\",\"rgba(25, 211, 243, 1.0)\",\"rgba(255, 102, 146, 1.0)\",\"rgba(182, 232, 128, 1.0)\",\"rgba(255, 151, 255, 1.0)\",\"rgba(254, 203, 82, 1.0)\"]},\"data\":{\"bar\":[{\"marker\":{\"line\":{\"color\":\"rgba(229, 236, 246, 1.0)\",\"width\":0.5},\"pattern\":{\"fillmode\":\"overlay\",\"size\":10,\"solidity\":0.2}},\"error_x\":{\"color\":\"rgba(42, 63, 95, 1.0)\"},\"error_y\":{\"color\":\"rgba(42, 63, 95, 1.0)\"}}],\"barpolar\":[{\"marker\":{\"line\":{\"color\":\"rgba(229, 236, 246, 1.0)\",\"width\":0.5},\"pattern\":{\"fillmode\":\"overlay\",\"size\":10,\"solidity\":0.2}}}],\"carpet\":[{\"aaxis\":{\"linecolor\":\"rgba(255, 255, 255, 1.0)\",\"gridcolor\":\"rgba(255, 255, 255, 1.0)\",\"endlinecolor\":\"rgba(42, 63, 95, 1.0)\",\"minorgridcolor\":\"rgba(255, 255, 255, 1.0)\",\"startlinecolor\":\"rgba(42, 63, 95, 1.0)\"},\"baxis\":{\"linecolor\":\"rgba(255, 255, 255, 1.0)\",\"gridcolor\":\"rgba(255, 255, 255, 1.0)\",\"endlinecolor\":\"rgba(42, 63, 95, 1.0)\",\"minorgridcolor\":\"rgba(255, 255, 255, 1.0)\",\"startlinecolor\":\"rgba(42, 63, 95, 1.0)\"}}],\"choropleth\":[{\"colorbar\":{\"outlinewidth\":0.0,\"ticks\":\"\"},\"colorscale\":[[0.0,\"#0d0887\"],[0.1111111111111111,\"#46039f\"],[0.2222222222222222,\"#7201a8\"],[0.3333333333333333,\"#9c179e\"],[0.4444444444444444,\"#bd3786\"],[0.5555555555555556,\"#d8576b\"],[0.6666666666666666,\"#ed7953\"],[0.7777777777777778,\"#fb9f3a\"],[0.8888888888888888,\"#fdca26\"],[1.0,\"#f0f921\"]]}],\"contour\":[{\"colorbar\":{\"outlinewidth\":0.0,\"ticks\":\"\"},\"colorscale\":[[0.0,\"#0d0887\"],[0.1111111111111111,\"#46039f\"],[0.2222222222222222,\"#7201a8\"],[0.3333333333333333,\"#9c179e\"],[0.4444444444444444,\"#bd3786\"],[0.5555555555555556,\"#d8576b\"],[0.6666666666666666,\"#ed7953\"],[0.7777777777777778,\"#fb9f3a\"],[0.8888888888888888,\"#fdca26\"],[1.0,\"#f0f921\"]]}],\"contourcarpet\":[{\"colorbar\":{\"outlinewidth\":0.0,\"ticks\":\"\"}}],\"heatmap\":[{\"colorbar\":{\"outlinewidth\":0.0,\"ticks\":\"\"},\"colorscale\":[[0.0,\"#0d0887\"],[0.1111111111111111,\"#46039f\"],[0.2222222222222222,\"#7201a8\"],[0.3333333333333333,\"#9c179e\"],[0.4444444444444444,\"#bd3786\"],[0.5555555555555556,\"#d8576b\"],[0.6666666666666666,\"#ed7953\"],[0.7777777777777778,\"#fb9f3a\"],[0.8888888888888888,\"#fdca26\"],[1.0,\"#f0f921\"]]}],\"heatmapgl\":[{\"colorbar\":{\"outlinewidth\":0.0,\"ticks\":\"\"},\"colorscale\":[[0.0,\"#0d0887\"],[0.1111111111111111,\"#46039f\"],[0.2222222222222222,\"#7201a8\"],[0.3333333333333333,\"#9c179e\"],[0.4444444444444444,\"#bd3786\"],[0.5555555555555556,\"#d8576b\"],[0.6666666666666666,\"#ed7953\"],[0.7777777777777778,\"#fb9f3a\"],[0.8888888888888888,\"#fdca26\"],[1.0,\"#f0f921\"]]}],\"histogram\":[{\"marker\":{\"pattern\":{\"fillmode\":\"overlay\",\"size\":10,\"solidity\":0.2}}}],\"histogram2d\":[{\"colorbar\":{\"outlinewidth\":0.0,\"ticks\":\"\"},\"colorscale\":[[0.0,\"#0d0887\"],[0.1111111111111111,\"#46039f\"],[0.2222222222222222,\"#7201a8\"],[0.3333333333333333,\"#9c179e\"],[0.4444444444444444,\"#bd3786\"],[0.5555555555555556,\"#d8576b\"],[0.6666666666666666,\"#ed7953\"],[0.7777777777777778,\"#fb9f3a\"],[0.8888888888888888,\"#fdca26\"],[1.0,\"#f0f921\"]]}],\"histogram2dcontour\":[{\"colorbar\":{\"outlinewidth\":0.0,\"ticks\":\"\"},\"colorscale\":[[0.0,\"#0d0887\"],[0.1111111111111111,\"#46039f\"],[0.2222222222222222,\"#7201a8\"],[0.3333333333333333,\"#9c179e\"],[0.4444444444444444,\"#bd3786\"],[0.5555555555555556,\"#d8576b\"],[0.6666666666666666,\"#ed7953\"],[0.7777777777777778,\"#fb9f3a\"],[0.8888888888888888,\"#fdca26\"],[1.0,\"#f0f921\"]]}],\"mesh3d\":[{\"colorbar\":{\"outlinewidth\":0.0,\"ticks\":\"\"}}],\"parcoords\":[{\"line\":{\"colorbar\":{\"outlinewidth\":0.0,\"ticks\":\"\"}}}],\"pie\":[{\"automargin\":true}],\"scatter\":[{\"marker\":{\"colorbar\":{\"outlinewidth\":0.0,\"ticks\":\"\"}}}],\"scatter3d\":[{\"marker\":{\"colorbar\":{\"outlinewidth\":0.0,\"ticks\":\"\"}},\"line\":{\"colorbar\":{\"outlinewidth\":0.0,\"ticks\":\"\"}}}],\"scattercarpet\":[{\"marker\":{\"colorbar\":{\"outlinewidth\":0.0,\"ticks\":\"\"}}}],\"scattergeo\":[{\"marker\":{\"colorbar\":{\"outlinewidth\":0.0,\"ticks\":\"\"}}}],\"scattergl\":[{\"marker\":{\"colorbar\":{\"outlinewidth\":0.0,\"ticks\":\"\"}}}],\"scattermapbox\":[{\"marker\":{\"colorbar\":{\"outlinewidth\":0.0,\"ticks\":\"\"}}}],\"scatterpolar\":[{\"marker\":{\"colorbar\":{\"outlinewidth\":0.0,\"ticks\":\"\"}}}],\"scatterpolargl\":[{\"marker\":{\"colorbar\":{\"outlinewidth\":0.0,\"ticks\":\"\"}}}],\"scatterternary\":[{\"marker\":{\"colorbar\":{\"outlinewidth\":0.0,\"ticks\":\"\"}}}],\"surface\":[{\"colorbar\":{\"outlinewidth\":0.0,\"ticks\":\"\"},\"colorscale\":[[0.0,\"#0d0887\"],[0.1111111111111111,\"#46039f\"],[0.2222222222222222,\"#7201a8\"],[0.3333333333333333,\"#9c179e\"],[0.4444444444444444,\"#bd3786\"],[0.5555555555555556,\"#d8576b\"],[0.6666666666666666,\"#ed7953\"],[0.7777777777777778,\"#fb9f3a\"],[0.8888888888888888,\"#fdca26\"],[1.0,\"#f0f921\"]]}],\"table\":[{\"cells\":{\"fill\":{\"color\":\"rgba(235, 240, 248, 1.0)\"},\"line\":{\"color\":\"rgba(255, 255, 255, 1.0)\"}},\"header\":{\"fill\":{\"color\":\"rgba(200, 212, 227, 1.0)\"},\"line\":{\"color\":\"rgba(255, 255, 255, 1.0)\"}}}]}},\"xaxis\":{\"title\":{\"text\":\"Zeit\"}},\"yaxis\":{\"title\":{\"text\":\"Lactosekonzentration\"}}};\r\n",
       "            var config = {\"responsive\":true};\r\n",
       "            Plotly.newPlot('33d03fc3-7b0b-4bd3-9960-af235dddbd35', data, layout, config);\r\n",
       "});\r\n",
       "            };\r\n",
       "            if ((typeof(requirejs) !==  typeof(Function)) || (typeof(requirejs.config) !== typeof(Function))) {\r\n",
       "                var script = document.createElement(\"script\");\r\n",
       "                script.setAttribute(\"src\", \"https://cdnjs.cloudflare.com/ajax/libs/require.js/2.3.6/require.min.js\");\r\n",
       "                script.onload = function(){\r\n",
       "                    renderPlotly_33d03fc37b0b4bd39960af235dddbd35();\r\n",
       "                };\r\n",
       "                document.getElementsByTagName(\"head\")[0].appendChild(script);\r\n",
       "            }\r\n",
       "            else {\r\n",
       "                renderPlotly_33d03fc37b0b4bd39960af235dddbd35();\r\n",
       "            }\r\n",
       "</script>\r\n",
       "\n",
       "    \n",
       "</div>    \n"
      ]
     },
     "metadata": {},
     "output_type": "display_data"
    }
   ],
   "source": [
    "//Konstanten\n",
    "let alpha =  0.5  // Konstante für die Zunahme der Lactosekonzentration (unreguliert)\n",
    "let beta  =  10.0 // Konstante für die Zunahme der Lactosekonzentration (reguliert)\n",
    "let gamma =  1.0  // Konstante für die Verringerung der Lactosekonzentration\n",
    "let K_d =    5.0  // Dissoziationskonstante\n",
    "\n",
    "// unsere DGL als  Modell (Model)\n",
    "let dP_dt : Model = \n",
    "    fun P t ->\n",
    "\n",
    "        let inlac = P[0] // Änderung in der Lactosekonzentration\n",
    "\n",
    "        //Differenzialgleichung die diese Änderung beschreibt (hier die Gleichung einsetzen)\n",
    "        let inlac' = alpha + beta * (inlac)/((inlac) + (K_d)) - (gamma*inlac)\n",
    "\n",
    "        [| inlac' |]\n",
    "\n",
    "//Startkonzentrationen\n",
    "let P0 = [| \n",
    "    0.1\n",
    "|]\n",
    "\n",
    "// Simulation der Modelfuntkion\n",
    "let Ps = \n",
    "    modelContext.OdeInt(\n",
    "        0., // Startzeitpunkt\n",
    "        P0,\n",
    "        dP_dt\n",
    "    )\n",
    "    |> SolPoints.take 10 // Anzahl der Zeitpunkte\n",
    "    |> SolPoints.memorize \n",
    "\n",
    "//Graphische Darstellung der numerischen Lösung\n",
    "[\n",
    "    let lactose = SolPoints.toPoints 1 Ps\n",
    "    lactose \n",
    "    |> Chart.Spline \n",
    "    |> Chart.withTraceInfo(\"Lactose\");\n",
    "]\n",
    "\n",
    "|> Chart.combine\n",
    "|> Chart.withXAxisStyle(\"Zeit\")\n",
    "|> Chart.withYAxisStyle(\"Lactosekonzentration\")"
   ]
  },
  {
   "cell_type": "markdown",
   "metadata": {},
   "source": [
    "##### Aufgabe 4.2\n",
    "***Varrieren Sie die Startkonzentration. Was beobachten Sie? Ist dies das Verhalten was Sie in einer Zelle erwarten würden? Begründen Sie die Antwort. <br>\n",
    "Kopieren Sie dafür den obenstehenden Code Block in den folgenden Code Block und ändern Sie dann die Werte für die Startkonzentration im Abschnitt Startkonzentrationen (der Wert unter P0, lassen Sie alles andere gleich).***"
   ]
  },
  {
   "cell_type": "markdown",
   "metadata": {},
   "source": [
    "Bitte hier die Antwort eingeben"
   ]
  },
  {
   "cell_type": "code",
   "execution_count": null,
   "metadata": {
    "dotnet_interactive": {
     "language": "fsharp"
    },
    "vscode": {
     "languageId": "dotnet-interactive.fsharp"
    }
   },
   "outputs": [],
   "source": [
    "//hier code einfügen"
   ]
  },
  {
   "cell_type": "markdown",
   "metadata": {},
   "source": [
    "Die Beobachtung zeigt, dass die aktuelle Differenzialgleichung nicht das darstellt, was wir eigentlich zeigen wollen. Daher nehmen wir eine kleine Änderung am aktuellen Modell vor, um den erwünschten Effekt zu erzielen. Die neue Differenzialgleichung lautet:\n",
    "$$ inlac' = \\frac {dinlac} {dt}= \\alpha + \\beta * \\frac {inlac^{2}}{(K_{D})^{2} + inlac^{2}} - \\gamma*inlac$$\n",
    "\n",
    "##### Aufgabe 4.3\n",
    "***Setzen Sie die Gleichung für intrazelluläre Lactosekonzentration, in der der Teil der postiven Autoregulation hoch 2 genommen wird, in die nachfolgende Simulation ein (Bitte beachten Sie, dass Sie die Lactosekonzentration als \"inlac\" einsetzten müssen, ohne \"\". Beachten Sie ebenfalls, dass $\\alpha$, $\\beta \\textrm{ und } \\gamma$ als \"alpha\", \"beta\" und \"gamma\", ohne \"\", eingesetzt werden müssen und nicht als Symbole, und das $K_{D}$ als K_d eingesetzt wird).***"
   ]
  },
  {
   "cell_type": "code",
   "execution_count": null,
   "metadata": {
    "dotnet_interactive": {
     "language": "fsharp"
    },
    "vscode": {
     "languageId": "dotnet-interactive.fsharp"
    }
   },
   "outputs": [
    {
     "data": {
      "text/html": [
       "\n",
       "<div>\n",
       "    <div id=\"62ce0ef0-a72d-42be-8700-25bc4d9e792b\"><!-- Plotly chart will be drawn inside this DIV --></div>\r\n",
       "<script type=\"text/javascript\">\r\n",
       "\r\n",
       "            var renderPlotly_62ce0ef0a72d42be870025bc4d9e792b = function() {\r\n",
       "            var fsharpPlotlyRequire = requirejs.config({context:'fsharp-plotly',paths:{plotly:'https://cdn.plot.ly/plotly-2.6.3.min'}}) || require;\r\n",
       "            fsharpPlotlyRequire(['plotly'], function(Plotly) {\r\n",
       "\r\n",
       "            var data = [{\"type\":\"scatter\",\"mode\":\"lines\",\"x\":[0.0,1.0,2.231478949917781,4.220678545346431,6.477895993145009,8.718271140616725,10.981131575966396,13.420752997270721,16.19689685778172,19.475636252647785],\"y\":[1.2,1.0571029493258817,0.9204996811896049,0.786972102926861,0.7208947807157824,0.6966198428699318,0.6879459394437312,0.6848202556399928,0.6837646540864594,0.6834584135024522],\"marker\":{},\"line\":{\"shape\":\"spline\"},\"name\":\"Lactose\"}];\r\n",
       "            var layout = {\"width\":600,\"height\":600,\"template\":{\"layout\":{\"title\":{\"x\":0.05},\"font\":{\"color\":\"rgba(42, 63, 95, 1.0)\"},\"paper_bgcolor\":\"rgba(255, 255, 255, 1.0)\",\"plot_bgcolor\":\"rgba(229, 236, 246, 1.0)\",\"autotypenumbers\":\"strict\",\"colorscale\":{\"diverging\":[[0.0,\"#8e0152\"],[0.1,\"#c51b7d\"],[0.2,\"#de77ae\"],[0.3,\"#f1b6da\"],[0.4,\"#fde0ef\"],[0.5,\"#f7f7f7\"],[0.6,\"#e6f5d0\"],[0.7,\"#b8e186\"],[0.8,\"#7fbc41\"],[0.9,\"#4d9221\"],[1.0,\"#276419\"]],\"sequential\":[[0.0,\"#0d0887\"],[0.1111111111111111,\"#46039f\"],[0.2222222222222222,\"#7201a8\"],[0.3333333333333333,\"#9c179e\"],[0.4444444444444444,\"#bd3786\"],[0.5555555555555556,\"#d8576b\"],[0.6666666666666666,\"#ed7953\"],[0.7777777777777778,\"#fb9f3a\"],[0.8888888888888888,\"#fdca26\"],[1.0,\"#f0f921\"]],\"sequentialminus\":[[0.0,\"#0d0887\"],[0.1111111111111111,\"#46039f\"],[0.2222222222222222,\"#7201a8\"],[0.3333333333333333,\"#9c179e\"],[0.4444444444444444,\"#bd3786\"],[0.5555555555555556,\"#d8576b\"],[0.6666666666666666,\"#ed7953\"],[0.7777777777777778,\"#fb9f3a\"],[0.8888888888888888,\"#fdca26\"],[1.0,\"#f0f921\"]]},\"hovermode\":\"closest\",\"hoverlabel\":{\"align\":\"left\"},\"coloraxis\":{\"colorbar\":{\"outlinewidth\":0.0,\"ticks\":\"\"}},\"geo\":{\"showland\":true,\"landcolor\":\"rgba(229, 236, 246, 1.0)\",\"showlakes\":true,\"lakecolor\":\"rgba(255, 255, 255, 1.0)\",\"subunitcolor\":\"rgba(255, 255, 255, 1.0)\",\"bgcolor\":\"rgba(255, 255, 255, 1.0)\"},\"mapbox\":{\"style\":\"light\"},\"polar\":{\"bgcolor\":\"rgba(229, 236, 246, 1.0)\",\"radialaxis\":{\"linecolor\":\"rgba(255, 255, 255, 1.0)\",\"gridcolor\":\"rgba(255, 255, 255, 1.0)\",\"ticks\":\"\"},\"angularaxis\":{\"linecolor\":\"rgba(255, 255, 255, 1.0)\",\"gridcolor\":\"rgba(255, 255, 255, 1.0)\",\"ticks\":\"\"}},\"scene\":{\"xaxis\":{\"ticks\":\"\",\"linecolor\":\"rgba(255, 255, 255, 1.0)\",\"gridcolor\":\"rgba(255, 255, 255, 1.0)\",\"gridwidth\":2.0,\"zerolinecolor\":\"rgba(255, 255, 255, 1.0)\",\"backgroundcolor\":\"rgba(229, 236, 246, 1.0)\",\"showbackground\":true},\"yaxis\":{\"ticks\":\"\",\"linecolor\":\"rgba(255, 255, 255, 1.0)\",\"gridcolor\":\"rgba(255, 255, 255, 1.0)\",\"gridwidth\":2.0,\"zerolinecolor\":\"rgba(255, 255, 255, 1.0)\",\"backgroundcolor\":\"rgba(229, 236, 246, 1.0)\",\"showbackground\":true},\"zaxis\":{\"ticks\":\"\",\"linecolor\":\"rgba(255, 255, 255, 1.0)\",\"gridcolor\":\"rgba(255, 255, 255, 1.0)\",\"gridwidth\":2.0,\"zerolinecolor\":\"rgba(255, 255, 255, 1.0)\",\"backgroundcolor\":\"rgba(229, 236, 246, 1.0)\",\"showbackground\":true}},\"ternary\":{\"aaxis\":{\"ticks\":\"\",\"linecolor\":\"rgba(255, 255, 255, 1.0)\",\"gridcolor\":\"rgba(255, 255, 255, 1.0)\"},\"baxis\":{\"ticks\":\"\",\"linecolor\":\"rgba(255, 255, 255, 1.0)\",\"gridcolor\":\"rgba(255, 255, 255, 1.0)\"},\"caxis\":{\"ticks\":\"\",\"linecolor\":\"rgba(255, 255, 255, 1.0)\",\"gridcolor\":\"rgba(255, 255, 255, 1.0)\"},\"bgcolor\":\"rgba(229, 236, 246, 1.0)\"},\"xaxis\":{\"title\":{\"standoff\":15},\"ticks\":\"\",\"automargin\":true,\"linecolor\":\"rgba(255, 255, 255, 1.0)\",\"gridcolor\":\"rgba(255, 255, 255, 1.0)\",\"zerolinecolor\":\"rgba(255, 255, 255, 1.0)\",\"zerolinewidth\":2.0},\"yaxis\":{\"title\":{\"standoff\":15},\"ticks\":\"\",\"automargin\":true,\"linecolor\":\"rgba(255, 255, 255, 1.0)\",\"gridcolor\":\"rgba(255, 255, 255, 1.0)\",\"zerolinecolor\":\"rgba(255, 255, 255, 1.0)\",\"zerolinewidth\":2.0},\"annotationdefaults\":{\"arrowcolor\":\"#2a3f5f\",\"arrowhead\":0,\"arrowwidth\":1},\"shapedefaults\":{\"line\":{\"color\":\"rgba(42, 63, 95, 1.0)\"}},\"colorway\":[\"rgba(99, 110, 250, 1.0)\",\"rgba(239, 85, 59, 1.0)\",\"rgba(0, 204, 150, 1.0)\",\"rgba(171, 99, 250, 1.0)\",\"rgba(255, 161, 90, 1.0)\",\"rgba(25, 211, 243, 1.0)\",\"rgba(255, 102, 146, 1.0)\",\"rgba(182, 232, 128, 1.0)\",\"rgba(255, 151, 255, 1.0)\",\"rgba(254, 203, 82, 1.0)\"]},\"data\":{\"bar\":[{\"marker\":{\"line\":{\"color\":\"rgba(229, 236, 246, 1.0)\",\"width\":0.5},\"pattern\":{\"fillmode\":\"overlay\",\"size\":10,\"solidity\":0.2}},\"error_x\":{\"color\":\"rgba(42, 63, 95, 1.0)\"},\"error_y\":{\"color\":\"rgba(42, 63, 95, 1.0)\"}}],\"barpolar\":[{\"marker\":{\"line\":{\"color\":\"rgba(229, 236, 246, 1.0)\",\"width\":0.5},\"pattern\":{\"fillmode\":\"overlay\",\"size\":10,\"solidity\":0.2}}}],\"carpet\":[{\"aaxis\":{\"linecolor\":\"rgba(255, 255, 255, 1.0)\",\"gridcolor\":\"rgba(255, 255, 255, 1.0)\",\"endlinecolor\":\"rgba(42, 63, 95, 1.0)\",\"minorgridcolor\":\"rgba(255, 255, 255, 1.0)\",\"startlinecolor\":\"rgba(42, 63, 95, 1.0)\"},\"baxis\":{\"linecolor\":\"rgba(255, 255, 255, 1.0)\",\"gridcolor\":\"rgba(255, 255, 255, 1.0)\",\"endlinecolor\":\"rgba(42, 63, 95, 1.0)\",\"minorgridcolor\":\"rgba(255, 255, 255, 1.0)\",\"startlinecolor\":\"rgba(42, 63, 95, 1.0)\"}}],\"choropleth\":[{\"colorbar\":{\"outlinewidth\":0.0,\"ticks\":\"\"},\"colorscale\":[[0.0,\"#0d0887\"],[0.1111111111111111,\"#46039f\"],[0.2222222222222222,\"#7201a8\"],[0.3333333333333333,\"#9c179e\"],[0.4444444444444444,\"#bd3786\"],[0.5555555555555556,\"#d8576b\"],[0.6666666666666666,\"#ed7953\"],[0.7777777777777778,\"#fb9f3a\"],[0.8888888888888888,\"#fdca26\"],[1.0,\"#f0f921\"]]}],\"contour\":[{\"colorbar\":{\"outlinewidth\":0.0,\"ticks\":\"\"},\"colorscale\":[[0.0,\"#0d0887\"],[0.1111111111111111,\"#46039f\"],[0.2222222222222222,\"#7201a8\"],[0.3333333333333333,\"#9c179e\"],[0.4444444444444444,\"#bd3786\"],[0.5555555555555556,\"#d8576b\"],[0.6666666666666666,\"#ed7953\"],[0.7777777777777778,\"#fb9f3a\"],[0.8888888888888888,\"#fdca26\"],[1.0,\"#f0f921\"]]}],\"contourcarpet\":[{\"colorbar\":{\"outlinewidth\":0.0,\"ticks\":\"\"}}],\"heatmap\":[{\"colorbar\":{\"outlinewidth\":0.0,\"ticks\":\"\"},\"colorscale\":[[0.0,\"#0d0887\"],[0.1111111111111111,\"#46039f\"],[0.2222222222222222,\"#7201a8\"],[0.3333333333333333,\"#9c179e\"],[0.4444444444444444,\"#bd3786\"],[0.5555555555555556,\"#d8576b\"],[0.6666666666666666,\"#ed7953\"],[0.7777777777777778,\"#fb9f3a\"],[0.8888888888888888,\"#fdca26\"],[1.0,\"#f0f921\"]]}],\"heatmapgl\":[{\"colorbar\":{\"outlinewidth\":0.0,\"ticks\":\"\"},\"colorscale\":[[0.0,\"#0d0887\"],[0.1111111111111111,\"#46039f\"],[0.2222222222222222,\"#7201a8\"],[0.3333333333333333,\"#9c179e\"],[0.4444444444444444,\"#bd3786\"],[0.5555555555555556,\"#d8576b\"],[0.6666666666666666,\"#ed7953\"],[0.7777777777777778,\"#fb9f3a\"],[0.8888888888888888,\"#fdca26\"],[1.0,\"#f0f921\"]]}],\"histogram\":[{\"marker\":{\"pattern\":{\"fillmode\":\"overlay\",\"size\":10,\"solidity\":0.2}}}],\"histogram2d\":[{\"colorbar\":{\"outlinewidth\":0.0,\"ticks\":\"\"},\"colorscale\":[[0.0,\"#0d0887\"],[0.1111111111111111,\"#46039f\"],[0.2222222222222222,\"#7201a8\"],[0.3333333333333333,\"#9c179e\"],[0.4444444444444444,\"#bd3786\"],[0.5555555555555556,\"#d8576b\"],[0.6666666666666666,\"#ed7953\"],[0.7777777777777778,\"#fb9f3a\"],[0.8888888888888888,\"#fdca26\"],[1.0,\"#f0f921\"]]}],\"histogram2dcontour\":[{\"colorbar\":{\"outlinewidth\":0.0,\"ticks\":\"\"},\"colorscale\":[[0.0,\"#0d0887\"],[0.1111111111111111,\"#46039f\"],[0.2222222222222222,\"#7201a8\"],[0.3333333333333333,\"#9c179e\"],[0.4444444444444444,\"#bd3786\"],[0.5555555555555556,\"#d8576b\"],[0.6666666666666666,\"#ed7953\"],[0.7777777777777778,\"#fb9f3a\"],[0.8888888888888888,\"#fdca26\"],[1.0,\"#f0f921\"]]}],\"mesh3d\":[{\"colorbar\":{\"outlinewidth\":0.0,\"ticks\":\"\"}}],\"parcoords\":[{\"line\":{\"colorbar\":{\"outlinewidth\":0.0,\"ticks\":\"\"}}}],\"pie\":[{\"automargin\":true}],\"scatter\":[{\"marker\":{\"colorbar\":{\"outlinewidth\":0.0,\"ticks\":\"\"}}}],\"scatter3d\":[{\"marker\":{\"colorbar\":{\"outlinewidth\":0.0,\"ticks\":\"\"}},\"line\":{\"colorbar\":{\"outlinewidth\":0.0,\"ticks\":\"\"}}}],\"scattercarpet\":[{\"marker\":{\"colorbar\":{\"outlinewidth\":0.0,\"ticks\":\"\"}}}],\"scattergeo\":[{\"marker\":{\"colorbar\":{\"outlinewidth\":0.0,\"ticks\":\"\"}}}],\"scattergl\":[{\"marker\":{\"colorbar\":{\"outlinewidth\":0.0,\"ticks\":\"\"}}}],\"scattermapbox\":[{\"marker\":{\"colorbar\":{\"outlinewidth\":0.0,\"ticks\":\"\"}}}],\"scatterpolar\":[{\"marker\":{\"colorbar\":{\"outlinewidth\":0.0,\"ticks\":\"\"}}}],\"scatterpolargl\":[{\"marker\":{\"colorbar\":{\"outlinewidth\":0.0,\"ticks\":\"\"}}}],\"scatterternary\":[{\"marker\":{\"colorbar\":{\"outlinewidth\":0.0,\"ticks\":\"\"}}}],\"surface\":[{\"colorbar\":{\"outlinewidth\":0.0,\"ticks\":\"\"},\"colorscale\":[[0.0,\"#0d0887\"],[0.1111111111111111,\"#46039f\"],[0.2222222222222222,\"#7201a8\"],[0.3333333333333333,\"#9c179e\"],[0.4444444444444444,\"#bd3786\"],[0.5555555555555556,\"#d8576b\"],[0.6666666666666666,\"#ed7953\"],[0.7777777777777778,\"#fb9f3a\"],[0.8888888888888888,\"#fdca26\"],[1.0,\"#f0f921\"]]}],\"table\":[{\"cells\":{\"fill\":{\"color\":\"rgba(235, 240, 248, 1.0)\"},\"line\":{\"color\":\"rgba(255, 255, 255, 1.0)\"}},\"header\":{\"fill\":{\"color\":\"rgba(200, 212, 227, 1.0)\"},\"line\":{\"color\":\"rgba(255, 255, 255, 1.0)\"}}}]}},\"xaxis\":{\"title\":{\"text\":\"Zeit\"}},\"yaxis\":{\"title\":{\"text\":\"Lactosekonzentration\"}}};\r\n",
       "            var config = {\"responsive\":true};\r\n",
       "            Plotly.newPlot('62ce0ef0-a72d-42be-8700-25bc4d9e792b', data, layout, config);\r\n",
       "});\r\n",
       "            };\r\n",
       "            if ((typeof(requirejs) !==  typeof(Function)) || (typeof(requirejs.config) !== typeof(Function))) {\r\n",
       "                var script = document.createElement(\"script\");\r\n",
       "                script.setAttribute(\"src\", \"https://cdnjs.cloudflare.com/ajax/libs/require.js/2.3.6/require.min.js\");\r\n",
       "                script.onload = function(){\r\n",
       "                    renderPlotly_62ce0ef0a72d42be870025bc4d9e792b();\r\n",
       "                };\r\n",
       "                document.getElementsByTagName(\"head\")[0].appendChild(script);\r\n",
       "            }\r\n",
       "            else {\r\n",
       "                renderPlotly_62ce0ef0a72d42be870025bc4d9e792b();\r\n",
       "            }\r\n",
       "</script>\r\n",
       "\n",
       "    \n",
       "</div>    \n"
      ]
     },
     "metadata": {},
     "output_type": "display_data"
    }
   ],
   "source": [
    "//Konstanten\n",
    "let alpha =  0.5  // Konstante für die Zunahme der Lactosekonzentration (unreguliert)\n",
    "let beta  =  10.0 // Konstante für die Zunahme der Lactosekonzentration (reguliert)\n",
    "let gamma =  1.0  // Konstante für die Verringerung der Lactosekonzentration\n",
    "let K_d =    5.0  // Dissoziationskonstante\n",
    "\n",
    "// unsere DGL als  Modell (Model)\n",
    "let dP_dt : Model = \n",
    "    fun P t ->\n",
    "\n",
    "        let inlac = P[0] // Änderung in der Lactosekonzentration\n",
    "\n",
    "        //Differenzialgleichung die diese Änderung beschreibt (hier die Gleichung einsetzen)\n",
    "        let inlac' = alpha + beta * (inlac**2.)/((inlac**2.) + (K_d**2.)) - (gamma*inlac)\n",
    "\n",
    "        [| inlac' |]\n",
    "\n",
    "//Startkonzentrationen\n",
    "let P0 = [| \n",
    "    1.2\n",
    "|]\n",
    "\n",
    "// Simulation der Modelfuntkion\n",
    "let Ps = \n",
    "    modelContext.OdeInt(\n",
    "        0., // Startzeitpunkt\n",
    "        P0,\n",
    "        dP_dt\n",
    "    )\n",
    "    |> SolPoints.take 10 // Anzahl der Zeitpunkte\n",
    "    |> SolPoints.memorize \n",
    "\n",
    "//Graphische Darstellung der numerischen Lösung\n",
    "[\n",
    "    let lactose = SolPoints.toPoints 1 Ps\n",
    "    lactose \n",
    "    |> Chart.Spline \n",
    "    |> Chart.withTraceInfo(\"Lactose\");\n",
    "]\n",
    "\n",
    "|> Chart.combine\n",
    "|> Chart.withXAxisStyle(\"Zeit\")\n",
    "|> Chart.withYAxisStyle(\"Lactosekonzentration\")"
   ]
  },
  {
   "cell_type": "markdown",
   "metadata": {},
   "source": [
    "##### Aufgabe 4.4\n",
    "***Was beobachten Sie?***\n",
    "\n",
    "\n"
   ]
  },
  {
   "cell_type": "markdown",
   "metadata": {},
   "source": [
    "Hier die Antwort eingeben"
   ]
  },
  {
   "cell_type": "markdown",
   "metadata": {},
   "source": [
    "##### Aufgabe 4.5\n",
    "***Erhöhen Sie jetzt Schrittweise den Wert von der $Lactosekonzentration(0)$. Kopieren Sie dafür den obenstehnden Code Block in den folgenden Code Block und ändern Sie dann die Werte für die Startkonzentration im Abschnitt Startkonzentrationen, der Wert unter P0 (lassen Sie alles andere gleich). Nutzen Sie dabei die folgenden Werte:***\n",
    "$$0.5$$\n",
    "$$1.0$$\n",
    "$$1.5$$\n",
    "$$2.0$$\n",
    "$$2.5$$\n",
    "$$3.0$$\n",
    "$$3.5$$\n",
    "$$4.0$$\n",
    "$$5.0$$\n",
    "$$6.0$$\n",
    "$$7.0$$\n",
    "$$8.0$$\n",
    "\n",
    "***Notieren Sie die Werte die Sie für die Gleichgewichtspunkte finden, bei jeder Konzentration (der Wert bei dem sich die Konzentration nicht mehr merklich ändert)***\n",
    "\n",
    "\n",
    "***Was können Sie im Bezug auf das $Lactosekonzentration_{GGW}$ sagen?***\n"
   ]
  },
  {
   "cell_type": "code",
   "execution_count": null,
   "metadata": {
    "dotnet_interactive": {
     "language": "markdown"
    },
    "vscode": {
     "languageId": "markdown"
    }
   },
   "outputs": [],
   "source": []
  },
  {
   "cell_type": "markdown",
   "metadata": {},
   "source": [
    "Block für die Werte und die Antwort\n",
    "\n",
    "Hier die Werte für die einzelnen $Lactosekonzentration_{GGW}$ eintragen:\n",
    "\n",
    "\n",
    "\n",
    "\n",
    "Anschliesend bitte beantworten was Sie über das  $Lactosekonzentration_{GGW}$ im allgemeinen sagen können."
   ]
  },
  {
   "cell_type": "markdown",
   "metadata": {},
   "source": [
    "Es folgt eine kurze Besprechung. \n",
    "### Expertenaufgabe?"
   ]
  },
  {
   "cell_type": "markdown",
   "metadata": {},
   "source": [
    "----------------\n",
    "##### Aufgabe 4.6\n",
    "***Bestimmen Sie, ob es sich um stabile oder instabile Punktattraktoren handelt. Nutzen Sie dafür die Werte die Sie oben eingetragen haben.\n",
    "Stabil bedeutet das die $Lactosekonzentration{GGW}$ vom folgenden und vorherigen $Lactosekonzentration(0)$ identisch sind. Als Beispiel (diese Werte sind ausgedacht und sollen nur als Beispiel dienen):***\n",
    "$Lactosekonzentration(0)$ wird zu $Proteinkonzentration_{GGW}$\n",
    "$$Lactosekonzentration(1.0) -> Lactosekonzentration{GGW} = 2$$\n",
    "$$Lactosekonzentration(2.0) -> Lactosekonzentration{GGW} = 2$$\n",
    "$$Lactosekonzentration(3.0) -> Lactosekonzentration{GGW} = 2$$\n",
    "\n",
    "***dann handelt es sich beim Punktattraktor 2 um einen stabilen Punktattraktor.***\n",
    "\n",
    "***Instabil bedeutet analog das die beiden flannkierenden Proteinkonzentration_{GGW} zu einem anderen Punktattraktor wandern. Als Beispiel:***\n",
    "\n",
    "$$Lactosekonzentration(3.0) -> Lactosekonzentration{GGW} = 2$$\n",
    "$$Lactosekonzentration(4.0) -> Lactosekonzentration{GGW} = 4$$\n",
    "$$Lactosekonzentration(5.0) -> Lactosekonzentration{GGW} = 8$$\n",
    "\n",
    "***Hier wäre der Punktattraktor bei 4 instabil.***\n",
    "\n",
    "***Gehen Sie jezt bei denen von ihnen bestimmten Punkten anlog vor (es reicht wenn Sie schreiben Punktattraktor X ist stabil/instabil).***"
   ]
  },
  {
   "cell_type": "markdown",
   "metadata": {},
   "source": [
    "Hier die Antwort eingeben."
   ]
  },
  {
   "cell_type": "markdown",
   "metadata": {},
   "source": [
    "Ein System das zwei stabile Punktattraktoren hat wird auch bistabiles System genannt. **Bistabilität** ist eine Schlüsseleigenschaften von biologischen Systemen, da das System auch dann an einem der beiden Punktattraktoren verweilt, wenn es leichte Störungen oder es leicht veränderte äußere Einflüsse gibt. Das bedeutet bezogen auf das lac Operon, das dieses nur dann exprimiert wird wenn es eine hohe Konzentration an extrazellulärer Lactose gibt. Bei nur sehr geringen Mengen kommt es nicht zur Ausbildung von Allolactose und das lac Operon wird weiterhin durch lacI inhibiert. Dies hat den Vorteil das die Energie die auf die Produktion von lacY, laxZ, und lacA verwendet werden würde gespart wird, da die Menge an Lactose dies nicht rechtfertigt. Auf der anderen Seite kommt es bei einer hohen Lactosekonzentration zur Ausbildung von genug Allolactose, so dass das Lac Operon nicht mehr durch LacI inhibiert wird. Da die Repression sehr stark ist, der Faktor ist ungefähr 1000, kommt es anschließend zu einer sehr starken Expression des Lac Operon. <br>\n",
    "Die Fähigkeit nur dann Gene zu exprimieren, wenn Sie wirklich gebraucht werden, aber dann in sehr hohem Maße, ist ein grundlegender Vorteil gegenüber einem Organismus der diese Fähigkeit nicht hat und immer alles mit der selben Rate produziert. Daher hat sich **Bistabilität** als eines der Grundlegenden Bausteine in der Evolution durchgesetzt und kann heute in jedem Organismus bei fast allen relevanten Genzyklen beobachtet werden.\n",
    "Bistabilität ist allerdings nur eine spezialform der **Multistabilität**. Multistabilität bedeutet das ein System mehrere Fixpunkte hat zu denen es wandern kann, anhängig von den äußeren Einflüssen. Dies hat beim System von Lactose noch keinen Vorteil, aber bei komplexeren Problemen wo wie der Proliferation ist es deutlich vorteilhafter. \n",
    "\n"
   ]
  },
  {
   "cell_type": "markdown",
   "metadata": {},
   "source": [
    "##### Aufgabe 4.7\n",
    "***Teilen Sie Gleichung welche die Änderung der Lactosekonzentration im Bezug auf die Zeit beschreibt in zwei Gleichungen. Die erste soll die Zunahme der Lactose beschreiben, die zweite die Abnahame, also***\n",
    "$$ \\frac {dLactosekonzentration} {dt} = \\textrm{Zunahme der Lactosekonzentration} $$\n",
    "$$ \\frac {dLactosekonzentration} {dt} = \\textrm{Verringerung der Lactosekonzentration}$$\n",
    "\n",
    "***Fügen Sie die beiden Gleichungen in das folgende Model ein (beachte das $\\beta \\textrm{ und } \\gamma$ als \"beta\" und \"gamma\", ohne \"\", eingesetzt werden müssen und nicht als Symbole, und das $K_{d}$ als K_d eingesetzt wird).*** "
   ]
  },
  {
   "cell_type": "code",
   "execution_count": null,
   "metadata": {
    "dotnet_interactive": {
     "language": "fsharp"
    },
    "vscode": {
     "languageId": "dotnet-interactive.fsharp"
    }
   },
   "outputs": [
    {
     "data": {
      "text/html": [
       "\n",
       "<div>\n",
       "    <div id=\"86b51fca-1a93-49f5-8db4-832a675fde4b\"><!-- Plotly chart will be drawn inside this DIV --></div>\r\n",
       "<script type=\"text/javascript\">\r\n",
       "\r\n",
       "            var renderPlotly_86b51fca1a9349f58db4832a675fde4b = function() {\r\n",
       "            var fsharpPlotlyRequire = requirejs.config({context:'fsharp-plotly',paths:{plotly:'https://cdn.plot.ly/plotly-2.6.3.min'}}) || require;\r\n",
       "            fsharpPlotlyRequire(['plotly'], function(Plotly) {\r\n",
       "\r\n",
       "            var data = [{\"type\":\"scatter\",\"mode\":\"lines\",\"x\":[0.0,0.1,0.2,0.30000000000000004,0.4,0.5,0.6000000000000001,0.7000000000000001,0.8,0.9,1.0,1.1,1.2000000000000002,1.3,1.4000000000000001,1.5,1.6,1.7000000000000002,1.8,1.9000000000000001,2.0,2.1,2.2,2.3000000000000003,2.4000000000000004,2.5,2.6,2.7,2.8000000000000003,2.9000000000000004,3.0,3.1,3.2,3.3000000000000003,3.4000000000000004,3.5,3.6,3.7,3.8000000000000003,3.9000000000000004,4.0,4.1000000000000005,4.2,4.3,4.4,4.5,4.6000000000000005,4.7,4.800000000000001,4.9,5.0,5.1000000000000005,5.2,5.300000000000001,5.4,5.5,5.6000000000000005,5.7,5.800000000000001,5.9,6.0,6.1000000000000005,6.2,6.300000000000001,6.4,6.5,6.6000000000000005,6.7,6.800000000000001,6.9,7.0,7.1000000000000005,7.2,7.300000000000001,7.4,7.5,7.6000000000000005,7.7,7.800000000000001,7.9,8.0,8.1,8.200000000000001,8.3,8.4,8.5,8.6,8.700000000000001,8.8,8.9,9.0,9.1,9.200000000000001,9.3,9.4,9.5,9.600000000000001,9.700000000000001,9.8,9.9,10.0,10.100000000000001,10.200000000000001,10.3,10.4,10.5,10.600000000000001,10.700000000000001,10.8,10.9,11.0,11.100000000000001,11.200000000000001,11.3,11.4,11.5,11.600000000000001,11.700000000000001,11.8,11.9,12.0,12.100000000000001,12.200000000000001,12.3,12.4,12.5,12.600000000000001,12.700000000000001,12.8,12.9,13.0,13.100000000000001,13.200000000000001,13.3,13.4,13.5,13.600000000000001,13.700000000000001,13.8,13.9,14.0,14.100000000000001,14.200000000000001,14.3,14.4,14.5,14.600000000000001,14.700000000000001,14.8,14.9,15.0],\"y\":[0.0,0.1,0.2,0.30000000000000004,0.4,0.5,0.6000000000000001,0.7000000000000001,0.8,0.9,1.0,1.1,1.2000000000000002,1.3,1.4000000000000001,1.5,1.6,1.7000000000000002,1.8,1.9000000000000001,2.0,2.1,2.2,2.3000000000000003,2.4000000000000004,2.5,2.6,2.7,2.8000000000000003,2.9000000000000004,3.0,3.1,3.2,3.3000000000000003,3.4000000000000004,3.5,3.6,3.7,3.8000000000000003,3.9000000000000004,4.0,4.1000000000000005,4.2,4.3,4.4,4.5,4.6000000000000005,4.7,4.800000000000001,4.9,5.0,5.1000000000000005,5.2,5.300000000000001,5.4,5.5,5.6000000000000005,5.7,5.800000000000001,5.9,6.0,6.1000000000000005,6.2,6.300000000000001,6.4,6.5,6.6000000000000005,6.7,6.800000000000001,6.9,7.0,7.1000000000000005,7.2,7.300000000000001,7.4,7.5,7.6000000000000005,7.7,7.800000000000001,7.9,8.0,8.1,8.200000000000001,8.3,8.4,8.5,8.6,8.700000000000001,8.8,8.9,9.0,9.1,9.200000000000001,9.3,9.4,9.5,9.600000000000001,9.700000000000001,9.8,9.9,10.0,10.100000000000001,10.200000000000001,10.3,10.4,10.5,10.600000000000001,10.700000000000001,10.8,10.9,11.0,11.100000000000001,11.200000000000001,11.3,11.4,11.5,11.600000000000001,11.700000000000001,11.8,11.9,12.0,12.100000000000001,12.200000000000001,12.3,12.4,12.5,12.600000000000001,12.700000000000001,12.8,12.9,13.0,13.100000000000001,13.200000000000001,13.3,13.4,13.5,13.600000000000001,13.700000000000001,13.8,13.9,14.0,14.100000000000001,14.200000000000001,14.3,14.4,14.5,14.600000000000001,14.700000000000001,14.8,14.9,15.0],\"marker\":{},\"line\":{},\"name\":\"Zunahme\"},{\"type\":\"scatter\",\"mode\":\"lines\",\"x\":[0.0,0.1,0.2,0.30000000000000004,0.4,0.5,0.6000000000000001,0.7000000000000001,0.8,0.9,1.0,1.1,1.2000000000000002,1.3,1.4000000000000001,1.5,1.6,1.7000000000000002,1.8,1.9000000000000001,2.0,2.1,2.2,2.3000000000000003,2.4000000000000004,2.5,2.6,2.7,2.8000000000000003,2.9000000000000004,3.0,3.1,3.2,3.3000000000000003,3.4000000000000004,3.5,3.6,3.7,3.8000000000000003,3.9000000000000004,4.0,4.1000000000000005,4.2,4.3,4.4,4.5,4.6000000000000005,4.7,4.800000000000001,4.9,5.0,5.1000000000000005,5.2,5.300000000000001,5.4,5.5,5.6000000000000005,5.7,5.800000000000001,5.9,6.0,6.1000000000000005,6.2,6.300000000000001,6.4,6.5,6.6000000000000005,6.7,6.800000000000001,6.9,7.0,7.1000000000000005,7.2,7.300000000000001,7.4,7.5,7.6000000000000005,7.7,7.800000000000001,7.9,8.0,8.1,8.200000000000001,8.3,8.4,8.5,8.6,8.700000000000001,8.8,8.9,9.0,9.1,9.200000000000001,9.3,9.4,9.5,9.600000000000001,9.700000000000001,9.8,9.9,10.0,10.100000000000001,10.200000000000001,10.3,10.4,10.5,10.600000000000001,10.700000000000001,10.8,10.9,11.0,11.100000000000001,11.200000000000001,11.3,11.4,11.5,11.600000000000001,11.700000000000001,11.8,11.9,12.0,12.100000000000001,12.200000000000001,12.3,12.4,12.5,12.600000000000001,12.700000000000001,12.8,12.9,13.0,13.100000000000001,13.200000000000001,13.3,13.4,13.5,13.600000000000001,13.700000000000001,13.8,13.9,14.0,14.100000000000001,14.200000000000001,14.3,14.4,14.5,14.600000000000001,14.700000000000001,14.8,14.9,15.0],\"y\":[0.5,0.5039984006397441,0.5159744408945687,0.5358708648864089,0.5635930047694754,0.599009900990099,0.6419558359621451,0.6922322479403689,0.749609984399376,0.8138318481208835,0.8846153846153846,0.9616558565433041,1.0446293494704992,1.133195953540652,1.2270029673590506,1.3256880733944953,1.4288824383164007,1.5362136966654716,1.6473087818696885,1.7617965746242574,1.8793103448275863,1.999489969398164,2.1219839142091157,2.246450973918785,2.3725617685305593,2.5,2.628463476070529,2.7576649117373804,2.8873325213154692,3.0172104160431013,3.1470588235294117,3.2766541462005203,3.4057888762769584,3.534271384786849,3.6619256017505473,3.7885906040268456,3.914120126448894,4.038382010855519,4.161257606490873,4.282641134046258,4.402439024390244,4.520569241808181,4.636960600375234,4.751552080938147,4.86429215509468,4.975138121546961,5.084055459272097,5.191017201104269,5.296003330557869,5.399000204039992,5.5,5.599000196039992,5.696003074558032,5.791015257110568,5.8840472673559825,5.975113122171946,6.064229950319376,6.151417637850061,6.236698499317873,6.320096973750209,6.401639344262295,6.481353480147887,6.5592686002522065,6.63541505642294,6.709824135839903,6.782527881040892,6.853558926487749,6.922950350550865,6.990735541830433,7.056948078777028,7.121621621621622,7.184789815674314,7.246486205101511,7.306744156341805,7.3655967903711135,7.423076923076923,7.479217013049782,7.534049116146637,7.5876048462255365,7.639915341494109,7.691011235955056,7.740922635470699,7.789679098005204,7.837309617637661,7.883842611971536,7.929305912596401,7.973726758286176,8.017131790644552,8.059547051932839,8.100997984838308,8.141509433962264,8.18110564882664,8.219810288215978,8.257646425688403,8.294636556104447,8.330802603036876,8.366165926937523,8.400747333949115,8.434567085261072,8.467644906918137,8.5,8.53165105109834,8.562616243025419,8.592913265695323,8.622559327125263,8.651571164510166,8.679965055329065,8.707756828446485,8.734961875176504,8.761595160280926,8.787671232876713,8.813204237230957,8.838207923424621,8.862695657868885,8.8866804336603,8.910174880763115,8.933191276009026,8.955741552906295,8.977837311251827,8.999489826541025,9.020710059171599,9.04150866343854,9.061895996318453,9.081882126042316,9.101476840456478,9.120689655172415,9.139529821506311,9.158006334210102,9.176127938995975,9.193903139856852,9.211340206185566,9.228447179695845,9.245231881148364,9.261701916885432,9.277864685177942,9.29372738238842,9.309297008954086,9.324580375193944,9.33958410694393,9.354314651024243,9.368778280542987,9.382981100040213,9.396929050476528,9.41062791407033,9.424083318987778,9.437300743889478,9.450285522337923,9.463042847069561,9.475577774135386,9.48789522691389,9.5],\"marker\":{},\"line\":{},\"name\":\"Verringerung\"}];\r\n",
       "            var layout = {\"width\":600,\"height\":600,\"template\":{\"layout\":{\"title\":{\"x\":0.05},\"font\":{\"color\":\"rgba(42, 63, 95, 1.0)\"},\"paper_bgcolor\":\"rgba(255, 255, 255, 1.0)\",\"plot_bgcolor\":\"rgba(229, 236, 246, 1.0)\",\"autotypenumbers\":\"strict\",\"colorscale\":{\"diverging\":[[0.0,\"#8e0152\"],[0.1,\"#c51b7d\"],[0.2,\"#de77ae\"],[0.3,\"#f1b6da\"],[0.4,\"#fde0ef\"],[0.5,\"#f7f7f7\"],[0.6,\"#e6f5d0\"],[0.7,\"#b8e186\"],[0.8,\"#7fbc41\"],[0.9,\"#4d9221\"],[1.0,\"#276419\"]],\"sequential\":[[0.0,\"#0d0887\"],[0.1111111111111111,\"#46039f\"],[0.2222222222222222,\"#7201a8\"],[0.3333333333333333,\"#9c179e\"],[0.4444444444444444,\"#bd3786\"],[0.5555555555555556,\"#d8576b\"],[0.6666666666666666,\"#ed7953\"],[0.7777777777777778,\"#fb9f3a\"],[0.8888888888888888,\"#fdca26\"],[1.0,\"#f0f921\"]],\"sequentialminus\":[[0.0,\"#0d0887\"],[0.1111111111111111,\"#46039f\"],[0.2222222222222222,\"#7201a8\"],[0.3333333333333333,\"#9c179e\"],[0.4444444444444444,\"#bd3786\"],[0.5555555555555556,\"#d8576b\"],[0.6666666666666666,\"#ed7953\"],[0.7777777777777778,\"#fb9f3a\"],[0.8888888888888888,\"#fdca26\"],[1.0,\"#f0f921\"]]},\"hovermode\":\"closest\",\"hoverlabel\":{\"align\":\"left\"},\"coloraxis\":{\"colorbar\":{\"outlinewidth\":0.0,\"ticks\":\"\"}},\"geo\":{\"showland\":true,\"landcolor\":\"rgba(229, 236, 246, 1.0)\",\"showlakes\":true,\"lakecolor\":\"rgba(255, 255, 255, 1.0)\",\"subunitcolor\":\"rgba(255, 255, 255, 1.0)\",\"bgcolor\":\"rgba(255, 255, 255, 1.0)\"},\"mapbox\":{\"style\":\"light\"},\"polar\":{\"bgcolor\":\"rgba(229, 236, 246, 1.0)\",\"radialaxis\":{\"linecolor\":\"rgba(255, 255, 255, 1.0)\",\"gridcolor\":\"rgba(255, 255, 255, 1.0)\",\"ticks\":\"\"},\"angularaxis\":{\"linecolor\":\"rgba(255, 255, 255, 1.0)\",\"gridcolor\":\"rgba(255, 255, 255, 1.0)\",\"ticks\":\"\"}},\"scene\":{\"xaxis\":{\"ticks\":\"\",\"linecolor\":\"rgba(255, 255, 255, 1.0)\",\"gridcolor\":\"rgba(255, 255, 255, 1.0)\",\"gridwidth\":2.0,\"zerolinecolor\":\"rgba(255, 255, 255, 1.0)\",\"backgroundcolor\":\"rgba(229, 236, 246, 1.0)\",\"showbackground\":true},\"yaxis\":{\"ticks\":\"\",\"linecolor\":\"rgba(255, 255, 255, 1.0)\",\"gridcolor\":\"rgba(255, 255, 255, 1.0)\",\"gridwidth\":2.0,\"zerolinecolor\":\"rgba(255, 255, 255, 1.0)\",\"backgroundcolor\":\"rgba(229, 236, 246, 1.0)\",\"showbackground\":true},\"zaxis\":{\"ticks\":\"\",\"linecolor\":\"rgba(255, 255, 255, 1.0)\",\"gridcolor\":\"rgba(255, 255, 255, 1.0)\",\"gridwidth\":2.0,\"zerolinecolor\":\"rgba(255, 255, 255, 1.0)\",\"backgroundcolor\":\"rgba(229, 236, 246, 1.0)\",\"showbackground\":true}},\"ternary\":{\"aaxis\":{\"ticks\":\"\",\"linecolor\":\"rgba(255, 255, 255, 1.0)\",\"gridcolor\":\"rgba(255, 255, 255, 1.0)\"},\"baxis\":{\"ticks\":\"\",\"linecolor\":\"rgba(255, 255, 255, 1.0)\",\"gridcolor\":\"rgba(255, 255, 255, 1.0)\"},\"caxis\":{\"ticks\":\"\",\"linecolor\":\"rgba(255, 255, 255, 1.0)\",\"gridcolor\":\"rgba(255, 255, 255, 1.0)\"},\"bgcolor\":\"rgba(229, 236, 246, 1.0)\"},\"xaxis\":{\"title\":{\"standoff\":15},\"ticks\":\"\",\"automargin\":true,\"linecolor\":\"rgba(255, 255, 255, 1.0)\",\"gridcolor\":\"rgba(255, 255, 255, 1.0)\",\"zerolinecolor\":\"rgba(255, 255, 255, 1.0)\",\"zerolinewidth\":2.0},\"yaxis\":{\"title\":{\"standoff\":15},\"ticks\":\"\",\"automargin\":true,\"linecolor\":\"rgba(255, 255, 255, 1.0)\",\"gridcolor\":\"rgba(255, 255, 255, 1.0)\",\"zerolinecolor\":\"rgba(255, 255, 255, 1.0)\",\"zerolinewidth\":2.0},\"annotationdefaults\":{\"arrowcolor\":\"#2a3f5f\",\"arrowhead\":0,\"arrowwidth\":1},\"shapedefaults\":{\"line\":{\"color\":\"rgba(42, 63, 95, 1.0)\"}},\"colorway\":[\"rgba(99, 110, 250, 1.0)\",\"rgba(239, 85, 59, 1.0)\",\"rgba(0, 204, 150, 1.0)\",\"rgba(171, 99, 250, 1.0)\",\"rgba(255, 161, 90, 1.0)\",\"rgba(25, 211, 243, 1.0)\",\"rgba(255, 102, 146, 1.0)\",\"rgba(182, 232, 128, 1.0)\",\"rgba(255, 151, 255, 1.0)\",\"rgba(254, 203, 82, 1.0)\"]},\"data\":{\"bar\":[{\"marker\":{\"line\":{\"color\":\"rgba(229, 236, 246, 1.0)\",\"width\":0.5},\"pattern\":{\"fillmode\":\"overlay\",\"size\":10,\"solidity\":0.2}},\"error_x\":{\"color\":\"rgba(42, 63, 95, 1.0)\"},\"error_y\":{\"color\":\"rgba(42, 63, 95, 1.0)\"}}],\"barpolar\":[{\"marker\":{\"line\":{\"color\":\"rgba(229, 236, 246, 1.0)\",\"width\":0.5},\"pattern\":{\"fillmode\":\"overlay\",\"size\":10,\"solidity\":0.2}}}],\"carpet\":[{\"aaxis\":{\"linecolor\":\"rgba(255, 255, 255, 1.0)\",\"gridcolor\":\"rgba(255, 255, 255, 1.0)\",\"endlinecolor\":\"rgba(42, 63, 95, 1.0)\",\"minorgridcolor\":\"rgba(255, 255, 255, 1.0)\",\"startlinecolor\":\"rgba(42, 63, 95, 1.0)\"},\"baxis\":{\"linecolor\":\"rgba(255, 255, 255, 1.0)\",\"gridcolor\":\"rgba(255, 255, 255, 1.0)\",\"endlinecolor\":\"rgba(42, 63, 95, 1.0)\",\"minorgridcolor\":\"rgba(255, 255, 255, 1.0)\",\"startlinecolor\":\"rgba(42, 63, 95, 1.0)\"}}],\"choropleth\":[{\"colorbar\":{\"outlinewidth\":0.0,\"ticks\":\"\"},\"colorscale\":[[0.0,\"#0d0887\"],[0.1111111111111111,\"#46039f\"],[0.2222222222222222,\"#7201a8\"],[0.3333333333333333,\"#9c179e\"],[0.4444444444444444,\"#bd3786\"],[0.5555555555555556,\"#d8576b\"],[0.6666666666666666,\"#ed7953\"],[0.7777777777777778,\"#fb9f3a\"],[0.8888888888888888,\"#fdca26\"],[1.0,\"#f0f921\"]]}],\"contour\":[{\"colorbar\":{\"outlinewidth\":0.0,\"ticks\":\"\"},\"colorscale\":[[0.0,\"#0d0887\"],[0.1111111111111111,\"#46039f\"],[0.2222222222222222,\"#7201a8\"],[0.3333333333333333,\"#9c179e\"],[0.4444444444444444,\"#bd3786\"],[0.5555555555555556,\"#d8576b\"],[0.6666666666666666,\"#ed7953\"],[0.7777777777777778,\"#fb9f3a\"],[0.8888888888888888,\"#fdca26\"],[1.0,\"#f0f921\"]]}],\"contourcarpet\":[{\"colorbar\":{\"outlinewidth\":0.0,\"ticks\":\"\"}}],\"heatmap\":[{\"colorbar\":{\"outlinewidth\":0.0,\"ticks\":\"\"},\"colorscale\":[[0.0,\"#0d0887\"],[0.1111111111111111,\"#46039f\"],[0.2222222222222222,\"#7201a8\"],[0.3333333333333333,\"#9c179e\"],[0.4444444444444444,\"#bd3786\"],[0.5555555555555556,\"#d8576b\"],[0.6666666666666666,\"#ed7953\"],[0.7777777777777778,\"#fb9f3a\"],[0.8888888888888888,\"#fdca26\"],[1.0,\"#f0f921\"]]}],\"heatmapgl\":[{\"colorbar\":{\"outlinewidth\":0.0,\"ticks\":\"\"},\"colorscale\":[[0.0,\"#0d0887\"],[0.1111111111111111,\"#46039f\"],[0.2222222222222222,\"#7201a8\"],[0.3333333333333333,\"#9c179e\"],[0.4444444444444444,\"#bd3786\"],[0.5555555555555556,\"#d8576b\"],[0.6666666666666666,\"#ed7953\"],[0.7777777777777778,\"#fb9f3a\"],[0.8888888888888888,\"#fdca26\"],[1.0,\"#f0f921\"]]}],\"histogram\":[{\"marker\":{\"pattern\":{\"fillmode\":\"overlay\",\"size\":10,\"solidity\":0.2}}}],\"histogram2d\":[{\"colorbar\":{\"outlinewidth\":0.0,\"ticks\":\"\"},\"colorscale\":[[0.0,\"#0d0887\"],[0.1111111111111111,\"#46039f\"],[0.2222222222222222,\"#7201a8\"],[0.3333333333333333,\"#9c179e\"],[0.4444444444444444,\"#bd3786\"],[0.5555555555555556,\"#d8576b\"],[0.6666666666666666,\"#ed7953\"],[0.7777777777777778,\"#fb9f3a\"],[0.8888888888888888,\"#fdca26\"],[1.0,\"#f0f921\"]]}],\"histogram2dcontour\":[{\"colorbar\":{\"outlinewidth\":0.0,\"ticks\":\"\"},\"colorscale\":[[0.0,\"#0d0887\"],[0.1111111111111111,\"#46039f\"],[0.2222222222222222,\"#7201a8\"],[0.3333333333333333,\"#9c179e\"],[0.4444444444444444,\"#bd3786\"],[0.5555555555555556,\"#d8576b\"],[0.6666666666666666,\"#ed7953\"],[0.7777777777777778,\"#fb9f3a\"],[0.8888888888888888,\"#fdca26\"],[1.0,\"#f0f921\"]]}],\"mesh3d\":[{\"colorbar\":{\"outlinewidth\":0.0,\"ticks\":\"\"}}],\"parcoords\":[{\"line\":{\"colorbar\":{\"outlinewidth\":0.0,\"ticks\":\"\"}}}],\"pie\":[{\"automargin\":true}],\"scatter\":[{\"marker\":{\"colorbar\":{\"outlinewidth\":0.0,\"ticks\":\"\"}}}],\"scatter3d\":[{\"marker\":{\"colorbar\":{\"outlinewidth\":0.0,\"ticks\":\"\"}},\"line\":{\"colorbar\":{\"outlinewidth\":0.0,\"ticks\":\"\"}}}],\"scattercarpet\":[{\"marker\":{\"colorbar\":{\"outlinewidth\":0.0,\"ticks\":\"\"}}}],\"scattergeo\":[{\"marker\":{\"colorbar\":{\"outlinewidth\":0.0,\"ticks\":\"\"}}}],\"scattergl\":[{\"marker\":{\"colorbar\":{\"outlinewidth\":0.0,\"ticks\":\"\"}}}],\"scattermapbox\":[{\"marker\":{\"colorbar\":{\"outlinewidth\":0.0,\"ticks\":\"\"}}}],\"scatterpolar\":[{\"marker\":{\"colorbar\":{\"outlinewidth\":0.0,\"ticks\":\"\"}}}],\"scatterpolargl\":[{\"marker\":{\"colorbar\":{\"outlinewidth\":0.0,\"ticks\":\"\"}}}],\"scatterternary\":[{\"marker\":{\"colorbar\":{\"outlinewidth\":0.0,\"ticks\":\"\"}}}],\"surface\":[{\"colorbar\":{\"outlinewidth\":0.0,\"ticks\":\"\"},\"colorscale\":[[0.0,\"#0d0887\"],[0.1111111111111111,\"#46039f\"],[0.2222222222222222,\"#7201a8\"],[0.3333333333333333,\"#9c179e\"],[0.4444444444444444,\"#bd3786\"],[0.5555555555555556,\"#d8576b\"],[0.6666666666666666,\"#ed7953\"],[0.7777777777777778,\"#fb9f3a\"],[0.8888888888888888,\"#fdca26\"],[1.0,\"#f0f921\"]]}],\"table\":[{\"cells\":{\"fill\":{\"color\":\"rgba(235, 240, 248, 1.0)\"},\"line\":{\"color\":\"rgba(255, 255, 255, 1.0)\"}},\"header\":{\"fill\":{\"color\":\"rgba(200, 212, 227, 1.0)\"},\"line\":{\"color\":\"rgba(255, 255, 255, 1.0)\"}}}]}},\"xaxis\":{\"title\":{\"text\":\"Lactosekonzentration\"}},\"yaxis\":{\"title\":{\"text\":\"Veränderung der Lactosekonzentration\"}}};\r\n",
       "            var config = {\"responsive\":true};\r\n",
       "            Plotly.newPlot('86b51fca-1a93-49f5-8db4-832a675fde4b', data, layout, config);\r\n",
       "});\r\n",
       "            };\r\n",
       "            if ((typeof(requirejs) !==  typeof(Function)) || (typeof(requirejs.config) !== typeof(Function))) {\r\n",
       "                var script = document.createElement(\"script\");\r\n",
       "                script.setAttribute(\"src\", \"https://cdnjs.cloudflare.com/ajax/libs/require.js/2.3.6/require.min.js\");\r\n",
       "                script.onload = function(){\r\n",
       "                    renderPlotly_86b51fca1a9349f58db4832a675fde4b();\r\n",
       "                };\r\n",
       "                document.getElementsByTagName(\"head\")[0].appendChild(script);\r\n",
       "            }\r\n",
       "            else {\r\n",
       "                renderPlotly_86b51fca1a9349f58db4832a675fde4b();\r\n",
       "            }\r\n",
       "</script>\r\n",
       "\n",
       "    \n",
       "</div>    \n"
      ]
     },
     "metadata": {},
     "output_type": "display_data"
    }
   ],
   "source": [
    "//Konstanten\n",
    "let alpha =  0.5  // Konstante für die Zunahme der Lactosekonzentration (unreguliert)\n",
    "let beta  =  10.0 // Konstante für die Zunahme der Lactosekonzentration (reguliert)\n",
    "let gamma =  1.0  // Konstante für die Verringerung der Lactosekonzentration\n",
    "let K_d =    5.0  // Dissoziationskonstante\n",
    "\n",
    "let function1 inlac = gamma * inlac\n",
    "let function2 inlac = alpha + beta * (inlac**2.)/((inlac**2.) + (K_d**2.))\n",
    "\n",
    "//Graphische Darstellung der Gleichungen\n",
    "[\n",
    "    // Fügen Sie die Gleichung für den Proteinabbau ein\n",
    "\n",
    "    Chart.Line [ for inlac in 0.0 .. 0.1 .. 15.0 do\n",
    "    (inlac, (function1 inlac)) ]\n",
    "    |> Chart.withTraceInfo(\"Zunahme\");\n",
    "    //Fügen Sie die Gleichung für die Proteinproduktion ein\n",
    "    Chart.Line [ for inlac in 0.0 .. 0.1 .. 15.0 do \n",
    "    (inlac, function2 inlac) ]\n",
    "    |> Chart.withTraceInfo(\"Verringerung\");\n",
    "]\n",
    "\n",
    "|> Chart.combine\n",
    "|> Chart.withXAxisStyle(\"Lactosekonzentration\")\n",
    "|> Chart.withYAxisStyle(\"Veränderung der Lactosekonzentration\")"
   ]
  },
  {
   "cell_type": "markdown",
   "metadata": {},
   "source": [
    "Der gezeigte Graph stellt auf der Y-Achse die Änderung der Lactosekonzentration dar, also Import' und Abbau'. Die X-Achse repräsentiert die Lactosekonzentration. Diese graphische Darstellung macht es sehr einfach die Punktattraktionen zu bestimmen. Diese sind die Schnittpunkte der beiden Kurven, da bei diesen der Import und der Verbrauch den gleichen Wert besitzen. In diesem Fall befinden sich die Schnittpunkte der beiden Kurven bei 1, 2.5 und 7.3 .<br>\n",
    "Diese Art von Graph ermöglicht es auch zu bestimmen ob es sich um stabile oder instabile Punktattraktionen handelt. Dafür muss man sich nur überlegen, wohin die Lactosekonzentration wandert. <br>\n",
    "Einige Beispiele folgen: <br>\n",
    "$$Lactosekonzentration (0) = 1$$ \n",
    "Dieser Wert liegt bereits auf einer Punktattraktion und daher wird die Lactosekonzentration sich nicht ändern.\n",
    "$$Lactosekonzentration (0) = 2$$ \n",
    "Bei dieser Lactosekonzentration ist der Wert von der Kurve für die Verringerung höher als der für den Import. Das heißt es wird mehr Lactose verbraucht als importiert, somit sinkt die Lactosekonzentration und die $Lactosekonzentration(t)$ wandert zu der Punktattraktion 1.\n",
    "$$Lactosekonzentration (0) = 2.5$$\n",
    "Dieser Wert liegt bereits auf einer Punktattraktion und daher wird die Lactosekonzentration sich nicht ändern. \n",
    "$$Lactosekonzentration (0) = 3$$\n",
    "Bei dieser Lactosekonzentration ist der Wert von der Kurve für den Import höher als der für den Verbrauch. Das heißt es wird mehr Lactose importiert als verbraucht, somit steigt die Lactosekonzentration und die $Lactosekonzentration(t)$ wandert zu der Punktattraktion 7,3.\n",
    "$$Lactosekonzentration (0) = 10$$\n",
    "Bei dieser Lactosekonzentration ist der Wert von der Kurve für den Verbrauch höher als der für den Import. Das heißt es  wird mehr Lactose verbraucht als importiert, somit sinkt die Lactosekonzentration und die $Lactosekonzentration(t)$ wandert zu der Punktattraktion 7.3.\n",
    "\n",
    "Das heißt die Punktattraktion 1 ist stabil, da höhere Werte sich zu diesem Wert hinbewegen (bis die nächste Punktattraktion erreicht wird).\n",
    "Die Punktattraktion 2.5 ist instabil, da höhere Werte zur nächsten Punktattraktion, 7.3, wandern und niedrigere zur vorherigen Punktattraktion, 0. Nur wenn die $Lactosekonzentration(0) = 2.5$ ist kommt es zu diesem Punkt.\n",
    "\n",
    "##### Aufgabe 4.8\n",
    "***Kopieren Sie den obenstehenden Code Block und fügen Sie diesen in den folgenden Code Block ein.***\n"
   ]
  },
  {
   "cell_type": "code",
   "execution_count": null,
   "metadata": {
    "dotnet_interactive": {
     "language": "fsharp"
    },
    "vscode": {
     "languageId": "dotnet-interactive.fsharp"
    }
   },
   "outputs": [],
   "source": [
    "//Code block einfügen"
   ]
  },
  {
   "cell_type": "markdown",
   "metadata": {},
   "source": [
    "Varrieren Sie die Werte für die Abbaukonsante $\\gamma$. Bestimmen Sie die Punktattraktionen und ob diese stabil oder instabil sind. Notieren Sie die Werte im nachfolgennden Block. Varrieren Sie $\\gamma$ von 0.7 bis 1.5 in 0.1 schritten (also 0.7,0.8.0.9,...)."
   ]
  },
  {
   "cell_type": "markdown",
   "metadata": {},
   "source": [
    "Notieren Sie hier die Werte\n"
   ]
  },
  {
   "cell_type": "markdown",
   "metadata": {},
   "source": [
    "##### Aufgabe 4.9\n",
    "***Setzen Sie jetzt die Werte in den nachfolgenden Code Block ein und führen Sie diesen anschliesend aus.\n",
    "Beachten Sie dabei das folgende: <br>\n",
    "x Werte sind die Werte die Sie für die Abbaukonstante $\\gamma$ haben, y Werte sind die von ihnen notierten Punktattraktionen. \n",
    "Beachten Sie außerdem das Sie die Werte sinnvoll anordnen müßen um anschliesend ein aussagekräftiges Diagramm zu erhalten (Tipp: Der Kurvenverlauf folget der Ordnung in der Sie Werte eingeben haben).***"
   ]
  },
  {
   "cell_type": "code",
   "execution_count": null,
   "metadata": {
    "dotnet_interactive": {
     "language": "fsharp"
    },
    "vscode": {
     "languageId": "dotnet-interactive.fsharp"
    }
   },
   "outputs": [
    {
     "data": {
      "text/html": [
       "\n",
       "<div>\n",
       "    <div id=\"786048dc-cc5b-41b8-b468-6e8a6c672bf9\"><!-- Plotly chart will be drawn inside this DIV --></div>\r\n",
       "<script type=\"text/javascript\">\r\n",
       "\r\n",
       "            var renderPlotly_786048dccc5b41b8b4686e8a6c672bf9 = function() {\r\n",
       "            var fsharpPlotlyRequire = requirejs.config({context:'fsharp-plotly',paths:{plotly:'https://cdn.plot.ly/plotly-2.6.3.min'}}) || require;\r\n",
       "            fsharpPlotlyRequire(['plotly'], function(Plotly) {\r\n",
       "\r\n",
       "            var data = [{\"type\":\"scatter\",\"mode\":\"lines\",\"x\":[0.7,0.8,0.9,1.0,1.1,0.9,1.0,1.1,0.9,1.0,1.1,1.2],\"y\":[7.0,7.0,7.0,7.0,7.0,2.5,2.5,2.5,1.0,1.0,1.0,1.0],\"marker\":{},\"line\":{\"shape\":\"spline\"}}];\r\n",
       "            var layout = {\"width\":600,\"height\":600,\"template\":{\"layout\":{\"title\":{\"x\":0.05},\"font\":{\"color\":\"rgba(42, 63, 95, 1.0)\"},\"paper_bgcolor\":\"rgba(255, 255, 255, 1.0)\",\"plot_bgcolor\":\"rgba(229, 236, 246, 1.0)\",\"autotypenumbers\":\"strict\",\"colorscale\":{\"diverging\":[[0.0,\"#8e0152\"],[0.1,\"#c51b7d\"],[0.2,\"#de77ae\"],[0.3,\"#f1b6da\"],[0.4,\"#fde0ef\"],[0.5,\"#f7f7f7\"],[0.6,\"#e6f5d0\"],[0.7,\"#b8e186\"],[0.8,\"#7fbc41\"],[0.9,\"#4d9221\"],[1.0,\"#276419\"]],\"sequential\":[[0.0,\"#0d0887\"],[0.1111111111111111,\"#46039f\"],[0.2222222222222222,\"#7201a8\"],[0.3333333333333333,\"#9c179e\"],[0.4444444444444444,\"#bd3786\"],[0.5555555555555556,\"#d8576b\"],[0.6666666666666666,\"#ed7953\"],[0.7777777777777778,\"#fb9f3a\"],[0.8888888888888888,\"#fdca26\"],[1.0,\"#f0f921\"]],\"sequentialminus\":[[0.0,\"#0d0887\"],[0.1111111111111111,\"#46039f\"],[0.2222222222222222,\"#7201a8\"],[0.3333333333333333,\"#9c179e\"],[0.4444444444444444,\"#bd3786\"],[0.5555555555555556,\"#d8576b\"],[0.6666666666666666,\"#ed7953\"],[0.7777777777777778,\"#fb9f3a\"],[0.8888888888888888,\"#fdca26\"],[1.0,\"#f0f921\"]]},\"hovermode\":\"closest\",\"hoverlabel\":{\"align\":\"left\"},\"coloraxis\":{\"colorbar\":{\"outlinewidth\":0.0,\"ticks\":\"\"}},\"geo\":{\"showland\":true,\"landcolor\":\"rgba(229, 236, 246, 1.0)\",\"showlakes\":true,\"lakecolor\":\"rgba(255, 255, 255, 1.0)\",\"subunitcolor\":\"rgba(255, 255, 255, 1.0)\",\"bgcolor\":\"rgba(255, 255, 255, 1.0)\"},\"mapbox\":{\"style\":\"light\"},\"polar\":{\"bgcolor\":\"rgba(229, 236, 246, 1.0)\",\"radialaxis\":{\"linecolor\":\"rgba(255, 255, 255, 1.0)\",\"gridcolor\":\"rgba(255, 255, 255, 1.0)\",\"ticks\":\"\"},\"angularaxis\":{\"linecolor\":\"rgba(255, 255, 255, 1.0)\",\"gridcolor\":\"rgba(255, 255, 255, 1.0)\",\"ticks\":\"\"}},\"scene\":{\"xaxis\":{\"ticks\":\"\",\"linecolor\":\"rgba(255, 255, 255, 1.0)\",\"gridcolor\":\"rgba(255, 255, 255, 1.0)\",\"gridwidth\":2.0,\"zerolinecolor\":\"rgba(255, 255, 255, 1.0)\",\"backgroundcolor\":\"rgba(229, 236, 246, 1.0)\",\"showbackground\":true},\"yaxis\":{\"ticks\":\"\",\"linecolor\":\"rgba(255, 255, 255, 1.0)\",\"gridcolor\":\"rgba(255, 255, 255, 1.0)\",\"gridwidth\":2.0,\"zerolinecolor\":\"rgba(255, 255, 255, 1.0)\",\"backgroundcolor\":\"rgba(229, 236, 246, 1.0)\",\"showbackground\":true},\"zaxis\":{\"ticks\":\"\",\"linecolor\":\"rgba(255, 255, 255, 1.0)\",\"gridcolor\":\"rgba(255, 255, 255, 1.0)\",\"gridwidth\":2.0,\"zerolinecolor\":\"rgba(255, 255, 255, 1.0)\",\"backgroundcolor\":\"rgba(229, 236, 246, 1.0)\",\"showbackground\":true}},\"ternary\":{\"aaxis\":{\"ticks\":\"\",\"linecolor\":\"rgba(255, 255, 255, 1.0)\",\"gridcolor\":\"rgba(255, 255, 255, 1.0)\"},\"baxis\":{\"ticks\":\"\",\"linecolor\":\"rgba(255, 255, 255, 1.0)\",\"gridcolor\":\"rgba(255, 255, 255, 1.0)\"},\"caxis\":{\"ticks\":\"\",\"linecolor\":\"rgba(255, 255, 255, 1.0)\",\"gridcolor\":\"rgba(255, 255, 255, 1.0)\"},\"bgcolor\":\"rgba(229, 236, 246, 1.0)\"},\"xaxis\":{\"title\":{\"standoff\":15},\"ticks\":\"\",\"automargin\":true,\"linecolor\":\"rgba(255, 255, 255, 1.0)\",\"gridcolor\":\"rgba(255, 255, 255, 1.0)\",\"zerolinecolor\":\"rgba(255, 255, 255, 1.0)\",\"zerolinewidth\":2.0},\"yaxis\":{\"title\":{\"standoff\":15},\"ticks\":\"\",\"automargin\":true,\"linecolor\":\"rgba(255, 255, 255, 1.0)\",\"gridcolor\":\"rgba(255, 255, 255, 1.0)\",\"zerolinecolor\":\"rgba(255, 255, 255, 1.0)\",\"zerolinewidth\":2.0},\"annotationdefaults\":{\"arrowcolor\":\"#2a3f5f\",\"arrowhead\":0,\"arrowwidth\":1},\"shapedefaults\":{\"line\":{\"color\":\"rgba(42, 63, 95, 1.0)\"}},\"colorway\":[\"rgba(99, 110, 250, 1.0)\",\"rgba(239, 85, 59, 1.0)\",\"rgba(0, 204, 150, 1.0)\",\"rgba(171, 99, 250, 1.0)\",\"rgba(255, 161, 90, 1.0)\",\"rgba(25, 211, 243, 1.0)\",\"rgba(255, 102, 146, 1.0)\",\"rgba(182, 232, 128, 1.0)\",\"rgba(255, 151, 255, 1.0)\",\"rgba(254, 203, 82, 1.0)\"]},\"data\":{\"bar\":[{\"marker\":{\"line\":{\"color\":\"rgba(229, 236, 246, 1.0)\",\"width\":0.5},\"pattern\":{\"fillmode\":\"overlay\",\"size\":10,\"solidity\":0.2}},\"error_x\":{\"color\":\"rgba(42, 63, 95, 1.0)\"},\"error_y\":{\"color\":\"rgba(42, 63, 95, 1.0)\"}}],\"barpolar\":[{\"marker\":{\"line\":{\"color\":\"rgba(229, 236, 246, 1.0)\",\"width\":0.5},\"pattern\":{\"fillmode\":\"overlay\",\"size\":10,\"solidity\":0.2}}}],\"carpet\":[{\"aaxis\":{\"linecolor\":\"rgba(255, 255, 255, 1.0)\",\"gridcolor\":\"rgba(255, 255, 255, 1.0)\",\"endlinecolor\":\"rgba(42, 63, 95, 1.0)\",\"minorgridcolor\":\"rgba(255, 255, 255, 1.0)\",\"startlinecolor\":\"rgba(42, 63, 95, 1.0)\"},\"baxis\":{\"linecolor\":\"rgba(255, 255, 255, 1.0)\",\"gridcolor\":\"rgba(255, 255, 255, 1.0)\",\"endlinecolor\":\"rgba(42, 63, 95, 1.0)\",\"minorgridcolor\":\"rgba(255, 255, 255, 1.0)\",\"startlinecolor\":\"rgba(42, 63, 95, 1.0)\"}}],\"choropleth\":[{\"colorbar\":{\"outlinewidth\":0.0,\"ticks\":\"\"},\"colorscale\":[[0.0,\"#0d0887\"],[0.1111111111111111,\"#46039f\"],[0.2222222222222222,\"#7201a8\"],[0.3333333333333333,\"#9c179e\"],[0.4444444444444444,\"#bd3786\"],[0.5555555555555556,\"#d8576b\"],[0.6666666666666666,\"#ed7953\"],[0.7777777777777778,\"#fb9f3a\"],[0.8888888888888888,\"#fdca26\"],[1.0,\"#f0f921\"]]}],\"contour\":[{\"colorbar\":{\"outlinewidth\":0.0,\"ticks\":\"\"},\"colorscale\":[[0.0,\"#0d0887\"],[0.1111111111111111,\"#46039f\"],[0.2222222222222222,\"#7201a8\"],[0.3333333333333333,\"#9c179e\"],[0.4444444444444444,\"#bd3786\"],[0.5555555555555556,\"#d8576b\"],[0.6666666666666666,\"#ed7953\"],[0.7777777777777778,\"#fb9f3a\"],[0.8888888888888888,\"#fdca26\"],[1.0,\"#f0f921\"]]}],\"contourcarpet\":[{\"colorbar\":{\"outlinewidth\":0.0,\"ticks\":\"\"}}],\"heatmap\":[{\"colorbar\":{\"outlinewidth\":0.0,\"ticks\":\"\"},\"colorscale\":[[0.0,\"#0d0887\"],[0.1111111111111111,\"#46039f\"],[0.2222222222222222,\"#7201a8\"],[0.3333333333333333,\"#9c179e\"],[0.4444444444444444,\"#bd3786\"],[0.5555555555555556,\"#d8576b\"],[0.6666666666666666,\"#ed7953\"],[0.7777777777777778,\"#fb9f3a\"],[0.8888888888888888,\"#fdca26\"],[1.0,\"#f0f921\"]]}],\"heatmapgl\":[{\"colorbar\":{\"outlinewidth\":0.0,\"ticks\":\"\"},\"colorscale\":[[0.0,\"#0d0887\"],[0.1111111111111111,\"#46039f\"],[0.2222222222222222,\"#7201a8\"],[0.3333333333333333,\"#9c179e\"],[0.4444444444444444,\"#bd3786\"],[0.5555555555555556,\"#d8576b\"],[0.6666666666666666,\"#ed7953\"],[0.7777777777777778,\"#fb9f3a\"],[0.8888888888888888,\"#fdca26\"],[1.0,\"#f0f921\"]]}],\"histogram\":[{\"marker\":{\"pattern\":{\"fillmode\":\"overlay\",\"size\":10,\"solidity\":0.2}}}],\"histogram2d\":[{\"colorbar\":{\"outlinewidth\":0.0,\"ticks\":\"\"},\"colorscale\":[[0.0,\"#0d0887\"],[0.1111111111111111,\"#46039f\"],[0.2222222222222222,\"#7201a8\"],[0.3333333333333333,\"#9c179e\"],[0.4444444444444444,\"#bd3786\"],[0.5555555555555556,\"#d8576b\"],[0.6666666666666666,\"#ed7953\"],[0.7777777777777778,\"#fb9f3a\"],[0.8888888888888888,\"#fdca26\"],[1.0,\"#f0f921\"]]}],\"histogram2dcontour\":[{\"colorbar\":{\"outlinewidth\":0.0,\"ticks\":\"\"},\"colorscale\":[[0.0,\"#0d0887\"],[0.1111111111111111,\"#46039f\"],[0.2222222222222222,\"#7201a8\"],[0.3333333333333333,\"#9c179e\"],[0.4444444444444444,\"#bd3786\"],[0.5555555555555556,\"#d8576b\"],[0.6666666666666666,\"#ed7953\"],[0.7777777777777778,\"#fb9f3a\"],[0.8888888888888888,\"#fdca26\"],[1.0,\"#f0f921\"]]}],\"mesh3d\":[{\"colorbar\":{\"outlinewidth\":0.0,\"ticks\":\"\"}}],\"parcoords\":[{\"line\":{\"colorbar\":{\"outlinewidth\":0.0,\"ticks\":\"\"}}}],\"pie\":[{\"automargin\":true}],\"scatter\":[{\"marker\":{\"colorbar\":{\"outlinewidth\":0.0,\"ticks\":\"\"}}}],\"scatter3d\":[{\"marker\":{\"colorbar\":{\"outlinewidth\":0.0,\"ticks\":\"\"}},\"line\":{\"colorbar\":{\"outlinewidth\":0.0,\"ticks\":\"\"}}}],\"scattercarpet\":[{\"marker\":{\"colorbar\":{\"outlinewidth\":0.0,\"ticks\":\"\"}}}],\"scattergeo\":[{\"marker\":{\"colorbar\":{\"outlinewidth\":0.0,\"ticks\":\"\"}}}],\"scattergl\":[{\"marker\":{\"colorbar\":{\"outlinewidth\":0.0,\"ticks\":\"\"}}}],\"scattermapbox\":[{\"marker\":{\"colorbar\":{\"outlinewidth\":0.0,\"ticks\":\"\"}}}],\"scatterpolar\":[{\"marker\":{\"colorbar\":{\"outlinewidth\":0.0,\"ticks\":\"\"}}}],\"scatterpolargl\":[{\"marker\":{\"colorbar\":{\"outlinewidth\":0.0,\"ticks\":\"\"}}}],\"scatterternary\":[{\"marker\":{\"colorbar\":{\"outlinewidth\":0.0,\"ticks\":\"\"}}}],\"surface\":[{\"colorbar\":{\"outlinewidth\":0.0,\"ticks\":\"\"},\"colorscale\":[[0.0,\"#0d0887\"],[0.1111111111111111,\"#46039f\"],[0.2222222222222222,\"#7201a8\"],[0.3333333333333333,\"#9c179e\"],[0.4444444444444444,\"#bd3786\"],[0.5555555555555556,\"#d8576b\"],[0.6666666666666666,\"#ed7953\"],[0.7777777777777778,\"#fb9f3a\"],[0.8888888888888888,\"#fdca26\"],[1.0,\"#f0f921\"]]}],\"table\":[{\"cells\":{\"fill\":{\"color\":\"rgba(235, 240, 248, 1.0)\"},\"line\":{\"color\":\"rgba(255, 255, 255, 1.0)\"}},\"header\":{\"fill\":{\"color\":\"rgba(200, 212, 227, 1.0)\"},\"line\":{\"color\":\"rgba(255, 255, 255, 1.0)\"}}}]}}};\r\n",
       "            var config = {\"responsive\":true};\r\n",
       "            Plotly.newPlot('786048dc-cc5b-41b8-b468-6e8a6c672bf9', data, layout, config);\r\n",
       "});\r\n",
       "            };\r\n",
       "            if ((typeof(requirejs) !==  typeof(Function)) || (typeof(requirejs.config) !== typeof(Function))) {\r\n",
       "                var script = document.createElement(\"script\");\r\n",
       "                script.setAttribute(\"src\", \"https://cdnjs.cloudflare.com/ajax/libs/require.js/2.3.6/require.min.js\");\r\n",
       "                script.onload = function(){\r\n",
       "                    renderPlotly_786048dccc5b41b8b4686e8a6c672bf9();\r\n",
       "                };\r\n",
       "                document.getElementsByTagName(\"head\")[0].appendChild(script);\r\n",
       "            }\r\n",
       "            else {\r\n",
       "                renderPlotly_786048dccc5b41b8b4686e8a6c672bf9();\r\n",
       "            }\r\n",
       "</script>\r\n",
       "\n",
       "    \n",
       "</div>    \n"
      ]
     },
     "metadata": {},
     "output_type": "display_data"
    }
   ],
   "source": [
    "let x = [0.7; 0.8; 0.9; 1.0; 1.1;0.9; 1.0; 1.1; 0.9; 1.0; 1.1; 1.2]\n",
    "let y = [7. ; 7. ; 7. ;7. ; 7.  ; 2.5; 2.5; 2.5 ; 1. ; 1.; 1. ; 1.  ]\n",
    "\n",
    "Chart.Spline (x, y)\n",
    "\n"
   ]
  },
  {
   "cell_type": "markdown",
   "metadata": {},
   "source": [
    "Dieser Graph ist ein sogenanntes **Bifurkationsdiagramm**. **Bifurkation** beschreibt die qualitative Änderung des Zustandes eines Systems, das durch nicht lineare Gleichungen beschrieben wird, in Abhängigkeit der Veränderung eines Parameters der Teil der beschreibenden Gleichung ist. In diesem Fall haben Sie den Parameter $\\gamma$ verändert und es kam zu einer sogenannten **Saddle-Node Bifurkation**. Bei dieser Bifurkation verliert ein System zwei Punktattraktionen wenn der Bifurkationsparameter einen bestimmten Wert erreicht. Dabei wandern die beiden Punktattraktionen aufeinander zu, wenn sich der Bifurkationsparameter diesen Wert nähert, und voneinander weg, wenn er sich von diesem Wert entfernt. Das heißt das System wechselt zwischen den beiden Konformationen **bistabil** und **monostabil**, weshalb von einer qualitativen Änderung gesprochen wird."
   ]
  },
  {
   "cell_type": "markdown",
   "metadata": {},
   "source": [
    "Es folgt eine kurze Besprechung. Falls Sie schnell vorangekommen sind, können Sie bis zur Besprechung folgende Aufgaben lösen.<br>\n",
    "\n",
    "##### Expertenaufgabe 4.1\n",
    "\n",
    "***Stellen Sie die Differenzialgleichung für ein Model auf das neben der intrazellulären Lactosekonzentration auch die Konzentration von $\\beta -\\textrm {Galactosid-Permease}$ umfasst.<br>\n",
    "Fügen Sie die Gleichungen in die nachfolgende Simulation ein (beachten Sie das die Gleichung für die Lactosekonzentration die Konstanten \"alpha1\", \"beta1\", und \"gamma1\", ohne \"\", hat und die Gleichung für die Konzentration von $\\beta -\\textrm {Galactosid-Permease}$ die Konstanten \"alpha2\", \"beta2\", und \"gamma2\", ohne\"\". Die Konzentration von $\\beta -\\textrm {Galactosid-Permease}$ soll \"perm\", ohne \"\", genannt werden. ).***"
   ]
  },
  {
   "cell_type": "code",
   "execution_count": null,
   "metadata": {
    "dotnet_interactive": {
     "language": "fsharp"
    },
    "vscode": {
     "languageId": "dotnet-interactive.fsharp"
    }
   },
   "outputs": [
    {
     "data": {
      "text/html": [
       "\n",
       "<div>\n",
       "    <div id=\"8963d7f3-4c9d-4151-9db3-499b8208c95b\"><!-- Plotly chart will be drawn inside this DIV --></div>\r\n",
       "<script type=\"text/javascript\">\r\n",
       "\r\n",
       "            var renderPlotly_8963d7f34c9d41519db3499b8208c95b = function() {\r\n",
       "            var fsharpPlotlyRequire = requirejs.config({context:'fsharp-plotly',paths:{plotly:'https://cdn.plot.ly/plotly-2.6.3.min'}}) || require;\r\n",
       "            fsharpPlotlyRequire(['plotly'], function(Plotly) {\r\n",
       "\r\n",
       "            var data = [{\"type\":\"scatter\",\"mode\":\"lines\",\"x\":[0.0,0.7926732333241069,1.490678071390128,2.212438001638085,3.1198894622384294,4.1903114703129285,5.287408495047005,6.43163117949292,7.660695182487807,8.997426605181754,10.539092758018517,11.824046079963535,12.94340609516845,13.987145890334155,15.027631846241691],\"y\":[0.0,0.28425444999019045,0.4369602793601368,0.5620010463816565,0.7042919373168715,0.8708514262400979,1.0568820977155842,1.2933416232151904,1.6534454000592784,2.334703139807276,3.983954543743302,6.053324963344762,7.572644797396418,8.475710094567802,8.997516192338194],\"marker\":{},\"line\":{\"shape\":\"spline\"},\"name\":\"Lactose\"},{\"type\":\"scatter\",\"mode\":\"lines\",\"x\":[0.0,0.7926732333241069,1.490678071390128,2.212438001638085,3.1198894622384294,4.1903114703129285,5.287408495047005,6.43163117949292,7.660695182487807,8.997426605181754,10.539092758018517,11.824046079963535,12.94340609516845,13.987145890334155,15.027631846241691],\"y\":[0.0,0.3361812503551675,0.5641197710039557,0.7575827600835271,0.9637142569717132,1.1834963590252214,1.4131854354730957,1.6948563963960424,2.116523766683493,2.915679876110606,4.952353008757916,7.896332309006342,10.565835588034364,12.562199174108803,13.998545142330604],\"marker\":{},\"line\":{\"shape\":\"spline\"},\"name\":\"Permease\"}];\r\n",
       "            var layout = {\"width\":600,\"height\":600,\"template\":{\"layout\":{\"title\":{\"x\":0.05},\"font\":{\"color\":\"rgba(42, 63, 95, 1.0)\"},\"paper_bgcolor\":\"rgba(255, 255, 255, 1.0)\",\"plot_bgcolor\":\"rgba(229, 236, 246, 1.0)\",\"autotypenumbers\":\"strict\",\"colorscale\":{\"diverging\":[[0.0,\"#8e0152\"],[0.1,\"#c51b7d\"],[0.2,\"#de77ae\"],[0.3,\"#f1b6da\"],[0.4,\"#fde0ef\"],[0.5,\"#f7f7f7\"],[0.6,\"#e6f5d0\"],[0.7,\"#b8e186\"],[0.8,\"#7fbc41\"],[0.9,\"#4d9221\"],[1.0,\"#276419\"]],\"sequential\":[[0.0,\"#0d0887\"],[0.1111111111111111,\"#46039f\"],[0.2222222222222222,\"#7201a8\"],[0.3333333333333333,\"#9c179e\"],[0.4444444444444444,\"#bd3786\"],[0.5555555555555556,\"#d8576b\"],[0.6666666666666666,\"#ed7953\"],[0.7777777777777778,\"#fb9f3a\"],[0.8888888888888888,\"#fdca26\"],[1.0,\"#f0f921\"]],\"sequentialminus\":[[0.0,\"#0d0887\"],[0.1111111111111111,\"#46039f\"],[0.2222222222222222,\"#7201a8\"],[0.3333333333333333,\"#9c179e\"],[0.4444444444444444,\"#bd3786\"],[0.5555555555555556,\"#d8576b\"],[0.6666666666666666,\"#ed7953\"],[0.7777777777777778,\"#fb9f3a\"],[0.8888888888888888,\"#fdca26\"],[1.0,\"#f0f921\"]]},\"hovermode\":\"closest\",\"hoverlabel\":{\"align\":\"left\"},\"coloraxis\":{\"colorbar\":{\"outlinewidth\":0.0,\"ticks\":\"\"}},\"geo\":{\"showland\":true,\"landcolor\":\"rgba(229, 236, 246, 1.0)\",\"showlakes\":true,\"lakecolor\":\"rgba(255, 255, 255, 1.0)\",\"subunitcolor\":\"rgba(255, 255, 255, 1.0)\",\"bgcolor\":\"rgba(255, 255, 255, 1.0)\"},\"mapbox\":{\"style\":\"light\"},\"polar\":{\"bgcolor\":\"rgba(229, 236, 246, 1.0)\",\"radialaxis\":{\"linecolor\":\"rgba(255, 255, 255, 1.0)\",\"gridcolor\":\"rgba(255, 255, 255, 1.0)\",\"ticks\":\"\"},\"angularaxis\":{\"linecolor\":\"rgba(255, 255, 255, 1.0)\",\"gridcolor\":\"rgba(255, 255, 255, 1.0)\",\"ticks\":\"\"}},\"scene\":{\"xaxis\":{\"ticks\":\"\",\"linecolor\":\"rgba(255, 255, 255, 1.0)\",\"gridcolor\":\"rgba(255, 255, 255, 1.0)\",\"gridwidth\":2.0,\"zerolinecolor\":\"rgba(255, 255, 255, 1.0)\",\"backgroundcolor\":\"rgba(229, 236, 246, 1.0)\",\"showbackground\":true},\"yaxis\":{\"ticks\":\"\",\"linecolor\":\"rgba(255, 255, 255, 1.0)\",\"gridcolor\":\"rgba(255, 255, 255, 1.0)\",\"gridwidth\":2.0,\"zerolinecolor\":\"rgba(255, 255, 255, 1.0)\",\"backgroundcolor\":\"rgba(229, 236, 246, 1.0)\",\"showbackground\":true},\"zaxis\":{\"ticks\":\"\",\"linecolor\":\"rgba(255, 255, 255, 1.0)\",\"gridcolor\":\"rgba(255, 255, 255, 1.0)\",\"gridwidth\":2.0,\"zerolinecolor\":\"rgba(255, 255, 255, 1.0)\",\"backgroundcolor\":\"rgba(229, 236, 246, 1.0)\",\"showbackground\":true}},\"ternary\":{\"aaxis\":{\"ticks\":\"\",\"linecolor\":\"rgba(255, 255, 255, 1.0)\",\"gridcolor\":\"rgba(255, 255, 255, 1.0)\"},\"baxis\":{\"ticks\":\"\",\"linecolor\":\"rgba(255, 255, 255, 1.0)\",\"gridcolor\":\"rgba(255, 255, 255, 1.0)\"},\"caxis\":{\"ticks\":\"\",\"linecolor\":\"rgba(255, 255, 255, 1.0)\",\"gridcolor\":\"rgba(255, 255, 255, 1.0)\"},\"bgcolor\":\"rgba(229, 236, 246, 1.0)\"},\"xaxis\":{\"title\":{\"standoff\":15},\"ticks\":\"\",\"automargin\":true,\"linecolor\":\"rgba(255, 255, 255, 1.0)\",\"gridcolor\":\"rgba(255, 255, 255, 1.0)\",\"zerolinecolor\":\"rgba(255, 255, 255, 1.0)\",\"zerolinewidth\":2.0},\"yaxis\":{\"title\":{\"standoff\":15},\"ticks\":\"\",\"automargin\":true,\"linecolor\":\"rgba(255, 255, 255, 1.0)\",\"gridcolor\":\"rgba(255, 255, 255, 1.0)\",\"zerolinecolor\":\"rgba(255, 255, 255, 1.0)\",\"zerolinewidth\":2.0},\"annotationdefaults\":{\"arrowcolor\":\"#2a3f5f\",\"arrowhead\":0,\"arrowwidth\":1},\"shapedefaults\":{\"line\":{\"color\":\"rgba(42, 63, 95, 1.0)\"}},\"colorway\":[\"rgba(99, 110, 250, 1.0)\",\"rgba(239, 85, 59, 1.0)\",\"rgba(0, 204, 150, 1.0)\",\"rgba(171, 99, 250, 1.0)\",\"rgba(255, 161, 90, 1.0)\",\"rgba(25, 211, 243, 1.0)\",\"rgba(255, 102, 146, 1.0)\",\"rgba(182, 232, 128, 1.0)\",\"rgba(255, 151, 255, 1.0)\",\"rgba(254, 203, 82, 1.0)\"]},\"data\":{\"bar\":[{\"marker\":{\"line\":{\"color\":\"rgba(229, 236, 246, 1.0)\",\"width\":0.5},\"pattern\":{\"fillmode\":\"overlay\",\"size\":10,\"solidity\":0.2}},\"error_x\":{\"color\":\"rgba(42, 63, 95, 1.0)\"},\"error_y\":{\"color\":\"rgba(42, 63, 95, 1.0)\"}}],\"barpolar\":[{\"marker\":{\"line\":{\"color\":\"rgba(229, 236, 246, 1.0)\",\"width\":0.5},\"pattern\":{\"fillmode\":\"overlay\",\"size\":10,\"solidity\":0.2}}}],\"carpet\":[{\"aaxis\":{\"linecolor\":\"rgba(255, 255, 255, 1.0)\",\"gridcolor\":\"rgba(255, 255, 255, 1.0)\",\"endlinecolor\":\"rgba(42, 63, 95, 1.0)\",\"minorgridcolor\":\"rgba(255, 255, 255, 1.0)\",\"startlinecolor\":\"rgba(42, 63, 95, 1.0)\"},\"baxis\":{\"linecolor\":\"rgba(255, 255, 255, 1.0)\",\"gridcolor\":\"rgba(255, 255, 255, 1.0)\",\"endlinecolor\":\"rgba(42, 63, 95, 1.0)\",\"minorgridcolor\":\"rgba(255, 255, 255, 1.0)\",\"startlinecolor\":\"rgba(42, 63, 95, 1.0)\"}}],\"choropleth\":[{\"colorbar\":{\"outlinewidth\":0.0,\"ticks\":\"\"},\"colorscale\":[[0.0,\"#0d0887\"],[0.1111111111111111,\"#46039f\"],[0.2222222222222222,\"#7201a8\"],[0.3333333333333333,\"#9c179e\"],[0.4444444444444444,\"#bd3786\"],[0.5555555555555556,\"#d8576b\"],[0.6666666666666666,\"#ed7953\"],[0.7777777777777778,\"#fb9f3a\"],[0.8888888888888888,\"#fdca26\"],[1.0,\"#f0f921\"]]}],\"contour\":[{\"colorbar\":{\"outlinewidth\":0.0,\"ticks\":\"\"},\"colorscale\":[[0.0,\"#0d0887\"],[0.1111111111111111,\"#46039f\"],[0.2222222222222222,\"#7201a8\"],[0.3333333333333333,\"#9c179e\"],[0.4444444444444444,\"#bd3786\"],[0.5555555555555556,\"#d8576b\"],[0.6666666666666666,\"#ed7953\"],[0.7777777777777778,\"#fb9f3a\"],[0.8888888888888888,\"#fdca26\"],[1.0,\"#f0f921\"]]}],\"contourcarpet\":[{\"colorbar\":{\"outlinewidth\":0.0,\"ticks\":\"\"}}],\"heatmap\":[{\"colorbar\":{\"outlinewidth\":0.0,\"ticks\":\"\"},\"colorscale\":[[0.0,\"#0d0887\"],[0.1111111111111111,\"#46039f\"],[0.2222222222222222,\"#7201a8\"],[0.3333333333333333,\"#9c179e\"],[0.4444444444444444,\"#bd3786\"],[0.5555555555555556,\"#d8576b\"],[0.6666666666666666,\"#ed7953\"],[0.7777777777777778,\"#fb9f3a\"],[0.8888888888888888,\"#fdca26\"],[1.0,\"#f0f921\"]]}],\"heatmapgl\":[{\"colorbar\":{\"outlinewidth\":0.0,\"ticks\":\"\"},\"colorscale\":[[0.0,\"#0d0887\"],[0.1111111111111111,\"#46039f\"],[0.2222222222222222,\"#7201a8\"],[0.3333333333333333,\"#9c179e\"],[0.4444444444444444,\"#bd3786\"],[0.5555555555555556,\"#d8576b\"],[0.6666666666666666,\"#ed7953\"],[0.7777777777777778,\"#fb9f3a\"],[0.8888888888888888,\"#fdca26\"],[1.0,\"#f0f921\"]]}],\"histogram\":[{\"marker\":{\"pattern\":{\"fillmode\":\"overlay\",\"size\":10,\"solidity\":0.2}}}],\"histogram2d\":[{\"colorbar\":{\"outlinewidth\":0.0,\"ticks\":\"\"},\"colorscale\":[[0.0,\"#0d0887\"],[0.1111111111111111,\"#46039f\"],[0.2222222222222222,\"#7201a8\"],[0.3333333333333333,\"#9c179e\"],[0.4444444444444444,\"#bd3786\"],[0.5555555555555556,\"#d8576b\"],[0.6666666666666666,\"#ed7953\"],[0.7777777777777778,\"#fb9f3a\"],[0.8888888888888888,\"#fdca26\"],[1.0,\"#f0f921\"]]}],\"histogram2dcontour\":[{\"colorbar\":{\"outlinewidth\":0.0,\"ticks\":\"\"},\"colorscale\":[[0.0,\"#0d0887\"],[0.1111111111111111,\"#46039f\"],[0.2222222222222222,\"#7201a8\"],[0.3333333333333333,\"#9c179e\"],[0.4444444444444444,\"#bd3786\"],[0.5555555555555556,\"#d8576b\"],[0.6666666666666666,\"#ed7953\"],[0.7777777777777778,\"#fb9f3a\"],[0.8888888888888888,\"#fdca26\"],[1.0,\"#f0f921\"]]}],\"mesh3d\":[{\"colorbar\":{\"outlinewidth\":0.0,\"ticks\":\"\"}}],\"parcoords\":[{\"line\":{\"colorbar\":{\"outlinewidth\":0.0,\"ticks\":\"\"}}}],\"pie\":[{\"automargin\":true}],\"scatter\":[{\"marker\":{\"colorbar\":{\"outlinewidth\":0.0,\"ticks\":\"\"}}}],\"scatter3d\":[{\"marker\":{\"colorbar\":{\"outlinewidth\":0.0,\"ticks\":\"\"}},\"line\":{\"colorbar\":{\"outlinewidth\":0.0,\"ticks\":\"\"}}}],\"scattercarpet\":[{\"marker\":{\"colorbar\":{\"outlinewidth\":0.0,\"ticks\":\"\"}}}],\"scattergeo\":[{\"marker\":{\"colorbar\":{\"outlinewidth\":0.0,\"ticks\":\"\"}}}],\"scattergl\":[{\"marker\":{\"colorbar\":{\"outlinewidth\":0.0,\"ticks\":\"\"}}}],\"scattermapbox\":[{\"marker\":{\"colorbar\":{\"outlinewidth\":0.0,\"ticks\":\"\"}}}],\"scatterpolar\":[{\"marker\":{\"colorbar\":{\"outlinewidth\":0.0,\"ticks\":\"\"}}}],\"scatterpolargl\":[{\"marker\":{\"colorbar\":{\"outlinewidth\":0.0,\"ticks\":\"\"}}}],\"scatterternary\":[{\"marker\":{\"colorbar\":{\"outlinewidth\":0.0,\"ticks\":\"\"}}}],\"surface\":[{\"colorbar\":{\"outlinewidth\":0.0,\"ticks\":\"\"},\"colorscale\":[[0.0,\"#0d0887\"],[0.1111111111111111,\"#46039f\"],[0.2222222222222222,\"#7201a8\"],[0.3333333333333333,\"#9c179e\"],[0.4444444444444444,\"#bd3786\"],[0.5555555555555556,\"#d8576b\"],[0.6666666666666666,\"#ed7953\"],[0.7777777777777778,\"#fb9f3a\"],[0.8888888888888888,\"#fdca26\"],[1.0,\"#f0f921\"]]}],\"table\":[{\"cells\":{\"fill\":{\"color\":\"rgba(235, 240, 248, 1.0)\"},\"line\":{\"color\":\"rgba(255, 255, 255, 1.0)\"}},\"header\":{\"fill\":{\"color\":\"rgba(200, 212, 227, 1.0)\"},\"line\":{\"color\":\"rgba(255, 255, 255, 1.0)\"}}}]}},\"xaxis\":{\"title\":{\"text\":\"Zeit\"}},\"yaxis\":{\"title\":{\"text\":\"Konzentration\"}}};\r\n",
       "            var config = {\"responsive\":true};\r\n",
       "            Plotly.newPlot('8963d7f3-4c9d-4151-9db3-499b8208c95b', data, layout, config);\r\n",
       "});\r\n",
       "            };\r\n",
       "            if ((typeof(requirejs) !==  typeof(Function)) || (typeof(requirejs.config) !== typeof(Function))) {\r\n",
       "                var script = document.createElement(\"script\");\r\n",
       "                script.setAttribute(\"src\", \"https://cdnjs.cloudflare.com/ajax/libs/require.js/2.3.6/require.min.js\");\r\n",
       "                script.onload = function(){\r\n",
       "                    renderPlotly_8963d7f34c9d41519db3499b8208c95b();\r\n",
       "                };\r\n",
       "                document.getElementsByTagName(\"head\")[0].appendChild(script);\r\n",
       "            }\r\n",
       "            else {\r\n",
       "                renderPlotly_8963d7f34c9d41519db3499b8208c95b();\r\n",
       "            }\r\n",
       "</script>\r\n",
       "\n",
       "    \n",
       "</div>    \n"
      ]
     },
     "metadata": {},
     "output_type": "display_data"
    }
   ],
   "source": [
    "//Konstanten\n",
    "let alpha1 =  0.5  // Konstante für die Zunahme der Lactosekonzentration (unreguliert)\n",
    "let beta1  =  10.0 // Konstante für die Zunahme der Lactosekonzentration (reguliert)\n",
    "let gamma1 =  1.0  // Konstante für die Verringerung der Lactosekonzentration\n",
    "let alpha2 =  0.5  // Konstante für die Zunahme der beta-Galactosid-Permease Konzentration (unreguliert)\n",
    "let beta2  =  10.0 // Konstante für die Zunahme der beta-Galactosid-Permease Konzentration (reguliert)\n",
    "let gamma2 =  0.5  // Konstante für die Verringerung der beta-Galactosid-Permease Konzentration\n",
    "let K_d1   =  5.0  // Dissoziationskonstante1\n",
    "let K_d2   =  5.0  // Dissoziationskonstante1\n",
    "\n",
    "// unsere DGL als  Modell (Model)\n",
    "let dP_dt : Model = \n",
    "    fun P t ->\n",
    "\n",
    "        let inlac = P[0] // Änderung in der Lactosekonzentration\n",
    "        let perm  = P[1] // Änderung der beta-Galactosid Permease Konzentration\n",
    "\n",
    "        //Differenzialgleichung die die Änderung in der Lactosekonzentration beschreibt (hier die Gleichung einsetzen)\n",
    "        let inlac' = alpha1 + beta1 * (perm**2.)/((perm**2.) + (K_d**2.)) - (gamma1*inlac)\n",
    "        //Differenzialgleichung die die Änderung in der beta-Galactosid Permease Konzentration beschreibt (hier die Gleichung einsetzen)\n",
    "        let perm' = alpha2 + beta2* (inlac**2.)/((inlac**2.) + (K_d2**2.)) - (gamma2*perm)\n",
    "\n",
    "        [| inlac'; perm' |]\n",
    "\n",
    "//Startkonzentrationen\n",
    "let P0 = [| \n",
    "    0.0\n",
    "    0.0\n",
    "|]\n",
    "\n",
    "// Simulation der Modelfuntkion\n",
    "let Ps = \n",
    "    modelContext.OdeInt(\n",
    "        0., // Startzeitpunkt\n",
    "        P0,\n",
    "        dP_dt\n",
    "    )\n",
    "    |> SolPoints.take 15 // Anzahl der Zeitpunkte\n",
    "    |> SolPoints.memorize \n",
    "\n",
    "//Graphische Darstellung der numerischen Lösung\n",
    "[\n",
    "    let lactose = SolPoints.toPoints 1 Ps\n",
    "    lactose \n",
    "    |> Chart.Spline \n",
    "    |> Chart.withTraceInfo(\"Lactose\");\n",
    "    let permease = SolPoints.toPoints 2 Ps\n",
    "    permease \n",
    "    |> Chart.Spline \n",
    "    |> Chart.withTraceInfo(\"Permease\");\n",
    "\n",
    "]\n",
    "\n",
    "|> Chart.combine\n",
    "|> Chart.withXAxisStyle(\"Zeit\")\n",
    "|> Chart.withYAxisStyle(\"Konzentration\")"
   ]
  },
  {
   "cell_type": "markdown",
   "metadata": {},
   "source": [
    "---------\n",
    "### Hill Funktion und Ultrasensitivität\n",
    "\n",
    "Die Umgebung von einer Zelle ändert sich dauerhaft, da sich die Konzentrationen von allen Molekülen um die Zelle dauerhaft ändern. Durch aktiven oder passiven Import der Zelle oder benachbarter Zellen, durch Export von bestimmten Molekülen, oder durch Diffusion, um nur einige Möglichkeiten zu nennen. Die Zelle muss konstant die Expression von Genen und damit auch die Produktion von Proteinen an diese Veränderungen anpassen. Wie beim lac Operon gezeigt, ist dies in vielen Fällen nicht möglich mit den am Vortrag besprochenen Differenzialgleichungen. Dies liegt daran, dass diesen Prozessen kein linearer Zusammenhang zu Grund liegt, sondern ein **ultrasensitives** Verhalten.\n",
    "Das heißt, dass ein Prozess nur dann stattfindet wenn ein bestimmter Schwellenwert überschritten wird, während es davor keinen Effekt gibt. Oft ist dieses ultrasensitive Verhalten bedingt durch **Kooperativität**. Beim lac Operon führte dieses ultrasensitves Verhalten dazu, dass es nur bei hohen Anfangskonzentration zu einem Verstärkten Import von Lactose kam. Allerdings musste dies bewerkstelligt werden durch das Einführen eines Faktors hoch 2. Dieser Faktor beschreibt allerdings nicht alle möglichen Prozesse und ist auch nicht sehr allgemein. Daher wird für die mathematische Beschreibung von solchen Ultrasensitiven Prozessen in der Biologie zumeist die Hillfunktion verwendet. Das Anwenden von dieser auf die bisher besprochene negative Autoregulation führt zu der folgenden Differenzialgleichung:\n",
    "$$ \\frac {dProteinkonzentration} {dt} = \\beta* \\frac {1}{1+ (\\frac {Proteinkonzentration}{K_{D}})^{n}}  - \\gamma*Proteinkonzentration$$\n",
    "\n",
    "die Gleichung für eine ultrasentives Verhalten von einer Proteinproduktion die durch einen Repressor beeinflusst wird ist identisch, nur müssen Sie die Proteinkonzentration im Term, der $\\beta$ beeinflusst, durch die Repressorkonzentration ersetzten. Die Differenzialgleichung für positive Autoregulation ist:\n",
    "$$ \\frac {dProteinkonzentration} {dt} = \\beta* \\frac {Proteinkonzentration^{n}}{{(K_{D})^{n}} + Proteinkonzentration^{n}} - \\gamma*Proteinkonzentration$$\n",
    "auch hier führt das ersetzten der Proteinkonzentration, im $\\beta$ beeinflussenden Term, mit der Aktivatorkonzentration zu der Gleichung für eine Proteinproduktion die von diesem beeinflusst wird. \n",
    "Der Parameter $n$ ist der Hillkoeffizent und beschreibt wie stark das ultrasensitve Verhalten ist. Ein Wert von 1 beschreibt die bisher besprochenen Verhaltensweisen, während ein Wert von 2 oder höher das ulatrsensitive Verhalten beschreibt. \n",
    "Im nachfolgenden soll überprüft werden, ob die Hill Funktion wirklich so wirkt wie besprochen.\n",
    "\n",
    "##### Aufgabe 4.10\n",
    "\n",
    "***Setzen Sie die Gleichung für positive Autoregulation in die nachfolgende Simulation ein. Dabei sollte die positive Autoregulation durch eine Hill Funktion beschrieben werden (Bitte beachten Sie, dass Sie die Proteinkonzentration als \"Proteinkonzentration2\" einsetzten müssen, ohne \"\". Beachten Sie ebenfalls das $\\beta \\textrm{ und } \\gamma$ als \"beta\" und \"gamma\", ohne \"\", eingesetzt werden müssen und nicht als Symbole, und das $K_{D}$ als K_d eingesetzt wird).***\n"
   ]
  },
  {
   "cell_type": "code",
   "execution_count": null,
   "metadata": {
    "dotnet_interactive": {
     "language": "fsharp"
    },
    "vscode": {
     "languageId": "dotnet-interactive.fsharp"
    }
   },
   "outputs": [
    {
     "data": {
      "text/html": [
       "\n",
       "<div>\n",
       "    <div id=\"22348ebb-c239-4b68-b47e-95cc1b23d9de\"><!-- Plotly chart will be drawn inside this DIV --></div>\r\n",
       "<script type=\"text/javascript\">\r\n",
       "\r\n",
       "            var renderPlotly_22348ebbc2394b68b47e95cc1b23d9de = function() {\r\n",
       "            var fsharpPlotlyRequire = requirejs.config({context:'fsharp-plotly',paths:{plotly:'https://cdn.plot.ly/plotly-2.6.3.min'}}) || require;\r\n",
       "            fsharpPlotlyRequire(['plotly'], function(Plotly) {\r\n",
       "\r\n",
       "            var data = [{\"type\":\"scatter\",\"mode\":\"lines\",\"x\":[0.0,0.7856628194647389,1.4677523343222774,2.140200428251707,2.8783196297251274,3.713146045827365,4.666808620938143,5.766151026754663,7.04859282945031,8.565728422165778],\"y\":[0.0,5.441818349247017,7.695574452961647,8.823692315556546,9.43771161124187,9.755992981929104,9.905971973807508,9.968671476810862,9.991299607113897,9.998079632811486],\"marker\":{},\"line\":{\"shape\":\"spline\"},\"name\":\"Unreguliert\"},{\"type\":\"scatter\",\"mode\":\"lines\",\"x\":[0.0,0.7856628194647389,1.4677523343222774,2.140200428251707,2.8783196297251274,3.713146045827365,4.666808620938143,5.766151026754663,7.04859282945031,8.565728422165778],\"y\":[4.0,4.838882882019207,5.5725525403759955,6.209493776413471,6.763815588904103,7.211411213324171,7.539458791766505,7.756717922535201,7.885903968592316,7.953793682015552],\"marker\":{},\"line\":{\"shape\":\"spline\"},\"name\":\"negative AR\"}];\r\n",
       "            var layout = {\"width\":600,\"height\":600,\"template\":{\"layout\":{\"title\":{\"x\":0.05},\"font\":{\"color\":\"rgba(42, 63, 95, 1.0)\"},\"paper_bgcolor\":\"rgba(255, 255, 255, 1.0)\",\"plot_bgcolor\":\"rgba(229, 236, 246, 1.0)\",\"autotypenumbers\":\"strict\",\"colorscale\":{\"diverging\":[[0.0,\"#8e0152\"],[0.1,\"#c51b7d\"],[0.2,\"#de77ae\"],[0.3,\"#f1b6da\"],[0.4,\"#fde0ef\"],[0.5,\"#f7f7f7\"],[0.6,\"#e6f5d0\"],[0.7,\"#b8e186\"],[0.8,\"#7fbc41\"],[0.9,\"#4d9221\"],[1.0,\"#276419\"]],\"sequential\":[[0.0,\"#0d0887\"],[0.1111111111111111,\"#46039f\"],[0.2222222222222222,\"#7201a8\"],[0.3333333333333333,\"#9c179e\"],[0.4444444444444444,\"#bd3786\"],[0.5555555555555556,\"#d8576b\"],[0.6666666666666666,\"#ed7953\"],[0.7777777777777778,\"#fb9f3a\"],[0.8888888888888888,\"#fdca26\"],[1.0,\"#f0f921\"]],\"sequentialminus\":[[0.0,\"#0d0887\"],[0.1111111111111111,\"#46039f\"],[0.2222222222222222,\"#7201a8\"],[0.3333333333333333,\"#9c179e\"],[0.4444444444444444,\"#bd3786\"],[0.5555555555555556,\"#d8576b\"],[0.6666666666666666,\"#ed7953\"],[0.7777777777777778,\"#fb9f3a\"],[0.8888888888888888,\"#fdca26\"],[1.0,\"#f0f921\"]]},\"hovermode\":\"closest\",\"hoverlabel\":{\"align\":\"left\"},\"coloraxis\":{\"colorbar\":{\"outlinewidth\":0.0,\"ticks\":\"\"}},\"geo\":{\"showland\":true,\"landcolor\":\"rgba(229, 236, 246, 1.0)\",\"showlakes\":true,\"lakecolor\":\"rgba(255, 255, 255, 1.0)\",\"subunitcolor\":\"rgba(255, 255, 255, 1.0)\",\"bgcolor\":\"rgba(255, 255, 255, 1.0)\"},\"mapbox\":{\"style\":\"light\"},\"polar\":{\"bgcolor\":\"rgba(229, 236, 246, 1.0)\",\"radialaxis\":{\"linecolor\":\"rgba(255, 255, 255, 1.0)\",\"gridcolor\":\"rgba(255, 255, 255, 1.0)\",\"ticks\":\"\"},\"angularaxis\":{\"linecolor\":\"rgba(255, 255, 255, 1.0)\",\"gridcolor\":\"rgba(255, 255, 255, 1.0)\",\"ticks\":\"\"}},\"scene\":{\"xaxis\":{\"ticks\":\"\",\"linecolor\":\"rgba(255, 255, 255, 1.0)\",\"gridcolor\":\"rgba(255, 255, 255, 1.0)\",\"gridwidth\":2.0,\"zerolinecolor\":\"rgba(255, 255, 255, 1.0)\",\"backgroundcolor\":\"rgba(229, 236, 246, 1.0)\",\"showbackground\":true},\"yaxis\":{\"ticks\":\"\",\"linecolor\":\"rgba(255, 255, 255, 1.0)\",\"gridcolor\":\"rgba(255, 255, 255, 1.0)\",\"gridwidth\":2.0,\"zerolinecolor\":\"rgba(255, 255, 255, 1.0)\",\"backgroundcolor\":\"rgba(229, 236, 246, 1.0)\",\"showbackground\":true},\"zaxis\":{\"ticks\":\"\",\"linecolor\":\"rgba(255, 255, 255, 1.0)\",\"gridcolor\":\"rgba(255, 255, 255, 1.0)\",\"gridwidth\":2.0,\"zerolinecolor\":\"rgba(255, 255, 255, 1.0)\",\"backgroundcolor\":\"rgba(229, 236, 246, 1.0)\",\"showbackground\":true}},\"ternary\":{\"aaxis\":{\"ticks\":\"\",\"linecolor\":\"rgba(255, 255, 255, 1.0)\",\"gridcolor\":\"rgba(255, 255, 255, 1.0)\"},\"baxis\":{\"ticks\":\"\",\"linecolor\":\"rgba(255, 255, 255, 1.0)\",\"gridcolor\":\"rgba(255, 255, 255, 1.0)\"},\"caxis\":{\"ticks\":\"\",\"linecolor\":\"rgba(255, 255, 255, 1.0)\",\"gridcolor\":\"rgba(255, 255, 255, 1.0)\"},\"bgcolor\":\"rgba(229, 236, 246, 1.0)\"},\"xaxis\":{\"title\":{\"standoff\":15},\"ticks\":\"\",\"automargin\":true,\"linecolor\":\"rgba(255, 255, 255, 1.0)\",\"gridcolor\":\"rgba(255, 255, 255, 1.0)\",\"zerolinecolor\":\"rgba(255, 255, 255, 1.0)\",\"zerolinewidth\":2.0},\"yaxis\":{\"title\":{\"standoff\":15},\"ticks\":\"\",\"automargin\":true,\"linecolor\":\"rgba(255, 255, 255, 1.0)\",\"gridcolor\":\"rgba(255, 255, 255, 1.0)\",\"zerolinecolor\":\"rgba(255, 255, 255, 1.0)\",\"zerolinewidth\":2.0},\"annotationdefaults\":{\"arrowcolor\":\"#2a3f5f\",\"arrowhead\":0,\"arrowwidth\":1},\"shapedefaults\":{\"line\":{\"color\":\"rgba(42, 63, 95, 1.0)\"}},\"colorway\":[\"rgba(99, 110, 250, 1.0)\",\"rgba(239, 85, 59, 1.0)\",\"rgba(0, 204, 150, 1.0)\",\"rgba(171, 99, 250, 1.0)\",\"rgba(255, 161, 90, 1.0)\",\"rgba(25, 211, 243, 1.0)\",\"rgba(255, 102, 146, 1.0)\",\"rgba(182, 232, 128, 1.0)\",\"rgba(255, 151, 255, 1.0)\",\"rgba(254, 203, 82, 1.0)\"]},\"data\":{\"bar\":[{\"marker\":{\"line\":{\"color\":\"rgba(229, 236, 246, 1.0)\",\"width\":0.5},\"pattern\":{\"fillmode\":\"overlay\",\"size\":10,\"solidity\":0.2}},\"error_x\":{\"color\":\"rgba(42, 63, 95, 1.0)\"},\"error_y\":{\"color\":\"rgba(42, 63, 95, 1.0)\"}}],\"barpolar\":[{\"marker\":{\"line\":{\"color\":\"rgba(229, 236, 246, 1.0)\",\"width\":0.5},\"pattern\":{\"fillmode\":\"overlay\",\"size\":10,\"solidity\":0.2}}}],\"carpet\":[{\"aaxis\":{\"linecolor\":\"rgba(255, 255, 255, 1.0)\",\"gridcolor\":\"rgba(255, 255, 255, 1.0)\",\"endlinecolor\":\"rgba(42, 63, 95, 1.0)\",\"minorgridcolor\":\"rgba(255, 255, 255, 1.0)\",\"startlinecolor\":\"rgba(42, 63, 95, 1.0)\"},\"baxis\":{\"linecolor\":\"rgba(255, 255, 255, 1.0)\",\"gridcolor\":\"rgba(255, 255, 255, 1.0)\",\"endlinecolor\":\"rgba(42, 63, 95, 1.0)\",\"minorgridcolor\":\"rgba(255, 255, 255, 1.0)\",\"startlinecolor\":\"rgba(42, 63, 95, 1.0)\"}}],\"choropleth\":[{\"colorbar\":{\"outlinewidth\":0.0,\"ticks\":\"\"},\"colorscale\":[[0.0,\"#0d0887\"],[0.1111111111111111,\"#46039f\"],[0.2222222222222222,\"#7201a8\"],[0.3333333333333333,\"#9c179e\"],[0.4444444444444444,\"#bd3786\"],[0.5555555555555556,\"#d8576b\"],[0.6666666666666666,\"#ed7953\"],[0.7777777777777778,\"#fb9f3a\"],[0.8888888888888888,\"#fdca26\"],[1.0,\"#f0f921\"]]}],\"contour\":[{\"colorbar\":{\"outlinewidth\":0.0,\"ticks\":\"\"},\"colorscale\":[[0.0,\"#0d0887\"],[0.1111111111111111,\"#46039f\"],[0.2222222222222222,\"#7201a8\"],[0.3333333333333333,\"#9c179e\"],[0.4444444444444444,\"#bd3786\"],[0.5555555555555556,\"#d8576b\"],[0.6666666666666666,\"#ed7953\"],[0.7777777777777778,\"#fb9f3a\"],[0.8888888888888888,\"#fdca26\"],[1.0,\"#f0f921\"]]}],\"contourcarpet\":[{\"colorbar\":{\"outlinewidth\":0.0,\"ticks\":\"\"}}],\"heatmap\":[{\"colorbar\":{\"outlinewidth\":0.0,\"ticks\":\"\"},\"colorscale\":[[0.0,\"#0d0887\"],[0.1111111111111111,\"#46039f\"],[0.2222222222222222,\"#7201a8\"],[0.3333333333333333,\"#9c179e\"],[0.4444444444444444,\"#bd3786\"],[0.5555555555555556,\"#d8576b\"],[0.6666666666666666,\"#ed7953\"],[0.7777777777777778,\"#fb9f3a\"],[0.8888888888888888,\"#fdca26\"],[1.0,\"#f0f921\"]]}],\"heatmapgl\":[{\"colorbar\":{\"outlinewidth\":0.0,\"ticks\":\"\"},\"colorscale\":[[0.0,\"#0d0887\"],[0.1111111111111111,\"#46039f\"],[0.2222222222222222,\"#7201a8\"],[0.3333333333333333,\"#9c179e\"],[0.4444444444444444,\"#bd3786\"],[0.5555555555555556,\"#d8576b\"],[0.6666666666666666,\"#ed7953\"],[0.7777777777777778,\"#fb9f3a\"],[0.8888888888888888,\"#fdca26\"],[1.0,\"#f0f921\"]]}],\"histogram\":[{\"marker\":{\"pattern\":{\"fillmode\":\"overlay\",\"size\":10,\"solidity\":0.2}}}],\"histogram2d\":[{\"colorbar\":{\"outlinewidth\":0.0,\"ticks\":\"\"},\"colorscale\":[[0.0,\"#0d0887\"],[0.1111111111111111,\"#46039f\"],[0.2222222222222222,\"#7201a8\"],[0.3333333333333333,\"#9c179e\"],[0.4444444444444444,\"#bd3786\"],[0.5555555555555556,\"#d8576b\"],[0.6666666666666666,\"#ed7953\"],[0.7777777777777778,\"#fb9f3a\"],[0.8888888888888888,\"#fdca26\"],[1.0,\"#f0f921\"]]}],\"histogram2dcontour\":[{\"colorbar\":{\"outlinewidth\":0.0,\"ticks\":\"\"},\"colorscale\":[[0.0,\"#0d0887\"],[0.1111111111111111,\"#46039f\"],[0.2222222222222222,\"#7201a8\"],[0.3333333333333333,\"#9c179e\"],[0.4444444444444444,\"#bd3786\"],[0.5555555555555556,\"#d8576b\"],[0.6666666666666666,\"#ed7953\"],[0.7777777777777778,\"#fb9f3a\"],[0.8888888888888888,\"#fdca26\"],[1.0,\"#f0f921\"]]}],\"mesh3d\":[{\"colorbar\":{\"outlinewidth\":0.0,\"ticks\":\"\"}}],\"parcoords\":[{\"line\":{\"colorbar\":{\"outlinewidth\":0.0,\"ticks\":\"\"}}}],\"pie\":[{\"automargin\":true}],\"scatter\":[{\"marker\":{\"colorbar\":{\"outlinewidth\":0.0,\"ticks\":\"\"}}}],\"scatter3d\":[{\"marker\":{\"colorbar\":{\"outlinewidth\":0.0,\"ticks\":\"\"}},\"line\":{\"colorbar\":{\"outlinewidth\":0.0,\"ticks\":\"\"}}}],\"scattercarpet\":[{\"marker\":{\"colorbar\":{\"outlinewidth\":0.0,\"ticks\":\"\"}}}],\"scattergeo\":[{\"marker\":{\"colorbar\":{\"outlinewidth\":0.0,\"ticks\":\"\"}}}],\"scattergl\":[{\"marker\":{\"colorbar\":{\"outlinewidth\":0.0,\"ticks\":\"\"}}}],\"scattermapbox\":[{\"marker\":{\"colorbar\":{\"outlinewidth\":0.0,\"ticks\":\"\"}}}],\"scatterpolar\":[{\"marker\":{\"colorbar\":{\"outlinewidth\":0.0,\"ticks\":\"\"}}}],\"scatterpolargl\":[{\"marker\":{\"colorbar\":{\"outlinewidth\":0.0,\"ticks\":\"\"}}}],\"scatterternary\":[{\"marker\":{\"colorbar\":{\"outlinewidth\":0.0,\"ticks\":\"\"}}}],\"surface\":[{\"colorbar\":{\"outlinewidth\":0.0,\"ticks\":\"\"},\"colorscale\":[[0.0,\"#0d0887\"],[0.1111111111111111,\"#46039f\"],[0.2222222222222222,\"#7201a8\"],[0.3333333333333333,\"#9c179e\"],[0.4444444444444444,\"#bd3786\"],[0.5555555555555556,\"#d8576b\"],[0.6666666666666666,\"#ed7953\"],[0.7777777777777778,\"#fb9f3a\"],[0.8888888888888888,\"#fdca26\"],[1.0,\"#f0f921\"]]}],\"table\":[{\"cells\":{\"fill\":{\"color\":\"rgba(235, 240, 248, 1.0)\"},\"line\":{\"color\":\"rgba(255, 255, 255, 1.0)\"}},\"header\":{\"fill\":{\"color\":\"rgba(200, 212, 227, 1.0)\"},\"line\":{\"color\":\"rgba(255, 255, 255, 1.0)\"}}}]}},\"xaxis\":{\"title\":{\"text\":\"Zeit\"}},\"yaxis\":{\"title\":{\"text\":\"Proteinkonzentration\"}}};\r\n",
       "            var config = {\"responsive\":true};\r\n",
       "            Plotly.newPlot('22348ebb-c239-4b68-b47e-95cc1b23d9de', data, layout, config);\r\n",
       "});\r\n",
       "            };\r\n",
       "            if ((typeof(requirejs) !==  typeof(Function)) || (typeof(requirejs.config) !== typeof(Function))) {\r\n",
       "                var script = document.createElement(\"script\");\r\n",
       "                script.setAttribute(\"src\", \"https://cdnjs.cloudflare.com/ajax/libs/require.js/2.3.6/require.min.js\");\r\n",
       "                script.onload = function(){\r\n",
       "                    renderPlotly_22348ebbc2394b68b47e95cc1b23d9de();\r\n",
       "                };\r\n",
       "                document.getElementsByTagName(\"head\")[0].appendChild(script);\r\n",
       "            }\r\n",
       "            else {\r\n",
       "                renderPlotly_22348ebbc2394b68b47e95cc1b23d9de();\r\n",
       "            }\r\n",
       "</script>\r\n",
       "\n",
       "    \n",
       "</div>    \n"
      ]
     },
     "metadata": {},
     "output_type": "display_data"
    }
   ],
   "source": [
    "//Konstanten\n",
    "let beta  =  10.0 // Konstante für die Zunahme der Proteinkonzentration\n",
    "let gamma =  1.0  // Konstante für die Verringerung der Proteinkonzentration\n",
    "let K_d =    4.0  // Dissoziationskonstante\n",
    "let n =      2.0  // Hill Koeffizent \n",
    "\n",
    "// unsere DGL als  Modell (Model)\n",
    "let dP_dt : Model = \n",
    "    fun P t ->\n",
    "\n",
    "        let Proteinkonzentration1 = P[0] // Änderung in der Proteinmenge\n",
    "        let Proteinkonzentration2 = P[1] // Änderung in der Proteinmenge\n",
    "        //Änderung der Proteinkonzentration ohne positive Autoregulation\n",
    "        let Proteinkonzentration1' = beta - (gamma*Proteinkonzentration1)\n",
    "        // Änderung des Proteinkonzentration bei positiver Autoregulation (hier die Gleichung einsetzen)\n",
    "        let Proteinkonzentration2' = beta * (Proteinkonzentration2**n)/((Proteinkonzentration2**n) + (K_d**n)) - (gamma*Proteinkonzentration2)\n",
    "\n",
    "        [| Proteinkonzentration1'; Proteinkonzentration2' |]\n",
    "\n",
    "//Startkonzentrationen\n",
    "let P0 = [| \n",
    "    //Startkonzentration für das unregulierte Protein (muss nicht verändert werden)\n",
    "    0.0 \n",
    "    //Startkonzentration für das durch postive Autoreguliation regulierte Protein (hier bitte die Startwerte ändern)\n",
    "    4.0 \n",
    "|]\n",
    "\n",
    "// Simulation der Modelfuntkion\n",
    "let Ps = \n",
    "    modelContext.OdeInt(\n",
    "        0., // Startzeitpunkt\n",
    "        P0,\n",
    "        dP_dt\n",
    "    )\n",
    "    |> SolPoints.take 10 // Anzahl der Zeitpunkte\n",
    "    |> SolPoints.memorize \n",
    "\n",
    "//Graphische Darstellung der numerischen Lösung\n",
    "[\n",
    "    let proteins = SolPoints.toPoints 1 Ps\n",
    "    proteins \n",
    "    |> Chart.Spline \n",
    "    |> Chart.withTraceInfo(\"Unreguliert\");\n",
    "    let proteinsregulated = SolPoints.toPoints 2 Ps\n",
    "    proteinsregulated\n",
    "    |> Chart.Spline \n",
    "    |> Chart.withTraceInfo(\"negative AR\");\n",
    "]\n",
    "\n",
    "|> Chart.combine\n",
    "|> Chart.withXAxisStyle(\"Zeit\")\n",
    "|> Chart.withYAxisStyle(\"Proteinkonzentration\")"
   ]
  },
  {
   "cell_type": "markdown",
   "metadata": {},
   "source": [
    "Die Konstanten für den gezeigten Graphen sind:\n",
    "$$\\beta = 10$$\n",
    "$$\\gamma= 1$$\n",
    "$$n = 4$$\n",
    "$$K_{D} = 1$$\n",
    "$$Proteinkonzentration (0) = 0.1$$\n",
    "##### Aufgabe 4.11\n",
    "***Welchen Effekt hat postive Autoregulation bei einem Wert von $n=1$ auf die Antwortszeit?***\n"
   ]
  },
  {
   "cell_type": "markdown",
   "metadata": {},
   "source": [
    "Hier die Antwort eintippen"
   ]
  },
  {
   "cell_type": "markdown",
   "metadata": {},
   "source": [
    "##### Aufgabe 4.12\n",
    "***Was passiert bei $n=2$?\n",
    "Kopieren Sie die obenstehnden code block für die postive Autoregulation und fügen Sie diesen in den folgenden Code Block ein. Verändern Sie dann die Hill Konstante.***"
   ]
  },
  {
   "cell_type": "code",
   "execution_count": null,
   "metadata": {
    "dotnet_interactive": {
     "language": "fsharp"
    },
    "vscode": {
     "languageId": "dotnet-interactive.fsharp"
    }
   },
   "outputs": [],
   "source": []
  },
  {
   "cell_type": "markdown",
   "metadata": {},
   "source": [
    "Was beobachten Sie?"
   ]
  },
  {
   "cell_type": "markdown",
   "metadata": {},
   "source": [
    "Hier die Antwort eintippen"
   ]
  },
  {
   "cell_type": "markdown",
   "metadata": {},
   "source": [
    "Es folgt eine kurze Besprechung. Falls Sie schnell vorangekommen sind, können Sie bis zur Besprechung folgende Aufgaben lösen.<br>\n",
    "\n",
    "##### Expertenaufgabe 4.2\n",
    "\n",
    "***Stellen Sie die Differenzialgleichung für ein Model auf das neben der intrazellulären Lactosekonzentration auch die Konzentration von $\\beta -\\textrm {Galactosid-Permease}$ umfasst auf, diesesmal soll der Zusammenhang aber mit der Hill Funktion gezeigt werden.\n",
    "Fügen Sie die Gleichungen in die nachfolgende Simulation ein (beachten Sie das die Gleichung für die Lactosekonzentration die Konstanten \"n1\",\"alpha1\", \"beta1\", und \"gamma1\", ohne \"\", hat und die Gleichung für die Konzentration von $\\beta -\\textrm {Galactosid-Permease}$ die Konstanten \"n2\", \"alpha2\", \"beta2\", und \"gamma2\", ohne\"\". Die Konzentration von $\\beta -\\textrm {Galactosid-Permease}$ soll \"perm\", ohne \"\", genannt werden.).***"
   ]
  },
  {
   "cell_type": "code",
   "execution_count": null,
   "metadata": {
    "dotnet_interactive": {
     "language": "fsharp"
    },
    "vscode": {
     "languageId": "dotnet-interactive.fsharp"
    }
   },
   "outputs": [
    {
     "data": {
      "text/html": [
       "\n",
       "<div>\n",
       "    <div id=\"f91c67d7-d5ae-4e89-b705-c0cc85dd95fe\"><!-- Plotly chart will be drawn inside this DIV --></div>\r\n",
       "<script type=\"text/javascript\">\r\n",
       "\r\n",
       "            var renderPlotly_f91c67d7d5ae4e89b705c0cc85dd95fe = function() {\r\n",
       "            var fsharpPlotlyRequire = requirejs.config({context:'fsharp-plotly',paths:{plotly:'https://cdn.plot.ly/plotly-2.6.3.min'}}) || require;\r\n",
       "            fsharpPlotlyRequire(['plotly'], function(Plotly) {\r\n",
       "\r\n",
       "            var data = [{\"type\":\"scatter\",\"mode\":\"lines\",\"x\":[0.0,0.7838678067004653,1.461163107355415,2.134368761129454,2.9029576823162166,3.8642804201595435,5.045473455936795,6.34806982884441,7.746705997740969,9.306341718708845,11.12449205344385,13.331813771883033,16.10344602549697,19.586725841771184,23.89776146169102],\"y\":[0.0,0.27267799738431825,0.39131462042625315,0.46145705001943604,0.5145768164951912,0.5612296126907063,0.601342363850287,0.6307082568196417,0.6502864577664976,0.6628383857863183,0.6704376430734984,0.6746039528110569,0.6765502420816278,0.6772571934628316,0.6774557007141975],\"marker\":{},\"line\":{\"shape\":\"spline\"},\"name\":\"Lactose\"},{\"type\":\"scatter\",\"mode\":\"lines\",\"x\":[0.0,0.7838678067004653,1.461163107355415,2.134368761129454,2.9029576823162166,3.8642804201595435,5.045473455936795,6.34806982884441,7.746705997740969,9.306341718708845,11.12449205344385,13.331813771883033,16.10344602549697,19.586725841771184,23.89776146169102],\"y\":[0.0,0.32461358356074194,0.5205044381876818,0.6612290627407807,0.7753871202891901,0.8707832735041896,0.942658032156531,0.9882134801082052,1.015445716635383,1.0317086758336613,1.0411403773952246,1.0461883980577522,1.0485183825100426,1.049358969447385,1.0495780586905792],\"marker\":{},\"line\":{\"shape\":\"spline\"},\"name\":\"Permease\"}];\r\n",
       "            var layout = {\"width\":600,\"height\":600,\"template\":{\"layout\":{\"title\":{\"x\":0.05},\"font\":{\"color\":\"rgba(42, 63, 95, 1.0)\"},\"paper_bgcolor\":\"rgba(255, 255, 255, 1.0)\",\"plot_bgcolor\":\"rgba(229, 236, 246, 1.0)\",\"autotypenumbers\":\"strict\",\"colorscale\":{\"diverging\":[[0.0,\"#8e0152\"],[0.1,\"#c51b7d\"],[0.2,\"#de77ae\"],[0.3,\"#f1b6da\"],[0.4,\"#fde0ef\"],[0.5,\"#f7f7f7\"],[0.6,\"#e6f5d0\"],[0.7,\"#b8e186\"],[0.8,\"#7fbc41\"],[0.9,\"#4d9221\"],[1.0,\"#276419\"]],\"sequential\":[[0.0,\"#0d0887\"],[0.1111111111111111,\"#46039f\"],[0.2222222222222222,\"#7201a8\"],[0.3333333333333333,\"#9c179e\"],[0.4444444444444444,\"#bd3786\"],[0.5555555555555556,\"#d8576b\"],[0.6666666666666666,\"#ed7953\"],[0.7777777777777778,\"#fb9f3a\"],[0.8888888888888888,\"#fdca26\"],[1.0,\"#f0f921\"]],\"sequentialminus\":[[0.0,\"#0d0887\"],[0.1111111111111111,\"#46039f\"],[0.2222222222222222,\"#7201a8\"],[0.3333333333333333,\"#9c179e\"],[0.4444444444444444,\"#bd3786\"],[0.5555555555555556,\"#d8576b\"],[0.6666666666666666,\"#ed7953\"],[0.7777777777777778,\"#fb9f3a\"],[0.8888888888888888,\"#fdca26\"],[1.0,\"#f0f921\"]]},\"hovermode\":\"closest\",\"hoverlabel\":{\"align\":\"left\"},\"coloraxis\":{\"colorbar\":{\"outlinewidth\":0.0,\"ticks\":\"\"}},\"geo\":{\"showland\":true,\"landcolor\":\"rgba(229, 236, 246, 1.0)\",\"showlakes\":true,\"lakecolor\":\"rgba(255, 255, 255, 1.0)\",\"subunitcolor\":\"rgba(255, 255, 255, 1.0)\",\"bgcolor\":\"rgba(255, 255, 255, 1.0)\"},\"mapbox\":{\"style\":\"light\"},\"polar\":{\"bgcolor\":\"rgba(229, 236, 246, 1.0)\",\"radialaxis\":{\"linecolor\":\"rgba(255, 255, 255, 1.0)\",\"gridcolor\":\"rgba(255, 255, 255, 1.0)\",\"ticks\":\"\"},\"angularaxis\":{\"linecolor\":\"rgba(255, 255, 255, 1.0)\",\"gridcolor\":\"rgba(255, 255, 255, 1.0)\",\"ticks\":\"\"}},\"scene\":{\"xaxis\":{\"ticks\":\"\",\"linecolor\":\"rgba(255, 255, 255, 1.0)\",\"gridcolor\":\"rgba(255, 255, 255, 1.0)\",\"gridwidth\":2.0,\"zerolinecolor\":\"rgba(255, 255, 255, 1.0)\",\"backgroundcolor\":\"rgba(229, 236, 246, 1.0)\",\"showbackground\":true},\"yaxis\":{\"ticks\":\"\",\"linecolor\":\"rgba(255, 255, 255, 1.0)\",\"gridcolor\":\"rgba(255, 255, 255, 1.0)\",\"gridwidth\":2.0,\"zerolinecolor\":\"rgba(255, 255, 255, 1.0)\",\"backgroundcolor\":\"rgba(229, 236, 246, 1.0)\",\"showbackground\":true},\"zaxis\":{\"ticks\":\"\",\"linecolor\":\"rgba(255, 255, 255, 1.0)\",\"gridcolor\":\"rgba(255, 255, 255, 1.0)\",\"gridwidth\":2.0,\"zerolinecolor\":\"rgba(255, 255, 255, 1.0)\",\"backgroundcolor\":\"rgba(229, 236, 246, 1.0)\",\"showbackground\":true}},\"ternary\":{\"aaxis\":{\"ticks\":\"\",\"linecolor\":\"rgba(255, 255, 255, 1.0)\",\"gridcolor\":\"rgba(255, 255, 255, 1.0)\"},\"baxis\":{\"ticks\":\"\",\"linecolor\":\"rgba(255, 255, 255, 1.0)\",\"gridcolor\":\"rgba(255, 255, 255, 1.0)\"},\"caxis\":{\"ticks\":\"\",\"linecolor\":\"rgba(255, 255, 255, 1.0)\",\"gridcolor\":\"rgba(255, 255, 255, 1.0)\"},\"bgcolor\":\"rgba(229, 236, 246, 1.0)\"},\"xaxis\":{\"title\":{\"standoff\":15},\"ticks\":\"\",\"automargin\":true,\"linecolor\":\"rgba(255, 255, 255, 1.0)\",\"gridcolor\":\"rgba(255, 255, 255, 1.0)\",\"zerolinecolor\":\"rgba(255, 255, 255, 1.0)\",\"zerolinewidth\":2.0},\"yaxis\":{\"title\":{\"standoff\":15},\"ticks\":\"\",\"automargin\":true,\"linecolor\":\"rgba(255, 255, 255, 1.0)\",\"gridcolor\":\"rgba(255, 255, 255, 1.0)\",\"zerolinecolor\":\"rgba(255, 255, 255, 1.0)\",\"zerolinewidth\":2.0},\"annotationdefaults\":{\"arrowcolor\":\"#2a3f5f\",\"arrowhead\":0,\"arrowwidth\":1},\"shapedefaults\":{\"line\":{\"color\":\"rgba(42, 63, 95, 1.0)\"}},\"colorway\":[\"rgba(99, 110, 250, 1.0)\",\"rgba(239, 85, 59, 1.0)\",\"rgba(0, 204, 150, 1.0)\",\"rgba(171, 99, 250, 1.0)\",\"rgba(255, 161, 90, 1.0)\",\"rgba(25, 211, 243, 1.0)\",\"rgba(255, 102, 146, 1.0)\",\"rgba(182, 232, 128, 1.0)\",\"rgba(255, 151, 255, 1.0)\",\"rgba(254, 203, 82, 1.0)\"]},\"data\":{\"bar\":[{\"marker\":{\"line\":{\"color\":\"rgba(229, 236, 246, 1.0)\",\"width\":0.5},\"pattern\":{\"fillmode\":\"overlay\",\"size\":10,\"solidity\":0.2}},\"error_x\":{\"color\":\"rgba(42, 63, 95, 1.0)\"},\"error_y\":{\"color\":\"rgba(42, 63, 95, 1.0)\"}}],\"barpolar\":[{\"marker\":{\"line\":{\"color\":\"rgba(229, 236, 246, 1.0)\",\"width\":0.5},\"pattern\":{\"fillmode\":\"overlay\",\"size\":10,\"solidity\":0.2}}}],\"carpet\":[{\"aaxis\":{\"linecolor\":\"rgba(255, 255, 255, 1.0)\",\"gridcolor\":\"rgba(255, 255, 255, 1.0)\",\"endlinecolor\":\"rgba(42, 63, 95, 1.0)\",\"minorgridcolor\":\"rgba(255, 255, 255, 1.0)\",\"startlinecolor\":\"rgba(42, 63, 95, 1.0)\"},\"baxis\":{\"linecolor\":\"rgba(255, 255, 255, 1.0)\",\"gridcolor\":\"rgba(255, 255, 255, 1.0)\",\"endlinecolor\":\"rgba(42, 63, 95, 1.0)\",\"minorgridcolor\":\"rgba(255, 255, 255, 1.0)\",\"startlinecolor\":\"rgba(42, 63, 95, 1.0)\"}}],\"choropleth\":[{\"colorbar\":{\"outlinewidth\":0.0,\"ticks\":\"\"},\"colorscale\":[[0.0,\"#0d0887\"],[0.1111111111111111,\"#46039f\"],[0.2222222222222222,\"#7201a8\"],[0.3333333333333333,\"#9c179e\"],[0.4444444444444444,\"#bd3786\"],[0.5555555555555556,\"#d8576b\"],[0.6666666666666666,\"#ed7953\"],[0.7777777777777778,\"#fb9f3a\"],[0.8888888888888888,\"#fdca26\"],[1.0,\"#f0f921\"]]}],\"contour\":[{\"colorbar\":{\"outlinewidth\":0.0,\"ticks\":\"\"},\"colorscale\":[[0.0,\"#0d0887\"],[0.1111111111111111,\"#46039f\"],[0.2222222222222222,\"#7201a8\"],[0.3333333333333333,\"#9c179e\"],[0.4444444444444444,\"#bd3786\"],[0.5555555555555556,\"#d8576b\"],[0.6666666666666666,\"#ed7953\"],[0.7777777777777778,\"#fb9f3a\"],[0.8888888888888888,\"#fdca26\"],[1.0,\"#f0f921\"]]}],\"contourcarpet\":[{\"colorbar\":{\"outlinewidth\":0.0,\"ticks\":\"\"}}],\"heatmap\":[{\"colorbar\":{\"outlinewidth\":0.0,\"ticks\":\"\"},\"colorscale\":[[0.0,\"#0d0887\"],[0.1111111111111111,\"#46039f\"],[0.2222222222222222,\"#7201a8\"],[0.3333333333333333,\"#9c179e\"],[0.4444444444444444,\"#bd3786\"],[0.5555555555555556,\"#d8576b\"],[0.6666666666666666,\"#ed7953\"],[0.7777777777777778,\"#fb9f3a\"],[0.8888888888888888,\"#fdca26\"],[1.0,\"#f0f921\"]]}],\"heatmapgl\":[{\"colorbar\":{\"outlinewidth\":0.0,\"ticks\":\"\"},\"colorscale\":[[0.0,\"#0d0887\"],[0.1111111111111111,\"#46039f\"],[0.2222222222222222,\"#7201a8\"],[0.3333333333333333,\"#9c179e\"],[0.4444444444444444,\"#bd3786\"],[0.5555555555555556,\"#d8576b\"],[0.6666666666666666,\"#ed7953\"],[0.7777777777777778,\"#fb9f3a\"],[0.8888888888888888,\"#fdca26\"],[1.0,\"#f0f921\"]]}],\"histogram\":[{\"marker\":{\"pattern\":{\"fillmode\":\"overlay\",\"size\":10,\"solidity\":0.2}}}],\"histogram2d\":[{\"colorbar\":{\"outlinewidth\":0.0,\"ticks\":\"\"},\"colorscale\":[[0.0,\"#0d0887\"],[0.1111111111111111,\"#46039f\"],[0.2222222222222222,\"#7201a8\"],[0.3333333333333333,\"#9c179e\"],[0.4444444444444444,\"#bd3786\"],[0.5555555555555556,\"#d8576b\"],[0.6666666666666666,\"#ed7953\"],[0.7777777777777778,\"#fb9f3a\"],[0.8888888888888888,\"#fdca26\"],[1.0,\"#f0f921\"]]}],\"histogram2dcontour\":[{\"colorbar\":{\"outlinewidth\":0.0,\"ticks\":\"\"},\"colorscale\":[[0.0,\"#0d0887\"],[0.1111111111111111,\"#46039f\"],[0.2222222222222222,\"#7201a8\"],[0.3333333333333333,\"#9c179e\"],[0.4444444444444444,\"#bd3786\"],[0.5555555555555556,\"#d8576b\"],[0.6666666666666666,\"#ed7953\"],[0.7777777777777778,\"#fb9f3a\"],[0.8888888888888888,\"#fdca26\"],[1.0,\"#f0f921\"]]}],\"mesh3d\":[{\"colorbar\":{\"outlinewidth\":0.0,\"ticks\":\"\"}}],\"parcoords\":[{\"line\":{\"colorbar\":{\"outlinewidth\":0.0,\"ticks\":\"\"}}}],\"pie\":[{\"automargin\":true}],\"scatter\":[{\"marker\":{\"colorbar\":{\"outlinewidth\":0.0,\"ticks\":\"\"}}}],\"scatter3d\":[{\"marker\":{\"colorbar\":{\"outlinewidth\":0.0,\"ticks\":\"\"}},\"line\":{\"colorbar\":{\"outlinewidth\":0.0,\"ticks\":\"\"}}}],\"scattercarpet\":[{\"marker\":{\"colorbar\":{\"outlinewidth\":0.0,\"ticks\":\"\"}}}],\"scattergeo\":[{\"marker\":{\"colorbar\":{\"outlinewidth\":0.0,\"ticks\":\"\"}}}],\"scattergl\":[{\"marker\":{\"colorbar\":{\"outlinewidth\":0.0,\"ticks\":\"\"}}}],\"scattermapbox\":[{\"marker\":{\"colorbar\":{\"outlinewidth\":0.0,\"ticks\":\"\"}}}],\"scatterpolar\":[{\"marker\":{\"colorbar\":{\"outlinewidth\":0.0,\"ticks\":\"\"}}}],\"scatterpolargl\":[{\"marker\":{\"colorbar\":{\"outlinewidth\":0.0,\"ticks\":\"\"}}}],\"scatterternary\":[{\"marker\":{\"colorbar\":{\"outlinewidth\":0.0,\"ticks\":\"\"}}}],\"surface\":[{\"colorbar\":{\"outlinewidth\":0.0,\"ticks\":\"\"},\"colorscale\":[[0.0,\"#0d0887\"],[0.1111111111111111,\"#46039f\"],[0.2222222222222222,\"#7201a8\"],[0.3333333333333333,\"#9c179e\"],[0.4444444444444444,\"#bd3786\"],[0.5555555555555556,\"#d8576b\"],[0.6666666666666666,\"#ed7953\"],[0.7777777777777778,\"#fb9f3a\"],[0.8888888888888888,\"#fdca26\"],[1.0,\"#f0f921\"]]}],\"table\":[{\"cells\":{\"fill\":{\"color\":\"rgba(235, 240, 248, 1.0)\"},\"line\":{\"color\":\"rgba(255, 255, 255, 1.0)\"}},\"header\":{\"fill\":{\"color\":\"rgba(200, 212, 227, 1.0)\"},\"line\":{\"color\":\"rgba(255, 255, 255, 1.0)\"}}}]}},\"xaxis\":{\"title\":{\"text\":\"Zeit\"}},\"yaxis\":{\"title\":{\"text\":\"Konzentration\"}}};\r\n",
       "            var config = {\"responsive\":true};\r\n",
       "            Plotly.newPlot('f91c67d7-d5ae-4e89-b705-c0cc85dd95fe', data, layout, config);\r\n",
       "});\r\n",
       "            };\r\n",
       "            if ((typeof(requirejs) !==  typeof(Function)) || (typeof(requirejs.config) !== typeof(Function))) {\r\n",
       "                var script = document.createElement(\"script\");\r\n",
       "                script.setAttribute(\"src\", \"https://cdnjs.cloudflare.com/ajax/libs/require.js/2.3.6/require.min.js\");\r\n",
       "                script.onload = function(){\r\n",
       "                    renderPlotly_f91c67d7d5ae4e89b705c0cc85dd95fe();\r\n",
       "                };\r\n",
       "                document.getElementsByTagName(\"head\")[0].appendChild(script);\r\n",
       "            }\r\n",
       "            else {\r\n",
       "                renderPlotly_f91c67d7d5ae4e89b705c0cc85dd95fe();\r\n",
       "            }\r\n",
       "</script>\r\n",
       "\n",
       "    \n",
       "</div>    \n"
      ]
     },
     "metadata": {},
     "output_type": "display_data"
    }
   ],
   "source": [
    "//Konstanten\n",
    "let alpha1 =  0.5  // Konstante für die Zunahme der Lactosekonzentration (unreguliert)\n",
    "let beta1  =  10.0 // Konstante für die Zunahme der Lactosekonzentration (reguliert)\n",
    "let gamma1 =  1.0  // Konstante für die Verringerung der Lactosekonzentration\n",
    "let alpha2 =  0.5  // Konstante für die Zunahme der beta-Galactosid-Permease Konzentration (unreguliert)\n",
    "let beta2  =  10.0 // Konstante für die Zunahme der beta-Galactosid-Permease Konzentration (reguliert)\n",
    "let gamma2 =  0.5  // Konstante für die Verringerung der beta-Galactosid-Permease Konzentration\n",
    "let K_d1   =  5.0  // Dissoziationskonstante1\n",
    "let K_d2   =  5.0  // Dissoziationskonstante1\n",
    "let n1     =  3.0  // Hill Koeffizent für die Regulation der Lactosekonzentration\n",
    "let n2     =  3.0  // Hill Koeffizent für die Regulation der beta-Galactosid Permease Konzentration\n",
    "\n",
    "// unsere DGL als  Modell (Model)\n",
    "let dP_dt : Model = \n",
    "    fun P t ->\n",
    "\n",
    "        let inlac = P[0] // Änderung in der Lactosekonzentration\n",
    "        let perm  = P[1] // Änderung der beta-Galactosid Permease Konzentration\n",
    "\n",
    "        //Differenzialgleichung die die Änderung in der Lactosekonzentration beschreibt (hier die Gleichung einsetzen)\n",
    "        let inlac' = alpha1 + beta1 * (perm**n1)/((perm**n1) + (K_d**n1)) - (gamma1*inlac)\n",
    "        //Differenzialgleichung die die Änderung in der beta-Galactosid Permease Konzentration beschreibt (hier die Gleichung einsetzen)\n",
    "        let perm' = alpha2 + beta2* (inlac**n2)/((inlac**n2) + (K_d2**n2)) - (gamma2*perm)\n",
    "\n",
    "        [| inlac'; perm' |]\n",
    "\n",
    "//Startkonzentrationen\n",
    "let P0 = [| \n",
    "    0.0\n",
    "    0.0\n",
    "|]\n",
    "\n",
    "// Simulation der Modelfuntkion\n",
    "let Ps = \n",
    "    modelContext.OdeInt(\n",
    "        0., // Startzeitpunkt\n",
    "        P0,\n",
    "        dP_dt\n",
    "    )\n",
    "    |> SolPoints.take 15 // Anzahl der Zeitpunkte\n",
    "    |> SolPoints.memorize \n",
    "\n",
    "//Graphische Darstellung der numerischen Lösung\n",
    "[\n",
    "    let lactose = SolPoints.toPoints 1 Ps\n",
    "    lactose \n",
    "    |> Chart.Spline \n",
    "    |> Chart.withTraceInfo(\"Lactose\");\n",
    "    let permease = SolPoints.toPoints 2 Ps\n",
    "    permease \n",
    "    |> Chart.Spline \n",
    "    |> Chart.withTraceInfo(\"Permease\");\n",
    "\n",
    "]\n",
    "\n",
    "|> Chart.combine\n",
    "|> Chart.withXAxisStyle(\"Zeit\")\n",
    "|> Chart.withYAxisStyle(\"Konzentration\")"
   ]
  },
  {
   "cell_type": "markdown",
   "metadata": {},
   "source": [
    "------------------\n",
    "\n",
    "### Osszillation/Hopf Bifukration folgt"
   ]
  },
  {
   "cell_type": "markdown",
   "metadata": {},
   "source": [
    "### Eine einfache biologische Uhr\n",
    "\n",
    "Wir als lebende Organismen werden von vielen verschiedenen Uhren kontrolliert. Die uns bekannteste ist der zirkadiane Rhythmus. Dieser beschreibt die Fähigkeit physiologische Vorgänge, Schlafen, Nahrungsaufnahme, AKtivitäten, etc., auf eine periodenlänge von circa 24 Stunden zu synchronisieren. Wir nennen den zirkadianen Rhythmus auch umgangssprachlicher unseren Tagesrhythmus. <br>\n",
    "Der Tagesrhythmus spiegelt direkt eine der wichtigsten Eigenschaften von biologischen Uhren wieder. Sie können sich von Störungen erholen. Eine Nacht nicht zu schlafen, oder einen Tag nichts zu essen, führt im Normalfall nicht dazu das sich unser Tagesrhythmus ändert. Nach ein bis zwei Tagen ist alles wieder so wie davor. Nur das konstante Verändern der Lebenumstände, also zum Beispiel immer Nachts zu arbeiten, führt dazu, dass sich unser Tagesrhythmus umstellt. <br>\n",
    "Periodische Zyklen , auch Oszillationen genannt, die auch bei kleinen Störrungen wieder in ihren ursprunglichen Zyklus zurückkehren, werden Grenzzyklus, oder Limit Cycle, genannt.\n",
    "\n",
    "<center>\n",
    "<img src=\"https://raw.githubusercontent.com/CSBiology/BIO-MBP-06-U-2/main/images/day4/Limit%20Cycle.png\" width=50% />\n",
    "</center>\n"
   ]
  },
  {
   "cell_type": "markdown",
   "metadata": {},
   "source": [
    "\n",
    "Das Nachbilden eines so komplexen Rhythmus wie dem zirkadianen Rhythmus ist für dieses Praktikum leider zu zeitaufwändig. Stattdessen wird im folgenden eine einfache biologische Uhr aus Proteinen gebaut. <br>\n",
    "Das bauen einer einfachen biologischen Uhr mit den bereits gelernten Bausteinen, also eine Uhr die auf einem System von Genen und Proteinen beruht, muss auf der Idee basieren, dass die einzelnen Bausteine einen Grenzzyklus formen, da es ansonsten nicht zur Oszillation kommt. Weiterhin sollte diese einfache Uhr die Fähigkeit haben bei vielen verschiedenen biologischen Parametern zu oszillieren. Dies ist nötig, da es sehr schwierig ist, die biologischen Parameter in der Zelle zu kontrollieren. <br>\n",
    "Ein mögliches Desgin bei diesen Vorgaben ist ein \"Stein-Schere-Papier\" Feedback loop. Das heißt drei Proteine die in einem Kreis angeordnet sind und sich gegenseitig inhibieren. \n",
    "\n",
    "<center>\n",
    "<img src=\"https://raw.githubusercontent.com/CSBiology/BIO-MBP-06-U-2/main/images/day4/Repressilator.png\" width=30% />\n",
    "</center>"
   ]
  },
  {
   "cell_type": "markdown",
   "metadata": {},
   "source": [
    "Zum Verständnis gehen wir einmal durch das Schaubild durch, wobei wir mit der Annahme starten, dass das Protein x1 eine gewisse Startkonzentration hat und die beiden anderen Proteine, x2 und x3, eine Startkonzentration von 0 haben. <br>\n",
    "Das Protein x1 reguliert die Produktion von x2 herunter, somit wird nahezu kein x2 gebildet. Die Produktion vom Protein x3 wird nicht reguliert, da das Protein x2 nicht vorhanden ist. Somit kann über die Zeit mehr und mehr x3 gebildet werden. Gleichzeitig wird auch mehr x1 gebildet, wobei die Zunahme mit der Zeit immer kleiner wird, da x3 die Produkion herunterreguliert. Sobald eine bestimmte Konzentration von x3 überschritten wird, verringert sich die Konzentration von x1, da jetzt die Produktion so weit herunterreguliert wurde, dass diese geringer ist als die Verringerung der Proteinkonzentration. Das heißt umso mehr Zeit vergeht, umso geringer wird die Konzentration von x1, während die Konzentration von x3 weiter steigt. Da sich die Konzentration von x1 verringert, wird auch die reguliation der Produktion von x2 immer schwächer, bis die regulation so schwach ist, dass x2 produziert wird. An diesem Punkt würde der Zyklus wieder von vorne beginnen, nur das jetzt x3 die Rolle von x1 einnimmt. <br>\n",
    "Dieses Design wird allgemein auch Repressilator genannt.<br> \n"
   ]
  },
  {
   "cell_type": "markdown",
   "metadata": {},
   "source": [
    "\n",
    "Das heißt die Differenzialgleichungen, welche die Proteinkonzentrationen der einzelnen Proteine beschreiben, müssen miteinander verknüpft sein. Daher können die Differenzialgleichungen beschrieben werden als\n",
    "$$Proteinkonzentration_{x1}' = \\textrm {Zunahme der Proteinkonzentration * Regulation durch x3} - \\textrm {Verringerung der Proteinkonzentration}$$\n",
    "$$Proteinkonzentration_{x2}' = \\textrm {Zunahme der Proteinkonzentration * Regulation durch x1} - \\textrm {Verringerung der Proteinkonzentration}$$\n",
    "$$Proteinkonzentration_{x3}' = \\textrm {Zunahme der Proteinkonzentration * Regulation durch x2} - \\textrm {Verringerung der Proteinkonzentration}$$\n",
    "\n",
    "Die Proteinproduktion $\\beta$ wird reguliert durch den Repressor $x_{i-1}$, wobei $x_{i}$ das aktuelle Protein repäsentiert und $x_{i-1}$ das vorhergehende . Die Regulierung selbst wird beschrieben durch eine Hillfunktion für einen Repressor, da wir noch nicht wissen ob das Verhalten ultrasensitiv oder linear sein muss, um die Oszillation zu erhalten. Die Verringerung wird wieder beschrieben wie bisher durch den Faktor $\\gamma$ in Abhängigkeit von der Proteinkonzentration $x_{i}$. \n",
    "\n",
    "##### Aufgabe 4.13\n",
    "***Stellen Sie die Differenzialgleichungen für die drei Proteine auf. Alle Proteine sollen das selbe $\\beta$, $\\gamma$, und $K_{D}$ haben.***"
   ]
  },
  {
   "cell_type": "markdown",
   "metadata": {},
   "source": [
    "Hier die Gleichungen einfügen."
   ]
  },
  {
   "cell_type": "markdown",
   "metadata": {},
   "source": [
    "### temporärer Block folgt (Abhängig von Besprechung über Aufbau des Notebooks)\n",
    "\n",
    "Es folgt eine kurze Besprechung.\n",
    "\n",
    "----------\n",
    "\n",
    "### Ende temporärer Block\n"
   ]
  },
  {
   "cell_type": "markdown",
   "metadata": {},
   "source": [
    "----------------------\n",
    "\n",
    "Wir werden jetzt dazu übergehen den Grenzzyklus graphisch darzustellen. Hierbei gibt es zwei mögliche Darstellungen. Die erste ist die bereits bekannte Darstellung mit der Proteinkonzentration auf der Y-Achse und der Zeit auf der X-Achse. Die alternative ist den Verlauf der Proteinkonzentration in einem 3D- Schaubild darzustellen, wobei die drei Achsen die drei Proteinkonzentration sind. Der Verlauf der Zeit ist in dieser Darstellung durch den Verlauf der Kurve zu erkennen. Beide Darstellungen können genutzt werden um die nachfolgenden Aufgaben zu bearbeiten. Sie können selbst auswählen welche der Darstellungen Sie bevorzugen.\n",
    "\n",
    "##### Aufgabe 4.15\n",
    "***Fügen Sie die drei Differenzialgleichungen die die Proteinkonzentration von x1, x2, und x3 beschreiben in den nachfolgenden Code Block ein (beachten Sie das übliche).***"
   ]
  },
  {
   "cell_type": "code",
   "execution_count": null,
   "metadata": {
    "dotnet_interactive": {
     "language": "fsharp"
    },
    "vscode": {
     "languageId": "dotnet-interactive.fsharp"
    }
   },
   "outputs": [
    {
     "data": {
      "text/html": [
       "\n",
       "<div>\n",
       "    <div id=\"2bcb806c-3cca-4065-bc48-d0f7d2869817\"><!-- Plotly chart will be drawn inside this DIV --></div>\r\n",
       "<script type=\"text/javascript\">\r\n",
       "\r\n",
       "            var renderPlotly_2bcb806c3cca4065bc48d0f7d2869817 = function() {\r\n",
       "            var fsharpPlotlyRequire = requirejs.config({context:'fsharp-plotly',paths:{plotly:'https://cdn.plot.ly/plotly-2.6.3.min'}}) || require;\r\n",
       "            fsharpPlotlyRequire(['plotly'], function(Plotly) {\r\n",
       "\r\n",
       "            var data = [{\"type\":\"scatter\",\"mode\":\"lines\",\"x\":[0.0,0.1971861333671186,0.35420663868132435,0.49981152932609146,0.654725900882583,0.8413634798910722,1.0684648902489875,1.3412636991783697,1.6666720427801622,2.0556708095827982,2.5220232052384484,3.061154071628584,3.6307385340839113,4.207888359107802,4.7838710489723,5.355251729533617,5.9207521936866385,6.479684853242126,7.032002898885754,7.577710704111692,8.116801880464187,8.64960455528168,9.176068867356584,9.69619285637591,10.210419371210147,10.71754990875884,11.219381242469987,11.713267656712262,12.203092071431923,12.685510041844845,13.165364138116725,13.640026607952793,14.110210082236597,14.57689370636274,15.035850674454322,15.493025714836156,15.944527913529274,16.39327787536433,16.839623980797413,17.278609229919162,17.717027736118578,18.15158843627071,18.581905463022125,19.011514473142697,19.43515845494813,19.85778116859122,20.279677088205638,20.694885703809675,21.11042151391668,21.525143718716485,21.933699475695338,22.342990536526163,22.751315376274913,23.15430863679759,23.558364527525836,23.9615020959596,24.35972301629674,24.759226741989632,25.158290804527006,25.552396800064894,25.947850406658844,26.343779799293547,26.734387396887854,27.126154729509167,27.519608482371627,27.907434661498556,28.295936171262476,28.687239015127886,29.073149568786178,29.458887494289012,29.84806374754535,30.233046928731206,30.616453152898963,31.003282879062837,31.38840416202399,31.770079362842605,32.15420729884216,32.53969250018335,32.92007047830801,33.30140284009572,33.68656143845543,34.06646100271682,34.4457100938079,34.82955335362984,35.210297970384445,35.58837442479348,35.96997555042014,36.35239221750446,36.73001111163157,37.1089063919844,37.49192598276428,37.86962516054802,38.24645646574109,38.628393488806665,39.00755549774847,39.383670823073416,39.763327763875616,40.1446998580917,40.52091656423016,40.89784948034406,41.2796910280209,41.65660769371819,42.031922897178035,42.41239011621187,42.79157909089436,43.166806920770505,43.54466836002509,43.925901499182594,44.30152457001102,44.67671115421137,45.057458651901165,45.43449117019015,45.80891155722403,46.18776498386424,46.56771826377501,46.942706063614516,47.31879686355621,47.699840408074756,48.075762265810134,48.450067316997135,48.82985846052014,49.208223765798564,49.58259995341233,49.959759626774826,50.3404457000219,50.715489942011416,51.08995032448456,51.47017030401106,51.84686756862971,52.22072097645436,52.59894292806136,52.97870983713817,53.353335998089065,53.7287589082623,54.10944552938478,54.4852213383709,54.85906616104698,55.23832209664528,55.616823528584625,55.99100059585969,56.36750977351686,56.74812461742792,57.12316361807368,57.49721895267074,57.87712226380657,58.254167381119835,58.6279096837171,59.00552593775206,59.38552304425573,59.760121898720406],\"y\":[0.0,0.7439126026230873,0.9924106211795813,1.115692467869219,1.2011689557405016,1.2763281724538003,1.3492112742445568,1.42049910364296,1.4781104591949121,1.4920016468991029,1.4300385953167165,1.3166093937987495,1.2572320478440802,1.3265498952463068,1.472686199264909,1.5353328005584705,1.4375175983530104,1.2855100105649535,1.2213976328510705,1.3110978827172615,1.4925810811678772,1.5896733487613046,1.4977526978115225,1.3125100581713747,1.1871031969051922,1.2155210030692971,1.3992411072192412,1.6050356197326585,1.6462686420511117,1.4881005172904387,1.2710502549143843,1.1369051214906554,1.1662884123775437,1.3693634889247746,1.628296704639554,1.7429202729684532,1.616692921942676,1.3670278485081462,1.1525118739893014,1.07086198497135,1.1738655660790651,1.4445106277356337,1.7361169165925667,1.8394227760551636,1.6788300884086915,1.3946461592041035,1.1453446403981966,1.021020592382001,1.074743133524634,1.3254867657877565,1.6750970960375846,1.922695429796265,1.8884505829470946,1.6211555498891013,1.305661523928832,1.0665631230062038,0.9672393871536653,1.0551453718624295,1.3453265435459127,1.732431914289233,2.011622479371701,1.9916792388847298,1.7111836400519262,1.3670314477952026,1.0895163384104265,0.9413737745245288,0.9657835224697023,1.2028633742071646,1.5987723708221977,1.9805211518681085,2.1241676247236616,1.933996590702404,1.5772483671133655,1.235133800279403,0.9951547233302689,0.8995623298895067,0.9939717701746406,1.3046668623007482,1.7385463125545548,2.098284731916114,2.1654892214365296,1.9061037751552041,1.526146426529333,1.1865118548944262,0.9594399683034557,0.8809360530224283,0.9980142287959232,1.3328036387333602,1.782243242170626,2.144108452052851,2.2001001955610495,1.9251674161407413,1.5349170036584339,1.1883432935170235,0.9550578886079114,0.8690663762143157,0.976543625970802,1.3056916411448143,1.761321723583229,2.145363245968511,2.235015901379401,1.9770354218544415,1.5824493070776475,1.2225076335523148,0.9714181689100456,0.8636303420075778,0.9422916145956343,1.2457464587379108,1.6982531197325175,2.112152915533146,2.261803162663365,2.0463892678972355,1.6548452409084988,1.2793443569423606,1.0042084928157267,0.8671774440403378,0.9067805799066281,1.1698956220526848,1.6082905145024609,2.050340589807583,2.2711925174685543,2.1194734542505977,1.7410528208931018,1.3513136990510701,1.050048776600535,0.8811100248124819,0.878148334655391,1.091887725238105,1.5043329269682602,1.9659074806157468,2.257393940912355,2.1871097132050377,1.8359597807615282,1.4357628449115518,1.1083312289386167,0.906137724345736,0.8599437331363453,1.0198345056393712,1.3961447429083271,1.8659146093137933,2.2192128807408427,2.2403912963972497,1.9328925424046728,1.528402161388807,1.1767820859235225,0.9415768472410375,0.8536636948903316,0.9588136474008321,1.2893813575324506,1.7542696123380441],\"marker\":{},\"line\":{\"shape\":\"spline\"},\"name\":\"x1\"},{\"type\":\"scatter\",\"mode\":\"lines\",\"x\":[0.0,0.1971861333671186,0.35420663868132435,0.49981152932609146,0.654725900882583,0.8413634798910722,1.0684648902489875,1.3412636991783697,1.6666720427801622,2.0556708095827982,2.5220232052384484,3.061154071628584,3.6307385340839113,4.207888359107802,4.7838710489723,5.355251729533617,5.9207521936866385,6.479684853242126,7.032002898885754,7.577710704111692,8.116801880464187,8.64960455528168,9.176068867356584,9.69619285637591,10.210419371210147,10.71754990875884,11.219381242469987,11.713267656712262,12.203092071431923,12.685510041844845,13.165364138116725,13.640026607952793,14.110210082236597,14.57689370636274,15.035850674454322,15.493025714836156,15.944527913529274,16.39327787536433,16.839623980797413,17.278609229919162,17.717027736118578,18.15158843627071,18.581905463022125,19.011514473142697,19.43515845494813,19.85778116859122,20.279677088205638,20.694885703809675,21.11042151391668,21.525143718716485,21.933699475695338,22.342990536526163,22.751315376274913,23.15430863679759,23.558364527525836,23.9615020959596,24.35972301629674,24.759226741989632,25.158290804527006,25.552396800064894,25.947850406658844,26.343779799293547,26.734387396887854,27.126154729509167,27.519608482371627,27.907434661498556,28.295936171262476,28.687239015127886,29.073149568786178,29.458887494289012,29.84806374754535,30.233046928731206,30.616453152898963,31.003282879062837,31.38840416202399,31.770079362842605,32.15420729884216,32.53969250018335,32.92007047830801,33.30140284009572,33.68656143845543,34.06646100271682,34.4457100938079,34.82955335362984,35.210297970384445,35.58837442479348,35.96997555042014,36.35239221750446,36.73001111163157,37.1089063919844,37.49192598276428,37.86962516054802,38.24645646574109,38.628393488806665,39.00755549774847,39.383670823073416,39.763327763875616,40.1446998580917,40.52091656423016,40.89784948034406,41.2796910280209,41.65660769371819,42.031922897178035,42.41239011621187,42.79157909089436,43.166806920770505,43.54466836002509,43.925901499182594,44.30152457001102,44.67671115421137,45.057458651901165,45.43449117019015,45.80891155722403,46.18776498386424,46.56771826377501,46.942706063614516,47.31879686355621,47.699840408074756,48.075762265810134,48.450067316997135,48.82985846052014,49.208223765798564,49.58259995341233,49.959759626774826,50.3404457000219,50.715489942011416,51.08995032448456,51.47017030401106,51.84686756862971,52.22072097645436,52.59894292806136,52.97870983713817,53.353335998089065,53.7287589082623,54.10944552938478,54.4852213383709,54.85906616104698,55.23832209664528,55.616823528584625,55.99100059585969,56.36750977351686,56.74812461742792,57.12316361807368,57.49721895267074,57.87712226380657,58.254167381119835,58.6279096837171,59.00552593775206,59.38552304425573,59.760121898720406],\"y\":[0.0,0.7953034979292452,1.108485391981163,1.2675772432776946,1.3651334985760186,1.4250228326393193,1.4458028317829514,1.4257611637304974,1.370851111246558,1.302561089530612,1.2673804049612871,1.3256077671771778,1.4569278937663617,1.5215795735072055,1.4358301376177987,1.2933864538678028,1.2345856864676936,1.3239629154855739,1.4936724546375304,1.5696448962746954,1.466622596862753,1.2920953156039177,1.1944024829364546,1.255490930234468,1.4494938875187722,1.6163116641489146,1.5928036800669803,1.4080463945858552,1.217445583876108,1.1440225098838261,1.2452951054529717,1.4821835109030543,1.6854847148396161,1.6775759852113563,1.4762482391864025,1.2410495953777139,1.1013893976861184,1.1289311035179856,1.3407595963681718,1.6328104955328178,1.8040957703180538,1.7161723228951504,1.4583794239965935,1.1998693335042394,1.0495484463789875,1.0679244973303497,1.283313360061697,1.6161976705004992,1.8756365832929456,1.8710906480235923,1.625600989740297,1.3182387010171674,1.0810419724260003,0.9825913054650961,1.0710422596235645,1.3580304011900481,1.7335932742911506,1.9906291459520926,1.9486890506830246,1.6641045302194033,1.3299922473096508,1.0699847061261547,0.9446184951064758,0.9991459700176419,1.2649588832645888,1.6650482821539154,2.011181160329655,2.0862372325961633,1.8495621333001007,1.491184595754377,1.1709143035713745,0.9643212182423195,0.9115640199929753,1.0606883806944338,1.4135311395569636,1.843808813907676,2.1376463741345018,2.1014829194497975,1.7881940879912375,1.4130778359250566,1.1048306661460467,0.9216256235138652,0.8997701219279978,1.0882360763372037,1.4744994518638956,1.916280711021674,2.1946399554316467,2.1245869865195393,1.7870099544541271,1.4027574866223418,1.0920691091256054,0.9083018024802725,0.8858233363307694,1.0745098777190734,1.4655038339285007,1.9186196741223156,2.2164474711794933,2.1644637856578814,1.8285267328326678,1.4357339685633335,1.112225025827812,0.9130674703542428,0.8706215417629191,1.0348239751578332,1.411480226226355,1.8739811351213616,2.210427528122143,2.2105329435928467,1.896057186992234,1.4968874435766522,1.1553319844063457,0.932549198636708,0.8598820351985713,0.9850394083698183,1.3320297973926594,1.796759140074351,2.1770361894852233,2.2507850905227196,1.9774441824117592,1.5766279261059057,1.215311774192165,0.96469387637857,0.8577707076961594,0.9376160291719939,1.2433747882900548,1.6996019375126603,2.1186501924252314,2.2746846325415535,2.0618326124682715,1.6681013282023271,1.288682680596358,1.0087317686201085,0.8661109553512433,0.8982501739168983,1.153467940799299,1.5894513453807375,2.0382678940296888,2.275946024734243,2.1403962126525395,1.765300340679215,1.3714682364209856,1.0629623778637993,0.8852257781902688,0.8707659973031007,1.0706924719960107,1.4752053281957291,1.9413019523145416,2.2519813675123497,2.206841529755347,1.865660105538799],\"marker\":{},\"line\":{\"shape\":\"spline\"},\"name\":\"x2\"},{\"type\":\"scatter\",\"mode\":\"lines\",\"x\":[0.0,0.1971861333671186,0.35420663868132435,0.49981152932609146,0.654725900882583,0.8413634798910722,1.0684648902489875,1.3412636991783697,1.6666720427801622,2.0556708095827982,2.5220232052384484,3.061154071628584,3.6307385340839113,4.207888359107802,4.7838710489723,5.355251729533617,5.9207521936866385,6.479684853242126,7.032002898885754,7.577710704111692,8.116801880464187,8.64960455528168,9.176068867356584,9.69619285637591,10.210419371210147,10.71754990875884,11.219381242469987,11.713267656712262,12.203092071431923,12.685510041844845,13.165364138116725,13.640026607952793,14.110210082236597,14.57689370636274,15.035850674454322,15.493025714836156,15.944527913529274,16.39327787536433,16.839623980797413,17.278609229919162,17.717027736118578,18.15158843627071,18.581905463022125,19.011514473142697,19.43515845494813,19.85778116859122,20.279677088205638,20.694885703809675,21.11042151391668,21.525143718716485,21.933699475695338,22.342990536526163,22.751315376274913,23.15430863679759,23.558364527525836,23.9615020959596,24.35972301629674,24.759226741989632,25.158290804527006,25.552396800064894,25.947850406658844,26.343779799293547,26.734387396887854,27.126154729509167,27.519608482371627,27.907434661498556,28.295936171262476,28.687239015127886,29.073149568786178,29.458887494289012,29.84806374754535,30.233046928731206,30.616453152898963,31.003282879062837,31.38840416202399,31.770079362842605,32.15420729884216,32.53969250018335,32.92007047830801,33.30140284009572,33.68656143845543,34.06646100271682,34.4457100938079,34.82955335362984,35.210297970384445,35.58837442479348,35.96997555042014,36.35239221750446,36.73001111163157,37.1089063919844,37.49192598276428,37.86962516054802,38.24645646574109,38.628393488806665,39.00755549774847,39.383670823073416,39.763327763875616,40.1446998580917,40.52091656423016,40.89784948034406,41.2796910280209,41.65660769371819,42.031922897178035,42.41239011621187,42.79157909089436,43.166806920770505,43.54466836002509,43.925901499182594,44.30152457001102,44.67671115421137,45.057458651901165,45.43449117019015,45.80891155722403,46.18776498386424,46.56771826377501,46.942706063614516,47.31879686355621,47.699840408074756,48.075762265810134,48.450067316997135,48.82985846052014,49.208223765798564,49.58259995341233,49.959759626774826,50.3404457000219,50.715489942011416,51.08995032448456,51.47017030401106,51.84686756862971,52.22072097645436,52.59894292806136,52.97870983713817,53.353335998089065,53.7287589082623,54.10944552938478,54.4852213383709,54.85906616104698,55.23832209664528,55.616823528584625,55.99100059585969,56.36750977351686,56.74812461742792,57.12316361807368,57.49721895267074,57.87712226380657,58.254167381119835,58.6279096837171,59.00552593775206,59.38552304425573,59.760121898720406],\"y\":[0.1,0.865675263503158,1.119908987261577,1.2182715380167946,1.2603326552113798,1.2731775119656177,1.269564367960622,1.2667371326414074,1.2869422609858905,1.3507444941294156,1.4513568927618818,1.5085934578506361,1.4377617313784674,1.3055497774771907,1.2463229753588327,1.3281655762054538,1.4861096820120452,1.5511514774147688,1.447008518261904,1.2842300677361302,1.207260181345682,1.28820349426067,1.4792878038508754,1.607576132675714,1.5405964877987,1.3497542264046407,1.1919666634411594,1.1746398853090998,1.3283532726317289,1.5620154435972469,1.684428814401216,1.5828863858198627,1.3569668956994179,1.165450208505082,1.1110668555952585,1.2401179011270516,1.5063284712415461,1.7370772494616007,1.744726211092397,1.5359698820540812,1.273438346553796,1.0910611734814586,1.0634927805879006,1.2298101638013972,1.538407654258636,1.8153346936640602,1.8575416851827102,1.64608272875866,1.3477709974724696,1.1066848927216828,0.9999488678868202,1.0771231527656664,1.3511627623920983,1.7142598629902452,1.960552856883573,1.9138903894283044,1.6339248222356204,1.3096043024427797,1.0627204655132505,0.9540573596926419,1.0302902284868767,1.3136523632459585,1.709799151829755,2.0200338238678004,2.0394486336537456,1.773856556392163,1.4208449457349939,1.1227245837640643,0.947085871764903,0.9350051339957568,1.1326406541570424,1.5134483381133434,1.9249060821837907,2.1441644164933917,2.0207697307815735,1.6770743444593437,1.3157693674501685,1.0413768683061095,0.9021137964988599,0.9386071505849399,1.1933858240806392,1.61289337283487,2.023652432606679,2.200120506295895,2.0221558488538207,1.6522015559285421,1.286175975112343,1.0159930542503126,0.8835865363572317,0.9293311407390862,1.1964126882897217,1.6284910546184488,2.049690665029511,2.2342460771774113,2.055998869904435,1.6787575825475125,1.3035846410678251,1.022985916012819,0.8784716765886049,0.9080481997840364,1.1587849845846776,1.5876651361500318,2.027127473622615,2.252648292743332,2.1100573868879002,1.7380321007425275,1.3514548893210079,1.0520727195272135,0.8848225306795368,0.8840634844574276,1.0999900307708355,1.5119958575865826,1.9689186940009265,2.2506897395107437,2.1705143649652294,1.8175358481261015,1.4206598271260529,1.0986294594397104,0.9029433818889204,0.8651066804459095,1.035555353673766,1.4188621703354798,1.8861397454678757,2.2250510309008673,2.224459123026582,1.9064869417749475,1.5037407995373102,1.1588111421289045,0.9325126938865387,0.8555565240229768,0.9751616852959003,1.3183410374869176,1.7849282178064352,2.174616052415088,2.263761437630464,1.9989748396133704,1.5969737891484448,1.230396120157728,0.9725928418835761,0.8570163748340099,0.9253205338356365,1.2198227796230874,1.6732734408184866,2.102368885168011,2.281150364337115,2.0869192214954597,1.69595058838788,1.3113604009814277,1.0227461698722444,0.8696781327745251],\"marker\":{},\"line\":{\"shape\":\"spline\"},\"name\":\"x3\"}];\r\n",
       "            var layout = {\"width\":1100,\"height\":600,\"template\":{\"layout\":{\"title\":{\"x\":0.05},\"font\":{\"color\":\"rgba(42, 63, 95, 1.0)\"},\"paper_bgcolor\":\"rgba(255, 255, 255, 1.0)\",\"plot_bgcolor\":\"rgba(229, 236, 246, 1.0)\",\"autotypenumbers\":\"strict\",\"colorscale\":{\"diverging\":[[0.0,\"#8e0152\"],[0.1,\"#c51b7d\"],[0.2,\"#de77ae\"],[0.3,\"#f1b6da\"],[0.4,\"#fde0ef\"],[0.5,\"#f7f7f7\"],[0.6,\"#e6f5d0\"],[0.7,\"#b8e186\"],[0.8,\"#7fbc41\"],[0.9,\"#4d9221\"],[1.0,\"#276419\"]],\"sequential\":[[0.0,\"#0d0887\"],[0.1111111111111111,\"#46039f\"],[0.2222222222222222,\"#7201a8\"],[0.3333333333333333,\"#9c179e\"],[0.4444444444444444,\"#bd3786\"],[0.5555555555555556,\"#d8576b\"],[0.6666666666666666,\"#ed7953\"],[0.7777777777777778,\"#fb9f3a\"],[0.8888888888888888,\"#fdca26\"],[1.0,\"#f0f921\"]],\"sequentialminus\":[[0.0,\"#0d0887\"],[0.1111111111111111,\"#46039f\"],[0.2222222222222222,\"#7201a8\"],[0.3333333333333333,\"#9c179e\"],[0.4444444444444444,\"#bd3786\"],[0.5555555555555556,\"#d8576b\"],[0.6666666666666666,\"#ed7953\"],[0.7777777777777778,\"#fb9f3a\"],[0.8888888888888888,\"#fdca26\"],[1.0,\"#f0f921\"]]},\"hovermode\":\"closest\",\"hoverlabel\":{\"align\":\"left\"},\"coloraxis\":{\"colorbar\":{\"outlinewidth\":0.0,\"ticks\":\"\"}},\"geo\":{\"showland\":true,\"landcolor\":\"rgba(229, 236, 246, 1.0)\",\"showlakes\":true,\"lakecolor\":\"rgba(255, 255, 255, 1.0)\",\"subunitcolor\":\"rgba(255, 255, 255, 1.0)\",\"bgcolor\":\"rgba(255, 255, 255, 1.0)\"},\"mapbox\":{\"style\":\"light\"},\"polar\":{\"bgcolor\":\"rgba(229, 236, 246, 1.0)\",\"radialaxis\":{\"linecolor\":\"rgba(255, 255, 255, 1.0)\",\"gridcolor\":\"rgba(255, 255, 255, 1.0)\",\"ticks\":\"\"},\"angularaxis\":{\"linecolor\":\"rgba(255, 255, 255, 1.0)\",\"gridcolor\":\"rgba(255, 255, 255, 1.0)\",\"ticks\":\"\"}},\"scene\":{\"xaxis\":{\"ticks\":\"\",\"linecolor\":\"rgba(255, 255, 255, 1.0)\",\"gridcolor\":\"rgba(255, 255, 255, 1.0)\",\"gridwidth\":2.0,\"zerolinecolor\":\"rgba(255, 255, 255, 1.0)\",\"backgroundcolor\":\"rgba(229, 236, 246, 1.0)\",\"showbackground\":true},\"yaxis\":{\"ticks\":\"\",\"linecolor\":\"rgba(255, 255, 255, 1.0)\",\"gridcolor\":\"rgba(255, 255, 255, 1.0)\",\"gridwidth\":2.0,\"zerolinecolor\":\"rgba(255, 255, 255, 1.0)\",\"backgroundcolor\":\"rgba(229, 236, 246, 1.0)\",\"showbackground\":true},\"zaxis\":{\"ticks\":\"\",\"linecolor\":\"rgba(255, 255, 255, 1.0)\",\"gridcolor\":\"rgba(255, 255, 255, 1.0)\",\"gridwidth\":2.0,\"zerolinecolor\":\"rgba(255, 255, 255, 1.0)\",\"backgroundcolor\":\"rgba(229, 236, 246, 1.0)\",\"showbackground\":true}},\"ternary\":{\"aaxis\":{\"ticks\":\"\",\"linecolor\":\"rgba(255, 255, 255, 1.0)\",\"gridcolor\":\"rgba(255, 255, 255, 1.0)\"},\"baxis\":{\"ticks\":\"\",\"linecolor\":\"rgba(255, 255, 255, 1.0)\",\"gridcolor\":\"rgba(255, 255, 255, 1.0)\"},\"caxis\":{\"ticks\":\"\",\"linecolor\":\"rgba(255, 255, 255, 1.0)\",\"gridcolor\":\"rgba(255, 255, 255, 1.0)\"},\"bgcolor\":\"rgba(229, 236, 246, 1.0)\"},\"xaxis\":{\"title\":{\"standoff\":15},\"ticks\":\"\",\"automargin\":true,\"linecolor\":\"rgba(255, 255, 255, 1.0)\",\"gridcolor\":\"rgba(255, 255, 255, 1.0)\",\"zerolinecolor\":\"rgba(255, 255, 255, 1.0)\",\"zerolinewidth\":2.0},\"yaxis\":{\"title\":{\"standoff\":15},\"ticks\":\"\",\"automargin\":true,\"linecolor\":\"rgba(255, 255, 255, 1.0)\",\"gridcolor\":\"rgba(255, 255, 255, 1.0)\",\"zerolinecolor\":\"rgba(255, 255, 255, 1.0)\",\"zerolinewidth\":2.0},\"annotationdefaults\":{\"arrowcolor\":\"#2a3f5f\",\"arrowhead\":0,\"arrowwidth\":1},\"shapedefaults\":{\"line\":{\"color\":\"rgba(42, 63, 95, 1.0)\"}},\"colorway\":[\"rgba(99, 110, 250, 1.0)\",\"rgba(239, 85, 59, 1.0)\",\"rgba(0, 204, 150, 1.0)\",\"rgba(171, 99, 250, 1.0)\",\"rgba(255, 161, 90, 1.0)\",\"rgba(25, 211, 243, 1.0)\",\"rgba(255, 102, 146, 1.0)\",\"rgba(182, 232, 128, 1.0)\",\"rgba(255, 151, 255, 1.0)\",\"rgba(254, 203, 82, 1.0)\"]},\"data\":{\"bar\":[{\"marker\":{\"line\":{\"color\":\"rgba(229, 236, 246, 1.0)\",\"width\":0.5},\"pattern\":{\"fillmode\":\"overlay\",\"size\":10,\"solidity\":0.2}},\"error_x\":{\"color\":\"rgba(42, 63, 95, 1.0)\"},\"error_y\":{\"color\":\"rgba(42, 63, 95, 1.0)\"}}],\"barpolar\":[{\"marker\":{\"line\":{\"color\":\"rgba(229, 236, 246, 1.0)\",\"width\":0.5},\"pattern\":{\"fillmode\":\"overlay\",\"size\":10,\"solidity\":0.2}}}],\"carpet\":[{\"aaxis\":{\"linecolor\":\"rgba(255, 255, 255, 1.0)\",\"gridcolor\":\"rgba(255, 255, 255, 1.0)\",\"endlinecolor\":\"rgba(42, 63, 95, 1.0)\",\"minorgridcolor\":\"rgba(255, 255, 255, 1.0)\",\"startlinecolor\":\"rgba(42, 63, 95, 1.0)\"},\"baxis\":{\"linecolor\":\"rgba(255, 255, 255, 1.0)\",\"gridcolor\":\"rgba(255, 255, 255, 1.0)\",\"endlinecolor\":\"rgba(42, 63, 95, 1.0)\",\"minorgridcolor\":\"rgba(255, 255, 255, 1.0)\",\"startlinecolor\":\"rgba(42, 63, 95, 1.0)\"}}],\"choropleth\":[{\"colorbar\":{\"outlinewidth\":0.0,\"ticks\":\"\"},\"colorscale\":[[0.0,\"#0d0887\"],[0.1111111111111111,\"#46039f\"],[0.2222222222222222,\"#7201a8\"],[0.3333333333333333,\"#9c179e\"],[0.4444444444444444,\"#bd3786\"],[0.5555555555555556,\"#d8576b\"],[0.6666666666666666,\"#ed7953\"],[0.7777777777777778,\"#fb9f3a\"],[0.8888888888888888,\"#fdca26\"],[1.0,\"#f0f921\"]]}],\"contour\":[{\"colorbar\":{\"outlinewidth\":0.0,\"ticks\":\"\"},\"colorscale\":[[0.0,\"#0d0887\"],[0.1111111111111111,\"#46039f\"],[0.2222222222222222,\"#7201a8\"],[0.3333333333333333,\"#9c179e\"],[0.4444444444444444,\"#bd3786\"],[0.5555555555555556,\"#d8576b\"],[0.6666666666666666,\"#ed7953\"],[0.7777777777777778,\"#fb9f3a\"],[0.8888888888888888,\"#fdca26\"],[1.0,\"#f0f921\"]]}],\"contourcarpet\":[{\"colorbar\":{\"outlinewidth\":0.0,\"ticks\":\"\"}}],\"heatmap\":[{\"colorbar\":{\"outlinewidth\":0.0,\"ticks\":\"\"},\"colorscale\":[[0.0,\"#0d0887\"],[0.1111111111111111,\"#46039f\"],[0.2222222222222222,\"#7201a8\"],[0.3333333333333333,\"#9c179e\"],[0.4444444444444444,\"#bd3786\"],[0.5555555555555556,\"#d8576b\"],[0.6666666666666666,\"#ed7953\"],[0.7777777777777778,\"#fb9f3a\"],[0.8888888888888888,\"#fdca26\"],[1.0,\"#f0f921\"]]}],\"heatmapgl\":[{\"colorbar\":{\"outlinewidth\":0.0,\"ticks\":\"\"},\"colorscale\":[[0.0,\"#0d0887\"],[0.1111111111111111,\"#46039f\"],[0.2222222222222222,\"#7201a8\"],[0.3333333333333333,\"#9c179e\"],[0.4444444444444444,\"#bd3786\"],[0.5555555555555556,\"#d8576b\"],[0.6666666666666666,\"#ed7953\"],[0.7777777777777778,\"#fb9f3a\"],[0.8888888888888888,\"#fdca26\"],[1.0,\"#f0f921\"]]}],\"histogram\":[{\"marker\":{\"pattern\":{\"fillmode\":\"overlay\",\"size\":10,\"solidity\":0.2}}}],\"histogram2d\":[{\"colorbar\":{\"outlinewidth\":0.0,\"ticks\":\"\"},\"colorscale\":[[0.0,\"#0d0887\"],[0.1111111111111111,\"#46039f\"],[0.2222222222222222,\"#7201a8\"],[0.3333333333333333,\"#9c179e\"],[0.4444444444444444,\"#bd3786\"],[0.5555555555555556,\"#d8576b\"],[0.6666666666666666,\"#ed7953\"],[0.7777777777777778,\"#fb9f3a\"],[0.8888888888888888,\"#fdca26\"],[1.0,\"#f0f921\"]]}],\"histogram2dcontour\":[{\"colorbar\":{\"outlinewidth\":0.0,\"ticks\":\"\"},\"colorscale\":[[0.0,\"#0d0887\"],[0.1111111111111111,\"#46039f\"],[0.2222222222222222,\"#7201a8\"],[0.3333333333333333,\"#9c179e\"],[0.4444444444444444,\"#bd3786\"],[0.5555555555555556,\"#d8576b\"],[0.6666666666666666,\"#ed7953\"],[0.7777777777777778,\"#fb9f3a\"],[0.8888888888888888,\"#fdca26\"],[1.0,\"#f0f921\"]]}],\"mesh3d\":[{\"colorbar\":{\"outlinewidth\":0.0,\"ticks\":\"\"}}],\"parcoords\":[{\"line\":{\"colorbar\":{\"outlinewidth\":0.0,\"ticks\":\"\"}}}],\"pie\":[{\"automargin\":true}],\"scatter\":[{\"marker\":{\"colorbar\":{\"outlinewidth\":0.0,\"ticks\":\"\"}}}],\"scatter3d\":[{\"marker\":{\"colorbar\":{\"outlinewidth\":0.0,\"ticks\":\"\"}},\"line\":{\"colorbar\":{\"outlinewidth\":0.0,\"ticks\":\"\"}}}],\"scattercarpet\":[{\"marker\":{\"colorbar\":{\"outlinewidth\":0.0,\"ticks\":\"\"}}}],\"scattergeo\":[{\"marker\":{\"colorbar\":{\"outlinewidth\":0.0,\"ticks\":\"\"}}}],\"scattergl\":[{\"marker\":{\"colorbar\":{\"outlinewidth\":0.0,\"ticks\":\"\"}}}],\"scattermapbox\":[{\"marker\":{\"colorbar\":{\"outlinewidth\":0.0,\"ticks\":\"\"}}}],\"scatterpolar\":[{\"marker\":{\"colorbar\":{\"outlinewidth\":0.0,\"ticks\":\"\"}}}],\"scatterpolargl\":[{\"marker\":{\"colorbar\":{\"outlinewidth\":0.0,\"ticks\":\"\"}}}],\"scatterternary\":[{\"marker\":{\"colorbar\":{\"outlinewidth\":0.0,\"ticks\":\"\"}}}],\"surface\":[{\"colorbar\":{\"outlinewidth\":0.0,\"ticks\":\"\"},\"colorscale\":[[0.0,\"#0d0887\"],[0.1111111111111111,\"#46039f\"],[0.2222222222222222,\"#7201a8\"],[0.3333333333333333,\"#9c179e\"],[0.4444444444444444,\"#bd3786\"],[0.5555555555555556,\"#d8576b\"],[0.6666666666666666,\"#ed7953\"],[0.7777777777777778,\"#fb9f3a\"],[0.8888888888888888,\"#fdca26\"],[1.0,\"#f0f921\"]]}],\"table\":[{\"cells\":{\"fill\":{\"color\":\"rgba(235, 240, 248, 1.0)\"},\"line\":{\"color\":\"rgba(255, 255, 255, 1.0)\"}},\"header\":{\"fill\":{\"color\":\"rgba(200, 212, 227, 1.0)\"},\"line\":{\"color\":\"rgba(255, 255, 255, 1.0)\"}}}]}},\"xaxis\":{\"title\":{\"text\":\"Zeit\"}},\"yaxis\":{\"title\":{\"text\":\"Proteinkonzentration\"}}};\r\n",
       "            var config = {\"responsive\":true};\r\n",
       "            Plotly.newPlot('2bcb806c-3cca-4065-bc48-d0f7d2869817', data, layout, config);\r\n",
       "});\r\n",
       "            };\r\n",
       "            if ((typeof(requirejs) !==  typeof(Function)) || (typeof(requirejs.config) !== typeof(Function))) {\r\n",
       "                var script = document.createElement(\"script\");\r\n",
       "                script.setAttribute(\"src\", \"https://cdnjs.cloudflare.com/ajax/libs/require.js/2.3.6/require.min.js\");\r\n",
       "                script.onload = function(){\r\n",
       "                    renderPlotly_2bcb806c3cca4065bc48d0f7d2869817();\r\n",
       "                };\r\n",
       "                document.getElementsByTagName(\"head\")[0].appendChild(script);\r\n",
       "            }\r\n",
       "            else {\r\n",
       "                renderPlotly_2bcb806c3cca4065bc48d0f7d2869817();\r\n",
       "            }\r\n",
       "</script>\r\n",
       "\n",
       "    \n",
       "</div>    \n"
      ]
     },
     "metadata": {},
     "output_type": "display_data"
    }
   ],
   "source": [
    "//Konstanten\n",
    "let beta  = 5. // Konstante für die Zunahme der Proteinkonzentration\n",
    "let gamma = 1. // Konstante für die Abnahme der Proteinkonzentration \n",
    "let K_d   = 1. // Dissoziationskonstante\n",
    "let n     = 3. // Hillkonstante\n",
    "\n",
    "// Define a function which calculates the derivative\n",
    "let dP_dt : Model = \n",
    "    fun P t ->\n",
    "        let x1 = P[0] //Änderung der Proteinkonzentration von x1\n",
    "        let x2 = P[1] //Änderung der Proteinkonzentration von x2\n",
    "        let x3 = P[2] //Änderung der Proteinkonzentration von x3\n",
    "\n",
    "        //Differenzialgleichung die die Änderung der Proteinkonzentration von x1 beschreibt (hier die Gleichung einsetzen)\n",
    "        let x1' = beta / (1. + (x3/K_d) ** n) - gamma * x1\n",
    "        //Differenzialgleichung die die Änderung der Proteinkonzentration von x2 beschreibt (hier die Gleichung einsetzen)\n",
    "        let x2' = beta / (1. + (x1/K_d) ** n) - gamma * x2\n",
    "        //Differenzialgleichung die die Änderung der Proteinkonzentration von x3 beschreibt (hier die Gleichung einsetzen)\n",
    "        let x3' = beta / (1. + (x2/K_d) ** n) - gamma * x3\n",
    "\n",
    "        [|x1'; x2'; x3'|]\n",
    "\n",
    "//Startkonzentrationen\n",
    "let P0 = [|0.; 0.; 0.1|]\n",
    "\n",
    "let Ps = \n",
    "    modelContext.OdeInt(0.,P0,dP_dt)\n",
    "    |> SolPoints.take 150\n",
    "    |> SolPoints.memorize \n",
    "    \n",
    "let x1 = SolPoints.toPoints 1 Ps\n",
    "let x2 = SolPoints.toPoints 2 Ps\n",
    "let x3 = SolPoints.toPoints 3 Ps\n",
    "\n",
    "[\n",
    "    Chart.Spline (x1)\n",
    "    |> Chart.withTraceInfo (\"x1\")\n",
    "    Chart.Spline (x2)\n",
    "    |> Chart.withTraceInfo (\"x2\")\n",
    "    Chart.Spline (x3)\n",
    "    |> Chart.withTraceInfo (\"x3\")\n",
    "]\n",
    "|> Chart.combine\n",
    "|> Chart.withSize(1100,600)\n",
    "|> Chart.withXAxisStyle(\"Zeit\")\n",
    "|> Chart.withYAxisStyle(\"Proteinkonzentration\")"
   ]
  },
  {
   "cell_type": "markdown",
   "metadata": {},
   "source": [
    "##### Aufgabe 4.16\n",
    "***Fügen Sie die drei Differenzialgleichungen die die Proteinkonzentration von x1, x2, und x3 beschreiben in den nachfolgenden Code Block ein (beachten Sie das übliche).***"
   ]
  },
  {
   "cell_type": "code",
   "execution_count": null,
   "metadata": {
    "dotnet_interactive": {
     "language": "fsharp"
    },
    "vscode": {
     "languageId": "dotnet-interactive.fsharp"
    }
   },
   "outputs": [
    {
     "data": {
      "text/html": [
       "\n",
       "<div>\n",
       "    <div id=\"85e25d98-4f8e-4bc1-a8a2-d90cd9d5da40\"><!-- Plotly chart will be drawn inside this DIV --></div>\r\n",
       "<script type=\"text/javascript\">\r\n",
       "\r\n",
       "            var renderPlotly_85e25d984f8e4bc1a8a2d90cd9d5da40 = function() {\r\n",
       "            var fsharpPlotlyRequire = requirejs.config({context:'fsharp-plotly',paths:{plotly:'https://cdn.plot.ly/plotly-2.6.3.min'}}) || require;\r\n",
       "            fsharpPlotlyRequire(['plotly'], function(Plotly) {\r\n",
       "\r\n",
       "            var data = [{\"type\":\"scatter3d\",\"mode\":\"lines\",\"x\":[0.0,1.0626564983199174,1.6185503396396963,1.9247121058121797,2.1302882719537144,2.282933363559081,2.399440058702725,2.49111451674691,2.5665684021542474,2.6256737882130534,2.654169806748159,2.628578792092453,2.546536913377089,2.4799960104096255,2.525838854161231,2.636917183583332,2.6490176280122086,2.540025018233846,2.472237129645242,2.5468567104413067,2.6585258137153565,2.637813190654221,2.514859117289079,2.468791896435214,2.568193615362338,2.6735371847686435,2.627386068509861,2.4971043005331475,2.466924210206453,2.5824984505151085,2.6841681384449023,2.622871229899141,2.4863882326204587,2.462419073447444,2.5876343143069547,2.692916829192346,2.6272001124417375,2.4827906195709595,2.453163932105057,2.581735474622472,2.699874810190999,2.642046973066355,2.4881862054919575,2.439645107395145,2.5626279374731995,2.701927238762267,2.6673632675333265,2.5063885764594867,2.4258457152893573,2.5287509277933613,2.69220009365271,2.6998858652450566,2.5420377231944435,2.420042110633145,2.4822671738890514,2.661150735194528,2.7304466823072433,2.5986417242204545,2.434296360945164,2.4324320556937975,2.6021706423463913,2.741396927737766,2.671566846516316,2.4825474191643764,2.397277110904337,2.51683168739062,2.7105826711791257,2.739616582925699,2.569084785924126,2.4040030475649146,2.4272595860980526,2.6222171782949735,2.7669385950453846,2.6835596239009334,2.475551383027108,2.375270828620509,2.4941546069991585,2.7119331255344905,2.77402939979621,2.6073105709330258,2.406788078540229,2.3830167519903167,2.569065217719386,2.7707003586162577,2.7535837129027243,2.5417992514209105,2.3669825970145544,2.4050221911961716,2.6293533759856924,2.8039088832331367,2.728097481599221,2.493098732824478,2.3437481606449184,2.427611916519521,2.674722245885908,2.8244538415485403,2.7078685412222305,2.45996461818933,2.3284952756346193,2.441280098614397,2.7026804164110074,2.8401334309772506,2.702322864044438,2.444661652780285,2.315787027754433,2.437795021089925,2.71020290802297,2.8556110683984217,2.717325541066367,2.449332052664921,2.3041613726316057,2.4138438004604232,2.6941478853038117,2.869530080610908,2.754286573823413,2.4777695957046735,2.2981440189501674,2.370828376292338,2.6487221758219355,2.8726181250009413,2.8110565261123597,2.537551615856859,2.3095961123922306,2.315776748611512,2.5659794709611066,2.8453076633140624,2.8767979895628937,2.6362337803053806,2.3577350250367255,2.2691303419733724,2.451054260738344,2.7664238425839836,2.9200686001596576,2.759980651918544,2.453337298789892,2.2612445103104246,2.334972007048074,2.6349974331260992,2.904092633654039,2.881058183027417,2.6006489736865155,2.3185455199805847,2.2492480290563472,2.4573758038799736,2.7923031850811753,2.95264414292963,2.7856301901417164,2.4613942286939188,2.244437441284066,2.294373885007457,2.594319000039195,2.9050820668499884,2.939204806954321,2.675445210444656,2.3554983659511994,2.216088538738486,2.363586789263384,2.7101092950802546,2.9679660373480075,2.8966654780581584,2.5788512773881322,2.283275799775547,2.2152118968395573,2.436193069248534,2.799627783618596,2.998732184492406,2.851060045992462,2.50717385822542,2.2385591648748866,2.2253922901175947,2.496078037123858,2.8624667107391746,3.0131131178331834,2.8153346433126525,2.4593444980676344,2.2114495194231747,2.234115215820791,2.5348956590295053,2.9015917639601376,3.0227206667165403,2.796605326504806,2.433574934635112,2.195245062795303,2.234621150205645,2.550384202405275,2.920975284696344,3.0342385177314424,2.797905536212114,2.428572938992122,2.1868506939727173,2.224362212125861,2.5422540447179167,2.9222883473837022,3.0494392432086004,2.8195984421581746,2.4439452475333248,2.1862882232707923,2.2041337912054897,2.5110973415450455,2.9044711269829984,3.0658917144676976,2.860086627171202,2.480150084039734,2.1961241591388374,2.1776454409625425,2.458745089339412,2.8648092809600465,3.0775932227779124,2.915569310048688,2.5377886166359036,2.220690552224543,2.151213876336949,2.389247122762946,2.8006964531404646,3.0759094957686983,2.9798445304263463,2.6169665666322737,2.265219670342667,2.1331758642090994,2.3097151422171405,2.7113835163188442,3.050853770179135,3.0440086123335197,2.7165758291549165,2.3346959758583194,2.132680506276779,2.2305112587373253,2.5996789073273594,2.9931389233447496,3.094599577136669,2.830261357736444,2.4312126529642866,2.1579111296579625,2.1634477410634663,2.4715844717574305,2.896326861410227,3.1149946706481226,2.946617534998601,2.55409405362651,2.215954675585546,2.1208969892828042,2.3397052189897956,2.762830752089952,3.089507937039255,3.049298127820937,2.6985854950626047,2.3117122993081995,2.11523678815551,2.2230218836610307,2.603823485052667,3.008704672881744,3.11835797174247,2.8535773484740226,2.4446211546131895,2.1542585374728107,2.1391013410337307,2.4341492045703,2.8715417188920114,3.1302960854016075,2.9974266621509087,2.6075369024729738,2.24223466357964,2.102526964804047,2.277002217152355,2.6928367967873266,3.0694819264816835,3.104714463613452,2.788337210018368,2.379220692243818,2.1239170252799067,2.1593482759874365,2.496761082833025,2.934722643514958,3.1463942083187253,2.9616200612079537,2.554955096957087,2.205550485805775,2.099585298258441,2.3113587389885786,2.74328022118828,3.1004109693188497,3.09482443068884,2.7532873246398593,2.3458569401918012,2.1092600736481657,2.1704157937968143,2.5280924547797854,2.96549565407425,3.154573376182955,2.9465043236343327,2.532562233789291,2.1895659668121343,2.097028326344164,2.323601036999405,2.7624435679561117,3.113885520269518,3.0951600397236025,2.744877608788808,2.336320159927127,2.1031201887817805,2.169524863493608,2.5322617556601683,2.9723648730704952,3.1611642493170864,2.9509381882759445,2.5343051094763975,2.1882673221071474,2.092220166299825,2.3160525960799436,2.756370198776856,3.115234000028552,3.10561736255954,2.7583641544194806,2.3454470276658075,2.103018101296351,2.158232117593514,2.5142634195459923,2.960149695171462,3.166792721538132,2.971286440055797,2.555568428321938,2.199012018150626,2.086047801504531,2.292971449238473,2.7297722927082777,3.1057836458589656,3.123228081025942,2.789285326079102,2.3701812326287963,2.108967425953696,2.1400083856724605,2.4789090774461178,2.9313270937239024,3.1693078218500603,3.0030723239834693,2.592788950862007,2.22092124410771,2.0809534720166556,2.2592394476833033,2.6865010162911833,3.084995678126271,3.1438069722039668,2.8335039248461418,2.4086116149488914,2.122065683611204,2.1188924265953224,2.4307121412496766,2.8873317814278687,3.1654906838565915,3.0417995965663085,2.6432570600841903,2.253954269734802,2.0797895719786905,2.2197034376354696,2.6299081290917186,3.051762790815768,3.162738836570248,2.8866538990992985,2.458821207522078,2.1434534984060205,2.098999487209306,2.374775280789722,2.8306510389382304,3.152427772682227,3.0821976307340644,2.7032095982613553,2.297213241088633,2.084979786658034,2.1796786539929567,2.5645698680237086,3.006265840169549,3.1754486620004454,2.9438488423260303,2.5183982371332285,2.1737738030210423,2.0838634893663492,2.315865099490828,2.7636607030565457,3.1279369510503297,3.1201256543195894,2.770033592860662,2.3504090984021837,2.0983009095804377,2.1425192266725146,2.493033606224469,2.948160637278426,3.178459729860344,3.0019901008808536,2.5864683702306124,2.214125425038315,2.07596354901325,2.257159530289782,2.68789999606442,3.0902079118968624,3.151972472277377,2.841610668444134,2.4134243494652052,2.121205747752,2.1110548577106494,2.4180363573671535,2.877933476417107,3.168751754988091,3.0577178582177935,2.6616829807361184,2.264996862377687,2.077441476195697,2.202338693587638,2.6059760092364885,3.038565123943027,3.1736701352414944,2.9139179889057907,2.4844527549964353,2.154263369754462,2.0881724131946595,2.3441941118799785,2.7988910829541926,3.1447426592196774,3.1066244006030823,2.7406533472312304,2.325102886418203,2.0893922120387534,2.1551814129011513,2.5218390582777084,2.9742778537396624,3.1819490636083847,2.9830211041939902,2.5615677558558265,2.1976374524710858,2.075706644097144,2.2748273696457355,2.713354840513132,3.1057312224675298,3.145902287829385,2.821613292505576,2.39415330946398,2.1124015492899213,2.117192656964392,2.43714867203086,2.8978961328065074,3.1747603304701584,3.046726602288592,2.6442229119733285,2.2518967525346087,2.074847406522172,2.2122842634643374,2.623192522759526,3.051441233354339,3.172432059989971,2.9016400879979636,2.4709514573168234,2.1467371082989697,2.090177709793343,2.3555725985520644,2.8126795615843623,3.1510650352383016,3.1013214720156874,2.7295230803534576,2.3156481552093844,2.08614249524638,2.159984727785523,2.532496336620504,2.9838182979301067,3.1832235355582617,2.976322162390459,2.552838232243708,2.1918756528587475,2.0755749043252814,2.2808495538304134,2.722006576151125,3.111050392587242,3.1441102727965036,2.815292069360422,2.3880184344077096,2.1095174173663915,2.11893848210097,2.442918833920342,2.9040413858781884,3.1768310014676695,3.0438194135922805,2.6393667685115076,2.2481552746572637,2.073921596419691,2.214736143778104,2.627661383379271,3.054971255456937,3.17254127642785,2.8990038782707583,2.4678691127870653,2.144864325715245,2.090305574798865,2.3577171396569625,2.81550790894621,3.152681572357288,3.100856673400215,2.7278919122509597,2.3140837335999014,2.085361133670689,2.160278745681947,2.5336752523271913,2.9851521428674834,3.1839204320944257,2.9762403152133645,2.5523699706583027,2.1913582187566893,2.07515797839084,2.280618155858459,2.7220490840673275,3.1114646352998987,3.1448544237290648,2.816066320797211,2.388490303934825,2.1094494469051286,2.118207839511951,2.4417365592116482,2.90316917926855,3.1771365127148443,3.0452733306830457,2.641032413360334,2.249144111791898,2.0737005004174214,2.2131668442128247,2.625515547679496,3.053795344655728,3.1735155170291223,2.90142092163708,2.47013882068356,2.1458285544087716,2.089366377133079,2.3550321456333947,2.8126976709222706,3.1519628087544787,3.102963663500323,2.7311699049826377,2.316555362288646,2.0858037148675397,2.158200250698621,2.5299541442397673,2.9822848122837406,3.184367183729466,2.9795923859863294,2.5561540212176888,2.1935254620430613,2.0745761327233168,2.277154006706726,2.71765723271662,3.1093603373707914,3.146910635898003,2.820494808782726,2.3923637691293647,2.1108354413371955,2.1162107972934554,2.4369802757575663,2.898676447507042,3.176512493009338,3.04895750040461,2.646056039997657,2.2525823924849715,2.0738665334412136,2.2095520633852996,2.619966388386485,3.050166114224901,3.1748941823613683,2.906422901422007,2.47517539347625,2.1482835348831566,2.087916670534119,2.349885296846395,2.8069695846693787,3.1499879943194147,3.1063529996324926,2.7369743600228404,2.3211335206509656,2.0869203671677026,2.1549445240790344,2.5237176318287724,2.9772091738418025,3.184616657843688,2.9846816067315656,2.562144063315101,2.197119930678132,2.0739641529828265,2.2720626716245964,2.710966575125851,3.105889401321206,3.1495797670995884,2.826798518061156,2.398025620888421,2.113025510041012,2.113616288356398,2.43039792246887,2.892270848175679,3.1753246568787405,3.053748320318366,2.652829511011632,2.2573367349605733,2.074294952174621,2.204928737002998,2.6126485351187267,3.045195514637359,3.176402819104668,2.91274244655229,2.4816782417555743,2.1515697453477998,2.0862638878513238,2.343490513370091,2.7996930524328905,3.1472752962272077,3.110351941386936,2.7441014223036717,2.3268566224977754,2.088450515537827,2.1511302200172953,2.5161708598195727,2.9709160082340302,3.1846752114663746,2.990645297402761,2.569315629959539,2.201520751088224,2.0734019207602117,2.266158443039044,2.703046287280085,3.1016170768487585,3.152499927924945,2.834085193614923,2.4046745287747355,2.1157027386356306,2.110765953348561,2.422893771827012,2.8848713742536076,3.17376689050583,3.059010353314565,2.660445254890716,2.2627682925551653,2.0749185592613477,2.199889387857374,2.604493467917859,3.0395154336706662,3.1778796525095987,2.9196498525618413,2.4889001929565464,2.155309184995011,2.0845864584081175,2.336549381087458,2.7916599754791314,3.144123863676805,3.1145667994722364,2.751847846312754,2.3331627881844055,2.0902415355291257,2.147119299791057,2.508021869549633,2.9639895182938436,3.184546693973683,2.996971458647078,2.5770592893648883,2.2063572930276085,2.0729355190397163,2.2599268424111787,2.6945371893409495,3.0968847978247234,3.1554529609869157,2.8418132493355004,2.411822477295517,2.118672593219721,2.107865866671915,2.414978895965289,2.87694298193178,3.171934994061476,3.064454954945696,2.6684952212905877,2.2685905176558046,2.075704617562035,2.194693544897603,2.5959116241715865,3.0334066469213297,3.179257493340129,2.9268285961706098,2.4965161352269205,2.1593361322148317,2.082958913283041,2.32936347083064,2.783212759854802,3.1406657491667582,3.1188320396426814,2.759915080204422,2.3398126594956516,2.0922265337671373,2.143062211123423,2.4995684629661894,2.9566848785575486,3.184237032909746,3.0034278430410013,2.585093191735678,2.2114553901773384,2.0725829091605075,2.253590932700888,2.6857371905314693,3.091854758686254,3.1583412798377526,2.8497332778070503,2.419243274263825,2.12184303546957,2.105007726366064,2.4068934872778978,2.868716424493859,3.169880253127772,3.069936659054967,2.676770373687068,2.2746550151664855,2.0766342375532414,2.1894730699391323,2.587114394377644,3.0270158325890684,3.1805034856058794,2.934115891800717,2.5043579797359437,2.1635640818095467,2.081418174771629,2.322087743263121,2.7745289759868283,3.1369709759682425,3.1230627440024743,2.76814853131427,2.3466818372552223,2.0943698062579434,2.139035601068244,2.4909649124076547,2.9491243810364884,3.1837496090295434,3.009927457371246,2.593316363673942,2.216753897890972,2.072349914426673,2.247227199701227,2.676747590192455,3.0865819664617478,3.1611314193230147,2.8577565278601047,2.4268553871851313,2.1251805436886833,2.1022244684218996,2.398726220807841,2.8602789863138818,3.167622375032958,3.075401027389652,2.6851933408727735,2.2809071646681924,2.0777003814316535,2.184276438287956,2.5781789110871713,3.0203960936926153,3.181605235124377,2.94145388622547,2.512367400004373,2.1679637625333896,2.0799775581053543,2.314776088011306,2.765669327638308,3.1330625622165695,3.127229534672547,2.7764974886163896,2.35373081767072,2.096660701699892,2.1350647082411225,2.482260646413628,2.941347967877659,3.183083904135471,3.0164378467563573,2.6016925629968384,2.222231780587472,2.0722401252468408,2.240865005437273,2.6676050135316633,3.0810844569342235,3.163800136188132,2.865781907892673,2.4345452773653196,2.128631312044391,2.0995626527723834,2.3906161916551745,2.851775167144156,3.165200036703475,3.080756859668057,2.6936253640515373,2.287244609798856,2.0788854420114475,2.1791883652820796,2.5692498570162714,3.013653990546726,3.182544646786159,2.948726931730908,2.5204201276005755,2.1724678149557177,2.078659783987203,2.307541657215819,2.756769642405773,3.128999526892538,3.1312686172954036,2.784834935301033,2.360850591744094,2.099063651277539,2.131212586059502,2.4735936955966444,2.9334783914680704,3.1822493283172664,3.02285754652325,2.6100936484159187,2.2278061744431503,2.072256066101921,2.2346023271765563,2.65844810623101,3.075444240551686,3.166316546545417,2.873768023368457,2.4422960265131164,2.132192558739349,2.0970205831670703,2.3825594959540606,2.8432007932818704,3.162613054873235,3.0860099812316877,2.702075801774865,2.293674233104382,2.0801896102542283,2.174201638677361,2.5603159504129653,3.006781874888965,3.1833236381592496,2.9559458980316404,2.5285288327098314,2.1770833668767335,2.077462102844561,2.300372549721007,2.7478155436823184,3.1247757258848265,3.135186780225174,2.7931724501028508,2.368046884924668,2.1015790910901186,2.1274765707837706,2.464961403760327,2.9255147241018458,3.181246615694385,3.0291895594034632,2.6185238940604827,2.233479671168821,2.0723969294209157,2.228435520501223,2.649271840376241,3.0696587833893556,3.1686818553602367,2.8817197781198596,2.450113451097194,2.1358672268921817,2.094595936193147,2.374550132037045,2.8345497983519072,3.1598594350114655,3.091164531896198,2.7105529599316003,2.3002028518180695,2.0816141453531523,2.169311128172349,2.5513679827327396,2.9997724840489655,3.1839420132419924,2.9631184785726177,2.536703777972967,2.181816998629794,2.076383624371553,2.2932606475776836,2.7387959663551906,3.1203850964124635,3.138987198534296,2.8015273644978507,2.3753448683556484,2.1042178252541097,2.123840536227413,2.4563254937186345,2.9174209423716126,3.1800700325920674,3.0354626678180443,2.627023773084341,2.2392684887056467,2.0726624549664114,2.2223747307820707,2.6400982751486004,3.063744551177504,3.1708887099626253,2.8896132586470955,2.4579747975859094,2.1396448674935256,2.0922955762905175,2.3666120325934084,2.825848368222553,3.156947266272308,3.096204771486215,2.7190327173144277,2.3068124453186503,2.0831550737935896,2.164530676905019,2.5424313418313895,2.9926455232408884,3.184396819209827,2.970224114408107,2.5449231865086857,2.186656851319258,2.075427967984256,2.2862261230070424,2.7297354941526804,3.1158386956993884,3.142657445701753,2.8098764191350867,2.3827258952658124,2.106973981185044,2.120315021483888,2.4477099809047282,2.9092187506779252,3.178720685464956,3.041658748087943,2.635571680563454,2.24515684239472,2.0730511653472905,2.216440453290297,2.630960391851655,3.0577245805634785,3.1729296197956405,2.8974193950828107,2.465851310386218,2.1435113580142717,2.0901266960942793,2.3587739070838154,2.8171292726379957,3.1538883380389473,3.101112359508722,2.7274845502909857,2.313479215283744,2.0848060973692135,2.159876613487674,2.533538204436966,2.9854274712988045,3.184686411053349,2.977237234824319,2.553158193695373,2.1915860403133682,2.074598848882757,2.2793066802111595,2.720688257118842,3.1111655650665866,3.1461736785915453,2.81816569829354,2.390142766893149,2.1098297764816225,2.1169221289095908,2.439170820921629,2.90096218482442,3.1772072706503107,3.0477374102089345,2.644113063887524,2.2511205744104315,2.0735616389227816,2.2106258224014566,2.621841103087218,3.0515866884276033,3.174810189252097,2.905157905794707,2.4737634254547207,2.147476535175316,2.0880824386879047,2.351014867898824,2.808370529007227,3.150675743889295,3.1059000762340423,2.735930827662892,2.320220846653749,2.0865708906565295,2.1553357568532094,2.5246651497971655,2.978100164247068,3.184811533797316,2.984176210761281,2.5614310659905195,2.196617975549855,2.0738932557654954,2.272475999200231,2.7116172996313037,3.10634676048804,3.1495507203950943,2.826430802489435,2.3976279959202214,2.112797535149801,2.1136462046142657,2.4306709829283673,2.892616429040779,3.175523482326726,3.053724862494772,2.6526856698755155,2.257186077862486,2.074195797702122,2.204905296695518],\"y\":[0.0,1.079523143088286,1.6760988819434133,2.0194911542191214,2.2538241867339903,2.422849559209087,2.535729237884154,2.595354585613737,2.606236705632215,2.5766664100664083,2.5239568226606592,2.4826524993721626,2.50399281402268,2.600296648292909,2.660916462555287,2.5894179495859357,2.4861060541513624,2.503402843022784,2.6209519951812346,2.6634012336394246,2.563941584079645,2.4706807221893614,2.5194056306757666,2.6445832071301725,2.6611539733435743,2.5427721251332365,2.460918010046815,2.5320191236489333,2.6609836470167676,2.6600953437078103,2.529625929769708,2.4532782026725504,2.537240363235518,2.671410807674837,2.6642627150166724,2.5254228201545414,2.4454310825556393,2.532575987577091,2.6759671486831405,2.6756572150554643,2.5317172175971563,2.4375262447419805,2.51639054440235,2.672276168098766,2.693938435659229,2.551130046618606,2.432861434168567,2.488635771389106,2.6553104875536353,2.715225665141655,2.586663518887733,2.43828329393916,2.45277429296305,2.6192120049708,2.7302279636840505,2.638555814002849,2.4638014737794833,2.4178237395812303,2.5604169042684735,2.7241415903988107,2.698713123695414,2.518513205056201,2.401236409608972,2.4834538095756207,2.6787698554391013,2.748404970130188,2.6042515563686126,2.4242628992394915,2.4117478348932915,2.588135130355818,2.754411235558336,2.70585617243279,2.5045486622791633,2.380038269685165,2.4692337104649513,2.6847663061658937,2.776157769220512,2.632863640789368,2.426177329763952,2.3776950539603448,2.5452981341475587,2.754760076864425,2.761671757666528,2.5614953570793144,2.377775759946317,2.3971971909964043,2.610938683423225,2.7947076416247447,2.7364882258628613,2.5076875929917737,2.350278354773785,2.420579582588095,2.6613537131984035,2.818489726537137,2.7134105426490343,2.469139363010578,2.3330805228618297,2.4383082421526563,2.6955046360961643,2.835061199057347,2.7020732594497017,2.447655889870215,2.3199432389710917,2.441176149909608,2.7101263060727585,2.8504104933871375,2.709880448309298,2.445385572962285,2.3077704985888645,2.4241008993578284,2.7024025534823806,2.8654517153674055,2.73957649504792,2.465270137630112,2.298969609951516,2.3870186003492364,2.667632338376765,2.8737638445296554,2.7902823210677736,2.5135254250418058,2.302736452273412,2.334600331195513,2.5980177177469934,2.859412967663927,2.8553718024401196,2.5991931243182957,2.3365241355153037,2.2817344823773085,2.4912001127446928,2.7988306837108,2.9105876313824597,2.717796978936381,2.416193474939951,2.258092327521409,2.3719691852431684,2.6845706424351947,2.9182283037953782,2.8426980763944782,2.545173838951956,2.2901086151250016,2.2715436708518366,2.5193701281307304,2.8413007792397127,2.9393148703656684,2.724025061169905,2.4051656224188673,2.234616180613769,2.3424238002226745,2.66749923342008,2.9372052071457464,2.8959465403471985,2.5973951421654924,2.303946227396095,2.2280213338261246,2.4370070176991363,2.788510842477244,2.9786214654542955,2.8297642683978332,2.4946514528312864,2.2428457488443785,2.2496435044007668,2.5299047161948924,2.8778595431707785,2.9874939641479585,2.763996408920909,2.4185214168260303,2.2087006746609736,2.27881136933158,2.6035908111617934,2.9367523895034027,2.982801311669896,2.712031908341093,2.366490655617305,2.1894367925938876,2.3028443878464144,2.65362228284955,2.973424965292953,2.9788997244205855,2.680773973469417,2.3357645488529757,2.177129049442243,2.314302504296703,2.679620314926413,2.9950994171413545,2.983303129229416,2.6719979446494606,2.3235620269149533,2.167395235552776,2.3097058805879342,2.6817906139390395,3.0049939710312628,2.9985284650395174,2.685722308159096,2.3287565276740816,2.1594170184994765,2.2889311971752253,2.6602674975748966,3.002511057684152,3.0234169541064104,2.7213111549864775,2.3520517140281534,2.155483970467403,2.254739336710144,2.6153062126002395,2.9839712831878344,3.053462607542498,2.777044797715245,2.395163324735631,2.160148589270757,2.212576113989146,2.5481817705513943,2.943919584443716,3.0807830221035903,2.849228089046259,2.459848806399601,2.1792646328924516,2.170072925376892,2.4622829891092217,2.8771601735728463,3.094545866583736,2.931462638363574,2.547257405866302,2.219479414452182,2.13657207967187,2.3644467386653276,2.781649454213602,3.082614303725046,3.013785224627272,2.656222125941162,2.2867186676273223,2.1229088029017484,2.266578018529393,2.660432178286535,3.0340393107547206,3.0828293362984387,2.782461069723429,2.3847706011856156,2.1386142978593563,2.182238756721154,2.520119777490508,2.940977028603763,3.120227910756218,2.9134526956911104,2.512099622888406,2.1905570115272406,2.125400290212181,2.3741628629358376,2.804896694555328,3.1074697478710345,3.0310479768355627,2.663493589290282,2.2838456792567987,2.108918450838384,2.2427498047352157,2.6383566191416126,3.033526628223745,3.1142233825220913,2.828314401764451,2.4185229894756035,2.141642498587632,2.1464489293596474,2.4586956224465917,2.896904949587556,3.137288860710094,2.9833400107126216,2.5862568742828804,2.227158148289542,2.1011069222588716,2.2908815034982295,2.713534801702219,3.0822992514074596,3.100489919076167,2.773421222331161,2.365013497696123,2.117767648942612,2.164323603663271,2.5105286648276763,2.9480844370809307,3.1495283401607868,2.954253074475378,2.544461217178929,2.198307378275389,2.0989224406229203,2.317845964838801,2.752815539157681,3.1064671734459757,3.093718695355235,2.747759943230009,2.3403419972262682,2.1064616031592416,2.171430180606229,2.532253270615562,2.9701367883867373,3.15683289210156,2.945961885374646,2.5307179874727503,2.1876839972362876,2.095680859169276,2.3230949391879205,2.762965244878616,3.1155580676976817,3.0976306661745103,2.7471694437880574,2.337472046427076,2.1024489924710483,2.1667685868244058,2.528482543630281,2.9702595766434694,3.1632170673158604,2.9561623655429683,2.53941320731674,2.1905761038015967,2.090212384501871,2.309850675042193,2.749583505437803,3.1132885113405786,3.110883825052587,2.766945397461596,2.352073729408544,2.1042896499801613,2.1527260208646215,2.50416775656985,2.9522972598557233,3.168125042804646,2.980841787560159,2.566357404302097,2.205089634974719,2.08409000135348,2.2826726998073408,2.717038708838389,3.10017210628553,3.1299760412528426,2.8027319923859197,2.3815317565649243,2.1124662171966957,2.133097650006832,2.464068107237505,2.9182944334079735,3.1689086700190705,3.015427887154081,2.608256944708061,2.2306971349761198,2.079989904130064,2.2464351451262936,2.668896348578291,3.075315175707668,3.1505522270231334,2.8505312943677668,2.424225734675931,2.1282656849343042,2.111900782535855,2.4126026045354925,2.869673973049083,3.162275632514481,3.0553259762396316,2.662367241910758,2.2672784614284094,2.0807186298483824,2.206223145264569,2.608951542144768,3.0379732992600528,3.167848383779434,2.905431325388117,2.477688390776439,2.152513827333004,2.0932976139770147,2.355311637469712,2.809396890024855,3.145634393527692,3.095285253591093,2.7248079042101474,2.3138324613652337,2.0884371067400016,2.1668358489768,2.5413062987132506,2.988311909823773,3.177690843370441,2.963273861069771,2.540188335453424,2.1860599077688767,2.080309693018514,2.2961028380663726,2.7392757396316783,3.1168935521679457,3.131615729620631,2.7935073382980873,2.370348557853384,2.1048081444544033,2.131264211418292,2.468254539269922,2.9260240740614525,3.176764997844562,3.0210122513754554,2.6108333602932405,2.2299325223923185,2.0753301445669283,2.23821092493606,2.661024841426028,3.074468724116146,3.160546319462202,2.8659240226976306,2.436397271207081,2.1311253729317734,2.1023339781381756,2.3930302644770376,2.852379967881822,3.1623673664788114,3.074944822899773,2.687713792017038,2.2840431402601786,2.080235062302694,2.185685525979983,2.5780988928185335,3.0185255036903604,3.1780248430593763,2.9374014100349286,2.509489465004658,2.1675315215536957,2.082804756214761,2.320485777961324,2.7710403577968954,3.1334429325221604,3.12091696671002,2.7674993344175354,2.3471402868828686,2.0958052692344036,2.141417587421349,2.493546700803315,2.9500948165783605,3.1813655966274235,3.004983561408244,2.5885521633337243,2.214513022885284,2.0740739680393516,2.253073727359037,2.6836808240671495,3.089309230371385,3.1563416498198382,2.8486764528882005,2.4190981266237865,2.1226431089933486,2.1068370479250205,2.409299704268361,2.870194994178541,3.1686784531393917,3.0661393577882765,2.672563329641144,2.2721937980542033,2.077272410918976,2.1936303400783532,2.59290606652169,3.030307633372449,3.1778557806978447,2.9272199477238448,2.4976995894145633,2.160561592487069,2.083913880583541,2.3298441953228823,2.783002254338447,3.139544931076877,3.116988557321358,2.758111693796737,2.3388205906077357,2.092586360484787,2.1450131362175475,2.5024239891743436,2.9585029675937564,3.183067411937691,2.999734677476132,2.5812197651752644,2.2094105708828145,2.0735509522670714,2.257733193243541,2.690846158863274,3.0941059302254943,3.155340991832188,2.8436804585702653,2.413986276367126,2.120024687307332,2.1079154369595985,2.413742978595365,2.875201272220753,3.170711640217346,3.064204107695698,2.668882908724895,2.269189045137333,2.0763109764761465,2.1952097389949525,2.596162147381817,3.0331198323489517,3.1782925795760955,2.925563643947725,2.495546959365816,2.159116278478563,2.0837587260288863,2.331066636213288,2.784837236285592,3.1408234995313706,3.1170476950252,2.757365538763985,2.337952764842368,2.0919934076661058,2.1448593264507028,2.5027216315247105,2.959092514593501,3.1837259282762167,3.000268151507532,2.5815143301267716,2.209385906765144,2.073130846495385,2.256949283058493,2.69008926089017,3.09401689465352,3.1562621589950903,2.8450935536715227,2.4150963140365196,2.1202785191288203,2.107034783742756,2.4119629715063686,2.8736429525616183,3.1707296757000125,3.0659621818568548,2.6711383914783777,2.270677215629793,2.076270851451996,2.1933942281411163,2.5934310712117448,3.03138451893566,3.179162748166219,2.9283622568102654,2.498349306905169,2.160465508554816,2.082885996992169,2.3280489770512762,2.7814579978940546,3.139672304777577,3.11921204681287,2.761081531036437,2.340906758842065,2.0927267090278425,2.142748198052862,2.498590517524212,2.955665895827309,3.183867044548311,3.0037895886876123,2.5857353770360767,2.2119721655504203,2.0727631689834025,2.2533648857326014,2.685252856871867,3.091403371764643,3.158160610560252,2.8498012231447367,2.4194146944965103,2.1220259184132106,2.1051669418660985,2.4069917509918453,2.8686931919442538,3.1696755048572003,3.0695966177070244,2.6764501095098128,2.274498557043938,2.0767375527621676,2.189863626282347,2.5876212862526735,3.027270757933475,3.180204359808157,2.933432693238178,2.5037162644531517,2.163289415273879,2.0816889548274413,2.322877740639407,2.7753790134860017,3.1372098437320775,3.122411117212578,2.767092450252701,2.3458600845732924,2.0941910293525003,2.1396779630707012,2.4921890988821396,2.9501242062514454,3.1836669205159187,3.008815214980378,2.5919965399411464,2.215951525265624,2.072480742671808,2.2483788049598745,2.6782998901369357,3.087416363302979,3.1604933192957727,2.8561962880053158,2.4254240084821754,2.124601373873259,2.1028483723630647,2.4003940078714456,2.8619493623737653,3.167981711894686,3.0741529013701574,2.6833570540661373,2.279577875214698,2.077529177306551,2.1854954671739972,2.580209894292715,3.021853134261676,3.1812524016415087,2.93965748564192,2.5104467781911763,2.1669388461021426,2.0803862441520664,2.316618976814279,2.7678643405330305,3.1339790683276108,3.1260880425177517,2.77430571921604,2.35190489405166,2.096099954680553,2.136162986026334,2.4846054202439896,2.943412975094476,3.1831981796764457,3.014593501380377,2.599355824377054,2.220722578092801,2.0723093968548403,2.242697630193651,2.670210438809285,3.082621742788137,3.1629707475520155,2.8634069326580502,2.4322874882236087,2.1276369414459504,2.100385919884366,2.3930573764324525,2.8543161987583434,3.165889155518416,3.079081919735599,2.691023300464454,2.285301217591562,2.0785434034244146,2.1807949254725143,2.572046583320626,3.0157495818000823,3.1822087351812143,2.9463873060778374,2.517843462176053,2.1710368968403815,2.079105305851336,2.3098946344785833,2.759652974872115,3.130298216793161,3.1299138548809564,2.782075552115331,2.3585039044659943,2.0982830666567303,2.1325070000473185,2.476486397370537,2.9360973452284043,3.1825053842664306,3.020672820635191,2.60724499721811,2.225920848440706,2.0722626348004307,2.236747952562941,2.6615803317732736,3.077366796287802,3.1654304287938073,2.870994658479535,2.439607701696925,2.1309618519114615,2.0979149689690484,2.385377377560674,2.8461977864643226,3.1635084773586146,3.0841448502279536,2.699082975308931,2.2913987203170434,2.079732789533973,2.17597948245681,2.5635002093784167,3.00923064578242,3.183034586128473,2.953345001868757,2.525607592520965,2.1754209867813716,2.0778979466861323,2.302967722778177,2.7510591970654708,3.126305038883461,3.1337527656398976,2.7901241585949865,2.3654145230088317,2.1006593229626764,2.128847127891641,2.4681316530262225,2.928443100133447,3.1816137665368998,3.0268462433581904,2.615400909508682,2.2313756827467244,2.0723434254232656,2.230724202385333,2.65268442360557,3.0718148782548056,3.167798768077311,2.878744450930735,2.4471841012052384,2.134487608845445,2.0955026835156305,2.3775563995864184,2.837803482700493,3.160899184353444,3.0892197683060405,2.707347408131644,2.2977302752130337,2.0810711467238856,2.171159715519502,2.554761041857904,3.0024376720572463,3.183711497961481,2.960387897733051,2.5335846142158487,2.180006297542581,2.0767896566012936,2.2959735927511646,2.7422460782305738,3.1220723101199135,3.137534874566563,2.798319810871803,2.3725371937159108,2.103197637540108,2.125232353756364,2.4596472706418058,2.9205436587117477,3.1805325613955326,3.033044365603418,2.623736444222994,2.2370289192747634,2.0725523818069593,2.224696765076505,2.6436230924284705,3.0660261486872313,3.1700487639977255,2.8865761390010487,2.454941953679815,2.1381813553694333,2.093174079128871,2.3696701459544385,2.8292114159942723,3.1580832109738814,3.0942620668164116,2.715749133372122,2.30424643732009,2.082549397764529,2.1663748932842934,2.545895853374991,2.9954195827903143,3.1842322011066866,2.967467384275844,2.5417235556515605,2.1847657524714337,2.0757896638787967,2.288957342191789,2.7332664657946246,3.1176224073438936,3.141236585165272,2.8066193289931,2.3798381670850914,2.105888021110412,2.121681913388741,2.4510733955746358,2.91243318157429,3.1792630443177314,3.0392408499449077,2.6322213562155734,2.2428412060806138,2.0728875890462684,2.218757223307769,2.634544444089701,3.0600984831732214,3.1721421583901868,2.8943575540379483,2.46275156522488,2.141981843334493,2.0909678511778256,2.361849694035471,2.8205638110905156,3.1551067573335145,3.0991902364748363,2.7241546390985345,2.3108445907719606,2.0841443135767737,2.1617002820949933,2.5370431915018807,2.9882852957669184,3.1845878894629145,2.9744755932826377,2.549902514422852,2.189629026376598,2.0749138425348437,2.2820295002003843,2.724262486648807,3.113025398995747,3.1447982862525286,2.814892479044385,2.3872045719732315,2.108689594726061,2.1182512958344333,2.4425430001370856,2.90423650865375,3.177823292609902,3.045341129571232,2.64072904786875,2.248749209466706,2.0733465789713024,2.212918119796321,2.6254546515545747,3.0540329585334707,3.1740808996381324,2.902094536659511,2.470619825207557,2.1458923418303764,2.0888805279756224,2.354086422786661,2.811852082027861,3.1519677553211523,3.1040109451543367,2.732575644898526,2.3175340300430327,2.085857329049104,2.1571280087341735,2.528189622307844,2.98102468950669,3.184779556437966,2.9814246771813884,2.5581364321275553,2.194605100454587,2.074160348179243,2.275184310619478,2.7152301939592034,3.1082810067287694,3.148221339071342,2.8231419644834057,2.3946392004354022,2.1116030154677388,2.1149380436518217,2.4340525680475418,2.8959512738473645,3.176213361630765,3.051348783372147,2.6492652408089943,2.254756861668037,2.0739290649394198,2.207175107762439,2.6163470648965776,3.0478254167723957,3.1758659489144776,2.909793143596353,2.478554143337884,2.1499170280468536,2.0869101242801453,2.3463733465836554,2.8030683155557594,3.1486629278166585,3.1087282317445557,2.741021419897406,2.3243229476629277,2.087690677226528,2.152652926889957,2.519325070362343,2.973629145466972,3.1848061514857178,2.988322709444983,2.5664367363077334,2.199701676758749,2.0735282193038502,2.2683991930161884,2.7061330598525952,3.1033680961000014,3.1515194849110992,2.8314050243358757,2.4021773986146226,2.114642881649812,2.111727044878672,2.4255798994068236,2.8875807866262386,3.174436300800029,3.0572492143383556,2.657807075416588,2.26084711822554,2.0746328138768613,2.2015448863676896,2.607248582391212,3.0414945360639725,3.1774913215738154,2.9174303489413798,2.486532019698574,2.1540450121914088,2.0850623622376223,2.338732984674975,2.794238047639328,3.145201378319806,3.1133275226407613,2.749468272801118,2.3311932089608964,2.089639692058604,2.148287628737936,2.5104743876197766,2.9661190327290776,3.1846661465209904,2.9951500916253977,2.574781776113378,2.2049062706950053,2.0730200658557973,2.261693358007287,2.6969953564653397,3.0982985899192843,3.154681331037357,2.8396586177755525,2.409800236662271,2.1178027725673614,2.1086279439178006,2.417150475109175,2.8791541419071085,3.1724995436695047,3.063021566859888,2.666323774624663,2.2669973070156266,2.075453834375919,2.1960468791310097,2.5981923064544183,3.035064664553566,3.1789515408366764,2.9249783096421225,2.494524748640271,2.1582613442560157,2.083343076071247,2.33119274719282,2.785393825913304,3.141596416395525,3.1177918008092798,2.757885779698576,2.3381204123723904,2.091697019799239,2.144047078784674,2.501669486334931,2.9585276461417527,3.1843605514219666,3.0018662472378597,2.583120208647066,2.21018606639806,2.0726385595661214,2.2551096507925306,2.687875880396116,3.0931055807176184,3.157685595188963,2.847848817203595,2.4174589092212857,2.1210626891109983,2.1056604418775104,2.4087995087898473,2.870678788035534,3.1704027007630757,3.0686769599295847,2.674834936344241,2.2732221030762902,2.0763928232536686,2.1906656221730842,2.589154387967159,3.028520119925332,3.180250880834267,2.932456850978721,2.5025536793059104,2.162577187181773,2.0817469126239176,2.323732502340378,2.776512877534548,3.1378393114706085,3.122132292054203,2.7662959716979483,2.3451230801452736,2.0938677766797054,2.1399194345115085,2.492887439590899,2.9508326230634245,3.1838886325996074,3.0084988405704056,2.5914879951314385,2.2155639136101715,2.072381245770049,2.2486188659815127,2.6787346665815592,3.0877669794446185,3.160544761974654,2.8560107366579484,2.4251871108528746,2.1244370942608004,2.1028111110416257,2.4004909556931486,2.862118762420703,3.1681366258365524],\"z\":[0.1,1.1641040386756867,1.7361304344621762,2.044324724708805,2.236148385652432,2.35780248723523,2.4251840157785702,2.45335101393318,2.462958626333291,2.4780710317027674,2.5200396791815285,2.5927696723990437,2.65506232005585,2.6256663623884315,2.519398921461417,2.479911492172704,2.5712539492663886,2.6630790882178688,2.6133909721735846,2.496479112993872,2.484371109894933,2.5984453800934806,2.672844865993779,2.5938108580480885,2.4779928905925,2.4911788746026264,2.6192686221846166,2.6786493621866367,2.5799628806468107,2.4654257509385125,2.4944140094706273,2.632139445377938,2.6848858486300116,2.5748015303096548,2.456889836986411,2.4906663155707176,2.6364577821338337,2.6939814103821744,2.580336468005473,2.4522609300902873,2.4782940815656147,2.6304066655653306,2.7057044078347112,2.5984597553050928,2.454067709895862,2.4577861972840154,2.6107574209580973,2.716282849625991,2.630229909499461,2.4677583516310366,2.433005911091543,2.5739591511660382,2.7175863598263277,2.6732776969063563,2.5004282273891345,2.413288659448623,2.519168438573116,2.6970706296336933,2.7191626636552853,2.5575569123147446,2.4134489375050885,2.45482911893132,2.6420254814764395,2.7493352517991916,2.639343717423122,2.4506693602833365,2.4011873186835038,2.5525709187283985,2.735869035918301,2.724854227295453,2.5357350253163013,2.3894857916063836,2.44663077868769,2.65457186642091,2.7740411609178475,2.658797346880181,2.4492095888011387,2.3747572984371046,2.5199983684700955,2.735314342838395,2.7687984670640584,2.5833431327740035,2.3908361976865415,2.389748620269094,2.5909211056801844,2.783791052537689,2.745091789490093,2.523918239012624,2.357931772521089,2.4129276937423345,2.6461866522398014,2.8117362265620254,2.720278554249487,2.480217118999843,2.3380934588673794,2.433643962413729,2.6861491769300327,2.829897841191525,2.703994378305957,2.4527793239790903,2.3241585926250345,2.4422987883289737,2.7075843204925762,2.845236082328581,2.7048943488248365,2.4438723590427647,2.311700532456263,2.4321022823418805,2.7076839466327964,2.8607016177133824,2.7272342500316133,2.4558853048003106,2.301117654537754,2.4014317822627387,2.6826603743504065,2.8724925214446775,2.771251674402599,2.493725919220049,2.299179026228734,2.3531913729262635,2.6255966308994463,2.8681713599119143,2.8330359835518673,2.5660911658006946,2.3206091745073483,2.297714989444417,2.5299836234751907,2.825185648213779,2.895719750234239,2.676172396528726,2.3843254360229396,2.260975136439454,2.410940584068326,2.728302870553616,2.923022692790771,2.801877739900836,2.496128487807596,2.271453609437965,2.300938556560095,2.5795523708690937,2.8788086956624896,2.9144161784422224,2.661270681916326,2.357176489282263,2.2364683783875137,2.3973899908248435,2.7337885618074598,2.952440923693265,2.843621199574522,2.5254736342544075,2.2670406354596455,2.2552005069631265,2.51597595838769,2.854874507710712,2.968271173636874,2.7547081863179694,2.4198224945839493,2.2208541508074546,2.3002099232565616,2.62304327785983,2.9348012551600733,2.9513798149122317,2.670676585622305,2.3426755411411504,2.200981003887715,2.35034427674266,2.7063449096370737,2.982206854914725,2.9259846516472967,2.606266792038092,2.2913987380045073,2.194288318509209,2.392346668479171,2.7650982205246666,3.0105864502327337,2.906699225349591,2.5653670556697006,2.260285591101202,2.190588301127479,2.4175675004552053,2.799969193966428,3.0291627260038445,2.900632087183867,2.5473577244531245,2.244231211384335,2.183911947707075,2.422241892956673,2.812161290598299,3.0427371299555324,2.9106447383809977,2.5515004302157753,2.2410527352577936,2.172470981608253,2.4057547583690333,2.802084882128407,3.051790341744606,2.9365921976168474,2.577541972614752,2.2513089706324045,2.15796861657431,2.3697453952279766,2.7691263072975705,3.0529862142751125,2.9757034026851605,2.6254289709768543,2.27758516468116,2.1449792405887256,2.3182891352521042,2.7127049746100274,3.0401440225221523,3.022374209759902,2.6944074115135983,2.323464964747362,2.1400922020905115,2.2579822301466335,2.6333197109569975,3.0055239872115025,3.0677870220843495,2.7816816678267244,2.3922483124622884,2.1507859259289113,2.197492045415025,2.5331549342807875,2.9412069884981786,3.0996127478122815,2.8806749083604455,2.4853292476065296,2.1843068096680676,2.1475116463543835,2.4192151374690947,2.8434204758459405,3.1032095316836923,2.9804910708088292,2.6019230987122532,2.2475439833885695,2.119568186778018,2.30343583292659,2.7146934894617596,3.065513286106974,3.067074530391884,2.7383567993168874,2.3451467010132063,2.124790538456414,2.202509822704519,2.564342377818799,2.978152494279749,3.1208066144912143,2.88214826853193,2.4756982691020126,2.1702965615589482,2.1318144563174672,2.405859114015088,2.8410341984828906,3.120684845723871,3.013484987505734,2.6331771834284603,2.2609043294106574,2.1049343387200703,2.2609063131150418,2.667944524045036,3.0534984500013946,3.1094392051940805,2.806602023177037,2.396928466026649,2.1317371778475938,2.153296412367395,2.4795008812352415,2.9177922818944286,3.1424607429146305,2.971345430420422,2.5688089004273205,2.215059560076419,2.1002358779166954,2.3023687831314557,2.7302726692588,3.0924691305597927,3.097118347125338,2.7617816470451855,2.3539917046022625,2.112966426444308,2.168040860923001,2.520914148827933,2.9582340056700875,3.152182605938052,2.949236295050539,2.5370751443209283,2.1930523673896882,2.098098023844814,2.3218936898289866,2.7591288838604253,3.1108973274881997,3.093836007835037,2.745015751294912,2.3372248037478,2.104442501742504,2.1711109596820966,2.533580646087636,2.972369392093741,3.1590260582255145,2.9474869360786577,2.531355581202553,2.1872817385364023,2.0940645448977726,2.3205244205492215,2.7608831835065364,3.115993983763243,3.1011552148092467,2.751719838316208,2.340550258892214,2.102412694900196,2.162960172991796,2.5224245984679654,2.966160306617772,3.1651220810280534,2.962999473382666,2.5465421237138908,2.194165750479288,2.0881232600283877,2.3020936834612193,2.740666154184524,3.1101443912012976,3.116809221012003,2.777307480688626,2.3603435701748032,2.1062588983046533,2.1466001800201004,2.4923263266050633,2.942673090562839,3.1690041622845206,2.991491175061238,2.578795115763339,2.2123903528237987,2.0823561138623394,2.2713728713840284,2.7025803928932937,3.09326130221591,3.1368905942102594,2.8175143353361864,2.3943531902814534,2.116811999102,2.126011982954219,2.4479491961478703,2.903605095487998,3.16767630115293,3.028403355609327,2.6251252975717594,2.2417260849586196,2.0795714435229966,2.2331609112330764,2.6499271314803012,3.064204054800677,3.1569281453780365,2.8683137934896594,2.4409876258382823,2.135384065657618,2.105233614819674,2.393912843564371,2.850761310411503,3.1579488417232913,3.0688353823574546,2.682374291452605,2.2816970451303136,2.0824272818257947,2.1928434555549394,2.5871447469888698,3.0228141396964303,3.17212693685237,2.9245326530637374,2.497556735974747,2.1626063564997633,2.088222125321897,2.3356377407608457,2.787050350208256,3.137494483949535,3.107971024169024,2.7471047675963938,2.331561814639875,2.092858148621981,2.1544166808181644,2.5174334137401715,2.968940496036679,3.1787331588963235,2.9827027362957343,2.5629043278111374,2.199508512453754,2.0776482108078866,2.2764904608588874,2.7139967350404346,3.104330726502125,3.1422789676354776,2.8173987001150573,2.391353394910665,2.1124244713197955,2.1207490398246542,2.443208520820606,2.9025610909822492,3.173547832591193,3.0396701996601654,2.635984616002701,2.246929999229353,2.075811898132467,2.2198699078511663,2.6336351099671393,3.057214474871242,3.16781960810338,2.8900705564971894,2.460086791080072,2.1421381522635743,2.094694567523234,2.3683953097964343,2.826017260367535,3.1543737682236617,3.0912720732962318,2.714046421938109,2.3040747359442095,2.0842112097250003,2.1699523998939756,2.550039695322263,2.9970955583332257,3.180809934735559,2.9604576264680436,2.535194906022519,2.1819773166820258,2.078633549517731,2.2973316968084903,2.7425000674554787,3.120440845039729,3.1340532025166548,2.794522928060766,2.3701675225290852,2.1034685714855375,2.1287338662027446,2.465280976108818,2.9246152092377065,3.1789912754207683,3.0262423211437888,2.616102978862208,2.2326088252718232,2.073778450034033,2.232139089547416,2.6535020335038357,3.071141187351342,3.165239004040205,2.875431640377583,2.4447446301048483,2.134101454205247,2.097819504013316,2.3820688357200925,2.8417583818963923,3.160776147293629,3.084353412833059,2.701001045238682,2.2934426492901614,2.081039216866452,2.1761948373838624,2.562667240984945,3.0077613006743897,3.1814686869280377,2.952128728026088,2.5249930014883937,2.175598234075896,2.079039138827326,2.304918653916988,2.752761197128322,3.1262076849547973,3.1312836841910543,2.786729823673527,2.362959055426841,2.100379197671784,2.131311153832188,2.472517753881368,2.931878652557657,3.1809512928733503,3.0222527554752294,2.61005944340841,2.228176287643053,2.072995023107431,2.235630165638648,2.6593034863363267,3.0753575719080315,3.1648664014989247,2.871673795114715,2.4406708963012225,2.1318336414947625,2.0983524748583084,2.38528287798868,2.8456451100254596,3.16265003823636,3.0832285943919118,2.6983941653548693,2.2911651968561397,2.080130963618041,2.1770611109318705,2.5648296643023394,3.009838398140005,3.1820961713076166,2.951320461982442,2.523710648797335,2.174606307263406,2.0787068492395173,2.3053533187855635,2.7536684239742955,3.1270819023196292,3.131742441826242,2.786784140542122,2.3627710404383047,2.100026952509926,2.130819135306008,2.47202833305863,2.9317296197247917,3.181475619697877,3.023295625374455,2.611064137665629,2.228656160907675,2.072643607327454,2.234398675390112,2.657809797537225,3.0747300125258286,3.1658622429645127,2.873632537823719,2.4423777556007416,2.132431832991619,2.097407769873185,2.383008081316249,2.843441865915743,3.1623235679012596,3.0852018128675405,2.7011859105447105,2.293147955407143,2.08031417119484,2.1750787827140723,2.56157459749085,3.0075376864048255,3.1827881718072826,2.9544292518677713,2.5270172430388396,2.1763572072982207,2.077954909978795,2.3020747451372534,2.749757487794145,3.1254642910514514,3.1338911320658163,2.7908861622818413,2.3661912491872634,2.1010748049375807,2.1287396981889635,2.467558446252895,2.9277634651814877,3.181258172013407,3.026926466740344,2.6156977585842416,2.2316714907734143,2.072528080100518,2.230750496136103,2.6525609472162084,3.071587111135166,3.167534604504553,2.8785232843815525,2.4470693760088293,2.1345288169115526,2.095733455343315,2.37792651463082,2.8380893938536196,3.160818840923448,3.088736186470008,2.706756898143957,2.2973488083692515,2.0810981526652026,2.171668962214697,2.5555357580243494,3.0029410288186615,3.1834526508485634,2.9595283198214055,2.5327017717617184,2.1795610917670163,2.077037302138276,2.296918231528617,2.7433507408861892,3.122498179537854,3.1368535050564157,2.7970678487876337,2.371503692793901,2.1028954236739223,2.1258946267526633,2.461050853439656,2.9217834707166213,3.180578505845684,3.0318520956647648,2.6222197725036773,2.2360444363246232,2.0725954215530944,2.225901279658821,2.645362448365812,3.0670721159479086,3.16948068547441,2.884912319489977,2.4533381369071927,2.1374588029280135,2.09374205690449,2.3714179006983334,2.831068597528481,3.1586181203906296,3.093027226426386,2.7137808620858572,2.302750203463886,2.0822564985330496,2.167570574116209,2.54804750761217,2.9970821464499813,3.18401743951955,2.9656346660045965,2.539655149033971,2.1835819927333895,2.0760976094287664,2.29081814656407,2.7356136579915415,3.1187424363537275,3.140174898183499,2.804339379041534,2.3778545382323957,2.1051843230303744,2.1227054407267367,2.4534818886745597,2.914686000831895,3.179564278431503,3.037420025208884,2.629763407352058,2.241173775293025,2.0728233007722787,2.220527608789037,2.6372246973241875,3.0618242231257247,3.17146542719336,2.8919819532044833,2.4603837499943,2.140845092145993,2.0916717506125266,2.364272832756463,2.823227219312069,3.1559953257007747,3.0976082732521397,2.7214913674896644,2.3087645730992663,2.0836588901076025,2.1632122869305928,2.539885206318073,2.990562776560201,3.1844391783226755,2.972171309080813,2.547225878014259,2.1880456349926125,2.0752195957543016,2.2843252652151698,2.7272357136188567,3.1145295576292424,3.143584085359803,2.8121082102013673,2.384731456276227,2.107757540056488,2.119423652424801,2.4454397235464853,2.907014597306938,3.178294862229631,3.0432327869001803,2.6377978636372568,2.2467172222575362,2.0731977052740986,2.2149481013676384,2.628611324060094,3.0561349630890624,3.1733874191923013,2.8993710440959757,2.4678523933995917,2.144519907613407,2.0896242814090638,2.3568364044491235,2.814937485078275,3.1530737138908567,3.1022797204471693,2.7295579147744795,2.315137523945741,2.085246717199894,2.1587755406710127,2.5313803473875325,2.983642304634434,3.1847028787553944,2.9788961829090495,2.555139575280968,2.1927933571227776,2.0744367882412917,2.2776852489483823,2.7185340642652287,3.1100176271021573,3.146958623761708,2.8200998837595224,2.391895316559225,2.1105269830734703,2.1161625113902733,2.4371958112426904,2.8990233892483808,3.176811209005688,3.049109783185184,2.646079269955498,2.2525116972717036,2.073709143817937,2.2093209311905615,2.619758307414625,3.0501559720279667,3.1751965914082745,2.906894188546279,2.4755613075429417,2.1483955694997743,2.0876502553307255,2.3492857640508014,2.8063924262577173,3.149919025672029,3.1069394441796616,2.7378097657330955,2.3217369430013526,2.086988307337884,2.1543526470574594,2.522704243523927,2.9764563488788105,3.184802133196424,2.985684460849062,2.5632541011072445,2.1977423628328934,2.0737641183928917,2.2709987702109715,2.709629146934452,3.1052648193656758,3.1502556431625783,2.8282197229897363,2.399264825497567,2.1134628427515043,2.112959732149338,2.428843874958417,2.8908043952580105,3.1751289151277144,3.054985775940924,2.6545197790419888,2.258497601187146,2.0743537282437807,2.203705443452395,2.6107543499535266,3.0439442847073344,3.1768740162761127,2.914482980342606,2.4834442043413483,2.1524408300966043,2.085768174437986,2.341684965217411,2.797661212582442,3.1465542072076365,3.111551131354245,2.746188324327029,2.328518456159422,2.088873441780991,2.14997519392382,2.5139144757765326,2.9690495779939456,3.184733599142883,2.992495526242955,2.5715252116618372,2.2028679049970807,2.073207592022707,2.2643023177179025,2.7005647714406074,3.1002912114322925,3.153457118803908,2.836432370480398,2.4068115153849483,2.1165560156273537,2.1098303310608864,2.4204473961582966,2.8824626096877575,3.173273446918828,3.060765602452603,2.662979311096951,2.264574448107751,2.0751202588897772,2.1981964691149765,2.601750708159352,3.0376038765127396,3.1783916551212257,2.922013350907686,2.4913740386851986,2.156591285940913,2.0840083995225878,2.334155754344921,2.788882772160078,3.1430321221290223,3.1160423946482054,2.7545648488425885,2.3353790950253654,2.09087378442958,2.1457098638504837,2.5051440539202523,2.9615355339340947,3.1844975137676927,2.999221961523621,2.5798236480774728,2.208090470368428,2.072776577796153,2.2577014474380204,2.691482082442927,3.095173154660023,3.1565120677161422,2.8446117991422364,2.4144217239806194,2.119760981105447,2.106822373717816,2.4121002536773255,2.8740426187994705,3.1712504240003847,3.066446317103994,2.67145957815853,2.2707449347873747,2.076007839004821,2.1927882757956247,2.5927389470180935,3.031129774413742,3.1797519869122572,2.9294944075720224,2.499360953768233,2.1608521891385046,2.082367669049425,2.3266876136972243,2.7800454654232993,3.1393487346177995,3.1204201461265204,2.76295293702076,2.3423304064033674,2.0929921902283692,2.1415485287113447,2.496377776411375,2.9539051621266585,3.184094584770596,3.0058676962193562,2.5881531856226823,2.2134117225758576,2.072469912974552,2.251193309369009,2.68237775085123,3.089909600490164,3.159421762591382,2.852761709673539,2.4220996872227056,2.1230794825298305,2.103933370603077,2.4037976499583453,2.8655402606746576,3.1690589806353073,3.07203190161057,2.679967685609828,2.277014435459771,2.0770168781817078,2.1874760033832192,2.583711004938694,3.024516219580613,3.180955501677235,2.9369331629769273,2.5074138638564425,2.1652289414417374,2.0808444879505665,2.319272851291928,2.771139692634002,3.135499392014067,3.1246880852175103,2.7713625675599096,2.3493818443957393,2.0952319500751586,2.1374862521239013,2.4876049398965363,2.9461424647340206,3.1835223589514987,3.012459038644228,2.5965510144065074,2.2188567007064615,2.072286679415953,2.2447483138640214,2.6732090834703235,3.0844750809107566,3.1621925054828477,2.8608793961292625,2.429832899156702,2.1265036955021106,2.101170652595337,2.395563876589037,2.856981782109386,3.166706001757435,3.0775054013431364,2.6884789580037394,2.28336497957799,2.078144183528401,2.18227492535926,2.5746929957791154,3.017782379201636,3.1819977769824765,2.944307909446806,2.5155107027649537,2.169710214780169,2.0794435072573485,2.3119327293816125,2.7621904340097205,3.1314941680024524,3.128832718144197,2.779770307877727,2.3565150388732174,2.097587744033285,2.133534517018678,2.4788499814496174,2.9382685310054955,3.182780641643343,3.018977178734015,2.6049955495500097,2.2244123502636306,2.0722285329238517,2.2383847456406873,2.6640001458506988,3.0788824128132655,3.164814252714645,2.8689373159099976,2.4375941933816256,2.130020787226014,2.098542838454445,2.387428905468901,2.8484000982627933,3.164201677215866,3.0828471058564078,2.696962633354608,2.289773271526459,2.0793845523232046,2.1772028572438975,2.5657174889144656,3.0109536144492215,3.1828752652359764,2.951592008190914,2.523622758139709,2.174280150770051,2.0781692290078073,2.3046934859245947,2.753230123459647,3.1273479027785434,3.132838355523982,2.788139628503902,2.363691725175093,2.1000451493034316,2.129716983970493,2.4701686490958576,2.9303349696321668,3.1818744499412195,3.0253800436218077,2.613432950982684,2.230043198397697,2.072295511497429,2.232143559271327,2.654810175461503,3.0731677497222827,3.1672754529634948,2.8769293388997528,2.4453909867050103,2.133636733681934,2.096042494274917,2.379372574076511,2.8397748116338324,3.16154105438141,3.0880711834547685,2.705441207652065,2.296256031369424,2.0807401971971045,2.1722453388928975,2.5567606950657393,3.0040128826342296,3.183590486797741,2.958804643473817,2.5317718999492356,2.178951081549175,2.0770177819286406,2.2975358939003034,2.7442353853381194,3.123050118239995,3.1367146263700945,2.796495881503833,2.3709389183437284,2.1026137406964374,2.126016320150542,2.4615235718316026,2.922308588392452,3.180800368077044,3.0316956401309336,2.621900640464689,2.2357740428870336,2.072487341262834,2.2259971909244265,2.645598889628864,3.0673064775952072,3.169585941810138,2.884889602385498,2.4532577304182985],\"marker\":{},\"line\":{}}];\r\n",
       "            var layout = {\"width\":1100,\"height\":600,\"template\":{\"layout\":{\"title\":{\"x\":0.05},\"font\":{\"color\":\"rgba(42, 63, 95, 1.0)\"},\"paper_bgcolor\":\"rgba(255, 255, 255, 1.0)\",\"plot_bgcolor\":\"rgba(229, 236, 246, 1.0)\",\"autotypenumbers\":\"strict\",\"colorscale\":{\"diverging\":[[0.0,\"#8e0152\"],[0.1,\"#c51b7d\"],[0.2,\"#de77ae\"],[0.3,\"#f1b6da\"],[0.4,\"#fde0ef\"],[0.5,\"#f7f7f7\"],[0.6,\"#e6f5d0\"],[0.7,\"#b8e186\"],[0.8,\"#7fbc41\"],[0.9,\"#4d9221\"],[1.0,\"#276419\"]],\"sequential\":[[0.0,\"#0d0887\"],[0.1111111111111111,\"#46039f\"],[0.2222222222222222,\"#7201a8\"],[0.3333333333333333,\"#9c179e\"],[0.4444444444444444,\"#bd3786\"],[0.5555555555555556,\"#d8576b\"],[0.6666666666666666,\"#ed7953\"],[0.7777777777777778,\"#fb9f3a\"],[0.8888888888888888,\"#fdca26\"],[1.0,\"#f0f921\"]],\"sequentialminus\":[[0.0,\"#0d0887\"],[0.1111111111111111,\"#46039f\"],[0.2222222222222222,\"#7201a8\"],[0.3333333333333333,\"#9c179e\"],[0.4444444444444444,\"#bd3786\"],[0.5555555555555556,\"#d8576b\"],[0.6666666666666666,\"#ed7953\"],[0.7777777777777778,\"#fb9f3a\"],[0.8888888888888888,\"#fdca26\"],[1.0,\"#f0f921\"]]},\"hovermode\":\"closest\",\"hoverlabel\":{\"align\":\"left\"},\"coloraxis\":{\"colorbar\":{\"outlinewidth\":0.0,\"ticks\":\"\"}},\"geo\":{\"showland\":true,\"landcolor\":\"rgba(229, 236, 246, 1.0)\",\"showlakes\":true,\"lakecolor\":\"rgba(255, 255, 255, 1.0)\",\"subunitcolor\":\"rgba(255, 255, 255, 1.0)\",\"bgcolor\":\"rgba(255, 255, 255, 1.0)\"},\"mapbox\":{\"style\":\"light\"},\"polar\":{\"bgcolor\":\"rgba(229, 236, 246, 1.0)\",\"radialaxis\":{\"linecolor\":\"rgba(255, 255, 255, 1.0)\",\"gridcolor\":\"rgba(255, 255, 255, 1.0)\",\"ticks\":\"\"},\"angularaxis\":{\"linecolor\":\"rgba(255, 255, 255, 1.0)\",\"gridcolor\":\"rgba(255, 255, 255, 1.0)\",\"ticks\":\"\"}},\"scene\":{\"xaxis\":{\"ticks\":\"\",\"linecolor\":\"rgba(255, 255, 255, 1.0)\",\"gridcolor\":\"rgba(255, 255, 255, 1.0)\",\"gridwidth\":2.0,\"zerolinecolor\":\"rgba(255, 255, 255, 1.0)\",\"backgroundcolor\":\"rgba(229, 236, 246, 1.0)\",\"showbackground\":true},\"yaxis\":{\"ticks\":\"\",\"linecolor\":\"rgba(255, 255, 255, 1.0)\",\"gridcolor\":\"rgba(255, 255, 255, 1.0)\",\"gridwidth\":2.0,\"zerolinecolor\":\"rgba(255, 255, 255, 1.0)\",\"backgroundcolor\":\"rgba(229, 236, 246, 1.0)\",\"showbackground\":true},\"zaxis\":{\"ticks\":\"\",\"linecolor\":\"rgba(255, 255, 255, 1.0)\",\"gridcolor\":\"rgba(255, 255, 255, 1.0)\",\"gridwidth\":2.0,\"zerolinecolor\":\"rgba(255, 255, 255, 1.0)\",\"backgroundcolor\":\"rgba(229, 236, 246, 1.0)\",\"showbackground\":true}},\"ternary\":{\"aaxis\":{\"ticks\":\"\",\"linecolor\":\"rgba(255, 255, 255, 1.0)\",\"gridcolor\":\"rgba(255, 255, 255, 1.0)\"},\"baxis\":{\"ticks\":\"\",\"linecolor\":\"rgba(255, 255, 255, 1.0)\",\"gridcolor\":\"rgba(255, 255, 255, 1.0)\"},\"caxis\":{\"ticks\":\"\",\"linecolor\":\"rgba(255, 255, 255, 1.0)\",\"gridcolor\":\"rgba(255, 255, 255, 1.0)\"},\"bgcolor\":\"rgba(229, 236, 246, 1.0)\"},\"xaxis\":{\"title\":{\"standoff\":15},\"ticks\":\"\",\"automargin\":true,\"linecolor\":\"rgba(255, 255, 255, 1.0)\",\"gridcolor\":\"rgba(255, 255, 255, 1.0)\",\"zerolinecolor\":\"rgba(255, 255, 255, 1.0)\",\"zerolinewidth\":2.0},\"yaxis\":{\"title\":{\"standoff\":15},\"ticks\":\"\",\"automargin\":true,\"linecolor\":\"rgba(255, 255, 255, 1.0)\",\"gridcolor\":\"rgba(255, 255, 255, 1.0)\",\"zerolinecolor\":\"rgba(255, 255, 255, 1.0)\",\"zerolinewidth\":2.0},\"annotationdefaults\":{\"arrowcolor\":\"#2a3f5f\",\"arrowhead\":0,\"arrowwidth\":1},\"shapedefaults\":{\"line\":{\"color\":\"rgba(42, 63, 95, 1.0)\"}},\"colorway\":[\"rgba(99, 110, 250, 1.0)\",\"rgba(239, 85, 59, 1.0)\",\"rgba(0, 204, 150, 1.0)\",\"rgba(171, 99, 250, 1.0)\",\"rgba(255, 161, 90, 1.0)\",\"rgba(25, 211, 243, 1.0)\",\"rgba(255, 102, 146, 1.0)\",\"rgba(182, 232, 128, 1.0)\",\"rgba(255, 151, 255, 1.0)\",\"rgba(254, 203, 82, 1.0)\"]},\"data\":{\"bar\":[{\"marker\":{\"line\":{\"color\":\"rgba(229, 236, 246, 1.0)\",\"width\":0.5},\"pattern\":{\"fillmode\":\"overlay\",\"size\":10,\"solidity\":0.2}},\"error_x\":{\"color\":\"rgba(42, 63, 95, 1.0)\"},\"error_y\":{\"color\":\"rgba(42, 63, 95, 1.0)\"}}],\"barpolar\":[{\"marker\":{\"line\":{\"color\":\"rgba(229, 236, 246, 1.0)\",\"width\":0.5},\"pattern\":{\"fillmode\":\"overlay\",\"size\":10,\"solidity\":0.2}}}],\"carpet\":[{\"aaxis\":{\"linecolor\":\"rgba(255, 255, 255, 1.0)\",\"gridcolor\":\"rgba(255, 255, 255, 1.0)\",\"endlinecolor\":\"rgba(42, 63, 95, 1.0)\",\"minorgridcolor\":\"rgba(255, 255, 255, 1.0)\",\"startlinecolor\":\"rgba(42, 63, 95, 1.0)\"},\"baxis\":{\"linecolor\":\"rgba(255, 255, 255, 1.0)\",\"gridcolor\":\"rgba(255, 255, 255, 1.0)\",\"endlinecolor\":\"rgba(42, 63, 95, 1.0)\",\"minorgridcolor\":\"rgba(255, 255, 255, 1.0)\",\"startlinecolor\":\"rgba(42, 63, 95, 1.0)\"}}],\"choropleth\":[{\"colorbar\":{\"outlinewidth\":0.0,\"ticks\":\"\"},\"colorscale\":[[0.0,\"#0d0887\"],[0.1111111111111111,\"#46039f\"],[0.2222222222222222,\"#7201a8\"],[0.3333333333333333,\"#9c179e\"],[0.4444444444444444,\"#bd3786\"],[0.5555555555555556,\"#d8576b\"],[0.6666666666666666,\"#ed7953\"],[0.7777777777777778,\"#fb9f3a\"],[0.8888888888888888,\"#fdca26\"],[1.0,\"#f0f921\"]]}],\"contour\":[{\"colorbar\":{\"outlinewidth\":0.0,\"ticks\":\"\"},\"colorscale\":[[0.0,\"#0d0887\"],[0.1111111111111111,\"#46039f\"],[0.2222222222222222,\"#7201a8\"],[0.3333333333333333,\"#9c179e\"],[0.4444444444444444,\"#bd3786\"],[0.5555555555555556,\"#d8576b\"],[0.6666666666666666,\"#ed7953\"],[0.7777777777777778,\"#fb9f3a\"],[0.8888888888888888,\"#fdca26\"],[1.0,\"#f0f921\"]]}],\"contourcarpet\":[{\"colorbar\":{\"outlinewidth\":0.0,\"ticks\":\"\"}}],\"heatmap\":[{\"colorbar\":{\"outlinewidth\":0.0,\"ticks\":\"\"},\"colorscale\":[[0.0,\"#0d0887\"],[0.1111111111111111,\"#46039f\"],[0.2222222222222222,\"#7201a8\"],[0.3333333333333333,\"#9c179e\"],[0.4444444444444444,\"#bd3786\"],[0.5555555555555556,\"#d8576b\"],[0.6666666666666666,\"#ed7953\"],[0.7777777777777778,\"#fb9f3a\"],[0.8888888888888888,\"#fdca26\"],[1.0,\"#f0f921\"]]}],\"heatmapgl\":[{\"colorbar\":{\"outlinewidth\":0.0,\"ticks\":\"\"},\"colorscale\":[[0.0,\"#0d0887\"],[0.1111111111111111,\"#46039f\"],[0.2222222222222222,\"#7201a8\"],[0.3333333333333333,\"#9c179e\"],[0.4444444444444444,\"#bd3786\"],[0.5555555555555556,\"#d8576b\"],[0.6666666666666666,\"#ed7953\"],[0.7777777777777778,\"#fb9f3a\"],[0.8888888888888888,\"#fdca26\"],[1.0,\"#f0f921\"]]}],\"histogram\":[{\"marker\":{\"pattern\":{\"fillmode\":\"overlay\",\"size\":10,\"solidity\":0.2}}}],\"histogram2d\":[{\"colorbar\":{\"outlinewidth\":0.0,\"ticks\":\"\"},\"colorscale\":[[0.0,\"#0d0887\"],[0.1111111111111111,\"#46039f\"],[0.2222222222222222,\"#7201a8\"],[0.3333333333333333,\"#9c179e\"],[0.4444444444444444,\"#bd3786\"],[0.5555555555555556,\"#d8576b\"],[0.6666666666666666,\"#ed7953\"],[0.7777777777777778,\"#fb9f3a\"],[0.8888888888888888,\"#fdca26\"],[1.0,\"#f0f921\"]]}],\"histogram2dcontour\":[{\"colorbar\":{\"outlinewidth\":0.0,\"ticks\":\"\"},\"colorscale\":[[0.0,\"#0d0887\"],[0.1111111111111111,\"#46039f\"],[0.2222222222222222,\"#7201a8\"],[0.3333333333333333,\"#9c179e\"],[0.4444444444444444,\"#bd3786\"],[0.5555555555555556,\"#d8576b\"],[0.6666666666666666,\"#ed7953\"],[0.7777777777777778,\"#fb9f3a\"],[0.8888888888888888,\"#fdca26\"],[1.0,\"#f0f921\"]]}],\"mesh3d\":[{\"colorbar\":{\"outlinewidth\":0.0,\"ticks\":\"\"}}],\"parcoords\":[{\"line\":{\"colorbar\":{\"outlinewidth\":0.0,\"ticks\":\"\"}}}],\"pie\":[{\"automargin\":true}],\"scatter\":[{\"marker\":{\"colorbar\":{\"outlinewidth\":0.0,\"ticks\":\"\"}}}],\"scatter3d\":[{\"marker\":{\"colorbar\":{\"outlinewidth\":0.0,\"ticks\":\"\"}},\"line\":{\"colorbar\":{\"outlinewidth\":0.0,\"ticks\":\"\"}}}],\"scattercarpet\":[{\"marker\":{\"colorbar\":{\"outlinewidth\":0.0,\"ticks\":\"\"}}}],\"scattergeo\":[{\"marker\":{\"colorbar\":{\"outlinewidth\":0.0,\"ticks\":\"\"}}}],\"scattergl\":[{\"marker\":{\"colorbar\":{\"outlinewidth\":0.0,\"ticks\":\"\"}}}],\"scattermapbox\":[{\"marker\":{\"colorbar\":{\"outlinewidth\":0.0,\"ticks\":\"\"}}}],\"scatterpolar\":[{\"marker\":{\"colorbar\":{\"outlinewidth\":0.0,\"ticks\":\"\"}}}],\"scatterpolargl\":[{\"marker\":{\"colorbar\":{\"outlinewidth\":0.0,\"ticks\":\"\"}}}],\"scatterternary\":[{\"marker\":{\"colorbar\":{\"outlinewidth\":0.0,\"ticks\":\"\"}}}],\"surface\":[{\"colorbar\":{\"outlinewidth\":0.0,\"ticks\":\"\"},\"colorscale\":[[0.0,\"#0d0887\"],[0.1111111111111111,\"#46039f\"],[0.2222222222222222,\"#7201a8\"],[0.3333333333333333,\"#9c179e\"],[0.4444444444444444,\"#bd3786\"],[0.5555555555555556,\"#d8576b\"],[0.6666666666666666,\"#ed7953\"],[0.7777777777777778,\"#fb9f3a\"],[0.8888888888888888,\"#fdca26\"],[1.0,\"#f0f921\"]]}],\"table\":[{\"cells\":{\"fill\":{\"color\":\"rgba(235, 240, 248, 1.0)\"},\"line\":{\"color\":\"rgba(255, 255, 255, 1.0)\"}},\"header\":{\"fill\":{\"color\":\"rgba(200, 212, 227, 1.0)\"},\"line\":{\"color\":\"rgba(255, 255, 255, 1.0)\"}}}]}},\"xaxis\":{\"title\":{\"text\":\"Proteinkonzentration von x1\"}},\"yaxis\":{\"title\":{\"text\":\"Proteinkonzentration von x2\"}},\"scene\":{\"zaxis\":{\"title\":{\"text\":\"Proteinkonzentration von x3\"}}}};\r\n",
       "            var config = {\"responsive\":true};\r\n",
       "            Plotly.newPlot('85e25d98-4f8e-4bc1-a8a2-d90cd9d5da40', data, layout, config);\r\n",
       "});\r\n",
       "            };\r\n",
       "            if ((typeof(requirejs) !==  typeof(Function)) || (typeof(requirejs.config) !== typeof(Function))) {\r\n",
       "                var script = document.createElement(\"script\");\r\n",
       "                script.setAttribute(\"src\", \"https://cdnjs.cloudflare.com/ajax/libs/require.js/2.3.6/require.min.js\");\r\n",
       "                script.onload = function(){\r\n",
       "                    renderPlotly_85e25d984f8e4bc1a8a2d90cd9d5da40();\r\n",
       "                };\r\n",
       "                document.getElementsByTagName(\"head\")[0].appendChild(script);\r\n",
       "            }\r\n",
       "            else {\r\n",
       "                renderPlotly_85e25d984f8e4bc1a8a2d90cd9d5da40();\r\n",
       "            }\r\n",
       "</script>\r\n",
       "\n",
       "    \n",
       "</div>    \n"
      ]
     },
     "metadata": {},
     "output_type": "display_data"
    }
   ],
   "source": [
    "//Konstanten\n",
    "let beta  = 5. // Konstante für die Zunahme der Proteinkonzentration\n",
    "let gamma = 1. // Konstante für die Abnahme der Proteinkonzentration \n",
    "let K_d   = 1. // Dissoziationskonstante\n",
    "let n     = 3. // Hillkonstante\n",
    "\n",
    "let repressilator_rhs (x1,x2,x3) t beta n =\n",
    "    [|\n",
    "        beta / (1. + x3 ** n) - x1\n",
    "        beta / (1. + x1 ** n) - x2\n",
    "        beta / (1. + x2 ** n) - x3\n",
    "    |]\n",
    "\n",
    "// Define a function which calculates the derivative\n",
    "let dP_dt : Model = \n",
    "    fun P t ->\n",
    "        let x1 = P[0] //Änderung der Proteinkonzentration von x1\n",
    "        let x2 = P[1] //Änderung der Proteinkonzentration von x2\n",
    "        let x3 = P[2] //Änderung der Proteinkonzentration von x3\n",
    "\n",
    "        //Differenzialgleichung die die Änderung der Proteinkonzentration von x1 beschreibt (hier die Gleichung einsetzen)\n",
    "        let x1' = beta / (1. + (x3/K_d) ** n) - gamma * x1\n",
    "        //Differenzialgleichung die die Änderung der Proteinkonzentration von x2 beschreibt (hier die Gleichung einsetzen)\n",
    "        let x2' = beta / (1. + (x1/K_d) ** n) - gamma * x2\n",
    "        //Differenzialgleichung die die Änderung der Proteinkonzentration von x3 beschreibt (hier die Gleichung einsetzen)\n",
    "        let x3' = beta / (1. + (x2/K_d) ** n) - gamma * x3\n",
    "\n",
    "        [|x1'; x2'; x3'|]\n",
    "\n",
    "//Startkonzentrationen\n",
    "let P0 = [|0.; 0.; 0.1|]\n",
    "\n",
    "let Ps = \n",
    "    modelContext.OdeInt(0.,P0,dP_dt)\n",
    "    |> SolPoints.take 1000\n",
    "    |> SolPoints.memorize \n",
    "    \n",
    "let x1 = SolPoints.toY 0 Ps\n",
    "let x2 = SolPoints.toY 1 Ps\n",
    "let x3 = SolPoints.toY 2 Ps\n",
    "\n",
    "Chart.Line3D(x1, x2, x3)\n",
    "|> Chart.withSize(1100,600)\n",
    "|> Chart.withXAxisStyle(\"Proteinkonzentration von x1\")\n",
    "|> Chart.withYAxisStyle(\"Proteinkonzentration von x2\")\n",
    "|> Chart.withZAxisStyle(\"Proteinkonzentration von x3\")"
   ]
  },
  {
   "cell_type": "markdown",
   "metadata": {},
   "source": [
    "Der gezeigte Graph zeigt wie sich die Konzentrationen der drei Proteine über die Zeit verhalten. Wir sehen die erwartet Oszillation für die angegebenen Startwerte. \n",
    "\n",
    "##### Aufgabe 4.17\n",
    "***Verändern Sie die Werte der Hillkonstante. Was beobachten Sie für die verschiedenen Werte von n im Bezug auf die Oszillation? Testen Sie die folgenden Werte:***\n",
    "$$n=1$$\n",
    "$$n=2$$\n",
    "$$n=3$$\n",
    "$$n=4$$\n",
    "***Kopieren Sie dafür den Code Block mit den drei Differenzialgleichungen in den folgenden Code Block und ändern Sie dann die Konstante \"n\".***"
   ]
  },
  {
   "cell_type": "code",
   "execution_count": null,
   "metadata": {
    "dotnet_interactive": {
     "language": "fsharp"
    },
    "vscode": {
     "languageId": "dotnet-interactive.fsharp"
    }
   },
   "outputs": [],
   "source": [
    "//Code hier einfügen"
   ]
  },
  {
   "cell_type": "markdown",
   "metadata": {},
   "source": [
    "Hier die Antwort eingeben für die 4 Werte"
   ]
  },
  {
   "cell_type": "markdown",
   "metadata": {},
   "source": [
    "##### Aufgabe 4.18\n",
    "***Verändern Sie die Werte der Produkionskonstante $\\beta$. Was beobachten Sie für die verschiedenen Werte von n im Bezug auf die Oszillation? Testen Sie die folgenden Werte:***\n",
    "$$\\beta=1$$\n",
    "$$\\beta=2$$\n",
    "$$\\beta=3$$\n",
    "$$\\beta=4$$\n",
    "***Kopieren Sie dafür den Code Block mit den drei Differenzialgleichungen (den originalen Code Block, nicht den mit den Veränderten Werten von der Hillkonstante) in den folgenden Code Block und ändern Sie dann die Konstante \"beta\".***"
   ]
  },
  {
   "cell_type": "code",
   "execution_count": null,
   "metadata": {
    "dotnet_interactive": {
     "language": "fsharp"
    },
    "vscode": {
     "languageId": "dotnet-interactive.fsharp"
    }
   },
   "outputs": [],
   "source": [
    "//Code hier einfügen"
   ]
  },
  {
   "cell_type": "markdown",
   "metadata": {},
   "source": [
    "Hier die Antwort eingeben für die vier Werte"
   ]
  },
  {
   "cell_type": "markdown",
   "metadata": {},
   "source": [
    "##### Aufgabe 4.19\n",
    "***Verändern Sie jetzt die Startkonzentrationen. Was beobachten Sie für die verschiedenen Werte?\n",
    "Testen Sie die folgenden Werte (hier angegeben als Startkonzentration x1; Startkonzentration x2; Startkonzentration x3):***\n",
    "1. 10.; 0.; 0.\n",
    "2. 0.; 10.; 10.\n",
    "3. 0.; 0.; 0.\n",
    "\n",
    "***Kopieren Sie dafür den Code Block mit den drei Differenzialgleichungen (den originalen Code Block, nicht den mit den Veränderten Werten von der Hillkonstante) in den folgenden Code Block und ändern Sie dann die Startkonzentrationen.***"
   ]
  },
  {
   "cell_type": "code",
   "execution_count": null,
   "metadata": {
    "dotnet_interactive": {
     "language": "fsharp"
    },
    "vscode": {
     "languageId": "dotnet-interactive.fsharp"
    }
   },
   "outputs": [],
   "source": [
    "// Code hier einfügen"
   ]
  },
  {
   "cell_type": "markdown",
   "metadata": {},
   "source": [
    "Wie Sie beim bearbeiten der Aufgaben gesehen haben sollten, kommt es beim Repressilator entweder zur Ausbildung eines stabilen Grenzpunktes oder zur Ausbildung von einem Grenzzyklus. Diese Änderung konnten Sie herbeiführen durch das Ändern von Konstanten, in diesem Fall entweder durch das ändern von $\\beta$ oder $n$. Das heißt es handelt sich hier wieder um Bifurkation, da der qualitative Zustand des Systems, stabile Punktattraktion oder Grenzzyklus, durch das Verändern von Parametern beeinflusst wird. Allerdings handelt es sich nicht wie davor um eine Saddle Node Bifurkation, sondern um eine sogenannte **Hopf Bifurkation**. \n",
    "\n",
    "\n",
    "Es folgt eine kurze Besprechung. Fall Sie zu schnell vorangekommen sind können Sie die folgende Aufgabe bearbeiten.\n",
    "Exptertenaufgabe 4.4: \n",
    "Erweitern Sie den Repressilator um ein weiteres Protein, so dass sich vier Proteine im Kreis gegenseitig regulieren. Dieses vierte Protein soll vom dritten Protein x3 reguliert werden und soll das Protein x1 regulierten. x1 wird nicht mehr von x3 reguliert.\n",
    "Stellen Sie die Differenzialgleichungen auf und fügen Sie diese in den nachfolgenden Code Block ein. "
   ]
  },
  {
   "cell_type": "code",
   "execution_count": null,
   "metadata": {
    "dotnet_interactive": {
     "language": "fsharp"
    },
    "vscode": {
     "languageId": "dotnet-interactive.fsharp"
    }
   },
   "outputs": [
    {
     "data": {
      "text/html": [
       "\n",
       "<div>\n",
       "    <div id=\"7206b704-f636-48fd-b9c2-c7415c1cbff7\"><!-- Plotly chart will be drawn inside this DIV --></div>\r\n",
       "<script type=\"text/javascript\">\r\n",
       "\r\n",
       "            var renderPlotly_7206b704f63648fdb9c2c7415c1cbff7 = function() {\r\n",
       "            var fsharpPlotlyRequire = requirejs.config({context:'fsharp-plotly',paths:{plotly:'https://cdn.plot.ly/plotly-2.6.3.min'}}) || require;\r\n",
       "            fsharpPlotlyRequire(['plotly'], function(Plotly) {\r\n",
       "\r\n",
       "            var data = [{\"type\":\"scatter\",\"mode\":\"lines\",\"x\":[0.0,1.0,1.9775170499610208,3.2682123130514134,4.965101035591575,7.09106356136829,9.681250019299855,12.785812026134208,16.47222154868158,20.844868403911384,26.092253699309886,32.682997365602084,40.29107499344409,47.72990780658685,54.63346117167025,61.096243492452814,67.40684604483843,73.91587990520225,80.9489979719615,88.74043354434085,97.394285917898,106.92790674826051,117.3824076755539,128.9036530741561,141.76766249322097,156.3916833561101,173.3700809645686,193.5627189439275,218.27308934066093,249.5960170870208,291.0809035521918,348.71136732100115,394.86795380809934,428.59300641383345,455.8507347592253,480.0564479796637,503.5027366107182,529.595658385446,561.7154160796998,602.1471569176165,648.8270415481705,675.950508640379,700.3365682034708,724.8175464992036,752.5010302304214,786.4029628515458,827.8026109410549,873.2756735483161,898.0134009237966,920.2781108225248,943.2127165442398,970.6205773333539,1006.1329971612206,1051.3191956317482,1094.860799490546,1124.379262849578,1148.617884868786,1171.2904962053117,1195.5578681642996,1225.1026375706035,1263.1024914692787,1309.5618714162815,1349.032574141844,1375.3803476065407,1397.966317503506,1420.270098658108,1445.9493843130622,1478.7763920677576,1521.3423537203423,1570.9493524163602,1596.7325059429254,1619.5121386372268,1642.5635633164059,1669.5061339623715,1703.9195126416573,1747.6402599990759,1791.7067556923078,1822.482244638389,1847.6983193912524,1870.9384525463693,1895.0717736590905,1923.646257668829,1959.8486179455454,2004.3856572998063,2045.1891195430585,2073.4285331376395,2097.368468717322,2120.3998920356935,2145.775810147726,2177.061035048281,2216.928635354882,2263.991362696639,2292.3723757362864,2317.9040459849575,2343.1861984892507,2370.871871496491,2403.631871899099,2442.729353127359,2485.773399422326,2518.5137495975464,2545.1181865756125,2569.0722074721543,2592.825871762841,2619.796711592531,2653.2694727079142,2695.01021149884,2741.8536321521924,2767.0223203360683,2789.5358281148124,2812.572066525466,2839.854236443873,2874.975225358778,2919.5708104080195,2963.186373362259,2993.1175843456917,3017.709312307238,3040.6124812837625,3064.882694440249,3094.1455392744447,3131.5598860446876,3177.336591743984,3217.1469883964146,3244.068654408446,3267.0899811315003,3289.6542392509527,3315.2973453364098,3347.7213873202613,3389.5114216359198,3438.321565269014,3464.761708356995,3488.246189009372,3511.8908829661564,3539.104617494425,3573.251751193335,3615.9551327337063,3663.467981252229,3687.6820073838394,3709.219843496095,3731.4190256585057,3758.2172525652886,3793.4407199268267,3839.0940789990873,3884.1645764191967,3914.312458489428,3938.6464412633213,3961.0838175740114,3984.768116856031,4013.453148089245,4050.5402993864313,4096.692583120913],\"y\":[1.0,1.323000000650052,1.53933483517184,1.7391967242380033,1.9139551705581792,2.0522225769758586,2.155259621000778,2.2332376158865563,2.303799433180865,2.393244675995394,2.5425919934193706,2.8365857959761134,3.393397184666496,4.250209643022508,5.3302653291645,6.456627887110604,7.4736904856707955,8.306363414775628,8.933415815888377,9.362806750221685,9.62627836400286,9.771195839817235,9.843680526818613,9.877053686876305,9.891172254681305,9.896562046524657,9.89835778787491,9.898854592286115,9.898960866914368,9.89897682273768,9.898977864534718,9.898948722235547,9.89860579722658,9.898345030591917,9.898709333547938,9.898919225238389,9.898967779205254,9.89897562926458,9.89897472043609,9.898951501771757,9.898546416046445,9.898800368474081,9.898938110861701,9.898969749006142,9.898974921733654,9.898971366863467,9.898923532177628,9.89825325454297,9.898799627159152,9.89895033783046,9.898974280392968,9.898977191735314,9.898973896844042,9.898909983008,9.898306012126287,9.89850424709257,9.89887279598033,9.898961177549557,9.898975352705218,9.898976552310568,9.898968171514243,9.898809883190772,9.898133015885218,9.898684642880466,9.898929526664668,9.89897134696913,9.898977033422844,9.898975976922998,9.89895031223881,9.898300809840006,9.898770391000333,9.898943025968473,9.898972852977762,9.898976850650829,9.898974298164969,9.898927817902061,9.8984367385211,9.898475437536662,9.898841781939646,9.898953650974754,9.898973801050277,9.898976233369519,9.898970456538109,9.898877617508955,9.898342925898438,9.898641582198879,9.898907780778714,9.89896648296893,9.898975812238431,9.89897568000715,9.898959164891636,9.898647294056445,9.898797470943933,9.89892634176825,9.89896476457807,9.898972581939672,9.898969742184352,9.898933898630455,9.898570726567467,9.898404868003281,9.898767691103053,9.898934424207043,9.898970243480832,9.898975790746812,9.898973455475925,9.898935556911448,9.898283461377865,9.898791204385217,9.898947912250657,9.89897375582871,9.898977030435288,9.898973937046408,9.898916330182804,9.89836048238396,9.89850112875516,9.898864424857766,9.898959038602936,9.89897486731903,9.898976405990888,9.898968794840615,9.898834400366418,9.898212116069777,9.898676052297466,9.898924550976893,9.898970206437353,9.8989767112868,9.898975832871853,9.898952663153798,9.898419600122573,9.89878046065533,9.898940564547338,9.89897165716076,9.898976181912646,9.898973314849473,9.898927048809762,9.898065619176746,9.898775293393607,9.898949116505905,9.898974606146995,9.898977608421323,9.898975158781957,9.898921823284882,9.898274530655963,9.898408232025327,9.898848861456324,9.898957814068591,9.89897509582461,9.8989769114633,9.898971066704341,9.89885878358456],\"marker\":{},\"line\":{\"shape\":\"spline\"},\"name\":\"x1\"},{\"type\":\"scatter\",\"mode\":\"lines\",\"x\":[0.0,1.0,1.9775170499610208,3.2682123130514134,4.965101035591575,7.09106356136829,9.681250019299855,12.785812026134208,16.47222154868158,20.844868403911384,26.092253699309886,32.682997365602084,40.29107499344409,47.72990780658685,54.63346117167025,61.096243492452814,67.40684604483843,73.91587990520225,80.9489979719615,88.74043354434085,97.394285917898,106.92790674826051,117.3824076755539,128.9036530741561,141.76766249322097,156.3916833561101,173.3700809645686,193.5627189439275,218.27308934066093,249.5960170870208,291.0809035521918,348.71136732100115,394.86795380809934,428.59300641383345,455.8507347592253,480.0564479796637,503.5027366107182,529.595658385446,561.7154160796998,602.1471569176165,648.8270415481705,675.950508640379,700.3365682034708,724.8175464992036,752.5010302304214,786.4029628515458,827.8026109410549,873.2756735483161,898.0134009237966,920.2781108225248,943.2127165442398,970.6205773333539,1006.1329971612206,1051.3191956317482,1094.860799490546,1124.379262849578,1148.617884868786,1171.2904962053117,1195.5578681642996,1225.1026375706035,1263.1024914692787,1309.5618714162815,1349.032574141844,1375.3803476065407,1397.966317503506,1420.270098658108,1445.9493843130622,1478.7763920677576,1521.3423537203423,1570.9493524163602,1596.7325059429254,1619.5121386372268,1642.5635633164059,1669.5061339623715,1703.9195126416573,1747.6402599990759,1791.7067556923078,1822.482244638389,1847.6983193912524,1870.9384525463693,1895.0717736590905,1923.646257668829,1959.8486179455454,2004.3856572998063,2045.1891195430585,2073.4285331376395,2097.368468717322,2120.3998920356935,2145.775810147726,2177.061035048281,2216.928635354882,2263.991362696639,2292.3723757362864,2317.9040459849575,2343.1861984892507,2370.871871496491,2403.631871899099,2442.729353127359,2485.773399422326,2518.5137495975464,2545.1181865756125,2569.0722074721543,2592.825871762841,2619.796711592531,2653.2694727079142,2695.01021149884,2741.8536321521924,2767.0223203360683,2789.5358281148124,2812.572066525466,2839.854236443873,2874.975225358778,2919.5708104080195,2963.186373362259,2993.1175843456917,3017.709312307238,3040.6124812837625,3064.882694440249,3094.1455392744447,3131.5598860446876,3177.336591743984,3217.1469883964146,3244.068654408446,3267.0899811315003,3289.6542392509527,3315.2973453364098,3347.7213873202613,3389.5114216359198,3438.321565269014,3464.761708356995,3488.246189009372,3511.8908829661564,3539.104617494425,3573.251751193335,3615.9551327337063,3663.467981252229,3687.6820073838394,3709.219843496095,3731.4190256585057,3758.2172525652886,3793.4407199268267,3839.0940789990873,3884.1645764191967,3914.312458489428,3938.6464412633213,3961.0838175740114,3984.768116856031,4013.453148089245,4050.5402993864313,4096.692583120913],\"y\":[1.0,1.3062646366333157,1.488548655660898,1.6348020702098403,1.7373381995653319,1.7906611840568571,1.8006786925741811,1.7775865642849682,1.730202255974809,1.6605083911927585,1.5581120089980318,1.3919059592028216,1.1478937749290687,0.881454094732656,0.6490297364228654,0.47183465093159294,0.34425709480632605,0.2541668189378585,0.1920634401292611,0.15141697819413558,0.12684685020025188,0.1132774809776518,0.10639779884268884,0.10317860808676499,0.10179632808774378,0.10126237119236932,0.10108297598910417,0.10103308505011382,0.10102238399630588,0.1010207716487887,0.10102059585163252,0.10101842589147669,0.10098371515378234,0.10095659365360621,0.10099324862060141,0.10101443089486505,0.10101933249775262,0.10102012495876028,0.10102003307180728,0.10101768753010425,0.10097677185505274,0.10100242165919168,0.10101633506693732,0.10101953089421155,0.10102005340052718,0.10101969428166692,0.10101486210694297,0.10094716829521655,0.10100234887879281,0.10101757063610106,0.1010199887254044,0.10102028272600663,0.10101994986245703,0.10101349341855738,0.10095249576363541,0.10097251428694255,0.10100973837674626,0.10101866526868042,0.10102009697943501,0.10102021812145538,0.1010193714888131,0.10100338208922997,0.1009350298058513,0.10099073533334378,0.10101546874216552,0.10101969247707322,0.10102026674666063,0.10102015999370625,0.10101756736191032,0.10095196907596052,0.10099939498288807,0.10101683191199676,0.1010198445146603,0.10102024826802004,0.10101999040328927,0.10101529503513289,0.10096569614952283,0.1009696045069559,0.10100660549765031,0.1010179049620613,0.1010199402363727,0.1010201859026573,0.10101960232115699,0.10101022403207373,0.10095622352224207,0.10098638434878203,0.10101327179075212,0.10101920108035667,0.10102014337790166,0.10102012999815724,0.10101846164499735,0.10098695997593794,0.10100212862903278,0.10101514610738159,0.10101902736032872,0.10101981703348031,0.10101953015654658,0.10101590929440978,0.10097922730833017,0.10096247820417244,0.10099912172327467,0.10101596284549011,0.10101958088116973,0.10102014119332964,0.10101990527404668,0.10101607680860022,0.10095021799803996,0.10100149769208708,0.10101732554390053,0.10101993572345168,0.10102026643009317,0.1010199539232993,0.10101413458500741,0.10095799588817474,0.10097219917593803,0.10100889271287741,0.10101844918867714,0.10102004794524796,0.10102020334013669,0.10101943445690467,0.10100585857288388,0.10094301584471224,0.10098986687675283,0.10101496597373477,0.10101957723665432,0.10102023420109557,0.10102014544099559,0.10101780484749381,0.10096396473476008,0.10100041134803944,0.10101658308765679,0.10101972368218881,0.10102018070765154,0.10101989106784957,0.10101521734433584,0.10092822296070611,0.10099989275297445,0.10101744768853177,0.10102002171443118,0.10102032483111126,0.10102007734571984,0.1010146894787712,0.10094931667022752,0.10096281819962434,0.10100732121895571,0.10101832562621697,0.1010200710529601,0.1010202544062782,0.1010196639608572,0.10100832155467068],\"marker\":{},\"line\":{\"shape\":\"spline\"},\"name\":\"x2\"},{\"type\":\"scatter\",\"mode\":\"lines\",\"x\":[0.0,1.0,1.9775170499610208,3.2682123130514134,4.965101035591575,7.09106356136829,9.681250019299855,12.785812026134208,16.47222154868158,20.844868403911384,26.092253699309886,32.682997365602084,40.29107499344409,47.72990780658685,54.63346117167025,61.096243492452814,67.40684604483843,73.91587990520225,80.9489979719615,88.74043354434085,97.394285917898,106.92790674826051,117.3824076755539,128.9036530741561,141.76766249322097,156.3916833561101,173.3700809645686,193.5627189439275,218.27308934066093,249.5960170870208,291.0809035521918,348.71136732100115,394.86795380809934,428.59300641383345,455.8507347592253,480.0564479796637,503.5027366107182,529.595658385446,561.7154160796998,602.1471569176165,648.8270415481705,675.950508640379,700.3365682034708,724.8175464992036,752.5010302304214,786.4029628515458,827.8026109410549,873.2756735483161,898.0134009237966,920.2781108225248,943.2127165442398,970.6205773333539,1006.1329971612206,1051.3191956317482,1094.860799490546,1124.379262849578,1148.617884868786,1171.2904962053117,1195.5578681642996,1225.1026375706035,1263.1024914692787,1309.5618714162815,1349.032574141844,1375.3803476065407,1397.966317503506,1420.270098658108,1445.9493843130622,1478.7763920677576,1521.3423537203423,1570.9493524163602,1596.7325059429254,1619.5121386372268,1642.5635633164059,1669.5061339623715,1703.9195126416573,1747.6402599990759,1791.7067556923078,1822.482244638389,1847.6983193912524,1870.9384525463693,1895.0717736590905,1923.646257668829,1959.8486179455454,2004.3856572998063,2045.1891195430585,2073.4285331376395,2097.368468717322,2120.3998920356935,2145.775810147726,2177.061035048281,2216.928635354882,2263.991362696639,2292.3723757362864,2317.9040459849575,2343.1861984892507,2370.871871496491,2403.631871899099,2442.729353127359,2485.773399422326,2518.5137495975464,2545.1181865756125,2569.0722074721543,2592.825871762841,2619.796711592531,2653.2694727079142,2695.01021149884,2741.8536321521924,2767.0223203360683,2789.5358281148124,2812.572066525466,2839.854236443873,2874.975225358778,2919.5708104080195,2963.186373362259,2993.1175843456917,3017.709312307238,3040.6124812837625,3064.882694440249,3094.1455392744447,3131.5598860446876,3177.336591743984,3217.1469883964146,3244.068654408446,3267.0899811315003,3289.6542392509527,3315.2973453364098,3347.7213873202613,3389.5114216359198,3438.321565269014,3464.761708356995,3488.246189009372,3511.8908829661564,3539.104617494425,3573.251751193335,3615.9551327337063,3663.467981252229,3687.6820073838394,3709.219843496095,3731.4190256585057,3758.2172525652886,3793.4407199268267,3839.0940789990873,3884.1645764191967,3914.312458489428,3938.6464412633213,3961.0838175740114,3984.768116856031,4013.453148089245,4050.5402993864313,4096.692583120913],\"y\":[1.2,1.489475598236481,1.6641527291425102,1.8124577872598937,1.9331898715085272,2.0264722059702858,2.102592422747172,2.1760012055640523,2.261787838466502,2.376278952755778,2.5464904710474037,2.8467533774063165,3.3978003689907528,4.249717743458495,5.32860174807054,6.455293077255817,7.47287759269264,8.305934022760173,8.933214799634802,9.362723906460495,9.62624870200015,9.771186843003225,9.843678376511381,9.877053380118813,9.891172287233987,9.896562083599566,9.89835779990782,9.898854594340168,9.898960867057125,9.898976822703247,9.8989778643844,9.898948722430095,9.89860581332537,9.898345034249049,9.898709333108332,9.898919225189285,9.898967779200845,9.89897562926385,9.89897472043589,9.898951501772116,9.898546416049353,9.8988003684742,9.898938110861705,9.898969749006142,9.898974921733654,9.898971366863467,9.898923532177628,9.89825325454297,9.898799627159152,9.89895033783046,9.898974280392968,9.898977191735314,9.898973896844042,9.898909983008,9.898306012126287,9.89850424709257,9.89887279598033,9.898961177549557,9.898975352705218,9.898976552310568,9.898968171514243,9.898809883190772,9.898133015885218,9.898684642880466,9.898929526664668,9.89897134696913,9.898977033422844,9.898975976922998,9.89895031223881,9.898300809840006,9.898770391000333,9.898943025968473,9.898972852977762,9.898976850650829,9.898974298164969,9.898927817902061,9.8984367385211,9.898475437536662,9.898841781939646,9.898953650974754,9.898973801050277,9.898976233369519,9.898970456538109,9.898877617508955,9.898342925898438,9.898641582198879,9.898907780778714,9.89896648296893,9.898975812238431,9.89897568000715,9.898959164891636,9.898647294056445,9.898797470943933,9.89892634176825,9.89896476457807,9.898972581939672,9.898969742184352,9.898933898630455,9.898570726567467,9.898404868003281,9.898767691103053,9.898934424207043,9.898970243480832,9.898975790746812,9.898973455475925,9.898935556911448,9.898283461377865,9.898791204385217,9.898947912250657,9.89897375582871,9.898977030435288,9.898973937046408,9.898916330182804,9.89836048238396,9.89850112875516,9.898864424857766,9.898959038602936,9.89897486731903,9.898976405990888,9.898968794840615,9.898834400366418,9.898212116069777,9.898676052297466,9.898924550976893,9.898970206437353,9.8989767112868,9.898975832871853,9.898952663153798,9.898419600122573,9.89878046065533,9.898940564547338,9.89897165716076,9.898976181912646,9.898973314849473,9.898927048809762,9.898065619176746,9.898775293393607,9.898949116505905,9.898974606146995,9.898977608421323,9.898975158781957,9.898921823284882,9.898274530655963,9.898408232025327,9.898848861456324,9.898957814068591,9.89897509582461,9.8989769114633,9.898971066704341,9.89885878358456],\"marker\":{},\"line\":{\"shape\":\"spline\"},\"name\":\"x3\"},{\"type\":\"scatter\",\"mode\":\"lines\",\"x\":[0.0,1.0,1.9775170499610208,3.2682123130514134,4.965101035591575,7.09106356136829,9.681250019299855,12.785812026134208,16.47222154868158,20.844868403911384,26.092253699309886,32.682997365602084,40.29107499344409,47.72990780658685,54.63346117167025,61.096243492452814,67.40684604483843,73.91587990520225,80.9489979719615,88.74043354434085,97.394285917898,106.92790674826051,117.3824076755539,128.9036530741561,141.76766249322097,156.3916833561101,173.3700809645686,193.5627189439275,218.27308934066093,249.5960170870208,291.0809035521918,348.71136732100115,394.86795380809934,428.59300641383345,455.8507347592253,480.0564479796637,503.5027366107182,529.595658385446,561.7154160796998,602.1471569176165,648.8270415481705,675.950508640379,700.3365682034708,724.8175464992036,752.5010302304214,786.4029628515458,827.8026109410549,873.2756735483161,898.0134009237966,920.2781108225248,943.2127165442398,970.6205773333539,1006.1329971612206,1051.3191956317482,1094.860799490546,1124.379262849578,1148.617884868786,1171.2904962053117,1195.5578681642996,1225.1026375706035,1263.1024914692787,1309.5618714162815,1349.032574141844,1375.3803476065407,1397.966317503506,1420.270098658108,1445.9493843130622,1478.7763920677576,1521.3423537203423,1570.9493524163602,1596.7325059429254,1619.5121386372268,1642.5635633164059,1669.5061339623715,1703.9195126416573,1747.6402599990759,1791.7067556923078,1822.482244638389,1847.6983193912524,1870.9384525463693,1895.0717736590905,1923.646257668829,1959.8486179455454,2004.3856572998063,2045.1891195430585,2073.4285331376395,2097.368468717322,2120.3998920356935,2145.775810147726,2177.061035048281,2216.928635354882,2263.991362696639,2292.3723757362864,2317.9040459849575,2343.1861984892507,2370.871871496491,2403.631871899099,2442.729353127359,2485.773399422326,2518.5137495975464,2545.1181865756125,2569.0722074721543,2592.825871762841,2619.796711592531,2653.2694727079142,2695.01021149884,2741.8536321521924,2767.0223203360683,2789.5358281148124,2812.572066525466,2839.854236443873,2874.975225358778,2919.5708104080195,2963.186373362259,2993.1175843456917,3017.709312307238,3040.6124812837625,3064.882694440249,3094.1455392744447,3131.5598860446876,3177.336591743984,3217.1469883964146,3244.068654408446,3267.0899811315003,3289.6542392509527,3315.2973453364098,3347.7213873202613,3389.5114216359198,3438.321565269014,3464.761708356995,3488.246189009372,3511.8908829661564,3539.104617494425,3573.251751193335,3615.9551327337063,3663.467981252229,3687.6820073838394,3709.219843496095,3731.4190256585057,3758.2172525652886,3793.4407199268267,3839.0940789990873,3884.1645764191967,3914.312458489428,3938.6464412633213,3961.0838175740114,3984.768116856031,4013.453148089245,4050.5402993864313,4096.692583120913],\"y\":[1.0,1.2400174809652647,1.390195138946681,1.521326768815067,1.6284268325344735,1.7043322256003761,1.7478938207822894,1.759139911323421,1.736542259305282,1.675990207930747,1.5691382994673058,1.3942653127690596,1.1468208155253912,0.8806864339418456,0.6487524640383012,0.471756530534695,0.3442431918789692,0.2541705735169457,0.19206972024850866,0.1514215965566444,0.1268494312545158,0.11327868468316678,0.10639827962923679,0.10317877157578076,0.10179637390779252,0.10126238113923912,0.10108297749508335,0.10103308519038262,0.10102238401249233,0.10102077165471153,0.10102059584682177,0.10101842554908934,0.100983714868863,0.10095659446954387,0.1009932487164301,0.10101443090265835,0.10101933249847318,0.101020124958793,0.10102003307178345,0.10101768753005486,0.10097677185517852,0.10100242165922615,0.10101633506694051,0.1010195308942119,0.10102005340052725,0.10101969428166692,0.10101486210694297,0.10094716829521655,0.10100234887879281,0.10101757063610106,0.1010199887254044,0.10102028272600663,0.10101994986245703,0.10101349341855738,0.10095249576363541,0.10097251428694255,0.10100973837674626,0.10101866526868042,0.10102009697943501,0.10102021812145538,0.1010193714888131,0.10100338208922997,0.1009350298058513,0.10099073533334378,0.10101546874216552,0.10101969247707322,0.10102026674666063,0.10102015999370625,0.10101756736191032,0.10095196907596052,0.10099939498288807,0.10101683191199676,0.1010198445146603,0.10102024826802004,0.10101999040328927,0.10101529503513289,0.10096569614952283,0.1009696045069559,0.10100660549765031,0.1010179049620613,0.1010199402363727,0.1010201859026573,0.10101960232115699,0.10101022403207373,0.10095622352224207,0.10098638434878203,0.10101327179075212,0.10101920108035667,0.10102014337790166,0.10102012999815724,0.10101846164499735,0.10098695997593794,0.10100212862903278,0.10101514610738159,0.10101902736032872,0.10101981703348031,0.10101953015654658,0.10101590929440978,0.10097922730833017,0.10096247820417244,0.10099912172327467,0.10101596284549011,0.10101958088116973,0.10102014119332964,0.10101990527404668,0.10101607680860022,0.10095021799803996,0.10100149769208708,0.10101732554390053,0.10101993572345168,0.10102026643009317,0.1010199539232993,0.10101413458500741,0.10095799588817474,0.10097219917593803,0.10100889271287741,0.10101844918867714,0.10102004794524796,0.10102020334013669,0.10101943445690467,0.10100585857288388,0.10094301584471224,0.10098986687675283,0.10101496597373477,0.10101957723665432,0.10102023420109557,0.10102014544099559,0.10101780484749381,0.10096396473476008,0.10100041134803944,0.10101658308765679,0.10101972368218881,0.10102018070765154,0.10101989106784957,0.10101521734433584,0.10092822296070611,0.10099989275297445,0.10101744768853177,0.10102002171443118,0.10102032483111126,0.10102007734571984,0.1010146894787712,0.10094931667022752,0.10096281819962434,0.10100732121895571,0.10101832562621697,0.1010200710529601,0.1010202544062782,0.1010196639608572,0.10100832155467068],\"marker\":{},\"line\":{\"shape\":\"spline\"},\"name\":\"x4\"}];\r\n",
       "            var layout = {\"width\":1100,\"height\":600,\"template\":{\"layout\":{\"title\":{\"x\":0.05},\"font\":{\"color\":\"rgba(42, 63, 95, 1.0)\"},\"paper_bgcolor\":\"rgba(255, 255, 255, 1.0)\",\"plot_bgcolor\":\"rgba(229, 236, 246, 1.0)\",\"autotypenumbers\":\"strict\",\"colorscale\":{\"diverging\":[[0.0,\"#8e0152\"],[0.1,\"#c51b7d\"],[0.2,\"#de77ae\"],[0.3,\"#f1b6da\"],[0.4,\"#fde0ef\"],[0.5,\"#f7f7f7\"],[0.6,\"#e6f5d0\"],[0.7,\"#b8e186\"],[0.8,\"#7fbc41\"],[0.9,\"#4d9221\"],[1.0,\"#276419\"]],\"sequential\":[[0.0,\"#0d0887\"],[0.1111111111111111,\"#46039f\"],[0.2222222222222222,\"#7201a8\"],[0.3333333333333333,\"#9c179e\"],[0.4444444444444444,\"#bd3786\"],[0.5555555555555556,\"#d8576b\"],[0.6666666666666666,\"#ed7953\"],[0.7777777777777778,\"#fb9f3a\"],[0.8888888888888888,\"#fdca26\"],[1.0,\"#f0f921\"]],\"sequentialminus\":[[0.0,\"#0d0887\"],[0.1111111111111111,\"#46039f\"],[0.2222222222222222,\"#7201a8\"],[0.3333333333333333,\"#9c179e\"],[0.4444444444444444,\"#bd3786\"],[0.5555555555555556,\"#d8576b\"],[0.6666666666666666,\"#ed7953\"],[0.7777777777777778,\"#fb9f3a\"],[0.8888888888888888,\"#fdca26\"],[1.0,\"#f0f921\"]]},\"hovermode\":\"closest\",\"hoverlabel\":{\"align\":\"left\"},\"coloraxis\":{\"colorbar\":{\"outlinewidth\":0.0,\"ticks\":\"\"}},\"geo\":{\"showland\":true,\"landcolor\":\"rgba(229, 236, 246, 1.0)\",\"showlakes\":true,\"lakecolor\":\"rgba(255, 255, 255, 1.0)\",\"subunitcolor\":\"rgba(255, 255, 255, 1.0)\",\"bgcolor\":\"rgba(255, 255, 255, 1.0)\"},\"mapbox\":{\"style\":\"light\"},\"polar\":{\"bgcolor\":\"rgba(229, 236, 246, 1.0)\",\"radialaxis\":{\"linecolor\":\"rgba(255, 255, 255, 1.0)\",\"gridcolor\":\"rgba(255, 255, 255, 1.0)\",\"ticks\":\"\"},\"angularaxis\":{\"linecolor\":\"rgba(255, 255, 255, 1.0)\",\"gridcolor\":\"rgba(255, 255, 255, 1.0)\",\"ticks\":\"\"}},\"scene\":{\"xaxis\":{\"ticks\":\"\",\"linecolor\":\"rgba(255, 255, 255, 1.0)\",\"gridcolor\":\"rgba(255, 255, 255, 1.0)\",\"gridwidth\":2.0,\"zerolinecolor\":\"rgba(255, 255, 255, 1.0)\",\"backgroundcolor\":\"rgba(229, 236, 246, 1.0)\",\"showbackground\":true},\"yaxis\":{\"ticks\":\"\",\"linecolor\":\"rgba(255, 255, 255, 1.0)\",\"gridcolor\":\"rgba(255, 255, 255, 1.0)\",\"gridwidth\":2.0,\"zerolinecolor\":\"rgba(255, 255, 255, 1.0)\",\"backgroundcolor\":\"rgba(229, 236, 246, 1.0)\",\"showbackground\":true},\"zaxis\":{\"ticks\":\"\",\"linecolor\":\"rgba(255, 255, 255, 1.0)\",\"gridcolor\":\"rgba(255, 255, 255, 1.0)\",\"gridwidth\":2.0,\"zerolinecolor\":\"rgba(255, 255, 255, 1.0)\",\"backgroundcolor\":\"rgba(229, 236, 246, 1.0)\",\"showbackground\":true}},\"ternary\":{\"aaxis\":{\"ticks\":\"\",\"linecolor\":\"rgba(255, 255, 255, 1.0)\",\"gridcolor\":\"rgba(255, 255, 255, 1.0)\"},\"baxis\":{\"ticks\":\"\",\"linecolor\":\"rgba(255, 255, 255, 1.0)\",\"gridcolor\":\"rgba(255, 255, 255, 1.0)\"},\"caxis\":{\"ticks\":\"\",\"linecolor\":\"rgba(255, 255, 255, 1.0)\",\"gridcolor\":\"rgba(255, 255, 255, 1.0)\"},\"bgcolor\":\"rgba(229, 236, 246, 1.0)\"},\"xaxis\":{\"title\":{\"standoff\":15},\"ticks\":\"\",\"automargin\":true,\"linecolor\":\"rgba(255, 255, 255, 1.0)\",\"gridcolor\":\"rgba(255, 255, 255, 1.0)\",\"zerolinecolor\":\"rgba(255, 255, 255, 1.0)\",\"zerolinewidth\":2.0},\"yaxis\":{\"title\":{\"standoff\":15},\"ticks\":\"\",\"automargin\":true,\"linecolor\":\"rgba(255, 255, 255, 1.0)\",\"gridcolor\":\"rgba(255, 255, 255, 1.0)\",\"zerolinecolor\":\"rgba(255, 255, 255, 1.0)\",\"zerolinewidth\":2.0},\"annotationdefaults\":{\"arrowcolor\":\"#2a3f5f\",\"arrowhead\":0,\"arrowwidth\":1},\"shapedefaults\":{\"line\":{\"color\":\"rgba(42, 63, 95, 1.0)\"}},\"colorway\":[\"rgba(99, 110, 250, 1.0)\",\"rgba(239, 85, 59, 1.0)\",\"rgba(0, 204, 150, 1.0)\",\"rgba(171, 99, 250, 1.0)\",\"rgba(255, 161, 90, 1.0)\",\"rgba(25, 211, 243, 1.0)\",\"rgba(255, 102, 146, 1.0)\",\"rgba(182, 232, 128, 1.0)\",\"rgba(255, 151, 255, 1.0)\",\"rgba(254, 203, 82, 1.0)\"]},\"data\":{\"bar\":[{\"marker\":{\"line\":{\"color\":\"rgba(229, 236, 246, 1.0)\",\"width\":0.5},\"pattern\":{\"fillmode\":\"overlay\",\"size\":10,\"solidity\":0.2}},\"error_x\":{\"color\":\"rgba(42, 63, 95, 1.0)\"},\"error_y\":{\"color\":\"rgba(42, 63, 95, 1.0)\"}}],\"barpolar\":[{\"marker\":{\"line\":{\"color\":\"rgba(229, 236, 246, 1.0)\",\"width\":0.5},\"pattern\":{\"fillmode\":\"overlay\",\"size\":10,\"solidity\":0.2}}}],\"carpet\":[{\"aaxis\":{\"linecolor\":\"rgba(255, 255, 255, 1.0)\",\"gridcolor\":\"rgba(255, 255, 255, 1.0)\",\"endlinecolor\":\"rgba(42, 63, 95, 1.0)\",\"minorgridcolor\":\"rgba(255, 255, 255, 1.0)\",\"startlinecolor\":\"rgba(42, 63, 95, 1.0)\"},\"baxis\":{\"linecolor\":\"rgba(255, 255, 255, 1.0)\",\"gridcolor\":\"rgba(255, 255, 255, 1.0)\",\"endlinecolor\":\"rgba(42, 63, 95, 1.0)\",\"minorgridcolor\":\"rgba(255, 255, 255, 1.0)\",\"startlinecolor\":\"rgba(42, 63, 95, 1.0)\"}}],\"choropleth\":[{\"colorbar\":{\"outlinewidth\":0.0,\"ticks\":\"\"},\"colorscale\":[[0.0,\"#0d0887\"],[0.1111111111111111,\"#46039f\"],[0.2222222222222222,\"#7201a8\"],[0.3333333333333333,\"#9c179e\"],[0.4444444444444444,\"#bd3786\"],[0.5555555555555556,\"#d8576b\"],[0.6666666666666666,\"#ed7953\"],[0.7777777777777778,\"#fb9f3a\"],[0.8888888888888888,\"#fdca26\"],[1.0,\"#f0f921\"]]}],\"contour\":[{\"colorbar\":{\"outlinewidth\":0.0,\"ticks\":\"\"},\"colorscale\":[[0.0,\"#0d0887\"],[0.1111111111111111,\"#46039f\"],[0.2222222222222222,\"#7201a8\"],[0.3333333333333333,\"#9c179e\"],[0.4444444444444444,\"#bd3786\"],[0.5555555555555556,\"#d8576b\"],[0.6666666666666666,\"#ed7953\"],[0.7777777777777778,\"#fb9f3a\"],[0.8888888888888888,\"#fdca26\"],[1.0,\"#f0f921\"]]}],\"contourcarpet\":[{\"colorbar\":{\"outlinewidth\":0.0,\"ticks\":\"\"}}],\"heatmap\":[{\"colorbar\":{\"outlinewidth\":0.0,\"ticks\":\"\"},\"colorscale\":[[0.0,\"#0d0887\"],[0.1111111111111111,\"#46039f\"],[0.2222222222222222,\"#7201a8\"],[0.3333333333333333,\"#9c179e\"],[0.4444444444444444,\"#bd3786\"],[0.5555555555555556,\"#d8576b\"],[0.6666666666666666,\"#ed7953\"],[0.7777777777777778,\"#fb9f3a\"],[0.8888888888888888,\"#fdca26\"],[1.0,\"#f0f921\"]]}],\"heatmapgl\":[{\"colorbar\":{\"outlinewidth\":0.0,\"ticks\":\"\"},\"colorscale\":[[0.0,\"#0d0887\"],[0.1111111111111111,\"#46039f\"],[0.2222222222222222,\"#7201a8\"],[0.3333333333333333,\"#9c179e\"],[0.4444444444444444,\"#bd3786\"],[0.5555555555555556,\"#d8576b\"],[0.6666666666666666,\"#ed7953\"],[0.7777777777777778,\"#fb9f3a\"],[0.8888888888888888,\"#fdca26\"],[1.0,\"#f0f921\"]]}],\"histogram\":[{\"marker\":{\"pattern\":{\"fillmode\":\"overlay\",\"size\":10,\"solidity\":0.2}}}],\"histogram2d\":[{\"colorbar\":{\"outlinewidth\":0.0,\"ticks\":\"\"},\"colorscale\":[[0.0,\"#0d0887\"],[0.1111111111111111,\"#46039f\"],[0.2222222222222222,\"#7201a8\"],[0.3333333333333333,\"#9c179e\"],[0.4444444444444444,\"#bd3786\"],[0.5555555555555556,\"#d8576b\"],[0.6666666666666666,\"#ed7953\"],[0.7777777777777778,\"#fb9f3a\"],[0.8888888888888888,\"#fdca26\"],[1.0,\"#f0f921\"]]}],\"histogram2dcontour\":[{\"colorbar\":{\"outlinewidth\":0.0,\"ticks\":\"\"},\"colorscale\":[[0.0,\"#0d0887\"],[0.1111111111111111,\"#46039f\"],[0.2222222222222222,\"#7201a8\"],[0.3333333333333333,\"#9c179e\"],[0.4444444444444444,\"#bd3786\"],[0.5555555555555556,\"#d8576b\"],[0.6666666666666666,\"#ed7953\"],[0.7777777777777778,\"#fb9f3a\"],[0.8888888888888888,\"#fdca26\"],[1.0,\"#f0f921\"]]}],\"mesh3d\":[{\"colorbar\":{\"outlinewidth\":0.0,\"ticks\":\"\"}}],\"parcoords\":[{\"line\":{\"colorbar\":{\"outlinewidth\":0.0,\"ticks\":\"\"}}}],\"pie\":[{\"automargin\":true}],\"scatter\":[{\"marker\":{\"colorbar\":{\"outlinewidth\":0.0,\"ticks\":\"\"}}}],\"scatter3d\":[{\"marker\":{\"colorbar\":{\"outlinewidth\":0.0,\"ticks\":\"\"}},\"line\":{\"colorbar\":{\"outlinewidth\":0.0,\"ticks\":\"\"}}}],\"scattercarpet\":[{\"marker\":{\"colorbar\":{\"outlinewidth\":0.0,\"ticks\":\"\"}}}],\"scattergeo\":[{\"marker\":{\"colorbar\":{\"outlinewidth\":0.0,\"ticks\":\"\"}}}],\"scattergl\":[{\"marker\":{\"colorbar\":{\"outlinewidth\":0.0,\"ticks\":\"\"}}}],\"scattermapbox\":[{\"marker\":{\"colorbar\":{\"outlinewidth\":0.0,\"ticks\":\"\"}}}],\"scatterpolar\":[{\"marker\":{\"colorbar\":{\"outlinewidth\":0.0,\"ticks\":\"\"}}}],\"scatterpolargl\":[{\"marker\":{\"colorbar\":{\"outlinewidth\":0.0,\"ticks\":\"\"}}}],\"scatterternary\":[{\"marker\":{\"colorbar\":{\"outlinewidth\":0.0,\"ticks\":\"\"}}}],\"surface\":[{\"colorbar\":{\"outlinewidth\":0.0,\"ticks\":\"\"},\"colorscale\":[[0.0,\"#0d0887\"],[0.1111111111111111,\"#46039f\"],[0.2222222222222222,\"#7201a8\"],[0.3333333333333333,\"#9c179e\"],[0.4444444444444444,\"#bd3786\"],[0.5555555555555556,\"#d8576b\"],[0.6666666666666666,\"#ed7953\"],[0.7777777777777778,\"#fb9f3a\"],[0.8888888888888888,\"#fdca26\"],[1.0,\"#f0f921\"]]}],\"table\":[{\"cells\":{\"fill\":{\"color\":\"rgba(235, 240, 248, 1.0)\"},\"line\":{\"color\":\"rgba(255, 255, 255, 1.0)\"}},\"header\":{\"fill\":{\"color\":\"rgba(200, 212, 227, 1.0)\"},\"line\":{\"color\":\"rgba(255, 255, 255, 1.0)\"}}}]}},\"xaxis\":{\"title\":{\"text\":\"Zeit\"}},\"yaxis\":{\"title\":{\"text\":\"Proteinkonzentration\"}}};\r\n",
       "            var config = {\"responsive\":true};\r\n",
       "            Plotly.newPlot('7206b704-f636-48fd-b9c2-c7415c1cbff7', data, layout, config);\r\n",
       "});\r\n",
       "            };\r\n",
       "            if ((typeof(requirejs) !==  typeof(Function)) || (typeof(requirejs.config) !== typeof(Function))) {\r\n",
       "                var script = document.createElement(\"script\");\r\n",
       "                script.setAttribute(\"src\", \"https://cdnjs.cloudflare.com/ajax/libs/require.js/2.3.6/require.min.js\");\r\n",
       "                script.onload = function(){\r\n",
       "                    renderPlotly_7206b704f63648fdb9c2c7415c1cbff7();\r\n",
       "                };\r\n",
       "                document.getElementsByTagName(\"head\")[0].appendChild(script);\r\n",
       "            }\r\n",
       "            else {\r\n",
       "                renderPlotly_7206b704f63648fdb9c2c7415c1cbff7();\r\n",
       "            }\r\n",
       "</script>\r\n",
       "\n",
       "    \n",
       "</div>    \n"
      ]
     },
     "metadata": {},
     "output_type": "display_data"
    }
   ],
   "source": [
    "//Konstanten\n",
    "let beta  = 1.  // Konstante für die Zunahme der Proteinkonzentration\n",
    "let gamma = 0.1 // Konstante für die Abnahme der Proteinkonzentration \n",
    "let K_d   = 1.  // Dissoziationskonstante\n",
    "let n     = 2.  // Hillkonstante\n",
    "\n",
    "\n",
    "// Define a function which calculates the derivative\n",
    "let dP_dt : Model = \n",
    "    fun P t ->\n",
    "        let x1 = P[0] //Änderung der Proteinkonzentration von x1\n",
    "        let x2 = P[1] //Änderung der Proteinkonzentration von x2\n",
    "        let x3 = P[2] //Änderung der Proteinkonzentration von x3\n",
    "        let x4 = P[3]\n",
    "\n",
    "        //Differenzialgleichung die die Änderung der Proteinkonzentration von x1 beschreibt (hier die Gleichung einsetzen)\n",
    "        let x1' = beta / (1. + (x4/K_d) ** n) - gamma * x1\n",
    "        //Differenzialgleichung die die Änderung der Proteinkonzentration von x2 beschreibt (hier die Gleichung einsetzen)\n",
    "        let x2' = beta / (1. + (x1/K_d) ** n) - gamma * x2\n",
    "        //Differenzialgleichung die die Änderung der Proteinkonzentration von x3 beschreibt (hier die Gleichung einsetzen)\n",
    "        let x3' = beta / (1. + (x2/K_d) ** n) - gamma * x3\n",
    "        //Differenzialgleichung die die Änderung der Proteinkonzentration von x4 beschreibt (hier die Gleichung einsetzen)\n",
    "        let x4' = beta / (1. + (x3/K_d) ** n) - gamma * x4\n",
    "        [|x1'; x2'; x3'; x4'|]\n",
    "\n",
    "//Startkonzentrationen\n",
    "let P0 = [|1.; 1.; 1.2; 1.|]\n",
    "\n",
    "let Ps = \n",
    "    modelContext.OdeInt(0.,P0,dP_dt)\n",
    "    |> SolPoints.take 150\n",
    "    |> SolPoints.memorize \n",
    "    \n",
    "let x1 = SolPoints.toPoints 1 Ps\n",
    "let x2 = SolPoints.toPoints 2 Ps\n",
    "let x3 = SolPoints.toPoints 3 Ps\n",
    "let x4 = SolPoints.toPoints 4 Ps\n",
    "[\n",
    "    Chart.Spline (x1)\n",
    "    |> Chart.withTraceInfo (\"x1\")\n",
    "    Chart.Spline (x2)\n",
    "    |> Chart.withTraceInfo (\"x2\")\n",
    "    Chart.Spline (x3)\n",
    "    |> Chart.withTraceInfo (\"x3\")\n",
    "    Chart.Spline (x4)\n",
    "    |> Chart.withTraceInfo (\"x4\")\n",
    "]\n",
    "|> Chart.combine\n",
    "|> Chart.withSize(1100,600)\n",
    "|> Chart.withXAxisStyle(\"Zeit\")\n",
    "|> Chart.withYAxisStyle(\"Proteinkonzentration\")"
   ]
  },
  {
   "cell_type": "markdown",
   "metadata": {},
   "source": [
    "Was beobachten Sie?<br> Verändern Sie falls nötig entweder \"n\" oder \"beta\" und\n",
    "vergleichen Sie den drei Proteinrepressilator mit dem vier Proteinrepressilator. "
   ]
  },
  {
   "cell_type": "markdown",
   "metadata": {},
   "source": [
    "Hier die Antwort eingeben."
   ]
  },
  {
   "cell_type": "markdown",
   "metadata": {},
   "source": [
    "----------------------"
   ]
  },
  {
   "cell_type": "markdown",
   "metadata": {},
   "source": [
    "Der Repressilator wurde bereits vor über 20 Jahren designed und auch getested. Die Gene die dafür genutzt wurden sind lacI, TetR, und $\\lambda$ cI. Dabei wurden diese auf zwei Plasmide verteilt. Seitdem wurde das System verbessert um es an stärke Schwankungen anzupassen, und auch um es besser sichtbar zu machen.\n",
    "Schauen Sie sich das folgende Paper an um zu sehen wo der aktuelle Stand der entwicklung ist. Bearbeiten Sie dabei die nachfolgenden Fragen.\n",
    "Paper: https://www.nature.com/articles/nature19841#Sec18\n",
    "\n",
    "\n",
    "Aufgabe 4.18: <br>\n",
    "Anmerkung: Bitte gehen Sie nicht zu sehr ins Detail beim beantworten der Fragen.\n",
    "Welche Verbesserungen wurden am Repressilator vorgenommen im Bezug auf Promotor und Plasmid?<br>\n",
    "Warum ist Stochastik hier relevant?\n",
    "Wie wird der Repressilator sichtbar gemacht (schauen Sie bei der bearbeitung dieser Frage auch in die Supplementary Information, fast ganz unten, falls Sie zum Abschluss das ganze in vitro sehen möchten)?"
   ]
  },
  {
   "cell_type": "markdown",
   "metadata": {},
   "source": [
    "Hier die Antworten eintragen."
   ]
  },
  {
   "cell_type": "markdown",
   "metadata": {},
   "source": [
    "ENDE\n"
   ]
  }
 ],
 "metadata": {
  "kernelspec": {
   "display_name": ".NET (C#)",
   "language": "C#",
   "name": ".net-csharp"
  },
  "language_info": {
   "file_extension": ".cs",
   "mimetype": "text/x-csharp",
   "name": "C#",
   "pygments_lexer": "csharp",
   "version": "9.0"
  },
  "vscode": {
   "interpreter": {
    "hash": "3017eed01e41510f2e4758f02a5c4b458edd512c2a48ee2ef97492bf17f5a7a1"
   }
  }
 },
 "nbformat": 4,
 "nbformat_minor": 2
}
